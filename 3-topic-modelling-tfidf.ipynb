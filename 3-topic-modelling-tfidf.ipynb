{
 "cells": [
  {
   "cell_type": "markdown",
   "id": "159770a7",
   "metadata": {},
   "source": [
    "Import libraries for Term Frequency Inverse Document Frequency topic modelling and suppress warnings as these libraries throw up some unnecessary warnings"
   ]
  },
  {
   "cell_type": "code",
   "execution_count": 37,
   "id": "16a10199",
   "metadata": {},
   "outputs": [],
   "source": [
    "import warnings\n",
    "warnings.filterwarnings('ignore')"
   ]
  },
  {
   "cell_type": "code",
   "execution_count": 38,
   "id": "3d1263bf",
   "metadata": {},
   "outputs": [],
   "source": [
    "import pickle\n",
    "import pandas as pd\n",
    "import numpy as np\n",
    "\n",
    "import plotly.express as px\n",
    "import plotly.io as pio\n",
    "pio.renderers.default='iframe'\n",
    "\n",
    "from sklearn.cluster import KMeans\n",
    "from sklearn.decomposition import PCA\n",
    "from sklearn.feature_extraction.text import TfidfVectorizer"
   ]
  },
  {
   "cell_type": "markdown",
   "id": "641f8c56",
   "metadata": {},
   "source": [
    "Load dataframe of clean data created in notebook zero."
   ]
  },
  {
   "cell_type": "code",
   "execution_count": 39,
   "id": "d2b55c02",
   "metadata": {
    "scrolled": true
   },
   "outputs": [
    {
     "data": {
      "text/html": [
       "<div>\n",
       "<style scoped>\n",
       "    .dataframe tbody tr th:only-of-type {\n",
       "        vertical-align: middle;\n",
       "    }\n",
       "\n",
       "    .dataframe tbody tr th {\n",
       "        vertical-align: top;\n",
       "    }\n",
       "\n",
       "    .dataframe thead th {\n",
       "        text-align: right;\n",
       "    }\n",
       "</style>\n",
       "<table border=\"1\" class=\"dataframe\">\n",
       "  <thead>\n",
       "    <tr style=\"text-align: right;\">\n",
       "      <th></th>\n",
       "      <th>letter</th>\n",
       "      <th>date</th>\n",
       "      <th>sender</th>\n",
       "      <th>recipient</th>\n",
       "      <th>text</th>\n",
       "    </tr>\n",
       "  </thead>\n",
       "  <tbody>\n",
       "    <tr>\n",
       "      <th>0</th>\n",
       "      <td>letters_1.xml</td>\n",
       "      <td>1820-04-24</td>\n",
       "      <td>Sowerby, James</td>\n",
       "      <td>Henslow, J. S.</td>\n",
       "      <td>[mead, lambeth, april, fossils, remembrance, f...</td>\n",
       "    </tr>\n",
       "    <tr>\n",
       "      <th>1</th>\n",
       "      <td>letters_2.xml</td>\n",
       "      <td>1821-11-15</td>\n",
       "      <td>Clarke, E. D.</td>\n",
       "      <td>Henslow, J. S.</td>\n",
       "      <td>[november, analysis, grain, mineral, anglesea,...</td>\n",
       "    </tr>\n",
       "    <tr>\n",
       "      <th>2</th>\n",
       "      <td>letters_3.xml</td>\n",
       "      <td>1821-07-02</td>\n",
       "      <td>Cumming, James</td>\n",
       "      <td>Henslow, J. S.</td>\n",
       "      <td>[evening, result, specimen, goodness, insert, ...</td>\n",
       "    </tr>\n",
       "    <tr>\n",
       "      <th>3</th>\n",
       "      <td>letters_4.xml</td>\n",
       "      <td>1822-12-16</td>\n",
       "      <td>Henslow, J. S.</td>\n",
       "      <td>Jenyns, Leonard</td>\n",
       "      <td>[december, leonard, addenda, plant, wynch, boo...</td>\n",
       "    </tr>\n",
       "    <tr>\n",
       "      <th>4</th>\n",
       "      <td>letters_5.xml</td>\n",
       "      <td>1822-11-11</td>\n",
       "      <td>Brewster, David</td>\n",
       "      <td>Henslow, J. S.</td>\n",
       "      <td>[edinburgh, coates, crescent, november, prince...</td>\n",
       "    </tr>\n",
       "  </tbody>\n",
       "</table>\n",
       "</div>"
      ],
      "text/plain": [
       "          letter       date           sender        recipient  \\\n",
       "0  letters_1.xml 1820-04-24   Sowerby, James   Henslow, J. S.   \n",
       "1  letters_2.xml 1821-11-15    Clarke, E. D.   Henslow, J. S.   \n",
       "2  letters_3.xml 1821-07-02   Cumming, James   Henslow, J. S.   \n",
       "3  letters_4.xml 1822-12-16   Henslow, J. S.  Jenyns, Leonard   \n",
       "4  letters_5.xml 1822-11-11  Brewster, David   Henslow, J. S.   \n",
       "\n",
       "                                                text  \n",
       "0  [mead, lambeth, april, fossils, remembrance, f...  \n",
       "1  [november, analysis, grain, mineral, anglesea,...  \n",
       "2  [evening, result, specimen, goodness, insert, ...  \n",
       "3  [december, leonard, addenda, plant, wynch, boo...  \n",
       "4  [edinburgh, coates, crescent, november, prince...  "
      ]
     },
     "execution_count": 39,
     "metadata": {},
     "output_type": "execute_result"
    }
   ],
   "source": [
    "df = pd.read_pickle(\"pickle/henslow_texts.pkl\")\n",
    "df.head()"
   ]
  },
  {
   "cell_type": "markdown",
   "id": "fbad423e",
   "metadata": {},
   "source": [
    "Join tokenized text together in text column"
   ]
  },
  {
   "cell_type": "code",
   "execution_count": 40,
   "id": "924a4af8",
   "metadata": {},
   "outputs": [
    {
     "data": {
      "text/html": [
       "<div>\n",
       "<style scoped>\n",
       "    .dataframe tbody tr th:only-of-type {\n",
       "        vertical-align: middle;\n",
       "    }\n",
       "\n",
       "    .dataframe tbody tr th {\n",
       "        vertical-align: top;\n",
       "    }\n",
       "\n",
       "    .dataframe thead th {\n",
       "        text-align: right;\n",
       "    }\n",
       "</style>\n",
       "<table border=\"1\" class=\"dataframe\">\n",
       "  <thead>\n",
       "    <tr style=\"text-align: right;\">\n",
       "      <th></th>\n",
       "      <th>letter</th>\n",
       "      <th>date</th>\n",
       "      <th>sender</th>\n",
       "      <th>recipient</th>\n",
       "      <th>text</th>\n",
       "    </tr>\n",
       "  </thead>\n",
       "  <tbody>\n",
       "    <tr>\n",
       "      <th>0</th>\n",
       "      <td>letters_1.xml</td>\n",
       "      <td>1820-04-24</td>\n",
       "      <td>Sowerby, James</td>\n",
       "      <td>Henslow, J. S.</td>\n",
       "      <td>mead lambeth april fossils remembrance favour ...</td>\n",
       "    </tr>\n",
       "    <tr>\n",
       "      <th>1</th>\n",
       "      <td>letters_2.xml</td>\n",
       "      <td>1821-11-15</td>\n",
       "      <td>Clarke, E. D.</td>\n",
       "      <td>Henslow, J. S.</td>\n",
       "      <td>november analysis grain mineral anglesea form ...</td>\n",
       "    </tr>\n",
       "    <tr>\n",
       "      <th>2</th>\n",
       "      <td>letters_3.xml</td>\n",
       "      <td>1821-07-02</td>\n",
       "      <td>Cumming, James</td>\n",
       "      <td>Henslow, J. S.</td>\n",
       "      <td>evening result specimen goodness insert paper ...</td>\n",
       "    </tr>\n",
       "    <tr>\n",
       "      <th>3</th>\n",
       "      <td>letters_4.xml</td>\n",
       "      <td>1822-12-16</td>\n",
       "      <td>Henslow, J. S.</td>\n",
       "      <td>Jenyns, Leonard</td>\n",
       "      <td>december leonard addenda plant wynch book morn...</td>\n",
       "    </tr>\n",
       "    <tr>\n",
       "      <th>4</th>\n",
       "      <td>letters_5.xml</td>\n",
       "      <td>1822-11-11</td>\n",
       "      <td>Brewster, David</td>\n",
       "      <td>Henslow, J. S.</td>\n",
       "      <td>edinburgh coates crescent november prince cimi...</td>\n",
       "    </tr>\n",
       "  </tbody>\n",
       "</table>\n",
       "</div>"
      ],
      "text/plain": [
       "          letter       date           sender        recipient  \\\n",
       "0  letters_1.xml 1820-04-24   Sowerby, James   Henslow, J. S.   \n",
       "1  letters_2.xml 1821-11-15    Clarke, E. D.   Henslow, J. S.   \n",
       "2  letters_3.xml 1821-07-02   Cumming, James   Henslow, J. S.   \n",
       "3  letters_4.xml 1822-12-16   Henslow, J. S.  Jenyns, Leonard   \n",
       "4  letters_5.xml 1822-11-11  Brewster, David   Henslow, J. S.   \n",
       "\n",
       "                                                text  \n",
       "0  mead lambeth april fossils remembrance favour ...  \n",
       "1  november analysis grain mineral anglesea form ...  \n",
       "2  evening result specimen goodness insert paper ...  \n",
       "3  december leonard addenda plant wynch book morn...  \n",
       "4  edinburgh coates crescent november prince cimi...  "
      ]
     },
     "execution_count": 40,
     "metadata": {},
     "output_type": "execute_result"
    }
   ],
   "source": [
    "df[\"text\"] = df[\"text\"].str.join(\" \")\n",
    "df.head()"
   ]
  },
  {
   "cell_type": "markdown",
   "id": "36724ba2",
   "metadata": {},
   "source": [
    "Send text column to list for later use."
   ]
  },
  {
   "cell_type": "code",
   "execution_count": 41,
   "id": "1dfaec39",
   "metadata": {
    "scrolled": false
   },
   "outputs": [
    {
     "data": {
      "text/plain": [
       "['mead lambeth april fossils remembrance favour amm sedgwickii thank clark lecture mot iron pupil trouble parcell help catalogue fossil isle punctatus martin sowerby lin tran pt page producti spirifer side productus scoticus spirifer cardium productus productus productus stria thready one productus trilobite amm henslowi nautilus complanatus pentacrinitis caryophyllea madriporite tubipore entrochi carypohyllea scoria',\n",
       " 'november analysis grain mineral anglesea form gr silica alumina soda lime water absorption iron grain ch mineral gelatinize friction analcine variety clarke',\n",
       " 'evening result specimen goodness insert paper manner crystal chemical attack symbol crystal trapezoidal dodecahedron analcine iron friction scratch glass blowpipe acid gravity crystal mass exposure heat per_cent mineral method digestion acid residue potash solution redness muriate iron_alumina water lime solution evaporation crystal salt silex solution acid alumina iron ammonia lime oxalate iron_alumina potash alumina ammonia alumina lime iron soda water composition darker crystal form rhomboidal dodecahedron hardness scratch crystal gravity fuse blowpipe acid character garnet',\n",
       " 'december leonard addenda plant wynch book morning envy alisma ranunculoide officinalis arenaria verna carex capillaris pauciflora chironia littoralis duplicate cypripedium calceolus convallaria verticillata perthshire arenarius draba dryas octopetala epilobium alsinifolium alpestre fumaria lutea gentiana verna hieracium paludosum denticulatum juncus squarrosus nuphar kalmiana potentilla fruticosa prunus pyrola ribes petraeum rosa tomentosa scabriuscula glaucophylla involuta sabina rubus glandulosa saxifraga caespitosa salix andersoniana male fosteriana female sedum villosum senecio sylvatica spiraea fruticosa trientalis europaea veronica alpina saxatilis fruticulosa verna viola amoena lutea zostera marina ferns aspidium dilatatum polypodium dryopteris moss grimmia leucophaea orthotricum hutchinsiae gyrophora pustulata collection specie plant specie american lapland ex parnassia_palustris family',\n",
       " 'edinburgh coates crescent november prince cimitile prince casiati day curiosity university attention confer favour respect']"
      ]
     },
     "execution_count": 41,
     "metadata": {},
     "output_type": "execute_result"
    }
   ],
   "source": [
    "df_list = df[\"text\"].to_list()\n",
    "df_list[:5]"
   ]
  },
  {
   "cell_type": "markdown",
   "id": "2777fe1e",
   "metadata": {},
   "source": [
    "Send date column to list for later use."
   ]
  },
  {
   "cell_type": "code",
   "execution_count": 42,
   "id": "ec70db49",
   "metadata": {},
   "outputs": [
    {
     "data": {
      "text/plain": [
       "[Timestamp('1820-04-24 00:00:00'),\n",
       " Timestamp('1821-11-15 00:00:00'),\n",
       " Timestamp('1821-07-02 00:00:00'),\n",
       " Timestamp('1822-12-16 00:00:00'),\n",
       " Timestamp('1822-11-11 00:00:00')]"
      ]
     },
     "execution_count": 42,
     "metadata": {},
     "output_type": "execute_result"
    }
   ],
   "source": [
    "date_list = df[\"date\"].to_list()\n",
    "date_list[:5]"
   ]
  },
  {
   "cell_type": "markdown",
   "id": "5e457031",
   "metadata": {},
   "source": [
    "Initialize sklearn TFIDF vectorizer with max_df and min_df parameters, which remove words that appear too frequently and infrequently."
   ]
  },
  {
   "cell_type": "code",
   "execution_count": 43,
   "id": "2a29b676",
   "metadata": {},
   "outputs": [],
   "source": [
    "vectorizer = TfidfVectorizer(\n",
    "                                lowercase=True,\n",
    "                                max_df = 0.8,\n",
    "                                min_df = 5,\n",
    "                            )"
   ]
  },
  {
   "cell_type": "markdown",
   "id": "ec1280f5",
   "metadata": {},
   "source": [
    "Once the vectorizer has been initialized, we process our letter texts through it. This converts them into a matrix of TFIDF values, with the numbers in each row representing the TFIDF scores for the words in a document. Higher scores mean that words have greater importance for the document."
   ]
  },
  {
   "cell_type": "code",
   "execution_count": 44,
   "id": "1289bf38",
   "metadata": {},
   "outputs": [],
   "source": [
    "transformed_docs = vectorizer.fit_transform(df_list)"
   ]
  },
  {
   "cell_type": "markdown",
   "id": "e0415311",
   "metadata": {},
   "source": [
    "Get all words included by the TFIDF vectorizer."
   ]
  },
  {
   "cell_type": "code",
   "execution_count": 45,
   "id": "4274f495",
   "metadata": {},
   "outputs": [
    {
     "name": "stdout",
     "output_type": "stream",
     "text": [
      "['abbeville' 'absence' 'absentee' ... 'zeal' 'zealand' 'zoology']\n"
     ]
    }
   ],
   "source": [
    "terms = vectorizer.get_feature_names_out()\n",
    "print(terms)"
   ]
  },
  {
   "cell_type": "markdown",
   "id": "44e23348",
   "metadata": {},
   "source": [
    "We then use the TFIDF matrix and sklearn's Kmeans to find clusters of similar documents based on their similarity in terms of TFIDF scores. We first set the k variable to the number of clusters we want. This can be adjusted and experimented with to find the ideal number of clusters after seeing the results."
   ]
  },
  {
   "cell_type": "code",
   "execution_count": 46,
   "id": "029cbd37",
   "metadata": {},
   "outputs": [],
   "source": [
    "k = 3\n",
    "km = KMeans(n_clusters=k, init='k-means++', max_iter=100, n_init=5,\n",
    "                verbose=0).fit(transformed_docs)"
   ]
  },
  {
   "cell_type": "markdown",
   "id": "d03b20f9",
   "metadata": {},
   "source": [
    "Get cluster centres to get the words which form each cluster in order of prominence."
   ]
  },
  {
   "cell_type": "code",
   "execution_count": 47,
   "id": "b7dac606",
   "metadata": {},
   "outputs": [
    {
     "data": {
      "text/plain": [
       "array([[1266, 1583, 1580, ...,  334, 1497,  856],\n",
       "       [ 245,  999, 1116, ...,  675, 1462, 1161],\n",
       "       [1548, 1209, 1778, ..., 1065, 1066,    0]])"
      ]
     },
     "execution_count": 47,
     "metadata": {},
     "output_type": "execute_result"
    }
   ],
   "source": [
    "cluster_cents = km.cluster_centers_\n",
    "sorted_cents = cluster_cents.argsort()[:, ::-1]\n",
    "sorted_cents"
   ]
  },
  {
   "cell_type": "markdown",
   "id": "d38b7ee6",
   "metadata": {},
   "source": [
    "Get cluster label for each document's contents.\n",
    "\n",
    "Convert TFIDF matrix to dense matrix (include terms with a zero value for each document)."
   ]
  },
  {
   "cell_type": "code",
   "execution_count": 48,
   "id": "7ff26ec9",
   "metadata": {},
   "outputs": [],
   "source": [
    "km_labels = km.predict(transformed_docs)\n",
    "dense = transformed_docs.todense()\n",
    "dense_array = np.asarray(dense)"
   ]
  },
  {
   "cell_type": "markdown",
   "id": "3a3b3a57",
   "metadata": {},
   "source": [
    "Transform data to 2d for use in graph plotting using principal component analysis. Changes TFIDF (document) and cluster center (word) vectors into two dimensions."
   ]
  },
  {
   "cell_type": "code",
   "execution_count": 49,
   "id": "9d25807b",
   "metadata": {},
   "outputs": [],
   "source": [
    "pca = PCA(n_components=2).fit(dense_array)\n",
    "data2d = pca.transform(dense_array)\n",
    "pca_cluster_cents = pca.transform(cluster_cents)"
   ]
  },
  {
   "cell_type": "markdown",
   "id": "2b0dd12d",
   "metadata": {},
   "source": [
    "Use number from sorted_cents vectors to find the top words for each cluster from the terms list, join together to form a string and append to keys list.\n",
    "\n",
    "Use the index of the items in the keys list to find the equivalent items in the km_labels list, which contains the numeric topic labels for each document, and convert this into a new ordered list of document topic keys in the same order as the km_labels list."
   ]
  },
  {
   "cell_type": "code",
   "execution_count": 50,
   "id": "3144407f",
   "metadata": {},
   "outputs": [],
   "source": [
    "keys = []\n",
    "for i in range(k):\n",
    "    terms_list = []\n",
    "    for ind in sorted_cents[i, :6]:\n",
    "        top_term = terms[ind]        \n",
    "        terms_list.append(top_term)\n",
    "    terms_list = ', '.join(terms_list)                    \n",
    "    keys.append(terms_list)\n",
    "key_list = [keys[item] for item in km_labels]"
   ]
  },
  {
   "cell_type": "markdown",
   "id": "47574363",
   "metadata": {},
   "source": [
    "Create dataframe for plotting using the two dimensional transformation of the document vectors, the key list of ordered topic labels for each document and the ordered date list for each document."
   ]
  },
  {
   "cell_type": "code",
   "execution_count": 51,
   "id": "57b4b97f",
   "metadata": {},
   "outputs": [],
   "source": [
    "x_list, y_list = zip(*data2d)\n",
    "plot_df = pd.DataFrame({\"x\": x_list, \"y\": y_list, \"top_words\": key_list, \"date\": date_list})\n",
    "plot_df[\"date\"] = plot_df[\"date\"].dt.strftime('%Y-%m-%d')"
   ]
  },
  {
   "cell_type": "markdown",
   "id": "7809a0e8",
   "metadata": {},
   "source": [
    "Use plotly to create a labelled scatter chart of documents and their proximity in terms of TFIDF scores in vector space.\n",
    "\n",
    "Date can be added when hovering over points by adding to custom_data parameter then using update_traces and adding to hovertemplate."
   ]
  },
  {
   "cell_type": "code",
   "execution_count": 52,
   "id": "1553d4df",
   "metadata": {},
   "outputs": [
    {
     "data": {
      "text/html": [
       "<iframe\n",
       "    scrolling=\"no\"\n",
       "    width=\"100%\"\n",
       "    height=\"545px\"\n",
       "    src=\"iframe_figures/figure_52.html\"\n",
       "    frameborder=\"0\"\n",
       "    allowfullscreen\n",
       "></iframe>\n"
      ]
     },
     "metadata": {},
     "output_type": "display_data"
    }
   ],
   "source": [
    "fig = px.scatter(\n",
    "    data_frame=plot_df, \n",
    "    x=\"x\", \n",
    "    y=\"y\",\n",
    "    color=\"top_words\",\n",
    "    custom_data=[\"date\"],\n",
    "    title=\"TFIDF and K-Means\"\n",
    "    )\n",
    "\n",
    "fig.update_traces(\n",
    "    hovertemplate=\"<br>\".join([\n",
    "        \"date: %{customdata}\",\n",
    "        ]) \n",
    "    )\n",
    "\n",
    "fig.update_layout(xaxis_title=None, yaxis_title=None)\n",
    "fig.update_layout(legend=dict(font=dict(size=10)))\n",
    "fig.update_layout(legend_title_text=\"Top 5 Words in Cluster\")"
   ]
  },
  {
   "cell_type": "markdown",
   "id": "7fe2bd9d",
   "metadata": {},
   "source": [
    "Convert plotting dataframe to new dataframe and sort by date.\n",
    "\n",
    "Group the date column by year and topic and aggregate by count to get a count of documents belonging to each topic per year."
   ]
  },
  {
   "cell_type": "code",
   "execution_count": 53,
   "id": "d569aecf",
   "metadata": {
    "scrolled": true
   },
   "outputs": [
    {
     "data": {
      "text/html": [
       "<div>\n",
       "<style scoped>\n",
       "    .dataframe tbody tr th:only-of-type {\n",
       "        vertical-align: middle;\n",
       "    }\n",
       "\n",
       "    .dataframe tbody tr th {\n",
       "        vertical-align: top;\n",
       "    }\n",
       "\n",
       "    .dataframe thead th {\n",
       "        text-align: right;\n",
       "    }\n",
       "</style>\n",
       "<table border=\"1\" class=\"dataframe\">\n",
       "  <thead>\n",
       "    <tr style=\"text-align: right;\">\n",
       "      <th></th>\n",
       "      <th>date</th>\n",
       "      <th>top_words</th>\n",
       "      <th>count</th>\n",
       "    </tr>\n",
       "  </thead>\n",
       "  <tbody>\n",
       "    <tr>\n",
       "      <th>0</th>\n",
       "      <td>1818</td>\n",
       "      <td>cambridge, london, museum, paper, suffolk, copy</td>\n",
       "      <td>1</td>\n",
       "    </tr>\n",
       "    <tr>\n",
       "      <th>1</th>\n",
       "      <td>1819</td>\n",
       "      <td>cambridge, london, museum, paper, suffolk, copy</td>\n",
       "      <td>1</td>\n",
       "    </tr>\n",
       "    <tr>\n",
       "      <th>2</th>\n",
       "      <td>1820</td>\n",
       "      <td>cambridge, london, museum, paper, suffolk, copy</td>\n",
       "      <td>2</td>\n",
       "    </tr>\n",
       "    <tr>\n",
       "      <th>3</th>\n",
       "      <td>1820</td>\n",
       "      <td>plant, specimen, specie, collection, speciman,...</td>\n",
       "      <td>2</td>\n",
       "    </tr>\n",
       "    <tr>\n",
       "      <th>4</th>\n",
       "      <td>1821</td>\n",
       "      <td>cambridge, london, museum, paper, suffolk, copy</td>\n",
       "      <td>5</td>\n",
       "    </tr>\n",
       "    <tr>\n",
       "      <th>...</th>\n",
       "      <td>...</td>\n",
       "      <td>...</td>\n",
       "      <td>...</td>\n",
       "    </tr>\n",
       "    <tr>\n",
       "      <th>83</th>\n",
       "      <td>1860</td>\n",
       "      <td>cambridge, london, museum, paper, suffolk, copy</td>\n",
       "      <td>49</td>\n",
       "    </tr>\n",
       "    <tr>\n",
       "      <th>84</th>\n",
       "      <td>1860</td>\n",
       "      <td>plant, specimen, specie, collection, speciman,...</td>\n",
       "      <td>2</td>\n",
       "    </tr>\n",
       "    <tr>\n",
       "      <th>85</th>\n",
       "      <td>1860</td>\n",
       "      <td>sincerely_palmerston, palmerston, vote, commit...</td>\n",
       "      <td>2</td>\n",
       "    </tr>\n",
       "    <tr>\n",
       "      <th>86</th>\n",
       "      <td>1861</td>\n",
       "      <td>cambridge, london, museum, paper, suffolk, copy</td>\n",
       "      <td>3</td>\n",
       "    </tr>\n",
       "    <tr>\n",
       "      <th>87</th>\n",
       "      <td>1861</td>\n",
       "      <td>sincerely_palmerston, palmerston, vote, commit...</td>\n",
       "      <td>1</td>\n",
       "    </tr>\n",
       "  </tbody>\n",
       "</table>\n",
       "<p>88 rows × 3 columns</p>\n",
       "</div>"
      ],
      "text/plain": [
       "    date                                          top_words  count\n",
       "0   1818    cambridge, london, museum, paper, suffolk, copy      1\n",
       "1   1819    cambridge, london, museum, paper, suffolk, copy      1\n",
       "2   1820    cambridge, london, museum, paper, suffolk, copy      2\n",
       "3   1820  plant, specimen, specie, collection, speciman,...      2\n",
       "4   1821    cambridge, london, museum, paper, suffolk, copy      5\n",
       "..   ...                                                ...    ...\n",
       "83  1860    cambridge, london, museum, paper, suffolk, copy     49\n",
       "84  1860  plant, specimen, specie, collection, speciman,...      2\n",
       "85  1860  sincerely_palmerston, palmerston, vote, commit...      2\n",
       "86  1861    cambridge, london, museum, paper, suffolk, copy      3\n",
       "87  1861  sincerely_palmerston, palmerston, vote, commit...      1\n",
       "\n",
       "[88 rows x 3 columns]"
      ]
     },
     "execution_count": 53,
     "metadata": {},
     "output_type": "execute_result"
    }
   ],
   "source": [
    "clust_date_df = plot_df[[\"date\", \"top_words\"]].copy()\n",
    "clust_date_df[\"date\"] = pd.to_datetime(clust_date_df['date'])\n",
    "clust_date_df = clust_date_df.sort_values(by=[\"date\"])\n",
    "clust_date_df = clust_date_df[\"date\"].groupby([clust_date_df.date.dt.year, clust_date_df.top_words]).agg(\"count\")\n",
    "clust_date_df = clust_date_df.rename_axis([\"date\", \"top_words\"]).reset_index(name=\"count\")\n",
    "clust_date_df"
   ]
  },
  {
   "cell_type": "markdown",
   "id": "720157de",
   "metadata": {},
   "source": [
    "Use the above dataframe to plot a line chart of document-topic distribution by year across the corpus."
   ]
  },
  {
   "cell_type": "code",
   "execution_count": 54,
   "id": "a8f08fdd",
   "metadata": {},
   "outputs": [
    {
     "data": {
      "text/html": [
       "<iframe\n",
       "    scrolling=\"no\"\n",
       "    width=\"100%\"\n",
       "    height=\"545px\"\n",
       "    src=\"iframe_figures/figure_54.html\"\n",
       "    frameborder=\"0\"\n",
       "    allowfullscreen\n",
       "></iframe>\n"
      ]
     },
     "metadata": {},
     "output_type": "display_data"
    }
   ],
   "source": [
    "fig_2 = px.line(\n",
    "    data_frame=clust_date_df, \n",
    "    x=\"date\", \n",
    "    y=\"count\",\n",
    "    color=\"top_words\",\n",
    "    title=\"TFIDF and K-Means Document Distribution\",\n",
    "    labels= {\n",
    "        \"count\": \"document count\",\n",
    "        \"date\": \"year\"   \n",
    "            }\n",
    "    )\n",
    "\n",
    "fig_2.update_layout(legend_title_text=\"Top 5 Words in Cluster\")\n",
    "fig_2.show()"
   ]
  }
 ],
 "metadata": {
  "kernelspec": {
   "display_name": "henslow-topic-mod",
   "language": "python",
   "name": "henslow-topic-mod"
  },
  "language_info": {
   "codemirror_mode": {
    "name": "ipython",
    "version": 3
   },
   "file_extension": ".py",
   "mimetype": "text/x-python",
   "name": "python",
   "nbconvert_exporter": "python",
   "pygments_lexer": "ipython3",
   "version": "3.9.1"
  }
 },
 "nbformat": 4,
 "nbformat_minor": 5
}
