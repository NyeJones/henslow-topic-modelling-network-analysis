{
 "cells": [
  {
   "cell_type": "markdown",
   "id": "4f222554",
   "metadata": {},
   "source": [
    "This is a relatively short notebook as the visualisations are done on Palladio, an online tool specifically designed for social network analysis."
   ]
  },
  {
   "cell_type": "markdown",
   "id": "381427dc",
   "metadata": {},
   "source": [
    "Import libraries for social network analysis data preparation."
   ]
  },
  {
   "cell_type": "code",
   "execution_count": 1,
   "id": "81a2b256",
   "metadata": {},
   "outputs": [],
   "source": [
    "import pickle\n",
    "import matplotlib.pyplot as plt\n",
    "import pandas as pd\n",
    "\n",
    "from natsort import natsorted\n",
    "from datetime import datetime"
   ]
  },
  {
   "cell_type": "markdown",
   "id": "64e567c3",
   "metadata": {},
   "source": [
    "Load the doc_topics dataframe created in notebook one."
   ]
  },
  {
   "cell_type": "code",
   "execution_count": 2,
   "id": "6612afa3",
   "metadata": {},
   "outputs": [],
   "source": [
    "doc_topics_df = pd.read_pickle(\"pickle/documents_topics.pkl\")"
   ]
  },
  {
   "cell_type": "code",
   "execution_count": 3,
   "id": "f73a28c2",
   "metadata": {
    "scrolled": true
   },
   "outputs": [
    {
     "data": {
      "text/html": [
       "<div>\n",
       "<style scoped>\n",
       "    .dataframe tbody tr th:only-of-type {\n",
       "        vertical-align: middle;\n",
       "    }\n",
       "\n",
       "    .dataframe tbody tr th {\n",
       "        vertical-align: top;\n",
       "    }\n",
       "\n",
       "    .dataframe thead th {\n",
       "        text-align: right;\n",
       "    }\n",
       "</style>\n",
       "<table border=\"1\" class=\"dataframe\">\n",
       "  <thead>\n",
       "    <tr style=\"text-align: right;\">\n",
       "      <th></th>\n",
       "      <th>letter</th>\n",
       "      <th>date</th>\n",
       "      <th>sender</th>\n",
       "      <th>recipient</th>\n",
       "      <th>text</th>\n",
       "      <th>topic</th>\n",
       "    </tr>\n",
       "  </thead>\n",
       "  <tbody>\n",
       "    <tr>\n",
       "      <th>8</th>\n",
       "      <td>letters_1.xml</td>\n",
       "      <td>1820-04-24</td>\n",
       "      <td>Sowerby, James</td>\n",
       "      <td>Henslow, J. S.</td>\n",
       "      <td>martin</td>\n",
       "      <td>0_trin_henry_wilson_john_phillip</td>\n",
       "    </tr>\n",
       "    <tr>\n",
       "      <th>27</th>\n",
       "      <td>letters_2.xml</td>\n",
       "      <td>1821-11-15</td>\n",
       "      <td>Clarke, E. D.</td>\n",
       "      <td>Henslow, J. S.</td>\n",
       "      <td>clarke</td>\n",
       "      <td>0_trin_henry_wilson_john_phillip</td>\n",
       "    </tr>\n",
       "    <tr>\n",
       "      <th>55</th>\n",
       "      <td>letters_6.xml</td>\n",
       "      <td>1822-07-02</td>\n",
       "      <td>Curtis, John</td>\n",
       "      <td>Henslow, J. S.</td>\n",
       "      <td>bearer dr radius leipsic england man science s...</td>\n",
       "      <td>0_trin_henry_wilson_john_phillip</td>\n",
       "    </tr>\n",
       "    <tr>\n",
       "      <th>65</th>\n",
       "      <td>letters_8.xml</td>\n",
       "      <td>1823-04-02</td>\n",
       "      <td>Henslow, J. S.</td>\n",
       "      <td>Jenyns, Leonard</td>\n",
       "      <td>suspect pera</td>\n",
       "      <td>0_trin_henry_wilson_john_phillip</td>\n",
       "    </tr>\n",
       "    <tr>\n",
       "      <th>108</th>\n",
       "      <td>letters_13.xml</td>\n",
       "      <td>1823-10-21</td>\n",
       "      <td>Henslow, J. S.</td>\n",
       "      <td>Winch, N. J.</td>\n",
       "      <td>hodgson</td>\n",
       "      <td>0_trin_henry_wilson_john_phillip</td>\n",
       "    </tr>\n",
       "    <tr>\n",
       "      <th>...</th>\n",
       "      <td>...</td>\n",
       "      <td>...</td>\n",
       "      <td>...</td>\n",
       "      <td>...</td>\n",
       "      <td>...</td>\n",
       "      <td>...</td>\n",
       "    </tr>\n",
       "    <tr>\n",
       "      <th>6815</th>\n",
       "      <td>letters_947.xml</td>\n",
       "      <td>1826-07-02</td>\n",
       "      <td>Palmerston, Lord</td>\n",
       "      <td>Henslow, J. S.</td>\n",
       "      <td>oclock voter</td>\n",
       "      <td>14_election_vote_voter_poll</td>\n",
       "    </tr>\n",
       "    <tr>\n",
       "      <th>6847</th>\n",
       "      <td>letters_956.xml</td>\n",
       "      <td>1826-06-19</td>\n",
       "      <td>Loyd, S.</td>\n",
       "      <td>Henslow, J. S.</td>\n",
       "      <td>vote absence result opinion university</td>\n",
       "      <td>14_election_vote_voter_poll</td>\n",
       "    </tr>\n",
       "    <tr>\n",
       "      <th>8392</th>\n",
       "      <td>letters_1175.xml</td>\n",
       "      <td>1845-12-30</td>\n",
       "      <td>Bright, John</td>\n",
       "      <td>Henslow, J. S.</td>\n",
       "      <td>west election probability walkover morpeth</td>\n",
       "      <td>14_election_vote_voter_poll</td>\n",
       "    </tr>\n",
       "    <tr>\n",
       "      <th>8663</th>\n",
       "      <td>letters_1205.xml</td>\n",
       "      <td>1826-02-14</td>\n",
       "      <td>Henslow, J. S.</td>\n",
       "      <td>Dale, J. C.</td>\n",
       "      <td>cambridge feby dale election</td>\n",
       "      <td>14_election_vote_voter_poll</td>\n",
       "    </tr>\n",
       "    <tr>\n",
       "      <th>8678</th>\n",
       "      <td>letters_1206.xml</td>\n",
       "      <td>1826-02-26</td>\n",
       "      <td>Henslow, J. S.</td>\n",
       "      <td>Dale, J. C.</td>\n",
       "      <td>fact anticatholic voter supporter cath</td>\n",
       "      <td>14_election_vote_voter_poll</td>\n",
       "    </tr>\n",
       "  </tbody>\n",
       "</table>\n",
       "<p>2357 rows × 6 columns</p>\n",
       "</div>"
      ],
      "text/plain": [
       "                letter       date            sender        recipient  \\\n",
       "8        letters_1.xml 1820-04-24    Sowerby, James   Henslow, J. S.   \n",
       "27       letters_2.xml 1821-11-15     Clarke, E. D.   Henslow, J. S.   \n",
       "55       letters_6.xml 1822-07-02      Curtis, John   Henslow, J. S.   \n",
       "65       letters_8.xml 1823-04-02    Henslow, J. S.  Jenyns, Leonard   \n",
       "108     letters_13.xml 1823-10-21    Henslow, J. S.     Winch, N. J.   \n",
       "...                ...        ...               ...              ...   \n",
       "6815   letters_947.xml 1826-07-02  Palmerston, Lord   Henslow, J. S.   \n",
       "6847   letters_956.xml 1826-06-19          Loyd, S.   Henslow, J. S.   \n",
       "8392  letters_1175.xml 1845-12-30      Bright, John   Henslow, J. S.   \n",
       "8663  letters_1205.xml 1826-02-14    Henslow, J. S.      Dale, J. C.   \n",
       "8678  letters_1206.xml 1826-02-26    Henslow, J. S.      Dale, J. C.   \n",
       "\n",
       "                                                   text  \\\n",
       "8                                                martin   \n",
       "27                                               clarke   \n",
       "55    bearer dr radius leipsic england man science s...   \n",
       "65                                         suspect pera   \n",
       "108                                             hodgson   \n",
       "...                                                 ...   \n",
       "6815                                       oclock voter   \n",
       "6847             vote absence result opinion university   \n",
       "8392         west election probability walkover morpeth   \n",
       "8663                       cambridge feby dale election   \n",
       "8678             fact anticatholic voter supporter cath   \n",
       "\n",
       "                                 topic  \n",
       "8     0_trin_henry_wilson_john_phillip  \n",
       "27    0_trin_henry_wilson_john_phillip  \n",
       "55    0_trin_henry_wilson_john_phillip  \n",
       "65    0_trin_henry_wilson_john_phillip  \n",
       "108   0_trin_henry_wilson_john_phillip  \n",
       "...                                ...  \n",
       "6815       14_election_vote_voter_poll  \n",
       "6847       14_election_vote_voter_poll  \n",
       "8392       14_election_vote_voter_poll  \n",
       "8663       14_election_vote_voter_poll  \n",
       "8678       14_election_vote_voter_poll  \n",
       "\n",
       "[2357 rows x 6 columns]"
      ]
     },
     "execution_count": 3,
     "metadata": {},
     "output_type": "execute_result"
    }
   ],
   "source": [
    "doc_topics_df"
   ]
  },
  {
   "cell_type": "markdown",
   "id": "1e438613",
   "metadata": {},
   "source": [
    "Create network dataframe converting data into an acceptable format for Palladio. Change date column format to string and add \"end date\" with the same content as date column, as this is necessary for timespan visualisations.\n",
    "\n",
    "Extract the topic names for use below."
   ]
  },
  {
   "cell_type": "code",
   "execution_count": 4,
   "id": "fae9e535",
   "metadata": {},
   "outputs": [
    {
     "data": {
      "text/plain": [
       "['0_trin_henry_wilson_john_phillip',\n",
       " '1_botany_palustris_flora_arvensis',\n",
       " '2_suffolk_hitcham_bildeston_ipswich_lond...',\n",
       " '3_lecture_examination_examiner_course',\n",
       " '4_letter_circumstance_opinion_notice',\n",
       " '5_money_salary_labour_payment',\n",
       " '6_season_summer_autumn_feb',\n",
       " '7_insect_entomology_wasp_nest',\n",
       " '8_fossil_clay_limestone_nodule',\n",
       " '9_palmerston_horse_sincerely_palmerston_...',\n",
       " '10_brother_sister_brother_law_nephew',\n",
       " '11_hooker_dr_lady_playfair',\n",
       " '12_book_sort_order_bookseller',\n",
       " '13_plate_daguerreotype_reference_stenoty...',\n",
       " '14_election_vote_voter_poll']"
      ]
     },
     "execution_count": 4,
     "metadata": {},
     "output_type": "execute_result"
    }
   ],
   "source": [
    "network_df = doc_topics_df[[\"sender\", \"recipient\", \"date\", \"topic\"]].copy()\n",
    "network_df[\"date\"] = network_df['date'].dt.strftime(\"%Y-%m-%d\")\n",
    "network_df[\"end date\"] = network_df['date']\n",
    "topic_names = list(set(network_df[\"topic\"].to_list()))\n",
    "topic_names = natsorted(topic_names)\n",
    "topic_names"
   ]
  },
  {
   "cell_type": "markdown",
   "id": "a12e4c90",
   "metadata": {},
   "source": [
    "Use the topic names list in a for loop to create dataframes for each topic only, then export each topic dataframe to a folder of CSV files, CSV is the accepted format for Palladio.\n",
    "\n",
    "These can then be loaded in Palladio and used to generate visualisations of the network of correspondents around each topic. The timespan feature in Palladio allows for narrowing the time range to a specific period, so that the network can be seen within that time range."
   ]
  },
  {
   "cell_type": "code",
   "execution_count": 5,
   "id": "62af22e8",
   "metadata": {},
   "outputs": [],
   "source": [
    "for name in topic_names:\n",
    "    topic_df = network_df.loc[doc_topics_df[\"topic\"] == name]\n",
    "    topic_df = topic_df[[\"sender\", \"recipient\", \"date\", \"end date\"]]\n",
    "    topic_df.sort_values(\"date\", inplace=True)\n",
    "    topic_df.to_csv(\"topic_outputs/%s_topic_model.csv\" % name, index=False)"
   ]
  }
 ],
 "metadata": {
  "kernelspec": {
   "display_name": "henslow-topic-mod",
   "language": "python",
   "name": "henslow-topic-mod"
  },
  "language_info": {
   "codemirror_mode": {
    "name": "ipython",
    "version": 3
   },
   "file_extension": ".py",
   "mimetype": "text/x-python",
   "name": "python",
   "nbconvert_exporter": "python",
   "pygments_lexer": "ipython3",
   "version": "3.9.1"
  }
 },
 "nbformat": 4,
 "nbformat_minor": 5
}
