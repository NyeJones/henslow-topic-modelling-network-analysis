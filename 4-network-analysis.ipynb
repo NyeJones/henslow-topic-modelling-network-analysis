{
 "cells": [
  {
   "cell_type": "markdown",
   "id": "4f222554",
   "metadata": {},
   "source": [
    "This is a relatively short notebook as the visualisations are done on Palladio, an online tool specifically designed for social network analysis."
   ]
  },
  {
   "cell_type": "markdown",
   "id": "381427dc",
   "metadata": {},
   "source": [
    "Import libraries for social network analysis data preparation."
   ]
  },
  {
   "cell_type": "code",
   "execution_count": 1,
   "id": "81a2b256",
   "metadata": {},
   "outputs": [],
   "source": [
    "import pickle\n",
    "import matplotlib.pyplot as plt\n",
    "import pandas as pd\n",
    "\n",
    "from natsort import natsorted\n",
    "from datetime import datetime"
   ]
  },
  {
   "cell_type": "markdown",
   "id": "64e567c3",
   "metadata": {},
   "source": [
    "Load the doc_topics dataframe created in notebook one."
   ]
  },
  {
   "cell_type": "code",
   "execution_count": 2,
   "id": "6612afa3",
   "metadata": {},
   "outputs": [],
   "source": [
    "doc_topics_df = pd.read_pickle(\"pickle/documents_topics.pkl\")"
   ]
  },
  {
   "cell_type": "code",
   "execution_count": 3,
   "id": "f73a28c2",
   "metadata": {
    "scrolled": true
   },
   "outputs": [
    {
     "data": {
      "text/html": [
       "<div>\n",
       "<style scoped>\n",
       "    .dataframe tbody tr th:only-of-type {\n",
       "        vertical-align: middle;\n",
       "    }\n",
       "\n",
       "    .dataframe tbody tr th {\n",
       "        vertical-align: top;\n",
       "    }\n",
       "\n",
       "    .dataframe thead th {\n",
       "        text-align: right;\n",
       "    }\n",
       "</style>\n",
       "<table border=\"1\" class=\"dataframe\">\n",
       "  <thead>\n",
       "    <tr style=\"text-align: right;\">\n",
       "      <th></th>\n",
       "      <th>letter</th>\n",
       "      <th>date</th>\n",
       "      <th>sender</th>\n",
       "      <th>recipient</th>\n",
       "      <th>text</th>\n",
       "      <th>topic</th>\n",
       "    </tr>\n",
       "  </thead>\n",
       "  <tbody>\n",
       "    <tr>\n",
       "      <th>21</th>\n",
       "      <td>letters_1.xml</td>\n",
       "      <td>1820-04-24</td>\n",
       "      <td>Sowerby, James</td>\n",
       "      <td>Henslow, J. S.</td>\n",
       "      <td>pentacrinitis caryophyllea</td>\n",
       "      <td>0_plant_botany_flora_herbarium</td>\n",
       "    </tr>\n",
       "    <tr>\n",
       "      <th>23</th>\n",
       "      <td>letters_1.xml</td>\n",
       "      <td>1820-04-24</td>\n",
       "      <td>Sowerby, James</td>\n",
       "      <td>Henslow, J. S.</td>\n",
       "      <td>madriporite tubipore entrochi carypohyllea scoria</td>\n",
       "      <td>0_plant_botany_flora_herbarium</td>\n",
       "    </tr>\n",
       "    <tr>\n",
       "      <th>40</th>\n",
       "      <td>letters_4.xml</td>\n",
       "      <td>1822-12-16</td>\n",
       "      <td>Henslow, J. S.</td>\n",
       "      <td>Jenyns, Leonard</td>\n",
       "      <td>addenda plant wynch</td>\n",
       "      <td>0_plant_botany_flora_herbarium</td>\n",
       "    </tr>\n",
       "    <tr>\n",
       "      <th>43</th>\n",
       "      <td>letters_4.xml</td>\n",
       "      <td>1822-12-16</td>\n",
       "      <td>Henslow, J. S.</td>\n",
       "      <td>Jenyns, Leonard</td>\n",
       "      <td>alisma ranunculoide officinalis arenaria verna...</td>\n",
       "      <td>0_plant_botany_flora_herbarium</td>\n",
       "    </tr>\n",
       "    <tr>\n",
       "      <th>46</th>\n",
       "      <td>letters_4.xml</td>\n",
       "      <td>1822-12-16</td>\n",
       "      <td>Henslow, J. S.</td>\n",
       "      <td>Jenyns, Leonard</td>\n",
       "      <td>arenarius draba dryas octopetala epilobium als...</td>\n",
       "      <td>0_plant_botany_flora_herbarium</td>\n",
       "    </tr>\n",
       "    <tr>\n",
       "      <th>...</th>\n",
       "      <td>...</td>\n",
       "      <td>...</td>\n",
       "      <td>...</td>\n",
       "      <td>...</td>\n",
       "      <td>...</td>\n",
       "      <td>...</td>\n",
       "    </tr>\n",
       "    <tr>\n",
       "      <th>8839</th>\n",
       "      <td>letters_1221.xml</td>\n",
       "      <td>1834-08-20</td>\n",
       "      <td>Henslow, J. S.</td>\n",
       "      <td>Phillips, John</td>\n",
       "      <td>request edinburgh proposes council</td>\n",
       "      <td>14_edinburgh_glasgow_dublin_scotland</td>\n",
       "    </tr>\n",
       "    <tr>\n",
       "      <th>8849</th>\n",
       "      <td>letters_1222.xml</td>\n",
       "      <td>1834-02-10</td>\n",
       "      <td>Henslow, J. S.</td>\n",
       "      <td>Phillips, John</td>\n",
       "      <td>edinburgh generality answer query</td>\n",
       "      <td>14_edinburgh_glasgow_dublin_scotland</td>\n",
       "    </tr>\n",
       "    <tr>\n",
       "      <th>8852</th>\n",
       "      <td>letters_1222.xml</td>\n",
       "      <td>1834-02-10</td>\n",
       "      <td>Henslow, J. S.</td>\n",
       "      <td>Phillips, John</td>\n",
       "      <td>forego week edinburgh sd sportsman</td>\n",
       "      <td>14_edinburgh_glasgow_dublin_scotland</td>\n",
       "    </tr>\n",
       "    <tr>\n",
       "      <th>8865</th>\n",
       "      <td>letters_1223.xml</td>\n",
       "      <td>1836-08-08</td>\n",
       "      <td>Henslow, J. S.</td>\n",
       "      <td>Phillips, John</td>\n",
       "      <td>trust stop dublin</td>\n",
       "      <td>14_edinburgh_glasgow_dublin_scotland</td>\n",
       "    </tr>\n",
       "    <tr>\n",
       "      <th>9062</th>\n",
       "      <td>letters_1240.xml</td>\n",
       "      <td>1840-06-25</td>\n",
       "      <td>Henslow, J. S.</td>\n",
       "      <td>Hutton, William</td>\n",
       "      <td>july univy london august meeting cambridge gla...</td>\n",
       "      <td>14_edinburgh_glasgow_dublin_scotland</td>\n",
       "    </tr>\n",
       "  </tbody>\n",
       "</table>\n",
       "<p>2514 rows × 6 columns</p>\n",
       "</div>"
      ],
      "text/plain": [
       "                letter       date          sender        recipient  \\\n",
       "21       letters_1.xml 1820-04-24  Sowerby, James   Henslow, J. S.   \n",
       "23       letters_1.xml 1820-04-24  Sowerby, James   Henslow, J. S.   \n",
       "40       letters_4.xml 1822-12-16  Henslow, J. S.  Jenyns, Leonard   \n",
       "43       letters_4.xml 1822-12-16  Henslow, J. S.  Jenyns, Leonard   \n",
       "46       letters_4.xml 1822-12-16  Henslow, J. S.  Jenyns, Leonard   \n",
       "...                ...        ...             ...              ...   \n",
       "8839  letters_1221.xml 1834-08-20  Henslow, J. S.   Phillips, John   \n",
       "8849  letters_1222.xml 1834-02-10  Henslow, J. S.   Phillips, John   \n",
       "8852  letters_1222.xml 1834-02-10  Henslow, J. S.   Phillips, John   \n",
       "8865  letters_1223.xml 1836-08-08  Henslow, J. S.   Phillips, John   \n",
       "9062  letters_1240.xml 1840-06-25  Henslow, J. S.  Hutton, William   \n",
       "\n",
       "                                                   text  \\\n",
       "21                           pentacrinitis caryophyllea   \n",
       "23    madriporite tubipore entrochi carypohyllea scoria   \n",
       "40                                  addenda plant wynch   \n",
       "43    alisma ranunculoide officinalis arenaria verna...   \n",
       "46    arenarius draba dryas octopetala epilobium als...   \n",
       "...                                                 ...   \n",
       "8839                 request edinburgh proposes council   \n",
       "8849                  edinburgh generality answer query   \n",
       "8852                 forego week edinburgh sd sportsman   \n",
       "8865                                  trust stop dublin   \n",
       "9062  july univy london august meeting cambridge gla...   \n",
       "\n",
       "                                     topic  \n",
       "21          0_plant_botany_flora_herbarium  \n",
       "23          0_plant_botany_flora_herbarium  \n",
       "40          0_plant_botany_flora_herbarium  \n",
       "43          0_plant_botany_flora_herbarium  \n",
       "46          0_plant_botany_flora_herbarium  \n",
       "...                                    ...  \n",
       "8839  14_edinburgh_glasgow_dublin_scotland  \n",
       "8849  14_edinburgh_glasgow_dublin_scotland  \n",
       "8852  14_edinburgh_glasgow_dublin_scotland  \n",
       "8865  14_edinburgh_glasgow_dublin_scotland  \n",
       "9062  14_edinburgh_glasgow_dublin_scotland  \n",
       "\n",
       "[2514 rows x 6 columns]"
      ]
     },
     "execution_count": 3,
     "metadata": {},
     "output_type": "execute_result"
    }
   ],
   "source": [
    "doc_topics_df"
   ]
  },
  {
   "cell_type": "markdown",
   "id": "1e438613",
   "metadata": {},
   "source": [
    "Create network dataframe converting data into an acceptable format for Palladio. Change date column format to string and add \"end date\" with the same content as date column, as this is necessary for timespan visualisations.\n",
    "\n",
    "Extract the topic names for use below."
   ]
  },
  {
   "cell_type": "code",
   "execution_count": 4,
   "id": "fae9e535",
   "metadata": {},
   "outputs": [
    {
     "data": {
      "text/plain": [
       "['0_plant_botany_flora_herbarium',\n",
       " '1_ipswich_london_suffolk_feb',\n",
       " '2_committee_catalogue_candidate_name',\n",
       " '3_johns_graham_henry_coll',\n",
       " '4_lime_glass_acid_clay',\n",
       " '5_insect_entomology_wasp_larvae',\n",
       " '6_obd_diam_obedt_magd',\n",
       " '7_pencil_foot_ink_paper',\n",
       " '8_comment_certainty_reason_doubt',\n",
       " '9_lecture_course_professor_professorship',\n",
       " '10_fossil_crag_fossils_pleistocene',\n",
       " '11_hooker_greville_dr_sinclair',\n",
       " '12_specimen_duplicate_subscription_descr...',\n",
       " '13_election_vote_voter_poll',\n",
       " '14_edinburgh_glasgow_dublin_scotland']"
      ]
     },
     "execution_count": 4,
     "metadata": {},
     "output_type": "execute_result"
    }
   ],
   "source": [
    "network_df = doc_topics_df[[\"sender\", \"recipient\", \"date\", \"topic\"]].copy()\n",
    "network_df[\"date\"] = network_df['date'].dt.strftime(\"%Y-%m-%d\")\n",
    "network_df[\"end date\"] = network_df['date']\n",
    "topic_names = list(set(network_df[\"topic\"].to_list()))\n",
    "topic_names = natsorted(topic_names)\n",
    "topic_names"
   ]
  },
  {
   "cell_type": "markdown",
   "id": "a12e4c90",
   "metadata": {},
   "source": [
    "Use the topic names list in a for loop to create dataframes for each topic only, then export each topic dataframe to a folder of CSV files, CSV is the accepted format for Palladio.\n",
    "\n",
    "These can then be loaded in Palladio and used to generate visualisations of the network of correspondents around each topic. The timespan feature in Palladio allows for narrowing the time range to a specific period, so that the network can be seen within that time range."
   ]
  },
  {
   "cell_type": "code",
   "execution_count": 5,
   "id": "62af22e8",
   "metadata": {},
   "outputs": [],
   "source": [
    "for name in topic_names:\n",
    "    topic_df = network_df.loc[doc_topics_df[\"topic\"] == name]\n",
    "    topic_df = topic_df[[\"sender\", \"recipient\", \"date\", \"end date\"]]\n",
    "    topic_df.sort_values(\"date\", inplace=True)\n",
    "    topic_df.to_csv(\"topic_outputs/%s_topic_model.csv\" % name, index=False)"
   ]
  }
 ],
 "metadata": {
  "kernelspec": {
   "display_name": "henslow-topic-mod",
   "language": "python",
   "name": "henslow-topic-mod"
  },
  "language_info": {
   "codemirror_mode": {
    "name": "ipython",
    "version": 3
   },
   "file_extension": ".py",
   "mimetype": "text/x-python",
   "name": "python",
   "nbconvert_exporter": "python",
   "pygments_lexer": "ipython3",
   "version": "3.9.1"
  }
 },
 "nbformat": 4,
 "nbformat_minor": 5
}
