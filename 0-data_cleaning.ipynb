{
 "cells": [
  {
   "cell_type": "markdown",
   "id": "8563434a",
   "metadata": {},
   "source": [
    "Import libraries to use for cleaning data and preliminary data analysis"
   ]
  },
  {
   "cell_type": "code",
   "execution_count": 1,
   "id": "fabb6d2d",
   "metadata": {
    "scrolled": true
   },
   "outputs": [
    {
     "data": {
      "text/html": [
       "        <script type=\"text/javascript\">\n",
       "        window.PlotlyConfig = {MathJaxConfig: 'local'};\n",
       "        if (window.MathJax && window.MathJax.Hub && window.MathJax.Hub.Config) {window.MathJax.Hub.Config({SVG: {font: \"STIX-Web\"}});}\n",
       "        if (typeof require !== 'undefined') {\n",
       "        require.undef(\"plotly\");\n",
       "        requirejs.config({\n",
       "            paths: {\n",
       "                'plotly': ['https://cdn.plot.ly/plotly-2.25.2.min']\n",
       "            }\n",
       "        });\n",
       "        require(['plotly'], function(Plotly) {\n",
       "            window._Plotly = Plotly;\n",
       "        });\n",
       "        }\n",
       "        </script>\n",
       "        "
      ]
     },
     "metadata": {},
     "output_type": "display_data"
    },
    {
     "data": {
      "text/html": [
       "        <script type=\"text/javascript\">\n",
       "        window.PlotlyConfig = {MathJaxConfig: 'local'};\n",
       "        if (window.MathJax && window.MathJax.Hub && window.MathJax.Hub.Config) {window.MathJax.Hub.Config({SVG: {font: \"STIX-Web\"}});}\n",
       "        if (typeof require !== 'undefined') {\n",
       "        require.undef(\"plotly\");\n",
       "        requirejs.config({\n",
       "            paths: {\n",
       "                'plotly': ['https://cdn.plot.ly/plotly-2.25.2.min']\n",
       "            }\n",
       "        });\n",
       "        require(['plotly'], function(Plotly) {\n",
       "            window._Plotly = Plotly;\n",
       "        });\n",
       "        }\n",
       "        </script>\n",
       "        "
      ]
     },
     "metadata": {},
     "output_type": "display_data"
    }
   ],
   "source": [
    "import glob\n",
    "import string\n",
    "import spacy\n",
    "import os\n",
    "import re\n",
    "import pickle\n",
    "import pandas as pd\n",
    "import cufflinks as cf\n",
    "\n",
    "from plotly.offline import init_notebook_mode, iplot\n",
    "from plotly.graph_objs import *\n",
    "\n",
    "from gensim.utils import simple_preprocess\n",
    "from gensim.models import Phrases\n",
    "from gensim.models.phrases import Phraser\n",
    "\n",
    "from pathlib import Path\n",
    "from natsort import os_sorted\n",
    "from bs4 import BeautifulSoup\n",
    "from datetime import datetime\n",
    "from nltk.corpus import stopwords\n",
    "from nltk.tokenize.punkt import PunktSentenceTokenizer, PunktParameters\n",
    "\n",
    "nlp = spacy.load(\"en_core_web_sm\", disable=[\"parser\", \"ner\"])\n",
    "cf.go_offline()\n",
    "cf.set_config_file(offline=False, world_readable=True)\n",
    "\n",
    "init_notebook_mode(connected=True) "
   ]
  },
  {
   "cell_type": "markdown",
   "id": "1f17dd7c",
   "metadata": {},
   "source": [
    "Function to extract the content of the TEI files, each containing a letter and its metadata. Returns a list of Beautiful Soup objects suitable for parsing using the tags within the files."
   ]
  },
  {
   "cell_type": "code",
   "execution_count": 2,
   "id": "f21d54d1",
   "metadata": {},
   "outputs": [],
   "source": [
    "def soup_objects(file_paths):\n",
    "    soup_list = []\n",
    "    for path in file_paths:\n",
    "        with path.open(\"r\", encoding=\"utf-8\") as xml:\n",
    "            source = BeautifulSoup(xml, \"lxml-xml\")\n",
    "            soup_list.append(source)\n",
    "    return soup_list"
   ]
  },
  {
   "cell_type": "markdown",
   "id": "dd3d5d44",
   "metadata": {},
   "source": [
    "Function which takes a list of file paths from the letters directory, sends it to the function which creates Beautiful soup objects and then extracts the body text from each letter file. The body texts are then cleaned up to remove special characters, newlines, extra spaces, numerals and are also lower-cased. The object being to standardise the texts for better processing. Returns a list of clean body texts."
   ]
  },
  {
   "cell_type": "code",
   "execution_count": 3,
   "id": "941a25fd",
   "metadata": {},
   "outputs": [],
   "source": [
    "def text_cleaning(file_paths):\n",
    "    soup_list = soup_objects(file_paths)\n",
    "    clean_texts = []\n",
    "    for obj in soup_list:\n",
    "        body = obj.find(\"body\")\n",
    "        text = body.get_text()\n",
    "        text = text.replace(u\"\\xa0\", u\" \").replace(\"&\", \"and\").replace(\"|\", \" \").replace(\"\\n\", \" \")\n",
    "        text = text.replace(\"-\", \" \"). replace(\"–\", \" \").replace(\"_\", \" \").replace(\"—\", \" \")\n",
    "        text = text.lower()\n",
    "        text = re.sub(r\"\\b\\d+\\b\", \"\", text)\n",
    "        text = re.sub(r\"\\s\\s+\", \" \", text)\n",
    "        text = text.strip()\n",
    "        clean_texts.append(text)\n",
    "    return clean_texts"
   ]
  },
  {
   "cell_type": "markdown",
   "id": "def26dcc",
   "metadata": {},
   "source": [
    "Function which takes a list of file paths from the letters directory, sends it to the function which creates Beautiful soup objects and then extracts the date for each letter. Where there is a date range the function calculates an average. Returns a list of dates for each letter."
   ]
  },
  {
   "cell_type": "code",
   "execution_count": 4,
   "id": "dc81f0f9",
   "metadata": {},
   "outputs": [],
   "source": [
    "def date_extract(file_paths):\n",
    "    soup_list = soup_objects(file_paths)\n",
    "    corpus_dates = []\n",
    "    for obj in soup_list:\n",
    "        try:\n",
    "            doc_date = obj.find(\"date\")[\"when\"].strip()\n",
    "            doc_date = datetime.strptime(doc_date, \"%Y-%m-%d\")\n",
    "            corpus_dates.append(doc_date)\n",
    "        except KeyError:\n",
    "            first_date = obj.find(\"date\")[\"notBefore\"].strip()\n",
    "            last_date = obj.find(\"date\")[\"notAfter\"].strip()\n",
    "            first_date = datetime.strptime(first_date, \"%Y-%m-%d\")\n",
    "            last_date = datetime.strptime(last_date, \"%Y-%m-%d\")\n",
    "            doc_date = first_date + (last_date - first_date)/2\n",
    "            corpus_dates.append(doc_date)\n",
    "    return corpus_dates"
   ]
  },
  {
   "cell_type": "markdown",
   "id": "3a79077e",
   "metadata": {},
   "source": [
    "Function which takes a list of file paths from the letters directory, sends it to the function which creates Beautiful soup objects and then extracts the correspondents for each letter. Returns a list of sender/correspondent tuples."
   ]
  },
  {
   "cell_type": "code",
   "execution_count": 5,
   "id": "128eda3d",
   "metadata": {},
   "outputs": [],
   "source": [
    "def correspondents(file_paths):\n",
    "    soup_list = soup_objects(file_paths)\n",
    "    senders_recipients = []\n",
    "    for obj in soup_list:\n",
    "        sender = obj.find(\"correspAction\", {\"type\": \"sent\"}).find(\"persName\")\n",
    "        sender_text = sender.get_text()\n",
    "        recipient = obj.find(\"correspAction\", {\"type\": \"received\"}).find(\"persName\")\n",
    "        recipient_text = recipient.get_text()\n",
    "        sender_recipient = (sender_text, recipient_text)\n",
    "        senders_recipients.append(sender_recipient)\n",
    "    return senders_recipients"
   ]
  },
  {
   "cell_type": "markdown",
   "id": "acb5709f",
   "metadata": {},
   "source": [
    "Function which takes a dataframe of letter data, extracts the word count of each document and returns a bar plot of document lengths."
   ]
  },
  {
   "cell_type": "code",
   "execution_count": 6,
   "id": "fd457064",
   "metadata": {},
   "outputs": [],
   "source": [
    "def doc_length_plot(dataframe):\n",
    "    doc_len = dataframe[\"text\"].copy()\n",
    "    doc_len = doc_len.apply(len).value_counts()\n",
    "    doc_len.sort_index(inplace=True)\n",
    "    return doc_len.iplot(\n",
    "    kind=\"bar\",\n",
    "    xTitle=\"Word Count\",\n",
    "    linecolor=\"Black\",\n",
    "    yTitle=\"Document Count\",\n",
    "    title=\"Document Length Distribution\"\n",
    "    )"
   ]
  },
  {
   "cell_type": "markdown",
   "id": "9c3acefd",
   "metadata": {},
   "source": [
    "Function which takes a dataframe of letter data and counts the numbers of all words across the whole corpus. Returns a bar plot of the words which appear most often."
   ]
  },
  {
   "cell_type": "code",
   "execution_count": 7,
   "id": "1f5975ef",
   "metadata": {},
   "outputs": [],
   "source": [
    "def word_frequency_plot(dataframe):\n",
    "    word_freq = dataframe[\"text\"].copy()\n",
    "    word_freq = word_freq.explode().value_counts()\n",
    "    return word_freq[:50].iplot(\n",
    "    kind=\"bar\",\n",
    "    linecolor=\"Black\",\n",
    "    yTitle=\"Word Count\",\n",
    "    title=\"Most Regular Words\"\n",
    "    )"
   ]
  },
  {
   "cell_type": "markdown",
   "id": "176e7be2",
   "metadata": {},
   "source": [
    "Function which takes a dataframe of letter data. Takes letter texts and converts into Spacy nlp object, which is then converted into parts-of-speech tags for each word in each text. The parts-of-speech across the whole corpus are then counted up. Returns a bar plot of different parts-of-speech and how often they appear in the corpus."
   ]
  },
  {
   "cell_type": "code",
   "execution_count": 8,
   "id": "973391a7",
   "metadata": {},
   "outputs": [],
   "source": [
    "def pos_count_plot(dataframe):\n",
    "    pos_count = dataframe[\"text\"].copy()\n",
    "    pos_count = pos_count.map(\" \".join).map(nlp)\n",
    "    pos_count = pos_count.map(lambda x: [token.pos_ for token in x])\n",
    "    pos_count = pos_count.explode().dropna().value_counts()\n",
    "    return pos_count.iplot(\n",
    "    kind=\"bar\",\n",
    "    linecolor=\"Black\",\n",
    "    yTitle=\"Count\",\n",
    "    xTitle=\"Part-of-Speech\",\n",
    "    title=\"Part-of-Speech Tags by Number\",\n",
    "    ) "
   ]
  },
  {
   "cell_type": "markdown",
   "id": "997aa98a",
   "metadata": {},
   "source": [
    "Function which takes a string and removes all punctuation from it, then removes any extra spacing. Returns string without punctuation."
   ]
  },
  {
   "cell_type": "code",
   "execution_count": 9,
   "id": "c6c3c7b6",
   "metadata": {},
   "outputs": [],
   "source": [
    "def punct_removal(text):\n",
    "    text = text.replace(\".\", \" \")\n",
    "    text = text.translate(str.maketrans(\" \", \" \", string.punctuation))\n",
    "    text = re.sub(r\"\\s\\s+\", \" \", text)\n",
    "    text = text.strip()\n",
    "    return text"
   ]
  },
  {
   "cell_type": "markdown",
   "id": "448d555b",
   "metadata": {},
   "source": [
    "Function which takes NLTK sentence_tokenizer and string and returns a list of sentences."
   ]
  },
  {
   "cell_type": "code",
   "execution_count": 10,
   "id": "c48cc2c5",
   "metadata": {},
   "outputs": [],
   "source": [
    "def sent_tokens(tokenizer, text):\n",
    "    sentences = tokenizer.tokenize(text)\n",
    "    return sentences"
   ]
  },
  {
   "cell_type": "markdown",
   "id": "56f23f92",
   "metadata": {},
   "source": [
    "Function which converts string into a list of tokens."
   ]
  },
  {
   "cell_type": "code",
   "execution_count": 11,
   "id": "92a77789",
   "metadata": {},
   "outputs": [],
   "source": [
    "def tokenize_text(text):\n",
    "    token_text = list(simple_preprocess(text, deacc=True))\n",
    "    return token_text"
   ]
  },
  {
   "cell_type": "markdown",
   "id": "0225e630",
   "metadata": {},
   "source": [
    "Function which takes tokenized text and stopwords and returns tokenized text without stopwords."
   ]
  },
  {
   "cell_type": "code",
   "execution_count": 12,
   "id": "43e512d2",
   "metadata": {},
   "outputs": [],
   "source": [
    "def remove_stopwords(tokenized_text, stopwords):\n",
    "    non_stop_text = [token for token in tokenized_text if token not in stopwords]\n",
    "    return(non_stop_text)    "
   ]
  },
  {
   "cell_type": "markdown",
   "id": "9413bdbd",
   "metadata": {},
   "source": [
    "Function which takes tokenized texts and converts to bigrams where applicable. Returns text with bigrams."
   ]
  },
  {
   "cell_type": "code",
   "execution_count": 13,
   "id": "7f2a6ac4",
   "metadata": {},
   "outputs": [],
   "source": [
    "def bigrams(text, tokenized_texts, corpus_bigrams):\n",
    "    bigram_mod = Phraser(corpus_bigrams)\n",
    "    bigram_text = bigram_mod[text]\n",
    "    return bigram_text"
   ]
  },
  {
   "cell_type": "markdown",
   "id": "9da06574",
   "metadata": {},
   "source": [
    "Function which takes tokenized text, lemmatizes it and removes text not in allowed parts-of-speech. Returns tokenized word list."
   ]
  },
  {
   "cell_type": "code",
   "execution_count": 14,
   "id": "1fb80287",
   "metadata": {},
   "outputs": [],
   "source": [
    "def lemmatization(tokenized_text, allowed_postags=[\"PROPN\", \"NOUN\"]):\n",
    "    doc = nlp(\" \".join(tokenized_text)) \n",
    "    return [token.lemma_ for token in doc if token.pos_ in allowed_postags]"
   ]
  },
  {
   "cell_type": "markdown",
   "id": "a36cf0ef",
   "metadata": {},
   "source": [
    "Initialize stopwords list, including French stopwords as there are letters in French. Extend stopwords list to include corpus-specific stopwords."
   ]
  },
  {
   "cell_type": "code",
   "execution_count": 15,
   "id": "0bb6d411",
   "metadata": {},
   "outputs": [],
   "source": [
    "stopwords = list(set(stopwords.words(\"english\")) | set(stopwords.words(\"french\")))\n",
    "stopwords.extend([\"sir\", \"henslow\", \"dear\", \"letter\", \"mr\", \"mrs\", \"revd\", \"lord\", \"prof\", \"day\", \"yrs\", \"yr\", \"thank\", \"way\", \"friend\",\n",
    "                    \"year\", \"week\", \"month\", \"time\", \"th\", \"st\", \"ld\", \"thank\", \"kind\", \"good\", \"make\", \"beg\", \"suppose\",\n",
    "                    \"enclose\", \"small\", \"regard\", \"andc\", \"ditto\", \"loss\", \"mention\", \"regret\", \"account\", \"long\", \"obedient\",\n",
    "                    \"appear\", \"examine\", \"loss\", \"take\", \"expect\", \"monday\", \"tuesday\", \"wednesday\", \"thursday\", \"friday\", \"servt\",\n",
    "                    \"saturday\", \"sunday\", \"hear\", \"contain\", \"tell\", \"enough\", \"say\", \"arrive\", \"large\", \"get\", \"well\", \"servant\",\n",
    "                    \"due\", \"give\", \"pay\", \"many\", \"name\", \"character\", \"refrain\", \"able\", \"open\", \"several\", \"believe\", \"oblige\",\n",
    "                    \"leave\", \"introduce\", \"serv\", \"add\", \"date\", \"see\", \"compliment\", \"today\", \"write\", \"find\", \"tomorrow\",\n",
    "                    \"want\", \"yesterday\", \"much\", \"spend\", \"part\", \"last\", \"first\", \"oblige\", \"arrival\", \"leaving\", \"hope\", \"send\",\n",
    "                    \"think\", \"find\", \"see\", \"good\", \"make\", \"take\", \"know\", \"get\", \"write\", \"great\", \"come\", \"go\", \"wish\", \"last\",\n",
    "                    \"much\", \"leave\", \"present\", \"work\", \"receive\", \"return\", \"many\", \"name\", \"hear\", \"feel\", \"little\", \"place\",\n",
    "                    \"list\", \"thing\", \"part\", \"able\", \"tell\", \"oblige\", \"vote\", \"new\", \"man\", \"visit\", \"regard\", \"glad\", \"make\",\n",
    "                    \"find\", \"give\", \"write\", \"see\", \"take\", \"receive\", \"go\", \"rs\", \"oblige\", \"good\", \"get\", \"leave\", \"state\",\n",
    "                    \"remain\", \"pleasure\", \"look\", \"seem\", \"use\", \"meet\", \"do\", \"say\", \"bring\", \"put\", \"next\", \"show\", \"come\", \"name\",\n",
    "                    \"make\", \"find\", \"give\", \"see\", \"take\", \"go\", \"get\", \"leave\", \"do\", \"say\", \"call\", \"let\", \"opportunity\", \"offer\",\n",
    "                    \"faithful\", \"faithfully\"\n",
    "                 ])"
   ]
  },
  {
   "cell_type": "markdown",
   "id": "3b3d7c24",
   "metadata": {},
   "source": [
    "Create file paths for letters files and sort numerically. Also get letter numbers without file paths for use as letter identifiers."
   ]
  },
  {
   "cell_type": "code",
   "execution_count": 16,
   "id": "de73637c",
   "metadata": {},
   "outputs": [],
   "source": [
    "file_paths = \"letters/*.xml\"\n",
    "\n",
    "xml_files = []\n",
    "for path in glob.glob(file_paths):\n",
    "    path = Path(path)    \n",
    "    xml_files.append(path)\n",
    "    \n",
    "#sort file paths numerically\n",
    "xml_files = os_sorted(xml_files)\n",
    "\n",
    "#extract letter number from full file path\n",
    "filenames = []\n",
    "for path in xml_files:\n",
    "    filename = os.path.basename(path)\n",
    "    filenames.append(filename)"
   ]
  },
  {
   "cell_type": "markdown",
   "id": "eb7c0d52",
   "metadata": {},
   "source": [
    "Takes file paths and sends to text_cleaning function to extract text and clean up the data, then return as list of texts for each letter."
   ]
  },
  {
   "cell_type": "code",
   "execution_count": 17,
   "id": "751c1826",
   "metadata": {
    "scrolled": true
   },
   "outputs": [
    {
     "data": {
      "text/plain": [
       "['mead place, lambeth april my dear sir, i return your fossils. i hope they will come safely. be so good as to make my best remembrances to prof. sedgwick and do me the favour to return the amm. sedgwickii with many thanks. i suppose you attended prof. clark’s lecture on satr y or know that i lent him some mot. c iron to show his pupils. i beg to trouble with the enclosed letter for him or rather small parcell, and also for prof. sedgwick any help in either of my catalogues or regarding fossils andc andc will be thankfully rec. d by dear sir. yours very faithfully j. sowerby isle of man . anomites punctatus. martin f. .f.. . do . spirifer sowerby m. c. lin tran v. pt page . and producti j.s.m.c. . same as . with a spirifer on the other side . and . productus scoticus m.c..f. . and . spirifer flattish . cardium new? see m.c. . productus . same as ? . productus finely striated . same as . productus stria thready with some intermediate ones . productus t . trilobite a . amm. henslowi m.c. n . nautilus complanatus m.c. pe . pentacrinitis c . caryophyllea ? lamarck . ditto branching m . madriporite t . tubipore of some entrochi carypohyllea ditto large ditto pointed ditto rather simpler ditto do scoria',\n",
       " 'november from a careful analysis of grains of mr. henslow’s mineral from anglesea, independently of its crystalline form, it appears to consist of gr silica, = alumina, / = soda, / = lime, / = water of absorption / = loss, zn iron grains / total . / without the loss w.ch equals / this mineral gelatinizes in acid and is electric by friction. it is properly therefore anhydrous analcine, and quite a new variety. e.d.clarke',\n",
       " 'thursday evening my dear sir i have subjoined the results of my examination of the two specimens, which you will have the goodness to insert in your paper in what manner you may think proper. the darker crystals seem so decidedly garnets that i made only a rough chemical attack upon them which is [symbol for therefore] not worth mentioning. i regret that you have waited so long for this account and ever most truly yours j. cumming the lighter coloured crystals, having the form of the trapezoidal dodecahedron, appear to be analcine with excess of iron they are slightly electric by friction; they scratch glass; they readily vitrify before the blowpipe and gelatinize with acids. the specific gravity of some detached crystals was ., that of a mass .. by exposure to a red heat there was a loss of per cent. the mineral was examined in the usual method by repeated digestion with muriatic acid. the residue being boiled and fused with caustic potash. the muriatic solution dried and heated to redness to decompose the muriates of iron and alumina was dissolved in water; a … of lime was separated from the solution, which by evaporation gave crystals of common salt. silex was obtained from the alkaline solution by muriatic acid; alumina and iron were precipitated by caustic ammonia, and lime by the oxalate; the iron and alumina were separated by boiling with caustic potash, from which the alumina was precipitated by muriate of ammonia. the results were silex alumina lime iron soda water loss = the character and composition of the darker coloured crystals were are decidedly different. their form is the rhomboidal dodecahedron; their hardness such that they readily scratch the former crystals; their specific gravity .: they do not easily fuse before the blowpipe, nor gelatinize in acids; in short they have all the characters of the garnet.',\n",
       " 'december my dear leonard. i can not refrain from sending you a list of the addenda which my english plants have just received from wynch. i have not been able to open a mineralogical book all the morning. dont die with envy. alisma ranunculoides anchusa officinalis arenaria verna carex capillaris \" pauciflora chironia littoralis (with seeds and duplicates!) cypripedium calceolus!!! convallaria verticillata from perthshire!!! dianthus arenarius draba aizoides dryas octopetala epilobium alsinifolium \" alpestre fumaria lutea gentiana verna hieracium paludosum \" denticulatum juncus squarrosus nuphar kalmiana! potentilla fruticosa prunus padus pyrola minor ribes petraeum rosa mollis \" tomentosa \" scabriuscula \" glaucophylla \" involuta? \" sabina \" \" ? rubus glandulosa saxifraga aizoides \" caespitosa salix andersoniana male \" fosteriana female sedum villosum senecio sylvatica spiraea fruticosa trientalis europaea veronica alpina \" saxatilis \" fruticulosa (therefore i have all but verna) viola amoena \" lutea zostera marina ferns aspidium dilatatum polypodium dryopteris mosses grimmia leucophaea orthotricum hutchinsiae lichen gyrophora pustulata thereby increasing my collection by species of british plants and several species of n. american and lapland + a few duplicates (ex. gr. parnassia palustris andc) with best respects to your family believe me, yours ever sincerely j s henslow',\n",
       " 'edinburgh. coates crescent november sir, i beg leave to introduce to you the prince de cimitile, and the prince de casiati who propose to spend a few days at cambridge, and who are desirous of seeing the curiosities of your university. any attention which you may be able to pay them will be very gratifying to them, and will confer a great favour upon me. i am, sir, with the greatest respect, ever most faithfully yrs. d.brewster']"
      ]
     },
     "execution_count": 17,
     "metadata": {},
     "output_type": "execute_result"
    }
   ],
   "source": [
    "clean_texts = text_cleaning(xml_files)\n",
    "clean_texts[:5]"
   ]
  },
  {
   "cell_type": "markdown",
   "id": "5a1d4b89",
   "metadata": {},
   "source": [
    "At this stage we begin processing each text in two different ways, as a list of sentences and as a string for each text. This is because the different topic modelling tools we will ultimately use require different inputs, some with each letter text as one string and others divided into a list of sentences.\n",
    "\n",
    "For the sentence list version, we first initialize nltk PunktParamaters, which allows us to prevent abbreviations from ending sentences too early. We are able to add our own corpus-specific abbreviations to this tool. We then add this to the nltk sentence tokenizer tool and send the clean texts and the tokenizer to the sent_tokens function. This returns a list of texts, each divided into a list of sentences.\n",
    "\n",
    "We then use the punct_removal function to remove any additional punctuation from each sentence."
   ]
  },
  {
   "cell_type": "code",
   "execution_count": 18,
   "id": "6266c935",
   "metadata": {},
   "outputs": [
    {
     "data": {
      "text/plain": [
       "[['mead place lambeth april my dear sir i return your fossils',\n",
       "  'i hope they will come safely',\n",
       "  'be so good as to make my best remembrances to prof sedgwick and do me the favour to return the amm',\n",
       "  'sedgwickii with many thanks',\n",
       "  'i suppose you attended prof clark’s lecture on satr y or know that i lent him some mot',\n",
       "  'c iron to show his pupils',\n",
       "  'i beg to trouble with the enclosed letter for him or rather small parcell and also for prof sedgwick any help in either of my catalogues or regarding fossils andc andc will be thankfully rec',\n",
       "  'd by dear sir',\n",
       "  'yours very faithfully j sowerby isle of man',\n",
       "  'anomites punctatus',\n",
       "  'martin f',\n",
       "  'f',\n",
       "  'do',\n",
       "  'spirifer sowerby m c lin tran v pt page',\n",
       "  'and producti j s m c',\n",
       "  '',\n",
       "  'same as',\n",
       "  'with a spirifer on the other side',\n",
       "  'and',\n",
       "  'productus scoticus m c f',\n",
       "  'and',\n",
       "  'spirifer flattish',\n",
       "  'cardium new',\n",
       "  'see m c',\n",
       "  '',\n",
       "  'productus',\n",
       "  'same as',\n",
       "  '',\n",
       "  'productus finely striated',\n",
       "  'same as',\n",
       "  'productus stria thready with some intermediate ones',\n",
       "  'productus t',\n",
       "  'trilobite a',\n",
       "  'amm',\n",
       "  'henslowi m c',\n",
       "  'n',\n",
       "  'nautilus complanatus m c',\n",
       "  'pe',\n",
       "  'pentacrinitis c',\n",
       "  'caryophyllea',\n",
       "  'lamarck',\n",
       "  'ditto branching m',\n",
       "  'madriporite t',\n",
       "  'tubipore of some entrochi carypohyllea ditto large ditto pointed ditto rather simpler ditto do scoria'],\n",
       " ['november from a careful analysis of grains of mr henslow’s mineral from anglesea independently of its crystalline form it appears to consist of gr silica alumina soda lime water of absorption loss zn iron grains total',\n",
       "  'without the loss w ch equals this mineral gelatinizes in acid and is electric by friction',\n",
       "  'it is properly therefore anhydrous analcine and quite a new variety',\n",
       "  'e d clarke']]"
      ]
     },
     "execution_count": 18,
     "metadata": {},
     "output_type": "execute_result"
    }
   ],
   "source": [
    "punkt_param = PunktParameters()\n",
    "punkt_param.abbrev_types = set([\"hon\", \"mr\", \"rev\", \"dr\", \"prof\", \"rec.\" \"m.p\", \"yrs\", \"obed\", \"servt\", \"n.b\",\n",
    "                                \"st\", \"sq\", \"j.s\", \"mons\", \"yr\", \"wh\", \"yrs\", \"geo\", \"socy\", \"ld\", \"abundt\",\n",
    "                                \"shd\", \"cd\", \"sd\", \"p.s\", \"soc\", \"phil\", \"sufft\", \"esq\", \"recd\", \"wd\", \"necessy\",\n",
    "                                \"dups\", \"nat\", \"hist\", \"br\", \"assoc\", \"p.m\", \"/\", \"£\", \"no\", \"edinb\", \"revd\", \"ch\",\n",
    "                                \"esr\", \"arrangt\", \"cal\", \"hort\", \"m.s\", \"st\", \"organizn\", \"portd\", \"simy\", \"oxf\",\n",
    "                                \"ed\", \"geol\", \"foss\", \"bot\", \"unnecessy\", \"brongts\", \"fig\", \"difft\", \"pecop\", \"pl\",\n",
    "                                \"suffy\", \"nos\", \"messrs\", \"univy\", \"carb\", \"sep\", \"esqr\", \"jn\", \"secrety\", \"lieutt\",\n",
    "                                \"lieut\", \"obd\", \"wm\", \"livl\", \"th.s\", \"e.i\", \"mus\", \"betn\", \"ult\", \"var\", \"doz\",\n",
    "                                \"camb\", \"edit\", \"lin\", \"hyd\", \"hyb\", \"lath\", \"oxon\", \"cyp\", \"vars\", \"developt\", \"rt\",\n",
    "                                \"bp\", \"c.s\", \"lithogs\", \"wch\", \"secry\", \"secy\", \"trans\", \"m.a\", \"j.c\", \"mec\", \"g.c\",\n",
    "                                \"mem\", \"edinh\", \"coll\", \"figs\", \"figd\", \"birm\", \"bridgwr\", \"silurn\", \"str\", \"obt\",\n",
    "                                \"1st\", \"2nd\", \"3rd\", \"4th\", \"5th\", \"6th\", \"7th\", \"8th\", \"9th\", \"10th\", \"profr\", \n",
    "                                \"5h\", \"rod\", \"s.w\", \"coll\", \"quere\", \"m.p\", \"lit\", \"capt\", \"bs\", \"pr\", \"viz\", \"lab\",\n",
    "                                \"morn\", \"h.h.s\"\n",
    "                                ])\n",
    "sentence_tokenizer = PunktSentenceTokenizer(punkt_param)\n",
    "\n",
    "sentence_texts = [sent_tokens(sentence_tokenizer, text) for text in clean_texts]\n",
    "no_punct_sent_texts = [[punct_removal(sentence) for sentence in sublist] for sublist in sentence_texts]\n",
    "no_punct_sent_texts[:2]"
   ]
  },
  {
   "cell_type": "markdown",
   "id": "5a5788be",
   "metadata": {},
   "source": [
    "For texts that are not divided into sentences it is only necessary to pass them to the punct_removal function to remove punctuation."
   ]
  },
  {
   "cell_type": "code",
   "execution_count": 19,
   "id": "b210ab4e",
   "metadata": {
    "scrolled": true
   },
   "outputs": [
    {
     "data": {
      "text/plain": [
       "['mead place lambeth april my dear sir i return your fossils i hope they will come safely be so good as to make my best remembrances to prof sedgwick and do me the favour to return the amm sedgwickii with many thanks i suppose you attended prof clark’s lecture on satr y or know that i lent him some mot c iron to show his pupils i beg to trouble with the enclosed letter for him or rather small parcell and also for prof sedgwick any help in either of my catalogues or regarding fossils andc andc will be thankfully rec d by dear sir yours very faithfully j sowerby isle of man anomites punctatus martin f f do spirifer sowerby m c lin tran v pt page and producti j s m c same as with a spirifer on the other side and productus scoticus m c f and spirifer flattish cardium new see m c productus same as productus finely striated same as productus stria thready with some intermediate ones productus t trilobite a amm henslowi m c n nautilus complanatus m c pe pentacrinitis c caryophyllea lamarck ditto branching m madriporite t tubipore of some entrochi carypohyllea ditto large ditto pointed ditto rather simpler ditto do scoria',\n",
       " 'november from a careful analysis of grains of mr henslow’s mineral from anglesea independently of its crystalline form it appears to consist of gr silica alumina soda lime water of absorption loss zn iron grains total without the loss w ch equals this mineral gelatinizes in acid and is electric by friction it is properly therefore anhydrous analcine and quite a new variety e d clarke']"
      ]
     },
     "execution_count": 19,
     "metadata": {},
     "output_type": "execute_result"
    }
   ],
   "source": [
    "no_punct_texts = [punct_removal(text) for text in clean_texts]\n",
    "no_punct_texts[:2]"
   ]
  },
  {
   "cell_type": "markdown",
   "id": "7d30172d",
   "metadata": {},
   "source": [
    "Use the date_extract function to extract the date for each letter, using the letter file paths as input"
   ]
  },
  {
   "cell_type": "code",
   "execution_count": 20,
   "id": "f731a1e5",
   "metadata": {
    "scrolled": true
   },
   "outputs": [
    {
     "name": "stdout",
     "output_type": "stream",
     "text": [
      "[datetime.datetime(1820, 4, 24, 0, 0), datetime.datetime(1821, 11, 15, 0, 0), datetime.datetime(1821, 7, 2, 0, 0), datetime.datetime(1822, 12, 16, 0, 0), datetime.datetime(1822, 11, 11, 0, 0), datetime.datetime(1822, 7, 2, 0, 0), datetime.datetime(1823, 1, 7, 0, 0), datetime.datetime(1823, 4, 2, 0, 0), datetime.datetime(1823, 4, 8, 0, 0), datetime.datetime(1823, 4, 19, 0, 0)]\n"
     ]
    }
   ],
   "source": [
    "text_dates = date_extract(xml_files)\n",
    "print(text_dates[:10])"
   ]
  },
  {
   "cell_type": "markdown",
   "id": "dbb942ed",
   "metadata": {},
   "source": [
    "Use the correspondents function to extract the sender and recipient for each letter, using the letter file paths as input. Change output into 2 lists: one for senders, one for recipients."
   ]
  },
  {
   "cell_type": "code",
   "execution_count": 21,
   "id": "3397a6b1",
   "metadata": {},
   "outputs": [],
   "source": [
    "senders_recipients = correspondents(xml_files)\n",
    "senders, recipients = list(zip(*senders_recipients))"
   ]
  },
  {
   "cell_type": "markdown",
   "id": "69311349",
   "metadata": {},
   "source": [
    "Create Pandas dataframe for non-sentence strings of letter text content, with letter id, date, sender and recipient. Using a dataframe enables easier extraction and manipulation of data."
   ]
  },
  {
   "cell_type": "code",
   "execution_count": 22,
   "id": "d745901b",
   "metadata": {},
   "outputs": [],
   "source": [
    "df = pd.DataFrame(list(zip(filenames, text_dates, senders, recipients, no_punct_texts)), \n",
    "                  columns=[\"letter\", \"date\", \"sender\", \"recipient\", \"text\"])"
   ]
  },
  {
   "cell_type": "markdown",
   "id": "024d5b28",
   "metadata": {},
   "source": [
    "Create same type of dataframe as above for sentence divided versions of letter texts. Use explode method to give each sentence its own row in the dataframe with the letter metadata for each sentence included in the row."
   ]
  },
  {
   "cell_type": "code",
   "execution_count": 23,
   "id": "ae0122c8",
   "metadata": {},
   "outputs": [],
   "source": [
    "sent_df = pd.DataFrame(list(zip(filenames, text_dates, senders, recipients, no_punct_sent_texts)),\n",
    "                      columns=[\"letter\", \"date\", \"sender\", \"recipient\", \"text\"])\n",
    "sent_df = sent_df.explode(\"text\", ignore_index=True)"
   ]
  },
  {
   "cell_type": "markdown",
   "id": "3bba4a6d",
   "metadata": {},
   "source": [
    "Tokenize the texts in both dataframes into lists of words for use in preliminary data analysis and further processing below."
   ]
  },
  {
   "cell_type": "code",
   "execution_count": 24,
   "id": "18cd249f",
   "metadata": {
    "scrolled": true
   },
   "outputs": [],
   "source": [
    "df[\"text\"] = df[\"text\"].map(tokenize_text)\n",
    "sent_df[\"text\"] = sent_df[\"text\"].map(tokenize_text)"
   ]
  },
  {
   "cell_type": "markdown",
   "id": "a4056773",
   "metadata": {},
   "source": [
    "Send one of the dataframes to the word_frequency_plot function to get bar chart of top words in the corpus by frequency, prior to the removal of stopwords and some parts-of-speech."
   ]
  },
  {
   "cell_type": "code",
   "execution_count": 25,
   "id": "ed358aac",
   "metadata": {},
   "outputs": [
    {
     "data": {
      "application/vnd.plotly.v1+json": {
       "config": {
        "linkText": "Export to plot.ly",
        "plotlyServerURL": "https://plot.ly",
        "showLink": true
       },
       "data": [
        {
         "marker": {
          "color": "rgba(255, 153, 51, 0.6)",
          "line": {
           "color": "rgba(255, 153, 51, 1.0)",
           "width": 1
          }
         },
         "name": "count",
         "orientation": "v",
         "text": "",
         "type": "bar",
         "x": [
          "the",
          "to",
          "of",
          "and",
          "in",
          "you",
          "have",
          "my",
          "that",
          "for",
          "be",
          "it",
          "is",
          "as",
          "me",
          "not",
          "your",
          "will",
          "with",
          "at",
          "which",
          "but",
          "on",
          "very",
          "from",
          "this",
          "dear",
          "by",
          "are",
          "am",
          "if",
          "sir",
          "he",
          "so",
          "or",
          "was",
          "we",
          "them",
          "had",
          "been",
          "may",
          "has",
          "his",
          "all",
          "some",
          "any",
          "one",
          "shall",
          "henslow",
          "would"
         ],
         "y": [
          13215,
          10137,
          9578,
          7091,
          4943,
          4750,
          3694,
          3381,
          2951,
          2901,
          2829,
          2666,
          2536,
          2493,
          2190,
          2164,
          2011,
          1953,
          1873,
          1857,
          1750,
          1637,
          1611,
          1481,
          1480,
          1408,
          1401,
          1354,
          1240,
          1164,
          1153,
          1148,
          1117,
          1102,
          1008,
          975,
          961,
          909,
          898,
          892,
          889,
          880,
          873,
          854,
          848,
          831,
          806,
          794,
          748,
          747
         ]
        }
       ],
       "layout": {
        "legend": {
         "bgcolor": "#F5F6F9",
         "font": {
          "color": "#4D5663"
         }
        },
        "paper_bgcolor": "#F5F6F9",
        "plot_bgcolor": "#F5F6F9",
        "template": {
         "data": {
          "bar": [
           {
            "error_x": {
             "color": "#2a3f5f"
            },
            "error_y": {
             "color": "#2a3f5f"
            },
            "marker": {
             "line": {
              "color": "#E5ECF6",
              "width": 0.5
             },
             "pattern": {
              "fillmode": "overlay",
              "size": 10,
              "solidity": 0.2
             }
            },
            "type": "bar"
           }
          ],
          "barpolar": [
           {
            "marker": {
             "line": {
              "color": "#E5ECF6",
              "width": 0.5
             },
             "pattern": {
              "fillmode": "overlay",
              "size": 10,
              "solidity": 0.2
             }
            },
            "type": "barpolar"
           }
          ],
          "carpet": [
           {
            "aaxis": {
             "endlinecolor": "#2a3f5f",
             "gridcolor": "white",
             "linecolor": "white",
             "minorgridcolor": "white",
             "startlinecolor": "#2a3f5f"
            },
            "baxis": {
             "endlinecolor": "#2a3f5f",
             "gridcolor": "white",
             "linecolor": "white",
             "minorgridcolor": "white",
             "startlinecolor": "#2a3f5f"
            },
            "type": "carpet"
           }
          ],
          "choropleth": [
           {
            "colorbar": {
             "outlinewidth": 0,
             "ticks": ""
            },
            "type": "choropleth"
           }
          ],
          "contour": [
           {
            "colorbar": {
             "outlinewidth": 0,
             "ticks": ""
            },
            "colorscale": [
             [
              0,
              "#0d0887"
             ],
             [
              0.1111111111111111,
              "#46039f"
             ],
             [
              0.2222222222222222,
              "#7201a8"
             ],
             [
              0.3333333333333333,
              "#9c179e"
             ],
             [
              0.4444444444444444,
              "#bd3786"
             ],
             [
              0.5555555555555556,
              "#d8576b"
             ],
             [
              0.6666666666666666,
              "#ed7953"
             ],
             [
              0.7777777777777778,
              "#fb9f3a"
             ],
             [
              0.8888888888888888,
              "#fdca26"
             ],
             [
              1,
              "#f0f921"
             ]
            ],
            "type": "contour"
           }
          ],
          "contourcarpet": [
           {
            "colorbar": {
             "outlinewidth": 0,
             "ticks": ""
            },
            "type": "contourcarpet"
           }
          ],
          "heatmap": [
           {
            "colorbar": {
             "outlinewidth": 0,
             "ticks": ""
            },
            "colorscale": [
             [
              0,
              "#0d0887"
             ],
             [
              0.1111111111111111,
              "#46039f"
             ],
             [
              0.2222222222222222,
              "#7201a8"
             ],
             [
              0.3333333333333333,
              "#9c179e"
             ],
             [
              0.4444444444444444,
              "#bd3786"
             ],
             [
              0.5555555555555556,
              "#d8576b"
             ],
             [
              0.6666666666666666,
              "#ed7953"
             ],
             [
              0.7777777777777778,
              "#fb9f3a"
             ],
             [
              0.8888888888888888,
              "#fdca26"
             ],
             [
              1,
              "#f0f921"
             ]
            ],
            "type": "heatmap"
           }
          ],
          "heatmapgl": [
           {
            "colorbar": {
             "outlinewidth": 0,
             "ticks": ""
            },
            "colorscale": [
             [
              0,
              "#0d0887"
             ],
             [
              0.1111111111111111,
              "#46039f"
             ],
             [
              0.2222222222222222,
              "#7201a8"
             ],
             [
              0.3333333333333333,
              "#9c179e"
             ],
             [
              0.4444444444444444,
              "#bd3786"
             ],
             [
              0.5555555555555556,
              "#d8576b"
             ],
             [
              0.6666666666666666,
              "#ed7953"
             ],
             [
              0.7777777777777778,
              "#fb9f3a"
             ],
             [
              0.8888888888888888,
              "#fdca26"
             ],
             [
              1,
              "#f0f921"
             ]
            ],
            "type": "heatmapgl"
           }
          ],
          "histogram": [
           {
            "marker": {
             "pattern": {
              "fillmode": "overlay",
              "size": 10,
              "solidity": 0.2
             }
            },
            "type": "histogram"
           }
          ],
          "histogram2d": [
           {
            "colorbar": {
             "outlinewidth": 0,
             "ticks": ""
            },
            "colorscale": [
             [
              0,
              "#0d0887"
             ],
             [
              0.1111111111111111,
              "#46039f"
             ],
             [
              0.2222222222222222,
              "#7201a8"
             ],
             [
              0.3333333333333333,
              "#9c179e"
             ],
             [
              0.4444444444444444,
              "#bd3786"
             ],
             [
              0.5555555555555556,
              "#d8576b"
             ],
             [
              0.6666666666666666,
              "#ed7953"
             ],
             [
              0.7777777777777778,
              "#fb9f3a"
             ],
             [
              0.8888888888888888,
              "#fdca26"
             ],
             [
              1,
              "#f0f921"
             ]
            ],
            "type": "histogram2d"
           }
          ],
          "histogram2dcontour": [
           {
            "colorbar": {
             "outlinewidth": 0,
             "ticks": ""
            },
            "colorscale": [
             [
              0,
              "#0d0887"
             ],
             [
              0.1111111111111111,
              "#46039f"
             ],
             [
              0.2222222222222222,
              "#7201a8"
             ],
             [
              0.3333333333333333,
              "#9c179e"
             ],
             [
              0.4444444444444444,
              "#bd3786"
             ],
             [
              0.5555555555555556,
              "#d8576b"
             ],
             [
              0.6666666666666666,
              "#ed7953"
             ],
             [
              0.7777777777777778,
              "#fb9f3a"
             ],
             [
              0.8888888888888888,
              "#fdca26"
             ],
             [
              1,
              "#f0f921"
             ]
            ],
            "type": "histogram2dcontour"
           }
          ],
          "mesh3d": [
           {
            "colorbar": {
             "outlinewidth": 0,
             "ticks": ""
            },
            "type": "mesh3d"
           }
          ],
          "parcoords": [
           {
            "line": {
             "colorbar": {
              "outlinewidth": 0,
              "ticks": ""
             }
            },
            "type": "parcoords"
           }
          ],
          "pie": [
           {
            "automargin": true,
            "type": "pie"
           }
          ],
          "scatter": [
           {
            "fillpattern": {
             "fillmode": "overlay",
             "size": 10,
             "solidity": 0.2
            },
            "type": "scatter"
           }
          ],
          "scatter3d": [
           {
            "line": {
             "colorbar": {
              "outlinewidth": 0,
              "ticks": ""
             }
            },
            "marker": {
             "colorbar": {
              "outlinewidth": 0,
              "ticks": ""
             }
            },
            "type": "scatter3d"
           }
          ],
          "scattercarpet": [
           {
            "marker": {
             "colorbar": {
              "outlinewidth": 0,
              "ticks": ""
             }
            },
            "type": "scattercarpet"
           }
          ],
          "scattergeo": [
           {
            "marker": {
             "colorbar": {
              "outlinewidth": 0,
              "ticks": ""
             }
            },
            "type": "scattergeo"
           }
          ],
          "scattergl": [
           {
            "marker": {
             "colorbar": {
              "outlinewidth": 0,
              "ticks": ""
             }
            },
            "type": "scattergl"
           }
          ],
          "scattermapbox": [
           {
            "marker": {
             "colorbar": {
              "outlinewidth": 0,
              "ticks": ""
             }
            },
            "type": "scattermapbox"
           }
          ],
          "scatterpolar": [
           {
            "marker": {
             "colorbar": {
              "outlinewidth": 0,
              "ticks": ""
             }
            },
            "type": "scatterpolar"
           }
          ],
          "scatterpolargl": [
           {
            "marker": {
             "colorbar": {
              "outlinewidth": 0,
              "ticks": ""
             }
            },
            "type": "scatterpolargl"
           }
          ],
          "scatterternary": [
           {
            "marker": {
             "colorbar": {
              "outlinewidth": 0,
              "ticks": ""
             }
            },
            "type": "scatterternary"
           }
          ],
          "surface": [
           {
            "colorbar": {
             "outlinewidth": 0,
             "ticks": ""
            },
            "colorscale": [
             [
              0,
              "#0d0887"
             ],
             [
              0.1111111111111111,
              "#46039f"
             ],
             [
              0.2222222222222222,
              "#7201a8"
             ],
             [
              0.3333333333333333,
              "#9c179e"
             ],
             [
              0.4444444444444444,
              "#bd3786"
             ],
             [
              0.5555555555555556,
              "#d8576b"
             ],
             [
              0.6666666666666666,
              "#ed7953"
             ],
             [
              0.7777777777777778,
              "#fb9f3a"
             ],
             [
              0.8888888888888888,
              "#fdca26"
             ],
             [
              1,
              "#f0f921"
             ]
            ],
            "type": "surface"
           }
          ],
          "table": [
           {
            "cells": {
             "fill": {
              "color": "#EBF0F8"
             },
             "line": {
              "color": "white"
             }
            },
            "header": {
             "fill": {
              "color": "#C8D4E3"
             },
             "line": {
              "color": "white"
             }
            },
            "type": "table"
           }
          ]
         },
         "layout": {
          "annotationdefaults": {
           "arrowcolor": "#2a3f5f",
           "arrowhead": 0,
           "arrowwidth": 1
          },
          "autotypenumbers": "strict",
          "coloraxis": {
           "colorbar": {
            "outlinewidth": 0,
            "ticks": ""
           }
          },
          "colorscale": {
           "diverging": [
            [
             0,
             "#8e0152"
            ],
            [
             0.1,
             "#c51b7d"
            ],
            [
             0.2,
             "#de77ae"
            ],
            [
             0.3,
             "#f1b6da"
            ],
            [
             0.4,
             "#fde0ef"
            ],
            [
             0.5,
             "#f7f7f7"
            ],
            [
             0.6,
             "#e6f5d0"
            ],
            [
             0.7,
             "#b8e186"
            ],
            [
             0.8,
             "#7fbc41"
            ],
            [
             0.9,
             "#4d9221"
            ],
            [
             1,
             "#276419"
            ]
           ],
           "sequential": [
            [
             0,
             "#0d0887"
            ],
            [
             0.1111111111111111,
             "#46039f"
            ],
            [
             0.2222222222222222,
             "#7201a8"
            ],
            [
             0.3333333333333333,
             "#9c179e"
            ],
            [
             0.4444444444444444,
             "#bd3786"
            ],
            [
             0.5555555555555556,
             "#d8576b"
            ],
            [
             0.6666666666666666,
             "#ed7953"
            ],
            [
             0.7777777777777778,
             "#fb9f3a"
            ],
            [
             0.8888888888888888,
             "#fdca26"
            ],
            [
             1,
             "#f0f921"
            ]
           ],
           "sequentialminus": [
            [
             0,
             "#0d0887"
            ],
            [
             0.1111111111111111,
             "#46039f"
            ],
            [
             0.2222222222222222,
             "#7201a8"
            ],
            [
             0.3333333333333333,
             "#9c179e"
            ],
            [
             0.4444444444444444,
             "#bd3786"
            ],
            [
             0.5555555555555556,
             "#d8576b"
            ],
            [
             0.6666666666666666,
             "#ed7953"
            ],
            [
             0.7777777777777778,
             "#fb9f3a"
            ],
            [
             0.8888888888888888,
             "#fdca26"
            ],
            [
             1,
             "#f0f921"
            ]
           ]
          },
          "colorway": [
           "#636efa",
           "#EF553B",
           "#00cc96",
           "#ab63fa",
           "#FFA15A",
           "#19d3f3",
           "#FF6692",
           "#B6E880",
           "#FF97FF",
           "#FECB52"
          ],
          "font": {
           "color": "#2a3f5f"
          },
          "geo": {
           "bgcolor": "white",
           "lakecolor": "white",
           "landcolor": "#E5ECF6",
           "showlakes": true,
           "showland": true,
           "subunitcolor": "white"
          },
          "hoverlabel": {
           "align": "left"
          },
          "hovermode": "closest",
          "mapbox": {
           "style": "light"
          },
          "paper_bgcolor": "white",
          "plot_bgcolor": "#E5ECF6",
          "polar": {
           "angularaxis": {
            "gridcolor": "white",
            "linecolor": "white",
            "ticks": ""
           },
           "bgcolor": "#E5ECF6",
           "radialaxis": {
            "gridcolor": "white",
            "linecolor": "white",
            "ticks": ""
           }
          },
          "scene": {
           "xaxis": {
            "backgroundcolor": "#E5ECF6",
            "gridcolor": "white",
            "gridwidth": 2,
            "linecolor": "white",
            "showbackground": true,
            "ticks": "",
            "zerolinecolor": "white"
           },
           "yaxis": {
            "backgroundcolor": "#E5ECF6",
            "gridcolor": "white",
            "gridwidth": 2,
            "linecolor": "white",
            "showbackground": true,
            "ticks": "",
            "zerolinecolor": "white"
           },
           "zaxis": {
            "backgroundcolor": "#E5ECF6",
            "gridcolor": "white",
            "gridwidth": 2,
            "linecolor": "white",
            "showbackground": true,
            "ticks": "",
            "zerolinecolor": "white"
           }
          },
          "shapedefaults": {
           "line": {
            "color": "#2a3f5f"
           }
          },
          "ternary": {
           "aaxis": {
            "gridcolor": "white",
            "linecolor": "white",
            "ticks": ""
           },
           "baxis": {
            "gridcolor": "white",
            "linecolor": "white",
            "ticks": ""
           },
           "bgcolor": "#E5ECF6",
           "caxis": {
            "gridcolor": "white",
            "linecolor": "white",
            "ticks": ""
           }
          },
          "title": {
           "x": 0.05
          },
          "xaxis": {
           "automargin": true,
           "gridcolor": "white",
           "linecolor": "white",
           "ticks": "",
           "title": {
            "standoff": 15
           },
           "zerolinecolor": "white",
           "zerolinewidth": 2
          },
          "yaxis": {
           "automargin": true,
           "gridcolor": "white",
           "linecolor": "white",
           "ticks": "",
           "title": {
            "standoff": 15
           },
           "zerolinecolor": "white",
           "zerolinewidth": 2
          }
         }
        },
        "title": {
         "font": {
          "color": "#4D5663"
         },
         "text": "Most Regular Words"
        },
        "xaxis": {
         "gridcolor": "#E1E5ED",
         "linecolor": "Black",
         "showgrid": true,
         "tickfont": {
          "color": "#4D5663"
         },
         "title": {
          "font": {
           "color": "#4D5663"
          },
          "text": ""
         },
         "zerolinecolor": "#E1E5ED"
        },
        "yaxis": {
         "gridcolor": "#E1E5ED",
         "linecolor": "Black",
         "showgrid": true,
         "tickfont": {
          "color": "#4D5663"
         },
         "title": {
          "font": {
           "color": "#4D5663"
          },
          "text": "Word Count"
         },
         "zerolinecolor": "#E1E5ED"
        }
       }
      },
      "text/html": [
       "<div>                            <div id=\"2ecb96ad-cb10-40f5-85f0-803c609cf021\" class=\"plotly-graph-div\" style=\"height:525px; width:100%;\"></div>            <script type=\"text/javascript\">                require([\"plotly\"], function(Plotly) {                    window.PLOTLYENV=window.PLOTLYENV || {};\n",
       "                    window.PLOTLYENV.BASE_URL='https://plot.ly';                                    if (document.getElementById(\"2ecb96ad-cb10-40f5-85f0-803c609cf021\")) {                    Plotly.newPlot(                        \"2ecb96ad-cb10-40f5-85f0-803c609cf021\",                        [{\"marker\":{\"color\":\"rgba(255, 153, 51, 0.6)\",\"line\":{\"color\":\"rgba(255, 153, 51, 1.0)\",\"width\":1}},\"name\":\"count\",\"orientation\":\"v\",\"text\":\"\",\"x\":[\"the\",\"to\",\"of\",\"and\",\"in\",\"you\",\"have\",\"my\",\"that\",\"for\",\"be\",\"it\",\"is\",\"as\",\"me\",\"not\",\"your\",\"will\",\"with\",\"at\",\"which\",\"but\",\"on\",\"very\",\"from\",\"this\",\"dear\",\"by\",\"are\",\"am\",\"if\",\"sir\",\"he\",\"so\",\"or\",\"was\",\"we\",\"them\",\"had\",\"been\",\"may\",\"has\",\"his\",\"all\",\"some\",\"any\",\"one\",\"shall\",\"henslow\",\"would\"],\"y\":[13215,10137,9578,7091,4943,4750,3694,3381,2951,2901,2829,2666,2536,2493,2190,2164,2011,1953,1873,1857,1750,1637,1611,1481,1480,1408,1401,1354,1240,1164,1153,1148,1117,1102,1008,975,961,909,898,892,889,880,873,854,848,831,806,794,748,747],\"type\":\"bar\"}],                        {\"legend\":{\"bgcolor\":\"#F5F6F9\",\"font\":{\"color\":\"#4D5663\"}},\"paper_bgcolor\":\"#F5F6F9\",\"plot_bgcolor\":\"#F5F6F9\",\"template\":{\"data\":{\"barpolar\":[{\"marker\":{\"line\":{\"color\":\"#E5ECF6\",\"width\":0.5},\"pattern\":{\"fillmode\":\"overlay\",\"size\":10,\"solidity\":0.2}},\"type\":\"barpolar\"}],\"bar\":[{\"error_x\":{\"color\":\"#2a3f5f\"},\"error_y\":{\"color\":\"#2a3f5f\"},\"marker\":{\"line\":{\"color\":\"#E5ECF6\",\"width\":0.5},\"pattern\":{\"fillmode\":\"overlay\",\"size\":10,\"solidity\":0.2}},\"type\":\"bar\"}],\"carpet\":[{\"aaxis\":{\"endlinecolor\":\"#2a3f5f\",\"gridcolor\":\"white\",\"linecolor\":\"white\",\"minorgridcolor\":\"white\",\"startlinecolor\":\"#2a3f5f\"},\"baxis\":{\"endlinecolor\":\"#2a3f5f\",\"gridcolor\":\"white\",\"linecolor\":\"white\",\"minorgridcolor\":\"white\",\"startlinecolor\":\"#2a3f5f\"},\"type\":\"carpet\"}],\"choropleth\":[{\"colorbar\":{\"outlinewidth\":0,\"ticks\":\"\"},\"type\":\"choropleth\"}],\"contourcarpet\":[{\"colorbar\":{\"outlinewidth\":0,\"ticks\":\"\"},\"type\":\"contourcarpet\"}],\"contour\":[{\"colorbar\":{\"outlinewidth\":0,\"ticks\":\"\"},\"colorscale\":[[0.0,\"#0d0887\"],[0.1111111111111111,\"#46039f\"],[0.2222222222222222,\"#7201a8\"],[0.3333333333333333,\"#9c179e\"],[0.4444444444444444,\"#bd3786\"],[0.5555555555555556,\"#d8576b\"],[0.6666666666666666,\"#ed7953\"],[0.7777777777777778,\"#fb9f3a\"],[0.8888888888888888,\"#fdca26\"],[1.0,\"#f0f921\"]],\"type\":\"contour\"}],\"heatmapgl\":[{\"colorbar\":{\"outlinewidth\":0,\"ticks\":\"\"},\"colorscale\":[[0.0,\"#0d0887\"],[0.1111111111111111,\"#46039f\"],[0.2222222222222222,\"#7201a8\"],[0.3333333333333333,\"#9c179e\"],[0.4444444444444444,\"#bd3786\"],[0.5555555555555556,\"#d8576b\"],[0.6666666666666666,\"#ed7953\"],[0.7777777777777778,\"#fb9f3a\"],[0.8888888888888888,\"#fdca26\"],[1.0,\"#f0f921\"]],\"type\":\"heatmapgl\"}],\"heatmap\":[{\"colorbar\":{\"outlinewidth\":0,\"ticks\":\"\"},\"colorscale\":[[0.0,\"#0d0887\"],[0.1111111111111111,\"#46039f\"],[0.2222222222222222,\"#7201a8\"],[0.3333333333333333,\"#9c179e\"],[0.4444444444444444,\"#bd3786\"],[0.5555555555555556,\"#d8576b\"],[0.6666666666666666,\"#ed7953\"],[0.7777777777777778,\"#fb9f3a\"],[0.8888888888888888,\"#fdca26\"],[1.0,\"#f0f921\"]],\"type\":\"heatmap\"}],\"histogram2dcontour\":[{\"colorbar\":{\"outlinewidth\":0,\"ticks\":\"\"},\"colorscale\":[[0.0,\"#0d0887\"],[0.1111111111111111,\"#46039f\"],[0.2222222222222222,\"#7201a8\"],[0.3333333333333333,\"#9c179e\"],[0.4444444444444444,\"#bd3786\"],[0.5555555555555556,\"#d8576b\"],[0.6666666666666666,\"#ed7953\"],[0.7777777777777778,\"#fb9f3a\"],[0.8888888888888888,\"#fdca26\"],[1.0,\"#f0f921\"]],\"type\":\"histogram2dcontour\"}],\"histogram2d\":[{\"colorbar\":{\"outlinewidth\":0,\"ticks\":\"\"},\"colorscale\":[[0.0,\"#0d0887\"],[0.1111111111111111,\"#46039f\"],[0.2222222222222222,\"#7201a8\"],[0.3333333333333333,\"#9c179e\"],[0.4444444444444444,\"#bd3786\"],[0.5555555555555556,\"#d8576b\"],[0.6666666666666666,\"#ed7953\"],[0.7777777777777778,\"#fb9f3a\"],[0.8888888888888888,\"#fdca26\"],[1.0,\"#f0f921\"]],\"type\":\"histogram2d\"}],\"histogram\":[{\"marker\":{\"pattern\":{\"fillmode\":\"overlay\",\"size\":10,\"solidity\":0.2}},\"type\":\"histogram\"}],\"mesh3d\":[{\"colorbar\":{\"outlinewidth\":0,\"ticks\":\"\"},\"type\":\"mesh3d\"}],\"parcoords\":[{\"line\":{\"colorbar\":{\"outlinewidth\":0,\"ticks\":\"\"}},\"type\":\"parcoords\"}],\"pie\":[{\"automargin\":true,\"type\":\"pie\"}],\"scatter3d\":[{\"line\":{\"colorbar\":{\"outlinewidth\":0,\"ticks\":\"\"}},\"marker\":{\"colorbar\":{\"outlinewidth\":0,\"ticks\":\"\"}},\"type\":\"scatter3d\"}],\"scattercarpet\":[{\"marker\":{\"colorbar\":{\"outlinewidth\":0,\"ticks\":\"\"}},\"type\":\"scattercarpet\"}],\"scattergeo\":[{\"marker\":{\"colorbar\":{\"outlinewidth\":0,\"ticks\":\"\"}},\"type\":\"scattergeo\"}],\"scattergl\":[{\"marker\":{\"colorbar\":{\"outlinewidth\":0,\"ticks\":\"\"}},\"type\":\"scattergl\"}],\"scattermapbox\":[{\"marker\":{\"colorbar\":{\"outlinewidth\":0,\"ticks\":\"\"}},\"type\":\"scattermapbox\"}],\"scatterpolargl\":[{\"marker\":{\"colorbar\":{\"outlinewidth\":0,\"ticks\":\"\"}},\"type\":\"scatterpolargl\"}],\"scatterpolar\":[{\"marker\":{\"colorbar\":{\"outlinewidth\":0,\"ticks\":\"\"}},\"type\":\"scatterpolar\"}],\"scatter\":[{\"fillpattern\":{\"fillmode\":\"overlay\",\"size\":10,\"solidity\":0.2},\"type\":\"scatter\"}],\"scatterternary\":[{\"marker\":{\"colorbar\":{\"outlinewidth\":0,\"ticks\":\"\"}},\"type\":\"scatterternary\"}],\"surface\":[{\"colorbar\":{\"outlinewidth\":0,\"ticks\":\"\"},\"colorscale\":[[0.0,\"#0d0887\"],[0.1111111111111111,\"#46039f\"],[0.2222222222222222,\"#7201a8\"],[0.3333333333333333,\"#9c179e\"],[0.4444444444444444,\"#bd3786\"],[0.5555555555555556,\"#d8576b\"],[0.6666666666666666,\"#ed7953\"],[0.7777777777777778,\"#fb9f3a\"],[0.8888888888888888,\"#fdca26\"],[1.0,\"#f0f921\"]],\"type\":\"surface\"}],\"table\":[{\"cells\":{\"fill\":{\"color\":\"#EBF0F8\"},\"line\":{\"color\":\"white\"}},\"header\":{\"fill\":{\"color\":\"#C8D4E3\"},\"line\":{\"color\":\"white\"}},\"type\":\"table\"}]},\"layout\":{\"annotationdefaults\":{\"arrowcolor\":\"#2a3f5f\",\"arrowhead\":0,\"arrowwidth\":1},\"autotypenumbers\":\"strict\",\"coloraxis\":{\"colorbar\":{\"outlinewidth\":0,\"ticks\":\"\"}},\"colorscale\":{\"diverging\":[[0,\"#8e0152\"],[0.1,\"#c51b7d\"],[0.2,\"#de77ae\"],[0.3,\"#f1b6da\"],[0.4,\"#fde0ef\"],[0.5,\"#f7f7f7\"],[0.6,\"#e6f5d0\"],[0.7,\"#b8e186\"],[0.8,\"#7fbc41\"],[0.9,\"#4d9221\"],[1,\"#276419\"]],\"sequential\":[[0.0,\"#0d0887\"],[0.1111111111111111,\"#46039f\"],[0.2222222222222222,\"#7201a8\"],[0.3333333333333333,\"#9c179e\"],[0.4444444444444444,\"#bd3786\"],[0.5555555555555556,\"#d8576b\"],[0.6666666666666666,\"#ed7953\"],[0.7777777777777778,\"#fb9f3a\"],[0.8888888888888888,\"#fdca26\"],[1.0,\"#f0f921\"]],\"sequentialminus\":[[0.0,\"#0d0887\"],[0.1111111111111111,\"#46039f\"],[0.2222222222222222,\"#7201a8\"],[0.3333333333333333,\"#9c179e\"],[0.4444444444444444,\"#bd3786\"],[0.5555555555555556,\"#d8576b\"],[0.6666666666666666,\"#ed7953\"],[0.7777777777777778,\"#fb9f3a\"],[0.8888888888888888,\"#fdca26\"],[1.0,\"#f0f921\"]]},\"colorway\":[\"#636efa\",\"#EF553B\",\"#00cc96\",\"#ab63fa\",\"#FFA15A\",\"#19d3f3\",\"#FF6692\",\"#B6E880\",\"#FF97FF\",\"#FECB52\"],\"font\":{\"color\":\"#2a3f5f\"},\"geo\":{\"bgcolor\":\"white\",\"lakecolor\":\"white\",\"landcolor\":\"#E5ECF6\",\"showlakes\":true,\"showland\":true,\"subunitcolor\":\"white\"},\"hoverlabel\":{\"align\":\"left\"},\"hovermode\":\"closest\",\"mapbox\":{\"style\":\"light\"},\"paper_bgcolor\":\"white\",\"plot_bgcolor\":\"#E5ECF6\",\"polar\":{\"angularaxis\":{\"gridcolor\":\"white\",\"linecolor\":\"white\",\"ticks\":\"\"},\"bgcolor\":\"#E5ECF6\",\"radialaxis\":{\"gridcolor\":\"white\",\"linecolor\":\"white\",\"ticks\":\"\"}},\"scene\":{\"xaxis\":{\"backgroundcolor\":\"#E5ECF6\",\"gridcolor\":\"white\",\"gridwidth\":2,\"linecolor\":\"white\",\"showbackground\":true,\"ticks\":\"\",\"zerolinecolor\":\"white\"},\"yaxis\":{\"backgroundcolor\":\"#E5ECF6\",\"gridcolor\":\"white\",\"gridwidth\":2,\"linecolor\":\"white\",\"showbackground\":true,\"ticks\":\"\",\"zerolinecolor\":\"white\"},\"zaxis\":{\"backgroundcolor\":\"#E5ECF6\",\"gridcolor\":\"white\",\"gridwidth\":2,\"linecolor\":\"white\",\"showbackground\":true,\"ticks\":\"\",\"zerolinecolor\":\"white\"}},\"shapedefaults\":{\"line\":{\"color\":\"#2a3f5f\"}},\"ternary\":{\"aaxis\":{\"gridcolor\":\"white\",\"linecolor\":\"white\",\"ticks\":\"\"},\"baxis\":{\"gridcolor\":\"white\",\"linecolor\":\"white\",\"ticks\":\"\"},\"bgcolor\":\"#E5ECF6\",\"caxis\":{\"gridcolor\":\"white\",\"linecolor\":\"white\",\"ticks\":\"\"}},\"title\":{\"x\":0.05},\"xaxis\":{\"automargin\":true,\"gridcolor\":\"white\",\"linecolor\":\"white\",\"ticks\":\"\",\"title\":{\"standoff\":15},\"zerolinecolor\":\"white\",\"zerolinewidth\":2},\"yaxis\":{\"automargin\":true,\"gridcolor\":\"white\",\"linecolor\":\"white\",\"ticks\":\"\",\"title\":{\"standoff\":15},\"zerolinecolor\":\"white\",\"zerolinewidth\":2}}},\"title\":{\"font\":{\"color\":\"#4D5663\"},\"text\":\"Most Regular Words\"},\"xaxis\":{\"gridcolor\":\"#E1E5ED\",\"linecolor\":\"Black\",\"showgrid\":true,\"tickfont\":{\"color\":\"#4D5663\"},\"title\":{\"font\":{\"color\":\"#4D5663\"},\"text\":\"\"},\"zerolinecolor\":\"#E1E5ED\"},\"yaxis\":{\"gridcolor\":\"#E1E5ED\",\"linecolor\":\"Black\",\"showgrid\":true,\"tickfont\":{\"color\":\"#4D5663\"},\"title\":{\"font\":{\"color\":\"#4D5663\"},\"text\":\"Word Count\"},\"zerolinecolor\":\"#E1E5ED\"}},                        {\"showLink\": true, \"linkText\": \"Export to plot.ly\", \"plotlyServerURL\": \"https://plot.ly\", \"responsive\": true}                    ).then(function(){\n",
       "                            \n",
       "var gd = document.getElementById('2ecb96ad-cb10-40f5-85f0-803c609cf021');\n",
       "var x = new MutationObserver(function (mutations, observer) {{\n",
       "        var display = window.getComputedStyle(gd).display;\n",
       "        if (!display || display === 'none') {{\n",
       "            console.log([gd, 'removed!']);\n",
       "            Plotly.purge(gd);\n",
       "            observer.disconnect();\n",
       "        }}\n",
       "}});\n",
       "\n",
       "// Listen for the removal of the full notebook cells\n",
       "var notebookContainer = gd.closest('#notebook-container');\n",
       "if (notebookContainer) {{\n",
       "    x.observe(notebookContainer, {childList: true});\n",
       "}}\n",
       "\n",
       "// Listen for the clearing of the current output cell\n",
       "var outputEl = gd.closest('.output');\n",
       "if (outputEl) {{\n",
       "    x.observe(outputEl, {childList: true});\n",
       "}}\n",
       "\n",
       "                        })                };                });            </script>        </div>"
      ]
     },
     "metadata": {},
     "output_type": "display_data"
    }
   ],
   "source": [
    "word_frequency_plot(df)"
   ]
  },
  {
   "cell_type": "markdown",
   "id": "a1c65597",
   "metadata": {},
   "source": [
    "Send one of the dataframes to the doc_length_plot function to get a bar plot showing the distribution of the corpus in terms of document length."
   ]
  },
  {
   "cell_type": "code",
   "execution_count": 26,
   "id": "fdbd2f66",
   "metadata": {
    "scrolled": true
   },
   "outputs": [
    {
     "data": {
      "application/vnd.plotly.v1+json": {
       "config": {
        "linkText": "Export to plot.ly",
        "plotlyServerURL": "https://plot.ly",
        "showLink": true
       },
       "data": [
        {
         "marker": {
          "color": "rgba(255, 153, 51, 0.6)",
          "line": {
           "color": "rgba(255, 153, 51, 1.0)",
           "width": 1
          }
         },
         "name": "count",
         "orientation": "v",
         "text": "",
         "type": "bar",
         "x": [
          5,
          6,
          12,
          13,
          15,
          16,
          17,
          19,
          24,
          26,
          27,
          28,
          29,
          30,
          31,
          32,
          33,
          34,
          35,
          36,
          37,
          38,
          40,
          41,
          42,
          43,
          44,
          45,
          46,
          47,
          48,
          49,
          50,
          51,
          52,
          53,
          54,
          55,
          56,
          57,
          58,
          59,
          60,
          61,
          63,
          64,
          65,
          66,
          67,
          68,
          69,
          70,
          71,
          72,
          73,
          74,
          75,
          76,
          77,
          78,
          79,
          80,
          81,
          82,
          83,
          84,
          85,
          86,
          87,
          88,
          89,
          90,
          91,
          92,
          93,
          94,
          95,
          96,
          97,
          98,
          99,
          100,
          101,
          102,
          103,
          104,
          105,
          106,
          107,
          108,
          109,
          110,
          111,
          112,
          113,
          114,
          115,
          116,
          117,
          118,
          119,
          120,
          121,
          122,
          123,
          124,
          125,
          126,
          127,
          128,
          129,
          130,
          131,
          132,
          133,
          134,
          135,
          136,
          137,
          139,
          140,
          141,
          142,
          143,
          144,
          145,
          146,
          147,
          148,
          149,
          150,
          151,
          152,
          153,
          154,
          155,
          156,
          157,
          158,
          159,
          160,
          161,
          162,
          163,
          164,
          165,
          166,
          167,
          168,
          169,
          170,
          171,
          172,
          173,
          174,
          175,
          176,
          177,
          178,
          179,
          180,
          182,
          183,
          184,
          185,
          186,
          187,
          188,
          189,
          190,
          191,
          192,
          193,
          194,
          195,
          196,
          197,
          199,
          200,
          201,
          202,
          203,
          204,
          205,
          206,
          207,
          208,
          209,
          210,
          211,
          212,
          213,
          214,
          215,
          216,
          217,
          218,
          219,
          221,
          222,
          223,
          224,
          225,
          226,
          229,
          230,
          231,
          232,
          233,
          236,
          237,
          238,
          239,
          240,
          241,
          242,
          244,
          245,
          246,
          247,
          248,
          249,
          250,
          251,
          252,
          253,
          255,
          256,
          257,
          258,
          259,
          260,
          261,
          262,
          263,
          265,
          266,
          268,
          269,
          270,
          271,
          272,
          273,
          274,
          275,
          276,
          277,
          278,
          279,
          280,
          281,
          282,
          283,
          284,
          285,
          286,
          287,
          289,
          290,
          291,
          293,
          294,
          295,
          296,
          297,
          299,
          300,
          301,
          303,
          304,
          306,
          308,
          310,
          311,
          312,
          313,
          314,
          315,
          316,
          317,
          318,
          319,
          320,
          321,
          323,
          324,
          325,
          326,
          328,
          330,
          331,
          332,
          333,
          334,
          335,
          336,
          341,
          342,
          343,
          344,
          345,
          346,
          347,
          348,
          351,
          352,
          353,
          355,
          356,
          358,
          363,
          364,
          366,
          367,
          371,
          372,
          373,
          374,
          375,
          377,
          378,
          379,
          380,
          381,
          382,
          383,
          385,
          387,
          388,
          389,
          390,
          391,
          394,
          396,
          397,
          398,
          400,
          401,
          402,
          404,
          405,
          408,
          409,
          410,
          413,
          415,
          416,
          417,
          418,
          419,
          423,
          424,
          428,
          429,
          431,
          432,
          433,
          434,
          436,
          439,
          440,
          442,
          443,
          444,
          445,
          446,
          448,
          454,
          455,
          458,
          461,
          463,
          464,
          466,
          468,
          469,
          470,
          475,
          481,
          482,
          484,
          487,
          488,
          489,
          491,
          492,
          496,
          497,
          498,
          501,
          505,
          511,
          512,
          515,
          517,
          518,
          519,
          520,
          521,
          522,
          525,
          527,
          534,
          537,
          541,
          542,
          544,
          545,
          546,
          551,
          555,
          556,
          566,
          568,
          569,
          574,
          576,
          581,
          582,
          584,
          589,
          594,
          595,
          597,
          602,
          603,
          604,
          606,
          608,
          612,
          620,
          621,
          627,
          637,
          642,
          646,
          659,
          660,
          663,
          669,
          673,
          674,
          675,
          678,
          685,
          690,
          697,
          721,
          739,
          740,
          752,
          756,
          760,
          773,
          782,
          785,
          797,
          803,
          815,
          820,
          823,
          835,
          841,
          849,
          860,
          862,
          868,
          869,
          887,
          889,
          932,
          965,
          1016,
          1029,
          1046,
          1095,
          1142,
          1203
         ],
         "y": [
          3,
          1,
          1,
          1,
          1,
          2,
          1,
          3,
          2,
          1,
          1,
          4,
          1,
          1,
          5,
          4,
          3,
          3,
          2,
          2,
          3,
          4,
          1,
          2,
          3,
          8,
          3,
          4,
          4,
          2,
          3,
          1,
          3,
          1,
          6,
          1,
          4,
          3,
          4,
          6,
          3,
          6,
          2,
          6,
          5,
          2,
          2,
          5,
          4,
          3,
          2,
          2,
          3,
          7,
          6,
          3,
          3,
          4,
          3,
          4,
          2,
          7,
          6,
          4,
          3,
          7,
          6,
          4,
          4,
          7,
          5,
          5,
          6,
          3,
          1,
          4,
          6,
          4,
          7,
          6,
          4,
          4,
          4,
          7,
          4,
          5,
          5,
          2,
          3,
          1,
          4,
          4,
          1,
          6,
          4,
          6,
          2,
          4,
          5,
          3,
          4,
          6,
          1,
          4,
          4,
          4,
          2,
          9,
          5,
          2,
          1,
          2,
          4,
          7,
          2,
          6,
          7,
          5,
          4,
          3,
          3,
          4,
          1,
          3,
          1,
          2,
          3,
          2,
          4,
          4,
          6,
          6,
          1,
          2,
          1,
          4,
          3,
          3,
          3,
          4,
          2,
          4,
          2,
          5,
          3,
          3,
          3,
          2,
          5,
          5,
          2,
          5,
          3,
          3,
          4,
          3,
          2,
          2,
          5,
          2,
          1,
          3,
          3,
          1,
          3,
          4,
          4,
          1,
          7,
          2,
          6,
          4,
          2,
          4,
          4,
          3,
          3,
          5,
          2,
          8,
          3,
          6,
          3,
          3,
          1,
          1,
          3,
          4,
          4,
          5,
          3,
          2,
          6,
          3,
          3,
          2,
          1,
          5,
          4,
          1,
          2,
          2,
          3,
          2,
          1,
          5,
          3,
          3,
          1,
          1,
          2,
          1,
          3,
          3,
          2,
          3,
          3,
          2,
          2,
          3,
          3,
          1,
          2,
          5,
          2,
          2,
          2,
          2,
          3,
          1,
          4,
          2,
          1,
          2,
          1,
          4,
          1,
          1,
          1,
          3,
          4,
          2,
          3,
          1,
          1,
          5,
          1,
          1,
          1,
          1,
          1,
          3,
          3,
          1,
          3,
          2,
          1,
          2,
          1,
          3,
          2,
          1,
          1,
          2,
          2,
          2,
          1,
          3,
          2,
          4,
          2,
          4,
          4,
          2,
          4,
          1,
          3,
          1,
          4,
          2,
          1,
          1,
          1,
          2,
          2,
          2,
          1,
          2,
          1,
          2,
          2,
          2,
          1,
          3,
          3,
          3,
          1,
          1,
          3,
          2,
          1,
          1,
          2,
          1,
          1,
          1,
          3,
          4,
          3,
          1,
          1,
          1,
          1,
          2,
          4,
          1,
          1,
          3,
          1,
          1,
          2,
          1,
          1,
          2,
          1,
          1,
          1,
          1,
          1,
          1,
          1,
          2,
          1,
          1,
          3,
          1,
          1,
          2,
          1,
          2,
          1,
          2,
          1,
          3,
          1,
          1,
          3,
          1,
          1,
          1,
          1,
          1,
          1,
          2,
          1,
          2,
          2,
          2,
          2,
          2,
          1,
          1,
          1,
          1,
          1,
          1,
          1,
          1,
          1,
          1,
          2,
          1,
          1,
          1,
          1,
          2,
          2,
          1,
          2,
          3,
          3,
          1,
          1,
          2,
          2,
          1,
          1,
          1,
          1,
          1,
          1,
          1,
          1,
          1,
          1,
          2,
          1,
          2,
          1,
          1,
          2,
          1,
          1,
          1,
          2,
          1,
          1,
          1,
          1,
          1,
          1,
          1,
          1,
          1,
          1,
          1,
          1,
          1,
          1,
          4,
          1,
          1,
          1,
          1,
          1,
          3,
          1,
          1,
          1,
          1,
          1,
          1,
          1,
          1,
          1,
          1,
          1,
          1,
          1,
          1,
          1,
          1,
          1,
          1,
          1,
          1,
          1,
          1,
          1,
          1,
          1,
          1,
          1,
          1,
          1,
          1,
          1,
          1,
          1,
          1,
          1,
          1,
          1,
          1,
          1,
          1,
          1,
          1,
          1,
          1,
          1,
          1,
          1,
          1,
          2,
          1,
          2,
          1
         ]
        }
       ],
       "layout": {
        "legend": {
         "bgcolor": "#F5F6F9",
         "font": {
          "color": "#4D5663"
         }
        },
        "paper_bgcolor": "#F5F6F9",
        "plot_bgcolor": "#F5F6F9",
        "template": {
         "data": {
          "bar": [
           {
            "error_x": {
             "color": "#2a3f5f"
            },
            "error_y": {
             "color": "#2a3f5f"
            },
            "marker": {
             "line": {
              "color": "#E5ECF6",
              "width": 0.5
             },
             "pattern": {
              "fillmode": "overlay",
              "size": 10,
              "solidity": 0.2
             }
            },
            "type": "bar"
           }
          ],
          "barpolar": [
           {
            "marker": {
             "line": {
              "color": "#E5ECF6",
              "width": 0.5
             },
             "pattern": {
              "fillmode": "overlay",
              "size": 10,
              "solidity": 0.2
             }
            },
            "type": "barpolar"
           }
          ],
          "carpet": [
           {
            "aaxis": {
             "endlinecolor": "#2a3f5f",
             "gridcolor": "white",
             "linecolor": "white",
             "minorgridcolor": "white",
             "startlinecolor": "#2a3f5f"
            },
            "baxis": {
             "endlinecolor": "#2a3f5f",
             "gridcolor": "white",
             "linecolor": "white",
             "minorgridcolor": "white",
             "startlinecolor": "#2a3f5f"
            },
            "type": "carpet"
           }
          ],
          "choropleth": [
           {
            "colorbar": {
             "outlinewidth": 0,
             "ticks": ""
            },
            "type": "choropleth"
           }
          ],
          "contour": [
           {
            "colorbar": {
             "outlinewidth": 0,
             "ticks": ""
            },
            "colorscale": [
             [
              0,
              "#0d0887"
             ],
             [
              0.1111111111111111,
              "#46039f"
             ],
             [
              0.2222222222222222,
              "#7201a8"
             ],
             [
              0.3333333333333333,
              "#9c179e"
             ],
             [
              0.4444444444444444,
              "#bd3786"
             ],
             [
              0.5555555555555556,
              "#d8576b"
             ],
             [
              0.6666666666666666,
              "#ed7953"
             ],
             [
              0.7777777777777778,
              "#fb9f3a"
             ],
             [
              0.8888888888888888,
              "#fdca26"
             ],
             [
              1,
              "#f0f921"
             ]
            ],
            "type": "contour"
           }
          ],
          "contourcarpet": [
           {
            "colorbar": {
             "outlinewidth": 0,
             "ticks": ""
            },
            "type": "contourcarpet"
           }
          ],
          "heatmap": [
           {
            "colorbar": {
             "outlinewidth": 0,
             "ticks": ""
            },
            "colorscale": [
             [
              0,
              "#0d0887"
             ],
             [
              0.1111111111111111,
              "#46039f"
             ],
             [
              0.2222222222222222,
              "#7201a8"
             ],
             [
              0.3333333333333333,
              "#9c179e"
             ],
             [
              0.4444444444444444,
              "#bd3786"
             ],
             [
              0.5555555555555556,
              "#d8576b"
             ],
             [
              0.6666666666666666,
              "#ed7953"
             ],
             [
              0.7777777777777778,
              "#fb9f3a"
             ],
             [
              0.8888888888888888,
              "#fdca26"
             ],
             [
              1,
              "#f0f921"
             ]
            ],
            "type": "heatmap"
           }
          ],
          "heatmapgl": [
           {
            "colorbar": {
             "outlinewidth": 0,
             "ticks": ""
            },
            "colorscale": [
             [
              0,
              "#0d0887"
             ],
             [
              0.1111111111111111,
              "#46039f"
             ],
             [
              0.2222222222222222,
              "#7201a8"
             ],
             [
              0.3333333333333333,
              "#9c179e"
             ],
             [
              0.4444444444444444,
              "#bd3786"
             ],
             [
              0.5555555555555556,
              "#d8576b"
             ],
             [
              0.6666666666666666,
              "#ed7953"
             ],
             [
              0.7777777777777778,
              "#fb9f3a"
             ],
             [
              0.8888888888888888,
              "#fdca26"
             ],
             [
              1,
              "#f0f921"
             ]
            ],
            "type": "heatmapgl"
           }
          ],
          "histogram": [
           {
            "marker": {
             "pattern": {
              "fillmode": "overlay",
              "size": 10,
              "solidity": 0.2
             }
            },
            "type": "histogram"
           }
          ],
          "histogram2d": [
           {
            "colorbar": {
             "outlinewidth": 0,
             "ticks": ""
            },
            "colorscale": [
             [
              0,
              "#0d0887"
             ],
             [
              0.1111111111111111,
              "#46039f"
             ],
             [
              0.2222222222222222,
              "#7201a8"
             ],
             [
              0.3333333333333333,
              "#9c179e"
             ],
             [
              0.4444444444444444,
              "#bd3786"
             ],
             [
              0.5555555555555556,
              "#d8576b"
             ],
             [
              0.6666666666666666,
              "#ed7953"
             ],
             [
              0.7777777777777778,
              "#fb9f3a"
             ],
             [
              0.8888888888888888,
              "#fdca26"
             ],
             [
              1,
              "#f0f921"
             ]
            ],
            "type": "histogram2d"
           }
          ],
          "histogram2dcontour": [
           {
            "colorbar": {
             "outlinewidth": 0,
             "ticks": ""
            },
            "colorscale": [
             [
              0,
              "#0d0887"
             ],
             [
              0.1111111111111111,
              "#46039f"
             ],
             [
              0.2222222222222222,
              "#7201a8"
             ],
             [
              0.3333333333333333,
              "#9c179e"
             ],
             [
              0.4444444444444444,
              "#bd3786"
             ],
             [
              0.5555555555555556,
              "#d8576b"
             ],
             [
              0.6666666666666666,
              "#ed7953"
             ],
             [
              0.7777777777777778,
              "#fb9f3a"
             ],
             [
              0.8888888888888888,
              "#fdca26"
             ],
             [
              1,
              "#f0f921"
             ]
            ],
            "type": "histogram2dcontour"
           }
          ],
          "mesh3d": [
           {
            "colorbar": {
             "outlinewidth": 0,
             "ticks": ""
            },
            "type": "mesh3d"
           }
          ],
          "parcoords": [
           {
            "line": {
             "colorbar": {
              "outlinewidth": 0,
              "ticks": ""
             }
            },
            "type": "parcoords"
           }
          ],
          "pie": [
           {
            "automargin": true,
            "type": "pie"
           }
          ],
          "scatter": [
           {
            "fillpattern": {
             "fillmode": "overlay",
             "size": 10,
             "solidity": 0.2
            },
            "type": "scatter"
           }
          ],
          "scatter3d": [
           {
            "line": {
             "colorbar": {
              "outlinewidth": 0,
              "ticks": ""
             }
            },
            "marker": {
             "colorbar": {
              "outlinewidth": 0,
              "ticks": ""
             }
            },
            "type": "scatter3d"
           }
          ],
          "scattercarpet": [
           {
            "marker": {
             "colorbar": {
              "outlinewidth": 0,
              "ticks": ""
             }
            },
            "type": "scattercarpet"
           }
          ],
          "scattergeo": [
           {
            "marker": {
             "colorbar": {
              "outlinewidth": 0,
              "ticks": ""
             }
            },
            "type": "scattergeo"
           }
          ],
          "scattergl": [
           {
            "marker": {
             "colorbar": {
              "outlinewidth": 0,
              "ticks": ""
             }
            },
            "type": "scattergl"
           }
          ],
          "scattermapbox": [
           {
            "marker": {
             "colorbar": {
              "outlinewidth": 0,
              "ticks": ""
             }
            },
            "type": "scattermapbox"
           }
          ],
          "scatterpolar": [
           {
            "marker": {
             "colorbar": {
              "outlinewidth": 0,
              "ticks": ""
             }
            },
            "type": "scatterpolar"
           }
          ],
          "scatterpolargl": [
           {
            "marker": {
             "colorbar": {
              "outlinewidth": 0,
              "ticks": ""
             }
            },
            "type": "scatterpolargl"
           }
          ],
          "scatterternary": [
           {
            "marker": {
             "colorbar": {
              "outlinewidth": 0,
              "ticks": ""
             }
            },
            "type": "scatterternary"
           }
          ],
          "surface": [
           {
            "colorbar": {
             "outlinewidth": 0,
             "ticks": ""
            },
            "colorscale": [
             [
              0,
              "#0d0887"
             ],
             [
              0.1111111111111111,
              "#46039f"
             ],
             [
              0.2222222222222222,
              "#7201a8"
             ],
             [
              0.3333333333333333,
              "#9c179e"
             ],
             [
              0.4444444444444444,
              "#bd3786"
             ],
             [
              0.5555555555555556,
              "#d8576b"
             ],
             [
              0.6666666666666666,
              "#ed7953"
             ],
             [
              0.7777777777777778,
              "#fb9f3a"
             ],
             [
              0.8888888888888888,
              "#fdca26"
             ],
             [
              1,
              "#f0f921"
             ]
            ],
            "type": "surface"
           }
          ],
          "table": [
           {
            "cells": {
             "fill": {
              "color": "#EBF0F8"
             },
             "line": {
              "color": "white"
             }
            },
            "header": {
             "fill": {
              "color": "#C8D4E3"
             },
             "line": {
              "color": "white"
             }
            },
            "type": "table"
           }
          ]
         },
         "layout": {
          "annotationdefaults": {
           "arrowcolor": "#2a3f5f",
           "arrowhead": 0,
           "arrowwidth": 1
          },
          "autotypenumbers": "strict",
          "coloraxis": {
           "colorbar": {
            "outlinewidth": 0,
            "ticks": ""
           }
          },
          "colorscale": {
           "diverging": [
            [
             0,
             "#8e0152"
            ],
            [
             0.1,
             "#c51b7d"
            ],
            [
             0.2,
             "#de77ae"
            ],
            [
             0.3,
             "#f1b6da"
            ],
            [
             0.4,
             "#fde0ef"
            ],
            [
             0.5,
             "#f7f7f7"
            ],
            [
             0.6,
             "#e6f5d0"
            ],
            [
             0.7,
             "#b8e186"
            ],
            [
             0.8,
             "#7fbc41"
            ],
            [
             0.9,
             "#4d9221"
            ],
            [
             1,
             "#276419"
            ]
           ],
           "sequential": [
            [
             0,
             "#0d0887"
            ],
            [
             0.1111111111111111,
             "#46039f"
            ],
            [
             0.2222222222222222,
             "#7201a8"
            ],
            [
             0.3333333333333333,
             "#9c179e"
            ],
            [
             0.4444444444444444,
             "#bd3786"
            ],
            [
             0.5555555555555556,
             "#d8576b"
            ],
            [
             0.6666666666666666,
             "#ed7953"
            ],
            [
             0.7777777777777778,
             "#fb9f3a"
            ],
            [
             0.8888888888888888,
             "#fdca26"
            ],
            [
             1,
             "#f0f921"
            ]
           ],
           "sequentialminus": [
            [
             0,
             "#0d0887"
            ],
            [
             0.1111111111111111,
             "#46039f"
            ],
            [
             0.2222222222222222,
             "#7201a8"
            ],
            [
             0.3333333333333333,
             "#9c179e"
            ],
            [
             0.4444444444444444,
             "#bd3786"
            ],
            [
             0.5555555555555556,
             "#d8576b"
            ],
            [
             0.6666666666666666,
             "#ed7953"
            ],
            [
             0.7777777777777778,
             "#fb9f3a"
            ],
            [
             0.8888888888888888,
             "#fdca26"
            ],
            [
             1,
             "#f0f921"
            ]
           ]
          },
          "colorway": [
           "#636efa",
           "#EF553B",
           "#00cc96",
           "#ab63fa",
           "#FFA15A",
           "#19d3f3",
           "#FF6692",
           "#B6E880",
           "#FF97FF",
           "#FECB52"
          ],
          "font": {
           "color": "#2a3f5f"
          },
          "geo": {
           "bgcolor": "white",
           "lakecolor": "white",
           "landcolor": "#E5ECF6",
           "showlakes": true,
           "showland": true,
           "subunitcolor": "white"
          },
          "hoverlabel": {
           "align": "left"
          },
          "hovermode": "closest",
          "mapbox": {
           "style": "light"
          },
          "paper_bgcolor": "white",
          "plot_bgcolor": "#E5ECF6",
          "polar": {
           "angularaxis": {
            "gridcolor": "white",
            "linecolor": "white",
            "ticks": ""
           },
           "bgcolor": "#E5ECF6",
           "radialaxis": {
            "gridcolor": "white",
            "linecolor": "white",
            "ticks": ""
           }
          },
          "scene": {
           "xaxis": {
            "backgroundcolor": "#E5ECF6",
            "gridcolor": "white",
            "gridwidth": 2,
            "linecolor": "white",
            "showbackground": true,
            "ticks": "",
            "zerolinecolor": "white"
           },
           "yaxis": {
            "backgroundcolor": "#E5ECF6",
            "gridcolor": "white",
            "gridwidth": 2,
            "linecolor": "white",
            "showbackground": true,
            "ticks": "",
            "zerolinecolor": "white"
           },
           "zaxis": {
            "backgroundcolor": "#E5ECF6",
            "gridcolor": "white",
            "gridwidth": 2,
            "linecolor": "white",
            "showbackground": true,
            "ticks": "",
            "zerolinecolor": "white"
           }
          },
          "shapedefaults": {
           "line": {
            "color": "#2a3f5f"
           }
          },
          "ternary": {
           "aaxis": {
            "gridcolor": "white",
            "linecolor": "white",
            "ticks": ""
           },
           "baxis": {
            "gridcolor": "white",
            "linecolor": "white",
            "ticks": ""
           },
           "bgcolor": "#E5ECF6",
           "caxis": {
            "gridcolor": "white",
            "linecolor": "white",
            "ticks": ""
           }
          },
          "title": {
           "x": 0.05
          },
          "xaxis": {
           "automargin": true,
           "gridcolor": "white",
           "linecolor": "white",
           "ticks": "",
           "title": {
            "standoff": 15
           },
           "zerolinecolor": "white",
           "zerolinewidth": 2
          },
          "yaxis": {
           "automargin": true,
           "gridcolor": "white",
           "linecolor": "white",
           "ticks": "",
           "title": {
            "standoff": 15
           },
           "zerolinecolor": "white",
           "zerolinewidth": 2
          }
         }
        },
        "title": {
         "font": {
          "color": "#4D5663"
         },
         "text": "Document Length Distribution"
        },
        "xaxis": {
         "gridcolor": "#E1E5ED",
         "linecolor": "Black",
         "showgrid": true,
         "tickfont": {
          "color": "#4D5663"
         },
         "title": {
          "font": {
           "color": "#4D5663"
          },
          "text": "Word Count"
         },
         "zerolinecolor": "#E1E5ED"
        },
        "yaxis": {
         "gridcolor": "#E1E5ED",
         "linecolor": "Black",
         "showgrid": true,
         "tickfont": {
          "color": "#4D5663"
         },
         "title": {
          "font": {
           "color": "#4D5663"
          },
          "text": "Document Count"
         },
         "zerolinecolor": "#E1E5ED"
        }
       }
      },
      "text/html": [
       "<div>                            <div id=\"186d1b6f-32bb-49b6-91da-5dfd8a4abd86\" class=\"plotly-graph-div\" style=\"height:525px; width:100%;\"></div>            <script type=\"text/javascript\">                require([\"plotly\"], function(Plotly) {                    window.PLOTLYENV=window.PLOTLYENV || {};\n",
       "                    window.PLOTLYENV.BASE_URL='https://plot.ly';                                    if (document.getElementById(\"186d1b6f-32bb-49b6-91da-5dfd8a4abd86\")) {                    Plotly.newPlot(                        \"186d1b6f-32bb-49b6-91da-5dfd8a4abd86\",                        [{\"marker\":{\"color\":\"rgba(255, 153, 51, 0.6)\",\"line\":{\"color\":\"rgba(255, 153, 51, 1.0)\",\"width\":1}},\"name\":\"count\",\"orientation\":\"v\",\"text\":\"\",\"x\":[5,6,12,13,15,16,17,19,24,26,27,28,29,30,31,32,33,34,35,36,37,38,40,41,42,43,44,45,46,47,48,49,50,51,52,53,54,55,56,57,58,59,60,61,63,64,65,66,67,68,69,70,71,72,73,74,75,76,77,78,79,80,81,82,83,84,85,86,87,88,89,90,91,92,93,94,95,96,97,98,99,100,101,102,103,104,105,106,107,108,109,110,111,112,113,114,115,116,117,118,119,120,121,122,123,124,125,126,127,128,129,130,131,132,133,134,135,136,137,139,140,141,142,143,144,145,146,147,148,149,150,151,152,153,154,155,156,157,158,159,160,161,162,163,164,165,166,167,168,169,170,171,172,173,174,175,176,177,178,179,180,182,183,184,185,186,187,188,189,190,191,192,193,194,195,196,197,199,200,201,202,203,204,205,206,207,208,209,210,211,212,213,214,215,216,217,218,219,221,222,223,224,225,226,229,230,231,232,233,236,237,238,239,240,241,242,244,245,246,247,248,249,250,251,252,253,255,256,257,258,259,260,261,262,263,265,266,268,269,270,271,272,273,274,275,276,277,278,279,280,281,282,283,284,285,286,287,289,290,291,293,294,295,296,297,299,300,301,303,304,306,308,310,311,312,313,314,315,316,317,318,319,320,321,323,324,325,326,328,330,331,332,333,334,335,336,341,342,343,344,345,346,347,348,351,352,353,355,356,358,363,364,366,367,371,372,373,374,375,377,378,379,380,381,382,383,385,387,388,389,390,391,394,396,397,398,400,401,402,404,405,408,409,410,413,415,416,417,418,419,423,424,428,429,431,432,433,434,436,439,440,442,443,444,445,446,448,454,455,458,461,463,464,466,468,469,470,475,481,482,484,487,488,489,491,492,496,497,498,501,505,511,512,515,517,518,519,520,521,522,525,527,534,537,541,542,544,545,546,551,555,556,566,568,569,574,576,581,582,584,589,594,595,597,602,603,604,606,608,612,620,621,627,637,642,646,659,660,663,669,673,674,675,678,685,690,697,721,739,740,752,756,760,773,782,785,797,803,815,820,823,835,841,849,860,862,868,869,887,889,932,965,1016,1029,1046,1095,1142,1203],\"y\":[3,1,1,1,1,2,1,3,2,1,1,4,1,1,5,4,3,3,2,2,3,4,1,2,3,8,3,4,4,2,3,1,3,1,6,1,4,3,4,6,3,6,2,6,5,2,2,5,4,3,2,2,3,7,6,3,3,4,3,4,2,7,6,4,3,7,6,4,4,7,5,5,6,3,1,4,6,4,7,6,4,4,4,7,4,5,5,2,3,1,4,4,1,6,4,6,2,4,5,3,4,6,1,4,4,4,2,9,5,2,1,2,4,7,2,6,7,5,4,3,3,4,1,3,1,2,3,2,4,4,6,6,1,2,1,4,3,3,3,4,2,4,2,5,3,3,3,2,5,5,2,5,3,3,4,3,2,2,5,2,1,3,3,1,3,4,4,1,7,2,6,4,2,4,4,3,3,5,2,8,3,6,3,3,1,1,3,4,4,5,3,2,6,3,3,2,1,5,4,1,2,2,3,2,1,5,3,3,1,1,2,1,3,3,2,3,3,2,2,3,3,1,2,5,2,2,2,2,3,1,4,2,1,2,1,4,1,1,1,3,4,2,3,1,1,5,1,1,1,1,1,3,3,1,3,2,1,2,1,3,2,1,1,2,2,2,1,3,2,4,2,4,4,2,4,1,3,1,4,2,1,1,1,2,2,2,1,2,1,2,2,2,1,3,3,3,1,1,3,2,1,1,2,1,1,1,3,4,3,1,1,1,1,2,4,1,1,3,1,1,2,1,1,2,1,1,1,1,1,1,1,2,1,1,3,1,1,2,1,2,1,2,1,3,1,1,3,1,1,1,1,1,1,2,1,2,2,2,2,2,1,1,1,1,1,1,1,1,1,1,2,1,1,1,1,2,2,1,2,3,3,1,1,2,2,1,1,1,1,1,1,1,1,1,1,2,1,2,1,1,2,1,1,1,2,1,1,1,1,1,1,1,1,1,1,1,1,1,1,4,1,1,1,1,1,3,1,1,1,1,1,1,1,1,1,1,1,1,1,1,1,1,1,1,1,1,1,1,1,1,1,1,1,1,1,1,1,1,1,1,1,1,1,1,1,1,1,1,1,1,1,1,1,1,2,1,2,1],\"type\":\"bar\"}],                        {\"legend\":{\"bgcolor\":\"#F5F6F9\",\"font\":{\"color\":\"#4D5663\"}},\"paper_bgcolor\":\"#F5F6F9\",\"plot_bgcolor\":\"#F5F6F9\",\"template\":{\"data\":{\"barpolar\":[{\"marker\":{\"line\":{\"color\":\"#E5ECF6\",\"width\":0.5},\"pattern\":{\"fillmode\":\"overlay\",\"size\":10,\"solidity\":0.2}},\"type\":\"barpolar\"}],\"bar\":[{\"error_x\":{\"color\":\"#2a3f5f\"},\"error_y\":{\"color\":\"#2a3f5f\"},\"marker\":{\"line\":{\"color\":\"#E5ECF6\",\"width\":0.5},\"pattern\":{\"fillmode\":\"overlay\",\"size\":10,\"solidity\":0.2}},\"type\":\"bar\"}],\"carpet\":[{\"aaxis\":{\"endlinecolor\":\"#2a3f5f\",\"gridcolor\":\"white\",\"linecolor\":\"white\",\"minorgridcolor\":\"white\",\"startlinecolor\":\"#2a3f5f\"},\"baxis\":{\"endlinecolor\":\"#2a3f5f\",\"gridcolor\":\"white\",\"linecolor\":\"white\",\"minorgridcolor\":\"white\",\"startlinecolor\":\"#2a3f5f\"},\"type\":\"carpet\"}],\"choropleth\":[{\"colorbar\":{\"outlinewidth\":0,\"ticks\":\"\"},\"type\":\"choropleth\"}],\"contourcarpet\":[{\"colorbar\":{\"outlinewidth\":0,\"ticks\":\"\"},\"type\":\"contourcarpet\"}],\"contour\":[{\"colorbar\":{\"outlinewidth\":0,\"ticks\":\"\"},\"colorscale\":[[0.0,\"#0d0887\"],[0.1111111111111111,\"#46039f\"],[0.2222222222222222,\"#7201a8\"],[0.3333333333333333,\"#9c179e\"],[0.4444444444444444,\"#bd3786\"],[0.5555555555555556,\"#d8576b\"],[0.6666666666666666,\"#ed7953\"],[0.7777777777777778,\"#fb9f3a\"],[0.8888888888888888,\"#fdca26\"],[1.0,\"#f0f921\"]],\"type\":\"contour\"}],\"heatmapgl\":[{\"colorbar\":{\"outlinewidth\":0,\"ticks\":\"\"},\"colorscale\":[[0.0,\"#0d0887\"],[0.1111111111111111,\"#46039f\"],[0.2222222222222222,\"#7201a8\"],[0.3333333333333333,\"#9c179e\"],[0.4444444444444444,\"#bd3786\"],[0.5555555555555556,\"#d8576b\"],[0.6666666666666666,\"#ed7953\"],[0.7777777777777778,\"#fb9f3a\"],[0.8888888888888888,\"#fdca26\"],[1.0,\"#f0f921\"]],\"type\":\"heatmapgl\"}],\"heatmap\":[{\"colorbar\":{\"outlinewidth\":0,\"ticks\":\"\"},\"colorscale\":[[0.0,\"#0d0887\"],[0.1111111111111111,\"#46039f\"],[0.2222222222222222,\"#7201a8\"],[0.3333333333333333,\"#9c179e\"],[0.4444444444444444,\"#bd3786\"],[0.5555555555555556,\"#d8576b\"],[0.6666666666666666,\"#ed7953\"],[0.7777777777777778,\"#fb9f3a\"],[0.8888888888888888,\"#fdca26\"],[1.0,\"#f0f921\"]],\"type\":\"heatmap\"}],\"histogram2dcontour\":[{\"colorbar\":{\"outlinewidth\":0,\"ticks\":\"\"},\"colorscale\":[[0.0,\"#0d0887\"],[0.1111111111111111,\"#46039f\"],[0.2222222222222222,\"#7201a8\"],[0.3333333333333333,\"#9c179e\"],[0.4444444444444444,\"#bd3786\"],[0.5555555555555556,\"#d8576b\"],[0.6666666666666666,\"#ed7953\"],[0.7777777777777778,\"#fb9f3a\"],[0.8888888888888888,\"#fdca26\"],[1.0,\"#f0f921\"]],\"type\":\"histogram2dcontour\"}],\"histogram2d\":[{\"colorbar\":{\"outlinewidth\":0,\"ticks\":\"\"},\"colorscale\":[[0.0,\"#0d0887\"],[0.1111111111111111,\"#46039f\"],[0.2222222222222222,\"#7201a8\"],[0.3333333333333333,\"#9c179e\"],[0.4444444444444444,\"#bd3786\"],[0.5555555555555556,\"#d8576b\"],[0.6666666666666666,\"#ed7953\"],[0.7777777777777778,\"#fb9f3a\"],[0.8888888888888888,\"#fdca26\"],[1.0,\"#f0f921\"]],\"type\":\"histogram2d\"}],\"histogram\":[{\"marker\":{\"pattern\":{\"fillmode\":\"overlay\",\"size\":10,\"solidity\":0.2}},\"type\":\"histogram\"}],\"mesh3d\":[{\"colorbar\":{\"outlinewidth\":0,\"ticks\":\"\"},\"type\":\"mesh3d\"}],\"parcoords\":[{\"line\":{\"colorbar\":{\"outlinewidth\":0,\"ticks\":\"\"}},\"type\":\"parcoords\"}],\"pie\":[{\"automargin\":true,\"type\":\"pie\"}],\"scatter3d\":[{\"line\":{\"colorbar\":{\"outlinewidth\":0,\"ticks\":\"\"}},\"marker\":{\"colorbar\":{\"outlinewidth\":0,\"ticks\":\"\"}},\"type\":\"scatter3d\"}],\"scattercarpet\":[{\"marker\":{\"colorbar\":{\"outlinewidth\":0,\"ticks\":\"\"}},\"type\":\"scattercarpet\"}],\"scattergeo\":[{\"marker\":{\"colorbar\":{\"outlinewidth\":0,\"ticks\":\"\"}},\"type\":\"scattergeo\"}],\"scattergl\":[{\"marker\":{\"colorbar\":{\"outlinewidth\":0,\"ticks\":\"\"}},\"type\":\"scattergl\"}],\"scattermapbox\":[{\"marker\":{\"colorbar\":{\"outlinewidth\":0,\"ticks\":\"\"}},\"type\":\"scattermapbox\"}],\"scatterpolargl\":[{\"marker\":{\"colorbar\":{\"outlinewidth\":0,\"ticks\":\"\"}},\"type\":\"scatterpolargl\"}],\"scatterpolar\":[{\"marker\":{\"colorbar\":{\"outlinewidth\":0,\"ticks\":\"\"}},\"type\":\"scatterpolar\"}],\"scatter\":[{\"fillpattern\":{\"fillmode\":\"overlay\",\"size\":10,\"solidity\":0.2},\"type\":\"scatter\"}],\"scatterternary\":[{\"marker\":{\"colorbar\":{\"outlinewidth\":0,\"ticks\":\"\"}},\"type\":\"scatterternary\"}],\"surface\":[{\"colorbar\":{\"outlinewidth\":0,\"ticks\":\"\"},\"colorscale\":[[0.0,\"#0d0887\"],[0.1111111111111111,\"#46039f\"],[0.2222222222222222,\"#7201a8\"],[0.3333333333333333,\"#9c179e\"],[0.4444444444444444,\"#bd3786\"],[0.5555555555555556,\"#d8576b\"],[0.6666666666666666,\"#ed7953\"],[0.7777777777777778,\"#fb9f3a\"],[0.8888888888888888,\"#fdca26\"],[1.0,\"#f0f921\"]],\"type\":\"surface\"}],\"table\":[{\"cells\":{\"fill\":{\"color\":\"#EBF0F8\"},\"line\":{\"color\":\"white\"}},\"header\":{\"fill\":{\"color\":\"#C8D4E3\"},\"line\":{\"color\":\"white\"}},\"type\":\"table\"}]},\"layout\":{\"annotationdefaults\":{\"arrowcolor\":\"#2a3f5f\",\"arrowhead\":0,\"arrowwidth\":1},\"autotypenumbers\":\"strict\",\"coloraxis\":{\"colorbar\":{\"outlinewidth\":0,\"ticks\":\"\"}},\"colorscale\":{\"diverging\":[[0,\"#8e0152\"],[0.1,\"#c51b7d\"],[0.2,\"#de77ae\"],[0.3,\"#f1b6da\"],[0.4,\"#fde0ef\"],[0.5,\"#f7f7f7\"],[0.6,\"#e6f5d0\"],[0.7,\"#b8e186\"],[0.8,\"#7fbc41\"],[0.9,\"#4d9221\"],[1,\"#276419\"]],\"sequential\":[[0.0,\"#0d0887\"],[0.1111111111111111,\"#46039f\"],[0.2222222222222222,\"#7201a8\"],[0.3333333333333333,\"#9c179e\"],[0.4444444444444444,\"#bd3786\"],[0.5555555555555556,\"#d8576b\"],[0.6666666666666666,\"#ed7953\"],[0.7777777777777778,\"#fb9f3a\"],[0.8888888888888888,\"#fdca26\"],[1.0,\"#f0f921\"]],\"sequentialminus\":[[0.0,\"#0d0887\"],[0.1111111111111111,\"#46039f\"],[0.2222222222222222,\"#7201a8\"],[0.3333333333333333,\"#9c179e\"],[0.4444444444444444,\"#bd3786\"],[0.5555555555555556,\"#d8576b\"],[0.6666666666666666,\"#ed7953\"],[0.7777777777777778,\"#fb9f3a\"],[0.8888888888888888,\"#fdca26\"],[1.0,\"#f0f921\"]]},\"colorway\":[\"#636efa\",\"#EF553B\",\"#00cc96\",\"#ab63fa\",\"#FFA15A\",\"#19d3f3\",\"#FF6692\",\"#B6E880\",\"#FF97FF\",\"#FECB52\"],\"font\":{\"color\":\"#2a3f5f\"},\"geo\":{\"bgcolor\":\"white\",\"lakecolor\":\"white\",\"landcolor\":\"#E5ECF6\",\"showlakes\":true,\"showland\":true,\"subunitcolor\":\"white\"},\"hoverlabel\":{\"align\":\"left\"},\"hovermode\":\"closest\",\"mapbox\":{\"style\":\"light\"},\"paper_bgcolor\":\"white\",\"plot_bgcolor\":\"#E5ECF6\",\"polar\":{\"angularaxis\":{\"gridcolor\":\"white\",\"linecolor\":\"white\",\"ticks\":\"\"},\"bgcolor\":\"#E5ECF6\",\"radialaxis\":{\"gridcolor\":\"white\",\"linecolor\":\"white\",\"ticks\":\"\"}},\"scene\":{\"xaxis\":{\"backgroundcolor\":\"#E5ECF6\",\"gridcolor\":\"white\",\"gridwidth\":2,\"linecolor\":\"white\",\"showbackground\":true,\"ticks\":\"\",\"zerolinecolor\":\"white\"},\"yaxis\":{\"backgroundcolor\":\"#E5ECF6\",\"gridcolor\":\"white\",\"gridwidth\":2,\"linecolor\":\"white\",\"showbackground\":true,\"ticks\":\"\",\"zerolinecolor\":\"white\"},\"zaxis\":{\"backgroundcolor\":\"#E5ECF6\",\"gridcolor\":\"white\",\"gridwidth\":2,\"linecolor\":\"white\",\"showbackground\":true,\"ticks\":\"\",\"zerolinecolor\":\"white\"}},\"shapedefaults\":{\"line\":{\"color\":\"#2a3f5f\"}},\"ternary\":{\"aaxis\":{\"gridcolor\":\"white\",\"linecolor\":\"white\",\"ticks\":\"\"},\"baxis\":{\"gridcolor\":\"white\",\"linecolor\":\"white\",\"ticks\":\"\"},\"bgcolor\":\"#E5ECF6\",\"caxis\":{\"gridcolor\":\"white\",\"linecolor\":\"white\",\"ticks\":\"\"}},\"title\":{\"x\":0.05},\"xaxis\":{\"automargin\":true,\"gridcolor\":\"white\",\"linecolor\":\"white\",\"ticks\":\"\",\"title\":{\"standoff\":15},\"zerolinecolor\":\"white\",\"zerolinewidth\":2},\"yaxis\":{\"automargin\":true,\"gridcolor\":\"white\",\"linecolor\":\"white\",\"ticks\":\"\",\"title\":{\"standoff\":15},\"zerolinecolor\":\"white\",\"zerolinewidth\":2}}},\"title\":{\"font\":{\"color\":\"#4D5663\"},\"text\":\"Document Length Distribution\"},\"xaxis\":{\"gridcolor\":\"#E1E5ED\",\"linecolor\":\"Black\",\"showgrid\":true,\"tickfont\":{\"color\":\"#4D5663\"},\"title\":{\"font\":{\"color\":\"#4D5663\"},\"text\":\"Word Count\"},\"zerolinecolor\":\"#E1E5ED\"},\"yaxis\":{\"gridcolor\":\"#E1E5ED\",\"linecolor\":\"Black\",\"showgrid\":true,\"tickfont\":{\"color\":\"#4D5663\"},\"title\":{\"font\":{\"color\":\"#4D5663\"},\"text\":\"Document Count\"},\"zerolinecolor\":\"#E1E5ED\"}},                        {\"showLink\": true, \"linkText\": \"Export to plot.ly\", \"plotlyServerURL\": \"https://plot.ly\", \"responsive\": true}                    ).then(function(){\n",
       "                            \n",
       "var gd = document.getElementById('186d1b6f-32bb-49b6-91da-5dfd8a4abd86');\n",
       "var x = new MutationObserver(function (mutations, observer) {{\n",
       "        var display = window.getComputedStyle(gd).display;\n",
       "        if (!display || display === 'none') {{\n",
       "            console.log([gd, 'removed!']);\n",
       "            Plotly.purge(gd);\n",
       "            observer.disconnect();\n",
       "        }}\n",
       "}});\n",
       "\n",
       "// Listen for the removal of the full notebook cells\n",
       "var notebookContainer = gd.closest('#notebook-container');\n",
       "if (notebookContainer) {{\n",
       "    x.observe(notebookContainer, {childList: true});\n",
       "}}\n",
       "\n",
       "// Listen for the clearing of the current output cell\n",
       "var outputEl = gd.closest('.output');\n",
       "if (outputEl) {{\n",
       "    x.observe(outputEl, {childList: true});\n",
       "}}\n",
       "\n",
       "                        })                };                });            </script>        </div>"
      ]
     },
     "metadata": {},
     "output_type": "display_data"
    }
   ],
   "source": [
    "doc_length_plot(df)"
   ]
  },
  {
   "cell_type": "markdown",
   "id": "1d41e0f0",
   "metadata": {},
   "source": [
    "Send one of the dataframes to the pos_count_plot function to get a bar plot showing the count of the different parts-of-speech across the corpus."
   ]
  },
  {
   "cell_type": "code",
   "execution_count": 27,
   "id": "86716bb4",
   "metadata": {},
   "outputs": [
    {
     "data": {
      "application/vnd.plotly.v1+json": {
       "config": {
        "linkText": "Export to plot.ly",
        "plotlyServerURL": "https://plot.ly",
        "showLink": true
       },
       "data": [
        {
         "marker": {
          "color": "rgba(255, 153, 51, 0.6)",
          "line": {
           "color": "rgba(255, 153, 51, 1.0)",
           "width": 1
          }
         },
         "name": "count",
         "orientation": "v",
         "text": "",
         "type": "bar",
         "x": [
          "NOUN",
          "ADP",
          "VERB",
          "PRON",
          "AUX",
          "DET",
          "ADJ",
          "ADV",
          "PROPN",
          "CCONJ",
          "PART",
          "SCONJ",
          "NUM",
          "X",
          "INTJ",
          "SYM",
          "PUNCT"
         ],
         "y": [
          49493,
          36053,
          32121,
          25994,
          23784,
          22125,
          19827,
          15906,
          15566,
          9927,
          8596,
          5129,
          1300,
          299,
          176,
          4,
          2
         ]
        }
       ],
       "layout": {
        "legend": {
         "bgcolor": "#F5F6F9",
         "font": {
          "color": "#4D5663"
         }
        },
        "paper_bgcolor": "#F5F6F9",
        "plot_bgcolor": "#F5F6F9",
        "template": {
         "data": {
          "bar": [
           {
            "error_x": {
             "color": "#2a3f5f"
            },
            "error_y": {
             "color": "#2a3f5f"
            },
            "marker": {
             "line": {
              "color": "#E5ECF6",
              "width": 0.5
             },
             "pattern": {
              "fillmode": "overlay",
              "size": 10,
              "solidity": 0.2
             }
            },
            "type": "bar"
           }
          ],
          "barpolar": [
           {
            "marker": {
             "line": {
              "color": "#E5ECF6",
              "width": 0.5
             },
             "pattern": {
              "fillmode": "overlay",
              "size": 10,
              "solidity": 0.2
             }
            },
            "type": "barpolar"
           }
          ],
          "carpet": [
           {
            "aaxis": {
             "endlinecolor": "#2a3f5f",
             "gridcolor": "white",
             "linecolor": "white",
             "minorgridcolor": "white",
             "startlinecolor": "#2a3f5f"
            },
            "baxis": {
             "endlinecolor": "#2a3f5f",
             "gridcolor": "white",
             "linecolor": "white",
             "minorgridcolor": "white",
             "startlinecolor": "#2a3f5f"
            },
            "type": "carpet"
           }
          ],
          "choropleth": [
           {
            "colorbar": {
             "outlinewidth": 0,
             "ticks": ""
            },
            "type": "choropleth"
           }
          ],
          "contour": [
           {
            "colorbar": {
             "outlinewidth": 0,
             "ticks": ""
            },
            "colorscale": [
             [
              0,
              "#0d0887"
             ],
             [
              0.1111111111111111,
              "#46039f"
             ],
             [
              0.2222222222222222,
              "#7201a8"
             ],
             [
              0.3333333333333333,
              "#9c179e"
             ],
             [
              0.4444444444444444,
              "#bd3786"
             ],
             [
              0.5555555555555556,
              "#d8576b"
             ],
             [
              0.6666666666666666,
              "#ed7953"
             ],
             [
              0.7777777777777778,
              "#fb9f3a"
             ],
             [
              0.8888888888888888,
              "#fdca26"
             ],
             [
              1,
              "#f0f921"
             ]
            ],
            "type": "contour"
           }
          ],
          "contourcarpet": [
           {
            "colorbar": {
             "outlinewidth": 0,
             "ticks": ""
            },
            "type": "contourcarpet"
           }
          ],
          "heatmap": [
           {
            "colorbar": {
             "outlinewidth": 0,
             "ticks": ""
            },
            "colorscale": [
             [
              0,
              "#0d0887"
             ],
             [
              0.1111111111111111,
              "#46039f"
             ],
             [
              0.2222222222222222,
              "#7201a8"
             ],
             [
              0.3333333333333333,
              "#9c179e"
             ],
             [
              0.4444444444444444,
              "#bd3786"
             ],
             [
              0.5555555555555556,
              "#d8576b"
             ],
             [
              0.6666666666666666,
              "#ed7953"
             ],
             [
              0.7777777777777778,
              "#fb9f3a"
             ],
             [
              0.8888888888888888,
              "#fdca26"
             ],
             [
              1,
              "#f0f921"
             ]
            ],
            "type": "heatmap"
           }
          ],
          "heatmapgl": [
           {
            "colorbar": {
             "outlinewidth": 0,
             "ticks": ""
            },
            "colorscale": [
             [
              0,
              "#0d0887"
             ],
             [
              0.1111111111111111,
              "#46039f"
             ],
             [
              0.2222222222222222,
              "#7201a8"
             ],
             [
              0.3333333333333333,
              "#9c179e"
             ],
             [
              0.4444444444444444,
              "#bd3786"
             ],
             [
              0.5555555555555556,
              "#d8576b"
             ],
             [
              0.6666666666666666,
              "#ed7953"
             ],
             [
              0.7777777777777778,
              "#fb9f3a"
             ],
             [
              0.8888888888888888,
              "#fdca26"
             ],
             [
              1,
              "#f0f921"
             ]
            ],
            "type": "heatmapgl"
           }
          ],
          "histogram": [
           {
            "marker": {
             "pattern": {
              "fillmode": "overlay",
              "size": 10,
              "solidity": 0.2
             }
            },
            "type": "histogram"
           }
          ],
          "histogram2d": [
           {
            "colorbar": {
             "outlinewidth": 0,
             "ticks": ""
            },
            "colorscale": [
             [
              0,
              "#0d0887"
             ],
             [
              0.1111111111111111,
              "#46039f"
             ],
             [
              0.2222222222222222,
              "#7201a8"
             ],
             [
              0.3333333333333333,
              "#9c179e"
             ],
             [
              0.4444444444444444,
              "#bd3786"
             ],
             [
              0.5555555555555556,
              "#d8576b"
             ],
             [
              0.6666666666666666,
              "#ed7953"
             ],
             [
              0.7777777777777778,
              "#fb9f3a"
             ],
             [
              0.8888888888888888,
              "#fdca26"
             ],
             [
              1,
              "#f0f921"
             ]
            ],
            "type": "histogram2d"
           }
          ],
          "histogram2dcontour": [
           {
            "colorbar": {
             "outlinewidth": 0,
             "ticks": ""
            },
            "colorscale": [
             [
              0,
              "#0d0887"
             ],
             [
              0.1111111111111111,
              "#46039f"
             ],
             [
              0.2222222222222222,
              "#7201a8"
             ],
             [
              0.3333333333333333,
              "#9c179e"
             ],
             [
              0.4444444444444444,
              "#bd3786"
             ],
             [
              0.5555555555555556,
              "#d8576b"
             ],
             [
              0.6666666666666666,
              "#ed7953"
             ],
             [
              0.7777777777777778,
              "#fb9f3a"
             ],
             [
              0.8888888888888888,
              "#fdca26"
             ],
             [
              1,
              "#f0f921"
             ]
            ],
            "type": "histogram2dcontour"
           }
          ],
          "mesh3d": [
           {
            "colorbar": {
             "outlinewidth": 0,
             "ticks": ""
            },
            "type": "mesh3d"
           }
          ],
          "parcoords": [
           {
            "line": {
             "colorbar": {
              "outlinewidth": 0,
              "ticks": ""
             }
            },
            "type": "parcoords"
           }
          ],
          "pie": [
           {
            "automargin": true,
            "type": "pie"
           }
          ],
          "scatter": [
           {
            "fillpattern": {
             "fillmode": "overlay",
             "size": 10,
             "solidity": 0.2
            },
            "type": "scatter"
           }
          ],
          "scatter3d": [
           {
            "line": {
             "colorbar": {
              "outlinewidth": 0,
              "ticks": ""
             }
            },
            "marker": {
             "colorbar": {
              "outlinewidth": 0,
              "ticks": ""
             }
            },
            "type": "scatter3d"
           }
          ],
          "scattercarpet": [
           {
            "marker": {
             "colorbar": {
              "outlinewidth": 0,
              "ticks": ""
             }
            },
            "type": "scattercarpet"
           }
          ],
          "scattergeo": [
           {
            "marker": {
             "colorbar": {
              "outlinewidth": 0,
              "ticks": ""
             }
            },
            "type": "scattergeo"
           }
          ],
          "scattergl": [
           {
            "marker": {
             "colorbar": {
              "outlinewidth": 0,
              "ticks": ""
             }
            },
            "type": "scattergl"
           }
          ],
          "scattermapbox": [
           {
            "marker": {
             "colorbar": {
              "outlinewidth": 0,
              "ticks": ""
             }
            },
            "type": "scattermapbox"
           }
          ],
          "scatterpolar": [
           {
            "marker": {
             "colorbar": {
              "outlinewidth": 0,
              "ticks": ""
             }
            },
            "type": "scatterpolar"
           }
          ],
          "scatterpolargl": [
           {
            "marker": {
             "colorbar": {
              "outlinewidth": 0,
              "ticks": ""
             }
            },
            "type": "scatterpolargl"
           }
          ],
          "scatterternary": [
           {
            "marker": {
             "colorbar": {
              "outlinewidth": 0,
              "ticks": ""
             }
            },
            "type": "scatterternary"
           }
          ],
          "surface": [
           {
            "colorbar": {
             "outlinewidth": 0,
             "ticks": ""
            },
            "colorscale": [
             [
              0,
              "#0d0887"
             ],
             [
              0.1111111111111111,
              "#46039f"
             ],
             [
              0.2222222222222222,
              "#7201a8"
             ],
             [
              0.3333333333333333,
              "#9c179e"
             ],
             [
              0.4444444444444444,
              "#bd3786"
             ],
             [
              0.5555555555555556,
              "#d8576b"
             ],
             [
              0.6666666666666666,
              "#ed7953"
             ],
             [
              0.7777777777777778,
              "#fb9f3a"
             ],
             [
              0.8888888888888888,
              "#fdca26"
             ],
             [
              1,
              "#f0f921"
             ]
            ],
            "type": "surface"
           }
          ],
          "table": [
           {
            "cells": {
             "fill": {
              "color": "#EBF0F8"
             },
             "line": {
              "color": "white"
             }
            },
            "header": {
             "fill": {
              "color": "#C8D4E3"
             },
             "line": {
              "color": "white"
             }
            },
            "type": "table"
           }
          ]
         },
         "layout": {
          "annotationdefaults": {
           "arrowcolor": "#2a3f5f",
           "arrowhead": 0,
           "arrowwidth": 1
          },
          "autotypenumbers": "strict",
          "coloraxis": {
           "colorbar": {
            "outlinewidth": 0,
            "ticks": ""
           }
          },
          "colorscale": {
           "diverging": [
            [
             0,
             "#8e0152"
            ],
            [
             0.1,
             "#c51b7d"
            ],
            [
             0.2,
             "#de77ae"
            ],
            [
             0.3,
             "#f1b6da"
            ],
            [
             0.4,
             "#fde0ef"
            ],
            [
             0.5,
             "#f7f7f7"
            ],
            [
             0.6,
             "#e6f5d0"
            ],
            [
             0.7,
             "#b8e186"
            ],
            [
             0.8,
             "#7fbc41"
            ],
            [
             0.9,
             "#4d9221"
            ],
            [
             1,
             "#276419"
            ]
           ],
           "sequential": [
            [
             0,
             "#0d0887"
            ],
            [
             0.1111111111111111,
             "#46039f"
            ],
            [
             0.2222222222222222,
             "#7201a8"
            ],
            [
             0.3333333333333333,
             "#9c179e"
            ],
            [
             0.4444444444444444,
             "#bd3786"
            ],
            [
             0.5555555555555556,
             "#d8576b"
            ],
            [
             0.6666666666666666,
             "#ed7953"
            ],
            [
             0.7777777777777778,
             "#fb9f3a"
            ],
            [
             0.8888888888888888,
             "#fdca26"
            ],
            [
             1,
             "#f0f921"
            ]
           ],
           "sequentialminus": [
            [
             0,
             "#0d0887"
            ],
            [
             0.1111111111111111,
             "#46039f"
            ],
            [
             0.2222222222222222,
             "#7201a8"
            ],
            [
             0.3333333333333333,
             "#9c179e"
            ],
            [
             0.4444444444444444,
             "#bd3786"
            ],
            [
             0.5555555555555556,
             "#d8576b"
            ],
            [
             0.6666666666666666,
             "#ed7953"
            ],
            [
             0.7777777777777778,
             "#fb9f3a"
            ],
            [
             0.8888888888888888,
             "#fdca26"
            ],
            [
             1,
             "#f0f921"
            ]
           ]
          },
          "colorway": [
           "#636efa",
           "#EF553B",
           "#00cc96",
           "#ab63fa",
           "#FFA15A",
           "#19d3f3",
           "#FF6692",
           "#B6E880",
           "#FF97FF",
           "#FECB52"
          ],
          "font": {
           "color": "#2a3f5f"
          },
          "geo": {
           "bgcolor": "white",
           "lakecolor": "white",
           "landcolor": "#E5ECF6",
           "showlakes": true,
           "showland": true,
           "subunitcolor": "white"
          },
          "hoverlabel": {
           "align": "left"
          },
          "hovermode": "closest",
          "mapbox": {
           "style": "light"
          },
          "paper_bgcolor": "white",
          "plot_bgcolor": "#E5ECF6",
          "polar": {
           "angularaxis": {
            "gridcolor": "white",
            "linecolor": "white",
            "ticks": ""
           },
           "bgcolor": "#E5ECF6",
           "radialaxis": {
            "gridcolor": "white",
            "linecolor": "white",
            "ticks": ""
           }
          },
          "scene": {
           "xaxis": {
            "backgroundcolor": "#E5ECF6",
            "gridcolor": "white",
            "gridwidth": 2,
            "linecolor": "white",
            "showbackground": true,
            "ticks": "",
            "zerolinecolor": "white"
           },
           "yaxis": {
            "backgroundcolor": "#E5ECF6",
            "gridcolor": "white",
            "gridwidth": 2,
            "linecolor": "white",
            "showbackground": true,
            "ticks": "",
            "zerolinecolor": "white"
           },
           "zaxis": {
            "backgroundcolor": "#E5ECF6",
            "gridcolor": "white",
            "gridwidth": 2,
            "linecolor": "white",
            "showbackground": true,
            "ticks": "",
            "zerolinecolor": "white"
           }
          },
          "shapedefaults": {
           "line": {
            "color": "#2a3f5f"
           }
          },
          "ternary": {
           "aaxis": {
            "gridcolor": "white",
            "linecolor": "white",
            "ticks": ""
           },
           "baxis": {
            "gridcolor": "white",
            "linecolor": "white",
            "ticks": ""
           },
           "bgcolor": "#E5ECF6",
           "caxis": {
            "gridcolor": "white",
            "linecolor": "white",
            "ticks": ""
           }
          },
          "title": {
           "x": 0.05
          },
          "xaxis": {
           "automargin": true,
           "gridcolor": "white",
           "linecolor": "white",
           "ticks": "",
           "title": {
            "standoff": 15
           },
           "zerolinecolor": "white",
           "zerolinewidth": 2
          },
          "yaxis": {
           "automargin": true,
           "gridcolor": "white",
           "linecolor": "white",
           "ticks": "",
           "title": {
            "standoff": 15
           },
           "zerolinecolor": "white",
           "zerolinewidth": 2
          }
         }
        },
        "title": {
         "font": {
          "color": "#4D5663"
         },
         "text": "Part-of-Speech Tags by Number"
        },
        "xaxis": {
         "gridcolor": "#E1E5ED",
         "linecolor": "Black",
         "showgrid": true,
         "tickfont": {
          "color": "#4D5663"
         },
         "title": {
          "font": {
           "color": "#4D5663"
          },
          "text": "Part-of-Speech"
         },
         "zerolinecolor": "#E1E5ED"
        },
        "yaxis": {
         "gridcolor": "#E1E5ED",
         "linecolor": "Black",
         "showgrid": true,
         "tickfont": {
          "color": "#4D5663"
         },
         "title": {
          "font": {
           "color": "#4D5663"
          },
          "text": "Count"
         },
         "zerolinecolor": "#E1E5ED"
        }
       }
      },
      "text/html": [
       "<div>                            <div id=\"683aa2c1-1794-4c46-ae63-7acec53c25e4\" class=\"plotly-graph-div\" style=\"height:525px; width:100%;\"></div>            <script type=\"text/javascript\">                require([\"plotly\"], function(Plotly) {                    window.PLOTLYENV=window.PLOTLYENV || {};\n",
       "                    window.PLOTLYENV.BASE_URL='https://plot.ly';                                    if (document.getElementById(\"683aa2c1-1794-4c46-ae63-7acec53c25e4\")) {                    Plotly.newPlot(                        \"683aa2c1-1794-4c46-ae63-7acec53c25e4\",                        [{\"marker\":{\"color\":\"rgba(255, 153, 51, 0.6)\",\"line\":{\"color\":\"rgba(255, 153, 51, 1.0)\",\"width\":1}},\"name\":\"count\",\"orientation\":\"v\",\"text\":\"\",\"x\":[\"NOUN\",\"ADP\",\"VERB\",\"PRON\",\"AUX\",\"DET\",\"ADJ\",\"ADV\",\"PROPN\",\"CCONJ\",\"PART\",\"SCONJ\",\"NUM\",\"X\",\"INTJ\",\"SYM\",\"PUNCT\"],\"y\":[49493,36053,32121,25994,23784,22125,19827,15906,15566,9927,8596,5129,1300,299,176,4,2],\"type\":\"bar\"}],                        {\"legend\":{\"bgcolor\":\"#F5F6F9\",\"font\":{\"color\":\"#4D5663\"}},\"paper_bgcolor\":\"#F5F6F9\",\"plot_bgcolor\":\"#F5F6F9\",\"template\":{\"data\":{\"barpolar\":[{\"marker\":{\"line\":{\"color\":\"#E5ECF6\",\"width\":0.5},\"pattern\":{\"fillmode\":\"overlay\",\"size\":10,\"solidity\":0.2}},\"type\":\"barpolar\"}],\"bar\":[{\"error_x\":{\"color\":\"#2a3f5f\"},\"error_y\":{\"color\":\"#2a3f5f\"},\"marker\":{\"line\":{\"color\":\"#E5ECF6\",\"width\":0.5},\"pattern\":{\"fillmode\":\"overlay\",\"size\":10,\"solidity\":0.2}},\"type\":\"bar\"}],\"carpet\":[{\"aaxis\":{\"endlinecolor\":\"#2a3f5f\",\"gridcolor\":\"white\",\"linecolor\":\"white\",\"minorgridcolor\":\"white\",\"startlinecolor\":\"#2a3f5f\"},\"baxis\":{\"endlinecolor\":\"#2a3f5f\",\"gridcolor\":\"white\",\"linecolor\":\"white\",\"minorgridcolor\":\"white\",\"startlinecolor\":\"#2a3f5f\"},\"type\":\"carpet\"}],\"choropleth\":[{\"colorbar\":{\"outlinewidth\":0,\"ticks\":\"\"},\"type\":\"choropleth\"}],\"contourcarpet\":[{\"colorbar\":{\"outlinewidth\":0,\"ticks\":\"\"},\"type\":\"contourcarpet\"}],\"contour\":[{\"colorbar\":{\"outlinewidth\":0,\"ticks\":\"\"},\"colorscale\":[[0.0,\"#0d0887\"],[0.1111111111111111,\"#46039f\"],[0.2222222222222222,\"#7201a8\"],[0.3333333333333333,\"#9c179e\"],[0.4444444444444444,\"#bd3786\"],[0.5555555555555556,\"#d8576b\"],[0.6666666666666666,\"#ed7953\"],[0.7777777777777778,\"#fb9f3a\"],[0.8888888888888888,\"#fdca26\"],[1.0,\"#f0f921\"]],\"type\":\"contour\"}],\"heatmapgl\":[{\"colorbar\":{\"outlinewidth\":0,\"ticks\":\"\"},\"colorscale\":[[0.0,\"#0d0887\"],[0.1111111111111111,\"#46039f\"],[0.2222222222222222,\"#7201a8\"],[0.3333333333333333,\"#9c179e\"],[0.4444444444444444,\"#bd3786\"],[0.5555555555555556,\"#d8576b\"],[0.6666666666666666,\"#ed7953\"],[0.7777777777777778,\"#fb9f3a\"],[0.8888888888888888,\"#fdca26\"],[1.0,\"#f0f921\"]],\"type\":\"heatmapgl\"}],\"heatmap\":[{\"colorbar\":{\"outlinewidth\":0,\"ticks\":\"\"},\"colorscale\":[[0.0,\"#0d0887\"],[0.1111111111111111,\"#46039f\"],[0.2222222222222222,\"#7201a8\"],[0.3333333333333333,\"#9c179e\"],[0.4444444444444444,\"#bd3786\"],[0.5555555555555556,\"#d8576b\"],[0.6666666666666666,\"#ed7953\"],[0.7777777777777778,\"#fb9f3a\"],[0.8888888888888888,\"#fdca26\"],[1.0,\"#f0f921\"]],\"type\":\"heatmap\"}],\"histogram2dcontour\":[{\"colorbar\":{\"outlinewidth\":0,\"ticks\":\"\"},\"colorscale\":[[0.0,\"#0d0887\"],[0.1111111111111111,\"#46039f\"],[0.2222222222222222,\"#7201a8\"],[0.3333333333333333,\"#9c179e\"],[0.4444444444444444,\"#bd3786\"],[0.5555555555555556,\"#d8576b\"],[0.6666666666666666,\"#ed7953\"],[0.7777777777777778,\"#fb9f3a\"],[0.8888888888888888,\"#fdca26\"],[1.0,\"#f0f921\"]],\"type\":\"histogram2dcontour\"}],\"histogram2d\":[{\"colorbar\":{\"outlinewidth\":0,\"ticks\":\"\"},\"colorscale\":[[0.0,\"#0d0887\"],[0.1111111111111111,\"#46039f\"],[0.2222222222222222,\"#7201a8\"],[0.3333333333333333,\"#9c179e\"],[0.4444444444444444,\"#bd3786\"],[0.5555555555555556,\"#d8576b\"],[0.6666666666666666,\"#ed7953\"],[0.7777777777777778,\"#fb9f3a\"],[0.8888888888888888,\"#fdca26\"],[1.0,\"#f0f921\"]],\"type\":\"histogram2d\"}],\"histogram\":[{\"marker\":{\"pattern\":{\"fillmode\":\"overlay\",\"size\":10,\"solidity\":0.2}},\"type\":\"histogram\"}],\"mesh3d\":[{\"colorbar\":{\"outlinewidth\":0,\"ticks\":\"\"},\"type\":\"mesh3d\"}],\"parcoords\":[{\"line\":{\"colorbar\":{\"outlinewidth\":0,\"ticks\":\"\"}},\"type\":\"parcoords\"}],\"pie\":[{\"automargin\":true,\"type\":\"pie\"}],\"scatter3d\":[{\"line\":{\"colorbar\":{\"outlinewidth\":0,\"ticks\":\"\"}},\"marker\":{\"colorbar\":{\"outlinewidth\":0,\"ticks\":\"\"}},\"type\":\"scatter3d\"}],\"scattercarpet\":[{\"marker\":{\"colorbar\":{\"outlinewidth\":0,\"ticks\":\"\"}},\"type\":\"scattercarpet\"}],\"scattergeo\":[{\"marker\":{\"colorbar\":{\"outlinewidth\":0,\"ticks\":\"\"}},\"type\":\"scattergeo\"}],\"scattergl\":[{\"marker\":{\"colorbar\":{\"outlinewidth\":0,\"ticks\":\"\"}},\"type\":\"scattergl\"}],\"scattermapbox\":[{\"marker\":{\"colorbar\":{\"outlinewidth\":0,\"ticks\":\"\"}},\"type\":\"scattermapbox\"}],\"scatterpolargl\":[{\"marker\":{\"colorbar\":{\"outlinewidth\":0,\"ticks\":\"\"}},\"type\":\"scatterpolargl\"}],\"scatterpolar\":[{\"marker\":{\"colorbar\":{\"outlinewidth\":0,\"ticks\":\"\"}},\"type\":\"scatterpolar\"}],\"scatter\":[{\"fillpattern\":{\"fillmode\":\"overlay\",\"size\":10,\"solidity\":0.2},\"type\":\"scatter\"}],\"scatterternary\":[{\"marker\":{\"colorbar\":{\"outlinewidth\":0,\"ticks\":\"\"}},\"type\":\"scatterternary\"}],\"surface\":[{\"colorbar\":{\"outlinewidth\":0,\"ticks\":\"\"},\"colorscale\":[[0.0,\"#0d0887\"],[0.1111111111111111,\"#46039f\"],[0.2222222222222222,\"#7201a8\"],[0.3333333333333333,\"#9c179e\"],[0.4444444444444444,\"#bd3786\"],[0.5555555555555556,\"#d8576b\"],[0.6666666666666666,\"#ed7953\"],[0.7777777777777778,\"#fb9f3a\"],[0.8888888888888888,\"#fdca26\"],[1.0,\"#f0f921\"]],\"type\":\"surface\"}],\"table\":[{\"cells\":{\"fill\":{\"color\":\"#EBF0F8\"},\"line\":{\"color\":\"white\"}},\"header\":{\"fill\":{\"color\":\"#C8D4E3\"},\"line\":{\"color\":\"white\"}},\"type\":\"table\"}]},\"layout\":{\"annotationdefaults\":{\"arrowcolor\":\"#2a3f5f\",\"arrowhead\":0,\"arrowwidth\":1},\"autotypenumbers\":\"strict\",\"coloraxis\":{\"colorbar\":{\"outlinewidth\":0,\"ticks\":\"\"}},\"colorscale\":{\"diverging\":[[0,\"#8e0152\"],[0.1,\"#c51b7d\"],[0.2,\"#de77ae\"],[0.3,\"#f1b6da\"],[0.4,\"#fde0ef\"],[0.5,\"#f7f7f7\"],[0.6,\"#e6f5d0\"],[0.7,\"#b8e186\"],[0.8,\"#7fbc41\"],[0.9,\"#4d9221\"],[1,\"#276419\"]],\"sequential\":[[0.0,\"#0d0887\"],[0.1111111111111111,\"#46039f\"],[0.2222222222222222,\"#7201a8\"],[0.3333333333333333,\"#9c179e\"],[0.4444444444444444,\"#bd3786\"],[0.5555555555555556,\"#d8576b\"],[0.6666666666666666,\"#ed7953\"],[0.7777777777777778,\"#fb9f3a\"],[0.8888888888888888,\"#fdca26\"],[1.0,\"#f0f921\"]],\"sequentialminus\":[[0.0,\"#0d0887\"],[0.1111111111111111,\"#46039f\"],[0.2222222222222222,\"#7201a8\"],[0.3333333333333333,\"#9c179e\"],[0.4444444444444444,\"#bd3786\"],[0.5555555555555556,\"#d8576b\"],[0.6666666666666666,\"#ed7953\"],[0.7777777777777778,\"#fb9f3a\"],[0.8888888888888888,\"#fdca26\"],[1.0,\"#f0f921\"]]},\"colorway\":[\"#636efa\",\"#EF553B\",\"#00cc96\",\"#ab63fa\",\"#FFA15A\",\"#19d3f3\",\"#FF6692\",\"#B6E880\",\"#FF97FF\",\"#FECB52\"],\"font\":{\"color\":\"#2a3f5f\"},\"geo\":{\"bgcolor\":\"white\",\"lakecolor\":\"white\",\"landcolor\":\"#E5ECF6\",\"showlakes\":true,\"showland\":true,\"subunitcolor\":\"white\"},\"hoverlabel\":{\"align\":\"left\"},\"hovermode\":\"closest\",\"mapbox\":{\"style\":\"light\"},\"paper_bgcolor\":\"white\",\"plot_bgcolor\":\"#E5ECF6\",\"polar\":{\"angularaxis\":{\"gridcolor\":\"white\",\"linecolor\":\"white\",\"ticks\":\"\"},\"bgcolor\":\"#E5ECF6\",\"radialaxis\":{\"gridcolor\":\"white\",\"linecolor\":\"white\",\"ticks\":\"\"}},\"scene\":{\"xaxis\":{\"backgroundcolor\":\"#E5ECF6\",\"gridcolor\":\"white\",\"gridwidth\":2,\"linecolor\":\"white\",\"showbackground\":true,\"ticks\":\"\",\"zerolinecolor\":\"white\"},\"yaxis\":{\"backgroundcolor\":\"#E5ECF6\",\"gridcolor\":\"white\",\"gridwidth\":2,\"linecolor\":\"white\",\"showbackground\":true,\"ticks\":\"\",\"zerolinecolor\":\"white\"},\"zaxis\":{\"backgroundcolor\":\"#E5ECF6\",\"gridcolor\":\"white\",\"gridwidth\":2,\"linecolor\":\"white\",\"showbackground\":true,\"ticks\":\"\",\"zerolinecolor\":\"white\"}},\"shapedefaults\":{\"line\":{\"color\":\"#2a3f5f\"}},\"ternary\":{\"aaxis\":{\"gridcolor\":\"white\",\"linecolor\":\"white\",\"ticks\":\"\"},\"baxis\":{\"gridcolor\":\"white\",\"linecolor\":\"white\",\"ticks\":\"\"},\"bgcolor\":\"#E5ECF6\",\"caxis\":{\"gridcolor\":\"white\",\"linecolor\":\"white\",\"ticks\":\"\"}},\"title\":{\"x\":0.05},\"xaxis\":{\"automargin\":true,\"gridcolor\":\"white\",\"linecolor\":\"white\",\"ticks\":\"\",\"title\":{\"standoff\":15},\"zerolinecolor\":\"white\",\"zerolinewidth\":2},\"yaxis\":{\"automargin\":true,\"gridcolor\":\"white\",\"linecolor\":\"white\",\"ticks\":\"\",\"title\":{\"standoff\":15},\"zerolinecolor\":\"white\",\"zerolinewidth\":2}}},\"title\":{\"font\":{\"color\":\"#4D5663\"},\"text\":\"Part-of-Speech Tags by Number\"},\"xaxis\":{\"gridcolor\":\"#E1E5ED\",\"linecolor\":\"Black\",\"showgrid\":true,\"tickfont\":{\"color\":\"#4D5663\"},\"title\":{\"font\":{\"color\":\"#4D5663\"},\"text\":\"Part-of-Speech\"},\"zerolinecolor\":\"#E1E5ED\"},\"yaxis\":{\"gridcolor\":\"#E1E5ED\",\"linecolor\":\"Black\",\"showgrid\":true,\"tickfont\":{\"color\":\"#4D5663\"},\"title\":{\"font\":{\"color\":\"#4D5663\"},\"text\":\"Count\"},\"zerolinecolor\":\"#E1E5ED\"}},                        {\"showLink\": true, \"linkText\": \"Export to plot.ly\", \"plotlyServerURL\": \"https://plot.ly\", \"responsive\": true}                    ).then(function(){\n",
       "                            \n",
       "var gd = document.getElementById('683aa2c1-1794-4c46-ae63-7acec53c25e4');\n",
       "var x = new MutationObserver(function (mutations, observer) {{\n",
       "        var display = window.getComputedStyle(gd).display;\n",
       "        if (!display || display === 'none') {{\n",
       "            console.log([gd, 'removed!']);\n",
       "            Plotly.purge(gd);\n",
       "            observer.disconnect();\n",
       "        }}\n",
       "}});\n",
       "\n",
       "// Listen for the removal of the full notebook cells\n",
       "var notebookContainer = gd.closest('#notebook-container');\n",
       "if (notebookContainer) {{\n",
       "    x.observe(notebookContainer, {childList: true});\n",
       "}}\n",
       "\n",
       "// Listen for the clearing of the current output cell\n",
       "var outputEl = gd.closest('.output');\n",
       "if (outputEl) {{\n",
       "    x.observe(outputEl, {childList: true});\n",
       "}}\n",
       "\n",
       "                        })                };                });            </script>        </div>"
      ]
     },
     "metadata": {},
     "output_type": "display_data"
    }
   ],
   "source": [
    "pos_count_plot(df)"
   ]
  },
  {
   "cell_type": "markdown",
   "id": "fbb79d78",
   "metadata": {},
   "source": [
    "Remove stop words from both dataframes using the remove_stopwords function, with text column and stopwords list as parameters. Returns column without stopwords."
   ]
  },
  {
   "cell_type": "code",
   "execution_count": 28,
   "id": "0c7c0e88",
   "metadata": {
    "scrolled": true
   },
   "outputs": [],
   "source": [
    "df[\"text\"] = df[\"text\"].apply(remove_stopwords, stopwords=stopwords)\n",
    "sent_df[\"text\"] = sent_df[\"text\"].apply(remove_stopwords, stopwords=stopwords)"
   ]
  },
  {
   "cell_type": "markdown",
   "id": "b0fe3cba",
   "metadata": {},
   "source": [
    "Get text column from non-sentence dataframe and turn into list. Use list to find bigrams, returns bigrams for whole corpus. Parameters: min_count - words only included if above this number, threshold - higher number for fewer included phrases."
   ]
  },
  {
   "cell_type": "code",
   "execution_count": 29,
   "id": "437cada7",
   "metadata": {
    "scrolled": true
   },
   "outputs": [],
   "source": [
    "text_list = df[\"text\"].tolist()\n",
    "corpus_bigrams = Phrases(text_list, min_count=5, threshold=100)"
   ]
  },
  {
   "cell_type": "markdown",
   "id": "fb986372",
   "metadata": {},
   "source": [
    "Apply bigrams function to the text columns of both dataframes, with additional parameters of tokenized text list and corpus bigrams created above. Returns columns for both dataframes with words converted into bigrams where appropriate."
   ]
  },
  {
   "cell_type": "code",
   "execution_count": 30,
   "id": "ea76b524",
   "metadata": {},
   "outputs": [],
   "source": [
    "df[\"text\"] = df[\"text\"].apply(bigrams, tokenized_texts=text_list, corpus_bigrams=corpus_bigrams)\n",
    "sent_df[\"text\"] = sent_df[\"text\"].apply(bigrams, tokenized_texts=text_list, corpus_bigrams=corpus_bigrams)"
   ]
  },
  {
   "cell_type": "markdown",
   "id": "a075596f",
   "metadata": {},
   "source": [
    "Apply lemmatization function to both dataframes, with tokenized text from each row as input. There is also an optional allowed_postags parameter which enables us to decide which parts-of-speech are included, this parameter has a default value which can be seen in the function but this can be changed. \n",
    "\n",
    "Returns lemmatized, tokenized text for each row with excluded parts-of-speech removed."
   ]
  },
  {
   "cell_type": "code",
   "execution_count": 31,
   "id": "8f3e8965",
   "metadata": {},
   "outputs": [
    {
     "data": {
      "text/plain": [
       "[['mead', 'lambeth', 'april', 'fossil'],\n",
       " [],\n",
       " ['sedgwick', 'favour', 'amm'],\n",
       " ['thank'],\n",
       " ['clark', 'lecture', 'satr', 'mot'],\n",
       " ['iron', 'pupil'],\n",
       " ['trouble', 'parcell', 'help', 'fossil'],\n",
       " [],\n",
       " ['sowerby', 'isle'],\n",
       " ['punctatus'],\n",
       " ['martin'],\n",
       " [],\n",
       " [],\n",
       " ['sowerby', 'lin', 'tran', 'pt', 'page'],\n",
       " [],\n",
       " [],\n",
       " [],\n",
       " ['side'],\n",
       " [],\n",
       " ['scoticu'],\n",
       " [],\n",
       " ['flattish'],\n",
       " ['cardium'],\n",
       " [],\n",
       " [],\n",
       " ['productus'],\n",
       " [],\n",
       " [],\n",
       " ['productus'],\n",
       " [],\n",
       " ['productus', 'stria', 'thready', 'one'],\n",
       " ['productus'],\n",
       " [],\n",
       " ['amm'],\n",
       " [],\n",
       " [],\n",
       " ['nautilus', 'complanatus'],\n",
       " [],\n",
       " ['pentacrinitis'],\n",
       " ['caryophyllea'],\n",
       " ['lamarck'],\n",
       " [],\n",
       " [],\n",
       " ['entrochi', 'carypohyllea', 'scoria'],\n",
       " ['november',\n",
       "  'analysis',\n",
       "  'grain',\n",
       "  'mineral',\n",
       "  'anglesea',\n",
       "  'form',\n",
       "  'consist',\n",
       "  'gr',\n",
       "  'silica',\n",
       "  'alumina',\n",
       "  'soda',\n",
       "  'lime',\n",
       "  'water',\n",
       "  'absorption',\n",
       "  'zn',\n",
       "  'iron',\n",
       "  'grain'],\n",
       " ['ch', 'mineral', 'gelatinizes', 'acid', 'friction'],\n",
       " ['analcine', 'variety'],\n",
       " ['clarke'],\n",
       " ['evening',\n",
       "  'result',\n",
       "  'examination',\n",
       "  'specimen',\n",
       "  'goodness',\n",
       "  'paper',\n",
       "  'manner'],\n",
       " ['crystal', 'garnet', 'attack', 'symbol'],\n",
       " ['crystal',\n",
       "  'dodecahedron',\n",
       "  'analcine',\n",
       "  'iron',\n",
       "  'friction',\n",
       "  'scratch',\n",
       "  'glass',\n",
       "  'blowpipe',\n",
       "  'acid'],\n",
       " ['gravity', 'crystal', 'mass', 'exposure', 'heat', 'per_cent'],\n",
       " ['mineral', 'method', 'digestion', 'acid'],\n",
       " ['residue', 'potash'],\n",
       " ['solution',\n",
       "  'redness',\n",
       "  'muriates',\n",
       "  'iron_alumina',\n",
       "  'water',\n",
       "  'lime',\n",
       "  'solution',\n",
       "  'evaporation',\n",
       "  'crystal',\n",
       "  'salt'],\n",
       " ['silex',\n",
       "  'alkaline',\n",
       "  'solution',\n",
       "  'muriatic',\n",
       "  'acid',\n",
       "  'alumina',\n",
       "  'iron',\n",
       "  'lime',\n",
       "  'oxalate',\n",
       "  'iron_alumina',\n",
       "  'potash',\n",
       "  'alumina',\n",
       "  'ammonia'],\n",
       " ['silex',\n",
       "  'alumina',\n",
       "  'lime',\n",
       "  'iron',\n",
       "  'soda',\n",
       "  'water',\n",
       "  'composition',\n",
       "  'darker',\n",
       "  'crystal'],\n",
       " ['rhomboidal', 'dodecahedron', 'hardness', 'crystal', 'gravity'],\n",
       " ['blowpipe', 'acid', 'character', 'garnet'],\n",
       " ['december', 'leonard'],\n",
       " ['addenda', 'plant', 'wynch'],\n",
       " ['book', 'morning'],\n",
       " ['envy'],\n",
       " ['alisma',\n",
       "  'anchusa',\n",
       "  'officinalis',\n",
       "  'arenaria',\n",
       "  'verna',\n",
       "  'carex',\n",
       "  'capillaris',\n",
       "  'pauciflora',\n",
       "  'chironia',\n",
       "  'littoralis',\n",
       "  'duplicate'],\n",
       " ['cypripedium', 'calceolus'],\n",
       " ['verticillata', 'perthshire'],\n",
       " ['dianthus',\n",
       "  'arenarius',\n",
       "  'draba',\n",
       "  'dryas',\n",
       "  'octopetala',\n",
       "  'epilobium',\n",
       "  'alsinifolium',\n",
       "  'alpestre',\n",
       "  'fumaria',\n",
       "  'lutea',\n",
       "  'gentiana',\n",
       "  'verna',\n",
       "  'hieracium',\n",
       "  'denticulatum',\n",
       "  'juncus',\n",
       "  'squarrosus',\n",
       "  'nuphar',\n",
       "  'kalmiana'],\n",
       " ['potentilla',\n",
       "  'fruticosa',\n",
       "  'prunus',\n",
       "  'pyrola',\n",
       "  'ribe',\n",
       "  'petraeum',\n",
       "  'rosa',\n",
       "  'mollis',\n",
       "  'tomentosa',\n",
       "  'scabriuscula',\n",
       "  'glaucophylla',\n",
       "  'involuta'],\n",
       " ['sabina'],\n",
       " ['rubus',\n",
       "  'glandulosa',\n",
       "  'saxifraga',\n",
       "  'caespitosa',\n",
       "  'salix',\n",
       "  'andersoniana',\n",
       "  'male',\n",
       "  'fosteriana',\n",
       "  'female',\n",
       "  'sedum',\n",
       "  'villosum',\n",
       "  'senecio',\n",
       "  'sylvatica',\n",
       "  'spiraea',\n",
       "  'fruticosa',\n",
       "  'trientalis',\n",
       "  'europaea',\n",
       "  'veronica',\n",
       "  'alpina',\n",
       "  'saxatilis',\n",
       "  'fruticulosa',\n",
       "  'verna',\n",
       "  'viola',\n",
       "  'amoena',\n",
       "  'lutea',\n",
       "  'zostera',\n",
       "  'marina',\n",
       "  'polypodium',\n",
       "  'dryopteris',\n",
       "  'moss',\n",
       "  'grimmia',\n",
       "  'leucophaea',\n",
       "  'orthotricum',\n",
       "  'hutchinsiae',\n",
       "  'lichen',\n",
       "  'gyrophora',\n",
       "  'pustulata',\n",
       "  'collection',\n",
       "  'specie',\n",
       "  'british',\n",
       "  'plants',\n",
       "  'species',\n",
       "  'american',\n",
       "  'lapland',\n",
       "  'ex'],\n",
       " [],\n",
       " ['family'],\n",
       " ['edinburgh'],\n",
       " ['coate',\n",
       "  'crescent',\n",
       "  'november',\n",
       "  'prince',\n",
       "  'cimitile',\n",
       "  'prince',\n",
       "  'casiati',\n",
       "  'propose',\n",
       "  'day',\n",
       "  'cambridge',\n",
       "  'curiosity',\n",
       "  'university'],\n",
       " ['attention', 'favour'],\n",
       " ['respect'],\n",
       " ['bearer',\n",
       "  'dr',\n",
       "  'radius',\n",
       "  'leipsic',\n",
       "  'england',\n",
       "  'man',\n",
       "  'science',\n",
       "  'study',\n",
       "  'profession',\n",
       "  'cambridge',\n",
       "  'dr',\n",
       "  'marsh',\n",
       "  'attention',\n",
       "  'subject',\n",
       "  'attention',\n",
       "  'confer',\n",
       "  'favour',\n",
       "  'obed'],\n",
       " ['john', 'curtis', 'charles', 'cavendish'],\n",
       " ['january', 'leonard', 'information'],\n",
       " ['speciman', 'viola', 'lutea', 'juniperus', 'dianthu', 'other'],\n",
       " ['species', 'collection'],\n",
       " ['calculator', 'event'],\n",
       " ['compliment'],\n",
       " [],\n",
       " ['april', 'leonard', 'bishop', 'bishop', 'lincoln', 'king', 'title'],\n",
       " ['certificate', 'baptism'],\n",
       " ['sphaeria',\n",
       "  'bottisham',\n",
       "  'swaffham',\n",
       "  'genuine',\n",
       "  'peras',\n",
       "  'sphaeria',\n",
       "  'granchester',\n",
       "  'sphaerium'],\n",
       " ['suspect', 'pera'],\n",
       " ['dirt', 'pera', 'fluviat', 'henslowa'],\n",
       " ['epidermis'],\n",
       " [],\n",
       " ['specimen'],\n",
       " ['jermyn'],\n",
       " ['brother', 'stick'],\n",
       " ['peregrine', 'falcon', 'buzzard', 'bittern', 'chaffinch'],\n",
       " ['family'],\n",
       " ['april', 'leonard', 'parcel', 'jermyn', 'evening', 'chance'],\n",
       " [],\n",
       " [],\n",
       " ['sphaerium'],\n",
       " ['abundance', 'young'],\n",
       " ['planorbe', 'surface', 'water'],\n",
       " ['bivalve'],\n",
       " ['calvert', 'brocklebank', 'ride', 'swaffham', 'jermyn'],\n",
       " ['suite', 'desiderata'],\n",
       " ['lyon', 'bird', 'leadbeatter', 'shell', 'divinity'],\n",
       " ['commission'],\n",
       " [],\n",
       " ['jenyns', 'carriage', 'turn', 'bridge', 'street', 'jesus', 'lane'],\n",
       " ['lid', 'sarcophagus', 'crystal', 'felspar'],\n",
       " ['miss', 'mon', 'alexandre'],\n",
       " ['schiller', 'work', 'volume', 'supply', 'benger', 'queen', 'scot'],\n",
       " ['dupe', 'container'],\n",
       " ['sphaerium', 'sake', 'series', 'swaffham'],\n",
       " ['corneum'],\n",
       " ['treasury',\n",
       "  'chambers',\n",
       "  'april',\n",
       "  'lords',\n",
       "  'commissioner',\n",
       "  'majesty',\n",
       "  'treasury'],\n",
       " ['payment',\n",
       "  'salary',\n",
       "  'professor',\n",
       "  'mineralogy',\n",
       "  'university',\n",
       "  'cambridge',\n",
       "  'acquaint',\n",
       "  'lordship',\n",
       "  'certificate',\n",
       "  'course',\n",
       "  'lecture',\n",
       "  'receipt',\n",
       "  'payment',\n",
       "  'salary',\n",
       "  'office'],\n",
       " ['geo', 'harrison'],\n",
       " ['blair',\n",
       "  'atholl',\n",
       "  'june',\n",
       "  'deal',\n",
       "  'trouble',\n",
       "  'fruit',\n",
       "  'labour',\n",
       "  'collect',\n",
       "  'package',\n",
       "  'inconvenient',\n",
       "  'knapsack',\n",
       "  'fear',\n",
       "  'cambridge',\n",
       "  'attention',\n",
       "  'name',\n",
       "  'wch',\n",
       "  'book'],\n",
       " ['poison', 'suit'],\n",
       " ['summer',\n",
       "  'commencement',\n",
       "  'snow',\n",
       "  'mountain',\n",
       "  'gwatkin',\n",
       "  'pudding',\n",
       "  'gooseberry',\n",
       "  'tree',\n",
       "  'flower'],\n",
       " ['scenery'],\n",
       " ['gwatkin',\n",
       "  'deal',\n",
       "  'coal',\n",
       "  'matter',\n",
       "  'top',\n",
       "  'calton',\n",
       "  'hill',\n",
       "  'edinburgh',\n",
       "  'hypothesis',\n",
       "  'ruin',\n",
       "  'bonfire',\n",
       "  'tar',\n",
       "  'barrel',\n",
       "  'king'],\n",
       " ['word',\n",
       "  'plant',\n",
       "  'cambridge',\n",
       "  'news',\n",
       "  'glasgow',\n",
       "  'july',\n",
       "  'expectation',\n",
       "  'drink',\n",
       "  'health',\n",
       "  'atholl',\n",
       "  'brose'],\n",
       " ['twopeny'],\n",
       " ['soughton',\n",
       "  'hall',\n",
       "  'northop',\n",
       "  'september',\n",
       "  'pink',\n",
       "  'wall',\n",
       "  'conway',\n",
       "  'castle',\n",
       "  'abundance'],\n",
       " ['circumstance',\n",
       "  'illeg',\n",
       "  'honor',\n",
       "  'cambridge',\n",
       "  'respect',\n",
       "  'conway',\n",
       "  'hve',\n",
       "  'reason',\n",
       "  'speciman',\n",
       "  'collection'],\n",
       " ['house',\n",
       "  'hortus',\n",
       "  'siccus',\n",
       "  'grandfather',\n",
       "  'bishop',\n",
       "  'bath',\n",
       "  'well',\n",
       "  'county',\n",
       "  'rejoice',\n",
       "  'dare',\n",
       "  'thing',\n",
       "  'remove',\n",
       "  'london'],\n",
       " ['john',\n",
       "  'bankes',\n",
       "  'professor',\n",
       "  'john',\n",
       "  'college',\n",
       "  'rev',\n",
       "  'jenyns',\n",
       "  'cambridge',\n",
       "  'bottisham',\n",
       "  'hall'],\n",
       " ['october', 'desiderata', 'plant', 'north', 'procure', 'native'],\n",
       " ['fact',\n",
       "  'country',\n",
       "  'plant',\n",
       "  'duplicate',\n",
       "  'country',\n",
       "  'plant',\n",
       "  'procure',\n",
       "  'venture',\n",
       "  'country',\n",
       "  'botanist',\n",
       "  'friend'],\n",
       " ['desiderata', 'trust', 'syllabus', 'mineralogy', 'wh'],\n",
       " ['thank',\n",
       "  'plant',\n",
       "  'narcissus',\n",
       "  'poeticus',\n",
       "  'serapias',\n",
       "  'grandiflora',\n",
       "  'aquilegia',\n",
       "  'vulgaris',\n",
       "  'arabis_turrita',\n",
       "  'orchis',\n",
       "  'militaris',\n",
       "  'hypochaeris',\n",
       "  'maculata',\n",
       "  'glaucium',\n",
       "  'violaceum',\n",
       "  'belladonna',\n",
       "  'lathyrus',\n",
       "  'palustris',\n",
       "  'aphaca',\n",
       "  'delphinium',\n",
       "  'consolida',\n",
       "  'infesta',\n",
       "  'veronica',\n",
       "  'spicata',\n",
       "  'potamogeton',\n",
       "  'pusillum',\n",
       "  'lobelia',\n",
       "  'urens',\n",
       "  'schoenus',\n",
       "  'mariscus',\n",
       "  'chenopodium',\n",
       "  'acutifolium',\n",
       "  'lathirus',\n",
       "  'sylvestris',\n",
       "  'melampyrum',\n",
       "  'cristatum',\n",
       "  'palustre',\n",
       "  'neottia',\n",
       "  'thymus',\n",
       "  'nepeta',\n",
       "  'acinos',\n",
       "  'lathyrus',\n",
       "  'nissolia',\n",
       "  'anemone_pulsatilla',\n",
       "  'thesium',\n",
       "  'linophyllum',\n",
       "  'athamanta',\n",
       "  'libanotis',\n",
       "  'aceras',\n",
       "  'anthropophora',\n",
       "  'teucrium_scordium',\n",
       "  'duplicate'],\n",
       " ['endorsement', 'winch', 'jan', 'plants', 'cumb'],\n",
       " ['hodgson'],\n",
       " ['dec', 'plant', 'lork'],\n",
       " ['desiderata', 'native', 'britain', 'js'],\n",
       " ['newcastle',\n",
       "  'tyne',\n",
       "  'december',\n",
       "  'lork',\n",
       "  'reply',\n",
       "  'oct',\n",
       "  'br',\n",
       "  'plant',\n",
       "  'herbarium',\n",
       "  'narcissus',\n",
       "  'poeticus',\n",
       "  'glaucium',\n",
       "  'violaceum',\n",
       "  'exotic',\n",
       "  'specie'],\n",
       " ['desiderata', 'spring', 'plant', 'kingdom', 'course', 'summer'],\n",
       " ['packet', 'reach', 'plant', 'catalogue', 'exchange', 'botanist'],\n",
       " ['syllabus', 'mineralogy', 'predecessor', 'late', 'clarke', 'note', 'vol'],\n",
       " ['travel',\n",
       "  'division',\n",
       "  'coal',\n",
       "  'coley',\n",
       "  'hill',\n",
       "  'basaltic',\n",
       "  'dyke',\n",
       "  'coke',\n",
       "  'spar',\n",
       "  'spar',\n",
       "  'interstice',\n",
       "  'coke',\n",
       "  'cinder',\n",
       "  'process',\n",
       "  'infiltration'],\n",
       " ['kind',\n",
       "  'elm',\n",
       "  'goodness',\n",
       "  'preserve',\n",
       "  'flower',\n",
       "  'leaf',\n",
       "  'anthemis',\n",
       "  'cotula',\n",
       "  'north',\n",
       "  'lathyrus',\n",
       "  'hirsutus',\n",
       "  'native',\n",
       "  'exotics',\n",
       "  'cryptogamic',\n",
       "  'plant',\n",
       "  'fact',\n",
       "  'specimen'],\n",
       " ['rev',\n",
       "  'holmes',\n",
       "  'sedgwick',\n",
       "  'goodness',\n",
       "  'hope',\n",
       "  'summer',\n",
       "  'jn',\n",
       "  'winch',\n",
       "  'cucubalus',\n",
       "  'baccifer',\n",
       "  'anglesea'],\n",
       " ['kimbolton',\n",
       "  'vicarage',\n",
       "  'feb',\n",
       "  'evening',\n",
       "  'biggs',\n",
       "  'phenomenon',\n",
       "  'vegetable',\n",
       "  'kingdom',\n",
       "  'viz',\n",
       "  'plant',\n",
       "  'primula',\n",
       "  'vulgaris',\n",
       "  'veris',\n",
       "  'united',\n",
       "  'root'],\n",
       " ['variety', 'variety', 'specie', 'subject', 'instance'],\n",
       " ['professor', 'martyn', 'assure'],\n",
       " ['collection', 'society', 'veris', 'plant', 'vulgaris'],\n",
       " ['biggs'],\n",
       " ['intention', 'draw', 'paper', 'mule', 'shall'],\n",
       " ['plant'],\n",
       " ['pencil'],\n",
       " ['plant', 'bigg', 'shade', 'mean'],\n",
       " ['goodness', 'inform', 'point', 'mule', 'animal', 'world'],\n",
       " ['department', 'mule', 'genera'],\n",
       " ['quadruped', 'horse', 'ass'],\n",
       " ['ornithology', 'linnet', 'genus'],\n",
       " ['bird', 'london', 'mules', 'bird', 'cross', 'generation'],\n",
       " ['collection', 'shell', 'us', 'kimbolton', 'portsmouth', 'col'],\n",
       " ['gresmork', 'greswall'],\n",
       " ['ceylon', 'hand', 'custom', 'house'],\n",
       " [],\n",
       " ['lt'],\n",
       " ['col'],\n",
       " ['campbell'],\n",
       " ['reason', 'certainty'],\n",
       " ['event',\n",
       "  'master',\n",
       "  'note',\n",
       "  'palmerston',\n",
       "  'revenue',\n",
       "  'officer',\n",
       "  'hold',\n",
       "  'fact',\n",
       "  'package',\n",
       "  'shell'],\n",
       " ['plant',\n",
       "  'winch',\n",
       "  'illeg',\n",
       "  'collection',\n",
       "  'shell',\n",
       "  'north',\n",
       "  'country',\n",
       "  'plant'],\n",
       " [],\n",
       " ['sedgwick', 'subscription', 'report'],\n",
       " ['plan', 'fund'],\n",
       " ['transaction',\n",
       "  'member',\n",
       "  'guinea',\n",
       "  'month',\n",
       "  'year',\n",
       "  'society',\n",
       "  'guinea',\n",
       "  'member'],\n",
       " ['purchase', 'natural_history'],\n",
       " ['misfortune', 'break', 'leg'],\n",
       " ['fracture', 'room'],\n",
       " ['erection', 'house'],\n",
       " ['correspondence',\n",
       "  'service',\n",
       "  'garden',\n",
       "  'increase',\n",
       "  'collection',\n",
       "  'happiness',\n",
       "  'welfare',\n",
       "  'post'],\n",
       " ['huntley', 'duke', 'gardener', 'plant', 'figure'],\n",
       " ['house', 'march', 'town', 'feb'],\n",
       " [],\n",
       " ['jn', 'title', 'curacy'],\n",
       " ['ordination', 'april', 'candidate', 'april', 'clock', 'order'],\n",
       " ['paper', 'week'],\n",
       " ['bishop'],\n",
       " ['tenby', 'march', 'fear', 'neglectful', 'obliging'],\n",
       " ['october',\n",
       "  'box',\n",
       "  'land',\n",
       "  'water',\n",
       "  'shell',\n",
       "  'middle',\n",
       "  'january',\n",
       "  'home',\n",
       "  'business'],\n",
       " ['shell', 'neighbourhood', 'friend', 'specimen'],\n",
       " ['assure',\n",
       "  'omit',\n",
       "  'animal',\n",
       "  'shell',\n",
       "  'philosophical_society',\n",
       "  'conveyance',\n",
       "  'cambridge'],\n",
       " ['respect', 'william', 'lyon'],\n",
       " [],\n",
       " ['octobre',\n",
       "  'grandmother',\n",
       "  'brother',\n",
       "  'practice',\n",
       "  'avocation',\n",
       "  'office',\n",
       "  'agreeable'],\n",
       " ['collection', 'plant', 'friend', 'month'],\n",
       " ['plant', 'town', 'form', 'flora', 'brittanica', 'common'],\n",
       " ['specimen', 'one'],\n",
       " ['silene',\n",
       "  'maritima',\n",
       "  'pyrola',\n",
       "  'media',\n",
       "  'orchis',\n",
       "  'pyramidalis',\n",
       "  'apifera',\n",
       "  'papaver',\n",
       "  'hybridum',\n",
       "  'anagallis',\n",
       "  'tenella',\n",
       "  'medicago',\n",
       "  'maculata',\n",
       "  'dianthus',\n",
       "  'caucalis',\n",
       "  'smyrnium',\n",
       "  'olusatrum',\n",
       "  'orchis',\n",
       "  'ustulata',\n",
       "  'specimen',\n",
       "  'geranium',\n",
       "  'columbinum',\n",
       "  'statice',\n",
       "  'armeria'],\n",
       " ['maritima',\n",
       "  'glaucium',\n",
       "  'violaceum',\n",
       "  'ballota',\n",
       "  'nigra',\n",
       "  'picris',\n",
       "  'senecio',\n",
       "  'tenuifolius',\n",
       "  'salvia',\n",
       "  'verbenaca',\n",
       "  'sison',\n",
       "  'ammomum',\n",
       "  'rosa',\n",
       "  'arvensis',\n",
       "  'ligusticum',\n",
       "  'scoticum'],\n",
       " ['flower', 'leave', 'sic', 'plant', 'identity', 'specie'],\n",
       " ['allow', 'assure', 'consideration', 'dr', 'justus', 'radius', 'leipsic'],\n",
       " [],\n",
       " [],\n",
       " ['leigh', 'street', 'july', 'non', 'pin', 'procure', 'noake', 'bill'],\n",
       " ['cork', 'house', 'attack', 'fever', 'rest', 'pin', 'cork'],\n",
       " ['paper', 'pin', 'bill'],\n",
       " ['jenyns', 'successful', 'pursuit', 'stylop', 'eye'],\n",
       " ['season', 'catch', 'cabinet', 'possess', 'speciman', 'order', 'desideratum'],\n",
       " ['printer', 'fear', 'season', 'october', 'pursuit', 'official'],\n",
       " ['catch', 'neighbourhood'],\n",
       " ['kindness', 'habitat', 'other', 'group', 'ramble', 'country', 'monograph'],\n",
       " ['specimen', 'side'],\n",
       " ['shell', 'illeg', 'shell', 'mistake', 'trust'],\n",
       " ['rest', 'pin', 'cork', 'haste'],\n",
       " ['sussex',\n",
       "  'hotel',\n",
       "  'tunbridge',\n",
       "  'wells',\n",
       "  'july',\n",
       "  'rain',\n",
       "  'drop',\n",
       "  'london',\n",
       "  'detail',\n",
       "  'proceeding'],\n",
       " ['plant', 'thing', 'collection', 'chief', 'view', 'collection', 'point'],\n",
       " ['trust', 'instance'],\n",
       " ['thing', 'other', 'word'],\n",
       " [],\n",
       " ['schoenus'],\n",
       " ['veronica', 'montana', 'beta', 'maritima'],\n",
       " ['linum'],\n",
       " ['arenaria', 'thlaspi'],\n",
       " ['genista',\n",
       "  'tinctoria',\n",
       "  'prob',\n",
       "  'hirsuta',\n",
       "  'hieracium',\n",
       "  'answer',\n",
       "  'sylvaticum',\n",
       "  'carduus',\n",
       "  'tenuiflorus',\n",
       "  'prenanthe',\n",
       "  'specimen',\n",
       "  'ornithopus',\n",
       "  'none'],\n",
       " ['lot'],\n",
       " ['fern'],\n",
       " [],\n",
       " ['conferva', 'ulva', 'hastings', 'one', 'wet'],\n",
       " ['stay', 'hastings', 'procure', 'term', 'spoil', 'home'],\n",
       " ['lichens', 'rocks', 'sea', 'coast', 'plant', 'puzzle'],\n",
       " ['trust', 'evening'],\n",
       " ['morning',\n",
       "  'frant',\n",
       "  'forest',\n",
       "  'mile',\n",
       "  'rain',\n",
       "  'exception',\n",
       "  'mile',\n",
       "  'viz',\n",
       "  'galium',\n",
       "  'senecio',\n",
       "  'sylvaticus',\n",
       "  'nice',\n",
       "  'moss',\n",
       "  'boggy',\n",
       "  'place',\n",
       "  'side',\n",
       "  'road',\n",
       "  'pepli',\n",
       "  'portula'],\n",
       " ['tour',\n",
       "  'time',\n",
       "  'expectation',\n",
       "  'truth',\n",
       "  'result',\n",
       "  'weather',\n",
       "  'health',\n",
       "  'spirit',\n",
       "  'life'],\n",
       " ['diss',\n",
       "  'plant',\n",
       "  'hastings',\n",
       "  'tho',\n",
       "  'day',\n",
       "  'cliff',\n",
       "  'rock',\n",
       "  'distance',\n",
       "  'town',\n",
       "  'eryngium',\n",
       "  'consequence',\n",
       "  'beta',\n",
       "  'marit'],\n",
       " ['forgot', 'marit'],\n",
       " ['none', 'pale', 'bud'],\n",
       " ['declivity', 'sea', 'accessible', 'couple', 'specimen'],\n",
       " ['hasting', 'communication', 'word', 'tunbridge', 'well'],\n",
       " ['forget', 'tongue', 'minute'],\n",
       " ['order', 'sussex', 'hotel', 'thing', 'page_torn', 'wit', 'bill'],\n",
       " ['coffee', 'room'],\n",
       " ['people', 'gay'],\n",
       " ['band', 'music', 'time', 'hour'],\n",
       " ['theatre', 'thought', 'tonight', 'plant'],\n",
       " ['road', 'life', 'step', 'cloud', 'box', 'pounce'],\n",
       " ['rochester', 'word', 'idea'],\n",
       " ['line', 'soul', 'home'],\n",
       " ['departure',\n",
       "  'cambridge',\n",
       "  'sleep',\n",
       "  'bed',\n",
       "  'sun',\n",
       "  'occasion',\n",
       "  'particular',\n",
       "  'travel'],\n",
       " ['plant', 'marine', 'algae', 'tunbridge', 'town', 'london', 'night'],\n",
       " [],\n",
       " ['hand', 'brown'],\n",
       " ['leipzig',\n",
       "  'march',\n",
       "  'possession',\n",
       "  'plant',\n",
       "  'dr',\n",
       "  'struve',\n",
       "  'dresden',\n",
       "  'manufactury',\n",
       "  'mineral',\n",
       "  'water',\n",
       "  'brighton',\n",
       "  'london',\n",
       "  'collection',\n",
       "  'plant',\n",
       "  'cuba',\n",
       "  'mine',\n",
       "  'year',\n",
       "  'knowledge',\n",
       "  'collection',\n",
       "  'plant',\n",
       "  'seed'],\n",
       " ['sale', 'price', 'century', 'cryptogamic', 'plant', 'filice'],\n",
       " ['collection', 'specimen', 'cryptogamic'],\n",
       " ['cannolstown', 'bedford', 'cty'],\n",
       " ['pensylvania', 'century', 'plant', 'price', 'century'],\n",
       " ['communication', 'friend', 'procure', 'fine', 'specimen', 'plant'],\n",
       " ['news', 'vt', 'radius', 'compliment'],\n",
       " ['upper',\n",
       "  'charlotte',\n",
       "  'street',\n",
       "  'fitzroy',\n",
       "  'square',\n",
       "  'april',\n",
       "  'request',\n",
       "  'tin',\n",
       "  'box',\n",
       "  'purpose',\n",
       "  'plant'],\n",
       " ['dale',\n",
       "  'scotland',\n",
       "  'pursuit',\n",
       "  'object',\n",
       "  'entomology',\n",
       "  'month',\n",
       "  'wonder',\n",
       "  'country',\n",
       "  'taste',\n",
       "  'scenery',\n",
       "  'antiquity',\n",
       "  'scene',\n",
       "  'event',\n",
       "  'companion',\n",
       "  'ent',\n",
       "  'dale',\n",
       "  'scotland',\n",
       "  'winter',\n",
       "  'object',\n",
       "  'arrangement',\n",
       "  'excursion'],\n",
       " ['suffolk',\n",
       "  'autumn',\n",
       "  'drawing',\n",
       "  'plant',\n",
       "  'carry',\n",
       "  'winter',\n",
       "  'stock',\n",
       "  'dorsetshire'],\n",
       " ['agaricus',\n",
       "  'coccineus',\n",
       "  'rubus',\n",
       "  'vaccinium',\n",
       "  'myrtillus',\n",
       "  'arabis_turrita',\n",
       "  'verbena',\n",
       "  'officinalis',\n",
       "  'cichorium',\n",
       "  'intybus',\n",
       "  'lamium',\n",
       "  'purpureum',\n",
       "  'delphinium',\n",
       "  'consolidum',\n",
       "  'parnassia_palustris',\n",
       "  'arvensis',\n",
       "  'matrocaria',\n",
       "  'chamomilla',\n",
       "  'aster',\n",
       "  'tripolium',\n",
       "  'bunias',\n",
       "  'cakile',\n",
       "  'campanula',\n",
       "  'glomerata',\n",
       "  'salicornia',\n",
       "  'herbacea',\n",
       "  'genista',\n",
       "  'anglica',\n",
       "  'rotundifolia',\n",
       "  'hordeum',\n",
       "  'murinum',\n",
       "  'cineraria',\n",
       "  'palustris'],\n",
       " ['convolvulus',\n",
       "  'arvensis',\n",
       "  'calluna',\n",
       "  'vulgaris',\n",
       "  'aenethum',\n",
       "  'foeniculum',\n",
       "  'pyrus',\n",
       "  'malus',\n",
       "  'favor',\n",
       "  'insect'],\n",
       " ['artemisia',\n",
       "  'absinthium',\n",
       "  'cotton',\n",
       "  'rush',\n",
       "  'stephen',\n",
       "  'course',\n",
       "  'family',\n",
       "  'holland',\n",
       "  'bicheno',\n",
       "  'barrister',\n",
       "  'president',\n",
       "  'successor'],\n",
       " ['town',\n",
       "  'anniversary',\n",
       "  'election',\n",
       "  'importance',\n",
       "  'welfare',\n",
       "  'society',\n",
       "  'town',\n",
       "  'insect',\n",
       "  'thomas'],\n",
       " ['catalogue', 'expense'],\n",
       " ['labor',\n",
       "  'science',\n",
       "  'commencement',\n",
       "  'strike',\n",
       "  'confer',\n",
       "  'favor',\n",
       "  'opinion',\n",
       "  'sell',\n",
       "  'subscriber',\n",
       "  'notice',\n",
       "  'expense',\n",
       "  'advertising'],\n",
       " ['advertisement', 'prospectus', 'zool'],\n",
       " ['journal',\n",
       "  'notice',\n",
       "  'chronicle',\n",
       "  'feb',\n",
       "  'jennings',\n",
       "  'remembrances',\n",
       "  'curtis',\n",
       "  'order',\n",
       "  'case',\n",
       "  'linnean',\n",
       "  'inform',\n",
       "  'observe'],\n",
       " ['barham',\n",
       "  'june',\n",
       "  'trouble',\n",
       "  'line',\n",
       "  'wish',\n",
       "  'success',\n",
       "  'service',\n",
       "  'board',\n",
       "  'number',\n",
       "  'term',\n",
       "  'entitle',\n",
       "  'privilege'],\n",
       " ['succeed',\n",
       "  'professor',\n",
       "  'botany',\n",
       "  'life',\n",
       "  'eye',\n",
       "  'memory',\n",
       "  'fail',\n",
       "  'render',\n",
       "  'opponent'],\n",
       " ['willdenow',\n",
       "  'species',\n",
       "  'plantarum',\n",
       "  'copy',\n",
       "  'price',\n",
       "  'england',\n",
       "  'hedwigs',\n",
       "  'muscologia',\n",
       "  'species',\n",
       "  'muscorum',\n",
       "  'octavo',\n",
       "  'quarto'],\n",
       " ['continent', 'cost', 'price', 'service'],\n",
       " ['brooke', 'sale', 'elmstead', 'hortus', 'cost', 'number'],\n",
       " ['objection'],\n",
       " ['service', 'object'],\n",
       " ['kirby', 'june'],\n",
       " ['information', 'government', 'professorship'],\n",
       " [],\n",
       " ['expectation', 'government', 'appointment'],\n",
       " ['goodness', 'note', 'francis'],\n",
       " ['september', 'bearer', 'brunner', 'professor', 'chemistry', 'berne'],\n",
       " ['cambridge',\n",
       "  'stranger',\n",
       "  'liberty',\n",
       "  'line',\n",
       "  'introduction',\n",
       "  'pointing',\n",
       "  'attention',\n",
       "  'university'],\n",
       " ['hooker'],\n",
       " ['bangor',\n",
       "  'october',\n",
       "  'rev',\n",
       "  'plant',\n",
       "  'herbarium',\n",
       "  'desiderata',\n",
       "  'plant',\n",
       "  'friend',\n",
       "  'other',\n",
       "  'deficiency',\n",
       "  'season',\n",
       "  'plant',\n",
       "  'avocation',\n",
       "  'point',\n",
       "  'book',\n",
       "  'blotting',\n",
       "  'paper',\n",
       "  'plant',\n",
       "  'spot',\n",
       "  'collect',\n",
       "  'answer',\n",
       "  'plant',\n",
       "  'error',\n",
       "  'attention',\n",
       "  'carex',\n",
       "  'family',\n",
       "  'collection',\n",
       "  'moss',\n",
       "  'lichen',\n",
       "  'season',\n",
       "  'steal',\n",
       "  'order',\n",
       "  'herbarium',\n",
       "  'desiderata',\n",
       "  'order',\n",
       "  'hint',\n",
       "  'collection',\n",
       "  'years_ago',\n",
       "  'absence',\n",
       "  'home',\n",
       "  'month',\n",
       "  'mouldy',\n",
       "  'prescriptor',\n",
       "  'rev'],\n",
       " ['davy',\n",
       "  'addition',\n",
       "  'plant',\n",
       "  'isle',\n",
       "  'anglesey',\n",
       "  'botanist',\n",
       "  'instance',\n",
       "  'query'],\n",
       " ['native', 'zostera', 'marina'],\n",
       " ['salvia',\n",
       "  'pratensis',\n",
       "  'authority',\n",
       "  'botanist',\n",
       "  'garden',\n",
       "  'pauciflorus',\n",
       "  'glaucus',\n",
       "  'potamogeton',\n",
       "  'fluitans',\n",
       "  'lanceolatum',\n",
       "  'ruppia',\n",
       "  'maritima',\n",
       "  'lysimachia',\n",
       "  'thyrsiflora',\n",
       "  'llwyd',\n",
       "  'synopsis',\n",
       "  'campanula',\n",
       "  'rapunculus'],\n",
       " ['hill',\n",
       "  'gardens',\n",
       "  'viola',\n",
       "  'palustris',\n",
       "  'specimen',\n",
       "  'chironia',\n",
       "  'littoralis',\n",
       "  'procure',\n",
       "  'ribe',\n",
       "  'alpinum',\n",
       "  'specimen',\n",
       "  'ulmus',\n",
       "  'suberosa',\n",
       "  'glabra',\n",
       "  'maritimum',\n",
       "  'specimen',\n",
       "  'linum',\n",
       "  'angustifol'],\n",
       " ['alisma',\n",
       "  'speciman',\n",
       "  'vaccinium',\n",
       "  'myrtillus',\n",
       "  'pyrola',\n",
       "  'minor',\n",
       "  'hearsay',\n",
       "  'country',\n",
       "  'cucubalus',\n",
       "  'baccifer',\n",
       "  'complete',\n",
       "  'error',\n",
       "  'smith',\n",
       "  'english',\n",
       "  'flora',\n",
       "  'cerastium',\n",
       "  'humile',\n",
       "  'creation',\n",
       "  'euphorbia',\n",
       "  'portlandica',\n",
       "  'specimen',\n",
       "  'paralia',\n",
       "  'torminalis',\n",
       "  'specimen',\n",
       "  'aucuparia',\n",
       "  'rosa',\n",
       "  'rubus',\n",
       "  'specimen',\n",
       "  'tormentilla',\n",
       "  'reptans',\n",
       "  'specimen',\n",
       "  'cochlearia',\n",
       "  'danica',\n",
       "  'common',\n",
       "  'iberis',\n",
       "  'amara',\n",
       "  'specimen',\n",
       "  'sisymbrium'],\n",
       " ['habitat',\n",
       "  'cheiranthus',\n",
       "  'sinuatus',\n",
       "  'arabis',\n",
       "  'thaliana',\n",
       "  'turritis',\n",
       "  'hirsuta',\n",
       "  'vulneraria',\n",
       "  'flower',\n",
       "  'seed',\n",
       "  'trifolium',\n",
       "  'subterraneum',\n",
       "  'suffocatum',\n",
       "  'santolina',\n",
       "  'maritima',\n",
       "  'artemisia',\n",
       "  'gallica',\n",
       "  'specimen',\n",
       "  'inula',\n",
       "  'helenium',\n",
       "  'common',\n",
       "  'quercus',\n",
       "  'sessiliflora',\n",
       "  'common',\n",
       "  'oak',\n",
       "  'country',\n",
       "  'speciman'],\n",
       " ['salice',\n",
       "  'laciniata',\n",
       "  'aspidia',\n",
       "  'dr',\n",
       "  'smith',\n",
       "  'notice',\n",
       "  'english',\n",
       "  'flora',\n",
       "  'base',\n",
       "  'anthericum',\n",
       "  'serotinum',\n",
       "  'plant',\n",
       "  'particle',\n",
       "  'liberty',\n",
       "  'desiderata',\n",
       "  'vt',\n",
       "  'john',\n",
       "  'keeping',\n",
       "  'specimen',\n",
       "  'plant',\n",
       "  'davy',\n",
       "  'other',\n",
       "  'arrangement',\n",
       "  'flora',\n",
       "  'britannica',\n",
       "  'english',\n",
       "  'flora',\n",
       "  'illeg',\n",
       "  'book',\n",
       "  'moss'],\n",
       " ['fw', 'john', 'warren'],\n",
       " ['milan',\n",
       "  'november',\n",
       "  'enclosure',\n",
       "  'horror',\n",
       "  'amazement',\n",
       "  'back',\n",
       "  'interval',\n",
       "  'acknowledgement'],\n",
       " ['mine',\n",
       "  'person',\n",
       "  'family',\n",
       "  'friend',\n",
       "  'amusement',\n",
       "  'distance',\n",
       "  'luxury',\n",
       "  'life'],\n",
       " ['negligence'],\n",
       " ['milan',\n",
       "  'home',\n",
       "  'winter',\n",
       "  'spring',\n",
       "  'bore',\n",
       "  'pass',\n",
       "  'month',\n",
       "  'paris',\n",
       "  'continent'],\n",
       " ['tour', 'greece', 'health', 'gout', 'possession', 'liver', 'complaint'],\n",
       " ['pandora',\n",
       "  'box',\n",
       "  'advantage',\n",
       "  'interval',\n",
       "  'istria',\n",
       "  'antiquity',\n",
       "  'italy',\n",
       "  'pola'],\n",
       " ['sketch', 'performance', 'remembrance'],\n",
       " ['sheepshanks', 'venice', 'martin', 'whewell', 'chair', 'successor'],\n",
       " ['family', 'doubt', 'professor', 'light'],\n",
       " ['compt',\n",
       "  'world',\n",
       "  'excavation',\n",
       "  'rome',\n",
       "  'lady',\n",
       "  'dig',\n",
       "  'court',\n",
       "  'yard',\n",
       "  'search',\n",
       "  'treasure',\n",
       "  'relic',\n",
       "  'figure',\n",
       "  'head',\n",
       "  'rest',\n",
       "  'body',\n",
       "  'earth',\n",
       "  'mortar',\n",
       "  'room',\n",
       "  'party',\n",
       "  'observe',\n",
       "  'process',\n",
       "  'shroud',\n",
       "  'merit',\n",
       "  'operation',\n",
       "  'statue',\n",
       "  'view',\n",
       "  'confusion',\n",
       "  'discoverer',\n",
       "  'friend',\n",
       "  'number',\n",
       "  'priapus',\n",
       "  'magnitude'],\n",
       " ['particular', 'society', 'house'],\n",
       " ['summer', 'heat', 'sorrento', 'snow', 'gasp', 'breath'],\n",
       " ['collection',\n",
       "  'insect',\n",
       "  'palermo',\n",
       "  'poison',\n",
       "  'order',\n",
       "  'physician',\n",
       "  'procure',\n",
       "  'shop'],\n",
       " ['arrival'],\n",
       " ['family',\n",
       "  'con',\n",
       "  'loro',\n",
       "  'seguito',\n",
       "  'renowned',\n",
       "  'newnham',\n",
       "  'pray',\n",
       "  'emigrate'],\n",
       " ['bucket', 'cambridge', 'news', 'stand'],\n",
       " ['paper', 'month'],\n",
       " ['building', 'terra', 'firma', 'air'],\n",
       " ['correspondence',\n",
       "  'custom',\n",
       "  'house',\n",
       "  'officer',\n",
       "  'palermo',\n",
       "  'garden',\n",
       "  'countryman',\n",
       "  'tomb',\n",
       "  'effort',\n",
       "  'vase',\n",
       "  'barrel',\n",
       "  'dollar',\n",
       "  'possessor'],\n",
       " ['agrigentum', 'palermo', 'customhouse', 'kingdom', 'heart', 'recover'],\n",
       " ['shape', 'head', 'impediment'],\n",
       " ['king'],\n",
       " ['rest', 'page'],\n",
       " ['twopeny'],\n",
       " ['cambridge',\n",
       "  'december',\n",
       "  'lork',\n",
       "  'trinity',\n",
       "  'convey',\n",
       "  'packet',\n",
       "  'plant',\n",
       "  'packet',\n",
       "  'acknowledging'],\n",
       " ['duplicate',\n",
       "  'occur',\n",
       "  'possess',\n",
       "  'guide',\n",
       "  'flora',\n",
       "  'eriophorum',\n",
       "  'pubescen',\n",
       "  'habitat',\n",
       "  'relhan',\n",
       "  'fen',\n",
       "  'satisfy',\n",
       "  'galium',\n",
       "  'witheringii',\n",
       "  'variety',\n",
       "  'palustre',\n",
       "  'specimen',\n",
       "  'comparison',\n",
       "  'furnish',\n",
       "  'specimen',\n",
       "  'melica',\n",
       "  'nutans',\n",
       "  'juncus',\n",
       "  'acutus'],\n",
       " ['example', 'print', 'desiderata', 'ye'],\n",
       " ['specie'],\n",
       " ['subjoin', 'specimen', 'desideratum'],\n",
       " ['vulgaris', 'var', 'elatior', 'plant', 'lysimachia', 'nummul'],\n",
       " ['epithm'],\n",
       " ['dianthus',\n",
       "  'caryoph',\n",
       "  'arabis_turrita',\n",
       "  'althæa',\n",
       "  'officinalis',\n",
       "  'verbascum',\n",
       "  'lychnitis',\n",
       "  'ajuga',\n",
       "  'chamæpitys',\n",
       "  'conyza',\n",
       "  'squarrosa',\n",
       "  'scirpus',\n",
       "  'acicularis',\n",
       "  'asperula',\n",
       "  'cynanch'],\n",
       " ['thesium', 'linoph'],\n",
       " ['scutellaria', 'lonicera', 'caprifol'],\n",
       " ['sison', 'segetum', 'verbascum', 'pulverul'],\n",
       " ['melampyrum', 'cristat'],\n",
       " ['hydrotictyon', 'reticulatum', 'conferva'],\n",
       " ['neottia',\n",
       "  'spiralis',\n",
       "  'sonchus',\n",
       "  'palustris',\n",
       "  'rubia',\n",
       "  'perigrina',\n",
       "  'iris',\n",
       "  'fœtidissima',\n",
       "  'scilla',\n",
       "  'autumnalis',\n",
       "  'valeriana',\n",
       "  'rubra',\n",
       "  'cistus',\n",
       "  'guttatus',\n",
       "  'alisma',\n",
       "  'natans',\n",
       "  'blatt'],\n",
       " ['bromus', 'erectus', 'bupleurum', 'arenaria', 'integrifol'],\n",
       " [],\n",
       " ['flora',\n",
       "  'tho',\n",
       "  'spartina',\n",
       "  'stricta',\n",
       "  'specimen',\n",
       "  'norton',\n",
       "  'bupleurum',\n",
       "  'rotundifol'],\n",
       " ['hogg'],\n",
       " ['newcastle',\n",
       "  'tyne',\n",
       "  'december',\n",
       "  'thank',\n",
       "  'plant',\n",
       "  'ja',\n",
       "  'lork',\n",
       "  'herbarium',\n",
       "  'solution',\n",
       "  'spirit',\n",
       "  'wine',\n",
       "  'precaution',\n",
       "  'specimen',\n",
       "  'insect',\n",
       "  'eriophorum',\n",
       "  'pubescen',\n",
       "  'neighbourhood',\n",
       "  'plant',\n",
       "  'cotton',\n",
       "  'grass'],\n",
       " ['rev',\n",
       "  'holmes',\n",
       "  'summer',\n",
       "  'pubescen',\n",
       "  'carlisle',\n",
       "  'specimen',\n",
       "  'plant',\n",
       "  'polystachion',\n",
       "  'north',\n",
       "  'england',\n",
       "  'species',\n",
       "  'south',\n",
       "  'country',\n",
       "  'locality',\n",
       "  'possess',\n",
       "  'speciman',\n",
       "  'conclude',\n",
       "  'us',\n",
       "  'polystachion',\n",
       "  'south',\n",
       "  'england',\n",
       "  'species',\n",
       "  'herbarium'],\n",
       " ['doubt'],\n",
       " ['galium',\n",
       "  'witheringii',\n",
       "  'bishop',\n",
       "  'carlisle',\n",
       "  'course',\n",
       "  'species',\n",
       "  'eng',\n",
       "  'bot',\n",
       "  'pretend',\n",
       "  'determine',\n",
       "  'seed',\n",
       "  'degree',\n",
       "  'difficulty'],\n",
       " ['situation',\n",
       "  'habit',\n",
       "  'palustre',\n",
       "  'sp',\n",
       "  'melica',\n",
       "  'nutans',\n",
       "  'juncus',\n",
       "  'acutus',\n",
       "  'var',\n",
       "  'maritimus',\n",
       "  'pray',\n",
       "  'desiderata',\n",
       "  'power',\n",
       "  'catalogue'],\n",
       " ['ed',\n",
       "  'pamphlet',\n",
       "  'geog',\n",
       "  'plant',\n",
       "  'hogg',\n",
       "  'bupleurum',\n",
       "  'rotundifolium',\n",
       "  'county',\n",
       "  'durham',\n",
       "  'edition',\n",
       "  'information',\n",
       "  'note'],\n",
       " ['lonicera', 'caprifolium', 'hinton'],\n",
       " ['rehlan'],\n",
       " ['ms', 'malaxis', 'loeselii'],\n",
       " ['specie', 'garden', 'plant'],\n",
       " ['lapland', 'one'],\n",
       " ['exotic', 'botanic_garden', 'post', 'letter', 'jn', 'winch'],\n",
       " ['jenyns', 'observation', 'ornithology', 'cambridgeshire'],\n",
       " ['remark', 'liberty', 'thing', 'perusal', 'observation'],\n",
       " ['head', 'insectivori', 'shrike', 'shot', 'melbourne'],\n",
       " ['mistake'],\n",
       " ['bird', 'bird', 'mouse'],\n",
       " ['bird', 'mouse'],\n",
       " ['accentor', 'alpinus', 'garden', 'space', 'window', 'chapel'],\n",
       " ['boarula'],\n",
       " ['octr', 'lawn', 'field', 'side', 'river'],\n",
       " ['martin', 'side', 'clare', 'hall', 'novr'],\n",
       " ['day', 'chapel'],\n",
       " ['number', 'covey', 'partridge', 'neighbourhood', 'clayhithe'],\n",
       " ['stone', 'curlew', 'feather', 'years_ago', 'cambridge'],\n",
       " ['crane', 'breed', 'england'],\n",
       " ['turner', 'page'],\n",
       " ['apud',\n",
       "  'anglo',\n",
       "  'etiam',\n",
       "  'nidulantur',\n",
       "  'locis',\n",
       "  'palustribus',\n",
       "  'eorum',\n",
       "  'crane',\n",
       "  'saepissime',\n",
       "  'vidi'],\n",
       " ['cambridge', 'fen', 'siskin', 'country', 'cambridge'],\n",
       " ['whimbrel', 'sale', 'cambridge'],\n",
       " ['snipe', 'market', 'shot', 'fit', 'stuffing'],\n",
       " ['gallinula', 'baillonii', 'melbourne'],\n",
       " ['person', 'market', 'coot', 'cambridge', 'market'],\n",
       " ['anser',\n",
       "  'ferus',\n",
       "  'segetum',\n",
       "  'albifron',\n",
       "  'experience',\n",
       "  'extend',\n",
       "  'appearance',\n",
       "  'bird',\n",
       "  'cambridge',\n",
       "  'market'],\n",
       " ['bean', 'geese'],\n",
       " ['anser', 'ferus'],\n",
       " ['albifron',\n",
       "  'time',\n",
       "  'procure',\n",
       "  'thence',\n",
       "  'brent',\n",
       "  'goose',\n",
       "  'barnacle',\n",
       "  'london',\n",
       "  'markets',\n",
       "  'season'],\n",
       " ['anas',\n",
       "  'strepera',\n",
       "  'gadwall',\n",
       "  'note',\n",
       "  'bird',\n",
       "  'sale',\n",
       "  'cambridge',\n",
       "  'market',\n",
       "  'feb'],\n",
       " [],\n",
       " ['anas', 'tadorna'],\n",
       " ['male', 'april', 'cambridge'],\n",
       " ['female'],\n",
       " ['cormorant', 'course', 'damage', 'distance', 'sea'],\n",
       " ['shag', 'coast'],\n",
       " ['sea', 'pie', 'cambridgeshire'],\n",
       " [],\n",
       " ['cambridge',\n",
       "  'thank',\n",
       "  'kindness',\n",
       "  'specimen',\n",
       "  'addition',\n",
       "  'british',\n",
       "  'flora',\n",
       "  'correspondent',\n",
       "  'specimen',\n",
       "  'plant',\n",
       "  'leisure',\n",
       "  'desiderata',\n",
       "  'course',\n",
       "  'print',\n",
       "  'desiderata',\n",
       "  'copy',\n",
       "  'addition',\n",
       "  'welsh',\n",
       "  'plant',\n",
       "  'duplicate',\n",
       "  'wale',\n",
       "  'duplicate',\n",
       "  'specimen',\n",
       "  'tin_box',\n",
       "  'dimension',\n",
       "  'inch'],\n",
       " ['sling',\n",
       "  'shoulder',\n",
       "  'leather',\n",
       "  'strap',\n",
       "  'chalk',\n",
       "  'paper',\n",
       "  'grocer',\n",
       "  'plant',\n",
       "  'tin_box',\n",
       "  'warren',\n",
       "  'return',\n",
       "  'specimen',\n",
       "  'mespilus',\n",
       "  'friend',\n",
       "  'discovery',\n",
       "  'speciman',\n",
       "  'curtis',\n",
       "  'entomology',\n",
       "  'plate',\n",
       "  'plant',\n",
       "  'discoverer',\n",
       "  'extract',\n",
       "  'habitat'],\n",
       " ['plant', 'orme', 'head', 'neighbourhood', 'spiræa', 'ula'],\n",
       " ['hippocrepis',\n",
       "  'comosa',\n",
       "  'hypocharis',\n",
       "  'maculata',\n",
       "  'viola',\n",
       "  'hirta',\n",
       "  'orchis',\n",
       "  'pyramidalis',\n",
       "  'avena',\n",
       "  'pratensis',\n",
       "  'flavescens',\n",
       "  'scabiosa',\n",
       "  'columbaria',\n",
       "  'euonymus',\n",
       "  'europœus',\n",
       "  'kent',\n",
       "  'pyrus',\n",
       "  'aria',\n",
       "  'epipactis',\n",
       "  'latifolia',\n",
       "  'abundance',\n",
       "  'rest',\n",
       "  'country',\n",
       "  'viz',\n",
       "  'potentilla',\n",
       "  'verna',\n",
       "  'brassica',\n",
       "  'oleracea',\n",
       "  'crambe',\n",
       "  'maritima',\n",
       "  'hypericum',\n",
       "  'montanum',\n",
       "  'cistus',\n",
       "  'marifolius',\n",
       "  'silene',\n",
       "  'nutans',\n",
       "  'rubia',\n",
       "  'peregrina',\n",
       "  'borago',\n",
       "  'officinalis',\n",
       "  'query'],\n",
       " ['arenaria',\n",
       "  'verna',\n",
       "  'scrophularia',\n",
       "  'verna',\n",
       "  'orobanche',\n",
       "  'hypocharis',\n",
       "  'maculata',\n",
       "  'purpose',\n",
       "  'comparison',\n",
       "  'plant',\n",
       "  'favour',\n",
       "  'desiderata',\n",
       "  'thro',\n",
       "  'plant',\n",
       "  'robart',\n",
       "  'collect',\n",
       "  'grass',\n",
       "  'carice',\n",
       "  'summer',\n",
       "  'assistance',\n",
       "  'department',\n",
       "  'wilson',\n",
       "  'hyperborea',\n",
       "  'british',\n",
       "  'species',\n",
       "  'collection'],\n",
       " ['commercial',\n",
       "  'inn',\n",
       "  'camborne',\n",
       "  'cornwall',\n",
       "  'june',\n",
       "  'notification',\n",
       "  'voice',\n",
       "  'election',\n",
       "  'circumstance',\n",
       "  'hope',\n",
       "  'committee',\n",
       "  'cambridge',\n",
       "  'palmerston',\n",
       "  'mortification'],\n",
       " ['number',\n",
       "  'addition',\n",
       "  'unit',\n",
       "  'matter',\n",
       "  'consequence',\n",
       "  'stand',\n",
       "  'case',\n",
       "  'matter',\n",
       "  'consolation',\n",
       "  'fact',\n",
       "  'finish',\n",
       "  'experiment'],\n",
       " ['difficulty', 'delay', 'command', 'july'],\n",
       " ['labour', 'demand', 'failure'],\n",
       " ['election', 'necessity'],\n",
       " ['result', 'pendulum', 'ground', 'place'],\n",
       " ['day', 'observation'],\n",
       " ['ground'],\n",
       " ['hour',\n",
       "  'thereabout',\n",
       "  'foot',\n",
       "  'granite',\n",
       "  'slay',\n",
       "  'slate',\n",
       "  'light',\n",
       "  'cavern',\n",
       "  'rock',\n",
       "  'telescope',\n",
       "  'partition',\n",
       "  'cavern'],\n",
       " ['hour', 'surface', 'ladder'],\n",
       " ['quantity',\n",
       "  'ascent',\n",
       "  'descent',\n",
       "  'box',\n",
       "  'pocket',\n",
       "  'chronometer',\n",
       "  'idea',\n",
       "  'employment'],\n",
       " ['day'],\n",
       " ['success',\n",
       "  'election',\n",
       "  'matter',\n",
       "  'cambridge',\n",
       "  'pray',\n",
       "  'remembrances',\n",
       "  'miss',\n",
       "  'fanny',\n",
       "  'remind',\n",
       "  'sedgwick',\n",
       "  'promise',\n",
       "  'friend'],\n",
       " ['cambridge',\n",
       "  'june',\n",
       "  'embrace',\n",
       "  'ch',\n",
       "  'frank',\n",
       "  'afford',\n",
       "  'speciman',\n",
       "  'plant',\n",
       "  'spec',\n",
       "  'person',\n",
       "  'specimen',\n",
       "  'description',\n",
       "  'habitat',\n",
       "  'curtis',\n",
       "  'entomology',\n",
       "  'publication',\n",
       "  'drawing',\n",
       "  'plant',\n",
       "  'rock',\n",
       "  'head',\n",
       "  'wale',\n",
       "  'native',\n",
       "  'chara',\n",
       "  'gracilis',\n",
       "  'desiderata'],\n",
       " ['cambridge', 'flora', 'flower', 'blossom'],\n",
       " ['bangor',\n",
       "  'july',\n",
       "  'root',\n",
       "  'scarlet',\n",
       "  'anthyllis',\n",
       "  'vulneraria',\n",
       "  'morning',\n",
       "  'dispatch',\n",
       "  'evening',\n",
       "  'fear',\n",
       "  'sod',\n",
       "  'object',\n",
       "  'seed',\n",
       "  'variety',\n",
       "  'coast',\n",
       "  'anglesea',\n",
       "  'root',\n",
       "  'llangwyfan',\n",
       "  'mile',\n",
       "  'aberffraw',\n",
       "  'sort',\n",
       "  'root',\n",
       "  'sod',\n",
       "  'circumstance',\n",
       "  'consideration',\n",
       "  'parcel',\n",
       "  'supply',\n",
       "  'cream',\n",
       "  'variety',\n",
       "  'season',\n",
       "  'specimen',\n",
       "  'home',\n",
       "  'day',\n",
       "  'desiderata'],\n",
       " ['speciman',\n",
       "  'inula',\n",
       "  'statice',\n",
       "  'reticulata',\n",
       "  'llangwyfan',\n",
       "  'anthyllis',\n",
       "  'desiderata',\n",
       "  'plant',\n",
       "  'flora',\n",
       "  'cantabrigensis',\n",
       "  'fear',\n",
       "  'other',\n",
       "  'correspondent',\n",
       "  'tho',\n",
       "  'addition',\n",
       "  'obligation',\n",
       "  'fear',\n",
       "  'novelty',\n",
       "  'extent',\n",
       "  'expectation',\n",
       "  'variety',\n",
       "  'mine',\n",
       "  'understand',\n",
       "  'inconvenience',\n",
       "  'specimen',\n",
       "  'number',\n",
       "  'correspondent',\n",
       "  'leisure',\n",
       "  'convenience',\n",
       "  'case',\n",
       "  'forego',\n",
       "  'gratification',\n",
       "  'view',\n",
       "  'knowledge',\n",
       "  'opportunity',\n",
       "  'specimen',\n",
       "  'season',\n",
       "  'leisure',\n",
       "  'purpose',\n",
       "  'wilson',\n",
       "  'plant',\n",
       "  'cantabrigensis',\n",
       "  'jsh'],\n",
       " ['crocus', 'sativus'],\n",
       " ['caricinus',\n",
       "  'panicum',\n",
       "  'viride',\n",
       "  'phleum',\n",
       "  'paniculatum',\n",
       "  'boehmeri',\n",
       "  'agrostis',\n",
       "  'spica',\n",
       "  'venti',\n",
       "  'poa',\n",
       "  'distans',\n",
       "  'bromus',\n",
       "  'erectus',\n",
       "  'pinnatus'],\n",
       " ['arundo', 'calamagrostis', 'hordeum', 'maritimum', 'asperula', 'cynanchica'],\n",
       " ['galium', 'erectum'],\n",
       " ['spurium', 'anglicum', 'sanguisorba', 'officinalis', 'comparison'],\n",
       " ['potamogeton', 'anglesea'],\n",
       " ['arvense', 'asperugo', 'procumbens', 'nymphaeoide'],\n",
       " ['glomerata'],\n",
       " ['viola',\n",
       "  'odorata',\n",
       "  'verbascum',\n",
       "  'lychnitis',\n",
       "  'nigrum',\n",
       "  'atropa',\n",
       "  'belladonna'],\n",
       " ['rhamnus', 'catharticus', 'thesium', 'linophyllum'],\n",
       " ['chenopodium',\n",
       "  'urbicum',\n",
       "  'rubrum',\n",
       "  'murale',\n",
       "  'hybrida',\n",
       "  'ficifolium',\n",
       "  'olidum'],\n",
       " ['polyspermum'],\n",
       " ['cuscuta',\n",
       "  'europaea',\n",
       "  'bupleurum',\n",
       "  'rotundifolium',\n",
       "  'tenuifolium',\n",
       "  'caucali',\n",
       "  'latifolia',\n",
       "  'daucoide',\n",
       "  'palustre',\n",
       "  'athamanta',\n",
       "  'libanotis',\n",
       "  'sison',\n",
       "  'segetum',\n",
       "  'viburnum',\n",
       "  'lantana',\n",
       "  'linum',\n",
       "  'perenne',\n",
       "  'angustifolium',\n",
       "  'frankenia',\n",
       "  'laevis',\n",
       "  'rumex'],\n",
       " ['maritimus',\n",
       "  'colchicum',\n",
       "  'autumnale',\n",
       "  'monotropa',\n",
       "  'silene',\n",
       "  'noctiflora',\n",
       "  'arenaria',\n",
       "  'tenuifolia',\n",
       "  'sedum',\n",
       "  'sexangulare',\n",
       "  'album',\n",
       "  'second',\n",
       "  'column',\n",
       "  'lythrum',\n",
       "  'hyssopifolium',\n",
       "  'reseda',\n",
       "  'lutea'],\n",
       " ['euphorbia',\n",
       "  'platyphylla',\n",
       "  'potentilla',\n",
       "  'argentea',\n",
       "  'glaucium',\n",
       "  'violaceum',\n",
       "  'papaver',\n",
       "  'dubium'],\n",
       " ['delphinium',\n",
       "  'consolida',\n",
       "  'anemone_pulsatilla',\n",
       "  'clematis',\n",
       "  'helleborus',\n",
       "  'ajuga',\n",
       "  'chamaepytis',\n",
       "  'teucrium_scordium',\n",
       "  'mentha',\n",
       "  'sylvestris',\n",
       "  'leonurus',\n",
       "  'cardiaca',\n",
       "  'wild',\n",
       "  'thymus',\n",
       "  'acinos'],\n",
       " ['nepeta'],\n",
       " ['melampyrum',\n",
       "  'cristata',\n",
       "  'sylvaticum',\n",
       "  'linaria',\n",
       "  'spuria',\n",
       "  'limosella',\n",
       "  'aquatica',\n",
       "  'lepidium',\n",
       "  'ruderale',\n",
       "  'arvense',\n",
       "  'isatis',\n",
       "  'tinctoria',\n",
       "  'nasturtium',\n",
       "  'amphibium'],\n",
       " ['erysimum', 'cheiranthoide'],\n",
       " ['arabis_turrita',\n",
       "  'geranium',\n",
       "  'rotundifolium',\n",
       "  'althaea',\n",
       "  'officinalis',\n",
       "  'lathyrus',\n",
       "  'aphaca',\n",
       "  'nissolia',\n",
       "  'latifolius',\n",
       "  'palustris',\n",
       "  'astragalus',\n",
       "  'glyciphyllos',\n",
       "  'hypoglottis',\n",
       "  'trifolium',\n",
       "  'subterraneum',\n",
       "  'ochroleucum',\n",
       "  'scabrum'],\n",
       " ['medicago', 'falcata', 'hypericum', 'hirsutum', 'picris', 'hieracioide'],\n",
       " ['sonchus',\n",
       "  'palustris',\n",
       "  'lactuca',\n",
       "  'virosa',\n",
       "  'crepis',\n",
       "  'foetida',\n",
       "  'hypochoeris',\n",
       "  'glabra',\n",
       "  'lapsana',\n",
       "  'pusilla',\n",
       "  'carduus',\n",
       "  'acanthoide',\n",
       "  'cnicus',\n",
       "  'acaulis'],\n",
       " ['eriophorus'],\n",
       " ['onopordium',\n",
       "  'acanthium',\n",
       "  'overleaf',\n",
       "  'senecio',\n",
       "  'viscosus',\n",
       "  'paludosus',\n",
       "  'inula',\n",
       "  'pulicaria',\n",
       "  'intergrifolia',\n",
       "  'var',\n",
       "  'anthemis',\n",
       "  'arvensis',\n",
       "  'centaurea'],\n",
       " ['ustulata',\n",
       "  'aceras',\n",
       "  'anthropophora',\n",
       "  'herminium',\n",
       "  'monorchis',\n",
       "  'ophrys',\n",
       "  'apifera',\n",
       "  'aranifera',\n",
       "  'epipactis',\n",
       "  'grandiflorum',\n",
       "  'malaxis',\n",
       "  'loeselii',\n",
       "  'aristolochia',\n",
       "  'carex',\n",
       "  'divulsa',\n",
       "  'amaranthus',\n",
       "  'blitum',\n",
       "  'ruscus',\n",
       "  'aculeatus',\n",
       "  'mercurialis',\n",
       "  'annuus',\n",
       "  'aspidium',\n",
       "  'cristatum'],\n",
       " ['page', 'robert', 'specimen', 'milium', 'lendigerum'],\n",
       " ['stricta', 'crocus', 'bromus', 'pinnatus'],\n",
       " ['walpole',\n",
       "  'andrew',\n",
       "  'lynn',\n",
       "  'august',\n",
       "  'professor',\n",
       "  'sedgwick',\n",
       "  'cambridge',\n",
       "  'liberty',\n",
       "  'enquiry',\n",
       "  'professor'],\n",
       " ['walpole', 'west', 'lynn', 'sutton', 'wash'],\n",
       " ['tract',\n",
       "  'land',\n",
       "  'marshland',\n",
       "  'time',\n",
       "  'sea',\n",
       "  'disadvantage',\n",
       "  'country',\n",
       "  'water',\n",
       "  'spring',\n",
       "  'ft',\n",
       "  'surface',\n",
       "  'salt',\n",
       "  'water',\n",
       "  'deposit',\n",
       "  'dependence',\n",
       "  'water',\n",
       "  'clouds',\n",
       "  'season',\n",
       "  'kindness',\n",
       "  'inform',\n",
       "  'prospect',\n",
       "  'water',\n",
       "  'salt',\n",
       "  'water',\n",
       "  'land',\n",
       "  'spring',\n",
       "  'probability',\n",
       "  'access',\n",
       "  'experiment',\n",
       "  'extent',\n",
       "  'country',\n",
       "  'side',\n",
       "  'circumstance',\n",
       "  'gentleman',\n",
       "  'lynn',\n",
       "  'miles',\n",
       "  'east',\n",
       "  'upwards',\n",
       "  'ft',\n",
       "  'water',\n",
       "  'conybeare',\n",
       "  'philip',\n",
       "  'geology',\n",
       "  'eng',\n",
       "  'day',\n",
       "  'page',\n",
       "  'mention',\n",
       "  'experiment',\n",
       "  'marsh',\n",
       "  'humber',\n",
       "  'marsh',\n",
       "  'gleam',\n",
       "  'favor',\n",
       "  'view',\n",
       "  'case'],\n",
       " ['professor', 'sedgwick', 'conybeare', 'address', 'liberty'],\n",
       " ['hawkinson'],\n",
       " ['september',\n",
       "  'dissertation',\n",
       "  'country',\n",
       "  'publication',\n",
       "  'information',\n",
       "  'institution',\n",
       "  'collection',\n",
       "  'science'],\n",
       " ['society',\n",
       "  'cambridge',\n",
       "  'advancement',\n",
       "  'zoology',\n",
       "  'museum',\n",
       "  'information',\n",
       "  'subject'],\n",
       " ['zeal',\n",
       "  'company',\n",
       "  'leach',\n",
       "  'trust',\n",
       "  'nature',\n",
       "  'excuse',\n",
       "  'trouble',\n",
       "  'solicit'],\n",
       " ['library', 'collection', 'country'],\n",
       " ['ser'],\n",
       " ['william', 'swainson'],\n",
       " ['september',\n",
       "  'summer',\n",
       "  'botany',\n",
       "  'field',\n",
       "  'acquisition',\n",
       "  'duplicate',\n",
       "  'milium',\n",
       "  'lendigerum',\n",
       "  'vinca',\n",
       "  'sonchus',\n",
       "  'palustris',\n",
       "  'kent',\n",
       "  'menyanthe',\n",
       "  'nymphæoide',\n",
       "  'choice',\n",
       "  'plant',\n",
       "  'tho',\n",
       "  'may',\n",
       "  'desiderata',\n",
       "  'malaxis',\n",
       "  'fear',\n",
       "  'season',\n",
       "  'habitat',\n",
       "  'relhan',\n",
       "  'habitat',\n",
       "  'doubt',\n",
       "  'brother_law',\n",
       "  'house',\n",
       "  'botanist',\n",
       "  'eriophorum',\n",
       "  'angustifolium',\n",
       "  'specie',\n",
       "  'lapland',\n",
       "  'happy',\n",
       "  'dry',\n",
       "  'collection',\n",
       "  'plant',\n",
       "  'country',\n",
       "  'county',\n",
       "  'speciman',\n",
       "  'kent',\n",
       "  'summer',\n",
       "  'weather',\n",
       "  'speciman',\n",
       "  'plant',\n",
       "  'holland',\n",
       "  'oct',\n",
       "  'term',\n",
       "  'hand',\n",
       "  'plant',\n",
       "  'cambridge',\n",
       "  'packet',\n",
       "  'coach'],\n",
       " ['genuiness',\n",
       "  'lonicera',\n",
       "  'caprifolium',\n",
       "  'county',\n",
       "  'plant',\n",
       "  'speciman',\n",
       "  'chara',\n",
       "  'gracilis',\n",
       "  'flower',\n",
       "  'summer',\n",
       "  'poison',\n",
       "  'plant',\n",
       "  'herbarium',\n",
       "  'advantage',\n",
       "  'rub',\n",
       "  'succulent',\n",
       "  'plant',\n",
       "  'solution',\n",
       "  'prevent',\n",
       "  'martyn',\n",
       "  'plant'],\n",
       " ['endorsement', 'winch', 'oct'],\n",
       " ['october',\n",
       "  'leonard',\n",
       "  'minute',\n",
       "  'helix',\n",
       "  'bottom',\n",
       "  'pill',\n",
       "  'box',\n",
       "  'tin',\n",
       "  'case'],\n",
       " ['dartford'],\n",
       " ['acori', 'bottle', 'spirit', 'minute', 'butterf'],\n",
       " ['madingley', 'moss'],\n",
       " ['saucer', 'acori', 'minute', 'spirit'],\n",
       " ['pill', 'box', 'insect', 'horny', 'jaw', 'paper'],\n",
       " ['peziza'],\n",
       " ['query'],\n",
       " ['speciman', 'plantation'],\n",
       " [],\n",
       " ['newcastle',\n",
       "  'tyne',\n",
       "  'october',\n",
       "  'answer',\n",
       "  'correspondent',\n",
       "  'communication',\n",
       "  'amusement',\n",
       "  'instruction'],\n",
       " ['indisposition',\n",
       "  'mile',\n",
       "  'home',\n",
       "  'summer',\n",
       "  'course',\n",
       "  'herbarium',\n",
       "  'rosa',\n",
       "  'doniana',\n",
       "  'certe'],\n",
       " ['gracilis', 'side', 'idea', 'species', 'variety'],\n",
       " ['plant', 'botanic_garden', 'specie'],\n",
       " ['chara', 'gracilis', 'value', 'discoverer'],\n",
       " ['plant', 'value', 'garden', 'town', 'prize', 'sp'],\n",
       " ['holland',\n",
       "  'herbarium',\n",
       "  'year',\n",
       "  'botany',\n",
       "  'british',\n",
       "  'plants',\n",
       "  'lapland',\n",
       "  'arctic',\n",
       "  'region',\n",
       "  'sweden',\n",
       "  'norway',\n",
       "  'russia',\n",
       "  'siberia',\n",
       "  'germany',\n",
       "  'holland',\n",
       "  'france',\n",
       "  'europe',\n",
       "  'italy',\n",
       "  'hungary',\n",
       "  'greece',\n",
       "  'spain',\n",
       "  'portugal',\n",
       "  'asia',\n",
       "  'africa',\n",
       "  'america',\n",
       "  'nth',\n",
       "  'south',\n",
       "  'australia'],\n",
       " ['ja',\n",
       "  'barkholm',\n",
       "  'york',\n",
       "  'botanist',\n",
       "  'speciman',\n",
       "  'lysimachia',\n",
       "  'vulgaris',\n",
       "  'bank',\n",
       "  'darlington',\n",
       "  'cousin',\n",
       "  'punctata'],\n",
       " ['plant', 'rare', 'holland'],\n",
       " ['specimen'],\n",
       " ['martin', 'herbarium'],\n",
       " ['plant', 'spirit', 'wine', 'insect'],\n",
       " ['sedgwick',\n",
       "  'goodness',\n",
       "  'winch',\n",
       "  'var',\n",
       "  'fl',\n",
       "  'rub',\n",
       "  'rosa',\n",
       "  'involuta',\n",
       "  'sabini',\n",
       "  'sabine',\n",
       "  'donania',\n",
       "  'gracilis'],\n",
       " ['alb',\n",
       "  'rosa',\n",
       "  'sabini',\n",
       "  'sabine',\n",
       "  'gracilis',\n",
       "  'ennerdale',\n",
       "  'dwarf',\n",
       "  'rosa',\n",
       "  'involuta',\n",
       "  'eng',\n",
       "  'bot',\n",
       "  'sea',\n",
       "  'shore'],\n",
       " ['cambridge',\n",
       "  'december',\n",
       "  'dr',\n",
       "  'daubeny',\n",
       "  'habit',\n",
       "  'fasciculus',\n",
       "  'plant',\n",
       "  'sale',\n",
       "  'oxford',\n",
       "  'request',\n",
       "  'favour',\n",
       "  'copy',\n",
       "  'price',\n",
       "  'delay'],\n",
       " ['service',\n",
       "  'specie',\n",
       "  'neighbourhood',\n",
       "  'specie',\n",
       "  'assist',\n",
       "  'spring',\n",
       "  'return',\n",
       "  'search',\n",
       "  'plant',\n",
       "  'view',\n",
       "  'edition',\n",
       "  'flora',\n",
       "  'address',\n",
       "  'professor',\n",
       "  'cambridge',\n",
       "  'aecidium',\n",
       "  'primi'],\n",
       " ['abundance',\n",
       "  'june',\n",
       "  'greville',\n",
       "  'specimen',\n",
       "  'fasciculi',\n",
       "  'search',\n",
       "  'spot',\n",
       "  'garden',\n",
       "  'oxford'],\n",
       " ['days_ago', 'mine', 'herbarium'],\n",
       " ['page', 'particular', 'botany'],\n",
       " ['plant', 'tasmania', 'vulg'],\n",
       " ['neighbourhood', 'oatland', 'residence', 'centre', 'island'],\n",
       " ['particular', 'science', 'ill_del'],\n",
       " ['botany', 'jungle', 'india'],\n",
       " ['remembrance', 'vachell', 'season', 'spring', 'sep', 'ber', 'oct'],\n",
       " ['ber', 'nov'],\n",
       " ['ber', 'summer', 'dec'],\n",
       " ['ber', 'jan'],\n",
       " ['feb'],\n",
       " ['autumn',\n",
       "  'march',\n",
       "  'april',\n",
       "  'winter',\n",
       "  'june',\n",
       "  'july',\n",
       "  'august',\n",
       "  'climate',\n",
       "  'england'],\n",
       " ['change',\n",
       "  'heat',\n",
       "  'winter',\n",
       "  'sunshine',\n",
       "  'rain',\n",
       "  'none',\n",
       "  'change',\n",
       "  'fog',\n",
       "  'england',\n",
       "  'consequence'],\n",
       " ['spring', 'month', 'subject', 'ill_del'],\n",
       " ['month', 'sept', 'oct', 'ber', 'rain'],\n",
       " ['summer', 'prevalence', 'wind', 'extreme'],\n",
       " ['season',\n",
       "  'spring',\n",
       "  'subject',\n",
       "  'morning',\n",
       "  'frost',\n",
       "  'evening',\n",
       "  'fire',\n",
       "  'agreeable'],\n",
       " ['autumn', 'season', 'morning', 'evening'],\n",
       " ['winter', 'pleasant', 'ill_del'],\n",
       " ['morning',\n",
       "  'evening',\n",
       "  'frost',\n",
       "  'month',\n",
       "  'rain',\n",
       "  'snow',\n",
       "  'occurrence',\n",
       "  'place',\n",
       "  'inch',\n",
       "  'quantity'],\n",
       " ['similarity',\n",
       "  'climate',\n",
       "  'conclude',\n",
       "  'seeds',\n",
       "  'bulbs',\n",
       "  'flower',\n",
       "  'shrub',\n",
       "  'tree',\n",
       "  'flower',\n",
       "  'country',\n",
       "  'heat',\n",
       "  'instance',\n",
       "  'growth',\n",
       "  'winter',\n",
       "  'english',\n",
       "  'garden'],\n",
       " ['tasmania', 'van', 'dieman', 'land'],\n",
       " [],\n",
       " [],\n",
       " ['flora',\n",
       "  'charnwood',\n",
       "  'forest',\n",
       "  'neighbourhood',\n",
       "  'glenfield',\n",
       "  'groot',\n",
       "  'pool'],\n",
       " ['soil', 'rock', 'slate', 'gracedilu', 'limestone'],\n",
       " ['page',\n",
       "  'duplicate',\n",
       "  'viola',\n",
       "  'lutea',\n",
       "  'chrysoplenium',\n",
       "  'alternifolium',\n",
       "  'neighbourhood',\n",
       "  'ludlow',\n",
       "  'aconitum',\n",
       "  'napellus',\n",
       "  'abundance',\n",
       "  'bank',\n",
       "  'letwycke',\n",
       "  'teme',\n",
       "  'moss'],\n",
       " [],\n",
       " ['neighbourhood', 'trichostomum', 'lameginisum', 'kind'],\n",
       " ['edinburgh',\n",
       "  'january',\n",
       "  'hasten',\n",
       "  'assure',\n",
       "  'promise',\n",
       "  'gratification',\n",
       "  'correspondence',\n",
       "  'power',\n",
       "  'assist',\n",
       "  'view'],\n",
       " ['science', 'hint', 'lecture'],\n",
       " ['course', 'lecture', 'botany', 'course'],\n",
       " ['moment', 'course', 'lecture', 'summer'],\n",
       " ['student', 'gentleman'],\n",
       " ['plan'],\n",
       " [],\n",
       " ['nature', 'subject', 'distinction', 'plant', 'animal'],\n",
       " ['lamarck', 'animaux', 'sano'],\n",
       " ['discourse'],\n",
       " [],\n",
       " ['utility', 'botany', 'mankind'],\n",
       " [],\n",
       " ['history', 'botany'],\n",
       " [],\n",
       " ['geography', 'plant'],\n",
       " [],\n",
       " ['anatomy',\n",
       "  'physiology',\n",
       "  'article',\n",
       "  'anatomy',\n",
       "  'vegetable',\n",
       "  'vegetable_physiology',\n",
       "  'suppl'],\n",
       " ['enc'],\n",
       " ['britannica', 'dan'],\n",
       " ['ellis'],\n",
       " ['todd', 'thompson', 'lect'],\n",
       " ['bot'],\n",
       " ['terminology', 'character'],\n",
       " [],\n",
       " ['classification'],\n",
       " [],\n",
       " ['cryptogamia', 'subject'],\n",
       " ['lecturer', 'classification', 'talk', 'body', 'character'],\n",
       " ['impatient', 'refer', 'elementary'],\n",
       " ['commence',\n",
       "  'character',\n",
       "  'root',\n",
       "  'classroom',\n",
       "  'term',\n",
       "  'quarter',\n",
       "  'hour',\n",
       "  'hour',\n",
       "  'lecture',\n",
       "  'specimen',\n",
       "  'root',\n",
       "  'demonstration',\n",
       "  'description',\n",
       "  'flora',\n",
       "  'londinensis',\n",
       "  'purpose'],\n",
       " ['partspoint', 'corolla', 'calyx'],\n",
       " ['assistance', 'lecturer', 'drawing', 'elephant', 'folio', 'one', 'course'],\n",
       " ['sap',\n",
       "  'vessels',\n",
       "  'arm',\n",
       "  'red',\n",
       "  'snow',\n",
       "  'ball',\n",
       "  'campanula',\n",
       "  'rotundifolia',\n",
       "  'inch',\n",
       "  'rest',\n",
       "  'proportion'],\n",
       " ['form', 'leave', 'classroom', 'subject', 'book', 'lecture', 'room'],\n",
       " ['attempt',\n",
       "  'idea',\n",
       "  'distribution',\n",
       "  'plant',\n",
       "  'world',\n",
       "  'mercator',\n",
       "  'projection',\n",
       "  'foot'],\n",
       " ['service', 'pardon', 'question'],\n",
       " ['inform', 'parcel', 'london'],\n",
       " ['collection', 'cryptogamia', 'thing', 'other'],\n",
       " ['specimen', 'plant', 'correspondent', 'herbarium'],\n",
       " ['parcel'],\n",
       " [],\n",
       " ['flora'],\n",
       " ['money'],\n",
       " ['greville',\n",
       "  'direction',\n",
       "  'specimen',\n",
       "  'musci',\n",
       "  'desiderati',\n",
       "  'herbario',\n",
       "  'greviliano'],\n",
       " ['street',\n",
       "  'oxford',\n",
       "  'january',\n",
       "  'dr',\n",
       "  'williams',\n",
       "  'professor',\n",
       "  'botany',\n",
       "  'reply',\n",
       "  'queries',\n",
       "  'acre',\n",
       "  'ground',\n",
       "  'wall',\n",
       "  'garden',\n",
       "  'acre',\n",
       "  'wall',\n",
       "  'part',\n",
       "  'botanic_garden'],\n",
       " ['house', 'foot', 'length'],\n",
       " ['salary', 'curator', 'ann'],\n",
       " [],\n",
       " ['house'],\n",
       " ['number', 'man', 'assistance', 'mark'],\n",
       " ['expenditure',\n",
       "  'fund',\n",
       "  'property',\n",
       "  'university',\n",
       "  'assistance',\n",
       "  'university',\n",
       "  'chest',\n",
       "  'exchequer'],\n",
       " ['ground', 'property', 'magdalen', 'college', 'rent'],\n",
       " ['edinbr', 'march', 'january'],\n",
       " ['apology',\n",
       "  'tho',\n",
       "  'conscience',\n",
       "  'application',\n",
       "  'quarter',\n",
       "  'virtue',\n",
       "  'truth',\n",
       "  'bear',\n",
       "  'division',\n",
       "  'query',\n",
       "  'botanic_garden',\n",
       "  'scotch',\n",
       "  'acre'],\n",
       " ['scotch', 'acre', 'english'],\n",
       " ['range',\n",
       "  'nursing',\n",
       "  'pit',\n",
       "  'foot',\n",
       "  'range',\n",
       "  'foot',\n",
       "  'wall',\n",
       "  'house',\n",
       "  'house',\n",
       "  'house',\n",
       "  'foot',\n",
       "  'foot',\n",
       "  'wall',\n",
       "  'foot',\n",
       "  'foot',\n",
       "  'end',\n",
       "  'ab'],\n",
       " ['foot', 'foot', 'wall', 'stove', 'foot', 'foot', 'other'],\n",
       " ['bed', 'glass', 'deficit', 'loftyhouse', 'house', 'stoveplant'],\n",
       " ['salary',\n",
       "  'curator',\n",
       "  'fee',\n",
       "  'student',\n",
       "  'lecture',\n",
       "  'number',\n",
       "  'number',\n",
       "  'gardener',\n",
       "  'season'],\n",
       " ['number'],\n",
       " ['botanic_garden', 'property', 'crown', 'incorporation', 'city', 'pocket'],\n",
       " ['allowance',\n",
       "  'tho',\n",
       "  'subscribe',\n",
       "  'prevent',\n",
       "  'ruin',\n",
       "  'ab',\n",
       "  'per_annum',\n",
       "  'query'],\n",
       " ['satisfaction', 'detail', 'garden', 'trip'],\n",
       " ['graham'],\n",
       " ['funchal',\n",
       "  'march',\n",
       "  'owe',\n",
       "  'thank',\n",
       "  'promptitude',\n",
       "  'ch',\n",
       "  'view',\n",
       "  'manner',\n",
       "  'ch',\n",
       "  'intelligence'],\n",
       " ['bishop', 'message', 'intention'],\n",
       " ['shaw', 'latin', 'scheme', 'canary', 'cape', 'verde'],\n",
       " ['davis', 'proposal', 'rec'],\n",
       " ['instruction', 'government', 'delay', 'west', 'indie', 'south', 'america'],\n",
       " ['liberty', 'hope', 'plan'],\n",
       " ['neighbouring', 'island', 'occasion', 'offer'],\n",
       " ['meantime', 'hand'],\n",
       " ['island', 'nature', 'surface', 'examination'],\n",
       " ['ravines', 'access', 'ground'],\n",
       " ['mollusca', 'procure', 'speak', 'land'],\n",
       " ['excursion', 'north', 'pico', 'ruivo', 'helicarion', 'abundance'],\n",
       " ['helix'],\n",
       " ['plant'],\n",
       " ['town', 'dock', 'case', 'plant', 'injury'],\n",
       " ['word', 'direct', 'box', 'cam', 'spec'],\n",
       " ['ms', 'garganica', 'verrucaria'],\n",
       " ['mineralogy', 'lavas', 'tufas'],\n",
       " ['porto',\n",
       "  'limestone',\n",
       "  'shell',\n",
       "  'bulwer',\n",
       "  'market',\n",
       "  'supply',\n",
       "  'wood',\n",
       "  'shell',\n",
       "  'collection'],\n",
       " [],\n",
       " ['fanny'],\n",
       " [],\n",
       " ['glasgow',\n",
       "  'april',\n",
       "  'esteem',\n",
       "  'wish',\n",
       "  'months_ago',\n",
       "  'plant',\n",
       "  'edinburgh',\n",
       "  'lucas',\n",
       "  'yarmouth',\n",
       "  'gentleman',\n",
       "  'sister',\n",
       "  'provost',\n",
       "  'lady'],\n",
       " ['parcel',\n",
       "  'edinburgh',\n",
       "  'glasgow',\n",
       "  'young',\n",
       "  'dr',\n",
       "  'scouler',\n",
       "  'london',\n",
       "  'coach'],\n",
       " ['regulation', 'garden', 'plan', 'house'],\n",
       " ['list', 'perusal', 'interminum', 'garden'],\n",
       " ['botany', 'service'],\n",
       " ['science', 'history', 'science', 'gratifie', 'student'],\n",
       " ['intersperse', 'botanist', 'anecdote'],\n",
       " ['linnaeus', 'subject', 'lecture'],\n",
       " ['student', 'examination', 'specimen'],\n",
       " ['name', 'part', 'flower', 'genera', 'species', 'flora', 'scotica'],\n",
       " ['hour', 'half', 'hour', 'bear', 'terminology', 'physiology', 'botany'],\n",
       " ['book', 'illustration', 'plate'],\n",
       " ['copy', 'pupil', 'page', 'figure'],\n",
       " ['course', 'supply', 'class', 'book'],\n",
       " ['consequence',\n",
       "  'failure',\n",
       "  'house',\n",
       "  'manager',\n",
       "  'business',\n",
       "  'copy',\n",
       "  'drawing',\n",
       "  'course',\n",
       "  'labour',\n",
       "  'talent',\n",
       "  'industry',\n",
       "  'greville',\n",
       "  'possesse',\n",
       "  'subject',\n",
       "  'view',\n",
       "  'student'],\n",
       " ['excursion', 'country', 'day'],\n",
       " ['interest', 'student'],\n",
       " ['month'],\n",
       " ['course', 'course', 'lady', 'course', 'attendance', 'glasgow', 'course'],\n",
       " ['illustration'],\n",
       " ['interest', 'class', 'college', 'class'],\n",
       " ['lecture', 'labor', 'lack'],\n",
       " ['enlarge', 'description'],\n",
       " ['welsh',\n",
       "  'correspondent',\n",
       "  'woodsia',\n",
       "  'ilvensis',\n",
       "  'hyperborea',\n",
       "  'anthericum',\n",
       "  'serotinum',\n",
       "  'endeavour'],\n",
       " ['garden', 'plant'],\n",
       " ['bowie',\n",
       "  'king',\n",
       "  'cost',\n",
       "  'view',\n",
       "  'collection',\n",
       "  'specimen',\n",
       "  'plant',\n",
       "  'production'],\n",
       " ['brewster', 'journal', 'mile'],\n",
       " ['day', 'address', 'employ'],\n",
       " ['mespilus', 'coton'],\n",
       " [],\n",
       " ['lond'],\n",
       " ['hooker'],\n",
       " ['cambridge',\n",
       "  'april',\n",
       "  'liberty',\n",
       "  'hooker',\n",
       "  'professor',\n",
       "  'botany',\n",
       "  'glasgow',\n",
       "  'woodsia',\n",
       "  'ilvensis',\n",
       "  'hyperborea',\n",
       "  'anthericum',\n",
       "  'serotinum',\n",
       "  'bid',\n",
       "  'sort',\n",
       "  'power',\n",
       "  'inform',\n",
       "  'flora',\n",
       "  'londinensis',\n",
       "  'circumstance',\n",
       "  'place',\n",
       "  'scotland',\n",
       "  'summer',\n",
       "  'request',\n",
       "  'acquaintance',\n",
       "  'specimen',\n",
       "  'hexandria',\n",
       "  'herbarium',\n",
       "  'stock',\n",
       "  'observation',\n",
       "  'letter',\n",
       "  'illeg',\n",
       "  'general',\n",
       "  'linnaeus',\n",
       "  'primula',\n",
       "  'veris',\n",
       "  'elatior',\n",
       "  'vulgaris',\n",
       "  'species',\n",
       "  'cowslip',\n",
       "  'garden',\n",
       "  'year',\n",
       "  'compound',\n",
       "  'corolla',\n",
       "  'leaf'],\n",
       " ['fact', 'accuracy', 'specie'],\n",
       " ['ex'],\n",
       " [],\n",
       " ['viola', 'hirta', 'odorata', 'variety'],\n",
       " ['drawing',\n",
       "  'elephant',\n",
       "  'folio',\n",
       "  'lecture',\n",
       "  'commence',\n",
       "  'home',\n",
       "  'hill',\n",
       "  'vasculum',\n",
       "  'anemone_pulsatilla',\n",
       "  'perfection'],\n",
       " ['cambridge',\n",
       "  'april',\n",
       "  'hogg',\n",
       "  'plant',\n",
       "  'packet',\n",
       "  'reduce',\n",
       "  'desiderata',\n",
       "  'specie'],\n",
       " ['primrose',\n",
       "  'oxlip',\n",
       "  'cowslip',\n",
       "  'specie',\n",
       "  'cowslip',\n",
       "  'years_ago',\n",
       "  'garden',\n",
       "  'leaf',\n",
       "  'flower',\n",
       "  'paler',\n",
       "  'limb',\n",
       "  'corolla',\n",
       "  'primrose',\n",
       "  'oxlip',\n",
       "  'specimen',\n",
       "  'change',\n",
       "  'course',\n",
       "  'drawing',\n",
       "  'elephant',\n",
       "  'folio',\n",
       "  'part',\n",
       "  'lecture',\n",
       "  'room',\n",
       "  'thank',\n",
       "  'epilobium',\n",
       "  'puzzle',\n",
       "  'examination'],\n",
       " ['winch'],\n",
       " ['rothsay', 'bute', 'april', 'family', 'day'],\n",
       " ['wish', 'sickness'],\n",
       " ['weather', 'voyage', 'day', 'hurricane', 'wind', 'snow', 'east', 'coast'],\n",
       " ['spring',\n",
       "  'flower',\n",
       "  'prunus',\n",
       "  'speciosa',\n",
       "  'viola',\n",
       "  'canina',\n",
       "  'potentilla',\n",
       "  'fragaria',\n",
       "  'adoxa',\n",
       "  'moschatellina',\n",
       "  'house',\n",
       "  'stone',\n",
       "  'throw',\n",
       "  'sea',\n",
       "  'weather',\n",
       "  'coast',\n",
       "  'minute'],\n",
       " ['algae',\n",
       "  'luxuriant',\n",
       "  'stock',\n",
       "  'duplicate',\n",
       "  'coast',\n",
       "  'specie',\n",
       "  'object',\n",
       "  'defracta',\n",
       "  'alagonidium',\n",
       "  'defractum',\n",
       "  'agardh'],\n",
       " ['substance'],\n",
       " ['moss', 'drummondi', 'pulchellum', 'bartramia', 'arcuata'],\n",
       " ['british', 'flora'],\n",
       " ['system', 'sale', 'part', 'linnean', 'clavis', 'generum', 'termination'],\n",
       " ['fear', 'progress', 'purchaser', 'wait'],\n",
       " ['confess', 'feeling', 'supercede', 'smith'],\n",
       " ['synopsis', 'genera', 'linnean', 'plan', 'form'],\n",
       " ['cambridgeshire', 'flora', 'none', 'difficulty'],\n",
       " ['plan', 'table', 'nat', 'order', 'trouble', 'manner', 'transaction'],\n",
       " ['interest', 'one'],\n",
       " ['character', 'order', 'course', 'commence', 'genera'],\n",
       " ['linnean',\n",
       "  'arrangement',\n",
       "  'genera',\n",
       "  'advantage',\n",
       "  'commencement',\n",
       "  'reference',\n",
       "  'page',\n",
       "  'genus',\n",
       "  'body'],\n",
       " ['plan', 'index'],\n",
       " ['table', 'genera', 'character', 'resting', 'minute', 'detail'],\n",
       " ['var', 'herbarium'],\n",
       " ['end'],\n",
       " ['preparation', 'town', 'gentleman', 'care', 'parcel', 'algae', 'london'],\n",
       " ['parcel'],\n",
       " [],\n",
       " ['newcastle',\n",
       "  'tyne',\n",
       "  'british',\n",
       "  'rarities',\n",
       "  'hoggs',\n",
       "  'packet',\n",
       "  'acceptable',\n",
       "  'flatter',\n",
       "  'prospect',\n",
       "  'specimen',\n",
       "  'scotch',\n",
       "  'botanist',\n",
       "  'herbarium'],\n",
       " ['primrose', 'polyanthu', 'cowslip', 'north'],\n",
       " ['eng'],\n",
       " [],\n",
       " ['primula',\n",
       "  'scotica',\n",
       "  'var',\n",
       "  'farinosa',\n",
       "  'stricta',\n",
       "  'dan',\n",
       "  'alisma',\n",
       "  'repen',\n",
       "  'years_ago',\n",
       "  'loch',\n",
       "  'holy',\n",
       "  'island',\n",
       "  'var',\n",
       "  'anthericum',\n",
       "  'serotinum',\n",
       "  'treasure',\n",
       "  'sp',\n",
       "  'ms'],\n",
       " ['eriophorum', 'polystachion', 'smith'],\n",
       " ['pubescen', 'holme', 'north', 'polystachion', 'potamogeton', 'gramineum'],\n",
       " ['winch', 'moment', 'forgot', 'epilobium', 'parcel'],\n",
       " ['edinburgh', 'glasgow', 'day'],\n",
       " ['rome', 'hand', 'goodall', 'plant', 'journey'],\n",
       " ['summer', 'england'],\n",
       " ['shell',\n",
       "  'occasion',\n",
       "  'agent',\n",
       "  'huneman',\n",
       "  'queens',\n",
       "  'frith',\n",
       "  'soho',\n",
       "  'london'],\n",
       " ['william', 'elford', 'leach'],\n",
       " ['jardin',\n",
       "  'mercredi',\n",
       "  'matin',\n",
       "  'juin',\n",
       "  'eur',\n",
       "  'cuvier',\n",
       "  'prient',\n",
       "  'monsieur',\n",
       "  'faire',\n",
       "  'lhonneur',\n",
       "  'venir',\n",
       "  'passer',\n",
       "  'soiree',\n",
       "  'chez',\n",
       "  'samedi',\n",
       "  'prochain',\n",
       "  'juin'],\n",
       " ['address', 'monsieur', 'hotel', 'france', 'rue', 'coq', 'heron', 'paris'],\n",
       " ['park',\n",
       "  'square',\n",
       "  'leed',\n",
       "  'august',\n",
       "  'year',\n",
       "  'finger',\n",
       "  'misfortune',\n",
       "  'patient',\n",
       "  'morbid',\n",
       "  'virus',\n",
       "  'skeleton',\n",
       "  'lessened',\n",
       "  'ardor',\n",
       "  'science',\n",
       "  'god',\n",
       "  'family',\n",
       "  'friend',\n",
       "  'trust',\n",
       "  'wish',\n",
       "  'plant',\n",
       "  'museum',\n",
       "  'kindness',\n",
       "  'furnish',\n",
       "  'desiderata',\n",
       "  'thr',\n",
       "  'friend',\n",
       "  'procure',\n",
       "  'summer',\n",
       "  'one',\n",
       "  'county',\n",
       "  'duplicate',\n",
       "  'yorkshire',\n",
       "  'specimen',\n",
       "  'respect',\n",
       "  'plant',\n",
       "  'cambridge',\n",
       "  'phil_soc',\n",
       "  'specie',\n",
       "  'relhan'],\n",
       " ['orchideæ',\n",
       "  'plant',\n",
       "  'curtis',\n",
       "  'wish',\n",
       "  'success',\n",
       "  'honor',\n",
       "  'obd',\n",
       "  'sevt',\n",
       "  'john',\n",
       "  'atkinson'],\n",
       " ['cambridge', 'september', 'leonard', 'copy'],\n",
       " [],\n",
       " ['socs'],\n",
       " ['curtis', 'duplicate', 'work', 'one'],\n",
       " ['viz', 'sturm', 'fauna'],\n",
       " ['colour', 'plate', 'illiger', 'col'],\n",
       " ['plate', 'scarabidae', 'hexoda', 'hister'],\n",
       " ['plant'],\n",
       " [],\n",
       " ['price', 'miegen'],\n",
       " ['october',\n",
       "  'parcel',\n",
       "  'plant',\n",
       "  'kent',\n",
       "  'obligation',\n",
       "  'thank',\n",
       "  'trust',\n",
       "  'attention',\n",
       "  'bundle',\n",
       "  'residence',\n",
       "  'scotland',\n",
       "  'month',\n",
       "  'tho',\n",
       "  'weather',\n",
       "  'indisposition',\n",
       "  'collect',\n",
       "  'number',\n",
       "  'plant',\n",
       "  'country',\n",
       "  'purpose',\n",
       "  'herbaria',\n",
       "  'supply',\n",
       "  'collection',\n",
       "  'specimen',\n",
       "  'plant',\n",
       "  'leisure',\n",
       "  'course',\n",
       "  'season',\n",
       "  'reason',\n",
       "  'introduction',\n",
       "  'hooker',\n",
       "  'gratification',\n",
       "  'advantage',\n",
       "  'acquaintance'],\n",
       " ['consequence',\n",
       "  'invitation',\n",
       "  'accompany',\n",
       "  'killin',\n",
       "  'perthshire',\n",
       "  'home',\n",
       "  'summer',\n",
       "  'season',\n",
       "  'westmorland',\n",
       "  'condition',\n",
       "  'bear',\n",
       "  'fatigue',\n",
       "  'exertion',\n",
       "  'killin',\n",
       "  'thro',\n",
       "  'collection',\n",
       "  'variety',\n",
       "  'supply',\n",
       "  'sort',\n",
       "  'condition',\n",
       "  'specimen',\n",
       "  'juncus',\n",
       "  'castaneus',\n",
       "  'arenaria',\n",
       "  'rubella',\n",
       "  'woodsia',\n",
       "  'hyperboria',\n",
       "  'alchemilla',\n",
       "  'alpina',\n",
       "  'gnaphalium',\n",
       "  'supinum',\n",
       "  'juncus',\n",
       "  'trifidus',\n",
       "  'trientalis',\n",
       "  'europæa',\n",
       "  'sibbaldia',\n",
       "  'procumbens',\n",
       "  'veronica',\n",
       "  'saxatilis',\n",
       "  'tofieldia',\n",
       "  'palustris',\n",
       "  'carex',\n",
       "  'capillaris',\n",
       "  'atrata',\n",
       "  'cornus',\n",
       "  'suecica',\n",
       "  'myosotis',\n",
       "  'alpestris',\n",
       "  'collection',\n",
       "  'friend',\n",
       "  'supply',\n",
       "  'thought',\n",
       "  'order',\n",
       "  'future',\n",
       "  'plant',\n",
       "  'specimen',\n",
       "  'smith',\n",
       "  'isnardia',\n",
       "  'palustris',\n",
       "  'sussex',\n",
       "  'borrer',\n",
       "  'cowslip',\n",
       "  'management',\n",
       "  'oxlip',\n",
       "  'viola',\n",
       "  'hirta',\n",
       "  'odorata',\n",
       "  'suspicion',\n",
       "  'fact',\n",
       "  'comparison',\n",
       "  'plant',\n",
       "  'similarity',\n",
       "  'opinion',\n",
       "  'bentham',\n",
       "  'hooker',\n",
       "  'flower',\n",
       "  'viola',\n",
       "  'hirta',\n",
       "  'france',\n",
       "  'fragrance',\n",
       "  'odorata',\n",
       "  'circumstance',\n",
       "  'wale',\n",
       "  'roberts',\n",
       "  'engagement',\n",
       "  'day',\n",
       "  'excursion',\n",
       "  'bangor',\n",
       "  'winter',\n",
       "  'purpose',\n",
       "  'moss'],\n",
       " ['parcel', 'acceptable', 'care'],\n",
       " ['lemna',\n",
       "  'gibba',\n",
       "  'specimen',\n",
       "  'quantity',\n",
       "  'seed',\n",
       "  'hooker',\n",
       "  'minor',\n",
       "  'flower',\n",
       "  'june',\n",
       "  'species',\n",
       "  'ripen',\n",
       "  'seed',\n",
       "  'procure',\n",
       "  'fructification',\n",
       "  'jungermannia',\n",
       "  'blasia',\n",
       "  'stage',\n",
       "  'satisfy',\n",
       "  'jungermannia',\n",
       "  'specimen',\n",
       "  'carex',\n",
       "  'curta',\n",
       "  'abundant',\n",
       "  'killin',\n",
       "  'ground',\n",
       "  'vallie',\n",
       "  'mountain',\n",
       "  'elevation',\n",
       "  'foot',\n",
       "  'hooker',\n",
       "  'winch',\n",
       "  'newcastle',\n",
       "  'specimen',\n",
       "  'cypripedium',\n",
       "  'calceolus',\n",
       "  'speciman',\n",
       "  'galium',\n",
       "  'mistake',\n",
       "  'pen',\n",
       "  'maenmawr',\n",
       "  'part',\n",
       "  'wale',\n",
       "  'smith',\n",
       "  'witheringii',\n",
       "  'size',\n",
       "  'variety',\n",
       "  'palustre',\n",
       "  'warrington',\n",
       "  'gentiana',\n",
       "  'nivalis',\n",
       "  'ben',\n",
       "  'lawer',\n",
       "  'speciman',\n",
       "  'hooker',\n",
       "  'author',\n",
       "  'flora',\n",
       "  'scotica',\n",
       "  'claim',\n",
       "  'plant',\n",
       "  'duplicate',\n",
       "  'moss',\n",
       "  'wilson'],\n",
       " ['madeira', 'october', 'acknowledging', 'plant'],\n",
       " ['parcel', 'paper', 'purpose'],\n",
       " ['stock', 'stuff', 'conclusion'],\n",
       " ['business', 'satisfaction', 'mean'],\n",
       " ['box', 'ch', 'plant', 'sec'],\n",
       " ['rself',\n",
       "  'thinking',\n",
       "  'expence',\n",
       "  'content',\n",
       "  'coral',\n",
       "  'soc',\n",
       "  'sic',\n",
       "  'kindness'],\n",
       " ['caryophyllia', 'ramasae', 'spec'],\n",
       " ['animal'],\n",
       " ['fisherman'],\n",
       " ['gorgonia', 'verrucosa'],\n",
       " ['child', 'suggestion', 'pustubora', 'lu', 'fact', 'var'],\n",
       " ['word', 'trans', 'bach', 'lr'],\n",
       " ['goodness', 'matter', 'form', 'salary'],\n",
       " ['possibility', 'retain', 'july'],\n",
       " ['sh'],\n",
       " ['cam'],\n",
       " ['half', 'application', 'business', 'salary'],\n",
       " ['pray', 'salary'],\n",
       " ['addition', 'slender', 'prolong', 'expedition', 'ch', 'abandon'],\n",
       " ['residence',\n",
       "  'fauna',\n",
       "  'flora',\n",
       "  'islands',\n",
       "  'ch',\n",
       "  'material',\n",
       "  'salary',\n",
       "  'appointment',\n",
       "  'scheme',\n",
       "  'ch',\n",
       "  'vanity',\n",
       "  'world'],\n",
       " ['text',\n",
       "  'accounting',\n",
       "  'bot',\n",
       "  'acquisition',\n",
       "  'france',\n",
       "  'botanical',\n",
       "  'novelty',\n",
       "  'box',\n",
       "  'sedgwick',\n",
       "  'month'],\n",
       " ['answer'],\n",
       " ['hooker', 'plate', 'folio', 'course', 'publication'],\n",
       " ['service'],\n",
       " ['thought', 'box', 'care', 'brother'],\n",
       " ['parcel', 'seeds', 'bot', 'garden', 'ch', 'berkeley'],\n",
       " [],\n",
       " ['batatas', 'ch', 'cultiv', 'acquisition', 'stock', 'vegetable'],\n",
       " ['fear', 'length', 'require', 'ground', 'march', 'root', 'oct', 'jan'],\n",
       " [],\n",
       " ['injury', 'frost'],\n",
       " [],\n",
       " ['frame'],\n",
       " ['root', 'cutting', 'trench', 'year', 'crop'],\n",
       " ['objection', 'england', 'root', 'demand', 'table', 'seed'],\n",
       " ['soil'],\n",
       " ['box', 'board', 'beaufoy', 'sail', 'nov'],\n",
       " ['london'],\n",
       " ['batata', 'deal', 'boiling', 'hour'],\n",
       " ['potatoe', 'misnomer', 'parsnip'],\n",
       " [],\n",
       " ['boiling', 'mealy', 'potato', 'text', 'hooker', 'packet', 'plant', 'ch'],\n",
       " [],\n",
       " ['grammitis'],\n",
       " ['lamarckia', 'chrysurus'],\n",
       " ['aurea',\n",
       "  'campanula',\n",
       "  'aurea',\n",
       "  'habenaria',\n",
       "  'cordata',\n",
       "  'carthamus',\n",
       "  'salicifolius',\n",
       "  'former',\n",
       "  'rariss'],\n",
       " ['lichen', 'moss'],\n",
       " ['package'],\n",
       " ['whole', 'zoophyte', 'mollusca', 'fish', 'acquisition'],\n",
       " ['catalogue', 'madeira', 'bird', 'assistance', 'page', 'line', 'insect'],\n",
       " ['jenyns', 'duplicate'],\n",
       " ['friend'],\n",
       " [],\n",
       " ['november',\n",
       "  'sidmouth',\n",
       "  'quarter',\n",
       "  'reason',\n",
       "  'neighbourhood',\n",
       "  'deal',\n",
       "  'sea',\n",
       "  'side',\n",
       "  'residence'],\n",
       " ['wood', 'coast', 'half', 'tree', 'branch', 'landwise', 'imploring'],\n",
       " ['house', 'month', 'guineas'],\n",
       " ['storm', 'years_ago', 'effect', 'price', 'house'],\n",
       " ['town', 'level', 'sea', 'period', 'allude', 'foot', 'water'],\n",
       " ['plant'],\n",
       " ['vegetation', 'country'],\n",
       " ['speciman', 'phascum', 'muticum'],\n",
       " ['stock', 'aspidium', 'aculeatum', 'pressure'],\n",
       " ['plant'],\n",
       " ['sphaerococcus', 'griffithsiae', 'palmetta'],\n",
       " ['griffithsia', 'equisetifolia', 'conferva'],\n",
       " ['sphacellaria', 'loreus', 'copia', 'incredibile'],\n",
       " ['griffith', 'collection', 'state', 'appearance', 'algæ'],\n",
       " ['purchase',\n",
       "  'material',\n",
       "  'british',\n",
       "  'algae',\n",
       "  'manner',\n",
       "  'muscologia',\n",
       "  'britannica',\n",
       "  'plate',\n",
       "  'specie',\n",
       "  'genera'],\n",
       " ['winter', 'labour', 'form'],\n",
       " ['combination', 'greek', 'latin', 'muscologia'],\n",
       " ['hydrophytologia', 'ear'],\n",
       " ['algae', 'britannicae'],\n",
       " ['title'],\n",
       " ['days_ago', 'hooker', 'london'],\n",
       " ['mind'],\n",
       " ['franklin', 'party', 'thing', 'botany'],\n",
       " ['collection'],\n",
       " ['parcel', 'ferns', 'helena', 'hooker', 'ande'],\n",
       " ['roof', 'recollect', 'spring'],\n",
       " ['united_regard', 'gentleman', 'sedgwick', 'party', 'greville'],\n",
       " ['november',\n",
       "  'dr',\n",
       "  'leach',\n",
       "  'dine',\n",
       "  'home',\n",
       "  'care',\n",
       "  'parcel',\n",
       "  'england',\n",
       "  'middle',\n",
       "  'october',\n",
       "  'article',\n",
       "  'italy'],\n",
       " ['regard', 'goodall', 'lodge', 'eton', 'coll', 'nov'],\n",
       " [],\n",
       " ['exception', 'eagerness', 'leach'],\n",
       " ['ardent', 'natural_history'],\n",
       " ['ariccia'],\n",
       " ['swinton'],\n",
       " ['rotherham',\n",
       "  'november',\n",
       "  'trust',\n",
       "  'liberty',\n",
       "  'stranger',\n",
       "  'scarcer',\n",
       "  'plant',\n",
       "  'neighbourhood',\n",
       "  'intention',\n",
       "  'lewe',\n",
       "  'york',\n",
       "  'sh'],\n",
       " ['suggestion'],\n",
       " ['pursuit', 'langley'],\n",
       " ['plant', 'page', 'summer'],\n",
       " ['specimen'],\n",
       " ['flower',\n",
       "  'arvensis',\n",
       "  'difference',\n",
       "  'plant',\n",
       "  'colour',\n",
       "  'petal',\n",
       "  'botanist',\n",
       "  'specie',\n",
       "  'deviate',\n",
       "  'maxim',\n",
       "  'linnæus',\n",
       "  'nisium',\n",
       "  'crede',\n",
       "  'colori'],\n",
       " ['campanula', 'patula', 'accord', 'description', 'smith', 'flora'],\n",
       " ['atkinson', 'paper', 'wernerian', 'memoir'],\n",
       " ['habitat', 'ult'],\n",
       " ['sh',\n",
       "  'certainty',\n",
       "  'scheuchzeria',\n",
       "  'palustris',\n",
       "  'lakeby',\n",
       "  'car',\n",
       "  'nr',\n",
       "  'boro',\n",
       "  'bridge',\n",
       "  'relation',\n",
       "  'seed',\n",
       "  'habitat',\n",
       "  'atkinson'],\n",
       " ['study',\n",
       "  'botany',\n",
       "  'entomology',\n",
       "  'subject',\n",
       "  'serve',\n",
       "  'readiness',\n",
       "  'edward',\n",
       "  'wilson',\n",
       "  'specimen',\n",
       "  'plant',\n",
       "  'page',\n",
       "  'swinton',\n",
       "  'neighbourhood',\n",
       "  'draba',\n",
       "  'verna',\n",
       "  'mar',\n",
       "  'saxifraga',\n",
       "  'tridactyle',\n",
       "  'ap'],\n",
       " ['tormentilla',\n",
       "  'reptans',\n",
       "  'viscum',\n",
       "  'album',\n",
       "  'ophioglossum',\n",
       "  'vulgatum',\n",
       "  'hottonia',\n",
       "  'palustris',\n",
       "  'nuphar',\n",
       "  'lutea',\n",
       "  'hydrocharis',\n",
       "  'morsus',\n",
       "  'ranae',\n",
       "  'july',\n",
       "  'trifolium',\n",
       "  'officinale',\n",
       "  'adoxa',\n",
       "  'moschatellina',\n",
       "  'laureola',\n",
       "  'helleborus',\n",
       "  'viridi',\n",
       "  'conisbro',\n",
       "  'castle',\n",
       "  'arenaria',\n",
       "  'trinervis',\n",
       "  'serpyllifolia',\n",
       "  'circaea',\n",
       "  'lutetiana',\n",
       "  'fumaria',\n",
       "  'capreolata',\n",
       "  'echium',\n",
       "  'vulgare',\n",
       "  'anagalli',\n",
       "  'campanula',\n",
       "  'patula',\n",
       "  'orchis',\n",
       "  'morio',\n",
       "  'tragopogon',\n",
       "  'pratense',\n",
       "  'lamium',\n",
       "  'amplexicaule',\n",
       "  'sagittaria',\n",
       "  'sagittifolia',\n",
       "  'neottia',\n",
       "  'asperula',\n",
       "  'odorata',\n",
       "  'lycopsis',\n",
       "  'arvensis',\n",
       "  'sanguisorba'],\n",
       " ['latifolia',\n",
       "  'hypericum',\n",
       "  'pulchrum',\n",
       "  'epipactis',\n",
       "  'latifolia',\n",
       "  'bryonia',\n",
       "  'dioica',\n",
       "  'convolvulus',\n",
       "  'sepium',\n",
       "  'montia',\n",
       "  'fontana',\n",
       "  'verbascum',\n",
       "  'thapsus',\n",
       "  'triglochin',\n",
       "  'palustre',\n",
       "  'polygonum',\n",
       "  'amphibium',\n",
       "  'origanum',\n",
       "  'vulgare',\n",
       "  'roche',\n",
       "  'abbey',\n",
       "  'june',\n",
       "  'scolopendrum',\n",
       "  'vulgare',\n",
       "  'poterium',\n",
       "  'sanguisorba',\n",
       "  'listera',\n",
       "  'ovata',\n",
       "  'ophrys',\n",
       "  'lysimachia',\n",
       "  'nemorum',\n",
       "  'paris',\n",
       "  'quadrifol'],\n",
       " ['colchicum',\n",
       "  'autumnale',\n",
       "  'seed',\n",
       "  'myosotis',\n",
       "  'palustris',\n",
       "  'melica',\n",
       "  'nutans',\n",
       "  'uniflora',\n",
       "  'aquilegia',\n",
       "  'vulgaris',\n",
       "  'cistus',\n",
       "  'helianthemum',\n",
       "  'pinguicula',\n",
       "  'vulgaris',\n",
       "  'speciman',\n",
       "  'muralis',\n",
       "  'veronica',\n",
       "  'montana',\n",
       "  'brodsworth',\n",
       "  'july',\n",
       "  'limestone',\n",
       "  'soil',\n",
       "  'apifera',\n",
       "  'muscifera',\n",
       "  'orchis',\n",
       "  'ustulata',\n",
       "  'bifolia',\n",
       "  'orchis',\n",
       "  'pyramidalis',\n",
       "  'chlora',\n",
       "  'perfoliata',\n",
       "  'campanula',\n",
       "  'glomerata',\n",
       "  'bupleurum'],\n",
       " ['astragalus',\n",
       "  'hypoglottis',\n",
       "  'thymus',\n",
       "  'acinos',\n",
       "  'ononis',\n",
       "  'arvensis',\n",
       "  'anthyllis',\n",
       "  'vulneraria',\n",
       "  'hypericum',\n",
       "  'montanum',\n",
       "  'hirsutum',\n",
       "  'reseda',\n",
       "  'lutea',\n",
       "  'antirrhinum',\n",
       "  'centaurea',\n",
       "  'scabiosa',\n",
       "  'antirrhinum',\n",
       "  'elatine',\n",
       "  'caucalis',\n",
       "  'daucoide',\n",
       "  'thornton',\n",
       "  'bridge',\n",
       "  'nr',\n",
       "  'boro',\n",
       "  'bridge',\n",
       "  'aug',\n",
       "  'atropa',\n",
       "  'belladonna',\n",
       "  'eupatorium',\n",
       "  'lythrum',\n",
       "  'salicaria',\n",
       "  'cynoglossum',\n",
       "  'offic'],\n",
       " ['hyoscyamus', 'niger', 'drosera', 'longifolia', 'carr'],\n",
       " ['vaccinium',\n",
       "  'oxycoccus',\n",
       "  'scheuchzeria',\n",
       "  'palustris',\n",
       "  'eriophorum',\n",
       "  'vaginatum',\n",
       "  'comarum',\n",
       "  'palustre',\n",
       "  'carr',\n",
       "  'verbena',\n",
       "  'officinalis',\n",
       "  'gentiana',\n",
       "  'pneumonanthe',\n",
       "  'narthecium',\n",
       "  'ossifragum',\n",
       "  'anagallis',\n",
       "  'tenella',\n",
       "  'wharncliffe',\n",
       "  'aug',\n",
       "  'fumaria',\n",
       "  'clavata'],\n",
       " ['grove',\n",
       "  'lisson',\n",
       "  'grove',\n",
       "  'november',\n",
       "  'publication',\n",
       "  'entomology',\n",
       "  'obligation',\n",
       "  'progress',\n",
       "  'assure',\n",
       "  'instance',\n",
       "  'tribute',\n",
       "  'cordiality',\n",
       "  'volume',\n",
       "  'labor',\n",
       "  'friendship',\n",
       "  'attention',\n",
       "  'author',\n",
       "  'duty',\n",
       "  'obligation'],\n",
       " ['volume', 'favor', 'brother', 'finale', 'esteem', 'john', 'curtis'],\n",
       " ['dartford',\n",
       "  'december',\n",
       "  'parcel',\n",
       "  'plant',\n",
       "  'herbarium',\n",
       "  'jenyns',\n",
       "  'thank',\n",
       "  'plant',\n",
       "  'autumn',\n",
       "  'acquisition',\n",
       "  'hortus',\n",
       "  'siccus',\n",
       "  'obtain',\n",
       "  'berry',\n",
       "  'pinnatifida',\n",
       "  'favor',\n",
       "  'sister',\n",
       "  'windsor',\n",
       "  'garden',\n",
       "  'discovery',\n",
       "  'junci',\n",
       "  'anderson',\n",
       "  'chelsea',\n",
       "  'garden',\n",
       "  'cultivate',\n",
       "  'ja',\n",
       "  'smith',\n",
       "  'ophrys',\n",
       "  'arachnitis'],\n",
       " ['flora'],\n",
       " ['orchis', 'vol'],\n",
       " [],\n",
       " ['bot', 'tab'],\n",
       " ['determined',\n",
       "  'militaris',\n",
       "  'orchis',\n",
       "  'smithii',\n",
       "  'smith',\n",
       "  'dartford',\n",
       "  'summer',\n",
       "  'discovery',\n",
       "  'farmer',\n",
       "  'land',\n",
       "  'centaurea',\n",
       "  'solstitialis',\n",
       "  'uncut',\n",
       "  'seed'],\n",
       " ['capsule', 'garden'],\n",
       " ['brewer',\n",
       "  'golden',\n",
       "  'square',\n",
       "  'london',\n",
       "  'january',\n",
       "  'rec',\n",
       "  'closing',\n",
       "  'agreement',\n",
       "  'collection',\n",
       "  'bird',\n",
       "  'answer',\n",
       "  'gentleman',\n",
       "  'objection',\n",
       "  'endeavour',\n",
       "  'subscription',\n",
       "  'gentleman',\n",
       "  'case',\n",
       "  'reminder',\n",
       "  'manner',\n",
       "  'uniform',\n",
       "  'case',\n",
       "  'specimen',\n",
       "  'fine',\n",
       "  'finish',\n",
       "  'collection',\n",
       "  'collection',\n",
       "  'bird',\n",
       "  'kingdom',\n",
       "  'none',\n",
       "  'lombe',\n",
       "  'melton',\n",
       "  'hall',\n",
       "  'norfolk',\n",
       "  'collection',\n",
       "  'bird',\n",
       "  'counsel',\n",
       "  'adopt',\n",
       "  'person',\n",
       "  'order',\n",
       "  'remainder',\n",
       "  'bird',\n",
       "  'case',\n",
       "  'packing',\n",
       "  'case',\n",
       "  'case',\n",
       "  'foot',\n",
       "  'inch',\n",
       "  'expence',\n",
       "  'pack',\n",
       "  'carpenter',\n",
       "  'fix',\n",
       "  'screw',\n",
       "  'plate',\n",
       "  'purpose',\n",
       "  'term',\n",
       "  'expence',\n",
       "  'case',\n",
       "  'size',\n",
       "  'case',\n",
       "  'proprietor',\n",
       "  'thought',\n",
       "  'stuff',\n",
       "  'finding',\n",
       "  'thought',\n",
       "  'collection',\n",
       "  'bird',\n",
       "  'case',\n",
       "  'corvus',\n",
       "  'family',\n",
       "  'case',\n",
       "  'correspond',\n",
       "  'case',\n",
       "  'jenyns',\n",
       "  'room',\n",
       "  'occupy',\n",
       "  'height',\n",
       "  'counsel',\n",
       "  'pack',\n",
       "  'collection',\n",
       "  'alteration',\n",
       "  'term',\n",
       "  'injure',\n",
       "  'week',\n",
       "  'month',\n",
       "  'reception',\n",
       "  'specimen',\n",
       "  'case',\n",
       "  'store',\n",
       "  'case',\n",
       "  'specimen',\n",
       "  'family',\n",
       "  'fill',\n",
       "  'case',\n",
       "  'preparation',\n",
       "  'leadbeater',\n",
       "  'provost',\n",
       "  'king',\n",
       "  'professor',\n",
       "  'philosophical_society',\n",
       "  'cambridge'],\n",
       " [],\n",
       " ['january', 'remand', 'order', 'plant', 'ch'],\n",
       " ['bearer'],\n",
       " [],\n",
       " ['kent'],\n",
       " [],\n",
       " ['specimen'],\n",
       " ['reception', 'ramsay', 'carry'],\n",
       " ['north', 'west', 'scotland', 'august'],\n",
       " ['station'],\n",
       " ['luzula', 'arcuata', 'station', 'hooker', 'aberdeenshire'],\n",
       " ['speciman', 'apargia', 'alpina'],\n",
       " ['station', 'season', 'mountain', 'flower'],\n",
       " ['country', 'portion', 'class', 'season'],\n",
       " ['rule', 'occasion', 'plant', 'party', 'plant', 'party'],\n",
       " ['thing',\n",
       "  'noticing',\n",
       "  'station',\n",
       "  'plant',\n",
       "  'station',\n",
       "  'years_ago',\n",
       "  'journal',\n",
       "  'jan'],\n",
       " [],\n",
       " ['list',\n",
       "  'notion',\n",
       "  'vegetation',\n",
       "  'corner',\n",
       "  'britain',\n",
       "  'sedgwick',\n",
       "  'idea',\n",
       "  'privation'],\n",
       " ['rob', 'graham'],\n",
       " ['cambridge', 'march', 'leonard'],\n",
       " ['audubon',\n",
       "  'engraving',\n",
       "  'bird',\n",
       "  'elephant',\n",
       "  'folio',\n",
       "  'guinea',\n",
       "  'plate',\n",
       "  'bird',\n",
       "  'size',\n",
       "  'group',\n",
       "  'bird',\n",
       "  'flower',\n",
       "  'woods',\n",
       "  'america',\n",
       "  'per_cent',\n",
       "  'publication',\n",
       "  'subscription',\n",
       "  'risk',\n",
       "  'subscriber'],\n",
       " ['library', 'fitzwilliam'],\n",
       " ['subscription', 'head', 'per_annum', 'copy', 'gn'],\n",
       " ['course'],\n",
       " ['zealous'],\n",
       " ['paper', 'plate', 'cost'],\n",
       " ['drawing', 'evening', 'summon', 'meeting', 'council', 'purpose', 'thing'],\n",
       " [],\n",
       " ['copy', 'flora', 'danica', 'vol'],\n",
       " [],\n",
       " ['gn'],\n",
       " [],\n",
       " ['bayswater', 'march', 'reverend', 'thank'],\n",
       " ['instant'],\n",
       " ['assistance', 'reverend', 'jenyn'],\n",
       " ['time',\n",
       "  'prize',\n",
       "  'commencement',\n",
       "  'value',\n",
       "  'value',\n",
       "  'cooperation',\n",
       "  'naturalist'],\n",
       " ['jenyns'],\n",
       " ['origin',\n",
       "  'rise',\n",
       "  'progress',\n",
       "  'museum',\n",
       "  'natural_history',\n",
       "  'cambridge',\n",
       "  'notice',\n",
       "  'purchase'],\n",
       " ['minute', 'detail', 'date', 'fact', 'interest'],\n",
       " ['paper',\n",
       "  'natural_history',\n",
       "  'neighbourhood',\n",
       "  'taste',\n",
       "  'natural_history',\n",
       "  'cambridge',\n",
       "  'meaning',\n",
       "  'man',\n",
       "  'time',\n",
       "  'notice',\n",
       "  'institution',\n",
       "  'museum'],\n",
       " ['taste',\n",
       "  'rise',\n",
       "  'notice',\n",
       "  'naturalist',\n",
       "  'cambridge',\n",
       "  'disquisition',\n",
       "  'influence',\n",
       "  'study',\n",
       "  'natural_history',\n",
       "  'study',\n",
       "  'cambridge',\n",
       "  'shewing',\n",
       "  'clergyman',\n",
       "  'other',\n",
       "  'country'],\n",
       " [],\n",
       " ['subject', 'series', 'paper', 'object'],\n",
       " ['notice',\n",
       "  'point',\n",
       "  'meeting',\n",
       "  'transactions',\n",
       "  'museum',\n",
       "  'natural_history',\n",
       "  'lecture'],\n",
       " ['scrap', 'information', 'head', 'prospectus', 'jenyns', 'mark'],\n",
       " ['thank', 'reverend', 'number'],\n",
       " ['reverend', 'loudon'],\n",
       " ['ae', 'audley', 'end'],\n",
       " ['march',\n",
       "  'leisure',\n",
       "  'chemist',\n",
       "  'analyze',\n",
       "  'chalk',\n",
       "  'accompany',\n",
       "  'note',\n",
       "  'report',\n",
       "  'quality'],\n",
       " ['berk',\n",
       "  'estate',\n",
       "  'manure',\n",
       "  'clay',\n",
       "  'land',\n",
       "  'land',\n",
       "  'neighbourhood',\n",
       "  'benefit'],\n",
       " ['result'],\n",
       " ['compliment'],\n",
       " ['freckenham',\n",
       "  'march',\n",
       "  'direct',\n",
       "  'parcel',\n",
       "  'freckenham',\n",
       "  'waggon',\n",
       "  'horse',\n",
       "  'newmarket',\n",
       "  'care',\n",
       "  'wiseman'],\n",
       " ['analysis',\n",
       "  'braybrook',\n",
       "  'chalk',\n",
       "  'specimen',\n",
       "  'doubt',\n",
       "  'effect',\n",
       "  'lime',\n",
       "  'soil',\n",
       "  'quality'],\n",
       " ['lime',\n",
       "  'property',\n",
       "  'causticity',\n",
       "  'proportion',\n",
       "  'quantity',\n",
       "  'oxide',\n",
       "  'iron_alumina',\n",
       "  'lime',\n",
       "  'composition'],\n",
       " ['expt',\n",
       "  'question',\n",
       "  'conjecture',\n",
       "  'obliging',\n",
       "  'sedgwick',\n",
       "  'lime',\n",
       "  'mag',\n",
       "  'soda',\n",
       "  'red',\n",
       "  'magnesium',\n",
       "  'speciman'],\n",
       " [],\n",
       " ['freckenham',\n",
       "  'april',\n",
       "  'chalk',\n",
       "  'berk',\n",
       "  'constituent',\n",
       "  'part',\n",
       "  'lime',\n",
       "  'car',\n",
       "  'acid',\n",
       "  'alumina',\n",
       "  'oxide',\n",
       "  'iron',\n",
       "  'water',\n",
       "  'grs',\n",
       "  'chalk',\n",
       "  'essex',\n",
       "  'lime',\n",
       "  'car',\n",
       "  'acid',\n",
       "  'alumina',\n",
       "  'oxide',\n",
       "  'iron',\n",
       "  'water',\n",
       "  'grs',\n",
       "  'specimen'],\n",
       " ['berk',\n",
       "  'speciman',\n",
       "  'lime',\n",
       "  'essex',\n",
       "  'fact',\n",
       "  'purpose',\n",
       "  'agriculture',\n",
       "  'lime',\n",
       "  'associate'],\n",
       " ['essex', 'lime', 'united', 'iron_alumina', 'mortar'],\n",
       " ['mag', 'specimen', 'silica', 'quantity'],\n",
       " [],\n",
       " ['cambridge',\n",
       "  'april',\n",
       "  'town',\n",
       "  'respect',\n",
       "  'botany',\n",
       "  'london',\n",
       "  'home',\n",
       "  'power',\n",
       "  'assist',\n",
       "  'museum',\n",
       "  'aid',\n",
       "  'pamphlet',\n",
       "  'pp',\n",
       "  'botanical',\n",
       "  'museum',\n",
       "  'library'],\n",
       " ['cambridge', 'march'],\n",
       " ['sidmouth',\n",
       "  'april',\n",
       "  'shore',\n",
       "  'scotland',\n",
       "  'risk',\n",
       "  'weather',\n",
       "  'event',\n",
       "  'winter'],\n",
       " ['sidmouth', 'northmore', 'exeter', 'northward'],\n",
       " ['brother_law',\n",
       "  'eden',\n",
       "  'motion',\n",
       "  'convenience',\n",
       "  'extent',\n",
       "  'friend',\n",
       "  'plan',\n",
       "  'mine',\n",
       "  'prudence',\n",
       "  'sake',\n",
       "  'excursion',\n",
       "  'cornwall',\n",
       "  'london',\n",
       "  'latter',\n",
       "  'cambridge'],\n",
       " [],\n",
       " ['climate',\n",
       "  'edinburgh',\n",
       "  'person',\n",
       "  'lung',\n",
       "  'winter',\n",
       "  'spring',\n",
       "  'resolution',\n",
       "  'autumn',\n",
       "  'felt',\n",
       "  'moment',\n",
       "  'arrange',\n",
       "  'matter'],\n",
       " ['climate', 'liverpool', 'strike', 'pursuits', 'edinburgh', 'london'],\n",
       " ['bot',\n",
       "  'garden',\n",
       "  'lyceum',\n",
       "  'literature',\n",
       "  'science',\n",
       "  'sea',\n",
       "  'port',\n",
       "  'communication',\n",
       "  'population',\n",
       "  'sh'],\n",
       " ['course', 'situation'],\n",
       " ['north'],\n",
       " ['parcel',\n",
       "  'fern',\n",
       "  'monte',\n",
       "  'video',\n",
       "  'collection',\n",
       "  'care',\n",
       "  'exchange',\n",
       "  'parcel',\n",
       "  'brazilian',\n",
       "  'specimen',\n",
       "  'martius',\n",
       "  'duplicate'],\n",
       " ['parcel', 'holland', 'algæ', 'specie', 'collectanea', 'cryptogamica'],\n",
       " ['algae', 'britannicae', 'notice', 'griffith', 'collection'],\n",
       " ['specie'],\n",
       " ['stock', 'collection'],\n",
       " ['destination', 'smith', 'collection'],\n",
       " [],\n",
       " ['intention',\n",
       "  'brother',\n",
       "  'fern',\n",
       "  'monte',\n",
       "  'video',\n",
       "  'marine',\n",
       "  'preserve',\n",
       "  'squeeze',\n",
       "  'hand',\n",
       "  'board',\n",
       "  'weight',\n",
       "  'paper',\n",
       "  'specimen',\n",
       "  'holland'],\n",
       " ['sh', 'one', 'sand', 'order', 'branch'],\n",
       " ['greville'],\n",
       " ['glasgow', 'april', 'correspondence', 'conscience'],\n",
       " ['intention', 'execution'],\n",
       " ['naturalist', 'madeira', 'lowe'],\n",
       " ['judging', 'science'],\n",
       " ['extension',\n",
       "  'bachelorship',\n",
       "  'case',\n",
       "  'material',\n",
       "  'flora',\n",
       "  'fauna',\n",
       "  'madeira'],\n",
       " ['collection', 'plant', 'branch', 'history', 'advantage'],\n",
       " ['sheet', 'press', 'mis', 'coll', 'britannica', 'lowe'],\n",
       " ['bachelorship', 'university', 'fellowship', 'bachelorship', 'college'],\n",
       " ['alter', 'emphasis', 'circumstance'],\n",
       " ['field'],\n",
       " ['friend'],\n",
       " ['cambridge', 'pass', 'clergyman', 'gloucestershire', 'hall'],\n",
       " ['arrange', 'matter'],\n",
       " ['class', 'course', 'college', 'course', 'commence'],\n",
       " ['conjunction',\n",
       "  'bot',\n",
       "  'magazine',\n",
       "  'bot',\n",
       "  'miscellany',\n",
       "  'filicines',\n",
       "  'flora',\n",
       "  'british',\n",
       "  'america',\n",
       "  'duties',\n",
       "  'employment'],\n",
       " ['plant', 'specimen'],\n",
       " ['operation', 'museum'],\n",
       " ['wilson', 'warrington'],\n",
       " ['understanding', 'botanist'],\n",
       " ['miscellany', 'plant', 'breadalbane', 'discovery'],\n",
       " ['hooker'],\n",
       " ['richmond',\n",
       "  'loudon',\n",
       "  'magazine',\n",
       "  'natural_history',\n",
       "  'herbarium',\n",
       "  'cambridge',\n",
       "  'plant',\n",
       "  'neighbourhood'],\n",
       " ['one'],\n",
       " ['mark', 'whole', 'end'],\n",
       " ['obd', 'john', 'ewbank'],\n",
       " ['enclosure', 'plant', 'jsh'],\n",
       " ['chara',\n",
       "  'hispida',\n",
       "  'circaea',\n",
       "  'lutetiana',\n",
       "  'veronica',\n",
       "  'montana',\n",
       "  'eriophorum',\n",
       "  'vaginatum',\n",
       "  'pinnata',\n",
       "  'ex',\n",
       "  'horto',\n",
       "  'hordeum',\n",
       "  'murinum',\n",
       "  'dipsacus',\n",
       "  'pilosus',\n",
       "  'potamogeton',\n",
       "  'densum',\n",
       "  'myosotis',\n",
       "  'sylvaticus',\n",
       "  'lithospermum',\n",
       "  'officinale',\n",
       "  'anchusa',\n",
       "  'sempervirens',\n",
       "  'primula',\n",
       "  'farinosa',\n",
       "  'lysimachia',\n",
       "  'nemorum',\n",
       "  'nummularia',\n",
       "  'anagallis',\n",
       "  'tenella',\n",
       "  'convolvulus',\n",
       "  'sepium',\n",
       "  'campanula',\n",
       "  'latifolia',\n",
       "  'viola',\n",
       "  'palustris',\n",
       "  'lutea',\n",
       "  'atropa',\n",
       "  'belladonna',\n",
       "  'solanum',\n",
       "  'dulcamara',\n",
       "  'samolus',\n",
       "  'valerandi',\n",
       "  'rhamnus',\n",
       "  'frangula',\n",
       "  'euonymus',\n",
       "  'europaeus',\n",
       "  'rubrum',\n",
       "  'alpinum',\n",
       "  'petraeum',\n",
       "  'gentiana',\n",
       "  'amarella',\n",
       "  'campestris',\n",
       "  'oenanthe',\n",
       "  'fistulata',\n",
       "  'cicuta',\n",
       "  'virosa',\n",
       "  'aegopodium',\n",
       "  'podagraria',\n",
       "  'parnassia_palustris',\n",
       "  'drosera',\n",
       "  'rotundifolia',\n",
       "  'allium',\n",
       "  'carinatum',\n",
       "  'luteum',\n",
       "  'scilla',\n",
       "  'nutans',\n",
       "  'white',\n",
       "  'var',\n",
       "  'juncus',\n",
       "  'maritimus',\n",
       "  'berberis',\n",
       "  'vulgaris',\n",
       "  'colchicum',\n",
       "  'autumnale',\n",
       "  'epilobium',\n",
       "  'angustifolium',\n",
       "  'vaccinium',\n",
       "  'myrtillus',\n",
       "  'erica',\n",
       "  'tetralix',\n",
       "  'cinerea',\n",
       "  'calluna',\n",
       "  'vulgaris',\n",
       "  'laureola',\n",
       "  'mezereum',\n",
       "  'polygonum',\n",
       "  'amphibium',\n",
       "  'paris',\n",
       "  'quadrifolia',\n",
       "  'pyrola',\n",
       "  'rotundifolia',\n",
       "  'chrysosplenium',\n",
       "  'oppositifolium',\n",
       "  'alternifolium',\n",
       "  'saxifraga',\n",
       "  'umbrosa',\n",
       "  'granulata',\n",
       "  'hypnoide',\n",
       "  'stellaria',\n",
       "  'nemorum',\n",
       "  'glauca',\n",
       "  'uliginosa',\n",
       "  'sedum',\n",
       "  'album',\n",
       "  'spergula',\n",
       "  'arvensis',\n",
       "  'nodosa',\n",
       "  'lythrum',\n",
       "  'salicaria',\n",
       "  'prunus',\n",
       "  'padus',\n",
       "  'cerasus',\n",
       "  'institia',\n",
       "  'pyrus',\n",
       "  'aria',\n",
       "  'rosa',\n",
       "  'spinosissima',\n",
       "  'tomentosa',\n",
       "  'villosa',\n",
       "  'eng'],\n",
       " ['rubus',\n",
       "  'idaeus',\n",
       "  'caesius',\n",
       "  'corylifolius',\n",
       "  'plicatus',\n",
       "  'saxatilis',\n",
       "  'aquilegia',\n",
       "  'vulgaris',\n",
       "  'thalictrum',\n",
       "  'ranunculus',\n",
       "  'lingua',\n",
       "  'sceleratus',\n",
       "  'trollius',\n",
       "  'europaeus',\n",
       "  'helleborus',\n",
       "  'viridis',\n",
       "  'teucrium_scordium',\n",
       "  'mentha',\n",
       "  'viridis',\n",
       "  'pulegium',\n",
       "  'galeopsis',\n",
       "  'versicolor',\n",
       "  'stachys',\n",
       "  'arvensis',\n",
       "  'germanica',\n",
       "  'thymus',\n",
       "  'calamintha',\n",
       "  'lathraea',\n",
       "  'squamaria',\n",
       "  'antirrhinum',\n",
       "  'cymbalaria',\n",
       "  'digitalis',\n",
       "  'purpurea',\n",
       "  'cardamine',\n",
       "  'amara',\n",
       "  'erodium',\n",
       "  'cicutarium',\n",
       "  'geranium',\n",
       "  'phaeum',\n",
       "  'sylvaticum',\n",
       "  'lucidum',\n",
       "  'malva',\n",
       "  'moschata',\n",
       "  'genista',\n",
       "  'anglica',\n",
       "  'vicia',\n",
       "  'sylvatica',\n",
       "  'hippocrepis',\n",
       "  'comosa',\n",
       "  'hypericum',\n",
       "  'pulchrum',\n",
       "  'lactuca',\n",
       "  'virosa',\n",
       "  'hieracium',\n",
       "  'murorum',\n",
       "  'carduus',\n",
       "  'heterophyllus',\n",
       "  'carlina',\n",
       "  'vulgaris',\n",
       "  'bidens',\n",
       "  'cernua',\n",
       "  'bipartita',\n",
       "  'gnaphalium',\n",
       "  'dioicum',\n",
       "  'germanicum',\n",
       "  'rectum',\n",
       "  'erigeron',\n",
       "  'acre',\n",
       "  'orchis',\n",
       "  'bifolia',\n",
       "  'mascula',\n",
       "  'white',\n",
       "  'var',\n",
       "  'ustulata',\n",
       "  'latifolia',\n",
       "  'conopsea',\n",
       "  'viridis',\n",
       "  'epipactis',\n",
       "  'latifolia',\n",
       "  'palustris',\n",
       "  'nidus',\n",
       "  'avis',\n",
       "  'ovata',\n",
       "  'cordata',\n",
       "  'salix',\n",
       "  'lambertiana',\n",
       "  'rubra',\n",
       "  'pentandra',\n",
       "  'fragilis',\n",
       "  'salix',\n",
       "  'smithiana',\n",
       "  'viminalis',\n",
       "  'cinerea',\n",
       "  'aurita',\n",
       "  'aquatica',\n",
       "  'empetrum',\n",
       "  'nigrum',\n",
       "  'taxus',\n",
       "  'baccata',\n",
       "  'lycopodium',\n",
       "  'clavatum',\n",
       "  'aspidium',\n",
       "  'nigrum',\n",
       "  'fragile',\n",
       "  'dryopteris'],\n",
       " ['london',\n",
       "  'share',\n",
       "  'union',\n",
       "  'course',\n",
       "  'steamboat',\n",
       "  'hambro',\n",
       "  'share',\n",
       "  'subscribed',\n",
       "  'money',\n",
       "  'charge',\n",
       "  'conveyance',\n",
       "  'esslingen',\n",
       "  'hambro',\n",
       "  'thence',\n",
       "  'london',\n",
       "  'expence',\n",
       "  'custom',\n",
       "  'house'],\n",
       " ['specimen',\n",
       "  'plant',\n",
       "  'judge',\n",
       "  'merit',\n",
       "  'support',\n",
       "  'case',\n",
       "  'information',\n",
       "  'subscription'],\n",
       " ['half',\n",
       "  'sheet',\n",
       "  'notice',\n",
       "  'copy',\n",
       "  'dr',\n",
       "  'steudel',\n",
       "  'plan',\n",
       "  'institution',\n",
       "  'pursue',\n",
       "  'order',\n",
       "  'interest',\n",
       "  'subscriber'],\n",
       " ['subscription',\n",
       "  'result',\n",
       "  'obd',\n",
       "  'hunneman',\n",
       "  'enclosure',\n",
       "  'translation',\n",
       "  'notice',\n",
       "  'esslingen',\n",
       "  'wurtenberg',\n",
       "  'dec'],\n",
       " ['notice',\n",
       "  'member',\n",
       "  'union',\n",
       "  'invitation',\n",
       "  'botanist',\n",
       "  'mineralogist',\n",
       "  'subscription'],\n",
       " ['collection',\n",
       "  'object',\n",
       "  'reference',\n",
       "  'botany',\n",
       "  'fleischer',\n",
       "  'country',\n",
       "  'smyrna',\n",
       "  'whence',\n",
       "  'collection',\n",
       "  'summer',\n",
       "  'island',\n",
       "  'sardinia',\n",
       "  'muller',\n",
       "  'traveler',\n",
       "  'variety',\n",
       "  'seed',\n",
       "  'distribution',\n",
       "  'subscriber',\n",
       "  'plant',\n",
       "  'country',\n",
       "  'naturalist'],\n",
       " ['union'],\n",
       " ['member'],\n",
       " ['share', 'arrangement', 'share', 'distribution', 'taking', 'march'],\n",
       " ['member',\n",
       "  'result',\n",
       "  'specimen',\n",
       "  'plant',\n",
       "  'country',\n",
       "  'member',\n",
       "  'variety',\n",
       "  'insect',\n",
       "  'seed'],\n",
       " ['share', 'florin'],\n",
       " ['dividend'],\n",
       " ['member',\n",
       "  'union',\n",
       "  'subscription',\n",
       "  'admit',\n",
       "  'order',\n",
       "  'scope',\n",
       "  'enterprise',\n",
       "  'union',\n",
       "  'plan'],\n",
       " ['viz', 'muller', 'sardinia', 'collection', 'success', 'nature', 'country'],\n",
       " ['friend', 'union', 'member', 'flora', 'southern', 'point', 'africa', 'cape'],\n",
       " ['portion', 'collection'],\n",
       " ['specimen', 'possession', 'member', 'subscription', 'cape', 'specimen'],\n",
       " ['share'],\n",
       " ['traveler', 'student', 'pharmacy', 'norway', 'depart', 'april'],\n",
       " ['year',\n",
       "  'pursuit',\n",
       "  'country',\n",
       "  'flora',\n",
       "  'expert',\n",
       "  'muscologist',\n",
       "  'attention',\n",
       "  'fossil',\n",
       "  'stranger',\n",
       "  'botany',\n",
       "  'lichens',\n",
       "  'algae',\n",
       "  'reason',\n",
       "  'harvest',\n",
       "  'tribe',\n",
       "  'plant'],\n",
       " ['undertaking', 'lapland', 'norway', 'purpose'],\n",
       " ['friend',\n",
       "  'botany',\n",
       "  'mineralogist',\n",
       "  'manner',\n",
       "  'premium',\n",
       "  'singular',\n",
       "  'fossil',\n",
       "  'norway',\n",
       "  'country',\n",
       "  'point',\n",
       "  'view'],\n",
       " ['subscription'],\n",
       " ['florin'],\n",
       " ['sterl'],\n",
       " ['mineralogist',\n",
       "  'subscriber',\n",
       "  'remit',\n",
       "  'subscription',\n",
       "  'postage',\n",
       "  'form',\n",
       "  'size',\n",
       "  'specimen',\n",
       "  'specimen',\n",
       "  'other'],\n",
       " ['friend', 'botany', 'desire', 'subscriber'],\n",
       " ['manner',\n",
       "  'sending',\n",
       "  'amount',\n",
       "  'subscription',\n",
       "  'specimen',\n",
       "  'cape',\n",
       "  'specimen',\n",
       "  'country',\n",
       "  'specimen',\n",
       "  'family'],\n",
       " ['subscription', 'institute', 'oeconomical', 'society', 'allway', 'postage'],\n",
       " ['share', 'charge', 'place', 'residence', 'option', 'point', 'channel'],\n",
       " ['professor', 'hochstetter', 'steudel'],\n",
       " ['tittenhanger', 'green', 'colney'],\n",
       " ['hert'],\n",
       " ['notice', 'loudon', 'magazine', 'botany', 'cambridge', 'auspex'],\n",
       " ['science', 'study'],\n",
       " ['garden',\n",
       "  'collection',\n",
       "  'green',\n",
       "  'house',\n",
       "  'plant',\n",
       "  'kindness',\n",
       "  'friend',\n",
       "  'power'],\n",
       " ['collection', 'autumn', 'infancy'],\n",
       " ['commence', 'catalogue'],\n",
       " ['form', 'herbarium', 'power', 'point'],\n",
       " ['mediterranean',\n",
       "  'plant',\n",
       "  'exchange',\n",
       "  'selection',\n",
       "  'root',\n",
       "  'cutting',\n",
       "  'plant'],\n",
       " ['family',\n",
       "  'interest',\n",
       "  'bracvic',\n",
       "  'attention',\n",
       "  'procuring',\n",
       "  'quarter',\n",
       "  'specie'],\n",
       " ['specie', 'friend', 'plant', 'vice', 'proposition', 'swainson'],\n",
       " ['edinburgh', 'july'],\n",
       " ['april', 'correspondence', 'condition'],\n",
       " ['portfolio', 'letter', 'twin', 'triplet', 'day', 'pain'],\n",
       " [],\n",
       " ['copy', 'transaction', 'balance', 'favor', 'mougeot'],\n",
       " ['transaction',\n",
       "  'plant',\n",
       "  'care',\n",
       "  'messir',\n",
       "  'baldwin',\n",
       "  'craddock',\n",
       "  'jay',\n",
       "  'pater',\n",
       "  'noster',\n",
       "  'row',\n",
       "  'london',\n",
       "  'scotch',\n",
       "  'bookseller',\n",
       "  'parcel'],\n",
       " ['health'],\n",
       " ['hour', 'fatigue'],\n",
       " ['deal'],\n",
       " ['botany', 'world'],\n",
       " ['acquaintance', 'botanist', 'professor', 'nat_hist', 'university', 'quito'],\n",
       " ['graham', 'class'],\n",
       " [],\n",
       " ['garden', 'king', 'college', 'london'],\n",
       " ['none'],\n",
       " ['chance', 'one', 'time', 'opposition'],\n",
       " ['moment', 'flora', 'writing', 'synopsis'],\n",
       " ['bookseller', 'british', 'algae'],\n",
       " ['algologia'],\n",
       " ['word'],\n",
       " ['algae', 'holland', 'duplicate'],\n",
       " ['alman', 'wonder', 'ream', 'paper', 'side', 'island', 'side', 'holland'],\n",
       " ['thing', 'province', 'esmeraldas', 'america', 'parcel'],\n",
       " ['country'],\n",
       " ['dominica', 'fight', 'duel', 'side', 'country', 'fever'],\n",
       " ['greville', 'magnificent', 'copy', 'voyage', 'humboldt'],\n",
       " ['paris'],\n",
       " ['bind'],\n",
       " ['edinburgh',\n",
       "  'september',\n",
       "  'communication',\n",
       "  'parcel',\n",
       "  'supply',\n",
       "  'plant',\n",
       "  'ejection',\n",
       "  'specimen',\n",
       "  'thank',\n",
       "  'july'],\n",
       " ['manner'],\n",
       " ['specie', 'garden', 'courage', 'plunge', 'bath', 'contemplation'],\n",
       " ['arrear',\n",
       "  'correspondence',\n",
       "  'week',\n",
       "  'algae',\n",
       "  'book',\n",
       "  'standstill',\n",
       "  'agardh',\n",
       "  'vol'],\n",
       " [],\n",
       " [],\n",
       " ['labor', 'agardh', 'publishing', 'system'],\n",
       " ['gaillon', 'thalassophyte'],\n",
       " [],\n",
       " ['science',\n",
       "  'naturelle',\n",
       "  'concoct',\n",
       "  'system',\n",
       "  'pen',\n",
       "  'paper',\n",
       "  'mare',\n",
       "  'magnum',\n",
       "  'hooker',\n",
       "  'vol'],\n",
       " ['smith', 'finish'],\n",
       " ['confess'],\n",
       " ['hooker', 'hand', 'justice', 'subject'],\n",
       " ['mougeot', 'cost', 'vol'],\n",
       " ['carriage', 'duty', 'vol'],\n",
       " [],\n",
       " [],\n",
       " ['absence',\n",
       "  'mile',\n",
       "  'engraver',\n",
       "  'hand',\n",
       "  'synopsis',\n",
       "  'index',\n",
       "  'page',\n",
       "  'printer'],\n",
       " [],\n",
       " ['book',\n",
       "  'fucologica',\n",
       "  'britannica',\n",
       "  'description',\n",
       "  'algae',\n",
       "  'britain',\n",
       "  'ireland',\n",
       "  'family'],\n",
       " ['desire'],\n",
       " ['greville'],\n",
       " ['hibbington', 'september', 'sea', 'weed', 'madeira', 'vegetable', 'lowe'],\n",
       " ['thing', 'gigantinus'],\n",
       " ['branch', 'root', 'prunus', 'lauro', 'cerasus'],\n",
       " ...]"
      ]
     },
     "execution_count": 31,
     "metadata": {},
     "output_type": "execute_result"
    }
   ],
   "source": [
    "df[\"text\"] = df[\"text\"].apply(lemmatization)\n",
    "sent_df[\"text\"] = sent_df[\"text\"].apply(lemmatization)\n",
    "sent_text_list = sent_df[\"text\"].tolist()\n",
    "sent_text_list"
   ]
  },
  {
   "cell_type": "markdown",
   "id": "dcbe8f80",
   "metadata": {},
   "source": [
    "We now apply the plots used above to our corpus to see what changes to the corpus have been effected by our data processing."
   ]
  },
  {
   "cell_type": "code",
   "execution_count": 32,
   "id": "016d3106",
   "metadata": {},
   "outputs": [
    {
     "data": {
      "application/vnd.plotly.v1+json": {
       "config": {
        "linkText": "Export to plot.ly",
        "plotlyServerURL": "https://plot.ly",
        "showLink": true
       },
       "data": [
        {
         "marker": {
          "color": "rgba(255, 153, 51, 0.6)",
          "line": {
           "color": "rgba(255, 153, 51, 1.0)",
           "width": 1
          }
         },
         "name": "count",
         "orientation": "v",
         "text": "",
         "type": "bar",
         "x": [
          0,
          1,
          2,
          3,
          4,
          5,
          6,
          7,
          8,
          9,
          10,
          11,
          12,
          13,
          14,
          15,
          16,
          17,
          18,
          19,
          20,
          21,
          22,
          23,
          24,
          25,
          26,
          27,
          28,
          29,
          30,
          31,
          32,
          33,
          34,
          35,
          36,
          37,
          38,
          39,
          40,
          41,
          42,
          43,
          44,
          45,
          46,
          47,
          48,
          49,
          50,
          51,
          52,
          53,
          54,
          55,
          56,
          57,
          58,
          59,
          60,
          61,
          62,
          63,
          64,
          65,
          66,
          67,
          68,
          69,
          70,
          71,
          72,
          73,
          74,
          75,
          76,
          77,
          78,
          79,
          80,
          81,
          82,
          83,
          84,
          85,
          86,
          87,
          88,
          89,
          90,
          91,
          92,
          93,
          94,
          95,
          97,
          98,
          99,
          100,
          101,
          102,
          103,
          104,
          105,
          106,
          107,
          108,
          109,
          110,
          111,
          114,
          115,
          117,
          119,
          121,
          122,
          123,
          126,
          127,
          128,
          130,
          132,
          133,
          135,
          136,
          138,
          140,
          143,
          145,
          146,
          151,
          153,
          157,
          159,
          162,
          163,
          164,
          168,
          169,
          172,
          175,
          177,
          180,
          181,
          184,
          187,
          189,
          192,
          194,
          201,
          202,
          204,
          207,
          220,
          244,
          253,
          259,
          277,
          291,
          292,
          564,
          630
         ],
         "y": [
          1,
          5,
          3,
          5,
          3,
          9,
          17,
          10,
          6,
          14,
          18,
          17,
          18,
          23,
          21,
          20,
          16,
          26,
          22,
          22,
          25,
          22,
          20,
          17,
          29,
          17,
          19,
          16,
          18,
          20,
          9,
          17,
          21,
          18,
          22,
          15,
          23,
          12,
          20,
          7,
          12,
          16,
          12,
          11,
          13,
          12,
          15,
          9,
          17,
          10,
          10,
          8,
          10,
          9,
          7,
          10,
          8,
          9,
          6,
          10,
          11,
          9,
          4,
          10,
          7,
          9,
          4,
          9,
          5,
          3,
          5,
          6,
          6,
          4,
          4,
          5,
          2,
          5,
          7,
          7,
          5,
          2,
          3,
          7,
          2,
          3,
          6,
          3,
          2,
          2,
          4,
          3,
          3,
          1,
          1,
          3,
          1,
          1,
          1,
          4,
          3,
          5,
          2,
          4,
          3,
          2,
          1,
          1,
          3,
          3,
          2,
          3,
          4,
          1,
          2,
          3,
          1,
          4,
          2,
          1,
          3,
          2,
          2,
          2,
          1,
          1,
          1,
          1,
          2,
          1,
          2,
          3,
          1,
          2,
          2,
          1,
          1,
          1,
          1,
          1,
          1,
          1,
          1,
          1,
          1,
          1,
          2,
          2,
          1,
          1,
          1,
          1,
          1,
          1,
          1,
          1,
          1,
          1,
          1,
          1,
          1,
          1,
          1
         ]
        }
       ],
       "layout": {
        "legend": {
         "bgcolor": "#F5F6F9",
         "font": {
          "color": "#4D5663"
         }
        },
        "paper_bgcolor": "#F5F6F9",
        "plot_bgcolor": "#F5F6F9",
        "template": {
         "data": {
          "bar": [
           {
            "error_x": {
             "color": "#2a3f5f"
            },
            "error_y": {
             "color": "#2a3f5f"
            },
            "marker": {
             "line": {
              "color": "#E5ECF6",
              "width": 0.5
             },
             "pattern": {
              "fillmode": "overlay",
              "size": 10,
              "solidity": 0.2
             }
            },
            "type": "bar"
           }
          ],
          "barpolar": [
           {
            "marker": {
             "line": {
              "color": "#E5ECF6",
              "width": 0.5
             },
             "pattern": {
              "fillmode": "overlay",
              "size": 10,
              "solidity": 0.2
             }
            },
            "type": "barpolar"
           }
          ],
          "carpet": [
           {
            "aaxis": {
             "endlinecolor": "#2a3f5f",
             "gridcolor": "white",
             "linecolor": "white",
             "minorgridcolor": "white",
             "startlinecolor": "#2a3f5f"
            },
            "baxis": {
             "endlinecolor": "#2a3f5f",
             "gridcolor": "white",
             "linecolor": "white",
             "minorgridcolor": "white",
             "startlinecolor": "#2a3f5f"
            },
            "type": "carpet"
           }
          ],
          "choropleth": [
           {
            "colorbar": {
             "outlinewidth": 0,
             "ticks": ""
            },
            "type": "choropleth"
           }
          ],
          "contour": [
           {
            "colorbar": {
             "outlinewidth": 0,
             "ticks": ""
            },
            "colorscale": [
             [
              0,
              "#0d0887"
             ],
             [
              0.1111111111111111,
              "#46039f"
             ],
             [
              0.2222222222222222,
              "#7201a8"
             ],
             [
              0.3333333333333333,
              "#9c179e"
             ],
             [
              0.4444444444444444,
              "#bd3786"
             ],
             [
              0.5555555555555556,
              "#d8576b"
             ],
             [
              0.6666666666666666,
              "#ed7953"
             ],
             [
              0.7777777777777778,
              "#fb9f3a"
             ],
             [
              0.8888888888888888,
              "#fdca26"
             ],
             [
              1,
              "#f0f921"
             ]
            ],
            "type": "contour"
           }
          ],
          "contourcarpet": [
           {
            "colorbar": {
             "outlinewidth": 0,
             "ticks": ""
            },
            "type": "contourcarpet"
           }
          ],
          "heatmap": [
           {
            "colorbar": {
             "outlinewidth": 0,
             "ticks": ""
            },
            "colorscale": [
             [
              0,
              "#0d0887"
             ],
             [
              0.1111111111111111,
              "#46039f"
             ],
             [
              0.2222222222222222,
              "#7201a8"
             ],
             [
              0.3333333333333333,
              "#9c179e"
             ],
             [
              0.4444444444444444,
              "#bd3786"
             ],
             [
              0.5555555555555556,
              "#d8576b"
             ],
             [
              0.6666666666666666,
              "#ed7953"
             ],
             [
              0.7777777777777778,
              "#fb9f3a"
             ],
             [
              0.8888888888888888,
              "#fdca26"
             ],
             [
              1,
              "#f0f921"
             ]
            ],
            "type": "heatmap"
           }
          ],
          "heatmapgl": [
           {
            "colorbar": {
             "outlinewidth": 0,
             "ticks": ""
            },
            "colorscale": [
             [
              0,
              "#0d0887"
             ],
             [
              0.1111111111111111,
              "#46039f"
             ],
             [
              0.2222222222222222,
              "#7201a8"
             ],
             [
              0.3333333333333333,
              "#9c179e"
             ],
             [
              0.4444444444444444,
              "#bd3786"
             ],
             [
              0.5555555555555556,
              "#d8576b"
             ],
             [
              0.6666666666666666,
              "#ed7953"
             ],
             [
              0.7777777777777778,
              "#fb9f3a"
             ],
             [
              0.8888888888888888,
              "#fdca26"
             ],
             [
              1,
              "#f0f921"
             ]
            ],
            "type": "heatmapgl"
           }
          ],
          "histogram": [
           {
            "marker": {
             "pattern": {
              "fillmode": "overlay",
              "size": 10,
              "solidity": 0.2
             }
            },
            "type": "histogram"
           }
          ],
          "histogram2d": [
           {
            "colorbar": {
             "outlinewidth": 0,
             "ticks": ""
            },
            "colorscale": [
             [
              0,
              "#0d0887"
             ],
             [
              0.1111111111111111,
              "#46039f"
             ],
             [
              0.2222222222222222,
              "#7201a8"
             ],
             [
              0.3333333333333333,
              "#9c179e"
             ],
             [
              0.4444444444444444,
              "#bd3786"
             ],
             [
              0.5555555555555556,
              "#d8576b"
             ],
             [
              0.6666666666666666,
              "#ed7953"
             ],
             [
              0.7777777777777778,
              "#fb9f3a"
             ],
             [
              0.8888888888888888,
              "#fdca26"
             ],
             [
              1,
              "#f0f921"
             ]
            ],
            "type": "histogram2d"
           }
          ],
          "histogram2dcontour": [
           {
            "colorbar": {
             "outlinewidth": 0,
             "ticks": ""
            },
            "colorscale": [
             [
              0,
              "#0d0887"
             ],
             [
              0.1111111111111111,
              "#46039f"
             ],
             [
              0.2222222222222222,
              "#7201a8"
             ],
             [
              0.3333333333333333,
              "#9c179e"
             ],
             [
              0.4444444444444444,
              "#bd3786"
             ],
             [
              0.5555555555555556,
              "#d8576b"
             ],
             [
              0.6666666666666666,
              "#ed7953"
             ],
             [
              0.7777777777777778,
              "#fb9f3a"
             ],
             [
              0.8888888888888888,
              "#fdca26"
             ],
             [
              1,
              "#f0f921"
             ]
            ],
            "type": "histogram2dcontour"
           }
          ],
          "mesh3d": [
           {
            "colorbar": {
             "outlinewidth": 0,
             "ticks": ""
            },
            "type": "mesh3d"
           }
          ],
          "parcoords": [
           {
            "line": {
             "colorbar": {
              "outlinewidth": 0,
              "ticks": ""
             }
            },
            "type": "parcoords"
           }
          ],
          "pie": [
           {
            "automargin": true,
            "type": "pie"
           }
          ],
          "scatter": [
           {
            "fillpattern": {
             "fillmode": "overlay",
             "size": 10,
             "solidity": 0.2
            },
            "type": "scatter"
           }
          ],
          "scatter3d": [
           {
            "line": {
             "colorbar": {
              "outlinewidth": 0,
              "ticks": ""
             }
            },
            "marker": {
             "colorbar": {
              "outlinewidth": 0,
              "ticks": ""
             }
            },
            "type": "scatter3d"
           }
          ],
          "scattercarpet": [
           {
            "marker": {
             "colorbar": {
              "outlinewidth": 0,
              "ticks": ""
             }
            },
            "type": "scattercarpet"
           }
          ],
          "scattergeo": [
           {
            "marker": {
             "colorbar": {
              "outlinewidth": 0,
              "ticks": ""
             }
            },
            "type": "scattergeo"
           }
          ],
          "scattergl": [
           {
            "marker": {
             "colorbar": {
              "outlinewidth": 0,
              "ticks": ""
             }
            },
            "type": "scattergl"
           }
          ],
          "scattermapbox": [
           {
            "marker": {
             "colorbar": {
              "outlinewidth": 0,
              "ticks": ""
             }
            },
            "type": "scattermapbox"
           }
          ],
          "scatterpolar": [
           {
            "marker": {
             "colorbar": {
              "outlinewidth": 0,
              "ticks": ""
             }
            },
            "type": "scatterpolar"
           }
          ],
          "scatterpolargl": [
           {
            "marker": {
             "colorbar": {
              "outlinewidth": 0,
              "ticks": ""
             }
            },
            "type": "scatterpolargl"
           }
          ],
          "scatterternary": [
           {
            "marker": {
             "colorbar": {
              "outlinewidth": 0,
              "ticks": ""
             }
            },
            "type": "scatterternary"
           }
          ],
          "surface": [
           {
            "colorbar": {
             "outlinewidth": 0,
             "ticks": ""
            },
            "colorscale": [
             [
              0,
              "#0d0887"
             ],
             [
              0.1111111111111111,
              "#46039f"
             ],
             [
              0.2222222222222222,
              "#7201a8"
             ],
             [
              0.3333333333333333,
              "#9c179e"
             ],
             [
              0.4444444444444444,
              "#bd3786"
             ],
             [
              0.5555555555555556,
              "#d8576b"
             ],
             [
              0.6666666666666666,
              "#ed7953"
             ],
             [
              0.7777777777777778,
              "#fb9f3a"
             ],
             [
              0.8888888888888888,
              "#fdca26"
             ],
             [
              1,
              "#f0f921"
             ]
            ],
            "type": "surface"
           }
          ],
          "table": [
           {
            "cells": {
             "fill": {
              "color": "#EBF0F8"
             },
             "line": {
              "color": "white"
             }
            },
            "header": {
             "fill": {
              "color": "#C8D4E3"
             },
             "line": {
              "color": "white"
             }
            },
            "type": "table"
           }
          ]
         },
         "layout": {
          "annotationdefaults": {
           "arrowcolor": "#2a3f5f",
           "arrowhead": 0,
           "arrowwidth": 1
          },
          "autotypenumbers": "strict",
          "coloraxis": {
           "colorbar": {
            "outlinewidth": 0,
            "ticks": ""
           }
          },
          "colorscale": {
           "diverging": [
            [
             0,
             "#8e0152"
            ],
            [
             0.1,
             "#c51b7d"
            ],
            [
             0.2,
             "#de77ae"
            ],
            [
             0.3,
             "#f1b6da"
            ],
            [
             0.4,
             "#fde0ef"
            ],
            [
             0.5,
             "#f7f7f7"
            ],
            [
             0.6,
             "#e6f5d0"
            ],
            [
             0.7,
             "#b8e186"
            ],
            [
             0.8,
             "#7fbc41"
            ],
            [
             0.9,
             "#4d9221"
            ],
            [
             1,
             "#276419"
            ]
           ],
           "sequential": [
            [
             0,
             "#0d0887"
            ],
            [
             0.1111111111111111,
             "#46039f"
            ],
            [
             0.2222222222222222,
             "#7201a8"
            ],
            [
             0.3333333333333333,
             "#9c179e"
            ],
            [
             0.4444444444444444,
             "#bd3786"
            ],
            [
             0.5555555555555556,
             "#d8576b"
            ],
            [
             0.6666666666666666,
             "#ed7953"
            ],
            [
             0.7777777777777778,
             "#fb9f3a"
            ],
            [
             0.8888888888888888,
             "#fdca26"
            ],
            [
             1,
             "#f0f921"
            ]
           ],
           "sequentialminus": [
            [
             0,
             "#0d0887"
            ],
            [
             0.1111111111111111,
             "#46039f"
            ],
            [
             0.2222222222222222,
             "#7201a8"
            ],
            [
             0.3333333333333333,
             "#9c179e"
            ],
            [
             0.4444444444444444,
             "#bd3786"
            ],
            [
             0.5555555555555556,
             "#d8576b"
            ],
            [
             0.6666666666666666,
             "#ed7953"
            ],
            [
             0.7777777777777778,
             "#fb9f3a"
            ],
            [
             0.8888888888888888,
             "#fdca26"
            ],
            [
             1,
             "#f0f921"
            ]
           ]
          },
          "colorway": [
           "#636efa",
           "#EF553B",
           "#00cc96",
           "#ab63fa",
           "#FFA15A",
           "#19d3f3",
           "#FF6692",
           "#B6E880",
           "#FF97FF",
           "#FECB52"
          ],
          "font": {
           "color": "#2a3f5f"
          },
          "geo": {
           "bgcolor": "white",
           "lakecolor": "white",
           "landcolor": "#E5ECF6",
           "showlakes": true,
           "showland": true,
           "subunitcolor": "white"
          },
          "hoverlabel": {
           "align": "left"
          },
          "hovermode": "closest",
          "mapbox": {
           "style": "light"
          },
          "paper_bgcolor": "white",
          "plot_bgcolor": "#E5ECF6",
          "polar": {
           "angularaxis": {
            "gridcolor": "white",
            "linecolor": "white",
            "ticks": ""
           },
           "bgcolor": "#E5ECF6",
           "radialaxis": {
            "gridcolor": "white",
            "linecolor": "white",
            "ticks": ""
           }
          },
          "scene": {
           "xaxis": {
            "backgroundcolor": "#E5ECF6",
            "gridcolor": "white",
            "gridwidth": 2,
            "linecolor": "white",
            "showbackground": true,
            "ticks": "",
            "zerolinecolor": "white"
           },
           "yaxis": {
            "backgroundcolor": "#E5ECF6",
            "gridcolor": "white",
            "gridwidth": 2,
            "linecolor": "white",
            "showbackground": true,
            "ticks": "",
            "zerolinecolor": "white"
           },
           "zaxis": {
            "backgroundcolor": "#E5ECF6",
            "gridcolor": "white",
            "gridwidth": 2,
            "linecolor": "white",
            "showbackground": true,
            "ticks": "",
            "zerolinecolor": "white"
           }
          },
          "shapedefaults": {
           "line": {
            "color": "#2a3f5f"
           }
          },
          "ternary": {
           "aaxis": {
            "gridcolor": "white",
            "linecolor": "white",
            "ticks": ""
           },
           "baxis": {
            "gridcolor": "white",
            "linecolor": "white",
            "ticks": ""
           },
           "bgcolor": "#E5ECF6",
           "caxis": {
            "gridcolor": "white",
            "linecolor": "white",
            "ticks": ""
           }
          },
          "title": {
           "x": 0.05
          },
          "xaxis": {
           "automargin": true,
           "gridcolor": "white",
           "linecolor": "white",
           "ticks": "",
           "title": {
            "standoff": 15
           },
           "zerolinecolor": "white",
           "zerolinewidth": 2
          },
          "yaxis": {
           "automargin": true,
           "gridcolor": "white",
           "linecolor": "white",
           "ticks": "",
           "title": {
            "standoff": 15
           },
           "zerolinecolor": "white",
           "zerolinewidth": 2
          }
         }
        },
        "title": {
         "font": {
          "color": "#4D5663"
         },
         "text": "Document Length Distribution"
        },
        "xaxis": {
         "gridcolor": "#E1E5ED",
         "linecolor": "Black",
         "showgrid": true,
         "tickfont": {
          "color": "#4D5663"
         },
         "title": {
          "font": {
           "color": "#4D5663"
          },
          "text": "Word Count"
         },
         "zerolinecolor": "#E1E5ED"
        },
        "yaxis": {
         "gridcolor": "#E1E5ED",
         "linecolor": "Black",
         "showgrid": true,
         "tickfont": {
          "color": "#4D5663"
         },
         "title": {
          "font": {
           "color": "#4D5663"
          },
          "text": "Document Count"
         },
         "zerolinecolor": "#E1E5ED"
        }
       }
      },
      "text/html": [
       "<div>                            <div id=\"7842687f-415e-463a-a84c-720d6fe15759\" class=\"plotly-graph-div\" style=\"height:525px; width:100%;\"></div>            <script type=\"text/javascript\">                require([\"plotly\"], function(Plotly) {                    window.PLOTLYENV=window.PLOTLYENV || {};\n",
       "                    window.PLOTLYENV.BASE_URL='https://plot.ly';                                    if (document.getElementById(\"7842687f-415e-463a-a84c-720d6fe15759\")) {                    Plotly.newPlot(                        \"7842687f-415e-463a-a84c-720d6fe15759\",                        [{\"marker\":{\"color\":\"rgba(255, 153, 51, 0.6)\",\"line\":{\"color\":\"rgba(255, 153, 51, 1.0)\",\"width\":1}},\"name\":\"count\",\"orientation\":\"v\",\"text\":\"\",\"x\":[0,1,2,3,4,5,6,7,8,9,10,11,12,13,14,15,16,17,18,19,20,21,22,23,24,25,26,27,28,29,30,31,32,33,34,35,36,37,38,39,40,41,42,43,44,45,46,47,48,49,50,51,52,53,54,55,56,57,58,59,60,61,62,63,64,65,66,67,68,69,70,71,72,73,74,75,76,77,78,79,80,81,82,83,84,85,86,87,88,89,90,91,92,93,94,95,97,98,99,100,101,102,103,104,105,106,107,108,109,110,111,114,115,117,119,121,122,123,126,127,128,130,132,133,135,136,138,140,143,145,146,151,153,157,159,162,163,164,168,169,172,175,177,180,181,184,187,189,192,194,201,202,204,207,220,244,253,259,277,291,292,564,630],\"y\":[1,5,3,5,3,9,17,10,6,14,18,17,18,23,21,20,16,26,22,22,25,22,20,17,29,17,19,16,18,20,9,17,21,18,22,15,23,12,20,7,12,16,12,11,13,12,15,9,17,10,10,8,10,9,7,10,8,9,6,10,11,9,4,10,7,9,4,9,5,3,5,6,6,4,4,5,2,5,7,7,5,2,3,7,2,3,6,3,2,2,4,3,3,1,1,3,1,1,1,4,3,5,2,4,3,2,1,1,3,3,2,3,4,1,2,3,1,4,2,1,3,2,2,2,1,1,1,1,2,1,2,3,1,2,2,1,1,1,1,1,1,1,1,1,1,1,2,2,1,1,1,1,1,1,1,1,1,1,1,1,1,1,1],\"type\":\"bar\"}],                        {\"legend\":{\"bgcolor\":\"#F5F6F9\",\"font\":{\"color\":\"#4D5663\"}},\"paper_bgcolor\":\"#F5F6F9\",\"plot_bgcolor\":\"#F5F6F9\",\"template\":{\"data\":{\"barpolar\":[{\"marker\":{\"line\":{\"color\":\"#E5ECF6\",\"width\":0.5},\"pattern\":{\"fillmode\":\"overlay\",\"size\":10,\"solidity\":0.2}},\"type\":\"barpolar\"}],\"bar\":[{\"error_x\":{\"color\":\"#2a3f5f\"},\"error_y\":{\"color\":\"#2a3f5f\"},\"marker\":{\"line\":{\"color\":\"#E5ECF6\",\"width\":0.5},\"pattern\":{\"fillmode\":\"overlay\",\"size\":10,\"solidity\":0.2}},\"type\":\"bar\"}],\"carpet\":[{\"aaxis\":{\"endlinecolor\":\"#2a3f5f\",\"gridcolor\":\"white\",\"linecolor\":\"white\",\"minorgridcolor\":\"white\",\"startlinecolor\":\"#2a3f5f\"},\"baxis\":{\"endlinecolor\":\"#2a3f5f\",\"gridcolor\":\"white\",\"linecolor\":\"white\",\"minorgridcolor\":\"white\",\"startlinecolor\":\"#2a3f5f\"},\"type\":\"carpet\"}],\"choropleth\":[{\"colorbar\":{\"outlinewidth\":0,\"ticks\":\"\"},\"type\":\"choropleth\"}],\"contourcarpet\":[{\"colorbar\":{\"outlinewidth\":0,\"ticks\":\"\"},\"type\":\"contourcarpet\"}],\"contour\":[{\"colorbar\":{\"outlinewidth\":0,\"ticks\":\"\"},\"colorscale\":[[0.0,\"#0d0887\"],[0.1111111111111111,\"#46039f\"],[0.2222222222222222,\"#7201a8\"],[0.3333333333333333,\"#9c179e\"],[0.4444444444444444,\"#bd3786\"],[0.5555555555555556,\"#d8576b\"],[0.6666666666666666,\"#ed7953\"],[0.7777777777777778,\"#fb9f3a\"],[0.8888888888888888,\"#fdca26\"],[1.0,\"#f0f921\"]],\"type\":\"contour\"}],\"heatmapgl\":[{\"colorbar\":{\"outlinewidth\":0,\"ticks\":\"\"},\"colorscale\":[[0.0,\"#0d0887\"],[0.1111111111111111,\"#46039f\"],[0.2222222222222222,\"#7201a8\"],[0.3333333333333333,\"#9c179e\"],[0.4444444444444444,\"#bd3786\"],[0.5555555555555556,\"#d8576b\"],[0.6666666666666666,\"#ed7953\"],[0.7777777777777778,\"#fb9f3a\"],[0.8888888888888888,\"#fdca26\"],[1.0,\"#f0f921\"]],\"type\":\"heatmapgl\"}],\"heatmap\":[{\"colorbar\":{\"outlinewidth\":0,\"ticks\":\"\"},\"colorscale\":[[0.0,\"#0d0887\"],[0.1111111111111111,\"#46039f\"],[0.2222222222222222,\"#7201a8\"],[0.3333333333333333,\"#9c179e\"],[0.4444444444444444,\"#bd3786\"],[0.5555555555555556,\"#d8576b\"],[0.6666666666666666,\"#ed7953\"],[0.7777777777777778,\"#fb9f3a\"],[0.8888888888888888,\"#fdca26\"],[1.0,\"#f0f921\"]],\"type\":\"heatmap\"}],\"histogram2dcontour\":[{\"colorbar\":{\"outlinewidth\":0,\"ticks\":\"\"},\"colorscale\":[[0.0,\"#0d0887\"],[0.1111111111111111,\"#46039f\"],[0.2222222222222222,\"#7201a8\"],[0.3333333333333333,\"#9c179e\"],[0.4444444444444444,\"#bd3786\"],[0.5555555555555556,\"#d8576b\"],[0.6666666666666666,\"#ed7953\"],[0.7777777777777778,\"#fb9f3a\"],[0.8888888888888888,\"#fdca26\"],[1.0,\"#f0f921\"]],\"type\":\"histogram2dcontour\"}],\"histogram2d\":[{\"colorbar\":{\"outlinewidth\":0,\"ticks\":\"\"},\"colorscale\":[[0.0,\"#0d0887\"],[0.1111111111111111,\"#46039f\"],[0.2222222222222222,\"#7201a8\"],[0.3333333333333333,\"#9c179e\"],[0.4444444444444444,\"#bd3786\"],[0.5555555555555556,\"#d8576b\"],[0.6666666666666666,\"#ed7953\"],[0.7777777777777778,\"#fb9f3a\"],[0.8888888888888888,\"#fdca26\"],[1.0,\"#f0f921\"]],\"type\":\"histogram2d\"}],\"histogram\":[{\"marker\":{\"pattern\":{\"fillmode\":\"overlay\",\"size\":10,\"solidity\":0.2}},\"type\":\"histogram\"}],\"mesh3d\":[{\"colorbar\":{\"outlinewidth\":0,\"ticks\":\"\"},\"type\":\"mesh3d\"}],\"parcoords\":[{\"line\":{\"colorbar\":{\"outlinewidth\":0,\"ticks\":\"\"}},\"type\":\"parcoords\"}],\"pie\":[{\"automargin\":true,\"type\":\"pie\"}],\"scatter3d\":[{\"line\":{\"colorbar\":{\"outlinewidth\":0,\"ticks\":\"\"}},\"marker\":{\"colorbar\":{\"outlinewidth\":0,\"ticks\":\"\"}},\"type\":\"scatter3d\"}],\"scattercarpet\":[{\"marker\":{\"colorbar\":{\"outlinewidth\":0,\"ticks\":\"\"}},\"type\":\"scattercarpet\"}],\"scattergeo\":[{\"marker\":{\"colorbar\":{\"outlinewidth\":0,\"ticks\":\"\"}},\"type\":\"scattergeo\"}],\"scattergl\":[{\"marker\":{\"colorbar\":{\"outlinewidth\":0,\"ticks\":\"\"}},\"type\":\"scattergl\"}],\"scattermapbox\":[{\"marker\":{\"colorbar\":{\"outlinewidth\":0,\"ticks\":\"\"}},\"type\":\"scattermapbox\"}],\"scatterpolargl\":[{\"marker\":{\"colorbar\":{\"outlinewidth\":0,\"ticks\":\"\"}},\"type\":\"scatterpolargl\"}],\"scatterpolar\":[{\"marker\":{\"colorbar\":{\"outlinewidth\":0,\"ticks\":\"\"}},\"type\":\"scatterpolar\"}],\"scatter\":[{\"fillpattern\":{\"fillmode\":\"overlay\",\"size\":10,\"solidity\":0.2},\"type\":\"scatter\"}],\"scatterternary\":[{\"marker\":{\"colorbar\":{\"outlinewidth\":0,\"ticks\":\"\"}},\"type\":\"scatterternary\"}],\"surface\":[{\"colorbar\":{\"outlinewidth\":0,\"ticks\":\"\"},\"colorscale\":[[0.0,\"#0d0887\"],[0.1111111111111111,\"#46039f\"],[0.2222222222222222,\"#7201a8\"],[0.3333333333333333,\"#9c179e\"],[0.4444444444444444,\"#bd3786\"],[0.5555555555555556,\"#d8576b\"],[0.6666666666666666,\"#ed7953\"],[0.7777777777777778,\"#fb9f3a\"],[0.8888888888888888,\"#fdca26\"],[1.0,\"#f0f921\"]],\"type\":\"surface\"}],\"table\":[{\"cells\":{\"fill\":{\"color\":\"#EBF0F8\"},\"line\":{\"color\":\"white\"}},\"header\":{\"fill\":{\"color\":\"#C8D4E3\"},\"line\":{\"color\":\"white\"}},\"type\":\"table\"}]},\"layout\":{\"annotationdefaults\":{\"arrowcolor\":\"#2a3f5f\",\"arrowhead\":0,\"arrowwidth\":1},\"autotypenumbers\":\"strict\",\"coloraxis\":{\"colorbar\":{\"outlinewidth\":0,\"ticks\":\"\"}},\"colorscale\":{\"diverging\":[[0,\"#8e0152\"],[0.1,\"#c51b7d\"],[0.2,\"#de77ae\"],[0.3,\"#f1b6da\"],[0.4,\"#fde0ef\"],[0.5,\"#f7f7f7\"],[0.6,\"#e6f5d0\"],[0.7,\"#b8e186\"],[0.8,\"#7fbc41\"],[0.9,\"#4d9221\"],[1,\"#276419\"]],\"sequential\":[[0.0,\"#0d0887\"],[0.1111111111111111,\"#46039f\"],[0.2222222222222222,\"#7201a8\"],[0.3333333333333333,\"#9c179e\"],[0.4444444444444444,\"#bd3786\"],[0.5555555555555556,\"#d8576b\"],[0.6666666666666666,\"#ed7953\"],[0.7777777777777778,\"#fb9f3a\"],[0.8888888888888888,\"#fdca26\"],[1.0,\"#f0f921\"]],\"sequentialminus\":[[0.0,\"#0d0887\"],[0.1111111111111111,\"#46039f\"],[0.2222222222222222,\"#7201a8\"],[0.3333333333333333,\"#9c179e\"],[0.4444444444444444,\"#bd3786\"],[0.5555555555555556,\"#d8576b\"],[0.6666666666666666,\"#ed7953\"],[0.7777777777777778,\"#fb9f3a\"],[0.8888888888888888,\"#fdca26\"],[1.0,\"#f0f921\"]]},\"colorway\":[\"#636efa\",\"#EF553B\",\"#00cc96\",\"#ab63fa\",\"#FFA15A\",\"#19d3f3\",\"#FF6692\",\"#B6E880\",\"#FF97FF\",\"#FECB52\"],\"font\":{\"color\":\"#2a3f5f\"},\"geo\":{\"bgcolor\":\"white\",\"lakecolor\":\"white\",\"landcolor\":\"#E5ECF6\",\"showlakes\":true,\"showland\":true,\"subunitcolor\":\"white\"},\"hoverlabel\":{\"align\":\"left\"},\"hovermode\":\"closest\",\"mapbox\":{\"style\":\"light\"},\"paper_bgcolor\":\"white\",\"plot_bgcolor\":\"#E5ECF6\",\"polar\":{\"angularaxis\":{\"gridcolor\":\"white\",\"linecolor\":\"white\",\"ticks\":\"\"},\"bgcolor\":\"#E5ECF6\",\"radialaxis\":{\"gridcolor\":\"white\",\"linecolor\":\"white\",\"ticks\":\"\"}},\"scene\":{\"xaxis\":{\"backgroundcolor\":\"#E5ECF6\",\"gridcolor\":\"white\",\"gridwidth\":2,\"linecolor\":\"white\",\"showbackground\":true,\"ticks\":\"\",\"zerolinecolor\":\"white\"},\"yaxis\":{\"backgroundcolor\":\"#E5ECF6\",\"gridcolor\":\"white\",\"gridwidth\":2,\"linecolor\":\"white\",\"showbackground\":true,\"ticks\":\"\",\"zerolinecolor\":\"white\"},\"zaxis\":{\"backgroundcolor\":\"#E5ECF6\",\"gridcolor\":\"white\",\"gridwidth\":2,\"linecolor\":\"white\",\"showbackground\":true,\"ticks\":\"\",\"zerolinecolor\":\"white\"}},\"shapedefaults\":{\"line\":{\"color\":\"#2a3f5f\"}},\"ternary\":{\"aaxis\":{\"gridcolor\":\"white\",\"linecolor\":\"white\",\"ticks\":\"\"},\"baxis\":{\"gridcolor\":\"white\",\"linecolor\":\"white\",\"ticks\":\"\"},\"bgcolor\":\"#E5ECF6\",\"caxis\":{\"gridcolor\":\"white\",\"linecolor\":\"white\",\"ticks\":\"\"}},\"title\":{\"x\":0.05},\"xaxis\":{\"automargin\":true,\"gridcolor\":\"white\",\"linecolor\":\"white\",\"ticks\":\"\",\"title\":{\"standoff\":15},\"zerolinecolor\":\"white\",\"zerolinewidth\":2},\"yaxis\":{\"automargin\":true,\"gridcolor\":\"white\",\"linecolor\":\"white\",\"ticks\":\"\",\"title\":{\"standoff\":15},\"zerolinecolor\":\"white\",\"zerolinewidth\":2}}},\"title\":{\"font\":{\"color\":\"#4D5663\"},\"text\":\"Document Length Distribution\"},\"xaxis\":{\"gridcolor\":\"#E1E5ED\",\"linecolor\":\"Black\",\"showgrid\":true,\"tickfont\":{\"color\":\"#4D5663\"},\"title\":{\"font\":{\"color\":\"#4D5663\"},\"text\":\"Word Count\"},\"zerolinecolor\":\"#E1E5ED\"},\"yaxis\":{\"gridcolor\":\"#E1E5ED\",\"linecolor\":\"Black\",\"showgrid\":true,\"tickfont\":{\"color\":\"#4D5663\"},\"title\":{\"font\":{\"color\":\"#4D5663\"},\"text\":\"Document Count\"},\"zerolinecolor\":\"#E1E5ED\"}},                        {\"showLink\": true, \"linkText\": \"Export to plot.ly\", \"plotlyServerURL\": \"https://plot.ly\", \"responsive\": true}                    ).then(function(){\n",
       "                            \n",
       "var gd = document.getElementById('7842687f-415e-463a-a84c-720d6fe15759');\n",
       "var x = new MutationObserver(function (mutations, observer) {{\n",
       "        var display = window.getComputedStyle(gd).display;\n",
       "        if (!display || display === 'none') {{\n",
       "            console.log([gd, 'removed!']);\n",
       "            Plotly.purge(gd);\n",
       "            observer.disconnect();\n",
       "        }}\n",
       "}});\n",
       "\n",
       "// Listen for the removal of the full notebook cells\n",
       "var notebookContainer = gd.closest('#notebook-container');\n",
       "if (notebookContainer) {{\n",
       "    x.observe(notebookContainer, {childList: true});\n",
       "}}\n",
       "\n",
       "// Listen for the clearing of the current output cell\n",
       "var outputEl = gd.closest('.output');\n",
       "if (outputEl) {{\n",
       "    x.observe(outputEl, {childList: true});\n",
       "}}\n",
       "\n",
       "                        })                };                });            </script>        </div>"
      ]
     },
     "metadata": {},
     "output_type": "display_data"
    }
   ],
   "source": [
    "doc_length_plot(df)"
   ]
  },
  {
   "cell_type": "code",
   "execution_count": 33,
   "id": "243f3232",
   "metadata": {},
   "outputs": [
    {
     "data": {
      "application/vnd.plotly.v1+json": {
       "config": {
        "linkText": "Export to plot.ly",
        "plotlyServerURL": "https://plot.ly",
        "showLink": true
       },
       "data": [
        {
         "marker": {
          "color": "rgba(255, 153, 51, 0.6)",
          "line": {
           "color": "rgba(255, 153, 51, 1.0)",
           "width": 1
          }
         },
         "name": "count",
         "orientation": "v",
         "text": "",
         "type": "bar",
         "x": [
          "plant",
          "cambridge",
          "specimen",
          "london",
          "paper",
          "museum",
          "collection",
          "case",
          "house",
          "copy",
          "book",
          "friend",
          "hooker",
          "suffolk",
          "specie",
          "course",
          "day",
          "subject",
          "lecture",
          "university",
          "thank",
          "hand",
          "garden",
          "home",
          "number",
          "matter",
          "opinion",
          "dr",
          "illeg",
          "morning",
          "other",
          "country",
          "hitcham",
          "meeting",
          "march",
          "report",
          "june",
          "thing",
          "town",
          "letter",
          "professor",
          "interest",
          "note",
          "fossil",
          "year",
          "order",
          "purpose",
          "april",
          "society",
          "botany"
         ],
         "y": [
          453,
          404,
          343,
          319,
          234,
          216,
          194,
          188,
          183,
          163,
          162,
          157,
          148,
          147,
          146,
          146,
          144,
          132,
          128,
          128,
          127,
          127,
          120,
          119,
          119,
          118,
          118,
          117,
          114,
          114,
          114,
          114,
          113,
          112,
          112,
          111,
          111,
          111,
          110,
          110,
          108,
          108,
          106,
          105,
          105,
          105,
          104,
          104,
          102,
          102
         ]
        }
       ],
       "layout": {
        "legend": {
         "bgcolor": "#F5F6F9",
         "font": {
          "color": "#4D5663"
         }
        },
        "paper_bgcolor": "#F5F6F9",
        "plot_bgcolor": "#F5F6F9",
        "template": {
         "data": {
          "bar": [
           {
            "error_x": {
             "color": "#2a3f5f"
            },
            "error_y": {
             "color": "#2a3f5f"
            },
            "marker": {
             "line": {
              "color": "#E5ECF6",
              "width": 0.5
             },
             "pattern": {
              "fillmode": "overlay",
              "size": 10,
              "solidity": 0.2
             }
            },
            "type": "bar"
           }
          ],
          "barpolar": [
           {
            "marker": {
             "line": {
              "color": "#E5ECF6",
              "width": 0.5
             },
             "pattern": {
              "fillmode": "overlay",
              "size": 10,
              "solidity": 0.2
             }
            },
            "type": "barpolar"
           }
          ],
          "carpet": [
           {
            "aaxis": {
             "endlinecolor": "#2a3f5f",
             "gridcolor": "white",
             "linecolor": "white",
             "minorgridcolor": "white",
             "startlinecolor": "#2a3f5f"
            },
            "baxis": {
             "endlinecolor": "#2a3f5f",
             "gridcolor": "white",
             "linecolor": "white",
             "minorgridcolor": "white",
             "startlinecolor": "#2a3f5f"
            },
            "type": "carpet"
           }
          ],
          "choropleth": [
           {
            "colorbar": {
             "outlinewidth": 0,
             "ticks": ""
            },
            "type": "choropleth"
           }
          ],
          "contour": [
           {
            "colorbar": {
             "outlinewidth": 0,
             "ticks": ""
            },
            "colorscale": [
             [
              0,
              "#0d0887"
             ],
             [
              0.1111111111111111,
              "#46039f"
             ],
             [
              0.2222222222222222,
              "#7201a8"
             ],
             [
              0.3333333333333333,
              "#9c179e"
             ],
             [
              0.4444444444444444,
              "#bd3786"
             ],
             [
              0.5555555555555556,
              "#d8576b"
             ],
             [
              0.6666666666666666,
              "#ed7953"
             ],
             [
              0.7777777777777778,
              "#fb9f3a"
             ],
             [
              0.8888888888888888,
              "#fdca26"
             ],
             [
              1,
              "#f0f921"
             ]
            ],
            "type": "contour"
           }
          ],
          "contourcarpet": [
           {
            "colorbar": {
             "outlinewidth": 0,
             "ticks": ""
            },
            "type": "contourcarpet"
           }
          ],
          "heatmap": [
           {
            "colorbar": {
             "outlinewidth": 0,
             "ticks": ""
            },
            "colorscale": [
             [
              0,
              "#0d0887"
             ],
             [
              0.1111111111111111,
              "#46039f"
             ],
             [
              0.2222222222222222,
              "#7201a8"
             ],
             [
              0.3333333333333333,
              "#9c179e"
             ],
             [
              0.4444444444444444,
              "#bd3786"
             ],
             [
              0.5555555555555556,
              "#d8576b"
             ],
             [
              0.6666666666666666,
              "#ed7953"
             ],
             [
              0.7777777777777778,
              "#fb9f3a"
             ],
             [
              0.8888888888888888,
              "#fdca26"
             ],
             [
              1,
              "#f0f921"
             ]
            ],
            "type": "heatmap"
           }
          ],
          "heatmapgl": [
           {
            "colorbar": {
             "outlinewidth": 0,
             "ticks": ""
            },
            "colorscale": [
             [
              0,
              "#0d0887"
             ],
             [
              0.1111111111111111,
              "#46039f"
             ],
             [
              0.2222222222222222,
              "#7201a8"
             ],
             [
              0.3333333333333333,
              "#9c179e"
             ],
             [
              0.4444444444444444,
              "#bd3786"
             ],
             [
              0.5555555555555556,
              "#d8576b"
             ],
             [
              0.6666666666666666,
              "#ed7953"
             ],
             [
              0.7777777777777778,
              "#fb9f3a"
             ],
             [
              0.8888888888888888,
              "#fdca26"
             ],
             [
              1,
              "#f0f921"
             ]
            ],
            "type": "heatmapgl"
           }
          ],
          "histogram": [
           {
            "marker": {
             "pattern": {
              "fillmode": "overlay",
              "size": 10,
              "solidity": 0.2
             }
            },
            "type": "histogram"
           }
          ],
          "histogram2d": [
           {
            "colorbar": {
             "outlinewidth": 0,
             "ticks": ""
            },
            "colorscale": [
             [
              0,
              "#0d0887"
             ],
             [
              0.1111111111111111,
              "#46039f"
             ],
             [
              0.2222222222222222,
              "#7201a8"
             ],
             [
              0.3333333333333333,
              "#9c179e"
             ],
             [
              0.4444444444444444,
              "#bd3786"
             ],
             [
              0.5555555555555556,
              "#d8576b"
             ],
             [
              0.6666666666666666,
              "#ed7953"
             ],
             [
              0.7777777777777778,
              "#fb9f3a"
             ],
             [
              0.8888888888888888,
              "#fdca26"
             ],
             [
              1,
              "#f0f921"
             ]
            ],
            "type": "histogram2d"
           }
          ],
          "histogram2dcontour": [
           {
            "colorbar": {
             "outlinewidth": 0,
             "ticks": ""
            },
            "colorscale": [
             [
              0,
              "#0d0887"
             ],
             [
              0.1111111111111111,
              "#46039f"
             ],
             [
              0.2222222222222222,
              "#7201a8"
             ],
             [
              0.3333333333333333,
              "#9c179e"
             ],
             [
              0.4444444444444444,
              "#bd3786"
             ],
             [
              0.5555555555555556,
              "#d8576b"
             ],
             [
              0.6666666666666666,
              "#ed7953"
             ],
             [
              0.7777777777777778,
              "#fb9f3a"
             ],
             [
              0.8888888888888888,
              "#fdca26"
             ],
             [
              1,
              "#f0f921"
             ]
            ],
            "type": "histogram2dcontour"
           }
          ],
          "mesh3d": [
           {
            "colorbar": {
             "outlinewidth": 0,
             "ticks": ""
            },
            "type": "mesh3d"
           }
          ],
          "parcoords": [
           {
            "line": {
             "colorbar": {
              "outlinewidth": 0,
              "ticks": ""
             }
            },
            "type": "parcoords"
           }
          ],
          "pie": [
           {
            "automargin": true,
            "type": "pie"
           }
          ],
          "scatter": [
           {
            "fillpattern": {
             "fillmode": "overlay",
             "size": 10,
             "solidity": 0.2
            },
            "type": "scatter"
           }
          ],
          "scatter3d": [
           {
            "line": {
             "colorbar": {
              "outlinewidth": 0,
              "ticks": ""
             }
            },
            "marker": {
             "colorbar": {
              "outlinewidth": 0,
              "ticks": ""
             }
            },
            "type": "scatter3d"
           }
          ],
          "scattercarpet": [
           {
            "marker": {
             "colorbar": {
              "outlinewidth": 0,
              "ticks": ""
             }
            },
            "type": "scattercarpet"
           }
          ],
          "scattergeo": [
           {
            "marker": {
             "colorbar": {
              "outlinewidth": 0,
              "ticks": ""
             }
            },
            "type": "scattergeo"
           }
          ],
          "scattergl": [
           {
            "marker": {
             "colorbar": {
              "outlinewidth": 0,
              "ticks": ""
             }
            },
            "type": "scattergl"
           }
          ],
          "scattermapbox": [
           {
            "marker": {
             "colorbar": {
              "outlinewidth": 0,
              "ticks": ""
             }
            },
            "type": "scattermapbox"
           }
          ],
          "scatterpolar": [
           {
            "marker": {
             "colorbar": {
              "outlinewidth": 0,
              "ticks": ""
             }
            },
            "type": "scatterpolar"
           }
          ],
          "scatterpolargl": [
           {
            "marker": {
             "colorbar": {
              "outlinewidth": 0,
              "ticks": ""
             }
            },
            "type": "scatterpolargl"
           }
          ],
          "scatterternary": [
           {
            "marker": {
             "colorbar": {
              "outlinewidth": 0,
              "ticks": ""
             }
            },
            "type": "scatterternary"
           }
          ],
          "surface": [
           {
            "colorbar": {
             "outlinewidth": 0,
             "ticks": ""
            },
            "colorscale": [
             [
              0,
              "#0d0887"
             ],
             [
              0.1111111111111111,
              "#46039f"
             ],
             [
              0.2222222222222222,
              "#7201a8"
             ],
             [
              0.3333333333333333,
              "#9c179e"
             ],
             [
              0.4444444444444444,
              "#bd3786"
             ],
             [
              0.5555555555555556,
              "#d8576b"
             ],
             [
              0.6666666666666666,
              "#ed7953"
             ],
             [
              0.7777777777777778,
              "#fb9f3a"
             ],
             [
              0.8888888888888888,
              "#fdca26"
             ],
             [
              1,
              "#f0f921"
             ]
            ],
            "type": "surface"
           }
          ],
          "table": [
           {
            "cells": {
             "fill": {
              "color": "#EBF0F8"
             },
             "line": {
              "color": "white"
             }
            },
            "header": {
             "fill": {
              "color": "#C8D4E3"
             },
             "line": {
              "color": "white"
             }
            },
            "type": "table"
           }
          ]
         },
         "layout": {
          "annotationdefaults": {
           "arrowcolor": "#2a3f5f",
           "arrowhead": 0,
           "arrowwidth": 1
          },
          "autotypenumbers": "strict",
          "coloraxis": {
           "colorbar": {
            "outlinewidth": 0,
            "ticks": ""
           }
          },
          "colorscale": {
           "diverging": [
            [
             0,
             "#8e0152"
            ],
            [
             0.1,
             "#c51b7d"
            ],
            [
             0.2,
             "#de77ae"
            ],
            [
             0.3,
             "#f1b6da"
            ],
            [
             0.4,
             "#fde0ef"
            ],
            [
             0.5,
             "#f7f7f7"
            ],
            [
             0.6,
             "#e6f5d0"
            ],
            [
             0.7,
             "#b8e186"
            ],
            [
             0.8,
             "#7fbc41"
            ],
            [
             0.9,
             "#4d9221"
            ],
            [
             1,
             "#276419"
            ]
           ],
           "sequential": [
            [
             0,
             "#0d0887"
            ],
            [
             0.1111111111111111,
             "#46039f"
            ],
            [
             0.2222222222222222,
             "#7201a8"
            ],
            [
             0.3333333333333333,
             "#9c179e"
            ],
            [
             0.4444444444444444,
             "#bd3786"
            ],
            [
             0.5555555555555556,
             "#d8576b"
            ],
            [
             0.6666666666666666,
             "#ed7953"
            ],
            [
             0.7777777777777778,
             "#fb9f3a"
            ],
            [
             0.8888888888888888,
             "#fdca26"
            ],
            [
             1,
             "#f0f921"
            ]
           ],
           "sequentialminus": [
            [
             0,
             "#0d0887"
            ],
            [
             0.1111111111111111,
             "#46039f"
            ],
            [
             0.2222222222222222,
             "#7201a8"
            ],
            [
             0.3333333333333333,
             "#9c179e"
            ],
            [
             0.4444444444444444,
             "#bd3786"
            ],
            [
             0.5555555555555556,
             "#d8576b"
            ],
            [
             0.6666666666666666,
             "#ed7953"
            ],
            [
             0.7777777777777778,
             "#fb9f3a"
            ],
            [
             0.8888888888888888,
             "#fdca26"
            ],
            [
             1,
             "#f0f921"
            ]
           ]
          },
          "colorway": [
           "#636efa",
           "#EF553B",
           "#00cc96",
           "#ab63fa",
           "#FFA15A",
           "#19d3f3",
           "#FF6692",
           "#B6E880",
           "#FF97FF",
           "#FECB52"
          ],
          "font": {
           "color": "#2a3f5f"
          },
          "geo": {
           "bgcolor": "white",
           "lakecolor": "white",
           "landcolor": "#E5ECF6",
           "showlakes": true,
           "showland": true,
           "subunitcolor": "white"
          },
          "hoverlabel": {
           "align": "left"
          },
          "hovermode": "closest",
          "mapbox": {
           "style": "light"
          },
          "paper_bgcolor": "white",
          "plot_bgcolor": "#E5ECF6",
          "polar": {
           "angularaxis": {
            "gridcolor": "white",
            "linecolor": "white",
            "ticks": ""
           },
           "bgcolor": "#E5ECF6",
           "radialaxis": {
            "gridcolor": "white",
            "linecolor": "white",
            "ticks": ""
           }
          },
          "scene": {
           "xaxis": {
            "backgroundcolor": "#E5ECF6",
            "gridcolor": "white",
            "gridwidth": 2,
            "linecolor": "white",
            "showbackground": true,
            "ticks": "",
            "zerolinecolor": "white"
           },
           "yaxis": {
            "backgroundcolor": "#E5ECF6",
            "gridcolor": "white",
            "gridwidth": 2,
            "linecolor": "white",
            "showbackground": true,
            "ticks": "",
            "zerolinecolor": "white"
           },
           "zaxis": {
            "backgroundcolor": "#E5ECF6",
            "gridcolor": "white",
            "gridwidth": 2,
            "linecolor": "white",
            "showbackground": true,
            "ticks": "",
            "zerolinecolor": "white"
           }
          },
          "shapedefaults": {
           "line": {
            "color": "#2a3f5f"
           }
          },
          "ternary": {
           "aaxis": {
            "gridcolor": "white",
            "linecolor": "white",
            "ticks": ""
           },
           "baxis": {
            "gridcolor": "white",
            "linecolor": "white",
            "ticks": ""
           },
           "bgcolor": "#E5ECF6",
           "caxis": {
            "gridcolor": "white",
            "linecolor": "white",
            "ticks": ""
           }
          },
          "title": {
           "x": 0.05
          },
          "xaxis": {
           "automargin": true,
           "gridcolor": "white",
           "linecolor": "white",
           "ticks": "",
           "title": {
            "standoff": 15
           },
           "zerolinecolor": "white",
           "zerolinewidth": 2
          },
          "yaxis": {
           "automargin": true,
           "gridcolor": "white",
           "linecolor": "white",
           "ticks": "",
           "title": {
            "standoff": 15
           },
           "zerolinecolor": "white",
           "zerolinewidth": 2
          }
         }
        },
        "title": {
         "font": {
          "color": "#4D5663"
         },
         "text": "Most Regular Words"
        },
        "xaxis": {
         "gridcolor": "#E1E5ED",
         "linecolor": "Black",
         "showgrid": true,
         "tickfont": {
          "color": "#4D5663"
         },
         "title": {
          "font": {
           "color": "#4D5663"
          },
          "text": ""
         },
         "zerolinecolor": "#E1E5ED"
        },
        "yaxis": {
         "gridcolor": "#E1E5ED",
         "linecolor": "Black",
         "showgrid": true,
         "tickfont": {
          "color": "#4D5663"
         },
         "title": {
          "font": {
           "color": "#4D5663"
          },
          "text": "Word Count"
         },
         "zerolinecolor": "#E1E5ED"
        }
       }
      },
      "text/html": [
       "<div>                            <div id=\"d7f7ceaf-b31e-4245-b161-3100cdc2b1cf\" class=\"plotly-graph-div\" style=\"height:525px; width:100%;\"></div>            <script type=\"text/javascript\">                require([\"plotly\"], function(Plotly) {                    window.PLOTLYENV=window.PLOTLYENV || {};\n",
       "                    window.PLOTLYENV.BASE_URL='https://plot.ly';                                    if (document.getElementById(\"d7f7ceaf-b31e-4245-b161-3100cdc2b1cf\")) {                    Plotly.newPlot(                        \"d7f7ceaf-b31e-4245-b161-3100cdc2b1cf\",                        [{\"marker\":{\"color\":\"rgba(255, 153, 51, 0.6)\",\"line\":{\"color\":\"rgba(255, 153, 51, 1.0)\",\"width\":1}},\"name\":\"count\",\"orientation\":\"v\",\"text\":\"\",\"x\":[\"plant\",\"cambridge\",\"specimen\",\"london\",\"paper\",\"museum\",\"collection\",\"case\",\"house\",\"copy\",\"book\",\"friend\",\"hooker\",\"suffolk\",\"specie\",\"course\",\"day\",\"subject\",\"lecture\",\"university\",\"thank\",\"hand\",\"garden\",\"home\",\"number\",\"matter\",\"opinion\",\"dr\",\"illeg\",\"morning\",\"other\",\"country\",\"hitcham\",\"meeting\",\"march\",\"report\",\"june\",\"thing\",\"town\",\"letter\",\"professor\",\"interest\",\"note\",\"fossil\",\"year\",\"order\",\"purpose\",\"april\",\"society\",\"botany\"],\"y\":[453,404,343,319,234,216,194,188,183,163,162,157,148,147,146,146,144,132,128,128,127,127,120,119,119,118,118,117,114,114,114,114,113,112,112,111,111,111,110,110,108,108,106,105,105,105,104,104,102,102],\"type\":\"bar\"}],                        {\"legend\":{\"bgcolor\":\"#F5F6F9\",\"font\":{\"color\":\"#4D5663\"}},\"paper_bgcolor\":\"#F5F6F9\",\"plot_bgcolor\":\"#F5F6F9\",\"template\":{\"data\":{\"barpolar\":[{\"marker\":{\"line\":{\"color\":\"#E5ECF6\",\"width\":0.5},\"pattern\":{\"fillmode\":\"overlay\",\"size\":10,\"solidity\":0.2}},\"type\":\"barpolar\"}],\"bar\":[{\"error_x\":{\"color\":\"#2a3f5f\"},\"error_y\":{\"color\":\"#2a3f5f\"},\"marker\":{\"line\":{\"color\":\"#E5ECF6\",\"width\":0.5},\"pattern\":{\"fillmode\":\"overlay\",\"size\":10,\"solidity\":0.2}},\"type\":\"bar\"}],\"carpet\":[{\"aaxis\":{\"endlinecolor\":\"#2a3f5f\",\"gridcolor\":\"white\",\"linecolor\":\"white\",\"minorgridcolor\":\"white\",\"startlinecolor\":\"#2a3f5f\"},\"baxis\":{\"endlinecolor\":\"#2a3f5f\",\"gridcolor\":\"white\",\"linecolor\":\"white\",\"minorgridcolor\":\"white\",\"startlinecolor\":\"#2a3f5f\"},\"type\":\"carpet\"}],\"choropleth\":[{\"colorbar\":{\"outlinewidth\":0,\"ticks\":\"\"},\"type\":\"choropleth\"}],\"contourcarpet\":[{\"colorbar\":{\"outlinewidth\":0,\"ticks\":\"\"},\"type\":\"contourcarpet\"}],\"contour\":[{\"colorbar\":{\"outlinewidth\":0,\"ticks\":\"\"},\"colorscale\":[[0.0,\"#0d0887\"],[0.1111111111111111,\"#46039f\"],[0.2222222222222222,\"#7201a8\"],[0.3333333333333333,\"#9c179e\"],[0.4444444444444444,\"#bd3786\"],[0.5555555555555556,\"#d8576b\"],[0.6666666666666666,\"#ed7953\"],[0.7777777777777778,\"#fb9f3a\"],[0.8888888888888888,\"#fdca26\"],[1.0,\"#f0f921\"]],\"type\":\"contour\"}],\"heatmapgl\":[{\"colorbar\":{\"outlinewidth\":0,\"ticks\":\"\"},\"colorscale\":[[0.0,\"#0d0887\"],[0.1111111111111111,\"#46039f\"],[0.2222222222222222,\"#7201a8\"],[0.3333333333333333,\"#9c179e\"],[0.4444444444444444,\"#bd3786\"],[0.5555555555555556,\"#d8576b\"],[0.6666666666666666,\"#ed7953\"],[0.7777777777777778,\"#fb9f3a\"],[0.8888888888888888,\"#fdca26\"],[1.0,\"#f0f921\"]],\"type\":\"heatmapgl\"}],\"heatmap\":[{\"colorbar\":{\"outlinewidth\":0,\"ticks\":\"\"},\"colorscale\":[[0.0,\"#0d0887\"],[0.1111111111111111,\"#46039f\"],[0.2222222222222222,\"#7201a8\"],[0.3333333333333333,\"#9c179e\"],[0.4444444444444444,\"#bd3786\"],[0.5555555555555556,\"#d8576b\"],[0.6666666666666666,\"#ed7953\"],[0.7777777777777778,\"#fb9f3a\"],[0.8888888888888888,\"#fdca26\"],[1.0,\"#f0f921\"]],\"type\":\"heatmap\"}],\"histogram2dcontour\":[{\"colorbar\":{\"outlinewidth\":0,\"ticks\":\"\"},\"colorscale\":[[0.0,\"#0d0887\"],[0.1111111111111111,\"#46039f\"],[0.2222222222222222,\"#7201a8\"],[0.3333333333333333,\"#9c179e\"],[0.4444444444444444,\"#bd3786\"],[0.5555555555555556,\"#d8576b\"],[0.6666666666666666,\"#ed7953\"],[0.7777777777777778,\"#fb9f3a\"],[0.8888888888888888,\"#fdca26\"],[1.0,\"#f0f921\"]],\"type\":\"histogram2dcontour\"}],\"histogram2d\":[{\"colorbar\":{\"outlinewidth\":0,\"ticks\":\"\"},\"colorscale\":[[0.0,\"#0d0887\"],[0.1111111111111111,\"#46039f\"],[0.2222222222222222,\"#7201a8\"],[0.3333333333333333,\"#9c179e\"],[0.4444444444444444,\"#bd3786\"],[0.5555555555555556,\"#d8576b\"],[0.6666666666666666,\"#ed7953\"],[0.7777777777777778,\"#fb9f3a\"],[0.8888888888888888,\"#fdca26\"],[1.0,\"#f0f921\"]],\"type\":\"histogram2d\"}],\"histogram\":[{\"marker\":{\"pattern\":{\"fillmode\":\"overlay\",\"size\":10,\"solidity\":0.2}},\"type\":\"histogram\"}],\"mesh3d\":[{\"colorbar\":{\"outlinewidth\":0,\"ticks\":\"\"},\"type\":\"mesh3d\"}],\"parcoords\":[{\"line\":{\"colorbar\":{\"outlinewidth\":0,\"ticks\":\"\"}},\"type\":\"parcoords\"}],\"pie\":[{\"automargin\":true,\"type\":\"pie\"}],\"scatter3d\":[{\"line\":{\"colorbar\":{\"outlinewidth\":0,\"ticks\":\"\"}},\"marker\":{\"colorbar\":{\"outlinewidth\":0,\"ticks\":\"\"}},\"type\":\"scatter3d\"}],\"scattercarpet\":[{\"marker\":{\"colorbar\":{\"outlinewidth\":0,\"ticks\":\"\"}},\"type\":\"scattercarpet\"}],\"scattergeo\":[{\"marker\":{\"colorbar\":{\"outlinewidth\":0,\"ticks\":\"\"}},\"type\":\"scattergeo\"}],\"scattergl\":[{\"marker\":{\"colorbar\":{\"outlinewidth\":0,\"ticks\":\"\"}},\"type\":\"scattergl\"}],\"scattermapbox\":[{\"marker\":{\"colorbar\":{\"outlinewidth\":0,\"ticks\":\"\"}},\"type\":\"scattermapbox\"}],\"scatterpolargl\":[{\"marker\":{\"colorbar\":{\"outlinewidth\":0,\"ticks\":\"\"}},\"type\":\"scatterpolargl\"}],\"scatterpolar\":[{\"marker\":{\"colorbar\":{\"outlinewidth\":0,\"ticks\":\"\"}},\"type\":\"scatterpolar\"}],\"scatter\":[{\"fillpattern\":{\"fillmode\":\"overlay\",\"size\":10,\"solidity\":0.2},\"type\":\"scatter\"}],\"scatterternary\":[{\"marker\":{\"colorbar\":{\"outlinewidth\":0,\"ticks\":\"\"}},\"type\":\"scatterternary\"}],\"surface\":[{\"colorbar\":{\"outlinewidth\":0,\"ticks\":\"\"},\"colorscale\":[[0.0,\"#0d0887\"],[0.1111111111111111,\"#46039f\"],[0.2222222222222222,\"#7201a8\"],[0.3333333333333333,\"#9c179e\"],[0.4444444444444444,\"#bd3786\"],[0.5555555555555556,\"#d8576b\"],[0.6666666666666666,\"#ed7953\"],[0.7777777777777778,\"#fb9f3a\"],[0.8888888888888888,\"#fdca26\"],[1.0,\"#f0f921\"]],\"type\":\"surface\"}],\"table\":[{\"cells\":{\"fill\":{\"color\":\"#EBF0F8\"},\"line\":{\"color\":\"white\"}},\"header\":{\"fill\":{\"color\":\"#C8D4E3\"},\"line\":{\"color\":\"white\"}},\"type\":\"table\"}]},\"layout\":{\"annotationdefaults\":{\"arrowcolor\":\"#2a3f5f\",\"arrowhead\":0,\"arrowwidth\":1},\"autotypenumbers\":\"strict\",\"coloraxis\":{\"colorbar\":{\"outlinewidth\":0,\"ticks\":\"\"}},\"colorscale\":{\"diverging\":[[0,\"#8e0152\"],[0.1,\"#c51b7d\"],[0.2,\"#de77ae\"],[0.3,\"#f1b6da\"],[0.4,\"#fde0ef\"],[0.5,\"#f7f7f7\"],[0.6,\"#e6f5d0\"],[0.7,\"#b8e186\"],[0.8,\"#7fbc41\"],[0.9,\"#4d9221\"],[1,\"#276419\"]],\"sequential\":[[0.0,\"#0d0887\"],[0.1111111111111111,\"#46039f\"],[0.2222222222222222,\"#7201a8\"],[0.3333333333333333,\"#9c179e\"],[0.4444444444444444,\"#bd3786\"],[0.5555555555555556,\"#d8576b\"],[0.6666666666666666,\"#ed7953\"],[0.7777777777777778,\"#fb9f3a\"],[0.8888888888888888,\"#fdca26\"],[1.0,\"#f0f921\"]],\"sequentialminus\":[[0.0,\"#0d0887\"],[0.1111111111111111,\"#46039f\"],[0.2222222222222222,\"#7201a8\"],[0.3333333333333333,\"#9c179e\"],[0.4444444444444444,\"#bd3786\"],[0.5555555555555556,\"#d8576b\"],[0.6666666666666666,\"#ed7953\"],[0.7777777777777778,\"#fb9f3a\"],[0.8888888888888888,\"#fdca26\"],[1.0,\"#f0f921\"]]},\"colorway\":[\"#636efa\",\"#EF553B\",\"#00cc96\",\"#ab63fa\",\"#FFA15A\",\"#19d3f3\",\"#FF6692\",\"#B6E880\",\"#FF97FF\",\"#FECB52\"],\"font\":{\"color\":\"#2a3f5f\"},\"geo\":{\"bgcolor\":\"white\",\"lakecolor\":\"white\",\"landcolor\":\"#E5ECF6\",\"showlakes\":true,\"showland\":true,\"subunitcolor\":\"white\"},\"hoverlabel\":{\"align\":\"left\"},\"hovermode\":\"closest\",\"mapbox\":{\"style\":\"light\"},\"paper_bgcolor\":\"white\",\"plot_bgcolor\":\"#E5ECF6\",\"polar\":{\"angularaxis\":{\"gridcolor\":\"white\",\"linecolor\":\"white\",\"ticks\":\"\"},\"bgcolor\":\"#E5ECF6\",\"radialaxis\":{\"gridcolor\":\"white\",\"linecolor\":\"white\",\"ticks\":\"\"}},\"scene\":{\"xaxis\":{\"backgroundcolor\":\"#E5ECF6\",\"gridcolor\":\"white\",\"gridwidth\":2,\"linecolor\":\"white\",\"showbackground\":true,\"ticks\":\"\",\"zerolinecolor\":\"white\"},\"yaxis\":{\"backgroundcolor\":\"#E5ECF6\",\"gridcolor\":\"white\",\"gridwidth\":2,\"linecolor\":\"white\",\"showbackground\":true,\"ticks\":\"\",\"zerolinecolor\":\"white\"},\"zaxis\":{\"backgroundcolor\":\"#E5ECF6\",\"gridcolor\":\"white\",\"gridwidth\":2,\"linecolor\":\"white\",\"showbackground\":true,\"ticks\":\"\",\"zerolinecolor\":\"white\"}},\"shapedefaults\":{\"line\":{\"color\":\"#2a3f5f\"}},\"ternary\":{\"aaxis\":{\"gridcolor\":\"white\",\"linecolor\":\"white\",\"ticks\":\"\"},\"baxis\":{\"gridcolor\":\"white\",\"linecolor\":\"white\",\"ticks\":\"\"},\"bgcolor\":\"#E5ECF6\",\"caxis\":{\"gridcolor\":\"white\",\"linecolor\":\"white\",\"ticks\":\"\"}},\"title\":{\"x\":0.05},\"xaxis\":{\"automargin\":true,\"gridcolor\":\"white\",\"linecolor\":\"white\",\"ticks\":\"\",\"title\":{\"standoff\":15},\"zerolinecolor\":\"white\",\"zerolinewidth\":2},\"yaxis\":{\"automargin\":true,\"gridcolor\":\"white\",\"linecolor\":\"white\",\"ticks\":\"\",\"title\":{\"standoff\":15},\"zerolinecolor\":\"white\",\"zerolinewidth\":2}}},\"title\":{\"font\":{\"color\":\"#4D5663\"},\"text\":\"Most Regular Words\"},\"xaxis\":{\"gridcolor\":\"#E1E5ED\",\"linecolor\":\"Black\",\"showgrid\":true,\"tickfont\":{\"color\":\"#4D5663\"},\"title\":{\"font\":{\"color\":\"#4D5663\"},\"text\":\"\"},\"zerolinecolor\":\"#E1E5ED\"},\"yaxis\":{\"gridcolor\":\"#E1E5ED\",\"linecolor\":\"Black\",\"showgrid\":true,\"tickfont\":{\"color\":\"#4D5663\"},\"title\":{\"font\":{\"color\":\"#4D5663\"},\"text\":\"Word Count\"},\"zerolinecolor\":\"#E1E5ED\"}},                        {\"showLink\": true, \"linkText\": \"Export to plot.ly\", \"plotlyServerURL\": \"https://plot.ly\", \"responsive\": true}                    ).then(function(){\n",
       "                            \n",
       "var gd = document.getElementById('d7f7ceaf-b31e-4245-b161-3100cdc2b1cf');\n",
       "var x = new MutationObserver(function (mutations, observer) {{\n",
       "        var display = window.getComputedStyle(gd).display;\n",
       "        if (!display || display === 'none') {{\n",
       "            console.log([gd, 'removed!']);\n",
       "            Plotly.purge(gd);\n",
       "            observer.disconnect();\n",
       "        }}\n",
       "}});\n",
       "\n",
       "// Listen for the removal of the full notebook cells\n",
       "var notebookContainer = gd.closest('#notebook-container');\n",
       "if (notebookContainer) {{\n",
       "    x.observe(notebookContainer, {childList: true});\n",
       "}}\n",
       "\n",
       "// Listen for the clearing of the current output cell\n",
       "var outputEl = gd.closest('.output');\n",
       "if (outputEl) {{\n",
       "    x.observe(outputEl, {childList: true});\n",
       "}}\n",
       "\n",
       "                        })                };                });            </script>        </div>"
      ]
     },
     "metadata": {},
     "output_type": "display_data"
    }
   ],
   "source": [
    "word_frequency_plot(df)"
   ]
  },
  {
   "cell_type": "code",
   "execution_count": 34,
   "id": "8ba9ca7c",
   "metadata": {
    "scrolled": false
   },
   "outputs": [
    {
     "data": {
      "application/vnd.plotly.v1+json": {
       "config": {
        "linkText": "Export to plot.ly",
        "plotlyServerURL": "https://plot.ly",
        "showLink": true
       },
       "data": [
        {
         "marker": {
          "color": "rgba(255, 153, 51, 0.6)",
          "line": {
           "color": "rgba(255, 153, 51, 1.0)",
           "width": 1
          }
         },
         "name": "count",
         "orientation": "v",
         "text": "",
         "type": "bar",
         "x": [
          "NOUN",
          "PROPN",
          "VERB",
          "ADJ",
          "NUM",
          "ADV",
          "ADP",
          "DET",
          "X",
          "PRON",
          "INTJ",
          "AUX",
          "PUNCT",
          "SCONJ",
          "PART"
         ],
         "y": [
          25942,
          24632,
          2035,
          980,
          117,
          31,
          29,
          20,
          19,
          16,
          10,
          10,
          3,
          2,
          1
         ]
        }
       ],
       "layout": {
        "legend": {
         "bgcolor": "#F5F6F9",
         "font": {
          "color": "#4D5663"
         }
        },
        "paper_bgcolor": "#F5F6F9",
        "plot_bgcolor": "#F5F6F9",
        "template": {
         "data": {
          "bar": [
           {
            "error_x": {
             "color": "#2a3f5f"
            },
            "error_y": {
             "color": "#2a3f5f"
            },
            "marker": {
             "line": {
              "color": "#E5ECF6",
              "width": 0.5
             },
             "pattern": {
              "fillmode": "overlay",
              "size": 10,
              "solidity": 0.2
             }
            },
            "type": "bar"
           }
          ],
          "barpolar": [
           {
            "marker": {
             "line": {
              "color": "#E5ECF6",
              "width": 0.5
             },
             "pattern": {
              "fillmode": "overlay",
              "size": 10,
              "solidity": 0.2
             }
            },
            "type": "barpolar"
           }
          ],
          "carpet": [
           {
            "aaxis": {
             "endlinecolor": "#2a3f5f",
             "gridcolor": "white",
             "linecolor": "white",
             "minorgridcolor": "white",
             "startlinecolor": "#2a3f5f"
            },
            "baxis": {
             "endlinecolor": "#2a3f5f",
             "gridcolor": "white",
             "linecolor": "white",
             "minorgridcolor": "white",
             "startlinecolor": "#2a3f5f"
            },
            "type": "carpet"
           }
          ],
          "choropleth": [
           {
            "colorbar": {
             "outlinewidth": 0,
             "ticks": ""
            },
            "type": "choropleth"
           }
          ],
          "contour": [
           {
            "colorbar": {
             "outlinewidth": 0,
             "ticks": ""
            },
            "colorscale": [
             [
              0,
              "#0d0887"
             ],
             [
              0.1111111111111111,
              "#46039f"
             ],
             [
              0.2222222222222222,
              "#7201a8"
             ],
             [
              0.3333333333333333,
              "#9c179e"
             ],
             [
              0.4444444444444444,
              "#bd3786"
             ],
             [
              0.5555555555555556,
              "#d8576b"
             ],
             [
              0.6666666666666666,
              "#ed7953"
             ],
             [
              0.7777777777777778,
              "#fb9f3a"
             ],
             [
              0.8888888888888888,
              "#fdca26"
             ],
             [
              1,
              "#f0f921"
             ]
            ],
            "type": "contour"
           }
          ],
          "contourcarpet": [
           {
            "colorbar": {
             "outlinewidth": 0,
             "ticks": ""
            },
            "type": "contourcarpet"
           }
          ],
          "heatmap": [
           {
            "colorbar": {
             "outlinewidth": 0,
             "ticks": ""
            },
            "colorscale": [
             [
              0,
              "#0d0887"
             ],
             [
              0.1111111111111111,
              "#46039f"
             ],
             [
              0.2222222222222222,
              "#7201a8"
             ],
             [
              0.3333333333333333,
              "#9c179e"
             ],
             [
              0.4444444444444444,
              "#bd3786"
             ],
             [
              0.5555555555555556,
              "#d8576b"
             ],
             [
              0.6666666666666666,
              "#ed7953"
             ],
             [
              0.7777777777777778,
              "#fb9f3a"
             ],
             [
              0.8888888888888888,
              "#fdca26"
             ],
             [
              1,
              "#f0f921"
             ]
            ],
            "type": "heatmap"
           }
          ],
          "heatmapgl": [
           {
            "colorbar": {
             "outlinewidth": 0,
             "ticks": ""
            },
            "colorscale": [
             [
              0,
              "#0d0887"
             ],
             [
              0.1111111111111111,
              "#46039f"
             ],
             [
              0.2222222222222222,
              "#7201a8"
             ],
             [
              0.3333333333333333,
              "#9c179e"
             ],
             [
              0.4444444444444444,
              "#bd3786"
             ],
             [
              0.5555555555555556,
              "#d8576b"
             ],
             [
              0.6666666666666666,
              "#ed7953"
             ],
             [
              0.7777777777777778,
              "#fb9f3a"
             ],
             [
              0.8888888888888888,
              "#fdca26"
             ],
             [
              1,
              "#f0f921"
             ]
            ],
            "type": "heatmapgl"
           }
          ],
          "histogram": [
           {
            "marker": {
             "pattern": {
              "fillmode": "overlay",
              "size": 10,
              "solidity": 0.2
             }
            },
            "type": "histogram"
           }
          ],
          "histogram2d": [
           {
            "colorbar": {
             "outlinewidth": 0,
             "ticks": ""
            },
            "colorscale": [
             [
              0,
              "#0d0887"
             ],
             [
              0.1111111111111111,
              "#46039f"
             ],
             [
              0.2222222222222222,
              "#7201a8"
             ],
             [
              0.3333333333333333,
              "#9c179e"
             ],
             [
              0.4444444444444444,
              "#bd3786"
             ],
             [
              0.5555555555555556,
              "#d8576b"
             ],
             [
              0.6666666666666666,
              "#ed7953"
             ],
             [
              0.7777777777777778,
              "#fb9f3a"
             ],
             [
              0.8888888888888888,
              "#fdca26"
             ],
             [
              1,
              "#f0f921"
             ]
            ],
            "type": "histogram2d"
           }
          ],
          "histogram2dcontour": [
           {
            "colorbar": {
             "outlinewidth": 0,
             "ticks": ""
            },
            "colorscale": [
             [
              0,
              "#0d0887"
             ],
             [
              0.1111111111111111,
              "#46039f"
             ],
             [
              0.2222222222222222,
              "#7201a8"
             ],
             [
              0.3333333333333333,
              "#9c179e"
             ],
             [
              0.4444444444444444,
              "#bd3786"
             ],
             [
              0.5555555555555556,
              "#d8576b"
             ],
             [
              0.6666666666666666,
              "#ed7953"
             ],
             [
              0.7777777777777778,
              "#fb9f3a"
             ],
             [
              0.8888888888888888,
              "#fdca26"
             ],
             [
              1,
              "#f0f921"
             ]
            ],
            "type": "histogram2dcontour"
           }
          ],
          "mesh3d": [
           {
            "colorbar": {
             "outlinewidth": 0,
             "ticks": ""
            },
            "type": "mesh3d"
           }
          ],
          "parcoords": [
           {
            "line": {
             "colorbar": {
              "outlinewidth": 0,
              "ticks": ""
             }
            },
            "type": "parcoords"
           }
          ],
          "pie": [
           {
            "automargin": true,
            "type": "pie"
           }
          ],
          "scatter": [
           {
            "fillpattern": {
             "fillmode": "overlay",
             "size": 10,
             "solidity": 0.2
            },
            "type": "scatter"
           }
          ],
          "scatter3d": [
           {
            "line": {
             "colorbar": {
              "outlinewidth": 0,
              "ticks": ""
             }
            },
            "marker": {
             "colorbar": {
              "outlinewidth": 0,
              "ticks": ""
             }
            },
            "type": "scatter3d"
           }
          ],
          "scattercarpet": [
           {
            "marker": {
             "colorbar": {
              "outlinewidth": 0,
              "ticks": ""
             }
            },
            "type": "scattercarpet"
           }
          ],
          "scattergeo": [
           {
            "marker": {
             "colorbar": {
              "outlinewidth": 0,
              "ticks": ""
             }
            },
            "type": "scattergeo"
           }
          ],
          "scattergl": [
           {
            "marker": {
             "colorbar": {
              "outlinewidth": 0,
              "ticks": ""
             }
            },
            "type": "scattergl"
           }
          ],
          "scattermapbox": [
           {
            "marker": {
             "colorbar": {
              "outlinewidth": 0,
              "ticks": ""
             }
            },
            "type": "scattermapbox"
           }
          ],
          "scatterpolar": [
           {
            "marker": {
             "colorbar": {
              "outlinewidth": 0,
              "ticks": ""
             }
            },
            "type": "scatterpolar"
           }
          ],
          "scatterpolargl": [
           {
            "marker": {
             "colorbar": {
              "outlinewidth": 0,
              "ticks": ""
             }
            },
            "type": "scatterpolargl"
           }
          ],
          "scatterternary": [
           {
            "marker": {
             "colorbar": {
              "outlinewidth": 0,
              "ticks": ""
             }
            },
            "type": "scatterternary"
           }
          ],
          "surface": [
           {
            "colorbar": {
             "outlinewidth": 0,
             "ticks": ""
            },
            "colorscale": [
             [
              0,
              "#0d0887"
             ],
             [
              0.1111111111111111,
              "#46039f"
             ],
             [
              0.2222222222222222,
              "#7201a8"
             ],
             [
              0.3333333333333333,
              "#9c179e"
             ],
             [
              0.4444444444444444,
              "#bd3786"
             ],
             [
              0.5555555555555556,
              "#d8576b"
             ],
             [
              0.6666666666666666,
              "#ed7953"
             ],
             [
              0.7777777777777778,
              "#fb9f3a"
             ],
             [
              0.8888888888888888,
              "#fdca26"
             ],
             [
              1,
              "#f0f921"
             ]
            ],
            "type": "surface"
           }
          ],
          "table": [
           {
            "cells": {
             "fill": {
              "color": "#EBF0F8"
             },
             "line": {
              "color": "white"
             }
            },
            "header": {
             "fill": {
              "color": "#C8D4E3"
             },
             "line": {
              "color": "white"
             }
            },
            "type": "table"
           }
          ]
         },
         "layout": {
          "annotationdefaults": {
           "arrowcolor": "#2a3f5f",
           "arrowhead": 0,
           "arrowwidth": 1
          },
          "autotypenumbers": "strict",
          "coloraxis": {
           "colorbar": {
            "outlinewidth": 0,
            "ticks": ""
           }
          },
          "colorscale": {
           "diverging": [
            [
             0,
             "#8e0152"
            ],
            [
             0.1,
             "#c51b7d"
            ],
            [
             0.2,
             "#de77ae"
            ],
            [
             0.3,
             "#f1b6da"
            ],
            [
             0.4,
             "#fde0ef"
            ],
            [
             0.5,
             "#f7f7f7"
            ],
            [
             0.6,
             "#e6f5d0"
            ],
            [
             0.7,
             "#b8e186"
            ],
            [
             0.8,
             "#7fbc41"
            ],
            [
             0.9,
             "#4d9221"
            ],
            [
             1,
             "#276419"
            ]
           ],
           "sequential": [
            [
             0,
             "#0d0887"
            ],
            [
             0.1111111111111111,
             "#46039f"
            ],
            [
             0.2222222222222222,
             "#7201a8"
            ],
            [
             0.3333333333333333,
             "#9c179e"
            ],
            [
             0.4444444444444444,
             "#bd3786"
            ],
            [
             0.5555555555555556,
             "#d8576b"
            ],
            [
             0.6666666666666666,
             "#ed7953"
            ],
            [
             0.7777777777777778,
             "#fb9f3a"
            ],
            [
             0.8888888888888888,
             "#fdca26"
            ],
            [
             1,
             "#f0f921"
            ]
           ],
           "sequentialminus": [
            [
             0,
             "#0d0887"
            ],
            [
             0.1111111111111111,
             "#46039f"
            ],
            [
             0.2222222222222222,
             "#7201a8"
            ],
            [
             0.3333333333333333,
             "#9c179e"
            ],
            [
             0.4444444444444444,
             "#bd3786"
            ],
            [
             0.5555555555555556,
             "#d8576b"
            ],
            [
             0.6666666666666666,
             "#ed7953"
            ],
            [
             0.7777777777777778,
             "#fb9f3a"
            ],
            [
             0.8888888888888888,
             "#fdca26"
            ],
            [
             1,
             "#f0f921"
            ]
           ]
          },
          "colorway": [
           "#636efa",
           "#EF553B",
           "#00cc96",
           "#ab63fa",
           "#FFA15A",
           "#19d3f3",
           "#FF6692",
           "#B6E880",
           "#FF97FF",
           "#FECB52"
          ],
          "font": {
           "color": "#2a3f5f"
          },
          "geo": {
           "bgcolor": "white",
           "lakecolor": "white",
           "landcolor": "#E5ECF6",
           "showlakes": true,
           "showland": true,
           "subunitcolor": "white"
          },
          "hoverlabel": {
           "align": "left"
          },
          "hovermode": "closest",
          "mapbox": {
           "style": "light"
          },
          "paper_bgcolor": "white",
          "plot_bgcolor": "#E5ECF6",
          "polar": {
           "angularaxis": {
            "gridcolor": "white",
            "linecolor": "white",
            "ticks": ""
           },
           "bgcolor": "#E5ECF6",
           "radialaxis": {
            "gridcolor": "white",
            "linecolor": "white",
            "ticks": ""
           }
          },
          "scene": {
           "xaxis": {
            "backgroundcolor": "#E5ECF6",
            "gridcolor": "white",
            "gridwidth": 2,
            "linecolor": "white",
            "showbackground": true,
            "ticks": "",
            "zerolinecolor": "white"
           },
           "yaxis": {
            "backgroundcolor": "#E5ECF6",
            "gridcolor": "white",
            "gridwidth": 2,
            "linecolor": "white",
            "showbackground": true,
            "ticks": "",
            "zerolinecolor": "white"
           },
           "zaxis": {
            "backgroundcolor": "#E5ECF6",
            "gridcolor": "white",
            "gridwidth": 2,
            "linecolor": "white",
            "showbackground": true,
            "ticks": "",
            "zerolinecolor": "white"
           }
          },
          "shapedefaults": {
           "line": {
            "color": "#2a3f5f"
           }
          },
          "ternary": {
           "aaxis": {
            "gridcolor": "white",
            "linecolor": "white",
            "ticks": ""
           },
           "baxis": {
            "gridcolor": "white",
            "linecolor": "white",
            "ticks": ""
           },
           "bgcolor": "#E5ECF6",
           "caxis": {
            "gridcolor": "white",
            "linecolor": "white",
            "ticks": ""
           }
          },
          "title": {
           "x": 0.05
          },
          "xaxis": {
           "automargin": true,
           "gridcolor": "white",
           "linecolor": "white",
           "ticks": "",
           "title": {
            "standoff": 15
           },
           "zerolinecolor": "white",
           "zerolinewidth": 2
          },
          "yaxis": {
           "automargin": true,
           "gridcolor": "white",
           "linecolor": "white",
           "ticks": "",
           "title": {
            "standoff": 15
           },
           "zerolinecolor": "white",
           "zerolinewidth": 2
          }
         }
        },
        "title": {
         "font": {
          "color": "#4D5663"
         },
         "text": "Part-of-Speech Tags by Number"
        },
        "xaxis": {
         "gridcolor": "#E1E5ED",
         "linecolor": "Black",
         "showgrid": true,
         "tickfont": {
          "color": "#4D5663"
         },
         "title": {
          "font": {
           "color": "#4D5663"
          },
          "text": "Part-of-Speech"
         },
         "zerolinecolor": "#E1E5ED"
        },
        "yaxis": {
         "gridcolor": "#E1E5ED",
         "linecolor": "Black",
         "showgrid": true,
         "tickfont": {
          "color": "#4D5663"
         },
         "title": {
          "font": {
           "color": "#4D5663"
          },
          "text": "Count"
         },
         "zerolinecolor": "#E1E5ED"
        }
       }
      },
      "text/html": [
       "<div>                            <div id=\"495c0d9b-5489-4af9-a0ab-09e941d2d311\" class=\"plotly-graph-div\" style=\"height:525px; width:100%;\"></div>            <script type=\"text/javascript\">                require([\"plotly\"], function(Plotly) {                    window.PLOTLYENV=window.PLOTLYENV || {};\n",
       "                    window.PLOTLYENV.BASE_URL='https://plot.ly';                                    if (document.getElementById(\"495c0d9b-5489-4af9-a0ab-09e941d2d311\")) {                    Plotly.newPlot(                        \"495c0d9b-5489-4af9-a0ab-09e941d2d311\",                        [{\"marker\":{\"color\":\"rgba(255, 153, 51, 0.6)\",\"line\":{\"color\":\"rgba(255, 153, 51, 1.0)\",\"width\":1}},\"name\":\"count\",\"orientation\":\"v\",\"text\":\"\",\"x\":[\"NOUN\",\"PROPN\",\"VERB\",\"ADJ\",\"NUM\",\"ADV\",\"ADP\",\"DET\",\"X\",\"PRON\",\"INTJ\",\"AUX\",\"PUNCT\",\"SCONJ\",\"PART\"],\"y\":[25942,24632,2035,980,117,31,29,20,19,16,10,10,3,2,1],\"type\":\"bar\"}],                        {\"legend\":{\"bgcolor\":\"#F5F6F9\",\"font\":{\"color\":\"#4D5663\"}},\"paper_bgcolor\":\"#F5F6F9\",\"plot_bgcolor\":\"#F5F6F9\",\"template\":{\"data\":{\"barpolar\":[{\"marker\":{\"line\":{\"color\":\"#E5ECF6\",\"width\":0.5},\"pattern\":{\"fillmode\":\"overlay\",\"size\":10,\"solidity\":0.2}},\"type\":\"barpolar\"}],\"bar\":[{\"error_x\":{\"color\":\"#2a3f5f\"},\"error_y\":{\"color\":\"#2a3f5f\"},\"marker\":{\"line\":{\"color\":\"#E5ECF6\",\"width\":0.5},\"pattern\":{\"fillmode\":\"overlay\",\"size\":10,\"solidity\":0.2}},\"type\":\"bar\"}],\"carpet\":[{\"aaxis\":{\"endlinecolor\":\"#2a3f5f\",\"gridcolor\":\"white\",\"linecolor\":\"white\",\"minorgridcolor\":\"white\",\"startlinecolor\":\"#2a3f5f\"},\"baxis\":{\"endlinecolor\":\"#2a3f5f\",\"gridcolor\":\"white\",\"linecolor\":\"white\",\"minorgridcolor\":\"white\",\"startlinecolor\":\"#2a3f5f\"},\"type\":\"carpet\"}],\"choropleth\":[{\"colorbar\":{\"outlinewidth\":0,\"ticks\":\"\"},\"type\":\"choropleth\"}],\"contourcarpet\":[{\"colorbar\":{\"outlinewidth\":0,\"ticks\":\"\"},\"type\":\"contourcarpet\"}],\"contour\":[{\"colorbar\":{\"outlinewidth\":0,\"ticks\":\"\"},\"colorscale\":[[0.0,\"#0d0887\"],[0.1111111111111111,\"#46039f\"],[0.2222222222222222,\"#7201a8\"],[0.3333333333333333,\"#9c179e\"],[0.4444444444444444,\"#bd3786\"],[0.5555555555555556,\"#d8576b\"],[0.6666666666666666,\"#ed7953\"],[0.7777777777777778,\"#fb9f3a\"],[0.8888888888888888,\"#fdca26\"],[1.0,\"#f0f921\"]],\"type\":\"contour\"}],\"heatmapgl\":[{\"colorbar\":{\"outlinewidth\":0,\"ticks\":\"\"},\"colorscale\":[[0.0,\"#0d0887\"],[0.1111111111111111,\"#46039f\"],[0.2222222222222222,\"#7201a8\"],[0.3333333333333333,\"#9c179e\"],[0.4444444444444444,\"#bd3786\"],[0.5555555555555556,\"#d8576b\"],[0.6666666666666666,\"#ed7953\"],[0.7777777777777778,\"#fb9f3a\"],[0.8888888888888888,\"#fdca26\"],[1.0,\"#f0f921\"]],\"type\":\"heatmapgl\"}],\"heatmap\":[{\"colorbar\":{\"outlinewidth\":0,\"ticks\":\"\"},\"colorscale\":[[0.0,\"#0d0887\"],[0.1111111111111111,\"#46039f\"],[0.2222222222222222,\"#7201a8\"],[0.3333333333333333,\"#9c179e\"],[0.4444444444444444,\"#bd3786\"],[0.5555555555555556,\"#d8576b\"],[0.6666666666666666,\"#ed7953\"],[0.7777777777777778,\"#fb9f3a\"],[0.8888888888888888,\"#fdca26\"],[1.0,\"#f0f921\"]],\"type\":\"heatmap\"}],\"histogram2dcontour\":[{\"colorbar\":{\"outlinewidth\":0,\"ticks\":\"\"},\"colorscale\":[[0.0,\"#0d0887\"],[0.1111111111111111,\"#46039f\"],[0.2222222222222222,\"#7201a8\"],[0.3333333333333333,\"#9c179e\"],[0.4444444444444444,\"#bd3786\"],[0.5555555555555556,\"#d8576b\"],[0.6666666666666666,\"#ed7953\"],[0.7777777777777778,\"#fb9f3a\"],[0.8888888888888888,\"#fdca26\"],[1.0,\"#f0f921\"]],\"type\":\"histogram2dcontour\"}],\"histogram2d\":[{\"colorbar\":{\"outlinewidth\":0,\"ticks\":\"\"},\"colorscale\":[[0.0,\"#0d0887\"],[0.1111111111111111,\"#46039f\"],[0.2222222222222222,\"#7201a8\"],[0.3333333333333333,\"#9c179e\"],[0.4444444444444444,\"#bd3786\"],[0.5555555555555556,\"#d8576b\"],[0.6666666666666666,\"#ed7953\"],[0.7777777777777778,\"#fb9f3a\"],[0.8888888888888888,\"#fdca26\"],[1.0,\"#f0f921\"]],\"type\":\"histogram2d\"}],\"histogram\":[{\"marker\":{\"pattern\":{\"fillmode\":\"overlay\",\"size\":10,\"solidity\":0.2}},\"type\":\"histogram\"}],\"mesh3d\":[{\"colorbar\":{\"outlinewidth\":0,\"ticks\":\"\"},\"type\":\"mesh3d\"}],\"parcoords\":[{\"line\":{\"colorbar\":{\"outlinewidth\":0,\"ticks\":\"\"}},\"type\":\"parcoords\"}],\"pie\":[{\"automargin\":true,\"type\":\"pie\"}],\"scatter3d\":[{\"line\":{\"colorbar\":{\"outlinewidth\":0,\"ticks\":\"\"}},\"marker\":{\"colorbar\":{\"outlinewidth\":0,\"ticks\":\"\"}},\"type\":\"scatter3d\"}],\"scattercarpet\":[{\"marker\":{\"colorbar\":{\"outlinewidth\":0,\"ticks\":\"\"}},\"type\":\"scattercarpet\"}],\"scattergeo\":[{\"marker\":{\"colorbar\":{\"outlinewidth\":0,\"ticks\":\"\"}},\"type\":\"scattergeo\"}],\"scattergl\":[{\"marker\":{\"colorbar\":{\"outlinewidth\":0,\"ticks\":\"\"}},\"type\":\"scattergl\"}],\"scattermapbox\":[{\"marker\":{\"colorbar\":{\"outlinewidth\":0,\"ticks\":\"\"}},\"type\":\"scattermapbox\"}],\"scatterpolargl\":[{\"marker\":{\"colorbar\":{\"outlinewidth\":0,\"ticks\":\"\"}},\"type\":\"scatterpolargl\"}],\"scatterpolar\":[{\"marker\":{\"colorbar\":{\"outlinewidth\":0,\"ticks\":\"\"}},\"type\":\"scatterpolar\"}],\"scatter\":[{\"fillpattern\":{\"fillmode\":\"overlay\",\"size\":10,\"solidity\":0.2},\"type\":\"scatter\"}],\"scatterternary\":[{\"marker\":{\"colorbar\":{\"outlinewidth\":0,\"ticks\":\"\"}},\"type\":\"scatterternary\"}],\"surface\":[{\"colorbar\":{\"outlinewidth\":0,\"ticks\":\"\"},\"colorscale\":[[0.0,\"#0d0887\"],[0.1111111111111111,\"#46039f\"],[0.2222222222222222,\"#7201a8\"],[0.3333333333333333,\"#9c179e\"],[0.4444444444444444,\"#bd3786\"],[0.5555555555555556,\"#d8576b\"],[0.6666666666666666,\"#ed7953\"],[0.7777777777777778,\"#fb9f3a\"],[0.8888888888888888,\"#fdca26\"],[1.0,\"#f0f921\"]],\"type\":\"surface\"}],\"table\":[{\"cells\":{\"fill\":{\"color\":\"#EBF0F8\"},\"line\":{\"color\":\"white\"}},\"header\":{\"fill\":{\"color\":\"#C8D4E3\"},\"line\":{\"color\":\"white\"}},\"type\":\"table\"}]},\"layout\":{\"annotationdefaults\":{\"arrowcolor\":\"#2a3f5f\",\"arrowhead\":0,\"arrowwidth\":1},\"autotypenumbers\":\"strict\",\"coloraxis\":{\"colorbar\":{\"outlinewidth\":0,\"ticks\":\"\"}},\"colorscale\":{\"diverging\":[[0,\"#8e0152\"],[0.1,\"#c51b7d\"],[0.2,\"#de77ae\"],[0.3,\"#f1b6da\"],[0.4,\"#fde0ef\"],[0.5,\"#f7f7f7\"],[0.6,\"#e6f5d0\"],[0.7,\"#b8e186\"],[0.8,\"#7fbc41\"],[0.9,\"#4d9221\"],[1,\"#276419\"]],\"sequential\":[[0.0,\"#0d0887\"],[0.1111111111111111,\"#46039f\"],[0.2222222222222222,\"#7201a8\"],[0.3333333333333333,\"#9c179e\"],[0.4444444444444444,\"#bd3786\"],[0.5555555555555556,\"#d8576b\"],[0.6666666666666666,\"#ed7953\"],[0.7777777777777778,\"#fb9f3a\"],[0.8888888888888888,\"#fdca26\"],[1.0,\"#f0f921\"]],\"sequentialminus\":[[0.0,\"#0d0887\"],[0.1111111111111111,\"#46039f\"],[0.2222222222222222,\"#7201a8\"],[0.3333333333333333,\"#9c179e\"],[0.4444444444444444,\"#bd3786\"],[0.5555555555555556,\"#d8576b\"],[0.6666666666666666,\"#ed7953\"],[0.7777777777777778,\"#fb9f3a\"],[0.8888888888888888,\"#fdca26\"],[1.0,\"#f0f921\"]]},\"colorway\":[\"#636efa\",\"#EF553B\",\"#00cc96\",\"#ab63fa\",\"#FFA15A\",\"#19d3f3\",\"#FF6692\",\"#B6E880\",\"#FF97FF\",\"#FECB52\"],\"font\":{\"color\":\"#2a3f5f\"},\"geo\":{\"bgcolor\":\"white\",\"lakecolor\":\"white\",\"landcolor\":\"#E5ECF6\",\"showlakes\":true,\"showland\":true,\"subunitcolor\":\"white\"},\"hoverlabel\":{\"align\":\"left\"},\"hovermode\":\"closest\",\"mapbox\":{\"style\":\"light\"},\"paper_bgcolor\":\"white\",\"plot_bgcolor\":\"#E5ECF6\",\"polar\":{\"angularaxis\":{\"gridcolor\":\"white\",\"linecolor\":\"white\",\"ticks\":\"\"},\"bgcolor\":\"#E5ECF6\",\"radialaxis\":{\"gridcolor\":\"white\",\"linecolor\":\"white\",\"ticks\":\"\"}},\"scene\":{\"xaxis\":{\"backgroundcolor\":\"#E5ECF6\",\"gridcolor\":\"white\",\"gridwidth\":2,\"linecolor\":\"white\",\"showbackground\":true,\"ticks\":\"\",\"zerolinecolor\":\"white\"},\"yaxis\":{\"backgroundcolor\":\"#E5ECF6\",\"gridcolor\":\"white\",\"gridwidth\":2,\"linecolor\":\"white\",\"showbackground\":true,\"ticks\":\"\",\"zerolinecolor\":\"white\"},\"zaxis\":{\"backgroundcolor\":\"#E5ECF6\",\"gridcolor\":\"white\",\"gridwidth\":2,\"linecolor\":\"white\",\"showbackground\":true,\"ticks\":\"\",\"zerolinecolor\":\"white\"}},\"shapedefaults\":{\"line\":{\"color\":\"#2a3f5f\"}},\"ternary\":{\"aaxis\":{\"gridcolor\":\"white\",\"linecolor\":\"white\",\"ticks\":\"\"},\"baxis\":{\"gridcolor\":\"white\",\"linecolor\":\"white\",\"ticks\":\"\"},\"bgcolor\":\"#E5ECF6\",\"caxis\":{\"gridcolor\":\"white\",\"linecolor\":\"white\",\"ticks\":\"\"}},\"title\":{\"x\":0.05},\"xaxis\":{\"automargin\":true,\"gridcolor\":\"white\",\"linecolor\":\"white\",\"ticks\":\"\",\"title\":{\"standoff\":15},\"zerolinecolor\":\"white\",\"zerolinewidth\":2},\"yaxis\":{\"automargin\":true,\"gridcolor\":\"white\",\"linecolor\":\"white\",\"ticks\":\"\",\"title\":{\"standoff\":15},\"zerolinecolor\":\"white\",\"zerolinewidth\":2}}},\"title\":{\"font\":{\"color\":\"#4D5663\"},\"text\":\"Part-of-Speech Tags by Number\"},\"xaxis\":{\"gridcolor\":\"#E1E5ED\",\"linecolor\":\"Black\",\"showgrid\":true,\"tickfont\":{\"color\":\"#4D5663\"},\"title\":{\"font\":{\"color\":\"#4D5663\"},\"text\":\"Part-of-Speech\"},\"zerolinecolor\":\"#E1E5ED\"},\"yaxis\":{\"gridcolor\":\"#E1E5ED\",\"linecolor\":\"Black\",\"showgrid\":true,\"tickfont\":{\"color\":\"#4D5663\"},\"title\":{\"font\":{\"color\":\"#4D5663\"},\"text\":\"Count\"},\"zerolinecolor\":\"#E1E5ED\"}},                        {\"showLink\": true, \"linkText\": \"Export to plot.ly\", \"plotlyServerURL\": \"https://plot.ly\", \"responsive\": true}                    ).then(function(){\n",
       "                            \n",
       "var gd = document.getElementById('495c0d9b-5489-4af9-a0ab-09e941d2d311');\n",
       "var x = new MutationObserver(function (mutations, observer) {{\n",
       "        var display = window.getComputedStyle(gd).display;\n",
       "        if (!display || display === 'none') {{\n",
       "            console.log([gd, 'removed!']);\n",
       "            Plotly.purge(gd);\n",
       "            observer.disconnect();\n",
       "        }}\n",
       "}});\n",
       "\n",
       "// Listen for the removal of the full notebook cells\n",
       "var notebookContainer = gd.closest('#notebook-container');\n",
       "if (notebookContainer) {{\n",
       "    x.observe(notebookContainer, {childList: true});\n",
       "}}\n",
       "\n",
       "// Listen for the clearing of the current output cell\n",
       "var outputEl = gd.closest('.output');\n",
       "if (outputEl) {{\n",
       "    x.observe(outputEl, {childList: true});\n",
       "}}\n",
       "\n",
       "                        })                };                });            </script>        </div>"
      ]
     },
     "metadata": {},
     "output_type": "display_data"
    }
   ],
   "source": [
    "pos_count_plot(df)"
   ]
  },
  {
   "cell_type": "markdown",
   "id": "7202a5b3",
   "metadata": {},
   "source": [
    "Finally we save our dataframes for use in the next notebooks which implement our different topic models."
   ]
  },
  {
   "cell_type": "code",
   "execution_count": 35,
   "id": "448df502",
   "metadata": {},
   "outputs": [],
   "source": [
    "df.to_pickle(\"pickle/henslow_texts.pkl\")\n",
    "sent_df.to_pickle(\"pickle/henslow_sentences.pkl\")"
   ]
  }
 ],
 "metadata": {
  "kernelspec": {
   "display_name": "henslow-topic-mod",
   "language": "python",
   "name": "henslow-topic-mod"
  },
  "language_info": {
   "codemirror_mode": {
    "name": "ipython",
    "version": 3
   },
   "file_extension": ".py",
   "mimetype": "text/x-python",
   "name": "python",
   "nbconvert_exporter": "python",
   "pygments_lexer": "ipython3",
   "version": "3.9.1"
  }
 },
 "nbformat": 4,
 "nbformat_minor": 5
}
