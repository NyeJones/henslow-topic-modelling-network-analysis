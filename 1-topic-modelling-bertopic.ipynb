{
 "cells": [
  {
   "cell_type": "markdown",
   "id": "4cea7e37",
   "metadata": {},
   "source": [
    "Import libraries for the BERTopic topic modelling process"
   ]
  },
  {
   "cell_type": "code",
   "execution_count": 1,
   "id": "8e36f409",
   "metadata": {},
   "outputs": [
    {
     "name": "stderr",
     "output_type": "stream",
     "text": [
      "/Users/aneir1/.local/share/virtualenvs/lda_topic_models-22hpaXJ5/lib/python3.9/site-packages/umap/distances.py:1063: NumbaDeprecationWarning:\n",
      "\n",
      "The 'nopython' keyword argument was not supplied to the 'numba.jit' decorator. The implicit default value for this argument is currently False, but it will be changed to True in Numba 0.59.0. See https://numba.readthedocs.io/en/stable/reference/deprecation.html#deprecation-of-object-mode-fall-back-behaviour-when-using-jit for details.\n",
      "\n",
      "/Users/aneir1/.local/share/virtualenvs/lda_topic_models-22hpaXJ5/lib/python3.9/site-packages/umap/distances.py:1071: NumbaDeprecationWarning:\n",
      "\n",
      "The 'nopython' keyword argument was not supplied to the 'numba.jit' decorator. The implicit default value for this argument is currently False, but it will be changed to True in Numba 0.59.0. See https://numba.readthedocs.io/en/stable/reference/deprecation.html#deprecation-of-object-mode-fall-back-behaviour-when-using-jit for details.\n",
      "\n",
      "/Users/aneir1/.local/share/virtualenvs/lda_topic_models-22hpaXJ5/lib/python3.9/site-packages/umap/distances.py:1086: NumbaDeprecationWarning:\n",
      "\n",
      "The 'nopython' keyword argument was not supplied to the 'numba.jit' decorator. The implicit default value for this argument is currently False, but it will be changed to True in Numba 0.59.0. See https://numba.readthedocs.io/en/stable/reference/deprecation.html#deprecation-of-object-mode-fall-back-behaviour-when-using-jit for details.\n",
      "\n",
      "/Users/aneir1/.local/share/virtualenvs/lda_topic_models-22hpaXJ5/lib/python3.9/site-packages/umap/umap_.py:660: NumbaDeprecationWarning:\n",
      "\n",
      "The 'nopython' keyword argument was not supplied to the 'numba.jit' decorator. The implicit default value for this argument is currently False, but it will be changed to True in Numba 0.59.0. See https://numba.readthedocs.io/en/stable/reference/deprecation.html#deprecation-of-object-mode-fall-back-behaviour-when-using-jit for details.\n",
      "\n"
     ]
    },
    {
     "data": {
      "text/html": [
       "        <script type=\"text/javascript\">\n",
       "        window.PlotlyConfig = {MathJaxConfig: 'local'};\n",
       "        if (window.MathJax && window.MathJax.Hub && window.MathJax.Hub.Config) {window.MathJax.Hub.Config({SVG: {font: \"STIX-Web\"}});}\n",
       "        if (typeof require !== 'undefined') {\n",
       "        require.undef(\"plotly\");\n",
       "        requirejs.config({\n",
       "            paths: {\n",
       "                'plotly': ['https://cdn.plot.ly/plotly-2.25.2.min']\n",
       "            }\n",
       "        });\n",
       "        require(['plotly'], function(Plotly) {\n",
       "            window._Plotly = Plotly;\n",
       "        });\n",
       "        }\n",
       "        </script>\n",
       "        "
      ]
     },
     "metadata": {},
     "output_type": "display_data"
    }
   ],
   "source": [
    "import pickle\n",
    "import pandas as pd\n",
    "import cufflinks as cf\n",
    "\n",
    "import plotly.express as px\n",
    "from plotly.offline import init_notebook_mode, iplot\n",
    "from plotly.graph_objs import *\n",
    "\n",
    "from ipywidgets import FloatProgress\n",
    "from bertopic import BERTopic\n",
    "from natsort import natsorted\n",
    "\n",
    "cf.go_offline()\n",
    "cf.set_config_file(offline=False, world_readable=True)"
   ]
  },
  {
   "cell_type": "markdown",
   "id": "4e38185b",
   "metadata": {},
   "source": [
    "Function to take dataframe and topic model. Takes date column and sentence text column and changes them into lists, applies topic model to the sentence list, then creates dictionary with topics as keys and a list of sentences for that topic as values. \n",
    "\n",
    "The sentence list, topics and date list are used to make a visualisation of topic frequency over time, with the output changed to scattered points rather than line.\n",
    "\n",
    "Returns the dictionary of topics/sentences and the visualisation as tuple."
   ]
  },
  {
   "cell_type": "code",
   "execution_count": 2,
   "id": "28160869",
   "metadata": {},
   "outputs": [],
   "source": [
    "def bertopic_time(dataframe, topic_model):\n",
    "    sent_list = dataframe[\"text\"].to_list()\n",
    "    date_list = dataframe[\"date\"].to_list()\n",
    "    topics, probs = topic_model.fit_transform(sent_list)\n",
    "    \n",
    "    topic_docs = {topic: [] for topic in set(topics)}\n",
    "    for topic, doc in zip(topics, sent_list):\n",
    "        topic_docs[topic].append(doc)\n",
    "    \n",
    "    topics_over_time = topic_model.topics_over_time(docs=sent_list, \n",
    "                                                timestamps=date_list, \n",
    "                                                global_tuning=True, \n",
    "                                                evolution_tuning=True, \n",
    "                                                nr_bins=20,\n",
    "                                              )\n",
    "    fig = topic_model.visualize_topics_over_time(topics_over_time, top_n_topics=15, height=500, width=1000)\n",
    "    fig.update_layout(yaxis_title = \"Count\")\n",
    "    for trace in fig.data:\n",
    "        trace.update(mode=\"markers\")\n",
    "    return (fig, topic_docs)"
   ]
  },
  {
   "cell_type": "markdown",
   "id": "a156d4e1",
   "metadata": {},
   "source": [
    "Function which takes dataframe and the tuple created by bertopic_time function and converts into a dataframe with the topics from the visualisation, which are limited to the top n topics in the dataset, in a new \"topics\" column. This new dataframe contains the topics from the visualisation, not all generated topics. Created for social network visualisations for each topic in notebook four.\n",
    "\n",
    "First divides tuple into visualisation and topic/sentence list dictionary. For the latter, removes duplicates from sentence lists using set and reconverts to list.\n",
    "\n",
    "Searches dataframe for sentence list for each topic. If the sentence is in a row, adds that row to a new dataframe with a new \"topic\" column containing the topic number. Append dataframe to a list of dataframes for all topics and then concatenates these into one dataframe.\n",
    "\n",
    "Take the data from the visualisation and use this to get topic names and numbers for visual in ordered lists. Create final dataframe exclusively for the \"top topics\" contained in the visualisation with the topic names from the visualisation, replacing topic numbers created above.\n",
    "\n",
    "Returns dataframe for the visualisation topics which includes topic names for each sentence."
   ]
  },
  {
   "cell_type": "code",
   "execution_count": 3,
   "id": "b504bf83",
   "metadata": {},
   "outputs": [],
   "source": [
    "def doc_topics_maker(dataframe, vis_obj):\n",
    "    visual = vis_obj[0]\n",
    "    doc_topics = vis_obj[1]\n",
    "    doc_topics = dict(zip(doc_topics.keys(), map(set, doc_topics.values())))\n",
    "    for key, value in doc_topics.items():\n",
    "        doc_topics[key] = list(value)\n",
    "\n",
    "    df_list = []\n",
    "    for key, value in doc_topics.items():\n",
    "        mask = dataframe[\"text\"].isin(value)\n",
    "        top_docs_df = dataframe.loc[mask]\n",
    "        top_docs_df[\"topic\"] = key\n",
    "        df_list.append(top_docs_df)\n",
    "    doc_topics_df = pd.concat(df_list)\n",
    "\n",
    "    topic_names = []\n",
    "    topic_nums = []\n",
    "    topic_range = len(visual.data)\n",
    "    for i in range(topic_range):\n",
    "        topic_name = visual.data[i].name\n",
    "        topic_names.append(topic_name)\n",
    "        topic_nums.append(i)\n",
    "    topic_names = natsorted(topic_names)\n",
    "\n",
    "    doc_topics_df = doc_topics_df.loc[doc_topics_df[\"topic\"].isin(topic_nums)]\n",
    "    doc_topics_df = doc_topics_df.replace(topic_nums, topic_names)\n",
    "    return doc_topics_df"
   ]
  },
  {
   "cell_type": "markdown",
   "id": "41396756",
   "metadata": {},
   "source": [
    "Function which takes dataframe and topic model, extracts sentences from dataframe and runs through topic model, returns dendrogram of clusters for most prominent topics."
   ]
  },
  {
   "cell_type": "code",
   "execution_count": 4,
   "id": "3621d442",
   "metadata": {},
   "outputs": [],
   "source": [
    "def bertopic_tree(dataframe, topic_model, topics_num=15):\n",
    "    sent_list = dataframe[\"text\"].to_list()\n",
    "    topics, probs = topic_model.fit_transform(sent_list)\n",
    "    fig = topic_model.visualize_hierarchy(top_n_topics=topics_num)\n",
    "    return fig"
   ]
  },
  {
   "cell_type": "markdown",
   "id": "cac6e5b8",
   "metadata": {},
   "source": [
    "Function which counts the number of letters in each year across the corpus, returns series for number of letters per year."
   ]
  },
  {
   "cell_type": "code",
   "execution_count": 5,
   "id": "bc1008db",
   "metadata": {},
   "outputs": [],
   "source": [
    "def year_counts(dataframe):\n",
    "    dataframe[\"year\"] = dataframe[\"date\"].dt.year\n",
    "    year_counts = dataframe.groupby([\"year\"]).size()\n",
    "    return year_counts"
   ]
  },
  {
   "cell_type": "markdown",
   "id": "2d457adc",
   "metadata": {},
   "source": [
    "Function which takes the year counts series for letters per year and converts into a bar plot."
   ]
  },
  {
   "cell_type": "code",
   "execution_count": 6,
   "id": "2874158c",
   "metadata": {},
   "outputs": [],
   "source": [
    "def year_counts_plot(year_counts):\n",
    "    year_counts_plot = px.bar(year_counts, \n",
    "                          title=\"Letter Count by Year\",\n",
    "                          labels= {\n",
    "                              \"value\":\"Count\",\n",
    "                              \"year\":\"Year\"\n",
    "                          }\n",
    "                         )\n",
    "    year_counts_plot.update_layout(showlegend=False)\n",
    "    return year_counts_plot"
   ]
  },
  {
   "cell_type": "markdown",
   "id": "fb25c3a3",
   "metadata": {},
   "source": [
    "Function which creates a topic frequency over time graph, omitting outlying years with small numbers of letters and large numbers of letters. The function takes a dataframe, year counts series of letters per year and parameters with amendable default values for higher and lower limits of letters per year.\n",
    "\n",
    "First the function creates the year window by removing high and low frequency year letters from the year counts series, then uses this year window to find items in the main dataframe which match it. Finally, it sends the resulting dataframe to bertopic_time for visualisation of the data over time and returns this visualisation."
   ]
  },
  {
   "cell_type": "code",
   "execution_count": 7,
   "id": "d60d484f",
   "metadata": {},
   "outputs": [],
   "source": [
    "def year_window_vis(dataframe, year_counts, topic_model, low_lim=20, high_lim=150):\n",
    "    year_counts_window = year_counts[(year_counts > low_lim) & (year_counts < high_lim)]\n",
    "    year_window = year_counts_window.index.tolist()\n",
    "    year_win_df = dataframe[dataframe[\"date\"].dt.year.isin(year_window)]\n",
    "    year_win_vis_obj = bertopic_time(year_win_df, topic_model)\n",
    "    year_win_vis = year_win_vis_obj[0]\n",
    "    return year_win_vis"
   ]
  },
  {
   "cell_type": "markdown",
   "id": "7d48cfa6",
   "metadata": {},
   "source": [
    "Import dataframes of clean data created in notebook zero, one with letters divided into sentences and the other with letter texts as one string."
   ]
  },
  {
   "cell_type": "code",
   "execution_count": 8,
   "id": "7e842868",
   "metadata": {
    "scrolled": false
   },
   "outputs": [],
   "source": [
    "sent_df = pd.read_pickle(\"pickle/henslow_sentences.pkl\")\n",
    "df = pd.read_pickle(\"pickle/henslow_texts.pkl\")"
   ]
  },
  {
   "cell_type": "markdown",
   "id": "7f7b7028",
   "metadata": {},
   "source": [
    "Remove rows with empty text columns from the dataframe. This can happen because of the removal of parts of text during the data cleaning process."
   ]
  },
  {
   "cell_type": "code",
   "execution_count": 9,
   "id": "3b634e64",
   "metadata": {
    "scrolled": true
   },
   "outputs": [
    {
     "data": {
      "text/html": [
       "<div>\n",
       "<style scoped>\n",
       "    .dataframe tbody tr th:only-of-type {\n",
       "        vertical-align: middle;\n",
       "    }\n",
       "\n",
       "    .dataframe tbody tr th {\n",
       "        vertical-align: top;\n",
       "    }\n",
       "\n",
       "    .dataframe thead th {\n",
       "        text-align: right;\n",
       "    }\n",
       "</style>\n",
       "<table border=\"1\" class=\"dataframe\">\n",
       "  <thead>\n",
       "    <tr style=\"text-align: right;\">\n",
       "      <th></th>\n",
       "      <th>letter</th>\n",
       "      <th>date</th>\n",
       "      <th>sender</th>\n",
       "      <th>recipient</th>\n",
       "      <th>text</th>\n",
       "    </tr>\n",
       "  </thead>\n",
       "  <tbody>\n",
       "    <tr>\n",
       "      <th>0</th>\n",
       "      <td>letters_1.xml</td>\n",
       "      <td>1820-04-24</td>\n",
       "      <td>Sowerby, James</td>\n",
       "      <td>Henslow, J. S.</td>\n",
       "      <td>mead lambeth april fossil</td>\n",
       "    </tr>\n",
       "    <tr>\n",
       "      <th>1</th>\n",
       "      <td>letters_1.xml</td>\n",
       "      <td>1820-04-24</td>\n",
       "      <td>Sowerby, James</td>\n",
       "      <td>Henslow, J. S.</td>\n",
       "      <td>sedgwick favour amm</td>\n",
       "    </tr>\n",
       "    <tr>\n",
       "      <th>2</th>\n",
       "      <td>letters_1.xml</td>\n",
       "      <td>1820-04-24</td>\n",
       "      <td>Sowerby, James</td>\n",
       "      <td>Henslow, J. S.</td>\n",
       "      <td>thank</td>\n",
       "    </tr>\n",
       "    <tr>\n",
       "      <th>3</th>\n",
       "      <td>letters_1.xml</td>\n",
       "      <td>1820-04-24</td>\n",
       "      <td>Sowerby, James</td>\n",
       "      <td>Henslow, J. S.</td>\n",
       "      <td>clark lecture satr mot</td>\n",
       "    </tr>\n",
       "    <tr>\n",
       "      <th>4</th>\n",
       "      <td>letters_1.xml</td>\n",
       "      <td>1820-04-24</td>\n",
       "      <td>Sowerby, James</td>\n",
       "      <td>Henslow, J. S.</td>\n",
       "      <td>iron pupil</td>\n",
       "    </tr>\n",
       "    <tr>\n",
       "      <th>...</th>\n",
       "      <td>...</td>\n",
       "      <td>...</td>\n",
       "      <td>...</td>\n",
       "      <td>...</td>\n",
       "      <td>...</td>\n",
       "    </tr>\n",
       "    <tr>\n",
       "      <th>9126</th>\n",
       "      <td>letters_1252.xml</td>\n",
       "      <td>1828-11-11</td>\n",
       "      <td>Yarrell, William</td>\n",
       "      <td>Henslow, J. S.</td>\n",
       "      <td>london novr bennett act subcommittee managemen...</td>\n",
       "    </tr>\n",
       "    <tr>\n",
       "      <th>9127</th>\n",
       "      <td>letters_1252.xml</td>\n",
       "      <td>1828-11-11</td>\n",
       "      <td>Yarrell, William</td>\n",
       "      <td>Henslow, J. S.</td>\n",
       "      <td>advantage catalogue collection bird</td>\n",
       "    </tr>\n",
       "    <tr>\n",
       "      <th>9128</th>\n",
       "      <td>letters_1252.xml</td>\n",
       "      <td>1828-11-11</td>\n",
       "      <td>Yarrell, William</td>\n",
       "      <td>Henslow, J. S.</td>\n",
       "      <td>care leadbeater</td>\n",
       "    </tr>\n",
       "    <tr>\n",
       "      <th>9129</th>\n",
       "      <td>letters_1252.xml</td>\n",
       "      <td>1828-11-11</td>\n",
       "      <td>Yarrell, William</td>\n",
       "      <td>Henslow, J. S.</td>\n",
       "      <td>refer case bird join jenyns promise</td>\n",
       "    </tr>\n",
       "    <tr>\n",
       "      <th>9130</th>\n",
       "      <td>letters_1252.xml</td>\n",
       "      <td>1828-11-11</td>\n",
       "      <td>Yarrell, William</td>\n",
       "      <td>Henslow, J. S.</td>\n",
       "      <td>acceptance copy paper subject obd yarrell ryde...</td>\n",
       "    </tr>\n",
       "  </tbody>\n",
       "</table>\n",
       "<p>9131 rows × 5 columns</p>\n",
       "</div>"
      ],
      "text/plain": [
       "                letter       date            sender       recipient  \\\n",
       "0        letters_1.xml 1820-04-24    Sowerby, James  Henslow, J. S.   \n",
       "1        letters_1.xml 1820-04-24    Sowerby, James  Henslow, J. S.   \n",
       "2        letters_1.xml 1820-04-24    Sowerby, James  Henslow, J. S.   \n",
       "3        letters_1.xml 1820-04-24    Sowerby, James  Henslow, J. S.   \n",
       "4        letters_1.xml 1820-04-24    Sowerby, James  Henslow, J. S.   \n",
       "...                ...        ...               ...             ...   \n",
       "9126  letters_1252.xml 1828-11-11  Yarrell, William  Henslow, J. S.   \n",
       "9127  letters_1252.xml 1828-11-11  Yarrell, William  Henslow, J. S.   \n",
       "9128  letters_1252.xml 1828-11-11  Yarrell, William  Henslow, J. S.   \n",
       "9129  letters_1252.xml 1828-11-11  Yarrell, William  Henslow, J. S.   \n",
       "9130  letters_1252.xml 1828-11-11  Yarrell, William  Henslow, J. S.   \n",
       "\n",
       "                                                   text  \n",
       "0                             mead lambeth april fossil  \n",
       "1                                   sedgwick favour amm  \n",
       "2                                                 thank  \n",
       "3                                clark lecture satr mot  \n",
       "4                                            iron pupil  \n",
       "...                                                 ...  \n",
       "9126  london novr bennett act subcommittee managemen...  \n",
       "9127                advantage catalogue collection bird  \n",
       "9128                                    care leadbeater  \n",
       "9129                refer case bird join jenyns promise  \n",
       "9130  acceptance copy paper subject obd yarrell ryde...  \n",
       "\n",
       "[9131 rows x 5 columns]"
      ]
     },
     "execution_count": 9,
     "metadata": {},
     "output_type": "execute_result"
    }
   ],
   "source": [
    "sent_df = sent_df[sent_df[\"text\"].str.len() != 0]\n",
    "sent_df.reset_index(inplace=True, drop=True)\n",
    "sent_df[\"text\"] = sent_df[\"text\"].str.join(\" \")\n",
    "sent_df"
   ]
  },
  {
   "cell_type": "markdown",
   "id": "7ce4ba9c",
   "metadata": {},
   "source": [
    "Use boolean maak to create dataframe restricted to 1920s for use in visualisation."
   ]
  },
  {
   "cell_type": "code",
   "execution_count": 10,
   "id": "2a02930f",
   "metadata": {
    "scrolled": true
   },
   "outputs": [
    {
     "data": {
      "text/html": [
       "<div>\n",
       "<style scoped>\n",
       "    .dataframe tbody tr th:only-of-type {\n",
       "        vertical-align: middle;\n",
       "    }\n",
       "\n",
       "    .dataframe tbody tr th {\n",
       "        vertical-align: top;\n",
       "    }\n",
       "\n",
       "    .dataframe thead th {\n",
       "        text-align: right;\n",
       "    }\n",
       "</style>\n",
       "<table border=\"1\" class=\"dataframe\">\n",
       "  <thead>\n",
       "    <tr style=\"text-align: right;\">\n",
       "      <th></th>\n",
       "      <th>letter</th>\n",
       "      <th>date</th>\n",
       "      <th>sender</th>\n",
       "      <th>recipient</th>\n",
       "      <th>text</th>\n",
       "    </tr>\n",
       "  </thead>\n",
       "  <tbody>\n",
       "    <tr>\n",
       "      <th>0</th>\n",
       "      <td>letters_1.xml</td>\n",
       "      <td>1820-04-24</td>\n",
       "      <td>Sowerby, James</td>\n",
       "      <td>Henslow, J. S.</td>\n",
       "      <td>mead lambeth april fossil</td>\n",
       "    </tr>\n",
       "    <tr>\n",
       "      <th>1</th>\n",
       "      <td>letters_1.xml</td>\n",
       "      <td>1820-04-24</td>\n",
       "      <td>Sowerby, James</td>\n",
       "      <td>Henslow, J. S.</td>\n",
       "      <td>sedgwick favour amm</td>\n",
       "    </tr>\n",
       "    <tr>\n",
       "      <th>2</th>\n",
       "      <td>letters_1.xml</td>\n",
       "      <td>1820-04-24</td>\n",
       "      <td>Sowerby, James</td>\n",
       "      <td>Henslow, J. S.</td>\n",
       "      <td>thank</td>\n",
       "    </tr>\n",
       "    <tr>\n",
       "      <th>3</th>\n",
       "      <td>letters_1.xml</td>\n",
       "      <td>1820-04-24</td>\n",
       "      <td>Sowerby, James</td>\n",
       "      <td>Henslow, J. S.</td>\n",
       "      <td>clark lecture satr mot</td>\n",
       "    </tr>\n",
       "    <tr>\n",
       "      <th>4</th>\n",
       "      <td>letters_1.xml</td>\n",
       "      <td>1820-04-24</td>\n",
       "      <td>Sowerby, James</td>\n",
       "      <td>Henslow, J. S.</td>\n",
       "      <td>iron pupil</td>\n",
       "    </tr>\n",
       "    <tr>\n",
       "      <th>...</th>\n",
       "      <td>...</td>\n",
       "      <td>...</td>\n",
       "      <td>...</td>\n",
       "      <td>...</td>\n",
       "      <td>...</td>\n",
       "    </tr>\n",
       "    <tr>\n",
       "      <th>9126</th>\n",
       "      <td>letters_1252.xml</td>\n",
       "      <td>1828-11-11</td>\n",
       "      <td>Yarrell, William</td>\n",
       "      <td>Henslow, J. S.</td>\n",
       "      <td>london novr bennett act subcommittee managemen...</td>\n",
       "    </tr>\n",
       "    <tr>\n",
       "      <th>9127</th>\n",
       "      <td>letters_1252.xml</td>\n",
       "      <td>1828-11-11</td>\n",
       "      <td>Yarrell, William</td>\n",
       "      <td>Henslow, J. S.</td>\n",
       "      <td>advantage catalogue collection bird</td>\n",
       "    </tr>\n",
       "    <tr>\n",
       "      <th>9128</th>\n",
       "      <td>letters_1252.xml</td>\n",
       "      <td>1828-11-11</td>\n",
       "      <td>Yarrell, William</td>\n",
       "      <td>Henslow, J. S.</td>\n",
       "      <td>care leadbeater</td>\n",
       "    </tr>\n",
       "    <tr>\n",
       "      <th>9129</th>\n",
       "      <td>letters_1252.xml</td>\n",
       "      <td>1828-11-11</td>\n",
       "      <td>Yarrell, William</td>\n",
       "      <td>Henslow, J. S.</td>\n",
       "      <td>refer case bird join jenyns promise</td>\n",
       "    </tr>\n",
       "    <tr>\n",
       "      <th>9130</th>\n",
       "      <td>letters_1252.xml</td>\n",
       "      <td>1828-11-11</td>\n",
       "      <td>Yarrell, William</td>\n",
       "      <td>Henslow, J. S.</td>\n",
       "      <td>acceptance copy paper subject obd yarrell ryde...</td>\n",
       "    </tr>\n",
       "  </tbody>\n",
       "</table>\n",
       "<p>2496 rows × 5 columns</p>\n",
       "</div>"
      ],
      "text/plain": [
       "                letter       date            sender       recipient  \\\n",
       "0        letters_1.xml 1820-04-24    Sowerby, James  Henslow, J. S.   \n",
       "1        letters_1.xml 1820-04-24    Sowerby, James  Henslow, J. S.   \n",
       "2        letters_1.xml 1820-04-24    Sowerby, James  Henslow, J. S.   \n",
       "3        letters_1.xml 1820-04-24    Sowerby, James  Henslow, J. S.   \n",
       "4        letters_1.xml 1820-04-24    Sowerby, James  Henslow, J. S.   \n",
       "...                ...        ...               ...             ...   \n",
       "9126  letters_1252.xml 1828-11-11  Yarrell, William  Henslow, J. S.   \n",
       "9127  letters_1252.xml 1828-11-11  Yarrell, William  Henslow, J. S.   \n",
       "9128  letters_1252.xml 1828-11-11  Yarrell, William  Henslow, J. S.   \n",
       "9129  letters_1252.xml 1828-11-11  Yarrell, William  Henslow, J. S.   \n",
       "9130  letters_1252.xml 1828-11-11  Yarrell, William  Henslow, J. S.   \n",
       "\n",
       "                                                   text  \n",
       "0                             mead lambeth april fossil  \n",
       "1                                   sedgwick favour amm  \n",
       "2                                                 thank  \n",
       "3                                clark lecture satr mot  \n",
       "4                                            iron pupil  \n",
       "...                                                 ...  \n",
       "9126  london novr bennett act subcommittee managemen...  \n",
       "9127                advantage catalogue collection bird  \n",
       "9128                                    care leadbeater  \n",
       "9129                refer case bird join jenyns promise  \n",
       "9130  acceptance copy paper subject obd yarrell ryde...  \n",
       "\n",
       "[2496 rows x 5 columns]"
      ]
     },
     "execution_count": 10,
     "metadata": {},
     "output_type": "execute_result"
    }
   ],
   "source": [
    "mask_20 = (sent_df[\"date\"] > \"1819/12/31\") & (sent_df[\"date\"] < \"1829/12/31\")\n",
    "sent_df_year_restrict_20 = sent_df.loc[mask_20]\n",
    "sent_df_year_restrict_20"
   ]
  },
  {
   "cell_type": "markdown",
   "id": "cd3763eb",
   "metadata": {},
   "source": [
    "Use boolean maak to create dataframe restricted to the period 1945 to 1957 for use in visualisation."
   ]
  },
  {
   "cell_type": "code",
   "execution_count": 11,
   "id": "f3c3b91b",
   "metadata": {},
   "outputs": [
    {
     "data": {
      "text/html": [
       "<div>\n",
       "<style scoped>\n",
       "    .dataframe tbody tr th:only-of-type {\n",
       "        vertical-align: middle;\n",
       "    }\n",
       "\n",
       "    .dataframe tbody tr th {\n",
       "        vertical-align: top;\n",
       "    }\n",
       "\n",
       "    .dataframe thead th {\n",
       "        text-align: right;\n",
       "    }\n",
       "</style>\n",
       "<table border=\"1\" class=\"dataframe\">\n",
       "  <thead>\n",
       "    <tr style=\"text-align: right;\">\n",
       "      <th></th>\n",
       "      <th>letter</th>\n",
       "      <th>date</th>\n",
       "      <th>sender</th>\n",
       "      <th>recipient</th>\n",
       "      <th>text</th>\n",
       "    </tr>\n",
       "  </thead>\n",
       "  <tbody>\n",
       "    <tr>\n",
       "      <th>2605</th>\n",
       "      <td>letters_229.xml</td>\n",
       "      <td>1845-01-19</td>\n",
       "      <td>Maund, Benjamin</td>\n",
       "      <td>Henslow, J. S.</td>\n",
       "      <td>bromsgrove january professor copy dict</td>\n",
       "    </tr>\n",
       "    <tr>\n",
       "      <th>2606</th>\n",
       "      <td>letters_229.xml</td>\n",
       "      <td>1845-01-19</td>\n",
       "      <td>Maund, Benjamin</td>\n",
       "      <td>Henslow, J. S.</td>\n",
       "      <td>claim</td>\n",
       "    </tr>\n",
       "    <tr>\n",
       "      <th>2607</th>\n",
       "      <td>letters_229.xml</td>\n",
       "      <td>1845-01-19</td>\n",
       "      <td>Maund, Benjamin</td>\n",
       "      <td>Henslow, J. S.</td>\n",
       "      <td>primula vulgaris elatior veris variety specie ...</td>\n",
       "    </tr>\n",
       "    <tr>\n",
       "      <th>2608</th>\n",
       "      <td>letters_229.xml</td>\n",
       "      <td>1845-01-19</td>\n",
       "      <td>Maund, Benjamin</td>\n",
       "      <td>Henslow, J. S.</td>\n",
       "      <td>note evidence notice</td>\n",
       "    </tr>\n",
       "    <tr>\n",
       "      <th>2609</th>\n",
       "      <td>letters_229.xml</td>\n",
       "      <td>1845-01-19</td>\n",
       "      <td>Maund, Benjamin</td>\n",
       "      <td>Henslow, J. S.</td>\n",
       "      <td>botanic_garden scientist variety williams pitm...</td>\n",
       "    </tr>\n",
       "    <tr>\n",
       "      <th>...</th>\n",
       "      <td>...</td>\n",
       "      <td>...</td>\n",
       "      <td>...</td>\n",
       "      <td>...</td>\n",
       "      <td>...</td>\n",
       "    </tr>\n",
       "    <tr>\n",
       "      <th>9109</th>\n",
       "      <td>letters_1250.xml</td>\n",
       "      <td>1848-08-21</td>\n",
       "      <td>Henslow, J. S.</td>\n",
       "      <td>Ransome, George</td>\n",
       "      <td>glass tube</td>\n",
       "    </tr>\n",
       "    <tr>\n",
       "      <th>9110</th>\n",
       "      <td>letters_1250.xml</td>\n",
       "      <td>1848-08-21</td>\n",
       "      <td>Henslow, J. S.</td>\n",
       "      <td>Ransome, George</td>\n",
       "      <td>sphaeria attack caterpillars fructifie neck</td>\n",
       "    </tr>\n",
       "    <tr>\n",
       "      <th>9111</th>\n",
       "      <td>letters_1250.xml</td>\n",
       "      <td>1848-08-21</td>\n",
       "      <td>Henslow, J. S.</td>\n",
       "      <td>Ransome, George</td>\n",
       "      <td>hint sort book</td>\n",
       "    </tr>\n",
       "    <tr>\n",
       "      <th>9112</th>\n",
       "      <td>letters_1250.xml</td>\n",
       "      <td>1848-08-21</td>\n",
       "      <td>Henslow, J. S.</td>\n",
       "      <td>Ransome, George</td>\n",
       "      <td>lindley vegetable kingdom</td>\n",
       "    </tr>\n",
       "    <tr>\n",
       "      <th>9113</th>\n",
       "      <td>letters_1250.xml</td>\n",
       "      <td>1848-08-21</td>\n",
       "      <td>Henslow, J. S.</td>\n",
       "      <td>Ransome, George</td>\n",
       "      <td>naphtha petroleum bottle</td>\n",
       "    </tr>\n",
       "  </tbody>\n",
       "</table>\n",
       "<p>2943 rows × 5 columns</p>\n",
       "</div>"
      ],
      "text/plain": [
       "                letter       date           sender        recipient  \\\n",
       "2605   letters_229.xml 1845-01-19  Maund, Benjamin   Henslow, J. S.   \n",
       "2606   letters_229.xml 1845-01-19  Maund, Benjamin   Henslow, J. S.   \n",
       "2607   letters_229.xml 1845-01-19  Maund, Benjamin   Henslow, J. S.   \n",
       "2608   letters_229.xml 1845-01-19  Maund, Benjamin   Henslow, J. S.   \n",
       "2609   letters_229.xml 1845-01-19  Maund, Benjamin   Henslow, J. S.   \n",
       "...                ...        ...              ...              ...   \n",
       "9109  letters_1250.xml 1848-08-21   Henslow, J. S.  Ransome, George   \n",
       "9110  letters_1250.xml 1848-08-21   Henslow, J. S.  Ransome, George   \n",
       "9111  letters_1250.xml 1848-08-21   Henslow, J. S.  Ransome, George   \n",
       "9112  letters_1250.xml 1848-08-21   Henslow, J. S.  Ransome, George   \n",
       "9113  letters_1250.xml 1848-08-21   Henslow, J. S.  Ransome, George   \n",
       "\n",
       "                                                   text  \n",
       "2605             bromsgrove january professor copy dict  \n",
       "2606                                              claim  \n",
       "2607  primula vulgaris elatior veris variety specie ...  \n",
       "2608                               note evidence notice  \n",
       "2609  botanic_garden scientist variety williams pitm...  \n",
       "...                                                 ...  \n",
       "9109                                         glass tube  \n",
       "9110        sphaeria attack caterpillars fructifie neck  \n",
       "9111                                     hint sort book  \n",
       "9112                          lindley vegetable kingdom  \n",
       "9113                           naphtha petroleum bottle  \n",
       "\n",
       "[2943 rows x 5 columns]"
      ]
     },
     "execution_count": 11,
     "metadata": {},
     "output_type": "execute_result"
    }
   ],
   "source": [
    "mask_late = (sent_df[\"date\"] > \"1844/12/31\") & (sent_df[\"date\"] < \"1857/12/31\")\n",
    "sent_df_year_restrict_late = sent_df.loc[mask_late]\n",
    "sent_df_year_restrict_late"
   ]
  },
  {
   "cell_type": "markdown",
   "id": "4c5bf701",
   "metadata": {},
   "source": [
    "Create dataframes restricted to correspondence sent by Henslow and correspondence sent to him for visualisations."
   ]
  },
  {
   "cell_type": "code",
   "execution_count": 12,
   "id": "3f8315a3",
   "metadata": {},
   "outputs": [],
   "source": [
    "henslow_sent_df = sent_df.loc[sent_df[\"sender\"] == \"Henslow, J. S.\"]\n",
    "henslow_df = df.loc[df[\"sender\"] == \"Henslow, J. S.\"]\n",
    "non_henslow_sent_df = sent_df.loc[sent_df[\"sender\"] != \"Henslow, J. S.\"]\n",
    "non_henslow_df = df.loc[df[\"sender\"] != \"Henslow, J. S.\"]"
   ]
  },
  {
   "cell_type": "markdown",
   "id": "2068de27",
   "metadata": {},
   "source": [
    "Initialize BERTopic model and insert parameters, including input model and minimum topic number"
   ]
  },
  {
   "cell_type": "code",
   "execution_count": 13,
   "id": "e5c308f7",
   "metadata": {},
   "outputs": [],
   "source": [
    "topic_model = BERTopic(embedding_model=\"all-MiniLM-L6-v2\", nr_topics=\"auto\", min_topic_size=15)"
   ]
  },
  {
   "cell_type": "markdown",
   "id": "168e8e60",
   "metadata": {},
   "source": [
    "Create visualisation of topics over time for all input data using bertopic_time function."
   ]
  },
  {
   "cell_type": "code",
   "execution_count": 14,
   "id": "6b001bee",
   "metadata": {
    "scrolled": false
   },
   "outputs": [
    {
     "data": {
      "application/vnd.plotly.v1+json": {
       "config": {
        "plotlyServerURL": "https://plot.ly"
       },
       "data": [
        {
         "hoverinfo": "text",
         "hovertext": [
          "<b>Topic 0</b><br>Words: martin, dale, shd, meeting, trin",
          "<b>Topic 0</b><br>Words: obed, leipsic, clarke, bearer, confer",
          "<b>Topic 0</b><br>Words: hodgson, pera, campbell, biggs, shell",
          "<b>Topic 0</b><br>Words: johns, trin, henry, lewin, john",
          "<b>Topic 0</b><br>Words: thess, wilson, obd, graham, sh",
          "<b>Topic 0</b><br>Words: sh, graham, obs, wilson, soc",
          "<b>Topic 0</b><br>Words: johnston, agardh, lieutt, commanding, squad",
          "<b>Topic 0</b><br>Words: biog, birkbeck, cambe, dup, tyrone",
          "<b>Topic 0</b><br>Words: dion, talbot, prac, howell, zool",
          "<b>Topic 0</b><br>Words: daf, icke, jh, zool, longman",
          "<b>Topic 0</b><br>Words: lumholtz, utiles, moyens, stafford, generosite",
          "<b>Topic 0</b><br>Words: universal, ich, guano, dose, bit",
          "<b>Topic 0</b><br>Words: john_phillip, anaty, fsa, gerville, occid",
          "<b>Topic 0</b><br>Words: campbell, scott, suff, vicar, gutch",
          "<b>Topic 0</b><br>Words: comment, trin, airy, joseph, ommission",
          "<b>Topic 0</b><br>Words: moseley, yool, henry, john_phillip, wilson",
          "<b>Topic 0</b><br>Words: mss, miller, trin, reid, suf",
          "<b>Topic 0</b><br>Words: comment, john_phillip, moustache, bur, ns",
          "<b>Topic 0</b><br>Words: longman, thomas, hohenacker, layman, hoddesdon",
          "<b>Topic 0</b><br>Words: prestwich, nucula, tuddenham, doorne, outang"
         ],
         "marker": {
          "color": "#E69F00"
         },
         "mode": "markers",
         "name": "0_trin_henry_wilson_john_phillip",
         "type": "scatter",
         "x": [
          "1818-12-02T13:03:21.600000",
          "1821-01-28T19:12:00",
          "1823-03-12T14:24:00",
          "1825-04-23T09:36:00",
          "1827-06-05T04:48:00",
          "1829-07-17T00:00:00",
          "1831-08-28T19:12:00",
          "1833-10-09T14:24:00",
          "1835-11-21T09:36:00",
          "1838-01-02T04:48:00",
          "1840-02-14T00:00:00",
          "1842-03-27T19:12:00",
          "1844-05-08T14:24:00",
          "1846-06-20T09:36:00",
          "1848-08-01T04:48:00",
          "1850-09-13T00:00:00",
          "1852-10-24T19:12:00",
          "1854-12-06T14:24:00",
          "1857-01-17T09:36:00",
          "1859-03-01T04:48:00"
         ],
         "y": [
          2,
          3,
          7,
          116,
          30,
          54,
          17,
          7,
          6,
          8,
          10,
          9,
          19,
          7,
          22,
          18,
          19,
          34,
          21,
          20
         ]
        },
        {
         "hoverinfo": "text",
         "hovertext": [
          "<b>Topic 1</b><br>Words: pentacrinitis, botany, palustris, flora, arvensis",
          "<b>Topic 1</b><br>Words: lutea, verna, fruticosa, viola, dianthu",
          "<b>Topic 1</b><br>Words: orchis, plant, maculata, lathyrus, violaceum",
          "<b>Topic 1</b><br>Words: botany, herbarium, bupleurum, palustris, officinalis",
          "<b>Topic 1</b><br>Words: palustris, campanula, vulgaris, latifolia, orchis",
          "<b>Topic 1</b><br>Words: arvensis, palustris, vulgaris, botany, officinalis",
          "<b>Topic 1</b><br>Words: dentatum, lin, orchis, flora, narcessus",
          "<b>Topic 1</b><br>Words: snowflake, plena, goodyera, macrophylla, biggs",
          "<b>Topic 1</b><br>Words: alpinus, botanical, cecidota, aenea, janes",
          "<b>Topic 1</b><br>Words: flora, folicium, hospital, calyfera, letwycke",
          "<b>Topic 1</b><br>Words: botanist, elegans, plutot, tige, renferme",
          "<b>Topic 1</b><br>Words: arboretum, flowering, shrub, flora, bott",
          "<b>Topic 1</b><br>Words: gardener, senegambia, fiery, curatorship, brunners",
          "<b>Topic 1</b><br>Words: dance, double, chaperon, reside, willis",
          "<b>Topic 1</b><br>Words: term, syllabus, botany, pistil, apprenticeship",
          "<b>Topic 1</b><br>Words: diagrams, botanical, schools, euchiridium, education",
          "<b>Topic 1</b><br>Words: conferring, song, lemonade, marqueepart, jam",
          "<b>Topic 1</b><br>Words: gardeners_chronicle, paternoster, botany, partner, chronicle",
          "<b>Topic 1</b><br>Words: botany, botanist, playfair, child, enquiry",
          "<b>Topic 1</b><br>Words: botany, curriculum, sulivan, bentham, cambsh"
         ],
         "marker": {
          "color": "#56B4E9"
         },
         "mode": "markers",
         "name": "1_botany_palustris_flora_arvensis",
         "type": "scatter",
         "x": [
          "1818-12-02T13:03:21.600000",
          "1821-01-28T19:12:00",
          "1823-03-12T14:24:00",
          "1825-04-23T09:36:00",
          "1827-06-05T04:48:00",
          "1829-07-17T00:00:00",
          "1831-08-28T19:12:00",
          "1833-10-09T14:24:00",
          "1835-11-21T09:36:00",
          "1838-01-02T04:48:00",
          "1840-02-14T00:00:00",
          "1842-03-27T19:12:00",
          "1844-05-08T14:24:00",
          "1846-06-20T09:36:00",
          "1848-08-01T04:48:00",
          "1850-09-13T00:00:00",
          "1852-10-24T19:12:00",
          "1854-12-06T14:24:00",
          "1857-01-17T09:36:00",
          "1859-03-01T04:48:00"
         ],
         "y": [
          1,
          6,
          14,
          68,
          56,
          135,
          14,
          5,
          3,
          12,
          5,
          10,
          6,
          3,
          6,
          8,
          3,
          14,
          15,
          20
         ]
        },
        {
         "hoverinfo": "text",
         "hovertext": [
          "<b>Topic 2</b><br>Words: dec, february, summer, cambridge, london",
          "<b>Topic 2</b><br>Words: prince, crescent, casiati, cimitile, verticillata",
          "<b>Topic 2</b><br>Words: departure, sun, sleep, profusion, anglesea",
          "<b>Topic 2</b><br>Words: london, suffolk, norfolk, cambridge, lisbon",
          "<b>Topic 2</b><br>Words: margate, pharmacy, nott, pursuits, traveler",
          "<b>Topic 2</b><br>Words: bridgewater, yorkshire, russel, mac, london",
          "<b>Topic 2</b><br>Words: gazette, accompd, dieppe, cambridge, havercroft",
          "<b>Topic 2</b><br>Words: shutt, salmond, johnstone, kimbolton, strutt",
          "<b>Topic 2</b><br>Words: norwood, chippenham, yellow, lacock, bloomfield",
          "<b>Topic 2</b><br>Words: hitcham_bildeston, suffolk, neglecting, teal, pennyworth",
          "<b>Topic 2</b><br>Words: hitcham_bildeston, memoranda, suffolk, lyttleton, esqr",
          "<b>Topic 2</b><br>Words: hadleigh, bookseller, suffolk, cycle, tumulus",
          "<b>Topic 2</b><br>Words: suffolk, hitcham_hadleigh, goodman, hampshire, rochdale",
          "<b>Topic 2</b><br>Words: ipswich, suffolk, brighton, nov, treaty",
          "<b>Topic 2</b><br>Words: suffolk, ipswich, dec, ransome, cambridge",
          "<b>Topic 2</b><br>Words: suffolk, affy, al, oct, melford",
          "<b>Topic 2</b><br>Words: suffolk, ipswich, hitcham, london, hitcham_bildeston",
          "<b>Topic 2</b><br>Words: hitcham_bildeston, suffolk, ipswich, kegworth, derby",
          "<b>Topic 2</b><br>Words: suffolk, hitcham_bildeston, london, norfolk, ipswich",
          "<b>Topic 2</b><br>Words: suffolk, downing_terrace, hitcham_bildeston, london, hitcham"
         ],
         "marker": {
          "color": "#009E73"
         },
         "mode": "markers",
         "name": "2_suffolk_hitcham_bildeston_ipswich_lond...",
         "type": "scatter",
         "x": [
          "1818-12-02T13:03:21.600000",
          "1821-01-28T19:12:00",
          "1823-03-12T14:24:00",
          "1825-04-23T09:36:00",
          "1827-06-05T04:48:00",
          "1829-07-17T00:00:00",
          "1831-08-28T19:12:00",
          "1833-10-09T14:24:00",
          "1835-11-21T09:36:00",
          "1838-01-02T04:48:00",
          "1840-02-14T00:00:00",
          "1842-03-27T19:12:00",
          "1844-05-08T14:24:00",
          "1846-06-20T09:36:00",
          "1848-08-01T04:48:00",
          "1850-09-13T00:00:00",
          "1852-10-24T19:12:00",
          "1854-12-06T14:24:00",
          "1857-01-17T09:36:00",
          "1859-03-01T04:48:00"
         ],
         "y": [
          3,
          3,
          3,
          31,
          10,
          10,
          7,
          11,
          7,
          8,
          6,
          7,
          12,
          10,
          25,
          9,
          23,
          37,
          22,
          38
         ]
        },
        {
         "hoverinfo": "text",
         "hovertext": [
          "<b>Topic 3</b><br>Words: mot, satr, clark, lecture, examination",
          "<b>Topic 3</b><br>Words: goodness, result, manner, examination, evening",
          "<b>Topic 3</b><br>Words: sell, advertising, confer, strike, labor",
          "<b>Topic 3</b><br>Words: course, lecture, university, parliament, examination",
          "<b>Topic 3</b><br>Words: bachelorship, gace, novice, futurity, lecture",
          "<b>Topic 3</b><br>Words: class, row, proctorship, university, proctor",
          "<b>Topic 3</b><br>Words: lund, paley, course, creature, possibility",
          "<b>Topic 3</b><br>Words: encouraging, compliments, simeon, presents, master_corpu",
          "<b>Topic 3</b><br>Words: drudgery, resource, bookseller, lecture, examination",
          "<b>Topic 3</b><br>Words: fendal, lieu, politic, college, composition",
          "<b>Topic 3</b><br>Words: examiner, lecture, anatomy, agarics, precipitancy",
          "<b>Topic 3</b><br>Words: farm, ireland, wh, model, hint",
          "<b>Topic 3</b><br>Words: professorship, memorandum, stem, delay, degree",
          "<b>Topic 3</b><br>Words: interference, move, reform, implement, memorial",
          "<b>Topic 3</b><br>Words: lecture, course, examination, undergraduate, technicality",
          "<b>Topic 3</b><br>Words: courtier, planation, lecture, occupie, tuition",
          "<b>Topic 3</b><br>Words: lecture, cadetship, nomination, examination, tiresome",
          "<b>Topic 3</b><br>Words: lecture, examination, exam, candidate, course",
          "<b>Topic 3</b><br>Words: lecture, student, exam, examiner, examination",
          "<b>Topic 3</b><br>Words: lecture, examiner, examination, exam, examinership"
         ],
         "marker": {
          "color": "#F0E442"
         },
         "mode": "markers",
         "name": "3_lecture_examination_examiner_course",
         "type": "scatter",
         "x": [
          "1818-12-02T13:03:21.600000",
          "1821-01-28T19:12:00",
          "1823-03-12T14:24:00",
          "1825-04-23T09:36:00",
          "1827-06-05T04:48:00",
          "1829-07-17T00:00:00",
          "1831-08-28T19:12:00",
          "1833-10-09T14:24:00",
          "1835-11-21T09:36:00",
          "1838-01-02T04:48:00",
          "1840-02-14T00:00:00",
          "1842-03-27T19:12:00",
          "1844-05-08T14:24:00",
          "1846-06-20T09:36:00",
          "1848-08-01T04:48:00",
          "1850-09-13T00:00:00",
          "1852-10-24T19:12:00",
          "1854-12-06T14:24:00",
          "1857-01-17T09:36:00",
          "1859-03-01T04:48:00"
         ],
         "y": [
          1,
          1,
          2,
          24,
          6,
          9,
          7,
          4,
          1,
          4,
          7,
          2,
          1,
          3,
          13,
          4,
          11,
          32,
          17,
          28
         ]
        },
        {
         "hoverinfo": "text",
         "hovertext": [
          "<b>Topic 4</b><br>Words: neglect, dale, excuse, letter, circumstance",
          "<b>Topic 4</b><br>Words: hve, conway, honor, circumstance, reason",
          "<b>Topic 4</b><br>Words: letter, principle, circumstance, statement, sentiment",
          "<b>Topic 4</b><br>Words: letter, motive, circumstance, oxymus, depredator",
          "<b>Topic 4</b><br>Words: circumstance, opinion, note, fou, cooperator",
          "<b>Topic 4</b><br>Words: transcript, necessy, letter, treatise, publication",
          "<b>Topic 4</b><br>Words: distribution, contingent, endogenae, persuasion, mark",
          "<b>Topic 4</b><br>Words: censure, voting, letter, charge, feeling",
          "<b>Topic 4</b><br>Words: pepys, scruple, memorandum, future, aug",
          "<b>Topic 4</b><br>Words: memorandum, affluence, manufactory, confirmation, refusal",
          "<b>Topic 4</b><br>Words: noterity, prosecution, entail, compiler, intermittent",
          "<b>Topic 4</b><br>Words: circumstance, evidence, compromise, dotage, begging",
          "<b>Topic 4</b><br>Words: secretary, mode, improvement, application, mind",
          "<b>Topic 4</b><br>Words: repetition, philosopher, capacity, decline, statute",
          "<b>Topic 4</b><br>Words: assent, mind, consent, yield, note",
          "<b>Topic 4</b><br>Words: capital, alphabet, deluge, satisfy, astronomy",
          "<b>Topic 4</b><br>Words: note, succumb, cliquism, antiquarian, cistern",
          "<b>Topic 4</b><br>Words: correction, agreement, letter, reconsideration, file",
          "<b>Topic 4</b><br>Words: fairness, scientificum, odium, reputation, circumstance"
         ],
         "marker": {
          "color": "#D55E00"
         },
         "mode": "markers",
         "name": "4_letter_circumstance_opinion_notice",
         "type": "scatter",
         "x": [
          "1821-01-28T19:12:00",
          "1823-03-12T14:24:00",
          "1825-04-23T09:36:00",
          "1827-06-05T04:48:00",
          "1829-07-17T00:00:00",
          "1831-08-28T19:12:00",
          "1833-10-09T14:24:00",
          "1835-11-21T09:36:00",
          "1838-01-02T04:48:00",
          "1840-02-14T00:00:00",
          "1842-03-27T19:12:00",
          "1844-05-08T14:24:00",
          "1846-06-20T09:36:00",
          "1848-08-01T04:48:00",
          "1850-09-13T00:00:00",
          "1852-10-24T19:12:00",
          "1854-12-06T14:24:00",
          "1857-01-17T09:36:00",
          "1859-03-01T04:48:00"
         ],
         "y": [
          1,
          1,
          34,
          9,
          12,
          15,
          5,
          7,
          2,
          7,
          8,
          12,
          2,
          7,
          7,
          5,
          13,
          9,
          13
         ]
        },
        {
         "hoverinfo": "text",
         "hovertext": [
          "<b>Topic 5</b><br>Words: treasury, payment, salary, majesty, chambers",
          "<b>Topic 5</b><br>Words: labour, newnham, emigrate, renowned, loro",
          "<b>Topic 5</b><br>Words: salary, money, balance, gn, per_annum",
          "<b>Topic 5</b><br>Words: money, payment, debt, wright, banker",
          "<b>Topic 5</b><br>Words: money, research, composition, receipts, hire",
          "<b>Topic 5</b><br>Words: money, downe, informed, carcarius, power",
          "<b>Topic 5</b><br>Words: machinery, shyness, assist, remuneration, tweed",
          "<b>Topic 5</b><br>Words: currency, remuneration, per_annum, money, debt",
          "<b>Topic 5</b><br>Words: labour, electricity, estimate, sep, contributor",
          "<b>Topic 5</b><br>Words: electricity, american, seller, concentrate, money",
          "<b>Topic 5</b><br>Words: loan, pound, labourer, sum, govt",
          "<b>Topic 5</b><br>Words: remuneration, superfluity, naming, amount, debt",
          "<b>Topic 5</b><br>Words: sleeping, socy, ray, task, money",
          "<b>Topic 5</b><br>Words: usefulness, circulation, power, notice, money",
          "<b>Topic 5</b><br>Words: earning, generosity, battle, per_annum, money",
          "<b>Topic 5</b><br>Words: money, amount, sum, stint, alienation",
          "<b>Topic 5</b><br>Words: salary, labour, provision, parliament, payment",
          "<b>Topic 5</b><br>Words: labourer, power, fellow, principled, occupier"
         ],
         "marker": {
          "color": "#0072B2"
         },
         "mode": "markers",
         "name": "5_money_salary_labour_payment",
         "type": "scatter",
         "x": [
          "1823-03-12T14:24:00",
          "1825-04-23T09:36:00",
          "1827-06-05T04:48:00",
          "1829-07-17T00:00:00",
          "1831-08-28T19:12:00",
          "1833-10-09T14:24:00",
          "1835-11-21T09:36:00",
          "1838-01-02T04:48:00",
          "1840-02-14T00:00:00",
          "1842-03-27T19:12:00",
          "1844-05-08T14:24:00",
          "1846-06-20T09:36:00",
          "1848-08-01T04:48:00",
          "1850-09-13T00:00:00",
          "1852-10-24T19:12:00",
          "1854-12-06T14:24:00",
          "1857-01-17T09:36:00",
          "1859-03-01T04:48:00"
         ],
         "y": [
          3,
          9,
          10,
          14,
          8,
          5,
          4,
          12,
          3,
          7,
          8,
          3,
          2,
          1,
          5,
          11,
          17,
          7
         ]
        },
        {
         "hoverinfo": "text",
         "hovertext": [
          "<b>Topic 6</b><br>Words: respite, conocephali, summer, kent, season",
          "<b>Topic 6</b><br>Words: fenny, tribe, summer, season, autumn",
          "<b>Topic 6</b><br>Words: feb, june, summer, month, season",
          "<b>Topic 6</b><br>Words: autumn, spring, deserta, felt, infancy",
          "<b>Topic 6</b><br>Words: season, autumn, summer, month, april",
          "<b>Topic 6</b><br>Words: ellicomb, crispa, summer, rec, germany",
          "<b>Topic 6</b><br>Words: autumn, rd, sd, vacation, month",
          "<b>Topic 6</b><br>Words: explanatory, honobe, granville, month, reply",
          "<b>Topic 6</b><br>Words: postmark, cd, aug, month, day",
          "<b>Topic 6</b><br>Words: sept, july, season, summer, autumn",
          "<b>Topic 6</b><br>Words: effectual, season, sept, winter, summer",
          "<b>Topic 6</b><br>Words: harley, recovery, month, feby, ascertain",
          "<b>Topic 6</b><br>Words: conflagration, balloon, sickly, gust, speckie",
          "<b>Topic 6</b><br>Words: vile, distemper, temper, dec, sept",
          "<b>Topic 6</b><br>Words: preside, feb, united_state, thames, wandsworth",
          "<b>Topic 6</b><br>Words: moon, winter, fillip, season, months_ago",
          "<b>Topic 6</b><br>Words: season, july, month, bristow, oak",
          "<b>Topic 6</b><br>Words: sw, season, february, elizabeth, weymouth",
          "<b>Topic 6</b><br>Words: therm, summer, visitation, congratulation, ampney"
         ],
         "marker": {
          "color": "#CC79A7"
         },
         "mode": "markers",
         "name": "6_season_summer_autumn_feb",
         "type": "scatter",
         "x": [
          "1818-12-02T13:03:21.600000",
          "1821-01-28T19:12:00",
          "1825-04-23T09:36:00",
          "1827-06-05T04:48:00",
          "1829-07-17T00:00:00",
          "1831-08-28T19:12:00",
          "1833-10-09T14:24:00",
          "1835-11-21T09:36:00",
          "1838-01-02T04:48:00",
          "1840-02-14T00:00:00",
          "1842-03-27T19:12:00",
          "1844-05-08T14:24:00",
          "1846-06-20T09:36:00",
          "1848-08-01T04:48:00",
          "1850-09-13T00:00:00",
          "1852-10-24T19:12:00",
          "1854-12-06T14:24:00",
          "1857-01-17T09:36:00",
          "1859-03-01T04:48:00"
         ],
         "y": [
          2,
          1,
          20,
          8,
          24,
          5,
          4,
          1,
          3,
          2,
          3,
          2,
          2,
          3,
          5,
          6,
          9,
          10,
          6
         ]
        },
        {
         "hoverinfo": "text",
         "hovertext": [
          "<b>Topic 7</b><br>Words: acquisition, entomology, acquaintance, study, insect",
          "<b>Topic 7</b><br>Words: insect, entomology, wasp, nest, larva",
          "<b>Topic 7</b><br>Words: insect, dale, scotland, foeniculum, aenethum",
          "<b>Topic 7</b><br>Words: insect, bombyx, larvae, entomology, wine",
          "<b>Topic 7</b><br>Words: insect, entomology, grove, jenyns, yorkshire",
          "<b>Topic 7</b><br>Words: insect, valdivia, meigan, slug, shrubby",
          "<b>Topic 7</b><br>Words: anatomie, mollusque, follow, obtain, insect",
          "<b>Topic 7</b><br>Words: insect, sport, dale, days_ago, edition",
          "<b>Topic 7</b><br>Words: insect, hobby, entomology, collector, cambridgeshire",
          "<b>Topic 7</b><br>Words: hawthorne, permit, entomology, accompany, weather",
          "<b>Topic 7</b><br>Words: squibs, camomile, fly, turpentine, hop",
          "<b>Topic 7</b><br>Words: insect, beam, aphid, hop, bean",
          "<b>Topic 7</b><br>Words: nest, wasp, insect, diptera, entomologist",
          "<b>Topic 7</b><br>Words: insect, museum, entomology, wasp, nest",
          "<b>Topic 7</b><br>Words: bee, wasp, insect, eater, sessile",
          "<b>Topic 7</b><br>Words: insect, westwood, crustacea, insecta, worm",
          "<b>Topic 7</b><br>Words: entomology, aid, request, school, attention",
          "<b>Topic 7</b><br>Words: insect, larva, moth, nepticula, entomologist"
         ],
         "marker": {
          "color": "#E69F00"
         },
         "mode": "markers",
         "name": "7_insect_entomology_wasp_nest",
         "type": "scatter",
         "x": [
          "1818-12-02T13:03:21.600000",
          "1821-01-28T19:12:00",
          "1823-03-12T14:24:00",
          "1825-04-23T09:36:00",
          "1827-06-05T04:48:00",
          "1829-07-17T00:00:00",
          "1831-08-28T19:12:00",
          "1833-10-09T14:24:00",
          "1835-11-21T09:36:00",
          "1838-01-02T04:48:00",
          "1842-03-27T19:12:00",
          "1846-06-20T09:36:00",
          "1848-08-01T04:48:00",
          "1850-09-13T00:00:00",
          "1852-10-24T19:12:00",
          "1854-12-06T14:24:00",
          "1857-01-17T09:36:00",
          "1859-03-01T04:48:00"
         ],
         "y": [
          1,
          1,
          6,
          13,
          17,
          6,
          2,
          4,
          2,
          1,
          3,
          7,
          8,
          1,
          5,
          13,
          1,
          9
         ]
        },
        {
         "hoverinfo": "text",
         "hovertext": [
          "<b>Topic 8</b><br>Words: parcell, lambeth, mead, fossil, help",
          "<b>Topic 8</b><br>Words: boundary, deluvium, colours, diluvium, patch",
          "<b>Topic 8</b><br>Words: cavern, partition, thereabout, slay, granite",
          "<b>Topic 8</b><br>Words: premium, singular, mineralogist, norway, fossil",
          "<b>Topic 8</b><br>Words: limestone, river, rock, precipice, swale",
          "<b>Topic 8</b><br>Words: clay, diluvium, pebble, chalk, pit",
          "<b>Topic 8</b><br>Words: dirt, forest, isle, portland, acceptance",
          "<b>Topic 8</b><br>Words: fossil, anstice, asterophyllite, calamite, bowman",
          "<b>Topic 8</b><br>Words: fossil, quil, clay, doute, livraison",
          "<b>Topic 8</b><br>Words: nodule, geol, sandstone, soil, clayey",
          "<b>Topic 8</b><br>Words: nodule, fossil, calculating, fondness, mentioning",
          "<b>Topic 8</b><br>Words: sandstone, fossil, clay, limestone, nodule",
          "<b>Topic 8</b><br>Words: woodwardian, shell, fossil, box, clay",
          "<b>Topic 8</b><br>Words: epoch, pliocene, fossil, miocene, coraline",
          "<b>Topic 8</b><br>Words: fossil, inclination, wetherell, wetherall, pleistocene",
          "<b>Topic 8</b><br>Words: limestone, wenlock, fossil, prize, weight",
          "<b>Topic 8</b><br>Words: geologist, clay, fossil, brown, thousands",
          "<b>Topic 8</b><br>Words: fossil, step, pit, unmade, arrive"
         ],
         "marker": {
          "color": "#56B4E9"
         },
         "mode": "markers",
         "name": "8_fossil_clay_limestone_nodule",
         "type": "scatter",
         "x": [
          "1818-12-02T13:03:21.600000",
          "1821-01-28T19:12:00",
          "1825-04-23T09:36:00",
          "1827-06-05T04:48:00",
          "1829-07-17T00:00:00",
          "1831-08-28T19:12:00",
          "1835-11-21T09:36:00",
          "1838-01-02T04:48:00",
          "1840-02-14T00:00:00",
          "1842-03-27T19:12:00",
          "1844-05-08T14:24:00",
          "1846-06-20T09:36:00",
          "1848-08-01T04:48:00",
          "1850-09-13T00:00:00",
          "1852-10-24T19:12:00",
          "1854-12-06T14:24:00",
          "1857-01-17T09:36:00",
          "1859-03-01T04:48:00"
         ],
         "y": [
          2,
          1,
          1,
          1,
          4,
          8,
          1,
          16,
          11,
          5,
          8,
          1,
          1,
          6,
          6,
          5,
          6,
          7
         ]
        },
        {
         "hoverinfo": "text",
         "hovertext": [
          "<b>Topic 9</b><br>Words: quadruped, ass, horse, palmerston, sincerely_palmerston",
          "<b>Topic 9</b><br>Words: palmerston, sincerely_palmerston, horse, committee, royston",
          "<b>Topic 9</b><br>Words: owners, mitchell, agent, co, palmerston",
          "<b>Topic 9</b><br>Words: horse, gown, furniture, sincere, mare",
          "<b>Topic 9</b><br>Words: barnsley, monk, bretton, esq, palmerston",
          "<b>Topic 9</b><br>Words: horse, drinking, understanding, midst, treasure",
          "<b>Topic 9</b><br>Words: ride, horse, drawing, room, family",
          "<b>Topic 9</b><br>Words: draft, bentham, thought, request, night",
          "<b>Topic 9</b><br>Words: lancester, edwin, draft, bentham, wish",
          "<b>Topic 9</b><br>Words: minister, palmerston, committee, question, information"
         ],
         "marker": {
          "color": "#009E73"
         },
         "mode": "markers",
         "name": "9_palmerston_horse_sincerely_palmerston_...",
         "type": "scatter",
         "x": [
          "1823-03-12T14:24:00",
          "1825-04-23T09:36:00",
          "1827-06-05T04:48:00",
          "1829-07-17T00:00:00",
          "1831-08-28T19:12:00",
          "1838-01-02T04:48:00",
          "1848-08-01T04:48:00",
          "1850-09-13T00:00:00",
          "1857-01-17T09:36:00",
          "1859-03-01T04:48:00"
         ],
         "y": [
          1,
          76,
          1,
          3,
          1,
          2,
          1,
          1,
          2,
          1
         ]
        },
        {
         "hoverinfo": "text",
         "hovertext": [
          "<b>Topic 10</b><br>Words: grandmother, octobre, brother, stick, agreeable",
          "<b>Topic 10</b><br>Words: brother, nephew, antrobus, room, heart",
          "<b>Topic 10</b><br>Words: purify, eden, prudence, mine, brother",
          "<b>Topic 10</b><br>Words: brother, sister, brother_law, grief, affliction",
          "<b>Topic 10</b><br>Words: brother, fitz, roy, agent, capt",
          "<b>Topic 10</b><br>Words: sending, clements_inn, habit, brother, occasion",
          "<b>Topic 10</b><br>Words: misery, grieve, end, day, brother",
          "<b>Topic 10</b><br>Words: brother, pity, bowel, scarbro, resenmt",
          "<b>Topic 10</b><br>Words: might, brother, chamber, sample, subscriber",
          "<b>Topic 10</b><br>Words: eck, shock, condolence, blow, brother",
          "<b>Topic 10</b><br>Words: sister, infant, closing, parsonage, sorrow",
          "<b>Topic 10</b><br>Words: aunt, stratton, educate, death, saw",
          "<b>Topic 10</b><br>Words: conviviality, tweedie, brother, tediousness, graduate",
          "<b>Topic 10</b><br>Words: brother, bereavement, mourning, sorrow, sister",
          "<b>Topic 10</b><br>Words: sister, brother, wife, death, decease"
         ],
         "marker": {
          "color": "#F0E442"
         },
         "mode": "markers",
         "name": "10_brother_sister_brother_law_nephew",
         "type": "scatter",
         "x": [
          "1823-03-12T14:24:00",
          "1825-04-23T09:36:00",
          "1827-06-05T04:48:00",
          "1829-07-17T00:00:00",
          "1831-08-28T19:12:00",
          "1833-10-09T14:24:00",
          "1835-11-21T09:36:00",
          "1842-03-27T19:12:00",
          "1844-05-08T14:24:00",
          "1846-06-20T09:36:00",
          "1848-08-01T04:48:00",
          "1852-10-24T19:12:00",
          "1854-12-06T14:24:00",
          "1857-01-17T09:36:00",
          "1859-03-01T04:48:00"
         ],
         "y": [
          3,
          20,
          3,
          19,
          4,
          1,
          1,
          5,
          2,
          1,
          5,
          3,
          3,
          10,
          9
         ]
        },
        {
         "hoverinfo": "text",
         "hovertext": [
          "<b>Topic 11</b><br>Words: icones, filicum, hooker, dr, lady",
          "<b>Topic 11</b><br>Words: hooker, hotel, aberdeenshire, arcuata, luzula",
          "<b>Topic 11</b><br>Words: hooker, mistaken, suberectus, devil, fork",
          "<b>Topic 11</b><br>Words: intercourse, hooker, dr, lady, playfair",
          "<b>Topic 11</b><br>Words: parcel, hooker, day, dr, lady",
          "<b>Topic 11</b><br>Words: hooker, botan, cholsey, miscellany, oxford",
          "<b>Topic 11</b><br>Words: hooker, dr, lady, playfair, bunbury",
          "<b>Topic 11</b><br>Words: hooker, wheat, prevalent, shingle, lodgings",
          "<b>Topic 11</b><br>Words: cassel, hooker, episode, confinement, news",
          "<b>Topic 11</b><br>Words: hooker, breast, affte, expectant, fool",
          "<b>Topic 11</b><br>Words: hooker, playfair, days_ago, refutation, griffin",
          "<b>Topic 11</b><br>Words: hooker, germany, hasjsh, lucubration, collateral",
          "<b>Topic 11</b><br>Words: hooker, sinclair, regrets, infinitely, geographie",
          "<b>Topic 11</b><br>Words: hooker, macmillans, sprung, migrate, berth"
         ],
         "marker": {
          "color": "#D55E00"
         },
         "mode": "markers",
         "name": "11_hooker_dr_lady_playfair",
         "type": "scatter",
         "x": [
          "1825-04-23T09:36:00",
          "1827-06-05T04:48:00",
          "1829-07-17T00:00:00",
          "1831-08-28T19:12:00",
          "1833-10-09T14:24:00",
          "1835-11-21T09:36:00",
          "1844-05-08T14:24:00",
          "1846-06-20T09:36:00",
          "1848-08-01T04:48:00",
          "1850-09-13T00:00:00",
          "1852-10-24T19:12:00",
          "1854-12-06T14:24:00",
          "1857-01-17T09:36:00",
          "1859-03-01T04:48:00"
         ],
         "y": [
          3,
          6,
          16,
          1,
          1,
          2,
          1,
          7,
          2,
          6,
          6,
          11,
          10,
          5
         ]
        },
        {
         "hoverinfo": "text",
         "hovertext": [
          "<b>Topic 12</b><br>Words: booksellers, fellow, subscription, price, book",
          "<b>Topic 12</b><br>Words: blair, knapsack, atholl, inconvenient, book",
          "<b>Topic 12</b><br>Words: book, manuscript, calendar, index, matthew",
          "<b>Topic 12</b><br>Words: sort, wernerian, maderia, vehicle, booksellers",
          "<b>Topic 12</b><br>Words: book, bookseller, banking, library, apprehend",
          "<b>Topic 12</b><br>Words: boyd, oliver, booksellers, bookseller, opportunity",
          "<b>Topic 12</b><br>Words: dominion, schlotheim, book, observatory, american",
          "<b>Topic 12</b><br>Words: macmillan, order, book, sort, bookseller",
          "<b>Topic 12</b><br>Words: book, copy, seller, utility, treat",
          "<b>Topic 12</b><br>Words: publishers, tell, wiley, waterloo, putnam",
          "<b>Topic 12</b><br>Words: butter, book, press, clarke, lay",
          "<b>Topic 12</b><br>Words: endlicher, fat, allow, book, sort",
          "<b>Topic 12</b><br>Words: scent, monograph, tale, follow, sort",
          "<b>Topic 12</b><br>Words: book, sort, sample, royalty, vogue",
          "<b>Topic 12</b><br>Words: book, pocket, sale, secretion, editing",
          "<b>Topic 12</b><br>Words: book, acheul, baker, block, battle"
         ],
         "marker": {
          "color": "#0072B2"
         },
         "mode": "markers",
         "name": "12_book_sort_order_bookseller",
         "type": "scatter",
         "x": [
          "1818-12-02T13:03:21.600000",
          "1823-03-12T14:24:00",
          "1825-04-23T09:36:00",
          "1827-06-05T04:48:00",
          "1829-07-17T00:00:00",
          "1833-10-09T14:24:00",
          "1838-01-02T04:48:00",
          "1840-02-14T00:00:00",
          "1842-03-27T19:12:00",
          "1846-06-20T09:36:00",
          "1848-08-01T04:48:00",
          "1850-09-13T00:00:00",
          "1852-10-24T19:12:00",
          "1854-12-06T14:24:00",
          "1857-01-17T09:36:00",
          "1859-03-01T04:48:00"
         ],
         "y": [
          1,
          1,
          8,
          5,
          10,
          2,
          3,
          1,
          2,
          3,
          5,
          3,
          3,
          11,
          7,
          4
         ]
        },
        {
         "hoverinfo": "text",
         "hovertext": [
          "<b>Topic 13</b><br>Words: plate, illustration, nd, book, daguerreotype",
          "<b>Topic 13</b><br>Words: plate, extra, scarabidae, illiger, hister",
          "<b>Topic 13</b><br>Words: plate, madera, cost, lettering, lepidoptera",
          "<b>Topic 13</b><br>Words: plate, buiding, vexation, helix, repeat",
          "<b>Topic 13</b><br>Words: plate, edinh, novelty, style, allude",
          "<b>Topic 13</b><br>Words: plate, reference, lonchitiea, syl, sternberg",
          "<b>Topic 13</b><br>Words: plate, crenation, crenata, novelty, vol",
          "<b>Topic 13</b><br>Words: rix, sol, mint, decm, plate",
          "<b>Topic 13</b><br>Words: plate, daguerreotype, sci, clk, catch",
          "<b>Topic 13</b><br>Words: armlet, lathe, plate, kimmeridge, jet",
          "<b>Topic 13</b><br>Words: plate, potassium, pea, motion, copper",
          "<b>Topic 13</b><br>Words: plate, sclater, reference, zuetell, edification",
          "<b>Topic 13</b><br>Words: plate, stenotype, reduction, resetting, printing",
          "<b>Topic 13</b><br>Words: plate, axe, orkney, sandwich, edge"
         ],
         "marker": {
          "color": "#CC79A7"
         },
         "mode": "markers",
         "name": "13_plate_daguerreotype_reference_stenoty...",
         "type": "scatter",
         "x": [
          "1825-04-23T09:36:00",
          "1827-06-05T04:48:00",
          "1829-07-17T00:00:00",
          "1831-08-28T19:12:00",
          "1835-11-21T09:36:00",
          "1838-01-02T04:48:00",
          "1840-02-14T00:00:00",
          "1844-05-08T14:24:00",
          "1848-08-01T04:48:00",
          "1850-09-13T00:00:00",
          "1852-10-24T19:12:00",
          "1854-12-06T14:24:00",
          "1857-01-17T09:36:00",
          "1859-03-01T04:48:00"
         ],
         "y": [
          2,
          4,
          15,
          3,
          3,
          15,
          4,
          1,
          8,
          2,
          1,
          4,
          4,
          2
         ]
        },
        {
         "hoverinfo": "text",
         "hovertext": [
          "<b>Topic 14</b><br>Words: election, vote, voter, poll, ensuing_election",
          "<b>Topic 14</b><br>Words: thanking, silence, election, intelligence, cause",
          "<b>Topic 14</b><br>Words: pluralist, pisidium, cryllas, oman, election",
          "<b>Topic 14</b><br>Words: walkover, morpeth, probability, election, west",
          "<b>Topic 14</b><br>Words: minority, poll, election, vote, voter",
          "<b>Topic 14</b><br>Words: election, vote, voter, poll, ensuing_election",
          "<b>Topic 14</b><br>Words: election, april, vote, voter, poll"
         ],
         "marker": {
          "color": "#E69F00"
         },
         "mode": "markers",
         "name": "14_election_vote_voter_poll",
         "type": "scatter",
         "x": [
          "1825-04-23T09:36:00",
          "1829-07-17T00:00:00",
          "1831-08-28T19:12:00",
          "1844-05-08T14:24:00",
          "1848-08-01T04:48:00",
          "1850-09-13T00:00:00",
          "1859-03-01T04:48:00"
         ],
         "y": [
          62,
          1,
          1,
          1,
          1,
          1,
          1
         ]
        }
       ],
       "layout": {
        "height": 500,
        "hoverlabel": {
         "bgcolor": "white",
         "font": {
          "family": "Rockwell",
          "size": 16
         }
        },
        "legend": {
         "title": {
          "text": "<b>Global Topic Representation"
         }
        },
        "template": {
         "data": {
          "bar": [
           {
            "error_x": {
             "color": "rgb(36,36,36)"
            },
            "error_y": {
             "color": "rgb(36,36,36)"
            },
            "marker": {
             "line": {
              "color": "white",
              "width": 0.5
             },
             "pattern": {
              "fillmode": "overlay",
              "size": 10,
              "solidity": 0.2
             }
            },
            "type": "bar"
           }
          ],
          "barpolar": [
           {
            "marker": {
             "line": {
              "color": "white",
              "width": 0.5
             },
             "pattern": {
              "fillmode": "overlay",
              "size": 10,
              "solidity": 0.2
             }
            },
            "type": "barpolar"
           }
          ],
          "carpet": [
           {
            "aaxis": {
             "endlinecolor": "rgb(36,36,36)",
             "gridcolor": "white",
             "linecolor": "white",
             "minorgridcolor": "white",
             "startlinecolor": "rgb(36,36,36)"
            },
            "baxis": {
             "endlinecolor": "rgb(36,36,36)",
             "gridcolor": "white",
             "linecolor": "white",
             "minorgridcolor": "white",
             "startlinecolor": "rgb(36,36,36)"
            },
            "type": "carpet"
           }
          ],
          "choropleth": [
           {
            "colorbar": {
             "outlinewidth": 1,
             "tickcolor": "rgb(36,36,36)",
             "ticks": "outside"
            },
            "type": "choropleth"
           }
          ],
          "contour": [
           {
            "colorbar": {
             "outlinewidth": 1,
             "tickcolor": "rgb(36,36,36)",
             "ticks": "outside"
            },
            "colorscale": [
             [
              0,
              "#440154"
             ],
             [
              0.1111111111111111,
              "#482878"
             ],
             [
              0.2222222222222222,
              "#3e4989"
             ],
             [
              0.3333333333333333,
              "#31688e"
             ],
             [
              0.4444444444444444,
              "#26828e"
             ],
             [
              0.5555555555555556,
              "#1f9e89"
             ],
             [
              0.6666666666666666,
              "#35b779"
             ],
             [
              0.7777777777777778,
              "#6ece58"
             ],
             [
              0.8888888888888888,
              "#b5de2b"
             ],
             [
              1,
              "#fde725"
             ]
            ],
            "type": "contour"
           }
          ],
          "contourcarpet": [
           {
            "colorbar": {
             "outlinewidth": 1,
             "tickcolor": "rgb(36,36,36)",
             "ticks": "outside"
            },
            "type": "contourcarpet"
           }
          ],
          "heatmap": [
           {
            "colorbar": {
             "outlinewidth": 1,
             "tickcolor": "rgb(36,36,36)",
             "ticks": "outside"
            },
            "colorscale": [
             [
              0,
              "#440154"
             ],
             [
              0.1111111111111111,
              "#482878"
             ],
             [
              0.2222222222222222,
              "#3e4989"
             ],
             [
              0.3333333333333333,
              "#31688e"
             ],
             [
              0.4444444444444444,
              "#26828e"
             ],
             [
              0.5555555555555556,
              "#1f9e89"
             ],
             [
              0.6666666666666666,
              "#35b779"
             ],
             [
              0.7777777777777778,
              "#6ece58"
             ],
             [
              0.8888888888888888,
              "#b5de2b"
             ],
             [
              1,
              "#fde725"
             ]
            ],
            "type": "heatmap"
           }
          ],
          "heatmapgl": [
           {
            "colorbar": {
             "outlinewidth": 1,
             "tickcolor": "rgb(36,36,36)",
             "ticks": "outside"
            },
            "colorscale": [
             [
              0,
              "#440154"
             ],
             [
              0.1111111111111111,
              "#482878"
             ],
             [
              0.2222222222222222,
              "#3e4989"
             ],
             [
              0.3333333333333333,
              "#31688e"
             ],
             [
              0.4444444444444444,
              "#26828e"
             ],
             [
              0.5555555555555556,
              "#1f9e89"
             ],
             [
              0.6666666666666666,
              "#35b779"
             ],
             [
              0.7777777777777778,
              "#6ece58"
             ],
             [
              0.8888888888888888,
              "#b5de2b"
             ],
             [
              1,
              "#fde725"
             ]
            ],
            "type": "heatmapgl"
           }
          ],
          "histogram": [
           {
            "marker": {
             "line": {
              "color": "white",
              "width": 0.6
             }
            },
            "type": "histogram"
           }
          ],
          "histogram2d": [
           {
            "colorbar": {
             "outlinewidth": 1,
             "tickcolor": "rgb(36,36,36)",
             "ticks": "outside"
            },
            "colorscale": [
             [
              0,
              "#440154"
             ],
             [
              0.1111111111111111,
              "#482878"
             ],
             [
              0.2222222222222222,
              "#3e4989"
             ],
             [
              0.3333333333333333,
              "#31688e"
             ],
             [
              0.4444444444444444,
              "#26828e"
             ],
             [
              0.5555555555555556,
              "#1f9e89"
             ],
             [
              0.6666666666666666,
              "#35b779"
             ],
             [
              0.7777777777777778,
              "#6ece58"
             ],
             [
              0.8888888888888888,
              "#b5de2b"
             ],
             [
              1,
              "#fde725"
             ]
            ],
            "type": "histogram2d"
           }
          ],
          "histogram2dcontour": [
           {
            "colorbar": {
             "outlinewidth": 1,
             "tickcolor": "rgb(36,36,36)",
             "ticks": "outside"
            },
            "colorscale": [
             [
              0,
              "#440154"
             ],
             [
              0.1111111111111111,
              "#482878"
             ],
             [
              0.2222222222222222,
              "#3e4989"
             ],
             [
              0.3333333333333333,
              "#31688e"
             ],
             [
              0.4444444444444444,
              "#26828e"
             ],
             [
              0.5555555555555556,
              "#1f9e89"
             ],
             [
              0.6666666666666666,
              "#35b779"
             ],
             [
              0.7777777777777778,
              "#6ece58"
             ],
             [
              0.8888888888888888,
              "#b5de2b"
             ],
             [
              1,
              "#fde725"
             ]
            ],
            "type": "histogram2dcontour"
           }
          ],
          "mesh3d": [
           {
            "colorbar": {
             "outlinewidth": 1,
             "tickcolor": "rgb(36,36,36)",
             "ticks": "outside"
            },
            "type": "mesh3d"
           }
          ],
          "parcoords": [
           {
            "line": {
             "colorbar": {
              "outlinewidth": 1,
              "tickcolor": "rgb(36,36,36)",
              "ticks": "outside"
             }
            },
            "type": "parcoords"
           }
          ],
          "pie": [
           {
            "automargin": true,
            "type": "pie"
           }
          ],
          "scatter": [
           {
            "fillpattern": {
             "fillmode": "overlay",
             "size": 10,
             "solidity": 0.2
            },
            "type": "scatter"
           }
          ],
          "scatter3d": [
           {
            "line": {
             "colorbar": {
              "outlinewidth": 1,
              "tickcolor": "rgb(36,36,36)",
              "ticks": "outside"
             }
            },
            "marker": {
             "colorbar": {
              "outlinewidth": 1,
              "tickcolor": "rgb(36,36,36)",
              "ticks": "outside"
             }
            },
            "type": "scatter3d"
           }
          ],
          "scattercarpet": [
           {
            "marker": {
             "colorbar": {
              "outlinewidth": 1,
              "tickcolor": "rgb(36,36,36)",
              "ticks": "outside"
             }
            },
            "type": "scattercarpet"
           }
          ],
          "scattergeo": [
           {
            "marker": {
             "colorbar": {
              "outlinewidth": 1,
              "tickcolor": "rgb(36,36,36)",
              "ticks": "outside"
             }
            },
            "type": "scattergeo"
           }
          ],
          "scattergl": [
           {
            "marker": {
             "colorbar": {
              "outlinewidth": 1,
              "tickcolor": "rgb(36,36,36)",
              "ticks": "outside"
             }
            },
            "type": "scattergl"
           }
          ],
          "scattermapbox": [
           {
            "marker": {
             "colorbar": {
              "outlinewidth": 1,
              "tickcolor": "rgb(36,36,36)",
              "ticks": "outside"
             }
            },
            "type": "scattermapbox"
           }
          ],
          "scatterpolar": [
           {
            "marker": {
             "colorbar": {
              "outlinewidth": 1,
              "tickcolor": "rgb(36,36,36)",
              "ticks": "outside"
             }
            },
            "type": "scatterpolar"
           }
          ],
          "scatterpolargl": [
           {
            "marker": {
             "colorbar": {
              "outlinewidth": 1,
              "tickcolor": "rgb(36,36,36)",
              "ticks": "outside"
             }
            },
            "type": "scatterpolargl"
           }
          ],
          "scatterternary": [
           {
            "marker": {
             "colorbar": {
              "outlinewidth": 1,
              "tickcolor": "rgb(36,36,36)",
              "ticks": "outside"
             }
            },
            "type": "scatterternary"
           }
          ],
          "surface": [
           {
            "colorbar": {
             "outlinewidth": 1,
             "tickcolor": "rgb(36,36,36)",
             "ticks": "outside"
            },
            "colorscale": [
             [
              0,
              "#440154"
             ],
             [
              0.1111111111111111,
              "#482878"
             ],
             [
              0.2222222222222222,
              "#3e4989"
             ],
             [
              0.3333333333333333,
              "#31688e"
             ],
             [
              0.4444444444444444,
              "#26828e"
             ],
             [
              0.5555555555555556,
              "#1f9e89"
             ],
             [
              0.6666666666666666,
              "#35b779"
             ],
             [
              0.7777777777777778,
              "#6ece58"
             ],
             [
              0.8888888888888888,
              "#b5de2b"
             ],
             [
              1,
              "#fde725"
             ]
            ],
            "type": "surface"
           }
          ],
          "table": [
           {
            "cells": {
             "fill": {
              "color": "rgb(237,237,237)"
             },
             "line": {
              "color": "white"
             }
            },
            "header": {
             "fill": {
              "color": "rgb(217,217,217)"
             },
             "line": {
              "color": "white"
             }
            },
            "type": "table"
           }
          ]
         },
         "layout": {
          "annotationdefaults": {
           "arrowhead": 0,
           "arrowwidth": 1
          },
          "autotypenumbers": "strict",
          "coloraxis": {
           "colorbar": {
            "outlinewidth": 1,
            "tickcolor": "rgb(36,36,36)",
            "ticks": "outside"
           }
          },
          "colorscale": {
           "diverging": [
            [
             0,
             "rgb(103,0,31)"
            ],
            [
             0.1,
             "rgb(178,24,43)"
            ],
            [
             0.2,
             "rgb(214,96,77)"
            ],
            [
             0.3,
             "rgb(244,165,130)"
            ],
            [
             0.4,
             "rgb(253,219,199)"
            ],
            [
             0.5,
             "rgb(247,247,247)"
            ],
            [
             0.6,
             "rgb(209,229,240)"
            ],
            [
             0.7,
             "rgb(146,197,222)"
            ],
            [
             0.8,
             "rgb(67,147,195)"
            ],
            [
             0.9,
             "rgb(33,102,172)"
            ],
            [
             1,
             "rgb(5,48,97)"
            ]
           ],
           "sequential": [
            [
             0,
             "#440154"
            ],
            [
             0.1111111111111111,
             "#482878"
            ],
            [
             0.2222222222222222,
             "#3e4989"
            ],
            [
             0.3333333333333333,
             "#31688e"
            ],
            [
             0.4444444444444444,
             "#26828e"
            ],
            [
             0.5555555555555556,
             "#1f9e89"
            ],
            [
             0.6666666666666666,
             "#35b779"
            ],
            [
             0.7777777777777778,
             "#6ece58"
            ],
            [
             0.8888888888888888,
             "#b5de2b"
            ],
            [
             1,
             "#fde725"
            ]
           ],
           "sequentialminus": [
            [
             0,
             "#440154"
            ],
            [
             0.1111111111111111,
             "#482878"
            ],
            [
             0.2222222222222222,
             "#3e4989"
            ],
            [
             0.3333333333333333,
             "#31688e"
            ],
            [
             0.4444444444444444,
             "#26828e"
            ],
            [
             0.5555555555555556,
             "#1f9e89"
            ],
            [
             0.6666666666666666,
             "#35b779"
            ],
            [
             0.7777777777777778,
             "#6ece58"
            ],
            [
             0.8888888888888888,
             "#b5de2b"
            ],
            [
             1,
             "#fde725"
            ]
           ]
          },
          "colorway": [
           "#1F77B4",
           "#FF7F0E",
           "#2CA02C",
           "#D62728",
           "#9467BD",
           "#8C564B",
           "#E377C2",
           "#7F7F7F",
           "#BCBD22",
           "#17BECF"
          ],
          "font": {
           "color": "rgb(36,36,36)"
          },
          "geo": {
           "bgcolor": "white",
           "lakecolor": "white",
           "landcolor": "white",
           "showlakes": true,
           "showland": true,
           "subunitcolor": "white"
          },
          "hoverlabel": {
           "align": "left"
          },
          "hovermode": "closest",
          "mapbox": {
           "style": "light"
          },
          "paper_bgcolor": "white",
          "plot_bgcolor": "white",
          "polar": {
           "angularaxis": {
            "gridcolor": "rgb(232,232,232)",
            "linecolor": "rgb(36,36,36)",
            "showgrid": false,
            "showline": true,
            "ticks": "outside"
           },
           "bgcolor": "white",
           "radialaxis": {
            "gridcolor": "rgb(232,232,232)",
            "linecolor": "rgb(36,36,36)",
            "showgrid": false,
            "showline": true,
            "ticks": "outside"
           }
          },
          "scene": {
           "xaxis": {
            "backgroundcolor": "white",
            "gridcolor": "rgb(232,232,232)",
            "gridwidth": 2,
            "linecolor": "rgb(36,36,36)",
            "showbackground": true,
            "showgrid": false,
            "showline": true,
            "ticks": "outside",
            "zeroline": false,
            "zerolinecolor": "rgb(36,36,36)"
           },
           "yaxis": {
            "backgroundcolor": "white",
            "gridcolor": "rgb(232,232,232)",
            "gridwidth": 2,
            "linecolor": "rgb(36,36,36)",
            "showbackground": true,
            "showgrid": false,
            "showline": true,
            "ticks": "outside",
            "zeroline": false,
            "zerolinecolor": "rgb(36,36,36)"
           },
           "zaxis": {
            "backgroundcolor": "white",
            "gridcolor": "rgb(232,232,232)",
            "gridwidth": 2,
            "linecolor": "rgb(36,36,36)",
            "showbackground": true,
            "showgrid": false,
            "showline": true,
            "ticks": "outside",
            "zeroline": false,
            "zerolinecolor": "rgb(36,36,36)"
           }
          },
          "shapedefaults": {
           "fillcolor": "black",
           "line": {
            "width": 0
           },
           "opacity": 0.3
          },
          "ternary": {
           "aaxis": {
            "gridcolor": "rgb(232,232,232)",
            "linecolor": "rgb(36,36,36)",
            "showgrid": false,
            "showline": true,
            "ticks": "outside"
           },
           "baxis": {
            "gridcolor": "rgb(232,232,232)",
            "linecolor": "rgb(36,36,36)",
            "showgrid": false,
            "showline": true,
            "ticks": "outside"
           },
           "bgcolor": "white",
           "caxis": {
            "gridcolor": "rgb(232,232,232)",
            "linecolor": "rgb(36,36,36)",
            "showgrid": false,
            "showline": true,
            "ticks": "outside"
           }
          },
          "title": {
           "x": 0.05
          },
          "xaxis": {
           "automargin": true,
           "gridcolor": "rgb(232,232,232)",
           "linecolor": "rgb(36,36,36)",
           "showgrid": false,
           "showline": true,
           "ticks": "outside",
           "title": {
            "standoff": 15
           },
           "zeroline": false,
           "zerolinecolor": "rgb(36,36,36)"
          },
          "yaxis": {
           "automargin": true,
           "gridcolor": "rgb(232,232,232)",
           "linecolor": "rgb(36,36,36)",
           "showgrid": false,
           "showline": true,
           "ticks": "outside",
           "title": {
            "standoff": 15
           },
           "zeroline": false,
           "zerolinecolor": "rgb(36,36,36)"
          }
         }
        },
        "title": {
         "font": {
          "color": "Black",
          "size": 22
         },
         "text": "<b>Topics over Time</b>",
         "x": 0.4,
         "xanchor": "center",
         "y": 0.95,
         "yanchor": "top"
        },
        "width": 1000,
        "xaxis": {
         "showgrid": true
        },
        "yaxis": {
         "showgrid": true,
         "title": {
          "text": "Count"
         }
        }
       }
      },
      "text/html": [
       "<div>                            <div id=\"022e14a2-8c7f-4c24-8717-91dff2c6b34f\" class=\"plotly-graph-div\" style=\"height:500px; width:1000px;\"></div>            <script type=\"text/javascript\">                require([\"plotly\"], function(Plotly) {                    window.PLOTLYENV=window.PLOTLYENV || {};                                    if (document.getElementById(\"022e14a2-8c7f-4c24-8717-91dff2c6b34f\")) {                    Plotly.newPlot(                        \"022e14a2-8c7f-4c24-8717-91dff2c6b34f\",                        [{\"hoverinfo\":\"text\",\"hovertext\":[\"\\u003cb\\u003eTopic 0\\u003c\\u002fb\\u003e\\u003cbr\\u003eWords: martin, dale, shd, meeting, trin\",\"\\u003cb\\u003eTopic 0\\u003c\\u002fb\\u003e\\u003cbr\\u003eWords: obed, leipsic, clarke, bearer, confer\",\"\\u003cb\\u003eTopic 0\\u003c\\u002fb\\u003e\\u003cbr\\u003eWords: hodgson, pera, campbell, biggs, shell\",\"\\u003cb\\u003eTopic 0\\u003c\\u002fb\\u003e\\u003cbr\\u003eWords: johns, trin, henry, lewin, john\",\"\\u003cb\\u003eTopic 0\\u003c\\u002fb\\u003e\\u003cbr\\u003eWords: thess, wilson, obd, graham, sh\",\"\\u003cb\\u003eTopic 0\\u003c\\u002fb\\u003e\\u003cbr\\u003eWords: sh, graham, obs, wilson, soc\",\"\\u003cb\\u003eTopic 0\\u003c\\u002fb\\u003e\\u003cbr\\u003eWords: johnston, agardh, lieutt, commanding, squad\",\"\\u003cb\\u003eTopic 0\\u003c\\u002fb\\u003e\\u003cbr\\u003eWords: biog, birkbeck, cambe, dup, tyrone\",\"\\u003cb\\u003eTopic 0\\u003c\\u002fb\\u003e\\u003cbr\\u003eWords: dion, talbot, prac, howell, zool\",\"\\u003cb\\u003eTopic 0\\u003c\\u002fb\\u003e\\u003cbr\\u003eWords: daf, icke, jh, zool, longman\",\"\\u003cb\\u003eTopic 0\\u003c\\u002fb\\u003e\\u003cbr\\u003eWords: lumholtz, utiles, moyens, stafford, generosite\",\"\\u003cb\\u003eTopic 0\\u003c\\u002fb\\u003e\\u003cbr\\u003eWords: universal, ich, guano, dose, bit\",\"\\u003cb\\u003eTopic 0\\u003c\\u002fb\\u003e\\u003cbr\\u003eWords: john_phillip, anaty, fsa, gerville, occid\",\"\\u003cb\\u003eTopic 0\\u003c\\u002fb\\u003e\\u003cbr\\u003eWords: campbell, scott, suff, vicar, gutch\",\"\\u003cb\\u003eTopic 0\\u003c\\u002fb\\u003e\\u003cbr\\u003eWords: comment, trin, airy, joseph, ommission\",\"\\u003cb\\u003eTopic 0\\u003c\\u002fb\\u003e\\u003cbr\\u003eWords: moseley, yool, henry, john_phillip, wilson\",\"\\u003cb\\u003eTopic 0\\u003c\\u002fb\\u003e\\u003cbr\\u003eWords: mss, miller, trin, reid, suf\",\"\\u003cb\\u003eTopic 0\\u003c\\u002fb\\u003e\\u003cbr\\u003eWords: comment, john_phillip, moustache, bur, ns\",\"\\u003cb\\u003eTopic 0\\u003c\\u002fb\\u003e\\u003cbr\\u003eWords: longman, thomas, hohenacker, layman, hoddesdon\",\"\\u003cb\\u003eTopic 0\\u003c\\u002fb\\u003e\\u003cbr\\u003eWords: prestwich, nucula, tuddenham, doorne, outang\"],\"marker\":{\"color\":\"#E69F00\"},\"mode\":\"markers\",\"name\":\"0_trin_henry_wilson_john_phillip\",\"x\":[\"1818-12-02T13:03:21.600000\",\"1821-01-28T19:12:00\",\"1823-03-12T14:24:00\",\"1825-04-23T09:36:00\",\"1827-06-05T04:48:00\",\"1829-07-17T00:00:00\",\"1831-08-28T19:12:00\",\"1833-10-09T14:24:00\",\"1835-11-21T09:36:00\",\"1838-01-02T04:48:00\",\"1840-02-14T00:00:00\",\"1842-03-27T19:12:00\",\"1844-05-08T14:24:00\",\"1846-06-20T09:36:00\",\"1848-08-01T04:48:00\",\"1850-09-13T00:00:00\",\"1852-10-24T19:12:00\",\"1854-12-06T14:24:00\",\"1857-01-17T09:36:00\",\"1859-03-01T04:48:00\"],\"y\":[2,3,7,116,30,54,17,7,6,8,10,9,19,7,22,18,19,34,21,20],\"type\":\"scatter\"},{\"hoverinfo\":\"text\",\"hovertext\":[\"\\u003cb\\u003eTopic 1\\u003c\\u002fb\\u003e\\u003cbr\\u003eWords: pentacrinitis, botany, palustris, flora, arvensis\",\"\\u003cb\\u003eTopic 1\\u003c\\u002fb\\u003e\\u003cbr\\u003eWords: lutea, verna, fruticosa, viola, dianthu\",\"\\u003cb\\u003eTopic 1\\u003c\\u002fb\\u003e\\u003cbr\\u003eWords: orchis, plant, maculata, lathyrus, violaceum\",\"\\u003cb\\u003eTopic 1\\u003c\\u002fb\\u003e\\u003cbr\\u003eWords: botany, herbarium, bupleurum, palustris, officinalis\",\"\\u003cb\\u003eTopic 1\\u003c\\u002fb\\u003e\\u003cbr\\u003eWords: palustris, campanula, vulgaris, latifolia, orchis\",\"\\u003cb\\u003eTopic 1\\u003c\\u002fb\\u003e\\u003cbr\\u003eWords: arvensis, palustris, vulgaris, botany, officinalis\",\"\\u003cb\\u003eTopic 1\\u003c\\u002fb\\u003e\\u003cbr\\u003eWords: dentatum, lin, orchis, flora, narcessus\",\"\\u003cb\\u003eTopic 1\\u003c\\u002fb\\u003e\\u003cbr\\u003eWords: snowflake, plena, goodyera, macrophylla, biggs\",\"\\u003cb\\u003eTopic 1\\u003c\\u002fb\\u003e\\u003cbr\\u003eWords: alpinus, botanical, cecidota, aenea, janes\",\"\\u003cb\\u003eTopic 1\\u003c\\u002fb\\u003e\\u003cbr\\u003eWords: flora, folicium, hospital, calyfera, letwycke\",\"\\u003cb\\u003eTopic 1\\u003c\\u002fb\\u003e\\u003cbr\\u003eWords: botanist, elegans, plutot, tige, renferme\",\"\\u003cb\\u003eTopic 1\\u003c\\u002fb\\u003e\\u003cbr\\u003eWords: arboretum, flowering, shrub, flora, bott\",\"\\u003cb\\u003eTopic 1\\u003c\\u002fb\\u003e\\u003cbr\\u003eWords: gardener, senegambia, fiery, curatorship, brunners\",\"\\u003cb\\u003eTopic 1\\u003c\\u002fb\\u003e\\u003cbr\\u003eWords: dance, double, chaperon, reside, willis\",\"\\u003cb\\u003eTopic 1\\u003c\\u002fb\\u003e\\u003cbr\\u003eWords: term, syllabus, botany, pistil, apprenticeship\",\"\\u003cb\\u003eTopic 1\\u003c\\u002fb\\u003e\\u003cbr\\u003eWords: diagrams, botanical, schools, euchiridium, education\",\"\\u003cb\\u003eTopic 1\\u003c\\u002fb\\u003e\\u003cbr\\u003eWords: conferring, song, lemonade, marqueepart, jam\",\"\\u003cb\\u003eTopic 1\\u003c\\u002fb\\u003e\\u003cbr\\u003eWords: gardeners_chronicle, paternoster, botany, partner, chronicle\",\"\\u003cb\\u003eTopic 1\\u003c\\u002fb\\u003e\\u003cbr\\u003eWords: botany, botanist, playfair, child, enquiry\",\"\\u003cb\\u003eTopic 1\\u003c\\u002fb\\u003e\\u003cbr\\u003eWords: botany, curriculum, sulivan, bentham, cambsh\"],\"marker\":{\"color\":\"#56B4E9\"},\"mode\":\"markers\",\"name\":\"1_botany_palustris_flora_arvensis\",\"x\":[\"1818-12-02T13:03:21.600000\",\"1821-01-28T19:12:00\",\"1823-03-12T14:24:00\",\"1825-04-23T09:36:00\",\"1827-06-05T04:48:00\",\"1829-07-17T00:00:00\",\"1831-08-28T19:12:00\",\"1833-10-09T14:24:00\",\"1835-11-21T09:36:00\",\"1838-01-02T04:48:00\",\"1840-02-14T00:00:00\",\"1842-03-27T19:12:00\",\"1844-05-08T14:24:00\",\"1846-06-20T09:36:00\",\"1848-08-01T04:48:00\",\"1850-09-13T00:00:00\",\"1852-10-24T19:12:00\",\"1854-12-06T14:24:00\",\"1857-01-17T09:36:00\",\"1859-03-01T04:48:00\"],\"y\":[1,6,14,68,56,135,14,5,3,12,5,10,6,3,6,8,3,14,15,20],\"type\":\"scatter\"},{\"hoverinfo\":\"text\",\"hovertext\":[\"\\u003cb\\u003eTopic 2\\u003c\\u002fb\\u003e\\u003cbr\\u003eWords: dec, february, summer, cambridge, london\",\"\\u003cb\\u003eTopic 2\\u003c\\u002fb\\u003e\\u003cbr\\u003eWords: prince, crescent, casiati, cimitile, verticillata\",\"\\u003cb\\u003eTopic 2\\u003c\\u002fb\\u003e\\u003cbr\\u003eWords: departure, sun, sleep, profusion, anglesea\",\"\\u003cb\\u003eTopic 2\\u003c\\u002fb\\u003e\\u003cbr\\u003eWords: london, suffolk, norfolk, cambridge, lisbon\",\"\\u003cb\\u003eTopic 2\\u003c\\u002fb\\u003e\\u003cbr\\u003eWords: margate, pharmacy, nott, pursuits, traveler\",\"\\u003cb\\u003eTopic 2\\u003c\\u002fb\\u003e\\u003cbr\\u003eWords: bridgewater, yorkshire, russel, mac, london\",\"\\u003cb\\u003eTopic 2\\u003c\\u002fb\\u003e\\u003cbr\\u003eWords: gazette, accompd, dieppe, cambridge, havercroft\",\"\\u003cb\\u003eTopic 2\\u003c\\u002fb\\u003e\\u003cbr\\u003eWords: shutt, salmond, johnstone, kimbolton, strutt\",\"\\u003cb\\u003eTopic 2\\u003c\\u002fb\\u003e\\u003cbr\\u003eWords: norwood, chippenham, yellow, lacock, bloomfield\",\"\\u003cb\\u003eTopic 2\\u003c\\u002fb\\u003e\\u003cbr\\u003eWords: hitcham_bildeston, suffolk, neglecting, teal, pennyworth\",\"\\u003cb\\u003eTopic 2\\u003c\\u002fb\\u003e\\u003cbr\\u003eWords: hitcham_bildeston, memoranda, suffolk, lyttleton, esqr\",\"\\u003cb\\u003eTopic 2\\u003c\\u002fb\\u003e\\u003cbr\\u003eWords: hadleigh, bookseller, suffolk, cycle, tumulus\",\"\\u003cb\\u003eTopic 2\\u003c\\u002fb\\u003e\\u003cbr\\u003eWords: suffolk, hitcham_hadleigh, goodman, hampshire, rochdale\",\"\\u003cb\\u003eTopic 2\\u003c\\u002fb\\u003e\\u003cbr\\u003eWords: ipswich, suffolk, brighton, nov, treaty\",\"\\u003cb\\u003eTopic 2\\u003c\\u002fb\\u003e\\u003cbr\\u003eWords: suffolk, ipswich, dec, ransome, cambridge\",\"\\u003cb\\u003eTopic 2\\u003c\\u002fb\\u003e\\u003cbr\\u003eWords: suffolk, affy, al, oct, melford\",\"\\u003cb\\u003eTopic 2\\u003c\\u002fb\\u003e\\u003cbr\\u003eWords: suffolk, ipswich, hitcham, london, hitcham_bildeston\",\"\\u003cb\\u003eTopic 2\\u003c\\u002fb\\u003e\\u003cbr\\u003eWords: hitcham_bildeston, suffolk, ipswich, kegworth, derby\",\"\\u003cb\\u003eTopic 2\\u003c\\u002fb\\u003e\\u003cbr\\u003eWords: suffolk, hitcham_bildeston, london, norfolk, ipswich\",\"\\u003cb\\u003eTopic 2\\u003c\\u002fb\\u003e\\u003cbr\\u003eWords: suffolk, downing_terrace, hitcham_bildeston, london, hitcham\"],\"marker\":{\"color\":\"#009E73\"},\"mode\":\"markers\",\"name\":\"2_suffolk_hitcham_bildeston_ipswich_lond...\",\"x\":[\"1818-12-02T13:03:21.600000\",\"1821-01-28T19:12:00\",\"1823-03-12T14:24:00\",\"1825-04-23T09:36:00\",\"1827-06-05T04:48:00\",\"1829-07-17T00:00:00\",\"1831-08-28T19:12:00\",\"1833-10-09T14:24:00\",\"1835-11-21T09:36:00\",\"1838-01-02T04:48:00\",\"1840-02-14T00:00:00\",\"1842-03-27T19:12:00\",\"1844-05-08T14:24:00\",\"1846-06-20T09:36:00\",\"1848-08-01T04:48:00\",\"1850-09-13T00:00:00\",\"1852-10-24T19:12:00\",\"1854-12-06T14:24:00\",\"1857-01-17T09:36:00\",\"1859-03-01T04:48:00\"],\"y\":[3,3,3,31,10,10,7,11,7,8,6,7,12,10,25,9,23,37,22,38],\"type\":\"scatter\"},{\"hoverinfo\":\"text\",\"hovertext\":[\"\\u003cb\\u003eTopic 3\\u003c\\u002fb\\u003e\\u003cbr\\u003eWords: mot, satr, clark, lecture, examination\",\"\\u003cb\\u003eTopic 3\\u003c\\u002fb\\u003e\\u003cbr\\u003eWords: goodness, result, manner, examination, evening\",\"\\u003cb\\u003eTopic 3\\u003c\\u002fb\\u003e\\u003cbr\\u003eWords: sell, advertising, confer, strike, labor\",\"\\u003cb\\u003eTopic 3\\u003c\\u002fb\\u003e\\u003cbr\\u003eWords: course, lecture, university, parliament, examination\",\"\\u003cb\\u003eTopic 3\\u003c\\u002fb\\u003e\\u003cbr\\u003eWords: bachelorship, gace, novice, futurity, lecture\",\"\\u003cb\\u003eTopic 3\\u003c\\u002fb\\u003e\\u003cbr\\u003eWords: class, row, proctorship, university, proctor\",\"\\u003cb\\u003eTopic 3\\u003c\\u002fb\\u003e\\u003cbr\\u003eWords: lund, paley, course, creature, possibility\",\"\\u003cb\\u003eTopic 3\\u003c\\u002fb\\u003e\\u003cbr\\u003eWords: encouraging, compliments, simeon, presents, master_corpu\",\"\\u003cb\\u003eTopic 3\\u003c\\u002fb\\u003e\\u003cbr\\u003eWords: drudgery, resource, bookseller, lecture, examination\",\"\\u003cb\\u003eTopic 3\\u003c\\u002fb\\u003e\\u003cbr\\u003eWords: fendal, lieu, politic, college, composition\",\"\\u003cb\\u003eTopic 3\\u003c\\u002fb\\u003e\\u003cbr\\u003eWords: examiner, lecture, anatomy, agarics, precipitancy\",\"\\u003cb\\u003eTopic 3\\u003c\\u002fb\\u003e\\u003cbr\\u003eWords: farm, ireland, wh, model, hint\",\"\\u003cb\\u003eTopic 3\\u003c\\u002fb\\u003e\\u003cbr\\u003eWords: professorship, memorandum, stem, delay, degree\",\"\\u003cb\\u003eTopic 3\\u003c\\u002fb\\u003e\\u003cbr\\u003eWords: interference, move, reform, implement, memorial\",\"\\u003cb\\u003eTopic 3\\u003c\\u002fb\\u003e\\u003cbr\\u003eWords: lecture, course, examination, undergraduate, technicality\",\"\\u003cb\\u003eTopic 3\\u003c\\u002fb\\u003e\\u003cbr\\u003eWords: courtier, planation, lecture, occupie, tuition\",\"\\u003cb\\u003eTopic 3\\u003c\\u002fb\\u003e\\u003cbr\\u003eWords: lecture, cadetship, nomination, examination, tiresome\",\"\\u003cb\\u003eTopic 3\\u003c\\u002fb\\u003e\\u003cbr\\u003eWords: lecture, examination, exam, candidate, course\",\"\\u003cb\\u003eTopic 3\\u003c\\u002fb\\u003e\\u003cbr\\u003eWords: lecture, student, exam, examiner, examination\",\"\\u003cb\\u003eTopic 3\\u003c\\u002fb\\u003e\\u003cbr\\u003eWords: lecture, examiner, examination, exam, examinership\"],\"marker\":{\"color\":\"#F0E442\"},\"mode\":\"markers\",\"name\":\"3_lecture_examination_examiner_course\",\"x\":[\"1818-12-02T13:03:21.600000\",\"1821-01-28T19:12:00\",\"1823-03-12T14:24:00\",\"1825-04-23T09:36:00\",\"1827-06-05T04:48:00\",\"1829-07-17T00:00:00\",\"1831-08-28T19:12:00\",\"1833-10-09T14:24:00\",\"1835-11-21T09:36:00\",\"1838-01-02T04:48:00\",\"1840-02-14T00:00:00\",\"1842-03-27T19:12:00\",\"1844-05-08T14:24:00\",\"1846-06-20T09:36:00\",\"1848-08-01T04:48:00\",\"1850-09-13T00:00:00\",\"1852-10-24T19:12:00\",\"1854-12-06T14:24:00\",\"1857-01-17T09:36:00\",\"1859-03-01T04:48:00\"],\"y\":[1,1,2,24,6,9,7,4,1,4,7,2,1,3,13,4,11,32,17,28],\"type\":\"scatter\"},{\"hoverinfo\":\"text\",\"hovertext\":[\"\\u003cb\\u003eTopic 4\\u003c\\u002fb\\u003e\\u003cbr\\u003eWords: neglect, dale, excuse, letter, circumstance\",\"\\u003cb\\u003eTopic 4\\u003c\\u002fb\\u003e\\u003cbr\\u003eWords: hve, conway, honor, circumstance, reason\",\"\\u003cb\\u003eTopic 4\\u003c\\u002fb\\u003e\\u003cbr\\u003eWords: letter, principle, circumstance, statement, sentiment\",\"\\u003cb\\u003eTopic 4\\u003c\\u002fb\\u003e\\u003cbr\\u003eWords: letter, motive, circumstance, oxymus, depredator\",\"\\u003cb\\u003eTopic 4\\u003c\\u002fb\\u003e\\u003cbr\\u003eWords: circumstance, opinion, note, fou, cooperator\",\"\\u003cb\\u003eTopic 4\\u003c\\u002fb\\u003e\\u003cbr\\u003eWords: transcript, necessy, letter, treatise, publication\",\"\\u003cb\\u003eTopic 4\\u003c\\u002fb\\u003e\\u003cbr\\u003eWords: distribution, contingent, endogenae, persuasion, mark\",\"\\u003cb\\u003eTopic 4\\u003c\\u002fb\\u003e\\u003cbr\\u003eWords: censure, voting, letter, charge, feeling\",\"\\u003cb\\u003eTopic 4\\u003c\\u002fb\\u003e\\u003cbr\\u003eWords: pepys, scruple, memorandum, future, aug\",\"\\u003cb\\u003eTopic 4\\u003c\\u002fb\\u003e\\u003cbr\\u003eWords: memorandum, affluence, manufactory, confirmation, refusal\",\"\\u003cb\\u003eTopic 4\\u003c\\u002fb\\u003e\\u003cbr\\u003eWords: noterity, prosecution, entail, compiler, intermittent\",\"\\u003cb\\u003eTopic 4\\u003c\\u002fb\\u003e\\u003cbr\\u003eWords: circumstance, evidence, compromise, dotage, begging\",\"\\u003cb\\u003eTopic 4\\u003c\\u002fb\\u003e\\u003cbr\\u003eWords: secretary, mode, improvement, application, mind\",\"\\u003cb\\u003eTopic 4\\u003c\\u002fb\\u003e\\u003cbr\\u003eWords: repetition, philosopher, capacity, decline, statute\",\"\\u003cb\\u003eTopic 4\\u003c\\u002fb\\u003e\\u003cbr\\u003eWords: assent, mind, consent, yield, note\",\"\\u003cb\\u003eTopic 4\\u003c\\u002fb\\u003e\\u003cbr\\u003eWords: capital, alphabet, deluge, satisfy, astronomy\",\"\\u003cb\\u003eTopic 4\\u003c\\u002fb\\u003e\\u003cbr\\u003eWords: note, succumb, cliquism, antiquarian, cistern\",\"\\u003cb\\u003eTopic 4\\u003c\\u002fb\\u003e\\u003cbr\\u003eWords: correction, agreement, letter, reconsideration, file\",\"\\u003cb\\u003eTopic 4\\u003c\\u002fb\\u003e\\u003cbr\\u003eWords: fairness, scientificum, odium, reputation, circumstance\"],\"marker\":{\"color\":\"#D55E00\"},\"mode\":\"markers\",\"name\":\"4_letter_circumstance_opinion_notice\",\"x\":[\"1821-01-28T19:12:00\",\"1823-03-12T14:24:00\",\"1825-04-23T09:36:00\",\"1827-06-05T04:48:00\",\"1829-07-17T00:00:00\",\"1831-08-28T19:12:00\",\"1833-10-09T14:24:00\",\"1835-11-21T09:36:00\",\"1838-01-02T04:48:00\",\"1840-02-14T00:00:00\",\"1842-03-27T19:12:00\",\"1844-05-08T14:24:00\",\"1846-06-20T09:36:00\",\"1848-08-01T04:48:00\",\"1850-09-13T00:00:00\",\"1852-10-24T19:12:00\",\"1854-12-06T14:24:00\",\"1857-01-17T09:36:00\",\"1859-03-01T04:48:00\"],\"y\":[1,1,34,9,12,15,5,7,2,7,8,12,2,7,7,5,13,9,13],\"type\":\"scatter\"},{\"hoverinfo\":\"text\",\"hovertext\":[\"\\u003cb\\u003eTopic 5\\u003c\\u002fb\\u003e\\u003cbr\\u003eWords: treasury, payment, salary, majesty, chambers\",\"\\u003cb\\u003eTopic 5\\u003c\\u002fb\\u003e\\u003cbr\\u003eWords: labour, newnham, emigrate, renowned, loro\",\"\\u003cb\\u003eTopic 5\\u003c\\u002fb\\u003e\\u003cbr\\u003eWords: salary, money, balance, gn, per_annum\",\"\\u003cb\\u003eTopic 5\\u003c\\u002fb\\u003e\\u003cbr\\u003eWords: money, payment, debt, wright, banker\",\"\\u003cb\\u003eTopic 5\\u003c\\u002fb\\u003e\\u003cbr\\u003eWords: money, research, composition, receipts, hire\",\"\\u003cb\\u003eTopic 5\\u003c\\u002fb\\u003e\\u003cbr\\u003eWords: money, downe, informed, carcarius, power\",\"\\u003cb\\u003eTopic 5\\u003c\\u002fb\\u003e\\u003cbr\\u003eWords: machinery, shyness, assist, remuneration, tweed\",\"\\u003cb\\u003eTopic 5\\u003c\\u002fb\\u003e\\u003cbr\\u003eWords: currency, remuneration, per_annum, money, debt\",\"\\u003cb\\u003eTopic 5\\u003c\\u002fb\\u003e\\u003cbr\\u003eWords: labour, electricity, estimate, sep, contributor\",\"\\u003cb\\u003eTopic 5\\u003c\\u002fb\\u003e\\u003cbr\\u003eWords: electricity, american, seller, concentrate, money\",\"\\u003cb\\u003eTopic 5\\u003c\\u002fb\\u003e\\u003cbr\\u003eWords: loan, pound, labourer, sum, govt\",\"\\u003cb\\u003eTopic 5\\u003c\\u002fb\\u003e\\u003cbr\\u003eWords: remuneration, superfluity, naming, amount, debt\",\"\\u003cb\\u003eTopic 5\\u003c\\u002fb\\u003e\\u003cbr\\u003eWords: sleeping, socy, ray, task, money\",\"\\u003cb\\u003eTopic 5\\u003c\\u002fb\\u003e\\u003cbr\\u003eWords: usefulness, circulation, power, notice, money\",\"\\u003cb\\u003eTopic 5\\u003c\\u002fb\\u003e\\u003cbr\\u003eWords: earning, generosity, battle, per_annum, money\",\"\\u003cb\\u003eTopic 5\\u003c\\u002fb\\u003e\\u003cbr\\u003eWords: money, amount, sum, stint, alienation\",\"\\u003cb\\u003eTopic 5\\u003c\\u002fb\\u003e\\u003cbr\\u003eWords: salary, labour, provision, parliament, payment\",\"\\u003cb\\u003eTopic 5\\u003c\\u002fb\\u003e\\u003cbr\\u003eWords: labourer, power, fellow, principled, occupier\"],\"marker\":{\"color\":\"#0072B2\"},\"mode\":\"markers\",\"name\":\"5_money_salary_labour_payment\",\"x\":[\"1823-03-12T14:24:00\",\"1825-04-23T09:36:00\",\"1827-06-05T04:48:00\",\"1829-07-17T00:00:00\",\"1831-08-28T19:12:00\",\"1833-10-09T14:24:00\",\"1835-11-21T09:36:00\",\"1838-01-02T04:48:00\",\"1840-02-14T00:00:00\",\"1842-03-27T19:12:00\",\"1844-05-08T14:24:00\",\"1846-06-20T09:36:00\",\"1848-08-01T04:48:00\",\"1850-09-13T00:00:00\",\"1852-10-24T19:12:00\",\"1854-12-06T14:24:00\",\"1857-01-17T09:36:00\",\"1859-03-01T04:48:00\"],\"y\":[3,9,10,14,8,5,4,12,3,7,8,3,2,1,5,11,17,7],\"type\":\"scatter\"},{\"hoverinfo\":\"text\",\"hovertext\":[\"\\u003cb\\u003eTopic 6\\u003c\\u002fb\\u003e\\u003cbr\\u003eWords: respite, conocephali, summer, kent, season\",\"\\u003cb\\u003eTopic 6\\u003c\\u002fb\\u003e\\u003cbr\\u003eWords: fenny, tribe, summer, season, autumn\",\"\\u003cb\\u003eTopic 6\\u003c\\u002fb\\u003e\\u003cbr\\u003eWords: feb, june, summer, month, season\",\"\\u003cb\\u003eTopic 6\\u003c\\u002fb\\u003e\\u003cbr\\u003eWords: autumn, spring, deserta, felt, infancy\",\"\\u003cb\\u003eTopic 6\\u003c\\u002fb\\u003e\\u003cbr\\u003eWords: season, autumn, summer, month, april\",\"\\u003cb\\u003eTopic 6\\u003c\\u002fb\\u003e\\u003cbr\\u003eWords: ellicomb, crispa, summer, rec, germany\",\"\\u003cb\\u003eTopic 6\\u003c\\u002fb\\u003e\\u003cbr\\u003eWords: autumn, rd, sd, vacation, month\",\"\\u003cb\\u003eTopic 6\\u003c\\u002fb\\u003e\\u003cbr\\u003eWords: explanatory, honobe, granville, month, reply\",\"\\u003cb\\u003eTopic 6\\u003c\\u002fb\\u003e\\u003cbr\\u003eWords: postmark, cd, aug, month, day\",\"\\u003cb\\u003eTopic 6\\u003c\\u002fb\\u003e\\u003cbr\\u003eWords: sept, july, season, summer, autumn\",\"\\u003cb\\u003eTopic 6\\u003c\\u002fb\\u003e\\u003cbr\\u003eWords: effectual, season, sept, winter, summer\",\"\\u003cb\\u003eTopic 6\\u003c\\u002fb\\u003e\\u003cbr\\u003eWords: harley, recovery, month, feby, ascertain\",\"\\u003cb\\u003eTopic 6\\u003c\\u002fb\\u003e\\u003cbr\\u003eWords: conflagration, balloon, sickly, gust, speckie\",\"\\u003cb\\u003eTopic 6\\u003c\\u002fb\\u003e\\u003cbr\\u003eWords: vile, distemper, temper, dec, sept\",\"\\u003cb\\u003eTopic 6\\u003c\\u002fb\\u003e\\u003cbr\\u003eWords: preside, feb, united_state, thames, wandsworth\",\"\\u003cb\\u003eTopic 6\\u003c\\u002fb\\u003e\\u003cbr\\u003eWords: moon, winter, fillip, season, months_ago\",\"\\u003cb\\u003eTopic 6\\u003c\\u002fb\\u003e\\u003cbr\\u003eWords: season, july, month, bristow, oak\",\"\\u003cb\\u003eTopic 6\\u003c\\u002fb\\u003e\\u003cbr\\u003eWords: sw, season, february, elizabeth, weymouth\",\"\\u003cb\\u003eTopic 6\\u003c\\u002fb\\u003e\\u003cbr\\u003eWords: therm, summer, visitation, congratulation, ampney\"],\"marker\":{\"color\":\"#CC79A7\"},\"mode\":\"markers\",\"name\":\"6_season_summer_autumn_feb\",\"x\":[\"1818-12-02T13:03:21.600000\",\"1821-01-28T19:12:00\",\"1825-04-23T09:36:00\",\"1827-06-05T04:48:00\",\"1829-07-17T00:00:00\",\"1831-08-28T19:12:00\",\"1833-10-09T14:24:00\",\"1835-11-21T09:36:00\",\"1838-01-02T04:48:00\",\"1840-02-14T00:00:00\",\"1842-03-27T19:12:00\",\"1844-05-08T14:24:00\",\"1846-06-20T09:36:00\",\"1848-08-01T04:48:00\",\"1850-09-13T00:00:00\",\"1852-10-24T19:12:00\",\"1854-12-06T14:24:00\",\"1857-01-17T09:36:00\",\"1859-03-01T04:48:00\"],\"y\":[2,1,20,8,24,5,4,1,3,2,3,2,2,3,5,6,9,10,6],\"type\":\"scatter\"},{\"hoverinfo\":\"text\",\"hovertext\":[\"\\u003cb\\u003eTopic 7\\u003c\\u002fb\\u003e\\u003cbr\\u003eWords: acquisition, entomology, acquaintance, study, insect\",\"\\u003cb\\u003eTopic 7\\u003c\\u002fb\\u003e\\u003cbr\\u003eWords: insect, entomology, wasp, nest, larva\",\"\\u003cb\\u003eTopic 7\\u003c\\u002fb\\u003e\\u003cbr\\u003eWords: insect, dale, scotland, foeniculum, aenethum\",\"\\u003cb\\u003eTopic 7\\u003c\\u002fb\\u003e\\u003cbr\\u003eWords: insect, bombyx, larvae, entomology, wine\",\"\\u003cb\\u003eTopic 7\\u003c\\u002fb\\u003e\\u003cbr\\u003eWords: insect, entomology, grove, jenyns, yorkshire\",\"\\u003cb\\u003eTopic 7\\u003c\\u002fb\\u003e\\u003cbr\\u003eWords: insect, valdivia, meigan, slug, shrubby\",\"\\u003cb\\u003eTopic 7\\u003c\\u002fb\\u003e\\u003cbr\\u003eWords: anatomie, mollusque, follow, obtain, insect\",\"\\u003cb\\u003eTopic 7\\u003c\\u002fb\\u003e\\u003cbr\\u003eWords: insect, sport, dale, days_ago, edition\",\"\\u003cb\\u003eTopic 7\\u003c\\u002fb\\u003e\\u003cbr\\u003eWords: insect, hobby, entomology, collector, cambridgeshire\",\"\\u003cb\\u003eTopic 7\\u003c\\u002fb\\u003e\\u003cbr\\u003eWords: hawthorne, permit, entomology, accompany, weather\",\"\\u003cb\\u003eTopic 7\\u003c\\u002fb\\u003e\\u003cbr\\u003eWords: squibs, camomile, fly, turpentine, hop\",\"\\u003cb\\u003eTopic 7\\u003c\\u002fb\\u003e\\u003cbr\\u003eWords: insect, beam, aphid, hop, bean\",\"\\u003cb\\u003eTopic 7\\u003c\\u002fb\\u003e\\u003cbr\\u003eWords: nest, wasp, insect, diptera, entomologist\",\"\\u003cb\\u003eTopic 7\\u003c\\u002fb\\u003e\\u003cbr\\u003eWords: insect, museum, entomology, wasp, nest\",\"\\u003cb\\u003eTopic 7\\u003c\\u002fb\\u003e\\u003cbr\\u003eWords: bee, wasp, insect, eater, sessile\",\"\\u003cb\\u003eTopic 7\\u003c\\u002fb\\u003e\\u003cbr\\u003eWords: insect, westwood, crustacea, insecta, worm\",\"\\u003cb\\u003eTopic 7\\u003c\\u002fb\\u003e\\u003cbr\\u003eWords: entomology, aid, request, school, attention\",\"\\u003cb\\u003eTopic 7\\u003c\\u002fb\\u003e\\u003cbr\\u003eWords: insect, larva, moth, nepticula, entomologist\"],\"marker\":{\"color\":\"#E69F00\"},\"mode\":\"markers\",\"name\":\"7_insect_entomology_wasp_nest\",\"x\":[\"1818-12-02T13:03:21.600000\",\"1821-01-28T19:12:00\",\"1823-03-12T14:24:00\",\"1825-04-23T09:36:00\",\"1827-06-05T04:48:00\",\"1829-07-17T00:00:00\",\"1831-08-28T19:12:00\",\"1833-10-09T14:24:00\",\"1835-11-21T09:36:00\",\"1838-01-02T04:48:00\",\"1842-03-27T19:12:00\",\"1846-06-20T09:36:00\",\"1848-08-01T04:48:00\",\"1850-09-13T00:00:00\",\"1852-10-24T19:12:00\",\"1854-12-06T14:24:00\",\"1857-01-17T09:36:00\",\"1859-03-01T04:48:00\"],\"y\":[1,1,6,13,17,6,2,4,2,1,3,7,8,1,5,13,1,9],\"type\":\"scatter\"},{\"hoverinfo\":\"text\",\"hovertext\":[\"\\u003cb\\u003eTopic 8\\u003c\\u002fb\\u003e\\u003cbr\\u003eWords: parcell, lambeth, mead, fossil, help\",\"\\u003cb\\u003eTopic 8\\u003c\\u002fb\\u003e\\u003cbr\\u003eWords: boundary, deluvium, colours, diluvium, patch\",\"\\u003cb\\u003eTopic 8\\u003c\\u002fb\\u003e\\u003cbr\\u003eWords: cavern, partition, thereabout, slay, granite\",\"\\u003cb\\u003eTopic 8\\u003c\\u002fb\\u003e\\u003cbr\\u003eWords: premium, singular, mineralogist, norway, fossil\",\"\\u003cb\\u003eTopic 8\\u003c\\u002fb\\u003e\\u003cbr\\u003eWords: limestone, river, rock, precipice, swale\",\"\\u003cb\\u003eTopic 8\\u003c\\u002fb\\u003e\\u003cbr\\u003eWords: clay, diluvium, pebble, chalk, pit\",\"\\u003cb\\u003eTopic 8\\u003c\\u002fb\\u003e\\u003cbr\\u003eWords: dirt, forest, isle, portland, acceptance\",\"\\u003cb\\u003eTopic 8\\u003c\\u002fb\\u003e\\u003cbr\\u003eWords: fossil, anstice, asterophyllite, calamite, bowman\",\"\\u003cb\\u003eTopic 8\\u003c\\u002fb\\u003e\\u003cbr\\u003eWords: fossil, quil, clay, doute, livraison\",\"\\u003cb\\u003eTopic 8\\u003c\\u002fb\\u003e\\u003cbr\\u003eWords: nodule, geol, sandstone, soil, clayey\",\"\\u003cb\\u003eTopic 8\\u003c\\u002fb\\u003e\\u003cbr\\u003eWords: nodule, fossil, calculating, fondness, mentioning\",\"\\u003cb\\u003eTopic 8\\u003c\\u002fb\\u003e\\u003cbr\\u003eWords: sandstone, fossil, clay, limestone, nodule\",\"\\u003cb\\u003eTopic 8\\u003c\\u002fb\\u003e\\u003cbr\\u003eWords: woodwardian, shell, fossil, box, clay\",\"\\u003cb\\u003eTopic 8\\u003c\\u002fb\\u003e\\u003cbr\\u003eWords: epoch, pliocene, fossil, miocene, coraline\",\"\\u003cb\\u003eTopic 8\\u003c\\u002fb\\u003e\\u003cbr\\u003eWords: fossil, inclination, wetherell, wetherall, pleistocene\",\"\\u003cb\\u003eTopic 8\\u003c\\u002fb\\u003e\\u003cbr\\u003eWords: limestone, wenlock, fossil, prize, weight\",\"\\u003cb\\u003eTopic 8\\u003c\\u002fb\\u003e\\u003cbr\\u003eWords: geologist, clay, fossil, brown, thousands\",\"\\u003cb\\u003eTopic 8\\u003c\\u002fb\\u003e\\u003cbr\\u003eWords: fossil, step, pit, unmade, arrive\"],\"marker\":{\"color\":\"#56B4E9\"},\"mode\":\"markers\",\"name\":\"8_fossil_clay_limestone_nodule\",\"x\":[\"1818-12-02T13:03:21.600000\",\"1821-01-28T19:12:00\",\"1825-04-23T09:36:00\",\"1827-06-05T04:48:00\",\"1829-07-17T00:00:00\",\"1831-08-28T19:12:00\",\"1835-11-21T09:36:00\",\"1838-01-02T04:48:00\",\"1840-02-14T00:00:00\",\"1842-03-27T19:12:00\",\"1844-05-08T14:24:00\",\"1846-06-20T09:36:00\",\"1848-08-01T04:48:00\",\"1850-09-13T00:00:00\",\"1852-10-24T19:12:00\",\"1854-12-06T14:24:00\",\"1857-01-17T09:36:00\",\"1859-03-01T04:48:00\"],\"y\":[2,1,1,1,4,8,1,16,11,5,8,1,1,6,6,5,6,7],\"type\":\"scatter\"},{\"hoverinfo\":\"text\",\"hovertext\":[\"\\u003cb\\u003eTopic 9\\u003c\\u002fb\\u003e\\u003cbr\\u003eWords: quadruped, ass, horse, palmerston, sincerely_palmerston\",\"\\u003cb\\u003eTopic 9\\u003c\\u002fb\\u003e\\u003cbr\\u003eWords: palmerston, sincerely_palmerston, horse, committee, royston\",\"\\u003cb\\u003eTopic 9\\u003c\\u002fb\\u003e\\u003cbr\\u003eWords: owners, mitchell, agent, co, palmerston\",\"\\u003cb\\u003eTopic 9\\u003c\\u002fb\\u003e\\u003cbr\\u003eWords: horse, gown, furniture, sincere, mare\",\"\\u003cb\\u003eTopic 9\\u003c\\u002fb\\u003e\\u003cbr\\u003eWords: barnsley, monk, bretton, esq, palmerston\",\"\\u003cb\\u003eTopic 9\\u003c\\u002fb\\u003e\\u003cbr\\u003eWords: horse, drinking, understanding, midst, treasure\",\"\\u003cb\\u003eTopic 9\\u003c\\u002fb\\u003e\\u003cbr\\u003eWords: ride, horse, drawing, room, family\",\"\\u003cb\\u003eTopic 9\\u003c\\u002fb\\u003e\\u003cbr\\u003eWords: draft, bentham, thought, request, night\",\"\\u003cb\\u003eTopic 9\\u003c\\u002fb\\u003e\\u003cbr\\u003eWords: lancester, edwin, draft, bentham, wish\",\"\\u003cb\\u003eTopic 9\\u003c\\u002fb\\u003e\\u003cbr\\u003eWords: minister, palmerston, committee, question, information\"],\"marker\":{\"color\":\"#009E73\"},\"mode\":\"markers\",\"name\":\"9_palmerston_horse_sincerely_palmerston_...\",\"x\":[\"1823-03-12T14:24:00\",\"1825-04-23T09:36:00\",\"1827-06-05T04:48:00\",\"1829-07-17T00:00:00\",\"1831-08-28T19:12:00\",\"1838-01-02T04:48:00\",\"1848-08-01T04:48:00\",\"1850-09-13T00:00:00\",\"1857-01-17T09:36:00\",\"1859-03-01T04:48:00\"],\"y\":[1,76,1,3,1,2,1,1,2,1],\"type\":\"scatter\"},{\"hoverinfo\":\"text\",\"hovertext\":[\"\\u003cb\\u003eTopic 10\\u003c\\u002fb\\u003e\\u003cbr\\u003eWords: grandmother, octobre, brother, stick, agreeable\",\"\\u003cb\\u003eTopic 10\\u003c\\u002fb\\u003e\\u003cbr\\u003eWords: brother, nephew, antrobus, room, heart\",\"\\u003cb\\u003eTopic 10\\u003c\\u002fb\\u003e\\u003cbr\\u003eWords: purify, eden, prudence, mine, brother\",\"\\u003cb\\u003eTopic 10\\u003c\\u002fb\\u003e\\u003cbr\\u003eWords: brother, sister, brother_law, grief, affliction\",\"\\u003cb\\u003eTopic 10\\u003c\\u002fb\\u003e\\u003cbr\\u003eWords: brother, fitz, roy, agent, capt\",\"\\u003cb\\u003eTopic 10\\u003c\\u002fb\\u003e\\u003cbr\\u003eWords: sending, clements_inn, habit, brother, occasion\",\"\\u003cb\\u003eTopic 10\\u003c\\u002fb\\u003e\\u003cbr\\u003eWords: misery, grieve, end, day, brother\",\"\\u003cb\\u003eTopic 10\\u003c\\u002fb\\u003e\\u003cbr\\u003eWords: brother, pity, bowel, scarbro, resenmt\",\"\\u003cb\\u003eTopic 10\\u003c\\u002fb\\u003e\\u003cbr\\u003eWords: might, brother, chamber, sample, subscriber\",\"\\u003cb\\u003eTopic 10\\u003c\\u002fb\\u003e\\u003cbr\\u003eWords: eck, shock, condolence, blow, brother\",\"\\u003cb\\u003eTopic 10\\u003c\\u002fb\\u003e\\u003cbr\\u003eWords: sister, infant, closing, parsonage, sorrow\",\"\\u003cb\\u003eTopic 10\\u003c\\u002fb\\u003e\\u003cbr\\u003eWords: aunt, stratton, educate, death, saw\",\"\\u003cb\\u003eTopic 10\\u003c\\u002fb\\u003e\\u003cbr\\u003eWords: conviviality, tweedie, brother, tediousness, graduate\",\"\\u003cb\\u003eTopic 10\\u003c\\u002fb\\u003e\\u003cbr\\u003eWords: brother, bereavement, mourning, sorrow, sister\",\"\\u003cb\\u003eTopic 10\\u003c\\u002fb\\u003e\\u003cbr\\u003eWords: sister, brother, wife, death, decease\"],\"marker\":{\"color\":\"#F0E442\"},\"mode\":\"markers\",\"name\":\"10_brother_sister_brother_law_nephew\",\"x\":[\"1823-03-12T14:24:00\",\"1825-04-23T09:36:00\",\"1827-06-05T04:48:00\",\"1829-07-17T00:00:00\",\"1831-08-28T19:12:00\",\"1833-10-09T14:24:00\",\"1835-11-21T09:36:00\",\"1842-03-27T19:12:00\",\"1844-05-08T14:24:00\",\"1846-06-20T09:36:00\",\"1848-08-01T04:48:00\",\"1852-10-24T19:12:00\",\"1854-12-06T14:24:00\",\"1857-01-17T09:36:00\",\"1859-03-01T04:48:00\"],\"y\":[3,20,3,19,4,1,1,5,2,1,5,3,3,10,9],\"type\":\"scatter\"},{\"hoverinfo\":\"text\",\"hovertext\":[\"\\u003cb\\u003eTopic 11\\u003c\\u002fb\\u003e\\u003cbr\\u003eWords: icones, filicum, hooker, dr, lady\",\"\\u003cb\\u003eTopic 11\\u003c\\u002fb\\u003e\\u003cbr\\u003eWords: hooker, hotel, aberdeenshire, arcuata, luzula\",\"\\u003cb\\u003eTopic 11\\u003c\\u002fb\\u003e\\u003cbr\\u003eWords: hooker, mistaken, suberectus, devil, fork\",\"\\u003cb\\u003eTopic 11\\u003c\\u002fb\\u003e\\u003cbr\\u003eWords: intercourse, hooker, dr, lady, playfair\",\"\\u003cb\\u003eTopic 11\\u003c\\u002fb\\u003e\\u003cbr\\u003eWords: parcel, hooker, day, dr, lady\",\"\\u003cb\\u003eTopic 11\\u003c\\u002fb\\u003e\\u003cbr\\u003eWords: hooker, botan, cholsey, miscellany, oxford\",\"\\u003cb\\u003eTopic 11\\u003c\\u002fb\\u003e\\u003cbr\\u003eWords: hooker, dr, lady, playfair, bunbury\",\"\\u003cb\\u003eTopic 11\\u003c\\u002fb\\u003e\\u003cbr\\u003eWords: hooker, wheat, prevalent, shingle, lodgings\",\"\\u003cb\\u003eTopic 11\\u003c\\u002fb\\u003e\\u003cbr\\u003eWords: cassel, hooker, episode, confinement, news\",\"\\u003cb\\u003eTopic 11\\u003c\\u002fb\\u003e\\u003cbr\\u003eWords: hooker, breast, affte, expectant, fool\",\"\\u003cb\\u003eTopic 11\\u003c\\u002fb\\u003e\\u003cbr\\u003eWords: hooker, playfair, days_ago, refutation, griffin\",\"\\u003cb\\u003eTopic 11\\u003c\\u002fb\\u003e\\u003cbr\\u003eWords: hooker, germany, hasjsh, lucubration, collateral\",\"\\u003cb\\u003eTopic 11\\u003c\\u002fb\\u003e\\u003cbr\\u003eWords: hooker, sinclair, regrets, infinitely, geographie\",\"\\u003cb\\u003eTopic 11\\u003c\\u002fb\\u003e\\u003cbr\\u003eWords: hooker, macmillans, sprung, migrate, berth\"],\"marker\":{\"color\":\"#D55E00\"},\"mode\":\"markers\",\"name\":\"11_hooker_dr_lady_playfair\",\"x\":[\"1825-04-23T09:36:00\",\"1827-06-05T04:48:00\",\"1829-07-17T00:00:00\",\"1831-08-28T19:12:00\",\"1833-10-09T14:24:00\",\"1835-11-21T09:36:00\",\"1844-05-08T14:24:00\",\"1846-06-20T09:36:00\",\"1848-08-01T04:48:00\",\"1850-09-13T00:00:00\",\"1852-10-24T19:12:00\",\"1854-12-06T14:24:00\",\"1857-01-17T09:36:00\",\"1859-03-01T04:48:00\"],\"y\":[3,6,16,1,1,2,1,7,2,6,6,11,10,5],\"type\":\"scatter\"},{\"hoverinfo\":\"text\",\"hovertext\":[\"\\u003cb\\u003eTopic 12\\u003c\\u002fb\\u003e\\u003cbr\\u003eWords: booksellers, fellow, subscription, price, book\",\"\\u003cb\\u003eTopic 12\\u003c\\u002fb\\u003e\\u003cbr\\u003eWords: blair, knapsack, atholl, inconvenient, book\",\"\\u003cb\\u003eTopic 12\\u003c\\u002fb\\u003e\\u003cbr\\u003eWords: book, manuscript, calendar, index, matthew\",\"\\u003cb\\u003eTopic 12\\u003c\\u002fb\\u003e\\u003cbr\\u003eWords: sort, wernerian, maderia, vehicle, booksellers\",\"\\u003cb\\u003eTopic 12\\u003c\\u002fb\\u003e\\u003cbr\\u003eWords: book, bookseller, banking, library, apprehend\",\"\\u003cb\\u003eTopic 12\\u003c\\u002fb\\u003e\\u003cbr\\u003eWords: boyd, oliver, booksellers, bookseller, opportunity\",\"\\u003cb\\u003eTopic 12\\u003c\\u002fb\\u003e\\u003cbr\\u003eWords: dominion, schlotheim, book, observatory, american\",\"\\u003cb\\u003eTopic 12\\u003c\\u002fb\\u003e\\u003cbr\\u003eWords: macmillan, order, book, sort, bookseller\",\"\\u003cb\\u003eTopic 12\\u003c\\u002fb\\u003e\\u003cbr\\u003eWords: book, copy, seller, utility, treat\",\"\\u003cb\\u003eTopic 12\\u003c\\u002fb\\u003e\\u003cbr\\u003eWords: publishers, tell, wiley, waterloo, putnam\",\"\\u003cb\\u003eTopic 12\\u003c\\u002fb\\u003e\\u003cbr\\u003eWords: butter, book, press, clarke, lay\",\"\\u003cb\\u003eTopic 12\\u003c\\u002fb\\u003e\\u003cbr\\u003eWords: endlicher, fat, allow, book, sort\",\"\\u003cb\\u003eTopic 12\\u003c\\u002fb\\u003e\\u003cbr\\u003eWords: scent, monograph, tale, follow, sort\",\"\\u003cb\\u003eTopic 12\\u003c\\u002fb\\u003e\\u003cbr\\u003eWords: book, sort, sample, royalty, vogue\",\"\\u003cb\\u003eTopic 12\\u003c\\u002fb\\u003e\\u003cbr\\u003eWords: book, pocket, sale, secretion, editing\",\"\\u003cb\\u003eTopic 12\\u003c\\u002fb\\u003e\\u003cbr\\u003eWords: book, acheul, baker, block, battle\"],\"marker\":{\"color\":\"#0072B2\"},\"mode\":\"markers\",\"name\":\"12_book_sort_order_bookseller\",\"x\":[\"1818-12-02T13:03:21.600000\",\"1823-03-12T14:24:00\",\"1825-04-23T09:36:00\",\"1827-06-05T04:48:00\",\"1829-07-17T00:00:00\",\"1833-10-09T14:24:00\",\"1838-01-02T04:48:00\",\"1840-02-14T00:00:00\",\"1842-03-27T19:12:00\",\"1846-06-20T09:36:00\",\"1848-08-01T04:48:00\",\"1850-09-13T00:00:00\",\"1852-10-24T19:12:00\",\"1854-12-06T14:24:00\",\"1857-01-17T09:36:00\",\"1859-03-01T04:48:00\"],\"y\":[1,1,8,5,10,2,3,1,2,3,5,3,3,11,7,4],\"type\":\"scatter\"},{\"hoverinfo\":\"text\",\"hovertext\":[\"\\u003cb\\u003eTopic 13\\u003c\\u002fb\\u003e\\u003cbr\\u003eWords: plate, illustration, nd, book, daguerreotype\",\"\\u003cb\\u003eTopic 13\\u003c\\u002fb\\u003e\\u003cbr\\u003eWords: plate, extra, scarabidae, illiger, hister\",\"\\u003cb\\u003eTopic 13\\u003c\\u002fb\\u003e\\u003cbr\\u003eWords: plate, madera, cost, lettering, lepidoptera\",\"\\u003cb\\u003eTopic 13\\u003c\\u002fb\\u003e\\u003cbr\\u003eWords: plate, buiding, vexation, helix, repeat\",\"\\u003cb\\u003eTopic 13\\u003c\\u002fb\\u003e\\u003cbr\\u003eWords: plate, edinh, novelty, style, allude\",\"\\u003cb\\u003eTopic 13\\u003c\\u002fb\\u003e\\u003cbr\\u003eWords: plate, reference, lonchitiea, syl, sternberg\",\"\\u003cb\\u003eTopic 13\\u003c\\u002fb\\u003e\\u003cbr\\u003eWords: plate, crenation, crenata, novelty, vol\",\"\\u003cb\\u003eTopic 13\\u003c\\u002fb\\u003e\\u003cbr\\u003eWords: rix, sol, mint, decm, plate\",\"\\u003cb\\u003eTopic 13\\u003c\\u002fb\\u003e\\u003cbr\\u003eWords: plate, daguerreotype, sci, clk, catch\",\"\\u003cb\\u003eTopic 13\\u003c\\u002fb\\u003e\\u003cbr\\u003eWords: armlet, lathe, plate, kimmeridge, jet\",\"\\u003cb\\u003eTopic 13\\u003c\\u002fb\\u003e\\u003cbr\\u003eWords: plate, potassium, pea, motion, copper\",\"\\u003cb\\u003eTopic 13\\u003c\\u002fb\\u003e\\u003cbr\\u003eWords: plate, sclater, reference, zuetell, edification\",\"\\u003cb\\u003eTopic 13\\u003c\\u002fb\\u003e\\u003cbr\\u003eWords: plate, stenotype, reduction, resetting, printing\",\"\\u003cb\\u003eTopic 13\\u003c\\u002fb\\u003e\\u003cbr\\u003eWords: plate, axe, orkney, sandwich, edge\"],\"marker\":{\"color\":\"#CC79A7\"},\"mode\":\"markers\",\"name\":\"13_plate_daguerreotype_reference_stenoty...\",\"x\":[\"1825-04-23T09:36:00\",\"1827-06-05T04:48:00\",\"1829-07-17T00:00:00\",\"1831-08-28T19:12:00\",\"1835-11-21T09:36:00\",\"1838-01-02T04:48:00\",\"1840-02-14T00:00:00\",\"1844-05-08T14:24:00\",\"1848-08-01T04:48:00\",\"1850-09-13T00:00:00\",\"1852-10-24T19:12:00\",\"1854-12-06T14:24:00\",\"1857-01-17T09:36:00\",\"1859-03-01T04:48:00\"],\"y\":[2,4,15,3,3,15,4,1,8,2,1,4,4,2],\"type\":\"scatter\"},{\"hoverinfo\":\"text\",\"hovertext\":[\"\\u003cb\\u003eTopic 14\\u003c\\u002fb\\u003e\\u003cbr\\u003eWords: election, vote, voter, poll, ensuing_election\",\"\\u003cb\\u003eTopic 14\\u003c\\u002fb\\u003e\\u003cbr\\u003eWords: thanking, silence, election, intelligence, cause\",\"\\u003cb\\u003eTopic 14\\u003c\\u002fb\\u003e\\u003cbr\\u003eWords: pluralist, pisidium, cryllas, oman, election\",\"\\u003cb\\u003eTopic 14\\u003c\\u002fb\\u003e\\u003cbr\\u003eWords: walkover, morpeth, probability, election, west\",\"\\u003cb\\u003eTopic 14\\u003c\\u002fb\\u003e\\u003cbr\\u003eWords: minority, poll, election, vote, voter\",\"\\u003cb\\u003eTopic 14\\u003c\\u002fb\\u003e\\u003cbr\\u003eWords: election, vote, voter, poll, ensuing_election\",\"\\u003cb\\u003eTopic 14\\u003c\\u002fb\\u003e\\u003cbr\\u003eWords: election, april, vote, voter, poll\"],\"marker\":{\"color\":\"#E69F00\"},\"mode\":\"markers\",\"name\":\"14_election_vote_voter_poll\",\"x\":[\"1825-04-23T09:36:00\",\"1829-07-17T00:00:00\",\"1831-08-28T19:12:00\",\"1844-05-08T14:24:00\",\"1848-08-01T04:48:00\",\"1850-09-13T00:00:00\",\"1859-03-01T04:48:00\"],\"y\":[62,1,1,1,1,1,1],\"type\":\"scatter\"}],                        {\"template\":{\"data\":{\"barpolar\":[{\"marker\":{\"line\":{\"color\":\"white\",\"width\":0.5},\"pattern\":{\"fillmode\":\"overlay\",\"size\":10,\"solidity\":0.2}},\"type\":\"barpolar\"}],\"bar\":[{\"error_x\":{\"color\":\"rgb(36,36,36)\"},\"error_y\":{\"color\":\"rgb(36,36,36)\"},\"marker\":{\"line\":{\"color\":\"white\",\"width\":0.5},\"pattern\":{\"fillmode\":\"overlay\",\"size\":10,\"solidity\":0.2}},\"type\":\"bar\"}],\"carpet\":[{\"aaxis\":{\"endlinecolor\":\"rgb(36,36,36)\",\"gridcolor\":\"white\",\"linecolor\":\"white\",\"minorgridcolor\":\"white\",\"startlinecolor\":\"rgb(36,36,36)\"},\"baxis\":{\"endlinecolor\":\"rgb(36,36,36)\",\"gridcolor\":\"white\",\"linecolor\":\"white\",\"minorgridcolor\":\"white\",\"startlinecolor\":\"rgb(36,36,36)\"},\"type\":\"carpet\"}],\"choropleth\":[{\"colorbar\":{\"outlinewidth\":1,\"tickcolor\":\"rgb(36,36,36)\",\"ticks\":\"outside\"},\"type\":\"choropleth\"}],\"contourcarpet\":[{\"colorbar\":{\"outlinewidth\":1,\"tickcolor\":\"rgb(36,36,36)\",\"ticks\":\"outside\"},\"type\":\"contourcarpet\"}],\"contour\":[{\"colorbar\":{\"outlinewidth\":1,\"tickcolor\":\"rgb(36,36,36)\",\"ticks\":\"outside\"},\"colorscale\":[[0.0,\"#440154\"],[0.1111111111111111,\"#482878\"],[0.2222222222222222,\"#3e4989\"],[0.3333333333333333,\"#31688e\"],[0.4444444444444444,\"#26828e\"],[0.5555555555555556,\"#1f9e89\"],[0.6666666666666666,\"#35b779\"],[0.7777777777777778,\"#6ece58\"],[0.8888888888888888,\"#b5de2b\"],[1.0,\"#fde725\"]],\"type\":\"contour\"}],\"heatmapgl\":[{\"colorbar\":{\"outlinewidth\":1,\"tickcolor\":\"rgb(36,36,36)\",\"ticks\":\"outside\"},\"colorscale\":[[0.0,\"#440154\"],[0.1111111111111111,\"#482878\"],[0.2222222222222222,\"#3e4989\"],[0.3333333333333333,\"#31688e\"],[0.4444444444444444,\"#26828e\"],[0.5555555555555556,\"#1f9e89\"],[0.6666666666666666,\"#35b779\"],[0.7777777777777778,\"#6ece58\"],[0.8888888888888888,\"#b5de2b\"],[1.0,\"#fde725\"]],\"type\":\"heatmapgl\"}],\"heatmap\":[{\"colorbar\":{\"outlinewidth\":1,\"tickcolor\":\"rgb(36,36,36)\",\"ticks\":\"outside\"},\"colorscale\":[[0.0,\"#440154\"],[0.1111111111111111,\"#482878\"],[0.2222222222222222,\"#3e4989\"],[0.3333333333333333,\"#31688e\"],[0.4444444444444444,\"#26828e\"],[0.5555555555555556,\"#1f9e89\"],[0.6666666666666666,\"#35b779\"],[0.7777777777777778,\"#6ece58\"],[0.8888888888888888,\"#b5de2b\"],[1.0,\"#fde725\"]],\"type\":\"heatmap\"}],\"histogram2dcontour\":[{\"colorbar\":{\"outlinewidth\":1,\"tickcolor\":\"rgb(36,36,36)\",\"ticks\":\"outside\"},\"colorscale\":[[0.0,\"#440154\"],[0.1111111111111111,\"#482878\"],[0.2222222222222222,\"#3e4989\"],[0.3333333333333333,\"#31688e\"],[0.4444444444444444,\"#26828e\"],[0.5555555555555556,\"#1f9e89\"],[0.6666666666666666,\"#35b779\"],[0.7777777777777778,\"#6ece58\"],[0.8888888888888888,\"#b5de2b\"],[1.0,\"#fde725\"]],\"type\":\"histogram2dcontour\"}],\"histogram2d\":[{\"colorbar\":{\"outlinewidth\":1,\"tickcolor\":\"rgb(36,36,36)\",\"ticks\":\"outside\"},\"colorscale\":[[0.0,\"#440154\"],[0.1111111111111111,\"#482878\"],[0.2222222222222222,\"#3e4989\"],[0.3333333333333333,\"#31688e\"],[0.4444444444444444,\"#26828e\"],[0.5555555555555556,\"#1f9e89\"],[0.6666666666666666,\"#35b779\"],[0.7777777777777778,\"#6ece58\"],[0.8888888888888888,\"#b5de2b\"],[1.0,\"#fde725\"]],\"type\":\"histogram2d\"}],\"histogram\":[{\"marker\":{\"line\":{\"color\":\"white\",\"width\":0.6}},\"type\":\"histogram\"}],\"mesh3d\":[{\"colorbar\":{\"outlinewidth\":1,\"tickcolor\":\"rgb(36,36,36)\",\"ticks\":\"outside\"},\"type\":\"mesh3d\"}],\"parcoords\":[{\"line\":{\"colorbar\":{\"outlinewidth\":1,\"tickcolor\":\"rgb(36,36,36)\",\"ticks\":\"outside\"}},\"type\":\"parcoords\"}],\"pie\":[{\"automargin\":true,\"type\":\"pie\"}],\"scatter3d\":[{\"line\":{\"colorbar\":{\"outlinewidth\":1,\"tickcolor\":\"rgb(36,36,36)\",\"ticks\":\"outside\"}},\"marker\":{\"colorbar\":{\"outlinewidth\":1,\"tickcolor\":\"rgb(36,36,36)\",\"ticks\":\"outside\"}},\"type\":\"scatter3d\"}],\"scattercarpet\":[{\"marker\":{\"colorbar\":{\"outlinewidth\":1,\"tickcolor\":\"rgb(36,36,36)\",\"ticks\":\"outside\"}},\"type\":\"scattercarpet\"}],\"scattergeo\":[{\"marker\":{\"colorbar\":{\"outlinewidth\":1,\"tickcolor\":\"rgb(36,36,36)\",\"ticks\":\"outside\"}},\"type\":\"scattergeo\"}],\"scattergl\":[{\"marker\":{\"colorbar\":{\"outlinewidth\":1,\"tickcolor\":\"rgb(36,36,36)\",\"ticks\":\"outside\"}},\"type\":\"scattergl\"}],\"scattermapbox\":[{\"marker\":{\"colorbar\":{\"outlinewidth\":1,\"tickcolor\":\"rgb(36,36,36)\",\"ticks\":\"outside\"}},\"type\":\"scattermapbox\"}],\"scatterpolargl\":[{\"marker\":{\"colorbar\":{\"outlinewidth\":1,\"tickcolor\":\"rgb(36,36,36)\",\"ticks\":\"outside\"}},\"type\":\"scatterpolargl\"}],\"scatterpolar\":[{\"marker\":{\"colorbar\":{\"outlinewidth\":1,\"tickcolor\":\"rgb(36,36,36)\",\"ticks\":\"outside\"}},\"type\":\"scatterpolar\"}],\"scatter\":[{\"fillpattern\":{\"fillmode\":\"overlay\",\"size\":10,\"solidity\":0.2},\"type\":\"scatter\"}],\"scatterternary\":[{\"marker\":{\"colorbar\":{\"outlinewidth\":1,\"tickcolor\":\"rgb(36,36,36)\",\"ticks\":\"outside\"}},\"type\":\"scatterternary\"}],\"surface\":[{\"colorbar\":{\"outlinewidth\":1,\"tickcolor\":\"rgb(36,36,36)\",\"ticks\":\"outside\"},\"colorscale\":[[0.0,\"#440154\"],[0.1111111111111111,\"#482878\"],[0.2222222222222222,\"#3e4989\"],[0.3333333333333333,\"#31688e\"],[0.4444444444444444,\"#26828e\"],[0.5555555555555556,\"#1f9e89\"],[0.6666666666666666,\"#35b779\"],[0.7777777777777778,\"#6ece58\"],[0.8888888888888888,\"#b5de2b\"],[1.0,\"#fde725\"]],\"type\":\"surface\"}],\"table\":[{\"cells\":{\"fill\":{\"color\":\"rgb(237,237,237)\"},\"line\":{\"color\":\"white\"}},\"header\":{\"fill\":{\"color\":\"rgb(217,217,217)\"},\"line\":{\"color\":\"white\"}},\"type\":\"table\"}]},\"layout\":{\"annotationdefaults\":{\"arrowhead\":0,\"arrowwidth\":1},\"autotypenumbers\":\"strict\",\"coloraxis\":{\"colorbar\":{\"outlinewidth\":1,\"tickcolor\":\"rgb(36,36,36)\",\"ticks\":\"outside\"}},\"colorscale\":{\"diverging\":[[0.0,\"rgb(103,0,31)\"],[0.1,\"rgb(178,24,43)\"],[0.2,\"rgb(214,96,77)\"],[0.3,\"rgb(244,165,130)\"],[0.4,\"rgb(253,219,199)\"],[0.5,\"rgb(247,247,247)\"],[0.6,\"rgb(209,229,240)\"],[0.7,\"rgb(146,197,222)\"],[0.8,\"rgb(67,147,195)\"],[0.9,\"rgb(33,102,172)\"],[1.0,\"rgb(5,48,97)\"]],\"sequential\":[[0.0,\"#440154\"],[0.1111111111111111,\"#482878\"],[0.2222222222222222,\"#3e4989\"],[0.3333333333333333,\"#31688e\"],[0.4444444444444444,\"#26828e\"],[0.5555555555555556,\"#1f9e89\"],[0.6666666666666666,\"#35b779\"],[0.7777777777777778,\"#6ece58\"],[0.8888888888888888,\"#b5de2b\"],[1.0,\"#fde725\"]],\"sequentialminus\":[[0.0,\"#440154\"],[0.1111111111111111,\"#482878\"],[0.2222222222222222,\"#3e4989\"],[0.3333333333333333,\"#31688e\"],[0.4444444444444444,\"#26828e\"],[0.5555555555555556,\"#1f9e89\"],[0.6666666666666666,\"#35b779\"],[0.7777777777777778,\"#6ece58\"],[0.8888888888888888,\"#b5de2b\"],[1.0,\"#fde725\"]]},\"colorway\":[\"#1F77B4\",\"#FF7F0E\",\"#2CA02C\",\"#D62728\",\"#9467BD\",\"#8C564B\",\"#E377C2\",\"#7F7F7F\",\"#BCBD22\",\"#17BECF\"],\"font\":{\"color\":\"rgb(36,36,36)\"},\"geo\":{\"bgcolor\":\"white\",\"lakecolor\":\"white\",\"landcolor\":\"white\",\"showlakes\":true,\"showland\":true,\"subunitcolor\":\"white\"},\"hoverlabel\":{\"align\":\"left\"},\"hovermode\":\"closest\",\"mapbox\":{\"style\":\"light\"},\"paper_bgcolor\":\"white\",\"plot_bgcolor\":\"white\",\"polar\":{\"angularaxis\":{\"gridcolor\":\"rgb(232,232,232)\",\"linecolor\":\"rgb(36,36,36)\",\"showgrid\":false,\"showline\":true,\"ticks\":\"outside\"},\"bgcolor\":\"white\",\"radialaxis\":{\"gridcolor\":\"rgb(232,232,232)\",\"linecolor\":\"rgb(36,36,36)\",\"showgrid\":false,\"showline\":true,\"ticks\":\"outside\"}},\"scene\":{\"xaxis\":{\"backgroundcolor\":\"white\",\"gridcolor\":\"rgb(232,232,232)\",\"gridwidth\":2,\"linecolor\":\"rgb(36,36,36)\",\"showbackground\":true,\"showgrid\":false,\"showline\":true,\"ticks\":\"outside\",\"zeroline\":false,\"zerolinecolor\":\"rgb(36,36,36)\"},\"yaxis\":{\"backgroundcolor\":\"white\",\"gridcolor\":\"rgb(232,232,232)\",\"gridwidth\":2,\"linecolor\":\"rgb(36,36,36)\",\"showbackground\":true,\"showgrid\":false,\"showline\":true,\"ticks\":\"outside\",\"zeroline\":false,\"zerolinecolor\":\"rgb(36,36,36)\"},\"zaxis\":{\"backgroundcolor\":\"white\",\"gridcolor\":\"rgb(232,232,232)\",\"gridwidth\":2,\"linecolor\":\"rgb(36,36,36)\",\"showbackground\":true,\"showgrid\":false,\"showline\":true,\"ticks\":\"outside\",\"zeroline\":false,\"zerolinecolor\":\"rgb(36,36,36)\"}},\"shapedefaults\":{\"fillcolor\":\"black\",\"line\":{\"width\":0},\"opacity\":0.3},\"ternary\":{\"aaxis\":{\"gridcolor\":\"rgb(232,232,232)\",\"linecolor\":\"rgb(36,36,36)\",\"showgrid\":false,\"showline\":true,\"ticks\":\"outside\"},\"baxis\":{\"gridcolor\":\"rgb(232,232,232)\",\"linecolor\":\"rgb(36,36,36)\",\"showgrid\":false,\"showline\":true,\"ticks\":\"outside\"},\"bgcolor\":\"white\",\"caxis\":{\"gridcolor\":\"rgb(232,232,232)\",\"linecolor\":\"rgb(36,36,36)\",\"showgrid\":false,\"showline\":true,\"ticks\":\"outside\"}},\"title\":{\"x\":0.05},\"xaxis\":{\"automargin\":true,\"gridcolor\":\"rgb(232,232,232)\",\"linecolor\":\"rgb(36,36,36)\",\"showgrid\":false,\"showline\":true,\"ticks\":\"outside\",\"title\":{\"standoff\":15},\"zeroline\":false,\"zerolinecolor\":\"rgb(36,36,36)\"},\"yaxis\":{\"automargin\":true,\"gridcolor\":\"rgb(232,232,232)\",\"linecolor\":\"rgb(36,36,36)\",\"showgrid\":false,\"showline\":true,\"ticks\":\"outside\",\"title\":{\"standoff\":15},\"zeroline\":false,\"zerolinecolor\":\"rgb(36,36,36)\"}}},\"xaxis\":{\"showgrid\":true},\"yaxis\":{\"showgrid\":true,\"title\":{\"text\":\"Count\"}},\"title\":{\"font\":{\"size\":22,\"color\":\"Black\"},\"text\":\"\\u003cb\\u003eTopics over Time\\u003c\\u002fb\\u003e\",\"y\":0.95,\"x\":0.4,\"xanchor\":\"center\",\"yanchor\":\"top\"},\"hoverlabel\":{\"font\":{\"size\":16,\"family\":\"Rockwell\"},\"bgcolor\":\"white\"},\"width\":1000,\"height\":500,\"legend\":{\"title\":{\"text\":\"\\u003cb\\u003eGlobal Topic Representation\"}}},                        {\"responsive\": true}                    ).then(function(){\n",
       "                            \n",
       "var gd = document.getElementById('022e14a2-8c7f-4c24-8717-91dff2c6b34f');\n",
       "var x = new MutationObserver(function (mutations, observer) {{\n",
       "        var display = window.getComputedStyle(gd).display;\n",
       "        if (!display || display === 'none') {{\n",
       "            console.log([gd, 'removed!']);\n",
       "            Plotly.purge(gd);\n",
       "            observer.disconnect();\n",
       "        }}\n",
       "}});\n",
       "\n",
       "// Listen for the removal of the full notebook cells\n",
       "var notebookContainer = gd.closest('#notebook-container');\n",
       "if (notebookContainer) {{\n",
       "    x.observe(notebookContainer, {childList: true});\n",
       "}}\n",
       "\n",
       "// Listen for the clearing of the current output cell\n",
       "var outputEl = gd.closest('.output');\n",
       "if (outputEl) {{\n",
       "    x.observe(outputEl, {childList: true});\n",
       "}}\n",
       "\n",
       "                        })                };                });            </script>        </div>"
      ]
     },
     "metadata": {},
     "output_type": "display_data"
    }
   ],
   "source": [
    "all_vis_obj = bertopic_time(sent_df, topic_model)\n",
    "all_vis = all_vis_obj[0]\n",
    "all_vis"
   ]
  },
  {
   "cell_type": "markdown",
   "id": "e8216285",
   "metadata": {},
   "source": [
    "Create visualisation of topics over time for 1920s letters using bertopic_time function."
   ]
  },
  {
   "cell_type": "code",
   "execution_count": 15,
   "id": "a8966054",
   "metadata": {},
   "outputs": [
    {
     "data": {
      "application/vnd.plotly.v1+json": {
       "config": {
        "plotlyServerURL": "https://plot.ly"
       },
       "data": [
        {
         "hoverinfo": "text",
         "hovertext": [
          "<b>Topic 0</b><br>Words: reopen, scoticu, punctatus, flattish, tenby",
          "<b>Topic 0</b><br>Words: bilineatocolli, saperda, booksellers, fellow, price",
          "<b>Topic 0</b><br>Words: defer, fig, trans, explanation, accompany",
          "<b>Topic 0</b><br>Words: clarke, degree, morning, palmerston, intention",
          "<b>Topic 0</b><br>Words: attention, favour, obed, verticillata, dr",
          "<b>Topic 0</b><br>Words: payment, salary, bivalve, calculator, acquaint",
          "<b>Topic 0</b><br>Words: remove, grandfather, hve, dare, hodgson",
          "<b>Topic 0</b><br>Words: april, campbell, clock, lt, leg",
          "<b>Topic 0</b><br>Words: trust, shell, other, monograph, music",
          "<b>Topic 0</b><br>Words: cannolstown, cty, bedford, name, palmerston",
          "<b>Topic 0</b><br>Words: dec, principle, paper, volume, emigrate",
          "<b>Topic 0</b><br>Words: palmerston, intention, feb, letter, morning",
          "<b>Topic 0</b><br>Words: correspondence, morning, sativus, herschel, loyd",
          "<b>Topic 0</b><br>Words: march, interest, ch, one, january",
          "<b>Topic 0</b><br>Words: salary, business, ariccia, retain, lamarckia",
          "<b>Topic 0</b><br>Words: subscription, gn, value, union, interest",
          "<b>Topic 0</b><br>Words: oxymus, tor, sanguinarino, publishing, portfolio",
          "<b>Topic 0</b><br>Words: ch, comfort, benefit, circumstance, kindness",
          "<b>Topic 0</b><br>Words: trouble, kindness, sh, theyit, trespassing"
         ],
         "marker": {
          "color": "#E69F00"
         },
         "mode": "markers",
         "name": "0_palmerston_intention_morning_letter",
         "type": "scatter",
         "x": [
          "1819-12-28T08:49:55.200000",
          "1820-06-30T14:24:00",
          "1820-12-29T04:48:00",
          "1821-06-28T19:12:00",
          "1822-06-27T00:00:00",
          "1822-12-25T14:24:00",
          "1823-06-25T04:48:00",
          "1823-12-23T19:12:00",
          "1824-06-22T09:36:00",
          "1824-12-21T00:00:00",
          "1825-06-20T14:24:00",
          "1825-12-19T04:48:00",
          "1826-06-18T19:12:00",
          "1826-12-17T09:36:00",
          "1827-06-17T00:00:00",
          "1827-12-15T14:24:00",
          "1828-06-14T04:48:00",
          "1828-12-12T19:12:00",
          "1829-06-12T09:36:00"
         ],
         "y": [
          8,
          4,
          2,
          2,
          7,
          7,
          3,
          10,
          11,
          2,
          19,
          197,
          28,
          29,
          17,
          32,
          19,
          43,
          22
         ]
        },
        {
         "hoverinfo": "text",
         "hovertext": [
          "<b>Topic 1</b><br>Words: nautilus, pentacrinitis, complanatus, plant, flora",
          "<b>Topic 1</b><br>Words: verna, fruticosa, lutea, dryas, grimmia",
          "<b>Topic 1</b><br>Words: lathyrus, pusillum, grandiflora, mariscus, infesta",
          "<b>Topic 1</b><br>Words: plant, violaceum, glaucium, maritima, orchis",
          "<b>Topic 1</b><br>Words: prob, tenuiflorus, prenanthe, ornithopus, sylvaticum",
          "<b>Topic 1</b><br>Words: plant, matrocaria, agaricus, cakile, absinthium",
          "<b>Topic 1</b><br>Words: specimen, flora, plant, common, english",
          "<b>Topic 1</b><br>Words: plant, verna, hypocharis, maculata, specimen",
          "<b>Topic 1</b><br>Words: plant, herbarium, root, flora, officinalis",
          "<b>Topic 1</b><br>Words: botany, flora, herbarium, acre, plant",
          "<b>Topic 1</b><br>Words: plant, campanula, arvensis, seed, vulgare",
          "<b>Topic 1</b><br>Words: plant, flora, vulgaris, viridis, latifolia",
          "<b>Topic 1</b><br>Words: plant, teucrium, lactuca, cineraria, press",
          "<b>Topic 1</b><br>Words: maritimum, alisma, jar, plant, statice",
          "<b>Topic 1</b><br>Words: arvensis, plant, vulgaris, palustris, officinalis"
         ],
         "marker": {
          "color": "#56B4E9"
         },
         "mode": "markers",
         "name": "1_plant_flora_arvensis_specimen",
         "type": "scatter",
         "x": [
          "1819-12-28T08:49:55.200000",
          "1822-06-27T00:00:00",
          "1823-06-25T04:48:00",
          "1823-12-23T19:12:00",
          "1824-06-22T09:36:00",
          "1824-12-21T00:00:00",
          "1825-06-20T14:24:00",
          "1825-12-19T04:48:00",
          "1826-06-18T19:12:00",
          "1826-12-17T09:36:00",
          "1827-06-17T00:00:00",
          "1827-12-15T14:24:00",
          "1828-06-14T04:48:00",
          "1828-12-12T19:12:00",
          "1829-06-12T09:36:00"
         ],
         "y": [
          2,
          6,
          2,
          10,
          2,
          6,
          20,
          12,
          27,
          32,
          28,
          23,
          19,
          14,
          34
         ]
        },
        {
         "hoverinfo": "text",
         "hovertext": [
          "<b>Topic 2</b><br>Words: university, parliament, election, interest, vote",
          "<b>Topic 2</b><br>Words: election, vote, voter, university, support",
          "<b>Topic 2</b><br>Words: voter, university, measure, expense, vote"
         ],
         "marker": {
          "color": "#009E73"
         },
         "mode": "markers",
         "name": "2_election_vote_voter_university",
         "type": "scatter",
         "x": [
          "1825-06-20T14:24:00",
          "1825-12-19T04:48:00",
          "1826-06-18T19:12:00"
         ],
         "y": [
          9,
          75,
          8
         ]
        },
        {
         "hoverinfo": "text",
         "hovertext": [
          "<b>Topic 3</b><br>Words: cambridge, summer, london, college, day",
          "<b>Topic 3</b><br>Words: horningsea, machaon, fen, mile, cambridge",
          "<b>Topic 3</b><br>Words: press, society, business, cambridge, college",
          "<b>Topic 3</b><br>Words: midst, vacation, excuse, cambridge, morning",
          "<b>Topic 3</b><br>Words: prince, crescent, cimitile, curiosity, casiati",
          "<b>Topic 3</b><br>Words: sleep, particular, departure, sun, travel",
          "<b>Topic 3</b><br>Words: jan, cambridge, college, london, day",
          "<b>Topic 3</b><br>Words: cambridge, bucket, council, stand, cam",
          "<b>Topic 3</b><br>Words: cambridge, call, london, college, contest",
          "<b>Topic 3</b><br>Words: cambridge, market, wilder, siskin, coot",
          "<b>Topic 3</b><br>Words: rent, magdalen, property, eng, college",
          "<b>Topic 3</b><br>Words: september, leonard, copy, cambridge, college",
          "<b>Topic 3</b><br>Words: cambridge, bachelorship, life, march, socy",
          "<b>Topic 3</b><br>Words: margate, forw, rd, excuse, cambridge",
          "<b>Topic 3</b><br>Words: hopkinson, leacock, christy, acc, regent",
          "<b>Topic 3</b><br>Words: gloucestershire, cambridge, cam, print, college"
         ],
         "marker": {
          "color": "#F0E442"
         },
         "mode": "markers",
         "name": "3_cambridge_college_london_day",
         "type": "scatter",
         "x": [
          "1819-12-28T08:49:55.200000",
          "1820-06-30T14:24:00",
          "1820-12-29T04:48:00",
          "1821-06-28T19:12:00",
          "1822-06-27T00:00:00",
          "1824-06-22T09:36:00",
          "1824-12-21T00:00:00",
          "1825-06-20T14:24:00",
          "1825-12-19T04:48:00",
          "1826-06-18T19:12:00",
          "1826-12-17T09:36:00",
          "1827-06-17T00:00:00",
          "1827-12-15T14:24:00",
          "1828-06-14T04:48:00",
          "1828-12-12T19:12:00",
          "1829-06-12T09:36:00"
         ],
         "y": [
          2,
          1,
          1,
          1,
          1,
          1,
          1,
          2,
          16,
          6,
          2,
          1,
          8,
          3,
          3,
          2
         ]
        },
        {
         "hoverinfo": "text",
         "hovertext": [
          "<b>Topic 4</b><br>Words: copley, moity, gout, sult, palmerstone",
          "<b>Topic 4</b><br>Words: copley, plumper, banke, goulburn, exchange",
          "<b>Topic 4</b><br>Words: copley, godson, goulburn, barrett, madingley"
         ],
         "marker": {
          "color": "#D55E00"
         },
         "mode": "markers",
         "name": "4_copley_plumper_banke_goulburn",
         "type": "scatter",
         "x": [
          "1825-06-20T14:24:00",
          "1825-12-19T04:48:00",
          "1826-06-18T19:12:00"
         ],
         "y": [
          6,
          33,
          3
         ]
        },
        {
         "hoverinfo": "text",
         "hovertext": [
          "<b>Topic 5</b><br>Words: respect, promise, compliment, pardon, grant",
          "<b>Topic 5</b><br>Words: compliment, promise, respect, pardon, grant",
          "<b>Topic 5</b><br>Words: lyon, william, respect, promise, compliment",
          "<b>Topic 5</b><br>Words: promise, compliment, grant, master, respect",
          "<b>Topic 5</b><br>Words: compliment, promise, respect, pardon, grant",
          "<b>Topic 5</b><br>Words: pardon, question, service, promise, compliment",
          "<b>Topic 5</b><br>Words: compliment, futurity, pardon, whewell, promise",
          "<b>Topic 5</b><br>Words: join, intrusion, promise, pardon, deference",
          "<b>Topic 5</b><br>Words: compliment, whewel, friedlaender, promise, brown",
          "<b>Topic 5</b><br>Words: sincerity, despair, pardon, seeing, bolt"
         ],
         "marker": {
          "color": "#0072B2"
         },
         "mode": "markers",
         "name": "5_promise_compliment_respect_pardon",
         "type": "scatter",
         "x": [
          "1822-06-27T00:00:00",
          "1822-12-25T14:24:00",
          "1823-12-23T19:12:00",
          "1825-12-19T04:48:00",
          "1826-06-18T19:12:00",
          "1826-12-17T09:36:00",
          "1827-12-15T14:24:00",
          "1828-06-14T04:48:00",
          "1828-12-12T19:12:00",
          "1829-06-12T09:36:00"
         ],
         "y": [
          1,
          1,
          1,
          22,
          1,
          1,
          3,
          4,
          3,
          3
         ]
        },
        {
         "hoverinfo": "text",
         "hovertext": [
          "<b>Topic 6</b><br>Words: insect, entomology, jenyns, melbourne, grove",
          "<b>Topic 6</b><br>Words: insect, town, foeniculum, aenethum, anniversary",
          "<b>Topic 6</b><br>Words: physician, insect, shop, poison, palermo",
          "<b>Topic 6</b><br>Words: insect, bombyx, entomology, curtis, dispar",
          "<b>Topic 6</b><br>Words: insect, melbourne, jaw, shrike, insectivori",
          "<b>Topic 6</b><br>Words: grove, insect, obligation, entomology, tribute",
          "<b>Topic 6</b><br>Words: insect, hunted, locust, period, thing",
          "<b>Topic 6</b><br>Words: insect, entomology, study, owner, conchology",
          "<b>Topic 6</b><br>Words: insect, entomology, jenyns, prop, panageus"
         ],
         "marker": {
          "color": "#CC79A7"
         },
         "mode": "markers",
         "name": "6_insect_entomology_jenyns_grove",
         "type": "scatter",
         "x": [
          "1820-12-29T04:48:00",
          "1824-12-21T00:00:00",
          "1825-06-20T14:24:00",
          "1825-12-19T04:48:00",
          "1826-06-18T19:12:00",
          "1827-06-17T00:00:00",
          "1827-12-15T14:24:00",
          "1828-06-14T04:48:00",
          "1828-12-12T19:12:00"
         ],
         "y": [
          1,
          4,
          1,
          5,
          4,
          2,
          3,
          7,
          5
         ]
        },
        {
         "hoverinfo": "text",
         "hovertext": [
          "<b>Topic 7</b><br>Words: pupil, iron, pencil, illustration, plate",
          "<b>Topic 7</b><br>Words: pencil, line, illustration, plate, folio",
          "<b>Topic 7</b><br>Words: shall, draw, pencil, mule, intention",
          "<b>Topic 7</b><br>Words: pencil, caryophyllus, remembrance, hybrid, sketch",
          "<b>Topic 7</b><br>Words: alteration, pencil, illustration, plate, folio",
          "<b>Topic 7</b><br>Words: illustration, pencil, folio, elephant, drawing",
          "<b>Topic 7</b><br>Words: plate, illiger, folio, colour, col",
          "<b>Topic 7</b><br>Words: cost, plate, paper, pencil, illustration",
          "<b>Topic 7</b><br>Words: mare, naturelle, magnum, concoct, pen",
          "<b>Topic 7</b><br>Words: outline, publication, hooker, dr, plant",
          "<b>Topic 7</b><br>Words: pencil, illustration, string, spp, prospecti"
         ],
         "marker": {
          "color": "#E69F00"
         },
         "mode": "markers",
         "name": "7_pencil_illustration_plate_folio",
         "type": "scatter",
         "x": [
          "1819-12-28T08:49:55.200000",
          "1820-12-29T04:48:00",
          "1823-12-23T19:12:00",
          "1825-06-20T14:24:00",
          "1825-12-19T04:48:00",
          "1826-12-17T09:36:00",
          "1827-06-17T00:00:00",
          "1827-12-15T14:24:00",
          "1828-06-14T04:48:00",
          "1828-12-12T19:12:00",
          "1829-06-12T09:36:00"
         ],
         "y": [
          1,
          1,
          2,
          6,
          1,
          8,
          2,
          1,
          1,
          2,
          4
         ]
        },
        {
         "hoverinfo": "text",
         "hovertext": [
          "<b>Topic 8</b><br>Words: diluvium, deluvium, boundary, colours, port",
          "<b>Topic 8</b><br>Words: crystal, acid, lime, alumina, iron",
          "<b>Topic 8</b><br>Words: hypothesis, calton, bonfire, tar, coal",
          "<b>Topic 8</b><br>Words: syllabus, wh, mineralogy, trust, desiderata",
          "<b>Topic 8</b><br>Words: coke, spar, infiltration, coley, cinder",
          "<b>Topic 8</b><br>Words: cavern, granite, slay, telescope, partition",
          "<b>Topic 8</b><br>Words: indigo, tufas, lavas, sepia, depth",
          "<b>Topic 8</b><br>Words: lime, chalk, oxide, acid, alumina",
          "<b>Topic 8</b><br>Words: slate, limestone, rock, lime, acid"
         ],
         "marker": {
          "color": "#56B4E9"
         },
         "mode": "markers",
         "name": "8_lime_acid_alumina_crystal",
         "type": "scatter",
         "x": [
          "1820-12-29T04:48:00",
          "1821-06-28T19:12:00",
          "1822-12-25T14:24:00",
          "1823-06-25T04:48:00",
          "1823-12-23T19:12:00",
          "1825-12-19T04:48:00",
          "1826-12-17T09:36:00",
          "1827-12-15T14:24:00",
          "1829-06-12T09:36:00"
         ],
         "y": [
          1,
          11,
          1,
          1,
          2,
          1,
          2,
          7,
          1
         ]
        },
        {
         "hoverinfo": "text",
         "hovertext": [
          "<b>Topic 9</b><br>Words: satr, clark, mot, lecture, course",
          "<b>Topic 9</b><br>Words: course, policy, persue, system, book",
          "<b>Topic 9</b><br>Words: course, lecture, class, classroom, lecturer",
          "<b>Topic 9</b><br>Words: class, course, lecture, commence, portion",
          "<b>Topic 9</b><br>Words: class, course, sacrament, audience, gace",
          "<b>Topic 9</b><br>Words: admiration, teaching, scholar, method, nat"
         ],
         "marker": {
          "color": "#009E73"
         },
         "mode": "markers",
         "name": "9_course_class_lecture_commence",
         "type": "scatter",
         "x": [
          "1819-12-28T08:49:55.200000",
          "1825-12-19T04:48:00",
          "1826-12-17T09:36:00",
          "1827-12-15T14:24:00",
          "1828-12-12T19:12:00",
          "1829-06-12T09:36:00"
         ],
         "y": [
          1,
          2,
          14,
          3,
          3,
          3
         ]
        },
        {
         "hoverinfo": "text",
         "hovertext": [
          "<b>Topic 10</b><br>Words: erection, fracture, room, house, home",
          "<b>Topic 10</b><br>Words: coffee, theatre, room, soul, tonight",
          "<b>Topic 10</b><br>Words: room, auction, particular, house, society",
          "<b>Topic 10</b><br>Words: room, house, mary, intend, flat",
          "<b>Topic 10</b><br>Words: wait, hall, home, room, house",
          "<b>Topic 10</b><br>Words: house, length, foot, room, home",
          "<b>Topic 10</b><br>Words: bed, house, room, home, society",
          "<b>Topic 10</b><br>Words: room, house, parent, cray, reading"
         ],
         "marker": {
          "color": "#F0E442"
         },
         "mode": "markers",
         "name": "10_room_house_home_society",
         "type": "scatter",
         "x": [
          "1823-12-23T19:12:00",
          "1824-06-22T09:36:00",
          "1825-06-20T14:24:00",
          "1825-12-19T04:48:00",
          "1826-06-18T19:12:00",
          "1826-12-17T09:36:00",
          "1828-12-12T19:12:00",
          "1829-06-12T09:36:00"
         ],
         "y": [
          2,
          3,
          2,
          8,
          1,
          2,
          1,
          4
         ]
        },
        {
         "hoverinfo": "text",
         "hovertext": [
          "<b>Topic 11</b><br>Words: quadruped, ass, horse, committee, newmarket",
          "<b>Topic 11</b><br>Words: horse, waltham, committee, cross, post",
          "<b>Topic 11</b><br>Words: horse, cattle, fillip, negligence, landlord",
          "<b>Topic 11</b><br>Words: freckenham, horse, wiseman, waggon, newmarket",
          "<b>Topic 11</b><br>Words: nott, derby, mine, horse, committee"
         ],
         "marker": {
          "color": "#D55E00"
         },
         "mode": "markers",
         "name": "11_horse_committee_newmarket_waltham",
         "type": "scatter",
         "x": [
          "1823-12-23T19:12:00",
          "1825-12-19T04:48:00",
          "1826-06-18T19:12:00",
          "1827-12-15T14:24:00",
          "1828-12-12T19:12:00"
         ],
         "y": [
          1,
          16,
          2,
          1,
          1
         ]
        },
        {
         "hoverinfo": "text",
         "hovertext": [
          "<b>Topic 12</b><br>Words: hold, revenue, officer, package, event",
          "<b>Topic 12</b><br>Words: committee, room, letter, stan_june, evening",
          "<b>Topic 12</b><br>Words: expense, committee, room, letter, stan_june",
          "<b>Topic 12</b><br>Words: committee, birth, transferring, bennett, thereon"
         ],
         "marker": {
          "color": "#0072B2"
         },
         "mode": "markers",
         "name": "12_committee_room_letter_stan_june",
         "type": "scatter",
         "x": [
          "1823-12-23T19:12:00",
          "1825-12-19T04:48:00",
          "1826-06-18T19:12:00",
          "1828-06-14T04:48:00"
         ],
         "y": [
          1,
          17,
          1,
          1
         ]
        },
        {
         "hoverinfo": "text",
         "hovertext": [
          "<b>Topic 13</b><br>Words: help, parcell, fossil, trouble, parcel",
          "<b>Topic 13</b><br>Words: packet, joint, arrival, convey, acknowledging",
          "<b>Topic 13</b><br>Words: parcel, cradock, row, pater, noster",
          "<b>Topic 13</b><br>Words: parcel, acceptable, package, care, purpose",
          "<b>Topic 13</b><br>Words: case, bird, collection, parcel, counsel",
          "<b>Topic 13</b><br>Words: parcel, noster, pater, row, esmeraldas",
          "<b>Topic 13</b><br>Words: parcel, sh, moss, collection, plant"
         ],
         "marker": {
          "color": "#CC79A7"
         },
         "mode": "markers",
         "name": "13_parcel_case_collection_bird",
         "type": "scatter",
         "x": [
          "1819-12-28T08:49:55.200000",
          "1825-06-20T14:24:00",
          "1826-12-17T09:36:00",
          "1827-06-17T00:00:00",
          "1827-12-15T14:24:00",
          "1828-06-14T04:48:00",
          "1829-06-12T09:36:00"
         ],
         "y": [
          1,
          3,
          5,
          3,
          1,
          4,
          2
         ]
        },
        {
         "hoverinfo": "text",
         "hovertext": [
          "<b>Topic 14</b><br>Words: assure, collection, cryptogamia, thing, instance",
          "<b>Topic 14</b><br>Words: vase, countryman, dollar, tomb, possessor",
          "<b>Topic 14</b><br>Words: miller, collector, collection, thing, world",
          "<b>Topic 14</b><br>Words: cryptogamia, collection, thing, trading, calculate",
          "<b>Topic 14</b><br>Words: collection, cryptogamia, thing, instance, possessor",
          "<b>Topic 14</b><br>Words: collection, cryptogamica, collectanea, algæ, portion",
          "<b>Topic 14</b><br>Words: collection, cryptogamma, aut, mess, gymnogamma",
          "<b>Topic 14</b><br>Words: collection, mathew, treasure, jungermannia, prevent"
         ],
         "marker": {
          "color": "#E69F00"
         },
         "mode": "markers",
         "name": "14_collection_cryptogamia_thing_instance",
         "type": "scatter",
         "x": [
          "1824-12-21T00:00:00",
          "1825-06-20T14:24:00",
          "1825-12-19T04:48:00",
          "1826-12-17T09:36:00",
          "1827-06-17T00:00:00",
          "1827-12-15T14:24:00",
          "1828-12-12T19:12:00",
          "1829-06-12T09:36:00"
         ],
         "y": [
          1,
          2,
          2,
          4,
          1,
          3,
          4,
          2
         ]
        }
       ],
       "layout": {
        "height": 500,
        "hoverlabel": {
         "bgcolor": "white",
         "font": {
          "family": "Rockwell",
          "size": 16
         }
        },
        "legend": {
         "title": {
          "text": "<b>Global Topic Representation"
         }
        },
        "template": {
         "data": {
          "bar": [
           {
            "error_x": {
             "color": "rgb(36,36,36)"
            },
            "error_y": {
             "color": "rgb(36,36,36)"
            },
            "marker": {
             "line": {
              "color": "white",
              "width": 0.5
             },
             "pattern": {
              "fillmode": "overlay",
              "size": 10,
              "solidity": 0.2
             }
            },
            "type": "bar"
           }
          ],
          "barpolar": [
           {
            "marker": {
             "line": {
              "color": "white",
              "width": 0.5
             },
             "pattern": {
              "fillmode": "overlay",
              "size": 10,
              "solidity": 0.2
             }
            },
            "type": "barpolar"
           }
          ],
          "carpet": [
           {
            "aaxis": {
             "endlinecolor": "rgb(36,36,36)",
             "gridcolor": "white",
             "linecolor": "white",
             "minorgridcolor": "white",
             "startlinecolor": "rgb(36,36,36)"
            },
            "baxis": {
             "endlinecolor": "rgb(36,36,36)",
             "gridcolor": "white",
             "linecolor": "white",
             "minorgridcolor": "white",
             "startlinecolor": "rgb(36,36,36)"
            },
            "type": "carpet"
           }
          ],
          "choropleth": [
           {
            "colorbar": {
             "outlinewidth": 1,
             "tickcolor": "rgb(36,36,36)",
             "ticks": "outside"
            },
            "type": "choropleth"
           }
          ],
          "contour": [
           {
            "colorbar": {
             "outlinewidth": 1,
             "tickcolor": "rgb(36,36,36)",
             "ticks": "outside"
            },
            "colorscale": [
             [
              0,
              "#440154"
             ],
             [
              0.1111111111111111,
              "#482878"
             ],
             [
              0.2222222222222222,
              "#3e4989"
             ],
             [
              0.3333333333333333,
              "#31688e"
             ],
             [
              0.4444444444444444,
              "#26828e"
             ],
             [
              0.5555555555555556,
              "#1f9e89"
             ],
             [
              0.6666666666666666,
              "#35b779"
             ],
             [
              0.7777777777777778,
              "#6ece58"
             ],
             [
              0.8888888888888888,
              "#b5de2b"
             ],
             [
              1,
              "#fde725"
             ]
            ],
            "type": "contour"
           }
          ],
          "contourcarpet": [
           {
            "colorbar": {
             "outlinewidth": 1,
             "tickcolor": "rgb(36,36,36)",
             "ticks": "outside"
            },
            "type": "contourcarpet"
           }
          ],
          "heatmap": [
           {
            "colorbar": {
             "outlinewidth": 1,
             "tickcolor": "rgb(36,36,36)",
             "ticks": "outside"
            },
            "colorscale": [
             [
              0,
              "#440154"
             ],
             [
              0.1111111111111111,
              "#482878"
             ],
             [
              0.2222222222222222,
              "#3e4989"
             ],
             [
              0.3333333333333333,
              "#31688e"
             ],
             [
              0.4444444444444444,
              "#26828e"
             ],
             [
              0.5555555555555556,
              "#1f9e89"
             ],
             [
              0.6666666666666666,
              "#35b779"
             ],
             [
              0.7777777777777778,
              "#6ece58"
             ],
             [
              0.8888888888888888,
              "#b5de2b"
             ],
             [
              1,
              "#fde725"
             ]
            ],
            "type": "heatmap"
           }
          ],
          "heatmapgl": [
           {
            "colorbar": {
             "outlinewidth": 1,
             "tickcolor": "rgb(36,36,36)",
             "ticks": "outside"
            },
            "colorscale": [
             [
              0,
              "#440154"
             ],
             [
              0.1111111111111111,
              "#482878"
             ],
             [
              0.2222222222222222,
              "#3e4989"
             ],
             [
              0.3333333333333333,
              "#31688e"
             ],
             [
              0.4444444444444444,
              "#26828e"
             ],
             [
              0.5555555555555556,
              "#1f9e89"
             ],
             [
              0.6666666666666666,
              "#35b779"
             ],
             [
              0.7777777777777778,
              "#6ece58"
             ],
             [
              0.8888888888888888,
              "#b5de2b"
             ],
             [
              1,
              "#fde725"
             ]
            ],
            "type": "heatmapgl"
           }
          ],
          "histogram": [
           {
            "marker": {
             "line": {
              "color": "white",
              "width": 0.6
             }
            },
            "type": "histogram"
           }
          ],
          "histogram2d": [
           {
            "colorbar": {
             "outlinewidth": 1,
             "tickcolor": "rgb(36,36,36)",
             "ticks": "outside"
            },
            "colorscale": [
             [
              0,
              "#440154"
             ],
             [
              0.1111111111111111,
              "#482878"
             ],
             [
              0.2222222222222222,
              "#3e4989"
             ],
             [
              0.3333333333333333,
              "#31688e"
             ],
             [
              0.4444444444444444,
              "#26828e"
             ],
             [
              0.5555555555555556,
              "#1f9e89"
             ],
             [
              0.6666666666666666,
              "#35b779"
             ],
             [
              0.7777777777777778,
              "#6ece58"
             ],
             [
              0.8888888888888888,
              "#b5de2b"
             ],
             [
              1,
              "#fde725"
             ]
            ],
            "type": "histogram2d"
           }
          ],
          "histogram2dcontour": [
           {
            "colorbar": {
             "outlinewidth": 1,
             "tickcolor": "rgb(36,36,36)",
             "ticks": "outside"
            },
            "colorscale": [
             [
              0,
              "#440154"
             ],
             [
              0.1111111111111111,
              "#482878"
             ],
             [
              0.2222222222222222,
              "#3e4989"
             ],
             [
              0.3333333333333333,
              "#31688e"
             ],
             [
              0.4444444444444444,
              "#26828e"
             ],
             [
              0.5555555555555556,
              "#1f9e89"
             ],
             [
              0.6666666666666666,
              "#35b779"
             ],
             [
              0.7777777777777778,
              "#6ece58"
             ],
             [
              0.8888888888888888,
              "#b5de2b"
             ],
             [
              1,
              "#fde725"
             ]
            ],
            "type": "histogram2dcontour"
           }
          ],
          "mesh3d": [
           {
            "colorbar": {
             "outlinewidth": 1,
             "tickcolor": "rgb(36,36,36)",
             "ticks": "outside"
            },
            "type": "mesh3d"
           }
          ],
          "parcoords": [
           {
            "line": {
             "colorbar": {
              "outlinewidth": 1,
              "tickcolor": "rgb(36,36,36)",
              "ticks": "outside"
             }
            },
            "type": "parcoords"
           }
          ],
          "pie": [
           {
            "automargin": true,
            "type": "pie"
           }
          ],
          "scatter": [
           {
            "fillpattern": {
             "fillmode": "overlay",
             "size": 10,
             "solidity": 0.2
            },
            "type": "scatter"
           }
          ],
          "scatter3d": [
           {
            "line": {
             "colorbar": {
              "outlinewidth": 1,
              "tickcolor": "rgb(36,36,36)",
              "ticks": "outside"
             }
            },
            "marker": {
             "colorbar": {
              "outlinewidth": 1,
              "tickcolor": "rgb(36,36,36)",
              "ticks": "outside"
             }
            },
            "type": "scatter3d"
           }
          ],
          "scattercarpet": [
           {
            "marker": {
             "colorbar": {
              "outlinewidth": 1,
              "tickcolor": "rgb(36,36,36)",
              "ticks": "outside"
             }
            },
            "type": "scattercarpet"
           }
          ],
          "scattergeo": [
           {
            "marker": {
             "colorbar": {
              "outlinewidth": 1,
              "tickcolor": "rgb(36,36,36)",
              "ticks": "outside"
             }
            },
            "type": "scattergeo"
           }
          ],
          "scattergl": [
           {
            "marker": {
             "colorbar": {
              "outlinewidth": 1,
              "tickcolor": "rgb(36,36,36)",
              "ticks": "outside"
             }
            },
            "type": "scattergl"
           }
          ],
          "scattermapbox": [
           {
            "marker": {
             "colorbar": {
              "outlinewidth": 1,
              "tickcolor": "rgb(36,36,36)",
              "ticks": "outside"
             }
            },
            "type": "scattermapbox"
           }
          ],
          "scatterpolar": [
           {
            "marker": {
             "colorbar": {
              "outlinewidth": 1,
              "tickcolor": "rgb(36,36,36)",
              "ticks": "outside"
             }
            },
            "type": "scatterpolar"
           }
          ],
          "scatterpolargl": [
           {
            "marker": {
             "colorbar": {
              "outlinewidth": 1,
              "tickcolor": "rgb(36,36,36)",
              "ticks": "outside"
             }
            },
            "type": "scatterpolargl"
           }
          ],
          "scatterternary": [
           {
            "marker": {
             "colorbar": {
              "outlinewidth": 1,
              "tickcolor": "rgb(36,36,36)",
              "ticks": "outside"
             }
            },
            "type": "scatterternary"
           }
          ],
          "surface": [
           {
            "colorbar": {
             "outlinewidth": 1,
             "tickcolor": "rgb(36,36,36)",
             "ticks": "outside"
            },
            "colorscale": [
             [
              0,
              "#440154"
             ],
             [
              0.1111111111111111,
              "#482878"
             ],
             [
              0.2222222222222222,
              "#3e4989"
             ],
             [
              0.3333333333333333,
              "#31688e"
             ],
             [
              0.4444444444444444,
              "#26828e"
             ],
             [
              0.5555555555555556,
              "#1f9e89"
             ],
             [
              0.6666666666666666,
              "#35b779"
             ],
             [
              0.7777777777777778,
              "#6ece58"
             ],
             [
              0.8888888888888888,
              "#b5de2b"
             ],
             [
              1,
              "#fde725"
             ]
            ],
            "type": "surface"
           }
          ],
          "table": [
           {
            "cells": {
             "fill": {
              "color": "rgb(237,237,237)"
             },
             "line": {
              "color": "white"
             }
            },
            "header": {
             "fill": {
              "color": "rgb(217,217,217)"
             },
             "line": {
              "color": "white"
             }
            },
            "type": "table"
           }
          ]
         },
         "layout": {
          "annotationdefaults": {
           "arrowhead": 0,
           "arrowwidth": 1
          },
          "autotypenumbers": "strict",
          "coloraxis": {
           "colorbar": {
            "outlinewidth": 1,
            "tickcolor": "rgb(36,36,36)",
            "ticks": "outside"
           }
          },
          "colorscale": {
           "diverging": [
            [
             0,
             "rgb(103,0,31)"
            ],
            [
             0.1,
             "rgb(178,24,43)"
            ],
            [
             0.2,
             "rgb(214,96,77)"
            ],
            [
             0.3,
             "rgb(244,165,130)"
            ],
            [
             0.4,
             "rgb(253,219,199)"
            ],
            [
             0.5,
             "rgb(247,247,247)"
            ],
            [
             0.6,
             "rgb(209,229,240)"
            ],
            [
             0.7,
             "rgb(146,197,222)"
            ],
            [
             0.8,
             "rgb(67,147,195)"
            ],
            [
             0.9,
             "rgb(33,102,172)"
            ],
            [
             1,
             "rgb(5,48,97)"
            ]
           ],
           "sequential": [
            [
             0,
             "#440154"
            ],
            [
             0.1111111111111111,
             "#482878"
            ],
            [
             0.2222222222222222,
             "#3e4989"
            ],
            [
             0.3333333333333333,
             "#31688e"
            ],
            [
             0.4444444444444444,
             "#26828e"
            ],
            [
             0.5555555555555556,
             "#1f9e89"
            ],
            [
             0.6666666666666666,
             "#35b779"
            ],
            [
             0.7777777777777778,
             "#6ece58"
            ],
            [
             0.8888888888888888,
             "#b5de2b"
            ],
            [
             1,
             "#fde725"
            ]
           ],
           "sequentialminus": [
            [
             0,
             "#440154"
            ],
            [
             0.1111111111111111,
             "#482878"
            ],
            [
             0.2222222222222222,
             "#3e4989"
            ],
            [
             0.3333333333333333,
             "#31688e"
            ],
            [
             0.4444444444444444,
             "#26828e"
            ],
            [
             0.5555555555555556,
             "#1f9e89"
            ],
            [
             0.6666666666666666,
             "#35b779"
            ],
            [
             0.7777777777777778,
             "#6ece58"
            ],
            [
             0.8888888888888888,
             "#b5de2b"
            ],
            [
             1,
             "#fde725"
            ]
           ]
          },
          "colorway": [
           "#1F77B4",
           "#FF7F0E",
           "#2CA02C",
           "#D62728",
           "#9467BD",
           "#8C564B",
           "#E377C2",
           "#7F7F7F",
           "#BCBD22",
           "#17BECF"
          ],
          "font": {
           "color": "rgb(36,36,36)"
          },
          "geo": {
           "bgcolor": "white",
           "lakecolor": "white",
           "landcolor": "white",
           "showlakes": true,
           "showland": true,
           "subunitcolor": "white"
          },
          "hoverlabel": {
           "align": "left"
          },
          "hovermode": "closest",
          "mapbox": {
           "style": "light"
          },
          "paper_bgcolor": "white",
          "plot_bgcolor": "white",
          "polar": {
           "angularaxis": {
            "gridcolor": "rgb(232,232,232)",
            "linecolor": "rgb(36,36,36)",
            "showgrid": false,
            "showline": true,
            "ticks": "outside"
           },
           "bgcolor": "white",
           "radialaxis": {
            "gridcolor": "rgb(232,232,232)",
            "linecolor": "rgb(36,36,36)",
            "showgrid": false,
            "showline": true,
            "ticks": "outside"
           }
          },
          "scene": {
           "xaxis": {
            "backgroundcolor": "white",
            "gridcolor": "rgb(232,232,232)",
            "gridwidth": 2,
            "linecolor": "rgb(36,36,36)",
            "showbackground": true,
            "showgrid": false,
            "showline": true,
            "ticks": "outside",
            "zeroline": false,
            "zerolinecolor": "rgb(36,36,36)"
           },
           "yaxis": {
            "backgroundcolor": "white",
            "gridcolor": "rgb(232,232,232)",
            "gridwidth": 2,
            "linecolor": "rgb(36,36,36)",
            "showbackground": true,
            "showgrid": false,
            "showline": true,
            "ticks": "outside",
            "zeroline": false,
            "zerolinecolor": "rgb(36,36,36)"
           },
           "zaxis": {
            "backgroundcolor": "white",
            "gridcolor": "rgb(232,232,232)",
            "gridwidth": 2,
            "linecolor": "rgb(36,36,36)",
            "showbackground": true,
            "showgrid": false,
            "showline": true,
            "ticks": "outside",
            "zeroline": false,
            "zerolinecolor": "rgb(36,36,36)"
           }
          },
          "shapedefaults": {
           "fillcolor": "black",
           "line": {
            "width": 0
           },
           "opacity": 0.3
          },
          "ternary": {
           "aaxis": {
            "gridcolor": "rgb(232,232,232)",
            "linecolor": "rgb(36,36,36)",
            "showgrid": false,
            "showline": true,
            "ticks": "outside"
           },
           "baxis": {
            "gridcolor": "rgb(232,232,232)",
            "linecolor": "rgb(36,36,36)",
            "showgrid": false,
            "showline": true,
            "ticks": "outside"
           },
           "bgcolor": "white",
           "caxis": {
            "gridcolor": "rgb(232,232,232)",
            "linecolor": "rgb(36,36,36)",
            "showgrid": false,
            "showline": true,
            "ticks": "outside"
           }
          },
          "title": {
           "x": 0.05
          },
          "xaxis": {
           "automargin": true,
           "gridcolor": "rgb(232,232,232)",
           "linecolor": "rgb(36,36,36)",
           "showgrid": false,
           "showline": true,
           "ticks": "outside",
           "title": {
            "standoff": 15
           },
           "zeroline": false,
           "zerolinecolor": "rgb(36,36,36)"
          },
          "yaxis": {
           "automargin": true,
           "gridcolor": "rgb(232,232,232)",
           "linecolor": "rgb(36,36,36)",
           "showgrid": false,
           "showline": true,
           "ticks": "outside",
           "title": {
            "standoff": 15
           },
           "zeroline": false,
           "zerolinecolor": "rgb(36,36,36)"
          }
         }
        },
        "title": {
         "font": {
          "color": "Black",
          "size": 22
         },
         "text": "<b>Topics over Time</b>",
         "x": 0.4,
         "xanchor": "center",
         "y": 0.95,
         "yanchor": "top"
        },
        "width": 1000,
        "xaxis": {
         "showgrid": true
        },
        "yaxis": {
         "showgrid": true,
         "title": {
          "text": "Count"
         }
        }
       }
      },
      "text/html": [
       "<div>                            <div id=\"429a852b-8535-4814-8b51-a9b9de433ac2\" class=\"plotly-graph-div\" style=\"height:500px; width:1000px;\"></div>            <script type=\"text/javascript\">                require([\"plotly\"], function(Plotly) {                    window.PLOTLYENV=window.PLOTLYENV || {};                                    if (document.getElementById(\"429a852b-8535-4814-8b51-a9b9de433ac2\")) {                    Plotly.newPlot(                        \"429a852b-8535-4814-8b51-a9b9de433ac2\",                        [{\"hoverinfo\":\"text\",\"hovertext\":[\"\\u003cb\\u003eTopic 0\\u003c\\u002fb\\u003e\\u003cbr\\u003eWords: reopen, scoticu, punctatus, flattish, tenby\",\"\\u003cb\\u003eTopic 0\\u003c\\u002fb\\u003e\\u003cbr\\u003eWords: bilineatocolli, saperda, booksellers, fellow, price\",\"\\u003cb\\u003eTopic 0\\u003c\\u002fb\\u003e\\u003cbr\\u003eWords: defer, fig, trans, explanation, accompany\",\"\\u003cb\\u003eTopic 0\\u003c\\u002fb\\u003e\\u003cbr\\u003eWords: clarke, degree, morning, palmerston, intention\",\"\\u003cb\\u003eTopic 0\\u003c\\u002fb\\u003e\\u003cbr\\u003eWords: attention, favour, obed, verticillata, dr\",\"\\u003cb\\u003eTopic 0\\u003c\\u002fb\\u003e\\u003cbr\\u003eWords: payment, salary, bivalve, calculator, acquaint\",\"\\u003cb\\u003eTopic 0\\u003c\\u002fb\\u003e\\u003cbr\\u003eWords: remove, grandfather, hve, dare, hodgson\",\"\\u003cb\\u003eTopic 0\\u003c\\u002fb\\u003e\\u003cbr\\u003eWords: april, campbell, clock, lt, leg\",\"\\u003cb\\u003eTopic 0\\u003c\\u002fb\\u003e\\u003cbr\\u003eWords: trust, shell, other, monograph, music\",\"\\u003cb\\u003eTopic 0\\u003c\\u002fb\\u003e\\u003cbr\\u003eWords: cannolstown, cty, bedford, name, palmerston\",\"\\u003cb\\u003eTopic 0\\u003c\\u002fb\\u003e\\u003cbr\\u003eWords: dec, principle, paper, volume, emigrate\",\"\\u003cb\\u003eTopic 0\\u003c\\u002fb\\u003e\\u003cbr\\u003eWords: palmerston, intention, feb, letter, morning\",\"\\u003cb\\u003eTopic 0\\u003c\\u002fb\\u003e\\u003cbr\\u003eWords: correspondence, morning, sativus, herschel, loyd\",\"\\u003cb\\u003eTopic 0\\u003c\\u002fb\\u003e\\u003cbr\\u003eWords: march, interest, ch, one, january\",\"\\u003cb\\u003eTopic 0\\u003c\\u002fb\\u003e\\u003cbr\\u003eWords: salary, business, ariccia, retain, lamarckia\",\"\\u003cb\\u003eTopic 0\\u003c\\u002fb\\u003e\\u003cbr\\u003eWords: subscription, gn, value, union, interest\",\"\\u003cb\\u003eTopic 0\\u003c\\u002fb\\u003e\\u003cbr\\u003eWords: oxymus, tor, sanguinarino, publishing, portfolio\",\"\\u003cb\\u003eTopic 0\\u003c\\u002fb\\u003e\\u003cbr\\u003eWords: ch, comfort, benefit, circumstance, kindness\",\"\\u003cb\\u003eTopic 0\\u003c\\u002fb\\u003e\\u003cbr\\u003eWords: trouble, kindness, sh, theyit, trespassing\"],\"marker\":{\"color\":\"#E69F00\"},\"mode\":\"markers\",\"name\":\"0_palmerston_intention_morning_letter\",\"x\":[\"1819-12-28T08:49:55.200000\",\"1820-06-30T14:24:00\",\"1820-12-29T04:48:00\",\"1821-06-28T19:12:00\",\"1822-06-27T00:00:00\",\"1822-12-25T14:24:00\",\"1823-06-25T04:48:00\",\"1823-12-23T19:12:00\",\"1824-06-22T09:36:00\",\"1824-12-21T00:00:00\",\"1825-06-20T14:24:00\",\"1825-12-19T04:48:00\",\"1826-06-18T19:12:00\",\"1826-12-17T09:36:00\",\"1827-06-17T00:00:00\",\"1827-12-15T14:24:00\",\"1828-06-14T04:48:00\",\"1828-12-12T19:12:00\",\"1829-06-12T09:36:00\"],\"y\":[8,4,2,2,7,7,3,10,11,2,19,197,28,29,17,32,19,43,22],\"type\":\"scatter\"},{\"hoverinfo\":\"text\",\"hovertext\":[\"\\u003cb\\u003eTopic 1\\u003c\\u002fb\\u003e\\u003cbr\\u003eWords: nautilus, pentacrinitis, complanatus, plant, flora\",\"\\u003cb\\u003eTopic 1\\u003c\\u002fb\\u003e\\u003cbr\\u003eWords: verna, fruticosa, lutea, dryas, grimmia\",\"\\u003cb\\u003eTopic 1\\u003c\\u002fb\\u003e\\u003cbr\\u003eWords: lathyrus, pusillum, grandiflora, mariscus, infesta\",\"\\u003cb\\u003eTopic 1\\u003c\\u002fb\\u003e\\u003cbr\\u003eWords: plant, violaceum, glaucium, maritima, orchis\",\"\\u003cb\\u003eTopic 1\\u003c\\u002fb\\u003e\\u003cbr\\u003eWords: prob, tenuiflorus, prenanthe, ornithopus, sylvaticum\",\"\\u003cb\\u003eTopic 1\\u003c\\u002fb\\u003e\\u003cbr\\u003eWords: plant, matrocaria, agaricus, cakile, absinthium\",\"\\u003cb\\u003eTopic 1\\u003c\\u002fb\\u003e\\u003cbr\\u003eWords: specimen, flora, plant, common, english\",\"\\u003cb\\u003eTopic 1\\u003c\\u002fb\\u003e\\u003cbr\\u003eWords: plant, verna, hypocharis, maculata, specimen\",\"\\u003cb\\u003eTopic 1\\u003c\\u002fb\\u003e\\u003cbr\\u003eWords: plant, herbarium, root, flora, officinalis\",\"\\u003cb\\u003eTopic 1\\u003c\\u002fb\\u003e\\u003cbr\\u003eWords: botany, flora, herbarium, acre, plant\",\"\\u003cb\\u003eTopic 1\\u003c\\u002fb\\u003e\\u003cbr\\u003eWords: plant, campanula, arvensis, seed, vulgare\",\"\\u003cb\\u003eTopic 1\\u003c\\u002fb\\u003e\\u003cbr\\u003eWords: plant, flora, vulgaris, viridis, latifolia\",\"\\u003cb\\u003eTopic 1\\u003c\\u002fb\\u003e\\u003cbr\\u003eWords: plant, teucrium, lactuca, cineraria, press\",\"\\u003cb\\u003eTopic 1\\u003c\\u002fb\\u003e\\u003cbr\\u003eWords: maritimum, alisma, jar, plant, statice\",\"\\u003cb\\u003eTopic 1\\u003c\\u002fb\\u003e\\u003cbr\\u003eWords: arvensis, plant, vulgaris, palustris, officinalis\"],\"marker\":{\"color\":\"#56B4E9\"},\"mode\":\"markers\",\"name\":\"1_plant_flora_arvensis_specimen\",\"x\":[\"1819-12-28T08:49:55.200000\",\"1822-06-27T00:00:00\",\"1823-06-25T04:48:00\",\"1823-12-23T19:12:00\",\"1824-06-22T09:36:00\",\"1824-12-21T00:00:00\",\"1825-06-20T14:24:00\",\"1825-12-19T04:48:00\",\"1826-06-18T19:12:00\",\"1826-12-17T09:36:00\",\"1827-06-17T00:00:00\",\"1827-12-15T14:24:00\",\"1828-06-14T04:48:00\",\"1828-12-12T19:12:00\",\"1829-06-12T09:36:00\"],\"y\":[2,6,2,10,2,6,20,12,27,32,28,23,19,14,34],\"type\":\"scatter\"},{\"hoverinfo\":\"text\",\"hovertext\":[\"\\u003cb\\u003eTopic 2\\u003c\\u002fb\\u003e\\u003cbr\\u003eWords: university, parliament, election, interest, vote\",\"\\u003cb\\u003eTopic 2\\u003c\\u002fb\\u003e\\u003cbr\\u003eWords: election, vote, voter, university, support\",\"\\u003cb\\u003eTopic 2\\u003c\\u002fb\\u003e\\u003cbr\\u003eWords: voter, university, measure, expense, vote\"],\"marker\":{\"color\":\"#009E73\"},\"mode\":\"markers\",\"name\":\"2_election_vote_voter_university\",\"x\":[\"1825-06-20T14:24:00\",\"1825-12-19T04:48:00\",\"1826-06-18T19:12:00\"],\"y\":[9,75,8],\"type\":\"scatter\"},{\"hoverinfo\":\"text\",\"hovertext\":[\"\\u003cb\\u003eTopic 3\\u003c\\u002fb\\u003e\\u003cbr\\u003eWords: cambridge, summer, london, college, day\",\"\\u003cb\\u003eTopic 3\\u003c\\u002fb\\u003e\\u003cbr\\u003eWords: horningsea, machaon, fen, mile, cambridge\",\"\\u003cb\\u003eTopic 3\\u003c\\u002fb\\u003e\\u003cbr\\u003eWords: press, society, business, cambridge, college\",\"\\u003cb\\u003eTopic 3\\u003c\\u002fb\\u003e\\u003cbr\\u003eWords: midst, vacation, excuse, cambridge, morning\",\"\\u003cb\\u003eTopic 3\\u003c\\u002fb\\u003e\\u003cbr\\u003eWords: prince, crescent, cimitile, curiosity, casiati\",\"\\u003cb\\u003eTopic 3\\u003c\\u002fb\\u003e\\u003cbr\\u003eWords: sleep, particular, departure, sun, travel\",\"\\u003cb\\u003eTopic 3\\u003c\\u002fb\\u003e\\u003cbr\\u003eWords: jan, cambridge, college, london, day\",\"\\u003cb\\u003eTopic 3\\u003c\\u002fb\\u003e\\u003cbr\\u003eWords: cambridge, bucket, council, stand, cam\",\"\\u003cb\\u003eTopic 3\\u003c\\u002fb\\u003e\\u003cbr\\u003eWords: cambridge, call, london, college, contest\",\"\\u003cb\\u003eTopic 3\\u003c\\u002fb\\u003e\\u003cbr\\u003eWords: cambridge, market, wilder, siskin, coot\",\"\\u003cb\\u003eTopic 3\\u003c\\u002fb\\u003e\\u003cbr\\u003eWords: rent, magdalen, property, eng, college\",\"\\u003cb\\u003eTopic 3\\u003c\\u002fb\\u003e\\u003cbr\\u003eWords: september, leonard, copy, cambridge, college\",\"\\u003cb\\u003eTopic 3\\u003c\\u002fb\\u003e\\u003cbr\\u003eWords: cambridge, bachelorship, life, march, socy\",\"\\u003cb\\u003eTopic 3\\u003c\\u002fb\\u003e\\u003cbr\\u003eWords: margate, forw, rd, excuse, cambridge\",\"\\u003cb\\u003eTopic 3\\u003c\\u002fb\\u003e\\u003cbr\\u003eWords: hopkinson, leacock, christy, acc, regent\",\"\\u003cb\\u003eTopic 3\\u003c\\u002fb\\u003e\\u003cbr\\u003eWords: gloucestershire, cambridge, cam, print, college\"],\"marker\":{\"color\":\"#F0E442\"},\"mode\":\"markers\",\"name\":\"3_cambridge_college_london_day\",\"x\":[\"1819-12-28T08:49:55.200000\",\"1820-06-30T14:24:00\",\"1820-12-29T04:48:00\",\"1821-06-28T19:12:00\",\"1822-06-27T00:00:00\",\"1824-06-22T09:36:00\",\"1824-12-21T00:00:00\",\"1825-06-20T14:24:00\",\"1825-12-19T04:48:00\",\"1826-06-18T19:12:00\",\"1826-12-17T09:36:00\",\"1827-06-17T00:00:00\",\"1827-12-15T14:24:00\",\"1828-06-14T04:48:00\",\"1828-12-12T19:12:00\",\"1829-06-12T09:36:00\"],\"y\":[2,1,1,1,1,1,1,2,16,6,2,1,8,3,3,2],\"type\":\"scatter\"},{\"hoverinfo\":\"text\",\"hovertext\":[\"\\u003cb\\u003eTopic 4\\u003c\\u002fb\\u003e\\u003cbr\\u003eWords: copley, moity, gout, sult, palmerstone\",\"\\u003cb\\u003eTopic 4\\u003c\\u002fb\\u003e\\u003cbr\\u003eWords: copley, plumper, banke, goulburn, exchange\",\"\\u003cb\\u003eTopic 4\\u003c\\u002fb\\u003e\\u003cbr\\u003eWords: copley, godson, goulburn, barrett, madingley\"],\"marker\":{\"color\":\"#D55E00\"},\"mode\":\"markers\",\"name\":\"4_copley_plumper_banke_goulburn\",\"x\":[\"1825-06-20T14:24:00\",\"1825-12-19T04:48:00\",\"1826-06-18T19:12:00\"],\"y\":[6,33,3],\"type\":\"scatter\"},{\"hoverinfo\":\"text\",\"hovertext\":[\"\\u003cb\\u003eTopic 5\\u003c\\u002fb\\u003e\\u003cbr\\u003eWords: respect, promise, compliment, pardon, grant\",\"\\u003cb\\u003eTopic 5\\u003c\\u002fb\\u003e\\u003cbr\\u003eWords: compliment, promise, respect, pardon, grant\",\"\\u003cb\\u003eTopic 5\\u003c\\u002fb\\u003e\\u003cbr\\u003eWords: lyon, william, respect, promise, compliment\",\"\\u003cb\\u003eTopic 5\\u003c\\u002fb\\u003e\\u003cbr\\u003eWords: promise, compliment, grant, master, respect\",\"\\u003cb\\u003eTopic 5\\u003c\\u002fb\\u003e\\u003cbr\\u003eWords: compliment, promise, respect, pardon, grant\",\"\\u003cb\\u003eTopic 5\\u003c\\u002fb\\u003e\\u003cbr\\u003eWords: pardon, question, service, promise, compliment\",\"\\u003cb\\u003eTopic 5\\u003c\\u002fb\\u003e\\u003cbr\\u003eWords: compliment, futurity, pardon, whewell, promise\",\"\\u003cb\\u003eTopic 5\\u003c\\u002fb\\u003e\\u003cbr\\u003eWords: join, intrusion, promise, pardon, deference\",\"\\u003cb\\u003eTopic 5\\u003c\\u002fb\\u003e\\u003cbr\\u003eWords: compliment, whewel, friedlaender, promise, brown\",\"\\u003cb\\u003eTopic 5\\u003c\\u002fb\\u003e\\u003cbr\\u003eWords: sincerity, despair, pardon, seeing, bolt\"],\"marker\":{\"color\":\"#0072B2\"},\"mode\":\"markers\",\"name\":\"5_promise_compliment_respect_pardon\",\"x\":[\"1822-06-27T00:00:00\",\"1822-12-25T14:24:00\",\"1823-12-23T19:12:00\",\"1825-12-19T04:48:00\",\"1826-06-18T19:12:00\",\"1826-12-17T09:36:00\",\"1827-12-15T14:24:00\",\"1828-06-14T04:48:00\",\"1828-12-12T19:12:00\",\"1829-06-12T09:36:00\"],\"y\":[1,1,1,22,1,1,3,4,3,3],\"type\":\"scatter\"},{\"hoverinfo\":\"text\",\"hovertext\":[\"\\u003cb\\u003eTopic 6\\u003c\\u002fb\\u003e\\u003cbr\\u003eWords: insect, entomology, jenyns, melbourne, grove\",\"\\u003cb\\u003eTopic 6\\u003c\\u002fb\\u003e\\u003cbr\\u003eWords: insect, town, foeniculum, aenethum, anniversary\",\"\\u003cb\\u003eTopic 6\\u003c\\u002fb\\u003e\\u003cbr\\u003eWords: physician, insect, shop, poison, palermo\",\"\\u003cb\\u003eTopic 6\\u003c\\u002fb\\u003e\\u003cbr\\u003eWords: insect, bombyx, entomology, curtis, dispar\",\"\\u003cb\\u003eTopic 6\\u003c\\u002fb\\u003e\\u003cbr\\u003eWords: insect, melbourne, jaw, shrike, insectivori\",\"\\u003cb\\u003eTopic 6\\u003c\\u002fb\\u003e\\u003cbr\\u003eWords: grove, insect, obligation, entomology, tribute\",\"\\u003cb\\u003eTopic 6\\u003c\\u002fb\\u003e\\u003cbr\\u003eWords: insect, hunted, locust, period, thing\",\"\\u003cb\\u003eTopic 6\\u003c\\u002fb\\u003e\\u003cbr\\u003eWords: insect, entomology, study, owner, conchology\",\"\\u003cb\\u003eTopic 6\\u003c\\u002fb\\u003e\\u003cbr\\u003eWords: insect, entomology, jenyns, prop, panageus\"],\"marker\":{\"color\":\"#CC79A7\"},\"mode\":\"markers\",\"name\":\"6_insect_entomology_jenyns_grove\",\"x\":[\"1820-12-29T04:48:00\",\"1824-12-21T00:00:00\",\"1825-06-20T14:24:00\",\"1825-12-19T04:48:00\",\"1826-06-18T19:12:00\",\"1827-06-17T00:00:00\",\"1827-12-15T14:24:00\",\"1828-06-14T04:48:00\",\"1828-12-12T19:12:00\"],\"y\":[1,4,1,5,4,2,3,7,5],\"type\":\"scatter\"},{\"hoverinfo\":\"text\",\"hovertext\":[\"\\u003cb\\u003eTopic 7\\u003c\\u002fb\\u003e\\u003cbr\\u003eWords: pupil, iron, pencil, illustration, plate\",\"\\u003cb\\u003eTopic 7\\u003c\\u002fb\\u003e\\u003cbr\\u003eWords: pencil, line, illustration, plate, folio\",\"\\u003cb\\u003eTopic 7\\u003c\\u002fb\\u003e\\u003cbr\\u003eWords: shall, draw, pencil, mule, intention\",\"\\u003cb\\u003eTopic 7\\u003c\\u002fb\\u003e\\u003cbr\\u003eWords: pencil, caryophyllus, remembrance, hybrid, sketch\",\"\\u003cb\\u003eTopic 7\\u003c\\u002fb\\u003e\\u003cbr\\u003eWords: alteration, pencil, illustration, plate, folio\",\"\\u003cb\\u003eTopic 7\\u003c\\u002fb\\u003e\\u003cbr\\u003eWords: illustration, pencil, folio, elephant, drawing\",\"\\u003cb\\u003eTopic 7\\u003c\\u002fb\\u003e\\u003cbr\\u003eWords: plate, illiger, folio, colour, col\",\"\\u003cb\\u003eTopic 7\\u003c\\u002fb\\u003e\\u003cbr\\u003eWords: cost, plate, paper, pencil, illustration\",\"\\u003cb\\u003eTopic 7\\u003c\\u002fb\\u003e\\u003cbr\\u003eWords: mare, naturelle, magnum, concoct, pen\",\"\\u003cb\\u003eTopic 7\\u003c\\u002fb\\u003e\\u003cbr\\u003eWords: outline, publication, hooker, dr, plant\",\"\\u003cb\\u003eTopic 7\\u003c\\u002fb\\u003e\\u003cbr\\u003eWords: pencil, illustration, string, spp, prospecti\"],\"marker\":{\"color\":\"#E69F00\"},\"mode\":\"markers\",\"name\":\"7_pencil_illustration_plate_folio\",\"x\":[\"1819-12-28T08:49:55.200000\",\"1820-12-29T04:48:00\",\"1823-12-23T19:12:00\",\"1825-06-20T14:24:00\",\"1825-12-19T04:48:00\",\"1826-12-17T09:36:00\",\"1827-06-17T00:00:00\",\"1827-12-15T14:24:00\",\"1828-06-14T04:48:00\",\"1828-12-12T19:12:00\",\"1829-06-12T09:36:00\"],\"y\":[1,1,2,6,1,8,2,1,1,2,4],\"type\":\"scatter\"},{\"hoverinfo\":\"text\",\"hovertext\":[\"\\u003cb\\u003eTopic 8\\u003c\\u002fb\\u003e\\u003cbr\\u003eWords: diluvium, deluvium, boundary, colours, port\",\"\\u003cb\\u003eTopic 8\\u003c\\u002fb\\u003e\\u003cbr\\u003eWords: crystal, acid, lime, alumina, iron\",\"\\u003cb\\u003eTopic 8\\u003c\\u002fb\\u003e\\u003cbr\\u003eWords: hypothesis, calton, bonfire, tar, coal\",\"\\u003cb\\u003eTopic 8\\u003c\\u002fb\\u003e\\u003cbr\\u003eWords: syllabus, wh, mineralogy, trust, desiderata\",\"\\u003cb\\u003eTopic 8\\u003c\\u002fb\\u003e\\u003cbr\\u003eWords: coke, spar, infiltration, coley, cinder\",\"\\u003cb\\u003eTopic 8\\u003c\\u002fb\\u003e\\u003cbr\\u003eWords: cavern, granite, slay, telescope, partition\",\"\\u003cb\\u003eTopic 8\\u003c\\u002fb\\u003e\\u003cbr\\u003eWords: indigo, tufas, lavas, sepia, depth\",\"\\u003cb\\u003eTopic 8\\u003c\\u002fb\\u003e\\u003cbr\\u003eWords: lime, chalk, oxide, acid, alumina\",\"\\u003cb\\u003eTopic 8\\u003c\\u002fb\\u003e\\u003cbr\\u003eWords: slate, limestone, rock, lime, acid\"],\"marker\":{\"color\":\"#56B4E9\"},\"mode\":\"markers\",\"name\":\"8_lime_acid_alumina_crystal\",\"x\":[\"1820-12-29T04:48:00\",\"1821-06-28T19:12:00\",\"1822-12-25T14:24:00\",\"1823-06-25T04:48:00\",\"1823-12-23T19:12:00\",\"1825-12-19T04:48:00\",\"1826-12-17T09:36:00\",\"1827-12-15T14:24:00\",\"1829-06-12T09:36:00\"],\"y\":[1,11,1,1,2,1,2,7,1],\"type\":\"scatter\"},{\"hoverinfo\":\"text\",\"hovertext\":[\"\\u003cb\\u003eTopic 9\\u003c\\u002fb\\u003e\\u003cbr\\u003eWords: satr, clark, mot, lecture, course\",\"\\u003cb\\u003eTopic 9\\u003c\\u002fb\\u003e\\u003cbr\\u003eWords: course, policy, persue, system, book\",\"\\u003cb\\u003eTopic 9\\u003c\\u002fb\\u003e\\u003cbr\\u003eWords: course, lecture, class, classroom, lecturer\",\"\\u003cb\\u003eTopic 9\\u003c\\u002fb\\u003e\\u003cbr\\u003eWords: class, course, lecture, commence, portion\",\"\\u003cb\\u003eTopic 9\\u003c\\u002fb\\u003e\\u003cbr\\u003eWords: class, course, sacrament, audience, gace\",\"\\u003cb\\u003eTopic 9\\u003c\\u002fb\\u003e\\u003cbr\\u003eWords: admiration, teaching, scholar, method, nat\"],\"marker\":{\"color\":\"#009E73\"},\"mode\":\"markers\",\"name\":\"9_course_class_lecture_commence\",\"x\":[\"1819-12-28T08:49:55.200000\",\"1825-12-19T04:48:00\",\"1826-12-17T09:36:00\",\"1827-12-15T14:24:00\",\"1828-12-12T19:12:00\",\"1829-06-12T09:36:00\"],\"y\":[1,2,14,3,3,3],\"type\":\"scatter\"},{\"hoverinfo\":\"text\",\"hovertext\":[\"\\u003cb\\u003eTopic 10\\u003c\\u002fb\\u003e\\u003cbr\\u003eWords: erection, fracture, room, house, home\",\"\\u003cb\\u003eTopic 10\\u003c\\u002fb\\u003e\\u003cbr\\u003eWords: coffee, theatre, room, soul, tonight\",\"\\u003cb\\u003eTopic 10\\u003c\\u002fb\\u003e\\u003cbr\\u003eWords: room, auction, particular, house, society\",\"\\u003cb\\u003eTopic 10\\u003c\\u002fb\\u003e\\u003cbr\\u003eWords: room, house, mary, intend, flat\",\"\\u003cb\\u003eTopic 10\\u003c\\u002fb\\u003e\\u003cbr\\u003eWords: wait, hall, home, room, house\",\"\\u003cb\\u003eTopic 10\\u003c\\u002fb\\u003e\\u003cbr\\u003eWords: house, length, foot, room, home\",\"\\u003cb\\u003eTopic 10\\u003c\\u002fb\\u003e\\u003cbr\\u003eWords: bed, house, room, home, society\",\"\\u003cb\\u003eTopic 10\\u003c\\u002fb\\u003e\\u003cbr\\u003eWords: room, house, parent, cray, reading\"],\"marker\":{\"color\":\"#F0E442\"},\"mode\":\"markers\",\"name\":\"10_room_house_home_society\",\"x\":[\"1823-12-23T19:12:00\",\"1824-06-22T09:36:00\",\"1825-06-20T14:24:00\",\"1825-12-19T04:48:00\",\"1826-06-18T19:12:00\",\"1826-12-17T09:36:00\",\"1828-12-12T19:12:00\",\"1829-06-12T09:36:00\"],\"y\":[2,3,2,8,1,2,1,4],\"type\":\"scatter\"},{\"hoverinfo\":\"text\",\"hovertext\":[\"\\u003cb\\u003eTopic 11\\u003c\\u002fb\\u003e\\u003cbr\\u003eWords: quadruped, ass, horse, committee, newmarket\",\"\\u003cb\\u003eTopic 11\\u003c\\u002fb\\u003e\\u003cbr\\u003eWords: horse, waltham, committee, cross, post\",\"\\u003cb\\u003eTopic 11\\u003c\\u002fb\\u003e\\u003cbr\\u003eWords: horse, cattle, fillip, negligence, landlord\",\"\\u003cb\\u003eTopic 11\\u003c\\u002fb\\u003e\\u003cbr\\u003eWords: freckenham, horse, wiseman, waggon, newmarket\",\"\\u003cb\\u003eTopic 11\\u003c\\u002fb\\u003e\\u003cbr\\u003eWords: nott, derby, mine, horse, committee\"],\"marker\":{\"color\":\"#D55E00\"},\"mode\":\"markers\",\"name\":\"11_horse_committee_newmarket_waltham\",\"x\":[\"1823-12-23T19:12:00\",\"1825-12-19T04:48:00\",\"1826-06-18T19:12:00\",\"1827-12-15T14:24:00\",\"1828-12-12T19:12:00\"],\"y\":[1,16,2,1,1],\"type\":\"scatter\"},{\"hoverinfo\":\"text\",\"hovertext\":[\"\\u003cb\\u003eTopic 12\\u003c\\u002fb\\u003e\\u003cbr\\u003eWords: hold, revenue, officer, package, event\",\"\\u003cb\\u003eTopic 12\\u003c\\u002fb\\u003e\\u003cbr\\u003eWords: committee, room, letter, stan_june, evening\",\"\\u003cb\\u003eTopic 12\\u003c\\u002fb\\u003e\\u003cbr\\u003eWords: expense, committee, room, letter, stan_june\",\"\\u003cb\\u003eTopic 12\\u003c\\u002fb\\u003e\\u003cbr\\u003eWords: committee, birth, transferring, bennett, thereon\"],\"marker\":{\"color\":\"#0072B2\"},\"mode\":\"markers\",\"name\":\"12_committee_room_letter_stan_june\",\"x\":[\"1823-12-23T19:12:00\",\"1825-12-19T04:48:00\",\"1826-06-18T19:12:00\",\"1828-06-14T04:48:00\"],\"y\":[1,17,1,1],\"type\":\"scatter\"},{\"hoverinfo\":\"text\",\"hovertext\":[\"\\u003cb\\u003eTopic 13\\u003c\\u002fb\\u003e\\u003cbr\\u003eWords: help, parcell, fossil, trouble, parcel\",\"\\u003cb\\u003eTopic 13\\u003c\\u002fb\\u003e\\u003cbr\\u003eWords: packet, joint, arrival, convey, acknowledging\",\"\\u003cb\\u003eTopic 13\\u003c\\u002fb\\u003e\\u003cbr\\u003eWords: parcel, cradock, row, pater, noster\",\"\\u003cb\\u003eTopic 13\\u003c\\u002fb\\u003e\\u003cbr\\u003eWords: parcel, acceptable, package, care, purpose\",\"\\u003cb\\u003eTopic 13\\u003c\\u002fb\\u003e\\u003cbr\\u003eWords: case, bird, collection, parcel, counsel\",\"\\u003cb\\u003eTopic 13\\u003c\\u002fb\\u003e\\u003cbr\\u003eWords: parcel, noster, pater, row, esmeraldas\",\"\\u003cb\\u003eTopic 13\\u003c\\u002fb\\u003e\\u003cbr\\u003eWords: parcel, sh, moss, collection, plant\"],\"marker\":{\"color\":\"#CC79A7\"},\"mode\":\"markers\",\"name\":\"13_parcel_case_collection_bird\",\"x\":[\"1819-12-28T08:49:55.200000\",\"1825-06-20T14:24:00\",\"1826-12-17T09:36:00\",\"1827-06-17T00:00:00\",\"1827-12-15T14:24:00\",\"1828-06-14T04:48:00\",\"1829-06-12T09:36:00\"],\"y\":[1,3,5,3,1,4,2],\"type\":\"scatter\"},{\"hoverinfo\":\"text\",\"hovertext\":[\"\\u003cb\\u003eTopic 14\\u003c\\u002fb\\u003e\\u003cbr\\u003eWords: assure, collection, cryptogamia, thing, instance\",\"\\u003cb\\u003eTopic 14\\u003c\\u002fb\\u003e\\u003cbr\\u003eWords: vase, countryman, dollar, tomb, possessor\",\"\\u003cb\\u003eTopic 14\\u003c\\u002fb\\u003e\\u003cbr\\u003eWords: miller, collector, collection, thing, world\",\"\\u003cb\\u003eTopic 14\\u003c\\u002fb\\u003e\\u003cbr\\u003eWords: cryptogamia, collection, thing, trading, calculate\",\"\\u003cb\\u003eTopic 14\\u003c\\u002fb\\u003e\\u003cbr\\u003eWords: collection, cryptogamia, thing, instance, possessor\",\"\\u003cb\\u003eTopic 14\\u003c\\u002fb\\u003e\\u003cbr\\u003eWords: collection, cryptogamica, collectanea, alg\\u00e6, portion\",\"\\u003cb\\u003eTopic 14\\u003c\\u002fb\\u003e\\u003cbr\\u003eWords: collection, cryptogamma, aut, mess, gymnogamma\",\"\\u003cb\\u003eTopic 14\\u003c\\u002fb\\u003e\\u003cbr\\u003eWords: collection, mathew, treasure, jungermannia, prevent\"],\"marker\":{\"color\":\"#E69F00\"},\"mode\":\"markers\",\"name\":\"14_collection_cryptogamia_thing_instance\",\"x\":[\"1824-12-21T00:00:00\",\"1825-06-20T14:24:00\",\"1825-12-19T04:48:00\",\"1826-12-17T09:36:00\",\"1827-06-17T00:00:00\",\"1827-12-15T14:24:00\",\"1828-12-12T19:12:00\",\"1829-06-12T09:36:00\"],\"y\":[1,2,2,4,1,3,4,2],\"type\":\"scatter\"}],                        {\"template\":{\"data\":{\"barpolar\":[{\"marker\":{\"line\":{\"color\":\"white\",\"width\":0.5},\"pattern\":{\"fillmode\":\"overlay\",\"size\":10,\"solidity\":0.2}},\"type\":\"barpolar\"}],\"bar\":[{\"error_x\":{\"color\":\"rgb(36,36,36)\"},\"error_y\":{\"color\":\"rgb(36,36,36)\"},\"marker\":{\"line\":{\"color\":\"white\",\"width\":0.5},\"pattern\":{\"fillmode\":\"overlay\",\"size\":10,\"solidity\":0.2}},\"type\":\"bar\"}],\"carpet\":[{\"aaxis\":{\"endlinecolor\":\"rgb(36,36,36)\",\"gridcolor\":\"white\",\"linecolor\":\"white\",\"minorgridcolor\":\"white\",\"startlinecolor\":\"rgb(36,36,36)\"},\"baxis\":{\"endlinecolor\":\"rgb(36,36,36)\",\"gridcolor\":\"white\",\"linecolor\":\"white\",\"minorgridcolor\":\"white\",\"startlinecolor\":\"rgb(36,36,36)\"},\"type\":\"carpet\"}],\"choropleth\":[{\"colorbar\":{\"outlinewidth\":1,\"tickcolor\":\"rgb(36,36,36)\",\"ticks\":\"outside\"},\"type\":\"choropleth\"}],\"contourcarpet\":[{\"colorbar\":{\"outlinewidth\":1,\"tickcolor\":\"rgb(36,36,36)\",\"ticks\":\"outside\"},\"type\":\"contourcarpet\"}],\"contour\":[{\"colorbar\":{\"outlinewidth\":1,\"tickcolor\":\"rgb(36,36,36)\",\"ticks\":\"outside\"},\"colorscale\":[[0.0,\"#440154\"],[0.1111111111111111,\"#482878\"],[0.2222222222222222,\"#3e4989\"],[0.3333333333333333,\"#31688e\"],[0.4444444444444444,\"#26828e\"],[0.5555555555555556,\"#1f9e89\"],[0.6666666666666666,\"#35b779\"],[0.7777777777777778,\"#6ece58\"],[0.8888888888888888,\"#b5de2b\"],[1.0,\"#fde725\"]],\"type\":\"contour\"}],\"heatmapgl\":[{\"colorbar\":{\"outlinewidth\":1,\"tickcolor\":\"rgb(36,36,36)\",\"ticks\":\"outside\"},\"colorscale\":[[0.0,\"#440154\"],[0.1111111111111111,\"#482878\"],[0.2222222222222222,\"#3e4989\"],[0.3333333333333333,\"#31688e\"],[0.4444444444444444,\"#26828e\"],[0.5555555555555556,\"#1f9e89\"],[0.6666666666666666,\"#35b779\"],[0.7777777777777778,\"#6ece58\"],[0.8888888888888888,\"#b5de2b\"],[1.0,\"#fde725\"]],\"type\":\"heatmapgl\"}],\"heatmap\":[{\"colorbar\":{\"outlinewidth\":1,\"tickcolor\":\"rgb(36,36,36)\",\"ticks\":\"outside\"},\"colorscale\":[[0.0,\"#440154\"],[0.1111111111111111,\"#482878\"],[0.2222222222222222,\"#3e4989\"],[0.3333333333333333,\"#31688e\"],[0.4444444444444444,\"#26828e\"],[0.5555555555555556,\"#1f9e89\"],[0.6666666666666666,\"#35b779\"],[0.7777777777777778,\"#6ece58\"],[0.8888888888888888,\"#b5de2b\"],[1.0,\"#fde725\"]],\"type\":\"heatmap\"}],\"histogram2dcontour\":[{\"colorbar\":{\"outlinewidth\":1,\"tickcolor\":\"rgb(36,36,36)\",\"ticks\":\"outside\"},\"colorscale\":[[0.0,\"#440154\"],[0.1111111111111111,\"#482878\"],[0.2222222222222222,\"#3e4989\"],[0.3333333333333333,\"#31688e\"],[0.4444444444444444,\"#26828e\"],[0.5555555555555556,\"#1f9e89\"],[0.6666666666666666,\"#35b779\"],[0.7777777777777778,\"#6ece58\"],[0.8888888888888888,\"#b5de2b\"],[1.0,\"#fde725\"]],\"type\":\"histogram2dcontour\"}],\"histogram2d\":[{\"colorbar\":{\"outlinewidth\":1,\"tickcolor\":\"rgb(36,36,36)\",\"ticks\":\"outside\"},\"colorscale\":[[0.0,\"#440154\"],[0.1111111111111111,\"#482878\"],[0.2222222222222222,\"#3e4989\"],[0.3333333333333333,\"#31688e\"],[0.4444444444444444,\"#26828e\"],[0.5555555555555556,\"#1f9e89\"],[0.6666666666666666,\"#35b779\"],[0.7777777777777778,\"#6ece58\"],[0.8888888888888888,\"#b5de2b\"],[1.0,\"#fde725\"]],\"type\":\"histogram2d\"}],\"histogram\":[{\"marker\":{\"line\":{\"color\":\"white\",\"width\":0.6}},\"type\":\"histogram\"}],\"mesh3d\":[{\"colorbar\":{\"outlinewidth\":1,\"tickcolor\":\"rgb(36,36,36)\",\"ticks\":\"outside\"},\"type\":\"mesh3d\"}],\"parcoords\":[{\"line\":{\"colorbar\":{\"outlinewidth\":1,\"tickcolor\":\"rgb(36,36,36)\",\"ticks\":\"outside\"}},\"type\":\"parcoords\"}],\"pie\":[{\"automargin\":true,\"type\":\"pie\"}],\"scatter3d\":[{\"line\":{\"colorbar\":{\"outlinewidth\":1,\"tickcolor\":\"rgb(36,36,36)\",\"ticks\":\"outside\"}},\"marker\":{\"colorbar\":{\"outlinewidth\":1,\"tickcolor\":\"rgb(36,36,36)\",\"ticks\":\"outside\"}},\"type\":\"scatter3d\"}],\"scattercarpet\":[{\"marker\":{\"colorbar\":{\"outlinewidth\":1,\"tickcolor\":\"rgb(36,36,36)\",\"ticks\":\"outside\"}},\"type\":\"scattercarpet\"}],\"scattergeo\":[{\"marker\":{\"colorbar\":{\"outlinewidth\":1,\"tickcolor\":\"rgb(36,36,36)\",\"ticks\":\"outside\"}},\"type\":\"scattergeo\"}],\"scattergl\":[{\"marker\":{\"colorbar\":{\"outlinewidth\":1,\"tickcolor\":\"rgb(36,36,36)\",\"ticks\":\"outside\"}},\"type\":\"scattergl\"}],\"scattermapbox\":[{\"marker\":{\"colorbar\":{\"outlinewidth\":1,\"tickcolor\":\"rgb(36,36,36)\",\"ticks\":\"outside\"}},\"type\":\"scattermapbox\"}],\"scatterpolargl\":[{\"marker\":{\"colorbar\":{\"outlinewidth\":1,\"tickcolor\":\"rgb(36,36,36)\",\"ticks\":\"outside\"}},\"type\":\"scatterpolargl\"}],\"scatterpolar\":[{\"marker\":{\"colorbar\":{\"outlinewidth\":1,\"tickcolor\":\"rgb(36,36,36)\",\"ticks\":\"outside\"}},\"type\":\"scatterpolar\"}],\"scatter\":[{\"fillpattern\":{\"fillmode\":\"overlay\",\"size\":10,\"solidity\":0.2},\"type\":\"scatter\"}],\"scatterternary\":[{\"marker\":{\"colorbar\":{\"outlinewidth\":1,\"tickcolor\":\"rgb(36,36,36)\",\"ticks\":\"outside\"}},\"type\":\"scatterternary\"}],\"surface\":[{\"colorbar\":{\"outlinewidth\":1,\"tickcolor\":\"rgb(36,36,36)\",\"ticks\":\"outside\"},\"colorscale\":[[0.0,\"#440154\"],[0.1111111111111111,\"#482878\"],[0.2222222222222222,\"#3e4989\"],[0.3333333333333333,\"#31688e\"],[0.4444444444444444,\"#26828e\"],[0.5555555555555556,\"#1f9e89\"],[0.6666666666666666,\"#35b779\"],[0.7777777777777778,\"#6ece58\"],[0.8888888888888888,\"#b5de2b\"],[1.0,\"#fde725\"]],\"type\":\"surface\"}],\"table\":[{\"cells\":{\"fill\":{\"color\":\"rgb(237,237,237)\"},\"line\":{\"color\":\"white\"}},\"header\":{\"fill\":{\"color\":\"rgb(217,217,217)\"},\"line\":{\"color\":\"white\"}},\"type\":\"table\"}]},\"layout\":{\"annotationdefaults\":{\"arrowhead\":0,\"arrowwidth\":1},\"autotypenumbers\":\"strict\",\"coloraxis\":{\"colorbar\":{\"outlinewidth\":1,\"tickcolor\":\"rgb(36,36,36)\",\"ticks\":\"outside\"}},\"colorscale\":{\"diverging\":[[0.0,\"rgb(103,0,31)\"],[0.1,\"rgb(178,24,43)\"],[0.2,\"rgb(214,96,77)\"],[0.3,\"rgb(244,165,130)\"],[0.4,\"rgb(253,219,199)\"],[0.5,\"rgb(247,247,247)\"],[0.6,\"rgb(209,229,240)\"],[0.7,\"rgb(146,197,222)\"],[0.8,\"rgb(67,147,195)\"],[0.9,\"rgb(33,102,172)\"],[1.0,\"rgb(5,48,97)\"]],\"sequential\":[[0.0,\"#440154\"],[0.1111111111111111,\"#482878\"],[0.2222222222222222,\"#3e4989\"],[0.3333333333333333,\"#31688e\"],[0.4444444444444444,\"#26828e\"],[0.5555555555555556,\"#1f9e89\"],[0.6666666666666666,\"#35b779\"],[0.7777777777777778,\"#6ece58\"],[0.8888888888888888,\"#b5de2b\"],[1.0,\"#fde725\"]],\"sequentialminus\":[[0.0,\"#440154\"],[0.1111111111111111,\"#482878\"],[0.2222222222222222,\"#3e4989\"],[0.3333333333333333,\"#31688e\"],[0.4444444444444444,\"#26828e\"],[0.5555555555555556,\"#1f9e89\"],[0.6666666666666666,\"#35b779\"],[0.7777777777777778,\"#6ece58\"],[0.8888888888888888,\"#b5de2b\"],[1.0,\"#fde725\"]]},\"colorway\":[\"#1F77B4\",\"#FF7F0E\",\"#2CA02C\",\"#D62728\",\"#9467BD\",\"#8C564B\",\"#E377C2\",\"#7F7F7F\",\"#BCBD22\",\"#17BECF\"],\"font\":{\"color\":\"rgb(36,36,36)\"},\"geo\":{\"bgcolor\":\"white\",\"lakecolor\":\"white\",\"landcolor\":\"white\",\"showlakes\":true,\"showland\":true,\"subunitcolor\":\"white\"},\"hoverlabel\":{\"align\":\"left\"},\"hovermode\":\"closest\",\"mapbox\":{\"style\":\"light\"},\"paper_bgcolor\":\"white\",\"plot_bgcolor\":\"white\",\"polar\":{\"angularaxis\":{\"gridcolor\":\"rgb(232,232,232)\",\"linecolor\":\"rgb(36,36,36)\",\"showgrid\":false,\"showline\":true,\"ticks\":\"outside\"},\"bgcolor\":\"white\",\"radialaxis\":{\"gridcolor\":\"rgb(232,232,232)\",\"linecolor\":\"rgb(36,36,36)\",\"showgrid\":false,\"showline\":true,\"ticks\":\"outside\"}},\"scene\":{\"xaxis\":{\"backgroundcolor\":\"white\",\"gridcolor\":\"rgb(232,232,232)\",\"gridwidth\":2,\"linecolor\":\"rgb(36,36,36)\",\"showbackground\":true,\"showgrid\":false,\"showline\":true,\"ticks\":\"outside\",\"zeroline\":false,\"zerolinecolor\":\"rgb(36,36,36)\"},\"yaxis\":{\"backgroundcolor\":\"white\",\"gridcolor\":\"rgb(232,232,232)\",\"gridwidth\":2,\"linecolor\":\"rgb(36,36,36)\",\"showbackground\":true,\"showgrid\":false,\"showline\":true,\"ticks\":\"outside\",\"zeroline\":false,\"zerolinecolor\":\"rgb(36,36,36)\"},\"zaxis\":{\"backgroundcolor\":\"white\",\"gridcolor\":\"rgb(232,232,232)\",\"gridwidth\":2,\"linecolor\":\"rgb(36,36,36)\",\"showbackground\":true,\"showgrid\":false,\"showline\":true,\"ticks\":\"outside\",\"zeroline\":false,\"zerolinecolor\":\"rgb(36,36,36)\"}},\"shapedefaults\":{\"fillcolor\":\"black\",\"line\":{\"width\":0},\"opacity\":0.3},\"ternary\":{\"aaxis\":{\"gridcolor\":\"rgb(232,232,232)\",\"linecolor\":\"rgb(36,36,36)\",\"showgrid\":false,\"showline\":true,\"ticks\":\"outside\"},\"baxis\":{\"gridcolor\":\"rgb(232,232,232)\",\"linecolor\":\"rgb(36,36,36)\",\"showgrid\":false,\"showline\":true,\"ticks\":\"outside\"},\"bgcolor\":\"white\",\"caxis\":{\"gridcolor\":\"rgb(232,232,232)\",\"linecolor\":\"rgb(36,36,36)\",\"showgrid\":false,\"showline\":true,\"ticks\":\"outside\"}},\"title\":{\"x\":0.05},\"xaxis\":{\"automargin\":true,\"gridcolor\":\"rgb(232,232,232)\",\"linecolor\":\"rgb(36,36,36)\",\"showgrid\":false,\"showline\":true,\"ticks\":\"outside\",\"title\":{\"standoff\":15},\"zeroline\":false,\"zerolinecolor\":\"rgb(36,36,36)\"},\"yaxis\":{\"automargin\":true,\"gridcolor\":\"rgb(232,232,232)\",\"linecolor\":\"rgb(36,36,36)\",\"showgrid\":false,\"showline\":true,\"ticks\":\"outside\",\"title\":{\"standoff\":15},\"zeroline\":false,\"zerolinecolor\":\"rgb(36,36,36)\"}}},\"xaxis\":{\"showgrid\":true},\"yaxis\":{\"showgrid\":true,\"title\":{\"text\":\"Count\"}},\"title\":{\"font\":{\"size\":22,\"color\":\"Black\"},\"text\":\"\\u003cb\\u003eTopics over Time\\u003c\\u002fb\\u003e\",\"y\":0.95,\"x\":0.4,\"xanchor\":\"center\",\"yanchor\":\"top\"},\"hoverlabel\":{\"font\":{\"size\":16,\"family\":\"Rockwell\"},\"bgcolor\":\"white\"},\"width\":1000,\"height\":500,\"legend\":{\"title\":{\"text\":\"\\u003cb\\u003eGlobal Topic Representation\"}}},                        {\"responsive\": true}                    ).then(function(){\n",
       "                            \n",
       "var gd = document.getElementById('429a852b-8535-4814-8b51-a9b9de433ac2');\n",
       "var x = new MutationObserver(function (mutations, observer) {{\n",
       "        var display = window.getComputedStyle(gd).display;\n",
       "        if (!display || display === 'none') {{\n",
       "            console.log([gd, 'removed!']);\n",
       "            Plotly.purge(gd);\n",
       "            observer.disconnect();\n",
       "        }}\n",
       "}});\n",
       "\n",
       "// Listen for the removal of the full notebook cells\n",
       "var notebookContainer = gd.closest('#notebook-container');\n",
       "if (notebookContainer) {{\n",
       "    x.observe(notebookContainer, {childList: true});\n",
       "}}\n",
       "\n",
       "// Listen for the clearing of the current output cell\n",
       "var outputEl = gd.closest('.output');\n",
       "if (outputEl) {{\n",
       "    x.observe(outputEl, {childList: true});\n",
       "}}\n",
       "\n",
       "                        })                };                });            </script>        </div>"
      ]
     },
     "metadata": {},
     "output_type": "display_data"
    }
   ],
   "source": [
    "sent_df_year_restrict_20_vis_obj = bertopic_time(sent_df_year_restrict_20, topic_model)\n",
    "sent_df_year_restrict_20_vis = sent_df_year_restrict_20_vis_obj[0]\n",
    "sent_df_year_restrict_20_vis"
   ]
  },
  {
   "cell_type": "markdown",
   "id": "7b3dc343",
   "metadata": {},
   "source": [
    "Create visualisation of topics over time for later-period letters using bertopic_time function."
   ]
  },
  {
   "cell_type": "code",
   "execution_count": 16,
   "id": "7dff8226",
   "metadata": {},
   "outputs": [
    {
     "data": {
      "application/vnd.plotly.v1+json": {
       "config": {
        "plotlyServerURL": "https://plot.ly"
       },
       "data": [
        {
         "hoverinfo": "text",
         "hovertext": [
          "<b>Topic 0</b><br>Words: arrangement, curator, suffolk, sedgwick, faculty",
          "<b>Topic 0</b><br>Words: appointment, government, cambridge, chair, congratulate",
          "<b>Topic 0</b><br>Words: cave, museum, ipswich, kidd, acton",
          "<b>Topic 0</b><br>Words: occasion, jany, brighton, reply, march",
          "<b>Topic 0</b><br>Words: queen, commissioner, egg, norwich, examination",
          "<b>Topic 0</b><br>Words: mcbeath, manager, prime, museum, lecture",
          "<b>Topic 0</b><br>Words: ticket, course, lecture, professor, suffolk",
          "<b>Topic 0</b><br>Words: ipswich, museum, bretton, suffolk, walker",
          "<b>Topic 0</b><br>Words: museum, cambridge, professor, pat, fraser",
          "<b>Topic 0</b><br>Words: padre, invasion, grandchild, thames, old",
          "<b>Topic 0</b><br>Words: series, museum, ipswich, scanty, object",
          "<b>Topic 0</b><br>Words: eye, truth, question, planation, intercourse",
          "<b>Topic 0</b><br>Words: nomination, currey, cadetship, cambridge, museum",
          "<b>Topic 0</b><br>Words: museum, ipswich, cambridge, permission, lecture",
          "<b>Topic 0</b><br>Words: museum, road, rail, cost, mould",
          "<b>Topic 0</b><br>Words: ipswich, museum, knights, possessing, arrear",
          "<b>Topic 0</b><br>Words: museum, ipswich, lecture, oxford, advancement",
          "<b>Topic 0</b><br>Words: museum, qualification, examination, london, university",
          "<b>Topic 0</b><br>Words: lecture, museum, professor, london, examination",
          "<b>Topic 0</b><br>Words: museum, london, ipswich, cargo, packing"
         ],
         "marker": {
          "color": "#E69F00"
         },
         "mode": "markers",
         "name": "0_museum_ipswich_lecture_suffolk",
         "type": "scatter",
         "x": [
          "1845-01-14T06:36:00",
          "1845-09-12T06:00:00",
          "1846-05-06T12:00:00",
          "1846-12-28T18:00:00",
          "1847-08-22T00:00:00",
          "1848-04-14T06:00:00",
          "1848-12-06T12:00:00",
          "1849-07-30T18:00:00",
          "1850-03-24T00:00:00",
          "1850-11-15T06:00:00",
          "1851-07-09T12:00:00",
          "1852-03-01T18:00:00",
          "1852-10-24T00:00:00",
          "1853-06-17T06:00:00",
          "1854-02-08T12:00:00",
          "1854-10-02T18:00:00",
          "1855-05-27T00:00:00",
          "1856-01-18T06:00:00",
          "1856-09-10T12:00:00",
          "1857-05-04T18:00:00"
         ],
         "y": [
          6,
          3,
          8,
          3,
          5,
          6,
          20,
          13,
          13,
          2,
          12,
          6,
          11,
          27,
          7,
          7,
          22,
          27,
          22,
          24
         ]
        },
        {
         "hoverinfo": "text",
         "hovertext": [
          "<b>Topic 1</b><br>Words: signature, abundance, delay, shew, turn",
          "<b>Topic 1</b><br>Words: pen, expense, remark, pamphlet, appearance",
          "<b>Topic 1</b><br>Words: northd, gout, conveyance, printer, press",
          "<b>Topic 1</b><br>Words: tell, bookseller, pocket, wire, table",
          "<b>Topic 1</b><br>Words: read, report, paper, copy, book",
          "<b>Topic 1</b><br>Words: owner, island, uncle, care, copy",
          "<b>Topic 1</b><br>Words: reserve, signature, event, letter, care",
          "<b>Topic 1</b><br>Words: atum, adhere, butter, press, copy",
          "<b>Topic 1</b><br>Words: fiend, gift, gout, dent, sic",
          "<b>Topic 1</b><br>Words: signature, table, letter, paper, copy",
          "<b>Topic 1</b><br>Words: print, waste, overhaul, work, inform",
          "<b>Topic 1</b><br>Words: copy, binder, physiol, comp, collectanea",
          "<b>Topic 1</b><br>Words: copy, volume, signing, publishing, delay",
          "<b>Topic 1</b><br>Words: other, monograph, follow, wait, design",
          "<b>Topic 1</b><br>Words: paper, shelford, text_illegible, puzzle, preston",
          "<b>Topic 1</b><br>Words: paper, book, copy, section, press",
          "<b>Topic 1</b><br>Words: set, paper, book, copy, printer",
          "<b>Topic 1</b><br>Words: copy, paper, print, book, distinct",
          "<b>Topic 1</b><br>Words: paper, document, pith, inclose, copy",
          "<b>Topic 1</b><br>Words: book, copy, sheet, printer, pocket"
         ],
         "marker": {
          "color": "#56B4E9"
         },
         "mode": "markers",
         "name": "1_copy_paper_book_print",
         "type": "scatter",
         "x": [
          "1845-01-14T06:36:00",
          "1845-09-12T06:00:00",
          "1846-05-06T12:00:00",
          "1846-12-28T18:00:00",
          "1847-08-22T00:00:00",
          "1848-04-14T06:00:00",
          "1848-12-06T12:00:00",
          "1849-07-30T18:00:00",
          "1850-03-24T00:00:00",
          "1850-11-15T06:00:00",
          "1851-07-09T12:00:00",
          "1852-03-01T18:00:00",
          "1852-10-24T00:00:00",
          "1853-06-17T06:00:00",
          "1854-02-08T12:00:00",
          "1854-10-02T18:00:00",
          "1855-05-27T00:00:00",
          "1856-01-18T06:00:00",
          "1856-09-10T12:00:00",
          "1857-05-04T18:00:00"
         ],
         "y": [
          3,
          2,
          4,
          3,
          1,
          1,
          3,
          5,
          4,
          3,
          3,
          4,
          6,
          2,
          3,
          11,
          13,
          10,
          11,
          20
         ]
        },
        {
         "hoverinfo": "text",
         "hovertext": [
          "<b>Topic 2</b><br>Words: nodule, london_clay, bone, derivative, whale",
          "<b>Topic 2</b><br>Words: archaeology, verd, foundation, niger, withhold",
          "<b>Topic 2</b><br>Words: bone, flint, tooth, cavern, kent",
          "<b>Topic 2</b><br>Words: woodwardian, shell, box, fossil, bone",
          "<b>Topic 2</b><br>Words: chalk, fault, greensand, weald, shanklin",
          "<b>Topic 2</b><br>Words: elschotzia, diam, pistil, dissecting, inch",
          "<b>Topic 2</b><br>Words: salterton, budleigh, pebble, devonshire, specimen",
          "<b>Topic 2</b><br>Words: crag, epoch, pliocene, drift, miocene",
          "<b>Topic 2</b><br>Words: fossil, specimen, lignite, department, illustration",
          "<b>Topic 2</b><br>Words: geology, gen, mineralogy, reverse, clark",
          "<b>Topic 2</b><br>Words: explanation, geol_soc, fossil, owen, speciman",
          "<b>Topic 2</b><br>Words: fossil, inclination, sho, specimen, soho",
          "<b>Topic 2</b><br>Words: ox, bos, tooth, priscus, comparison",
          "<b>Topic 2</b><br>Words: depth, mineral, chalk, fossil, specimen",
          "<b>Topic 2</b><br>Words: bed, fossil, specimen, flint, london_clay",
          "<b>Topic 2</b><br>Words: fossil, bone, skull, limb, mammal",
          "<b>Topic 2</b><br>Words: limestone, silurian, batata, coryphodon, larch",
          "<b>Topic 2</b><br>Words: collecting, specimen, zealand, geologist, thousands"
         ],
         "marker": {
          "color": "#009E73"
         },
         "mode": "markers",
         "name": "2_fossil_bone_specimen_nodule",
         "type": "scatter",
         "x": [
          "1845-01-14T06:36:00",
          "1845-09-12T06:00:00",
          "1846-05-06T12:00:00",
          "1848-04-14T06:00:00",
          "1848-12-06T12:00:00",
          "1849-07-30T18:00:00",
          "1850-03-24T00:00:00",
          "1850-11-15T06:00:00",
          "1851-07-09T12:00:00",
          "1852-03-01T18:00:00",
          "1852-10-24T00:00:00",
          "1853-06-17T06:00:00",
          "1854-02-08T12:00:00",
          "1854-10-02T18:00:00",
          "1855-05-27T00:00:00",
          "1856-01-18T06:00:00",
          "1856-09-10T12:00:00",
          "1857-05-04T18:00:00"
         ],
         "y": [
          11,
          2,
          10,
          1,
          1,
          1,
          1,
          6,
          9,
          2,
          1,
          9,
          3,
          8,
          9,
          17,
          7,
          7
         ]
        },
        {
         "hoverinfo": "text",
         "hovertext": [
          "<b>Topic 3</b><br>Words: winchester, dean, whewell, hitcham_hadleigh, central",
          "<b>Topic 3</b><br>Words: provoke, explosion, squire, winchester, place",
          "<b>Topic 3</b><br>Words: whewell, bilston, el, perform, bildeston",
          "<b>Topic 3</b><br>Words: bradwell, juxta, ythancester, hadl, mare",
          "<b>Topic 3</b><br>Words: hitcham, united_regards, letter, castle, burgh",
          "<b>Topic 3</b><br>Words: hitcham, wagon, recognize, sleep, stranger",
          "<b>Topic 3</b><br>Words: hitcham, farmer, suffolk, land, woman",
          "<b>Topic 3</b><br>Words: legation, bancroft, steven, messenger, approbation",
          "<b>Topic 3</b><br>Words: hitcham, dead, farmer, john, thomas",
          "<b>Topic 3</b><br>Words: hereford, reunion, lyells, america, sail",
          "<b>Topic 3</b><br>Words: hitcham, nov, sedgwick, nunc, sykes",
          "<b>Topic 3</b><br>Words: hitcham, hereford, school, mistress, whiteland",
          "<b>Topic 3</b><br>Words: hitcham, excursion, trombone, suffk, pipe",
          "<b>Topic 3</b><br>Words: hadlegh, hitcham, deluge, dean, introduction",
          "<b>Topic 3</b><br>Words: hitcham, farmer, hitcham_bildeston, suffolk, hereford",
          "<b>Topic 3</b><br>Words: hitcham_bildeston, grove, curacy, question, hitcham",
          "<b>Topic 3</b><br>Words: hitcham_bildeston, hitcham, procure, letter, legion",
          "<b>Topic 3</b><br>Words: hitcham, cambridgeshire, unfortunate, circencester, landowner"
         ],
         "marker": {
          "color": "#F0E442"
         },
         "mode": "markers",
         "name": "3_hitcham_farmer_hereford_suffolk",
         "type": "scatter",
         "x": [
          "1845-01-14T06:36:00",
          "1845-09-12T06:00:00",
          "1846-05-06T12:00:00",
          "1847-08-22T00:00:00",
          "1848-04-14T06:00:00",
          "1848-12-06T12:00:00",
          "1849-07-30T18:00:00",
          "1850-03-24T00:00:00",
          "1850-11-15T06:00:00",
          "1852-03-01T18:00:00",
          "1852-10-24T00:00:00",
          "1853-06-17T06:00:00",
          "1854-02-08T12:00:00",
          "1854-10-02T18:00:00",
          "1855-05-27T00:00:00",
          "1856-01-18T06:00:00",
          "1856-09-10T12:00:00",
          "1857-05-04T18:00:00"
         ],
         "y": [
          7,
          3,
          2,
          3,
          2,
          6,
          8,
          4,
          10,
          3,
          5,
          14,
          6,
          3,
          7,
          10,
          6,
          4
         ]
        },
        {
         "hoverinfo": "text",
         "hovertext": [
          "<b>Topic 4</b><br>Words: cowslip, variety, polyanthu, gardener, botanic_garden",
          "<b>Topic 4</b><br>Words: plant, galapagos, chonos, isld, flora",
          "<b>Topic 4</b><br>Words: botany, duty, plant, nursery, coniferae",
          "<b>Topic 4</b><br>Words: ago, conifer, precaution, laboratory, desiderata",
          "<b>Topic 4</b><br>Words: plant, cycadeae, babbage, kind, wmhooker",
          "<b>Topic 4</b><br>Words: term, period, dare, command, monday",
          "<b>Topic 4</b><br>Words: syllabus, botany, apprenticeship, lecturing, limitation",
          "<b>Topic 4</b><br>Words: plant, bryony, black, grandiflora, melittis",
          "<b>Topic 4</b><br>Words: genera, hadley, garden, trustee, lindley",
          "<b>Topic 4</b><br>Words: plant, paragraph, florist, manual, habitat",
          "<b>Topic 4</b><br>Words: nigra, mercurialis, vectis, centaurea, linnaei",
          "<b>Topic 4</b><br>Words: diagrams, plant, botany, education, schools",
          "<b>Topic 4</b><br>Words: zoophytes, bewick, bewickshire, sponge, founder",
          "<b>Topic 4</b><br>Words: plant, vinegar, lemonade, jam, meaning",
          "<b>Topic 4</b><br>Words: building, preference, butcher, generalization, asking",
          "<b>Topic 4</b><br>Words: herbarium, botanist, botany, cambridge, museum",
          "<b>Topic 4</b><br>Words: yesterdays, causation, fragaria, wildflower, excursionize",
          "<b>Topic 4</b><br>Words: plant, botany, garden, glastonbury, unedo",
          "<b>Topic 4</b><br>Words: plant, gardeners_chronicle, botanist, botany, flora",
          "<b>Topic 4</b><br>Words: seed, plant, bastard, mezereon, squarrosa"
         ],
         "marker": {
          "color": "#D55E00"
         },
         "mode": "markers",
         "name": "4_plant_botany_garden_botanist",
         "type": "scatter",
         "x": [
          "1845-01-14T06:36:00",
          "1845-09-12T06:00:00",
          "1846-05-06T12:00:00",
          "1846-12-28T18:00:00",
          "1847-08-22T00:00:00",
          "1848-04-14T06:00:00",
          "1848-12-06T12:00:00",
          "1849-07-30T18:00:00",
          "1850-03-24T00:00:00",
          "1850-11-15T06:00:00",
          "1851-07-09T12:00:00",
          "1852-03-01T18:00:00",
          "1852-10-24T00:00:00",
          "1853-06-17T06:00:00",
          "1854-02-08T12:00:00",
          "1854-10-02T18:00:00",
          "1855-05-27T00:00:00",
          "1856-01-18T06:00:00",
          "1856-09-10T12:00:00",
          "1857-05-04T18:00:00"
         ],
         "y": [
          5,
          6,
          5,
          3,
          2,
          1,
          3,
          10,
          4,
          3,
          7,
          6,
          1,
          2,
          1,
          5,
          4,
          13,
          14,
          6
         ]
        },
        {
         "hoverinfo": "text",
         "hovertext": [
          "<b>Topic 5</b><br>Words: ball, septaria, phosphorus, lime, coprolite",
          "<b>Topic 5</b><br>Words: pot, question, shale, oil, acid",
          "<b>Topic 5</b><br>Words: naphtha, petroleum, bottle, shale, acid",
          "<b>Topic 5</b><br>Words: shale, oil, grease, liquid, acid",
          "<b>Topic 5</b><br>Words: shale, acid, oil, lime, water",
          "<b>Topic 5</b><br>Words: adulteration, sugar, beer, acid, pepper",
          "<b>Topic 5</b><br>Words: hydrogen, gas, sodium, oxide, bottle",
          "<b>Topic 5</b><br>Words: taper, clip, seal, manipulate, rapidity",
          "<b>Topic 5</b><br>Words: iron, fuel, crystaline, nickel, smoke",
          "<b>Topic 5</b><br>Words: junction, per_cent, deposit, nodule, fitton",
          "<b>Topic 5</b><br>Words: fountain, cottage, oxycalcium, front, tank",
          "<b>Topic 5</b><br>Words: dew, sewage, closet, substance, avail"
         ],
         "marker": {
          "color": "#0072B2"
         },
         "mode": "markers",
         "name": "5_shale_acid_oil_lime",
         "type": "scatter",
         "x": [
          "1845-01-14T06:36:00",
          "1845-09-12T06:00:00",
          "1848-04-14T06:00:00",
          "1849-07-30T18:00:00",
          "1850-11-15T06:00:00",
          "1851-07-09T12:00:00",
          "1853-06-17T06:00:00",
          "1854-10-02T18:00:00",
          "1855-05-27T00:00:00",
          "1856-01-18T06:00:00",
          "1856-09-10T12:00:00",
          "1857-05-04T18:00:00"
         ],
         "y": [
          3,
          1,
          1,
          13,
          32,
          11,
          6,
          1,
          4,
          2,
          2,
          2
         ]
        },
        {
         "hoverinfo": "text",
         "hovertext": [
          "<b>Topic 6</b><br>Words: riddle, evidence, claim, note, notice",
          "<b>Topic 6</b><br>Words: objection, comment, note, thank, remark",
          "<b>Topic 6</b><br>Words: idea, objection, comment, note, thank",
          "<b>Topic 6</b><br>Words: alter, forgot, improvement, note, objection",
          "<b>Topic 6</b><br>Words: point, objection, comment, note, thank",
          "<b>Topic 6</b><br>Words: comment, objection, way, oclock, attend",
          "<b>Topic 6</b><br>Words: none, approximation, suspect, talk, reason",
          "<b>Topic 6</b><br>Words: comment, cam, objection, qualification, ex",
          "<b>Topic 6</b><br>Words: convenient, sabine, help, objection, eye",
          "<b>Topic 6</b><br>Words: beche, answer, thank, objection, comment",
          "<b>Topic 6</b><br>Words: objection, statement, reference, note, copy",
          "<b>Topic 6</b><br>Words: reverse, ii, consideration, duplicate, lindley",
          "<b>Topic 6</b><br>Words: ism, thank, ps, lie, objection",
          "<b>Topic 6</b><br>Words: negative, investigator, point, objection, comment",
          "<b>Topic 6</b><br>Words: note, sub, source, point, objection",
          "<b>Topic 6</b><br>Words: wait, credit, source, discussion, evidence",
          "<b>Topic 6</b><br>Words: comment, hurry, posting, remark, apparatus",
          "<b>Topic 6</b><br>Words: comment, couple, dozen, promise, lot",
          "<b>Topic 6</b><br>Words: edition, voorst, annotation, second, conclusion"
         ],
         "marker": {
          "color": "#CC79A7"
         },
         "mode": "markers",
         "name": "6_objection_comment_note_thank",
         "type": "scatter",
         "x": [
          "1845-01-14T06:36:00",
          "1845-09-12T06:00:00",
          "1846-05-06T12:00:00",
          "1846-12-28T18:00:00",
          "1847-08-22T00:00:00",
          "1848-12-06T12:00:00",
          "1849-07-30T18:00:00",
          "1850-03-24T00:00:00",
          "1850-11-15T06:00:00",
          "1851-07-09T12:00:00",
          "1852-03-01T18:00:00",
          "1852-10-24T00:00:00",
          "1853-06-17T06:00:00",
          "1854-02-08T12:00:00",
          "1854-10-02T18:00:00",
          "1855-05-27T00:00:00",
          "1856-01-18T06:00:00",
          "1856-09-10T12:00:00",
          "1857-05-04T18:00:00"
         ],
         "y": [
          4,
          1,
          1,
          3,
          1,
          11,
          4,
          8,
          2,
          2,
          3,
          4,
          4,
          2,
          4,
          6,
          6,
          6,
          4
         ]
        },
        {
         "hoverinfo": "text",
         "hovertext": [
          "<b>Topic 7</b><br>Words: productiveness, labourer, sort, variety, ground",
          "<b>Topic 7</b><br>Words: loan, pound, sum, govt, installment",
          "<b>Topic 7</b><br>Words: leak, parcel, bottle, side, sum",
          "<b>Topic 7</b><br>Words: addendum, trouble, editor, sum, instance",
          "<b>Topic 7</b><br>Words: hint, sort, book, sum, price",
          "<b>Topic 7</b><br>Words: addition, sum, price, sort, amount",
          "<b>Topic 7</b><br>Words: equation, order, quality, deposit, sum",
          "<b>Topic 7</b><br>Words: sum, item, shape, leg, amount",
          "<b>Topic 7</b><br>Words: supply, sum, price, sort, amount",
          "<b>Topic 7</b><br>Words: price, genera, order, euchiridium, fat",
          "<b>Topic 7</b><br>Words: deficiency, sq, bloomsbury, supply, queen",
          "<b>Topic 7</b><br>Words: hopkin, mantell, charge, description, speciman",
          "<b>Topic 7</b><br>Words: dilapidation, sum, successor, fixture, largish",
          "<b>Topic 7</b><br>Words: daguerrotypes, shade, choice, rate, price",
          "<b>Topic 7</b><br>Words: price, sum, amount, donor, prop",
          "<b>Topic 7</b><br>Words: valuation, sort, value, settle, compulsion",
          "<b>Topic 7</b><br>Words: value, ratio, mutilation, increase, money",
          "<b>Topic 7</b><br>Words: price, amount, statistic, sum, number",
          "<b>Topic 7</b><br>Words: labour, sum, charge, value, number"
         ],
         "marker": {
          "color": "#E69F00"
         },
         "mode": "markers",
         "name": "7_sum_price_sort_amount",
         "type": "scatter",
         "x": [
          "1845-01-14T06:36:00",
          "1845-09-12T06:00:00",
          "1846-05-06T12:00:00",
          "1846-12-28T18:00:00",
          "1848-04-14T06:00:00",
          "1848-12-06T12:00:00",
          "1849-07-30T18:00:00",
          "1850-03-24T00:00:00",
          "1850-11-15T06:00:00",
          "1851-07-09T12:00:00",
          "1852-03-01T18:00:00",
          "1852-10-24T00:00:00",
          "1853-06-17T06:00:00",
          "1854-02-08T12:00:00",
          "1854-10-02T18:00:00",
          "1855-05-27T00:00:00",
          "1856-01-18T06:00:00",
          "1856-09-10T12:00:00",
          "1857-05-04T18:00:00"
         ],
         "y": [
          2,
          5,
          1,
          2,
          1,
          1,
          4,
          4,
          1,
          7,
          1,
          1,
          4,
          2,
          4,
          8,
          2,
          12,
          11
         ]
        },
        {
         "hoverinfo": "text",
         "hovertext": [
          "<b>Topic 8</b><br>Words: hutton, lindley, hooker, lady, dr",
          "<b>Topic 8</b><br>Words: sequel, jan, lindley, hooker, suffolk",
          "<b>Topic 8</b><br>Words: hooker, miss, custody, retreat, agriculturist",
          "<b>Topic 8</b><br>Words: hooker, accommodation, gateway, niece, room",
          "<b>Topic 8</b><br>Words: hooker, lady, wheat, care, shingle",
          "<b>Topic 8</b><br>Words: vegetable, kingdom, lindley, hooker, lady",
          "<b>Topic 8</b><br>Words: hooker, lindley, atriplex, guess, treat",
          "<b>Topic 8</b><br>Words: lady, cassel, foreigner, living, hooker",
          "<b>Topic 8</b><br>Words: affte, hooker, jos, lindley, lady",
          "<b>Topic 8</b><br>Words: fool, rascallitie, breast, rogue, course",
          "<b>Topic 8</b><br>Words: hooker, dr, expectant, grandmamma, disquietude",
          "<b>Topic 8</b><br>Words: hooker, refutation, til, confinement, repute",
          "<b>Topic 8</b><br>Words: hooker, playfair, days_ago, griffin, return",
          "<b>Topic 8</b><br>Words: hooker, midnight, presentation, brentford, latham",
          "<b>Topic 8</b><br>Words: guinea, hooker, faulty, solution, bear",
          "<b>Topic 8</b><br>Words: hooker, evg, james, lady, carlisle",
          "<b>Topic 8</b><br>Words: hooker, lent, fitz, lucubration, misunderstood",
          "<b>Topic 8</b><br>Words: hooker, fait, fulfill, clue, amendment",
          "<b>Topic 8</b><br>Words: hooker, sinclair, assurance, dr, regrets"
         ],
         "marker": {
          "color": "#56B4E9"
         },
         "mode": "markers",
         "name": "8_hooker_lindley_lady_dr",
         "type": "scatter",
         "x": [
          "1845-01-14T06:36:00",
          "1845-09-12T06:00:00",
          "1846-05-06T12:00:00",
          "1846-12-28T18:00:00",
          "1847-08-22T00:00:00",
          "1848-04-14T06:00:00",
          "1849-07-30T18:00:00",
          "1850-03-24T00:00:00",
          "1850-11-15T06:00:00",
          "1851-07-09T12:00:00",
          "1852-03-01T18:00:00",
          "1852-10-24T00:00:00",
          "1853-06-17T06:00:00",
          "1854-02-08T12:00:00",
          "1854-10-02T18:00:00",
          "1855-05-27T00:00:00",
          "1856-01-18T06:00:00",
          "1856-09-10T12:00:00",
          "1857-05-04T18:00:00"
         ],
         "y": [
          1,
          2,
          5,
          3,
          3,
          1,
          4,
          2,
          2,
          1,
          4,
          3,
          2,
          2,
          3,
          5,
          4,
          3,
          9
         ]
        },
        {
         "hoverinfo": "text",
         "hovertext": [
          "<b>Topic 9</b><br>Words: benjamin, maund, self, circle, family",
          "<b>Topic 9</b><br>Words: kindest_regard, mary, pray, lady, father",
          "<b>Topic 9</b><br>Words: girl, sojourn, hs, family, ball",
          "<b>Topic 9</b><br>Words: family, gutch, charlesworth, wife, girl",
          "<b>Topic 9</b><br>Words: asedgwick, affec, love, lady, family",
          "<b>Topic 9</b><br>Words: turner, miss, family, wife, lady",
          "<b>Topic 9</b><br>Words: wife, womankind, kindest_regard, love, necessity",
          "<b>Topic 9</b><br>Words: maggie, marchesa, officinalis, bab, wife",
          "<b>Topic 9</b><br>Words: pray, sister, join, remembrance, circulation",
          "<b>Topic 9</b><br>Words: louise, leg, circle, family, miss",
          "<b>Topic 9</b><br>Words: husband, wife, daughter, rdawe, affey",
          "<b>Topic 9</b><br>Words: advice, daughter, trouble, thank, family",
          "<b>Topic 9</b><br>Words: satisfy, deluge, mistress, sister, lady",
          "<b>Topic 9</b><br>Words: betray, equanimity, wife, suffering, family",
          "<b>Topic 9</b><br>Words: wife, anne, joanna, relation, belper",
          "<b>Topic 9</b><br>Words: youngster, wife, family, lady, daughter",
          "<b>Topic 9</b><br>Words: family, louise, wife, wrist, coughs"
         ],
         "marker": {
          "color": "#009E73"
         },
         "mode": "markers",
         "name": "9_family_wife_lady_daughter",
         "type": "scatter",
         "x": [
          "1845-01-14T06:36:00",
          "1845-09-12T06:00:00",
          "1846-05-06T12:00:00",
          "1846-12-28T18:00:00",
          "1847-08-22T00:00:00",
          "1848-04-14T06:00:00",
          "1848-12-06T12:00:00",
          "1849-07-30T18:00:00",
          "1850-03-24T00:00:00",
          "1852-03-01T18:00:00",
          "1853-06-17T06:00:00",
          "1854-02-08T12:00:00",
          "1854-10-02T18:00:00",
          "1855-05-27T00:00:00",
          "1856-01-18T06:00:00",
          "1856-09-10T12:00:00",
          "1857-05-04T18:00:00"
         ],
         "y": [
          1,
          3,
          3,
          5,
          1,
          1,
          3,
          3,
          7,
          2,
          6,
          1,
          4,
          3,
          5,
          2,
          9
         ]
        },
        {
         "hoverinfo": "text",
         "hovertext": [
          "<b>Topic 10</b><br>Words: goulburn, compass, owen, henry, specie",
          "<b>Topic 10</b><br>Words: coleman, henry, respect, owen, reeve",
          "<b>Topic 10</b><br>Words: coleman, henry, owen, reeve, longman",
          "<b>Topic 10</b><br>Words: campbell, lefevre, vicar, shaw, nephew",
          "<b>Topic 10</b><br>Words: scott, owen, reeve, henry, longman",
          "<b>Topic 10</b><br>Words: violence, fred, obt, pollock, appearance",
          "<b>Topic 10</b><br>Words: reeve, algernon, sec, pollock, owen",
          "<b>Topic 10</b><br>Words: moseley, henry, westminster, owen, boy",
          "<b>Topic 10</b><br>Words: owen, telerpeton, longman, miller, equivocation",
          "<b>Topic 10</b><br>Words: armadillo, betn, curtis, miller, owen",
          "<b>Topic 10</b><br>Words: owen, compliment, season, thank, reeve",
          "<b>Topic 10</b><br>Words: heywood, moustache, mess, captain, taylor",
          "<b>Topic 10</b><br>Words: londerburgh, herbert, expry, miller, clark",
          "<b>Topic 10</b><br>Words: thornthwaite, yarrell, gambier, parry, poole",
          "<b>Topic 10</b><br>Words: reeve, longman, thomas, rolfe, reconsideration"
         ],
         "marker": {
          "color": "#F0E442"
         },
         "mode": "markers",
         "name": "10_owen_reeve_henry_longman",
         "type": "scatter",
         "x": [
          "1845-01-14T06:36:00",
          "1845-09-12T06:00:00",
          "1846-05-06T12:00:00",
          "1846-12-28T18:00:00",
          "1847-08-22T00:00:00",
          "1848-04-14T06:00:00",
          "1849-07-30T18:00:00",
          "1851-07-09T12:00:00",
          "1852-10-24T00:00:00",
          "1853-06-17T06:00:00",
          "1854-10-02T18:00:00",
          "1855-05-27T00:00:00",
          "1856-01-18T06:00:00",
          "1856-09-10T12:00:00",
          "1857-05-04T18:00:00"
         ],
         "y": [
          2,
          1,
          1,
          2,
          1,
          1,
          3,
          4,
          6,
          3,
          2,
          4,
          4,
          7,
          8
         ]
        },
        {
         "hoverinfo": "text",
         "hovertext": [
          "<b>Topic 11</b><br>Words: caple, elephant, botrytis, theory, insect",
          "<b>Topic 11</b><br>Words: insect, hop, bean, beam, aphid",
          "<b>Topic 11</b><br>Words: fructifie, sphaeria, caterpillars, neck, attack",
          "<b>Topic 11</b><br>Words: wasp, nest, overcare, velleius, moist",
          "<b>Topic 11</b><br>Words: species, nest, entomologist, fauna, dog",
          "<b>Topic 11</b><br>Words: fauna, insect, museum, nest, wasp",
          "<b>Topic 11</b><br>Words: bee, nest, wasp, insect, eyed",
          "<b>Topic 11</b><br>Words: insect, crustacea, selborne, westwood, amphibia",
          "<b>Topic 11</b><br>Words: insecta, westwood, gray, dr, wasp",
          "<b>Topic 11</b><br>Words: entomology, insect, name, lucina, misnomer"
         ],
         "marker": {
          "color": "#D55E00"
         },
         "mode": "markers",
         "name": "11_insect_nest_wasp_crustacea",
         "type": "scatter",
         "x": [
          "1846-05-06T12:00:00",
          "1846-12-28T18:00:00",
          "1848-04-14T06:00:00",
          "1848-12-06T12:00:00",
          "1849-07-30T18:00:00",
          "1851-07-09T12:00:00",
          "1853-06-17T06:00:00",
          "1855-05-27T00:00:00",
          "1856-01-18T06:00:00",
          "1856-09-10T12:00:00"
         ],
         "y": [
          2,
          7,
          1,
          2,
          5,
          3,
          7,
          6,
          5,
          3
         ]
        },
        {
         "hoverinfo": "text",
         "hovertext": [
          "<b>Topic 12</b><br>Words: side, bias, quarrel, perversion, belli",
          "<b>Topic 12</b><br>Words: dissention, alleviation, destitution, enforce, prevent",
          "<b>Topic 12</b><br>Words: attention, pretension, chiefly, jn, observe",
          "<b>Topic 12</b><br>Words: change, power, opinion, university, esteem",
          "<b>Topic 12</b><br>Words: perceive, allow, argument, surface, lord",
          "<b>Topic 12</b><br>Words: feeling, opinion, toleration, inconsistent, diffusion",
          "<b>Topic 12</b><br>Words: relation, case, judgment, sentiment, act",
          "<b>Topic 12</b><br>Words: kewians, notion, opinion, course, esteem",
          "<b>Topic 12</b><br>Words: spider, amiss, karr, sentiment, idea",
          "<b>Topic 12</b><br>Words: flunkeyism, respectability, antiquarian, cliquism, bias",
          "<b>Topic 12</b><br>Words: opinion, literature, medical, pride, formality",
          "<b>Topic 12</b><br>Words: perserverance, effecting, repelling, admiration, exhibitor",
          "<b>Topic 12</b><br>Words: opinion, diversity, layman, revise, transmission"
         ],
         "marker": {
          "color": "#0072B2"
         },
         "mode": "markers",
         "name": "12_opinion_esteem_influence_expression",
         "type": "scatter",
         "x": [
          "1845-01-14T06:36:00",
          "1845-09-12T06:00:00",
          "1847-08-22T00:00:00",
          "1848-04-14T06:00:00",
          "1849-07-30T18:00:00",
          "1850-03-24T00:00:00",
          "1852-03-01T18:00:00",
          "1853-06-17T06:00:00",
          "1854-10-02T18:00:00",
          "1855-05-27T00:00:00",
          "1856-01-18T06:00:00",
          "1856-09-10T12:00:00",
          "1857-05-04T18:00:00"
         ],
         "y": [
          3,
          5,
          1,
          1,
          3,
          4,
          3,
          1,
          1,
          4,
          4,
          2,
          5
         ]
        },
        {
         "hoverinfo": "text",
         "hovertext": [
          "<b>Topic 13</b><br>Words: occid, suff, jos, respect, journ",
          "<b>Topic 13</b><br>Words: gutch, wd, suff, journ, zinoke",
          "<b>Topic 13</b><br>Words: suff, wd, journ, zinoke, jos",
          "<b>Topic 13</b><br>Words: murmurer, ommission, ann, suff, wd",
          "<b>Topic 13</b><br>Words: barham, zinoke, whewell, sum, wd",
          "<b>Topic 13</b><br>Words: adm, tufnell, zinoke, forbe, person",
          "<b>Topic 13</b><br>Words: annal, wd, suff, journ, zinoke",
          "<b>Topic 13</b><br>Words: anat, chemist, wd, suff, journ",
          "<b>Topic 13</b><br>Words: augt, whewell, wd, suff, journ",
          "<b>Topic 13</b><br>Words: suf, ge, jos, wd, suff",
          "<b>Topic 13</b><br>Words: mam, cor, wd, yate, red",
          "<b>Topic 13</b><br>Words: wd, journ, suff, zinoke, jos",
          "<b>Topic 13</b><br>Words: maund, journ, wd, suff, zinoke",
          "<b>Topic 13</b><br>Words: diem, nisceum, force, succumb, ns",
          "<b>Topic 13</b><br>Words: obd, fate, hohenacker, journ, temple"
         ],
         "marker": {
          "color": "#CC79A7"
         },
         "mode": "markers",
         "name": "13_wd_suff_journ_zinoke",
         "type": "scatter",
         "x": [
          "1845-09-12T06:00:00",
          "1846-12-28T18:00:00",
          "1847-08-22T00:00:00",
          "1849-07-30T18:00:00",
          "1850-03-24T00:00:00",
          "1850-11-15T06:00:00",
          "1851-07-09T12:00:00",
          "1852-03-01T18:00:00",
          "1852-10-24T00:00:00",
          "1854-02-08T12:00:00",
          "1854-10-02T18:00:00",
          "1855-05-27T00:00:00",
          "1856-01-18T06:00:00",
          "1856-09-10T12:00:00",
          "1857-05-04T18:00:00"
         ],
         "y": [
          3,
          1,
          1,
          3,
          2,
          4,
          1,
          1,
          2,
          2,
          4,
          2,
          1,
          6,
          3
         ]
        },
        {
         "hoverinfo": "text",
         "hovertext": [
          "<b>Topic 14</b><br>Words: church, treasury, worship, sing, scoff",
          "<b>Topic 14</b><br>Words: churchman, junction, opposition, babington, consequence",
          "<b>Topic 14</b><br>Words: church, sabbath, lord, argument, mind",
          "<b>Topic 14</b><br>Words: church, holiday, clergyman, creed, apostle",
          "<b>Topic 14</b><br>Words: training, disposal, church, master, fund",
          "<b>Topic 14</b><br>Words: humbler, hatred, churchism, toryism, persecution",
          "<b>Topic 14</b><br>Words: stocking, knowledge, wisher, endeavour, sho",
          "<b>Topic 14</b><br>Words: sermon, church, placidity, christianity, stoicism",
          "<b>Topic 14</b><br>Words: parishioner, clergyman, instruction, kindness, office",
          "<b>Topic 14</b><br>Words: scabby, stimulus, shortcoming, epithet, sermon",
          "<b>Topic 14</b><br>Words: hearer, conviction, union, religion, application"
         ],
         "marker": {
          "color": "#E69F00"
         },
         "mode": "markers",
         "name": "14_church_sabbath_parishioner_clergyman",
         "type": "scatter",
         "x": [
          "1845-09-12T06:00:00",
          "1848-12-06T12:00:00",
          "1849-07-30T18:00:00",
          "1850-03-24T00:00:00",
          "1850-11-15T06:00:00",
          "1852-03-01T18:00:00",
          "1853-06-17T06:00:00",
          "1855-05-27T00:00:00",
          "1856-01-18T06:00:00",
          "1856-09-10T12:00:00",
          "1857-05-04T18:00:00"
         ],
         "y": [
          5,
          1,
          6,
          6,
          1,
          1,
          2,
          5,
          1,
          2,
          1
         ]
        }
       ],
       "layout": {
        "height": 500,
        "hoverlabel": {
         "bgcolor": "white",
         "font": {
          "family": "Rockwell",
          "size": 16
         }
        },
        "legend": {
         "title": {
          "text": "<b>Global Topic Representation"
         }
        },
        "template": {
         "data": {
          "bar": [
           {
            "error_x": {
             "color": "rgb(36,36,36)"
            },
            "error_y": {
             "color": "rgb(36,36,36)"
            },
            "marker": {
             "line": {
              "color": "white",
              "width": 0.5
             },
             "pattern": {
              "fillmode": "overlay",
              "size": 10,
              "solidity": 0.2
             }
            },
            "type": "bar"
           }
          ],
          "barpolar": [
           {
            "marker": {
             "line": {
              "color": "white",
              "width": 0.5
             },
             "pattern": {
              "fillmode": "overlay",
              "size": 10,
              "solidity": 0.2
             }
            },
            "type": "barpolar"
           }
          ],
          "carpet": [
           {
            "aaxis": {
             "endlinecolor": "rgb(36,36,36)",
             "gridcolor": "white",
             "linecolor": "white",
             "minorgridcolor": "white",
             "startlinecolor": "rgb(36,36,36)"
            },
            "baxis": {
             "endlinecolor": "rgb(36,36,36)",
             "gridcolor": "white",
             "linecolor": "white",
             "minorgridcolor": "white",
             "startlinecolor": "rgb(36,36,36)"
            },
            "type": "carpet"
           }
          ],
          "choropleth": [
           {
            "colorbar": {
             "outlinewidth": 1,
             "tickcolor": "rgb(36,36,36)",
             "ticks": "outside"
            },
            "type": "choropleth"
           }
          ],
          "contour": [
           {
            "colorbar": {
             "outlinewidth": 1,
             "tickcolor": "rgb(36,36,36)",
             "ticks": "outside"
            },
            "colorscale": [
             [
              0,
              "#440154"
             ],
             [
              0.1111111111111111,
              "#482878"
             ],
             [
              0.2222222222222222,
              "#3e4989"
             ],
             [
              0.3333333333333333,
              "#31688e"
             ],
             [
              0.4444444444444444,
              "#26828e"
             ],
             [
              0.5555555555555556,
              "#1f9e89"
             ],
             [
              0.6666666666666666,
              "#35b779"
             ],
             [
              0.7777777777777778,
              "#6ece58"
             ],
             [
              0.8888888888888888,
              "#b5de2b"
             ],
             [
              1,
              "#fde725"
             ]
            ],
            "type": "contour"
           }
          ],
          "contourcarpet": [
           {
            "colorbar": {
             "outlinewidth": 1,
             "tickcolor": "rgb(36,36,36)",
             "ticks": "outside"
            },
            "type": "contourcarpet"
           }
          ],
          "heatmap": [
           {
            "colorbar": {
             "outlinewidth": 1,
             "tickcolor": "rgb(36,36,36)",
             "ticks": "outside"
            },
            "colorscale": [
             [
              0,
              "#440154"
             ],
             [
              0.1111111111111111,
              "#482878"
             ],
             [
              0.2222222222222222,
              "#3e4989"
             ],
             [
              0.3333333333333333,
              "#31688e"
             ],
             [
              0.4444444444444444,
              "#26828e"
             ],
             [
              0.5555555555555556,
              "#1f9e89"
             ],
             [
              0.6666666666666666,
              "#35b779"
             ],
             [
              0.7777777777777778,
              "#6ece58"
             ],
             [
              0.8888888888888888,
              "#b5de2b"
             ],
             [
              1,
              "#fde725"
             ]
            ],
            "type": "heatmap"
           }
          ],
          "heatmapgl": [
           {
            "colorbar": {
             "outlinewidth": 1,
             "tickcolor": "rgb(36,36,36)",
             "ticks": "outside"
            },
            "colorscale": [
             [
              0,
              "#440154"
             ],
             [
              0.1111111111111111,
              "#482878"
             ],
             [
              0.2222222222222222,
              "#3e4989"
             ],
             [
              0.3333333333333333,
              "#31688e"
             ],
             [
              0.4444444444444444,
              "#26828e"
             ],
             [
              0.5555555555555556,
              "#1f9e89"
             ],
             [
              0.6666666666666666,
              "#35b779"
             ],
             [
              0.7777777777777778,
              "#6ece58"
             ],
             [
              0.8888888888888888,
              "#b5de2b"
             ],
             [
              1,
              "#fde725"
             ]
            ],
            "type": "heatmapgl"
           }
          ],
          "histogram": [
           {
            "marker": {
             "line": {
              "color": "white",
              "width": 0.6
             }
            },
            "type": "histogram"
           }
          ],
          "histogram2d": [
           {
            "colorbar": {
             "outlinewidth": 1,
             "tickcolor": "rgb(36,36,36)",
             "ticks": "outside"
            },
            "colorscale": [
             [
              0,
              "#440154"
             ],
             [
              0.1111111111111111,
              "#482878"
             ],
             [
              0.2222222222222222,
              "#3e4989"
             ],
             [
              0.3333333333333333,
              "#31688e"
             ],
             [
              0.4444444444444444,
              "#26828e"
             ],
             [
              0.5555555555555556,
              "#1f9e89"
             ],
             [
              0.6666666666666666,
              "#35b779"
             ],
             [
              0.7777777777777778,
              "#6ece58"
             ],
             [
              0.8888888888888888,
              "#b5de2b"
             ],
             [
              1,
              "#fde725"
             ]
            ],
            "type": "histogram2d"
           }
          ],
          "histogram2dcontour": [
           {
            "colorbar": {
             "outlinewidth": 1,
             "tickcolor": "rgb(36,36,36)",
             "ticks": "outside"
            },
            "colorscale": [
             [
              0,
              "#440154"
             ],
             [
              0.1111111111111111,
              "#482878"
             ],
             [
              0.2222222222222222,
              "#3e4989"
             ],
             [
              0.3333333333333333,
              "#31688e"
             ],
             [
              0.4444444444444444,
              "#26828e"
             ],
             [
              0.5555555555555556,
              "#1f9e89"
             ],
             [
              0.6666666666666666,
              "#35b779"
             ],
             [
              0.7777777777777778,
              "#6ece58"
             ],
             [
              0.8888888888888888,
              "#b5de2b"
             ],
             [
              1,
              "#fde725"
             ]
            ],
            "type": "histogram2dcontour"
           }
          ],
          "mesh3d": [
           {
            "colorbar": {
             "outlinewidth": 1,
             "tickcolor": "rgb(36,36,36)",
             "ticks": "outside"
            },
            "type": "mesh3d"
           }
          ],
          "parcoords": [
           {
            "line": {
             "colorbar": {
              "outlinewidth": 1,
              "tickcolor": "rgb(36,36,36)",
              "ticks": "outside"
             }
            },
            "type": "parcoords"
           }
          ],
          "pie": [
           {
            "automargin": true,
            "type": "pie"
           }
          ],
          "scatter": [
           {
            "fillpattern": {
             "fillmode": "overlay",
             "size": 10,
             "solidity": 0.2
            },
            "type": "scatter"
           }
          ],
          "scatter3d": [
           {
            "line": {
             "colorbar": {
              "outlinewidth": 1,
              "tickcolor": "rgb(36,36,36)",
              "ticks": "outside"
             }
            },
            "marker": {
             "colorbar": {
              "outlinewidth": 1,
              "tickcolor": "rgb(36,36,36)",
              "ticks": "outside"
             }
            },
            "type": "scatter3d"
           }
          ],
          "scattercarpet": [
           {
            "marker": {
             "colorbar": {
              "outlinewidth": 1,
              "tickcolor": "rgb(36,36,36)",
              "ticks": "outside"
             }
            },
            "type": "scattercarpet"
           }
          ],
          "scattergeo": [
           {
            "marker": {
             "colorbar": {
              "outlinewidth": 1,
              "tickcolor": "rgb(36,36,36)",
              "ticks": "outside"
             }
            },
            "type": "scattergeo"
           }
          ],
          "scattergl": [
           {
            "marker": {
             "colorbar": {
              "outlinewidth": 1,
              "tickcolor": "rgb(36,36,36)",
              "ticks": "outside"
             }
            },
            "type": "scattergl"
           }
          ],
          "scattermapbox": [
           {
            "marker": {
             "colorbar": {
              "outlinewidth": 1,
              "tickcolor": "rgb(36,36,36)",
              "ticks": "outside"
             }
            },
            "type": "scattermapbox"
           }
          ],
          "scatterpolar": [
           {
            "marker": {
             "colorbar": {
              "outlinewidth": 1,
              "tickcolor": "rgb(36,36,36)",
              "ticks": "outside"
             }
            },
            "type": "scatterpolar"
           }
          ],
          "scatterpolargl": [
           {
            "marker": {
             "colorbar": {
              "outlinewidth": 1,
              "tickcolor": "rgb(36,36,36)",
              "ticks": "outside"
             }
            },
            "type": "scatterpolargl"
           }
          ],
          "scatterternary": [
           {
            "marker": {
             "colorbar": {
              "outlinewidth": 1,
              "tickcolor": "rgb(36,36,36)",
              "ticks": "outside"
             }
            },
            "type": "scatterternary"
           }
          ],
          "surface": [
           {
            "colorbar": {
             "outlinewidth": 1,
             "tickcolor": "rgb(36,36,36)",
             "ticks": "outside"
            },
            "colorscale": [
             [
              0,
              "#440154"
             ],
             [
              0.1111111111111111,
              "#482878"
             ],
             [
              0.2222222222222222,
              "#3e4989"
             ],
             [
              0.3333333333333333,
              "#31688e"
             ],
             [
              0.4444444444444444,
              "#26828e"
             ],
             [
              0.5555555555555556,
              "#1f9e89"
             ],
             [
              0.6666666666666666,
              "#35b779"
             ],
             [
              0.7777777777777778,
              "#6ece58"
             ],
             [
              0.8888888888888888,
              "#b5de2b"
             ],
             [
              1,
              "#fde725"
             ]
            ],
            "type": "surface"
           }
          ],
          "table": [
           {
            "cells": {
             "fill": {
              "color": "rgb(237,237,237)"
             },
             "line": {
              "color": "white"
             }
            },
            "header": {
             "fill": {
              "color": "rgb(217,217,217)"
             },
             "line": {
              "color": "white"
             }
            },
            "type": "table"
           }
          ]
         },
         "layout": {
          "annotationdefaults": {
           "arrowhead": 0,
           "arrowwidth": 1
          },
          "autotypenumbers": "strict",
          "coloraxis": {
           "colorbar": {
            "outlinewidth": 1,
            "tickcolor": "rgb(36,36,36)",
            "ticks": "outside"
           }
          },
          "colorscale": {
           "diverging": [
            [
             0,
             "rgb(103,0,31)"
            ],
            [
             0.1,
             "rgb(178,24,43)"
            ],
            [
             0.2,
             "rgb(214,96,77)"
            ],
            [
             0.3,
             "rgb(244,165,130)"
            ],
            [
             0.4,
             "rgb(253,219,199)"
            ],
            [
             0.5,
             "rgb(247,247,247)"
            ],
            [
             0.6,
             "rgb(209,229,240)"
            ],
            [
             0.7,
             "rgb(146,197,222)"
            ],
            [
             0.8,
             "rgb(67,147,195)"
            ],
            [
             0.9,
             "rgb(33,102,172)"
            ],
            [
             1,
             "rgb(5,48,97)"
            ]
           ],
           "sequential": [
            [
             0,
             "#440154"
            ],
            [
             0.1111111111111111,
             "#482878"
            ],
            [
             0.2222222222222222,
             "#3e4989"
            ],
            [
             0.3333333333333333,
             "#31688e"
            ],
            [
             0.4444444444444444,
             "#26828e"
            ],
            [
             0.5555555555555556,
             "#1f9e89"
            ],
            [
             0.6666666666666666,
             "#35b779"
            ],
            [
             0.7777777777777778,
             "#6ece58"
            ],
            [
             0.8888888888888888,
             "#b5de2b"
            ],
            [
             1,
             "#fde725"
            ]
           ],
           "sequentialminus": [
            [
             0,
             "#440154"
            ],
            [
             0.1111111111111111,
             "#482878"
            ],
            [
             0.2222222222222222,
             "#3e4989"
            ],
            [
             0.3333333333333333,
             "#31688e"
            ],
            [
             0.4444444444444444,
             "#26828e"
            ],
            [
             0.5555555555555556,
             "#1f9e89"
            ],
            [
             0.6666666666666666,
             "#35b779"
            ],
            [
             0.7777777777777778,
             "#6ece58"
            ],
            [
             0.8888888888888888,
             "#b5de2b"
            ],
            [
             1,
             "#fde725"
            ]
           ]
          },
          "colorway": [
           "#1F77B4",
           "#FF7F0E",
           "#2CA02C",
           "#D62728",
           "#9467BD",
           "#8C564B",
           "#E377C2",
           "#7F7F7F",
           "#BCBD22",
           "#17BECF"
          ],
          "font": {
           "color": "rgb(36,36,36)"
          },
          "geo": {
           "bgcolor": "white",
           "lakecolor": "white",
           "landcolor": "white",
           "showlakes": true,
           "showland": true,
           "subunitcolor": "white"
          },
          "hoverlabel": {
           "align": "left"
          },
          "hovermode": "closest",
          "mapbox": {
           "style": "light"
          },
          "paper_bgcolor": "white",
          "plot_bgcolor": "white",
          "polar": {
           "angularaxis": {
            "gridcolor": "rgb(232,232,232)",
            "linecolor": "rgb(36,36,36)",
            "showgrid": false,
            "showline": true,
            "ticks": "outside"
           },
           "bgcolor": "white",
           "radialaxis": {
            "gridcolor": "rgb(232,232,232)",
            "linecolor": "rgb(36,36,36)",
            "showgrid": false,
            "showline": true,
            "ticks": "outside"
           }
          },
          "scene": {
           "xaxis": {
            "backgroundcolor": "white",
            "gridcolor": "rgb(232,232,232)",
            "gridwidth": 2,
            "linecolor": "rgb(36,36,36)",
            "showbackground": true,
            "showgrid": false,
            "showline": true,
            "ticks": "outside",
            "zeroline": false,
            "zerolinecolor": "rgb(36,36,36)"
           },
           "yaxis": {
            "backgroundcolor": "white",
            "gridcolor": "rgb(232,232,232)",
            "gridwidth": 2,
            "linecolor": "rgb(36,36,36)",
            "showbackground": true,
            "showgrid": false,
            "showline": true,
            "ticks": "outside",
            "zeroline": false,
            "zerolinecolor": "rgb(36,36,36)"
           },
           "zaxis": {
            "backgroundcolor": "white",
            "gridcolor": "rgb(232,232,232)",
            "gridwidth": 2,
            "linecolor": "rgb(36,36,36)",
            "showbackground": true,
            "showgrid": false,
            "showline": true,
            "ticks": "outside",
            "zeroline": false,
            "zerolinecolor": "rgb(36,36,36)"
           }
          },
          "shapedefaults": {
           "fillcolor": "black",
           "line": {
            "width": 0
           },
           "opacity": 0.3
          },
          "ternary": {
           "aaxis": {
            "gridcolor": "rgb(232,232,232)",
            "linecolor": "rgb(36,36,36)",
            "showgrid": false,
            "showline": true,
            "ticks": "outside"
           },
           "baxis": {
            "gridcolor": "rgb(232,232,232)",
            "linecolor": "rgb(36,36,36)",
            "showgrid": false,
            "showline": true,
            "ticks": "outside"
           },
           "bgcolor": "white",
           "caxis": {
            "gridcolor": "rgb(232,232,232)",
            "linecolor": "rgb(36,36,36)",
            "showgrid": false,
            "showline": true,
            "ticks": "outside"
           }
          },
          "title": {
           "x": 0.05
          },
          "xaxis": {
           "automargin": true,
           "gridcolor": "rgb(232,232,232)",
           "linecolor": "rgb(36,36,36)",
           "showgrid": false,
           "showline": true,
           "ticks": "outside",
           "title": {
            "standoff": 15
           },
           "zeroline": false,
           "zerolinecolor": "rgb(36,36,36)"
          },
          "yaxis": {
           "automargin": true,
           "gridcolor": "rgb(232,232,232)",
           "linecolor": "rgb(36,36,36)",
           "showgrid": false,
           "showline": true,
           "ticks": "outside",
           "title": {
            "standoff": 15
           },
           "zeroline": false,
           "zerolinecolor": "rgb(36,36,36)"
          }
         }
        },
        "title": {
         "font": {
          "color": "Black",
          "size": 22
         },
         "text": "<b>Topics over Time</b>",
         "x": 0.4,
         "xanchor": "center",
         "y": 0.95,
         "yanchor": "top"
        },
        "width": 1000,
        "xaxis": {
         "showgrid": true
        },
        "yaxis": {
         "showgrid": true,
         "title": {
          "text": "Count"
         }
        }
       }
      },
      "text/html": [
       "<div>                            <div id=\"16017f85-2af6-4d52-965e-2cfe51bca6d8\" class=\"plotly-graph-div\" style=\"height:500px; width:1000px;\"></div>            <script type=\"text/javascript\">                require([\"plotly\"], function(Plotly) {                    window.PLOTLYENV=window.PLOTLYENV || {};                                    if (document.getElementById(\"16017f85-2af6-4d52-965e-2cfe51bca6d8\")) {                    Plotly.newPlot(                        \"16017f85-2af6-4d52-965e-2cfe51bca6d8\",                        [{\"hoverinfo\":\"text\",\"hovertext\":[\"\\u003cb\\u003eTopic 0\\u003c\\u002fb\\u003e\\u003cbr\\u003eWords: arrangement, curator, suffolk, sedgwick, faculty\",\"\\u003cb\\u003eTopic 0\\u003c\\u002fb\\u003e\\u003cbr\\u003eWords: appointment, government, cambridge, chair, congratulate\",\"\\u003cb\\u003eTopic 0\\u003c\\u002fb\\u003e\\u003cbr\\u003eWords: cave, museum, ipswich, kidd, acton\",\"\\u003cb\\u003eTopic 0\\u003c\\u002fb\\u003e\\u003cbr\\u003eWords: occasion, jany, brighton, reply, march\",\"\\u003cb\\u003eTopic 0\\u003c\\u002fb\\u003e\\u003cbr\\u003eWords: queen, commissioner, egg, norwich, examination\",\"\\u003cb\\u003eTopic 0\\u003c\\u002fb\\u003e\\u003cbr\\u003eWords: mcbeath, manager, prime, museum, lecture\",\"\\u003cb\\u003eTopic 0\\u003c\\u002fb\\u003e\\u003cbr\\u003eWords: ticket, course, lecture, professor, suffolk\",\"\\u003cb\\u003eTopic 0\\u003c\\u002fb\\u003e\\u003cbr\\u003eWords: ipswich, museum, bretton, suffolk, walker\",\"\\u003cb\\u003eTopic 0\\u003c\\u002fb\\u003e\\u003cbr\\u003eWords: museum, cambridge, professor, pat, fraser\",\"\\u003cb\\u003eTopic 0\\u003c\\u002fb\\u003e\\u003cbr\\u003eWords: padre, invasion, grandchild, thames, old\",\"\\u003cb\\u003eTopic 0\\u003c\\u002fb\\u003e\\u003cbr\\u003eWords: series, museum, ipswich, scanty, object\",\"\\u003cb\\u003eTopic 0\\u003c\\u002fb\\u003e\\u003cbr\\u003eWords: eye, truth, question, planation, intercourse\",\"\\u003cb\\u003eTopic 0\\u003c\\u002fb\\u003e\\u003cbr\\u003eWords: nomination, currey, cadetship, cambridge, museum\",\"\\u003cb\\u003eTopic 0\\u003c\\u002fb\\u003e\\u003cbr\\u003eWords: museum, ipswich, cambridge, permission, lecture\",\"\\u003cb\\u003eTopic 0\\u003c\\u002fb\\u003e\\u003cbr\\u003eWords: museum, road, rail, cost, mould\",\"\\u003cb\\u003eTopic 0\\u003c\\u002fb\\u003e\\u003cbr\\u003eWords: ipswich, museum, knights, possessing, arrear\",\"\\u003cb\\u003eTopic 0\\u003c\\u002fb\\u003e\\u003cbr\\u003eWords: museum, ipswich, lecture, oxford, advancement\",\"\\u003cb\\u003eTopic 0\\u003c\\u002fb\\u003e\\u003cbr\\u003eWords: museum, qualification, examination, london, university\",\"\\u003cb\\u003eTopic 0\\u003c\\u002fb\\u003e\\u003cbr\\u003eWords: lecture, museum, professor, london, examination\",\"\\u003cb\\u003eTopic 0\\u003c\\u002fb\\u003e\\u003cbr\\u003eWords: museum, london, ipswich, cargo, packing\"],\"marker\":{\"color\":\"#E69F00\"},\"mode\":\"markers\",\"name\":\"0_museum_ipswich_lecture_suffolk\",\"x\":[\"1845-01-14T06:36:00\",\"1845-09-12T06:00:00\",\"1846-05-06T12:00:00\",\"1846-12-28T18:00:00\",\"1847-08-22T00:00:00\",\"1848-04-14T06:00:00\",\"1848-12-06T12:00:00\",\"1849-07-30T18:00:00\",\"1850-03-24T00:00:00\",\"1850-11-15T06:00:00\",\"1851-07-09T12:00:00\",\"1852-03-01T18:00:00\",\"1852-10-24T00:00:00\",\"1853-06-17T06:00:00\",\"1854-02-08T12:00:00\",\"1854-10-02T18:00:00\",\"1855-05-27T00:00:00\",\"1856-01-18T06:00:00\",\"1856-09-10T12:00:00\",\"1857-05-04T18:00:00\"],\"y\":[6,3,8,3,5,6,20,13,13,2,12,6,11,27,7,7,22,27,22,24],\"type\":\"scatter\"},{\"hoverinfo\":\"text\",\"hovertext\":[\"\\u003cb\\u003eTopic 1\\u003c\\u002fb\\u003e\\u003cbr\\u003eWords: signature, abundance, delay, shew, turn\",\"\\u003cb\\u003eTopic 1\\u003c\\u002fb\\u003e\\u003cbr\\u003eWords: pen, expense, remark, pamphlet, appearance\",\"\\u003cb\\u003eTopic 1\\u003c\\u002fb\\u003e\\u003cbr\\u003eWords: northd, gout, conveyance, printer, press\",\"\\u003cb\\u003eTopic 1\\u003c\\u002fb\\u003e\\u003cbr\\u003eWords: tell, bookseller, pocket, wire, table\",\"\\u003cb\\u003eTopic 1\\u003c\\u002fb\\u003e\\u003cbr\\u003eWords: read, report, paper, copy, book\",\"\\u003cb\\u003eTopic 1\\u003c\\u002fb\\u003e\\u003cbr\\u003eWords: owner, island, uncle, care, copy\",\"\\u003cb\\u003eTopic 1\\u003c\\u002fb\\u003e\\u003cbr\\u003eWords: reserve, signature, event, letter, care\",\"\\u003cb\\u003eTopic 1\\u003c\\u002fb\\u003e\\u003cbr\\u003eWords: atum, adhere, butter, press, copy\",\"\\u003cb\\u003eTopic 1\\u003c\\u002fb\\u003e\\u003cbr\\u003eWords: fiend, gift, gout, dent, sic\",\"\\u003cb\\u003eTopic 1\\u003c\\u002fb\\u003e\\u003cbr\\u003eWords: signature, table, letter, paper, copy\",\"\\u003cb\\u003eTopic 1\\u003c\\u002fb\\u003e\\u003cbr\\u003eWords: print, waste, overhaul, work, inform\",\"\\u003cb\\u003eTopic 1\\u003c\\u002fb\\u003e\\u003cbr\\u003eWords: copy, binder, physiol, comp, collectanea\",\"\\u003cb\\u003eTopic 1\\u003c\\u002fb\\u003e\\u003cbr\\u003eWords: copy, volume, signing, publishing, delay\",\"\\u003cb\\u003eTopic 1\\u003c\\u002fb\\u003e\\u003cbr\\u003eWords: other, monograph, follow, wait, design\",\"\\u003cb\\u003eTopic 1\\u003c\\u002fb\\u003e\\u003cbr\\u003eWords: paper, shelford, text_illegible, puzzle, preston\",\"\\u003cb\\u003eTopic 1\\u003c\\u002fb\\u003e\\u003cbr\\u003eWords: paper, book, copy, section, press\",\"\\u003cb\\u003eTopic 1\\u003c\\u002fb\\u003e\\u003cbr\\u003eWords: set, paper, book, copy, printer\",\"\\u003cb\\u003eTopic 1\\u003c\\u002fb\\u003e\\u003cbr\\u003eWords: copy, paper, print, book, distinct\",\"\\u003cb\\u003eTopic 1\\u003c\\u002fb\\u003e\\u003cbr\\u003eWords: paper, document, pith, inclose, copy\",\"\\u003cb\\u003eTopic 1\\u003c\\u002fb\\u003e\\u003cbr\\u003eWords: book, copy, sheet, printer, pocket\"],\"marker\":{\"color\":\"#56B4E9\"},\"mode\":\"markers\",\"name\":\"1_copy_paper_book_print\",\"x\":[\"1845-01-14T06:36:00\",\"1845-09-12T06:00:00\",\"1846-05-06T12:00:00\",\"1846-12-28T18:00:00\",\"1847-08-22T00:00:00\",\"1848-04-14T06:00:00\",\"1848-12-06T12:00:00\",\"1849-07-30T18:00:00\",\"1850-03-24T00:00:00\",\"1850-11-15T06:00:00\",\"1851-07-09T12:00:00\",\"1852-03-01T18:00:00\",\"1852-10-24T00:00:00\",\"1853-06-17T06:00:00\",\"1854-02-08T12:00:00\",\"1854-10-02T18:00:00\",\"1855-05-27T00:00:00\",\"1856-01-18T06:00:00\",\"1856-09-10T12:00:00\",\"1857-05-04T18:00:00\"],\"y\":[3,2,4,3,1,1,3,5,4,3,3,4,6,2,3,11,13,10,11,20],\"type\":\"scatter\"},{\"hoverinfo\":\"text\",\"hovertext\":[\"\\u003cb\\u003eTopic 2\\u003c\\u002fb\\u003e\\u003cbr\\u003eWords: nodule, london_clay, bone, derivative, whale\",\"\\u003cb\\u003eTopic 2\\u003c\\u002fb\\u003e\\u003cbr\\u003eWords: archaeology, verd, foundation, niger, withhold\",\"\\u003cb\\u003eTopic 2\\u003c\\u002fb\\u003e\\u003cbr\\u003eWords: bone, flint, tooth, cavern, kent\",\"\\u003cb\\u003eTopic 2\\u003c\\u002fb\\u003e\\u003cbr\\u003eWords: woodwardian, shell, box, fossil, bone\",\"\\u003cb\\u003eTopic 2\\u003c\\u002fb\\u003e\\u003cbr\\u003eWords: chalk, fault, greensand, weald, shanklin\",\"\\u003cb\\u003eTopic 2\\u003c\\u002fb\\u003e\\u003cbr\\u003eWords: elschotzia, diam, pistil, dissecting, inch\",\"\\u003cb\\u003eTopic 2\\u003c\\u002fb\\u003e\\u003cbr\\u003eWords: salterton, budleigh, pebble, devonshire, specimen\",\"\\u003cb\\u003eTopic 2\\u003c\\u002fb\\u003e\\u003cbr\\u003eWords: crag, epoch, pliocene, drift, miocene\",\"\\u003cb\\u003eTopic 2\\u003c\\u002fb\\u003e\\u003cbr\\u003eWords: fossil, specimen, lignite, department, illustration\",\"\\u003cb\\u003eTopic 2\\u003c\\u002fb\\u003e\\u003cbr\\u003eWords: geology, gen, mineralogy, reverse, clark\",\"\\u003cb\\u003eTopic 2\\u003c\\u002fb\\u003e\\u003cbr\\u003eWords: explanation, geol_soc, fossil, owen, speciman\",\"\\u003cb\\u003eTopic 2\\u003c\\u002fb\\u003e\\u003cbr\\u003eWords: fossil, inclination, sho, specimen, soho\",\"\\u003cb\\u003eTopic 2\\u003c\\u002fb\\u003e\\u003cbr\\u003eWords: ox, bos, tooth, priscus, comparison\",\"\\u003cb\\u003eTopic 2\\u003c\\u002fb\\u003e\\u003cbr\\u003eWords: depth, mineral, chalk, fossil, specimen\",\"\\u003cb\\u003eTopic 2\\u003c\\u002fb\\u003e\\u003cbr\\u003eWords: bed, fossil, specimen, flint, london_clay\",\"\\u003cb\\u003eTopic 2\\u003c\\u002fb\\u003e\\u003cbr\\u003eWords: fossil, bone, skull, limb, mammal\",\"\\u003cb\\u003eTopic 2\\u003c\\u002fb\\u003e\\u003cbr\\u003eWords: limestone, silurian, batata, coryphodon, larch\",\"\\u003cb\\u003eTopic 2\\u003c\\u002fb\\u003e\\u003cbr\\u003eWords: collecting, specimen, zealand, geologist, thousands\"],\"marker\":{\"color\":\"#009E73\"},\"mode\":\"markers\",\"name\":\"2_fossil_bone_specimen_nodule\",\"x\":[\"1845-01-14T06:36:00\",\"1845-09-12T06:00:00\",\"1846-05-06T12:00:00\",\"1848-04-14T06:00:00\",\"1848-12-06T12:00:00\",\"1849-07-30T18:00:00\",\"1850-03-24T00:00:00\",\"1850-11-15T06:00:00\",\"1851-07-09T12:00:00\",\"1852-03-01T18:00:00\",\"1852-10-24T00:00:00\",\"1853-06-17T06:00:00\",\"1854-02-08T12:00:00\",\"1854-10-02T18:00:00\",\"1855-05-27T00:00:00\",\"1856-01-18T06:00:00\",\"1856-09-10T12:00:00\",\"1857-05-04T18:00:00\"],\"y\":[11,2,10,1,1,1,1,6,9,2,1,9,3,8,9,17,7,7],\"type\":\"scatter\"},{\"hoverinfo\":\"text\",\"hovertext\":[\"\\u003cb\\u003eTopic 3\\u003c\\u002fb\\u003e\\u003cbr\\u003eWords: winchester, dean, whewell, hitcham_hadleigh, central\",\"\\u003cb\\u003eTopic 3\\u003c\\u002fb\\u003e\\u003cbr\\u003eWords: provoke, explosion, squire, winchester, place\",\"\\u003cb\\u003eTopic 3\\u003c\\u002fb\\u003e\\u003cbr\\u003eWords: whewell, bilston, el, perform, bildeston\",\"\\u003cb\\u003eTopic 3\\u003c\\u002fb\\u003e\\u003cbr\\u003eWords: bradwell, juxta, ythancester, hadl, mare\",\"\\u003cb\\u003eTopic 3\\u003c\\u002fb\\u003e\\u003cbr\\u003eWords: hitcham, united_regards, letter, castle, burgh\",\"\\u003cb\\u003eTopic 3\\u003c\\u002fb\\u003e\\u003cbr\\u003eWords: hitcham, wagon, recognize, sleep, stranger\",\"\\u003cb\\u003eTopic 3\\u003c\\u002fb\\u003e\\u003cbr\\u003eWords: hitcham, farmer, suffolk, land, woman\",\"\\u003cb\\u003eTopic 3\\u003c\\u002fb\\u003e\\u003cbr\\u003eWords: legation, bancroft, steven, messenger, approbation\",\"\\u003cb\\u003eTopic 3\\u003c\\u002fb\\u003e\\u003cbr\\u003eWords: hitcham, dead, farmer, john, thomas\",\"\\u003cb\\u003eTopic 3\\u003c\\u002fb\\u003e\\u003cbr\\u003eWords: hereford, reunion, lyells, america, sail\",\"\\u003cb\\u003eTopic 3\\u003c\\u002fb\\u003e\\u003cbr\\u003eWords: hitcham, nov, sedgwick, nunc, sykes\",\"\\u003cb\\u003eTopic 3\\u003c\\u002fb\\u003e\\u003cbr\\u003eWords: hitcham, hereford, school, mistress, whiteland\",\"\\u003cb\\u003eTopic 3\\u003c\\u002fb\\u003e\\u003cbr\\u003eWords: hitcham, excursion, trombone, suffk, pipe\",\"\\u003cb\\u003eTopic 3\\u003c\\u002fb\\u003e\\u003cbr\\u003eWords: hadlegh, hitcham, deluge, dean, introduction\",\"\\u003cb\\u003eTopic 3\\u003c\\u002fb\\u003e\\u003cbr\\u003eWords: hitcham, farmer, hitcham_bildeston, suffolk, hereford\",\"\\u003cb\\u003eTopic 3\\u003c\\u002fb\\u003e\\u003cbr\\u003eWords: hitcham_bildeston, grove, curacy, question, hitcham\",\"\\u003cb\\u003eTopic 3\\u003c\\u002fb\\u003e\\u003cbr\\u003eWords: hitcham_bildeston, hitcham, procure, letter, legion\",\"\\u003cb\\u003eTopic 3\\u003c\\u002fb\\u003e\\u003cbr\\u003eWords: hitcham, cambridgeshire, unfortunate, circencester, landowner\"],\"marker\":{\"color\":\"#F0E442\"},\"mode\":\"markers\",\"name\":\"3_hitcham_farmer_hereford_suffolk\",\"x\":[\"1845-01-14T06:36:00\",\"1845-09-12T06:00:00\",\"1846-05-06T12:00:00\",\"1847-08-22T00:00:00\",\"1848-04-14T06:00:00\",\"1848-12-06T12:00:00\",\"1849-07-30T18:00:00\",\"1850-03-24T00:00:00\",\"1850-11-15T06:00:00\",\"1852-03-01T18:00:00\",\"1852-10-24T00:00:00\",\"1853-06-17T06:00:00\",\"1854-02-08T12:00:00\",\"1854-10-02T18:00:00\",\"1855-05-27T00:00:00\",\"1856-01-18T06:00:00\",\"1856-09-10T12:00:00\",\"1857-05-04T18:00:00\"],\"y\":[7,3,2,3,2,6,8,4,10,3,5,14,6,3,7,10,6,4],\"type\":\"scatter\"},{\"hoverinfo\":\"text\",\"hovertext\":[\"\\u003cb\\u003eTopic 4\\u003c\\u002fb\\u003e\\u003cbr\\u003eWords: cowslip, variety, polyanthu, gardener, botanic_garden\",\"\\u003cb\\u003eTopic 4\\u003c\\u002fb\\u003e\\u003cbr\\u003eWords: plant, galapagos, chonos, isld, flora\",\"\\u003cb\\u003eTopic 4\\u003c\\u002fb\\u003e\\u003cbr\\u003eWords: botany, duty, plant, nursery, coniferae\",\"\\u003cb\\u003eTopic 4\\u003c\\u002fb\\u003e\\u003cbr\\u003eWords: ago, conifer, precaution, laboratory, desiderata\",\"\\u003cb\\u003eTopic 4\\u003c\\u002fb\\u003e\\u003cbr\\u003eWords: plant, cycadeae, babbage, kind, wmhooker\",\"\\u003cb\\u003eTopic 4\\u003c\\u002fb\\u003e\\u003cbr\\u003eWords: term, period, dare, command, monday\",\"\\u003cb\\u003eTopic 4\\u003c\\u002fb\\u003e\\u003cbr\\u003eWords: syllabus, botany, apprenticeship, lecturing, limitation\",\"\\u003cb\\u003eTopic 4\\u003c\\u002fb\\u003e\\u003cbr\\u003eWords: plant, bryony, black, grandiflora, melittis\",\"\\u003cb\\u003eTopic 4\\u003c\\u002fb\\u003e\\u003cbr\\u003eWords: genera, hadley, garden, trustee, lindley\",\"\\u003cb\\u003eTopic 4\\u003c\\u002fb\\u003e\\u003cbr\\u003eWords: plant, paragraph, florist, manual, habitat\",\"\\u003cb\\u003eTopic 4\\u003c\\u002fb\\u003e\\u003cbr\\u003eWords: nigra, mercurialis, vectis, centaurea, linnaei\",\"\\u003cb\\u003eTopic 4\\u003c\\u002fb\\u003e\\u003cbr\\u003eWords: diagrams, plant, botany, education, schools\",\"\\u003cb\\u003eTopic 4\\u003c\\u002fb\\u003e\\u003cbr\\u003eWords: zoophytes, bewick, bewickshire, sponge, founder\",\"\\u003cb\\u003eTopic 4\\u003c\\u002fb\\u003e\\u003cbr\\u003eWords: plant, vinegar, lemonade, jam, meaning\",\"\\u003cb\\u003eTopic 4\\u003c\\u002fb\\u003e\\u003cbr\\u003eWords: building, preference, butcher, generalization, asking\",\"\\u003cb\\u003eTopic 4\\u003c\\u002fb\\u003e\\u003cbr\\u003eWords: herbarium, botanist, botany, cambridge, museum\",\"\\u003cb\\u003eTopic 4\\u003c\\u002fb\\u003e\\u003cbr\\u003eWords: yesterdays, causation, fragaria, wildflower, excursionize\",\"\\u003cb\\u003eTopic 4\\u003c\\u002fb\\u003e\\u003cbr\\u003eWords: plant, botany, garden, glastonbury, unedo\",\"\\u003cb\\u003eTopic 4\\u003c\\u002fb\\u003e\\u003cbr\\u003eWords: plant, gardeners_chronicle, botanist, botany, flora\",\"\\u003cb\\u003eTopic 4\\u003c\\u002fb\\u003e\\u003cbr\\u003eWords: seed, plant, bastard, mezereon, squarrosa\"],\"marker\":{\"color\":\"#D55E00\"},\"mode\":\"markers\",\"name\":\"4_plant_botany_garden_botanist\",\"x\":[\"1845-01-14T06:36:00\",\"1845-09-12T06:00:00\",\"1846-05-06T12:00:00\",\"1846-12-28T18:00:00\",\"1847-08-22T00:00:00\",\"1848-04-14T06:00:00\",\"1848-12-06T12:00:00\",\"1849-07-30T18:00:00\",\"1850-03-24T00:00:00\",\"1850-11-15T06:00:00\",\"1851-07-09T12:00:00\",\"1852-03-01T18:00:00\",\"1852-10-24T00:00:00\",\"1853-06-17T06:00:00\",\"1854-02-08T12:00:00\",\"1854-10-02T18:00:00\",\"1855-05-27T00:00:00\",\"1856-01-18T06:00:00\",\"1856-09-10T12:00:00\",\"1857-05-04T18:00:00\"],\"y\":[5,6,5,3,2,1,3,10,4,3,7,6,1,2,1,5,4,13,14,6],\"type\":\"scatter\"},{\"hoverinfo\":\"text\",\"hovertext\":[\"\\u003cb\\u003eTopic 5\\u003c\\u002fb\\u003e\\u003cbr\\u003eWords: ball, septaria, phosphorus, lime, coprolite\",\"\\u003cb\\u003eTopic 5\\u003c\\u002fb\\u003e\\u003cbr\\u003eWords: pot, question, shale, oil, acid\",\"\\u003cb\\u003eTopic 5\\u003c\\u002fb\\u003e\\u003cbr\\u003eWords: naphtha, petroleum, bottle, shale, acid\",\"\\u003cb\\u003eTopic 5\\u003c\\u002fb\\u003e\\u003cbr\\u003eWords: shale, oil, grease, liquid, acid\",\"\\u003cb\\u003eTopic 5\\u003c\\u002fb\\u003e\\u003cbr\\u003eWords: shale, acid, oil, lime, water\",\"\\u003cb\\u003eTopic 5\\u003c\\u002fb\\u003e\\u003cbr\\u003eWords: adulteration, sugar, beer, acid, pepper\",\"\\u003cb\\u003eTopic 5\\u003c\\u002fb\\u003e\\u003cbr\\u003eWords: hydrogen, gas, sodium, oxide, bottle\",\"\\u003cb\\u003eTopic 5\\u003c\\u002fb\\u003e\\u003cbr\\u003eWords: taper, clip, seal, manipulate, rapidity\",\"\\u003cb\\u003eTopic 5\\u003c\\u002fb\\u003e\\u003cbr\\u003eWords: iron, fuel, crystaline, nickel, smoke\",\"\\u003cb\\u003eTopic 5\\u003c\\u002fb\\u003e\\u003cbr\\u003eWords: junction, per_cent, deposit, nodule, fitton\",\"\\u003cb\\u003eTopic 5\\u003c\\u002fb\\u003e\\u003cbr\\u003eWords: fountain, cottage, oxycalcium, front, tank\",\"\\u003cb\\u003eTopic 5\\u003c\\u002fb\\u003e\\u003cbr\\u003eWords: dew, sewage, closet, substance, avail\"],\"marker\":{\"color\":\"#0072B2\"},\"mode\":\"markers\",\"name\":\"5_shale_acid_oil_lime\",\"x\":[\"1845-01-14T06:36:00\",\"1845-09-12T06:00:00\",\"1848-04-14T06:00:00\",\"1849-07-30T18:00:00\",\"1850-11-15T06:00:00\",\"1851-07-09T12:00:00\",\"1853-06-17T06:00:00\",\"1854-10-02T18:00:00\",\"1855-05-27T00:00:00\",\"1856-01-18T06:00:00\",\"1856-09-10T12:00:00\",\"1857-05-04T18:00:00\"],\"y\":[3,1,1,13,32,11,6,1,4,2,2,2],\"type\":\"scatter\"},{\"hoverinfo\":\"text\",\"hovertext\":[\"\\u003cb\\u003eTopic 6\\u003c\\u002fb\\u003e\\u003cbr\\u003eWords: riddle, evidence, claim, note, notice\",\"\\u003cb\\u003eTopic 6\\u003c\\u002fb\\u003e\\u003cbr\\u003eWords: objection, comment, note, thank, remark\",\"\\u003cb\\u003eTopic 6\\u003c\\u002fb\\u003e\\u003cbr\\u003eWords: idea, objection, comment, note, thank\",\"\\u003cb\\u003eTopic 6\\u003c\\u002fb\\u003e\\u003cbr\\u003eWords: alter, forgot, improvement, note, objection\",\"\\u003cb\\u003eTopic 6\\u003c\\u002fb\\u003e\\u003cbr\\u003eWords: point, objection, comment, note, thank\",\"\\u003cb\\u003eTopic 6\\u003c\\u002fb\\u003e\\u003cbr\\u003eWords: comment, objection, way, oclock, attend\",\"\\u003cb\\u003eTopic 6\\u003c\\u002fb\\u003e\\u003cbr\\u003eWords: none, approximation, suspect, talk, reason\",\"\\u003cb\\u003eTopic 6\\u003c\\u002fb\\u003e\\u003cbr\\u003eWords: comment, cam, objection, qualification, ex\",\"\\u003cb\\u003eTopic 6\\u003c\\u002fb\\u003e\\u003cbr\\u003eWords: convenient, sabine, help, objection, eye\",\"\\u003cb\\u003eTopic 6\\u003c\\u002fb\\u003e\\u003cbr\\u003eWords: beche, answer, thank, objection, comment\",\"\\u003cb\\u003eTopic 6\\u003c\\u002fb\\u003e\\u003cbr\\u003eWords: objection, statement, reference, note, copy\",\"\\u003cb\\u003eTopic 6\\u003c\\u002fb\\u003e\\u003cbr\\u003eWords: reverse, ii, consideration, duplicate, lindley\",\"\\u003cb\\u003eTopic 6\\u003c\\u002fb\\u003e\\u003cbr\\u003eWords: ism, thank, ps, lie, objection\",\"\\u003cb\\u003eTopic 6\\u003c\\u002fb\\u003e\\u003cbr\\u003eWords: negative, investigator, point, objection, comment\",\"\\u003cb\\u003eTopic 6\\u003c\\u002fb\\u003e\\u003cbr\\u003eWords: note, sub, source, point, objection\",\"\\u003cb\\u003eTopic 6\\u003c\\u002fb\\u003e\\u003cbr\\u003eWords: wait, credit, source, discussion, evidence\",\"\\u003cb\\u003eTopic 6\\u003c\\u002fb\\u003e\\u003cbr\\u003eWords: comment, hurry, posting, remark, apparatus\",\"\\u003cb\\u003eTopic 6\\u003c\\u002fb\\u003e\\u003cbr\\u003eWords: comment, couple, dozen, promise, lot\",\"\\u003cb\\u003eTopic 6\\u003c\\u002fb\\u003e\\u003cbr\\u003eWords: edition, voorst, annotation, second, conclusion\"],\"marker\":{\"color\":\"#CC79A7\"},\"mode\":\"markers\",\"name\":\"6_objection_comment_note_thank\",\"x\":[\"1845-01-14T06:36:00\",\"1845-09-12T06:00:00\",\"1846-05-06T12:00:00\",\"1846-12-28T18:00:00\",\"1847-08-22T00:00:00\",\"1848-12-06T12:00:00\",\"1849-07-30T18:00:00\",\"1850-03-24T00:00:00\",\"1850-11-15T06:00:00\",\"1851-07-09T12:00:00\",\"1852-03-01T18:00:00\",\"1852-10-24T00:00:00\",\"1853-06-17T06:00:00\",\"1854-02-08T12:00:00\",\"1854-10-02T18:00:00\",\"1855-05-27T00:00:00\",\"1856-01-18T06:00:00\",\"1856-09-10T12:00:00\",\"1857-05-04T18:00:00\"],\"y\":[4,1,1,3,1,11,4,8,2,2,3,4,4,2,4,6,6,6,4],\"type\":\"scatter\"},{\"hoverinfo\":\"text\",\"hovertext\":[\"\\u003cb\\u003eTopic 7\\u003c\\u002fb\\u003e\\u003cbr\\u003eWords: productiveness, labourer, sort, variety, ground\",\"\\u003cb\\u003eTopic 7\\u003c\\u002fb\\u003e\\u003cbr\\u003eWords: loan, pound, sum, govt, installment\",\"\\u003cb\\u003eTopic 7\\u003c\\u002fb\\u003e\\u003cbr\\u003eWords: leak, parcel, bottle, side, sum\",\"\\u003cb\\u003eTopic 7\\u003c\\u002fb\\u003e\\u003cbr\\u003eWords: addendum, trouble, editor, sum, instance\",\"\\u003cb\\u003eTopic 7\\u003c\\u002fb\\u003e\\u003cbr\\u003eWords: hint, sort, book, sum, price\",\"\\u003cb\\u003eTopic 7\\u003c\\u002fb\\u003e\\u003cbr\\u003eWords: addition, sum, price, sort, amount\",\"\\u003cb\\u003eTopic 7\\u003c\\u002fb\\u003e\\u003cbr\\u003eWords: equation, order, quality, deposit, sum\",\"\\u003cb\\u003eTopic 7\\u003c\\u002fb\\u003e\\u003cbr\\u003eWords: sum, item, shape, leg, amount\",\"\\u003cb\\u003eTopic 7\\u003c\\u002fb\\u003e\\u003cbr\\u003eWords: supply, sum, price, sort, amount\",\"\\u003cb\\u003eTopic 7\\u003c\\u002fb\\u003e\\u003cbr\\u003eWords: price, genera, order, euchiridium, fat\",\"\\u003cb\\u003eTopic 7\\u003c\\u002fb\\u003e\\u003cbr\\u003eWords: deficiency, sq, bloomsbury, supply, queen\",\"\\u003cb\\u003eTopic 7\\u003c\\u002fb\\u003e\\u003cbr\\u003eWords: hopkin, mantell, charge, description, speciman\",\"\\u003cb\\u003eTopic 7\\u003c\\u002fb\\u003e\\u003cbr\\u003eWords: dilapidation, sum, successor, fixture, largish\",\"\\u003cb\\u003eTopic 7\\u003c\\u002fb\\u003e\\u003cbr\\u003eWords: daguerrotypes, shade, choice, rate, price\",\"\\u003cb\\u003eTopic 7\\u003c\\u002fb\\u003e\\u003cbr\\u003eWords: price, sum, amount, donor, prop\",\"\\u003cb\\u003eTopic 7\\u003c\\u002fb\\u003e\\u003cbr\\u003eWords: valuation, sort, value, settle, compulsion\",\"\\u003cb\\u003eTopic 7\\u003c\\u002fb\\u003e\\u003cbr\\u003eWords: value, ratio, mutilation, increase, money\",\"\\u003cb\\u003eTopic 7\\u003c\\u002fb\\u003e\\u003cbr\\u003eWords: price, amount, statistic, sum, number\",\"\\u003cb\\u003eTopic 7\\u003c\\u002fb\\u003e\\u003cbr\\u003eWords: labour, sum, charge, value, number\"],\"marker\":{\"color\":\"#E69F00\"},\"mode\":\"markers\",\"name\":\"7_sum_price_sort_amount\",\"x\":[\"1845-01-14T06:36:00\",\"1845-09-12T06:00:00\",\"1846-05-06T12:00:00\",\"1846-12-28T18:00:00\",\"1848-04-14T06:00:00\",\"1848-12-06T12:00:00\",\"1849-07-30T18:00:00\",\"1850-03-24T00:00:00\",\"1850-11-15T06:00:00\",\"1851-07-09T12:00:00\",\"1852-03-01T18:00:00\",\"1852-10-24T00:00:00\",\"1853-06-17T06:00:00\",\"1854-02-08T12:00:00\",\"1854-10-02T18:00:00\",\"1855-05-27T00:00:00\",\"1856-01-18T06:00:00\",\"1856-09-10T12:00:00\",\"1857-05-04T18:00:00\"],\"y\":[2,5,1,2,1,1,4,4,1,7,1,1,4,2,4,8,2,12,11],\"type\":\"scatter\"},{\"hoverinfo\":\"text\",\"hovertext\":[\"\\u003cb\\u003eTopic 8\\u003c\\u002fb\\u003e\\u003cbr\\u003eWords: hutton, lindley, hooker, lady, dr\",\"\\u003cb\\u003eTopic 8\\u003c\\u002fb\\u003e\\u003cbr\\u003eWords: sequel, jan, lindley, hooker, suffolk\",\"\\u003cb\\u003eTopic 8\\u003c\\u002fb\\u003e\\u003cbr\\u003eWords: hooker, miss, custody, retreat, agriculturist\",\"\\u003cb\\u003eTopic 8\\u003c\\u002fb\\u003e\\u003cbr\\u003eWords: hooker, accommodation, gateway, niece, room\",\"\\u003cb\\u003eTopic 8\\u003c\\u002fb\\u003e\\u003cbr\\u003eWords: hooker, lady, wheat, care, shingle\",\"\\u003cb\\u003eTopic 8\\u003c\\u002fb\\u003e\\u003cbr\\u003eWords: vegetable, kingdom, lindley, hooker, lady\",\"\\u003cb\\u003eTopic 8\\u003c\\u002fb\\u003e\\u003cbr\\u003eWords: hooker, lindley, atriplex, guess, treat\",\"\\u003cb\\u003eTopic 8\\u003c\\u002fb\\u003e\\u003cbr\\u003eWords: lady, cassel, foreigner, living, hooker\",\"\\u003cb\\u003eTopic 8\\u003c\\u002fb\\u003e\\u003cbr\\u003eWords: affte, hooker, jos, lindley, lady\",\"\\u003cb\\u003eTopic 8\\u003c\\u002fb\\u003e\\u003cbr\\u003eWords: fool, rascallitie, breast, rogue, course\",\"\\u003cb\\u003eTopic 8\\u003c\\u002fb\\u003e\\u003cbr\\u003eWords: hooker, dr, expectant, grandmamma, disquietude\",\"\\u003cb\\u003eTopic 8\\u003c\\u002fb\\u003e\\u003cbr\\u003eWords: hooker, refutation, til, confinement, repute\",\"\\u003cb\\u003eTopic 8\\u003c\\u002fb\\u003e\\u003cbr\\u003eWords: hooker, playfair, days_ago, griffin, return\",\"\\u003cb\\u003eTopic 8\\u003c\\u002fb\\u003e\\u003cbr\\u003eWords: hooker, midnight, presentation, brentford, latham\",\"\\u003cb\\u003eTopic 8\\u003c\\u002fb\\u003e\\u003cbr\\u003eWords: guinea, hooker, faulty, solution, bear\",\"\\u003cb\\u003eTopic 8\\u003c\\u002fb\\u003e\\u003cbr\\u003eWords: hooker, evg, james, lady, carlisle\",\"\\u003cb\\u003eTopic 8\\u003c\\u002fb\\u003e\\u003cbr\\u003eWords: hooker, lent, fitz, lucubration, misunderstood\",\"\\u003cb\\u003eTopic 8\\u003c\\u002fb\\u003e\\u003cbr\\u003eWords: hooker, fait, fulfill, clue, amendment\",\"\\u003cb\\u003eTopic 8\\u003c\\u002fb\\u003e\\u003cbr\\u003eWords: hooker, sinclair, assurance, dr, regrets\"],\"marker\":{\"color\":\"#56B4E9\"},\"mode\":\"markers\",\"name\":\"8_hooker_lindley_lady_dr\",\"x\":[\"1845-01-14T06:36:00\",\"1845-09-12T06:00:00\",\"1846-05-06T12:00:00\",\"1846-12-28T18:00:00\",\"1847-08-22T00:00:00\",\"1848-04-14T06:00:00\",\"1849-07-30T18:00:00\",\"1850-03-24T00:00:00\",\"1850-11-15T06:00:00\",\"1851-07-09T12:00:00\",\"1852-03-01T18:00:00\",\"1852-10-24T00:00:00\",\"1853-06-17T06:00:00\",\"1854-02-08T12:00:00\",\"1854-10-02T18:00:00\",\"1855-05-27T00:00:00\",\"1856-01-18T06:00:00\",\"1856-09-10T12:00:00\",\"1857-05-04T18:00:00\"],\"y\":[1,2,5,3,3,1,4,2,2,1,4,3,2,2,3,5,4,3,9],\"type\":\"scatter\"},{\"hoverinfo\":\"text\",\"hovertext\":[\"\\u003cb\\u003eTopic 9\\u003c\\u002fb\\u003e\\u003cbr\\u003eWords: benjamin, maund, self, circle, family\",\"\\u003cb\\u003eTopic 9\\u003c\\u002fb\\u003e\\u003cbr\\u003eWords: kindest_regard, mary, pray, lady, father\",\"\\u003cb\\u003eTopic 9\\u003c\\u002fb\\u003e\\u003cbr\\u003eWords: girl, sojourn, hs, family, ball\",\"\\u003cb\\u003eTopic 9\\u003c\\u002fb\\u003e\\u003cbr\\u003eWords: family, gutch, charlesworth, wife, girl\",\"\\u003cb\\u003eTopic 9\\u003c\\u002fb\\u003e\\u003cbr\\u003eWords: asedgwick, affec, love, lady, family\",\"\\u003cb\\u003eTopic 9\\u003c\\u002fb\\u003e\\u003cbr\\u003eWords: turner, miss, family, wife, lady\",\"\\u003cb\\u003eTopic 9\\u003c\\u002fb\\u003e\\u003cbr\\u003eWords: wife, womankind, kindest_regard, love, necessity\",\"\\u003cb\\u003eTopic 9\\u003c\\u002fb\\u003e\\u003cbr\\u003eWords: maggie, marchesa, officinalis, bab, wife\",\"\\u003cb\\u003eTopic 9\\u003c\\u002fb\\u003e\\u003cbr\\u003eWords: pray, sister, join, remembrance, circulation\",\"\\u003cb\\u003eTopic 9\\u003c\\u002fb\\u003e\\u003cbr\\u003eWords: louise, leg, circle, family, miss\",\"\\u003cb\\u003eTopic 9\\u003c\\u002fb\\u003e\\u003cbr\\u003eWords: husband, wife, daughter, rdawe, affey\",\"\\u003cb\\u003eTopic 9\\u003c\\u002fb\\u003e\\u003cbr\\u003eWords: advice, daughter, trouble, thank, family\",\"\\u003cb\\u003eTopic 9\\u003c\\u002fb\\u003e\\u003cbr\\u003eWords: satisfy, deluge, mistress, sister, lady\",\"\\u003cb\\u003eTopic 9\\u003c\\u002fb\\u003e\\u003cbr\\u003eWords: betray, equanimity, wife, suffering, family\",\"\\u003cb\\u003eTopic 9\\u003c\\u002fb\\u003e\\u003cbr\\u003eWords: wife, anne, joanna, relation, belper\",\"\\u003cb\\u003eTopic 9\\u003c\\u002fb\\u003e\\u003cbr\\u003eWords: youngster, wife, family, lady, daughter\",\"\\u003cb\\u003eTopic 9\\u003c\\u002fb\\u003e\\u003cbr\\u003eWords: family, louise, wife, wrist, coughs\"],\"marker\":{\"color\":\"#009E73\"},\"mode\":\"markers\",\"name\":\"9_family_wife_lady_daughter\",\"x\":[\"1845-01-14T06:36:00\",\"1845-09-12T06:00:00\",\"1846-05-06T12:00:00\",\"1846-12-28T18:00:00\",\"1847-08-22T00:00:00\",\"1848-04-14T06:00:00\",\"1848-12-06T12:00:00\",\"1849-07-30T18:00:00\",\"1850-03-24T00:00:00\",\"1852-03-01T18:00:00\",\"1853-06-17T06:00:00\",\"1854-02-08T12:00:00\",\"1854-10-02T18:00:00\",\"1855-05-27T00:00:00\",\"1856-01-18T06:00:00\",\"1856-09-10T12:00:00\",\"1857-05-04T18:00:00\"],\"y\":[1,3,3,5,1,1,3,3,7,2,6,1,4,3,5,2,9],\"type\":\"scatter\"},{\"hoverinfo\":\"text\",\"hovertext\":[\"\\u003cb\\u003eTopic 10\\u003c\\u002fb\\u003e\\u003cbr\\u003eWords: goulburn, compass, owen, henry, specie\",\"\\u003cb\\u003eTopic 10\\u003c\\u002fb\\u003e\\u003cbr\\u003eWords: coleman, henry, respect, owen, reeve\",\"\\u003cb\\u003eTopic 10\\u003c\\u002fb\\u003e\\u003cbr\\u003eWords: coleman, henry, owen, reeve, longman\",\"\\u003cb\\u003eTopic 10\\u003c\\u002fb\\u003e\\u003cbr\\u003eWords: campbell, lefevre, vicar, shaw, nephew\",\"\\u003cb\\u003eTopic 10\\u003c\\u002fb\\u003e\\u003cbr\\u003eWords: scott, owen, reeve, henry, longman\",\"\\u003cb\\u003eTopic 10\\u003c\\u002fb\\u003e\\u003cbr\\u003eWords: violence, fred, obt, pollock, appearance\",\"\\u003cb\\u003eTopic 10\\u003c\\u002fb\\u003e\\u003cbr\\u003eWords: reeve, algernon, sec, pollock, owen\",\"\\u003cb\\u003eTopic 10\\u003c\\u002fb\\u003e\\u003cbr\\u003eWords: moseley, henry, westminster, owen, boy\",\"\\u003cb\\u003eTopic 10\\u003c\\u002fb\\u003e\\u003cbr\\u003eWords: owen, telerpeton, longman, miller, equivocation\",\"\\u003cb\\u003eTopic 10\\u003c\\u002fb\\u003e\\u003cbr\\u003eWords: armadillo, betn, curtis, miller, owen\",\"\\u003cb\\u003eTopic 10\\u003c\\u002fb\\u003e\\u003cbr\\u003eWords: owen, compliment, season, thank, reeve\",\"\\u003cb\\u003eTopic 10\\u003c\\u002fb\\u003e\\u003cbr\\u003eWords: heywood, moustache, mess, captain, taylor\",\"\\u003cb\\u003eTopic 10\\u003c\\u002fb\\u003e\\u003cbr\\u003eWords: londerburgh, herbert, expry, miller, clark\",\"\\u003cb\\u003eTopic 10\\u003c\\u002fb\\u003e\\u003cbr\\u003eWords: thornthwaite, yarrell, gambier, parry, poole\",\"\\u003cb\\u003eTopic 10\\u003c\\u002fb\\u003e\\u003cbr\\u003eWords: reeve, longman, thomas, rolfe, reconsideration\"],\"marker\":{\"color\":\"#F0E442\"},\"mode\":\"markers\",\"name\":\"10_owen_reeve_henry_longman\",\"x\":[\"1845-01-14T06:36:00\",\"1845-09-12T06:00:00\",\"1846-05-06T12:00:00\",\"1846-12-28T18:00:00\",\"1847-08-22T00:00:00\",\"1848-04-14T06:00:00\",\"1849-07-30T18:00:00\",\"1851-07-09T12:00:00\",\"1852-10-24T00:00:00\",\"1853-06-17T06:00:00\",\"1854-10-02T18:00:00\",\"1855-05-27T00:00:00\",\"1856-01-18T06:00:00\",\"1856-09-10T12:00:00\",\"1857-05-04T18:00:00\"],\"y\":[2,1,1,2,1,1,3,4,6,3,2,4,4,7,8],\"type\":\"scatter\"},{\"hoverinfo\":\"text\",\"hovertext\":[\"\\u003cb\\u003eTopic 11\\u003c\\u002fb\\u003e\\u003cbr\\u003eWords: caple, elephant, botrytis, theory, insect\",\"\\u003cb\\u003eTopic 11\\u003c\\u002fb\\u003e\\u003cbr\\u003eWords: insect, hop, bean, beam, aphid\",\"\\u003cb\\u003eTopic 11\\u003c\\u002fb\\u003e\\u003cbr\\u003eWords: fructifie, sphaeria, caterpillars, neck, attack\",\"\\u003cb\\u003eTopic 11\\u003c\\u002fb\\u003e\\u003cbr\\u003eWords: wasp, nest, overcare, velleius, moist\",\"\\u003cb\\u003eTopic 11\\u003c\\u002fb\\u003e\\u003cbr\\u003eWords: species, nest, entomologist, fauna, dog\",\"\\u003cb\\u003eTopic 11\\u003c\\u002fb\\u003e\\u003cbr\\u003eWords: fauna, insect, museum, nest, wasp\",\"\\u003cb\\u003eTopic 11\\u003c\\u002fb\\u003e\\u003cbr\\u003eWords: bee, nest, wasp, insect, eyed\",\"\\u003cb\\u003eTopic 11\\u003c\\u002fb\\u003e\\u003cbr\\u003eWords: insect, crustacea, selborne, westwood, amphibia\",\"\\u003cb\\u003eTopic 11\\u003c\\u002fb\\u003e\\u003cbr\\u003eWords: insecta, westwood, gray, dr, wasp\",\"\\u003cb\\u003eTopic 11\\u003c\\u002fb\\u003e\\u003cbr\\u003eWords: entomology, insect, name, lucina, misnomer\"],\"marker\":{\"color\":\"#D55E00\"},\"mode\":\"markers\",\"name\":\"11_insect_nest_wasp_crustacea\",\"x\":[\"1846-05-06T12:00:00\",\"1846-12-28T18:00:00\",\"1848-04-14T06:00:00\",\"1848-12-06T12:00:00\",\"1849-07-30T18:00:00\",\"1851-07-09T12:00:00\",\"1853-06-17T06:00:00\",\"1855-05-27T00:00:00\",\"1856-01-18T06:00:00\",\"1856-09-10T12:00:00\"],\"y\":[2,7,1,2,5,3,7,6,5,3],\"type\":\"scatter\"},{\"hoverinfo\":\"text\",\"hovertext\":[\"\\u003cb\\u003eTopic 12\\u003c\\u002fb\\u003e\\u003cbr\\u003eWords: side, bias, quarrel, perversion, belli\",\"\\u003cb\\u003eTopic 12\\u003c\\u002fb\\u003e\\u003cbr\\u003eWords: dissention, alleviation, destitution, enforce, prevent\",\"\\u003cb\\u003eTopic 12\\u003c\\u002fb\\u003e\\u003cbr\\u003eWords: attention, pretension, chiefly, jn, observe\",\"\\u003cb\\u003eTopic 12\\u003c\\u002fb\\u003e\\u003cbr\\u003eWords: change, power, opinion, university, esteem\",\"\\u003cb\\u003eTopic 12\\u003c\\u002fb\\u003e\\u003cbr\\u003eWords: perceive, allow, argument, surface, lord\",\"\\u003cb\\u003eTopic 12\\u003c\\u002fb\\u003e\\u003cbr\\u003eWords: feeling, opinion, toleration, inconsistent, diffusion\",\"\\u003cb\\u003eTopic 12\\u003c\\u002fb\\u003e\\u003cbr\\u003eWords: relation, case, judgment, sentiment, act\",\"\\u003cb\\u003eTopic 12\\u003c\\u002fb\\u003e\\u003cbr\\u003eWords: kewians, notion, opinion, course, esteem\",\"\\u003cb\\u003eTopic 12\\u003c\\u002fb\\u003e\\u003cbr\\u003eWords: spider, amiss, karr, sentiment, idea\",\"\\u003cb\\u003eTopic 12\\u003c\\u002fb\\u003e\\u003cbr\\u003eWords: flunkeyism, respectability, antiquarian, cliquism, bias\",\"\\u003cb\\u003eTopic 12\\u003c\\u002fb\\u003e\\u003cbr\\u003eWords: opinion, literature, medical, pride, formality\",\"\\u003cb\\u003eTopic 12\\u003c\\u002fb\\u003e\\u003cbr\\u003eWords: perserverance, effecting, repelling, admiration, exhibitor\",\"\\u003cb\\u003eTopic 12\\u003c\\u002fb\\u003e\\u003cbr\\u003eWords: opinion, diversity, layman, revise, transmission\"],\"marker\":{\"color\":\"#0072B2\"},\"mode\":\"markers\",\"name\":\"12_opinion_esteem_influence_expression\",\"x\":[\"1845-01-14T06:36:00\",\"1845-09-12T06:00:00\",\"1847-08-22T00:00:00\",\"1848-04-14T06:00:00\",\"1849-07-30T18:00:00\",\"1850-03-24T00:00:00\",\"1852-03-01T18:00:00\",\"1853-06-17T06:00:00\",\"1854-10-02T18:00:00\",\"1855-05-27T00:00:00\",\"1856-01-18T06:00:00\",\"1856-09-10T12:00:00\",\"1857-05-04T18:00:00\"],\"y\":[3,5,1,1,3,4,3,1,1,4,4,2,5],\"type\":\"scatter\"},{\"hoverinfo\":\"text\",\"hovertext\":[\"\\u003cb\\u003eTopic 13\\u003c\\u002fb\\u003e\\u003cbr\\u003eWords: occid, suff, jos, respect, journ\",\"\\u003cb\\u003eTopic 13\\u003c\\u002fb\\u003e\\u003cbr\\u003eWords: gutch, wd, suff, journ, zinoke\",\"\\u003cb\\u003eTopic 13\\u003c\\u002fb\\u003e\\u003cbr\\u003eWords: suff, wd, journ, zinoke, jos\",\"\\u003cb\\u003eTopic 13\\u003c\\u002fb\\u003e\\u003cbr\\u003eWords: murmurer, ommission, ann, suff, wd\",\"\\u003cb\\u003eTopic 13\\u003c\\u002fb\\u003e\\u003cbr\\u003eWords: barham, zinoke, whewell, sum, wd\",\"\\u003cb\\u003eTopic 13\\u003c\\u002fb\\u003e\\u003cbr\\u003eWords: adm, tufnell, zinoke, forbe, person\",\"\\u003cb\\u003eTopic 13\\u003c\\u002fb\\u003e\\u003cbr\\u003eWords: annal, wd, suff, journ, zinoke\",\"\\u003cb\\u003eTopic 13\\u003c\\u002fb\\u003e\\u003cbr\\u003eWords: anat, chemist, wd, suff, journ\",\"\\u003cb\\u003eTopic 13\\u003c\\u002fb\\u003e\\u003cbr\\u003eWords: augt, whewell, wd, suff, journ\",\"\\u003cb\\u003eTopic 13\\u003c\\u002fb\\u003e\\u003cbr\\u003eWords: suf, ge, jos, wd, suff\",\"\\u003cb\\u003eTopic 13\\u003c\\u002fb\\u003e\\u003cbr\\u003eWords: mam, cor, wd, yate, red\",\"\\u003cb\\u003eTopic 13\\u003c\\u002fb\\u003e\\u003cbr\\u003eWords: wd, journ, suff, zinoke, jos\",\"\\u003cb\\u003eTopic 13\\u003c\\u002fb\\u003e\\u003cbr\\u003eWords: maund, journ, wd, suff, zinoke\",\"\\u003cb\\u003eTopic 13\\u003c\\u002fb\\u003e\\u003cbr\\u003eWords: diem, nisceum, force, succumb, ns\",\"\\u003cb\\u003eTopic 13\\u003c\\u002fb\\u003e\\u003cbr\\u003eWords: obd, fate, hohenacker, journ, temple\"],\"marker\":{\"color\":\"#CC79A7\"},\"mode\":\"markers\",\"name\":\"13_wd_suff_journ_zinoke\",\"x\":[\"1845-09-12T06:00:00\",\"1846-12-28T18:00:00\",\"1847-08-22T00:00:00\",\"1849-07-30T18:00:00\",\"1850-03-24T00:00:00\",\"1850-11-15T06:00:00\",\"1851-07-09T12:00:00\",\"1852-03-01T18:00:00\",\"1852-10-24T00:00:00\",\"1854-02-08T12:00:00\",\"1854-10-02T18:00:00\",\"1855-05-27T00:00:00\",\"1856-01-18T06:00:00\",\"1856-09-10T12:00:00\",\"1857-05-04T18:00:00\"],\"y\":[3,1,1,3,2,4,1,1,2,2,4,2,1,6,3],\"type\":\"scatter\"},{\"hoverinfo\":\"text\",\"hovertext\":[\"\\u003cb\\u003eTopic 14\\u003c\\u002fb\\u003e\\u003cbr\\u003eWords: church, treasury, worship, sing, scoff\",\"\\u003cb\\u003eTopic 14\\u003c\\u002fb\\u003e\\u003cbr\\u003eWords: churchman, junction, opposition, babington, consequence\",\"\\u003cb\\u003eTopic 14\\u003c\\u002fb\\u003e\\u003cbr\\u003eWords: church, sabbath, lord, argument, mind\",\"\\u003cb\\u003eTopic 14\\u003c\\u002fb\\u003e\\u003cbr\\u003eWords: church, holiday, clergyman, creed, apostle\",\"\\u003cb\\u003eTopic 14\\u003c\\u002fb\\u003e\\u003cbr\\u003eWords: training, disposal, church, master, fund\",\"\\u003cb\\u003eTopic 14\\u003c\\u002fb\\u003e\\u003cbr\\u003eWords: humbler, hatred, churchism, toryism, persecution\",\"\\u003cb\\u003eTopic 14\\u003c\\u002fb\\u003e\\u003cbr\\u003eWords: stocking, knowledge, wisher, endeavour, sho\",\"\\u003cb\\u003eTopic 14\\u003c\\u002fb\\u003e\\u003cbr\\u003eWords: sermon, church, placidity, christianity, stoicism\",\"\\u003cb\\u003eTopic 14\\u003c\\u002fb\\u003e\\u003cbr\\u003eWords: parishioner, clergyman, instruction, kindness, office\",\"\\u003cb\\u003eTopic 14\\u003c\\u002fb\\u003e\\u003cbr\\u003eWords: scabby, stimulus, shortcoming, epithet, sermon\",\"\\u003cb\\u003eTopic 14\\u003c\\u002fb\\u003e\\u003cbr\\u003eWords: hearer, conviction, union, religion, application\"],\"marker\":{\"color\":\"#E69F00\"},\"mode\":\"markers\",\"name\":\"14_church_sabbath_parishioner_clergyman\",\"x\":[\"1845-09-12T06:00:00\",\"1848-12-06T12:00:00\",\"1849-07-30T18:00:00\",\"1850-03-24T00:00:00\",\"1850-11-15T06:00:00\",\"1852-03-01T18:00:00\",\"1853-06-17T06:00:00\",\"1855-05-27T00:00:00\",\"1856-01-18T06:00:00\",\"1856-09-10T12:00:00\",\"1857-05-04T18:00:00\"],\"y\":[5,1,6,6,1,1,2,5,1,2,1],\"type\":\"scatter\"}],                        {\"template\":{\"data\":{\"barpolar\":[{\"marker\":{\"line\":{\"color\":\"white\",\"width\":0.5},\"pattern\":{\"fillmode\":\"overlay\",\"size\":10,\"solidity\":0.2}},\"type\":\"barpolar\"}],\"bar\":[{\"error_x\":{\"color\":\"rgb(36,36,36)\"},\"error_y\":{\"color\":\"rgb(36,36,36)\"},\"marker\":{\"line\":{\"color\":\"white\",\"width\":0.5},\"pattern\":{\"fillmode\":\"overlay\",\"size\":10,\"solidity\":0.2}},\"type\":\"bar\"}],\"carpet\":[{\"aaxis\":{\"endlinecolor\":\"rgb(36,36,36)\",\"gridcolor\":\"white\",\"linecolor\":\"white\",\"minorgridcolor\":\"white\",\"startlinecolor\":\"rgb(36,36,36)\"},\"baxis\":{\"endlinecolor\":\"rgb(36,36,36)\",\"gridcolor\":\"white\",\"linecolor\":\"white\",\"minorgridcolor\":\"white\",\"startlinecolor\":\"rgb(36,36,36)\"},\"type\":\"carpet\"}],\"choropleth\":[{\"colorbar\":{\"outlinewidth\":1,\"tickcolor\":\"rgb(36,36,36)\",\"ticks\":\"outside\"},\"type\":\"choropleth\"}],\"contourcarpet\":[{\"colorbar\":{\"outlinewidth\":1,\"tickcolor\":\"rgb(36,36,36)\",\"ticks\":\"outside\"},\"type\":\"contourcarpet\"}],\"contour\":[{\"colorbar\":{\"outlinewidth\":1,\"tickcolor\":\"rgb(36,36,36)\",\"ticks\":\"outside\"},\"colorscale\":[[0.0,\"#440154\"],[0.1111111111111111,\"#482878\"],[0.2222222222222222,\"#3e4989\"],[0.3333333333333333,\"#31688e\"],[0.4444444444444444,\"#26828e\"],[0.5555555555555556,\"#1f9e89\"],[0.6666666666666666,\"#35b779\"],[0.7777777777777778,\"#6ece58\"],[0.8888888888888888,\"#b5de2b\"],[1.0,\"#fde725\"]],\"type\":\"contour\"}],\"heatmapgl\":[{\"colorbar\":{\"outlinewidth\":1,\"tickcolor\":\"rgb(36,36,36)\",\"ticks\":\"outside\"},\"colorscale\":[[0.0,\"#440154\"],[0.1111111111111111,\"#482878\"],[0.2222222222222222,\"#3e4989\"],[0.3333333333333333,\"#31688e\"],[0.4444444444444444,\"#26828e\"],[0.5555555555555556,\"#1f9e89\"],[0.6666666666666666,\"#35b779\"],[0.7777777777777778,\"#6ece58\"],[0.8888888888888888,\"#b5de2b\"],[1.0,\"#fde725\"]],\"type\":\"heatmapgl\"}],\"heatmap\":[{\"colorbar\":{\"outlinewidth\":1,\"tickcolor\":\"rgb(36,36,36)\",\"ticks\":\"outside\"},\"colorscale\":[[0.0,\"#440154\"],[0.1111111111111111,\"#482878\"],[0.2222222222222222,\"#3e4989\"],[0.3333333333333333,\"#31688e\"],[0.4444444444444444,\"#26828e\"],[0.5555555555555556,\"#1f9e89\"],[0.6666666666666666,\"#35b779\"],[0.7777777777777778,\"#6ece58\"],[0.8888888888888888,\"#b5de2b\"],[1.0,\"#fde725\"]],\"type\":\"heatmap\"}],\"histogram2dcontour\":[{\"colorbar\":{\"outlinewidth\":1,\"tickcolor\":\"rgb(36,36,36)\",\"ticks\":\"outside\"},\"colorscale\":[[0.0,\"#440154\"],[0.1111111111111111,\"#482878\"],[0.2222222222222222,\"#3e4989\"],[0.3333333333333333,\"#31688e\"],[0.4444444444444444,\"#26828e\"],[0.5555555555555556,\"#1f9e89\"],[0.6666666666666666,\"#35b779\"],[0.7777777777777778,\"#6ece58\"],[0.8888888888888888,\"#b5de2b\"],[1.0,\"#fde725\"]],\"type\":\"histogram2dcontour\"}],\"histogram2d\":[{\"colorbar\":{\"outlinewidth\":1,\"tickcolor\":\"rgb(36,36,36)\",\"ticks\":\"outside\"},\"colorscale\":[[0.0,\"#440154\"],[0.1111111111111111,\"#482878\"],[0.2222222222222222,\"#3e4989\"],[0.3333333333333333,\"#31688e\"],[0.4444444444444444,\"#26828e\"],[0.5555555555555556,\"#1f9e89\"],[0.6666666666666666,\"#35b779\"],[0.7777777777777778,\"#6ece58\"],[0.8888888888888888,\"#b5de2b\"],[1.0,\"#fde725\"]],\"type\":\"histogram2d\"}],\"histogram\":[{\"marker\":{\"line\":{\"color\":\"white\",\"width\":0.6}},\"type\":\"histogram\"}],\"mesh3d\":[{\"colorbar\":{\"outlinewidth\":1,\"tickcolor\":\"rgb(36,36,36)\",\"ticks\":\"outside\"},\"type\":\"mesh3d\"}],\"parcoords\":[{\"line\":{\"colorbar\":{\"outlinewidth\":1,\"tickcolor\":\"rgb(36,36,36)\",\"ticks\":\"outside\"}},\"type\":\"parcoords\"}],\"pie\":[{\"automargin\":true,\"type\":\"pie\"}],\"scatter3d\":[{\"line\":{\"colorbar\":{\"outlinewidth\":1,\"tickcolor\":\"rgb(36,36,36)\",\"ticks\":\"outside\"}},\"marker\":{\"colorbar\":{\"outlinewidth\":1,\"tickcolor\":\"rgb(36,36,36)\",\"ticks\":\"outside\"}},\"type\":\"scatter3d\"}],\"scattercarpet\":[{\"marker\":{\"colorbar\":{\"outlinewidth\":1,\"tickcolor\":\"rgb(36,36,36)\",\"ticks\":\"outside\"}},\"type\":\"scattercarpet\"}],\"scattergeo\":[{\"marker\":{\"colorbar\":{\"outlinewidth\":1,\"tickcolor\":\"rgb(36,36,36)\",\"ticks\":\"outside\"}},\"type\":\"scattergeo\"}],\"scattergl\":[{\"marker\":{\"colorbar\":{\"outlinewidth\":1,\"tickcolor\":\"rgb(36,36,36)\",\"ticks\":\"outside\"}},\"type\":\"scattergl\"}],\"scattermapbox\":[{\"marker\":{\"colorbar\":{\"outlinewidth\":1,\"tickcolor\":\"rgb(36,36,36)\",\"ticks\":\"outside\"}},\"type\":\"scattermapbox\"}],\"scatterpolargl\":[{\"marker\":{\"colorbar\":{\"outlinewidth\":1,\"tickcolor\":\"rgb(36,36,36)\",\"ticks\":\"outside\"}},\"type\":\"scatterpolargl\"}],\"scatterpolar\":[{\"marker\":{\"colorbar\":{\"outlinewidth\":1,\"tickcolor\":\"rgb(36,36,36)\",\"ticks\":\"outside\"}},\"type\":\"scatterpolar\"}],\"scatter\":[{\"fillpattern\":{\"fillmode\":\"overlay\",\"size\":10,\"solidity\":0.2},\"type\":\"scatter\"}],\"scatterternary\":[{\"marker\":{\"colorbar\":{\"outlinewidth\":1,\"tickcolor\":\"rgb(36,36,36)\",\"ticks\":\"outside\"}},\"type\":\"scatterternary\"}],\"surface\":[{\"colorbar\":{\"outlinewidth\":1,\"tickcolor\":\"rgb(36,36,36)\",\"ticks\":\"outside\"},\"colorscale\":[[0.0,\"#440154\"],[0.1111111111111111,\"#482878\"],[0.2222222222222222,\"#3e4989\"],[0.3333333333333333,\"#31688e\"],[0.4444444444444444,\"#26828e\"],[0.5555555555555556,\"#1f9e89\"],[0.6666666666666666,\"#35b779\"],[0.7777777777777778,\"#6ece58\"],[0.8888888888888888,\"#b5de2b\"],[1.0,\"#fde725\"]],\"type\":\"surface\"}],\"table\":[{\"cells\":{\"fill\":{\"color\":\"rgb(237,237,237)\"},\"line\":{\"color\":\"white\"}},\"header\":{\"fill\":{\"color\":\"rgb(217,217,217)\"},\"line\":{\"color\":\"white\"}},\"type\":\"table\"}]},\"layout\":{\"annotationdefaults\":{\"arrowhead\":0,\"arrowwidth\":1},\"autotypenumbers\":\"strict\",\"coloraxis\":{\"colorbar\":{\"outlinewidth\":1,\"tickcolor\":\"rgb(36,36,36)\",\"ticks\":\"outside\"}},\"colorscale\":{\"diverging\":[[0.0,\"rgb(103,0,31)\"],[0.1,\"rgb(178,24,43)\"],[0.2,\"rgb(214,96,77)\"],[0.3,\"rgb(244,165,130)\"],[0.4,\"rgb(253,219,199)\"],[0.5,\"rgb(247,247,247)\"],[0.6,\"rgb(209,229,240)\"],[0.7,\"rgb(146,197,222)\"],[0.8,\"rgb(67,147,195)\"],[0.9,\"rgb(33,102,172)\"],[1.0,\"rgb(5,48,97)\"]],\"sequential\":[[0.0,\"#440154\"],[0.1111111111111111,\"#482878\"],[0.2222222222222222,\"#3e4989\"],[0.3333333333333333,\"#31688e\"],[0.4444444444444444,\"#26828e\"],[0.5555555555555556,\"#1f9e89\"],[0.6666666666666666,\"#35b779\"],[0.7777777777777778,\"#6ece58\"],[0.8888888888888888,\"#b5de2b\"],[1.0,\"#fde725\"]],\"sequentialminus\":[[0.0,\"#440154\"],[0.1111111111111111,\"#482878\"],[0.2222222222222222,\"#3e4989\"],[0.3333333333333333,\"#31688e\"],[0.4444444444444444,\"#26828e\"],[0.5555555555555556,\"#1f9e89\"],[0.6666666666666666,\"#35b779\"],[0.7777777777777778,\"#6ece58\"],[0.8888888888888888,\"#b5de2b\"],[1.0,\"#fde725\"]]},\"colorway\":[\"#1F77B4\",\"#FF7F0E\",\"#2CA02C\",\"#D62728\",\"#9467BD\",\"#8C564B\",\"#E377C2\",\"#7F7F7F\",\"#BCBD22\",\"#17BECF\"],\"font\":{\"color\":\"rgb(36,36,36)\"},\"geo\":{\"bgcolor\":\"white\",\"lakecolor\":\"white\",\"landcolor\":\"white\",\"showlakes\":true,\"showland\":true,\"subunitcolor\":\"white\"},\"hoverlabel\":{\"align\":\"left\"},\"hovermode\":\"closest\",\"mapbox\":{\"style\":\"light\"},\"paper_bgcolor\":\"white\",\"plot_bgcolor\":\"white\",\"polar\":{\"angularaxis\":{\"gridcolor\":\"rgb(232,232,232)\",\"linecolor\":\"rgb(36,36,36)\",\"showgrid\":false,\"showline\":true,\"ticks\":\"outside\"},\"bgcolor\":\"white\",\"radialaxis\":{\"gridcolor\":\"rgb(232,232,232)\",\"linecolor\":\"rgb(36,36,36)\",\"showgrid\":false,\"showline\":true,\"ticks\":\"outside\"}},\"scene\":{\"xaxis\":{\"backgroundcolor\":\"white\",\"gridcolor\":\"rgb(232,232,232)\",\"gridwidth\":2,\"linecolor\":\"rgb(36,36,36)\",\"showbackground\":true,\"showgrid\":false,\"showline\":true,\"ticks\":\"outside\",\"zeroline\":false,\"zerolinecolor\":\"rgb(36,36,36)\"},\"yaxis\":{\"backgroundcolor\":\"white\",\"gridcolor\":\"rgb(232,232,232)\",\"gridwidth\":2,\"linecolor\":\"rgb(36,36,36)\",\"showbackground\":true,\"showgrid\":false,\"showline\":true,\"ticks\":\"outside\",\"zeroline\":false,\"zerolinecolor\":\"rgb(36,36,36)\"},\"zaxis\":{\"backgroundcolor\":\"white\",\"gridcolor\":\"rgb(232,232,232)\",\"gridwidth\":2,\"linecolor\":\"rgb(36,36,36)\",\"showbackground\":true,\"showgrid\":false,\"showline\":true,\"ticks\":\"outside\",\"zeroline\":false,\"zerolinecolor\":\"rgb(36,36,36)\"}},\"shapedefaults\":{\"fillcolor\":\"black\",\"line\":{\"width\":0},\"opacity\":0.3},\"ternary\":{\"aaxis\":{\"gridcolor\":\"rgb(232,232,232)\",\"linecolor\":\"rgb(36,36,36)\",\"showgrid\":false,\"showline\":true,\"ticks\":\"outside\"},\"baxis\":{\"gridcolor\":\"rgb(232,232,232)\",\"linecolor\":\"rgb(36,36,36)\",\"showgrid\":false,\"showline\":true,\"ticks\":\"outside\"},\"bgcolor\":\"white\",\"caxis\":{\"gridcolor\":\"rgb(232,232,232)\",\"linecolor\":\"rgb(36,36,36)\",\"showgrid\":false,\"showline\":true,\"ticks\":\"outside\"}},\"title\":{\"x\":0.05},\"xaxis\":{\"automargin\":true,\"gridcolor\":\"rgb(232,232,232)\",\"linecolor\":\"rgb(36,36,36)\",\"showgrid\":false,\"showline\":true,\"ticks\":\"outside\",\"title\":{\"standoff\":15},\"zeroline\":false,\"zerolinecolor\":\"rgb(36,36,36)\"},\"yaxis\":{\"automargin\":true,\"gridcolor\":\"rgb(232,232,232)\",\"linecolor\":\"rgb(36,36,36)\",\"showgrid\":false,\"showline\":true,\"ticks\":\"outside\",\"title\":{\"standoff\":15},\"zeroline\":false,\"zerolinecolor\":\"rgb(36,36,36)\"}}},\"xaxis\":{\"showgrid\":true},\"yaxis\":{\"showgrid\":true,\"title\":{\"text\":\"Count\"}},\"title\":{\"font\":{\"size\":22,\"color\":\"Black\"},\"text\":\"\\u003cb\\u003eTopics over Time\\u003c\\u002fb\\u003e\",\"y\":0.95,\"x\":0.4,\"xanchor\":\"center\",\"yanchor\":\"top\"},\"hoverlabel\":{\"font\":{\"size\":16,\"family\":\"Rockwell\"},\"bgcolor\":\"white\"},\"width\":1000,\"height\":500,\"legend\":{\"title\":{\"text\":\"\\u003cb\\u003eGlobal Topic Representation\"}}},                        {\"responsive\": true}                    ).then(function(){\n",
       "                            \n",
       "var gd = document.getElementById('16017f85-2af6-4d52-965e-2cfe51bca6d8');\n",
       "var x = new MutationObserver(function (mutations, observer) {{\n",
       "        var display = window.getComputedStyle(gd).display;\n",
       "        if (!display || display === 'none') {{\n",
       "            console.log([gd, 'removed!']);\n",
       "            Plotly.purge(gd);\n",
       "            observer.disconnect();\n",
       "        }}\n",
       "}});\n",
       "\n",
       "// Listen for the removal of the full notebook cells\n",
       "var notebookContainer = gd.closest('#notebook-container');\n",
       "if (notebookContainer) {{\n",
       "    x.observe(notebookContainer, {childList: true});\n",
       "}}\n",
       "\n",
       "// Listen for the clearing of the current output cell\n",
       "var outputEl = gd.closest('.output');\n",
       "if (outputEl) {{\n",
       "    x.observe(outputEl, {childList: true});\n",
       "}}\n",
       "\n",
       "                        })                };                });            </script>        </div>"
      ]
     },
     "metadata": {},
     "output_type": "display_data"
    }
   ],
   "source": [
    "sent_df_year_restrict_late_obj = bertopic_time(sent_df_year_restrict_late, topic_model)\n",
    "sent_df_year_restrict_late_vis = sent_df_year_restrict_late_obj[0]\n",
    "sent_df_year_restrict_late_vis"
   ]
  },
  {
   "cell_type": "markdown",
   "id": "9c058e3a",
   "metadata": {},
   "source": [
    "Use doc_topics_maker function to create dataframes for visualisations, limiting the dataframe to the topics contained within each visualisation and showing the topic names taken from the visualisation for each row. These visualisations are created for use with the social network visualisations in notebook four."
   ]
  },
  {
   "cell_type": "code",
   "execution_count": 17,
   "id": "3c3d2e34",
   "metadata": {},
   "outputs": [
    {
     "data": {
      "text/html": [
       "<div>\n",
       "<style scoped>\n",
       "    .dataframe tbody tr th:only-of-type {\n",
       "        vertical-align: middle;\n",
       "    }\n",
       "\n",
       "    .dataframe tbody tr th {\n",
       "        vertical-align: top;\n",
       "    }\n",
       "\n",
       "    .dataframe thead th {\n",
       "        text-align: right;\n",
       "    }\n",
       "</style>\n",
       "<table border=\"1\" class=\"dataframe\">\n",
       "  <thead>\n",
       "    <tr style=\"text-align: right;\">\n",
       "      <th></th>\n",
       "      <th>letter</th>\n",
       "      <th>date</th>\n",
       "      <th>sender</th>\n",
       "      <th>recipient</th>\n",
       "      <th>text</th>\n",
       "      <th>topic</th>\n",
       "    </tr>\n",
       "  </thead>\n",
       "  <tbody>\n",
       "    <tr>\n",
       "      <th>8</th>\n",
       "      <td>letters_1.xml</td>\n",
       "      <td>1820-04-24</td>\n",
       "      <td>Sowerby, James</td>\n",
       "      <td>Henslow, J. S.</td>\n",
       "      <td>martin</td>\n",
       "      <td>0_trin_henry_wilson_john_phillip</td>\n",
       "    </tr>\n",
       "    <tr>\n",
       "      <th>27</th>\n",
       "      <td>letters_2.xml</td>\n",
       "      <td>1821-11-15</td>\n",
       "      <td>Clarke, E. D.</td>\n",
       "      <td>Henslow, J. S.</td>\n",
       "      <td>clarke</td>\n",
       "      <td>0_trin_henry_wilson_john_phillip</td>\n",
       "    </tr>\n",
       "    <tr>\n",
       "      <th>55</th>\n",
       "      <td>letters_6.xml</td>\n",
       "      <td>1822-07-02</td>\n",
       "      <td>Curtis, John</td>\n",
       "      <td>Henslow, J. S.</td>\n",
       "      <td>bearer dr radius leipsic england man science s...</td>\n",
       "      <td>0_trin_henry_wilson_john_phillip</td>\n",
       "    </tr>\n",
       "    <tr>\n",
       "      <th>65</th>\n",
       "      <td>letters_8.xml</td>\n",
       "      <td>1823-04-02</td>\n",
       "      <td>Henslow, J. S.</td>\n",
       "      <td>Jenyns, Leonard</td>\n",
       "      <td>suspect pera</td>\n",
       "      <td>0_trin_henry_wilson_john_phillip</td>\n",
       "    </tr>\n",
       "    <tr>\n",
       "      <th>108</th>\n",
       "      <td>letters_13.xml</td>\n",
       "      <td>1823-10-21</td>\n",
       "      <td>Henslow, J. S.</td>\n",
       "      <td>Winch, N. J.</td>\n",
       "      <td>hodgson</td>\n",
       "      <td>0_trin_henry_wilson_john_phillip</td>\n",
       "    </tr>\n",
       "    <tr>\n",
       "      <th>...</th>\n",
       "      <td>...</td>\n",
       "      <td>...</td>\n",
       "      <td>...</td>\n",
       "      <td>...</td>\n",
       "      <td>...</td>\n",
       "      <td>...</td>\n",
       "    </tr>\n",
       "    <tr>\n",
       "      <th>6815</th>\n",
       "      <td>letters_947.xml</td>\n",
       "      <td>1826-07-02</td>\n",
       "      <td>Palmerston, Lord</td>\n",
       "      <td>Henslow, J. S.</td>\n",
       "      <td>oclock voter</td>\n",
       "      <td>14_election_vote_voter_poll</td>\n",
       "    </tr>\n",
       "    <tr>\n",
       "      <th>6847</th>\n",
       "      <td>letters_956.xml</td>\n",
       "      <td>1826-06-19</td>\n",
       "      <td>Loyd, S.</td>\n",
       "      <td>Henslow, J. S.</td>\n",
       "      <td>vote absence result opinion university</td>\n",
       "      <td>14_election_vote_voter_poll</td>\n",
       "    </tr>\n",
       "    <tr>\n",
       "      <th>8392</th>\n",
       "      <td>letters_1175.xml</td>\n",
       "      <td>1845-12-30</td>\n",
       "      <td>Bright, John</td>\n",
       "      <td>Henslow, J. S.</td>\n",
       "      <td>west election probability walkover morpeth</td>\n",
       "      <td>14_election_vote_voter_poll</td>\n",
       "    </tr>\n",
       "    <tr>\n",
       "      <th>8663</th>\n",
       "      <td>letters_1205.xml</td>\n",
       "      <td>1826-02-14</td>\n",
       "      <td>Henslow, J. S.</td>\n",
       "      <td>Dale, J. C.</td>\n",
       "      <td>cambridge feby dale election</td>\n",
       "      <td>14_election_vote_voter_poll</td>\n",
       "    </tr>\n",
       "    <tr>\n",
       "      <th>8678</th>\n",
       "      <td>letters_1206.xml</td>\n",
       "      <td>1826-02-26</td>\n",
       "      <td>Henslow, J. S.</td>\n",
       "      <td>Dale, J. C.</td>\n",
       "      <td>fact anticatholic voter supporter cath</td>\n",
       "      <td>14_election_vote_voter_poll</td>\n",
       "    </tr>\n",
       "  </tbody>\n",
       "</table>\n",
       "<p>2357 rows × 6 columns</p>\n",
       "</div>"
      ],
      "text/plain": [
       "                letter       date            sender        recipient  \\\n",
       "8        letters_1.xml 1820-04-24    Sowerby, James   Henslow, J. S.   \n",
       "27       letters_2.xml 1821-11-15     Clarke, E. D.   Henslow, J. S.   \n",
       "55       letters_6.xml 1822-07-02      Curtis, John   Henslow, J. S.   \n",
       "65       letters_8.xml 1823-04-02    Henslow, J. S.  Jenyns, Leonard   \n",
       "108     letters_13.xml 1823-10-21    Henslow, J. S.     Winch, N. J.   \n",
       "...                ...        ...               ...              ...   \n",
       "6815   letters_947.xml 1826-07-02  Palmerston, Lord   Henslow, J. S.   \n",
       "6847   letters_956.xml 1826-06-19          Loyd, S.   Henslow, J. S.   \n",
       "8392  letters_1175.xml 1845-12-30      Bright, John   Henslow, J. S.   \n",
       "8663  letters_1205.xml 1826-02-14    Henslow, J. S.      Dale, J. C.   \n",
       "8678  letters_1206.xml 1826-02-26    Henslow, J. S.      Dale, J. C.   \n",
       "\n",
       "                                                   text  \\\n",
       "8                                                martin   \n",
       "27                                               clarke   \n",
       "55    bearer dr radius leipsic england man science s...   \n",
       "65                                         suspect pera   \n",
       "108                                             hodgson   \n",
       "...                                                 ...   \n",
       "6815                                       oclock voter   \n",
       "6847             vote absence result opinion university   \n",
       "8392         west election probability walkover morpeth   \n",
       "8663                       cambridge feby dale election   \n",
       "8678             fact anticatholic voter supporter cath   \n",
       "\n",
       "                                 topic  \n",
       "8     0_trin_henry_wilson_john_phillip  \n",
       "27    0_trin_henry_wilson_john_phillip  \n",
       "55    0_trin_henry_wilson_john_phillip  \n",
       "65    0_trin_henry_wilson_john_phillip  \n",
       "108   0_trin_henry_wilson_john_phillip  \n",
       "...                                ...  \n",
       "6815       14_election_vote_voter_poll  \n",
       "6847       14_election_vote_voter_poll  \n",
       "8392       14_election_vote_voter_poll  \n",
       "8663       14_election_vote_voter_poll  \n",
       "8678       14_election_vote_voter_poll  \n",
       "\n",
       "[2357 rows x 6 columns]"
      ]
     },
     "execution_count": 17,
     "metadata": {},
     "output_type": "execute_result"
    }
   ],
   "source": [
    "doc_topics_df = doc_topics_maker(sent_df, all_vis_obj)\n",
    "doc_topics_df"
   ]
  },
  {
   "cell_type": "code",
   "execution_count": 18,
   "id": "68528835",
   "metadata": {},
   "outputs": [
    {
     "data": {
      "text/html": [
       "<div>\n",
       "<style scoped>\n",
       "    .dataframe tbody tr th:only-of-type {\n",
       "        vertical-align: middle;\n",
       "    }\n",
       "\n",
       "    .dataframe tbody tr th {\n",
       "        vertical-align: top;\n",
       "    }\n",
       "\n",
       "    .dataframe thead th {\n",
       "        text-align: right;\n",
       "    }\n",
       "</style>\n",
       "<table border=\"1\" class=\"dataframe\">\n",
       "  <thead>\n",
       "    <tr style=\"text-align: right;\">\n",
       "      <th></th>\n",
       "      <th>letter</th>\n",
       "      <th>date</th>\n",
       "      <th>sender</th>\n",
       "      <th>recipient</th>\n",
       "      <th>text</th>\n",
       "      <th>topic</th>\n",
       "    </tr>\n",
       "  </thead>\n",
       "  <tbody>\n",
       "    <tr>\n",
       "      <th>2</th>\n",
       "      <td>letters_1.xml</td>\n",
       "      <td>1820-04-24</td>\n",
       "      <td>Sowerby, James</td>\n",
       "      <td>Henslow, J. S.</td>\n",
       "      <td>thank</td>\n",
       "      <td>0_palmerston_intention_morning_letter</td>\n",
       "    </tr>\n",
       "    <tr>\n",
       "      <th>7</th>\n",
       "      <td>letters_1.xml</td>\n",
       "      <td>1820-04-24</td>\n",
       "      <td>Sowerby, James</td>\n",
       "      <td>Henslow, J. S.</td>\n",
       "      <td>punctatus</td>\n",
       "      <td>0_palmerston_intention_morning_letter</td>\n",
       "    </tr>\n",
       "    <tr>\n",
       "      <th>8</th>\n",
       "      <td>letters_1.xml</td>\n",
       "      <td>1820-04-24</td>\n",
       "      <td>Sowerby, James</td>\n",
       "      <td>Henslow, J. S.</td>\n",
       "      <td>martin</td>\n",
       "      <td>0_palmerston_intention_morning_letter</td>\n",
       "    </tr>\n",
       "    <tr>\n",
       "      <th>11</th>\n",
       "      <td>letters_1.xml</td>\n",
       "      <td>1820-04-24</td>\n",
       "      <td>Sowerby, James</td>\n",
       "      <td>Henslow, J. S.</td>\n",
       "      <td>scoticu</td>\n",
       "      <td>0_palmerston_intention_morning_letter</td>\n",
       "    </tr>\n",
       "    <tr>\n",
       "      <th>12</th>\n",
       "      <td>letters_1.xml</td>\n",
       "      <td>1820-04-24</td>\n",
       "      <td>Sowerby, James</td>\n",
       "      <td>Henslow, J. S.</td>\n",
       "      <td>flattish</td>\n",
       "      <td>0_palmerston_intention_morning_letter</td>\n",
       "    </tr>\n",
       "    <tr>\n",
       "      <th>...</th>\n",
       "      <td>...</td>\n",
       "      <td>...</td>\n",
       "      <td>...</td>\n",
       "      <td>...</td>\n",
       "      <td>...</td>\n",
       "      <td>...</td>\n",
       "    </tr>\n",
       "    <tr>\n",
       "      <th>6902</th>\n",
       "      <td>letters_965.xml</td>\n",
       "      <td>1827-01-23</td>\n",
       "      <td>Greville, R. K.</td>\n",
       "      <td>Henslow, J. S.</td>\n",
       "      <td>duplicate moss trading collection</td>\n",
       "      <td>14_collection_cryptogamia_thing_instance</td>\n",
       "    </tr>\n",
       "    <tr>\n",
       "      <th>7383</th>\n",
       "      <td>letters_1021.xml</td>\n",
       "      <td>1825-09-15</td>\n",
       "      <td>Radius, Justus</td>\n",
       "      <td>Henslow, J. S.</td>\n",
       "      <td>cryptogamic</td>\n",
       "      <td>14_collection_cryptogamia_thing_instance</td>\n",
       "    </tr>\n",
       "    <tr>\n",
       "      <th>7418</th>\n",
       "      <td>letters_1022.xml</td>\n",
       "      <td>1828-12-24</td>\n",
       "      <td>Radius, Justus</td>\n",
       "      <td>Henslow, J. S.</td>\n",
       "      <td>collection</td>\n",
       "      <td>14_collection_cryptogamia_thing_instance</td>\n",
       "    </tr>\n",
       "    <tr>\n",
       "      <th>7517</th>\n",
       "      <td>letters_1033.xml</td>\n",
       "      <td>1845-11-24</td>\n",
       "      <td>Hooker, J. D.</td>\n",
       "      <td>Henslow, J. S.</td>\n",
       "      <td>collection</td>\n",
       "      <td>14_collection_cryptogamia_thing_instance</td>\n",
       "    </tr>\n",
       "    <tr>\n",
       "      <th>8641</th>\n",
       "      <td>letters_1202.xml</td>\n",
       "      <td>1824-12-30</td>\n",
       "      <td>Henslow, J. S.</td>\n",
       "      <td>Dale, J. C.</td>\n",
       "      <td>collection assure</td>\n",
       "      <td>14_collection_cryptogamia_thing_instance</td>\n",
       "    </tr>\n",
       "  </tbody>\n",
       "</table>\n",
       "<p>1272 rows × 6 columns</p>\n",
       "</div>"
      ],
      "text/plain": [
       "                letter       date           sender       recipient  \\\n",
       "2        letters_1.xml 1820-04-24   Sowerby, James  Henslow, J. S.   \n",
       "7        letters_1.xml 1820-04-24   Sowerby, James  Henslow, J. S.   \n",
       "8        letters_1.xml 1820-04-24   Sowerby, James  Henslow, J. S.   \n",
       "11       letters_1.xml 1820-04-24   Sowerby, James  Henslow, J. S.   \n",
       "12       letters_1.xml 1820-04-24   Sowerby, James  Henslow, J. S.   \n",
       "...                ...        ...              ...             ...   \n",
       "6902   letters_965.xml 1827-01-23  Greville, R. K.  Henslow, J. S.   \n",
       "7383  letters_1021.xml 1825-09-15   Radius, Justus  Henslow, J. S.   \n",
       "7418  letters_1022.xml 1828-12-24   Radius, Justus  Henslow, J. S.   \n",
       "7517  letters_1033.xml 1845-11-24    Hooker, J. D.  Henslow, J. S.   \n",
       "8641  letters_1202.xml 1824-12-30   Henslow, J. S.     Dale, J. C.   \n",
       "\n",
       "                                   text  \\\n",
       "2                                 thank   \n",
       "7                             punctatus   \n",
       "8                                martin   \n",
       "11                              scoticu   \n",
       "12                             flattish   \n",
       "...                                 ...   \n",
       "6902  duplicate moss trading collection   \n",
       "7383                        cryptogamic   \n",
       "7418                         collection   \n",
       "7517                         collection   \n",
       "8641                  collection assure   \n",
       "\n",
       "                                         topic  \n",
       "2        0_palmerston_intention_morning_letter  \n",
       "7        0_palmerston_intention_morning_letter  \n",
       "8        0_palmerston_intention_morning_letter  \n",
       "11       0_palmerston_intention_morning_letter  \n",
       "12       0_palmerston_intention_morning_letter  \n",
       "...                                        ...  \n",
       "6902  14_collection_cryptogamia_thing_instance  \n",
       "7383  14_collection_cryptogamia_thing_instance  \n",
       "7418  14_collection_cryptogamia_thing_instance  \n",
       "7517  14_collection_cryptogamia_thing_instance  \n",
       "8641  14_collection_cryptogamia_thing_instance  \n",
       "\n",
       "[1272 rows x 6 columns]"
      ]
     },
     "execution_count": 18,
     "metadata": {},
     "output_type": "execute_result"
    }
   ],
   "source": [
    "doc_topics_df_20s = doc_topics_maker(sent_df, sent_df_year_restrict_20_vis_obj)\n",
    "doc_topics_df_20s"
   ]
  },
  {
   "cell_type": "code",
   "execution_count": 19,
   "id": "556aef3b",
   "metadata": {},
   "outputs": [
    {
     "data": {
      "text/html": [
       "<div>\n",
       "<style scoped>\n",
       "    .dataframe tbody tr th:only-of-type {\n",
       "        vertical-align: middle;\n",
       "    }\n",
       "\n",
       "    .dataframe tbody tr th {\n",
       "        vertical-align: top;\n",
       "    }\n",
       "\n",
       "    .dataframe thead th {\n",
       "        text-align: right;\n",
       "    }\n",
       "</style>\n",
       "<table border=\"1\" class=\"dataframe\">\n",
       "  <thead>\n",
       "    <tr style=\"text-align: right;\">\n",
       "      <th></th>\n",
       "      <th>letter</th>\n",
       "      <th>date</th>\n",
       "      <th>sender</th>\n",
       "      <th>recipient</th>\n",
       "      <th>text</th>\n",
       "      <th>topic</th>\n",
       "    </tr>\n",
       "  </thead>\n",
       "  <tbody>\n",
       "    <tr>\n",
       "      <th>2521</th>\n",
       "      <td>letters_217.xml</td>\n",
       "      <td>1843-11-22</td>\n",
       "      <td>Henslow, J. S.</td>\n",
       "      <td>Hooker, J. D.</td>\n",
       "      <td>suffolk</td>\n",
       "      <td>0_museum_ipswich_lecture_suffolk</td>\n",
       "    </tr>\n",
       "    <tr>\n",
       "      <th>2622</th>\n",
       "      <td>letters_230.xml</td>\n",
       "      <td>1845-02-06</td>\n",
       "      <td>Henslow, J. S.</td>\n",
       "      <td>Whewell, William</td>\n",
       "      <td>appointment curator bigg progress arrangement ...</td>\n",
       "      <td>0_museum_ipswich_lecture_suffolk</td>\n",
       "    </tr>\n",
       "    <tr>\n",
       "      <th>2629</th>\n",
       "      <td>letters_232.xml</td>\n",
       "      <td>1845-11-15</td>\n",
       "      <td>Henslow, J. S.</td>\n",
       "      <td>Hooker, J. D.</td>\n",
       "      <td>congratulate arnott appointment chair appointm...</td>\n",
       "      <td>0_museum_ipswich_lecture_suffolk</td>\n",
       "    </tr>\n",
       "    <tr>\n",
       "      <th>2636</th>\n",
       "      <td>letters_234.xml</td>\n",
       "      <td>1846-02-28</td>\n",
       "      <td>Henslow, J. S.</td>\n",
       "      <td>Hooker, J. D.</td>\n",
       "      <td>cambridge week home saturdays april</td>\n",
       "      <td>0_museum_ipswich_lecture_suffolk</td>\n",
       "    </tr>\n",
       "    <tr>\n",
       "      <th>2672</th>\n",
       "      <td>letters_242.xml</td>\n",
       "      <td>1848-04-04</td>\n",
       "      <td>Henslow, J. S.</td>\n",
       "      <td>Babbage, Charles</td>\n",
       "      <td>museum worth steam kew garden superintendence</td>\n",
       "      <td>0_museum_ipswich_lecture_suffolk</td>\n",
       "    </tr>\n",
       "    <tr>\n",
       "      <th>...</th>\n",
       "      <td>...</td>\n",
       "      <td>...</td>\n",
       "      <td>...</td>\n",
       "      <td>...</td>\n",
       "      <td>...</td>\n",
       "      <td>...</td>\n",
       "    </tr>\n",
       "    <tr>\n",
       "      <th>8244</th>\n",
       "      <td>letters_1161.xml</td>\n",
       "      <td>1846-02-12</td>\n",
       "      <td>Coleman, Henry</td>\n",
       "      <td>Henslow, J. S.</td>\n",
       "      <td>duty christian mite treasury effect</td>\n",
       "      <td>14_church_sabbath_parishioner_clergyman</td>\n",
       "    </tr>\n",
       "    <tr>\n",
       "      <th>8247</th>\n",
       "      <td>letters_1161.xml</td>\n",
       "      <td>1846-02-12</td>\n",
       "      <td>Coleman, Henry</td>\n",
       "      <td>Henslow, J. S.</td>\n",
       "      <td>street worship form exception conduct inhabitant</td>\n",
       "      <td>14_church_sabbath_parishioner_clergyman</td>\n",
       "    </tr>\n",
       "    <tr>\n",
       "      <th>8248</th>\n",
       "      <td>letters_1161.xml</td>\n",
       "      <td>1846-02-12</td>\n",
       "      <td>Coleman, Henry</td>\n",
       "      <td>Henslow, J. S.</td>\n",
       "      <td>poor masse church chapel fact class</td>\n",
       "      <td>14_church_sabbath_parishioner_clergyman</td>\n",
       "    </tr>\n",
       "    <tr>\n",
       "      <th>8252</th>\n",
       "      <td>letters_1161.xml</td>\n",
       "      <td>1846-02-12</td>\n",
       "      <td>Coleman, Henry</td>\n",
       "      <td>Henslow, J. S.</td>\n",
       "      <td>scoff religion sing praise belly</td>\n",
       "      <td>14_church_sabbath_parishioner_clergyman</td>\n",
       "    </tr>\n",
       "    <tr>\n",
       "      <th>8253</th>\n",
       "      <td>letters_1161.xml</td>\n",
       "      <td>1846-02-12</td>\n",
       "      <td>Coleman, Henry</td>\n",
       "      <td>Henslow, J. S.</td>\n",
       "      <td>church folk back</td>\n",
       "      <td>14_church_sabbath_parishioner_clergyman</td>\n",
       "    </tr>\n",
       "  </tbody>\n",
       "</table>\n",
       "<p>1343 rows × 6 columns</p>\n",
       "</div>"
      ],
      "text/plain": [
       "                letter       date          sender         recipient  \\\n",
       "2521   letters_217.xml 1843-11-22  Henslow, J. S.     Hooker, J. D.   \n",
       "2622   letters_230.xml 1845-02-06  Henslow, J. S.  Whewell, William   \n",
       "2629   letters_232.xml 1845-11-15  Henslow, J. S.     Hooker, J. D.   \n",
       "2636   letters_234.xml 1846-02-28  Henslow, J. S.     Hooker, J. D.   \n",
       "2672   letters_242.xml 1848-04-04  Henslow, J. S.  Babbage, Charles   \n",
       "...                ...        ...             ...               ...   \n",
       "8244  letters_1161.xml 1846-02-12  Coleman, Henry    Henslow, J. S.   \n",
       "8247  letters_1161.xml 1846-02-12  Coleman, Henry    Henslow, J. S.   \n",
       "8248  letters_1161.xml 1846-02-12  Coleman, Henry    Henslow, J. S.   \n",
       "8252  letters_1161.xml 1846-02-12  Coleman, Henry    Henslow, J. S.   \n",
       "8253  letters_1161.xml 1846-02-12  Coleman, Henry    Henslow, J. S.   \n",
       "\n",
       "                                                   text  \\\n",
       "2521                                            suffolk   \n",
       "2622  appointment curator bigg progress arrangement ...   \n",
       "2629  congratulate arnott appointment chair appointm...   \n",
       "2636                cambridge week home saturdays april   \n",
       "2672      museum worth steam kew garden superintendence   \n",
       "...                                                 ...   \n",
       "8244                duty christian mite treasury effect   \n",
       "8247   street worship form exception conduct inhabitant   \n",
       "8248                poor masse church chapel fact class   \n",
       "8252                   scoff religion sing praise belly   \n",
       "8253                                   church folk back   \n",
       "\n",
       "                                        topic  \n",
       "2521         0_museum_ipswich_lecture_suffolk  \n",
       "2622         0_museum_ipswich_lecture_suffolk  \n",
       "2629         0_museum_ipswich_lecture_suffolk  \n",
       "2636         0_museum_ipswich_lecture_suffolk  \n",
       "2672         0_museum_ipswich_lecture_suffolk  \n",
       "...                                       ...  \n",
       "8244  14_church_sabbath_parishioner_clergyman  \n",
       "8247  14_church_sabbath_parishioner_clergyman  \n",
       "8248  14_church_sabbath_parishioner_clergyman  \n",
       "8252  14_church_sabbath_parishioner_clergyman  \n",
       "8253  14_church_sabbath_parishioner_clergyman  \n",
       "\n",
       "[1343 rows x 6 columns]"
      ]
     },
     "execution_count": 19,
     "metadata": {},
     "output_type": "execute_result"
    }
   ],
   "source": [
    "doc_topics_df_late = doc_topics_maker(sent_df, sent_df_year_restrict_late_obj)\n",
    "doc_topics_df_late"
   ]
  },
  {
   "cell_type": "markdown",
   "id": "ad4cf98f",
   "metadata": {},
   "source": [
    "Use all_tree_vis function to create dendrogram visualisation of clusters for most prominent topics, with dataframe and topic model as parameters."
   ]
  },
  {
   "cell_type": "code",
   "execution_count": 20,
   "id": "5104290b",
   "metadata": {},
   "outputs": [
    {
     "data": {
      "application/vnd.plotly.v1+json": {
       "config": {
        "plotlyServerURL": "https://plot.ly"
       },
       "data": [
        {
         "hoverinfo": "text",
         "marker": {
          "color": "rgb(61,153,112)"
         },
         "mode": "lines",
         "type": "scatter",
         "x": [
          0,
          0.9338208674293651,
          0.9338208674293651,
          0
         ],
         "xaxis": "x",
         "y": [
          -5,
          -5,
          -15,
          -15
         ],
         "yaxis": "y"
        },
        {
         "hoverinfo": "text",
         "marker": {
          "color": "rgb(61,153,112)"
         },
         "mode": "lines",
         "type": "scatter",
         "x": [
          0,
          0.945437491865085,
          0.945437491865085,
          0
         ],
         "xaxis": "x",
         "y": [
          -25,
          -25,
          -35,
          -35
         ],
         "yaxis": "y"
        },
        {
         "hoverinfo": "text",
         "marker": {
          "color": "rgb(61,153,112)"
         },
         "mode": "lines",
         "type": "scatter",
         "x": [
          0.9338208674293651,
          0.971004954198965,
          0.971004954198965,
          0.945437491865085
         ],
         "xaxis": "x",
         "y": [
          -10,
          -10,
          -30,
          -30
         ],
         "yaxis": "y"
        },
        {
         "hoverinfo": "text",
         "marker": {
          "color": "rgb(61,153,112)"
         },
         "mode": "lines",
         "type": "scatter",
         "x": [
          0,
          0.8562082938672209,
          0.8562082938672209,
          0
         ],
         "xaxis": "x",
         "y": [
          -75,
          -75,
          -85,
          -85
         ],
         "yaxis": "y"
        },
        {
         "hoverinfo": "text",
         "marker": {
          "color": "rgb(61,153,112)"
         },
         "mode": "lines",
         "type": "scatter",
         "x": [
          0,
          0.9167798458052658,
          0.9167798458052658,
          0.8562082938672209
         ],
         "xaxis": "x",
         "y": [
          -65,
          -65,
          -80,
          -80
         ],
         "yaxis": "y"
        },
        {
         "hoverinfo": "text",
         "marker": {
          "color": "rgb(61,153,112)"
         },
         "mode": "lines",
         "type": "scatter",
         "x": [
          0,
          0.9313999134186594,
          0.9313999134186594,
          0.9167798458052658
         ],
         "xaxis": "x",
         "y": [
          -55,
          -55,
          -72.5,
          -72.5
         ],
         "yaxis": "y"
        },
        {
         "hoverinfo": "text",
         "marker": {
          "color": "rgb(61,153,112)"
         },
         "mode": "lines",
         "type": "scatter",
         "x": [
          0,
          0.966354461564367,
          0.966354461564367,
          0.9313999134186594
         ],
         "xaxis": "x",
         "y": [
          -45,
          -45,
          -63.75,
          -63.75
         ],
         "yaxis": "y"
        },
        {
         "hoverinfo": "text",
         "marker": {
          "color": "rgb(61,153,112)"
         },
         "mode": "lines",
         "type": "scatter",
         "x": [
          0.966354461564367,
          0.9713261201621187,
          0.9713261201621187,
          0
         ],
         "xaxis": "x",
         "y": [
          -54.375,
          -54.375,
          -95,
          -95
         ],
         "yaxis": "y"
        },
        {
         "hoverinfo": "text",
         "marker": {
          "color": "rgb(61,153,112)"
         },
         "mode": "lines",
         "type": "scatter",
         "x": [
          0.971004954198965,
          0.988815624204042,
          0.988815624204042,
          0.9713261201621187
         ],
         "xaxis": "x",
         "y": [
          -20,
          -20,
          -74.6875,
          -74.6875
         ],
         "yaxis": "y"
        },
        {
         "hoverinfo": "text",
         "marker": {
          "color": "rgb(255,65,54)"
         },
         "mode": "lines",
         "type": "scatter",
         "x": [
          0,
          0.8720849914135239,
          0.8720849914135239,
          0
         ],
         "xaxis": "x",
         "y": [
          -105,
          -105,
          -115,
          -115
         ],
         "yaxis": "y"
        },
        {
         "hoverinfo": "text",
         "marker": {
          "color": "rgb(35,205,205)"
         },
         "mode": "lines",
         "type": "scatter",
         "x": [
          0,
          0.9052035628126487,
          0.9052035628126487,
          0
         ],
         "xaxis": "x",
         "y": [
          -125,
          -125,
          -135,
          -135
         ],
         "yaxis": "y"
        },
        {
         "hoverinfo": "text",
         "marker": {
          "color": "rgb(35,205,205)"
         },
         "mode": "lines",
         "type": "scatter",
         "x": [
          0.9052035628126487,
          0.9483247282523165,
          0.9483247282523165,
          0
         ],
         "xaxis": "x",
         "y": [
          -130,
          -130,
          -145,
          -145
         ],
         "yaxis": "y"
        },
        {
         "hoverinfo": "text",
         "marker": {
          "color": "rgb(0,116,217)"
         },
         "mode": "lines",
         "type": "scatter",
         "x": [
          0.8720849914135239,
          1.010032608158411,
          1.010032608158411,
          0.9483247282523165
         ],
         "xaxis": "x",
         "y": [
          -110,
          -110,
          -137.5,
          -137.5
         ],
         "yaxis": "y"
        },
        {
         "hoverinfo": "text",
         "marker": {
          "color": "rgb(0,116,217)"
         },
         "mode": "lines",
         "type": "scatter",
         "x": [
          0.988815624204042,
          1.0267134599507497,
          1.0267134599507497,
          1.010032608158411
         ],
         "xaxis": "x",
         "y": [
          -47.34375,
          -47.34375,
          -123.75,
          -123.75
         ],
         "yaxis": "y"
        }
       ],
       "layout": {
        "autosize": false,
        "height": 425,
        "hoverlabel": {
         "bgcolor": "white",
         "font": {
          "family": "Rockwell",
          "size": 16
         }
        },
        "hovermode": "closest",
        "plot_bgcolor": "#ECEFF1",
        "showlegend": false,
        "template": {
         "data": {
          "bar": [
           {
            "error_x": {
             "color": "#2a3f5f"
            },
            "error_y": {
             "color": "#2a3f5f"
            },
            "marker": {
             "line": {
              "color": "white",
              "width": 0.5
             },
             "pattern": {
              "fillmode": "overlay",
              "size": 10,
              "solidity": 0.2
             }
            },
            "type": "bar"
           }
          ],
          "barpolar": [
           {
            "marker": {
             "line": {
              "color": "white",
              "width": 0.5
             },
             "pattern": {
              "fillmode": "overlay",
              "size": 10,
              "solidity": 0.2
             }
            },
            "type": "barpolar"
           }
          ],
          "carpet": [
           {
            "aaxis": {
             "endlinecolor": "#2a3f5f",
             "gridcolor": "#C8D4E3",
             "linecolor": "#C8D4E3",
             "minorgridcolor": "#C8D4E3",
             "startlinecolor": "#2a3f5f"
            },
            "baxis": {
             "endlinecolor": "#2a3f5f",
             "gridcolor": "#C8D4E3",
             "linecolor": "#C8D4E3",
             "minorgridcolor": "#C8D4E3",
             "startlinecolor": "#2a3f5f"
            },
            "type": "carpet"
           }
          ],
          "choropleth": [
           {
            "colorbar": {
             "outlinewidth": 0,
             "ticks": ""
            },
            "type": "choropleth"
           }
          ],
          "contour": [
           {
            "colorbar": {
             "outlinewidth": 0,
             "ticks": ""
            },
            "colorscale": [
             [
              0,
              "#0d0887"
             ],
             [
              0.1111111111111111,
              "#46039f"
             ],
             [
              0.2222222222222222,
              "#7201a8"
             ],
             [
              0.3333333333333333,
              "#9c179e"
             ],
             [
              0.4444444444444444,
              "#bd3786"
             ],
             [
              0.5555555555555556,
              "#d8576b"
             ],
             [
              0.6666666666666666,
              "#ed7953"
             ],
             [
              0.7777777777777778,
              "#fb9f3a"
             ],
             [
              0.8888888888888888,
              "#fdca26"
             ],
             [
              1,
              "#f0f921"
             ]
            ],
            "type": "contour"
           }
          ],
          "contourcarpet": [
           {
            "colorbar": {
             "outlinewidth": 0,
             "ticks": ""
            },
            "type": "contourcarpet"
           }
          ],
          "heatmap": [
           {
            "colorbar": {
             "outlinewidth": 0,
             "ticks": ""
            },
            "colorscale": [
             [
              0,
              "#0d0887"
             ],
             [
              0.1111111111111111,
              "#46039f"
             ],
             [
              0.2222222222222222,
              "#7201a8"
             ],
             [
              0.3333333333333333,
              "#9c179e"
             ],
             [
              0.4444444444444444,
              "#bd3786"
             ],
             [
              0.5555555555555556,
              "#d8576b"
             ],
             [
              0.6666666666666666,
              "#ed7953"
             ],
             [
              0.7777777777777778,
              "#fb9f3a"
             ],
             [
              0.8888888888888888,
              "#fdca26"
             ],
             [
              1,
              "#f0f921"
             ]
            ],
            "type": "heatmap"
           }
          ],
          "heatmapgl": [
           {
            "colorbar": {
             "outlinewidth": 0,
             "ticks": ""
            },
            "colorscale": [
             [
              0,
              "#0d0887"
             ],
             [
              0.1111111111111111,
              "#46039f"
             ],
             [
              0.2222222222222222,
              "#7201a8"
             ],
             [
              0.3333333333333333,
              "#9c179e"
             ],
             [
              0.4444444444444444,
              "#bd3786"
             ],
             [
              0.5555555555555556,
              "#d8576b"
             ],
             [
              0.6666666666666666,
              "#ed7953"
             ],
             [
              0.7777777777777778,
              "#fb9f3a"
             ],
             [
              0.8888888888888888,
              "#fdca26"
             ],
             [
              1,
              "#f0f921"
             ]
            ],
            "type": "heatmapgl"
           }
          ],
          "histogram": [
           {
            "marker": {
             "pattern": {
              "fillmode": "overlay",
              "size": 10,
              "solidity": 0.2
             }
            },
            "type": "histogram"
           }
          ],
          "histogram2d": [
           {
            "colorbar": {
             "outlinewidth": 0,
             "ticks": ""
            },
            "colorscale": [
             [
              0,
              "#0d0887"
             ],
             [
              0.1111111111111111,
              "#46039f"
             ],
             [
              0.2222222222222222,
              "#7201a8"
             ],
             [
              0.3333333333333333,
              "#9c179e"
             ],
             [
              0.4444444444444444,
              "#bd3786"
             ],
             [
              0.5555555555555556,
              "#d8576b"
             ],
             [
              0.6666666666666666,
              "#ed7953"
             ],
             [
              0.7777777777777778,
              "#fb9f3a"
             ],
             [
              0.8888888888888888,
              "#fdca26"
             ],
             [
              1,
              "#f0f921"
             ]
            ],
            "type": "histogram2d"
           }
          ],
          "histogram2dcontour": [
           {
            "colorbar": {
             "outlinewidth": 0,
             "ticks": ""
            },
            "colorscale": [
             [
              0,
              "#0d0887"
             ],
             [
              0.1111111111111111,
              "#46039f"
             ],
             [
              0.2222222222222222,
              "#7201a8"
             ],
             [
              0.3333333333333333,
              "#9c179e"
             ],
             [
              0.4444444444444444,
              "#bd3786"
             ],
             [
              0.5555555555555556,
              "#d8576b"
             ],
             [
              0.6666666666666666,
              "#ed7953"
             ],
             [
              0.7777777777777778,
              "#fb9f3a"
             ],
             [
              0.8888888888888888,
              "#fdca26"
             ],
             [
              1,
              "#f0f921"
             ]
            ],
            "type": "histogram2dcontour"
           }
          ],
          "mesh3d": [
           {
            "colorbar": {
             "outlinewidth": 0,
             "ticks": ""
            },
            "type": "mesh3d"
           }
          ],
          "parcoords": [
           {
            "line": {
             "colorbar": {
              "outlinewidth": 0,
              "ticks": ""
             }
            },
            "type": "parcoords"
           }
          ],
          "pie": [
           {
            "automargin": true,
            "type": "pie"
           }
          ],
          "scatter": [
           {
            "fillpattern": {
             "fillmode": "overlay",
             "size": 10,
             "solidity": 0.2
            },
            "type": "scatter"
           }
          ],
          "scatter3d": [
           {
            "line": {
             "colorbar": {
              "outlinewidth": 0,
              "ticks": ""
             }
            },
            "marker": {
             "colorbar": {
              "outlinewidth": 0,
              "ticks": ""
             }
            },
            "type": "scatter3d"
           }
          ],
          "scattercarpet": [
           {
            "marker": {
             "colorbar": {
              "outlinewidth": 0,
              "ticks": ""
             }
            },
            "type": "scattercarpet"
           }
          ],
          "scattergeo": [
           {
            "marker": {
             "colorbar": {
              "outlinewidth": 0,
              "ticks": ""
             }
            },
            "type": "scattergeo"
           }
          ],
          "scattergl": [
           {
            "marker": {
             "colorbar": {
              "outlinewidth": 0,
              "ticks": ""
             }
            },
            "type": "scattergl"
           }
          ],
          "scattermapbox": [
           {
            "marker": {
             "colorbar": {
              "outlinewidth": 0,
              "ticks": ""
             }
            },
            "type": "scattermapbox"
           }
          ],
          "scatterpolar": [
           {
            "marker": {
             "colorbar": {
              "outlinewidth": 0,
              "ticks": ""
             }
            },
            "type": "scatterpolar"
           }
          ],
          "scatterpolargl": [
           {
            "marker": {
             "colorbar": {
              "outlinewidth": 0,
              "ticks": ""
             }
            },
            "type": "scatterpolargl"
           }
          ],
          "scatterternary": [
           {
            "marker": {
             "colorbar": {
              "outlinewidth": 0,
              "ticks": ""
             }
            },
            "type": "scatterternary"
           }
          ],
          "surface": [
           {
            "colorbar": {
             "outlinewidth": 0,
             "ticks": ""
            },
            "colorscale": [
             [
              0,
              "#0d0887"
             ],
             [
              0.1111111111111111,
              "#46039f"
             ],
             [
              0.2222222222222222,
              "#7201a8"
             ],
             [
              0.3333333333333333,
              "#9c179e"
             ],
             [
              0.4444444444444444,
              "#bd3786"
             ],
             [
              0.5555555555555556,
              "#d8576b"
             ],
             [
              0.6666666666666666,
              "#ed7953"
             ],
             [
              0.7777777777777778,
              "#fb9f3a"
             ],
             [
              0.8888888888888888,
              "#fdca26"
             ],
             [
              1,
              "#f0f921"
             ]
            ],
            "type": "surface"
           }
          ],
          "table": [
           {
            "cells": {
             "fill": {
              "color": "#EBF0F8"
             },
             "line": {
              "color": "white"
             }
            },
            "header": {
             "fill": {
              "color": "#C8D4E3"
             },
             "line": {
              "color": "white"
             }
            },
            "type": "table"
           }
          ]
         },
         "layout": {
          "annotationdefaults": {
           "arrowcolor": "#2a3f5f",
           "arrowhead": 0,
           "arrowwidth": 1
          },
          "autotypenumbers": "strict",
          "coloraxis": {
           "colorbar": {
            "outlinewidth": 0,
            "ticks": ""
           }
          },
          "colorscale": {
           "diverging": [
            [
             0,
             "#8e0152"
            ],
            [
             0.1,
             "#c51b7d"
            ],
            [
             0.2,
             "#de77ae"
            ],
            [
             0.3,
             "#f1b6da"
            ],
            [
             0.4,
             "#fde0ef"
            ],
            [
             0.5,
             "#f7f7f7"
            ],
            [
             0.6,
             "#e6f5d0"
            ],
            [
             0.7,
             "#b8e186"
            ],
            [
             0.8,
             "#7fbc41"
            ],
            [
             0.9,
             "#4d9221"
            ],
            [
             1,
             "#276419"
            ]
           ],
           "sequential": [
            [
             0,
             "#0d0887"
            ],
            [
             0.1111111111111111,
             "#46039f"
            ],
            [
             0.2222222222222222,
             "#7201a8"
            ],
            [
             0.3333333333333333,
             "#9c179e"
            ],
            [
             0.4444444444444444,
             "#bd3786"
            ],
            [
             0.5555555555555556,
             "#d8576b"
            ],
            [
             0.6666666666666666,
             "#ed7953"
            ],
            [
             0.7777777777777778,
             "#fb9f3a"
            ],
            [
             0.8888888888888888,
             "#fdca26"
            ],
            [
             1,
             "#f0f921"
            ]
           ],
           "sequentialminus": [
            [
             0,
             "#0d0887"
            ],
            [
             0.1111111111111111,
             "#46039f"
            ],
            [
             0.2222222222222222,
             "#7201a8"
            ],
            [
             0.3333333333333333,
             "#9c179e"
            ],
            [
             0.4444444444444444,
             "#bd3786"
            ],
            [
             0.5555555555555556,
             "#d8576b"
            ],
            [
             0.6666666666666666,
             "#ed7953"
            ],
            [
             0.7777777777777778,
             "#fb9f3a"
            ],
            [
             0.8888888888888888,
             "#fdca26"
            ],
            [
             1,
             "#f0f921"
            ]
           ]
          },
          "colorway": [
           "#636efa",
           "#EF553B",
           "#00cc96",
           "#ab63fa",
           "#FFA15A",
           "#19d3f3",
           "#FF6692",
           "#B6E880",
           "#FF97FF",
           "#FECB52"
          ],
          "font": {
           "color": "#2a3f5f"
          },
          "geo": {
           "bgcolor": "white",
           "lakecolor": "white",
           "landcolor": "white",
           "showlakes": true,
           "showland": true,
           "subunitcolor": "#C8D4E3"
          },
          "hoverlabel": {
           "align": "left"
          },
          "hovermode": "closest",
          "mapbox": {
           "style": "light"
          },
          "paper_bgcolor": "white",
          "plot_bgcolor": "white",
          "polar": {
           "angularaxis": {
            "gridcolor": "#EBF0F8",
            "linecolor": "#EBF0F8",
            "ticks": ""
           },
           "bgcolor": "white",
           "radialaxis": {
            "gridcolor": "#EBF0F8",
            "linecolor": "#EBF0F8",
            "ticks": ""
           }
          },
          "scene": {
           "xaxis": {
            "backgroundcolor": "white",
            "gridcolor": "#DFE8F3",
            "gridwidth": 2,
            "linecolor": "#EBF0F8",
            "showbackground": true,
            "ticks": "",
            "zerolinecolor": "#EBF0F8"
           },
           "yaxis": {
            "backgroundcolor": "white",
            "gridcolor": "#DFE8F3",
            "gridwidth": 2,
            "linecolor": "#EBF0F8",
            "showbackground": true,
            "ticks": "",
            "zerolinecolor": "#EBF0F8"
           },
           "zaxis": {
            "backgroundcolor": "white",
            "gridcolor": "#DFE8F3",
            "gridwidth": 2,
            "linecolor": "#EBF0F8",
            "showbackground": true,
            "ticks": "",
            "zerolinecolor": "#EBF0F8"
           }
          },
          "shapedefaults": {
           "line": {
            "color": "#2a3f5f"
           }
          },
          "ternary": {
           "aaxis": {
            "gridcolor": "#DFE8F3",
            "linecolor": "#A2B1C6",
            "ticks": ""
           },
           "baxis": {
            "gridcolor": "#DFE8F3",
            "linecolor": "#A2B1C6",
            "ticks": ""
           },
           "bgcolor": "white",
           "caxis": {
            "gridcolor": "#DFE8F3",
            "linecolor": "#A2B1C6",
            "ticks": ""
           }
          },
          "title": {
           "x": 0.05
          },
          "xaxis": {
           "automargin": true,
           "gridcolor": "#EBF0F8",
           "linecolor": "#EBF0F8",
           "ticks": "",
           "title": {
            "standoff": 15
           },
           "zerolinecolor": "#EBF0F8",
           "zerolinewidth": 2
          },
          "yaxis": {
           "automargin": true,
           "gridcolor": "#EBF0F8",
           "linecolor": "#EBF0F8",
           "ticks": "",
           "title": {
            "standoff": 15
           },
           "zerolinecolor": "#EBF0F8",
           "zerolinewidth": 2
          }
         }
        },
        "title": {
         "font": {
          "color": "Black",
          "size": 22
         },
         "text": "<b>Hierarchical Clustering</b>",
         "x": 0.5,
         "xanchor": "center",
         "yanchor": "top"
        },
        "width": 1000,
        "xaxis": {
         "mirror": "allticks",
         "rangemode": "tozero",
         "showgrid": false,
         "showline": true,
         "showticklabels": true,
         "ticks": "outside",
         "type": "linear",
         "zeroline": false
        },
        "yaxis": {
         "mirror": "allticks",
         "range": [
          -150,
          0
         ],
         "rangemode": "tozero",
         "showgrid": false,
         "showline": true,
         "showticklabels": true,
         "tickmode": "array",
         "ticks": "outside",
         "ticktext": [
          "4_bird_animal_america",
          "5_insect_entomology_wasp",
          "11_specie_speciman_variety",
          "9_hooker_dr_lady",
          "12_pencil_drawing_illustrat...",
          "10_lecture_course_class",
          "2_money_expense_salary",
          "0_specimen_museum_suffolk",
          "3_season_feb_summer",
          "1_henry_sh_thomas",
          "6_palmerston_horse_sincerel...",
          "7_committee_examination_exam",
          "13_kindness_attention_comfort",
          "8_brother_sister_nephew",
          "14_health_illness_complaint"
         ],
         "tickvals": [
          -5,
          -15,
          -25,
          -35,
          -45,
          -55,
          -65,
          -75,
          -85,
          -95,
          -105,
          -115,
          -125,
          -135,
          -145
         ],
         "type": "linear",
         "zeroline": false
        }
       }
      },
      "text/html": [
       "<div>                            <div id=\"97901fcc-3c2a-4db9-bf7f-c28c57432230\" class=\"plotly-graph-div\" style=\"height:425px; width:1000px;\"></div>            <script type=\"text/javascript\">                require([\"plotly\"], function(Plotly) {                    window.PLOTLYENV=window.PLOTLYENV || {};                                    if (document.getElementById(\"97901fcc-3c2a-4db9-bf7f-c28c57432230\")) {                    Plotly.newPlot(                        \"97901fcc-3c2a-4db9-bf7f-c28c57432230\",                        [{\"hoverinfo\":\"text\",\"marker\":{\"color\":\"rgb(61,153,112)\"},\"mode\":\"lines\",\"x\":[0.0,0.9338208674293651,0.9338208674293651,0.0],\"xaxis\":\"x\",\"y\":[-5.0,-5.0,-15.0,-15.0],\"yaxis\":\"y\",\"type\":\"scatter\"},{\"hoverinfo\":\"text\",\"marker\":{\"color\":\"rgb(61,153,112)\"},\"mode\":\"lines\",\"x\":[0.0,0.945437491865085,0.945437491865085,0.0],\"xaxis\":\"x\",\"y\":[-25.0,-25.0,-35.0,-35.0],\"yaxis\":\"y\",\"type\":\"scatter\"},{\"hoverinfo\":\"text\",\"marker\":{\"color\":\"rgb(61,153,112)\"},\"mode\":\"lines\",\"x\":[0.9338208674293651,0.971004954198965,0.971004954198965,0.945437491865085],\"xaxis\":\"x\",\"y\":[-10.0,-10.0,-30.0,-30.0],\"yaxis\":\"y\",\"type\":\"scatter\"},{\"hoverinfo\":\"text\",\"marker\":{\"color\":\"rgb(61,153,112)\"},\"mode\":\"lines\",\"x\":[0.0,0.8562082938672209,0.8562082938672209,0.0],\"xaxis\":\"x\",\"y\":[-75.0,-75.0,-85.0,-85.0],\"yaxis\":\"y\",\"type\":\"scatter\"},{\"hoverinfo\":\"text\",\"marker\":{\"color\":\"rgb(61,153,112)\"},\"mode\":\"lines\",\"x\":[0.0,0.9167798458052658,0.9167798458052658,0.8562082938672209],\"xaxis\":\"x\",\"y\":[-65.0,-65.0,-80.0,-80.0],\"yaxis\":\"y\",\"type\":\"scatter\"},{\"hoverinfo\":\"text\",\"marker\":{\"color\":\"rgb(61,153,112)\"},\"mode\":\"lines\",\"x\":[0.0,0.9313999134186594,0.9313999134186594,0.9167798458052658],\"xaxis\":\"x\",\"y\":[-55.0,-55.0,-72.5,-72.5],\"yaxis\":\"y\",\"type\":\"scatter\"},{\"hoverinfo\":\"text\",\"marker\":{\"color\":\"rgb(61,153,112)\"},\"mode\":\"lines\",\"x\":[0.0,0.966354461564367,0.966354461564367,0.9313999134186594],\"xaxis\":\"x\",\"y\":[-45.0,-45.0,-63.75,-63.75],\"yaxis\":\"y\",\"type\":\"scatter\"},{\"hoverinfo\":\"text\",\"marker\":{\"color\":\"rgb(61,153,112)\"},\"mode\":\"lines\",\"x\":[0.966354461564367,0.9713261201621187,0.9713261201621187,0.0],\"xaxis\":\"x\",\"y\":[-54.375,-54.375,-95.0,-95.0],\"yaxis\":\"y\",\"type\":\"scatter\"},{\"hoverinfo\":\"text\",\"marker\":{\"color\":\"rgb(61,153,112)\"},\"mode\":\"lines\",\"x\":[0.971004954198965,0.988815624204042,0.988815624204042,0.9713261201621187],\"xaxis\":\"x\",\"y\":[-20.0,-20.0,-74.6875,-74.6875],\"yaxis\":\"y\",\"type\":\"scatter\"},{\"hoverinfo\":\"text\",\"marker\":{\"color\":\"rgb(255,65,54)\"},\"mode\":\"lines\",\"x\":[0.0,0.8720849914135239,0.8720849914135239,0.0],\"xaxis\":\"x\",\"y\":[-105.0,-105.0,-115.0,-115.0],\"yaxis\":\"y\",\"type\":\"scatter\"},{\"hoverinfo\":\"text\",\"marker\":{\"color\":\"rgb(35,205,205)\"},\"mode\":\"lines\",\"x\":[0.0,0.9052035628126487,0.9052035628126487,0.0],\"xaxis\":\"x\",\"y\":[-125.0,-125.0,-135.0,-135.0],\"yaxis\":\"y\",\"type\":\"scatter\"},{\"hoverinfo\":\"text\",\"marker\":{\"color\":\"rgb(35,205,205)\"},\"mode\":\"lines\",\"x\":[0.9052035628126487,0.9483247282523165,0.9483247282523165,0.0],\"xaxis\":\"x\",\"y\":[-130.0,-130.0,-145.0,-145.0],\"yaxis\":\"y\",\"type\":\"scatter\"},{\"hoverinfo\":\"text\",\"marker\":{\"color\":\"rgb(0,116,217)\"},\"mode\":\"lines\",\"x\":[0.8720849914135239,1.010032608158411,1.010032608158411,0.9483247282523165],\"xaxis\":\"x\",\"y\":[-110.0,-110.0,-137.5,-137.5],\"yaxis\":\"y\",\"type\":\"scatter\"},{\"hoverinfo\":\"text\",\"marker\":{\"color\":\"rgb(0,116,217)\"},\"mode\":\"lines\",\"x\":[0.988815624204042,1.0267134599507497,1.0267134599507497,1.010032608158411],\"xaxis\":\"x\",\"y\":[-47.34375,-47.34375,-123.75,-123.75],\"yaxis\":\"y\",\"type\":\"scatter\"}],                        {\"autosize\":false,\"height\":425,\"hovermode\":\"closest\",\"showlegend\":false,\"width\":1000,\"xaxis\":{\"mirror\":\"allticks\",\"rangemode\":\"tozero\",\"showgrid\":false,\"showline\":true,\"showticklabels\":true,\"ticks\":\"outside\",\"type\":\"linear\",\"zeroline\":false},\"yaxis\":{\"mirror\":\"allticks\",\"rangemode\":\"tozero\",\"showgrid\":false,\"showline\":true,\"showticklabels\":true,\"tickmode\":\"array\",\"ticks\":\"outside\",\"ticktext\":[\"4_bird_animal_america\",\"5_insect_entomology_wasp\",\"11_specie_speciman_variety\",\"9_hooker_dr_lady\",\"12_pencil_drawing_illustrat...\",\"10_lecture_course_class\",\"2_money_expense_salary\",\"0_specimen_museum_suffolk\",\"3_season_feb_summer\",\"1_henry_sh_thomas\",\"6_palmerston_horse_sincerel...\",\"7_committee_examination_exam\",\"13_kindness_attention_comfort\",\"8_brother_sister_nephew\",\"14_health_illness_complaint\"],\"tickvals\":[-5.0,-15.0,-25.0,-35.0,-45.0,-55.0,-65.0,-75.0,-85.0,-95.0,-105.0,-115.0,-125.0,-135.0,-145.0],\"type\":\"linear\",\"zeroline\":false,\"range\":[-150.0,0.0]},\"template\":{\"data\":{\"barpolar\":[{\"marker\":{\"line\":{\"color\":\"white\",\"width\":0.5},\"pattern\":{\"fillmode\":\"overlay\",\"size\":10,\"solidity\":0.2}},\"type\":\"barpolar\"}],\"bar\":[{\"error_x\":{\"color\":\"#2a3f5f\"},\"error_y\":{\"color\":\"#2a3f5f\"},\"marker\":{\"line\":{\"color\":\"white\",\"width\":0.5},\"pattern\":{\"fillmode\":\"overlay\",\"size\":10,\"solidity\":0.2}},\"type\":\"bar\"}],\"carpet\":[{\"aaxis\":{\"endlinecolor\":\"#2a3f5f\",\"gridcolor\":\"#C8D4E3\",\"linecolor\":\"#C8D4E3\",\"minorgridcolor\":\"#C8D4E3\",\"startlinecolor\":\"#2a3f5f\"},\"baxis\":{\"endlinecolor\":\"#2a3f5f\",\"gridcolor\":\"#C8D4E3\",\"linecolor\":\"#C8D4E3\",\"minorgridcolor\":\"#C8D4E3\",\"startlinecolor\":\"#2a3f5f\"},\"type\":\"carpet\"}],\"choropleth\":[{\"colorbar\":{\"outlinewidth\":0,\"ticks\":\"\"},\"type\":\"choropleth\"}],\"contourcarpet\":[{\"colorbar\":{\"outlinewidth\":0,\"ticks\":\"\"},\"type\":\"contourcarpet\"}],\"contour\":[{\"colorbar\":{\"outlinewidth\":0,\"ticks\":\"\"},\"colorscale\":[[0.0,\"#0d0887\"],[0.1111111111111111,\"#46039f\"],[0.2222222222222222,\"#7201a8\"],[0.3333333333333333,\"#9c179e\"],[0.4444444444444444,\"#bd3786\"],[0.5555555555555556,\"#d8576b\"],[0.6666666666666666,\"#ed7953\"],[0.7777777777777778,\"#fb9f3a\"],[0.8888888888888888,\"#fdca26\"],[1.0,\"#f0f921\"]],\"type\":\"contour\"}],\"heatmapgl\":[{\"colorbar\":{\"outlinewidth\":0,\"ticks\":\"\"},\"colorscale\":[[0.0,\"#0d0887\"],[0.1111111111111111,\"#46039f\"],[0.2222222222222222,\"#7201a8\"],[0.3333333333333333,\"#9c179e\"],[0.4444444444444444,\"#bd3786\"],[0.5555555555555556,\"#d8576b\"],[0.6666666666666666,\"#ed7953\"],[0.7777777777777778,\"#fb9f3a\"],[0.8888888888888888,\"#fdca26\"],[1.0,\"#f0f921\"]],\"type\":\"heatmapgl\"}],\"heatmap\":[{\"colorbar\":{\"outlinewidth\":0,\"ticks\":\"\"},\"colorscale\":[[0.0,\"#0d0887\"],[0.1111111111111111,\"#46039f\"],[0.2222222222222222,\"#7201a8\"],[0.3333333333333333,\"#9c179e\"],[0.4444444444444444,\"#bd3786\"],[0.5555555555555556,\"#d8576b\"],[0.6666666666666666,\"#ed7953\"],[0.7777777777777778,\"#fb9f3a\"],[0.8888888888888888,\"#fdca26\"],[1.0,\"#f0f921\"]],\"type\":\"heatmap\"}],\"histogram2dcontour\":[{\"colorbar\":{\"outlinewidth\":0,\"ticks\":\"\"},\"colorscale\":[[0.0,\"#0d0887\"],[0.1111111111111111,\"#46039f\"],[0.2222222222222222,\"#7201a8\"],[0.3333333333333333,\"#9c179e\"],[0.4444444444444444,\"#bd3786\"],[0.5555555555555556,\"#d8576b\"],[0.6666666666666666,\"#ed7953\"],[0.7777777777777778,\"#fb9f3a\"],[0.8888888888888888,\"#fdca26\"],[1.0,\"#f0f921\"]],\"type\":\"histogram2dcontour\"}],\"histogram2d\":[{\"colorbar\":{\"outlinewidth\":0,\"ticks\":\"\"},\"colorscale\":[[0.0,\"#0d0887\"],[0.1111111111111111,\"#46039f\"],[0.2222222222222222,\"#7201a8\"],[0.3333333333333333,\"#9c179e\"],[0.4444444444444444,\"#bd3786\"],[0.5555555555555556,\"#d8576b\"],[0.6666666666666666,\"#ed7953\"],[0.7777777777777778,\"#fb9f3a\"],[0.8888888888888888,\"#fdca26\"],[1.0,\"#f0f921\"]],\"type\":\"histogram2d\"}],\"histogram\":[{\"marker\":{\"pattern\":{\"fillmode\":\"overlay\",\"size\":10,\"solidity\":0.2}},\"type\":\"histogram\"}],\"mesh3d\":[{\"colorbar\":{\"outlinewidth\":0,\"ticks\":\"\"},\"type\":\"mesh3d\"}],\"parcoords\":[{\"line\":{\"colorbar\":{\"outlinewidth\":0,\"ticks\":\"\"}},\"type\":\"parcoords\"}],\"pie\":[{\"automargin\":true,\"type\":\"pie\"}],\"scatter3d\":[{\"line\":{\"colorbar\":{\"outlinewidth\":0,\"ticks\":\"\"}},\"marker\":{\"colorbar\":{\"outlinewidth\":0,\"ticks\":\"\"}},\"type\":\"scatter3d\"}],\"scattercarpet\":[{\"marker\":{\"colorbar\":{\"outlinewidth\":0,\"ticks\":\"\"}},\"type\":\"scattercarpet\"}],\"scattergeo\":[{\"marker\":{\"colorbar\":{\"outlinewidth\":0,\"ticks\":\"\"}},\"type\":\"scattergeo\"}],\"scattergl\":[{\"marker\":{\"colorbar\":{\"outlinewidth\":0,\"ticks\":\"\"}},\"type\":\"scattergl\"}],\"scattermapbox\":[{\"marker\":{\"colorbar\":{\"outlinewidth\":0,\"ticks\":\"\"}},\"type\":\"scattermapbox\"}],\"scatterpolargl\":[{\"marker\":{\"colorbar\":{\"outlinewidth\":0,\"ticks\":\"\"}},\"type\":\"scatterpolargl\"}],\"scatterpolar\":[{\"marker\":{\"colorbar\":{\"outlinewidth\":0,\"ticks\":\"\"}},\"type\":\"scatterpolar\"}],\"scatter\":[{\"fillpattern\":{\"fillmode\":\"overlay\",\"size\":10,\"solidity\":0.2},\"type\":\"scatter\"}],\"scatterternary\":[{\"marker\":{\"colorbar\":{\"outlinewidth\":0,\"ticks\":\"\"}},\"type\":\"scatterternary\"}],\"surface\":[{\"colorbar\":{\"outlinewidth\":0,\"ticks\":\"\"},\"colorscale\":[[0.0,\"#0d0887\"],[0.1111111111111111,\"#46039f\"],[0.2222222222222222,\"#7201a8\"],[0.3333333333333333,\"#9c179e\"],[0.4444444444444444,\"#bd3786\"],[0.5555555555555556,\"#d8576b\"],[0.6666666666666666,\"#ed7953\"],[0.7777777777777778,\"#fb9f3a\"],[0.8888888888888888,\"#fdca26\"],[1.0,\"#f0f921\"]],\"type\":\"surface\"}],\"table\":[{\"cells\":{\"fill\":{\"color\":\"#EBF0F8\"},\"line\":{\"color\":\"white\"}},\"header\":{\"fill\":{\"color\":\"#C8D4E3\"},\"line\":{\"color\":\"white\"}},\"type\":\"table\"}]},\"layout\":{\"annotationdefaults\":{\"arrowcolor\":\"#2a3f5f\",\"arrowhead\":0,\"arrowwidth\":1},\"autotypenumbers\":\"strict\",\"coloraxis\":{\"colorbar\":{\"outlinewidth\":0,\"ticks\":\"\"}},\"colorscale\":{\"diverging\":[[0,\"#8e0152\"],[0.1,\"#c51b7d\"],[0.2,\"#de77ae\"],[0.3,\"#f1b6da\"],[0.4,\"#fde0ef\"],[0.5,\"#f7f7f7\"],[0.6,\"#e6f5d0\"],[0.7,\"#b8e186\"],[0.8,\"#7fbc41\"],[0.9,\"#4d9221\"],[1,\"#276419\"]],\"sequential\":[[0.0,\"#0d0887\"],[0.1111111111111111,\"#46039f\"],[0.2222222222222222,\"#7201a8\"],[0.3333333333333333,\"#9c179e\"],[0.4444444444444444,\"#bd3786\"],[0.5555555555555556,\"#d8576b\"],[0.6666666666666666,\"#ed7953\"],[0.7777777777777778,\"#fb9f3a\"],[0.8888888888888888,\"#fdca26\"],[1.0,\"#f0f921\"]],\"sequentialminus\":[[0.0,\"#0d0887\"],[0.1111111111111111,\"#46039f\"],[0.2222222222222222,\"#7201a8\"],[0.3333333333333333,\"#9c179e\"],[0.4444444444444444,\"#bd3786\"],[0.5555555555555556,\"#d8576b\"],[0.6666666666666666,\"#ed7953\"],[0.7777777777777778,\"#fb9f3a\"],[0.8888888888888888,\"#fdca26\"],[1.0,\"#f0f921\"]]},\"colorway\":[\"#636efa\",\"#EF553B\",\"#00cc96\",\"#ab63fa\",\"#FFA15A\",\"#19d3f3\",\"#FF6692\",\"#B6E880\",\"#FF97FF\",\"#FECB52\"],\"font\":{\"color\":\"#2a3f5f\"},\"geo\":{\"bgcolor\":\"white\",\"lakecolor\":\"white\",\"landcolor\":\"white\",\"showlakes\":true,\"showland\":true,\"subunitcolor\":\"#C8D4E3\"},\"hoverlabel\":{\"align\":\"left\"},\"hovermode\":\"closest\",\"mapbox\":{\"style\":\"light\"},\"paper_bgcolor\":\"white\",\"plot_bgcolor\":\"white\",\"polar\":{\"angularaxis\":{\"gridcolor\":\"#EBF0F8\",\"linecolor\":\"#EBF0F8\",\"ticks\":\"\"},\"bgcolor\":\"white\",\"radialaxis\":{\"gridcolor\":\"#EBF0F8\",\"linecolor\":\"#EBF0F8\",\"ticks\":\"\"}},\"scene\":{\"xaxis\":{\"backgroundcolor\":\"white\",\"gridcolor\":\"#DFE8F3\",\"gridwidth\":2,\"linecolor\":\"#EBF0F8\",\"showbackground\":true,\"ticks\":\"\",\"zerolinecolor\":\"#EBF0F8\"},\"yaxis\":{\"backgroundcolor\":\"white\",\"gridcolor\":\"#DFE8F3\",\"gridwidth\":2,\"linecolor\":\"#EBF0F8\",\"showbackground\":true,\"ticks\":\"\",\"zerolinecolor\":\"#EBF0F8\"},\"zaxis\":{\"backgroundcolor\":\"white\",\"gridcolor\":\"#DFE8F3\",\"gridwidth\":2,\"linecolor\":\"#EBF0F8\",\"showbackground\":true,\"ticks\":\"\",\"zerolinecolor\":\"#EBF0F8\"}},\"shapedefaults\":{\"line\":{\"color\":\"#2a3f5f\"}},\"ternary\":{\"aaxis\":{\"gridcolor\":\"#DFE8F3\",\"linecolor\":\"#A2B1C6\",\"ticks\":\"\"},\"baxis\":{\"gridcolor\":\"#DFE8F3\",\"linecolor\":\"#A2B1C6\",\"ticks\":\"\"},\"bgcolor\":\"white\",\"caxis\":{\"gridcolor\":\"#DFE8F3\",\"linecolor\":\"#A2B1C6\",\"ticks\":\"\"}},\"title\":{\"x\":0.05},\"xaxis\":{\"automargin\":true,\"gridcolor\":\"#EBF0F8\",\"linecolor\":\"#EBF0F8\",\"ticks\":\"\",\"title\":{\"standoff\":15},\"zerolinecolor\":\"#EBF0F8\",\"zerolinewidth\":2},\"yaxis\":{\"automargin\":true,\"gridcolor\":\"#EBF0F8\",\"linecolor\":\"#EBF0F8\",\"ticks\":\"\",\"title\":{\"standoff\":15},\"zerolinecolor\":\"#EBF0F8\",\"zerolinewidth\":2}}},\"title\":{\"font\":{\"size\":22,\"color\":\"Black\"},\"text\":\"\\u003cb\\u003eHierarchical Clustering\\u003c\\u002fb\\u003e\",\"x\":0.5,\"xanchor\":\"center\",\"yanchor\":\"top\"},\"hoverlabel\":{\"font\":{\"size\":16,\"family\":\"Rockwell\"},\"bgcolor\":\"white\"},\"plot_bgcolor\":\"#ECEFF1\"},                        {\"responsive\": true}                    ).then(function(){\n",
       "                            \n",
       "var gd = document.getElementById('97901fcc-3c2a-4db9-bf7f-c28c57432230');\n",
       "var x = new MutationObserver(function (mutations, observer) {{\n",
       "        var display = window.getComputedStyle(gd).display;\n",
       "        if (!display || display === 'none') {{\n",
       "            console.log([gd, 'removed!']);\n",
       "            Plotly.purge(gd);\n",
       "            observer.disconnect();\n",
       "        }}\n",
       "}});\n",
       "\n",
       "// Listen for the removal of the full notebook cells\n",
       "var notebookContainer = gd.closest('#notebook-container');\n",
       "if (notebookContainer) {{\n",
       "    x.observe(notebookContainer, {childList: true});\n",
       "}}\n",
       "\n",
       "// Listen for the clearing of the current output cell\n",
       "var outputEl = gd.closest('.output');\n",
       "if (outputEl) {{\n",
       "    x.observe(outputEl, {childList: true});\n",
       "}}\n",
       "\n",
       "                        })                };                });            </script>        </div>"
      ]
     },
     "metadata": {},
     "output_type": "display_data"
    }
   ],
   "source": [
    "all_tree_vis = bertopic_tree(sent_df, topic_model)\n",
    "all_tree_vis"
   ]
  },
  {
   "cell_type": "markdown",
   "id": "89a4d8ea",
   "metadata": {},
   "source": [
    "Use year_counts and year_counts_plot functions to get a count of letters in each year and visualise."
   ]
  },
  {
   "cell_type": "code",
   "execution_count": 21,
   "id": "c5270cd8",
   "metadata": {
    "scrolled": true
   },
   "outputs": [
    {
     "data": {
      "application/vnd.plotly.v1+json": {
       "config": {
        "plotlyServerURL": "https://plot.ly"
       },
       "data": [
        {
         "alignmentgroup": "True",
         "hovertemplate": "variable=0<br>Year=%{x}<br>Count=%{y}<extra></extra>",
         "legendgroup": "0",
         "marker": {
          "color": "#636efa",
          "pattern": {
           "shape": ""
          }
         },
         "name": "0",
         "offsetgroup": "0",
         "orientation": "v",
         "showlegend": true,
         "textposition": "auto",
         "type": "bar",
         "x": [
          1818,
          1819,
          1820,
          1821,
          1822,
          1823,
          1824,
          1825,
          1826,
          1827,
          1828,
          1829,
          1830,
          1831,
          1832,
          1833,
          1834,
          1835,
          1836,
          1837,
          1838,
          1839,
          1840,
          1841,
          1842,
          1843,
          1844,
          1845,
          1846,
          1847,
          1848,
          1849,
          1850,
          1851,
          1852,
          1853,
          1854,
          1855,
          1856,
          1857,
          1858,
          1859,
          1860,
          1861
         ],
         "xaxis": "x",
         "y": [
          1,
          1,
          4,
          5,
          3,
          8,
          7,
          24,
          198,
          21,
          24,
          24,
          34,
          61,
          15,
          20,
          14,
          6,
          11,
          10,
          5,
          14,
          25,
          6,
          14,
          12,
          15,
          22,
          15,
          16,
          22,
          29,
          31,
          21,
          32,
          33,
          29,
          54,
          85,
          40,
          35,
          39,
          53,
          4
         ],
         "yaxis": "y"
        }
       ],
       "layout": {
        "barmode": "relative",
        "legend": {
         "title": {
          "text": "variable"
         },
         "tracegroupgap": 0
        },
        "showlegend": false,
        "template": {
         "data": {
          "bar": [
           {
            "error_x": {
             "color": "#2a3f5f"
            },
            "error_y": {
             "color": "#2a3f5f"
            },
            "marker": {
             "line": {
              "color": "#E5ECF6",
              "width": 0.5
             },
             "pattern": {
              "fillmode": "overlay",
              "size": 10,
              "solidity": 0.2
             }
            },
            "type": "bar"
           }
          ],
          "barpolar": [
           {
            "marker": {
             "line": {
              "color": "#E5ECF6",
              "width": 0.5
             },
             "pattern": {
              "fillmode": "overlay",
              "size": 10,
              "solidity": 0.2
             }
            },
            "type": "barpolar"
           }
          ],
          "carpet": [
           {
            "aaxis": {
             "endlinecolor": "#2a3f5f",
             "gridcolor": "white",
             "linecolor": "white",
             "minorgridcolor": "white",
             "startlinecolor": "#2a3f5f"
            },
            "baxis": {
             "endlinecolor": "#2a3f5f",
             "gridcolor": "white",
             "linecolor": "white",
             "minorgridcolor": "white",
             "startlinecolor": "#2a3f5f"
            },
            "type": "carpet"
           }
          ],
          "choropleth": [
           {
            "colorbar": {
             "outlinewidth": 0,
             "ticks": ""
            },
            "type": "choropleth"
           }
          ],
          "contour": [
           {
            "colorbar": {
             "outlinewidth": 0,
             "ticks": ""
            },
            "colorscale": [
             [
              0,
              "#0d0887"
             ],
             [
              0.1111111111111111,
              "#46039f"
             ],
             [
              0.2222222222222222,
              "#7201a8"
             ],
             [
              0.3333333333333333,
              "#9c179e"
             ],
             [
              0.4444444444444444,
              "#bd3786"
             ],
             [
              0.5555555555555556,
              "#d8576b"
             ],
             [
              0.6666666666666666,
              "#ed7953"
             ],
             [
              0.7777777777777778,
              "#fb9f3a"
             ],
             [
              0.8888888888888888,
              "#fdca26"
             ],
             [
              1,
              "#f0f921"
             ]
            ],
            "type": "contour"
           }
          ],
          "contourcarpet": [
           {
            "colorbar": {
             "outlinewidth": 0,
             "ticks": ""
            },
            "type": "contourcarpet"
           }
          ],
          "heatmap": [
           {
            "colorbar": {
             "outlinewidth": 0,
             "ticks": ""
            },
            "colorscale": [
             [
              0,
              "#0d0887"
             ],
             [
              0.1111111111111111,
              "#46039f"
             ],
             [
              0.2222222222222222,
              "#7201a8"
             ],
             [
              0.3333333333333333,
              "#9c179e"
             ],
             [
              0.4444444444444444,
              "#bd3786"
             ],
             [
              0.5555555555555556,
              "#d8576b"
             ],
             [
              0.6666666666666666,
              "#ed7953"
             ],
             [
              0.7777777777777778,
              "#fb9f3a"
             ],
             [
              0.8888888888888888,
              "#fdca26"
             ],
             [
              1,
              "#f0f921"
             ]
            ],
            "type": "heatmap"
           }
          ],
          "heatmapgl": [
           {
            "colorbar": {
             "outlinewidth": 0,
             "ticks": ""
            },
            "colorscale": [
             [
              0,
              "#0d0887"
             ],
             [
              0.1111111111111111,
              "#46039f"
             ],
             [
              0.2222222222222222,
              "#7201a8"
             ],
             [
              0.3333333333333333,
              "#9c179e"
             ],
             [
              0.4444444444444444,
              "#bd3786"
             ],
             [
              0.5555555555555556,
              "#d8576b"
             ],
             [
              0.6666666666666666,
              "#ed7953"
             ],
             [
              0.7777777777777778,
              "#fb9f3a"
             ],
             [
              0.8888888888888888,
              "#fdca26"
             ],
             [
              1,
              "#f0f921"
             ]
            ],
            "type": "heatmapgl"
           }
          ],
          "histogram": [
           {
            "marker": {
             "pattern": {
              "fillmode": "overlay",
              "size": 10,
              "solidity": 0.2
             }
            },
            "type": "histogram"
           }
          ],
          "histogram2d": [
           {
            "colorbar": {
             "outlinewidth": 0,
             "ticks": ""
            },
            "colorscale": [
             [
              0,
              "#0d0887"
             ],
             [
              0.1111111111111111,
              "#46039f"
             ],
             [
              0.2222222222222222,
              "#7201a8"
             ],
             [
              0.3333333333333333,
              "#9c179e"
             ],
             [
              0.4444444444444444,
              "#bd3786"
             ],
             [
              0.5555555555555556,
              "#d8576b"
             ],
             [
              0.6666666666666666,
              "#ed7953"
             ],
             [
              0.7777777777777778,
              "#fb9f3a"
             ],
             [
              0.8888888888888888,
              "#fdca26"
             ],
             [
              1,
              "#f0f921"
             ]
            ],
            "type": "histogram2d"
           }
          ],
          "histogram2dcontour": [
           {
            "colorbar": {
             "outlinewidth": 0,
             "ticks": ""
            },
            "colorscale": [
             [
              0,
              "#0d0887"
             ],
             [
              0.1111111111111111,
              "#46039f"
             ],
             [
              0.2222222222222222,
              "#7201a8"
             ],
             [
              0.3333333333333333,
              "#9c179e"
             ],
             [
              0.4444444444444444,
              "#bd3786"
             ],
             [
              0.5555555555555556,
              "#d8576b"
             ],
             [
              0.6666666666666666,
              "#ed7953"
             ],
             [
              0.7777777777777778,
              "#fb9f3a"
             ],
             [
              0.8888888888888888,
              "#fdca26"
             ],
             [
              1,
              "#f0f921"
             ]
            ],
            "type": "histogram2dcontour"
           }
          ],
          "mesh3d": [
           {
            "colorbar": {
             "outlinewidth": 0,
             "ticks": ""
            },
            "type": "mesh3d"
           }
          ],
          "parcoords": [
           {
            "line": {
             "colorbar": {
              "outlinewidth": 0,
              "ticks": ""
             }
            },
            "type": "parcoords"
           }
          ],
          "pie": [
           {
            "automargin": true,
            "type": "pie"
           }
          ],
          "scatter": [
           {
            "fillpattern": {
             "fillmode": "overlay",
             "size": 10,
             "solidity": 0.2
            },
            "type": "scatter"
           }
          ],
          "scatter3d": [
           {
            "line": {
             "colorbar": {
              "outlinewidth": 0,
              "ticks": ""
             }
            },
            "marker": {
             "colorbar": {
              "outlinewidth": 0,
              "ticks": ""
             }
            },
            "type": "scatter3d"
           }
          ],
          "scattercarpet": [
           {
            "marker": {
             "colorbar": {
              "outlinewidth": 0,
              "ticks": ""
             }
            },
            "type": "scattercarpet"
           }
          ],
          "scattergeo": [
           {
            "marker": {
             "colorbar": {
              "outlinewidth": 0,
              "ticks": ""
             }
            },
            "type": "scattergeo"
           }
          ],
          "scattergl": [
           {
            "marker": {
             "colorbar": {
              "outlinewidth": 0,
              "ticks": ""
             }
            },
            "type": "scattergl"
           }
          ],
          "scattermapbox": [
           {
            "marker": {
             "colorbar": {
              "outlinewidth": 0,
              "ticks": ""
             }
            },
            "type": "scattermapbox"
           }
          ],
          "scatterpolar": [
           {
            "marker": {
             "colorbar": {
              "outlinewidth": 0,
              "ticks": ""
             }
            },
            "type": "scatterpolar"
           }
          ],
          "scatterpolargl": [
           {
            "marker": {
             "colorbar": {
              "outlinewidth": 0,
              "ticks": ""
             }
            },
            "type": "scatterpolargl"
           }
          ],
          "scatterternary": [
           {
            "marker": {
             "colorbar": {
              "outlinewidth": 0,
              "ticks": ""
             }
            },
            "type": "scatterternary"
           }
          ],
          "surface": [
           {
            "colorbar": {
             "outlinewidth": 0,
             "ticks": ""
            },
            "colorscale": [
             [
              0,
              "#0d0887"
             ],
             [
              0.1111111111111111,
              "#46039f"
             ],
             [
              0.2222222222222222,
              "#7201a8"
             ],
             [
              0.3333333333333333,
              "#9c179e"
             ],
             [
              0.4444444444444444,
              "#bd3786"
             ],
             [
              0.5555555555555556,
              "#d8576b"
             ],
             [
              0.6666666666666666,
              "#ed7953"
             ],
             [
              0.7777777777777778,
              "#fb9f3a"
             ],
             [
              0.8888888888888888,
              "#fdca26"
             ],
             [
              1,
              "#f0f921"
             ]
            ],
            "type": "surface"
           }
          ],
          "table": [
           {
            "cells": {
             "fill": {
              "color": "#EBF0F8"
             },
             "line": {
              "color": "white"
             }
            },
            "header": {
             "fill": {
              "color": "#C8D4E3"
             },
             "line": {
              "color": "white"
             }
            },
            "type": "table"
           }
          ]
         },
         "layout": {
          "annotationdefaults": {
           "arrowcolor": "#2a3f5f",
           "arrowhead": 0,
           "arrowwidth": 1
          },
          "autotypenumbers": "strict",
          "coloraxis": {
           "colorbar": {
            "outlinewidth": 0,
            "ticks": ""
           }
          },
          "colorscale": {
           "diverging": [
            [
             0,
             "#8e0152"
            ],
            [
             0.1,
             "#c51b7d"
            ],
            [
             0.2,
             "#de77ae"
            ],
            [
             0.3,
             "#f1b6da"
            ],
            [
             0.4,
             "#fde0ef"
            ],
            [
             0.5,
             "#f7f7f7"
            ],
            [
             0.6,
             "#e6f5d0"
            ],
            [
             0.7,
             "#b8e186"
            ],
            [
             0.8,
             "#7fbc41"
            ],
            [
             0.9,
             "#4d9221"
            ],
            [
             1,
             "#276419"
            ]
           ],
           "sequential": [
            [
             0,
             "#0d0887"
            ],
            [
             0.1111111111111111,
             "#46039f"
            ],
            [
             0.2222222222222222,
             "#7201a8"
            ],
            [
             0.3333333333333333,
             "#9c179e"
            ],
            [
             0.4444444444444444,
             "#bd3786"
            ],
            [
             0.5555555555555556,
             "#d8576b"
            ],
            [
             0.6666666666666666,
             "#ed7953"
            ],
            [
             0.7777777777777778,
             "#fb9f3a"
            ],
            [
             0.8888888888888888,
             "#fdca26"
            ],
            [
             1,
             "#f0f921"
            ]
           ],
           "sequentialminus": [
            [
             0,
             "#0d0887"
            ],
            [
             0.1111111111111111,
             "#46039f"
            ],
            [
             0.2222222222222222,
             "#7201a8"
            ],
            [
             0.3333333333333333,
             "#9c179e"
            ],
            [
             0.4444444444444444,
             "#bd3786"
            ],
            [
             0.5555555555555556,
             "#d8576b"
            ],
            [
             0.6666666666666666,
             "#ed7953"
            ],
            [
             0.7777777777777778,
             "#fb9f3a"
            ],
            [
             0.8888888888888888,
             "#fdca26"
            ],
            [
             1,
             "#f0f921"
            ]
           ]
          },
          "colorway": [
           "#636efa",
           "#EF553B",
           "#00cc96",
           "#ab63fa",
           "#FFA15A",
           "#19d3f3",
           "#FF6692",
           "#B6E880",
           "#FF97FF",
           "#FECB52"
          ],
          "font": {
           "color": "#2a3f5f"
          },
          "geo": {
           "bgcolor": "white",
           "lakecolor": "white",
           "landcolor": "#E5ECF6",
           "showlakes": true,
           "showland": true,
           "subunitcolor": "white"
          },
          "hoverlabel": {
           "align": "left"
          },
          "hovermode": "closest",
          "mapbox": {
           "style": "light"
          },
          "paper_bgcolor": "white",
          "plot_bgcolor": "#E5ECF6",
          "polar": {
           "angularaxis": {
            "gridcolor": "white",
            "linecolor": "white",
            "ticks": ""
           },
           "bgcolor": "#E5ECF6",
           "radialaxis": {
            "gridcolor": "white",
            "linecolor": "white",
            "ticks": ""
           }
          },
          "scene": {
           "xaxis": {
            "backgroundcolor": "#E5ECF6",
            "gridcolor": "white",
            "gridwidth": 2,
            "linecolor": "white",
            "showbackground": true,
            "ticks": "",
            "zerolinecolor": "white"
           },
           "yaxis": {
            "backgroundcolor": "#E5ECF6",
            "gridcolor": "white",
            "gridwidth": 2,
            "linecolor": "white",
            "showbackground": true,
            "ticks": "",
            "zerolinecolor": "white"
           },
           "zaxis": {
            "backgroundcolor": "#E5ECF6",
            "gridcolor": "white",
            "gridwidth": 2,
            "linecolor": "white",
            "showbackground": true,
            "ticks": "",
            "zerolinecolor": "white"
           }
          },
          "shapedefaults": {
           "line": {
            "color": "#2a3f5f"
           }
          },
          "ternary": {
           "aaxis": {
            "gridcolor": "white",
            "linecolor": "white",
            "ticks": ""
           },
           "baxis": {
            "gridcolor": "white",
            "linecolor": "white",
            "ticks": ""
           },
           "bgcolor": "#E5ECF6",
           "caxis": {
            "gridcolor": "white",
            "linecolor": "white",
            "ticks": ""
           }
          },
          "title": {
           "x": 0.05
          },
          "xaxis": {
           "automargin": true,
           "gridcolor": "white",
           "linecolor": "white",
           "ticks": "",
           "title": {
            "standoff": 15
           },
           "zerolinecolor": "white",
           "zerolinewidth": 2
          },
          "yaxis": {
           "automargin": true,
           "gridcolor": "white",
           "linecolor": "white",
           "ticks": "",
           "title": {
            "standoff": 15
           },
           "zerolinecolor": "white",
           "zerolinewidth": 2
          }
         }
        },
        "title": {
         "text": "Letter Count by Year"
        },
        "xaxis": {
         "anchor": "y",
         "domain": [
          0,
          1
         ],
         "title": {
          "text": "Year"
         }
        },
        "yaxis": {
         "anchor": "x",
         "domain": [
          0,
          1
         ],
         "title": {
          "text": "Count"
         }
        }
       }
      },
      "text/html": [
       "<div>                            <div id=\"1105657b-f7e4-42bd-8d41-636be37529ee\" class=\"plotly-graph-div\" style=\"height:525px; width:100%;\"></div>            <script type=\"text/javascript\">                require([\"plotly\"], function(Plotly) {                    window.PLOTLYENV=window.PLOTLYENV || {};                                    if (document.getElementById(\"1105657b-f7e4-42bd-8d41-636be37529ee\")) {                    Plotly.newPlot(                        \"1105657b-f7e4-42bd-8d41-636be37529ee\",                        [{\"alignmentgroup\":\"True\",\"hovertemplate\":\"variable=0\\u003cbr\\u003eYear=%{x}\\u003cbr\\u003eCount=%{y}\\u003cextra\\u003e\\u003c\\u002fextra\\u003e\",\"legendgroup\":\"0\",\"marker\":{\"color\":\"#636efa\",\"pattern\":{\"shape\":\"\"}},\"name\":\"0\",\"offsetgroup\":\"0\",\"orientation\":\"v\",\"showlegend\":true,\"textposition\":\"auto\",\"x\":[1818,1819,1820,1821,1822,1823,1824,1825,1826,1827,1828,1829,1830,1831,1832,1833,1834,1835,1836,1837,1838,1839,1840,1841,1842,1843,1844,1845,1846,1847,1848,1849,1850,1851,1852,1853,1854,1855,1856,1857,1858,1859,1860,1861],\"xaxis\":\"x\",\"y\":[1,1,4,5,3,8,7,24,198,21,24,24,34,61,15,20,14,6,11,10,5,14,25,6,14,12,15,22,15,16,22,29,31,21,32,33,29,54,85,40,35,39,53,4],\"yaxis\":\"y\",\"type\":\"bar\"}],                        {\"template\":{\"data\":{\"histogram2dcontour\":[{\"type\":\"histogram2dcontour\",\"colorbar\":{\"outlinewidth\":0,\"ticks\":\"\"},\"colorscale\":[[0.0,\"#0d0887\"],[0.1111111111111111,\"#46039f\"],[0.2222222222222222,\"#7201a8\"],[0.3333333333333333,\"#9c179e\"],[0.4444444444444444,\"#bd3786\"],[0.5555555555555556,\"#d8576b\"],[0.6666666666666666,\"#ed7953\"],[0.7777777777777778,\"#fb9f3a\"],[0.8888888888888888,\"#fdca26\"],[1.0,\"#f0f921\"]]}],\"choropleth\":[{\"type\":\"choropleth\",\"colorbar\":{\"outlinewidth\":0,\"ticks\":\"\"}}],\"histogram2d\":[{\"type\":\"histogram2d\",\"colorbar\":{\"outlinewidth\":0,\"ticks\":\"\"},\"colorscale\":[[0.0,\"#0d0887\"],[0.1111111111111111,\"#46039f\"],[0.2222222222222222,\"#7201a8\"],[0.3333333333333333,\"#9c179e\"],[0.4444444444444444,\"#bd3786\"],[0.5555555555555556,\"#d8576b\"],[0.6666666666666666,\"#ed7953\"],[0.7777777777777778,\"#fb9f3a\"],[0.8888888888888888,\"#fdca26\"],[1.0,\"#f0f921\"]]}],\"heatmap\":[{\"type\":\"heatmap\",\"colorbar\":{\"outlinewidth\":0,\"ticks\":\"\"},\"colorscale\":[[0.0,\"#0d0887\"],[0.1111111111111111,\"#46039f\"],[0.2222222222222222,\"#7201a8\"],[0.3333333333333333,\"#9c179e\"],[0.4444444444444444,\"#bd3786\"],[0.5555555555555556,\"#d8576b\"],[0.6666666666666666,\"#ed7953\"],[0.7777777777777778,\"#fb9f3a\"],[0.8888888888888888,\"#fdca26\"],[1.0,\"#f0f921\"]]}],\"heatmapgl\":[{\"type\":\"heatmapgl\",\"colorbar\":{\"outlinewidth\":0,\"ticks\":\"\"},\"colorscale\":[[0.0,\"#0d0887\"],[0.1111111111111111,\"#46039f\"],[0.2222222222222222,\"#7201a8\"],[0.3333333333333333,\"#9c179e\"],[0.4444444444444444,\"#bd3786\"],[0.5555555555555556,\"#d8576b\"],[0.6666666666666666,\"#ed7953\"],[0.7777777777777778,\"#fb9f3a\"],[0.8888888888888888,\"#fdca26\"],[1.0,\"#f0f921\"]]}],\"contourcarpet\":[{\"type\":\"contourcarpet\",\"colorbar\":{\"outlinewidth\":0,\"ticks\":\"\"}}],\"contour\":[{\"type\":\"contour\",\"colorbar\":{\"outlinewidth\":0,\"ticks\":\"\"},\"colorscale\":[[0.0,\"#0d0887\"],[0.1111111111111111,\"#46039f\"],[0.2222222222222222,\"#7201a8\"],[0.3333333333333333,\"#9c179e\"],[0.4444444444444444,\"#bd3786\"],[0.5555555555555556,\"#d8576b\"],[0.6666666666666666,\"#ed7953\"],[0.7777777777777778,\"#fb9f3a\"],[0.8888888888888888,\"#fdca26\"],[1.0,\"#f0f921\"]]}],\"surface\":[{\"type\":\"surface\",\"colorbar\":{\"outlinewidth\":0,\"ticks\":\"\"},\"colorscale\":[[0.0,\"#0d0887\"],[0.1111111111111111,\"#46039f\"],[0.2222222222222222,\"#7201a8\"],[0.3333333333333333,\"#9c179e\"],[0.4444444444444444,\"#bd3786\"],[0.5555555555555556,\"#d8576b\"],[0.6666666666666666,\"#ed7953\"],[0.7777777777777778,\"#fb9f3a\"],[0.8888888888888888,\"#fdca26\"],[1.0,\"#f0f921\"]]}],\"mesh3d\":[{\"type\":\"mesh3d\",\"colorbar\":{\"outlinewidth\":0,\"ticks\":\"\"}}],\"scatter\":[{\"fillpattern\":{\"fillmode\":\"overlay\",\"size\":10,\"solidity\":0.2},\"type\":\"scatter\"}],\"parcoords\":[{\"type\":\"parcoords\",\"line\":{\"colorbar\":{\"outlinewidth\":0,\"ticks\":\"\"}}}],\"scatterpolargl\":[{\"type\":\"scatterpolargl\",\"marker\":{\"colorbar\":{\"outlinewidth\":0,\"ticks\":\"\"}}}],\"bar\":[{\"error_x\":{\"color\":\"#2a3f5f\"},\"error_y\":{\"color\":\"#2a3f5f\"},\"marker\":{\"line\":{\"color\":\"#E5ECF6\",\"width\":0.5},\"pattern\":{\"fillmode\":\"overlay\",\"size\":10,\"solidity\":0.2}},\"type\":\"bar\"}],\"scattergeo\":[{\"type\":\"scattergeo\",\"marker\":{\"colorbar\":{\"outlinewidth\":0,\"ticks\":\"\"}}}],\"scatterpolar\":[{\"type\":\"scatterpolar\",\"marker\":{\"colorbar\":{\"outlinewidth\":0,\"ticks\":\"\"}}}],\"histogram\":[{\"marker\":{\"pattern\":{\"fillmode\":\"overlay\",\"size\":10,\"solidity\":0.2}},\"type\":\"histogram\"}],\"scattergl\":[{\"type\":\"scattergl\",\"marker\":{\"colorbar\":{\"outlinewidth\":0,\"ticks\":\"\"}}}],\"scatter3d\":[{\"type\":\"scatter3d\",\"line\":{\"colorbar\":{\"outlinewidth\":0,\"ticks\":\"\"}},\"marker\":{\"colorbar\":{\"outlinewidth\":0,\"ticks\":\"\"}}}],\"scattermapbox\":[{\"type\":\"scattermapbox\",\"marker\":{\"colorbar\":{\"outlinewidth\":0,\"ticks\":\"\"}}}],\"scatterternary\":[{\"type\":\"scatterternary\",\"marker\":{\"colorbar\":{\"outlinewidth\":0,\"ticks\":\"\"}}}],\"scattercarpet\":[{\"type\":\"scattercarpet\",\"marker\":{\"colorbar\":{\"outlinewidth\":0,\"ticks\":\"\"}}}],\"carpet\":[{\"aaxis\":{\"endlinecolor\":\"#2a3f5f\",\"gridcolor\":\"white\",\"linecolor\":\"white\",\"minorgridcolor\":\"white\",\"startlinecolor\":\"#2a3f5f\"},\"baxis\":{\"endlinecolor\":\"#2a3f5f\",\"gridcolor\":\"white\",\"linecolor\":\"white\",\"minorgridcolor\":\"white\",\"startlinecolor\":\"#2a3f5f\"},\"type\":\"carpet\"}],\"table\":[{\"cells\":{\"fill\":{\"color\":\"#EBF0F8\"},\"line\":{\"color\":\"white\"}},\"header\":{\"fill\":{\"color\":\"#C8D4E3\"},\"line\":{\"color\":\"white\"}},\"type\":\"table\"}],\"barpolar\":[{\"marker\":{\"line\":{\"color\":\"#E5ECF6\",\"width\":0.5},\"pattern\":{\"fillmode\":\"overlay\",\"size\":10,\"solidity\":0.2}},\"type\":\"barpolar\"}],\"pie\":[{\"automargin\":true,\"type\":\"pie\"}]},\"layout\":{\"autotypenumbers\":\"strict\",\"colorway\":[\"#636efa\",\"#EF553B\",\"#00cc96\",\"#ab63fa\",\"#FFA15A\",\"#19d3f3\",\"#FF6692\",\"#B6E880\",\"#FF97FF\",\"#FECB52\"],\"font\":{\"color\":\"#2a3f5f\"},\"hovermode\":\"closest\",\"hoverlabel\":{\"align\":\"left\"},\"paper_bgcolor\":\"white\",\"plot_bgcolor\":\"#E5ECF6\",\"polar\":{\"bgcolor\":\"#E5ECF6\",\"angularaxis\":{\"gridcolor\":\"white\",\"linecolor\":\"white\",\"ticks\":\"\"},\"radialaxis\":{\"gridcolor\":\"white\",\"linecolor\":\"white\",\"ticks\":\"\"}},\"ternary\":{\"bgcolor\":\"#E5ECF6\",\"aaxis\":{\"gridcolor\":\"white\",\"linecolor\":\"white\",\"ticks\":\"\"},\"baxis\":{\"gridcolor\":\"white\",\"linecolor\":\"white\",\"ticks\":\"\"},\"caxis\":{\"gridcolor\":\"white\",\"linecolor\":\"white\",\"ticks\":\"\"}},\"coloraxis\":{\"colorbar\":{\"outlinewidth\":0,\"ticks\":\"\"}},\"colorscale\":{\"sequential\":[[0.0,\"#0d0887\"],[0.1111111111111111,\"#46039f\"],[0.2222222222222222,\"#7201a8\"],[0.3333333333333333,\"#9c179e\"],[0.4444444444444444,\"#bd3786\"],[0.5555555555555556,\"#d8576b\"],[0.6666666666666666,\"#ed7953\"],[0.7777777777777778,\"#fb9f3a\"],[0.8888888888888888,\"#fdca26\"],[1.0,\"#f0f921\"]],\"sequentialminus\":[[0.0,\"#0d0887\"],[0.1111111111111111,\"#46039f\"],[0.2222222222222222,\"#7201a8\"],[0.3333333333333333,\"#9c179e\"],[0.4444444444444444,\"#bd3786\"],[0.5555555555555556,\"#d8576b\"],[0.6666666666666666,\"#ed7953\"],[0.7777777777777778,\"#fb9f3a\"],[0.8888888888888888,\"#fdca26\"],[1.0,\"#f0f921\"]],\"diverging\":[[0,\"#8e0152\"],[0.1,\"#c51b7d\"],[0.2,\"#de77ae\"],[0.3,\"#f1b6da\"],[0.4,\"#fde0ef\"],[0.5,\"#f7f7f7\"],[0.6,\"#e6f5d0\"],[0.7,\"#b8e186\"],[0.8,\"#7fbc41\"],[0.9,\"#4d9221\"],[1,\"#276419\"]]},\"xaxis\":{\"gridcolor\":\"white\",\"linecolor\":\"white\",\"ticks\":\"\",\"title\":{\"standoff\":15},\"zerolinecolor\":\"white\",\"automargin\":true,\"zerolinewidth\":2},\"yaxis\":{\"gridcolor\":\"white\",\"linecolor\":\"white\",\"ticks\":\"\",\"title\":{\"standoff\":15},\"zerolinecolor\":\"white\",\"automargin\":true,\"zerolinewidth\":2},\"scene\":{\"xaxis\":{\"backgroundcolor\":\"#E5ECF6\",\"gridcolor\":\"white\",\"linecolor\":\"white\",\"showbackground\":true,\"ticks\":\"\",\"zerolinecolor\":\"white\",\"gridwidth\":2},\"yaxis\":{\"backgroundcolor\":\"#E5ECF6\",\"gridcolor\":\"white\",\"linecolor\":\"white\",\"showbackground\":true,\"ticks\":\"\",\"zerolinecolor\":\"white\",\"gridwidth\":2},\"zaxis\":{\"backgroundcolor\":\"#E5ECF6\",\"gridcolor\":\"white\",\"linecolor\":\"white\",\"showbackground\":true,\"ticks\":\"\",\"zerolinecolor\":\"white\",\"gridwidth\":2}},\"shapedefaults\":{\"line\":{\"color\":\"#2a3f5f\"}},\"annotationdefaults\":{\"arrowcolor\":\"#2a3f5f\",\"arrowhead\":0,\"arrowwidth\":1},\"geo\":{\"bgcolor\":\"white\",\"landcolor\":\"#E5ECF6\",\"subunitcolor\":\"white\",\"showland\":true,\"showlakes\":true,\"lakecolor\":\"white\"},\"title\":{\"x\":0.05},\"mapbox\":{\"style\":\"light\"}}},\"xaxis\":{\"anchor\":\"y\",\"domain\":[0.0,1.0],\"title\":{\"text\":\"Year\"}},\"yaxis\":{\"anchor\":\"x\",\"domain\":[0.0,1.0],\"title\":{\"text\":\"Count\"}},\"legend\":{\"title\":{\"text\":\"variable\"},\"tracegroupgap\":0},\"title\":{\"text\":\"Letter Count by Year\"},\"barmode\":\"relative\",\"showlegend\":false},                        {\"responsive\": true}                    ).then(function(){\n",
       "                            \n",
       "var gd = document.getElementById('1105657b-f7e4-42bd-8d41-636be37529ee');\n",
       "var x = new MutationObserver(function (mutations, observer) {{\n",
       "        var display = window.getComputedStyle(gd).display;\n",
       "        if (!display || display === 'none') {{\n",
       "            console.log([gd, 'removed!']);\n",
       "            Plotly.purge(gd);\n",
       "            observer.disconnect();\n",
       "        }}\n",
       "}});\n",
       "\n",
       "// Listen for the removal of the full notebook cells\n",
       "var notebookContainer = gd.closest('#notebook-container');\n",
       "if (notebookContainer) {{\n",
       "    x.observe(notebookContainer, {childList: true});\n",
       "}}\n",
       "\n",
       "// Listen for the clearing of the current output cell\n",
       "var outputEl = gd.closest('.output');\n",
       "if (outputEl) {{\n",
       "    x.observe(outputEl, {childList: true});\n",
       "}}\n",
       "\n",
       "                        })                };                });            </script>        </div>"
      ]
     },
     "metadata": {},
     "output_type": "display_data"
    }
   ],
   "source": [
    "year_counts_all = year_counts(df)\n",
    "letter_nums = year_counts_plot(year_counts_all)\n",
    "letter_nums"
   ]
  },
  {
   "cell_type": "markdown",
   "id": "00f52aa9",
   "metadata": {},
   "source": [
    "Create visualisation of topics over time for letters sent by Henslow using bertopic_time function."
   ]
  },
  {
   "cell_type": "code",
   "execution_count": 22,
   "id": "eea1e469",
   "metadata": {
    "scrolled": false
   },
   "outputs": [
    {
     "data": {
      "application/vnd.plotly.v1+json": {
       "config": {
        "plotlyServerURL": "https://plot.ly"
       },
       "data": [
        {
         "hoverinfo": "text",
         "hovertext": [
          "<b>Topic 0</b><br>Words: cambridge, wch, guinea, shell, machaon",
          "<b>Topic 0</b><br>Words: lutea, verna, cambridge, fruticosa, viola",
          "<b>Topic 0</b><br>Words: plant, desiderata, country, cambridge, lathyrus",
          "<b>Topic 0</b><br>Words: plant, cambridge, specimen, flora, desiderata",
          "<b>Topic 0</b><br>Words: cambridge, bird, flora, plant, londinensis",
          "<b>Topic 0</b><br>Words: cambridge, desiderata, museum, march, botanical",
          "<b>Topic 0</b><br>Words: cambridge, plant, clay, chalk, county",
          "<b>Topic 0</b><br>Words: cambridge, seat, insect, feb, council",
          "<b>Topic 0</b><br>Words: cambridge, hert, challi, peacock, aug",
          "<b>Topic 0</b><br>Words: cambridge, fossil, collection, plant, suffolk",
          "<b>Topic 0</b><br>Words: fossil, suffolk, cambridge, plant, botanist",
          "<b>Topic 0</b><br>Words: plant, soil, cambridge, galapagos, nodule",
          "<b>Topic 0</b><br>Words: nodule, plant, suffolk, cambridge, galapagos",
          "<b>Topic 0</b><br>Words: suffolk, barley, plant, wheat, cambridge",
          "<b>Topic 0</b><br>Words: suffolk, course, lecture, plant, term",
          "<b>Topic 0</b><br>Words: suffolk, museum, ipswich, plant, genera",
          "<b>Topic 0</b><br>Words: museum, bird, suffolk, cambridge, plan",
          "<b>Topic 0</b><br>Words: suffolk, hitcham_bildeston, cambridge, museum, garden",
          "<b>Topic 0</b><br>Words: seed, cambridge, suffolk, vessel, student",
          "<b>Topic 0</b><br>Words: drift, suffolk, lecture, celt, museum"
         ],
         "marker": {
          "color": "#E69F00"
         },
         "mode": "markers",
         "name": "0_cambridge_plant_suffolk_museum",
         "type": "scatter",
         "x": [
          "1818-12-02T13:45:07.200000",
          "1821-01-27T08:24:00",
          "1823-03-09T16:48:00",
          "1825-04-19T01:12:00",
          "1827-05-30T09:36:00",
          "1829-07-09T18:00:00",
          "1831-08-20T02:24:00",
          "1833-09-29T10:48:00",
          "1835-11-09T19:12:00",
          "1837-12-20T03:36:00",
          "1840-01-30T12:00:00",
          "1842-03-11T20:24:00",
          "1844-04-21T04:48:00",
          "1846-06-01T13:12:00",
          "1848-07-11T21:36:00",
          "1850-08-22T06:00:00",
          "1852-10-01T14:24:00",
          "1854-11-11T22:48:00",
          "1856-12-22T07:12:00",
          "1859-02-01T15:36:00"
         ],
         "y": [
          13,
          13,
          22,
          37,
          21,
          11,
          43,
          40,
          9,
          32,
          36,
          35,
          28,
          23,
          62,
          33,
          56,
          40,
          30,
          74
         ]
        },
        {
         "hoverinfo": "text",
         "hovertext": [
          "<b>Topic 1</b><br>Words: paper, secy, bringing, reopen, conocephali",
          "<b>Topic 1</b><br>Words: morning, trans, sabina, compliment, defer",
          "<b>Topic 1</b><br>Words: benger, scot, schiller, stick, alexandre",
          "<b>Topic 1</b><br>Words: volume, forebad, paper, application, determine",
          "<b>Topic 1</b><br>Words: course, hooker, paper, copy, fanny",
          "<b>Topic 1</b><br>Words: edd, wm, possession, effect, sister",
          "<b>Topic 1</b><br>Words: member, copy, expense, roger, daubenys",
          "<b>Topic 1</b><br>Words: confusion, enquiry, neighbourhood, copy, stuff",
          "<b>Topic 1</b><br>Words: dearth, working, discussion, sake, read",
          "<b>Topic 1</b><br>Words: purpose, duplicate, keeling, daf, looser",
          "<b>Topic 1</b><br>Words: difficulty, paper, rejecting, multiply, responsibility",
          "<b>Topic 1</b><br>Words: refer, dose, action, colour, hour",
          "<b>Topic 1</b><br>Words: fanny, stair, riddle, suff, kindest_regard",
          "<b>Topic 1</b><br>Words: hooker, fanny, conflagration, balloon, lady",
          "<b>Topic 1</b><br>Words: wife, fanny, hs, probability, miss",
          "<b>Topic 1</b><br>Words: hooker, dextrorum, sinistorsum, dr, switzerland",
          "<b>Topic 1</b><br>Words: hooker, paper, shelford, aunt, wife",
          "<b>Topic 1</b><br>Words: sister, hooker, lucubration, yarrell, harriet",
          "<b>Topic 1</b><br>Words: hooker, day, mourning, louise, wrist",
          "<b>Topic 1</b><br>Words: lady, barnard, problem, tho, hooker"
         ],
         "marker": {
          "color": "#56B4E9"
         },
         "mode": "markers",
         "name": "1_hooker_paper_copy_fanny",
         "type": "scatter",
         "x": [
          "1818-12-02T13:45:07.200000",
          "1821-01-27T08:24:00",
          "1823-03-09T16:48:00",
          "1825-04-19T01:12:00",
          "1827-05-30T09:36:00",
          "1829-07-09T18:00:00",
          "1831-08-20T02:24:00",
          "1833-09-29T10:48:00",
          "1835-11-09T19:12:00",
          "1837-12-20T03:36:00",
          "1840-01-30T12:00:00",
          "1842-03-11T20:24:00",
          "1844-04-21T04:48:00",
          "1846-06-01T13:12:00",
          "1848-07-11T21:36:00",
          "1850-08-22T06:00:00",
          "1852-10-01T14:24:00",
          "1854-11-11T22:48:00",
          "1856-12-22T07:12:00",
          "1859-02-01T15:36:00"
         ],
         "y": [
          8,
          7,
          5,
          4,
          1,
          3,
          17,
          12,
          4,
          9,
          9,
          4,
          11,
          16,
          21,
          8,
          17,
          18,
          14,
          33
         ]
        },
        {
         "hoverinfo": "text",
         "hovertext": [
          "<b>Topic 2</b><br>Words: supporter, sentiment, member, supposition, scruple",
          "<b>Topic 2</b><br>Words: hole, page, flesh, happiness, god",
          "<b>Topic 2</b><br>Words: report, treatise, committee, observation, request",
          "<b>Topic 2</b><br>Words: gallantry, robinson, ability, recommendation, appeal",
          "<b>Topic 2</b><br>Words: censure, feeling, voting, charge, college",
          "<b>Topic 2</b><br>Words: originality, disinclination, uncertainty, stigmaria, science",
          "<b>Topic 2</b><br>Words: assure, gratitude, guiltless, recipe, condescension",
          "<b>Topic 2</b><br>Words: speculation, manner, chemist, property, food",
          "<b>Topic 2</b><br>Words: memorial, hasty, scope, permit, bugbear",
          "<b>Topic 2</b><br>Words: church, conscience, sabbath, authority, view",
          "<b>Topic 2</b><br>Words: relaxation, derangement, neuralgic, physician, overwork",
          "<b>Topic 2</b><br>Words: scandal, sanction, garden, interchange, servant",
          "<b>Topic 2</b><br>Words: humanity, barbarity, vulgarity, fault, regard",
          "<b>Topic 2</b><br>Words: idea, expression, odium, pique, modification"
         ],
         "marker": {
          "color": "#009E73"
         },
         "mode": "markers",
         "name": "2_church_idea_conscience_truth",
         "type": "scatter",
         "x": [
          "1825-04-19T01:12:00",
          "1829-07-09T18:00:00",
          "1831-08-20T02:24:00",
          "1833-09-29T10:48:00",
          "1835-11-09T19:12:00",
          "1837-12-20T03:36:00",
          "1842-03-11T20:24:00",
          "1844-04-21T04:48:00",
          "1846-06-01T13:12:00",
          "1848-07-11T21:36:00",
          "1852-10-01T14:24:00",
          "1854-11-11T22:48:00",
          "1856-12-22T07:12:00",
          "1859-02-01T15:36:00"
         ],
         "y": [
          3,
          7,
          7,
          5,
          1,
          3,
          2,
          6,
          2,
          19,
          2,
          2,
          2,
          14
         ]
        },
        {
         "hoverinfo": "text",
         "hovertext": [
          "<b>Topic 3</b><br>Words: integrifol, bromus, erectus, bupleurum, arenaria",
          "<b>Topic 3</b><br>Words: plate, scarabidae, hexoda, illiger, hister",
          "<b>Topic 3</b><br>Words: plate, brongniart, sternbergh, figure, artiss",
          "<b>Topic 3</b><br>Words: plate, brongniart, character, datum, crenation",
          "<b>Topic 3</b><br>Words: plate, rix, attrition, mint, sol",
          "<b>Topic 3</b><br>Words: plate, masse, rectory, piece, person",
          "<b>Topic 3</b><br>Words: plate, brongniart, sternbergh, figure, artiss",
          "<b>Topic 3</b><br>Words: frame, match, card, plate, brongniart",
          "<b>Topic 3</b><br>Words: crag, plate, brongniart, sternbergh, figure"
         ],
         "marker": {
          "color": "#F0E442"
         },
         "mode": "markers",
         "name": "3_plate_brongniart_sternbergh_figure",
         "type": "scatter",
         "x": [
          "1825-04-19T01:12:00",
          "1827-05-30T09:36:00",
          "1837-12-20T03:36:00",
          "1840-01-30T12:00:00",
          "1844-04-21T04:48:00",
          "1848-07-11T21:36:00",
          "1850-08-22T06:00:00",
          "1852-10-01T14:24:00",
          "1859-02-01T15:36:00"
         ],
         "y": [
          1,
          3,
          23,
          5,
          2,
          3,
          1,
          1,
          1
         ]
        },
        {
         "hoverinfo": "text",
         "hovertext": [
          "<b>Topic 4</b><br>Words: young, abundance, specimen, zealand, collecting",
          "<b>Topic 4</b><br>Words: specimen, desideratum, subjoin, zealand, collecting",
          "<b>Topic 4</b><br>Words: examining, abundance, specimen, specie, zealand",
          "<b>Topic 4</b><br>Words: root, leave, specimen, zealand, collecting",
          "<b>Topic 4</b><br>Words: specimen, leave, foss, junction, synonyms",
          "<b>Topic 4</b><br>Words: specimen, implement, judgment, correspond, point",
          "<b>Topic 4</b><br>Words: procuring, specimen, sake, nest, zealand",
          "<b>Topic 4</b><br>Words: chance, specimen, zealand, collecting, leave",
          "<b>Topic 4</b><br>Words: caterpillar, zealand, aug, specimen, speciman",
          "<b>Topic 4</b><br>Words: specimen, lignite, model, group, object",
          "<b>Topic 4</b><br>Words: possession, specimen, zealand, collecting, leave",
          "<b>Topic 4</b><br>Words: specimen, collecting, zealand, year, securing"
         ],
         "marker": {
          "color": "#D55E00"
         },
         "mode": "markers",
         "name": "4_specimen_zealand_collecting_leave",
         "type": "scatter",
         "x": [
          "1823-03-09T16:48:00",
          "1825-04-19T01:12:00",
          "1833-09-29T10:48:00",
          "1835-11-09T19:12:00",
          "1837-12-20T03:36:00",
          "1840-01-30T12:00:00",
          "1842-03-11T20:24:00",
          "1846-06-01T13:12:00",
          "1848-07-11T21:36:00",
          "1850-08-22T06:00:00",
          "1854-11-11T22:48:00",
          "1856-12-22T07:12:00"
         ],
         "y": [
          2,
          2,
          2,
          1,
          8,
          7,
          1,
          1,
          1,
          3,
          1,
          5
         ]
        },
        {
         "hoverinfo": "text",
         "hovertext": [
          "<b>Topic 5</b><br>Words: season, summer, respite, sedge, wind",
          "<b>Topic 5</b><br>Words: fenny, tribe, summer, season, july",
          "<b>Topic 5</b><br>Words: season, july, summer, week, sd",
          "<b>Topic 5</b><br>Words: june, april, season, july, summer",
          "<b>Topic 5</b><br>Words: recovery, interval, week, season, july",
          "<b>Topic 5</b><br>Words: sd, forego, sportsman, edinburgh, week",
          "<b>Topic 5</b><br>Words: hutton, week, season, july, summer",
          "<b>Topic 5</b><br>Words: july, season, summer, week, sd",
          "<b>Topic 5</b><br>Words: month, recovery, rap, wait, end",
          "<b>Topic 5</b><br>Words: corolla, weather, tho, season, july",
          "<b>Topic 5</b><br>Words: fillip, season, trip, summer, july",
          "<b>Topic 5</b><br>Words: july, season, summer, week, sd",
          "<b>Topic 5</b><br>Words: snow, jas, season, clark, time"
         ],
         "marker": {
          "color": "#0072B2"
         },
         "mode": "markers",
         "name": "5_season_july_summer_week",
         "type": "scatter",
         "x": [
          "1818-12-02T13:45:07.200000",
          "1821-01-27T08:24:00",
          "1825-04-19T01:12:00",
          "1829-07-09T18:00:00",
          "1831-08-20T02:24:00",
          "1833-09-29T10:48:00",
          "1837-12-20T03:36:00",
          "1840-01-30T12:00:00",
          "1844-04-21T04:48:00",
          "1848-07-11T21:36:00",
          "1852-10-01T14:24:00",
          "1854-11-11T22:48:00",
          "1859-02-01T15:36:00"
         ],
         "y": [
          3,
          1,
          1,
          2,
          2,
          4,
          1,
          1,
          2,
          1,
          2,
          2,
          3
         ]
        },
        {
         "hoverinfo": "text",
         "hovertext": [
          "<b>Topic 6</b><br>Words: darwin, stipulation, publish, credit, justice",
          "<b>Topic 6</b><br>Words: world, reflection, science, darwin, branch",
          "<b>Topic 6</b><br>Words: darwin, view, magazine, hypothesis, powell",
          "<b>Topic 6</b><br>Words: darwin, view, magazine, hypothesis, powell"
         ],
         "marker": {
          "color": "#CC79A7"
         },
         "mode": "markers",
         "name": "6_darwin_view_magazine_hypothesis",
         "type": "scatter",
         "x": [
          "1842-03-11T20:24:00",
          "1844-04-21T04:48:00",
          "1848-07-11T21:36:00",
          "1859-02-01T15:36:00"
         ],
         "y": [
          1,
          1,
          1,
          18
         ]
        },
        {
         "hoverinfo": "text",
         "hovertext": [
          "<b>Topic 7</b><br>Words: memoranda, feb, page, hitcham_bildeston, hitcham",
          "<b>Topic 7</b><br>Words: hitcham, memoranda, march, leonard, june",
          "<b>Topic 7</b><br>Words: hitcham, hadl, memoranda, march, leonard",
          "<b>Topic 7</b><br>Words: hitcham, private, sleep, gedge, recognize",
          "<b>Topic 7</b><br>Words: hitcham, weather, march, june, memoranda",
          "<b>Topic 7</b><br>Words: hitcham, leonard, suffk, jog, hs",
          "<b>Topic 7</b><br>Words: hitcham, deluge, reading, document, press",
          "<b>Topic 7</b><br>Words: holidays, hitcham, return, miss, day",
          "<b>Topic 7</b><br>Words: hitcham, misapprehension, origin, december, review"
         ],
         "marker": {
          "color": "#E69F00"
         },
         "mode": "markers",
         "name": "7_hitcham_memoranda_march_leonard",
         "type": "scatter",
         "x": [
          "1840-01-30T12:00:00",
          "1844-04-21T04:48:00",
          "1846-06-01T13:12:00",
          "1848-07-11T21:36:00",
          "1850-08-22T06:00:00",
          "1852-10-01T14:24:00",
          "1854-11-11T22:48:00",
          "1856-12-22T07:12:00",
          "1859-02-01T15:36:00"
         ],
         "y": [
          1,
          1,
          2,
          4,
          2,
          6,
          2,
          1,
          2
         ]
        },
        {
         "hoverinfo": "text",
         "hovertext": [
          "<b>Topic 8</b><br>Words: per_annum, gn, expectation, money, head",
          "<b>Topic 8</b><br>Words: lock, sum, banker, walker, co",
          "<b>Topic 8</b><br>Words: money, research, composition, doubt, amount",
          "<b>Topic 8</b><br>Words: money, webb, parliament, treasury, informed",
          "<b>Topic 8</b><br>Words: money, per_annum, remuneration, sum, labour",
          "<b>Topic 8</b><br>Words: coll, labour, amount, johns, reply",
          "<b>Topic 8</b><br>Words: amount, remuneration, labour, gardeners_chronicle, trouble",
          "<b>Topic 8</b><br>Words: money, amount, education, commutation, sovereign",
          "<b>Topic 8</b><br>Words: money, pecuniary, stand, fete, habit",
          "<b>Topic 8</b><br>Words: resource, money, hand, cambridge, amount"
         ],
         "marker": {
          "color": "#56B4E9"
         },
         "mode": "markers",
         "name": "8_money_amount_sum_per_annum",
         "type": "scatter",
         "x": [
          "1827-05-30T09:36:00",
          "1829-07-09T18:00:00",
          "1831-08-20T02:24:00",
          "1833-09-29T10:48:00",
          "1837-12-20T03:36:00",
          "1840-01-30T12:00:00",
          "1846-06-01T13:12:00",
          "1848-07-11T21:36:00",
          "1852-10-01T14:24:00",
          "1859-02-01T15:36:00"
         ],
         "y": [
          2,
          1,
          4,
          2,
          4,
          1,
          1,
          2,
          1,
          1
         ]
        },
        {
         "hoverinfo": "text",
         "hovertext": [
          "<b>Topic 9</b><br>Words: speciman, specie, race, form, owen",
          "<b>Topic 9</b><br>Words: speciman, specie, steven, plantation, acori",
          "<b>Topic 9</b><br>Words: zealous, specie, speciman, race, form",
          "<b>Topic 9</b><br>Words: specie, speciman, race, form, owen",
          "<b>Topic 9</b><br>Words: specie, sight, moment, tho, speciman",
          "<b>Topic 9</b><br>Words: specie, deck, note, event, lot",
          "<b>Topic 9</b><br>Words: compass, specie, owen, speciman, race",
          "<b>Topic 9</b><br>Words: specie, race, form, sport, aegilop",
          "<b>Topic 9</b><br>Words: scheme, speciman, thing, specie, race"
         ],
         "marker": {
          "color": "#009E73"
         },
         "mode": "markers",
         "name": "9_specie_speciman_race_form",
         "type": "scatter",
         "x": [
          "1821-01-27T08:24:00",
          "1825-04-19T01:12:00",
          "1827-05-30T09:36:00",
          "1837-12-20T03:36:00",
          "1840-01-30T12:00:00",
          "1842-03-11T20:24:00",
          "1844-04-21T04:48:00",
          "1854-11-11T22:48:00",
          "1859-02-01T15:36:00"
         ],
         "y": [
          1,
          5,
          1,
          1,
          2,
          3,
          1,
          2,
          2
         ]
        }
       ],
       "layout": {
        "height": 500,
        "hoverlabel": {
         "bgcolor": "white",
         "font": {
          "family": "Rockwell",
          "size": 16
         }
        },
        "legend": {
         "title": {
          "text": "<b>Global Topic Representation"
         }
        },
        "template": {
         "data": {
          "bar": [
           {
            "error_x": {
             "color": "rgb(36,36,36)"
            },
            "error_y": {
             "color": "rgb(36,36,36)"
            },
            "marker": {
             "line": {
              "color": "white",
              "width": 0.5
             },
             "pattern": {
              "fillmode": "overlay",
              "size": 10,
              "solidity": 0.2
             }
            },
            "type": "bar"
           }
          ],
          "barpolar": [
           {
            "marker": {
             "line": {
              "color": "white",
              "width": 0.5
             },
             "pattern": {
              "fillmode": "overlay",
              "size": 10,
              "solidity": 0.2
             }
            },
            "type": "barpolar"
           }
          ],
          "carpet": [
           {
            "aaxis": {
             "endlinecolor": "rgb(36,36,36)",
             "gridcolor": "white",
             "linecolor": "white",
             "minorgridcolor": "white",
             "startlinecolor": "rgb(36,36,36)"
            },
            "baxis": {
             "endlinecolor": "rgb(36,36,36)",
             "gridcolor": "white",
             "linecolor": "white",
             "minorgridcolor": "white",
             "startlinecolor": "rgb(36,36,36)"
            },
            "type": "carpet"
           }
          ],
          "choropleth": [
           {
            "colorbar": {
             "outlinewidth": 1,
             "tickcolor": "rgb(36,36,36)",
             "ticks": "outside"
            },
            "type": "choropleth"
           }
          ],
          "contour": [
           {
            "colorbar": {
             "outlinewidth": 1,
             "tickcolor": "rgb(36,36,36)",
             "ticks": "outside"
            },
            "colorscale": [
             [
              0,
              "#440154"
             ],
             [
              0.1111111111111111,
              "#482878"
             ],
             [
              0.2222222222222222,
              "#3e4989"
             ],
             [
              0.3333333333333333,
              "#31688e"
             ],
             [
              0.4444444444444444,
              "#26828e"
             ],
             [
              0.5555555555555556,
              "#1f9e89"
             ],
             [
              0.6666666666666666,
              "#35b779"
             ],
             [
              0.7777777777777778,
              "#6ece58"
             ],
             [
              0.8888888888888888,
              "#b5de2b"
             ],
             [
              1,
              "#fde725"
             ]
            ],
            "type": "contour"
           }
          ],
          "contourcarpet": [
           {
            "colorbar": {
             "outlinewidth": 1,
             "tickcolor": "rgb(36,36,36)",
             "ticks": "outside"
            },
            "type": "contourcarpet"
           }
          ],
          "heatmap": [
           {
            "colorbar": {
             "outlinewidth": 1,
             "tickcolor": "rgb(36,36,36)",
             "ticks": "outside"
            },
            "colorscale": [
             [
              0,
              "#440154"
             ],
             [
              0.1111111111111111,
              "#482878"
             ],
             [
              0.2222222222222222,
              "#3e4989"
             ],
             [
              0.3333333333333333,
              "#31688e"
             ],
             [
              0.4444444444444444,
              "#26828e"
             ],
             [
              0.5555555555555556,
              "#1f9e89"
             ],
             [
              0.6666666666666666,
              "#35b779"
             ],
             [
              0.7777777777777778,
              "#6ece58"
             ],
             [
              0.8888888888888888,
              "#b5de2b"
             ],
             [
              1,
              "#fde725"
             ]
            ],
            "type": "heatmap"
           }
          ],
          "heatmapgl": [
           {
            "colorbar": {
             "outlinewidth": 1,
             "tickcolor": "rgb(36,36,36)",
             "ticks": "outside"
            },
            "colorscale": [
             [
              0,
              "#440154"
             ],
             [
              0.1111111111111111,
              "#482878"
             ],
             [
              0.2222222222222222,
              "#3e4989"
             ],
             [
              0.3333333333333333,
              "#31688e"
             ],
             [
              0.4444444444444444,
              "#26828e"
             ],
             [
              0.5555555555555556,
              "#1f9e89"
             ],
             [
              0.6666666666666666,
              "#35b779"
             ],
             [
              0.7777777777777778,
              "#6ece58"
             ],
             [
              0.8888888888888888,
              "#b5de2b"
             ],
             [
              1,
              "#fde725"
             ]
            ],
            "type": "heatmapgl"
           }
          ],
          "histogram": [
           {
            "marker": {
             "line": {
              "color": "white",
              "width": 0.6
             }
            },
            "type": "histogram"
           }
          ],
          "histogram2d": [
           {
            "colorbar": {
             "outlinewidth": 1,
             "tickcolor": "rgb(36,36,36)",
             "ticks": "outside"
            },
            "colorscale": [
             [
              0,
              "#440154"
             ],
             [
              0.1111111111111111,
              "#482878"
             ],
             [
              0.2222222222222222,
              "#3e4989"
             ],
             [
              0.3333333333333333,
              "#31688e"
             ],
             [
              0.4444444444444444,
              "#26828e"
             ],
             [
              0.5555555555555556,
              "#1f9e89"
             ],
             [
              0.6666666666666666,
              "#35b779"
             ],
             [
              0.7777777777777778,
              "#6ece58"
             ],
             [
              0.8888888888888888,
              "#b5de2b"
             ],
             [
              1,
              "#fde725"
             ]
            ],
            "type": "histogram2d"
           }
          ],
          "histogram2dcontour": [
           {
            "colorbar": {
             "outlinewidth": 1,
             "tickcolor": "rgb(36,36,36)",
             "ticks": "outside"
            },
            "colorscale": [
             [
              0,
              "#440154"
             ],
             [
              0.1111111111111111,
              "#482878"
             ],
             [
              0.2222222222222222,
              "#3e4989"
             ],
             [
              0.3333333333333333,
              "#31688e"
             ],
             [
              0.4444444444444444,
              "#26828e"
             ],
             [
              0.5555555555555556,
              "#1f9e89"
             ],
             [
              0.6666666666666666,
              "#35b779"
             ],
             [
              0.7777777777777778,
              "#6ece58"
             ],
             [
              0.8888888888888888,
              "#b5de2b"
             ],
             [
              1,
              "#fde725"
             ]
            ],
            "type": "histogram2dcontour"
           }
          ],
          "mesh3d": [
           {
            "colorbar": {
             "outlinewidth": 1,
             "tickcolor": "rgb(36,36,36)",
             "ticks": "outside"
            },
            "type": "mesh3d"
           }
          ],
          "parcoords": [
           {
            "line": {
             "colorbar": {
              "outlinewidth": 1,
              "tickcolor": "rgb(36,36,36)",
              "ticks": "outside"
             }
            },
            "type": "parcoords"
           }
          ],
          "pie": [
           {
            "automargin": true,
            "type": "pie"
           }
          ],
          "scatter": [
           {
            "fillpattern": {
             "fillmode": "overlay",
             "size": 10,
             "solidity": 0.2
            },
            "type": "scatter"
           }
          ],
          "scatter3d": [
           {
            "line": {
             "colorbar": {
              "outlinewidth": 1,
              "tickcolor": "rgb(36,36,36)",
              "ticks": "outside"
             }
            },
            "marker": {
             "colorbar": {
              "outlinewidth": 1,
              "tickcolor": "rgb(36,36,36)",
              "ticks": "outside"
             }
            },
            "type": "scatter3d"
           }
          ],
          "scattercarpet": [
           {
            "marker": {
             "colorbar": {
              "outlinewidth": 1,
              "tickcolor": "rgb(36,36,36)",
              "ticks": "outside"
             }
            },
            "type": "scattercarpet"
           }
          ],
          "scattergeo": [
           {
            "marker": {
             "colorbar": {
              "outlinewidth": 1,
              "tickcolor": "rgb(36,36,36)",
              "ticks": "outside"
             }
            },
            "type": "scattergeo"
           }
          ],
          "scattergl": [
           {
            "marker": {
             "colorbar": {
              "outlinewidth": 1,
              "tickcolor": "rgb(36,36,36)",
              "ticks": "outside"
             }
            },
            "type": "scattergl"
           }
          ],
          "scattermapbox": [
           {
            "marker": {
             "colorbar": {
              "outlinewidth": 1,
              "tickcolor": "rgb(36,36,36)",
              "ticks": "outside"
             }
            },
            "type": "scattermapbox"
           }
          ],
          "scatterpolar": [
           {
            "marker": {
             "colorbar": {
              "outlinewidth": 1,
              "tickcolor": "rgb(36,36,36)",
              "ticks": "outside"
             }
            },
            "type": "scatterpolar"
           }
          ],
          "scatterpolargl": [
           {
            "marker": {
             "colorbar": {
              "outlinewidth": 1,
              "tickcolor": "rgb(36,36,36)",
              "ticks": "outside"
             }
            },
            "type": "scatterpolargl"
           }
          ],
          "scatterternary": [
           {
            "marker": {
             "colorbar": {
              "outlinewidth": 1,
              "tickcolor": "rgb(36,36,36)",
              "ticks": "outside"
             }
            },
            "type": "scatterternary"
           }
          ],
          "surface": [
           {
            "colorbar": {
             "outlinewidth": 1,
             "tickcolor": "rgb(36,36,36)",
             "ticks": "outside"
            },
            "colorscale": [
             [
              0,
              "#440154"
             ],
             [
              0.1111111111111111,
              "#482878"
             ],
             [
              0.2222222222222222,
              "#3e4989"
             ],
             [
              0.3333333333333333,
              "#31688e"
             ],
             [
              0.4444444444444444,
              "#26828e"
             ],
             [
              0.5555555555555556,
              "#1f9e89"
             ],
             [
              0.6666666666666666,
              "#35b779"
             ],
             [
              0.7777777777777778,
              "#6ece58"
             ],
             [
              0.8888888888888888,
              "#b5de2b"
             ],
             [
              1,
              "#fde725"
             ]
            ],
            "type": "surface"
           }
          ],
          "table": [
           {
            "cells": {
             "fill": {
              "color": "rgb(237,237,237)"
             },
             "line": {
              "color": "white"
             }
            },
            "header": {
             "fill": {
              "color": "rgb(217,217,217)"
             },
             "line": {
              "color": "white"
             }
            },
            "type": "table"
           }
          ]
         },
         "layout": {
          "annotationdefaults": {
           "arrowhead": 0,
           "arrowwidth": 1
          },
          "autotypenumbers": "strict",
          "coloraxis": {
           "colorbar": {
            "outlinewidth": 1,
            "tickcolor": "rgb(36,36,36)",
            "ticks": "outside"
           }
          },
          "colorscale": {
           "diverging": [
            [
             0,
             "rgb(103,0,31)"
            ],
            [
             0.1,
             "rgb(178,24,43)"
            ],
            [
             0.2,
             "rgb(214,96,77)"
            ],
            [
             0.3,
             "rgb(244,165,130)"
            ],
            [
             0.4,
             "rgb(253,219,199)"
            ],
            [
             0.5,
             "rgb(247,247,247)"
            ],
            [
             0.6,
             "rgb(209,229,240)"
            ],
            [
             0.7,
             "rgb(146,197,222)"
            ],
            [
             0.8,
             "rgb(67,147,195)"
            ],
            [
             0.9,
             "rgb(33,102,172)"
            ],
            [
             1,
             "rgb(5,48,97)"
            ]
           ],
           "sequential": [
            [
             0,
             "#440154"
            ],
            [
             0.1111111111111111,
             "#482878"
            ],
            [
             0.2222222222222222,
             "#3e4989"
            ],
            [
             0.3333333333333333,
             "#31688e"
            ],
            [
             0.4444444444444444,
             "#26828e"
            ],
            [
             0.5555555555555556,
             "#1f9e89"
            ],
            [
             0.6666666666666666,
             "#35b779"
            ],
            [
             0.7777777777777778,
             "#6ece58"
            ],
            [
             0.8888888888888888,
             "#b5de2b"
            ],
            [
             1,
             "#fde725"
            ]
           ],
           "sequentialminus": [
            [
             0,
             "#440154"
            ],
            [
             0.1111111111111111,
             "#482878"
            ],
            [
             0.2222222222222222,
             "#3e4989"
            ],
            [
             0.3333333333333333,
             "#31688e"
            ],
            [
             0.4444444444444444,
             "#26828e"
            ],
            [
             0.5555555555555556,
             "#1f9e89"
            ],
            [
             0.6666666666666666,
             "#35b779"
            ],
            [
             0.7777777777777778,
             "#6ece58"
            ],
            [
             0.8888888888888888,
             "#b5de2b"
            ],
            [
             1,
             "#fde725"
            ]
           ]
          },
          "colorway": [
           "#1F77B4",
           "#FF7F0E",
           "#2CA02C",
           "#D62728",
           "#9467BD",
           "#8C564B",
           "#E377C2",
           "#7F7F7F",
           "#BCBD22",
           "#17BECF"
          ],
          "font": {
           "color": "rgb(36,36,36)"
          },
          "geo": {
           "bgcolor": "white",
           "lakecolor": "white",
           "landcolor": "white",
           "showlakes": true,
           "showland": true,
           "subunitcolor": "white"
          },
          "hoverlabel": {
           "align": "left"
          },
          "hovermode": "closest",
          "mapbox": {
           "style": "light"
          },
          "paper_bgcolor": "white",
          "plot_bgcolor": "white",
          "polar": {
           "angularaxis": {
            "gridcolor": "rgb(232,232,232)",
            "linecolor": "rgb(36,36,36)",
            "showgrid": false,
            "showline": true,
            "ticks": "outside"
           },
           "bgcolor": "white",
           "radialaxis": {
            "gridcolor": "rgb(232,232,232)",
            "linecolor": "rgb(36,36,36)",
            "showgrid": false,
            "showline": true,
            "ticks": "outside"
           }
          },
          "scene": {
           "xaxis": {
            "backgroundcolor": "white",
            "gridcolor": "rgb(232,232,232)",
            "gridwidth": 2,
            "linecolor": "rgb(36,36,36)",
            "showbackground": true,
            "showgrid": false,
            "showline": true,
            "ticks": "outside",
            "zeroline": false,
            "zerolinecolor": "rgb(36,36,36)"
           },
           "yaxis": {
            "backgroundcolor": "white",
            "gridcolor": "rgb(232,232,232)",
            "gridwidth": 2,
            "linecolor": "rgb(36,36,36)",
            "showbackground": true,
            "showgrid": false,
            "showline": true,
            "ticks": "outside",
            "zeroline": false,
            "zerolinecolor": "rgb(36,36,36)"
           },
           "zaxis": {
            "backgroundcolor": "white",
            "gridcolor": "rgb(232,232,232)",
            "gridwidth": 2,
            "linecolor": "rgb(36,36,36)",
            "showbackground": true,
            "showgrid": false,
            "showline": true,
            "ticks": "outside",
            "zeroline": false,
            "zerolinecolor": "rgb(36,36,36)"
           }
          },
          "shapedefaults": {
           "fillcolor": "black",
           "line": {
            "width": 0
           },
           "opacity": 0.3
          },
          "ternary": {
           "aaxis": {
            "gridcolor": "rgb(232,232,232)",
            "linecolor": "rgb(36,36,36)",
            "showgrid": false,
            "showline": true,
            "ticks": "outside"
           },
           "baxis": {
            "gridcolor": "rgb(232,232,232)",
            "linecolor": "rgb(36,36,36)",
            "showgrid": false,
            "showline": true,
            "ticks": "outside"
           },
           "bgcolor": "white",
           "caxis": {
            "gridcolor": "rgb(232,232,232)",
            "linecolor": "rgb(36,36,36)",
            "showgrid": false,
            "showline": true,
            "ticks": "outside"
           }
          },
          "title": {
           "x": 0.05
          },
          "xaxis": {
           "automargin": true,
           "gridcolor": "rgb(232,232,232)",
           "linecolor": "rgb(36,36,36)",
           "showgrid": false,
           "showline": true,
           "ticks": "outside",
           "title": {
            "standoff": 15
           },
           "zeroline": false,
           "zerolinecolor": "rgb(36,36,36)"
          },
          "yaxis": {
           "automargin": true,
           "gridcolor": "rgb(232,232,232)",
           "linecolor": "rgb(36,36,36)",
           "showgrid": false,
           "showline": true,
           "ticks": "outside",
           "title": {
            "standoff": 15
           },
           "zeroline": false,
           "zerolinecolor": "rgb(36,36,36)"
          }
         }
        },
        "title": {
         "font": {
          "color": "Black",
          "size": 22
         },
         "text": "<b>Topics over Time</b>",
         "x": 0.4,
         "xanchor": "center",
         "y": 0.95,
         "yanchor": "top"
        },
        "width": 1000,
        "xaxis": {
         "showgrid": true
        },
        "yaxis": {
         "showgrid": true,
         "title": {
          "text": "Count"
         }
        }
       }
      },
      "text/html": [
       "<div>                            <div id=\"98524613-f069-42aa-9547-873c8b2ddeff\" class=\"plotly-graph-div\" style=\"height:500px; width:1000px;\"></div>            <script type=\"text/javascript\">                require([\"plotly\"], function(Plotly) {                    window.PLOTLYENV=window.PLOTLYENV || {};                                    if (document.getElementById(\"98524613-f069-42aa-9547-873c8b2ddeff\")) {                    Plotly.newPlot(                        \"98524613-f069-42aa-9547-873c8b2ddeff\",                        [{\"hoverinfo\":\"text\",\"hovertext\":[\"\\u003cb\\u003eTopic 0\\u003c\\u002fb\\u003e\\u003cbr\\u003eWords: cambridge, wch, guinea, shell, machaon\",\"\\u003cb\\u003eTopic 0\\u003c\\u002fb\\u003e\\u003cbr\\u003eWords: lutea, verna, cambridge, fruticosa, viola\",\"\\u003cb\\u003eTopic 0\\u003c\\u002fb\\u003e\\u003cbr\\u003eWords: plant, desiderata, country, cambridge, lathyrus\",\"\\u003cb\\u003eTopic 0\\u003c\\u002fb\\u003e\\u003cbr\\u003eWords: plant, cambridge, specimen, flora, desiderata\",\"\\u003cb\\u003eTopic 0\\u003c\\u002fb\\u003e\\u003cbr\\u003eWords: cambridge, bird, flora, plant, londinensis\",\"\\u003cb\\u003eTopic 0\\u003c\\u002fb\\u003e\\u003cbr\\u003eWords: cambridge, desiderata, museum, march, botanical\",\"\\u003cb\\u003eTopic 0\\u003c\\u002fb\\u003e\\u003cbr\\u003eWords: cambridge, plant, clay, chalk, county\",\"\\u003cb\\u003eTopic 0\\u003c\\u002fb\\u003e\\u003cbr\\u003eWords: cambridge, seat, insect, feb, council\",\"\\u003cb\\u003eTopic 0\\u003c\\u002fb\\u003e\\u003cbr\\u003eWords: cambridge, hert, challi, peacock, aug\",\"\\u003cb\\u003eTopic 0\\u003c\\u002fb\\u003e\\u003cbr\\u003eWords: cambridge, fossil, collection, plant, suffolk\",\"\\u003cb\\u003eTopic 0\\u003c\\u002fb\\u003e\\u003cbr\\u003eWords: fossil, suffolk, cambridge, plant, botanist\",\"\\u003cb\\u003eTopic 0\\u003c\\u002fb\\u003e\\u003cbr\\u003eWords: plant, soil, cambridge, galapagos, nodule\",\"\\u003cb\\u003eTopic 0\\u003c\\u002fb\\u003e\\u003cbr\\u003eWords: nodule, plant, suffolk, cambridge, galapagos\",\"\\u003cb\\u003eTopic 0\\u003c\\u002fb\\u003e\\u003cbr\\u003eWords: suffolk, barley, plant, wheat, cambridge\",\"\\u003cb\\u003eTopic 0\\u003c\\u002fb\\u003e\\u003cbr\\u003eWords: suffolk, course, lecture, plant, term\",\"\\u003cb\\u003eTopic 0\\u003c\\u002fb\\u003e\\u003cbr\\u003eWords: suffolk, museum, ipswich, plant, genera\",\"\\u003cb\\u003eTopic 0\\u003c\\u002fb\\u003e\\u003cbr\\u003eWords: museum, bird, suffolk, cambridge, plan\",\"\\u003cb\\u003eTopic 0\\u003c\\u002fb\\u003e\\u003cbr\\u003eWords: suffolk, hitcham_bildeston, cambridge, museum, garden\",\"\\u003cb\\u003eTopic 0\\u003c\\u002fb\\u003e\\u003cbr\\u003eWords: seed, cambridge, suffolk, vessel, student\",\"\\u003cb\\u003eTopic 0\\u003c\\u002fb\\u003e\\u003cbr\\u003eWords: drift, suffolk, lecture, celt, museum\"],\"marker\":{\"color\":\"#E69F00\"},\"mode\":\"markers\",\"name\":\"0_cambridge_plant_suffolk_museum\",\"x\":[\"1818-12-02T13:45:07.200000\",\"1821-01-27T08:24:00\",\"1823-03-09T16:48:00\",\"1825-04-19T01:12:00\",\"1827-05-30T09:36:00\",\"1829-07-09T18:00:00\",\"1831-08-20T02:24:00\",\"1833-09-29T10:48:00\",\"1835-11-09T19:12:00\",\"1837-12-20T03:36:00\",\"1840-01-30T12:00:00\",\"1842-03-11T20:24:00\",\"1844-04-21T04:48:00\",\"1846-06-01T13:12:00\",\"1848-07-11T21:36:00\",\"1850-08-22T06:00:00\",\"1852-10-01T14:24:00\",\"1854-11-11T22:48:00\",\"1856-12-22T07:12:00\",\"1859-02-01T15:36:00\"],\"y\":[13,13,22,37,21,11,43,40,9,32,36,35,28,23,62,33,56,40,30,74],\"type\":\"scatter\"},{\"hoverinfo\":\"text\",\"hovertext\":[\"\\u003cb\\u003eTopic 1\\u003c\\u002fb\\u003e\\u003cbr\\u003eWords: paper, secy, bringing, reopen, conocephali\",\"\\u003cb\\u003eTopic 1\\u003c\\u002fb\\u003e\\u003cbr\\u003eWords: morning, trans, sabina, compliment, defer\",\"\\u003cb\\u003eTopic 1\\u003c\\u002fb\\u003e\\u003cbr\\u003eWords: benger, scot, schiller, stick, alexandre\",\"\\u003cb\\u003eTopic 1\\u003c\\u002fb\\u003e\\u003cbr\\u003eWords: volume, forebad, paper, application, determine\",\"\\u003cb\\u003eTopic 1\\u003c\\u002fb\\u003e\\u003cbr\\u003eWords: course, hooker, paper, copy, fanny\",\"\\u003cb\\u003eTopic 1\\u003c\\u002fb\\u003e\\u003cbr\\u003eWords: edd, wm, possession, effect, sister\",\"\\u003cb\\u003eTopic 1\\u003c\\u002fb\\u003e\\u003cbr\\u003eWords: member, copy, expense, roger, daubenys\",\"\\u003cb\\u003eTopic 1\\u003c\\u002fb\\u003e\\u003cbr\\u003eWords: confusion, enquiry, neighbourhood, copy, stuff\",\"\\u003cb\\u003eTopic 1\\u003c\\u002fb\\u003e\\u003cbr\\u003eWords: dearth, working, discussion, sake, read\",\"\\u003cb\\u003eTopic 1\\u003c\\u002fb\\u003e\\u003cbr\\u003eWords: purpose, duplicate, keeling, daf, looser\",\"\\u003cb\\u003eTopic 1\\u003c\\u002fb\\u003e\\u003cbr\\u003eWords: difficulty, paper, rejecting, multiply, responsibility\",\"\\u003cb\\u003eTopic 1\\u003c\\u002fb\\u003e\\u003cbr\\u003eWords: refer, dose, action, colour, hour\",\"\\u003cb\\u003eTopic 1\\u003c\\u002fb\\u003e\\u003cbr\\u003eWords: fanny, stair, riddle, suff, kindest_regard\",\"\\u003cb\\u003eTopic 1\\u003c\\u002fb\\u003e\\u003cbr\\u003eWords: hooker, fanny, conflagration, balloon, lady\",\"\\u003cb\\u003eTopic 1\\u003c\\u002fb\\u003e\\u003cbr\\u003eWords: wife, fanny, hs, probability, miss\",\"\\u003cb\\u003eTopic 1\\u003c\\u002fb\\u003e\\u003cbr\\u003eWords: hooker, dextrorum, sinistorsum, dr, switzerland\",\"\\u003cb\\u003eTopic 1\\u003c\\u002fb\\u003e\\u003cbr\\u003eWords: hooker, paper, shelford, aunt, wife\",\"\\u003cb\\u003eTopic 1\\u003c\\u002fb\\u003e\\u003cbr\\u003eWords: sister, hooker, lucubration, yarrell, harriet\",\"\\u003cb\\u003eTopic 1\\u003c\\u002fb\\u003e\\u003cbr\\u003eWords: hooker, day, mourning, louise, wrist\",\"\\u003cb\\u003eTopic 1\\u003c\\u002fb\\u003e\\u003cbr\\u003eWords: lady, barnard, problem, tho, hooker\"],\"marker\":{\"color\":\"#56B4E9\"},\"mode\":\"markers\",\"name\":\"1_hooker_paper_copy_fanny\",\"x\":[\"1818-12-02T13:45:07.200000\",\"1821-01-27T08:24:00\",\"1823-03-09T16:48:00\",\"1825-04-19T01:12:00\",\"1827-05-30T09:36:00\",\"1829-07-09T18:00:00\",\"1831-08-20T02:24:00\",\"1833-09-29T10:48:00\",\"1835-11-09T19:12:00\",\"1837-12-20T03:36:00\",\"1840-01-30T12:00:00\",\"1842-03-11T20:24:00\",\"1844-04-21T04:48:00\",\"1846-06-01T13:12:00\",\"1848-07-11T21:36:00\",\"1850-08-22T06:00:00\",\"1852-10-01T14:24:00\",\"1854-11-11T22:48:00\",\"1856-12-22T07:12:00\",\"1859-02-01T15:36:00\"],\"y\":[8,7,5,4,1,3,17,12,4,9,9,4,11,16,21,8,17,18,14,33],\"type\":\"scatter\"},{\"hoverinfo\":\"text\",\"hovertext\":[\"\\u003cb\\u003eTopic 2\\u003c\\u002fb\\u003e\\u003cbr\\u003eWords: supporter, sentiment, member, supposition, scruple\",\"\\u003cb\\u003eTopic 2\\u003c\\u002fb\\u003e\\u003cbr\\u003eWords: hole, page, flesh, happiness, god\",\"\\u003cb\\u003eTopic 2\\u003c\\u002fb\\u003e\\u003cbr\\u003eWords: report, treatise, committee, observation, request\",\"\\u003cb\\u003eTopic 2\\u003c\\u002fb\\u003e\\u003cbr\\u003eWords: gallantry, robinson, ability, recommendation, appeal\",\"\\u003cb\\u003eTopic 2\\u003c\\u002fb\\u003e\\u003cbr\\u003eWords: censure, feeling, voting, charge, college\",\"\\u003cb\\u003eTopic 2\\u003c\\u002fb\\u003e\\u003cbr\\u003eWords: originality, disinclination, uncertainty, stigmaria, science\",\"\\u003cb\\u003eTopic 2\\u003c\\u002fb\\u003e\\u003cbr\\u003eWords: assure, gratitude, guiltless, recipe, condescension\",\"\\u003cb\\u003eTopic 2\\u003c\\u002fb\\u003e\\u003cbr\\u003eWords: speculation, manner, chemist, property, food\",\"\\u003cb\\u003eTopic 2\\u003c\\u002fb\\u003e\\u003cbr\\u003eWords: memorial, hasty, scope, permit, bugbear\",\"\\u003cb\\u003eTopic 2\\u003c\\u002fb\\u003e\\u003cbr\\u003eWords: church, conscience, sabbath, authority, view\",\"\\u003cb\\u003eTopic 2\\u003c\\u002fb\\u003e\\u003cbr\\u003eWords: relaxation, derangement, neuralgic, physician, overwork\",\"\\u003cb\\u003eTopic 2\\u003c\\u002fb\\u003e\\u003cbr\\u003eWords: scandal, sanction, garden, interchange, servant\",\"\\u003cb\\u003eTopic 2\\u003c\\u002fb\\u003e\\u003cbr\\u003eWords: humanity, barbarity, vulgarity, fault, regard\",\"\\u003cb\\u003eTopic 2\\u003c\\u002fb\\u003e\\u003cbr\\u003eWords: idea, expression, odium, pique, modification\"],\"marker\":{\"color\":\"#009E73\"},\"mode\":\"markers\",\"name\":\"2_church_idea_conscience_truth\",\"x\":[\"1825-04-19T01:12:00\",\"1829-07-09T18:00:00\",\"1831-08-20T02:24:00\",\"1833-09-29T10:48:00\",\"1835-11-09T19:12:00\",\"1837-12-20T03:36:00\",\"1842-03-11T20:24:00\",\"1844-04-21T04:48:00\",\"1846-06-01T13:12:00\",\"1848-07-11T21:36:00\",\"1852-10-01T14:24:00\",\"1854-11-11T22:48:00\",\"1856-12-22T07:12:00\",\"1859-02-01T15:36:00\"],\"y\":[3,7,7,5,1,3,2,6,2,19,2,2,2,14],\"type\":\"scatter\"},{\"hoverinfo\":\"text\",\"hovertext\":[\"\\u003cb\\u003eTopic 3\\u003c\\u002fb\\u003e\\u003cbr\\u003eWords: integrifol, bromus, erectus, bupleurum, arenaria\",\"\\u003cb\\u003eTopic 3\\u003c\\u002fb\\u003e\\u003cbr\\u003eWords: plate, scarabidae, hexoda, illiger, hister\",\"\\u003cb\\u003eTopic 3\\u003c\\u002fb\\u003e\\u003cbr\\u003eWords: plate, brongniart, sternbergh, figure, artiss\",\"\\u003cb\\u003eTopic 3\\u003c\\u002fb\\u003e\\u003cbr\\u003eWords: plate, brongniart, character, datum, crenation\",\"\\u003cb\\u003eTopic 3\\u003c\\u002fb\\u003e\\u003cbr\\u003eWords: plate, rix, attrition, mint, sol\",\"\\u003cb\\u003eTopic 3\\u003c\\u002fb\\u003e\\u003cbr\\u003eWords: plate, masse, rectory, piece, person\",\"\\u003cb\\u003eTopic 3\\u003c\\u002fb\\u003e\\u003cbr\\u003eWords: plate, brongniart, sternbergh, figure, artiss\",\"\\u003cb\\u003eTopic 3\\u003c\\u002fb\\u003e\\u003cbr\\u003eWords: frame, match, card, plate, brongniart\",\"\\u003cb\\u003eTopic 3\\u003c\\u002fb\\u003e\\u003cbr\\u003eWords: crag, plate, brongniart, sternbergh, figure\"],\"marker\":{\"color\":\"#F0E442\"},\"mode\":\"markers\",\"name\":\"3_plate_brongniart_sternbergh_figure\",\"x\":[\"1825-04-19T01:12:00\",\"1827-05-30T09:36:00\",\"1837-12-20T03:36:00\",\"1840-01-30T12:00:00\",\"1844-04-21T04:48:00\",\"1848-07-11T21:36:00\",\"1850-08-22T06:00:00\",\"1852-10-01T14:24:00\",\"1859-02-01T15:36:00\"],\"y\":[1,3,23,5,2,3,1,1,1],\"type\":\"scatter\"},{\"hoverinfo\":\"text\",\"hovertext\":[\"\\u003cb\\u003eTopic 4\\u003c\\u002fb\\u003e\\u003cbr\\u003eWords: young, abundance, specimen, zealand, collecting\",\"\\u003cb\\u003eTopic 4\\u003c\\u002fb\\u003e\\u003cbr\\u003eWords: specimen, desideratum, subjoin, zealand, collecting\",\"\\u003cb\\u003eTopic 4\\u003c\\u002fb\\u003e\\u003cbr\\u003eWords: examining, abundance, specimen, specie, zealand\",\"\\u003cb\\u003eTopic 4\\u003c\\u002fb\\u003e\\u003cbr\\u003eWords: root, leave, specimen, zealand, collecting\",\"\\u003cb\\u003eTopic 4\\u003c\\u002fb\\u003e\\u003cbr\\u003eWords: specimen, leave, foss, junction, synonyms\",\"\\u003cb\\u003eTopic 4\\u003c\\u002fb\\u003e\\u003cbr\\u003eWords: specimen, implement, judgment, correspond, point\",\"\\u003cb\\u003eTopic 4\\u003c\\u002fb\\u003e\\u003cbr\\u003eWords: procuring, specimen, sake, nest, zealand\",\"\\u003cb\\u003eTopic 4\\u003c\\u002fb\\u003e\\u003cbr\\u003eWords: chance, specimen, zealand, collecting, leave\",\"\\u003cb\\u003eTopic 4\\u003c\\u002fb\\u003e\\u003cbr\\u003eWords: caterpillar, zealand, aug, specimen, speciman\",\"\\u003cb\\u003eTopic 4\\u003c\\u002fb\\u003e\\u003cbr\\u003eWords: specimen, lignite, model, group, object\",\"\\u003cb\\u003eTopic 4\\u003c\\u002fb\\u003e\\u003cbr\\u003eWords: possession, specimen, zealand, collecting, leave\",\"\\u003cb\\u003eTopic 4\\u003c\\u002fb\\u003e\\u003cbr\\u003eWords: specimen, collecting, zealand, year, securing\"],\"marker\":{\"color\":\"#D55E00\"},\"mode\":\"markers\",\"name\":\"4_specimen_zealand_collecting_leave\",\"x\":[\"1823-03-09T16:48:00\",\"1825-04-19T01:12:00\",\"1833-09-29T10:48:00\",\"1835-11-09T19:12:00\",\"1837-12-20T03:36:00\",\"1840-01-30T12:00:00\",\"1842-03-11T20:24:00\",\"1846-06-01T13:12:00\",\"1848-07-11T21:36:00\",\"1850-08-22T06:00:00\",\"1854-11-11T22:48:00\",\"1856-12-22T07:12:00\"],\"y\":[2,2,2,1,8,7,1,1,1,3,1,5],\"type\":\"scatter\"},{\"hoverinfo\":\"text\",\"hovertext\":[\"\\u003cb\\u003eTopic 5\\u003c\\u002fb\\u003e\\u003cbr\\u003eWords: season, summer, respite, sedge, wind\",\"\\u003cb\\u003eTopic 5\\u003c\\u002fb\\u003e\\u003cbr\\u003eWords: fenny, tribe, summer, season, july\",\"\\u003cb\\u003eTopic 5\\u003c\\u002fb\\u003e\\u003cbr\\u003eWords: season, july, summer, week, sd\",\"\\u003cb\\u003eTopic 5\\u003c\\u002fb\\u003e\\u003cbr\\u003eWords: june, april, season, july, summer\",\"\\u003cb\\u003eTopic 5\\u003c\\u002fb\\u003e\\u003cbr\\u003eWords: recovery, interval, week, season, july\",\"\\u003cb\\u003eTopic 5\\u003c\\u002fb\\u003e\\u003cbr\\u003eWords: sd, forego, sportsman, edinburgh, week\",\"\\u003cb\\u003eTopic 5\\u003c\\u002fb\\u003e\\u003cbr\\u003eWords: hutton, week, season, july, summer\",\"\\u003cb\\u003eTopic 5\\u003c\\u002fb\\u003e\\u003cbr\\u003eWords: july, season, summer, week, sd\",\"\\u003cb\\u003eTopic 5\\u003c\\u002fb\\u003e\\u003cbr\\u003eWords: month, recovery, rap, wait, end\",\"\\u003cb\\u003eTopic 5\\u003c\\u002fb\\u003e\\u003cbr\\u003eWords: corolla, weather, tho, season, july\",\"\\u003cb\\u003eTopic 5\\u003c\\u002fb\\u003e\\u003cbr\\u003eWords: fillip, season, trip, summer, july\",\"\\u003cb\\u003eTopic 5\\u003c\\u002fb\\u003e\\u003cbr\\u003eWords: july, season, summer, week, sd\",\"\\u003cb\\u003eTopic 5\\u003c\\u002fb\\u003e\\u003cbr\\u003eWords: snow, jas, season, clark, time\"],\"marker\":{\"color\":\"#0072B2\"},\"mode\":\"markers\",\"name\":\"5_season_july_summer_week\",\"x\":[\"1818-12-02T13:45:07.200000\",\"1821-01-27T08:24:00\",\"1825-04-19T01:12:00\",\"1829-07-09T18:00:00\",\"1831-08-20T02:24:00\",\"1833-09-29T10:48:00\",\"1837-12-20T03:36:00\",\"1840-01-30T12:00:00\",\"1844-04-21T04:48:00\",\"1848-07-11T21:36:00\",\"1852-10-01T14:24:00\",\"1854-11-11T22:48:00\",\"1859-02-01T15:36:00\"],\"y\":[3,1,1,2,2,4,1,1,2,1,2,2,3],\"type\":\"scatter\"},{\"hoverinfo\":\"text\",\"hovertext\":[\"\\u003cb\\u003eTopic 6\\u003c\\u002fb\\u003e\\u003cbr\\u003eWords: darwin, stipulation, publish, credit, justice\",\"\\u003cb\\u003eTopic 6\\u003c\\u002fb\\u003e\\u003cbr\\u003eWords: world, reflection, science, darwin, branch\",\"\\u003cb\\u003eTopic 6\\u003c\\u002fb\\u003e\\u003cbr\\u003eWords: darwin, view, magazine, hypothesis, powell\",\"\\u003cb\\u003eTopic 6\\u003c\\u002fb\\u003e\\u003cbr\\u003eWords: darwin, view, magazine, hypothesis, powell\"],\"marker\":{\"color\":\"#CC79A7\"},\"mode\":\"markers\",\"name\":\"6_darwin_view_magazine_hypothesis\",\"x\":[\"1842-03-11T20:24:00\",\"1844-04-21T04:48:00\",\"1848-07-11T21:36:00\",\"1859-02-01T15:36:00\"],\"y\":[1,1,1,18],\"type\":\"scatter\"},{\"hoverinfo\":\"text\",\"hovertext\":[\"\\u003cb\\u003eTopic 7\\u003c\\u002fb\\u003e\\u003cbr\\u003eWords: memoranda, feb, page, hitcham_bildeston, hitcham\",\"\\u003cb\\u003eTopic 7\\u003c\\u002fb\\u003e\\u003cbr\\u003eWords: hitcham, memoranda, march, leonard, june\",\"\\u003cb\\u003eTopic 7\\u003c\\u002fb\\u003e\\u003cbr\\u003eWords: hitcham, hadl, memoranda, march, leonard\",\"\\u003cb\\u003eTopic 7\\u003c\\u002fb\\u003e\\u003cbr\\u003eWords: hitcham, private, sleep, gedge, recognize\",\"\\u003cb\\u003eTopic 7\\u003c\\u002fb\\u003e\\u003cbr\\u003eWords: hitcham, weather, march, june, memoranda\",\"\\u003cb\\u003eTopic 7\\u003c\\u002fb\\u003e\\u003cbr\\u003eWords: hitcham, leonard, suffk, jog, hs\",\"\\u003cb\\u003eTopic 7\\u003c\\u002fb\\u003e\\u003cbr\\u003eWords: hitcham, deluge, reading, document, press\",\"\\u003cb\\u003eTopic 7\\u003c\\u002fb\\u003e\\u003cbr\\u003eWords: holidays, hitcham, return, miss, day\",\"\\u003cb\\u003eTopic 7\\u003c\\u002fb\\u003e\\u003cbr\\u003eWords: hitcham, misapprehension, origin, december, review\"],\"marker\":{\"color\":\"#E69F00\"},\"mode\":\"markers\",\"name\":\"7_hitcham_memoranda_march_leonard\",\"x\":[\"1840-01-30T12:00:00\",\"1844-04-21T04:48:00\",\"1846-06-01T13:12:00\",\"1848-07-11T21:36:00\",\"1850-08-22T06:00:00\",\"1852-10-01T14:24:00\",\"1854-11-11T22:48:00\",\"1856-12-22T07:12:00\",\"1859-02-01T15:36:00\"],\"y\":[1,1,2,4,2,6,2,1,2],\"type\":\"scatter\"},{\"hoverinfo\":\"text\",\"hovertext\":[\"\\u003cb\\u003eTopic 8\\u003c\\u002fb\\u003e\\u003cbr\\u003eWords: per_annum, gn, expectation, money, head\",\"\\u003cb\\u003eTopic 8\\u003c\\u002fb\\u003e\\u003cbr\\u003eWords: lock, sum, banker, walker, co\",\"\\u003cb\\u003eTopic 8\\u003c\\u002fb\\u003e\\u003cbr\\u003eWords: money, research, composition, doubt, amount\",\"\\u003cb\\u003eTopic 8\\u003c\\u002fb\\u003e\\u003cbr\\u003eWords: money, webb, parliament, treasury, informed\",\"\\u003cb\\u003eTopic 8\\u003c\\u002fb\\u003e\\u003cbr\\u003eWords: money, per_annum, remuneration, sum, labour\",\"\\u003cb\\u003eTopic 8\\u003c\\u002fb\\u003e\\u003cbr\\u003eWords: coll, labour, amount, johns, reply\",\"\\u003cb\\u003eTopic 8\\u003c\\u002fb\\u003e\\u003cbr\\u003eWords: amount, remuneration, labour, gardeners_chronicle, trouble\",\"\\u003cb\\u003eTopic 8\\u003c\\u002fb\\u003e\\u003cbr\\u003eWords: money, amount, education, commutation, sovereign\",\"\\u003cb\\u003eTopic 8\\u003c\\u002fb\\u003e\\u003cbr\\u003eWords: money, pecuniary, stand, fete, habit\",\"\\u003cb\\u003eTopic 8\\u003c\\u002fb\\u003e\\u003cbr\\u003eWords: resource, money, hand, cambridge, amount\"],\"marker\":{\"color\":\"#56B4E9\"},\"mode\":\"markers\",\"name\":\"8_money_amount_sum_per_annum\",\"x\":[\"1827-05-30T09:36:00\",\"1829-07-09T18:00:00\",\"1831-08-20T02:24:00\",\"1833-09-29T10:48:00\",\"1837-12-20T03:36:00\",\"1840-01-30T12:00:00\",\"1846-06-01T13:12:00\",\"1848-07-11T21:36:00\",\"1852-10-01T14:24:00\",\"1859-02-01T15:36:00\"],\"y\":[2,1,4,2,4,1,1,2,1,1],\"type\":\"scatter\"},{\"hoverinfo\":\"text\",\"hovertext\":[\"\\u003cb\\u003eTopic 9\\u003c\\u002fb\\u003e\\u003cbr\\u003eWords: speciman, specie, race, form, owen\",\"\\u003cb\\u003eTopic 9\\u003c\\u002fb\\u003e\\u003cbr\\u003eWords: speciman, specie, steven, plantation, acori\",\"\\u003cb\\u003eTopic 9\\u003c\\u002fb\\u003e\\u003cbr\\u003eWords: zealous, specie, speciman, race, form\",\"\\u003cb\\u003eTopic 9\\u003c\\u002fb\\u003e\\u003cbr\\u003eWords: specie, speciman, race, form, owen\",\"\\u003cb\\u003eTopic 9\\u003c\\u002fb\\u003e\\u003cbr\\u003eWords: specie, sight, moment, tho, speciman\",\"\\u003cb\\u003eTopic 9\\u003c\\u002fb\\u003e\\u003cbr\\u003eWords: specie, deck, note, event, lot\",\"\\u003cb\\u003eTopic 9\\u003c\\u002fb\\u003e\\u003cbr\\u003eWords: compass, specie, owen, speciman, race\",\"\\u003cb\\u003eTopic 9\\u003c\\u002fb\\u003e\\u003cbr\\u003eWords: specie, race, form, sport, aegilop\",\"\\u003cb\\u003eTopic 9\\u003c\\u002fb\\u003e\\u003cbr\\u003eWords: scheme, speciman, thing, specie, race\"],\"marker\":{\"color\":\"#009E73\"},\"mode\":\"markers\",\"name\":\"9_specie_speciman_race_form\",\"x\":[\"1821-01-27T08:24:00\",\"1825-04-19T01:12:00\",\"1827-05-30T09:36:00\",\"1837-12-20T03:36:00\",\"1840-01-30T12:00:00\",\"1842-03-11T20:24:00\",\"1844-04-21T04:48:00\",\"1854-11-11T22:48:00\",\"1859-02-01T15:36:00\"],\"y\":[1,5,1,1,2,3,1,2,2],\"type\":\"scatter\"}],                        {\"template\":{\"data\":{\"barpolar\":[{\"marker\":{\"line\":{\"color\":\"white\",\"width\":0.5},\"pattern\":{\"fillmode\":\"overlay\",\"size\":10,\"solidity\":0.2}},\"type\":\"barpolar\"}],\"bar\":[{\"error_x\":{\"color\":\"rgb(36,36,36)\"},\"error_y\":{\"color\":\"rgb(36,36,36)\"},\"marker\":{\"line\":{\"color\":\"white\",\"width\":0.5},\"pattern\":{\"fillmode\":\"overlay\",\"size\":10,\"solidity\":0.2}},\"type\":\"bar\"}],\"carpet\":[{\"aaxis\":{\"endlinecolor\":\"rgb(36,36,36)\",\"gridcolor\":\"white\",\"linecolor\":\"white\",\"minorgridcolor\":\"white\",\"startlinecolor\":\"rgb(36,36,36)\"},\"baxis\":{\"endlinecolor\":\"rgb(36,36,36)\",\"gridcolor\":\"white\",\"linecolor\":\"white\",\"minorgridcolor\":\"white\",\"startlinecolor\":\"rgb(36,36,36)\"},\"type\":\"carpet\"}],\"choropleth\":[{\"colorbar\":{\"outlinewidth\":1,\"tickcolor\":\"rgb(36,36,36)\",\"ticks\":\"outside\"},\"type\":\"choropleth\"}],\"contourcarpet\":[{\"colorbar\":{\"outlinewidth\":1,\"tickcolor\":\"rgb(36,36,36)\",\"ticks\":\"outside\"},\"type\":\"contourcarpet\"}],\"contour\":[{\"colorbar\":{\"outlinewidth\":1,\"tickcolor\":\"rgb(36,36,36)\",\"ticks\":\"outside\"},\"colorscale\":[[0.0,\"#440154\"],[0.1111111111111111,\"#482878\"],[0.2222222222222222,\"#3e4989\"],[0.3333333333333333,\"#31688e\"],[0.4444444444444444,\"#26828e\"],[0.5555555555555556,\"#1f9e89\"],[0.6666666666666666,\"#35b779\"],[0.7777777777777778,\"#6ece58\"],[0.8888888888888888,\"#b5de2b\"],[1.0,\"#fde725\"]],\"type\":\"contour\"}],\"heatmapgl\":[{\"colorbar\":{\"outlinewidth\":1,\"tickcolor\":\"rgb(36,36,36)\",\"ticks\":\"outside\"},\"colorscale\":[[0.0,\"#440154\"],[0.1111111111111111,\"#482878\"],[0.2222222222222222,\"#3e4989\"],[0.3333333333333333,\"#31688e\"],[0.4444444444444444,\"#26828e\"],[0.5555555555555556,\"#1f9e89\"],[0.6666666666666666,\"#35b779\"],[0.7777777777777778,\"#6ece58\"],[0.8888888888888888,\"#b5de2b\"],[1.0,\"#fde725\"]],\"type\":\"heatmapgl\"}],\"heatmap\":[{\"colorbar\":{\"outlinewidth\":1,\"tickcolor\":\"rgb(36,36,36)\",\"ticks\":\"outside\"},\"colorscale\":[[0.0,\"#440154\"],[0.1111111111111111,\"#482878\"],[0.2222222222222222,\"#3e4989\"],[0.3333333333333333,\"#31688e\"],[0.4444444444444444,\"#26828e\"],[0.5555555555555556,\"#1f9e89\"],[0.6666666666666666,\"#35b779\"],[0.7777777777777778,\"#6ece58\"],[0.8888888888888888,\"#b5de2b\"],[1.0,\"#fde725\"]],\"type\":\"heatmap\"}],\"histogram2dcontour\":[{\"colorbar\":{\"outlinewidth\":1,\"tickcolor\":\"rgb(36,36,36)\",\"ticks\":\"outside\"},\"colorscale\":[[0.0,\"#440154\"],[0.1111111111111111,\"#482878\"],[0.2222222222222222,\"#3e4989\"],[0.3333333333333333,\"#31688e\"],[0.4444444444444444,\"#26828e\"],[0.5555555555555556,\"#1f9e89\"],[0.6666666666666666,\"#35b779\"],[0.7777777777777778,\"#6ece58\"],[0.8888888888888888,\"#b5de2b\"],[1.0,\"#fde725\"]],\"type\":\"histogram2dcontour\"}],\"histogram2d\":[{\"colorbar\":{\"outlinewidth\":1,\"tickcolor\":\"rgb(36,36,36)\",\"ticks\":\"outside\"},\"colorscale\":[[0.0,\"#440154\"],[0.1111111111111111,\"#482878\"],[0.2222222222222222,\"#3e4989\"],[0.3333333333333333,\"#31688e\"],[0.4444444444444444,\"#26828e\"],[0.5555555555555556,\"#1f9e89\"],[0.6666666666666666,\"#35b779\"],[0.7777777777777778,\"#6ece58\"],[0.8888888888888888,\"#b5de2b\"],[1.0,\"#fde725\"]],\"type\":\"histogram2d\"}],\"histogram\":[{\"marker\":{\"line\":{\"color\":\"white\",\"width\":0.6}},\"type\":\"histogram\"}],\"mesh3d\":[{\"colorbar\":{\"outlinewidth\":1,\"tickcolor\":\"rgb(36,36,36)\",\"ticks\":\"outside\"},\"type\":\"mesh3d\"}],\"parcoords\":[{\"line\":{\"colorbar\":{\"outlinewidth\":1,\"tickcolor\":\"rgb(36,36,36)\",\"ticks\":\"outside\"}},\"type\":\"parcoords\"}],\"pie\":[{\"automargin\":true,\"type\":\"pie\"}],\"scatter3d\":[{\"line\":{\"colorbar\":{\"outlinewidth\":1,\"tickcolor\":\"rgb(36,36,36)\",\"ticks\":\"outside\"}},\"marker\":{\"colorbar\":{\"outlinewidth\":1,\"tickcolor\":\"rgb(36,36,36)\",\"ticks\":\"outside\"}},\"type\":\"scatter3d\"}],\"scattercarpet\":[{\"marker\":{\"colorbar\":{\"outlinewidth\":1,\"tickcolor\":\"rgb(36,36,36)\",\"ticks\":\"outside\"}},\"type\":\"scattercarpet\"}],\"scattergeo\":[{\"marker\":{\"colorbar\":{\"outlinewidth\":1,\"tickcolor\":\"rgb(36,36,36)\",\"ticks\":\"outside\"}},\"type\":\"scattergeo\"}],\"scattergl\":[{\"marker\":{\"colorbar\":{\"outlinewidth\":1,\"tickcolor\":\"rgb(36,36,36)\",\"ticks\":\"outside\"}},\"type\":\"scattergl\"}],\"scattermapbox\":[{\"marker\":{\"colorbar\":{\"outlinewidth\":1,\"tickcolor\":\"rgb(36,36,36)\",\"ticks\":\"outside\"}},\"type\":\"scattermapbox\"}],\"scatterpolargl\":[{\"marker\":{\"colorbar\":{\"outlinewidth\":1,\"tickcolor\":\"rgb(36,36,36)\",\"ticks\":\"outside\"}},\"type\":\"scatterpolargl\"}],\"scatterpolar\":[{\"marker\":{\"colorbar\":{\"outlinewidth\":1,\"tickcolor\":\"rgb(36,36,36)\",\"ticks\":\"outside\"}},\"type\":\"scatterpolar\"}],\"scatter\":[{\"fillpattern\":{\"fillmode\":\"overlay\",\"size\":10,\"solidity\":0.2},\"type\":\"scatter\"}],\"scatterternary\":[{\"marker\":{\"colorbar\":{\"outlinewidth\":1,\"tickcolor\":\"rgb(36,36,36)\",\"ticks\":\"outside\"}},\"type\":\"scatterternary\"}],\"surface\":[{\"colorbar\":{\"outlinewidth\":1,\"tickcolor\":\"rgb(36,36,36)\",\"ticks\":\"outside\"},\"colorscale\":[[0.0,\"#440154\"],[0.1111111111111111,\"#482878\"],[0.2222222222222222,\"#3e4989\"],[0.3333333333333333,\"#31688e\"],[0.4444444444444444,\"#26828e\"],[0.5555555555555556,\"#1f9e89\"],[0.6666666666666666,\"#35b779\"],[0.7777777777777778,\"#6ece58\"],[0.8888888888888888,\"#b5de2b\"],[1.0,\"#fde725\"]],\"type\":\"surface\"}],\"table\":[{\"cells\":{\"fill\":{\"color\":\"rgb(237,237,237)\"},\"line\":{\"color\":\"white\"}},\"header\":{\"fill\":{\"color\":\"rgb(217,217,217)\"},\"line\":{\"color\":\"white\"}},\"type\":\"table\"}]},\"layout\":{\"annotationdefaults\":{\"arrowhead\":0,\"arrowwidth\":1},\"autotypenumbers\":\"strict\",\"coloraxis\":{\"colorbar\":{\"outlinewidth\":1,\"tickcolor\":\"rgb(36,36,36)\",\"ticks\":\"outside\"}},\"colorscale\":{\"diverging\":[[0.0,\"rgb(103,0,31)\"],[0.1,\"rgb(178,24,43)\"],[0.2,\"rgb(214,96,77)\"],[0.3,\"rgb(244,165,130)\"],[0.4,\"rgb(253,219,199)\"],[0.5,\"rgb(247,247,247)\"],[0.6,\"rgb(209,229,240)\"],[0.7,\"rgb(146,197,222)\"],[0.8,\"rgb(67,147,195)\"],[0.9,\"rgb(33,102,172)\"],[1.0,\"rgb(5,48,97)\"]],\"sequential\":[[0.0,\"#440154\"],[0.1111111111111111,\"#482878\"],[0.2222222222222222,\"#3e4989\"],[0.3333333333333333,\"#31688e\"],[0.4444444444444444,\"#26828e\"],[0.5555555555555556,\"#1f9e89\"],[0.6666666666666666,\"#35b779\"],[0.7777777777777778,\"#6ece58\"],[0.8888888888888888,\"#b5de2b\"],[1.0,\"#fde725\"]],\"sequentialminus\":[[0.0,\"#440154\"],[0.1111111111111111,\"#482878\"],[0.2222222222222222,\"#3e4989\"],[0.3333333333333333,\"#31688e\"],[0.4444444444444444,\"#26828e\"],[0.5555555555555556,\"#1f9e89\"],[0.6666666666666666,\"#35b779\"],[0.7777777777777778,\"#6ece58\"],[0.8888888888888888,\"#b5de2b\"],[1.0,\"#fde725\"]]},\"colorway\":[\"#1F77B4\",\"#FF7F0E\",\"#2CA02C\",\"#D62728\",\"#9467BD\",\"#8C564B\",\"#E377C2\",\"#7F7F7F\",\"#BCBD22\",\"#17BECF\"],\"font\":{\"color\":\"rgb(36,36,36)\"},\"geo\":{\"bgcolor\":\"white\",\"lakecolor\":\"white\",\"landcolor\":\"white\",\"showlakes\":true,\"showland\":true,\"subunitcolor\":\"white\"},\"hoverlabel\":{\"align\":\"left\"},\"hovermode\":\"closest\",\"mapbox\":{\"style\":\"light\"},\"paper_bgcolor\":\"white\",\"plot_bgcolor\":\"white\",\"polar\":{\"angularaxis\":{\"gridcolor\":\"rgb(232,232,232)\",\"linecolor\":\"rgb(36,36,36)\",\"showgrid\":false,\"showline\":true,\"ticks\":\"outside\"},\"bgcolor\":\"white\",\"radialaxis\":{\"gridcolor\":\"rgb(232,232,232)\",\"linecolor\":\"rgb(36,36,36)\",\"showgrid\":false,\"showline\":true,\"ticks\":\"outside\"}},\"scene\":{\"xaxis\":{\"backgroundcolor\":\"white\",\"gridcolor\":\"rgb(232,232,232)\",\"gridwidth\":2,\"linecolor\":\"rgb(36,36,36)\",\"showbackground\":true,\"showgrid\":false,\"showline\":true,\"ticks\":\"outside\",\"zeroline\":false,\"zerolinecolor\":\"rgb(36,36,36)\"},\"yaxis\":{\"backgroundcolor\":\"white\",\"gridcolor\":\"rgb(232,232,232)\",\"gridwidth\":2,\"linecolor\":\"rgb(36,36,36)\",\"showbackground\":true,\"showgrid\":false,\"showline\":true,\"ticks\":\"outside\",\"zeroline\":false,\"zerolinecolor\":\"rgb(36,36,36)\"},\"zaxis\":{\"backgroundcolor\":\"white\",\"gridcolor\":\"rgb(232,232,232)\",\"gridwidth\":2,\"linecolor\":\"rgb(36,36,36)\",\"showbackground\":true,\"showgrid\":false,\"showline\":true,\"ticks\":\"outside\",\"zeroline\":false,\"zerolinecolor\":\"rgb(36,36,36)\"}},\"shapedefaults\":{\"fillcolor\":\"black\",\"line\":{\"width\":0},\"opacity\":0.3},\"ternary\":{\"aaxis\":{\"gridcolor\":\"rgb(232,232,232)\",\"linecolor\":\"rgb(36,36,36)\",\"showgrid\":false,\"showline\":true,\"ticks\":\"outside\"},\"baxis\":{\"gridcolor\":\"rgb(232,232,232)\",\"linecolor\":\"rgb(36,36,36)\",\"showgrid\":false,\"showline\":true,\"ticks\":\"outside\"},\"bgcolor\":\"white\",\"caxis\":{\"gridcolor\":\"rgb(232,232,232)\",\"linecolor\":\"rgb(36,36,36)\",\"showgrid\":false,\"showline\":true,\"ticks\":\"outside\"}},\"title\":{\"x\":0.05},\"xaxis\":{\"automargin\":true,\"gridcolor\":\"rgb(232,232,232)\",\"linecolor\":\"rgb(36,36,36)\",\"showgrid\":false,\"showline\":true,\"ticks\":\"outside\",\"title\":{\"standoff\":15},\"zeroline\":false,\"zerolinecolor\":\"rgb(36,36,36)\"},\"yaxis\":{\"automargin\":true,\"gridcolor\":\"rgb(232,232,232)\",\"linecolor\":\"rgb(36,36,36)\",\"showgrid\":false,\"showline\":true,\"ticks\":\"outside\",\"title\":{\"standoff\":15},\"zeroline\":false,\"zerolinecolor\":\"rgb(36,36,36)\"}}},\"xaxis\":{\"showgrid\":true},\"yaxis\":{\"showgrid\":true,\"title\":{\"text\":\"Count\"}},\"title\":{\"font\":{\"size\":22,\"color\":\"Black\"},\"text\":\"\\u003cb\\u003eTopics over Time\\u003c\\u002fb\\u003e\",\"y\":0.95,\"x\":0.4,\"xanchor\":\"center\",\"yanchor\":\"top\"},\"hoverlabel\":{\"font\":{\"size\":16,\"family\":\"Rockwell\"},\"bgcolor\":\"white\"},\"width\":1000,\"height\":500,\"legend\":{\"title\":{\"text\":\"\\u003cb\\u003eGlobal Topic Representation\"}}},                        {\"responsive\": true}                    ).then(function(){\n",
       "                            \n",
       "var gd = document.getElementById('98524613-f069-42aa-9547-873c8b2ddeff');\n",
       "var x = new MutationObserver(function (mutations, observer) {{\n",
       "        var display = window.getComputedStyle(gd).display;\n",
       "        if (!display || display === 'none') {{\n",
       "            console.log([gd, 'removed!']);\n",
       "            Plotly.purge(gd);\n",
       "            observer.disconnect();\n",
       "        }}\n",
       "}});\n",
       "\n",
       "// Listen for the removal of the full notebook cells\n",
       "var notebookContainer = gd.closest('#notebook-container');\n",
       "if (notebookContainer) {{\n",
       "    x.observe(notebookContainer, {childList: true});\n",
       "}}\n",
       "\n",
       "// Listen for the clearing of the current output cell\n",
       "var outputEl = gd.closest('.output');\n",
       "if (outputEl) {{\n",
       "    x.observe(outputEl, {childList: true});\n",
       "}}\n",
       "\n",
       "                        })                };                });            </script>        </div>"
      ]
     },
     "metadata": {},
     "output_type": "display_data"
    }
   ],
   "source": [
    "henslow_vis_obj = bertopic_time(henslow_sent_df, topic_model)\n",
    "henslow_vis = henslow_vis_obj[0]\n",
    "henslow_vis"
   ]
  },
  {
   "cell_type": "markdown",
   "id": "d7af018d",
   "metadata": {},
   "source": [
    "Use year_counts and year_counts_plot functions to get a count of letters from Henslow in each year and visualise."
   ]
  },
  {
   "cell_type": "code",
   "execution_count": 23,
   "id": "2d7d493b",
   "metadata": {
    "scrolled": true
   },
   "outputs": [
    {
     "data": {
      "application/vnd.plotly.v1+json": {
       "config": {
        "plotlyServerURL": "https://plot.ly"
       },
       "data": [
        {
         "alignmentgroup": "True",
         "hovertemplate": "variable=0<br>Year=%{x}<br>Count=%{y}<extra></extra>",
         "legendgroup": "0",
         "marker": {
          "color": "#636efa",
          "pattern": {
           "shape": ""
          }
         },
         "name": "0",
         "offsetgroup": "0",
         "orientation": "v",
         "showlegend": true,
         "textposition": "auto",
         "type": "bar",
         "x": [
          1818,
          1819,
          1820,
          1821,
          1822,
          1823,
          1824,
          1825,
          1826,
          1827,
          1828,
          1829,
          1830,
          1831,
          1832,
          1833,
          1834,
          1835,
          1836,
          1837,
          1838,
          1839,
          1840,
          1841,
          1842,
          1843,
          1844,
          1845,
          1846,
          1847,
          1848,
          1849,
          1850,
          1851,
          1852,
          1853,
          1854,
          1855,
          1856,
          1857,
          1858,
          1859,
          1860,
          1861
         ],
         "xaxis": "x",
         "y": [
          1,
          1,
          3,
          3,
          1,
          4,
          1,
          4,
          8,
          3,
          4,
          2,
          4,
          7,
          7,
          10,
          9,
          1,
          4,
          2,
          2,
          6,
          16,
          1,
          2,
          8,
          8,
          11,
          6,
          7,
          14,
          14,
          15,
          9,
          9,
          10,
          16,
          7,
          7,
          6,
          6,
          9,
          15,
          3
         ],
         "yaxis": "y"
        }
       ],
       "layout": {
        "barmode": "relative",
        "legend": {
         "title": {
          "text": "variable"
         },
         "tracegroupgap": 0
        },
        "showlegend": false,
        "template": {
         "data": {
          "bar": [
           {
            "error_x": {
             "color": "#2a3f5f"
            },
            "error_y": {
             "color": "#2a3f5f"
            },
            "marker": {
             "line": {
              "color": "#E5ECF6",
              "width": 0.5
             },
             "pattern": {
              "fillmode": "overlay",
              "size": 10,
              "solidity": 0.2
             }
            },
            "type": "bar"
           }
          ],
          "barpolar": [
           {
            "marker": {
             "line": {
              "color": "#E5ECF6",
              "width": 0.5
             },
             "pattern": {
              "fillmode": "overlay",
              "size": 10,
              "solidity": 0.2
             }
            },
            "type": "barpolar"
           }
          ],
          "carpet": [
           {
            "aaxis": {
             "endlinecolor": "#2a3f5f",
             "gridcolor": "white",
             "linecolor": "white",
             "minorgridcolor": "white",
             "startlinecolor": "#2a3f5f"
            },
            "baxis": {
             "endlinecolor": "#2a3f5f",
             "gridcolor": "white",
             "linecolor": "white",
             "minorgridcolor": "white",
             "startlinecolor": "#2a3f5f"
            },
            "type": "carpet"
           }
          ],
          "choropleth": [
           {
            "colorbar": {
             "outlinewidth": 0,
             "ticks": ""
            },
            "type": "choropleth"
           }
          ],
          "contour": [
           {
            "colorbar": {
             "outlinewidth": 0,
             "ticks": ""
            },
            "colorscale": [
             [
              0,
              "#0d0887"
             ],
             [
              0.1111111111111111,
              "#46039f"
             ],
             [
              0.2222222222222222,
              "#7201a8"
             ],
             [
              0.3333333333333333,
              "#9c179e"
             ],
             [
              0.4444444444444444,
              "#bd3786"
             ],
             [
              0.5555555555555556,
              "#d8576b"
             ],
             [
              0.6666666666666666,
              "#ed7953"
             ],
             [
              0.7777777777777778,
              "#fb9f3a"
             ],
             [
              0.8888888888888888,
              "#fdca26"
             ],
             [
              1,
              "#f0f921"
             ]
            ],
            "type": "contour"
           }
          ],
          "contourcarpet": [
           {
            "colorbar": {
             "outlinewidth": 0,
             "ticks": ""
            },
            "type": "contourcarpet"
           }
          ],
          "heatmap": [
           {
            "colorbar": {
             "outlinewidth": 0,
             "ticks": ""
            },
            "colorscale": [
             [
              0,
              "#0d0887"
             ],
             [
              0.1111111111111111,
              "#46039f"
             ],
             [
              0.2222222222222222,
              "#7201a8"
             ],
             [
              0.3333333333333333,
              "#9c179e"
             ],
             [
              0.4444444444444444,
              "#bd3786"
             ],
             [
              0.5555555555555556,
              "#d8576b"
             ],
             [
              0.6666666666666666,
              "#ed7953"
             ],
             [
              0.7777777777777778,
              "#fb9f3a"
             ],
             [
              0.8888888888888888,
              "#fdca26"
             ],
             [
              1,
              "#f0f921"
             ]
            ],
            "type": "heatmap"
           }
          ],
          "heatmapgl": [
           {
            "colorbar": {
             "outlinewidth": 0,
             "ticks": ""
            },
            "colorscale": [
             [
              0,
              "#0d0887"
             ],
             [
              0.1111111111111111,
              "#46039f"
             ],
             [
              0.2222222222222222,
              "#7201a8"
             ],
             [
              0.3333333333333333,
              "#9c179e"
             ],
             [
              0.4444444444444444,
              "#bd3786"
             ],
             [
              0.5555555555555556,
              "#d8576b"
             ],
             [
              0.6666666666666666,
              "#ed7953"
             ],
             [
              0.7777777777777778,
              "#fb9f3a"
             ],
             [
              0.8888888888888888,
              "#fdca26"
             ],
             [
              1,
              "#f0f921"
             ]
            ],
            "type": "heatmapgl"
           }
          ],
          "histogram": [
           {
            "marker": {
             "pattern": {
              "fillmode": "overlay",
              "size": 10,
              "solidity": 0.2
             }
            },
            "type": "histogram"
           }
          ],
          "histogram2d": [
           {
            "colorbar": {
             "outlinewidth": 0,
             "ticks": ""
            },
            "colorscale": [
             [
              0,
              "#0d0887"
             ],
             [
              0.1111111111111111,
              "#46039f"
             ],
             [
              0.2222222222222222,
              "#7201a8"
             ],
             [
              0.3333333333333333,
              "#9c179e"
             ],
             [
              0.4444444444444444,
              "#bd3786"
             ],
             [
              0.5555555555555556,
              "#d8576b"
             ],
             [
              0.6666666666666666,
              "#ed7953"
             ],
             [
              0.7777777777777778,
              "#fb9f3a"
             ],
             [
              0.8888888888888888,
              "#fdca26"
             ],
             [
              1,
              "#f0f921"
             ]
            ],
            "type": "histogram2d"
           }
          ],
          "histogram2dcontour": [
           {
            "colorbar": {
             "outlinewidth": 0,
             "ticks": ""
            },
            "colorscale": [
             [
              0,
              "#0d0887"
             ],
             [
              0.1111111111111111,
              "#46039f"
             ],
             [
              0.2222222222222222,
              "#7201a8"
             ],
             [
              0.3333333333333333,
              "#9c179e"
             ],
             [
              0.4444444444444444,
              "#bd3786"
             ],
             [
              0.5555555555555556,
              "#d8576b"
             ],
             [
              0.6666666666666666,
              "#ed7953"
             ],
             [
              0.7777777777777778,
              "#fb9f3a"
             ],
             [
              0.8888888888888888,
              "#fdca26"
             ],
             [
              1,
              "#f0f921"
             ]
            ],
            "type": "histogram2dcontour"
           }
          ],
          "mesh3d": [
           {
            "colorbar": {
             "outlinewidth": 0,
             "ticks": ""
            },
            "type": "mesh3d"
           }
          ],
          "parcoords": [
           {
            "line": {
             "colorbar": {
              "outlinewidth": 0,
              "ticks": ""
             }
            },
            "type": "parcoords"
           }
          ],
          "pie": [
           {
            "automargin": true,
            "type": "pie"
           }
          ],
          "scatter": [
           {
            "fillpattern": {
             "fillmode": "overlay",
             "size": 10,
             "solidity": 0.2
            },
            "type": "scatter"
           }
          ],
          "scatter3d": [
           {
            "line": {
             "colorbar": {
              "outlinewidth": 0,
              "ticks": ""
             }
            },
            "marker": {
             "colorbar": {
              "outlinewidth": 0,
              "ticks": ""
             }
            },
            "type": "scatter3d"
           }
          ],
          "scattercarpet": [
           {
            "marker": {
             "colorbar": {
              "outlinewidth": 0,
              "ticks": ""
             }
            },
            "type": "scattercarpet"
           }
          ],
          "scattergeo": [
           {
            "marker": {
             "colorbar": {
              "outlinewidth": 0,
              "ticks": ""
             }
            },
            "type": "scattergeo"
           }
          ],
          "scattergl": [
           {
            "marker": {
             "colorbar": {
              "outlinewidth": 0,
              "ticks": ""
             }
            },
            "type": "scattergl"
           }
          ],
          "scattermapbox": [
           {
            "marker": {
             "colorbar": {
              "outlinewidth": 0,
              "ticks": ""
             }
            },
            "type": "scattermapbox"
           }
          ],
          "scatterpolar": [
           {
            "marker": {
             "colorbar": {
              "outlinewidth": 0,
              "ticks": ""
             }
            },
            "type": "scatterpolar"
           }
          ],
          "scatterpolargl": [
           {
            "marker": {
             "colorbar": {
              "outlinewidth": 0,
              "ticks": ""
             }
            },
            "type": "scatterpolargl"
           }
          ],
          "scatterternary": [
           {
            "marker": {
             "colorbar": {
              "outlinewidth": 0,
              "ticks": ""
             }
            },
            "type": "scatterternary"
           }
          ],
          "surface": [
           {
            "colorbar": {
             "outlinewidth": 0,
             "ticks": ""
            },
            "colorscale": [
             [
              0,
              "#0d0887"
             ],
             [
              0.1111111111111111,
              "#46039f"
             ],
             [
              0.2222222222222222,
              "#7201a8"
             ],
             [
              0.3333333333333333,
              "#9c179e"
             ],
             [
              0.4444444444444444,
              "#bd3786"
             ],
             [
              0.5555555555555556,
              "#d8576b"
             ],
             [
              0.6666666666666666,
              "#ed7953"
             ],
             [
              0.7777777777777778,
              "#fb9f3a"
             ],
             [
              0.8888888888888888,
              "#fdca26"
             ],
             [
              1,
              "#f0f921"
             ]
            ],
            "type": "surface"
           }
          ],
          "table": [
           {
            "cells": {
             "fill": {
              "color": "#EBF0F8"
             },
             "line": {
              "color": "white"
             }
            },
            "header": {
             "fill": {
              "color": "#C8D4E3"
             },
             "line": {
              "color": "white"
             }
            },
            "type": "table"
           }
          ]
         },
         "layout": {
          "annotationdefaults": {
           "arrowcolor": "#2a3f5f",
           "arrowhead": 0,
           "arrowwidth": 1
          },
          "autotypenumbers": "strict",
          "coloraxis": {
           "colorbar": {
            "outlinewidth": 0,
            "ticks": ""
           }
          },
          "colorscale": {
           "diverging": [
            [
             0,
             "#8e0152"
            ],
            [
             0.1,
             "#c51b7d"
            ],
            [
             0.2,
             "#de77ae"
            ],
            [
             0.3,
             "#f1b6da"
            ],
            [
             0.4,
             "#fde0ef"
            ],
            [
             0.5,
             "#f7f7f7"
            ],
            [
             0.6,
             "#e6f5d0"
            ],
            [
             0.7,
             "#b8e186"
            ],
            [
             0.8,
             "#7fbc41"
            ],
            [
             0.9,
             "#4d9221"
            ],
            [
             1,
             "#276419"
            ]
           ],
           "sequential": [
            [
             0,
             "#0d0887"
            ],
            [
             0.1111111111111111,
             "#46039f"
            ],
            [
             0.2222222222222222,
             "#7201a8"
            ],
            [
             0.3333333333333333,
             "#9c179e"
            ],
            [
             0.4444444444444444,
             "#bd3786"
            ],
            [
             0.5555555555555556,
             "#d8576b"
            ],
            [
             0.6666666666666666,
             "#ed7953"
            ],
            [
             0.7777777777777778,
             "#fb9f3a"
            ],
            [
             0.8888888888888888,
             "#fdca26"
            ],
            [
             1,
             "#f0f921"
            ]
           ],
           "sequentialminus": [
            [
             0,
             "#0d0887"
            ],
            [
             0.1111111111111111,
             "#46039f"
            ],
            [
             0.2222222222222222,
             "#7201a8"
            ],
            [
             0.3333333333333333,
             "#9c179e"
            ],
            [
             0.4444444444444444,
             "#bd3786"
            ],
            [
             0.5555555555555556,
             "#d8576b"
            ],
            [
             0.6666666666666666,
             "#ed7953"
            ],
            [
             0.7777777777777778,
             "#fb9f3a"
            ],
            [
             0.8888888888888888,
             "#fdca26"
            ],
            [
             1,
             "#f0f921"
            ]
           ]
          },
          "colorway": [
           "#636efa",
           "#EF553B",
           "#00cc96",
           "#ab63fa",
           "#FFA15A",
           "#19d3f3",
           "#FF6692",
           "#B6E880",
           "#FF97FF",
           "#FECB52"
          ],
          "font": {
           "color": "#2a3f5f"
          },
          "geo": {
           "bgcolor": "white",
           "lakecolor": "white",
           "landcolor": "#E5ECF6",
           "showlakes": true,
           "showland": true,
           "subunitcolor": "white"
          },
          "hoverlabel": {
           "align": "left"
          },
          "hovermode": "closest",
          "mapbox": {
           "style": "light"
          },
          "paper_bgcolor": "white",
          "plot_bgcolor": "#E5ECF6",
          "polar": {
           "angularaxis": {
            "gridcolor": "white",
            "linecolor": "white",
            "ticks": ""
           },
           "bgcolor": "#E5ECF6",
           "radialaxis": {
            "gridcolor": "white",
            "linecolor": "white",
            "ticks": ""
           }
          },
          "scene": {
           "xaxis": {
            "backgroundcolor": "#E5ECF6",
            "gridcolor": "white",
            "gridwidth": 2,
            "linecolor": "white",
            "showbackground": true,
            "ticks": "",
            "zerolinecolor": "white"
           },
           "yaxis": {
            "backgroundcolor": "#E5ECF6",
            "gridcolor": "white",
            "gridwidth": 2,
            "linecolor": "white",
            "showbackground": true,
            "ticks": "",
            "zerolinecolor": "white"
           },
           "zaxis": {
            "backgroundcolor": "#E5ECF6",
            "gridcolor": "white",
            "gridwidth": 2,
            "linecolor": "white",
            "showbackground": true,
            "ticks": "",
            "zerolinecolor": "white"
           }
          },
          "shapedefaults": {
           "line": {
            "color": "#2a3f5f"
           }
          },
          "ternary": {
           "aaxis": {
            "gridcolor": "white",
            "linecolor": "white",
            "ticks": ""
           },
           "baxis": {
            "gridcolor": "white",
            "linecolor": "white",
            "ticks": ""
           },
           "bgcolor": "#E5ECF6",
           "caxis": {
            "gridcolor": "white",
            "linecolor": "white",
            "ticks": ""
           }
          },
          "title": {
           "x": 0.05
          },
          "xaxis": {
           "automargin": true,
           "gridcolor": "white",
           "linecolor": "white",
           "ticks": "",
           "title": {
            "standoff": 15
           },
           "zerolinecolor": "white",
           "zerolinewidth": 2
          },
          "yaxis": {
           "automargin": true,
           "gridcolor": "white",
           "linecolor": "white",
           "ticks": "",
           "title": {
            "standoff": 15
           },
           "zerolinecolor": "white",
           "zerolinewidth": 2
          }
         }
        },
        "title": {
         "text": "Letter Count by Year"
        },
        "xaxis": {
         "anchor": "y",
         "domain": [
          0,
          1
         ],
         "title": {
          "text": "Year"
         }
        },
        "yaxis": {
         "anchor": "x",
         "domain": [
          0,
          1
         ],
         "title": {
          "text": "Count"
         }
        }
       }
      },
      "text/html": [
       "<div>                            <div id=\"78840122-00c8-4f9c-918a-385967f1b9b7\" class=\"plotly-graph-div\" style=\"height:525px; width:100%;\"></div>            <script type=\"text/javascript\">                require([\"plotly\"], function(Plotly) {                    window.PLOTLYENV=window.PLOTLYENV || {};                                    if (document.getElementById(\"78840122-00c8-4f9c-918a-385967f1b9b7\")) {                    Plotly.newPlot(                        \"78840122-00c8-4f9c-918a-385967f1b9b7\",                        [{\"alignmentgroup\":\"True\",\"hovertemplate\":\"variable=0\\u003cbr\\u003eYear=%{x}\\u003cbr\\u003eCount=%{y}\\u003cextra\\u003e\\u003c\\u002fextra\\u003e\",\"legendgroup\":\"0\",\"marker\":{\"color\":\"#636efa\",\"pattern\":{\"shape\":\"\"}},\"name\":\"0\",\"offsetgroup\":\"0\",\"orientation\":\"v\",\"showlegend\":true,\"textposition\":\"auto\",\"x\":[1818,1819,1820,1821,1822,1823,1824,1825,1826,1827,1828,1829,1830,1831,1832,1833,1834,1835,1836,1837,1838,1839,1840,1841,1842,1843,1844,1845,1846,1847,1848,1849,1850,1851,1852,1853,1854,1855,1856,1857,1858,1859,1860,1861],\"xaxis\":\"x\",\"y\":[1,1,3,3,1,4,1,4,8,3,4,2,4,7,7,10,9,1,4,2,2,6,16,1,2,8,8,11,6,7,14,14,15,9,9,10,16,7,7,6,6,9,15,3],\"yaxis\":\"y\",\"type\":\"bar\"}],                        {\"template\":{\"data\":{\"histogram2dcontour\":[{\"type\":\"histogram2dcontour\",\"colorbar\":{\"outlinewidth\":0,\"ticks\":\"\"},\"colorscale\":[[0.0,\"#0d0887\"],[0.1111111111111111,\"#46039f\"],[0.2222222222222222,\"#7201a8\"],[0.3333333333333333,\"#9c179e\"],[0.4444444444444444,\"#bd3786\"],[0.5555555555555556,\"#d8576b\"],[0.6666666666666666,\"#ed7953\"],[0.7777777777777778,\"#fb9f3a\"],[0.8888888888888888,\"#fdca26\"],[1.0,\"#f0f921\"]]}],\"choropleth\":[{\"type\":\"choropleth\",\"colorbar\":{\"outlinewidth\":0,\"ticks\":\"\"}}],\"histogram2d\":[{\"type\":\"histogram2d\",\"colorbar\":{\"outlinewidth\":0,\"ticks\":\"\"},\"colorscale\":[[0.0,\"#0d0887\"],[0.1111111111111111,\"#46039f\"],[0.2222222222222222,\"#7201a8\"],[0.3333333333333333,\"#9c179e\"],[0.4444444444444444,\"#bd3786\"],[0.5555555555555556,\"#d8576b\"],[0.6666666666666666,\"#ed7953\"],[0.7777777777777778,\"#fb9f3a\"],[0.8888888888888888,\"#fdca26\"],[1.0,\"#f0f921\"]]}],\"heatmap\":[{\"type\":\"heatmap\",\"colorbar\":{\"outlinewidth\":0,\"ticks\":\"\"},\"colorscale\":[[0.0,\"#0d0887\"],[0.1111111111111111,\"#46039f\"],[0.2222222222222222,\"#7201a8\"],[0.3333333333333333,\"#9c179e\"],[0.4444444444444444,\"#bd3786\"],[0.5555555555555556,\"#d8576b\"],[0.6666666666666666,\"#ed7953\"],[0.7777777777777778,\"#fb9f3a\"],[0.8888888888888888,\"#fdca26\"],[1.0,\"#f0f921\"]]}],\"heatmapgl\":[{\"type\":\"heatmapgl\",\"colorbar\":{\"outlinewidth\":0,\"ticks\":\"\"},\"colorscale\":[[0.0,\"#0d0887\"],[0.1111111111111111,\"#46039f\"],[0.2222222222222222,\"#7201a8\"],[0.3333333333333333,\"#9c179e\"],[0.4444444444444444,\"#bd3786\"],[0.5555555555555556,\"#d8576b\"],[0.6666666666666666,\"#ed7953\"],[0.7777777777777778,\"#fb9f3a\"],[0.8888888888888888,\"#fdca26\"],[1.0,\"#f0f921\"]]}],\"contourcarpet\":[{\"type\":\"contourcarpet\",\"colorbar\":{\"outlinewidth\":0,\"ticks\":\"\"}}],\"contour\":[{\"type\":\"contour\",\"colorbar\":{\"outlinewidth\":0,\"ticks\":\"\"},\"colorscale\":[[0.0,\"#0d0887\"],[0.1111111111111111,\"#46039f\"],[0.2222222222222222,\"#7201a8\"],[0.3333333333333333,\"#9c179e\"],[0.4444444444444444,\"#bd3786\"],[0.5555555555555556,\"#d8576b\"],[0.6666666666666666,\"#ed7953\"],[0.7777777777777778,\"#fb9f3a\"],[0.8888888888888888,\"#fdca26\"],[1.0,\"#f0f921\"]]}],\"surface\":[{\"type\":\"surface\",\"colorbar\":{\"outlinewidth\":0,\"ticks\":\"\"},\"colorscale\":[[0.0,\"#0d0887\"],[0.1111111111111111,\"#46039f\"],[0.2222222222222222,\"#7201a8\"],[0.3333333333333333,\"#9c179e\"],[0.4444444444444444,\"#bd3786\"],[0.5555555555555556,\"#d8576b\"],[0.6666666666666666,\"#ed7953\"],[0.7777777777777778,\"#fb9f3a\"],[0.8888888888888888,\"#fdca26\"],[1.0,\"#f0f921\"]]}],\"mesh3d\":[{\"type\":\"mesh3d\",\"colorbar\":{\"outlinewidth\":0,\"ticks\":\"\"}}],\"scatter\":[{\"fillpattern\":{\"fillmode\":\"overlay\",\"size\":10,\"solidity\":0.2},\"type\":\"scatter\"}],\"parcoords\":[{\"type\":\"parcoords\",\"line\":{\"colorbar\":{\"outlinewidth\":0,\"ticks\":\"\"}}}],\"scatterpolargl\":[{\"type\":\"scatterpolargl\",\"marker\":{\"colorbar\":{\"outlinewidth\":0,\"ticks\":\"\"}}}],\"bar\":[{\"error_x\":{\"color\":\"#2a3f5f\"},\"error_y\":{\"color\":\"#2a3f5f\"},\"marker\":{\"line\":{\"color\":\"#E5ECF6\",\"width\":0.5},\"pattern\":{\"fillmode\":\"overlay\",\"size\":10,\"solidity\":0.2}},\"type\":\"bar\"}],\"scattergeo\":[{\"type\":\"scattergeo\",\"marker\":{\"colorbar\":{\"outlinewidth\":0,\"ticks\":\"\"}}}],\"scatterpolar\":[{\"type\":\"scatterpolar\",\"marker\":{\"colorbar\":{\"outlinewidth\":0,\"ticks\":\"\"}}}],\"histogram\":[{\"marker\":{\"pattern\":{\"fillmode\":\"overlay\",\"size\":10,\"solidity\":0.2}},\"type\":\"histogram\"}],\"scattergl\":[{\"type\":\"scattergl\",\"marker\":{\"colorbar\":{\"outlinewidth\":0,\"ticks\":\"\"}}}],\"scatter3d\":[{\"type\":\"scatter3d\",\"line\":{\"colorbar\":{\"outlinewidth\":0,\"ticks\":\"\"}},\"marker\":{\"colorbar\":{\"outlinewidth\":0,\"ticks\":\"\"}}}],\"scattermapbox\":[{\"type\":\"scattermapbox\",\"marker\":{\"colorbar\":{\"outlinewidth\":0,\"ticks\":\"\"}}}],\"scatterternary\":[{\"type\":\"scatterternary\",\"marker\":{\"colorbar\":{\"outlinewidth\":0,\"ticks\":\"\"}}}],\"scattercarpet\":[{\"type\":\"scattercarpet\",\"marker\":{\"colorbar\":{\"outlinewidth\":0,\"ticks\":\"\"}}}],\"carpet\":[{\"aaxis\":{\"endlinecolor\":\"#2a3f5f\",\"gridcolor\":\"white\",\"linecolor\":\"white\",\"minorgridcolor\":\"white\",\"startlinecolor\":\"#2a3f5f\"},\"baxis\":{\"endlinecolor\":\"#2a3f5f\",\"gridcolor\":\"white\",\"linecolor\":\"white\",\"minorgridcolor\":\"white\",\"startlinecolor\":\"#2a3f5f\"},\"type\":\"carpet\"}],\"table\":[{\"cells\":{\"fill\":{\"color\":\"#EBF0F8\"},\"line\":{\"color\":\"white\"}},\"header\":{\"fill\":{\"color\":\"#C8D4E3\"},\"line\":{\"color\":\"white\"}},\"type\":\"table\"}],\"barpolar\":[{\"marker\":{\"line\":{\"color\":\"#E5ECF6\",\"width\":0.5},\"pattern\":{\"fillmode\":\"overlay\",\"size\":10,\"solidity\":0.2}},\"type\":\"barpolar\"}],\"pie\":[{\"automargin\":true,\"type\":\"pie\"}]},\"layout\":{\"autotypenumbers\":\"strict\",\"colorway\":[\"#636efa\",\"#EF553B\",\"#00cc96\",\"#ab63fa\",\"#FFA15A\",\"#19d3f3\",\"#FF6692\",\"#B6E880\",\"#FF97FF\",\"#FECB52\"],\"font\":{\"color\":\"#2a3f5f\"},\"hovermode\":\"closest\",\"hoverlabel\":{\"align\":\"left\"},\"paper_bgcolor\":\"white\",\"plot_bgcolor\":\"#E5ECF6\",\"polar\":{\"bgcolor\":\"#E5ECF6\",\"angularaxis\":{\"gridcolor\":\"white\",\"linecolor\":\"white\",\"ticks\":\"\"},\"radialaxis\":{\"gridcolor\":\"white\",\"linecolor\":\"white\",\"ticks\":\"\"}},\"ternary\":{\"bgcolor\":\"#E5ECF6\",\"aaxis\":{\"gridcolor\":\"white\",\"linecolor\":\"white\",\"ticks\":\"\"},\"baxis\":{\"gridcolor\":\"white\",\"linecolor\":\"white\",\"ticks\":\"\"},\"caxis\":{\"gridcolor\":\"white\",\"linecolor\":\"white\",\"ticks\":\"\"}},\"coloraxis\":{\"colorbar\":{\"outlinewidth\":0,\"ticks\":\"\"}},\"colorscale\":{\"sequential\":[[0.0,\"#0d0887\"],[0.1111111111111111,\"#46039f\"],[0.2222222222222222,\"#7201a8\"],[0.3333333333333333,\"#9c179e\"],[0.4444444444444444,\"#bd3786\"],[0.5555555555555556,\"#d8576b\"],[0.6666666666666666,\"#ed7953\"],[0.7777777777777778,\"#fb9f3a\"],[0.8888888888888888,\"#fdca26\"],[1.0,\"#f0f921\"]],\"sequentialminus\":[[0.0,\"#0d0887\"],[0.1111111111111111,\"#46039f\"],[0.2222222222222222,\"#7201a8\"],[0.3333333333333333,\"#9c179e\"],[0.4444444444444444,\"#bd3786\"],[0.5555555555555556,\"#d8576b\"],[0.6666666666666666,\"#ed7953\"],[0.7777777777777778,\"#fb9f3a\"],[0.8888888888888888,\"#fdca26\"],[1.0,\"#f0f921\"]],\"diverging\":[[0,\"#8e0152\"],[0.1,\"#c51b7d\"],[0.2,\"#de77ae\"],[0.3,\"#f1b6da\"],[0.4,\"#fde0ef\"],[0.5,\"#f7f7f7\"],[0.6,\"#e6f5d0\"],[0.7,\"#b8e186\"],[0.8,\"#7fbc41\"],[0.9,\"#4d9221\"],[1,\"#276419\"]]},\"xaxis\":{\"gridcolor\":\"white\",\"linecolor\":\"white\",\"ticks\":\"\",\"title\":{\"standoff\":15},\"zerolinecolor\":\"white\",\"automargin\":true,\"zerolinewidth\":2},\"yaxis\":{\"gridcolor\":\"white\",\"linecolor\":\"white\",\"ticks\":\"\",\"title\":{\"standoff\":15},\"zerolinecolor\":\"white\",\"automargin\":true,\"zerolinewidth\":2},\"scene\":{\"xaxis\":{\"backgroundcolor\":\"#E5ECF6\",\"gridcolor\":\"white\",\"linecolor\":\"white\",\"showbackground\":true,\"ticks\":\"\",\"zerolinecolor\":\"white\",\"gridwidth\":2},\"yaxis\":{\"backgroundcolor\":\"#E5ECF6\",\"gridcolor\":\"white\",\"linecolor\":\"white\",\"showbackground\":true,\"ticks\":\"\",\"zerolinecolor\":\"white\",\"gridwidth\":2},\"zaxis\":{\"backgroundcolor\":\"#E5ECF6\",\"gridcolor\":\"white\",\"linecolor\":\"white\",\"showbackground\":true,\"ticks\":\"\",\"zerolinecolor\":\"white\",\"gridwidth\":2}},\"shapedefaults\":{\"line\":{\"color\":\"#2a3f5f\"}},\"annotationdefaults\":{\"arrowcolor\":\"#2a3f5f\",\"arrowhead\":0,\"arrowwidth\":1},\"geo\":{\"bgcolor\":\"white\",\"landcolor\":\"#E5ECF6\",\"subunitcolor\":\"white\",\"showland\":true,\"showlakes\":true,\"lakecolor\":\"white\"},\"title\":{\"x\":0.05},\"mapbox\":{\"style\":\"light\"}}},\"xaxis\":{\"anchor\":\"y\",\"domain\":[0.0,1.0],\"title\":{\"text\":\"Year\"}},\"yaxis\":{\"anchor\":\"x\",\"domain\":[0.0,1.0],\"title\":{\"text\":\"Count\"}},\"legend\":{\"title\":{\"text\":\"variable\"},\"tracegroupgap\":0},\"title\":{\"text\":\"Letter Count by Year\"},\"barmode\":\"relative\",\"showlegend\":false},                        {\"responsive\": true}                    ).then(function(){\n",
       "                            \n",
       "var gd = document.getElementById('78840122-00c8-4f9c-918a-385967f1b9b7');\n",
       "var x = new MutationObserver(function (mutations, observer) {{\n",
       "        var display = window.getComputedStyle(gd).display;\n",
       "        if (!display || display === 'none') {{\n",
       "            console.log([gd, 'removed!']);\n",
       "            Plotly.purge(gd);\n",
       "            observer.disconnect();\n",
       "        }}\n",
       "}});\n",
       "\n",
       "// Listen for the removal of the full notebook cells\n",
       "var notebookContainer = gd.closest('#notebook-container');\n",
       "if (notebookContainer) {{\n",
       "    x.observe(notebookContainer, {childList: true});\n",
       "}}\n",
       "\n",
       "// Listen for the clearing of the current output cell\n",
       "var outputEl = gd.closest('.output');\n",
       "if (outputEl) {{\n",
       "    x.observe(outputEl, {childList: true});\n",
       "}}\n",
       "\n",
       "                        })                };                });            </script>        </div>"
      ]
     },
     "metadata": {},
     "output_type": "display_data"
    }
   ],
   "source": [
    "year_counts_henslow = year_counts(henslow_df)\n",
    "letter_nums_hen = year_counts_plot(year_counts_henslow)\n",
    "letter_nums_hen"
   ]
  },
  {
   "cell_type": "markdown",
   "id": "347acabd",
   "metadata": {},
   "source": [
    "Create visualisation of topics over time for letters sent to Henslow using bertopic_time function."
   ]
  },
  {
   "cell_type": "code",
   "execution_count": 24,
   "id": "243b9f5e",
   "metadata": {
    "scrolled": false
   },
   "outputs": [
    {
     "data": {
      "application/vnd.plotly.v1+json": {
       "config": {
        "plotlyServerURL": "https://plot.ly"
       },
       "data": [
        {
         "hoverinfo": "text",
         "hovertext": [
          "<b>Topic 0</b><br>Words: mot, satr, flattish, amm, clarke",
          "<b>Topic 0</b><br>Words: prince, crescent, bankes, neglectful, octobre",
          "<b>Topic 0</b><br>Words: palmerston, committee, sincerely_palmerston, feb, brother",
          "<b>Topic 0</b><br>Words: course, lecture, cambridge, museum, edinburgh",
          "<b>Topic 0</b><br>Words: chairman, graham, london, brother, scotland",
          "<b>Topic 0</b><br>Words: brother, haste, museum, smith, cambridge",
          "<b>Topic 0</b><br>Words: fitz, roy, capt, brother, agent",
          "<b>Topic 0</b><br>Words: audubon, john, biog, stephens, james",
          "<b>Topic 0</b><br>Words: favor, yellow, carrying, talbot, chippenham",
          "<b>Topic 0</b><br>Words: museum, library_mss, curator, phil, american",
          "<b>Topic 0</b><br>Words: british_association, institution, dinorni, simms, bron",
          "<b>Topic 0</b><br>Words: effectual, diarrhoea, ringham, goodman, pleasurable",
          "<b>Topic 0</b><br>Words: coleman, integrity, cave, smith, museum",
          "<b>Topic 0</b><br>Words: queen, campbell, university, commissioner, reform",
          "<b>Topic 0</b><br>Words: museum, cambridge, ipswich, old, zinoke",
          "<b>Topic 0</b><br>Words: museum, moseley, henry, nomination, cadetship",
          "<b>Topic 0</b><br>Words: museum, park, remove, west_regent, crag",
          "<b>Topic 0</b><br>Words: museum, london, park, september, lecture",
          "<b>Topic 0</b><br>Words: museum, kensington, london, brother, art",
          "<b>Topic 0</b><br>Words: museum, british, london, congratulation, sister"
         ],
         "marker": {
          "color": "#E69F00"
         },
         "mode": "markers",
         "name": "0_museum_brother_london_cambridge",
         "type": "scatter",
         "x": [
          "1820-04-09T00:53:16.800000",
          "1822-05-12T03:36:00",
          "1824-05-29T07:12:00",
          "1826-06-16T10:48:00",
          "1828-07-03T14:24:00",
          "1830-07-21T18:00:00",
          "1832-08-07T21:36:00",
          "1834-08-26T01:12:00",
          "1836-09-12T04:48:00",
          "1838-09-30T08:24:00",
          "1840-10-17T12:00:00",
          "1842-11-04T15:36:00",
          "1844-11-21T19:12:00",
          "1846-12-09T22:48:00",
          "1848-12-27T02:24:00",
          "1851-01-14T06:00:00",
          "1853-01-31T09:36:00",
          "1855-02-18T13:12:00",
          "1857-03-07T16:48:00",
          "1859-03-25T20:24:00"
         ],
         "y": [
          5,
          12,
          261,
          93,
          101,
          126,
          19,
          18,
          9,
          35,
          27,
          16,
          28,
          17,
          67,
          44,
          66,
          167,
          88,
          77
         ]
        },
        {
         "hoverinfo": "text",
         "hovertext": [
          "<b>Topic 1</b><br>Words: entrochi, scoticu, nautilus, caryophyllea, pentacrinitis",
          "<b>Topic 1</b><br>Words: maritima, orchis, plant, media, verbenaca",
          "<b>Topic 1</b><br>Words: specimen, plant, seed, flora, common",
          "<b>Topic 1</b><br>Words: palustris, herbarium, arvensis, flora, latifolia",
          "<b>Topic 1</b><br>Words: arvensis, palustris, vulgaris, flora, fruit",
          "<b>Topic 1</b><br>Words: seed, crossed_pencil, flower, herbarium, fruit",
          "<b>Topic 1</b><br>Words: flora, plena, supernumerary, goodyera, macrophylla",
          "<b>Topic 1</b><br>Words: ed, society, plant, seed, flora",
          "<b>Topic 1</b><br>Words: alpinus, clathiatus, nuphaea, scheureria, crenata",
          "<b>Topic 1</b><br>Words: seed, crocus, hose, seedling, fruit",
          "<b>Topic 1</b><br>Words: sigillaria, torrey, flora, princeton, structure",
          "<b>Topic 1</b><br>Words: pine, babiana, obstinate, brunswickia, deodar",
          "<b>Topic 1</b><br>Words: cowslip, polyanthu, brunners, pitmaston, anoplotherium",
          "<b>Topic 1</b><br>Words: precaution, faith, trial, change, botanist",
          "<b>Topic 1</b><br>Words: periculo, truncata, fugacissima, meo, dillwyn",
          "<b>Topic 1</b><br>Words: annal, founder, bewick, bewickshire, zoophytes",
          "<b>Topic 1</b><br>Words: naumann, glucium, thread, envelope, stamen",
          "<b>Topic 1</b><br>Words: glastonbury, unedo, flora, carniv, ala",
          "<b>Topic 1</b><br>Words: botany, seed, kensington, enquiry, herbarium",
          "<b>Topic 1</b><br>Words: botany, curriculum, lamarck, fruit, anthoceros"
         ],
         "marker": {
          "color": "#56B4E9"
         },
         "mode": "markers",
         "name": "1_seed_flora_botany_arvensis",
         "type": "scatter",
         "x": [
          "1820-04-09T00:53:16.800000",
          "1822-05-12T03:36:00",
          "1824-05-29T07:12:00",
          "1826-06-16T10:48:00",
          "1828-07-03T14:24:00",
          "1830-07-21T18:00:00",
          "1832-08-07T21:36:00",
          "1834-08-26T01:12:00",
          "1836-09-12T04:48:00",
          "1838-09-30T08:24:00",
          "1840-10-17T12:00:00",
          "1842-11-04T15:36:00",
          "1844-11-21T19:12:00",
          "1846-12-09T22:48:00",
          "1848-12-27T02:24:00",
          "1851-01-14T06:00:00",
          "1853-01-31T09:36:00",
          "1855-02-18T13:12:00",
          "1857-03-07T16:48:00",
          "1859-03-25T20:24:00"
         ],
         "y": [
          7,
          9,
          41,
          92,
          152,
          131,
          7,
          1,
          3,
          26,
          16,
          3,
          5,
          1,
          3,
          6,
          2,
          16,
          13,
          17
         ]
        },
        {
         "hoverinfo": "text",
         "hovertext": [
          "<b>Topic 2</b><br>Words: favour, attention, opinion, kindness, satisfaction",
          "<b>Topic 2</b><br>Words: slavery, opinion, compliment, extinction, carrighan",
          "<b>Topic 2</b><br>Words: satisfaction, chapel, compliment, accentor, bracvic",
          "<b>Topic 2</b><br>Words: kindness, attention, satisfaction, selection, comfort",
          "<b>Topic 2</b><br>Words: opinion, satisfaction, pulpit, chapel, admiration",
          "<b>Topic 2</b><br>Words: persuasion, endogenae, dictionary, cohort, embrace",
          "<b>Topic 2</b><br>Words: exertion, defender, concur, review, attention",
          "<b>Topic 2</b><br>Words: yate, charle, sentiment, compliment, satisfaction",
          "<b>Topic 2</b><br>Words: correctness, testimony, calumny, theological, orthodox",
          "<b>Topic 2</b><br>Words: opinion, entail, selbourne, intermittent, paragraph",
          "<b>Topic 2</b><br>Words: club, everett, glostershire, advocate, presence",
          "<b>Topic 2</b><br>Words: poverty, wealth, crime, ignorance, opinion",
          "<b>Topic 2</b><br>Words: distraction, bacon, church, kindness, business",
          "<b>Topic 2</b><br>Words: church, feeling, apostle, opinion, catechism",
          "<b>Topic 2</b><br>Words: knowledge, humbler, dissenter, cocoon, affectation",
          "<b>Topic 2</b><br>Words: knowledge, science, kewians, calamity, stocking",
          "<b>Topic 2</b><br>Words: clergyman, impression, parishioner, happiness, opinion",
          "<b>Topic 2</b><br>Words: opinion, church, success, parishoner, kindness",
          "<b>Topic 2</b><br>Words: advantage, compensate, foster, indispensible, reader"
         ],
         "marker": {
          "color": "#009E73"
         },
         "mode": "markers",
         "name": "2_opinion_kindness_satisfaction_knowledg...",
         "type": "scatter",
         "x": [
          "1822-05-12T03:36:00",
          "1824-05-29T07:12:00",
          "1826-06-16T10:48:00",
          "1828-07-03T14:24:00",
          "1830-07-21T18:00:00",
          "1832-08-07T21:36:00",
          "1834-08-26T01:12:00",
          "1836-09-12T04:48:00",
          "1838-09-30T08:24:00",
          "1840-10-17T12:00:00",
          "1842-11-04T15:36:00",
          "1844-11-21T19:12:00",
          "1846-12-09T22:48:00",
          "1848-12-27T02:24:00",
          "1851-01-14T06:00:00",
          "1853-01-31T09:36:00",
          "1855-02-18T13:12:00",
          "1857-03-07T16:48:00",
          "1859-03-25T20:24:00"
         ],
         "y": [
          1,
          19,
          13,
          30,
          23,
          3,
          6,
          3,
          4,
          6,
          4,
          18,
          1,
          13,
          7,
          9,
          41,
          25,
          6
         ]
        },
        {
         "hoverinfo": "text",
         "hovertext": [
          "<b>Topic 3</b><br>Words: parcell, mead, lambeth, fossil, help",
          "<b>Topic 3</b><br>Words: cavern, partition, granite, thereabout, slay",
          "<b>Topic 3</b><br>Words: shag, premium, singular, mineralogist, norway",
          "<b>Topic 3</b><br>Words: henderson, cromer, masse, slate, patch",
          "<b>Topic 3</b><br>Words: limestone, river, fossil, precipice, curve",
          "<b>Topic 3</b><br>Words: diluvium, clay, chalk, front, pebble",
          "<b>Topic 3</b><br>Words: dirt, portland, forest, isle, acceptance",
          "<b>Topic 3</b><br>Words: fossil, figd, anstice, asterophyllite, leaflet",
          "<b>Topic 3</b><br>Words: fossil, quil, doute, livraison, bien",
          "<b>Topic 3</b><br>Words: fossil, mentioning, calculating, streak, owens",
          "<b>Topic 3</b><br>Words: ridge, fault, chalk, coast, vein",
          "<b>Topic 3</b><br>Words: epoch, pliocene, fossil, miocene, coraline",
          "<b>Topic 3</b><br>Words: fossil, inclination, depth, prestwich, wetherell",
          "<b>Topic 3</b><br>Words: fossil, crag, skull, london_clay, breed",
          "<b>Topic 3</b><br>Words: fossil, geologist, goodwood, tray, foramenifera",
          "<b>Topic 3</b><br>Words: fossil, pit, depth, surface, foot"
         ],
         "marker": {
          "color": "#F0E442"
         },
         "mode": "markers",
         "name": "3_fossil_pit_chalk_crag",
         "type": "scatter",
         "x": [
          "1820-04-09T00:53:16.800000",
          "1824-05-29T07:12:00",
          "1826-06-16T10:48:00",
          "1828-07-03T14:24:00",
          "1830-07-21T18:00:00",
          "1832-08-07T21:36:00",
          "1834-08-26T01:12:00",
          "1838-09-30T08:24:00",
          "1840-10-17T12:00:00",
          "1844-11-21T19:12:00",
          "1848-12-27T02:24:00",
          "1851-01-14T06:00:00",
          "1853-01-31T09:36:00",
          "1855-02-18T13:12:00",
          "1857-03-07T16:48:00",
          "1859-03-25T20:24:00"
         ],
         "y": [
          2,
          1,
          2,
          3,
          5,
          4,
          1,
          15,
          8,
          4,
          4,
          6,
          6,
          13,
          9,
          9
         ]
        },
        {
         "hoverinfo": "text",
         "hovertext": [
          "<b>Topic 4</b><br>Words: insect, bombyx, larvae, dale, entomology",
          "<b>Topic 4</b><br>Words: insect, mollusca, grove, obligation, entomology",
          "<b>Topic 4</b><br>Words: insect, entomology, yorkshire, bug, latreille",
          "<b>Topic 4</b><br>Words: insect, beetle, slug, valdivia, meigan",
          "<b>Topic 4</b><br>Words: insect, hobby, entomology, collector, scotch",
          "<b>Topic 4</b><br>Words: hawthorne, permit, entomology, accompany, wood",
          "<b>Topic 4</b><br>Words: camomile, wasp, fly, turpentine, hop",
          "<b>Topic 4</b><br>Words: insect, beam, aphid, hop, bean",
          "<b>Topic 4</b><br>Words: insect, entomologist, dog, fauna, kennel",
          "<b>Topic 4</b><br>Words: insect, museum, entomology, entomologist, larva",
          "<b>Topic 4</b><br>Words: sessile, annelide, eyed, diptera, philo",
          "<b>Topic 4</b><br>Words: insect, westwood, crustacea, insecta, wollaston",
          "<b>Topic 4</b><br>Words: larva, entomology, insect, teazle, moth",
          "<b>Topic 4</b><br>Words: insect, nepticula, larva, entomologist, entomology"
         ],
         "marker": {
          "color": "#D55E00"
         },
         "mode": "markers",
         "name": "4_insect_entomology_entomologist_larva",
         "type": "scatter",
         "x": [
          "1824-05-29T07:12:00",
          "1826-06-16T10:48:00",
          "1828-07-03T14:24:00",
          "1830-07-21T18:00:00",
          "1836-09-12T04:48:00",
          "1838-09-30T08:24:00",
          "1842-11-04T15:36:00",
          "1846-12-09T22:48:00",
          "1848-12-27T02:24:00",
          "1851-01-14T06:00:00",
          "1853-01-31T09:36:00",
          "1855-02-18T13:12:00",
          "1857-03-07T16:48:00",
          "1859-03-25T20:24:00"
         ],
         "y": [
          9,
          7,
          13,
          4,
          2,
          1,
          2,
          6,
          5,
          1,
          2,
          10,
          3,
          6
         ]
        },
        {
         "hoverinfo": "text",
         "hovertext": [
          "<b>Topic 5</b><br>Words: erection, fracture, room, house, home",
          "<b>Topic 5</b><br>Words: room, house, home, flat, intend",
          "<b>Topic 5</b><br>Words: resident, goodall, eton, wait, recommendation",
          "<b>Topic 5</b><br>Words: house, home, trespass, cray, clothing",
          "<b>Topic 5</b><br>Words: house, whitwell, sanctum, maynard, hovingham",
          "<b>Topic 5</b><br>Words: home, permission, care, house, room",
          "<b>Topic 5</b><br>Words: lamentation, house, home, room, cottage",
          "<b>Topic 5</b><br>Words: match, respect, house, home, room",
          "<b>Topic 5</b><br>Words: bother, goddaughter, kiss, home, house",
          "<b>Topic 5</b><br>Words: balaklava, occupation, fellow, dinner, possession",
          "<b>Topic 5</b><br>Words: cottage, home, house, taste, throne",
          "<b>Topic 5</b><br>Words: tea, home, lunch, baby, libitum",
          "<b>Topic 5</b><br>Words: house, home, cottage, residence, mid"
         ],
         "marker": {
          "color": "#0072B2"
         },
         "mode": "markers",
         "name": "5_house_home_room_cottage",
         "type": "scatter",
         "x": [
          "1822-05-12T03:36:00",
          "1824-05-29T07:12:00",
          "1826-06-16T10:48:00",
          "1828-07-03T14:24:00",
          "1830-07-21T18:00:00",
          "1832-08-07T21:36:00",
          "1838-09-30T08:24:00",
          "1846-12-09T22:48:00",
          "1848-12-27T02:24:00",
          "1853-01-31T09:36:00",
          "1855-02-18T13:12:00",
          "1857-03-07T16:48:00",
          "1859-03-25T20:24:00"
         ],
         "y": [
          2,
          11,
          4,
          10,
          7,
          2,
          1,
          1,
          4,
          2,
          8,
          7,
          9
         ]
        },
        {
         "hoverinfo": "text",
         "hovertext": [
          "<b>Topic 6</b><br>Words: election, vote, voter, poll, number",
          "<b>Topic 6</b><br>Words: voter, vote, election, expense, measure",
          "<b>Topic 6</b><br>Words: thanking, silence, election, intelligence, cause",
          "<b>Topic 6</b><br>Words: leader, contributor, support, party, election",
          "<b>Topic 6</b><br>Words: morpeth, walkover, probability, west, election",
          "<b>Topic 6</b><br>Words: minority, poll, election, vote, voter",
          "<b>Topic 6</b><br>Words: truly_spence, election, illeg, favour, weather"
         ],
         "marker": {
          "color": "#CC79A7"
         },
         "mode": "markers",
         "name": "6_election_vote_voter_poll",
         "type": "scatter",
         "x": [
          "1824-05-29T07:12:00",
          "1826-06-16T10:48:00",
          "1830-07-21T18:00:00",
          "1836-09-12T04:48:00",
          "1844-11-21T19:12:00",
          "1848-12-27T02:24:00",
          "1859-03-25T20:24:00"
         ],
         "y": [
          53,
          7,
          1,
          1,
          1,
          2,
          2
         ]
        },
        {
         "hoverinfo": "text",
         "hovertext": [
          "<b>Topic 7</b><br>Words: goodness, manner, result, examination, evening",
          "<b>Topic 7</b><br>Words: portsmouth, kimbolton, col, us, specimen",
          "<b>Topic 7</b><br>Words: cryptogamic, specimen, side, collection, microscope",
          "<b>Topic 7</b><br>Words: specimen, subscription, cape, brazilian, martius",
          "<b>Topic 7</b><br>Words: specimen, dec, duplicate, clerum, autograph",
          "<b>Topic 7</b><br>Words: specimen, septentrionale, clapham, tweed, asplenium",
          "<b>Topic 7</b><br>Words: specimen, unite, value, cohort, repair",
          "<b>Topic 7</b><br>Words: spot, size, specimen, microscope, subscription",
          "<b>Topic 7</b><br>Words: microscope, opake, sic, inform, effect",
          "<b>Topic 7</b><br>Words: definition, lonsdale, specimen, cabinet, alteration",
          "<b>Topic 7</b><br>Words: coutance, specimen, microscope, subscription, cape",
          "<b>Topic 7</b><br>Words: specimen, congo, brasss, collections, break",
          "<b>Topic 7</b><br>Words: method, procuring, specimen, hitherto, illustration",
          "<b>Topic 7</b><br>Words: swallow, specimen, choice, nest, establishment",
          "<b>Topic 7</b><br>Words: specimen, blank, ashburton, microscope, batata",
          "<b>Topic 7</b><br>Words: specimen, chislet, injury, cliff, judge",
          "<b>Topic 7</b><br>Words: relish, charlesworth, specimen, brown, weight"
         ],
         "marker": {
          "color": "#E69F00"
         },
         "mode": "markers",
         "name": "7_specimen_microscope_subscription_cape",
         "type": "scatter",
         "x": [
          "1820-04-09T00:53:16.800000",
          "1822-05-12T03:36:00",
          "1824-05-29T07:12:00",
          "1826-06-16T10:48:00",
          "1828-07-03T14:24:00",
          "1830-07-21T18:00:00",
          "1832-08-07T21:36:00",
          "1836-09-12T04:48:00",
          "1838-09-30T08:24:00",
          "1840-10-17T12:00:00",
          "1842-11-04T15:36:00",
          "1844-11-21T19:12:00",
          "1851-01-14T06:00:00",
          "1853-01-31T09:36:00",
          "1855-02-18T13:12:00",
          "1857-03-07T16:48:00",
          "1859-03-25T20:24:00"
         ],
         "y": [
          1,
          2,
          2,
          10,
          13,
          14,
          5,
          1,
          2,
          1,
          1,
          2,
          2,
          2,
          5,
          3,
          1
         ]
        },
        {
         "hoverinfo": "text",
         "hovertext": [
          "<b>Topic 8</b><br>Words: copley, banke, plumper, goulburn, exchange",
          "<b>Topic 8</b><br>Words: godson, copley, goulburn, greenwood, barrett",
          "<b>Topic 8</b><br>Words: achille, reg, comte, tableaux, baillieu",
          "<b>Topic 8</b><br>Words: goulburn, henry, copley, banke, plumper",
          "<b>Topic 8</b><br>Words: notitia, othonacester, juxta, ythancester, peters"
         ],
         "marker": {
          "color": "#56B4E9"
         },
         "mode": "markers",
         "name": "8_copley_banke_plumper_goulburn",
         "type": "scatter",
         "x": [
          "1824-05-29T07:12:00",
          "1826-06-16T10:48:00",
          "1840-10-17T12:00:00",
          "1844-11-21T19:12:00",
          "1846-12-09T22:48:00"
         ],
         "y": [
          61,
          2,
          1,
          1,
          1
         ]
        },
        {
         "hoverinfo": "text",
         "hovertext": [
          "<b>Topic 9</b><br>Words: affair, hooker, lady, playfair, bunbury",
          "<b>Topic 9</b><br>Words: hooker, aberdeenshire, icones, filicum, arcuata",
          "<b>Topic 9</b><br>Words: hooker, hotel, devil, twopenny, haldane",
          "<b>Topic 9</b><br>Words: hooker, suberectus, fork, juice, mistaken",
          "<b>Topic 9</b><br>Words: intercourse, hooker, lady, playfair, bunbury",
          "<b>Topic 9</b><br>Words: hooker, parcel, day, lady, playfair",
          "<b>Topic 9</b><br>Words: miscellany, hooker, lady, playfair, bunbury",
          "<b>Topic 9</b><br>Words: chas, suit, hooker, lady, playfair",
          "<b>Topic 9</b><br>Words: hooker, retreat, yarmouth, return, miss",
          "<b>Topic 9</b><br>Words: hooker, lodgings, gateway, niece, room",
          "<b>Topic 9</b><br>Words: hooker, cassel, episode, confinement, news",
          "<b>Topic 9</b><br>Words: hooker, affte, breast, fool, rascallitie",
          "<b>Topic 9</b><br>Words: hooker, playfair, days_ago, griffin, circuit",
          "<b>Topic 9</b><br>Words: hooker, germany, cirriped, hasjsh, collateral",
          "<b>Topic 9</b><br>Words: hooker, regrets, reputation, kindest_regard, back",
          "<b>Topic 9</b><br>Words: hooker, sprung, migrate, guest, carpenter"
         ],
         "marker": {
          "color": "#009E73"
         },
         "mode": "markers",
         "name": "9_hooker_lady_playfair_bunbury",
         "type": "scatter",
         "x": [
          "1824-05-29T07:12:00",
          "1826-06-16T10:48:00",
          "1828-07-03T14:24:00",
          "1830-07-21T18:00:00",
          "1832-08-07T21:36:00",
          "1834-08-26T01:12:00",
          "1836-09-12T04:48:00",
          "1840-10-17T12:00:00",
          "1844-11-21T19:12:00",
          "1846-12-09T22:48:00",
          "1848-12-27T02:24:00",
          "1851-01-14T06:00:00",
          "1853-01-31T09:36:00",
          "1855-02-18T13:12:00",
          "1857-03-07T16:48:00",
          "1859-03-25T20:24:00"
         ],
         "y": [
          2,
          6,
          8,
          10,
          1,
          1,
          1,
          1,
          4,
          3,
          2,
          4,
          4,
          8,
          8,
          2
         ]
        },
        {
         "hoverinfo": "text",
         "hovertext": [
          "<b>Topic 10</b><br>Words: impediment, shape, head, hair, scale",
          "<b>Topic 10</b><br>Words: illustrate, enlarge, scale, batata, boiling",
          "<b>Topic 10</b><br>Words: spec, aother, malay, bowd, major",
          "<b>Topic 10</b><br>Words: spec, interesting, tis, profusion, specie",
          "<b>Topic 10</b><br>Words: figure, genera, speciman, specie, purpose",
          "<b>Topic 10</b><br>Words: brittle, specie, spec, fragment, speciman",
          "<b>Topic 10</b><br>Words: globular, receptacle, expansion, axis, spec",
          "<b>Topic 10</b><br>Words: speciman, hair, scale, spec, bat",
          "<b>Topic 10</b><br>Words: enlarge, hair, scale, spec, bat",
          "<b>Topic 10</b><br>Words: hate, bat, conjecture, moniliforme, spec",
          "<b>Topic 10</b><br>Words: scale, print, reason, hair, spec",
          "<b>Topic 10</b><br>Words: sin, scheme, face, inch, figure",
          "<b>Topic 10</b><br>Words: hair, scale, bat, shaft, speciman",
          "<b>Topic 10</b><br>Words: web, hair, inch, length, blade",
          "<b>Topic 10</b><br>Words: establish, diam, scale, specie, hint"
         ],
         "marker": {
          "color": "#F0E442"
         },
         "mode": "markers",
         "name": "10_hair_scale_spec_bat",
         "type": "scatter",
         "x": [
          "1824-05-29T07:12:00",
          "1826-06-16T10:48:00",
          "1828-07-03T14:24:00",
          "1830-07-21T18:00:00",
          "1832-08-07T21:36:00",
          "1838-09-30T08:24:00",
          "1840-10-17T12:00:00",
          "1842-11-04T15:36:00",
          "1844-11-21T19:12:00",
          "1848-12-27T02:24:00",
          "1851-01-14T06:00:00",
          "1853-01-31T09:36:00",
          "1855-02-18T13:12:00",
          "1857-03-07T16:48:00",
          "1859-03-25T20:24:00"
         ],
         "y": [
          1,
          5,
          6,
          4,
          2,
          4,
          2,
          1,
          1,
          6,
          1,
          3,
          15,
          2,
          4
         ]
        },
        {
         "hoverinfo": "text",
         "hovertext": [
          "<b>Topic 11</b><br>Words: health, quo, windpipe, dpalmerston, throat",
          "<b>Topic 11</b><br>Words: sickness, wish, health, illness, wife",
          "<b>Topic 11</b><br>Words: illness, health, hypochondriasis, headache, perform",
          "<b>Topic 11</b><br>Words: health, drowsy, slept, head, weakness",
          "<b>Topic 11</b><br>Words: strength, wife, health, illness, fever",
          "<b>Topic 11</b><br>Words: webster, pecuniary, health, difficulty, illness",
          "<b>Topic 11</b><br>Words: nerve, health, week, worry, paralysis",
          "<b>Topic 11</b><br>Words: miasma, endemic, engender, humidity, latitude",
          "<b>Topic 11</b><br>Words: improved_health, brighton, journey, health, illness",
          "<b>Topic 11</b><br>Words: improved_health, health, illness, wife, fever",
          "<b>Topic 11</b><br>Words: night, health, arm, fever, pad",
          "<b>Topic 11</b><br>Words: broom, lichfield, sulivan, health, henry",
          "<b>Topic 11</b><br>Words: health, idle, bronchitis, constipation, bad",
          "<b>Topic 11</b><br>Words: wife, equanimity, betray, suffering, individual",
          "<b>Topic 11</b><br>Words: wife, sudorific, arrant, illness, time",
          "<b>Topic 11</b><br>Words: illness, health, jane, winter, week"
         ],
         "marker": {
          "color": "#D55E00"
         },
         "mode": "markers",
         "name": "11_health_illness_wife_fever",
         "type": "scatter",
         "x": [
          "1824-05-29T07:12:00",
          "1826-06-16T10:48:00",
          "1828-07-03T14:24:00",
          "1830-07-21T18:00:00",
          "1832-08-07T21:36:00",
          "1836-09-12T04:48:00",
          "1838-09-30T08:24:00",
          "1840-10-17T12:00:00",
          "1844-11-21T19:12:00",
          "1846-12-09T22:48:00",
          "1848-12-27T02:24:00",
          "1851-01-14T06:00:00",
          "1853-01-31T09:36:00",
          "1855-02-18T13:12:00",
          "1857-03-07T16:48:00",
          "1859-03-25T20:24:00"
         ],
         "y": [
          4,
          1,
          6,
          5,
          1,
          1,
          2,
          1,
          1,
          1,
          4,
          1,
          5,
          2,
          4,
          11
         ]
        },
        {
         "hoverinfo": "text",
         "hovertext": [
          "<b>Topic 12</b><br>Words: side, paris, direction, monsieur, french",
          "<b>Topic 12</b><br>Words: direction, deare, french, pearson, buntingford",
          "<b>Topic 12</b><br>Words: juin, prient, eur, soiree, mercredi",
          "<b>Topic 12</b><br>Words: side, paris, island, dominica, mosses",
          "<b>Topic 12</b><br>Words: side, paris, french, portland, bill",
          "<b>Topic 12</b><br>Words: direction, paris, side, monsieur, french",
          "<b>Topic 12</b><br>Words: paris, monsieur, publier, viens, aussi",
          "<b>Topic 12</b><br>Words: ebrington, align, sallust, idem, atque",
          "<b>Topic 12</b><br>Words: side, man, subject, paris, direction",
          "<b>Topic 12</b><br>Words: paris, cartright, reply, side, direction",
          "<b>Topic 12</b><br>Words: lumenski, decaisne, hoffmeister, observation, class",
          "<b>Topic 12</b><br>Words: paris, wooley, brook, site, flood"
         ],
         "marker": {
          "color": "#0072B2"
         },
         "mode": "markers",
         "name": "12_paris_side_direction_monsieur",
         "type": "scatter",
         "x": [
          "1820-04-09T00:53:16.800000",
          "1824-05-29T07:12:00",
          "1826-06-16T10:48:00",
          "1828-07-03T14:24:00",
          "1830-07-21T18:00:00",
          "1838-09-30T08:24:00",
          "1840-10-17T12:00:00",
          "1844-11-21T19:12:00",
          "1851-01-14T06:00:00",
          "1855-02-18T13:12:00",
          "1857-03-07T16:48:00",
          "1859-03-25T20:24:00"
         ],
         "y": [
          1,
          6,
          3,
          6,
          12,
          1,
          8,
          1,
          1,
          2,
          1,
          6
         ]
        },
        {
         "hoverinfo": "text",
         "hovertext": [
          "<b>Topic 13</b><br>Words: statement, correction, note, receipt, law_sulivan",
          "<b>Topic 13</b><br>Words: steudel, pursue, discourse, subscriber, half",
          "<b>Topic 13</b><br>Words: remittance, mean, note, desiderata, post",
          "<b>Topic 13</b><br>Words: note, attention, number, paper, correction",
          "<b>Topic 13</b><br>Words: contrive, transmutation, hble, orr, choicer",
          "<b>Topic 13</b><br>Words: remittance, stamp, receipt, subscriber, convenience",
          "<b>Topic 13</b><br>Words: confirmation, correction, transaction, note, notice",
          "<b>Topic 13</b><br>Words: correction, compiler, noterity, drier, ague",
          "<b>Topic 13</b><br>Words: compromise, notice, discourse, receipt, evidence",
          "<b>Topic 13</b><br>Words: facility, correction, error, evidence, note",
          "<b>Topic 13</b><br>Words: note, lad, reverse, receipt, text_illegible",
          "<b>Topic 13</b><br>Words: note, correction, notice, receipt, statement",
          "<b>Topic 13</b><br>Words: departm, notice, vehicle, note, record",
          "<b>Topic 13</b><br>Words: correction, edition, voorst, doctrine, note",
          "<b>Topic 13</b><br>Words: annoyance, receipt, error, recollection, mean"
         ],
         "marker": {
          "color": "#CC79A7"
         },
         "mode": "markers",
         "name": "13_note_correction_notice_receipt",
         "type": "scatter",
         "x": [
          "1824-05-29T07:12:00",
          "1826-06-16T10:48:00",
          "1828-07-03T14:24:00",
          "1830-07-21T18:00:00",
          "1832-08-07T21:36:00",
          "1834-08-26T01:12:00",
          "1838-09-30T08:24:00",
          "1840-10-17T12:00:00",
          "1844-11-21T19:12:00",
          "1846-12-09T22:48:00",
          "1851-01-14T06:00:00",
          "1853-01-31T09:36:00",
          "1855-02-18T13:12:00",
          "1857-03-07T16:48:00",
          "1859-03-25T20:24:00"
         ],
         "y": [
          9,
          2,
          2,
          2,
          3,
          2,
          1,
          4,
          3,
          2,
          4,
          2,
          5,
          3,
          2
         ]
        },
        {
         "hoverinfo": "text",
         "hovertext": [
          "<b>Topic 14</b><br>Words: bird, mules, mule, generation, cross",
          "<b>Topic 14</b><br>Words: bird, mouse, market, feather, strepera",
          "<b>Topic 14</b><br>Words: bird, vessel, box, puffing, morn",
          "<b>Topic 14</b><br>Words: bird, feather, height, pigeon, cage",
          "<b>Topic 14</b><br>Words: bird, america, birds, skins, europeans",
          "<b>Topic 14</b><br>Words: bird, caricio, falcon, hoy, mouse",
          "<b>Topic 14</b><br>Words: texas, frog, alligator, egg, speciman",
          "<b>Topic 14</b><br>Words: bird, rat, defeat, ladder, net",
          "<b>Topic 14</b><br>Words: incubation, chicken, bird, feather, america",
          "<b>Topic 14</b><br>Words: goosequill, soc, bird, feather, america",
          "<b>Topic 14</b><br>Words: bird, type, rabbit, illustrating, rodent",
          "<b>Topic 14</b><br>Words: covert, feather, wingfull, monstrosity, inc"
         ],
         "marker": {
          "color": "#E69F00"
         },
         "mode": "markers",
         "name": "14_bird_feather_america_mouse",
         "type": "scatter",
         "x": [
          "1822-05-12T03:36:00",
          "1826-06-16T10:48:00",
          "1828-07-03T14:24:00",
          "1830-07-21T18:00:00",
          "1834-08-26T01:12:00",
          "1838-09-30T08:24:00",
          "1840-10-17T12:00:00",
          "1842-11-04T15:36:00",
          "1848-12-27T02:24:00",
          "1853-01-31T09:36:00",
          "1855-02-18T13:12:00",
          "1857-03-07T16:48:00"
         ],
         "y": [
          2,
          8,
          7,
          10,
          5,
          3,
          1,
          1,
          1,
          2,
          4,
          2
         ]
        }
       ],
       "layout": {
        "height": 500,
        "hoverlabel": {
         "bgcolor": "white",
         "font": {
          "family": "Rockwell",
          "size": 16
         }
        },
        "legend": {
         "title": {
          "text": "<b>Global Topic Representation"
         }
        },
        "template": {
         "data": {
          "bar": [
           {
            "error_x": {
             "color": "rgb(36,36,36)"
            },
            "error_y": {
             "color": "rgb(36,36,36)"
            },
            "marker": {
             "line": {
              "color": "white",
              "width": 0.5
             },
             "pattern": {
              "fillmode": "overlay",
              "size": 10,
              "solidity": 0.2
             }
            },
            "type": "bar"
           }
          ],
          "barpolar": [
           {
            "marker": {
             "line": {
              "color": "white",
              "width": 0.5
             },
             "pattern": {
              "fillmode": "overlay",
              "size": 10,
              "solidity": 0.2
             }
            },
            "type": "barpolar"
           }
          ],
          "carpet": [
           {
            "aaxis": {
             "endlinecolor": "rgb(36,36,36)",
             "gridcolor": "white",
             "linecolor": "white",
             "minorgridcolor": "white",
             "startlinecolor": "rgb(36,36,36)"
            },
            "baxis": {
             "endlinecolor": "rgb(36,36,36)",
             "gridcolor": "white",
             "linecolor": "white",
             "minorgridcolor": "white",
             "startlinecolor": "rgb(36,36,36)"
            },
            "type": "carpet"
           }
          ],
          "choropleth": [
           {
            "colorbar": {
             "outlinewidth": 1,
             "tickcolor": "rgb(36,36,36)",
             "ticks": "outside"
            },
            "type": "choropleth"
           }
          ],
          "contour": [
           {
            "colorbar": {
             "outlinewidth": 1,
             "tickcolor": "rgb(36,36,36)",
             "ticks": "outside"
            },
            "colorscale": [
             [
              0,
              "#440154"
             ],
             [
              0.1111111111111111,
              "#482878"
             ],
             [
              0.2222222222222222,
              "#3e4989"
             ],
             [
              0.3333333333333333,
              "#31688e"
             ],
             [
              0.4444444444444444,
              "#26828e"
             ],
             [
              0.5555555555555556,
              "#1f9e89"
             ],
             [
              0.6666666666666666,
              "#35b779"
             ],
             [
              0.7777777777777778,
              "#6ece58"
             ],
             [
              0.8888888888888888,
              "#b5de2b"
             ],
             [
              1,
              "#fde725"
             ]
            ],
            "type": "contour"
           }
          ],
          "contourcarpet": [
           {
            "colorbar": {
             "outlinewidth": 1,
             "tickcolor": "rgb(36,36,36)",
             "ticks": "outside"
            },
            "type": "contourcarpet"
           }
          ],
          "heatmap": [
           {
            "colorbar": {
             "outlinewidth": 1,
             "tickcolor": "rgb(36,36,36)",
             "ticks": "outside"
            },
            "colorscale": [
             [
              0,
              "#440154"
             ],
             [
              0.1111111111111111,
              "#482878"
             ],
             [
              0.2222222222222222,
              "#3e4989"
             ],
             [
              0.3333333333333333,
              "#31688e"
             ],
             [
              0.4444444444444444,
              "#26828e"
             ],
             [
              0.5555555555555556,
              "#1f9e89"
             ],
             [
              0.6666666666666666,
              "#35b779"
             ],
             [
              0.7777777777777778,
              "#6ece58"
             ],
             [
              0.8888888888888888,
              "#b5de2b"
             ],
             [
              1,
              "#fde725"
             ]
            ],
            "type": "heatmap"
           }
          ],
          "heatmapgl": [
           {
            "colorbar": {
             "outlinewidth": 1,
             "tickcolor": "rgb(36,36,36)",
             "ticks": "outside"
            },
            "colorscale": [
             [
              0,
              "#440154"
             ],
             [
              0.1111111111111111,
              "#482878"
             ],
             [
              0.2222222222222222,
              "#3e4989"
             ],
             [
              0.3333333333333333,
              "#31688e"
             ],
             [
              0.4444444444444444,
              "#26828e"
             ],
             [
              0.5555555555555556,
              "#1f9e89"
             ],
             [
              0.6666666666666666,
              "#35b779"
             ],
             [
              0.7777777777777778,
              "#6ece58"
             ],
             [
              0.8888888888888888,
              "#b5de2b"
             ],
             [
              1,
              "#fde725"
             ]
            ],
            "type": "heatmapgl"
           }
          ],
          "histogram": [
           {
            "marker": {
             "line": {
              "color": "white",
              "width": 0.6
             }
            },
            "type": "histogram"
           }
          ],
          "histogram2d": [
           {
            "colorbar": {
             "outlinewidth": 1,
             "tickcolor": "rgb(36,36,36)",
             "ticks": "outside"
            },
            "colorscale": [
             [
              0,
              "#440154"
             ],
             [
              0.1111111111111111,
              "#482878"
             ],
             [
              0.2222222222222222,
              "#3e4989"
             ],
             [
              0.3333333333333333,
              "#31688e"
             ],
             [
              0.4444444444444444,
              "#26828e"
             ],
             [
              0.5555555555555556,
              "#1f9e89"
             ],
             [
              0.6666666666666666,
              "#35b779"
             ],
             [
              0.7777777777777778,
              "#6ece58"
             ],
             [
              0.8888888888888888,
              "#b5de2b"
             ],
             [
              1,
              "#fde725"
             ]
            ],
            "type": "histogram2d"
           }
          ],
          "histogram2dcontour": [
           {
            "colorbar": {
             "outlinewidth": 1,
             "tickcolor": "rgb(36,36,36)",
             "ticks": "outside"
            },
            "colorscale": [
             [
              0,
              "#440154"
             ],
             [
              0.1111111111111111,
              "#482878"
             ],
             [
              0.2222222222222222,
              "#3e4989"
             ],
             [
              0.3333333333333333,
              "#31688e"
             ],
             [
              0.4444444444444444,
              "#26828e"
             ],
             [
              0.5555555555555556,
              "#1f9e89"
             ],
             [
              0.6666666666666666,
              "#35b779"
             ],
             [
              0.7777777777777778,
              "#6ece58"
             ],
             [
              0.8888888888888888,
              "#b5de2b"
             ],
             [
              1,
              "#fde725"
             ]
            ],
            "type": "histogram2dcontour"
           }
          ],
          "mesh3d": [
           {
            "colorbar": {
             "outlinewidth": 1,
             "tickcolor": "rgb(36,36,36)",
             "ticks": "outside"
            },
            "type": "mesh3d"
           }
          ],
          "parcoords": [
           {
            "line": {
             "colorbar": {
              "outlinewidth": 1,
              "tickcolor": "rgb(36,36,36)",
              "ticks": "outside"
             }
            },
            "type": "parcoords"
           }
          ],
          "pie": [
           {
            "automargin": true,
            "type": "pie"
           }
          ],
          "scatter": [
           {
            "fillpattern": {
             "fillmode": "overlay",
             "size": 10,
             "solidity": 0.2
            },
            "type": "scatter"
           }
          ],
          "scatter3d": [
           {
            "line": {
             "colorbar": {
              "outlinewidth": 1,
              "tickcolor": "rgb(36,36,36)",
              "ticks": "outside"
             }
            },
            "marker": {
             "colorbar": {
              "outlinewidth": 1,
              "tickcolor": "rgb(36,36,36)",
              "ticks": "outside"
             }
            },
            "type": "scatter3d"
           }
          ],
          "scattercarpet": [
           {
            "marker": {
             "colorbar": {
              "outlinewidth": 1,
              "tickcolor": "rgb(36,36,36)",
              "ticks": "outside"
             }
            },
            "type": "scattercarpet"
           }
          ],
          "scattergeo": [
           {
            "marker": {
             "colorbar": {
              "outlinewidth": 1,
              "tickcolor": "rgb(36,36,36)",
              "ticks": "outside"
             }
            },
            "type": "scattergeo"
           }
          ],
          "scattergl": [
           {
            "marker": {
             "colorbar": {
              "outlinewidth": 1,
              "tickcolor": "rgb(36,36,36)",
              "ticks": "outside"
             }
            },
            "type": "scattergl"
           }
          ],
          "scattermapbox": [
           {
            "marker": {
             "colorbar": {
              "outlinewidth": 1,
              "tickcolor": "rgb(36,36,36)",
              "ticks": "outside"
             }
            },
            "type": "scattermapbox"
           }
          ],
          "scatterpolar": [
           {
            "marker": {
             "colorbar": {
              "outlinewidth": 1,
              "tickcolor": "rgb(36,36,36)",
              "ticks": "outside"
             }
            },
            "type": "scatterpolar"
           }
          ],
          "scatterpolargl": [
           {
            "marker": {
             "colorbar": {
              "outlinewidth": 1,
              "tickcolor": "rgb(36,36,36)",
              "ticks": "outside"
             }
            },
            "type": "scatterpolargl"
           }
          ],
          "scatterternary": [
           {
            "marker": {
             "colorbar": {
              "outlinewidth": 1,
              "tickcolor": "rgb(36,36,36)",
              "ticks": "outside"
             }
            },
            "type": "scatterternary"
           }
          ],
          "surface": [
           {
            "colorbar": {
             "outlinewidth": 1,
             "tickcolor": "rgb(36,36,36)",
             "ticks": "outside"
            },
            "colorscale": [
             [
              0,
              "#440154"
             ],
             [
              0.1111111111111111,
              "#482878"
             ],
             [
              0.2222222222222222,
              "#3e4989"
             ],
             [
              0.3333333333333333,
              "#31688e"
             ],
             [
              0.4444444444444444,
              "#26828e"
             ],
             [
              0.5555555555555556,
              "#1f9e89"
             ],
             [
              0.6666666666666666,
              "#35b779"
             ],
             [
              0.7777777777777778,
              "#6ece58"
             ],
             [
              0.8888888888888888,
              "#b5de2b"
             ],
             [
              1,
              "#fde725"
             ]
            ],
            "type": "surface"
           }
          ],
          "table": [
           {
            "cells": {
             "fill": {
              "color": "rgb(237,237,237)"
             },
             "line": {
              "color": "white"
             }
            },
            "header": {
             "fill": {
              "color": "rgb(217,217,217)"
             },
             "line": {
              "color": "white"
             }
            },
            "type": "table"
           }
          ]
         },
         "layout": {
          "annotationdefaults": {
           "arrowhead": 0,
           "arrowwidth": 1
          },
          "autotypenumbers": "strict",
          "coloraxis": {
           "colorbar": {
            "outlinewidth": 1,
            "tickcolor": "rgb(36,36,36)",
            "ticks": "outside"
           }
          },
          "colorscale": {
           "diverging": [
            [
             0,
             "rgb(103,0,31)"
            ],
            [
             0.1,
             "rgb(178,24,43)"
            ],
            [
             0.2,
             "rgb(214,96,77)"
            ],
            [
             0.3,
             "rgb(244,165,130)"
            ],
            [
             0.4,
             "rgb(253,219,199)"
            ],
            [
             0.5,
             "rgb(247,247,247)"
            ],
            [
             0.6,
             "rgb(209,229,240)"
            ],
            [
             0.7,
             "rgb(146,197,222)"
            ],
            [
             0.8,
             "rgb(67,147,195)"
            ],
            [
             0.9,
             "rgb(33,102,172)"
            ],
            [
             1,
             "rgb(5,48,97)"
            ]
           ],
           "sequential": [
            [
             0,
             "#440154"
            ],
            [
             0.1111111111111111,
             "#482878"
            ],
            [
             0.2222222222222222,
             "#3e4989"
            ],
            [
             0.3333333333333333,
             "#31688e"
            ],
            [
             0.4444444444444444,
             "#26828e"
            ],
            [
             0.5555555555555556,
             "#1f9e89"
            ],
            [
             0.6666666666666666,
             "#35b779"
            ],
            [
             0.7777777777777778,
             "#6ece58"
            ],
            [
             0.8888888888888888,
             "#b5de2b"
            ],
            [
             1,
             "#fde725"
            ]
           ],
           "sequentialminus": [
            [
             0,
             "#440154"
            ],
            [
             0.1111111111111111,
             "#482878"
            ],
            [
             0.2222222222222222,
             "#3e4989"
            ],
            [
             0.3333333333333333,
             "#31688e"
            ],
            [
             0.4444444444444444,
             "#26828e"
            ],
            [
             0.5555555555555556,
             "#1f9e89"
            ],
            [
             0.6666666666666666,
             "#35b779"
            ],
            [
             0.7777777777777778,
             "#6ece58"
            ],
            [
             0.8888888888888888,
             "#b5de2b"
            ],
            [
             1,
             "#fde725"
            ]
           ]
          },
          "colorway": [
           "#1F77B4",
           "#FF7F0E",
           "#2CA02C",
           "#D62728",
           "#9467BD",
           "#8C564B",
           "#E377C2",
           "#7F7F7F",
           "#BCBD22",
           "#17BECF"
          ],
          "font": {
           "color": "rgb(36,36,36)"
          },
          "geo": {
           "bgcolor": "white",
           "lakecolor": "white",
           "landcolor": "white",
           "showlakes": true,
           "showland": true,
           "subunitcolor": "white"
          },
          "hoverlabel": {
           "align": "left"
          },
          "hovermode": "closest",
          "mapbox": {
           "style": "light"
          },
          "paper_bgcolor": "white",
          "plot_bgcolor": "white",
          "polar": {
           "angularaxis": {
            "gridcolor": "rgb(232,232,232)",
            "linecolor": "rgb(36,36,36)",
            "showgrid": false,
            "showline": true,
            "ticks": "outside"
           },
           "bgcolor": "white",
           "radialaxis": {
            "gridcolor": "rgb(232,232,232)",
            "linecolor": "rgb(36,36,36)",
            "showgrid": false,
            "showline": true,
            "ticks": "outside"
           }
          },
          "scene": {
           "xaxis": {
            "backgroundcolor": "white",
            "gridcolor": "rgb(232,232,232)",
            "gridwidth": 2,
            "linecolor": "rgb(36,36,36)",
            "showbackground": true,
            "showgrid": false,
            "showline": true,
            "ticks": "outside",
            "zeroline": false,
            "zerolinecolor": "rgb(36,36,36)"
           },
           "yaxis": {
            "backgroundcolor": "white",
            "gridcolor": "rgb(232,232,232)",
            "gridwidth": 2,
            "linecolor": "rgb(36,36,36)",
            "showbackground": true,
            "showgrid": false,
            "showline": true,
            "ticks": "outside",
            "zeroline": false,
            "zerolinecolor": "rgb(36,36,36)"
           },
           "zaxis": {
            "backgroundcolor": "white",
            "gridcolor": "rgb(232,232,232)",
            "gridwidth": 2,
            "linecolor": "rgb(36,36,36)",
            "showbackground": true,
            "showgrid": false,
            "showline": true,
            "ticks": "outside",
            "zeroline": false,
            "zerolinecolor": "rgb(36,36,36)"
           }
          },
          "shapedefaults": {
           "fillcolor": "black",
           "line": {
            "width": 0
           },
           "opacity": 0.3
          },
          "ternary": {
           "aaxis": {
            "gridcolor": "rgb(232,232,232)",
            "linecolor": "rgb(36,36,36)",
            "showgrid": false,
            "showline": true,
            "ticks": "outside"
           },
           "baxis": {
            "gridcolor": "rgb(232,232,232)",
            "linecolor": "rgb(36,36,36)",
            "showgrid": false,
            "showline": true,
            "ticks": "outside"
           },
           "bgcolor": "white",
           "caxis": {
            "gridcolor": "rgb(232,232,232)",
            "linecolor": "rgb(36,36,36)",
            "showgrid": false,
            "showline": true,
            "ticks": "outside"
           }
          },
          "title": {
           "x": 0.05
          },
          "xaxis": {
           "automargin": true,
           "gridcolor": "rgb(232,232,232)",
           "linecolor": "rgb(36,36,36)",
           "showgrid": false,
           "showline": true,
           "ticks": "outside",
           "title": {
            "standoff": 15
           },
           "zeroline": false,
           "zerolinecolor": "rgb(36,36,36)"
          },
          "yaxis": {
           "automargin": true,
           "gridcolor": "rgb(232,232,232)",
           "linecolor": "rgb(36,36,36)",
           "showgrid": false,
           "showline": true,
           "ticks": "outside",
           "title": {
            "standoff": 15
           },
           "zeroline": false,
           "zerolinecolor": "rgb(36,36,36)"
          }
         }
        },
        "title": {
         "font": {
          "color": "Black",
          "size": 22
         },
         "text": "<b>Topics over Time</b>",
         "x": 0.4,
         "xanchor": "center",
         "y": 0.95,
         "yanchor": "top"
        },
        "width": 1000,
        "xaxis": {
         "showgrid": true
        },
        "yaxis": {
         "showgrid": true,
         "title": {
          "text": "Count"
         }
        }
       }
      },
      "text/html": [
       "<div>                            <div id=\"4df5010b-b8e2-4d7c-bb64-0f080a4ac5b6\" class=\"plotly-graph-div\" style=\"height:500px; width:1000px;\"></div>            <script type=\"text/javascript\">                require([\"plotly\"], function(Plotly) {                    window.PLOTLYENV=window.PLOTLYENV || {};                                    if (document.getElementById(\"4df5010b-b8e2-4d7c-bb64-0f080a4ac5b6\")) {                    Plotly.newPlot(                        \"4df5010b-b8e2-4d7c-bb64-0f080a4ac5b6\",                        [{\"hoverinfo\":\"text\",\"hovertext\":[\"\\u003cb\\u003eTopic 0\\u003c\\u002fb\\u003e\\u003cbr\\u003eWords: mot, satr, flattish, amm, clarke\",\"\\u003cb\\u003eTopic 0\\u003c\\u002fb\\u003e\\u003cbr\\u003eWords: prince, crescent, bankes, neglectful, octobre\",\"\\u003cb\\u003eTopic 0\\u003c\\u002fb\\u003e\\u003cbr\\u003eWords: palmerston, committee, sincerely_palmerston, feb, brother\",\"\\u003cb\\u003eTopic 0\\u003c\\u002fb\\u003e\\u003cbr\\u003eWords: course, lecture, cambridge, museum, edinburgh\",\"\\u003cb\\u003eTopic 0\\u003c\\u002fb\\u003e\\u003cbr\\u003eWords: chairman, graham, london, brother, scotland\",\"\\u003cb\\u003eTopic 0\\u003c\\u002fb\\u003e\\u003cbr\\u003eWords: brother, haste, museum, smith, cambridge\",\"\\u003cb\\u003eTopic 0\\u003c\\u002fb\\u003e\\u003cbr\\u003eWords: fitz, roy, capt, brother, agent\",\"\\u003cb\\u003eTopic 0\\u003c\\u002fb\\u003e\\u003cbr\\u003eWords: audubon, john, biog, stephens, james\",\"\\u003cb\\u003eTopic 0\\u003c\\u002fb\\u003e\\u003cbr\\u003eWords: favor, yellow, carrying, talbot, chippenham\",\"\\u003cb\\u003eTopic 0\\u003c\\u002fb\\u003e\\u003cbr\\u003eWords: museum, library_mss, curator, phil, american\",\"\\u003cb\\u003eTopic 0\\u003c\\u002fb\\u003e\\u003cbr\\u003eWords: british_association, institution, dinorni, simms, bron\",\"\\u003cb\\u003eTopic 0\\u003c\\u002fb\\u003e\\u003cbr\\u003eWords: effectual, diarrhoea, ringham, goodman, pleasurable\",\"\\u003cb\\u003eTopic 0\\u003c\\u002fb\\u003e\\u003cbr\\u003eWords: coleman, integrity, cave, smith, museum\",\"\\u003cb\\u003eTopic 0\\u003c\\u002fb\\u003e\\u003cbr\\u003eWords: queen, campbell, university, commissioner, reform\",\"\\u003cb\\u003eTopic 0\\u003c\\u002fb\\u003e\\u003cbr\\u003eWords: museum, cambridge, ipswich, old, zinoke\",\"\\u003cb\\u003eTopic 0\\u003c\\u002fb\\u003e\\u003cbr\\u003eWords: museum, moseley, henry, nomination, cadetship\",\"\\u003cb\\u003eTopic 0\\u003c\\u002fb\\u003e\\u003cbr\\u003eWords: museum, park, remove, west_regent, crag\",\"\\u003cb\\u003eTopic 0\\u003c\\u002fb\\u003e\\u003cbr\\u003eWords: museum, london, park, september, lecture\",\"\\u003cb\\u003eTopic 0\\u003c\\u002fb\\u003e\\u003cbr\\u003eWords: museum, kensington, london, brother, art\",\"\\u003cb\\u003eTopic 0\\u003c\\u002fb\\u003e\\u003cbr\\u003eWords: museum, british, london, congratulation, sister\"],\"marker\":{\"color\":\"#E69F00\"},\"mode\":\"markers\",\"name\":\"0_museum_brother_london_cambridge\",\"x\":[\"1820-04-09T00:53:16.800000\",\"1822-05-12T03:36:00\",\"1824-05-29T07:12:00\",\"1826-06-16T10:48:00\",\"1828-07-03T14:24:00\",\"1830-07-21T18:00:00\",\"1832-08-07T21:36:00\",\"1834-08-26T01:12:00\",\"1836-09-12T04:48:00\",\"1838-09-30T08:24:00\",\"1840-10-17T12:00:00\",\"1842-11-04T15:36:00\",\"1844-11-21T19:12:00\",\"1846-12-09T22:48:00\",\"1848-12-27T02:24:00\",\"1851-01-14T06:00:00\",\"1853-01-31T09:36:00\",\"1855-02-18T13:12:00\",\"1857-03-07T16:48:00\",\"1859-03-25T20:24:00\"],\"y\":[5,12,261,93,101,126,19,18,9,35,27,16,28,17,67,44,66,167,88,77],\"type\":\"scatter\"},{\"hoverinfo\":\"text\",\"hovertext\":[\"\\u003cb\\u003eTopic 1\\u003c\\u002fb\\u003e\\u003cbr\\u003eWords: entrochi, scoticu, nautilus, caryophyllea, pentacrinitis\",\"\\u003cb\\u003eTopic 1\\u003c\\u002fb\\u003e\\u003cbr\\u003eWords: maritima, orchis, plant, media, verbenaca\",\"\\u003cb\\u003eTopic 1\\u003c\\u002fb\\u003e\\u003cbr\\u003eWords: specimen, plant, seed, flora, common\",\"\\u003cb\\u003eTopic 1\\u003c\\u002fb\\u003e\\u003cbr\\u003eWords: palustris, herbarium, arvensis, flora, latifolia\",\"\\u003cb\\u003eTopic 1\\u003c\\u002fb\\u003e\\u003cbr\\u003eWords: arvensis, palustris, vulgaris, flora, fruit\",\"\\u003cb\\u003eTopic 1\\u003c\\u002fb\\u003e\\u003cbr\\u003eWords: seed, crossed_pencil, flower, herbarium, fruit\",\"\\u003cb\\u003eTopic 1\\u003c\\u002fb\\u003e\\u003cbr\\u003eWords: flora, plena, supernumerary, goodyera, macrophylla\",\"\\u003cb\\u003eTopic 1\\u003c\\u002fb\\u003e\\u003cbr\\u003eWords: ed, society, plant, seed, flora\",\"\\u003cb\\u003eTopic 1\\u003c\\u002fb\\u003e\\u003cbr\\u003eWords: alpinus, clathiatus, nuphaea, scheureria, crenata\",\"\\u003cb\\u003eTopic 1\\u003c\\u002fb\\u003e\\u003cbr\\u003eWords: seed, crocus, hose, seedling, fruit\",\"\\u003cb\\u003eTopic 1\\u003c\\u002fb\\u003e\\u003cbr\\u003eWords: sigillaria, torrey, flora, princeton, structure\",\"\\u003cb\\u003eTopic 1\\u003c\\u002fb\\u003e\\u003cbr\\u003eWords: pine, babiana, obstinate, brunswickia, deodar\",\"\\u003cb\\u003eTopic 1\\u003c\\u002fb\\u003e\\u003cbr\\u003eWords: cowslip, polyanthu, brunners, pitmaston, anoplotherium\",\"\\u003cb\\u003eTopic 1\\u003c\\u002fb\\u003e\\u003cbr\\u003eWords: precaution, faith, trial, change, botanist\",\"\\u003cb\\u003eTopic 1\\u003c\\u002fb\\u003e\\u003cbr\\u003eWords: periculo, truncata, fugacissima, meo, dillwyn\",\"\\u003cb\\u003eTopic 1\\u003c\\u002fb\\u003e\\u003cbr\\u003eWords: annal, founder, bewick, bewickshire, zoophytes\",\"\\u003cb\\u003eTopic 1\\u003c\\u002fb\\u003e\\u003cbr\\u003eWords: naumann, glucium, thread, envelope, stamen\",\"\\u003cb\\u003eTopic 1\\u003c\\u002fb\\u003e\\u003cbr\\u003eWords: glastonbury, unedo, flora, carniv, ala\",\"\\u003cb\\u003eTopic 1\\u003c\\u002fb\\u003e\\u003cbr\\u003eWords: botany, seed, kensington, enquiry, herbarium\",\"\\u003cb\\u003eTopic 1\\u003c\\u002fb\\u003e\\u003cbr\\u003eWords: botany, curriculum, lamarck, fruit, anthoceros\"],\"marker\":{\"color\":\"#56B4E9\"},\"mode\":\"markers\",\"name\":\"1_seed_flora_botany_arvensis\",\"x\":[\"1820-04-09T00:53:16.800000\",\"1822-05-12T03:36:00\",\"1824-05-29T07:12:00\",\"1826-06-16T10:48:00\",\"1828-07-03T14:24:00\",\"1830-07-21T18:00:00\",\"1832-08-07T21:36:00\",\"1834-08-26T01:12:00\",\"1836-09-12T04:48:00\",\"1838-09-30T08:24:00\",\"1840-10-17T12:00:00\",\"1842-11-04T15:36:00\",\"1844-11-21T19:12:00\",\"1846-12-09T22:48:00\",\"1848-12-27T02:24:00\",\"1851-01-14T06:00:00\",\"1853-01-31T09:36:00\",\"1855-02-18T13:12:00\",\"1857-03-07T16:48:00\",\"1859-03-25T20:24:00\"],\"y\":[7,9,41,92,152,131,7,1,3,26,16,3,5,1,3,6,2,16,13,17],\"type\":\"scatter\"},{\"hoverinfo\":\"text\",\"hovertext\":[\"\\u003cb\\u003eTopic 2\\u003c\\u002fb\\u003e\\u003cbr\\u003eWords: favour, attention, opinion, kindness, satisfaction\",\"\\u003cb\\u003eTopic 2\\u003c\\u002fb\\u003e\\u003cbr\\u003eWords: slavery, opinion, compliment, extinction, carrighan\",\"\\u003cb\\u003eTopic 2\\u003c\\u002fb\\u003e\\u003cbr\\u003eWords: satisfaction, chapel, compliment, accentor, bracvic\",\"\\u003cb\\u003eTopic 2\\u003c\\u002fb\\u003e\\u003cbr\\u003eWords: kindness, attention, satisfaction, selection, comfort\",\"\\u003cb\\u003eTopic 2\\u003c\\u002fb\\u003e\\u003cbr\\u003eWords: opinion, satisfaction, pulpit, chapel, admiration\",\"\\u003cb\\u003eTopic 2\\u003c\\u002fb\\u003e\\u003cbr\\u003eWords: persuasion, endogenae, dictionary, cohort, embrace\",\"\\u003cb\\u003eTopic 2\\u003c\\u002fb\\u003e\\u003cbr\\u003eWords: exertion, defender, concur, review, attention\",\"\\u003cb\\u003eTopic 2\\u003c\\u002fb\\u003e\\u003cbr\\u003eWords: yate, charle, sentiment, compliment, satisfaction\",\"\\u003cb\\u003eTopic 2\\u003c\\u002fb\\u003e\\u003cbr\\u003eWords: correctness, testimony, calumny, theological, orthodox\",\"\\u003cb\\u003eTopic 2\\u003c\\u002fb\\u003e\\u003cbr\\u003eWords: opinion, entail, selbourne, intermittent, paragraph\",\"\\u003cb\\u003eTopic 2\\u003c\\u002fb\\u003e\\u003cbr\\u003eWords: club, everett, glostershire, advocate, presence\",\"\\u003cb\\u003eTopic 2\\u003c\\u002fb\\u003e\\u003cbr\\u003eWords: poverty, wealth, crime, ignorance, opinion\",\"\\u003cb\\u003eTopic 2\\u003c\\u002fb\\u003e\\u003cbr\\u003eWords: distraction, bacon, church, kindness, business\",\"\\u003cb\\u003eTopic 2\\u003c\\u002fb\\u003e\\u003cbr\\u003eWords: church, feeling, apostle, opinion, catechism\",\"\\u003cb\\u003eTopic 2\\u003c\\u002fb\\u003e\\u003cbr\\u003eWords: knowledge, humbler, dissenter, cocoon, affectation\",\"\\u003cb\\u003eTopic 2\\u003c\\u002fb\\u003e\\u003cbr\\u003eWords: knowledge, science, kewians, calamity, stocking\",\"\\u003cb\\u003eTopic 2\\u003c\\u002fb\\u003e\\u003cbr\\u003eWords: clergyman, impression, parishioner, happiness, opinion\",\"\\u003cb\\u003eTopic 2\\u003c\\u002fb\\u003e\\u003cbr\\u003eWords: opinion, church, success, parishoner, kindness\",\"\\u003cb\\u003eTopic 2\\u003c\\u002fb\\u003e\\u003cbr\\u003eWords: advantage, compensate, foster, indispensible, reader\"],\"marker\":{\"color\":\"#009E73\"},\"mode\":\"markers\",\"name\":\"2_opinion_kindness_satisfaction_knowledg...\",\"x\":[\"1822-05-12T03:36:00\",\"1824-05-29T07:12:00\",\"1826-06-16T10:48:00\",\"1828-07-03T14:24:00\",\"1830-07-21T18:00:00\",\"1832-08-07T21:36:00\",\"1834-08-26T01:12:00\",\"1836-09-12T04:48:00\",\"1838-09-30T08:24:00\",\"1840-10-17T12:00:00\",\"1842-11-04T15:36:00\",\"1844-11-21T19:12:00\",\"1846-12-09T22:48:00\",\"1848-12-27T02:24:00\",\"1851-01-14T06:00:00\",\"1853-01-31T09:36:00\",\"1855-02-18T13:12:00\",\"1857-03-07T16:48:00\",\"1859-03-25T20:24:00\"],\"y\":[1,19,13,30,23,3,6,3,4,6,4,18,1,13,7,9,41,25,6],\"type\":\"scatter\"},{\"hoverinfo\":\"text\",\"hovertext\":[\"\\u003cb\\u003eTopic 3\\u003c\\u002fb\\u003e\\u003cbr\\u003eWords: parcell, mead, lambeth, fossil, help\",\"\\u003cb\\u003eTopic 3\\u003c\\u002fb\\u003e\\u003cbr\\u003eWords: cavern, partition, granite, thereabout, slay\",\"\\u003cb\\u003eTopic 3\\u003c\\u002fb\\u003e\\u003cbr\\u003eWords: shag, premium, singular, mineralogist, norway\",\"\\u003cb\\u003eTopic 3\\u003c\\u002fb\\u003e\\u003cbr\\u003eWords: henderson, cromer, masse, slate, patch\",\"\\u003cb\\u003eTopic 3\\u003c\\u002fb\\u003e\\u003cbr\\u003eWords: limestone, river, fossil, precipice, curve\",\"\\u003cb\\u003eTopic 3\\u003c\\u002fb\\u003e\\u003cbr\\u003eWords: diluvium, clay, chalk, front, pebble\",\"\\u003cb\\u003eTopic 3\\u003c\\u002fb\\u003e\\u003cbr\\u003eWords: dirt, portland, forest, isle, acceptance\",\"\\u003cb\\u003eTopic 3\\u003c\\u002fb\\u003e\\u003cbr\\u003eWords: fossil, figd, anstice, asterophyllite, leaflet\",\"\\u003cb\\u003eTopic 3\\u003c\\u002fb\\u003e\\u003cbr\\u003eWords: fossil, quil, doute, livraison, bien\",\"\\u003cb\\u003eTopic 3\\u003c\\u002fb\\u003e\\u003cbr\\u003eWords: fossil, mentioning, calculating, streak, owens\",\"\\u003cb\\u003eTopic 3\\u003c\\u002fb\\u003e\\u003cbr\\u003eWords: ridge, fault, chalk, coast, vein\",\"\\u003cb\\u003eTopic 3\\u003c\\u002fb\\u003e\\u003cbr\\u003eWords: epoch, pliocene, fossil, miocene, coraline\",\"\\u003cb\\u003eTopic 3\\u003c\\u002fb\\u003e\\u003cbr\\u003eWords: fossil, inclination, depth, prestwich, wetherell\",\"\\u003cb\\u003eTopic 3\\u003c\\u002fb\\u003e\\u003cbr\\u003eWords: fossil, crag, skull, london_clay, breed\",\"\\u003cb\\u003eTopic 3\\u003c\\u002fb\\u003e\\u003cbr\\u003eWords: fossil, geologist, goodwood, tray, foramenifera\",\"\\u003cb\\u003eTopic 3\\u003c\\u002fb\\u003e\\u003cbr\\u003eWords: fossil, pit, depth, surface, foot\"],\"marker\":{\"color\":\"#F0E442\"},\"mode\":\"markers\",\"name\":\"3_fossil_pit_chalk_crag\",\"x\":[\"1820-04-09T00:53:16.800000\",\"1824-05-29T07:12:00\",\"1826-06-16T10:48:00\",\"1828-07-03T14:24:00\",\"1830-07-21T18:00:00\",\"1832-08-07T21:36:00\",\"1834-08-26T01:12:00\",\"1838-09-30T08:24:00\",\"1840-10-17T12:00:00\",\"1844-11-21T19:12:00\",\"1848-12-27T02:24:00\",\"1851-01-14T06:00:00\",\"1853-01-31T09:36:00\",\"1855-02-18T13:12:00\",\"1857-03-07T16:48:00\",\"1859-03-25T20:24:00\"],\"y\":[2,1,2,3,5,4,1,15,8,4,4,6,6,13,9,9],\"type\":\"scatter\"},{\"hoverinfo\":\"text\",\"hovertext\":[\"\\u003cb\\u003eTopic 4\\u003c\\u002fb\\u003e\\u003cbr\\u003eWords: insect, bombyx, larvae, dale, entomology\",\"\\u003cb\\u003eTopic 4\\u003c\\u002fb\\u003e\\u003cbr\\u003eWords: insect, mollusca, grove, obligation, entomology\",\"\\u003cb\\u003eTopic 4\\u003c\\u002fb\\u003e\\u003cbr\\u003eWords: insect, entomology, yorkshire, bug, latreille\",\"\\u003cb\\u003eTopic 4\\u003c\\u002fb\\u003e\\u003cbr\\u003eWords: insect, beetle, slug, valdivia, meigan\",\"\\u003cb\\u003eTopic 4\\u003c\\u002fb\\u003e\\u003cbr\\u003eWords: insect, hobby, entomology, collector, scotch\",\"\\u003cb\\u003eTopic 4\\u003c\\u002fb\\u003e\\u003cbr\\u003eWords: hawthorne, permit, entomology, accompany, wood\",\"\\u003cb\\u003eTopic 4\\u003c\\u002fb\\u003e\\u003cbr\\u003eWords: camomile, wasp, fly, turpentine, hop\",\"\\u003cb\\u003eTopic 4\\u003c\\u002fb\\u003e\\u003cbr\\u003eWords: insect, beam, aphid, hop, bean\",\"\\u003cb\\u003eTopic 4\\u003c\\u002fb\\u003e\\u003cbr\\u003eWords: insect, entomologist, dog, fauna, kennel\",\"\\u003cb\\u003eTopic 4\\u003c\\u002fb\\u003e\\u003cbr\\u003eWords: insect, museum, entomology, entomologist, larva\",\"\\u003cb\\u003eTopic 4\\u003c\\u002fb\\u003e\\u003cbr\\u003eWords: sessile, annelide, eyed, diptera, philo\",\"\\u003cb\\u003eTopic 4\\u003c\\u002fb\\u003e\\u003cbr\\u003eWords: insect, westwood, crustacea, insecta, wollaston\",\"\\u003cb\\u003eTopic 4\\u003c\\u002fb\\u003e\\u003cbr\\u003eWords: larva, entomology, insect, teazle, moth\",\"\\u003cb\\u003eTopic 4\\u003c\\u002fb\\u003e\\u003cbr\\u003eWords: insect, nepticula, larva, entomologist, entomology\"],\"marker\":{\"color\":\"#D55E00\"},\"mode\":\"markers\",\"name\":\"4_insect_entomology_entomologist_larva\",\"x\":[\"1824-05-29T07:12:00\",\"1826-06-16T10:48:00\",\"1828-07-03T14:24:00\",\"1830-07-21T18:00:00\",\"1836-09-12T04:48:00\",\"1838-09-30T08:24:00\",\"1842-11-04T15:36:00\",\"1846-12-09T22:48:00\",\"1848-12-27T02:24:00\",\"1851-01-14T06:00:00\",\"1853-01-31T09:36:00\",\"1855-02-18T13:12:00\",\"1857-03-07T16:48:00\",\"1859-03-25T20:24:00\"],\"y\":[9,7,13,4,2,1,2,6,5,1,2,10,3,6],\"type\":\"scatter\"},{\"hoverinfo\":\"text\",\"hovertext\":[\"\\u003cb\\u003eTopic 5\\u003c\\u002fb\\u003e\\u003cbr\\u003eWords: erection, fracture, room, house, home\",\"\\u003cb\\u003eTopic 5\\u003c\\u002fb\\u003e\\u003cbr\\u003eWords: room, house, home, flat, intend\",\"\\u003cb\\u003eTopic 5\\u003c\\u002fb\\u003e\\u003cbr\\u003eWords: resident, goodall, eton, wait, recommendation\",\"\\u003cb\\u003eTopic 5\\u003c\\u002fb\\u003e\\u003cbr\\u003eWords: house, home, trespass, cray, clothing\",\"\\u003cb\\u003eTopic 5\\u003c\\u002fb\\u003e\\u003cbr\\u003eWords: house, whitwell, sanctum, maynard, hovingham\",\"\\u003cb\\u003eTopic 5\\u003c\\u002fb\\u003e\\u003cbr\\u003eWords: home, permission, care, house, room\",\"\\u003cb\\u003eTopic 5\\u003c\\u002fb\\u003e\\u003cbr\\u003eWords: lamentation, house, home, room, cottage\",\"\\u003cb\\u003eTopic 5\\u003c\\u002fb\\u003e\\u003cbr\\u003eWords: match, respect, house, home, room\",\"\\u003cb\\u003eTopic 5\\u003c\\u002fb\\u003e\\u003cbr\\u003eWords: bother, goddaughter, kiss, home, house\",\"\\u003cb\\u003eTopic 5\\u003c\\u002fb\\u003e\\u003cbr\\u003eWords: balaklava, occupation, fellow, dinner, possession\",\"\\u003cb\\u003eTopic 5\\u003c\\u002fb\\u003e\\u003cbr\\u003eWords: cottage, home, house, taste, throne\",\"\\u003cb\\u003eTopic 5\\u003c\\u002fb\\u003e\\u003cbr\\u003eWords: tea, home, lunch, baby, libitum\",\"\\u003cb\\u003eTopic 5\\u003c\\u002fb\\u003e\\u003cbr\\u003eWords: house, home, cottage, residence, mid\"],\"marker\":{\"color\":\"#0072B2\"},\"mode\":\"markers\",\"name\":\"5_house_home_room_cottage\",\"x\":[\"1822-05-12T03:36:00\",\"1824-05-29T07:12:00\",\"1826-06-16T10:48:00\",\"1828-07-03T14:24:00\",\"1830-07-21T18:00:00\",\"1832-08-07T21:36:00\",\"1838-09-30T08:24:00\",\"1846-12-09T22:48:00\",\"1848-12-27T02:24:00\",\"1853-01-31T09:36:00\",\"1855-02-18T13:12:00\",\"1857-03-07T16:48:00\",\"1859-03-25T20:24:00\"],\"y\":[2,11,4,10,7,2,1,1,4,2,8,7,9],\"type\":\"scatter\"},{\"hoverinfo\":\"text\",\"hovertext\":[\"\\u003cb\\u003eTopic 6\\u003c\\u002fb\\u003e\\u003cbr\\u003eWords: election, vote, voter, poll, number\",\"\\u003cb\\u003eTopic 6\\u003c\\u002fb\\u003e\\u003cbr\\u003eWords: voter, vote, election, expense, measure\",\"\\u003cb\\u003eTopic 6\\u003c\\u002fb\\u003e\\u003cbr\\u003eWords: thanking, silence, election, intelligence, cause\",\"\\u003cb\\u003eTopic 6\\u003c\\u002fb\\u003e\\u003cbr\\u003eWords: leader, contributor, support, party, election\",\"\\u003cb\\u003eTopic 6\\u003c\\u002fb\\u003e\\u003cbr\\u003eWords: morpeth, walkover, probability, west, election\",\"\\u003cb\\u003eTopic 6\\u003c\\u002fb\\u003e\\u003cbr\\u003eWords: minority, poll, election, vote, voter\",\"\\u003cb\\u003eTopic 6\\u003c\\u002fb\\u003e\\u003cbr\\u003eWords: truly_spence, election, illeg, favour, weather\"],\"marker\":{\"color\":\"#CC79A7\"},\"mode\":\"markers\",\"name\":\"6_election_vote_voter_poll\",\"x\":[\"1824-05-29T07:12:00\",\"1826-06-16T10:48:00\",\"1830-07-21T18:00:00\",\"1836-09-12T04:48:00\",\"1844-11-21T19:12:00\",\"1848-12-27T02:24:00\",\"1859-03-25T20:24:00\"],\"y\":[53,7,1,1,1,2,2],\"type\":\"scatter\"},{\"hoverinfo\":\"text\",\"hovertext\":[\"\\u003cb\\u003eTopic 7\\u003c\\u002fb\\u003e\\u003cbr\\u003eWords: goodness, manner, result, examination, evening\",\"\\u003cb\\u003eTopic 7\\u003c\\u002fb\\u003e\\u003cbr\\u003eWords: portsmouth, kimbolton, col, us, specimen\",\"\\u003cb\\u003eTopic 7\\u003c\\u002fb\\u003e\\u003cbr\\u003eWords: cryptogamic, specimen, side, collection, microscope\",\"\\u003cb\\u003eTopic 7\\u003c\\u002fb\\u003e\\u003cbr\\u003eWords: specimen, subscription, cape, brazilian, martius\",\"\\u003cb\\u003eTopic 7\\u003c\\u002fb\\u003e\\u003cbr\\u003eWords: specimen, dec, duplicate, clerum, autograph\",\"\\u003cb\\u003eTopic 7\\u003c\\u002fb\\u003e\\u003cbr\\u003eWords: specimen, septentrionale, clapham, tweed, asplenium\",\"\\u003cb\\u003eTopic 7\\u003c\\u002fb\\u003e\\u003cbr\\u003eWords: specimen, unite, value, cohort, repair\",\"\\u003cb\\u003eTopic 7\\u003c\\u002fb\\u003e\\u003cbr\\u003eWords: spot, size, specimen, microscope, subscription\",\"\\u003cb\\u003eTopic 7\\u003c\\u002fb\\u003e\\u003cbr\\u003eWords: microscope, opake, sic, inform, effect\",\"\\u003cb\\u003eTopic 7\\u003c\\u002fb\\u003e\\u003cbr\\u003eWords: definition, lonsdale, specimen, cabinet, alteration\",\"\\u003cb\\u003eTopic 7\\u003c\\u002fb\\u003e\\u003cbr\\u003eWords: coutance, specimen, microscope, subscription, cape\",\"\\u003cb\\u003eTopic 7\\u003c\\u002fb\\u003e\\u003cbr\\u003eWords: specimen, congo, brasss, collections, break\",\"\\u003cb\\u003eTopic 7\\u003c\\u002fb\\u003e\\u003cbr\\u003eWords: method, procuring, specimen, hitherto, illustration\",\"\\u003cb\\u003eTopic 7\\u003c\\u002fb\\u003e\\u003cbr\\u003eWords: swallow, specimen, choice, nest, establishment\",\"\\u003cb\\u003eTopic 7\\u003c\\u002fb\\u003e\\u003cbr\\u003eWords: specimen, blank, ashburton, microscope, batata\",\"\\u003cb\\u003eTopic 7\\u003c\\u002fb\\u003e\\u003cbr\\u003eWords: specimen, chislet, injury, cliff, judge\",\"\\u003cb\\u003eTopic 7\\u003c\\u002fb\\u003e\\u003cbr\\u003eWords: relish, charlesworth, specimen, brown, weight\"],\"marker\":{\"color\":\"#E69F00\"},\"mode\":\"markers\",\"name\":\"7_specimen_microscope_subscription_cape\",\"x\":[\"1820-04-09T00:53:16.800000\",\"1822-05-12T03:36:00\",\"1824-05-29T07:12:00\",\"1826-06-16T10:48:00\",\"1828-07-03T14:24:00\",\"1830-07-21T18:00:00\",\"1832-08-07T21:36:00\",\"1836-09-12T04:48:00\",\"1838-09-30T08:24:00\",\"1840-10-17T12:00:00\",\"1842-11-04T15:36:00\",\"1844-11-21T19:12:00\",\"1851-01-14T06:00:00\",\"1853-01-31T09:36:00\",\"1855-02-18T13:12:00\",\"1857-03-07T16:48:00\",\"1859-03-25T20:24:00\"],\"y\":[1,2,2,10,13,14,5,1,2,1,1,2,2,2,5,3,1],\"type\":\"scatter\"},{\"hoverinfo\":\"text\",\"hovertext\":[\"\\u003cb\\u003eTopic 8\\u003c\\u002fb\\u003e\\u003cbr\\u003eWords: copley, banke, plumper, goulburn, exchange\",\"\\u003cb\\u003eTopic 8\\u003c\\u002fb\\u003e\\u003cbr\\u003eWords: godson, copley, goulburn, greenwood, barrett\",\"\\u003cb\\u003eTopic 8\\u003c\\u002fb\\u003e\\u003cbr\\u003eWords: achille, reg, comte, tableaux, baillieu\",\"\\u003cb\\u003eTopic 8\\u003c\\u002fb\\u003e\\u003cbr\\u003eWords: goulburn, henry, copley, banke, plumper\",\"\\u003cb\\u003eTopic 8\\u003c\\u002fb\\u003e\\u003cbr\\u003eWords: notitia, othonacester, juxta, ythancester, peters\"],\"marker\":{\"color\":\"#56B4E9\"},\"mode\":\"markers\",\"name\":\"8_copley_banke_plumper_goulburn\",\"x\":[\"1824-05-29T07:12:00\",\"1826-06-16T10:48:00\",\"1840-10-17T12:00:00\",\"1844-11-21T19:12:00\",\"1846-12-09T22:48:00\"],\"y\":[61,2,1,1,1],\"type\":\"scatter\"},{\"hoverinfo\":\"text\",\"hovertext\":[\"\\u003cb\\u003eTopic 9\\u003c\\u002fb\\u003e\\u003cbr\\u003eWords: affair, hooker, lady, playfair, bunbury\",\"\\u003cb\\u003eTopic 9\\u003c\\u002fb\\u003e\\u003cbr\\u003eWords: hooker, aberdeenshire, icones, filicum, arcuata\",\"\\u003cb\\u003eTopic 9\\u003c\\u002fb\\u003e\\u003cbr\\u003eWords: hooker, hotel, devil, twopenny, haldane\",\"\\u003cb\\u003eTopic 9\\u003c\\u002fb\\u003e\\u003cbr\\u003eWords: hooker, suberectus, fork, juice, mistaken\",\"\\u003cb\\u003eTopic 9\\u003c\\u002fb\\u003e\\u003cbr\\u003eWords: intercourse, hooker, lady, playfair, bunbury\",\"\\u003cb\\u003eTopic 9\\u003c\\u002fb\\u003e\\u003cbr\\u003eWords: hooker, parcel, day, lady, playfair\",\"\\u003cb\\u003eTopic 9\\u003c\\u002fb\\u003e\\u003cbr\\u003eWords: miscellany, hooker, lady, playfair, bunbury\",\"\\u003cb\\u003eTopic 9\\u003c\\u002fb\\u003e\\u003cbr\\u003eWords: chas, suit, hooker, lady, playfair\",\"\\u003cb\\u003eTopic 9\\u003c\\u002fb\\u003e\\u003cbr\\u003eWords: hooker, retreat, yarmouth, return, miss\",\"\\u003cb\\u003eTopic 9\\u003c\\u002fb\\u003e\\u003cbr\\u003eWords: hooker, lodgings, gateway, niece, room\",\"\\u003cb\\u003eTopic 9\\u003c\\u002fb\\u003e\\u003cbr\\u003eWords: hooker, cassel, episode, confinement, news\",\"\\u003cb\\u003eTopic 9\\u003c\\u002fb\\u003e\\u003cbr\\u003eWords: hooker, affte, breast, fool, rascallitie\",\"\\u003cb\\u003eTopic 9\\u003c\\u002fb\\u003e\\u003cbr\\u003eWords: hooker, playfair, days_ago, griffin, circuit\",\"\\u003cb\\u003eTopic 9\\u003c\\u002fb\\u003e\\u003cbr\\u003eWords: hooker, germany, cirriped, hasjsh, collateral\",\"\\u003cb\\u003eTopic 9\\u003c\\u002fb\\u003e\\u003cbr\\u003eWords: hooker, regrets, reputation, kindest_regard, back\",\"\\u003cb\\u003eTopic 9\\u003c\\u002fb\\u003e\\u003cbr\\u003eWords: hooker, sprung, migrate, guest, carpenter\"],\"marker\":{\"color\":\"#009E73\"},\"mode\":\"markers\",\"name\":\"9_hooker_lady_playfair_bunbury\",\"x\":[\"1824-05-29T07:12:00\",\"1826-06-16T10:48:00\",\"1828-07-03T14:24:00\",\"1830-07-21T18:00:00\",\"1832-08-07T21:36:00\",\"1834-08-26T01:12:00\",\"1836-09-12T04:48:00\",\"1840-10-17T12:00:00\",\"1844-11-21T19:12:00\",\"1846-12-09T22:48:00\",\"1848-12-27T02:24:00\",\"1851-01-14T06:00:00\",\"1853-01-31T09:36:00\",\"1855-02-18T13:12:00\",\"1857-03-07T16:48:00\",\"1859-03-25T20:24:00\"],\"y\":[2,6,8,10,1,1,1,1,4,3,2,4,4,8,8,2],\"type\":\"scatter\"},{\"hoverinfo\":\"text\",\"hovertext\":[\"\\u003cb\\u003eTopic 10\\u003c\\u002fb\\u003e\\u003cbr\\u003eWords: impediment, shape, head, hair, scale\",\"\\u003cb\\u003eTopic 10\\u003c\\u002fb\\u003e\\u003cbr\\u003eWords: illustrate, enlarge, scale, batata, boiling\",\"\\u003cb\\u003eTopic 10\\u003c\\u002fb\\u003e\\u003cbr\\u003eWords: spec, aother, malay, bowd, major\",\"\\u003cb\\u003eTopic 10\\u003c\\u002fb\\u003e\\u003cbr\\u003eWords: spec, interesting, tis, profusion, specie\",\"\\u003cb\\u003eTopic 10\\u003c\\u002fb\\u003e\\u003cbr\\u003eWords: figure, genera, speciman, specie, purpose\",\"\\u003cb\\u003eTopic 10\\u003c\\u002fb\\u003e\\u003cbr\\u003eWords: brittle, specie, spec, fragment, speciman\",\"\\u003cb\\u003eTopic 10\\u003c\\u002fb\\u003e\\u003cbr\\u003eWords: globular, receptacle, expansion, axis, spec\",\"\\u003cb\\u003eTopic 10\\u003c\\u002fb\\u003e\\u003cbr\\u003eWords: speciman, hair, scale, spec, bat\",\"\\u003cb\\u003eTopic 10\\u003c\\u002fb\\u003e\\u003cbr\\u003eWords: enlarge, hair, scale, spec, bat\",\"\\u003cb\\u003eTopic 10\\u003c\\u002fb\\u003e\\u003cbr\\u003eWords: hate, bat, conjecture, moniliforme, spec\",\"\\u003cb\\u003eTopic 10\\u003c\\u002fb\\u003e\\u003cbr\\u003eWords: scale, print, reason, hair, spec\",\"\\u003cb\\u003eTopic 10\\u003c\\u002fb\\u003e\\u003cbr\\u003eWords: sin, scheme, face, inch, figure\",\"\\u003cb\\u003eTopic 10\\u003c\\u002fb\\u003e\\u003cbr\\u003eWords: hair, scale, bat, shaft, speciman\",\"\\u003cb\\u003eTopic 10\\u003c\\u002fb\\u003e\\u003cbr\\u003eWords: web, hair, inch, length, blade\",\"\\u003cb\\u003eTopic 10\\u003c\\u002fb\\u003e\\u003cbr\\u003eWords: establish, diam, scale, specie, hint\"],\"marker\":{\"color\":\"#F0E442\"},\"mode\":\"markers\",\"name\":\"10_hair_scale_spec_bat\",\"x\":[\"1824-05-29T07:12:00\",\"1826-06-16T10:48:00\",\"1828-07-03T14:24:00\",\"1830-07-21T18:00:00\",\"1832-08-07T21:36:00\",\"1838-09-30T08:24:00\",\"1840-10-17T12:00:00\",\"1842-11-04T15:36:00\",\"1844-11-21T19:12:00\",\"1848-12-27T02:24:00\",\"1851-01-14T06:00:00\",\"1853-01-31T09:36:00\",\"1855-02-18T13:12:00\",\"1857-03-07T16:48:00\",\"1859-03-25T20:24:00\"],\"y\":[1,5,6,4,2,4,2,1,1,6,1,3,15,2,4],\"type\":\"scatter\"},{\"hoverinfo\":\"text\",\"hovertext\":[\"\\u003cb\\u003eTopic 11\\u003c\\u002fb\\u003e\\u003cbr\\u003eWords: health, quo, windpipe, dpalmerston, throat\",\"\\u003cb\\u003eTopic 11\\u003c\\u002fb\\u003e\\u003cbr\\u003eWords: sickness, wish, health, illness, wife\",\"\\u003cb\\u003eTopic 11\\u003c\\u002fb\\u003e\\u003cbr\\u003eWords: illness, health, hypochondriasis, headache, perform\",\"\\u003cb\\u003eTopic 11\\u003c\\u002fb\\u003e\\u003cbr\\u003eWords: health, drowsy, slept, head, weakness\",\"\\u003cb\\u003eTopic 11\\u003c\\u002fb\\u003e\\u003cbr\\u003eWords: strength, wife, health, illness, fever\",\"\\u003cb\\u003eTopic 11\\u003c\\u002fb\\u003e\\u003cbr\\u003eWords: webster, pecuniary, health, difficulty, illness\",\"\\u003cb\\u003eTopic 11\\u003c\\u002fb\\u003e\\u003cbr\\u003eWords: nerve, health, week, worry, paralysis\",\"\\u003cb\\u003eTopic 11\\u003c\\u002fb\\u003e\\u003cbr\\u003eWords: miasma, endemic, engender, humidity, latitude\",\"\\u003cb\\u003eTopic 11\\u003c\\u002fb\\u003e\\u003cbr\\u003eWords: improved_health, brighton, journey, health, illness\",\"\\u003cb\\u003eTopic 11\\u003c\\u002fb\\u003e\\u003cbr\\u003eWords: improved_health, health, illness, wife, fever\",\"\\u003cb\\u003eTopic 11\\u003c\\u002fb\\u003e\\u003cbr\\u003eWords: night, health, arm, fever, pad\",\"\\u003cb\\u003eTopic 11\\u003c\\u002fb\\u003e\\u003cbr\\u003eWords: broom, lichfield, sulivan, health, henry\",\"\\u003cb\\u003eTopic 11\\u003c\\u002fb\\u003e\\u003cbr\\u003eWords: health, idle, bronchitis, constipation, bad\",\"\\u003cb\\u003eTopic 11\\u003c\\u002fb\\u003e\\u003cbr\\u003eWords: wife, equanimity, betray, suffering, individual\",\"\\u003cb\\u003eTopic 11\\u003c\\u002fb\\u003e\\u003cbr\\u003eWords: wife, sudorific, arrant, illness, time\",\"\\u003cb\\u003eTopic 11\\u003c\\u002fb\\u003e\\u003cbr\\u003eWords: illness, health, jane, winter, week\"],\"marker\":{\"color\":\"#D55E00\"},\"mode\":\"markers\",\"name\":\"11_health_illness_wife_fever\",\"x\":[\"1824-05-29T07:12:00\",\"1826-06-16T10:48:00\",\"1828-07-03T14:24:00\",\"1830-07-21T18:00:00\",\"1832-08-07T21:36:00\",\"1836-09-12T04:48:00\",\"1838-09-30T08:24:00\",\"1840-10-17T12:00:00\",\"1844-11-21T19:12:00\",\"1846-12-09T22:48:00\",\"1848-12-27T02:24:00\",\"1851-01-14T06:00:00\",\"1853-01-31T09:36:00\",\"1855-02-18T13:12:00\",\"1857-03-07T16:48:00\",\"1859-03-25T20:24:00\"],\"y\":[4,1,6,5,1,1,2,1,1,1,4,1,5,2,4,11],\"type\":\"scatter\"},{\"hoverinfo\":\"text\",\"hovertext\":[\"\\u003cb\\u003eTopic 12\\u003c\\u002fb\\u003e\\u003cbr\\u003eWords: side, paris, direction, monsieur, french\",\"\\u003cb\\u003eTopic 12\\u003c\\u002fb\\u003e\\u003cbr\\u003eWords: direction, deare, french, pearson, buntingford\",\"\\u003cb\\u003eTopic 12\\u003c\\u002fb\\u003e\\u003cbr\\u003eWords: juin, prient, eur, soiree, mercredi\",\"\\u003cb\\u003eTopic 12\\u003c\\u002fb\\u003e\\u003cbr\\u003eWords: side, paris, island, dominica, mosses\",\"\\u003cb\\u003eTopic 12\\u003c\\u002fb\\u003e\\u003cbr\\u003eWords: side, paris, french, portland, bill\",\"\\u003cb\\u003eTopic 12\\u003c\\u002fb\\u003e\\u003cbr\\u003eWords: direction, paris, side, monsieur, french\",\"\\u003cb\\u003eTopic 12\\u003c\\u002fb\\u003e\\u003cbr\\u003eWords: paris, monsieur, publier, viens, aussi\",\"\\u003cb\\u003eTopic 12\\u003c\\u002fb\\u003e\\u003cbr\\u003eWords: ebrington, align, sallust, idem, atque\",\"\\u003cb\\u003eTopic 12\\u003c\\u002fb\\u003e\\u003cbr\\u003eWords: side, man, subject, paris, direction\",\"\\u003cb\\u003eTopic 12\\u003c\\u002fb\\u003e\\u003cbr\\u003eWords: paris, cartright, reply, side, direction\",\"\\u003cb\\u003eTopic 12\\u003c\\u002fb\\u003e\\u003cbr\\u003eWords: lumenski, decaisne, hoffmeister, observation, class\",\"\\u003cb\\u003eTopic 12\\u003c\\u002fb\\u003e\\u003cbr\\u003eWords: paris, wooley, brook, site, flood\"],\"marker\":{\"color\":\"#0072B2\"},\"mode\":\"markers\",\"name\":\"12_paris_side_direction_monsieur\",\"x\":[\"1820-04-09T00:53:16.800000\",\"1824-05-29T07:12:00\",\"1826-06-16T10:48:00\",\"1828-07-03T14:24:00\",\"1830-07-21T18:00:00\",\"1838-09-30T08:24:00\",\"1840-10-17T12:00:00\",\"1844-11-21T19:12:00\",\"1851-01-14T06:00:00\",\"1855-02-18T13:12:00\",\"1857-03-07T16:48:00\",\"1859-03-25T20:24:00\"],\"y\":[1,6,3,6,12,1,8,1,1,2,1,6],\"type\":\"scatter\"},{\"hoverinfo\":\"text\",\"hovertext\":[\"\\u003cb\\u003eTopic 13\\u003c\\u002fb\\u003e\\u003cbr\\u003eWords: statement, correction, note, receipt, law_sulivan\",\"\\u003cb\\u003eTopic 13\\u003c\\u002fb\\u003e\\u003cbr\\u003eWords: steudel, pursue, discourse, subscriber, half\",\"\\u003cb\\u003eTopic 13\\u003c\\u002fb\\u003e\\u003cbr\\u003eWords: remittance, mean, note, desiderata, post\",\"\\u003cb\\u003eTopic 13\\u003c\\u002fb\\u003e\\u003cbr\\u003eWords: note, attention, number, paper, correction\",\"\\u003cb\\u003eTopic 13\\u003c\\u002fb\\u003e\\u003cbr\\u003eWords: contrive, transmutation, hble, orr, choicer\",\"\\u003cb\\u003eTopic 13\\u003c\\u002fb\\u003e\\u003cbr\\u003eWords: remittance, stamp, receipt, subscriber, convenience\",\"\\u003cb\\u003eTopic 13\\u003c\\u002fb\\u003e\\u003cbr\\u003eWords: confirmation, correction, transaction, note, notice\",\"\\u003cb\\u003eTopic 13\\u003c\\u002fb\\u003e\\u003cbr\\u003eWords: correction, compiler, noterity, drier, ague\",\"\\u003cb\\u003eTopic 13\\u003c\\u002fb\\u003e\\u003cbr\\u003eWords: compromise, notice, discourse, receipt, evidence\",\"\\u003cb\\u003eTopic 13\\u003c\\u002fb\\u003e\\u003cbr\\u003eWords: facility, correction, error, evidence, note\",\"\\u003cb\\u003eTopic 13\\u003c\\u002fb\\u003e\\u003cbr\\u003eWords: note, lad, reverse, receipt, text_illegible\",\"\\u003cb\\u003eTopic 13\\u003c\\u002fb\\u003e\\u003cbr\\u003eWords: note, correction, notice, receipt, statement\",\"\\u003cb\\u003eTopic 13\\u003c\\u002fb\\u003e\\u003cbr\\u003eWords: departm, notice, vehicle, note, record\",\"\\u003cb\\u003eTopic 13\\u003c\\u002fb\\u003e\\u003cbr\\u003eWords: correction, edition, voorst, doctrine, note\",\"\\u003cb\\u003eTopic 13\\u003c\\u002fb\\u003e\\u003cbr\\u003eWords: annoyance, receipt, error, recollection, mean\"],\"marker\":{\"color\":\"#CC79A7\"},\"mode\":\"markers\",\"name\":\"13_note_correction_notice_receipt\",\"x\":[\"1824-05-29T07:12:00\",\"1826-06-16T10:48:00\",\"1828-07-03T14:24:00\",\"1830-07-21T18:00:00\",\"1832-08-07T21:36:00\",\"1834-08-26T01:12:00\",\"1838-09-30T08:24:00\",\"1840-10-17T12:00:00\",\"1844-11-21T19:12:00\",\"1846-12-09T22:48:00\",\"1851-01-14T06:00:00\",\"1853-01-31T09:36:00\",\"1855-02-18T13:12:00\",\"1857-03-07T16:48:00\",\"1859-03-25T20:24:00\"],\"y\":[9,2,2,2,3,2,1,4,3,2,4,2,5,3,2],\"type\":\"scatter\"},{\"hoverinfo\":\"text\",\"hovertext\":[\"\\u003cb\\u003eTopic 14\\u003c\\u002fb\\u003e\\u003cbr\\u003eWords: bird, mules, mule, generation, cross\",\"\\u003cb\\u003eTopic 14\\u003c\\u002fb\\u003e\\u003cbr\\u003eWords: bird, mouse, market, feather, strepera\",\"\\u003cb\\u003eTopic 14\\u003c\\u002fb\\u003e\\u003cbr\\u003eWords: bird, vessel, box, puffing, morn\",\"\\u003cb\\u003eTopic 14\\u003c\\u002fb\\u003e\\u003cbr\\u003eWords: bird, feather, height, pigeon, cage\",\"\\u003cb\\u003eTopic 14\\u003c\\u002fb\\u003e\\u003cbr\\u003eWords: bird, america, birds, skins, europeans\",\"\\u003cb\\u003eTopic 14\\u003c\\u002fb\\u003e\\u003cbr\\u003eWords: bird, caricio, falcon, hoy, mouse\",\"\\u003cb\\u003eTopic 14\\u003c\\u002fb\\u003e\\u003cbr\\u003eWords: texas, frog, alligator, egg, speciman\",\"\\u003cb\\u003eTopic 14\\u003c\\u002fb\\u003e\\u003cbr\\u003eWords: bird, rat, defeat, ladder, net\",\"\\u003cb\\u003eTopic 14\\u003c\\u002fb\\u003e\\u003cbr\\u003eWords: incubation, chicken, bird, feather, america\",\"\\u003cb\\u003eTopic 14\\u003c\\u002fb\\u003e\\u003cbr\\u003eWords: goosequill, soc, bird, feather, america\",\"\\u003cb\\u003eTopic 14\\u003c\\u002fb\\u003e\\u003cbr\\u003eWords: bird, type, rabbit, illustrating, rodent\",\"\\u003cb\\u003eTopic 14\\u003c\\u002fb\\u003e\\u003cbr\\u003eWords: covert, feather, wingfull, monstrosity, inc\"],\"marker\":{\"color\":\"#E69F00\"},\"mode\":\"markers\",\"name\":\"14_bird_feather_america_mouse\",\"x\":[\"1822-05-12T03:36:00\",\"1826-06-16T10:48:00\",\"1828-07-03T14:24:00\",\"1830-07-21T18:00:00\",\"1834-08-26T01:12:00\",\"1838-09-30T08:24:00\",\"1840-10-17T12:00:00\",\"1842-11-04T15:36:00\",\"1848-12-27T02:24:00\",\"1853-01-31T09:36:00\",\"1855-02-18T13:12:00\",\"1857-03-07T16:48:00\"],\"y\":[2,8,7,10,5,3,1,1,1,2,4,2],\"type\":\"scatter\"}],                        {\"template\":{\"data\":{\"barpolar\":[{\"marker\":{\"line\":{\"color\":\"white\",\"width\":0.5},\"pattern\":{\"fillmode\":\"overlay\",\"size\":10,\"solidity\":0.2}},\"type\":\"barpolar\"}],\"bar\":[{\"error_x\":{\"color\":\"rgb(36,36,36)\"},\"error_y\":{\"color\":\"rgb(36,36,36)\"},\"marker\":{\"line\":{\"color\":\"white\",\"width\":0.5},\"pattern\":{\"fillmode\":\"overlay\",\"size\":10,\"solidity\":0.2}},\"type\":\"bar\"}],\"carpet\":[{\"aaxis\":{\"endlinecolor\":\"rgb(36,36,36)\",\"gridcolor\":\"white\",\"linecolor\":\"white\",\"minorgridcolor\":\"white\",\"startlinecolor\":\"rgb(36,36,36)\"},\"baxis\":{\"endlinecolor\":\"rgb(36,36,36)\",\"gridcolor\":\"white\",\"linecolor\":\"white\",\"minorgridcolor\":\"white\",\"startlinecolor\":\"rgb(36,36,36)\"},\"type\":\"carpet\"}],\"choropleth\":[{\"colorbar\":{\"outlinewidth\":1,\"tickcolor\":\"rgb(36,36,36)\",\"ticks\":\"outside\"},\"type\":\"choropleth\"}],\"contourcarpet\":[{\"colorbar\":{\"outlinewidth\":1,\"tickcolor\":\"rgb(36,36,36)\",\"ticks\":\"outside\"},\"type\":\"contourcarpet\"}],\"contour\":[{\"colorbar\":{\"outlinewidth\":1,\"tickcolor\":\"rgb(36,36,36)\",\"ticks\":\"outside\"},\"colorscale\":[[0.0,\"#440154\"],[0.1111111111111111,\"#482878\"],[0.2222222222222222,\"#3e4989\"],[0.3333333333333333,\"#31688e\"],[0.4444444444444444,\"#26828e\"],[0.5555555555555556,\"#1f9e89\"],[0.6666666666666666,\"#35b779\"],[0.7777777777777778,\"#6ece58\"],[0.8888888888888888,\"#b5de2b\"],[1.0,\"#fde725\"]],\"type\":\"contour\"}],\"heatmapgl\":[{\"colorbar\":{\"outlinewidth\":1,\"tickcolor\":\"rgb(36,36,36)\",\"ticks\":\"outside\"},\"colorscale\":[[0.0,\"#440154\"],[0.1111111111111111,\"#482878\"],[0.2222222222222222,\"#3e4989\"],[0.3333333333333333,\"#31688e\"],[0.4444444444444444,\"#26828e\"],[0.5555555555555556,\"#1f9e89\"],[0.6666666666666666,\"#35b779\"],[0.7777777777777778,\"#6ece58\"],[0.8888888888888888,\"#b5de2b\"],[1.0,\"#fde725\"]],\"type\":\"heatmapgl\"}],\"heatmap\":[{\"colorbar\":{\"outlinewidth\":1,\"tickcolor\":\"rgb(36,36,36)\",\"ticks\":\"outside\"},\"colorscale\":[[0.0,\"#440154\"],[0.1111111111111111,\"#482878\"],[0.2222222222222222,\"#3e4989\"],[0.3333333333333333,\"#31688e\"],[0.4444444444444444,\"#26828e\"],[0.5555555555555556,\"#1f9e89\"],[0.6666666666666666,\"#35b779\"],[0.7777777777777778,\"#6ece58\"],[0.8888888888888888,\"#b5de2b\"],[1.0,\"#fde725\"]],\"type\":\"heatmap\"}],\"histogram2dcontour\":[{\"colorbar\":{\"outlinewidth\":1,\"tickcolor\":\"rgb(36,36,36)\",\"ticks\":\"outside\"},\"colorscale\":[[0.0,\"#440154\"],[0.1111111111111111,\"#482878\"],[0.2222222222222222,\"#3e4989\"],[0.3333333333333333,\"#31688e\"],[0.4444444444444444,\"#26828e\"],[0.5555555555555556,\"#1f9e89\"],[0.6666666666666666,\"#35b779\"],[0.7777777777777778,\"#6ece58\"],[0.8888888888888888,\"#b5de2b\"],[1.0,\"#fde725\"]],\"type\":\"histogram2dcontour\"}],\"histogram2d\":[{\"colorbar\":{\"outlinewidth\":1,\"tickcolor\":\"rgb(36,36,36)\",\"ticks\":\"outside\"},\"colorscale\":[[0.0,\"#440154\"],[0.1111111111111111,\"#482878\"],[0.2222222222222222,\"#3e4989\"],[0.3333333333333333,\"#31688e\"],[0.4444444444444444,\"#26828e\"],[0.5555555555555556,\"#1f9e89\"],[0.6666666666666666,\"#35b779\"],[0.7777777777777778,\"#6ece58\"],[0.8888888888888888,\"#b5de2b\"],[1.0,\"#fde725\"]],\"type\":\"histogram2d\"}],\"histogram\":[{\"marker\":{\"line\":{\"color\":\"white\",\"width\":0.6}},\"type\":\"histogram\"}],\"mesh3d\":[{\"colorbar\":{\"outlinewidth\":1,\"tickcolor\":\"rgb(36,36,36)\",\"ticks\":\"outside\"},\"type\":\"mesh3d\"}],\"parcoords\":[{\"line\":{\"colorbar\":{\"outlinewidth\":1,\"tickcolor\":\"rgb(36,36,36)\",\"ticks\":\"outside\"}},\"type\":\"parcoords\"}],\"pie\":[{\"automargin\":true,\"type\":\"pie\"}],\"scatter3d\":[{\"line\":{\"colorbar\":{\"outlinewidth\":1,\"tickcolor\":\"rgb(36,36,36)\",\"ticks\":\"outside\"}},\"marker\":{\"colorbar\":{\"outlinewidth\":1,\"tickcolor\":\"rgb(36,36,36)\",\"ticks\":\"outside\"}},\"type\":\"scatter3d\"}],\"scattercarpet\":[{\"marker\":{\"colorbar\":{\"outlinewidth\":1,\"tickcolor\":\"rgb(36,36,36)\",\"ticks\":\"outside\"}},\"type\":\"scattercarpet\"}],\"scattergeo\":[{\"marker\":{\"colorbar\":{\"outlinewidth\":1,\"tickcolor\":\"rgb(36,36,36)\",\"ticks\":\"outside\"}},\"type\":\"scattergeo\"}],\"scattergl\":[{\"marker\":{\"colorbar\":{\"outlinewidth\":1,\"tickcolor\":\"rgb(36,36,36)\",\"ticks\":\"outside\"}},\"type\":\"scattergl\"}],\"scattermapbox\":[{\"marker\":{\"colorbar\":{\"outlinewidth\":1,\"tickcolor\":\"rgb(36,36,36)\",\"ticks\":\"outside\"}},\"type\":\"scattermapbox\"}],\"scatterpolargl\":[{\"marker\":{\"colorbar\":{\"outlinewidth\":1,\"tickcolor\":\"rgb(36,36,36)\",\"ticks\":\"outside\"}},\"type\":\"scatterpolargl\"}],\"scatterpolar\":[{\"marker\":{\"colorbar\":{\"outlinewidth\":1,\"tickcolor\":\"rgb(36,36,36)\",\"ticks\":\"outside\"}},\"type\":\"scatterpolar\"}],\"scatter\":[{\"fillpattern\":{\"fillmode\":\"overlay\",\"size\":10,\"solidity\":0.2},\"type\":\"scatter\"}],\"scatterternary\":[{\"marker\":{\"colorbar\":{\"outlinewidth\":1,\"tickcolor\":\"rgb(36,36,36)\",\"ticks\":\"outside\"}},\"type\":\"scatterternary\"}],\"surface\":[{\"colorbar\":{\"outlinewidth\":1,\"tickcolor\":\"rgb(36,36,36)\",\"ticks\":\"outside\"},\"colorscale\":[[0.0,\"#440154\"],[0.1111111111111111,\"#482878\"],[0.2222222222222222,\"#3e4989\"],[0.3333333333333333,\"#31688e\"],[0.4444444444444444,\"#26828e\"],[0.5555555555555556,\"#1f9e89\"],[0.6666666666666666,\"#35b779\"],[0.7777777777777778,\"#6ece58\"],[0.8888888888888888,\"#b5de2b\"],[1.0,\"#fde725\"]],\"type\":\"surface\"}],\"table\":[{\"cells\":{\"fill\":{\"color\":\"rgb(237,237,237)\"},\"line\":{\"color\":\"white\"}},\"header\":{\"fill\":{\"color\":\"rgb(217,217,217)\"},\"line\":{\"color\":\"white\"}},\"type\":\"table\"}]},\"layout\":{\"annotationdefaults\":{\"arrowhead\":0,\"arrowwidth\":1},\"autotypenumbers\":\"strict\",\"coloraxis\":{\"colorbar\":{\"outlinewidth\":1,\"tickcolor\":\"rgb(36,36,36)\",\"ticks\":\"outside\"}},\"colorscale\":{\"diverging\":[[0.0,\"rgb(103,0,31)\"],[0.1,\"rgb(178,24,43)\"],[0.2,\"rgb(214,96,77)\"],[0.3,\"rgb(244,165,130)\"],[0.4,\"rgb(253,219,199)\"],[0.5,\"rgb(247,247,247)\"],[0.6,\"rgb(209,229,240)\"],[0.7,\"rgb(146,197,222)\"],[0.8,\"rgb(67,147,195)\"],[0.9,\"rgb(33,102,172)\"],[1.0,\"rgb(5,48,97)\"]],\"sequential\":[[0.0,\"#440154\"],[0.1111111111111111,\"#482878\"],[0.2222222222222222,\"#3e4989\"],[0.3333333333333333,\"#31688e\"],[0.4444444444444444,\"#26828e\"],[0.5555555555555556,\"#1f9e89\"],[0.6666666666666666,\"#35b779\"],[0.7777777777777778,\"#6ece58\"],[0.8888888888888888,\"#b5de2b\"],[1.0,\"#fde725\"]],\"sequentialminus\":[[0.0,\"#440154\"],[0.1111111111111111,\"#482878\"],[0.2222222222222222,\"#3e4989\"],[0.3333333333333333,\"#31688e\"],[0.4444444444444444,\"#26828e\"],[0.5555555555555556,\"#1f9e89\"],[0.6666666666666666,\"#35b779\"],[0.7777777777777778,\"#6ece58\"],[0.8888888888888888,\"#b5de2b\"],[1.0,\"#fde725\"]]},\"colorway\":[\"#1F77B4\",\"#FF7F0E\",\"#2CA02C\",\"#D62728\",\"#9467BD\",\"#8C564B\",\"#E377C2\",\"#7F7F7F\",\"#BCBD22\",\"#17BECF\"],\"font\":{\"color\":\"rgb(36,36,36)\"},\"geo\":{\"bgcolor\":\"white\",\"lakecolor\":\"white\",\"landcolor\":\"white\",\"showlakes\":true,\"showland\":true,\"subunitcolor\":\"white\"},\"hoverlabel\":{\"align\":\"left\"},\"hovermode\":\"closest\",\"mapbox\":{\"style\":\"light\"},\"paper_bgcolor\":\"white\",\"plot_bgcolor\":\"white\",\"polar\":{\"angularaxis\":{\"gridcolor\":\"rgb(232,232,232)\",\"linecolor\":\"rgb(36,36,36)\",\"showgrid\":false,\"showline\":true,\"ticks\":\"outside\"},\"bgcolor\":\"white\",\"radialaxis\":{\"gridcolor\":\"rgb(232,232,232)\",\"linecolor\":\"rgb(36,36,36)\",\"showgrid\":false,\"showline\":true,\"ticks\":\"outside\"}},\"scene\":{\"xaxis\":{\"backgroundcolor\":\"white\",\"gridcolor\":\"rgb(232,232,232)\",\"gridwidth\":2,\"linecolor\":\"rgb(36,36,36)\",\"showbackground\":true,\"showgrid\":false,\"showline\":true,\"ticks\":\"outside\",\"zeroline\":false,\"zerolinecolor\":\"rgb(36,36,36)\"},\"yaxis\":{\"backgroundcolor\":\"white\",\"gridcolor\":\"rgb(232,232,232)\",\"gridwidth\":2,\"linecolor\":\"rgb(36,36,36)\",\"showbackground\":true,\"showgrid\":false,\"showline\":true,\"ticks\":\"outside\",\"zeroline\":false,\"zerolinecolor\":\"rgb(36,36,36)\"},\"zaxis\":{\"backgroundcolor\":\"white\",\"gridcolor\":\"rgb(232,232,232)\",\"gridwidth\":2,\"linecolor\":\"rgb(36,36,36)\",\"showbackground\":true,\"showgrid\":false,\"showline\":true,\"ticks\":\"outside\",\"zeroline\":false,\"zerolinecolor\":\"rgb(36,36,36)\"}},\"shapedefaults\":{\"fillcolor\":\"black\",\"line\":{\"width\":0},\"opacity\":0.3},\"ternary\":{\"aaxis\":{\"gridcolor\":\"rgb(232,232,232)\",\"linecolor\":\"rgb(36,36,36)\",\"showgrid\":false,\"showline\":true,\"ticks\":\"outside\"},\"baxis\":{\"gridcolor\":\"rgb(232,232,232)\",\"linecolor\":\"rgb(36,36,36)\",\"showgrid\":false,\"showline\":true,\"ticks\":\"outside\"},\"bgcolor\":\"white\",\"caxis\":{\"gridcolor\":\"rgb(232,232,232)\",\"linecolor\":\"rgb(36,36,36)\",\"showgrid\":false,\"showline\":true,\"ticks\":\"outside\"}},\"title\":{\"x\":0.05},\"xaxis\":{\"automargin\":true,\"gridcolor\":\"rgb(232,232,232)\",\"linecolor\":\"rgb(36,36,36)\",\"showgrid\":false,\"showline\":true,\"ticks\":\"outside\",\"title\":{\"standoff\":15},\"zeroline\":false,\"zerolinecolor\":\"rgb(36,36,36)\"},\"yaxis\":{\"automargin\":true,\"gridcolor\":\"rgb(232,232,232)\",\"linecolor\":\"rgb(36,36,36)\",\"showgrid\":false,\"showline\":true,\"ticks\":\"outside\",\"title\":{\"standoff\":15},\"zeroline\":false,\"zerolinecolor\":\"rgb(36,36,36)\"}}},\"xaxis\":{\"showgrid\":true},\"yaxis\":{\"showgrid\":true,\"title\":{\"text\":\"Count\"}},\"title\":{\"font\":{\"size\":22,\"color\":\"Black\"},\"text\":\"\\u003cb\\u003eTopics over Time\\u003c\\u002fb\\u003e\",\"y\":0.95,\"x\":0.4,\"xanchor\":\"center\",\"yanchor\":\"top\"},\"hoverlabel\":{\"font\":{\"size\":16,\"family\":\"Rockwell\"},\"bgcolor\":\"white\"},\"width\":1000,\"height\":500,\"legend\":{\"title\":{\"text\":\"\\u003cb\\u003eGlobal Topic Representation\"}}},                        {\"responsive\": true}                    ).then(function(){\n",
       "                            \n",
       "var gd = document.getElementById('4df5010b-b8e2-4d7c-bb64-0f080a4ac5b6');\n",
       "var x = new MutationObserver(function (mutations, observer) {{\n",
       "        var display = window.getComputedStyle(gd).display;\n",
       "        if (!display || display === 'none') {{\n",
       "            console.log([gd, 'removed!']);\n",
       "            Plotly.purge(gd);\n",
       "            observer.disconnect();\n",
       "        }}\n",
       "}});\n",
       "\n",
       "// Listen for the removal of the full notebook cells\n",
       "var notebookContainer = gd.closest('#notebook-container');\n",
       "if (notebookContainer) {{\n",
       "    x.observe(notebookContainer, {childList: true});\n",
       "}}\n",
       "\n",
       "// Listen for the clearing of the current output cell\n",
       "var outputEl = gd.closest('.output');\n",
       "if (outputEl) {{\n",
       "    x.observe(outputEl, {childList: true});\n",
       "}}\n",
       "\n",
       "                        })                };                });            </script>        </div>"
      ]
     },
     "metadata": {},
     "output_type": "display_data"
    }
   ],
   "source": [
    "non_henslow_vis_obj = bertopic_time(non_henslow_sent_df, topic_model)\n",
    "non_henslow_vis = non_henslow_vis_obj[0]\n",
    "non_henslow_vis"
   ]
  },
  {
   "cell_type": "markdown",
   "id": "61834a24",
   "metadata": {},
   "source": [
    "Use year_counts and year_counts_plot functions to get a count of letters to Henslow in each year and visualise."
   ]
  },
  {
   "cell_type": "code",
   "execution_count": 25,
   "id": "66388cd4",
   "metadata": {
    "scrolled": false
   },
   "outputs": [
    {
     "data": {
      "application/vnd.plotly.v1+json": {
       "config": {
        "plotlyServerURL": "https://plot.ly"
       },
       "data": [
        {
         "alignmentgroup": "True",
         "hovertemplate": "variable=0<br>Year=%{x}<br>Count=%{y}<extra></extra>",
         "legendgroup": "0",
         "marker": {
          "color": "#636efa",
          "pattern": {
           "shape": ""
          }
         },
         "name": "0",
         "offsetgroup": "0",
         "orientation": "v",
         "showlegend": true,
         "textposition": "auto",
         "type": "bar",
         "x": [
          1820,
          1821,
          1822,
          1823,
          1824,
          1825,
          1826,
          1827,
          1828,
          1829,
          1830,
          1831,
          1832,
          1833,
          1834,
          1835,
          1836,
          1837,
          1838,
          1839,
          1840,
          1841,
          1842,
          1843,
          1844,
          1845,
          1846,
          1847,
          1848,
          1849,
          1850,
          1851,
          1852,
          1853,
          1854,
          1855,
          1856,
          1857,
          1858,
          1859,
          1860,
          1861
         ],
         "xaxis": "x",
         "y": [
          1,
          2,
          2,
          4,
          6,
          20,
          190,
          18,
          20,
          22,
          30,
          54,
          8,
          10,
          5,
          5,
          7,
          8,
          3,
          8,
          9,
          5,
          12,
          4,
          7,
          11,
          9,
          9,
          8,
          15,
          16,
          12,
          23,
          23,
          13,
          47,
          78,
          34,
          29,
          30,
          38,
          1
         ],
         "yaxis": "y"
        }
       ],
       "layout": {
        "barmode": "relative",
        "legend": {
         "title": {
          "text": "variable"
         },
         "tracegroupgap": 0
        },
        "showlegend": false,
        "template": {
         "data": {
          "bar": [
           {
            "error_x": {
             "color": "#2a3f5f"
            },
            "error_y": {
             "color": "#2a3f5f"
            },
            "marker": {
             "line": {
              "color": "#E5ECF6",
              "width": 0.5
             },
             "pattern": {
              "fillmode": "overlay",
              "size": 10,
              "solidity": 0.2
             }
            },
            "type": "bar"
           }
          ],
          "barpolar": [
           {
            "marker": {
             "line": {
              "color": "#E5ECF6",
              "width": 0.5
             },
             "pattern": {
              "fillmode": "overlay",
              "size": 10,
              "solidity": 0.2
             }
            },
            "type": "barpolar"
           }
          ],
          "carpet": [
           {
            "aaxis": {
             "endlinecolor": "#2a3f5f",
             "gridcolor": "white",
             "linecolor": "white",
             "minorgridcolor": "white",
             "startlinecolor": "#2a3f5f"
            },
            "baxis": {
             "endlinecolor": "#2a3f5f",
             "gridcolor": "white",
             "linecolor": "white",
             "minorgridcolor": "white",
             "startlinecolor": "#2a3f5f"
            },
            "type": "carpet"
           }
          ],
          "choropleth": [
           {
            "colorbar": {
             "outlinewidth": 0,
             "ticks": ""
            },
            "type": "choropleth"
           }
          ],
          "contour": [
           {
            "colorbar": {
             "outlinewidth": 0,
             "ticks": ""
            },
            "colorscale": [
             [
              0,
              "#0d0887"
             ],
             [
              0.1111111111111111,
              "#46039f"
             ],
             [
              0.2222222222222222,
              "#7201a8"
             ],
             [
              0.3333333333333333,
              "#9c179e"
             ],
             [
              0.4444444444444444,
              "#bd3786"
             ],
             [
              0.5555555555555556,
              "#d8576b"
             ],
             [
              0.6666666666666666,
              "#ed7953"
             ],
             [
              0.7777777777777778,
              "#fb9f3a"
             ],
             [
              0.8888888888888888,
              "#fdca26"
             ],
             [
              1,
              "#f0f921"
             ]
            ],
            "type": "contour"
           }
          ],
          "contourcarpet": [
           {
            "colorbar": {
             "outlinewidth": 0,
             "ticks": ""
            },
            "type": "contourcarpet"
           }
          ],
          "heatmap": [
           {
            "colorbar": {
             "outlinewidth": 0,
             "ticks": ""
            },
            "colorscale": [
             [
              0,
              "#0d0887"
             ],
             [
              0.1111111111111111,
              "#46039f"
             ],
             [
              0.2222222222222222,
              "#7201a8"
             ],
             [
              0.3333333333333333,
              "#9c179e"
             ],
             [
              0.4444444444444444,
              "#bd3786"
             ],
             [
              0.5555555555555556,
              "#d8576b"
             ],
             [
              0.6666666666666666,
              "#ed7953"
             ],
             [
              0.7777777777777778,
              "#fb9f3a"
             ],
             [
              0.8888888888888888,
              "#fdca26"
             ],
             [
              1,
              "#f0f921"
             ]
            ],
            "type": "heatmap"
           }
          ],
          "heatmapgl": [
           {
            "colorbar": {
             "outlinewidth": 0,
             "ticks": ""
            },
            "colorscale": [
             [
              0,
              "#0d0887"
             ],
             [
              0.1111111111111111,
              "#46039f"
             ],
             [
              0.2222222222222222,
              "#7201a8"
             ],
             [
              0.3333333333333333,
              "#9c179e"
             ],
             [
              0.4444444444444444,
              "#bd3786"
             ],
             [
              0.5555555555555556,
              "#d8576b"
             ],
             [
              0.6666666666666666,
              "#ed7953"
             ],
             [
              0.7777777777777778,
              "#fb9f3a"
             ],
             [
              0.8888888888888888,
              "#fdca26"
             ],
             [
              1,
              "#f0f921"
             ]
            ],
            "type": "heatmapgl"
           }
          ],
          "histogram": [
           {
            "marker": {
             "pattern": {
              "fillmode": "overlay",
              "size": 10,
              "solidity": 0.2
             }
            },
            "type": "histogram"
           }
          ],
          "histogram2d": [
           {
            "colorbar": {
             "outlinewidth": 0,
             "ticks": ""
            },
            "colorscale": [
             [
              0,
              "#0d0887"
             ],
             [
              0.1111111111111111,
              "#46039f"
             ],
             [
              0.2222222222222222,
              "#7201a8"
             ],
             [
              0.3333333333333333,
              "#9c179e"
             ],
             [
              0.4444444444444444,
              "#bd3786"
             ],
             [
              0.5555555555555556,
              "#d8576b"
             ],
             [
              0.6666666666666666,
              "#ed7953"
             ],
             [
              0.7777777777777778,
              "#fb9f3a"
             ],
             [
              0.8888888888888888,
              "#fdca26"
             ],
             [
              1,
              "#f0f921"
             ]
            ],
            "type": "histogram2d"
           }
          ],
          "histogram2dcontour": [
           {
            "colorbar": {
             "outlinewidth": 0,
             "ticks": ""
            },
            "colorscale": [
             [
              0,
              "#0d0887"
             ],
             [
              0.1111111111111111,
              "#46039f"
             ],
             [
              0.2222222222222222,
              "#7201a8"
             ],
             [
              0.3333333333333333,
              "#9c179e"
             ],
             [
              0.4444444444444444,
              "#bd3786"
             ],
             [
              0.5555555555555556,
              "#d8576b"
             ],
             [
              0.6666666666666666,
              "#ed7953"
             ],
             [
              0.7777777777777778,
              "#fb9f3a"
             ],
             [
              0.8888888888888888,
              "#fdca26"
             ],
             [
              1,
              "#f0f921"
             ]
            ],
            "type": "histogram2dcontour"
           }
          ],
          "mesh3d": [
           {
            "colorbar": {
             "outlinewidth": 0,
             "ticks": ""
            },
            "type": "mesh3d"
           }
          ],
          "parcoords": [
           {
            "line": {
             "colorbar": {
              "outlinewidth": 0,
              "ticks": ""
             }
            },
            "type": "parcoords"
           }
          ],
          "pie": [
           {
            "automargin": true,
            "type": "pie"
           }
          ],
          "scatter": [
           {
            "fillpattern": {
             "fillmode": "overlay",
             "size": 10,
             "solidity": 0.2
            },
            "type": "scatter"
           }
          ],
          "scatter3d": [
           {
            "line": {
             "colorbar": {
              "outlinewidth": 0,
              "ticks": ""
             }
            },
            "marker": {
             "colorbar": {
              "outlinewidth": 0,
              "ticks": ""
             }
            },
            "type": "scatter3d"
           }
          ],
          "scattercarpet": [
           {
            "marker": {
             "colorbar": {
              "outlinewidth": 0,
              "ticks": ""
             }
            },
            "type": "scattercarpet"
           }
          ],
          "scattergeo": [
           {
            "marker": {
             "colorbar": {
              "outlinewidth": 0,
              "ticks": ""
             }
            },
            "type": "scattergeo"
           }
          ],
          "scattergl": [
           {
            "marker": {
             "colorbar": {
              "outlinewidth": 0,
              "ticks": ""
             }
            },
            "type": "scattergl"
           }
          ],
          "scattermapbox": [
           {
            "marker": {
             "colorbar": {
              "outlinewidth": 0,
              "ticks": ""
             }
            },
            "type": "scattermapbox"
           }
          ],
          "scatterpolar": [
           {
            "marker": {
             "colorbar": {
              "outlinewidth": 0,
              "ticks": ""
             }
            },
            "type": "scatterpolar"
           }
          ],
          "scatterpolargl": [
           {
            "marker": {
             "colorbar": {
              "outlinewidth": 0,
              "ticks": ""
             }
            },
            "type": "scatterpolargl"
           }
          ],
          "scatterternary": [
           {
            "marker": {
             "colorbar": {
              "outlinewidth": 0,
              "ticks": ""
             }
            },
            "type": "scatterternary"
           }
          ],
          "surface": [
           {
            "colorbar": {
             "outlinewidth": 0,
             "ticks": ""
            },
            "colorscale": [
             [
              0,
              "#0d0887"
             ],
             [
              0.1111111111111111,
              "#46039f"
             ],
             [
              0.2222222222222222,
              "#7201a8"
             ],
             [
              0.3333333333333333,
              "#9c179e"
             ],
             [
              0.4444444444444444,
              "#bd3786"
             ],
             [
              0.5555555555555556,
              "#d8576b"
             ],
             [
              0.6666666666666666,
              "#ed7953"
             ],
             [
              0.7777777777777778,
              "#fb9f3a"
             ],
             [
              0.8888888888888888,
              "#fdca26"
             ],
             [
              1,
              "#f0f921"
             ]
            ],
            "type": "surface"
           }
          ],
          "table": [
           {
            "cells": {
             "fill": {
              "color": "#EBF0F8"
             },
             "line": {
              "color": "white"
             }
            },
            "header": {
             "fill": {
              "color": "#C8D4E3"
             },
             "line": {
              "color": "white"
             }
            },
            "type": "table"
           }
          ]
         },
         "layout": {
          "annotationdefaults": {
           "arrowcolor": "#2a3f5f",
           "arrowhead": 0,
           "arrowwidth": 1
          },
          "autotypenumbers": "strict",
          "coloraxis": {
           "colorbar": {
            "outlinewidth": 0,
            "ticks": ""
           }
          },
          "colorscale": {
           "diverging": [
            [
             0,
             "#8e0152"
            ],
            [
             0.1,
             "#c51b7d"
            ],
            [
             0.2,
             "#de77ae"
            ],
            [
             0.3,
             "#f1b6da"
            ],
            [
             0.4,
             "#fde0ef"
            ],
            [
             0.5,
             "#f7f7f7"
            ],
            [
             0.6,
             "#e6f5d0"
            ],
            [
             0.7,
             "#b8e186"
            ],
            [
             0.8,
             "#7fbc41"
            ],
            [
             0.9,
             "#4d9221"
            ],
            [
             1,
             "#276419"
            ]
           ],
           "sequential": [
            [
             0,
             "#0d0887"
            ],
            [
             0.1111111111111111,
             "#46039f"
            ],
            [
             0.2222222222222222,
             "#7201a8"
            ],
            [
             0.3333333333333333,
             "#9c179e"
            ],
            [
             0.4444444444444444,
             "#bd3786"
            ],
            [
             0.5555555555555556,
             "#d8576b"
            ],
            [
             0.6666666666666666,
             "#ed7953"
            ],
            [
             0.7777777777777778,
             "#fb9f3a"
            ],
            [
             0.8888888888888888,
             "#fdca26"
            ],
            [
             1,
             "#f0f921"
            ]
           ],
           "sequentialminus": [
            [
             0,
             "#0d0887"
            ],
            [
             0.1111111111111111,
             "#46039f"
            ],
            [
             0.2222222222222222,
             "#7201a8"
            ],
            [
             0.3333333333333333,
             "#9c179e"
            ],
            [
             0.4444444444444444,
             "#bd3786"
            ],
            [
             0.5555555555555556,
             "#d8576b"
            ],
            [
             0.6666666666666666,
             "#ed7953"
            ],
            [
             0.7777777777777778,
             "#fb9f3a"
            ],
            [
             0.8888888888888888,
             "#fdca26"
            ],
            [
             1,
             "#f0f921"
            ]
           ]
          },
          "colorway": [
           "#636efa",
           "#EF553B",
           "#00cc96",
           "#ab63fa",
           "#FFA15A",
           "#19d3f3",
           "#FF6692",
           "#B6E880",
           "#FF97FF",
           "#FECB52"
          ],
          "font": {
           "color": "#2a3f5f"
          },
          "geo": {
           "bgcolor": "white",
           "lakecolor": "white",
           "landcolor": "#E5ECF6",
           "showlakes": true,
           "showland": true,
           "subunitcolor": "white"
          },
          "hoverlabel": {
           "align": "left"
          },
          "hovermode": "closest",
          "mapbox": {
           "style": "light"
          },
          "paper_bgcolor": "white",
          "plot_bgcolor": "#E5ECF6",
          "polar": {
           "angularaxis": {
            "gridcolor": "white",
            "linecolor": "white",
            "ticks": ""
           },
           "bgcolor": "#E5ECF6",
           "radialaxis": {
            "gridcolor": "white",
            "linecolor": "white",
            "ticks": ""
           }
          },
          "scene": {
           "xaxis": {
            "backgroundcolor": "#E5ECF6",
            "gridcolor": "white",
            "gridwidth": 2,
            "linecolor": "white",
            "showbackground": true,
            "ticks": "",
            "zerolinecolor": "white"
           },
           "yaxis": {
            "backgroundcolor": "#E5ECF6",
            "gridcolor": "white",
            "gridwidth": 2,
            "linecolor": "white",
            "showbackground": true,
            "ticks": "",
            "zerolinecolor": "white"
           },
           "zaxis": {
            "backgroundcolor": "#E5ECF6",
            "gridcolor": "white",
            "gridwidth": 2,
            "linecolor": "white",
            "showbackground": true,
            "ticks": "",
            "zerolinecolor": "white"
           }
          },
          "shapedefaults": {
           "line": {
            "color": "#2a3f5f"
           }
          },
          "ternary": {
           "aaxis": {
            "gridcolor": "white",
            "linecolor": "white",
            "ticks": ""
           },
           "baxis": {
            "gridcolor": "white",
            "linecolor": "white",
            "ticks": ""
           },
           "bgcolor": "#E5ECF6",
           "caxis": {
            "gridcolor": "white",
            "linecolor": "white",
            "ticks": ""
           }
          },
          "title": {
           "x": 0.05
          },
          "xaxis": {
           "automargin": true,
           "gridcolor": "white",
           "linecolor": "white",
           "ticks": "",
           "title": {
            "standoff": 15
           },
           "zerolinecolor": "white",
           "zerolinewidth": 2
          },
          "yaxis": {
           "automargin": true,
           "gridcolor": "white",
           "linecolor": "white",
           "ticks": "",
           "title": {
            "standoff": 15
           },
           "zerolinecolor": "white",
           "zerolinewidth": 2
          }
         }
        },
        "title": {
         "text": "Letter Count by Year"
        },
        "xaxis": {
         "anchor": "y",
         "domain": [
          0,
          1
         ],
         "title": {
          "text": "Year"
         }
        },
        "yaxis": {
         "anchor": "x",
         "domain": [
          0,
          1
         ],
         "title": {
          "text": "Count"
         }
        }
       }
      },
      "text/html": [
       "<div>                            <div id=\"0c47c041-ad0c-4307-be22-71fd8c80372d\" class=\"plotly-graph-div\" style=\"height:525px; width:100%;\"></div>            <script type=\"text/javascript\">                require([\"plotly\"], function(Plotly) {                    window.PLOTLYENV=window.PLOTLYENV || {};                                    if (document.getElementById(\"0c47c041-ad0c-4307-be22-71fd8c80372d\")) {                    Plotly.newPlot(                        \"0c47c041-ad0c-4307-be22-71fd8c80372d\",                        [{\"alignmentgroup\":\"True\",\"hovertemplate\":\"variable=0\\u003cbr\\u003eYear=%{x}\\u003cbr\\u003eCount=%{y}\\u003cextra\\u003e\\u003c\\u002fextra\\u003e\",\"legendgroup\":\"0\",\"marker\":{\"color\":\"#636efa\",\"pattern\":{\"shape\":\"\"}},\"name\":\"0\",\"offsetgroup\":\"0\",\"orientation\":\"v\",\"showlegend\":true,\"textposition\":\"auto\",\"x\":[1820,1821,1822,1823,1824,1825,1826,1827,1828,1829,1830,1831,1832,1833,1834,1835,1836,1837,1838,1839,1840,1841,1842,1843,1844,1845,1846,1847,1848,1849,1850,1851,1852,1853,1854,1855,1856,1857,1858,1859,1860,1861],\"xaxis\":\"x\",\"y\":[1,2,2,4,6,20,190,18,20,22,30,54,8,10,5,5,7,8,3,8,9,5,12,4,7,11,9,9,8,15,16,12,23,23,13,47,78,34,29,30,38,1],\"yaxis\":\"y\",\"type\":\"bar\"}],                        {\"template\":{\"data\":{\"histogram2dcontour\":[{\"type\":\"histogram2dcontour\",\"colorbar\":{\"outlinewidth\":0,\"ticks\":\"\"},\"colorscale\":[[0.0,\"#0d0887\"],[0.1111111111111111,\"#46039f\"],[0.2222222222222222,\"#7201a8\"],[0.3333333333333333,\"#9c179e\"],[0.4444444444444444,\"#bd3786\"],[0.5555555555555556,\"#d8576b\"],[0.6666666666666666,\"#ed7953\"],[0.7777777777777778,\"#fb9f3a\"],[0.8888888888888888,\"#fdca26\"],[1.0,\"#f0f921\"]]}],\"choropleth\":[{\"type\":\"choropleth\",\"colorbar\":{\"outlinewidth\":0,\"ticks\":\"\"}}],\"histogram2d\":[{\"type\":\"histogram2d\",\"colorbar\":{\"outlinewidth\":0,\"ticks\":\"\"},\"colorscale\":[[0.0,\"#0d0887\"],[0.1111111111111111,\"#46039f\"],[0.2222222222222222,\"#7201a8\"],[0.3333333333333333,\"#9c179e\"],[0.4444444444444444,\"#bd3786\"],[0.5555555555555556,\"#d8576b\"],[0.6666666666666666,\"#ed7953\"],[0.7777777777777778,\"#fb9f3a\"],[0.8888888888888888,\"#fdca26\"],[1.0,\"#f0f921\"]]}],\"heatmap\":[{\"type\":\"heatmap\",\"colorbar\":{\"outlinewidth\":0,\"ticks\":\"\"},\"colorscale\":[[0.0,\"#0d0887\"],[0.1111111111111111,\"#46039f\"],[0.2222222222222222,\"#7201a8\"],[0.3333333333333333,\"#9c179e\"],[0.4444444444444444,\"#bd3786\"],[0.5555555555555556,\"#d8576b\"],[0.6666666666666666,\"#ed7953\"],[0.7777777777777778,\"#fb9f3a\"],[0.8888888888888888,\"#fdca26\"],[1.0,\"#f0f921\"]]}],\"heatmapgl\":[{\"type\":\"heatmapgl\",\"colorbar\":{\"outlinewidth\":0,\"ticks\":\"\"},\"colorscale\":[[0.0,\"#0d0887\"],[0.1111111111111111,\"#46039f\"],[0.2222222222222222,\"#7201a8\"],[0.3333333333333333,\"#9c179e\"],[0.4444444444444444,\"#bd3786\"],[0.5555555555555556,\"#d8576b\"],[0.6666666666666666,\"#ed7953\"],[0.7777777777777778,\"#fb9f3a\"],[0.8888888888888888,\"#fdca26\"],[1.0,\"#f0f921\"]]}],\"contourcarpet\":[{\"type\":\"contourcarpet\",\"colorbar\":{\"outlinewidth\":0,\"ticks\":\"\"}}],\"contour\":[{\"type\":\"contour\",\"colorbar\":{\"outlinewidth\":0,\"ticks\":\"\"},\"colorscale\":[[0.0,\"#0d0887\"],[0.1111111111111111,\"#46039f\"],[0.2222222222222222,\"#7201a8\"],[0.3333333333333333,\"#9c179e\"],[0.4444444444444444,\"#bd3786\"],[0.5555555555555556,\"#d8576b\"],[0.6666666666666666,\"#ed7953\"],[0.7777777777777778,\"#fb9f3a\"],[0.8888888888888888,\"#fdca26\"],[1.0,\"#f0f921\"]]}],\"surface\":[{\"type\":\"surface\",\"colorbar\":{\"outlinewidth\":0,\"ticks\":\"\"},\"colorscale\":[[0.0,\"#0d0887\"],[0.1111111111111111,\"#46039f\"],[0.2222222222222222,\"#7201a8\"],[0.3333333333333333,\"#9c179e\"],[0.4444444444444444,\"#bd3786\"],[0.5555555555555556,\"#d8576b\"],[0.6666666666666666,\"#ed7953\"],[0.7777777777777778,\"#fb9f3a\"],[0.8888888888888888,\"#fdca26\"],[1.0,\"#f0f921\"]]}],\"mesh3d\":[{\"type\":\"mesh3d\",\"colorbar\":{\"outlinewidth\":0,\"ticks\":\"\"}}],\"scatter\":[{\"fillpattern\":{\"fillmode\":\"overlay\",\"size\":10,\"solidity\":0.2},\"type\":\"scatter\"}],\"parcoords\":[{\"type\":\"parcoords\",\"line\":{\"colorbar\":{\"outlinewidth\":0,\"ticks\":\"\"}}}],\"scatterpolargl\":[{\"type\":\"scatterpolargl\",\"marker\":{\"colorbar\":{\"outlinewidth\":0,\"ticks\":\"\"}}}],\"bar\":[{\"error_x\":{\"color\":\"#2a3f5f\"},\"error_y\":{\"color\":\"#2a3f5f\"},\"marker\":{\"line\":{\"color\":\"#E5ECF6\",\"width\":0.5},\"pattern\":{\"fillmode\":\"overlay\",\"size\":10,\"solidity\":0.2}},\"type\":\"bar\"}],\"scattergeo\":[{\"type\":\"scattergeo\",\"marker\":{\"colorbar\":{\"outlinewidth\":0,\"ticks\":\"\"}}}],\"scatterpolar\":[{\"type\":\"scatterpolar\",\"marker\":{\"colorbar\":{\"outlinewidth\":0,\"ticks\":\"\"}}}],\"histogram\":[{\"marker\":{\"pattern\":{\"fillmode\":\"overlay\",\"size\":10,\"solidity\":0.2}},\"type\":\"histogram\"}],\"scattergl\":[{\"type\":\"scattergl\",\"marker\":{\"colorbar\":{\"outlinewidth\":0,\"ticks\":\"\"}}}],\"scatter3d\":[{\"type\":\"scatter3d\",\"line\":{\"colorbar\":{\"outlinewidth\":0,\"ticks\":\"\"}},\"marker\":{\"colorbar\":{\"outlinewidth\":0,\"ticks\":\"\"}}}],\"scattermapbox\":[{\"type\":\"scattermapbox\",\"marker\":{\"colorbar\":{\"outlinewidth\":0,\"ticks\":\"\"}}}],\"scatterternary\":[{\"type\":\"scatterternary\",\"marker\":{\"colorbar\":{\"outlinewidth\":0,\"ticks\":\"\"}}}],\"scattercarpet\":[{\"type\":\"scattercarpet\",\"marker\":{\"colorbar\":{\"outlinewidth\":0,\"ticks\":\"\"}}}],\"carpet\":[{\"aaxis\":{\"endlinecolor\":\"#2a3f5f\",\"gridcolor\":\"white\",\"linecolor\":\"white\",\"minorgridcolor\":\"white\",\"startlinecolor\":\"#2a3f5f\"},\"baxis\":{\"endlinecolor\":\"#2a3f5f\",\"gridcolor\":\"white\",\"linecolor\":\"white\",\"minorgridcolor\":\"white\",\"startlinecolor\":\"#2a3f5f\"},\"type\":\"carpet\"}],\"table\":[{\"cells\":{\"fill\":{\"color\":\"#EBF0F8\"},\"line\":{\"color\":\"white\"}},\"header\":{\"fill\":{\"color\":\"#C8D4E3\"},\"line\":{\"color\":\"white\"}},\"type\":\"table\"}],\"barpolar\":[{\"marker\":{\"line\":{\"color\":\"#E5ECF6\",\"width\":0.5},\"pattern\":{\"fillmode\":\"overlay\",\"size\":10,\"solidity\":0.2}},\"type\":\"barpolar\"}],\"pie\":[{\"automargin\":true,\"type\":\"pie\"}]},\"layout\":{\"autotypenumbers\":\"strict\",\"colorway\":[\"#636efa\",\"#EF553B\",\"#00cc96\",\"#ab63fa\",\"#FFA15A\",\"#19d3f3\",\"#FF6692\",\"#B6E880\",\"#FF97FF\",\"#FECB52\"],\"font\":{\"color\":\"#2a3f5f\"},\"hovermode\":\"closest\",\"hoverlabel\":{\"align\":\"left\"},\"paper_bgcolor\":\"white\",\"plot_bgcolor\":\"#E5ECF6\",\"polar\":{\"bgcolor\":\"#E5ECF6\",\"angularaxis\":{\"gridcolor\":\"white\",\"linecolor\":\"white\",\"ticks\":\"\"},\"radialaxis\":{\"gridcolor\":\"white\",\"linecolor\":\"white\",\"ticks\":\"\"}},\"ternary\":{\"bgcolor\":\"#E5ECF6\",\"aaxis\":{\"gridcolor\":\"white\",\"linecolor\":\"white\",\"ticks\":\"\"},\"baxis\":{\"gridcolor\":\"white\",\"linecolor\":\"white\",\"ticks\":\"\"},\"caxis\":{\"gridcolor\":\"white\",\"linecolor\":\"white\",\"ticks\":\"\"}},\"coloraxis\":{\"colorbar\":{\"outlinewidth\":0,\"ticks\":\"\"}},\"colorscale\":{\"sequential\":[[0.0,\"#0d0887\"],[0.1111111111111111,\"#46039f\"],[0.2222222222222222,\"#7201a8\"],[0.3333333333333333,\"#9c179e\"],[0.4444444444444444,\"#bd3786\"],[0.5555555555555556,\"#d8576b\"],[0.6666666666666666,\"#ed7953\"],[0.7777777777777778,\"#fb9f3a\"],[0.8888888888888888,\"#fdca26\"],[1.0,\"#f0f921\"]],\"sequentialminus\":[[0.0,\"#0d0887\"],[0.1111111111111111,\"#46039f\"],[0.2222222222222222,\"#7201a8\"],[0.3333333333333333,\"#9c179e\"],[0.4444444444444444,\"#bd3786\"],[0.5555555555555556,\"#d8576b\"],[0.6666666666666666,\"#ed7953\"],[0.7777777777777778,\"#fb9f3a\"],[0.8888888888888888,\"#fdca26\"],[1.0,\"#f0f921\"]],\"diverging\":[[0,\"#8e0152\"],[0.1,\"#c51b7d\"],[0.2,\"#de77ae\"],[0.3,\"#f1b6da\"],[0.4,\"#fde0ef\"],[0.5,\"#f7f7f7\"],[0.6,\"#e6f5d0\"],[0.7,\"#b8e186\"],[0.8,\"#7fbc41\"],[0.9,\"#4d9221\"],[1,\"#276419\"]]},\"xaxis\":{\"gridcolor\":\"white\",\"linecolor\":\"white\",\"ticks\":\"\",\"title\":{\"standoff\":15},\"zerolinecolor\":\"white\",\"automargin\":true,\"zerolinewidth\":2},\"yaxis\":{\"gridcolor\":\"white\",\"linecolor\":\"white\",\"ticks\":\"\",\"title\":{\"standoff\":15},\"zerolinecolor\":\"white\",\"automargin\":true,\"zerolinewidth\":2},\"scene\":{\"xaxis\":{\"backgroundcolor\":\"#E5ECF6\",\"gridcolor\":\"white\",\"linecolor\":\"white\",\"showbackground\":true,\"ticks\":\"\",\"zerolinecolor\":\"white\",\"gridwidth\":2},\"yaxis\":{\"backgroundcolor\":\"#E5ECF6\",\"gridcolor\":\"white\",\"linecolor\":\"white\",\"showbackground\":true,\"ticks\":\"\",\"zerolinecolor\":\"white\",\"gridwidth\":2},\"zaxis\":{\"backgroundcolor\":\"#E5ECF6\",\"gridcolor\":\"white\",\"linecolor\":\"white\",\"showbackground\":true,\"ticks\":\"\",\"zerolinecolor\":\"white\",\"gridwidth\":2}},\"shapedefaults\":{\"line\":{\"color\":\"#2a3f5f\"}},\"annotationdefaults\":{\"arrowcolor\":\"#2a3f5f\",\"arrowhead\":0,\"arrowwidth\":1},\"geo\":{\"bgcolor\":\"white\",\"landcolor\":\"#E5ECF6\",\"subunitcolor\":\"white\",\"showland\":true,\"showlakes\":true,\"lakecolor\":\"white\"},\"title\":{\"x\":0.05},\"mapbox\":{\"style\":\"light\"}}},\"xaxis\":{\"anchor\":\"y\",\"domain\":[0.0,1.0],\"title\":{\"text\":\"Year\"}},\"yaxis\":{\"anchor\":\"x\",\"domain\":[0.0,1.0],\"title\":{\"text\":\"Count\"}},\"legend\":{\"title\":{\"text\":\"variable\"},\"tracegroupgap\":0},\"title\":{\"text\":\"Letter Count by Year\"},\"barmode\":\"relative\",\"showlegend\":false},                        {\"responsive\": true}                    ).then(function(){\n",
       "                            \n",
       "var gd = document.getElementById('0c47c041-ad0c-4307-be22-71fd8c80372d');\n",
       "var x = new MutationObserver(function (mutations, observer) {{\n",
       "        var display = window.getComputedStyle(gd).display;\n",
       "        if (!display || display === 'none') {{\n",
       "            console.log([gd, 'removed!']);\n",
       "            Plotly.purge(gd);\n",
       "            observer.disconnect();\n",
       "        }}\n",
       "}});\n",
       "\n",
       "// Listen for the removal of the full notebook cells\n",
       "var notebookContainer = gd.closest('#notebook-container');\n",
       "if (notebookContainer) {{\n",
       "    x.observe(notebookContainer, {childList: true});\n",
       "}}\n",
       "\n",
       "// Listen for the clearing of the current output cell\n",
       "var outputEl = gd.closest('.output');\n",
       "if (outputEl) {{\n",
       "    x.observe(outputEl, {childList: true});\n",
       "}}\n",
       "\n",
       "                        })                };                });            </script>        </div>"
      ]
     },
     "metadata": {},
     "output_type": "display_data"
    }
   ],
   "source": [
    "year_counts_non_henslow = year_counts(non_henslow_df)\n",
    "letter_nums_non_hen = year_counts_plot(year_counts_non_henslow)\n",
    "letter_nums_non_hen"
   ]
  },
  {
   "cell_type": "markdown",
   "id": "bfc8b431",
   "metadata": {},
   "source": [
    "Use year_window_vis function to create a visualisation of topics over time, omitting years with very high or low numbers of letters."
   ]
  },
  {
   "cell_type": "code",
   "execution_count": 26,
   "id": "52743b66",
   "metadata": {},
   "outputs": [
    {
     "data": {
      "application/vnd.plotly.v1+json": {
       "config": {
        "plotlyServerURL": "https://plot.ly"
       },
       "data": [
        {
         "hoverinfo": "text",
         "hovertext": [
          "<b>Topic 0</b><br>Words: specimen, plant, insect, flora, cambridge",
          "<b>Topic 0</b><br>Words: plant, botany, specimen, flora, cambridge",
          "<b>Topic 0</b><br>Words: plant, arvensis, specimen, fruit, cambridge",
          "<b>Topic 0</b><br>Words: plant, specimen, cambridge, book, catalogue",
          "<b>Topic 0</b><br>Words: fossil, hitcham_bildeston, specimen, suffolk, quil",
          "<b>Topic 0</b><br>Words: nodule, winchester, london_clay, suffolk, cowslip",
          "<b>Topic 0</b><br>Words: baron, duke, cycadeae, ludwig, superintendence",
          "<b>Topic 0</b><br>Words: suffolk, ipswich, museum, letter, term",
          "<b>Topic 0</b><br>Words: fauna, suffolk, museum, epoch, paper",
          "<b>Topic 0</b><br>Words: suffolk, museum, invitation, bee, london",
          "<b>Topic 0</b><br>Words: museum, paper, suffolk, london, ipswich",
          "<b>Topic 0</b><br>Words: museum, london, suffolk, paper, cambridge",
          "<b>Topic 0</b><br>Words: london, museum, seed, book, fossil",
          "<b>Topic 0</b><br>Words: suffolk, museum, abbeville, botany, downing_terrace"
         ],
         "marker": {
          "color": "#E69F00"
         },
         "mode": "markers",
         "name": "0_museum_specimen_suffolk_plant",
         "type": "scatter",
         "x": [
          "1825-01-09T21:18:43.200000",
          "1826-11-09T14:24:00",
          "1828-08-26T04:48:00",
          "1830-06-12T19:12:00",
          "1839-06-03T19:12:00",
          "1844-10-21T14:24:00",
          "1846-08-08T04:48:00",
          "1848-05-24T19:12:00",
          "1850-03-11T09:36:00",
          "1851-12-27T00:00:00",
          "1853-10-12T14:24:00",
          "1855-07-30T04:48:00",
          "1857-05-15T19:12:00",
          "1859-03-02T09:36:00"
         ],
         "y": [
          63,
          134,
          247,
          247,
          47,
          27,
          5,
          75,
          61,
          66,
          118,
          178,
          102,
          152
         ]
        },
        {
         "hoverinfo": "text",
         "hovertext": [
          "<b>Topic 1</b><br>Words: parliament, interest, university, support, candidate",
          "<b>Topic 1</b><br>Words: jenyns, science, none, sandmartin, possesse",
          "<b>Topic 1</b><br>Words: thess, jenyns, soc, mistake, mind",
          "<b>Topic 1</b><br>Words: family, jenyns, theo, fanny, louisa",
          "<b>Topic 1</b><br>Words: refusal, qualifying, append, confirmation, misstatement",
          "<b>Topic 1</b><br>Words: fanny, louisa, evidence, appointment, government",
          "<b>Topic 1</b><br>Words: suff, louisa, fanny, harriet, love",
          "<b>Topic 1</b><br>Words: harriet, comment, testimony, love, wife",
          "<b>Topic 1</b><br>Words: objection, whewell, convenient, tuition, qualification",
          "<b>Topic 1</b><br>Words: currey, cadetship, nomination, candidate, note",
          "<b>Topic 1</b><br>Words: harriet, mss, note, daughter, maud",
          "<b>Topic 1</b><br>Words: qualification, comment, evidence, education, harriet",
          "<b>Topic 1</b><br>Words: fanny, correction, harriet, affect_ly, wife",
          "<b>Topic 1</b><br>Words: louisa, love, affect_ly, jenyn, theory"
         ],
         "marker": {
          "color": "#56B4E9"
         },
         "mode": "markers",
         "name": "1_louisa_fanny_harriet_love",
         "type": "scatter",
         "x": [
          "1825-01-09T21:18:43.200000",
          "1826-11-09T14:24:00",
          "1828-08-26T04:48:00",
          "1830-06-12T19:12:00",
          "1839-06-03T19:12:00",
          "1844-10-21T14:24:00",
          "1846-08-08T04:48:00",
          "1848-05-24T19:12:00",
          "1850-03-11T09:36:00",
          "1851-12-27T00:00:00",
          "1853-10-12T14:24:00",
          "1855-07-30T04:48:00",
          "1857-05-15T19:12:00",
          "1859-03-02T09:36:00"
         ],
         "y": [
          22,
          29,
          38,
          42,
          9,
          17,
          1,
          28,
          16,
          20,
          31,
          48,
          35,
          48
         ]
        },
        {
         "hoverinfo": "text",
         "hovertext": [
          "<b>Topic 2</b><br>Words: support, pointing, emancipation, strenuous, obstacle",
          "<b>Topic 2</b><br>Words: value, rself, coral, cooperation, commencement",
          "<b>Topic 2</b><br>Words: kindness, circumstance, liberty, church, assistance",
          "<b>Topic 2</b><br>Words: circumstance, kindness, church, liberty, pulpit",
          "<b>Topic 2</b><br>Words: testimony, circumstance, orthodox, scientifico, calumny",
          "<b>Topic 2</b><br>Words: ignorance, opposition, effort, exertion, case",
          "<b>Topic 2</b><br>Words: sentence, baron, duke, excuse, liberty",
          "<b>Topic 2</b><br>Words: church, sabbath, god, liberty, lord",
          "<b>Topic 2</b><br>Words: church, holiday, clergyman, unwilling, apostle",
          "<b>Topic 2</b><br>Words: leech, cocoon, toryism, tradespeople, churchism",
          "<b>Topic 2</b><br>Words: side, chaffinch, mottled, instruct, cistern",
          "<b>Topic 2</b><br>Words: liberty, clergyman, habit, happiness, contrast",
          "<b>Topic 2</b><br>Words: church, rate, kindness, illeg, liberty",
          "<b>Topic 2</b><br>Words: circumstance, case, import, cure, forego"
         ],
         "marker": {
          "color": "#009E73"
         },
         "mode": "markers",
         "name": "2_church_liberty_kindness_circumstance",
         "type": "scatter",
         "x": [
          "1825-01-09T21:18:43.200000",
          "1826-11-09T14:24:00",
          "1828-08-26T04:48:00",
          "1830-06-12T19:12:00",
          "1839-06-03T19:12:00",
          "1844-10-21T14:24:00",
          "1846-08-08T04:48:00",
          "1848-05-24T19:12:00",
          "1850-03-11T09:36:00",
          "1851-12-27T00:00:00",
          "1853-10-12T14:24:00",
          "1855-07-30T04:48:00",
          "1857-05-15T19:12:00",
          "1859-03-02T09:36:00"
         ],
         "y": [
          4,
          6,
          31,
          38,
          5,
          2,
          1,
          19,
          11,
          5,
          9,
          30,
          12,
          10
         ]
        },
        {
         "hoverinfo": "text",
         "hovertext": [
          "<b>Topic 3</b><br>Words: copley, lefevre, goulburn, palmerston, hibbert",
          "<b>Topic 3</b><br>Words: graham, smith, supercede, todd, elford",
          "<b>Topic 3</b><br>Words: dalton, smith, lindley, henry, miller",
          "<b>Topic 3</b><br>Words: smith, haste, dalton, lindley, strand",
          "<b>Topic 3</b><br>Words: hurried, haste, excuse, smith, lindley",
          "<b>Topic 3</b><br>Words: integrity, smith, mackenzie, lament, reproach",
          "<b>Topic 3</b><br>Words: scott, haste, smith, lindley, henry",
          "<b>Topic 3</b><br>Words: hithe, algernon, shore, pollock, atriplex",
          "<b>Topic 3</b><br>Words: tufnell, deanery, lindley, hooker, haste",
          "<b>Topic 3</b><br>Words: moseley, henry, reid, wrangler, lyttleton",
          "<b>Topic 3</b><br>Words: moustache, tear, betn, dispatch, brentford",
          "<b>Topic 3</b><br>Words: haste, stanley, poole, expry, londerburgh",
          "<b>Topic 3</b><br>Words: lancester, edwin, patterson, cirencester, ellis",
          "<b>Topic 3</b><br>Words: john_evan, lindley, haste, hewett, watson"
         ],
         "marker": {
          "color": "#F0E442"
         },
         "mode": "markers",
         "name": "3_haste_smith_lindley_henry",
         "type": "scatter",
         "x": [
          "1825-01-09T21:18:43.200000",
          "1826-11-09T14:24:00",
          "1828-08-26T04:48:00",
          "1830-06-12T19:12:00",
          "1839-06-03T19:12:00",
          "1844-10-21T14:24:00",
          "1846-08-08T04:48:00",
          "1848-05-24T19:12:00",
          "1850-03-11T09:36:00",
          "1851-12-27T00:00:00",
          "1853-10-12T14:24:00",
          "1855-07-30T04:48:00",
          "1857-05-15T19:12:00",
          "1859-03-02T09:36:00"
         ],
         "y": [
          9,
          10,
          15,
          28,
          2,
          6,
          1,
          3,
          3,
          5,
          6,
          12,
          5,
          8
         ]
        },
        {
         "hoverinfo": "text",
         "hovertext": [
          "<b>Topic 4</b><br>Words: lime, oxide, essex, acid, grs",
          "<b>Topic 4</b><br>Words: heat, bottle, menstrum, binn, drainage",
          "<b>Topic 4</b><br>Words: silica, lime, glass, shale, acid",
          "<b>Topic 4</b><br>Words: lime, generis, sui, category, septaria",
          "<b>Topic 4</b><br>Words: shale, bottle, oil, wine, grease",
          "<b>Topic 4</b><br>Words: shale, lime, acid, oil, silica",
          "<b>Topic 4</b><br>Words: acid, adulteration, iron, topper, nitric",
          "<b>Topic 4</b><br>Words: oxide, platina, flame, glass, hydrogen",
          "<b>Topic 4</b><br>Words: fire, acid, fuel, sulphuric, fountain",
          "<b>Topic 4</b><br>Words: sewage, closet, substance, avail, discussion",
          "<b>Topic 4</b><br>Words: shale, diagram, club, fossil, lime"
         ],
         "marker": {
          "color": "#D55E00"
         },
         "mode": "markers",
         "name": "4_lime_shale_acid_oil",
         "type": "scatter",
         "x": [
          "1826-11-09T14:24:00",
          "1830-06-12T19:12:00",
          "1839-06-03T19:12:00",
          "1844-10-21T14:24:00",
          "1848-05-24T19:12:00",
          "1850-03-11T09:36:00",
          "1851-12-27T00:00:00",
          "1853-10-12T14:24:00",
          "1855-07-30T04:48:00",
          "1857-05-15T19:12:00",
          "1859-03-02T09:36:00"
         ],
         "y": [
          8,
          5,
          2,
          1,
          18,
          28,
          5,
          11,
          7,
          1,
          1
         ]
        },
        {
         "hoverinfo": "text",
         "hovertext": [
          "<b>Topic 5</b><br>Words: advertising, sell, confer, strike, labor",
          "<b>Topic 5</b><br>Words: course, lecture, classroom, lecturer, class",
          "<b>Topic 5</b><br>Words: forwardsame, gace, novice, lecture, futurity",
          "<b>Topic 5</b><br>Words: class, creature, course, messenger, tutor",
          "<b>Topic 5</b><br>Words: lecture, village, draughtsman, facility, easter",
          "<b>Topic 5</b><br>Words: memorial, lecture, page, morning, university",
          "<b>Topic 5</b><br>Words: lecture, course, attendance, ticket, professor",
          "<b>Topic 5</b><br>Words: lecture, planation, rote, supernumerary, auditor",
          "<b>Topic 5</b><br>Words: lecturet, lecture, occasion, crompton, albatross",
          "<b>Topic 5</b><br>Words: lecture, instruction, course, february, preparation",
          "<b>Topic 5</b><br>Words: lecture, student, course, particular, occasion",
          "<b>Topic 5</b><br>Words: lecture, lecturer, palace, opportunity, hope"
         ],
         "marker": {
          "color": "#0072B2"
         },
         "mode": "markers",
         "name": "5_lecture_course_class_lecturer",
         "type": "scatter",
         "x": [
          "1825-01-09T21:18:43.200000",
          "1826-11-09T14:24:00",
          "1828-08-26T04:48:00",
          "1830-06-12T19:12:00",
          "1839-06-03T19:12:00",
          "1846-08-08T04:48:00",
          "1848-05-24T19:12:00",
          "1851-12-27T00:00:00",
          "1853-10-12T14:24:00",
          "1855-07-30T04:48:00",
          "1857-05-15T19:12:00",
          "1859-03-02T09:36:00"
         ],
         "y": [
          1,
          12,
          4,
          5,
          5,
          1,
          10,
          5,
          6,
          16,
          10,
          12
         ]
        },
        {
         "hoverinfo": "text",
         "hovertext": [
          "<b>Topic 6</b><br>Words: hooker, dr, playfair, bunbury, sinclair",
          "<b>Topic 6</b><br>Words: hooker, filicum, icones, folio, days_ago",
          "<b>Topic 6</b><br>Words: hooker, hotel, haldane, twopenny, devil",
          "<b>Topic 6</b><br>Words: hooker, suberectus, fork, mistaken, mixta",
          "<b>Topic 6</b><br>Words: hooker, dr, playfair, bunbury, sinclair",
          "<b>Topic 6</b><br>Words: cast, hooker, mus, feb, purchase",
          "<b>Topic 6</b><br>Words: episode, confinement, hooker, news, history",
          "<b>Topic 6</b><br>Words: hooker, affte, cassel, jos, lyell",
          "<b>Topic 6</b><br>Words: hooker, bunbury, days_ago, expectant, refutation",
          "<b>Topic 6</b><br>Words: hooker, playfair, cirriped, griffin, collateral",
          "<b>Topic 6</b><br>Words: hooker, germany, hack, infinitely, clue",
          "<b>Topic 6</b><br>Words: hooker, sinclair, dr, regrets, kindest_regard",
          "<b>Topic 6</b><br>Words: hooker, sprung, lebanon, syria, berth"
         ],
         "marker": {
          "color": "#CC79A7"
         },
         "mode": "markers",
         "name": "6_hooker_dr_playfair_bunbury",
         "type": "scatter",
         "x": [
          "1825-01-09T21:18:43.200000",
          "1826-11-09T14:24:00",
          "1828-08-26T04:48:00",
          "1830-06-12T19:12:00",
          "1844-10-21T14:24:00",
          "1846-08-08T04:48:00",
          "1848-05-24T19:12:00",
          "1850-03-11T09:36:00",
          "1851-12-27T00:00:00",
          "1853-10-12T14:24:00",
          "1855-07-30T04:48:00",
          "1857-05-15T19:12:00",
          "1859-03-02T09:36:00"
         ],
         "y": [
          1,
          5,
          8,
          10,
          1,
          1,
          1,
          2,
          7,
          7,
          9,
          10,
          4
         ]
        },
        {
         "hoverinfo": "text",
         "hovertext": [
          "<b>Topic 7</b><br>Words: plate, illiger, hister, hexoda, scarabidae",
          "<b>Topic 7</b><br>Words: plate, extra, excellence, miscellany, ii",
          "<b>Topic 7</b><br>Words: plate, madera, shell, cost, impression",
          "<b>Topic 7</b><br>Words: plate, pecop, crenation, brong, lonchitiea",
          "<b>Topic 7</b><br>Words: plate, mint, sol, rix, decm",
          "<b>Topic 7</b><br>Words: plate, presume, catch, sci, clk",
          "<b>Topic 7</b><br>Words: masse, piece, plate, stenotype, madera",
          "<b>Topic 7</b><br>Words: plate, stenotype, madera, piece, reference",
          "<b>Topic 7</b><br>Words: plate, potassium, pea, motion, frame",
          "<b>Topic 7</b><br>Words: plate, reference, sclater, zuetell, edification",
          "<b>Topic 7</b><br>Words: plate, stenotype, resetting, reduction, demand",
          "<b>Topic 7</b><br>Words: plate, axe, sandwich, orkney, edge"
         ],
         "marker": {
          "color": "#E69F00"
         },
         "mode": "markers",
         "name": "7_plate_stenotype_madera_piece",
         "type": "scatter",
         "x": [
          "1826-11-09T14:24:00",
          "1828-08-26T04:48:00",
          "1830-06-12T19:12:00",
          "1839-06-03T19:12:00",
          "1844-10-21T14:24:00",
          "1848-05-24T19:12:00",
          "1850-03-11T09:36:00",
          "1851-12-27T00:00:00",
          "1853-10-12T14:24:00",
          "1855-07-30T04:48:00",
          "1857-05-15T19:12:00",
          "1859-03-02T09:36:00"
         ],
         "y": [
          6,
          3,
          15,
          7,
          1,
          5,
          1,
          1,
          2,
          6,
          2,
          3
         ]
        },
        {
         "hoverinfo": "text",
         "hovertext": [
          "<b>Topic 8</b><br>Words: liver, dpalmerston, absentee, greece, arisen",
          "<b>Topic 8</b><br>Words: sickness, italy, health, leach, dine",
          "<b>Topic 8</b><br>Words: illness, health, hypochondriasis, headache, epidemic",
          "<b>Topic 8</b><br>Words: health, illness, care, sickness, digit",
          "<b>Topic 8</b><br>Words: paralysis, nerve, hastings, calvert, delight",
          "<b>Topic 8</b><br>Words: health, deprive, furrow, rheumatism, shin",
          "<b>Topic 8</b><br>Words: improved_health, health, illness, care, sickness",
          "<b>Topic 8</b><br>Words: health, broom, idle, lichfield, physician",
          "<b>Topic 8</b><br>Words: derangement, health, relaxation, doctor, organ",
          "<b>Topic 8</b><br>Words: wrist, coughs, health, louise, month",
          "<b>Topic 8</b><br>Words: illness, health, jane, winter, week"
         ],
         "marker": {
          "color": "#56B4E9"
         },
         "mode": "markers",
         "name": "8_health_illness_care_sickness",
         "type": "scatter",
         "x": [
          "1825-01-09T21:18:43.200000",
          "1826-11-09T14:24:00",
          "1828-08-26T04:48:00",
          "1830-06-12T19:12:00",
          "1839-06-03T19:12:00",
          "1848-05-24T19:12:00",
          "1850-03-11T09:36:00",
          "1851-12-27T00:00:00",
          "1853-10-12T14:24:00",
          "1857-05-15T19:12:00",
          "1859-03-02T09:36:00"
         ],
         "y": [
          2,
          3,
          6,
          6,
          1,
          4,
          1,
          4,
          5,
          7,
          11
         ]
        },
        {
         "hoverinfo": "text",
         "hovertext": [
          "<b>Topic 9</b><br>Words: sorrento, breath, gasp, kirby, summer",
          "<b>Topic 9</b><br>Words: rothsay, bute, edinbr, april, possibility",
          "<b>Topic 9</b><br>Words: deserta, delight, summer, july, april",
          "<b>Topic 9</b><br>Words: summer, june, april, ber, season",
          "<b>Topic 9</b><br>Words: postmark, cd, july, day, summer",
          "<b>Topic 9</b><br>Words: rap, wait, end, august, summer",
          "<b>Topic 9</b><br>Words: god, january, summer, july, april",
          "<b>Topic 9</b><br>Words: vile, distemper, temper, summer, spring",
          "<b>Topic 9</b><br>Words: fillip, trip, feb, summer, july",
          "<b>Topic 9</b><br>Words: moon, document, half, april, summer",
          "<b>Topic 9</b><br>Words: july, month, february, bristow, press",
          "<b>Topic 9</b><br>Words: feb, october, april, summer, july",
          "<b>Topic 9</b><br>Words: summer, june, visitation, ampney, heat"
         ],
         "marker": {
          "color": "#009E73"
         },
         "mode": "markers",
         "name": "9_summer_july_april_june",
         "type": "scatter",
         "x": [
          "1825-01-09T21:18:43.200000",
          "1826-11-09T14:24:00",
          "1828-08-26T04:48:00",
          "1830-06-12T19:12:00",
          "1839-06-03T19:12:00",
          "1844-10-21T14:24:00",
          "1848-05-24T19:12:00",
          "1850-03-11T09:36:00",
          "1851-12-27T00:00:00",
          "1853-10-12T14:24:00",
          "1855-07-30T04:48:00",
          "1857-05-15T19:12:00",
          "1859-03-02T09:36:00"
         ],
         "y": [
          3,
          5,
          1,
          18,
          2,
          1,
          1,
          1,
          2,
          1,
          7,
          2,
          5
         ]
        },
        {
         "hoverinfo": "text",
         "hovertext": [
          "<b>Topic 10</b><br>Words: particular, society, house, home, cottage",
          "<b>Topic 10</b><br>Words: house, home, cottage, trespass, residence",
          "<b>Topic 10</b><br>Words: house, home, trespass, clothing, cray",
          "<b>Topic 10</b><br>Words: build, kinrossshire, trespass, brevity, house",
          "<b>Topic 10</b><br>Words: wallich, bother, beauty, leg, home",
          "<b>Topic 10</b><br>Words: home, kiss, hy, waterhouse, goddaughter",
          "<b>Topic 10</b><br>Words: attic, sake, neighbour, occasion, object",
          "<b>Topic 10</b><br>Words: deed, hunt, collector, visit, occupation",
          "<b>Topic 10</b><br>Words: house, home, cottage, taste, mayor",
          "<b>Topic 10</b><br>Words: home, furniture, house, hunt, situation",
          "<b>Topic 10</b><br>Words: house, home, residence, beloved, cheery"
         ],
         "marker": {
          "color": "#F0E442"
         },
         "mode": "markers",
         "name": "10_house_home_cottage_trespass",
         "type": "scatter",
         "x": [
          "1825-01-09T21:18:43.200000",
          "1826-11-09T14:24:00",
          "1828-08-26T04:48:00",
          "1830-06-12T19:12:00",
          "1848-05-24T19:12:00",
          "1850-03-11T09:36:00",
          "1851-12-27T00:00:00",
          "1853-10-12T14:24:00",
          "1855-07-30T04:48:00",
          "1857-05-15T19:12:00",
          "1859-03-02T09:36:00"
         ],
         "y": [
          1,
          1,
          7,
          4,
          2,
          6,
          1,
          3,
          10,
          4,
          7
         ]
        },
        {
         "hoverinfo": "text",
         "hovertext": [
          "<b>Topic 11</b><br>Words: brother, finale, curtis, esteem, favor",
          "<b>Topic 11</b><br>Words: brother, daehne, adr, anthony, dock",
          "<b>Topic 11</b><br>Words: brother, sister, marmaduke, anticipation, edinb",
          "<b>Topic 11</b><br>Words: might, brother, sample, assure, subscriber",
          "<b>Topic 11</b><br>Words: sister, closing, brother, william, article",
          "<b>Topic 11</b><br>Words: educate, shd, kew, pity, brother",
          "<b>Topic 11</b><br>Words: aunt, stratton, brother, death, sister",
          "<b>Topic 11</b><br>Words: graduate, art, brother, sister, death",
          "<b>Topic 11</b><br>Words: brother, sister, mourning, uncle, ed",
          "<b>Topic 11</b><br>Words: sister, brother, death, wife, law"
         ],
         "marker": {
          "color": "#D55E00"
         },
         "mode": "markers",
         "name": "11_brother_sister_death_wife",
         "type": "scatter",
         "x": [
          "1826-11-09T14:24:00",
          "1828-08-26T04:48:00",
          "1830-06-12T19:12:00",
          "1844-10-21T14:24:00",
          "1850-03-11T09:36:00",
          "1851-12-27T00:00:00",
          "1853-10-12T14:24:00",
          "1855-07-30T04:48:00",
          "1857-05-15T19:12:00",
          "1859-03-02T09:36:00"
         ],
         "y": [
          2,
          4,
          12,
          1,
          3,
          2,
          3,
          1,
          7,
          9
         ]
        },
        {
         "hoverinfo": "text",
         "hovertext": [
          "<b>Topic 12</b><br>Words: instant, fatigue, hour, minute, clock",
          "<b>Topic 12</b><br>Words: chee, morning, tor, clock, harvest",
          "<b>Topic 12</b><br>Words: clock, chimney, recovery, proceed, interval",
          "<b>Topic 12</b><br>Words: dream, opiate, part, succession, particle",
          "<b>Topic 12</b><br>Words: nature, day, minute, hour, clock",
          "<b>Topic 12</b><br>Words: ireland, suit, hour, evening, morning",
          "<b>Topic 12</b><br>Words: minute, afternoon, hour, clock, morning",
          "<b>Topic 12</b><br>Words: hour, daylight, stint, clear, implie",
          "<b>Topic 12</b><br>Words: minute, clock, stop, sheep, suffice",
          "<b>Topic 12</b><br>Words: minute, evening, portland, steamer, midnight"
         ],
         "marker": {
          "color": "#0072B2"
         },
         "mode": "markers",
         "name": "12_minute_hour_clock_morning",
         "type": "scatter",
         "x": [
          "1826-11-09T14:24:00",
          "1828-08-26T04:48:00",
          "1830-06-12T19:12:00",
          "1848-05-24T19:12:00",
          "1850-03-11T09:36:00",
          "1851-12-27T00:00:00",
          "1853-10-12T14:24:00",
          "1855-07-30T04:48:00",
          "1857-05-15T19:12:00",
          "1859-03-02T09:36:00"
         ],
         "y": [
          2,
          3,
          4,
          2,
          1,
          4,
          3,
          8,
          7,
          8
         ]
        },
        {
         "hoverinfo": "text",
         "hovertext": [
          "<b>Topic 13</b><br>Words: specie, garden, plant, spec, scheme",
          "<b>Topic 13</b><br>Words: specie, spec, scheme, speciman, race",
          "<b>Topic 13</b><br>Words: spec, specie, bowd, scapania, lam",
          "<b>Topic 13</b><br>Words: spec, specie, interesting, tis, profusion",
          "<b>Topic 13</b><br>Words: specie, sight, moment, tho, spec",
          "<b>Topic 13</b><br>Words: compass, specie, owen, spec, scheme",
          "<b>Topic 13</b><br>Words: specie, hate, spec, moniliforme, treat",
          "<b>Topic 13</b><br>Words: zetterstedt, vo, mortification, diptera, increase",
          "<b>Topic 13</b><br>Words: mantell, scheme, lyell, description, speciman",
          "<b>Topic 13</b><br>Words: specie, race, sport, gem, sparkle",
          "<b>Topic 13</b><br>Words: ex, scheme, specie, spec, speciman",
          "<b>Topic 13</b><br>Words: specie, wingfull, covert, inc, scheme"
         ],
         "marker": {
          "color": "#CC79A7"
         },
         "mode": "markers",
         "name": "13_specie_spec_scheme_speciman",
         "type": "scatter",
         "x": [
          "1825-01-09T21:18:43.200000",
          "1826-11-09T14:24:00",
          "1828-08-26T04:48:00",
          "1830-06-12T19:12:00",
          "1839-06-03T19:12:00",
          "1844-10-21T14:24:00",
          "1848-05-24T19:12:00",
          "1850-03-11T09:36:00",
          "1851-12-27T00:00:00",
          "1855-07-30T04:48:00",
          "1857-05-15T19:12:00",
          "1859-03-02T09:36:00"
         ],
         "y": [
          2,
          2,
          7,
          4,
          4,
          1,
          4,
          1,
          2,
          4,
          1,
          5
         ]
        },
        {
         "hoverinfo": "text",
         "hovertext": [
          "<b>Topic 14</b><br>Words: hand, bind, meantime, demonstration, spirit",
          "<b>Topic 14</b><br>Words: hand, octbr, macfarlan, consumption, lend",
          "<b>Topic 14</b><br>Words: hand, word, jsh, hook, crook",
          "<b>Topic 14</b><br>Words: department, hand, jsh, hook, crook",
          "<b>Topic 14</b><br>Words: sabini, woolwich, col, hand, office",
          "<b>Topic 14</b><br>Words: hand, jsh, turtle, humerus, restoration",
          "<b>Topic 14</b><br>Words: admiralty, reclaim, hook, crook, hand",
          "<b>Topic 14</b><br>Words: tirade, present, bonnet, obstacle, hand",
          "<b>Topic 14</b><br>Words: hand, jsh, java, allottee, jetton",
          "<b>Topic 14</b><br>Words: philpott, jsh, hand, hour, hook",
          "<b>Topic 14</b><br>Words: hand, hook, crook, handle, wire"
         ],
         "marker": {
          "color": "#E69F00"
         },
         "mode": "markers",
         "name": "14_hand_jsh_hook_crook",
         "type": "scatter",
         "x": [
          "1826-11-09T14:24:00",
          "1828-08-26T04:48:00",
          "1830-06-12T19:12:00",
          "1839-06-03T19:12:00",
          "1844-10-21T14:24:00",
          "1848-05-24T19:12:00",
          "1850-03-11T09:36:00",
          "1853-10-12T14:24:00",
          "1855-07-30T04:48:00",
          "1857-05-15T19:12:00",
          "1859-03-02T09:36:00"
         ],
         "y": [
          3,
          4,
          2,
          1,
          1,
          4,
          2,
          2,
          8,
          1,
          8
         ]
        }
       ],
       "layout": {
        "height": 500,
        "hoverlabel": {
         "bgcolor": "white",
         "font": {
          "family": "Rockwell",
          "size": 16
         }
        },
        "legend": {
         "title": {
          "text": "<b>Global Topic Representation"
         }
        },
        "template": {
         "data": {
          "bar": [
           {
            "error_x": {
             "color": "rgb(36,36,36)"
            },
            "error_y": {
             "color": "rgb(36,36,36)"
            },
            "marker": {
             "line": {
              "color": "white",
              "width": 0.5
             },
             "pattern": {
              "fillmode": "overlay",
              "size": 10,
              "solidity": 0.2
             }
            },
            "type": "bar"
           }
          ],
          "barpolar": [
           {
            "marker": {
             "line": {
              "color": "white",
              "width": 0.5
             },
             "pattern": {
              "fillmode": "overlay",
              "size": 10,
              "solidity": 0.2
             }
            },
            "type": "barpolar"
           }
          ],
          "carpet": [
           {
            "aaxis": {
             "endlinecolor": "rgb(36,36,36)",
             "gridcolor": "white",
             "linecolor": "white",
             "minorgridcolor": "white",
             "startlinecolor": "rgb(36,36,36)"
            },
            "baxis": {
             "endlinecolor": "rgb(36,36,36)",
             "gridcolor": "white",
             "linecolor": "white",
             "minorgridcolor": "white",
             "startlinecolor": "rgb(36,36,36)"
            },
            "type": "carpet"
           }
          ],
          "choropleth": [
           {
            "colorbar": {
             "outlinewidth": 1,
             "tickcolor": "rgb(36,36,36)",
             "ticks": "outside"
            },
            "type": "choropleth"
           }
          ],
          "contour": [
           {
            "colorbar": {
             "outlinewidth": 1,
             "tickcolor": "rgb(36,36,36)",
             "ticks": "outside"
            },
            "colorscale": [
             [
              0,
              "#440154"
             ],
             [
              0.1111111111111111,
              "#482878"
             ],
             [
              0.2222222222222222,
              "#3e4989"
             ],
             [
              0.3333333333333333,
              "#31688e"
             ],
             [
              0.4444444444444444,
              "#26828e"
             ],
             [
              0.5555555555555556,
              "#1f9e89"
             ],
             [
              0.6666666666666666,
              "#35b779"
             ],
             [
              0.7777777777777778,
              "#6ece58"
             ],
             [
              0.8888888888888888,
              "#b5de2b"
             ],
             [
              1,
              "#fde725"
             ]
            ],
            "type": "contour"
           }
          ],
          "contourcarpet": [
           {
            "colorbar": {
             "outlinewidth": 1,
             "tickcolor": "rgb(36,36,36)",
             "ticks": "outside"
            },
            "type": "contourcarpet"
           }
          ],
          "heatmap": [
           {
            "colorbar": {
             "outlinewidth": 1,
             "tickcolor": "rgb(36,36,36)",
             "ticks": "outside"
            },
            "colorscale": [
             [
              0,
              "#440154"
             ],
             [
              0.1111111111111111,
              "#482878"
             ],
             [
              0.2222222222222222,
              "#3e4989"
             ],
             [
              0.3333333333333333,
              "#31688e"
             ],
             [
              0.4444444444444444,
              "#26828e"
             ],
             [
              0.5555555555555556,
              "#1f9e89"
             ],
             [
              0.6666666666666666,
              "#35b779"
             ],
             [
              0.7777777777777778,
              "#6ece58"
             ],
             [
              0.8888888888888888,
              "#b5de2b"
             ],
             [
              1,
              "#fde725"
             ]
            ],
            "type": "heatmap"
           }
          ],
          "heatmapgl": [
           {
            "colorbar": {
             "outlinewidth": 1,
             "tickcolor": "rgb(36,36,36)",
             "ticks": "outside"
            },
            "colorscale": [
             [
              0,
              "#440154"
             ],
             [
              0.1111111111111111,
              "#482878"
             ],
             [
              0.2222222222222222,
              "#3e4989"
             ],
             [
              0.3333333333333333,
              "#31688e"
             ],
             [
              0.4444444444444444,
              "#26828e"
             ],
             [
              0.5555555555555556,
              "#1f9e89"
             ],
             [
              0.6666666666666666,
              "#35b779"
             ],
             [
              0.7777777777777778,
              "#6ece58"
             ],
             [
              0.8888888888888888,
              "#b5de2b"
             ],
             [
              1,
              "#fde725"
             ]
            ],
            "type": "heatmapgl"
           }
          ],
          "histogram": [
           {
            "marker": {
             "line": {
              "color": "white",
              "width": 0.6
             }
            },
            "type": "histogram"
           }
          ],
          "histogram2d": [
           {
            "colorbar": {
             "outlinewidth": 1,
             "tickcolor": "rgb(36,36,36)",
             "ticks": "outside"
            },
            "colorscale": [
             [
              0,
              "#440154"
             ],
             [
              0.1111111111111111,
              "#482878"
             ],
             [
              0.2222222222222222,
              "#3e4989"
             ],
             [
              0.3333333333333333,
              "#31688e"
             ],
             [
              0.4444444444444444,
              "#26828e"
             ],
             [
              0.5555555555555556,
              "#1f9e89"
             ],
             [
              0.6666666666666666,
              "#35b779"
             ],
             [
              0.7777777777777778,
              "#6ece58"
             ],
             [
              0.8888888888888888,
              "#b5de2b"
             ],
             [
              1,
              "#fde725"
             ]
            ],
            "type": "histogram2d"
           }
          ],
          "histogram2dcontour": [
           {
            "colorbar": {
             "outlinewidth": 1,
             "tickcolor": "rgb(36,36,36)",
             "ticks": "outside"
            },
            "colorscale": [
             [
              0,
              "#440154"
             ],
             [
              0.1111111111111111,
              "#482878"
             ],
             [
              0.2222222222222222,
              "#3e4989"
             ],
             [
              0.3333333333333333,
              "#31688e"
             ],
             [
              0.4444444444444444,
              "#26828e"
             ],
             [
              0.5555555555555556,
              "#1f9e89"
             ],
             [
              0.6666666666666666,
              "#35b779"
             ],
             [
              0.7777777777777778,
              "#6ece58"
             ],
             [
              0.8888888888888888,
              "#b5de2b"
             ],
             [
              1,
              "#fde725"
             ]
            ],
            "type": "histogram2dcontour"
           }
          ],
          "mesh3d": [
           {
            "colorbar": {
             "outlinewidth": 1,
             "tickcolor": "rgb(36,36,36)",
             "ticks": "outside"
            },
            "type": "mesh3d"
           }
          ],
          "parcoords": [
           {
            "line": {
             "colorbar": {
              "outlinewidth": 1,
              "tickcolor": "rgb(36,36,36)",
              "ticks": "outside"
             }
            },
            "type": "parcoords"
           }
          ],
          "pie": [
           {
            "automargin": true,
            "type": "pie"
           }
          ],
          "scatter": [
           {
            "fillpattern": {
             "fillmode": "overlay",
             "size": 10,
             "solidity": 0.2
            },
            "type": "scatter"
           }
          ],
          "scatter3d": [
           {
            "line": {
             "colorbar": {
              "outlinewidth": 1,
              "tickcolor": "rgb(36,36,36)",
              "ticks": "outside"
             }
            },
            "marker": {
             "colorbar": {
              "outlinewidth": 1,
              "tickcolor": "rgb(36,36,36)",
              "ticks": "outside"
             }
            },
            "type": "scatter3d"
           }
          ],
          "scattercarpet": [
           {
            "marker": {
             "colorbar": {
              "outlinewidth": 1,
              "tickcolor": "rgb(36,36,36)",
              "ticks": "outside"
             }
            },
            "type": "scattercarpet"
           }
          ],
          "scattergeo": [
           {
            "marker": {
             "colorbar": {
              "outlinewidth": 1,
              "tickcolor": "rgb(36,36,36)",
              "ticks": "outside"
             }
            },
            "type": "scattergeo"
           }
          ],
          "scattergl": [
           {
            "marker": {
             "colorbar": {
              "outlinewidth": 1,
              "tickcolor": "rgb(36,36,36)",
              "ticks": "outside"
             }
            },
            "type": "scattergl"
           }
          ],
          "scattermapbox": [
           {
            "marker": {
             "colorbar": {
              "outlinewidth": 1,
              "tickcolor": "rgb(36,36,36)",
              "ticks": "outside"
             }
            },
            "type": "scattermapbox"
           }
          ],
          "scatterpolar": [
           {
            "marker": {
             "colorbar": {
              "outlinewidth": 1,
              "tickcolor": "rgb(36,36,36)",
              "ticks": "outside"
             }
            },
            "type": "scatterpolar"
           }
          ],
          "scatterpolargl": [
           {
            "marker": {
             "colorbar": {
              "outlinewidth": 1,
              "tickcolor": "rgb(36,36,36)",
              "ticks": "outside"
             }
            },
            "type": "scatterpolargl"
           }
          ],
          "scatterternary": [
           {
            "marker": {
             "colorbar": {
              "outlinewidth": 1,
              "tickcolor": "rgb(36,36,36)",
              "ticks": "outside"
             }
            },
            "type": "scatterternary"
           }
          ],
          "surface": [
           {
            "colorbar": {
             "outlinewidth": 1,
             "tickcolor": "rgb(36,36,36)",
             "ticks": "outside"
            },
            "colorscale": [
             [
              0,
              "#440154"
             ],
             [
              0.1111111111111111,
              "#482878"
             ],
             [
              0.2222222222222222,
              "#3e4989"
             ],
             [
              0.3333333333333333,
              "#31688e"
             ],
             [
              0.4444444444444444,
              "#26828e"
             ],
             [
              0.5555555555555556,
              "#1f9e89"
             ],
             [
              0.6666666666666666,
              "#35b779"
             ],
             [
              0.7777777777777778,
              "#6ece58"
             ],
             [
              0.8888888888888888,
              "#b5de2b"
             ],
             [
              1,
              "#fde725"
             ]
            ],
            "type": "surface"
           }
          ],
          "table": [
           {
            "cells": {
             "fill": {
              "color": "rgb(237,237,237)"
             },
             "line": {
              "color": "white"
             }
            },
            "header": {
             "fill": {
              "color": "rgb(217,217,217)"
             },
             "line": {
              "color": "white"
             }
            },
            "type": "table"
           }
          ]
         },
         "layout": {
          "annotationdefaults": {
           "arrowhead": 0,
           "arrowwidth": 1
          },
          "autotypenumbers": "strict",
          "coloraxis": {
           "colorbar": {
            "outlinewidth": 1,
            "tickcolor": "rgb(36,36,36)",
            "ticks": "outside"
           }
          },
          "colorscale": {
           "diverging": [
            [
             0,
             "rgb(103,0,31)"
            ],
            [
             0.1,
             "rgb(178,24,43)"
            ],
            [
             0.2,
             "rgb(214,96,77)"
            ],
            [
             0.3,
             "rgb(244,165,130)"
            ],
            [
             0.4,
             "rgb(253,219,199)"
            ],
            [
             0.5,
             "rgb(247,247,247)"
            ],
            [
             0.6,
             "rgb(209,229,240)"
            ],
            [
             0.7,
             "rgb(146,197,222)"
            ],
            [
             0.8,
             "rgb(67,147,195)"
            ],
            [
             0.9,
             "rgb(33,102,172)"
            ],
            [
             1,
             "rgb(5,48,97)"
            ]
           ],
           "sequential": [
            [
             0,
             "#440154"
            ],
            [
             0.1111111111111111,
             "#482878"
            ],
            [
             0.2222222222222222,
             "#3e4989"
            ],
            [
             0.3333333333333333,
             "#31688e"
            ],
            [
             0.4444444444444444,
             "#26828e"
            ],
            [
             0.5555555555555556,
             "#1f9e89"
            ],
            [
             0.6666666666666666,
             "#35b779"
            ],
            [
             0.7777777777777778,
             "#6ece58"
            ],
            [
             0.8888888888888888,
             "#b5de2b"
            ],
            [
             1,
             "#fde725"
            ]
           ],
           "sequentialminus": [
            [
             0,
             "#440154"
            ],
            [
             0.1111111111111111,
             "#482878"
            ],
            [
             0.2222222222222222,
             "#3e4989"
            ],
            [
             0.3333333333333333,
             "#31688e"
            ],
            [
             0.4444444444444444,
             "#26828e"
            ],
            [
             0.5555555555555556,
             "#1f9e89"
            ],
            [
             0.6666666666666666,
             "#35b779"
            ],
            [
             0.7777777777777778,
             "#6ece58"
            ],
            [
             0.8888888888888888,
             "#b5de2b"
            ],
            [
             1,
             "#fde725"
            ]
           ]
          },
          "colorway": [
           "#1F77B4",
           "#FF7F0E",
           "#2CA02C",
           "#D62728",
           "#9467BD",
           "#8C564B",
           "#E377C2",
           "#7F7F7F",
           "#BCBD22",
           "#17BECF"
          ],
          "font": {
           "color": "rgb(36,36,36)"
          },
          "geo": {
           "bgcolor": "white",
           "lakecolor": "white",
           "landcolor": "white",
           "showlakes": true,
           "showland": true,
           "subunitcolor": "white"
          },
          "hoverlabel": {
           "align": "left"
          },
          "hovermode": "closest",
          "mapbox": {
           "style": "light"
          },
          "paper_bgcolor": "white",
          "plot_bgcolor": "white",
          "polar": {
           "angularaxis": {
            "gridcolor": "rgb(232,232,232)",
            "linecolor": "rgb(36,36,36)",
            "showgrid": false,
            "showline": true,
            "ticks": "outside"
           },
           "bgcolor": "white",
           "radialaxis": {
            "gridcolor": "rgb(232,232,232)",
            "linecolor": "rgb(36,36,36)",
            "showgrid": false,
            "showline": true,
            "ticks": "outside"
           }
          },
          "scene": {
           "xaxis": {
            "backgroundcolor": "white",
            "gridcolor": "rgb(232,232,232)",
            "gridwidth": 2,
            "linecolor": "rgb(36,36,36)",
            "showbackground": true,
            "showgrid": false,
            "showline": true,
            "ticks": "outside",
            "zeroline": false,
            "zerolinecolor": "rgb(36,36,36)"
           },
           "yaxis": {
            "backgroundcolor": "white",
            "gridcolor": "rgb(232,232,232)",
            "gridwidth": 2,
            "linecolor": "rgb(36,36,36)",
            "showbackground": true,
            "showgrid": false,
            "showline": true,
            "ticks": "outside",
            "zeroline": false,
            "zerolinecolor": "rgb(36,36,36)"
           },
           "zaxis": {
            "backgroundcolor": "white",
            "gridcolor": "rgb(232,232,232)",
            "gridwidth": 2,
            "linecolor": "rgb(36,36,36)",
            "showbackground": true,
            "showgrid": false,
            "showline": true,
            "ticks": "outside",
            "zeroline": false,
            "zerolinecolor": "rgb(36,36,36)"
           }
          },
          "shapedefaults": {
           "fillcolor": "black",
           "line": {
            "width": 0
           },
           "opacity": 0.3
          },
          "ternary": {
           "aaxis": {
            "gridcolor": "rgb(232,232,232)",
            "linecolor": "rgb(36,36,36)",
            "showgrid": false,
            "showline": true,
            "ticks": "outside"
           },
           "baxis": {
            "gridcolor": "rgb(232,232,232)",
            "linecolor": "rgb(36,36,36)",
            "showgrid": false,
            "showline": true,
            "ticks": "outside"
           },
           "bgcolor": "white",
           "caxis": {
            "gridcolor": "rgb(232,232,232)",
            "linecolor": "rgb(36,36,36)",
            "showgrid": false,
            "showline": true,
            "ticks": "outside"
           }
          },
          "title": {
           "x": 0.05
          },
          "xaxis": {
           "automargin": true,
           "gridcolor": "rgb(232,232,232)",
           "linecolor": "rgb(36,36,36)",
           "showgrid": false,
           "showline": true,
           "ticks": "outside",
           "title": {
            "standoff": 15
           },
           "zeroline": false,
           "zerolinecolor": "rgb(36,36,36)"
          },
          "yaxis": {
           "automargin": true,
           "gridcolor": "rgb(232,232,232)",
           "linecolor": "rgb(36,36,36)",
           "showgrid": false,
           "showline": true,
           "ticks": "outside",
           "title": {
            "standoff": 15
           },
           "zeroline": false,
           "zerolinecolor": "rgb(36,36,36)"
          }
         }
        },
        "title": {
         "font": {
          "color": "Black",
          "size": 22
         },
         "text": "<b>Topics over Time</b>",
         "x": 0.4,
         "xanchor": "center",
         "y": 0.95,
         "yanchor": "top"
        },
        "width": 1000,
        "xaxis": {
         "showgrid": true
        },
        "yaxis": {
         "showgrid": true,
         "title": {
          "text": "Count"
         }
        }
       }
      },
      "text/html": [
       "<div>                            <div id=\"aab18a02-aa24-4a79-986b-6474ca01b794\" class=\"plotly-graph-div\" style=\"height:500px; width:1000px;\"></div>            <script type=\"text/javascript\">                require([\"plotly\"], function(Plotly) {                    window.PLOTLYENV=window.PLOTLYENV || {};                                    if (document.getElementById(\"aab18a02-aa24-4a79-986b-6474ca01b794\")) {                    Plotly.newPlot(                        \"aab18a02-aa24-4a79-986b-6474ca01b794\",                        [{\"hoverinfo\":\"text\",\"hovertext\":[\"\\u003cb\\u003eTopic 0\\u003c\\u002fb\\u003e\\u003cbr\\u003eWords: specimen, plant, insect, flora, cambridge\",\"\\u003cb\\u003eTopic 0\\u003c\\u002fb\\u003e\\u003cbr\\u003eWords: plant, botany, specimen, flora, cambridge\",\"\\u003cb\\u003eTopic 0\\u003c\\u002fb\\u003e\\u003cbr\\u003eWords: plant, arvensis, specimen, fruit, cambridge\",\"\\u003cb\\u003eTopic 0\\u003c\\u002fb\\u003e\\u003cbr\\u003eWords: plant, specimen, cambridge, book, catalogue\",\"\\u003cb\\u003eTopic 0\\u003c\\u002fb\\u003e\\u003cbr\\u003eWords: fossil, hitcham_bildeston, specimen, suffolk, quil\",\"\\u003cb\\u003eTopic 0\\u003c\\u002fb\\u003e\\u003cbr\\u003eWords: nodule, winchester, london_clay, suffolk, cowslip\",\"\\u003cb\\u003eTopic 0\\u003c\\u002fb\\u003e\\u003cbr\\u003eWords: baron, duke, cycadeae, ludwig, superintendence\",\"\\u003cb\\u003eTopic 0\\u003c\\u002fb\\u003e\\u003cbr\\u003eWords: suffolk, ipswich, museum, letter, term\",\"\\u003cb\\u003eTopic 0\\u003c\\u002fb\\u003e\\u003cbr\\u003eWords: fauna, suffolk, museum, epoch, paper\",\"\\u003cb\\u003eTopic 0\\u003c\\u002fb\\u003e\\u003cbr\\u003eWords: suffolk, museum, invitation, bee, london\",\"\\u003cb\\u003eTopic 0\\u003c\\u002fb\\u003e\\u003cbr\\u003eWords: museum, paper, suffolk, london, ipswich\",\"\\u003cb\\u003eTopic 0\\u003c\\u002fb\\u003e\\u003cbr\\u003eWords: museum, london, suffolk, paper, cambridge\",\"\\u003cb\\u003eTopic 0\\u003c\\u002fb\\u003e\\u003cbr\\u003eWords: london, museum, seed, book, fossil\",\"\\u003cb\\u003eTopic 0\\u003c\\u002fb\\u003e\\u003cbr\\u003eWords: suffolk, museum, abbeville, botany, downing_terrace\"],\"marker\":{\"color\":\"#E69F00\"},\"mode\":\"markers\",\"name\":\"0_museum_specimen_suffolk_plant\",\"x\":[\"1825-01-09T21:18:43.200000\",\"1826-11-09T14:24:00\",\"1828-08-26T04:48:00\",\"1830-06-12T19:12:00\",\"1839-06-03T19:12:00\",\"1844-10-21T14:24:00\",\"1846-08-08T04:48:00\",\"1848-05-24T19:12:00\",\"1850-03-11T09:36:00\",\"1851-12-27T00:00:00\",\"1853-10-12T14:24:00\",\"1855-07-30T04:48:00\",\"1857-05-15T19:12:00\",\"1859-03-02T09:36:00\"],\"y\":[63,134,247,247,47,27,5,75,61,66,118,178,102,152],\"type\":\"scatter\"},{\"hoverinfo\":\"text\",\"hovertext\":[\"\\u003cb\\u003eTopic 1\\u003c\\u002fb\\u003e\\u003cbr\\u003eWords: parliament, interest, university, support, candidate\",\"\\u003cb\\u003eTopic 1\\u003c\\u002fb\\u003e\\u003cbr\\u003eWords: jenyns, science, none, sandmartin, possesse\",\"\\u003cb\\u003eTopic 1\\u003c\\u002fb\\u003e\\u003cbr\\u003eWords: thess, jenyns, soc, mistake, mind\",\"\\u003cb\\u003eTopic 1\\u003c\\u002fb\\u003e\\u003cbr\\u003eWords: family, jenyns, theo, fanny, louisa\",\"\\u003cb\\u003eTopic 1\\u003c\\u002fb\\u003e\\u003cbr\\u003eWords: refusal, qualifying, append, confirmation, misstatement\",\"\\u003cb\\u003eTopic 1\\u003c\\u002fb\\u003e\\u003cbr\\u003eWords: fanny, louisa, evidence, appointment, government\",\"\\u003cb\\u003eTopic 1\\u003c\\u002fb\\u003e\\u003cbr\\u003eWords: suff, louisa, fanny, harriet, love\",\"\\u003cb\\u003eTopic 1\\u003c\\u002fb\\u003e\\u003cbr\\u003eWords: harriet, comment, testimony, love, wife\",\"\\u003cb\\u003eTopic 1\\u003c\\u002fb\\u003e\\u003cbr\\u003eWords: objection, whewell, convenient, tuition, qualification\",\"\\u003cb\\u003eTopic 1\\u003c\\u002fb\\u003e\\u003cbr\\u003eWords: currey, cadetship, nomination, candidate, note\",\"\\u003cb\\u003eTopic 1\\u003c\\u002fb\\u003e\\u003cbr\\u003eWords: harriet, mss, note, daughter, maud\",\"\\u003cb\\u003eTopic 1\\u003c\\u002fb\\u003e\\u003cbr\\u003eWords: qualification, comment, evidence, education, harriet\",\"\\u003cb\\u003eTopic 1\\u003c\\u002fb\\u003e\\u003cbr\\u003eWords: fanny, correction, harriet, affect_ly, wife\",\"\\u003cb\\u003eTopic 1\\u003c\\u002fb\\u003e\\u003cbr\\u003eWords: louisa, love, affect_ly, jenyn, theory\"],\"marker\":{\"color\":\"#56B4E9\"},\"mode\":\"markers\",\"name\":\"1_louisa_fanny_harriet_love\",\"x\":[\"1825-01-09T21:18:43.200000\",\"1826-11-09T14:24:00\",\"1828-08-26T04:48:00\",\"1830-06-12T19:12:00\",\"1839-06-03T19:12:00\",\"1844-10-21T14:24:00\",\"1846-08-08T04:48:00\",\"1848-05-24T19:12:00\",\"1850-03-11T09:36:00\",\"1851-12-27T00:00:00\",\"1853-10-12T14:24:00\",\"1855-07-30T04:48:00\",\"1857-05-15T19:12:00\",\"1859-03-02T09:36:00\"],\"y\":[22,29,38,42,9,17,1,28,16,20,31,48,35,48],\"type\":\"scatter\"},{\"hoverinfo\":\"text\",\"hovertext\":[\"\\u003cb\\u003eTopic 2\\u003c\\u002fb\\u003e\\u003cbr\\u003eWords: support, pointing, emancipation, strenuous, obstacle\",\"\\u003cb\\u003eTopic 2\\u003c\\u002fb\\u003e\\u003cbr\\u003eWords: value, rself, coral, cooperation, commencement\",\"\\u003cb\\u003eTopic 2\\u003c\\u002fb\\u003e\\u003cbr\\u003eWords: kindness, circumstance, liberty, church, assistance\",\"\\u003cb\\u003eTopic 2\\u003c\\u002fb\\u003e\\u003cbr\\u003eWords: circumstance, kindness, church, liberty, pulpit\",\"\\u003cb\\u003eTopic 2\\u003c\\u002fb\\u003e\\u003cbr\\u003eWords: testimony, circumstance, orthodox, scientifico, calumny\",\"\\u003cb\\u003eTopic 2\\u003c\\u002fb\\u003e\\u003cbr\\u003eWords: ignorance, opposition, effort, exertion, case\",\"\\u003cb\\u003eTopic 2\\u003c\\u002fb\\u003e\\u003cbr\\u003eWords: sentence, baron, duke, excuse, liberty\",\"\\u003cb\\u003eTopic 2\\u003c\\u002fb\\u003e\\u003cbr\\u003eWords: church, sabbath, god, liberty, lord\",\"\\u003cb\\u003eTopic 2\\u003c\\u002fb\\u003e\\u003cbr\\u003eWords: church, holiday, clergyman, unwilling, apostle\",\"\\u003cb\\u003eTopic 2\\u003c\\u002fb\\u003e\\u003cbr\\u003eWords: leech, cocoon, toryism, tradespeople, churchism\",\"\\u003cb\\u003eTopic 2\\u003c\\u002fb\\u003e\\u003cbr\\u003eWords: side, chaffinch, mottled, instruct, cistern\",\"\\u003cb\\u003eTopic 2\\u003c\\u002fb\\u003e\\u003cbr\\u003eWords: liberty, clergyman, habit, happiness, contrast\",\"\\u003cb\\u003eTopic 2\\u003c\\u002fb\\u003e\\u003cbr\\u003eWords: church, rate, kindness, illeg, liberty\",\"\\u003cb\\u003eTopic 2\\u003c\\u002fb\\u003e\\u003cbr\\u003eWords: circumstance, case, import, cure, forego\"],\"marker\":{\"color\":\"#009E73\"},\"mode\":\"markers\",\"name\":\"2_church_liberty_kindness_circumstance\",\"x\":[\"1825-01-09T21:18:43.200000\",\"1826-11-09T14:24:00\",\"1828-08-26T04:48:00\",\"1830-06-12T19:12:00\",\"1839-06-03T19:12:00\",\"1844-10-21T14:24:00\",\"1846-08-08T04:48:00\",\"1848-05-24T19:12:00\",\"1850-03-11T09:36:00\",\"1851-12-27T00:00:00\",\"1853-10-12T14:24:00\",\"1855-07-30T04:48:00\",\"1857-05-15T19:12:00\",\"1859-03-02T09:36:00\"],\"y\":[4,6,31,38,5,2,1,19,11,5,9,30,12,10],\"type\":\"scatter\"},{\"hoverinfo\":\"text\",\"hovertext\":[\"\\u003cb\\u003eTopic 3\\u003c\\u002fb\\u003e\\u003cbr\\u003eWords: copley, lefevre, goulburn, palmerston, hibbert\",\"\\u003cb\\u003eTopic 3\\u003c\\u002fb\\u003e\\u003cbr\\u003eWords: graham, smith, supercede, todd, elford\",\"\\u003cb\\u003eTopic 3\\u003c\\u002fb\\u003e\\u003cbr\\u003eWords: dalton, smith, lindley, henry, miller\",\"\\u003cb\\u003eTopic 3\\u003c\\u002fb\\u003e\\u003cbr\\u003eWords: smith, haste, dalton, lindley, strand\",\"\\u003cb\\u003eTopic 3\\u003c\\u002fb\\u003e\\u003cbr\\u003eWords: hurried, haste, excuse, smith, lindley\",\"\\u003cb\\u003eTopic 3\\u003c\\u002fb\\u003e\\u003cbr\\u003eWords: integrity, smith, mackenzie, lament, reproach\",\"\\u003cb\\u003eTopic 3\\u003c\\u002fb\\u003e\\u003cbr\\u003eWords: scott, haste, smith, lindley, henry\",\"\\u003cb\\u003eTopic 3\\u003c\\u002fb\\u003e\\u003cbr\\u003eWords: hithe, algernon, shore, pollock, atriplex\",\"\\u003cb\\u003eTopic 3\\u003c\\u002fb\\u003e\\u003cbr\\u003eWords: tufnell, deanery, lindley, hooker, haste\",\"\\u003cb\\u003eTopic 3\\u003c\\u002fb\\u003e\\u003cbr\\u003eWords: moseley, henry, reid, wrangler, lyttleton\",\"\\u003cb\\u003eTopic 3\\u003c\\u002fb\\u003e\\u003cbr\\u003eWords: moustache, tear, betn, dispatch, brentford\",\"\\u003cb\\u003eTopic 3\\u003c\\u002fb\\u003e\\u003cbr\\u003eWords: haste, stanley, poole, expry, londerburgh\",\"\\u003cb\\u003eTopic 3\\u003c\\u002fb\\u003e\\u003cbr\\u003eWords: lancester, edwin, patterson, cirencester, ellis\",\"\\u003cb\\u003eTopic 3\\u003c\\u002fb\\u003e\\u003cbr\\u003eWords: john_evan, lindley, haste, hewett, watson\"],\"marker\":{\"color\":\"#F0E442\"},\"mode\":\"markers\",\"name\":\"3_haste_smith_lindley_henry\",\"x\":[\"1825-01-09T21:18:43.200000\",\"1826-11-09T14:24:00\",\"1828-08-26T04:48:00\",\"1830-06-12T19:12:00\",\"1839-06-03T19:12:00\",\"1844-10-21T14:24:00\",\"1846-08-08T04:48:00\",\"1848-05-24T19:12:00\",\"1850-03-11T09:36:00\",\"1851-12-27T00:00:00\",\"1853-10-12T14:24:00\",\"1855-07-30T04:48:00\",\"1857-05-15T19:12:00\",\"1859-03-02T09:36:00\"],\"y\":[9,10,15,28,2,6,1,3,3,5,6,12,5,8],\"type\":\"scatter\"},{\"hoverinfo\":\"text\",\"hovertext\":[\"\\u003cb\\u003eTopic 4\\u003c\\u002fb\\u003e\\u003cbr\\u003eWords: lime, oxide, essex, acid, grs\",\"\\u003cb\\u003eTopic 4\\u003c\\u002fb\\u003e\\u003cbr\\u003eWords: heat, bottle, menstrum, binn, drainage\",\"\\u003cb\\u003eTopic 4\\u003c\\u002fb\\u003e\\u003cbr\\u003eWords: silica, lime, glass, shale, acid\",\"\\u003cb\\u003eTopic 4\\u003c\\u002fb\\u003e\\u003cbr\\u003eWords: lime, generis, sui, category, septaria\",\"\\u003cb\\u003eTopic 4\\u003c\\u002fb\\u003e\\u003cbr\\u003eWords: shale, bottle, oil, wine, grease\",\"\\u003cb\\u003eTopic 4\\u003c\\u002fb\\u003e\\u003cbr\\u003eWords: shale, lime, acid, oil, silica\",\"\\u003cb\\u003eTopic 4\\u003c\\u002fb\\u003e\\u003cbr\\u003eWords: acid, adulteration, iron, topper, nitric\",\"\\u003cb\\u003eTopic 4\\u003c\\u002fb\\u003e\\u003cbr\\u003eWords: oxide, platina, flame, glass, hydrogen\",\"\\u003cb\\u003eTopic 4\\u003c\\u002fb\\u003e\\u003cbr\\u003eWords: fire, acid, fuel, sulphuric, fountain\",\"\\u003cb\\u003eTopic 4\\u003c\\u002fb\\u003e\\u003cbr\\u003eWords: sewage, closet, substance, avail, discussion\",\"\\u003cb\\u003eTopic 4\\u003c\\u002fb\\u003e\\u003cbr\\u003eWords: shale, diagram, club, fossil, lime\"],\"marker\":{\"color\":\"#D55E00\"},\"mode\":\"markers\",\"name\":\"4_lime_shale_acid_oil\",\"x\":[\"1826-11-09T14:24:00\",\"1830-06-12T19:12:00\",\"1839-06-03T19:12:00\",\"1844-10-21T14:24:00\",\"1848-05-24T19:12:00\",\"1850-03-11T09:36:00\",\"1851-12-27T00:00:00\",\"1853-10-12T14:24:00\",\"1855-07-30T04:48:00\",\"1857-05-15T19:12:00\",\"1859-03-02T09:36:00\"],\"y\":[8,5,2,1,18,28,5,11,7,1,1],\"type\":\"scatter\"},{\"hoverinfo\":\"text\",\"hovertext\":[\"\\u003cb\\u003eTopic 5\\u003c\\u002fb\\u003e\\u003cbr\\u003eWords: advertising, sell, confer, strike, labor\",\"\\u003cb\\u003eTopic 5\\u003c\\u002fb\\u003e\\u003cbr\\u003eWords: course, lecture, classroom, lecturer, class\",\"\\u003cb\\u003eTopic 5\\u003c\\u002fb\\u003e\\u003cbr\\u003eWords: forwardsame, gace, novice, lecture, futurity\",\"\\u003cb\\u003eTopic 5\\u003c\\u002fb\\u003e\\u003cbr\\u003eWords: class, creature, course, messenger, tutor\",\"\\u003cb\\u003eTopic 5\\u003c\\u002fb\\u003e\\u003cbr\\u003eWords: lecture, village, draughtsman, facility, easter\",\"\\u003cb\\u003eTopic 5\\u003c\\u002fb\\u003e\\u003cbr\\u003eWords: memorial, lecture, page, morning, university\",\"\\u003cb\\u003eTopic 5\\u003c\\u002fb\\u003e\\u003cbr\\u003eWords: lecture, course, attendance, ticket, professor\",\"\\u003cb\\u003eTopic 5\\u003c\\u002fb\\u003e\\u003cbr\\u003eWords: lecture, planation, rote, supernumerary, auditor\",\"\\u003cb\\u003eTopic 5\\u003c\\u002fb\\u003e\\u003cbr\\u003eWords: lecturet, lecture, occasion, crompton, albatross\",\"\\u003cb\\u003eTopic 5\\u003c\\u002fb\\u003e\\u003cbr\\u003eWords: lecture, instruction, course, february, preparation\",\"\\u003cb\\u003eTopic 5\\u003c\\u002fb\\u003e\\u003cbr\\u003eWords: lecture, student, course, particular, occasion\",\"\\u003cb\\u003eTopic 5\\u003c\\u002fb\\u003e\\u003cbr\\u003eWords: lecture, lecturer, palace, opportunity, hope\"],\"marker\":{\"color\":\"#0072B2\"},\"mode\":\"markers\",\"name\":\"5_lecture_course_class_lecturer\",\"x\":[\"1825-01-09T21:18:43.200000\",\"1826-11-09T14:24:00\",\"1828-08-26T04:48:00\",\"1830-06-12T19:12:00\",\"1839-06-03T19:12:00\",\"1846-08-08T04:48:00\",\"1848-05-24T19:12:00\",\"1851-12-27T00:00:00\",\"1853-10-12T14:24:00\",\"1855-07-30T04:48:00\",\"1857-05-15T19:12:00\",\"1859-03-02T09:36:00\"],\"y\":[1,12,4,5,5,1,10,5,6,16,10,12],\"type\":\"scatter\"},{\"hoverinfo\":\"text\",\"hovertext\":[\"\\u003cb\\u003eTopic 6\\u003c\\u002fb\\u003e\\u003cbr\\u003eWords: hooker, dr, playfair, bunbury, sinclair\",\"\\u003cb\\u003eTopic 6\\u003c\\u002fb\\u003e\\u003cbr\\u003eWords: hooker, filicum, icones, folio, days_ago\",\"\\u003cb\\u003eTopic 6\\u003c\\u002fb\\u003e\\u003cbr\\u003eWords: hooker, hotel, haldane, twopenny, devil\",\"\\u003cb\\u003eTopic 6\\u003c\\u002fb\\u003e\\u003cbr\\u003eWords: hooker, suberectus, fork, mistaken, mixta\",\"\\u003cb\\u003eTopic 6\\u003c\\u002fb\\u003e\\u003cbr\\u003eWords: hooker, dr, playfair, bunbury, sinclair\",\"\\u003cb\\u003eTopic 6\\u003c\\u002fb\\u003e\\u003cbr\\u003eWords: cast, hooker, mus, feb, purchase\",\"\\u003cb\\u003eTopic 6\\u003c\\u002fb\\u003e\\u003cbr\\u003eWords: episode, confinement, hooker, news, history\",\"\\u003cb\\u003eTopic 6\\u003c\\u002fb\\u003e\\u003cbr\\u003eWords: hooker, affte, cassel, jos, lyell\",\"\\u003cb\\u003eTopic 6\\u003c\\u002fb\\u003e\\u003cbr\\u003eWords: hooker, bunbury, days_ago, expectant, refutation\",\"\\u003cb\\u003eTopic 6\\u003c\\u002fb\\u003e\\u003cbr\\u003eWords: hooker, playfair, cirriped, griffin, collateral\",\"\\u003cb\\u003eTopic 6\\u003c\\u002fb\\u003e\\u003cbr\\u003eWords: hooker, germany, hack, infinitely, clue\",\"\\u003cb\\u003eTopic 6\\u003c\\u002fb\\u003e\\u003cbr\\u003eWords: hooker, sinclair, dr, regrets, kindest_regard\",\"\\u003cb\\u003eTopic 6\\u003c\\u002fb\\u003e\\u003cbr\\u003eWords: hooker, sprung, lebanon, syria, berth\"],\"marker\":{\"color\":\"#CC79A7\"},\"mode\":\"markers\",\"name\":\"6_hooker_dr_playfair_bunbury\",\"x\":[\"1825-01-09T21:18:43.200000\",\"1826-11-09T14:24:00\",\"1828-08-26T04:48:00\",\"1830-06-12T19:12:00\",\"1844-10-21T14:24:00\",\"1846-08-08T04:48:00\",\"1848-05-24T19:12:00\",\"1850-03-11T09:36:00\",\"1851-12-27T00:00:00\",\"1853-10-12T14:24:00\",\"1855-07-30T04:48:00\",\"1857-05-15T19:12:00\",\"1859-03-02T09:36:00\"],\"y\":[1,5,8,10,1,1,1,2,7,7,9,10,4],\"type\":\"scatter\"},{\"hoverinfo\":\"text\",\"hovertext\":[\"\\u003cb\\u003eTopic 7\\u003c\\u002fb\\u003e\\u003cbr\\u003eWords: plate, illiger, hister, hexoda, scarabidae\",\"\\u003cb\\u003eTopic 7\\u003c\\u002fb\\u003e\\u003cbr\\u003eWords: plate, extra, excellence, miscellany, ii\",\"\\u003cb\\u003eTopic 7\\u003c\\u002fb\\u003e\\u003cbr\\u003eWords: plate, madera, shell, cost, impression\",\"\\u003cb\\u003eTopic 7\\u003c\\u002fb\\u003e\\u003cbr\\u003eWords: plate, pecop, crenation, brong, lonchitiea\",\"\\u003cb\\u003eTopic 7\\u003c\\u002fb\\u003e\\u003cbr\\u003eWords: plate, mint, sol, rix, decm\",\"\\u003cb\\u003eTopic 7\\u003c\\u002fb\\u003e\\u003cbr\\u003eWords: plate, presume, catch, sci, clk\",\"\\u003cb\\u003eTopic 7\\u003c\\u002fb\\u003e\\u003cbr\\u003eWords: masse, piece, plate, stenotype, madera\",\"\\u003cb\\u003eTopic 7\\u003c\\u002fb\\u003e\\u003cbr\\u003eWords: plate, stenotype, madera, piece, reference\",\"\\u003cb\\u003eTopic 7\\u003c\\u002fb\\u003e\\u003cbr\\u003eWords: plate, potassium, pea, motion, frame\",\"\\u003cb\\u003eTopic 7\\u003c\\u002fb\\u003e\\u003cbr\\u003eWords: plate, reference, sclater, zuetell, edification\",\"\\u003cb\\u003eTopic 7\\u003c\\u002fb\\u003e\\u003cbr\\u003eWords: plate, stenotype, resetting, reduction, demand\",\"\\u003cb\\u003eTopic 7\\u003c\\u002fb\\u003e\\u003cbr\\u003eWords: plate, axe, sandwich, orkney, edge\"],\"marker\":{\"color\":\"#E69F00\"},\"mode\":\"markers\",\"name\":\"7_plate_stenotype_madera_piece\",\"x\":[\"1826-11-09T14:24:00\",\"1828-08-26T04:48:00\",\"1830-06-12T19:12:00\",\"1839-06-03T19:12:00\",\"1844-10-21T14:24:00\",\"1848-05-24T19:12:00\",\"1850-03-11T09:36:00\",\"1851-12-27T00:00:00\",\"1853-10-12T14:24:00\",\"1855-07-30T04:48:00\",\"1857-05-15T19:12:00\",\"1859-03-02T09:36:00\"],\"y\":[6,3,15,7,1,5,1,1,2,6,2,3],\"type\":\"scatter\"},{\"hoverinfo\":\"text\",\"hovertext\":[\"\\u003cb\\u003eTopic 8\\u003c\\u002fb\\u003e\\u003cbr\\u003eWords: liver, dpalmerston, absentee, greece, arisen\",\"\\u003cb\\u003eTopic 8\\u003c\\u002fb\\u003e\\u003cbr\\u003eWords: sickness, italy, health, leach, dine\",\"\\u003cb\\u003eTopic 8\\u003c\\u002fb\\u003e\\u003cbr\\u003eWords: illness, health, hypochondriasis, headache, epidemic\",\"\\u003cb\\u003eTopic 8\\u003c\\u002fb\\u003e\\u003cbr\\u003eWords: health, illness, care, sickness, digit\",\"\\u003cb\\u003eTopic 8\\u003c\\u002fb\\u003e\\u003cbr\\u003eWords: paralysis, nerve, hastings, calvert, delight\",\"\\u003cb\\u003eTopic 8\\u003c\\u002fb\\u003e\\u003cbr\\u003eWords: health, deprive, furrow, rheumatism, shin\",\"\\u003cb\\u003eTopic 8\\u003c\\u002fb\\u003e\\u003cbr\\u003eWords: improved_health, health, illness, care, sickness\",\"\\u003cb\\u003eTopic 8\\u003c\\u002fb\\u003e\\u003cbr\\u003eWords: health, broom, idle, lichfield, physician\",\"\\u003cb\\u003eTopic 8\\u003c\\u002fb\\u003e\\u003cbr\\u003eWords: derangement, health, relaxation, doctor, organ\",\"\\u003cb\\u003eTopic 8\\u003c\\u002fb\\u003e\\u003cbr\\u003eWords: wrist, coughs, health, louise, month\",\"\\u003cb\\u003eTopic 8\\u003c\\u002fb\\u003e\\u003cbr\\u003eWords: illness, health, jane, winter, week\"],\"marker\":{\"color\":\"#56B4E9\"},\"mode\":\"markers\",\"name\":\"8_health_illness_care_sickness\",\"x\":[\"1825-01-09T21:18:43.200000\",\"1826-11-09T14:24:00\",\"1828-08-26T04:48:00\",\"1830-06-12T19:12:00\",\"1839-06-03T19:12:00\",\"1848-05-24T19:12:00\",\"1850-03-11T09:36:00\",\"1851-12-27T00:00:00\",\"1853-10-12T14:24:00\",\"1857-05-15T19:12:00\",\"1859-03-02T09:36:00\"],\"y\":[2,3,6,6,1,4,1,4,5,7,11],\"type\":\"scatter\"},{\"hoverinfo\":\"text\",\"hovertext\":[\"\\u003cb\\u003eTopic 9\\u003c\\u002fb\\u003e\\u003cbr\\u003eWords: sorrento, breath, gasp, kirby, summer\",\"\\u003cb\\u003eTopic 9\\u003c\\u002fb\\u003e\\u003cbr\\u003eWords: rothsay, bute, edinbr, april, possibility\",\"\\u003cb\\u003eTopic 9\\u003c\\u002fb\\u003e\\u003cbr\\u003eWords: deserta, delight, summer, july, april\",\"\\u003cb\\u003eTopic 9\\u003c\\u002fb\\u003e\\u003cbr\\u003eWords: summer, june, april, ber, season\",\"\\u003cb\\u003eTopic 9\\u003c\\u002fb\\u003e\\u003cbr\\u003eWords: postmark, cd, july, day, summer\",\"\\u003cb\\u003eTopic 9\\u003c\\u002fb\\u003e\\u003cbr\\u003eWords: rap, wait, end, august, summer\",\"\\u003cb\\u003eTopic 9\\u003c\\u002fb\\u003e\\u003cbr\\u003eWords: god, january, summer, july, april\",\"\\u003cb\\u003eTopic 9\\u003c\\u002fb\\u003e\\u003cbr\\u003eWords: vile, distemper, temper, summer, spring\",\"\\u003cb\\u003eTopic 9\\u003c\\u002fb\\u003e\\u003cbr\\u003eWords: fillip, trip, feb, summer, july\",\"\\u003cb\\u003eTopic 9\\u003c\\u002fb\\u003e\\u003cbr\\u003eWords: moon, document, half, april, summer\",\"\\u003cb\\u003eTopic 9\\u003c\\u002fb\\u003e\\u003cbr\\u003eWords: july, month, february, bristow, press\",\"\\u003cb\\u003eTopic 9\\u003c\\u002fb\\u003e\\u003cbr\\u003eWords: feb, october, april, summer, july\",\"\\u003cb\\u003eTopic 9\\u003c\\u002fb\\u003e\\u003cbr\\u003eWords: summer, june, visitation, ampney, heat\"],\"marker\":{\"color\":\"#009E73\"},\"mode\":\"markers\",\"name\":\"9_summer_july_april_june\",\"x\":[\"1825-01-09T21:18:43.200000\",\"1826-11-09T14:24:00\",\"1828-08-26T04:48:00\",\"1830-06-12T19:12:00\",\"1839-06-03T19:12:00\",\"1844-10-21T14:24:00\",\"1848-05-24T19:12:00\",\"1850-03-11T09:36:00\",\"1851-12-27T00:00:00\",\"1853-10-12T14:24:00\",\"1855-07-30T04:48:00\",\"1857-05-15T19:12:00\",\"1859-03-02T09:36:00\"],\"y\":[3,5,1,18,2,1,1,1,2,1,7,2,5],\"type\":\"scatter\"},{\"hoverinfo\":\"text\",\"hovertext\":[\"\\u003cb\\u003eTopic 10\\u003c\\u002fb\\u003e\\u003cbr\\u003eWords: particular, society, house, home, cottage\",\"\\u003cb\\u003eTopic 10\\u003c\\u002fb\\u003e\\u003cbr\\u003eWords: house, home, cottage, trespass, residence\",\"\\u003cb\\u003eTopic 10\\u003c\\u002fb\\u003e\\u003cbr\\u003eWords: house, home, trespass, clothing, cray\",\"\\u003cb\\u003eTopic 10\\u003c\\u002fb\\u003e\\u003cbr\\u003eWords: build, kinrossshire, trespass, brevity, house\",\"\\u003cb\\u003eTopic 10\\u003c\\u002fb\\u003e\\u003cbr\\u003eWords: wallich, bother, beauty, leg, home\",\"\\u003cb\\u003eTopic 10\\u003c\\u002fb\\u003e\\u003cbr\\u003eWords: home, kiss, hy, waterhouse, goddaughter\",\"\\u003cb\\u003eTopic 10\\u003c\\u002fb\\u003e\\u003cbr\\u003eWords: attic, sake, neighbour, occasion, object\",\"\\u003cb\\u003eTopic 10\\u003c\\u002fb\\u003e\\u003cbr\\u003eWords: deed, hunt, collector, visit, occupation\",\"\\u003cb\\u003eTopic 10\\u003c\\u002fb\\u003e\\u003cbr\\u003eWords: house, home, cottage, taste, mayor\",\"\\u003cb\\u003eTopic 10\\u003c\\u002fb\\u003e\\u003cbr\\u003eWords: home, furniture, house, hunt, situation\",\"\\u003cb\\u003eTopic 10\\u003c\\u002fb\\u003e\\u003cbr\\u003eWords: house, home, residence, beloved, cheery\"],\"marker\":{\"color\":\"#F0E442\"},\"mode\":\"markers\",\"name\":\"10_house_home_cottage_trespass\",\"x\":[\"1825-01-09T21:18:43.200000\",\"1826-11-09T14:24:00\",\"1828-08-26T04:48:00\",\"1830-06-12T19:12:00\",\"1848-05-24T19:12:00\",\"1850-03-11T09:36:00\",\"1851-12-27T00:00:00\",\"1853-10-12T14:24:00\",\"1855-07-30T04:48:00\",\"1857-05-15T19:12:00\",\"1859-03-02T09:36:00\"],\"y\":[1,1,7,4,2,6,1,3,10,4,7],\"type\":\"scatter\"},{\"hoverinfo\":\"text\",\"hovertext\":[\"\\u003cb\\u003eTopic 11\\u003c\\u002fb\\u003e\\u003cbr\\u003eWords: brother, finale, curtis, esteem, favor\",\"\\u003cb\\u003eTopic 11\\u003c\\u002fb\\u003e\\u003cbr\\u003eWords: brother, daehne, adr, anthony, dock\",\"\\u003cb\\u003eTopic 11\\u003c\\u002fb\\u003e\\u003cbr\\u003eWords: brother, sister, marmaduke, anticipation, edinb\",\"\\u003cb\\u003eTopic 11\\u003c\\u002fb\\u003e\\u003cbr\\u003eWords: might, brother, sample, assure, subscriber\",\"\\u003cb\\u003eTopic 11\\u003c\\u002fb\\u003e\\u003cbr\\u003eWords: sister, closing, brother, william, article\",\"\\u003cb\\u003eTopic 11\\u003c\\u002fb\\u003e\\u003cbr\\u003eWords: educate, shd, kew, pity, brother\",\"\\u003cb\\u003eTopic 11\\u003c\\u002fb\\u003e\\u003cbr\\u003eWords: aunt, stratton, brother, death, sister\",\"\\u003cb\\u003eTopic 11\\u003c\\u002fb\\u003e\\u003cbr\\u003eWords: graduate, art, brother, sister, death\",\"\\u003cb\\u003eTopic 11\\u003c\\u002fb\\u003e\\u003cbr\\u003eWords: brother, sister, mourning, uncle, ed\",\"\\u003cb\\u003eTopic 11\\u003c\\u002fb\\u003e\\u003cbr\\u003eWords: sister, brother, death, wife, law\"],\"marker\":{\"color\":\"#D55E00\"},\"mode\":\"markers\",\"name\":\"11_brother_sister_death_wife\",\"x\":[\"1826-11-09T14:24:00\",\"1828-08-26T04:48:00\",\"1830-06-12T19:12:00\",\"1844-10-21T14:24:00\",\"1850-03-11T09:36:00\",\"1851-12-27T00:00:00\",\"1853-10-12T14:24:00\",\"1855-07-30T04:48:00\",\"1857-05-15T19:12:00\",\"1859-03-02T09:36:00\"],\"y\":[2,4,12,1,3,2,3,1,7,9],\"type\":\"scatter\"},{\"hoverinfo\":\"text\",\"hovertext\":[\"\\u003cb\\u003eTopic 12\\u003c\\u002fb\\u003e\\u003cbr\\u003eWords: instant, fatigue, hour, minute, clock\",\"\\u003cb\\u003eTopic 12\\u003c\\u002fb\\u003e\\u003cbr\\u003eWords: chee, morning, tor, clock, harvest\",\"\\u003cb\\u003eTopic 12\\u003c\\u002fb\\u003e\\u003cbr\\u003eWords: clock, chimney, recovery, proceed, interval\",\"\\u003cb\\u003eTopic 12\\u003c\\u002fb\\u003e\\u003cbr\\u003eWords: dream, opiate, part, succession, particle\",\"\\u003cb\\u003eTopic 12\\u003c\\u002fb\\u003e\\u003cbr\\u003eWords: nature, day, minute, hour, clock\",\"\\u003cb\\u003eTopic 12\\u003c\\u002fb\\u003e\\u003cbr\\u003eWords: ireland, suit, hour, evening, morning\",\"\\u003cb\\u003eTopic 12\\u003c\\u002fb\\u003e\\u003cbr\\u003eWords: minute, afternoon, hour, clock, morning\",\"\\u003cb\\u003eTopic 12\\u003c\\u002fb\\u003e\\u003cbr\\u003eWords: hour, daylight, stint, clear, implie\",\"\\u003cb\\u003eTopic 12\\u003c\\u002fb\\u003e\\u003cbr\\u003eWords: minute, clock, stop, sheep, suffice\",\"\\u003cb\\u003eTopic 12\\u003c\\u002fb\\u003e\\u003cbr\\u003eWords: minute, evening, portland, steamer, midnight\"],\"marker\":{\"color\":\"#0072B2\"},\"mode\":\"markers\",\"name\":\"12_minute_hour_clock_morning\",\"x\":[\"1826-11-09T14:24:00\",\"1828-08-26T04:48:00\",\"1830-06-12T19:12:00\",\"1848-05-24T19:12:00\",\"1850-03-11T09:36:00\",\"1851-12-27T00:00:00\",\"1853-10-12T14:24:00\",\"1855-07-30T04:48:00\",\"1857-05-15T19:12:00\",\"1859-03-02T09:36:00\"],\"y\":[2,3,4,2,1,4,3,8,7,8],\"type\":\"scatter\"},{\"hoverinfo\":\"text\",\"hovertext\":[\"\\u003cb\\u003eTopic 13\\u003c\\u002fb\\u003e\\u003cbr\\u003eWords: specie, garden, plant, spec, scheme\",\"\\u003cb\\u003eTopic 13\\u003c\\u002fb\\u003e\\u003cbr\\u003eWords: specie, spec, scheme, speciman, race\",\"\\u003cb\\u003eTopic 13\\u003c\\u002fb\\u003e\\u003cbr\\u003eWords: spec, specie, bowd, scapania, lam\",\"\\u003cb\\u003eTopic 13\\u003c\\u002fb\\u003e\\u003cbr\\u003eWords: spec, specie, interesting, tis, profusion\",\"\\u003cb\\u003eTopic 13\\u003c\\u002fb\\u003e\\u003cbr\\u003eWords: specie, sight, moment, tho, spec\",\"\\u003cb\\u003eTopic 13\\u003c\\u002fb\\u003e\\u003cbr\\u003eWords: compass, specie, owen, spec, scheme\",\"\\u003cb\\u003eTopic 13\\u003c\\u002fb\\u003e\\u003cbr\\u003eWords: specie, hate, spec, moniliforme, treat\",\"\\u003cb\\u003eTopic 13\\u003c\\u002fb\\u003e\\u003cbr\\u003eWords: zetterstedt, vo, mortification, diptera, increase\",\"\\u003cb\\u003eTopic 13\\u003c\\u002fb\\u003e\\u003cbr\\u003eWords: mantell, scheme, lyell, description, speciman\",\"\\u003cb\\u003eTopic 13\\u003c\\u002fb\\u003e\\u003cbr\\u003eWords: specie, race, sport, gem, sparkle\",\"\\u003cb\\u003eTopic 13\\u003c\\u002fb\\u003e\\u003cbr\\u003eWords: ex, scheme, specie, spec, speciman\",\"\\u003cb\\u003eTopic 13\\u003c\\u002fb\\u003e\\u003cbr\\u003eWords: specie, wingfull, covert, inc, scheme\"],\"marker\":{\"color\":\"#CC79A7\"},\"mode\":\"markers\",\"name\":\"13_specie_spec_scheme_speciman\",\"x\":[\"1825-01-09T21:18:43.200000\",\"1826-11-09T14:24:00\",\"1828-08-26T04:48:00\",\"1830-06-12T19:12:00\",\"1839-06-03T19:12:00\",\"1844-10-21T14:24:00\",\"1848-05-24T19:12:00\",\"1850-03-11T09:36:00\",\"1851-12-27T00:00:00\",\"1855-07-30T04:48:00\",\"1857-05-15T19:12:00\",\"1859-03-02T09:36:00\"],\"y\":[2,2,7,4,4,1,4,1,2,4,1,5],\"type\":\"scatter\"},{\"hoverinfo\":\"text\",\"hovertext\":[\"\\u003cb\\u003eTopic 14\\u003c\\u002fb\\u003e\\u003cbr\\u003eWords: hand, bind, meantime, demonstration, spirit\",\"\\u003cb\\u003eTopic 14\\u003c\\u002fb\\u003e\\u003cbr\\u003eWords: hand, octbr, macfarlan, consumption, lend\",\"\\u003cb\\u003eTopic 14\\u003c\\u002fb\\u003e\\u003cbr\\u003eWords: hand, word, jsh, hook, crook\",\"\\u003cb\\u003eTopic 14\\u003c\\u002fb\\u003e\\u003cbr\\u003eWords: department, hand, jsh, hook, crook\",\"\\u003cb\\u003eTopic 14\\u003c\\u002fb\\u003e\\u003cbr\\u003eWords: sabini, woolwich, col, hand, office\",\"\\u003cb\\u003eTopic 14\\u003c\\u002fb\\u003e\\u003cbr\\u003eWords: hand, jsh, turtle, humerus, restoration\",\"\\u003cb\\u003eTopic 14\\u003c\\u002fb\\u003e\\u003cbr\\u003eWords: admiralty, reclaim, hook, crook, hand\",\"\\u003cb\\u003eTopic 14\\u003c\\u002fb\\u003e\\u003cbr\\u003eWords: tirade, present, bonnet, obstacle, hand\",\"\\u003cb\\u003eTopic 14\\u003c\\u002fb\\u003e\\u003cbr\\u003eWords: hand, jsh, java, allottee, jetton\",\"\\u003cb\\u003eTopic 14\\u003c\\u002fb\\u003e\\u003cbr\\u003eWords: philpott, jsh, hand, hour, hook\",\"\\u003cb\\u003eTopic 14\\u003c\\u002fb\\u003e\\u003cbr\\u003eWords: hand, hook, crook, handle, wire\"],\"marker\":{\"color\":\"#E69F00\"},\"mode\":\"markers\",\"name\":\"14_hand_jsh_hook_crook\",\"x\":[\"1826-11-09T14:24:00\",\"1828-08-26T04:48:00\",\"1830-06-12T19:12:00\",\"1839-06-03T19:12:00\",\"1844-10-21T14:24:00\",\"1848-05-24T19:12:00\",\"1850-03-11T09:36:00\",\"1853-10-12T14:24:00\",\"1855-07-30T04:48:00\",\"1857-05-15T19:12:00\",\"1859-03-02T09:36:00\"],\"y\":[3,4,2,1,1,4,2,2,8,1,8],\"type\":\"scatter\"}],                        {\"template\":{\"data\":{\"barpolar\":[{\"marker\":{\"line\":{\"color\":\"white\",\"width\":0.5},\"pattern\":{\"fillmode\":\"overlay\",\"size\":10,\"solidity\":0.2}},\"type\":\"barpolar\"}],\"bar\":[{\"error_x\":{\"color\":\"rgb(36,36,36)\"},\"error_y\":{\"color\":\"rgb(36,36,36)\"},\"marker\":{\"line\":{\"color\":\"white\",\"width\":0.5},\"pattern\":{\"fillmode\":\"overlay\",\"size\":10,\"solidity\":0.2}},\"type\":\"bar\"}],\"carpet\":[{\"aaxis\":{\"endlinecolor\":\"rgb(36,36,36)\",\"gridcolor\":\"white\",\"linecolor\":\"white\",\"minorgridcolor\":\"white\",\"startlinecolor\":\"rgb(36,36,36)\"},\"baxis\":{\"endlinecolor\":\"rgb(36,36,36)\",\"gridcolor\":\"white\",\"linecolor\":\"white\",\"minorgridcolor\":\"white\",\"startlinecolor\":\"rgb(36,36,36)\"},\"type\":\"carpet\"}],\"choropleth\":[{\"colorbar\":{\"outlinewidth\":1,\"tickcolor\":\"rgb(36,36,36)\",\"ticks\":\"outside\"},\"type\":\"choropleth\"}],\"contourcarpet\":[{\"colorbar\":{\"outlinewidth\":1,\"tickcolor\":\"rgb(36,36,36)\",\"ticks\":\"outside\"},\"type\":\"contourcarpet\"}],\"contour\":[{\"colorbar\":{\"outlinewidth\":1,\"tickcolor\":\"rgb(36,36,36)\",\"ticks\":\"outside\"},\"colorscale\":[[0.0,\"#440154\"],[0.1111111111111111,\"#482878\"],[0.2222222222222222,\"#3e4989\"],[0.3333333333333333,\"#31688e\"],[0.4444444444444444,\"#26828e\"],[0.5555555555555556,\"#1f9e89\"],[0.6666666666666666,\"#35b779\"],[0.7777777777777778,\"#6ece58\"],[0.8888888888888888,\"#b5de2b\"],[1.0,\"#fde725\"]],\"type\":\"contour\"}],\"heatmapgl\":[{\"colorbar\":{\"outlinewidth\":1,\"tickcolor\":\"rgb(36,36,36)\",\"ticks\":\"outside\"},\"colorscale\":[[0.0,\"#440154\"],[0.1111111111111111,\"#482878\"],[0.2222222222222222,\"#3e4989\"],[0.3333333333333333,\"#31688e\"],[0.4444444444444444,\"#26828e\"],[0.5555555555555556,\"#1f9e89\"],[0.6666666666666666,\"#35b779\"],[0.7777777777777778,\"#6ece58\"],[0.8888888888888888,\"#b5de2b\"],[1.0,\"#fde725\"]],\"type\":\"heatmapgl\"}],\"heatmap\":[{\"colorbar\":{\"outlinewidth\":1,\"tickcolor\":\"rgb(36,36,36)\",\"ticks\":\"outside\"},\"colorscale\":[[0.0,\"#440154\"],[0.1111111111111111,\"#482878\"],[0.2222222222222222,\"#3e4989\"],[0.3333333333333333,\"#31688e\"],[0.4444444444444444,\"#26828e\"],[0.5555555555555556,\"#1f9e89\"],[0.6666666666666666,\"#35b779\"],[0.7777777777777778,\"#6ece58\"],[0.8888888888888888,\"#b5de2b\"],[1.0,\"#fde725\"]],\"type\":\"heatmap\"}],\"histogram2dcontour\":[{\"colorbar\":{\"outlinewidth\":1,\"tickcolor\":\"rgb(36,36,36)\",\"ticks\":\"outside\"},\"colorscale\":[[0.0,\"#440154\"],[0.1111111111111111,\"#482878\"],[0.2222222222222222,\"#3e4989\"],[0.3333333333333333,\"#31688e\"],[0.4444444444444444,\"#26828e\"],[0.5555555555555556,\"#1f9e89\"],[0.6666666666666666,\"#35b779\"],[0.7777777777777778,\"#6ece58\"],[0.8888888888888888,\"#b5de2b\"],[1.0,\"#fde725\"]],\"type\":\"histogram2dcontour\"}],\"histogram2d\":[{\"colorbar\":{\"outlinewidth\":1,\"tickcolor\":\"rgb(36,36,36)\",\"ticks\":\"outside\"},\"colorscale\":[[0.0,\"#440154\"],[0.1111111111111111,\"#482878\"],[0.2222222222222222,\"#3e4989\"],[0.3333333333333333,\"#31688e\"],[0.4444444444444444,\"#26828e\"],[0.5555555555555556,\"#1f9e89\"],[0.6666666666666666,\"#35b779\"],[0.7777777777777778,\"#6ece58\"],[0.8888888888888888,\"#b5de2b\"],[1.0,\"#fde725\"]],\"type\":\"histogram2d\"}],\"histogram\":[{\"marker\":{\"line\":{\"color\":\"white\",\"width\":0.6}},\"type\":\"histogram\"}],\"mesh3d\":[{\"colorbar\":{\"outlinewidth\":1,\"tickcolor\":\"rgb(36,36,36)\",\"ticks\":\"outside\"},\"type\":\"mesh3d\"}],\"parcoords\":[{\"line\":{\"colorbar\":{\"outlinewidth\":1,\"tickcolor\":\"rgb(36,36,36)\",\"ticks\":\"outside\"}},\"type\":\"parcoords\"}],\"pie\":[{\"automargin\":true,\"type\":\"pie\"}],\"scatter3d\":[{\"line\":{\"colorbar\":{\"outlinewidth\":1,\"tickcolor\":\"rgb(36,36,36)\",\"ticks\":\"outside\"}},\"marker\":{\"colorbar\":{\"outlinewidth\":1,\"tickcolor\":\"rgb(36,36,36)\",\"ticks\":\"outside\"}},\"type\":\"scatter3d\"}],\"scattercarpet\":[{\"marker\":{\"colorbar\":{\"outlinewidth\":1,\"tickcolor\":\"rgb(36,36,36)\",\"ticks\":\"outside\"}},\"type\":\"scattercarpet\"}],\"scattergeo\":[{\"marker\":{\"colorbar\":{\"outlinewidth\":1,\"tickcolor\":\"rgb(36,36,36)\",\"ticks\":\"outside\"}},\"type\":\"scattergeo\"}],\"scattergl\":[{\"marker\":{\"colorbar\":{\"outlinewidth\":1,\"tickcolor\":\"rgb(36,36,36)\",\"ticks\":\"outside\"}},\"type\":\"scattergl\"}],\"scattermapbox\":[{\"marker\":{\"colorbar\":{\"outlinewidth\":1,\"tickcolor\":\"rgb(36,36,36)\",\"ticks\":\"outside\"}},\"type\":\"scattermapbox\"}],\"scatterpolargl\":[{\"marker\":{\"colorbar\":{\"outlinewidth\":1,\"tickcolor\":\"rgb(36,36,36)\",\"ticks\":\"outside\"}},\"type\":\"scatterpolargl\"}],\"scatterpolar\":[{\"marker\":{\"colorbar\":{\"outlinewidth\":1,\"tickcolor\":\"rgb(36,36,36)\",\"ticks\":\"outside\"}},\"type\":\"scatterpolar\"}],\"scatter\":[{\"fillpattern\":{\"fillmode\":\"overlay\",\"size\":10,\"solidity\":0.2},\"type\":\"scatter\"}],\"scatterternary\":[{\"marker\":{\"colorbar\":{\"outlinewidth\":1,\"tickcolor\":\"rgb(36,36,36)\",\"ticks\":\"outside\"}},\"type\":\"scatterternary\"}],\"surface\":[{\"colorbar\":{\"outlinewidth\":1,\"tickcolor\":\"rgb(36,36,36)\",\"ticks\":\"outside\"},\"colorscale\":[[0.0,\"#440154\"],[0.1111111111111111,\"#482878\"],[0.2222222222222222,\"#3e4989\"],[0.3333333333333333,\"#31688e\"],[0.4444444444444444,\"#26828e\"],[0.5555555555555556,\"#1f9e89\"],[0.6666666666666666,\"#35b779\"],[0.7777777777777778,\"#6ece58\"],[0.8888888888888888,\"#b5de2b\"],[1.0,\"#fde725\"]],\"type\":\"surface\"}],\"table\":[{\"cells\":{\"fill\":{\"color\":\"rgb(237,237,237)\"},\"line\":{\"color\":\"white\"}},\"header\":{\"fill\":{\"color\":\"rgb(217,217,217)\"},\"line\":{\"color\":\"white\"}},\"type\":\"table\"}]},\"layout\":{\"annotationdefaults\":{\"arrowhead\":0,\"arrowwidth\":1},\"autotypenumbers\":\"strict\",\"coloraxis\":{\"colorbar\":{\"outlinewidth\":1,\"tickcolor\":\"rgb(36,36,36)\",\"ticks\":\"outside\"}},\"colorscale\":{\"diverging\":[[0.0,\"rgb(103,0,31)\"],[0.1,\"rgb(178,24,43)\"],[0.2,\"rgb(214,96,77)\"],[0.3,\"rgb(244,165,130)\"],[0.4,\"rgb(253,219,199)\"],[0.5,\"rgb(247,247,247)\"],[0.6,\"rgb(209,229,240)\"],[0.7,\"rgb(146,197,222)\"],[0.8,\"rgb(67,147,195)\"],[0.9,\"rgb(33,102,172)\"],[1.0,\"rgb(5,48,97)\"]],\"sequential\":[[0.0,\"#440154\"],[0.1111111111111111,\"#482878\"],[0.2222222222222222,\"#3e4989\"],[0.3333333333333333,\"#31688e\"],[0.4444444444444444,\"#26828e\"],[0.5555555555555556,\"#1f9e89\"],[0.6666666666666666,\"#35b779\"],[0.7777777777777778,\"#6ece58\"],[0.8888888888888888,\"#b5de2b\"],[1.0,\"#fde725\"]],\"sequentialminus\":[[0.0,\"#440154\"],[0.1111111111111111,\"#482878\"],[0.2222222222222222,\"#3e4989\"],[0.3333333333333333,\"#31688e\"],[0.4444444444444444,\"#26828e\"],[0.5555555555555556,\"#1f9e89\"],[0.6666666666666666,\"#35b779\"],[0.7777777777777778,\"#6ece58\"],[0.8888888888888888,\"#b5de2b\"],[1.0,\"#fde725\"]]},\"colorway\":[\"#1F77B4\",\"#FF7F0E\",\"#2CA02C\",\"#D62728\",\"#9467BD\",\"#8C564B\",\"#E377C2\",\"#7F7F7F\",\"#BCBD22\",\"#17BECF\"],\"font\":{\"color\":\"rgb(36,36,36)\"},\"geo\":{\"bgcolor\":\"white\",\"lakecolor\":\"white\",\"landcolor\":\"white\",\"showlakes\":true,\"showland\":true,\"subunitcolor\":\"white\"},\"hoverlabel\":{\"align\":\"left\"},\"hovermode\":\"closest\",\"mapbox\":{\"style\":\"light\"},\"paper_bgcolor\":\"white\",\"plot_bgcolor\":\"white\",\"polar\":{\"angularaxis\":{\"gridcolor\":\"rgb(232,232,232)\",\"linecolor\":\"rgb(36,36,36)\",\"showgrid\":false,\"showline\":true,\"ticks\":\"outside\"},\"bgcolor\":\"white\",\"radialaxis\":{\"gridcolor\":\"rgb(232,232,232)\",\"linecolor\":\"rgb(36,36,36)\",\"showgrid\":false,\"showline\":true,\"ticks\":\"outside\"}},\"scene\":{\"xaxis\":{\"backgroundcolor\":\"white\",\"gridcolor\":\"rgb(232,232,232)\",\"gridwidth\":2,\"linecolor\":\"rgb(36,36,36)\",\"showbackground\":true,\"showgrid\":false,\"showline\":true,\"ticks\":\"outside\",\"zeroline\":false,\"zerolinecolor\":\"rgb(36,36,36)\"},\"yaxis\":{\"backgroundcolor\":\"white\",\"gridcolor\":\"rgb(232,232,232)\",\"gridwidth\":2,\"linecolor\":\"rgb(36,36,36)\",\"showbackground\":true,\"showgrid\":false,\"showline\":true,\"ticks\":\"outside\",\"zeroline\":false,\"zerolinecolor\":\"rgb(36,36,36)\"},\"zaxis\":{\"backgroundcolor\":\"white\",\"gridcolor\":\"rgb(232,232,232)\",\"gridwidth\":2,\"linecolor\":\"rgb(36,36,36)\",\"showbackground\":true,\"showgrid\":false,\"showline\":true,\"ticks\":\"outside\",\"zeroline\":false,\"zerolinecolor\":\"rgb(36,36,36)\"}},\"shapedefaults\":{\"fillcolor\":\"black\",\"line\":{\"width\":0},\"opacity\":0.3},\"ternary\":{\"aaxis\":{\"gridcolor\":\"rgb(232,232,232)\",\"linecolor\":\"rgb(36,36,36)\",\"showgrid\":false,\"showline\":true,\"ticks\":\"outside\"},\"baxis\":{\"gridcolor\":\"rgb(232,232,232)\",\"linecolor\":\"rgb(36,36,36)\",\"showgrid\":false,\"showline\":true,\"ticks\":\"outside\"},\"bgcolor\":\"white\",\"caxis\":{\"gridcolor\":\"rgb(232,232,232)\",\"linecolor\":\"rgb(36,36,36)\",\"showgrid\":false,\"showline\":true,\"ticks\":\"outside\"}},\"title\":{\"x\":0.05},\"xaxis\":{\"automargin\":true,\"gridcolor\":\"rgb(232,232,232)\",\"linecolor\":\"rgb(36,36,36)\",\"showgrid\":false,\"showline\":true,\"ticks\":\"outside\",\"title\":{\"standoff\":15},\"zeroline\":false,\"zerolinecolor\":\"rgb(36,36,36)\"},\"yaxis\":{\"automargin\":true,\"gridcolor\":\"rgb(232,232,232)\",\"linecolor\":\"rgb(36,36,36)\",\"showgrid\":false,\"showline\":true,\"ticks\":\"outside\",\"title\":{\"standoff\":15},\"zeroline\":false,\"zerolinecolor\":\"rgb(36,36,36)\"}}},\"xaxis\":{\"showgrid\":true},\"yaxis\":{\"showgrid\":true,\"title\":{\"text\":\"Count\"}},\"title\":{\"font\":{\"size\":22,\"color\":\"Black\"},\"text\":\"\\u003cb\\u003eTopics over Time\\u003c\\u002fb\\u003e\",\"y\":0.95,\"x\":0.4,\"xanchor\":\"center\",\"yanchor\":\"top\"},\"hoverlabel\":{\"font\":{\"size\":16,\"family\":\"Rockwell\"},\"bgcolor\":\"white\"},\"width\":1000,\"height\":500,\"legend\":{\"title\":{\"text\":\"\\u003cb\\u003eGlobal Topic Representation\"}}},                        {\"responsive\": true}                    ).then(function(){\n",
       "                            \n",
       "var gd = document.getElementById('aab18a02-aa24-4a79-986b-6474ca01b794');\n",
       "var x = new MutationObserver(function (mutations, observer) {{\n",
       "        var display = window.getComputedStyle(gd).display;\n",
       "        if (!display || display === 'none') {{\n",
       "            console.log([gd, 'removed!']);\n",
       "            Plotly.purge(gd);\n",
       "            observer.disconnect();\n",
       "        }}\n",
       "}});\n",
       "\n",
       "// Listen for the removal of the full notebook cells\n",
       "var notebookContainer = gd.closest('#notebook-container');\n",
       "if (notebookContainer) {{\n",
       "    x.observe(notebookContainer, {childList: true});\n",
       "}}\n",
       "\n",
       "// Listen for the clearing of the current output cell\n",
       "var outputEl = gd.closest('.output');\n",
       "if (outputEl) {{\n",
       "    x.observe(outputEl, {childList: true});\n",
       "}}\n",
       "\n",
       "                        })                };                });            </script>        </div>"
      ]
     },
     "metadata": {},
     "output_type": "display_data"
    }
   ],
   "source": [
    "all_win_vis = year_window_vis(sent_df, year_counts_all, topic_model)\n",
    "all_win_vis"
   ]
  },
  {
   "cell_type": "markdown",
   "id": "b1e05fed",
   "metadata": {},
   "source": [
    "Use year_window_vis function to create a visualisation of topics over time for letters sent by Henslow, omitting years with very high or low numbers of letters."
   ]
  },
  {
   "cell_type": "code",
   "execution_count": 27,
   "id": "8b64e41c",
   "metadata": {},
   "outputs": [
    {
     "data": {
      "application/vnd.plotly.v1+json": {
       "config": {
        "plotlyServerURL": "https://plot.ly"
       },
       "data": [
        {
         "hoverinfo": "text",
         "hovertext": [
          "<b>Topic 0</b><br>Words: hitcham_bildeston, suffolk, london, july, woodbridge",
          "<b>Topic 0</b><br>Words: hitcham_hadleigh, february, whewell, suffolk, hitcham",
          "<b>Topic 0</b><br>Words: whale, suffolk, town, hitcham, ear",
          "<b>Topic 0</b><br>Words: hadl, region, mus, bank, portrait",
          "<b>Topic 0</b><br>Words: suffolk, hitcham, letter, whewell, address",
          "<b>Topic 0</b><br>Words: suffolk, hitcham, wife, land, statement",
          "<b>Topic 0</b><br>Words: suffolk, whewell, porter, student, messenger",
          "<b>Topic 0</b><br>Words: hitcham, suffolk, death, father, word",
          "<b>Topic 0</b><br>Words: hitcham, year, october, suffolk, paper",
          "<b>Topic 0</b><br>Words: downing_terrace, lady, whewell, suffolk, joseph"
         ],
         "marker": {
          "color": "#E69F00"
         },
         "mode": "markers",
         "name": "0_suffolk_hitcham_whewell_london",
         "type": "scatter",
         "x": [
          "1840-01-08T10:48:00",
          "1844-03-05T00:00:00",
          "1845-03-17T12:00:00",
          "1847-04-11T12:00:00",
          "1848-04-23T00:00:00",
          "1849-05-05T12:00:00",
          "1850-05-18T00:00:00",
          "1853-06-23T12:00:00",
          "1854-07-06T00:00:00",
          "1859-09-05T12:00:00"
         ],
         "y": [
          18,
          1,
          13,
          3,
          21,
          25,
          4,
          13,
          11,
          28
         ]
        },
        {
         "hoverinfo": "text",
         "hovertext": [
          "<b>Topic 1</b><br>Words: stigmaria, drawing, answer, description, purpose",
          "<b>Topic 1</b><br>Words: felixstow, reason, appearance, person, sedgwick",
          "<b>Topic 1</b><br>Words: attention, chiefly, mechanic, discourse, pretension",
          "<b>Topic 1</b><br>Words: income, increase, mccoy, repetition, temptation",
          "<b>Topic 1</b><br>Words: church, view, lord, darwin, opinion",
          "<b>Topic 1</b><br>Words: darwin, view, sedgwick, hypothesis, opinion"
         ],
         "marker": {
          "color": "#56B4E9"
         },
         "mode": "markers",
         "name": "1_darwin_view_sedgwick_opinion",
         "type": "scatter",
         "x": [
          "1840-01-08T10:48:00",
          "1845-03-17T12:00:00",
          "1847-04-11T12:00:00",
          "1848-04-23T00:00:00",
          "1849-05-05T12:00:00",
          "1859-09-05T12:00:00"
         ],
         "y": [
          1,
          1,
          2,
          3,
          23,
          34
         ]
        },
        {
         "hoverinfo": "text",
         "hovertext": [
          "<b>Topic 2</b><br>Words: difficulty, patchwork, multiply, rejecting, meeting",
          "<b>Topic 2</b><br>Words: plan, difficulty, tho, meeting, care",
          "<b>Topic 2</b><br>Words: sole, riddle, friendship, difficulty, tho",
          "<b>Topic 2</b><br>Words: point, difficulty, tho, meeting, care",
          "<b>Topic 2</b><br>Words: minimum, note, report, addition, term",
          "<b>Topic 2</b><br>Words: weather, corolla, list, tho, meeting",
          "<b>Topic 2</b><br>Words: meeting, difficulty, tho, care, solution",
          "<b>Topic 2</b><br>Words: entrust, albino, bird, care, plan",
          "<b>Topic 2</b><br>Words: aid, hint, difficulty, tho, meeting",
          "<b>Topic 2</b><br>Words: tho, difficulty, problem, solution, theory"
         ],
         "marker": {
          "color": "#009E73"
         },
         "mode": "markers",
         "name": "2_difficulty_tho_meeting_care",
         "type": "scatter",
         "x": [
          "1840-01-08T10:48:00",
          "1844-03-05T00:00:00",
          "1845-03-17T12:00:00",
          "1847-04-11T12:00:00",
          "1848-04-23T00:00:00",
          "1849-05-05T12:00:00",
          "1850-05-18T00:00:00",
          "1853-06-23T12:00:00",
          "1854-07-06T00:00:00",
          "1859-09-05T12:00:00"
         ],
         "y": [
          10,
          1,
          3,
          1,
          4,
          8,
          1,
          2,
          1,
          14
         ]
        },
        {
         "hoverinfo": "text",
         "hovertext": [
          "<b>Topic 3</b><br>Words: specimen, plate, stem, portion, point",
          "<b>Topic 3</b><br>Words: bone, plate, decm, medusa, juice",
          "<b>Topic 3</b><br>Words: rectory, plate, person, specimen, rice",
          "<b>Topic 3</b><br>Words: labiata, plate, specimen, rice, flour",
          "<b>Topic 3</b><br>Words: masse, piece, specimen, plate, rice",
          "<b>Topic 3</b><br>Words: rice, flour, child, side, addition",
          "<b>Topic 3</b><br>Words: satisfy, deluge, condition, affair, specimen",
          "<b>Topic 3</b><br>Words: sc, crag, tripo, chest, portion"
         ],
         "marker": {
          "color": "#F0E442"
         },
         "mode": "markers",
         "name": "3_specimen_plate_rice_flour",
         "type": "scatter",
         "x": [
          "1840-01-08T10:48:00",
          "1845-03-17T12:00:00",
          "1848-04-23T00:00:00",
          "1849-05-05T12:00:00",
          "1850-05-18T00:00:00",
          "1853-06-23T12:00:00",
          "1854-07-06T00:00:00",
          "1859-09-05T12:00:00"
         ],
         "y": [
          22,
          5,
          1,
          2,
          1,
          4,
          1,
          4
         ]
        },
        {
         "hoverinfo": "text",
         "hovertext": [
          "<b>Topic 4</b><br>Words: plant, physiology, fossil, flora, duplicate",
          "<b>Topic 4</b><br>Words: plant, november, resident, purpose, university",
          "<b>Topic 4</b><br>Words: duke, baron, plant, confidence, africa",
          "<b>Topic 4</b><br>Words: term, period, botany, purpose, course",
          "<b>Topic 4</b><br>Words: plant, melittis, grandiflora, bryony, black",
          "<b>Topic 4</b><br>Words: genera, november, trustee, hadley, botany",
          "<b>Topic 4</b><br>Words: museum, plant, preference, building, cambridge",
          "<b>Topic 4</b><br>Words: plant, sulivan, seed, botany, object"
         ],
         "marker": {
          "color": "#D55E00"
         },
         "mode": "markers",
         "name": "4_plant_botany_genera_term",
         "type": "scatter",
         "x": [
          "1840-01-08T10:48:00",
          "1845-03-17T12:00:00",
          "1847-04-11T12:00:00",
          "1848-04-23T00:00:00",
          "1849-05-05T12:00:00",
          "1850-05-18T00:00:00",
          "1854-07-06T00:00:00",
          "1859-09-05T12:00:00"
         ],
         "y": [
          10,
          3,
          2,
          3,
          8,
          3,
          3,
          6
         ]
        },
        {
         "hoverinfo": "text",
         "hovertext": [
          "<b>Topic 5</b><br>Words: intention, lecture, facility, draughtsman, miller",
          "<b>Topic 5</b><br>Words: arrangement, curator, lappage, step, regard",
          "<b>Topic 5</b><br>Words: zeal, schoolmaster, annoyance, activity, talent",
          "<b>Topic 5</b><br>Words: lecture, course, ticket, professor, syllabus",
          "<b>Topic 5</b><br>Words: cousin, expence, economy, deliver, lecture",
          "<b>Topic 5</b><br>Words: exercise, amusement, child, house, lecture",
          "<b>Topic 5</b><br>Words: dicotyledon, thought, advantage, cause, respect",
          "<b>Topic 5</b><br>Words: lecture, june, lecturer, palace, opportunity"
         ],
         "marker": {
          "color": "#0072B2"
         },
         "mode": "markers",
         "name": "5_lecture_course_ticket_professor",
         "type": "scatter",
         "x": [
          "1840-01-08T10:48:00",
          "1844-03-05T00:00:00",
          "1845-03-17T12:00:00",
          "1848-04-23T00:00:00",
          "1849-05-05T12:00:00",
          "1853-06-23T12:00:00",
          "1854-07-06T00:00:00",
          "1859-09-05T12:00:00"
         ],
         "y": [
          4,
          1,
          2,
          17,
          2,
          1,
          1,
          8
         ]
        },
        {
         "hoverinfo": "text",
         "hovertext": [
          "<b>Topic 6</b><br>Words: france, publishing, nat, magazine, specie",
          "<b>Topic 6</b><br>Words: copy, museum, paper, ipswich, illustration",
          "<b>Topic 6</b><br>Words: museum, worth, wmhooker, product, babbage",
          "<b>Topic 6</b><br>Words: museum, class, enquire, reserve, distinction",
          "<b>Topic 6</b><br>Words: museum, reeve, copy, ipswich, encouragement",
          "<b>Topic 6</b><br>Words: museum, paper, series, copy, rail",
          "<b>Topic 6</b><br>Words: pamphlets, engraving, scrap, knights, possessing",
          "<b>Topic 6</b><br>Words: museum, british, thing, order, probate"
         ],
         "marker": {
          "color": "#CC79A7"
         },
         "mode": "markers",
         "name": "6_museum_paper_copy_ipswich",
         "type": "scatter",
         "x": [
          "1840-01-08T10:48:00",
          "1845-03-17T12:00:00",
          "1847-04-11T12:00:00",
          "1848-04-23T00:00:00",
          "1849-05-05T12:00:00",
          "1853-06-23T12:00:00",
          "1854-07-06T00:00:00",
          "1859-09-05T12:00:00"
         ],
         "y": [
          2,
          1,
          2,
          5,
          6,
          7,
          2,
          8
         ]
        }
       ],
       "layout": {
        "height": 500,
        "hoverlabel": {
         "bgcolor": "white",
         "font": {
          "family": "Rockwell",
          "size": 16
         }
        },
        "legend": {
         "title": {
          "text": "<b>Global Topic Representation"
         }
        },
        "template": {
         "data": {
          "bar": [
           {
            "error_x": {
             "color": "rgb(36,36,36)"
            },
            "error_y": {
             "color": "rgb(36,36,36)"
            },
            "marker": {
             "line": {
              "color": "white",
              "width": 0.5
             },
             "pattern": {
              "fillmode": "overlay",
              "size": 10,
              "solidity": 0.2
             }
            },
            "type": "bar"
           }
          ],
          "barpolar": [
           {
            "marker": {
             "line": {
              "color": "white",
              "width": 0.5
             },
             "pattern": {
              "fillmode": "overlay",
              "size": 10,
              "solidity": 0.2
             }
            },
            "type": "barpolar"
           }
          ],
          "carpet": [
           {
            "aaxis": {
             "endlinecolor": "rgb(36,36,36)",
             "gridcolor": "white",
             "linecolor": "white",
             "minorgridcolor": "white",
             "startlinecolor": "rgb(36,36,36)"
            },
            "baxis": {
             "endlinecolor": "rgb(36,36,36)",
             "gridcolor": "white",
             "linecolor": "white",
             "minorgridcolor": "white",
             "startlinecolor": "rgb(36,36,36)"
            },
            "type": "carpet"
           }
          ],
          "choropleth": [
           {
            "colorbar": {
             "outlinewidth": 1,
             "tickcolor": "rgb(36,36,36)",
             "ticks": "outside"
            },
            "type": "choropleth"
           }
          ],
          "contour": [
           {
            "colorbar": {
             "outlinewidth": 1,
             "tickcolor": "rgb(36,36,36)",
             "ticks": "outside"
            },
            "colorscale": [
             [
              0,
              "#440154"
             ],
             [
              0.1111111111111111,
              "#482878"
             ],
             [
              0.2222222222222222,
              "#3e4989"
             ],
             [
              0.3333333333333333,
              "#31688e"
             ],
             [
              0.4444444444444444,
              "#26828e"
             ],
             [
              0.5555555555555556,
              "#1f9e89"
             ],
             [
              0.6666666666666666,
              "#35b779"
             ],
             [
              0.7777777777777778,
              "#6ece58"
             ],
             [
              0.8888888888888888,
              "#b5de2b"
             ],
             [
              1,
              "#fde725"
             ]
            ],
            "type": "contour"
           }
          ],
          "contourcarpet": [
           {
            "colorbar": {
             "outlinewidth": 1,
             "tickcolor": "rgb(36,36,36)",
             "ticks": "outside"
            },
            "type": "contourcarpet"
           }
          ],
          "heatmap": [
           {
            "colorbar": {
             "outlinewidth": 1,
             "tickcolor": "rgb(36,36,36)",
             "ticks": "outside"
            },
            "colorscale": [
             [
              0,
              "#440154"
             ],
             [
              0.1111111111111111,
              "#482878"
             ],
             [
              0.2222222222222222,
              "#3e4989"
             ],
             [
              0.3333333333333333,
              "#31688e"
             ],
             [
              0.4444444444444444,
              "#26828e"
             ],
             [
              0.5555555555555556,
              "#1f9e89"
             ],
             [
              0.6666666666666666,
              "#35b779"
             ],
             [
              0.7777777777777778,
              "#6ece58"
             ],
             [
              0.8888888888888888,
              "#b5de2b"
             ],
             [
              1,
              "#fde725"
             ]
            ],
            "type": "heatmap"
           }
          ],
          "heatmapgl": [
           {
            "colorbar": {
             "outlinewidth": 1,
             "tickcolor": "rgb(36,36,36)",
             "ticks": "outside"
            },
            "colorscale": [
             [
              0,
              "#440154"
             ],
             [
              0.1111111111111111,
              "#482878"
             ],
             [
              0.2222222222222222,
              "#3e4989"
             ],
             [
              0.3333333333333333,
              "#31688e"
             ],
             [
              0.4444444444444444,
              "#26828e"
             ],
             [
              0.5555555555555556,
              "#1f9e89"
             ],
             [
              0.6666666666666666,
              "#35b779"
             ],
             [
              0.7777777777777778,
              "#6ece58"
             ],
             [
              0.8888888888888888,
              "#b5de2b"
             ],
             [
              1,
              "#fde725"
             ]
            ],
            "type": "heatmapgl"
           }
          ],
          "histogram": [
           {
            "marker": {
             "line": {
              "color": "white",
              "width": 0.6
             }
            },
            "type": "histogram"
           }
          ],
          "histogram2d": [
           {
            "colorbar": {
             "outlinewidth": 1,
             "tickcolor": "rgb(36,36,36)",
             "ticks": "outside"
            },
            "colorscale": [
             [
              0,
              "#440154"
             ],
             [
              0.1111111111111111,
              "#482878"
             ],
             [
              0.2222222222222222,
              "#3e4989"
             ],
             [
              0.3333333333333333,
              "#31688e"
             ],
             [
              0.4444444444444444,
              "#26828e"
             ],
             [
              0.5555555555555556,
              "#1f9e89"
             ],
             [
              0.6666666666666666,
              "#35b779"
             ],
             [
              0.7777777777777778,
              "#6ece58"
             ],
             [
              0.8888888888888888,
              "#b5de2b"
             ],
             [
              1,
              "#fde725"
             ]
            ],
            "type": "histogram2d"
           }
          ],
          "histogram2dcontour": [
           {
            "colorbar": {
             "outlinewidth": 1,
             "tickcolor": "rgb(36,36,36)",
             "ticks": "outside"
            },
            "colorscale": [
             [
              0,
              "#440154"
             ],
             [
              0.1111111111111111,
              "#482878"
             ],
             [
              0.2222222222222222,
              "#3e4989"
             ],
             [
              0.3333333333333333,
              "#31688e"
             ],
             [
              0.4444444444444444,
              "#26828e"
             ],
             [
              0.5555555555555556,
              "#1f9e89"
             ],
             [
              0.6666666666666666,
              "#35b779"
             ],
             [
              0.7777777777777778,
              "#6ece58"
             ],
             [
              0.8888888888888888,
              "#b5de2b"
             ],
             [
              1,
              "#fde725"
             ]
            ],
            "type": "histogram2dcontour"
           }
          ],
          "mesh3d": [
           {
            "colorbar": {
             "outlinewidth": 1,
             "tickcolor": "rgb(36,36,36)",
             "ticks": "outside"
            },
            "type": "mesh3d"
           }
          ],
          "parcoords": [
           {
            "line": {
             "colorbar": {
              "outlinewidth": 1,
              "tickcolor": "rgb(36,36,36)",
              "ticks": "outside"
             }
            },
            "type": "parcoords"
           }
          ],
          "pie": [
           {
            "automargin": true,
            "type": "pie"
           }
          ],
          "scatter": [
           {
            "fillpattern": {
             "fillmode": "overlay",
             "size": 10,
             "solidity": 0.2
            },
            "type": "scatter"
           }
          ],
          "scatter3d": [
           {
            "line": {
             "colorbar": {
              "outlinewidth": 1,
              "tickcolor": "rgb(36,36,36)",
              "ticks": "outside"
             }
            },
            "marker": {
             "colorbar": {
              "outlinewidth": 1,
              "tickcolor": "rgb(36,36,36)",
              "ticks": "outside"
             }
            },
            "type": "scatter3d"
           }
          ],
          "scattercarpet": [
           {
            "marker": {
             "colorbar": {
              "outlinewidth": 1,
              "tickcolor": "rgb(36,36,36)",
              "ticks": "outside"
             }
            },
            "type": "scattercarpet"
           }
          ],
          "scattergeo": [
           {
            "marker": {
             "colorbar": {
              "outlinewidth": 1,
              "tickcolor": "rgb(36,36,36)",
              "ticks": "outside"
             }
            },
            "type": "scattergeo"
           }
          ],
          "scattergl": [
           {
            "marker": {
             "colorbar": {
              "outlinewidth": 1,
              "tickcolor": "rgb(36,36,36)",
              "ticks": "outside"
             }
            },
            "type": "scattergl"
           }
          ],
          "scattermapbox": [
           {
            "marker": {
             "colorbar": {
              "outlinewidth": 1,
              "tickcolor": "rgb(36,36,36)",
              "ticks": "outside"
             }
            },
            "type": "scattermapbox"
           }
          ],
          "scatterpolar": [
           {
            "marker": {
             "colorbar": {
              "outlinewidth": 1,
              "tickcolor": "rgb(36,36,36)",
              "ticks": "outside"
             }
            },
            "type": "scatterpolar"
           }
          ],
          "scatterpolargl": [
           {
            "marker": {
             "colorbar": {
              "outlinewidth": 1,
              "tickcolor": "rgb(36,36,36)",
              "ticks": "outside"
             }
            },
            "type": "scatterpolargl"
           }
          ],
          "scatterternary": [
           {
            "marker": {
             "colorbar": {
              "outlinewidth": 1,
              "tickcolor": "rgb(36,36,36)",
              "ticks": "outside"
             }
            },
            "type": "scatterternary"
           }
          ],
          "surface": [
           {
            "colorbar": {
             "outlinewidth": 1,
             "tickcolor": "rgb(36,36,36)",
             "ticks": "outside"
            },
            "colorscale": [
             [
              0,
              "#440154"
             ],
             [
              0.1111111111111111,
              "#482878"
             ],
             [
              0.2222222222222222,
              "#3e4989"
             ],
             [
              0.3333333333333333,
              "#31688e"
             ],
             [
              0.4444444444444444,
              "#26828e"
             ],
             [
              0.5555555555555556,
              "#1f9e89"
             ],
             [
              0.6666666666666666,
              "#35b779"
             ],
             [
              0.7777777777777778,
              "#6ece58"
             ],
             [
              0.8888888888888888,
              "#b5de2b"
             ],
             [
              1,
              "#fde725"
             ]
            ],
            "type": "surface"
           }
          ],
          "table": [
           {
            "cells": {
             "fill": {
              "color": "rgb(237,237,237)"
             },
             "line": {
              "color": "white"
             }
            },
            "header": {
             "fill": {
              "color": "rgb(217,217,217)"
             },
             "line": {
              "color": "white"
             }
            },
            "type": "table"
           }
          ]
         },
         "layout": {
          "annotationdefaults": {
           "arrowhead": 0,
           "arrowwidth": 1
          },
          "autotypenumbers": "strict",
          "coloraxis": {
           "colorbar": {
            "outlinewidth": 1,
            "tickcolor": "rgb(36,36,36)",
            "ticks": "outside"
           }
          },
          "colorscale": {
           "diverging": [
            [
             0,
             "rgb(103,0,31)"
            ],
            [
             0.1,
             "rgb(178,24,43)"
            ],
            [
             0.2,
             "rgb(214,96,77)"
            ],
            [
             0.3,
             "rgb(244,165,130)"
            ],
            [
             0.4,
             "rgb(253,219,199)"
            ],
            [
             0.5,
             "rgb(247,247,247)"
            ],
            [
             0.6,
             "rgb(209,229,240)"
            ],
            [
             0.7,
             "rgb(146,197,222)"
            ],
            [
             0.8,
             "rgb(67,147,195)"
            ],
            [
             0.9,
             "rgb(33,102,172)"
            ],
            [
             1,
             "rgb(5,48,97)"
            ]
           ],
           "sequential": [
            [
             0,
             "#440154"
            ],
            [
             0.1111111111111111,
             "#482878"
            ],
            [
             0.2222222222222222,
             "#3e4989"
            ],
            [
             0.3333333333333333,
             "#31688e"
            ],
            [
             0.4444444444444444,
             "#26828e"
            ],
            [
             0.5555555555555556,
             "#1f9e89"
            ],
            [
             0.6666666666666666,
             "#35b779"
            ],
            [
             0.7777777777777778,
             "#6ece58"
            ],
            [
             0.8888888888888888,
             "#b5de2b"
            ],
            [
             1,
             "#fde725"
            ]
           ],
           "sequentialminus": [
            [
             0,
             "#440154"
            ],
            [
             0.1111111111111111,
             "#482878"
            ],
            [
             0.2222222222222222,
             "#3e4989"
            ],
            [
             0.3333333333333333,
             "#31688e"
            ],
            [
             0.4444444444444444,
             "#26828e"
            ],
            [
             0.5555555555555556,
             "#1f9e89"
            ],
            [
             0.6666666666666666,
             "#35b779"
            ],
            [
             0.7777777777777778,
             "#6ece58"
            ],
            [
             0.8888888888888888,
             "#b5de2b"
            ],
            [
             1,
             "#fde725"
            ]
           ]
          },
          "colorway": [
           "#1F77B4",
           "#FF7F0E",
           "#2CA02C",
           "#D62728",
           "#9467BD",
           "#8C564B",
           "#E377C2",
           "#7F7F7F",
           "#BCBD22",
           "#17BECF"
          ],
          "font": {
           "color": "rgb(36,36,36)"
          },
          "geo": {
           "bgcolor": "white",
           "lakecolor": "white",
           "landcolor": "white",
           "showlakes": true,
           "showland": true,
           "subunitcolor": "white"
          },
          "hoverlabel": {
           "align": "left"
          },
          "hovermode": "closest",
          "mapbox": {
           "style": "light"
          },
          "paper_bgcolor": "white",
          "plot_bgcolor": "white",
          "polar": {
           "angularaxis": {
            "gridcolor": "rgb(232,232,232)",
            "linecolor": "rgb(36,36,36)",
            "showgrid": false,
            "showline": true,
            "ticks": "outside"
           },
           "bgcolor": "white",
           "radialaxis": {
            "gridcolor": "rgb(232,232,232)",
            "linecolor": "rgb(36,36,36)",
            "showgrid": false,
            "showline": true,
            "ticks": "outside"
           }
          },
          "scene": {
           "xaxis": {
            "backgroundcolor": "white",
            "gridcolor": "rgb(232,232,232)",
            "gridwidth": 2,
            "linecolor": "rgb(36,36,36)",
            "showbackground": true,
            "showgrid": false,
            "showline": true,
            "ticks": "outside",
            "zeroline": false,
            "zerolinecolor": "rgb(36,36,36)"
           },
           "yaxis": {
            "backgroundcolor": "white",
            "gridcolor": "rgb(232,232,232)",
            "gridwidth": 2,
            "linecolor": "rgb(36,36,36)",
            "showbackground": true,
            "showgrid": false,
            "showline": true,
            "ticks": "outside",
            "zeroline": false,
            "zerolinecolor": "rgb(36,36,36)"
           },
           "zaxis": {
            "backgroundcolor": "white",
            "gridcolor": "rgb(232,232,232)",
            "gridwidth": 2,
            "linecolor": "rgb(36,36,36)",
            "showbackground": true,
            "showgrid": false,
            "showline": true,
            "ticks": "outside",
            "zeroline": false,
            "zerolinecolor": "rgb(36,36,36)"
           }
          },
          "shapedefaults": {
           "fillcolor": "black",
           "line": {
            "width": 0
           },
           "opacity": 0.3
          },
          "ternary": {
           "aaxis": {
            "gridcolor": "rgb(232,232,232)",
            "linecolor": "rgb(36,36,36)",
            "showgrid": false,
            "showline": true,
            "ticks": "outside"
           },
           "baxis": {
            "gridcolor": "rgb(232,232,232)",
            "linecolor": "rgb(36,36,36)",
            "showgrid": false,
            "showline": true,
            "ticks": "outside"
           },
           "bgcolor": "white",
           "caxis": {
            "gridcolor": "rgb(232,232,232)",
            "linecolor": "rgb(36,36,36)",
            "showgrid": false,
            "showline": true,
            "ticks": "outside"
           }
          },
          "title": {
           "x": 0.05
          },
          "xaxis": {
           "automargin": true,
           "gridcolor": "rgb(232,232,232)",
           "linecolor": "rgb(36,36,36)",
           "showgrid": false,
           "showline": true,
           "ticks": "outside",
           "title": {
            "standoff": 15
           },
           "zeroline": false,
           "zerolinecolor": "rgb(36,36,36)"
          },
          "yaxis": {
           "automargin": true,
           "gridcolor": "rgb(232,232,232)",
           "linecolor": "rgb(36,36,36)",
           "showgrid": false,
           "showline": true,
           "ticks": "outside",
           "title": {
            "standoff": 15
           },
           "zeroline": false,
           "zerolinecolor": "rgb(36,36,36)"
          }
         }
        },
        "title": {
         "font": {
          "color": "Black",
          "size": 22
         },
         "text": "<b>Topics over Time</b>",
         "x": 0.4,
         "xanchor": "center",
         "y": 0.95,
         "yanchor": "top"
        },
        "width": 1000,
        "xaxis": {
         "showgrid": true
        },
        "yaxis": {
         "showgrid": true,
         "title": {
          "text": "Count"
         }
        }
       }
      },
      "text/html": [
       "<div>                            <div id=\"0c5001fd-913e-4d71-a11b-e7e38ee07b4e\" class=\"plotly-graph-div\" style=\"height:500px; width:1000px;\"></div>            <script type=\"text/javascript\">                require([\"plotly\"], function(Plotly) {                    window.PLOTLYENV=window.PLOTLYENV || {};                                    if (document.getElementById(\"0c5001fd-913e-4d71-a11b-e7e38ee07b4e\")) {                    Plotly.newPlot(                        \"0c5001fd-913e-4d71-a11b-e7e38ee07b4e\",                        [{\"hoverinfo\":\"text\",\"hovertext\":[\"\\u003cb\\u003eTopic 0\\u003c\\u002fb\\u003e\\u003cbr\\u003eWords: hitcham_bildeston, suffolk, london, july, woodbridge\",\"\\u003cb\\u003eTopic 0\\u003c\\u002fb\\u003e\\u003cbr\\u003eWords: hitcham_hadleigh, february, whewell, suffolk, hitcham\",\"\\u003cb\\u003eTopic 0\\u003c\\u002fb\\u003e\\u003cbr\\u003eWords: whale, suffolk, town, hitcham, ear\",\"\\u003cb\\u003eTopic 0\\u003c\\u002fb\\u003e\\u003cbr\\u003eWords: hadl, region, mus, bank, portrait\",\"\\u003cb\\u003eTopic 0\\u003c\\u002fb\\u003e\\u003cbr\\u003eWords: suffolk, hitcham, letter, whewell, address\",\"\\u003cb\\u003eTopic 0\\u003c\\u002fb\\u003e\\u003cbr\\u003eWords: suffolk, hitcham, wife, land, statement\",\"\\u003cb\\u003eTopic 0\\u003c\\u002fb\\u003e\\u003cbr\\u003eWords: suffolk, whewell, porter, student, messenger\",\"\\u003cb\\u003eTopic 0\\u003c\\u002fb\\u003e\\u003cbr\\u003eWords: hitcham, suffolk, death, father, word\",\"\\u003cb\\u003eTopic 0\\u003c\\u002fb\\u003e\\u003cbr\\u003eWords: hitcham, year, october, suffolk, paper\",\"\\u003cb\\u003eTopic 0\\u003c\\u002fb\\u003e\\u003cbr\\u003eWords: downing_terrace, lady, whewell, suffolk, joseph\"],\"marker\":{\"color\":\"#E69F00\"},\"mode\":\"markers\",\"name\":\"0_suffolk_hitcham_whewell_london\",\"x\":[\"1840-01-08T10:48:00\",\"1844-03-05T00:00:00\",\"1845-03-17T12:00:00\",\"1847-04-11T12:00:00\",\"1848-04-23T00:00:00\",\"1849-05-05T12:00:00\",\"1850-05-18T00:00:00\",\"1853-06-23T12:00:00\",\"1854-07-06T00:00:00\",\"1859-09-05T12:00:00\"],\"y\":[18,1,13,3,21,25,4,13,11,28],\"type\":\"scatter\"},{\"hoverinfo\":\"text\",\"hovertext\":[\"\\u003cb\\u003eTopic 1\\u003c\\u002fb\\u003e\\u003cbr\\u003eWords: stigmaria, drawing, answer, description, purpose\",\"\\u003cb\\u003eTopic 1\\u003c\\u002fb\\u003e\\u003cbr\\u003eWords: felixstow, reason, appearance, person, sedgwick\",\"\\u003cb\\u003eTopic 1\\u003c\\u002fb\\u003e\\u003cbr\\u003eWords: attention, chiefly, mechanic, discourse, pretension\",\"\\u003cb\\u003eTopic 1\\u003c\\u002fb\\u003e\\u003cbr\\u003eWords: income, increase, mccoy, repetition, temptation\",\"\\u003cb\\u003eTopic 1\\u003c\\u002fb\\u003e\\u003cbr\\u003eWords: church, view, lord, darwin, opinion\",\"\\u003cb\\u003eTopic 1\\u003c\\u002fb\\u003e\\u003cbr\\u003eWords: darwin, view, sedgwick, hypothesis, opinion\"],\"marker\":{\"color\":\"#56B4E9\"},\"mode\":\"markers\",\"name\":\"1_darwin_view_sedgwick_opinion\",\"x\":[\"1840-01-08T10:48:00\",\"1845-03-17T12:00:00\",\"1847-04-11T12:00:00\",\"1848-04-23T00:00:00\",\"1849-05-05T12:00:00\",\"1859-09-05T12:00:00\"],\"y\":[1,1,2,3,23,34],\"type\":\"scatter\"},{\"hoverinfo\":\"text\",\"hovertext\":[\"\\u003cb\\u003eTopic 2\\u003c\\u002fb\\u003e\\u003cbr\\u003eWords: difficulty, patchwork, multiply, rejecting, meeting\",\"\\u003cb\\u003eTopic 2\\u003c\\u002fb\\u003e\\u003cbr\\u003eWords: plan, difficulty, tho, meeting, care\",\"\\u003cb\\u003eTopic 2\\u003c\\u002fb\\u003e\\u003cbr\\u003eWords: sole, riddle, friendship, difficulty, tho\",\"\\u003cb\\u003eTopic 2\\u003c\\u002fb\\u003e\\u003cbr\\u003eWords: point, difficulty, tho, meeting, care\",\"\\u003cb\\u003eTopic 2\\u003c\\u002fb\\u003e\\u003cbr\\u003eWords: minimum, note, report, addition, term\",\"\\u003cb\\u003eTopic 2\\u003c\\u002fb\\u003e\\u003cbr\\u003eWords: weather, corolla, list, tho, meeting\",\"\\u003cb\\u003eTopic 2\\u003c\\u002fb\\u003e\\u003cbr\\u003eWords: meeting, difficulty, tho, care, solution\",\"\\u003cb\\u003eTopic 2\\u003c\\u002fb\\u003e\\u003cbr\\u003eWords: entrust, albino, bird, care, plan\",\"\\u003cb\\u003eTopic 2\\u003c\\u002fb\\u003e\\u003cbr\\u003eWords: aid, hint, difficulty, tho, meeting\",\"\\u003cb\\u003eTopic 2\\u003c\\u002fb\\u003e\\u003cbr\\u003eWords: tho, difficulty, problem, solution, theory\"],\"marker\":{\"color\":\"#009E73\"},\"mode\":\"markers\",\"name\":\"2_difficulty_tho_meeting_care\",\"x\":[\"1840-01-08T10:48:00\",\"1844-03-05T00:00:00\",\"1845-03-17T12:00:00\",\"1847-04-11T12:00:00\",\"1848-04-23T00:00:00\",\"1849-05-05T12:00:00\",\"1850-05-18T00:00:00\",\"1853-06-23T12:00:00\",\"1854-07-06T00:00:00\",\"1859-09-05T12:00:00\"],\"y\":[10,1,3,1,4,8,1,2,1,14],\"type\":\"scatter\"},{\"hoverinfo\":\"text\",\"hovertext\":[\"\\u003cb\\u003eTopic 3\\u003c\\u002fb\\u003e\\u003cbr\\u003eWords: specimen, plate, stem, portion, point\",\"\\u003cb\\u003eTopic 3\\u003c\\u002fb\\u003e\\u003cbr\\u003eWords: bone, plate, decm, medusa, juice\",\"\\u003cb\\u003eTopic 3\\u003c\\u002fb\\u003e\\u003cbr\\u003eWords: rectory, plate, person, specimen, rice\",\"\\u003cb\\u003eTopic 3\\u003c\\u002fb\\u003e\\u003cbr\\u003eWords: labiata, plate, specimen, rice, flour\",\"\\u003cb\\u003eTopic 3\\u003c\\u002fb\\u003e\\u003cbr\\u003eWords: masse, piece, specimen, plate, rice\",\"\\u003cb\\u003eTopic 3\\u003c\\u002fb\\u003e\\u003cbr\\u003eWords: rice, flour, child, side, addition\",\"\\u003cb\\u003eTopic 3\\u003c\\u002fb\\u003e\\u003cbr\\u003eWords: satisfy, deluge, condition, affair, specimen\",\"\\u003cb\\u003eTopic 3\\u003c\\u002fb\\u003e\\u003cbr\\u003eWords: sc, crag, tripo, chest, portion\"],\"marker\":{\"color\":\"#F0E442\"},\"mode\":\"markers\",\"name\":\"3_specimen_plate_rice_flour\",\"x\":[\"1840-01-08T10:48:00\",\"1845-03-17T12:00:00\",\"1848-04-23T00:00:00\",\"1849-05-05T12:00:00\",\"1850-05-18T00:00:00\",\"1853-06-23T12:00:00\",\"1854-07-06T00:00:00\",\"1859-09-05T12:00:00\"],\"y\":[22,5,1,2,1,4,1,4],\"type\":\"scatter\"},{\"hoverinfo\":\"text\",\"hovertext\":[\"\\u003cb\\u003eTopic 4\\u003c\\u002fb\\u003e\\u003cbr\\u003eWords: plant, physiology, fossil, flora, duplicate\",\"\\u003cb\\u003eTopic 4\\u003c\\u002fb\\u003e\\u003cbr\\u003eWords: plant, november, resident, purpose, university\",\"\\u003cb\\u003eTopic 4\\u003c\\u002fb\\u003e\\u003cbr\\u003eWords: duke, baron, plant, confidence, africa\",\"\\u003cb\\u003eTopic 4\\u003c\\u002fb\\u003e\\u003cbr\\u003eWords: term, period, botany, purpose, course\",\"\\u003cb\\u003eTopic 4\\u003c\\u002fb\\u003e\\u003cbr\\u003eWords: plant, melittis, grandiflora, bryony, black\",\"\\u003cb\\u003eTopic 4\\u003c\\u002fb\\u003e\\u003cbr\\u003eWords: genera, november, trustee, hadley, botany\",\"\\u003cb\\u003eTopic 4\\u003c\\u002fb\\u003e\\u003cbr\\u003eWords: museum, plant, preference, building, cambridge\",\"\\u003cb\\u003eTopic 4\\u003c\\u002fb\\u003e\\u003cbr\\u003eWords: plant, sulivan, seed, botany, object\"],\"marker\":{\"color\":\"#D55E00\"},\"mode\":\"markers\",\"name\":\"4_plant_botany_genera_term\",\"x\":[\"1840-01-08T10:48:00\",\"1845-03-17T12:00:00\",\"1847-04-11T12:00:00\",\"1848-04-23T00:00:00\",\"1849-05-05T12:00:00\",\"1850-05-18T00:00:00\",\"1854-07-06T00:00:00\",\"1859-09-05T12:00:00\"],\"y\":[10,3,2,3,8,3,3,6],\"type\":\"scatter\"},{\"hoverinfo\":\"text\",\"hovertext\":[\"\\u003cb\\u003eTopic 5\\u003c\\u002fb\\u003e\\u003cbr\\u003eWords: intention, lecture, facility, draughtsman, miller\",\"\\u003cb\\u003eTopic 5\\u003c\\u002fb\\u003e\\u003cbr\\u003eWords: arrangement, curator, lappage, step, regard\",\"\\u003cb\\u003eTopic 5\\u003c\\u002fb\\u003e\\u003cbr\\u003eWords: zeal, schoolmaster, annoyance, activity, talent\",\"\\u003cb\\u003eTopic 5\\u003c\\u002fb\\u003e\\u003cbr\\u003eWords: lecture, course, ticket, professor, syllabus\",\"\\u003cb\\u003eTopic 5\\u003c\\u002fb\\u003e\\u003cbr\\u003eWords: cousin, expence, economy, deliver, lecture\",\"\\u003cb\\u003eTopic 5\\u003c\\u002fb\\u003e\\u003cbr\\u003eWords: exercise, amusement, child, house, lecture\",\"\\u003cb\\u003eTopic 5\\u003c\\u002fb\\u003e\\u003cbr\\u003eWords: dicotyledon, thought, advantage, cause, respect\",\"\\u003cb\\u003eTopic 5\\u003c\\u002fb\\u003e\\u003cbr\\u003eWords: lecture, june, lecturer, palace, opportunity\"],\"marker\":{\"color\":\"#0072B2\"},\"mode\":\"markers\",\"name\":\"5_lecture_course_ticket_professor\",\"x\":[\"1840-01-08T10:48:00\",\"1844-03-05T00:00:00\",\"1845-03-17T12:00:00\",\"1848-04-23T00:00:00\",\"1849-05-05T12:00:00\",\"1853-06-23T12:00:00\",\"1854-07-06T00:00:00\",\"1859-09-05T12:00:00\"],\"y\":[4,1,2,17,2,1,1,8],\"type\":\"scatter\"},{\"hoverinfo\":\"text\",\"hovertext\":[\"\\u003cb\\u003eTopic 6\\u003c\\u002fb\\u003e\\u003cbr\\u003eWords: france, publishing, nat, magazine, specie\",\"\\u003cb\\u003eTopic 6\\u003c\\u002fb\\u003e\\u003cbr\\u003eWords: copy, museum, paper, ipswich, illustration\",\"\\u003cb\\u003eTopic 6\\u003c\\u002fb\\u003e\\u003cbr\\u003eWords: museum, worth, wmhooker, product, babbage\",\"\\u003cb\\u003eTopic 6\\u003c\\u002fb\\u003e\\u003cbr\\u003eWords: museum, class, enquire, reserve, distinction\",\"\\u003cb\\u003eTopic 6\\u003c\\u002fb\\u003e\\u003cbr\\u003eWords: museum, reeve, copy, ipswich, encouragement\",\"\\u003cb\\u003eTopic 6\\u003c\\u002fb\\u003e\\u003cbr\\u003eWords: museum, paper, series, copy, rail\",\"\\u003cb\\u003eTopic 6\\u003c\\u002fb\\u003e\\u003cbr\\u003eWords: pamphlets, engraving, scrap, knights, possessing\",\"\\u003cb\\u003eTopic 6\\u003c\\u002fb\\u003e\\u003cbr\\u003eWords: museum, british, thing, order, probate\"],\"marker\":{\"color\":\"#CC79A7\"},\"mode\":\"markers\",\"name\":\"6_museum_paper_copy_ipswich\",\"x\":[\"1840-01-08T10:48:00\",\"1845-03-17T12:00:00\",\"1847-04-11T12:00:00\",\"1848-04-23T00:00:00\",\"1849-05-05T12:00:00\",\"1853-06-23T12:00:00\",\"1854-07-06T00:00:00\",\"1859-09-05T12:00:00\"],\"y\":[2,1,2,5,6,7,2,8],\"type\":\"scatter\"}],                        {\"template\":{\"data\":{\"barpolar\":[{\"marker\":{\"line\":{\"color\":\"white\",\"width\":0.5},\"pattern\":{\"fillmode\":\"overlay\",\"size\":10,\"solidity\":0.2}},\"type\":\"barpolar\"}],\"bar\":[{\"error_x\":{\"color\":\"rgb(36,36,36)\"},\"error_y\":{\"color\":\"rgb(36,36,36)\"},\"marker\":{\"line\":{\"color\":\"white\",\"width\":0.5},\"pattern\":{\"fillmode\":\"overlay\",\"size\":10,\"solidity\":0.2}},\"type\":\"bar\"}],\"carpet\":[{\"aaxis\":{\"endlinecolor\":\"rgb(36,36,36)\",\"gridcolor\":\"white\",\"linecolor\":\"white\",\"minorgridcolor\":\"white\",\"startlinecolor\":\"rgb(36,36,36)\"},\"baxis\":{\"endlinecolor\":\"rgb(36,36,36)\",\"gridcolor\":\"white\",\"linecolor\":\"white\",\"minorgridcolor\":\"white\",\"startlinecolor\":\"rgb(36,36,36)\"},\"type\":\"carpet\"}],\"choropleth\":[{\"colorbar\":{\"outlinewidth\":1,\"tickcolor\":\"rgb(36,36,36)\",\"ticks\":\"outside\"},\"type\":\"choropleth\"}],\"contourcarpet\":[{\"colorbar\":{\"outlinewidth\":1,\"tickcolor\":\"rgb(36,36,36)\",\"ticks\":\"outside\"},\"type\":\"contourcarpet\"}],\"contour\":[{\"colorbar\":{\"outlinewidth\":1,\"tickcolor\":\"rgb(36,36,36)\",\"ticks\":\"outside\"},\"colorscale\":[[0.0,\"#440154\"],[0.1111111111111111,\"#482878\"],[0.2222222222222222,\"#3e4989\"],[0.3333333333333333,\"#31688e\"],[0.4444444444444444,\"#26828e\"],[0.5555555555555556,\"#1f9e89\"],[0.6666666666666666,\"#35b779\"],[0.7777777777777778,\"#6ece58\"],[0.8888888888888888,\"#b5de2b\"],[1.0,\"#fde725\"]],\"type\":\"contour\"}],\"heatmapgl\":[{\"colorbar\":{\"outlinewidth\":1,\"tickcolor\":\"rgb(36,36,36)\",\"ticks\":\"outside\"},\"colorscale\":[[0.0,\"#440154\"],[0.1111111111111111,\"#482878\"],[0.2222222222222222,\"#3e4989\"],[0.3333333333333333,\"#31688e\"],[0.4444444444444444,\"#26828e\"],[0.5555555555555556,\"#1f9e89\"],[0.6666666666666666,\"#35b779\"],[0.7777777777777778,\"#6ece58\"],[0.8888888888888888,\"#b5de2b\"],[1.0,\"#fde725\"]],\"type\":\"heatmapgl\"}],\"heatmap\":[{\"colorbar\":{\"outlinewidth\":1,\"tickcolor\":\"rgb(36,36,36)\",\"ticks\":\"outside\"},\"colorscale\":[[0.0,\"#440154\"],[0.1111111111111111,\"#482878\"],[0.2222222222222222,\"#3e4989\"],[0.3333333333333333,\"#31688e\"],[0.4444444444444444,\"#26828e\"],[0.5555555555555556,\"#1f9e89\"],[0.6666666666666666,\"#35b779\"],[0.7777777777777778,\"#6ece58\"],[0.8888888888888888,\"#b5de2b\"],[1.0,\"#fde725\"]],\"type\":\"heatmap\"}],\"histogram2dcontour\":[{\"colorbar\":{\"outlinewidth\":1,\"tickcolor\":\"rgb(36,36,36)\",\"ticks\":\"outside\"},\"colorscale\":[[0.0,\"#440154\"],[0.1111111111111111,\"#482878\"],[0.2222222222222222,\"#3e4989\"],[0.3333333333333333,\"#31688e\"],[0.4444444444444444,\"#26828e\"],[0.5555555555555556,\"#1f9e89\"],[0.6666666666666666,\"#35b779\"],[0.7777777777777778,\"#6ece58\"],[0.8888888888888888,\"#b5de2b\"],[1.0,\"#fde725\"]],\"type\":\"histogram2dcontour\"}],\"histogram2d\":[{\"colorbar\":{\"outlinewidth\":1,\"tickcolor\":\"rgb(36,36,36)\",\"ticks\":\"outside\"},\"colorscale\":[[0.0,\"#440154\"],[0.1111111111111111,\"#482878\"],[0.2222222222222222,\"#3e4989\"],[0.3333333333333333,\"#31688e\"],[0.4444444444444444,\"#26828e\"],[0.5555555555555556,\"#1f9e89\"],[0.6666666666666666,\"#35b779\"],[0.7777777777777778,\"#6ece58\"],[0.8888888888888888,\"#b5de2b\"],[1.0,\"#fde725\"]],\"type\":\"histogram2d\"}],\"histogram\":[{\"marker\":{\"line\":{\"color\":\"white\",\"width\":0.6}},\"type\":\"histogram\"}],\"mesh3d\":[{\"colorbar\":{\"outlinewidth\":1,\"tickcolor\":\"rgb(36,36,36)\",\"ticks\":\"outside\"},\"type\":\"mesh3d\"}],\"parcoords\":[{\"line\":{\"colorbar\":{\"outlinewidth\":1,\"tickcolor\":\"rgb(36,36,36)\",\"ticks\":\"outside\"}},\"type\":\"parcoords\"}],\"pie\":[{\"automargin\":true,\"type\":\"pie\"}],\"scatter3d\":[{\"line\":{\"colorbar\":{\"outlinewidth\":1,\"tickcolor\":\"rgb(36,36,36)\",\"ticks\":\"outside\"}},\"marker\":{\"colorbar\":{\"outlinewidth\":1,\"tickcolor\":\"rgb(36,36,36)\",\"ticks\":\"outside\"}},\"type\":\"scatter3d\"}],\"scattercarpet\":[{\"marker\":{\"colorbar\":{\"outlinewidth\":1,\"tickcolor\":\"rgb(36,36,36)\",\"ticks\":\"outside\"}},\"type\":\"scattercarpet\"}],\"scattergeo\":[{\"marker\":{\"colorbar\":{\"outlinewidth\":1,\"tickcolor\":\"rgb(36,36,36)\",\"ticks\":\"outside\"}},\"type\":\"scattergeo\"}],\"scattergl\":[{\"marker\":{\"colorbar\":{\"outlinewidth\":1,\"tickcolor\":\"rgb(36,36,36)\",\"ticks\":\"outside\"}},\"type\":\"scattergl\"}],\"scattermapbox\":[{\"marker\":{\"colorbar\":{\"outlinewidth\":1,\"tickcolor\":\"rgb(36,36,36)\",\"ticks\":\"outside\"}},\"type\":\"scattermapbox\"}],\"scatterpolargl\":[{\"marker\":{\"colorbar\":{\"outlinewidth\":1,\"tickcolor\":\"rgb(36,36,36)\",\"ticks\":\"outside\"}},\"type\":\"scatterpolargl\"}],\"scatterpolar\":[{\"marker\":{\"colorbar\":{\"outlinewidth\":1,\"tickcolor\":\"rgb(36,36,36)\",\"ticks\":\"outside\"}},\"type\":\"scatterpolar\"}],\"scatter\":[{\"fillpattern\":{\"fillmode\":\"overlay\",\"size\":10,\"solidity\":0.2},\"type\":\"scatter\"}],\"scatterternary\":[{\"marker\":{\"colorbar\":{\"outlinewidth\":1,\"tickcolor\":\"rgb(36,36,36)\",\"ticks\":\"outside\"}},\"type\":\"scatterternary\"}],\"surface\":[{\"colorbar\":{\"outlinewidth\":1,\"tickcolor\":\"rgb(36,36,36)\",\"ticks\":\"outside\"},\"colorscale\":[[0.0,\"#440154\"],[0.1111111111111111,\"#482878\"],[0.2222222222222222,\"#3e4989\"],[0.3333333333333333,\"#31688e\"],[0.4444444444444444,\"#26828e\"],[0.5555555555555556,\"#1f9e89\"],[0.6666666666666666,\"#35b779\"],[0.7777777777777778,\"#6ece58\"],[0.8888888888888888,\"#b5de2b\"],[1.0,\"#fde725\"]],\"type\":\"surface\"}],\"table\":[{\"cells\":{\"fill\":{\"color\":\"rgb(237,237,237)\"},\"line\":{\"color\":\"white\"}},\"header\":{\"fill\":{\"color\":\"rgb(217,217,217)\"},\"line\":{\"color\":\"white\"}},\"type\":\"table\"}]},\"layout\":{\"annotationdefaults\":{\"arrowhead\":0,\"arrowwidth\":1},\"autotypenumbers\":\"strict\",\"coloraxis\":{\"colorbar\":{\"outlinewidth\":1,\"tickcolor\":\"rgb(36,36,36)\",\"ticks\":\"outside\"}},\"colorscale\":{\"diverging\":[[0.0,\"rgb(103,0,31)\"],[0.1,\"rgb(178,24,43)\"],[0.2,\"rgb(214,96,77)\"],[0.3,\"rgb(244,165,130)\"],[0.4,\"rgb(253,219,199)\"],[0.5,\"rgb(247,247,247)\"],[0.6,\"rgb(209,229,240)\"],[0.7,\"rgb(146,197,222)\"],[0.8,\"rgb(67,147,195)\"],[0.9,\"rgb(33,102,172)\"],[1.0,\"rgb(5,48,97)\"]],\"sequential\":[[0.0,\"#440154\"],[0.1111111111111111,\"#482878\"],[0.2222222222222222,\"#3e4989\"],[0.3333333333333333,\"#31688e\"],[0.4444444444444444,\"#26828e\"],[0.5555555555555556,\"#1f9e89\"],[0.6666666666666666,\"#35b779\"],[0.7777777777777778,\"#6ece58\"],[0.8888888888888888,\"#b5de2b\"],[1.0,\"#fde725\"]],\"sequentialminus\":[[0.0,\"#440154\"],[0.1111111111111111,\"#482878\"],[0.2222222222222222,\"#3e4989\"],[0.3333333333333333,\"#31688e\"],[0.4444444444444444,\"#26828e\"],[0.5555555555555556,\"#1f9e89\"],[0.6666666666666666,\"#35b779\"],[0.7777777777777778,\"#6ece58\"],[0.8888888888888888,\"#b5de2b\"],[1.0,\"#fde725\"]]},\"colorway\":[\"#1F77B4\",\"#FF7F0E\",\"#2CA02C\",\"#D62728\",\"#9467BD\",\"#8C564B\",\"#E377C2\",\"#7F7F7F\",\"#BCBD22\",\"#17BECF\"],\"font\":{\"color\":\"rgb(36,36,36)\"},\"geo\":{\"bgcolor\":\"white\",\"lakecolor\":\"white\",\"landcolor\":\"white\",\"showlakes\":true,\"showland\":true,\"subunitcolor\":\"white\"},\"hoverlabel\":{\"align\":\"left\"},\"hovermode\":\"closest\",\"mapbox\":{\"style\":\"light\"},\"paper_bgcolor\":\"white\",\"plot_bgcolor\":\"white\",\"polar\":{\"angularaxis\":{\"gridcolor\":\"rgb(232,232,232)\",\"linecolor\":\"rgb(36,36,36)\",\"showgrid\":false,\"showline\":true,\"ticks\":\"outside\"},\"bgcolor\":\"white\",\"radialaxis\":{\"gridcolor\":\"rgb(232,232,232)\",\"linecolor\":\"rgb(36,36,36)\",\"showgrid\":false,\"showline\":true,\"ticks\":\"outside\"}},\"scene\":{\"xaxis\":{\"backgroundcolor\":\"white\",\"gridcolor\":\"rgb(232,232,232)\",\"gridwidth\":2,\"linecolor\":\"rgb(36,36,36)\",\"showbackground\":true,\"showgrid\":false,\"showline\":true,\"ticks\":\"outside\",\"zeroline\":false,\"zerolinecolor\":\"rgb(36,36,36)\"},\"yaxis\":{\"backgroundcolor\":\"white\",\"gridcolor\":\"rgb(232,232,232)\",\"gridwidth\":2,\"linecolor\":\"rgb(36,36,36)\",\"showbackground\":true,\"showgrid\":false,\"showline\":true,\"ticks\":\"outside\",\"zeroline\":false,\"zerolinecolor\":\"rgb(36,36,36)\"},\"zaxis\":{\"backgroundcolor\":\"white\",\"gridcolor\":\"rgb(232,232,232)\",\"gridwidth\":2,\"linecolor\":\"rgb(36,36,36)\",\"showbackground\":true,\"showgrid\":false,\"showline\":true,\"ticks\":\"outside\",\"zeroline\":false,\"zerolinecolor\":\"rgb(36,36,36)\"}},\"shapedefaults\":{\"fillcolor\":\"black\",\"line\":{\"width\":0},\"opacity\":0.3},\"ternary\":{\"aaxis\":{\"gridcolor\":\"rgb(232,232,232)\",\"linecolor\":\"rgb(36,36,36)\",\"showgrid\":false,\"showline\":true,\"ticks\":\"outside\"},\"baxis\":{\"gridcolor\":\"rgb(232,232,232)\",\"linecolor\":\"rgb(36,36,36)\",\"showgrid\":false,\"showline\":true,\"ticks\":\"outside\"},\"bgcolor\":\"white\",\"caxis\":{\"gridcolor\":\"rgb(232,232,232)\",\"linecolor\":\"rgb(36,36,36)\",\"showgrid\":false,\"showline\":true,\"ticks\":\"outside\"}},\"title\":{\"x\":0.05},\"xaxis\":{\"automargin\":true,\"gridcolor\":\"rgb(232,232,232)\",\"linecolor\":\"rgb(36,36,36)\",\"showgrid\":false,\"showline\":true,\"ticks\":\"outside\",\"title\":{\"standoff\":15},\"zeroline\":false,\"zerolinecolor\":\"rgb(36,36,36)\"},\"yaxis\":{\"automargin\":true,\"gridcolor\":\"rgb(232,232,232)\",\"linecolor\":\"rgb(36,36,36)\",\"showgrid\":false,\"showline\":true,\"ticks\":\"outside\",\"title\":{\"standoff\":15},\"zeroline\":false,\"zerolinecolor\":\"rgb(36,36,36)\"}}},\"xaxis\":{\"showgrid\":true},\"yaxis\":{\"showgrid\":true,\"title\":{\"text\":\"Count\"}},\"title\":{\"font\":{\"size\":22,\"color\":\"Black\"},\"text\":\"\\u003cb\\u003eTopics over Time\\u003c\\u002fb\\u003e\",\"y\":0.95,\"x\":0.4,\"xanchor\":\"center\",\"yanchor\":\"top\"},\"hoverlabel\":{\"font\":{\"size\":16,\"family\":\"Rockwell\"},\"bgcolor\":\"white\"},\"width\":1000,\"height\":500,\"legend\":{\"title\":{\"text\":\"\\u003cb\\u003eGlobal Topic Representation\"}}},                        {\"responsive\": true}                    ).then(function(){\n",
       "                            \n",
       "var gd = document.getElementById('0c5001fd-913e-4d71-a11b-e7e38ee07b4e');\n",
       "var x = new MutationObserver(function (mutations, observer) {{\n",
       "        var display = window.getComputedStyle(gd).display;\n",
       "        if (!display || display === 'none') {{\n",
       "            console.log([gd, 'removed!']);\n",
       "            Plotly.purge(gd);\n",
       "            observer.disconnect();\n",
       "        }}\n",
       "}});\n",
       "\n",
       "// Listen for the removal of the full notebook cells\n",
       "var notebookContainer = gd.closest('#notebook-container');\n",
       "if (notebookContainer) {{\n",
       "    x.observe(notebookContainer, {childList: true});\n",
       "}}\n",
       "\n",
       "// Listen for the clearing of the current output cell\n",
       "var outputEl = gd.closest('.output');\n",
       "if (outputEl) {{\n",
       "    x.observe(outputEl, {childList: true});\n",
       "}}\n",
       "\n",
       "                        })                };                });            </script>        </div>"
      ]
     },
     "metadata": {},
     "output_type": "display_data"
    }
   ],
   "source": [
    "henslow_win_vis = year_window_vis(henslow_sent_df, \n",
    "                                  year_counts_henslow, \n",
    "                                  topic_model, \n",
    "                                  low_lim=10, \n",
    "                                  high_lim=150\n",
    "                                 )\n",
    "henslow_win_vis"
   ]
  },
  {
   "cell_type": "markdown",
   "id": "5ed38bda",
   "metadata": {},
   "source": [
    "Use year_window_vis function to create a visualisation of topics over time for letters sent to Henslow, omitting years with very high or low numbers of letters."
   ]
  },
  {
   "cell_type": "code",
   "execution_count": 28,
   "id": "100a5ddb",
   "metadata": {},
   "outputs": [
    {
     "data": {
      "application/vnd.plotly.v1+json": {
       "config": {
        "plotlyServerURL": "https://plot.ly"
       },
       "data": [
        {
         "hoverinfo": "text",
         "hovertext": [
          "<b>Topic 0</b><br>Words: specimen, plant, common, pencil, myrtillus",
          "<b>Topic 0</b><br>Words: plant, botany, flora, palustris, vulgaris",
          "<b>Topic 0</b><br>Words: arvensis, plant, fruit, vulgaris, palustris",
          "<b>Topic 0</b><br>Words: plant, herbarium, crossed_pencil, flower, fruit",
          "<b>Topic 0</b><br>Words: torrey, flora, princeton, nd, bott",
          "<b>Topic 0</b><br>Words: primitiva, senegambia, trop, hendelot, odd",
          "<b>Topic 0</b><br>Words: cilia, dillwyn, atrum, swarm, truncata",
          "<b>Topic 0</b><br>Words: periculo, florist, meo, aqua, regia",
          "<b>Topic 0</b><br>Words: bewick, zoophytes, bewickshire, founder, sponge",
          "<b>Topic 0</b><br>Words: dishonesty, leat, envelope, daily, naumann",
          "<b>Topic 0</b><br>Words: botany, playfair, unedo, naturalist, puccinia",
          "<b>Topic 0</b><br>Words: botany, flower, enquiry, bentham, herbarium",
          "<b>Topic 0</b><br>Words: botany, curriculum, lamarck, fruit, leone"
         ],
         "marker": {
          "color": "#E69F00"
         },
         "mode": "markers",
         "name": "0_plant_botany_fruit_herbarium",
         "type": "scatter",
         "x": [
          "1825-03-01T22:32:09.600000",
          "1826-12-28T01:12:00",
          "1828-10-11T02:24:00",
          "1830-07-26T03:36:00",
          "1841-04-17T10:48:00",
          "1844-11-13T13:12:00",
          "1848-06-11T15:36:00",
          "1850-03-26T16:48:00",
          "1852-01-08T18:00:00",
          "1853-10-22T19:12:00",
          "1855-08-06T20:24:00",
          "1857-05-20T21:36:00",
          "1859-03-04T22:48:00"
         ],
         "y": [
          26,
          94,
          146,
          132,
          6,
          2,
          5,
          3,
          4,
          8,
          14,
          13,
          20
         ]
        },
        {
         "hoverinfo": "text",
         "hovertext": [
          "<b>Topic 1</b><br>Words: university, parliament, candidate, lordship, palmerston",
          "<b>Topic 1</b><br>Words: edinburgh, freckenham, bachelorship, london, glasgow",
          "<b>Topic 1</b><br>Words: scotland, london, cambridge, edinburgh, university",
          "<b>Topic 1</b><br>Words: cambridge, edinburgh, glasgow, burgh, dissatisfaction",
          "<b>Topic 1</b><br>Words: examiner, anatomy, senate, british_association, physiology",
          "<b>Topic 1</b><br>Words: morality, comtee, flagelhurst, rivality, perversion",
          "<b>Topic 1</b><br>Words: opposition, cambridge, edinburgh, unlucky, pairing",
          "<b>Topic 1</b><br>Words: consideration, cambridge, council, nearlymany, bancroft",
          "<b>Topic 1</b><br>Words: examination, director, application, london, currey",
          "<b>Topic 1</b><br>Words: london, evg, betchworth, meeting, appointment",
          "<b>Topic 1</b><br>Words: candidate, london, university, examination, cambridge",
          "<b>Topic 1</b><br>Words: london, examination, senate, university, september",
          "<b>Topic 1</b><br>Words: examiner, senate, examination, fee, london"
         ],
         "marker": {
          "color": "#56B4E9"
         },
         "mode": "markers",
         "name": "1_london_university_cambridge_examinatio...",
         "type": "scatter",
         "x": [
          "1825-03-01T22:32:09.600000",
          "1826-12-28T01:12:00",
          "1828-10-11T02:24:00",
          "1830-07-26T03:36:00",
          "1841-04-17T10:48:00",
          "1844-11-13T13:12:00",
          "1848-06-11T15:36:00",
          "1850-03-26T16:48:00",
          "1852-01-08T18:00:00",
          "1853-10-22T19:12:00",
          "1855-08-06T20:24:00",
          "1857-05-20T21:36:00",
          "1859-03-04T22:48:00"
         ],
         "y": [
          24,
          19,
          29,
          25,
          13,
          6,
          13,
          18,
          20,
          21,
          81,
          40,
          44
         ]
        },
        {
         "hoverinfo": "text",
         "hovertext": [
          "<b>Topic 2</b><br>Words: lefevre, goulburn, palmerston, stat, hibbert",
          "<b>Topic 2</b><br>Words: smith, none, supercede, lich, lect",
          "<b>Topic 2</b><br>Words: dalton, other, thank, graham, smith",
          "<b>Topic 2</b><br>Words: smith, haste, sowerby, note, name",
          "<b>Topic 2</b><br>Words: noterity, powell, compiler, sentence, work",
          "<b>Topic 2</b><br>Words: integrity, smith, occid, lament, reproach",
          "<b>Topic 2</b><br>Words: none, cromwellite, saviour, thine, submission",
          "<b>Topic 2</b><br>Words: hitcham, farmer, dead, john, thomas",
          "<b>Topic 2</b><br>Words: moseley, henry, note, aid, wrangler",
          "<b>Topic 2</b><br>Words: carpenter, note, ism, respc, betn",
          "<b>Topic 2</b><br>Words: thank, haste, comment, hitcham, farmer",
          "<b>Topic 2</b><br>Words: carpenter, hitcham, heading, save, circencester",
          "<b>Topic 2</b><br>Words: carpenter, eliz, haste, hitcham, john_evan"
         ],
         "marker": {
          "color": "#009E73"
         },
         "mode": "markers",
         "name": "2_hitcham_smith_haste_carpenter",
         "type": "scatter",
         "x": [
          "1825-03-01T22:32:09.600000",
          "1826-12-28T01:12:00",
          "1828-10-11T02:24:00",
          "1830-07-26T03:36:00",
          "1841-04-17T10:48:00",
          "1844-11-13T13:12:00",
          "1848-06-11T15:36:00",
          "1850-03-26T16:48:00",
          "1852-01-08T18:00:00",
          "1853-10-22T19:12:00",
          "1855-08-06T20:24:00",
          "1857-05-20T21:36:00",
          "1859-03-04T22:48:00"
         ],
         "y": [
          13,
          21,
          33,
          40,
          6,
          7,
          6,
          18,
          20,
          19,
          40,
          19,
          21
         ]
        },
        {
         "hoverinfo": "text",
         "hovertext": [
          "<b>Topic 3</b><br>Words: barrel, possessor, vase, countryman, dollar",
          "<b>Topic 3</b><br>Words: museum, natural_history, transactions, wernerian, memoir",
          "<b>Topic 3</b><br>Words: chairman, museum, catalogue, soho, deputy",
          "<b>Topic 3</b><br>Words: book, catalogue, museum, str, bookseller",
          "<b>Topic 3</b><br>Words: american, author, museum, mylodon, paralizing",
          "<b>Topic 3</b><br>Words: butter, press, clarke, upto, manuscript",
          "<b>Topic 3</b><br>Words: museum, pat, invasion, fraser, padre",
          "<b>Topic 3</b><br>Words: museum, truth, intercourse, cairo, suspect",
          "<b>Topic 3</b><br>Words: museum, book, ipswich, british, remove",
          "<b>Topic 3</b><br>Words: museum, book, art, department, kensington",
          "<b>Topic 3</b><br>Words: museum, book, kensington, sale, portion",
          "<b>Topic 3</b><br>Words: museum, british, book, superintend, charle"
         ],
         "marker": {
          "color": "#F0E442"
         },
         "mode": "markers",
         "name": "3_museum_book_catalogue_british",
         "type": "scatter",
         "x": [
          "1825-03-01T22:32:09.600000",
          "1826-12-28T01:12:00",
          "1828-10-11T02:24:00",
          "1830-07-26T03:36:00",
          "1841-04-17T10:48:00",
          "1848-06-11T15:36:00",
          "1850-03-26T16:48:00",
          "1852-01-08T18:00:00",
          "1853-10-22T19:12:00",
          "1855-08-06T20:24:00",
          "1857-05-20T21:36:00",
          "1859-03-04T22:48:00"
         ],
         "y": [
          1,
          7,
          12,
          23,
          4,
          4,
          9,
          3,
          33,
          20,
          11,
          13
         ]
        },
        {
         "hoverinfo": "text",
         "hovertext": [
          "<b>Topic 4</b><br>Words: gasp, tlate, din, sorrento, breath",
          "<b>Topic 4</b><br>Words: spring, season, felt, resting, edinbr",
          "<b>Topic 4</b><br>Words: season, ber, oct, macao, spring",
          "<b>Topic 4</b><br>Words: summer, season, december, dec, january",
          "<b>Topic 4</b><br>Words: season, electricity, vacation, sept, series",
          "<b>Topic 4</b><br>Words: dect, rochdale, season, summer, minute",
          "<b>Topic 4</b><br>Words: dream, opiate, succession, part, particle",
          "<b>Topic 4</b><br>Words: preside, fiend, temper, distemper, vile",
          "<b>Topic 4</b><br>Words: feb, winter, united_state, plan, wandsworth",
          "<b>Topic 4</b><br>Words: minute, moon, afternoon, document, half",
          "<b>Topic 4</b><br>Words: season, month, hour, daylight, hack",
          "<b>Topic 4</b><br>Words: season, sheep, suffice, stop, sw",
          "<b>Topic 4</b><br>Words: minute, summer, portland, saty, midnight"
         ],
         "marker": {
          "color": "#D55E00"
         },
         "mode": "markers",
         "name": "4_season_summer_minute_winter",
         "type": "scatter",
         "x": [
          "1825-03-01T22:32:09.600000",
          "1826-12-28T01:12:00",
          "1828-10-11T02:24:00",
          "1830-07-26T03:36:00",
          "1841-04-17T10:48:00",
          "1844-11-13T13:12:00",
          "1848-06-11T15:36:00",
          "1850-03-26T16:48:00",
          "1852-01-08T18:00:00",
          "1853-10-22T19:12:00",
          "1855-08-06T20:24:00",
          "1857-05-20T21:36:00",
          "1859-03-04T22:48:00"
         ],
         "y": [
          5,
          12,
          11,
          21,
          4,
          1,
          4,
          5,
          8,
          4,
          19,
          13,
          13
         ]
        },
        {
         "hoverinfo": "text",
         "hovertext": [
          "<b>Topic 5</b><br>Words: specimen, subscription, mineralogist, cape, fossil",
          "<b>Topic 5</b><br>Words: specimen, ornithologist, teesdale, drobisch, perseverance",
          "<b>Topic 5</b><br>Words: specimen, septentrionale, clapham, asplenium, stock",
          "<b>Topic 5</b><br>Words: fossil, owen, athaneum, split, ceroine",
          "<b>Topic 5</b><br>Words: congo, brasss, specimen, collections, wheat",
          "<b>Topic 5</b><br>Words: maguire, dover, reptile, decision, daguerreotype",
          "<b>Topic 5</b><br>Words: epoch, fossil, pliocene, crag, miocene",
          "<b>Topic 5</b><br>Words: method, vesuvius, ramble, jn, fossil",
          "<b>Topic 5</b><br>Words: fossil, ox, bos, tooth, inclination",
          "<b>Topic 5</b><br>Words: fossil, mammal, limb, skeleton, bone",
          "<b>Topic 5</b><br>Words: fossil, bone, specimen, shrunk, dumont",
          "<b>Topic 5</b><br>Words: fossil, specimen, grundisburgh, crag, suffolk"
         ],
         "marker": {
          "color": "#0072B2"
         },
         "mode": "markers",
         "name": "5_fossil_specimen_bone_mammal",
         "type": "scatter",
         "x": [
          "1826-12-28T01:12:00",
          "1828-10-11T02:24:00",
          "1830-07-26T03:36:00",
          "1841-04-17T10:48:00",
          "1844-11-13T13:12:00",
          "1848-06-11T15:36:00",
          "1850-03-26T16:48:00",
          "1852-01-08T18:00:00",
          "1853-10-22T19:12:00",
          "1855-08-06T20:24:00",
          "1857-05-20T21:36:00",
          "1859-03-04T22:48:00"
         ],
         "y": [
          9,
          9,
          13,
          2,
          3,
          2,
          8,
          4,
          13,
          22,
          10,
          13
         ]
        },
        {
         "hoverinfo": "text",
         "hovertext": [
          "<b>Topic 6</b><br>Words: negligence, corp, esprit, motive, obtain",
          "<b>Topic 6</b><br>Words: bracvic, rself, procuring, hasten, coral",
          "<b>Topic 6</b><br>Words: kindness, satisfaction, motive, behalf, ch",
          "<b>Topic 6</b><br>Words: habit, satisfaction, admiration, quality, kindness",
          "<b>Topic 6</b><br>Words: reference, prosecution, youth, confidence, assure",
          "<b>Topic 6</b><br>Words: side, surplus, squabbling, belli, withhold",
          "<b>Topic 6</b><br>Words: willingness, grace, oct, feb, exertion",
          "<b>Topic 6</b><br>Words: power, check, usefulness, blessing, charity",
          "<b>Topic 6</b><br>Words: knowledge, cocoon, leech, affectation, kindness",
          "<b>Topic 6</b><br>Words: knowledge, stocking, temperance, wisher, sho",
          "<b>Topic 6</b><br>Words: habit, power, satisfaction, contrast, success",
          "<b>Topic 6</b><br>Words: kindness, success, desmidiaea, instalment, reconsideration",
          "<b>Topic 6</b><br>Words: principled, ease, coadjutor, writer, account"
         ],
         "marker": {
          "color": "#CC79A7"
         },
         "mode": "markers",
         "name": "6_kindness_satisfaction_power_habit",
         "type": "scatter",
         "x": [
          "1825-03-01T22:32:09.600000",
          "1826-12-28T01:12:00",
          "1828-10-11T02:24:00",
          "1830-07-26T03:36:00",
          "1841-04-17T10:48:00",
          "1844-11-13T13:12:00",
          "1848-06-11T15:36:00",
          "1850-03-26T16:48:00",
          "1852-01-08T18:00:00",
          "1853-10-22T19:12:00",
          "1855-08-06T20:24:00",
          "1857-05-20T21:36:00",
          "1859-03-04T22:48:00"
         ],
         "y": [
          3,
          6,
          21,
          15,
          2,
          3,
          1,
          4,
          9,
          5,
          22,
          9,
          4
         ]
        },
        {
         "hoverinfo": "text",
         "hovertext": [
          "<b>Topic 7</b><br>Words: lime, oxide, chalk, essex, acid",
          "<b>Topic 7</b><br>Words: bottle, heat, experiment, bischoff, binn",
          "<b>Topic 7</b><br>Words: ball, phosphorus, coprolite, honor, experiment",
          "<b>Topic 7</b><br>Words: shale, oil, grease, liquid, acid",
          "<b>Topic 7</b><br>Words: shale, acid, lime, oil, silica",
          "<b>Topic 7</b><br>Words: flame, oxide, platina, hydrogen, gas",
          "<b>Topic 7</b><br>Words: fire, acid, fuel, fountain, sulphuric",
          "<b>Topic 7</b><br>Words: dew, sewage, closet, substance, avail"
         ],
         "marker": {
          "color": "#E69F00"
         },
         "mode": "markers",
         "name": "7_shale_lime_acid_oil",
         "type": "scatter",
         "x": [
          "1826-12-28T01:12:00",
          "1830-07-26T03:36:00",
          "1844-11-13T13:12:00",
          "1848-06-11T15:36:00",
          "1850-03-26T16:48:00",
          "1853-10-22T19:12:00",
          "1855-08-06T20:24:00",
          "1857-05-20T21:36:00"
         ],
         "y": [
          10,
          9,
          1,
          12,
          35,
          11,
          7,
          2
         ]
        },
        {
         "hoverinfo": "text",
         "hovertext": [
          "<b>Topic 8</b><br>Words: twopeny, month, paper, sheet, letter",
          "<b>Topic 8</b><br>Words: paper, portfolio, mis, triplet, gall",
          "<b>Topic 8</b><br>Words: paper, sheet, rice, letter, printer",
          "<b>Topic 8</b><br>Words: paper, printer, print, particular, sheet",
          "<b>Topic 8</b><br>Words: disease, copy, paper, sheet, letter",
          "<b>Topic 8</b><br>Words: turn, abundance, shew, request, paper",
          "<b>Topic 8</b><br>Words: adhere, atum, moniliforme, paper, water",
          "<b>Topic 8</b><br>Words: dent, paper, page, letter, sheet",
          "<b>Topic 8</b><br>Words: print, paper, dep, overhaul, physiol",
          "<b>Topic 8</b><br>Words: paper, press, section, thro, printer",
          "<b>Topic 8</b><br>Words: paper, sheet, printer, print, document",
          "<b>Topic 8</b><br>Words: sheet, paper, letter, copy, printer",
          "<b>Topic 8</b><br>Words: paper, letter, print, forceps, roundabout"
         ],
         "marker": {
          "color": "#56B4E9"
         },
         "mode": "markers",
         "name": "8_paper_sheet_letter_print",
         "type": "scatter",
         "x": [
          "1825-03-01T22:32:09.600000",
          "1826-12-28T01:12:00",
          "1828-10-11T02:24:00",
          "1830-07-26T03:36:00",
          "1841-04-17T10:48:00",
          "1844-11-13T13:12:00",
          "1848-06-11T15:36:00",
          "1850-03-26T16:48:00",
          "1852-01-08T18:00:00",
          "1853-10-22T19:12:00",
          "1855-08-06T20:24:00",
          "1857-05-20T21:36:00",
          "1859-03-04T22:48:00"
         ],
         "y": [
          2,
          6,
          10,
          12,
          1,
          1,
          1,
          3,
          5,
          8,
          12,
          11,
          8
         ]
        },
        {
         "hoverinfo": "text",
         "hovertext": [
          "<b>Topic 9</b><br>Words: sell, advertising, confer, labor, strike",
          "<b>Topic 9</b><br>Words: course, lecture, classroom, lecturer, commence",
          "<b>Topic 9</b><br>Words: lecture, gace, novice, sacrament, course",
          "<b>Topic 9</b><br>Words: course, messenger, class, creature, tutor",
          "<b>Topic 9</b><br>Words: lecture, indication, dancer, occuping, sterling",
          "<b>Topic 9</b><br>Words: lecture, tiresome, auditor, past, hesitation",
          "<b>Topic 9</b><br>Words: crompton, lecture, rector, lesson, nearer",
          "<b>Topic 9</b><br>Words: lecture, course, february, instruction, formidably",
          "<b>Topic 9</b><br>Words: lecture, course, particular, day, occasion",
          "<b>Topic 9</b><br>Words: lecture, hope, hon, separation, easter"
         ],
         "marker": {
          "color": "#009E73"
         },
         "mode": "markers",
         "name": "9_lecture_course_class_lecturer",
         "type": "scatter",
         "x": [
          "1825-03-01T22:32:09.600000",
          "1826-12-28T01:12:00",
          "1828-10-11T02:24:00",
          "1830-07-26T03:36:00",
          "1841-04-17T10:48:00",
          "1852-01-08T18:00:00",
          "1853-10-22T19:12:00",
          "1855-08-06T20:24:00",
          "1857-05-20T21:36:00",
          "1859-03-04T22:48:00"
         ],
         "y": [
          2,
          13,
          4,
          5,
          2,
          3,
          4,
          15,
          9,
          5
         ]
        },
        {
         "hoverinfo": "text",
         "hovertext": [
          "<b>Topic 10</b><br>Words: cost, elmstead, brooke, hortus, price",
          "<b>Topic 10</b><br>Words: dividend, field, deal, number, sum",
          "<b>Topic 10</b><br>Words: price, charge, expence, sum, balance",
          "<b>Topic 10</b><br>Words: section, enhance, acuteness, worth, sum",
          "<b>Topic 10</b><br>Words: equation, sum, price, amount, cost",
          "<b>Topic 10</b><br>Words: sum, price, leg, amount, hall",
          "<b>Topic 10</b><br>Words: sum, dilapidation, amount, cost, charge",
          "<b>Topic 10</b><br>Words: amount, price, valuation, value, cost",
          "<b>Topic 10</b><br>Words: charge, sum, cost, expense, price",
          "<b>Topic 10</b><br>Words: admission, performance, estate, thinking, amount"
         ],
         "marker": {
          "color": "#F0E442"
         },
         "mode": "markers",
         "name": "10_sum_price_amount_cost",
         "type": "scatter",
         "x": [
          "1825-03-01T22:32:09.600000",
          "1826-12-28T01:12:00",
          "1828-10-11T02:24:00",
          "1830-07-26T03:36:00",
          "1848-06-11T15:36:00",
          "1850-03-26T16:48:00",
          "1853-10-22T19:12:00",
          "1855-08-06T20:24:00",
          "1857-05-20T21:36:00",
          "1859-03-04T22:48:00"
         ],
         "y": [
          2,
          4,
          5,
          7,
          1,
          2,
          5,
          14,
          11,
          3
         ]
        },
        {
         "hoverinfo": "text",
         "hovertext": [
          "<b>Topic 11</b><br>Words: insect, dale, entomology, scotland, shop",
          "<b>Topic 11</b><br>Words: insect, grove, obligation, entomology, member",
          "<b>Topic 11</b><br>Words: insect, entomology, yorkshire, study, jenyns",
          "<b>Topic 11</b><br>Words: insect, valdivia, meigan, described, beetle",
          "<b>Topic 11</b><br>Words: insect, entomologist, dog, kennel, turf",
          "<b>Topic 11</b><br>Words: sessile, annelide, eyed, crustacea, insect",
          "<b>Topic 11</b><br>Words: insect, crustacea, selborne, amphibia, hacid",
          "<b>Topic 11</b><br>Words: insect, entomology, insecta, westwood, wollaston",
          "<b>Topic 11</b><br>Words: larva, insect, teazle, moth, pith",
          "<b>Topic 11</b><br>Words: insect, nepticula, entomologist, larva, entomology"
         ],
         "marker": {
          "color": "#D55E00"
         },
         "mode": "markers",
         "name": "11_insect_entomology_entomologist_larva",
         "type": "scatter",
         "x": [
          "1825-03-01T22:32:09.600000",
          "1826-12-28T01:12:00",
          "1828-10-11T02:24:00",
          "1830-07-26T03:36:00",
          "1848-06-11T15:36:00",
          "1852-01-08T18:00:00",
          "1853-10-22T19:12:00",
          "1855-08-06T20:24:00",
          "1857-05-20T21:36:00",
          "1859-03-04T22:48:00"
         ],
         "y": [
          5,
          4,
          13,
          4,
          4,
          2,
          3,
          9,
          2,
          6
         ]
        },
        {
         "hoverinfo": "text",
         "hovertext": [
          "<b>Topic 12</b><br>Words: hooker, bunbury, playfair, mistaken, days_ago",
          "<b>Topic 12</b><br>Words: hooker, aberdeenshire, filicum, icones, arcuata",
          "<b>Topic 12</b><br>Words: hooker, hotel, haldane, twopenny, devil",
          "<b>Topic 12</b><br>Words: hooker, suberectus, mistaken, juice, fork",
          "<b>Topic 12</b><br>Words: hooker, bunbury, playfair, mistaken, days_ago",
          "<b>Topic 12</b><br>Words: hooker, episode, confinement, news, history",
          "<b>Topic 12</b><br>Words: hooker, breast, cassel, rascallitie, affte",
          "<b>Topic 12</b><br>Words: hooker, bunbury, days_ago, direction, fear",
          "<b>Topic 12</b><br>Words: hooker, playfair, griffin, holiday, return",
          "<b>Topic 12</b><br>Words: hooker, germany, misunderstood, post, town",
          "<b>Topic 12</b><br>Words: hooker, regrets, kindest_regard, bunbury, reputation",
          "<b>Topic 12</b><br>Words: hooker, sprung, migrate, guest, carpenter"
         ],
         "marker": {
          "color": "#0072B2"
         },
         "mode": "markers",
         "name": "12_hooker_bunbury_playfair_mistaken",
         "type": "scatter",
         "x": [
          "1825-03-01T22:32:09.600000",
          "1826-12-28T01:12:00",
          "1828-10-11T02:24:00",
          "1830-07-26T03:36:00",
          "1844-11-13T13:12:00",
          "1848-06-11T15:36:00",
          "1850-03-26T16:48:00",
          "1852-01-08T18:00:00",
          "1853-10-22T19:12:00",
          "1855-08-06T20:24:00",
          "1857-05-20T21:36:00",
          "1859-03-04T22:48:00"
         ],
         "y": [
          1,
          7,
          7,
          10,
          1,
          1,
          3,
          2,
          4,
          6,
          8,
          2
         ]
        },
        {
         "hoverinfo": "text",
         "hovertext": [
          "<b>Topic 13</b><br>Words: fanny, harriet, louisa, jenyns, love",
          "<b>Topic 13</b><br>Words: jenyns, fanny, jenyn, difft, reverend",
          "<b>Topic 13</b><br>Words: jenyns, abandonment, annoy, item, probability",
          "<b>Topic 13</b><br>Words: louisa, fanny, jenyns, yorksh, mademoiselle",
          "<b>Topic 13</b><br>Words: affly_jenyn, harriet, rest, louisa, jenyns",
          "<b>Topic 13</b><br>Words: fanny, curate, stapleford, cosy, saying",
          "<b>Topic 13</b><br>Words: harriet, affectl, powse, jenyns, love",
          "<b>Topic 13</b><br>Words: anne, louisa, jenyn, affect_ly, love",
          "<b>Topic 13</b><br>Words: affect_ly, fanny, jenyn, jenyns, louisa",
          "<b>Topic 13</b><br>Words: louisa, love, affect_ly, jenyn, jenyns"
         ],
         "marker": {
          "color": "#CC79A7"
         },
         "mode": "markers",
         "name": "13_louisa_jenyns_fanny_love",
         "type": "scatter",
         "x": [
          "1825-03-01T22:32:09.600000",
          "1826-12-28T01:12:00",
          "1828-10-11T02:24:00",
          "1830-07-26T03:36:00",
          "1841-04-17T10:48:00",
          "1848-06-11T15:36:00",
          "1853-10-22T19:12:00",
          "1855-08-06T20:24:00",
          "1857-05-20T21:36:00",
          "1859-03-04T22:48:00"
         ],
         "y": [
          1,
          5,
          4,
          4,
          2,
          2,
          3,
          2,
          8,
          12
         ]
        },
        {
         "hoverinfo": "text",
         "hovertext": [
          "<b>Topic 14</b><br>Words: dpalmerston, liver, absentee, greece, arisen",
          "<b>Topic 14</b><br>Words: sickness, leach, italy, health, dine",
          "<b>Topic 14</b><br>Words: illness, hypochondriasis, headache, fever, perform",
          "<b>Topic 14</b><br>Words: illness, care, sickness, health, head",
          "<b>Topic 14</b><br>Words: engender, endemic, miasma, latitude, humidity",
          "<b>Topic 14</b><br>Words: deprive, shin, spirits, broken, fatiguing",
          "<b>Topic 14</b><br>Words: history, care, illness, health, fever",
          "<b>Topic 14</b><br>Words: health, alimentary, ache, constipation, organ",
          "<b>Topic 14</b><br>Words: lumbago, sit, treatment, complaint, mountain",
          "<b>Topic 14</b><br>Words: illness, sickness, fever, arrant, endure",
          "<b>Topic 14</b><br>Words: illness, health, jane, winter, week"
         ],
         "marker": {
          "color": "#E69F00"
         },
         "mode": "markers",
         "name": "14_illness_health_care_fever",
         "type": "scatter",
         "x": [
          "1825-03-01T22:32:09.600000",
          "1826-12-28T01:12:00",
          "1828-10-11T02:24:00",
          "1830-07-26T03:36:00",
          "1841-04-17T10:48:00",
          "1848-06-11T15:36:00",
          "1852-01-08T18:00:00",
          "1853-10-22T19:12:00",
          "1855-08-06T20:24:00",
          "1857-05-20T21:36:00",
          "1859-03-04T22:48:00"
         ],
         "y": [
          2,
          3,
          5,
          6,
          1,
          3,
          1,
          3,
          2,
          4,
          12
         ]
        }
       ],
       "layout": {
        "height": 500,
        "hoverlabel": {
         "bgcolor": "white",
         "font": {
          "family": "Rockwell",
          "size": 16
         }
        },
        "legend": {
         "title": {
          "text": "<b>Global Topic Representation"
         }
        },
        "template": {
         "data": {
          "bar": [
           {
            "error_x": {
             "color": "rgb(36,36,36)"
            },
            "error_y": {
             "color": "rgb(36,36,36)"
            },
            "marker": {
             "line": {
              "color": "white",
              "width": 0.5
             },
             "pattern": {
              "fillmode": "overlay",
              "size": 10,
              "solidity": 0.2
             }
            },
            "type": "bar"
           }
          ],
          "barpolar": [
           {
            "marker": {
             "line": {
              "color": "white",
              "width": 0.5
             },
             "pattern": {
              "fillmode": "overlay",
              "size": 10,
              "solidity": 0.2
             }
            },
            "type": "barpolar"
           }
          ],
          "carpet": [
           {
            "aaxis": {
             "endlinecolor": "rgb(36,36,36)",
             "gridcolor": "white",
             "linecolor": "white",
             "minorgridcolor": "white",
             "startlinecolor": "rgb(36,36,36)"
            },
            "baxis": {
             "endlinecolor": "rgb(36,36,36)",
             "gridcolor": "white",
             "linecolor": "white",
             "minorgridcolor": "white",
             "startlinecolor": "rgb(36,36,36)"
            },
            "type": "carpet"
           }
          ],
          "choropleth": [
           {
            "colorbar": {
             "outlinewidth": 1,
             "tickcolor": "rgb(36,36,36)",
             "ticks": "outside"
            },
            "type": "choropleth"
           }
          ],
          "contour": [
           {
            "colorbar": {
             "outlinewidth": 1,
             "tickcolor": "rgb(36,36,36)",
             "ticks": "outside"
            },
            "colorscale": [
             [
              0,
              "#440154"
             ],
             [
              0.1111111111111111,
              "#482878"
             ],
             [
              0.2222222222222222,
              "#3e4989"
             ],
             [
              0.3333333333333333,
              "#31688e"
             ],
             [
              0.4444444444444444,
              "#26828e"
             ],
             [
              0.5555555555555556,
              "#1f9e89"
             ],
             [
              0.6666666666666666,
              "#35b779"
             ],
             [
              0.7777777777777778,
              "#6ece58"
             ],
             [
              0.8888888888888888,
              "#b5de2b"
             ],
             [
              1,
              "#fde725"
             ]
            ],
            "type": "contour"
           }
          ],
          "contourcarpet": [
           {
            "colorbar": {
             "outlinewidth": 1,
             "tickcolor": "rgb(36,36,36)",
             "ticks": "outside"
            },
            "type": "contourcarpet"
           }
          ],
          "heatmap": [
           {
            "colorbar": {
             "outlinewidth": 1,
             "tickcolor": "rgb(36,36,36)",
             "ticks": "outside"
            },
            "colorscale": [
             [
              0,
              "#440154"
             ],
             [
              0.1111111111111111,
              "#482878"
             ],
             [
              0.2222222222222222,
              "#3e4989"
             ],
             [
              0.3333333333333333,
              "#31688e"
             ],
             [
              0.4444444444444444,
              "#26828e"
             ],
             [
              0.5555555555555556,
              "#1f9e89"
             ],
             [
              0.6666666666666666,
              "#35b779"
             ],
             [
              0.7777777777777778,
              "#6ece58"
             ],
             [
              0.8888888888888888,
              "#b5de2b"
             ],
             [
              1,
              "#fde725"
             ]
            ],
            "type": "heatmap"
           }
          ],
          "heatmapgl": [
           {
            "colorbar": {
             "outlinewidth": 1,
             "tickcolor": "rgb(36,36,36)",
             "ticks": "outside"
            },
            "colorscale": [
             [
              0,
              "#440154"
             ],
             [
              0.1111111111111111,
              "#482878"
             ],
             [
              0.2222222222222222,
              "#3e4989"
             ],
             [
              0.3333333333333333,
              "#31688e"
             ],
             [
              0.4444444444444444,
              "#26828e"
             ],
             [
              0.5555555555555556,
              "#1f9e89"
             ],
             [
              0.6666666666666666,
              "#35b779"
             ],
             [
              0.7777777777777778,
              "#6ece58"
             ],
             [
              0.8888888888888888,
              "#b5de2b"
             ],
             [
              1,
              "#fde725"
             ]
            ],
            "type": "heatmapgl"
           }
          ],
          "histogram": [
           {
            "marker": {
             "line": {
              "color": "white",
              "width": 0.6
             }
            },
            "type": "histogram"
           }
          ],
          "histogram2d": [
           {
            "colorbar": {
             "outlinewidth": 1,
             "tickcolor": "rgb(36,36,36)",
             "ticks": "outside"
            },
            "colorscale": [
             [
              0,
              "#440154"
             ],
             [
              0.1111111111111111,
              "#482878"
             ],
             [
              0.2222222222222222,
              "#3e4989"
             ],
             [
              0.3333333333333333,
              "#31688e"
             ],
             [
              0.4444444444444444,
              "#26828e"
             ],
             [
              0.5555555555555556,
              "#1f9e89"
             ],
             [
              0.6666666666666666,
              "#35b779"
             ],
             [
              0.7777777777777778,
              "#6ece58"
             ],
             [
              0.8888888888888888,
              "#b5de2b"
             ],
             [
              1,
              "#fde725"
             ]
            ],
            "type": "histogram2d"
           }
          ],
          "histogram2dcontour": [
           {
            "colorbar": {
             "outlinewidth": 1,
             "tickcolor": "rgb(36,36,36)",
             "ticks": "outside"
            },
            "colorscale": [
             [
              0,
              "#440154"
             ],
             [
              0.1111111111111111,
              "#482878"
             ],
             [
              0.2222222222222222,
              "#3e4989"
             ],
             [
              0.3333333333333333,
              "#31688e"
             ],
             [
              0.4444444444444444,
              "#26828e"
             ],
             [
              0.5555555555555556,
              "#1f9e89"
             ],
             [
              0.6666666666666666,
              "#35b779"
             ],
             [
              0.7777777777777778,
              "#6ece58"
             ],
             [
              0.8888888888888888,
              "#b5de2b"
             ],
             [
              1,
              "#fde725"
             ]
            ],
            "type": "histogram2dcontour"
           }
          ],
          "mesh3d": [
           {
            "colorbar": {
             "outlinewidth": 1,
             "tickcolor": "rgb(36,36,36)",
             "ticks": "outside"
            },
            "type": "mesh3d"
           }
          ],
          "parcoords": [
           {
            "line": {
             "colorbar": {
              "outlinewidth": 1,
              "tickcolor": "rgb(36,36,36)",
              "ticks": "outside"
             }
            },
            "type": "parcoords"
           }
          ],
          "pie": [
           {
            "automargin": true,
            "type": "pie"
           }
          ],
          "scatter": [
           {
            "fillpattern": {
             "fillmode": "overlay",
             "size": 10,
             "solidity": 0.2
            },
            "type": "scatter"
           }
          ],
          "scatter3d": [
           {
            "line": {
             "colorbar": {
              "outlinewidth": 1,
              "tickcolor": "rgb(36,36,36)",
              "ticks": "outside"
             }
            },
            "marker": {
             "colorbar": {
              "outlinewidth": 1,
              "tickcolor": "rgb(36,36,36)",
              "ticks": "outside"
             }
            },
            "type": "scatter3d"
           }
          ],
          "scattercarpet": [
           {
            "marker": {
             "colorbar": {
              "outlinewidth": 1,
              "tickcolor": "rgb(36,36,36)",
              "ticks": "outside"
             }
            },
            "type": "scattercarpet"
           }
          ],
          "scattergeo": [
           {
            "marker": {
             "colorbar": {
              "outlinewidth": 1,
              "tickcolor": "rgb(36,36,36)",
              "ticks": "outside"
             }
            },
            "type": "scattergeo"
           }
          ],
          "scattergl": [
           {
            "marker": {
             "colorbar": {
              "outlinewidth": 1,
              "tickcolor": "rgb(36,36,36)",
              "ticks": "outside"
             }
            },
            "type": "scattergl"
           }
          ],
          "scattermapbox": [
           {
            "marker": {
             "colorbar": {
              "outlinewidth": 1,
              "tickcolor": "rgb(36,36,36)",
              "ticks": "outside"
             }
            },
            "type": "scattermapbox"
           }
          ],
          "scatterpolar": [
           {
            "marker": {
             "colorbar": {
              "outlinewidth": 1,
              "tickcolor": "rgb(36,36,36)",
              "ticks": "outside"
             }
            },
            "type": "scatterpolar"
           }
          ],
          "scatterpolargl": [
           {
            "marker": {
             "colorbar": {
              "outlinewidth": 1,
              "tickcolor": "rgb(36,36,36)",
              "ticks": "outside"
             }
            },
            "type": "scatterpolargl"
           }
          ],
          "scatterternary": [
           {
            "marker": {
             "colorbar": {
              "outlinewidth": 1,
              "tickcolor": "rgb(36,36,36)",
              "ticks": "outside"
             }
            },
            "type": "scatterternary"
           }
          ],
          "surface": [
           {
            "colorbar": {
             "outlinewidth": 1,
             "tickcolor": "rgb(36,36,36)",
             "ticks": "outside"
            },
            "colorscale": [
             [
              0,
              "#440154"
             ],
             [
              0.1111111111111111,
              "#482878"
             ],
             [
              0.2222222222222222,
              "#3e4989"
             ],
             [
              0.3333333333333333,
              "#31688e"
             ],
             [
              0.4444444444444444,
              "#26828e"
             ],
             [
              0.5555555555555556,
              "#1f9e89"
             ],
             [
              0.6666666666666666,
              "#35b779"
             ],
             [
              0.7777777777777778,
              "#6ece58"
             ],
             [
              0.8888888888888888,
              "#b5de2b"
             ],
             [
              1,
              "#fde725"
             ]
            ],
            "type": "surface"
           }
          ],
          "table": [
           {
            "cells": {
             "fill": {
              "color": "rgb(237,237,237)"
             },
             "line": {
              "color": "white"
             }
            },
            "header": {
             "fill": {
              "color": "rgb(217,217,217)"
             },
             "line": {
              "color": "white"
             }
            },
            "type": "table"
           }
          ]
         },
         "layout": {
          "annotationdefaults": {
           "arrowhead": 0,
           "arrowwidth": 1
          },
          "autotypenumbers": "strict",
          "coloraxis": {
           "colorbar": {
            "outlinewidth": 1,
            "tickcolor": "rgb(36,36,36)",
            "ticks": "outside"
           }
          },
          "colorscale": {
           "diverging": [
            [
             0,
             "rgb(103,0,31)"
            ],
            [
             0.1,
             "rgb(178,24,43)"
            ],
            [
             0.2,
             "rgb(214,96,77)"
            ],
            [
             0.3,
             "rgb(244,165,130)"
            ],
            [
             0.4,
             "rgb(253,219,199)"
            ],
            [
             0.5,
             "rgb(247,247,247)"
            ],
            [
             0.6,
             "rgb(209,229,240)"
            ],
            [
             0.7,
             "rgb(146,197,222)"
            ],
            [
             0.8,
             "rgb(67,147,195)"
            ],
            [
             0.9,
             "rgb(33,102,172)"
            ],
            [
             1,
             "rgb(5,48,97)"
            ]
           ],
           "sequential": [
            [
             0,
             "#440154"
            ],
            [
             0.1111111111111111,
             "#482878"
            ],
            [
             0.2222222222222222,
             "#3e4989"
            ],
            [
             0.3333333333333333,
             "#31688e"
            ],
            [
             0.4444444444444444,
             "#26828e"
            ],
            [
             0.5555555555555556,
             "#1f9e89"
            ],
            [
             0.6666666666666666,
             "#35b779"
            ],
            [
             0.7777777777777778,
             "#6ece58"
            ],
            [
             0.8888888888888888,
             "#b5de2b"
            ],
            [
             1,
             "#fde725"
            ]
           ],
           "sequentialminus": [
            [
             0,
             "#440154"
            ],
            [
             0.1111111111111111,
             "#482878"
            ],
            [
             0.2222222222222222,
             "#3e4989"
            ],
            [
             0.3333333333333333,
             "#31688e"
            ],
            [
             0.4444444444444444,
             "#26828e"
            ],
            [
             0.5555555555555556,
             "#1f9e89"
            ],
            [
             0.6666666666666666,
             "#35b779"
            ],
            [
             0.7777777777777778,
             "#6ece58"
            ],
            [
             0.8888888888888888,
             "#b5de2b"
            ],
            [
             1,
             "#fde725"
            ]
           ]
          },
          "colorway": [
           "#1F77B4",
           "#FF7F0E",
           "#2CA02C",
           "#D62728",
           "#9467BD",
           "#8C564B",
           "#E377C2",
           "#7F7F7F",
           "#BCBD22",
           "#17BECF"
          ],
          "font": {
           "color": "rgb(36,36,36)"
          },
          "geo": {
           "bgcolor": "white",
           "lakecolor": "white",
           "landcolor": "white",
           "showlakes": true,
           "showland": true,
           "subunitcolor": "white"
          },
          "hoverlabel": {
           "align": "left"
          },
          "hovermode": "closest",
          "mapbox": {
           "style": "light"
          },
          "paper_bgcolor": "white",
          "plot_bgcolor": "white",
          "polar": {
           "angularaxis": {
            "gridcolor": "rgb(232,232,232)",
            "linecolor": "rgb(36,36,36)",
            "showgrid": false,
            "showline": true,
            "ticks": "outside"
           },
           "bgcolor": "white",
           "radialaxis": {
            "gridcolor": "rgb(232,232,232)",
            "linecolor": "rgb(36,36,36)",
            "showgrid": false,
            "showline": true,
            "ticks": "outside"
           }
          },
          "scene": {
           "xaxis": {
            "backgroundcolor": "white",
            "gridcolor": "rgb(232,232,232)",
            "gridwidth": 2,
            "linecolor": "rgb(36,36,36)",
            "showbackground": true,
            "showgrid": false,
            "showline": true,
            "ticks": "outside",
            "zeroline": false,
            "zerolinecolor": "rgb(36,36,36)"
           },
           "yaxis": {
            "backgroundcolor": "white",
            "gridcolor": "rgb(232,232,232)",
            "gridwidth": 2,
            "linecolor": "rgb(36,36,36)",
            "showbackground": true,
            "showgrid": false,
            "showline": true,
            "ticks": "outside",
            "zeroline": false,
            "zerolinecolor": "rgb(36,36,36)"
           },
           "zaxis": {
            "backgroundcolor": "white",
            "gridcolor": "rgb(232,232,232)",
            "gridwidth": 2,
            "linecolor": "rgb(36,36,36)",
            "showbackground": true,
            "showgrid": false,
            "showline": true,
            "ticks": "outside",
            "zeroline": false,
            "zerolinecolor": "rgb(36,36,36)"
           }
          },
          "shapedefaults": {
           "fillcolor": "black",
           "line": {
            "width": 0
           },
           "opacity": 0.3
          },
          "ternary": {
           "aaxis": {
            "gridcolor": "rgb(232,232,232)",
            "linecolor": "rgb(36,36,36)",
            "showgrid": false,
            "showline": true,
            "ticks": "outside"
           },
           "baxis": {
            "gridcolor": "rgb(232,232,232)",
            "linecolor": "rgb(36,36,36)",
            "showgrid": false,
            "showline": true,
            "ticks": "outside"
           },
           "bgcolor": "white",
           "caxis": {
            "gridcolor": "rgb(232,232,232)",
            "linecolor": "rgb(36,36,36)",
            "showgrid": false,
            "showline": true,
            "ticks": "outside"
           }
          },
          "title": {
           "x": 0.05
          },
          "xaxis": {
           "automargin": true,
           "gridcolor": "rgb(232,232,232)",
           "linecolor": "rgb(36,36,36)",
           "showgrid": false,
           "showline": true,
           "ticks": "outside",
           "title": {
            "standoff": 15
           },
           "zeroline": false,
           "zerolinecolor": "rgb(36,36,36)"
          },
          "yaxis": {
           "automargin": true,
           "gridcolor": "rgb(232,232,232)",
           "linecolor": "rgb(36,36,36)",
           "showgrid": false,
           "showline": true,
           "ticks": "outside",
           "title": {
            "standoff": 15
           },
           "zeroline": false,
           "zerolinecolor": "rgb(36,36,36)"
          }
         }
        },
        "title": {
         "font": {
          "color": "Black",
          "size": 22
         },
         "text": "<b>Topics over Time</b>",
         "x": 0.4,
         "xanchor": "center",
         "y": 0.95,
         "yanchor": "top"
        },
        "width": 1000,
        "xaxis": {
         "showgrid": true
        },
        "yaxis": {
         "showgrid": true,
         "title": {
          "text": "Count"
         }
        }
       }
      },
      "text/html": [
       "<div>                            <div id=\"caefb175-08bf-494f-b79a-77ba1ca52b79\" class=\"plotly-graph-div\" style=\"height:500px; width:1000px;\"></div>            <script type=\"text/javascript\">                require([\"plotly\"], function(Plotly) {                    window.PLOTLYENV=window.PLOTLYENV || {};                                    if (document.getElementById(\"caefb175-08bf-494f-b79a-77ba1ca52b79\")) {                    Plotly.newPlot(                        \"caefb175-08bf-494f-b79a-77ba1ca52b79\",                        [{\"hoverinfo\":\"text\",\"hovertext\":[\"\\u003cb\\u003eTopic 0\\u003c\\u002fb\\u003e\\u003cbr\\u003eWords: specimen, plant, common, pencil, myrtillus\",\"\\u003cb\\u003eTopic 0\\u003c\\u002fb\\u003e\\u003cbr\\u003eWords: plant, botany, flora, palustris, vulgaris\",\"\\u003cb\\u003eTopic 0\\u003c\\u002fb\\u003e\\u003cbr\\u003eWords: arvensis, plant, fruit, vulgaris, palustris\",\"\\u003cb\\u003eTopic 0\\u003c\\u002fb\\u003e\\u003cbr\\u003eWords: plant, herbarium, crossed_pencil, flower, fruit\",\"\\u003cb\\u003eTopic 0\\u003c\\u002fb\\u003e\\u003cbr\\u003eWords: torrey, flora, princeton, nd, bott\",\"\\u003cb\\u003eTopic 0\\u003c\\u002fb\\u003e\\u003cbr\\u003eWords: primitiva, senegambia, trop, hendelot, odd\",\"\\u003cb\\u003eTopic 0\\u003c\\u002fb\\u003e\\u003cbr\\u003eWords: cilia, dillwyn, atrum, swarm, truncata\",\"\\u003cb\\u003eTopic 0\\u003c\\u002fb\\u003e\\u003cbr\\u003eWords: periculo, florist, meo, aqua, regia\",\"\\u003cb\\u003eTopic 0\\u003c\\u002fb\\u003e\\u003cbr\\u003eWords: bewick, zoophytes, bewickshire, founder, sponge\",\"\\u003cb\\u003eTopic 0\\u003c\\u002fb\\u003e\\u003cbr\\u003eWords: dishonesty, leat, envelope, daily, naumann\",\"\\u003cb\\u003eTopic 0\\u003c\\u002fb\\u003e\\u003cbr\\u003eWords: botany, playfair, unedo, naturalist, puccinia\",\"\\u003cb\\u003eTopic 0\\u003c\\u002fb\\u003e\\u003cbr\\u003eWords: botany, flower, enquiry, bentham, herbarium\",\"\\u003cb\\u003eTopic 0\\u003c\\u002fb\\u003e\\u003cbr\\u003eWords: botany, curriculum, lamarck, fruit, leone\"],\"marker\":{\"color\":\"#E69F00\"},\"mode\":\"markers\",\"name\":\"0_plant_botany_fruit_herbarium\",\"x\":[\"1825-03-01T22:32:09.600000\",\"1826-12-28T01:12:00\",\"1828-10-11T02:24:00\",\"1830-07-26T03:36:00\",\"1841-04-17T10:48:00\",\"1844-11-13T13:12:00\",\"1848-06-11T15:36:00\",\"1850-03-26T16:48:00\",\"1852-01-08T18:00:00\",\"1853-10-22T19:12:00\",\"1855-08-06T20:24:00\",\"1857-05-20T21:36:00\",\"1859-03-04T22:48:00\"],\"y\":[26,94,146,132,6,2,5,3,4,8,14,13,20],\"type\":\"scatter\"},{\"hoverinfo\":\"text\",\"hovertext\":[\"\\u003cb\\u003eTopic 1\\u003c\\u002fb\\u003e\\u003cbr\\u003eWords: university, parliament, candidate, lordship, palmerston\",\"\\u003cb\\u003eTopic 1\\u003c\\u002fb\\u003e\\u003cbr\\u003eWords: edinburgh, freckenham, bachelorship, london, glasgow\",\"\\u003cb\\u003eTopic 1\\u003c\\u002fb\\u003e\\u003cbr\\u003eWords: scotland, london, cambridge, edinburgh, university\",\"\\u003cb\\u003eTopic 1\\u003c\\u002fb\\u003e\\u003cbr\\u003eWords: cambridge, edinburgh, glasgow, burgh, dissatisfaction\",\"\\u003cb\\u003eTopic 1\\u003c\\u002fb\\u003e\\u003cbr\\u003eWords: examiner, anatomy, senate, british_association, physiology\",\"\\u003cb\\u003eTopic 1\\u003c\\u002fb\\u003e\\u003cbr\\u003eWords: morality, comtee, flagelhurst, rivality, perversion\",\"\\u003cb\\u003eTopic 1\\u003c\\u002fb\\u003e\\u003cbr\\u003eWords: opposition, cambridge, edinburgh, unlucky, pairing\",\"\\u003cb\\u003eTopic 1\\u003c\\u002fb\\u003e\\u003cbr\\u003eWords: consideration, cambridge, council, nearlymany, bancroft\",\"\\u003cb\\u003eTopic 1\\u003c\\u002fb\\u003e\\u003cbr\\u003eWords: examination, director, application, london, currey\",\"\\u003cb\\u003eTopic 1\\u003c\\u002fb\\u003e\\u003cbr\\u003eWords: london, evg, betchworth, meeting, appointment\",\"\\u003cb\\u003eTopic 1\\u003c\\u002fb\\u003e\\u003cbr\\u003eWords: candidate, london, university, examination, cambridge\",\"\\u003cb\\u003eTopic 1\\u003c\\u002fb\\u003e\\u003cbr\\u003eWords: london, examination, senate, university, september\",\"\\u003cb\\u003eTopic 1\\u003c\\u002fb\\u003e\\u003cbr\\u003eWords: examiner, senate, examination, fee, london\"],\"marker\":{\"color\":\"#56B4E9\"},\"mode\":\"markers\",\"name\":\"1_london_university_cambridge_examinatio...\",\"x\":[\"1825-03-01T22:32:09.600000\",\"1826-12-28T01:12:00\",\"1828-10-11T02:24:00\",\"1830-07-26T03:36:00\",\"1841-04-17T10:48:00\",\"1844-11-13T13:12:00\",\"1848-06-11T15:36:00\",\"1850-03-26T16:48:00\",\"1852-01-08T18:00:00\",\"1853-10-22T19:12:00\",\"1855-08-06T20:24:00\",\"1857-05-20T21:36:00\",\"1859-03-04T22:48:00\"],\"y\":[24,19,29,25,13,6,13,18,20,21,81,40,44],\"type\":\"scatter\"},{\"hoverinfo\":\"text\",\"hovertext\":[\"\\u003cb\\u003eTopic 2\\u003c\\u002fb\\u003e\\u003cbr\\u003eWords: lefevre, goulburn, palmerston, stat, hibbert\",\"\\u003cb\\u003eTopic 2\\u003c\\u002fb\\u003e\\u003cbr\\u003eWords: smith, none, supercede, lich, lect\",\"\\u003cb\\u003eTopic 2\\u003c\\u002fb\\u003e\\u003cbr\\u003eWords: dalton, other, thank, graham, smith\",\"\\u003cb\\u003eTopic 2\\u003c\\u002fb\\u003e\\u003cbr\\u003eWords: smith, haste, sowerby, note, name\",\"\\u003cb\\u003eTopic 2\\u003c\\u002fb\\u003e\\u003cbr\\u003eWords: noterity, powell, compiler, sentence, work\",\"\\u003cb\\u003eTopic 2\\u003c\\u002fb\\u003e\\u003cbr\\u003eWords: integrity, smith, occid, lament, reproach\",\"\\u003cb\\u003eTopic 2\\u003c\\u002fb\\u003e\\u003cbr\\u003eWords: none, cromwellite, saviour, thine, submission\",\"\\u003cb\\u003eTopic 2\\u003c\\u002fb\\u003e\\u003cbr\\u003eWords: hitcham, farmer, dead, john, thomas\",\"\\u003cb\\u003eTopic 2\\u003c\\u002fb\\u003e\\u003cbr\\u003eWords: moseley, henry, note, aid, wrangler\",\"\\u003cb\\u003eTopic 2\\u003c\\u002fb\\u003e\\u003cbr\\u003eWords: carpenter, note, ism, respc, betn\",\"\\u003cb\\u003eTopic 2\\u003c\\u002fb\\u003e\\u003cbr\\u003eWords: thank, haste, comment, hitcham, farmer\",\"\\u003cb\\u003eTopic 2\\u003c\\u002fb\\u003e\\u003cbr\\u003eWords: carpenter, hitcham, heading, save, circencester\",\"\\u003cb\\u003eTopic 2\\u003c\\u002fb\\u003e\\u003cbr\\u003eWords: carpenter, eliz, haste, hitcham, john_evan\"],\"marker\":{\"color\":\"#009E73\"},\"mode\":\"markers\",\"name\":\"2_hitcham_smith_haste_carpenter\",\"x\":[\"1825-03-01T22:32:09.600000\",\"1826-12-28T01:12:00\",\"1828-10-11T02:24:00\",\"1830-07-26T03:36:00\",\"1841-04-17T10:48:00\",\"1844-11-13T13:12:00\",\"1848-06-11T15:36:00\",\"1850-03-26T16:48:00\",\"1852-01-08T18:00:00\",\"1853-10-22T19:12:00\",\"1855-08-06T20:24:00\",\"1857-05-20T21:36:00\",\"1859-03-04T22:48:00\"],\"y\":[13,21,33,40,6,7,6,18,20,19,40,19,21],\"type\":\"scatter\"},{\"hoverinfo\":\"text\",\"hovertext\":[\"\\u003cb\\u003eTopic 3\\u003c\\u002fb\\u003e\\u003cbr\\u003eWords: barrel, possessor, vase, countryman, dollar\",\"\\u003cb\\u003eTopic 3\\u003c\\u002fb\\u003e\\u003cbr\\u003eWords: museum, natural_history, transactions, wernerian, memoir\",\"\\u003cb\\u003eTopic 3\\u003c\\u002fb\\u003e\\u003cbr\\u003eWords: chairman, museum, catalogue, soho, deputy\",\"\\u003cb\\u003eTopic 3\\u003c\\u002fb\\u003e\\u003cbr\\u003eWords: book, catalogue, museum, str, bookseller\",\"\\u003cb\\u003eTopic 3\\u003c\\u002fb\\u003e\\u003cbr\\u003eWords: american, author, museum, mylodon, paralizing\",\"\\u003cb\\u003eTopic 3\\u003c\\u002fb\\u003e\\u003cbr\\u003eWords: butter, press, clarke, upto, manuscript\",\"\\u003cb\\u003eTopic 3\\u003c\\u002fb\\u003e\\u003cbr\\u003eWords: museum, pat, invasion, fraser, padre\",\"\\u003cb\\u003eTopic 3\\u003c\\u002fb\\u003e\\u003cbr\\u003eWords: museum, truth, intercourse, cairo, suspect\",\"\\u003cb\\u003eTopic 3\\u003c\\u002fb\\u003e\\u003cbr\\u003eWords: museum, book, ipswich, british, remove\",\"\\u003cb\\u003eTopic 3\\u003c\\u002fb\\u003e\\u003cbr\\u003eWords: museum, book, art, department, kensington\",\"\\u003cb\\u003eTopic 3\\u003c\\u002fb\\u003e\\u003cbr\\u003eWords: museum, book, kensington, sale, portion\",\"\\u003cb\\u003eTopic 3\\u003c\\u002fb\\u003e\\u003cbr\\u003eWords: museum, british, book, superintend, charle\"],\"marker\":{\"color\":\"#F0E442\"},\"mode\":\"markers\",\"name\":\"3_museum_book_catalogue_british\",\"x\":[\"1825-03-01T22:32:09.600000\",\"1826-12-28T01:12:00\",\"1828-10-11T02:24:00\",\"1830-07-26T03:36:00\",\"1841-04-17T10:48:00\",\"1848-06-11T15:36:00\",\"1850-03-26T16:48:00\",\"1852-01-08T18:00:00\",\"1853-10-22T19:12:00\",\"1855-08-06T20:24:00\",\"1857-05-20T21:36:00\",\"1859-03-04T22:48:00\"],\"y\":[1,7,12,23,4,4,9,3,33,20,11,13],\"type\":\"scatter\"},{\"hoverinfo\":\"text\",\"hovertext\":[\"\\u003cb\\u003eTopic 4\\u003c\\u002fb\\u003e\\u003cbr\\u003eWords: gasp, tlate, din, sorrento, breath\",\"\\u003cb\\u003eTopic 4\\u003c\\u002fb\\u003e\\u003cbr\\u003eWords: spring, season, felt, resting, edinbr\",\"\\u003cb\\u003eTopic 4\\u003c\\u002fb\\u003e\\u003cbr\\u003eWords: season, ber, oct, macao, spring\",\"\\u003cb\\u003eTopic 4\\u003c\\u002fb\\u003e\\u003cbr\\u003eWords: summer, season, december, dec, january\",\"\\u003cb\\u003eTopic 4\\u003c\\u002fb\\u003e\\u003cbr\\u003eWords: season, electricity, vacation, sept, series\",\"\\u003cb\\u003eTopic 4\\u003c\\u002fb\\u003e\\u003cbr\\u003eWords: dect, rochdale, season, summer, minute\",\"\\u003cb\\u003eTopic 4\\u003c\\u002fb\\u003e\\u003cbr\\u003eWords: dream, opiate, succession, part, particle\",\"\\u003cb\\u003eTopic 4\\u003c\\u002fb\\u003e\\u003cbr\\u003eWords: preside, fiend, temper, distemper, vile\",\"\\u003cb\\u003eTopic 4\\u003c\\u002fb\\u003e\\u003cbr\\u003eWords: feb, winter, united_state, plan, wandsworth\",\"\\u003cb\\u003eTopic 4\\u003c\\u002fb\\u003e\\u003cbr\\u003eWords: minute, moon, afternoon, document, half\",\"\\u003cb\\u003eTopic 4\\u003c\\u002fb\\u003e\\u003cbr\\u003eWords: season, month, hour, daylight, hack\",\"\\u003cb\\u003eTopic 4\\u003c\\u002fb\\u003e\\u003cbr\\u003eWords: season, sheep, suffice, stop, sw\",\"\\u003cb\\u003eTopic 4\\u003c\\u002fb\\u003e\\u003cbr\\u003eWords: minute, summer, portland, saty, midnight\"],\"marker\":{\"color\":\"#D55E00\"},\"mode\":\"markers\",\"name\":\"4_season_summer_minute_winter\",\"x\":[\"1825-03-01T22:32:09.600000\",\"1826-12-28T01:12:00\",\"1828-10-11T02:24:00\",\"1830-07-26T03:36:00\",\"1841-04-17T10:48:00\",\"1844-11-13T13:12:00\",\"1848-06-11T15:36:00\",\"1850-03-26T16:48:00\",\"1852-01-08T18:00:00\",\"1853-10-22T19:12:00\",\"1855-08-06T20:24:00\",\"1857-05-20T21:36:00\",\"1859-03-04T22:48:00\"],\"y\":[5,12,11,21,4,1,4,5,8,4,19,13,13],\"type\":\"scatter\"},{\"hoverinfo\":\"text\",\"hovertext\":[\"\\u003cb\\u003eTopic 5\\u003c\\u002fb\\u003e\\u003cbr\\u003eWords: specimen, subscription, mineralogist, cape, fossil\",\"\\u003cb\\u003eTopic 5\\u003c\\u002fb\\u003e\\u003cbr\\u003eWords: specimen, ornithologist, teesdale, drobisch, perseverance\",\"\\u003cb\\u003eTopic 5\\u003c\\u002fb\\u003e\\u003cbr\\u003eWords: specimen, septentrionale, clapham, asplenium, stock\",\"\\u003cb\\u003eTopic 5\\u003c\\u002fb\\u003e\\u003cbr\\u003eWords: fossil, owen, athaneum, split, ceroine\",\"\\u003cb\\u003eTopic 5\\u003c\\u002fb\\u003e\\u003cbr\\u003eWords: congo, brasss, specimen, collections, wheat\",\"\\u003cb\\u003eTopic 5\\u003c\\u002fb\\u003e\\u003cbr\\u003eWords: maguire, dover, reptile, decision, daguerreotype\",\"\\u003cb\\u003eTopic 5\\u003c\\u002fb\\u003e\\u003cbr\\u003eWords: epoch, fossil, pliocene, crag, miocene\",\"\\u003cb\\u003eTopic 5\\u003c\\u002fb\\u003e\\u003cbr\\u003eWords: method, vesuvius, ramble, jn, fossil\",\"\\u003cb\\u003eTopic 5\\u003c\\u002fb\\u003e\\u003cbr\\u003eWords: fossil, ox, bos, tooth, inclination\",\"\\u003cb\\u003eTopic 5\\u003c\\u002fb\\u003e\\u003cbr\\u003eWords: fossil, mammal, limb, skeleton, bone\",\"\\u003cb\\u003eTopic 5\\u003c\\u002fb\\u003e\\u003cbr\\u003eWords: fossil, bone, specimen, shrunk, dumont\",\"\\u003cb\\u003eTopic 5\\u003c\\u002fb\\u003e\\u003cbr\\u003eWords: fossil, specimen, grundisburgh, crag, suffolk\"],\"marker\":{\"color\":\"#0072B2\"},\"mode\":\"markers\",\"name\":\"5_fossil_specimen_bone_mammal\",\"x\":[\"1826-12-28T01:12:00\",\"1828-10-11T02:24:00\",\"1830-07-26T03:36:00\",\"1841-04-17T10:48:00\",\"1844-11-13T13:12:00\",\"1848-06-11T15:36:00\",\"1850-03-26T16:48:00\",\"1852-01-08T18:00:00\",\"1853-10-22T19:12:00\",\"1855-08-06T20:24:00\",\"1857-05-20T21:36:00\",\"1859-03-04T22:48:00\"],\"y\":[9,9,13,2,3,2,8,4,13,22,10,13],\"type\":\"scatter\"},{\"hoverinfo\":\"text\",\"hovertext\":[\"\\u003cb\\u003eTopic 6\\u003c\\u002fb\\u003e\\u003cbr\\u003eWords: negligence, corp, esprit, motive, obtain\",\"\\u003cb\\u003eTopic 6\\u003c\\u002fb\\u003e\\u003cbr\\u003eWords: bracvic, rself, procuring, hasten, coral\",\"\\u003cb\\u003eTopic 6\\u003c\\u002fb\\u003e\\u003cbr\\u003eWords: kindness, satisfaction, motive, behalf, ch\",\"\\u003cb\\u003eTopic 6\\u003c\\u002fb\\u003e\\u003cbr\\u003eWords: habit, satisfaction, admiration, quality, kindness\",\"\\u003cb\\u003eTopic 6\\u003c\\u002fb\\u003e\\u003cbr\\u003eWords: reference, prosecution, youth, confidence, assure\",\"\\u003cb\\u003eTopic 6\\u003c\\u002fb\\u003e\\u003cbr\\u003eWords: side, surplus, squabbling, belli, withhold\",\"\\u003cb\\u003eTopic 6\\u003c\\u002fb\\u003e\\u003cbr\\u003eWords: willingness, grace, oct, feb, exertion\",\"\\u003cb\\u003eTopic 6\\u003c\\u002fb\\u003e\\u003cbr\\u003eWords: power, check, usefulness, blessing, charity\",\"\\u003cb\\u003eTopic 6\\u003c\\u002fb\\u003e\\u003cbr\\u003eWords: knowledge, cocoon, leech, affectation, kindness\",\"\\u003cb\\u003eTopic 6\\u003c\\u002fb\\u003e\\u003cbr\\u003eWords: knowledge, stocking, temperance, wisher, sho\",\"\\u003cb\\u003eTopic 6\\u003c\\u002fb\\u003e\\u003cbr\\u003eWords: habit, power, satisfaction, contrast, success\",\"\\u003cb\\u003eTopic 6\\u003c\\u002fb\\u003e\\u003cbr\\u003eWords: kindness, success, desmidiaea, instalment, reconsideration\",\"\\u003cb\\u003eTopic 6\\u003c\\u002fb\\u003e\\u003cbr\\u003eWords: principled, ease, coadjutor, writer, account\"],\"marker\":{\"color\":\"#CC79A7\"},\"mode\":\"markers\",\"name\":\"6_kindness_satisfaction_power_habit\",\"x\":[\"1825-03-01T22:32:09.600000\",\"1826-12-28T01:12:00\",\"1828-10-11T02:24:00\",\"1830-07-26T03:36:00\",\"1841-04-17T10:48:00\",\"1844-11-13T13:12:00\",\"1848-06-11T15:36:00\",\"1850-03-26T16:48:00\",\"1852-01-08T18:00:00\",\"1853-10-22T19:12:00\",\"1855-08-06T20:24:00\",\"1857-05-20T21:36:00\",\"1859-03-04T22:48:00\"],\"y\":[3,6,21,15,2,3,1,4,9,5,22,9,4],\"type\":\"scatter\"},{\"hoverinfo\":\"text\",\"hovertext\":[\"\\u003cb\\u003eTopic 7\\u003c\\u002fb\\u003e\\u003cbr\\u003eWords: lime, oxide, chalk, essex, acid\",\"\\u003cb\\u003eTopic 7\\u003c\\u002fb\\u003e\\u003cbr\\u003eWords: bottle, heat, experiment, bischoff, binn\",\"\\u003cb\\u003eTopic 7\\u003c\\u002fb\\u003e\\u003cbr\\u003eWords: ball, phosphorus, coprolite, honor, experiment\",\"\\u003cb\\u003eTopic 7\\u003c\\u002fb\\u003e\\u003cbr\\u003eWords: shale, oil, grease, liquid, acid\",\"\\u003cb\\u003eTopic 7\\u003c\\u002fb\\u003e\\u003cbr\\u003eWords: shale, acid, lime, oil, silica\",\"\\u003cb\\u003eTopic 7\\u003c\\u002fb\\u003e\\u003cbr\\u003eWords: flame, oxide, platina, hydrogen, gas\",\"\\u003cb\\u003eTopic 7\\u003c\\u002fb\\u003e\\u003cbr\\u003eWords: fire, acid, fuel, fountain, sulphuric\",\"\\u003cb\\u003eTopic 7\\u003c\\u002fb\\u003e\\u003cbr\\u003eWords: dew, sewage, closet, substance, avail\"],\"marker\":{\"color\":\"#E69F00\"},\"mode\":\"markers\",\"name\":\"7_shale_lime_acid_oil\",\"x\":[\"1826-12-28T01:12:00\",\"1830-07-26T03:36:00\",\"1844-11-13T13:12:00\",\"1848-06-11T15:36:00\",\"1850-03-26T16:48:00\",\"1853-10-22T19:12:00\",\"1855-08-06T20:24:00\",\"1857-05-20T21:36:00\"],\"y\":[10,9,1,12,35,11,7,2],\"type\":\"scatter\"},{\"hoverinfo\":\"text\",\"hovertext\":[\"\\u003cb\\u003eTopic 8\\u003c\\u002fb\\u003e\\u003cbr\\u003eWords: twopeny, month, paper, sheet, letter\",\"\\u003cb\\u003eTopic 8\\u003c\\u002fb\\u003e\\u003cbr\\u003eWords: paper, portfolio, mis, triplet, gall\",\"\\u003cb\\u003eTopic 8\\u003c\\u002fb\\u003e\\u003cbr\\u003eWords: paper, sheet, rice, letter, printer\",\"\\u003cb\\u003eTopic 8\\u003c\\u002fb\\u003e\\u003cbr\\u003eWords: paper, printer, print, particular, sheet\",\"\\u003cb\\u003eTopic 8\\u003c\\u002fb\\u003e\\u003cbr\\u003eWords: disease, copy, paper, sheet, letter\",\"\\u003cb\\u003eTopic 8\\u003c\\u002fb\\u003e\\u003cbr\\u003eWords: turn, abundance, shew, request, paper\",\"\\u003cb\\u003eTopic 8\\u003c\\u002fb\\u003e\\u003cbr\\u003eWords: adhere, atum, moniliforme, paper, water\",\"\\u003cb\\u003eTopic 8\\u003c\\u002fb\\u003e\\u003cbr\\u003eWords: dent, paper, page, letter, sheet\",\"\\u003cb\\u003eTopic 8\\u003c\\u002fb\\u003e\\u003cbr\\u003eWords: print, paper, dep, overhaul, physiol\",\"\\u003cb\\u003eTopic 8\\u003c\\u002fb\\u003e\\u003cbr\\u003eWords: paper, press, section, thro, printer\",\"\\u003cb\\u003eTopic 8\\u003c\\u002fb\\u003e\\u003cbr\\u003eWords: paper, sheet, printer, print, document\",\"\\u003cb\\u003eTopic 8\\u003c\\u002fb\\u003e\\u003cbr\\u003eWords: sheet, paper, letter, copy, printer\",\"\\u003cb\\u003eTopic 8\\u003c\\u002fb\\u003e\\u003cbr\\u003eWords: paper, letter, print, forceps, roundabout\"],\"marker\":{\"color\":\"#56B4E9\"},\"mode\":\"markers\",\"name\":\"8_paper_sheet_letter_print\",\"x\":[\"1825-03-01T22:32:09.600000\",\"1826-12-28T01:12:00\",\"1828-10-11T02:24:00\",\"1830-07-26T03:36:00\",\"1841-04-17T10:48:00\",\"1844-11-13T13:12:00\",\"1848-06-11T15:36:00\",\"1850-03-26T16:48:00\",\"1852-01-08T18:00:00\",\"1853-10-22T19:12:00\",\"1855-08-06T20:24:00\",\"1857-05-20T21:36:00\",\"1859-03-04T22:48:00\"],\"y\":[2,6,10,12,1,1,1,3,5,8,12,11,8],\"type\":\"scatter\"},{\"hoverinfo\":\"text\",\"hovertext\":[\"\\u003cb\\u003eTopic 9\\u003c\\u002fb\\u003e\\u003cbr\\u003eWords: sell, advertising, confer, labor, strike\",\"\\u003cb\\u003eTopic 9\\u003c\\u002fb\\u003e\\u003cbr\\u003eWords: course, lecture, classroom, lecturer, commence\",\"\\u003cb\\u003eTopic 9\\u003c\\u002fb\\u003e\\u003cbr\\u003eWords: lecture, gace, novice, sacrament, course\",\"\\u003cb\\u003eTopic 9\\u003c\\u002fb\\u003e\\u003cbr\\u003eWords: course, messenger, class, creature, tutor\",\"\\u003cb\\u003eTopic 9\\u003c\\u002fb\\u003e\\u003cbr\\u003eWords: lecture, indication, dancer, occuping, sterling\",\"\\u003cb\\u003eTopic 9\\u003c\\u002fb\\u003e\\u003cbr\\u003eWords: lecture, tiresome, auditor, past, hesitation\",\"\\u003cb\\u003eTopic 9\\u003c\\u002fb\\u003e\\u003cbr\\u003eWords: crompton, lecture, rector, lesson, nearer\",\"\\u003cb\\u003eTopic 9\\u003c\\u002fb\\u003e\\u003cbr\\u003eWords: lecture, course, february, instruction, formidably\",\"\\u003cb\\u003eTopic 9\\u003c\\u002fb\\u003e\\u003cbr\\u003eWords: lecture, course, particular, day, occasion\",\"\\u003cb\\u003eTopic 9\\u003c\\u002fb\\u003e\\u003cbr\\u003eWords: lecture, hope, hon, separation, easter\"],\"marker\":{\"color\":\"#009E73\"},\"mode\":\"markers\",\"name\":\"9_lecture_course_class_lecturer\",\"x\":[\"1825-03-01T22:32:09.600000\",\"1826-12-28T01:12:00\",\"1828-10-11T02:24:00\",\"1830-07-26T03:36:00\",\"1841-04-17T10:48:00\",\"1852-01-08T18:00:00\",\"1853-10-22T19:12:00\",\"1855-08-06T20:24:00\",\"1857-05-20T21:36:00\",\"1859-03-04T22:48:00\"],\"y\":[2,13,4,5,2,3,4,15,9,5],\"type\":\"scatter\"},{\"hoverinfo\":\"text\",\"hovertext\":[\"\\u003cb\\u003eTopic 10\\u003c\\u002fb\\u003e\\u003cbr\\u003eWords: cost, elmstead, brooke, hortus, price\",\"\\u003cb\\u003eTopic 10\\u003c\\u002fb\\u003e\\u003cbr\\u003eWords: dividend, field, deal, number, sum\",\"\\u003cb\\u003eTopic 10\\u003c\\u002fb\\u003e\\u003cbr\\u003eWords: price, charge, expence, sum, balance\",\"\\u003cb\\u003eTopic 10\\u003c\\u002fb\\u003e\\u003cbr\\u003eWords: section, enhance, acuteness, worth, sum\",\"\\u003cb\\u003eTopic 10\\u003c\\u002fb\\u003e\\u003cbr\\u003eWords: equation, sum, price, amount, cost\",\"\\u003cb\\u003eTopic 10\\u003c\\u002fb\\u003e\\u003cbr\\u003eWords: sum, price, leg, amount, hall\",\"\\u003cb\\u003eTopic 10\\u003c\\u002fb\\u003e\\u003cbr\\u003eWords: sum, dilapidation, amount, cost, charge\",\"\\u003cb\\u003eTopic 10\\u003c\\u002fb\\u003e\\u003cbr\\u003eWords: amount, price, valuation, value, cost\",\"\\u003cb\\u003eTopic 10\\u003c\\u002fb\\u003e\\u003cbr\\u003eWords: charge, sum, cost, expense, price\",\"\\u003cb\\u003eTopic 10\\u003c\\u002fb\\u003e\\u003cbr\\u003eWords: admission, performance, estate, thinking, amount\"],\"marker\":{\"color\":\"#F0E442\"},\"mode\":\"markers\",\"name\":\"10_sum_price_amount_cost\",\"x\":[\"1825-03-01T22:32:09.600000\",\"1826-12-28T01:12:00\",\"1828-10-11T02:24:00\",\"1830-07-26T03:36:00\",\"1848-06-11T15:36:00\",\"1850-03-26T16:48:00\",\"1853-10-22T19:12:00\",\"1855-08-06T20:24:00\",\"1857-05-20T21:36:00\",\"1859-03-04T22:48:00\"],\"y\":[2,4,5,7,1,2,5,14,11,3],\"type\":\"scatter\"},{\"hoverinfo\":\"text\",\"hovertext\":[\"\\u003cb\\u003eTopic 11\\u003c\\u002fb\\u003e\\u003cbr\\u003eWords: insect, dale, entomology, scotland, shop\",\"\\u003cb\\u003eTopic 11\\u003c\\u002fb\\u003e\\u003cbr\\u003eWords: insect, grove, obligation, entomology, member\",\"\\u003cb\\u003eTopic 11\\u003c\\u002fb\\u003e\\u003cbr\\u003eWords: insect, entomology, yorkshire, study, jenyns\",\"\\u003cb\\u003eTopic 11\\u003c\\u002fb\\u003e\\u003cbr\\u003eWords: insect, valdivia, meigan, described, beetle\",\"\\u003cb\\u003eTopic 11\\u003c\\u002fb\\u003e\\u003cbr\\u003eWords: insect, entomologist, dog, kennel, turf\",\"\\u003cb\\u003eTopic 11\\u003c\\u002fb\\u003e\\u003cbr\\u003eWords: sessile, annelide, eyed, crustacea, insect\",\"\\u003cb\\u003eTopic 11\\u003c\\u002fb\\u003e\\u003cbr\\u003eWords: insect, crustacea, selborne, amphibia, hacid\",\"\\u003cb\\u003eTopic 11\\u003c\\u002fb\\u003e\\u003cbr\\u003eWords: insect, entomology, insecta, westwood, wollaston\",\"\\u003cb\\u003eTopic 11\\u003c\\u002fb\\u003e\\u003cbr\\u003eWords: larva, insect, teazle, moth, pith\",\"\\u003cb\\u003eTopic 11\\u003c\\u002fb\\u003e\\u003cbr\\u003eWords: insect, nepticula, entomologist, larva, entomology\"],\"marker\":{\"color\":\"#D55E00\"},\"mode\":\"markers\",\"name\":\"11_insect_entomology_entomologist_larva\",\"x\":[\"1825-03-01T22:32:09.600000\",\"1826-12-28T01:12:00\",\"1828-10-11T02:24:00\",\"1830-07-26T03:36:00\",\"1848-06-11T15:36:00\",\"1852-01-08T18:00:00\",\"1853-10-22T19:12:00\",\"1855-08-06T20:24:00\",\"1857-05-20T21:36:00\",\"1859-03-04T22:48:00\"],\"y\":[5,4,13,4,4,2,3,9,2,6],\"type\":\"scatter\"},{\"hoverinfo\":\"text\",\"hovertext\":[\"\\u003cb\\u003eTopic 12\\u003c\\u002fb\\u003e\\u003cbr\\u003eWords: hooker, bunbury, playfair, mistaken, days_ago\",\"\\u003cb\\u003eTopic 12\\u003c\\u002fb\\u003e\\u003cbr\\u003eWords: hooker, aberdeenshire, filicum, icones, arcuata\",\"\\u003cb\\u003eTopic 12\\u003c\\u002fb\\u003e\\u003cbr\\u003eWords: hooker, hotel, haldane, twopenny, devil\",\"\\u003cb\\u003eTopic 12\\u003c\\u002fb\\u003e\\u003cbr\\u003eWords: hooker, suberectus, mistaken, juice, fork\",\"\\u003cb\\u003eTopic 12\\u003c\\u002fb\\u003e\\u003cbr\\u003eWords: hooker, bunbury, playfair, mistaken, days_ago\",\"\\u003cb\\u003eTopic 12\\u003c\\u002fb\\u003e\\u003cbr\\u003eWords: hooker, episode, confinement, news, history\",\"\\u003cb\\u003eTopic 12\\u003c\\u002fb\\u003e\\u003cbr\\u003eWords: hooker, breast, cassel, rascallitie, affte\",\"\\u003cb\\u003eTopic 12\\u003c\\u002fb\\u003e\\u003cbr\\u003eWords: hooker, bunbury, days_ago, direction, fear\",\"\\u003cb\\u003eTopic 12\\u003c\\u002fb\\u003e\\u003cbr\\u003eWords: hooker, playfair, griffin, holiday, return\",\"\\u003cb\\u003eTopic 12\\u003c\\u002fb\\u003e\\u003cbr\\u003eWords: hooker, germany, misunderstood, post, town\",\"\\u003cb\\u003eTopic 12\\u003c\\u002fb\\u003e\\u003cbr\\u003eWords: hooker, regrets, kindest_regard, bunbury, reputation\",\"\\u003cb\\u003eTopic 12\\u003c\\u002fb\\u003e\\u003cbr\\u003eWords: hooker, sprung, migrate, guest, carpenter\"],\"marker\":{\"color\":\"#0072B2\"},\"mode\":\"markers\",\"name\":\"12_hooker_bunbury_playfair_mistaken\",\"x\":[\"1825-03-01T22:32:09.600000\",\"1826-12-28T01:12:00\",\"1828-10-11T02:24:00\",\"1830-07-26T03:36:00\",\"1844-11-13T13:12:00\",\"1848-06-11T15:36:00\",\"1850-03-26T16:48:00\",\"1852-01-08T18:00:00\",\"1853-10-22T19:12:00\",\"1855-08-06T20:24:00\",\"1857-05-20T21:36:00\",\"1859-03-04T22:48:00\"],\"y\":[1,7,7,10,1,1,3,2,4,6,8,2],\"type\":\"scatter\"},{\"hoverinfo\":\"text\",\"hovertext\":[\"\\u003cb\\u003eTopic 13\\u003c\\u002fb\\u003e\\u003cbr\\u003eWords: fanny, harriet, louisa, jenyns, love\",\"\\u003cb\\u003eTopic 13\\u003c\\u002fb\\u003e\\u003cbr\\u003eWords: jenyns, fanny, jenyn, difft, reverend\",\"\\u003cb\\u003eTopic 13\\u003c\\u002fb\\u003e\\u003cbr\\u003eWords: jenyns, abandonment, annoy, item, probability\",\"\\u003cb\\u003eTopic 13\\u003c\\u002fb\\u003e\\u003cbr\\u003eWords: louisa, fanny, jenyns, yorksh, mademoiselle\",\"\\u003cb\\u003eTopic 13\\u003c\\u002fb\\u003e\\u003cbr\\u003eWords: affly_jenyn, harriet, rest, louisa, jenyns\",\"\\u003cb\\u003eTopic 13\\u003c\\u002fb\\u003e\\u003cbr\\u003eWords: fanny, curate, stapleford, cosy, saying\",\"\\u003cb\\u003eTopic 13\\u003c\\u002fb\\u003e\\u003cbr\\u003eWords: harriet, affectl, powse, jenyns, love\",\"\\u003cb\\u003eTopic 13\\u003c\\u002fb\\u003e\\u003cbr\\u003eWords: anne, louisa, jenyn, affect_ly, love\",\"\\u003cb\\u003eTopic 13\\u003c\\u002fb\\u003e\\u003cbr\\u003eWords: affect_ly, fanny, jenyn, jenyns, louisa\",\"\\u003cb\\u003eTopic 13\\u003c\\u002fb\\u003e\\u003cbr\\u003eWords: louisa, love, affect_ly, jenyn, jenyns\"],\"marker\":{\"color\":\"#CC79A7\"},\"mode\":\"markers\",\"name\":\"13_louisa_jenyns_fanny_love\",\"x\":[\"1825-03-01T22:32:09.600000\",\"1826-12-28T01:12:00\",\"1828-10-11T02:24:00\",\"1830-07-26T03:36:00\",\"1841-04-17T10:48:00\",\"1848-06-11T15:36:00\",\"1853-10-22T19:12:00\",\"1855-08-06T20:24:00\",\"1857-05-20T21:36:00\",\"1859-03-04T22:48:00\"],\"y\":[1,5,4,4,2,2,3,2,8,12],\"type\":\"scatter\"},{\"hoverinfo\":\"text\",\"hovertext\":[\"\\u003cb\\u003eTopic 14\\u003c\\u002fb\\u003e\\u003cbr\\u003eWords: dpalmerston, liver, absentee, greece, arisen\",\"\\u003cb\\u003eTopic 14\\u003c\\u002fb\\u003e\\u003cbr\\u003eWords: sickness, leach, italy, health, dine\",\"\\u003cb\\u003eTopic 14\\u003c\\u002fb\\u003e\\u003cbr\\u003eWords: illness, hypochondriasis, headache, fever, perform\",\"\\u003cb\\u003eTopic 14\\u003c\\u002fb\\u003e\\u003cbr\\u003eWords: illness, care, sickness, health, head\",\"\\u003cb\\u003eTopic 14\\u003c\\u002fb\\u003e\\u003cbr\\u003eWords: engender, endemic, miasma, latitude, humidity\",\"\\u003cb\\u003eTopic 14\\u003c\\u002fb\\u003e\\u003cbr\\u003eWords: deprive, shin, spirits, broken, fatiguing\",\"\\u003cb\\u003eTopic 14\\u003c\\u002fb\\u003e\\u003cbr\\u003eWords: history, care, illness, health, fever\",\"\\u003cb\\u003eTopic 14\\u003c\\u002fb\\u003e\\u003cbr\\u003eWords: health, alimentary, ache, constipation, organ\",\"\\u003cb\\u003eTopic 14\\u003c\\u002fb\\u003e\\u003cbr\\u003eWords: lumbago, sit, treatment, complaint, mountain\",\"\\u003cb\\u003eTopic 14\\u003c\\u002fb\\u003e\\u003cbr\\u003eWords: illness, sickness, fever, arrant, endure\",\"\\u003cb\\u003eTopic 14\\u003c\\u002fb\\u003e\\u003cbr\\u003eWords: illness, health, jane, winter, week\"],\"marker\":{\"color\":\"#E69F00\"},\"mode\":\"markers\",\"name\":\"14_illness_health_care_fever\",\"x\":[\"1825-03-01T22:32:09.600000\",\"1826-12-28T01:12:00\",\"1828-10-11T02:24:00\",\"1830-07-26T03:36:00\",\"1841-04-17T10:48:00\",\"1848-06-11T15:36:00\",\"1852-01-08T18:00:00\",\"1853-10-22T19:12:00\",\"1855-08-06T20:24:00\",\"1857-05-20T21:36:00\",\"1859-03-04T22:48:00\"],\"y\":[2,3,5,6,1,3,1,3,2,4,12],\"type\":\"scatter\"}],                        {\"template\":{\"data\":{\"barpolar\":[{\"marker\":{\"line\":{\"color\":\"white\",\"width\":0.5},\"pattern\":{\"fillmode\":\"overlay\",\"size\":10,\"solidity\":0.2}},\"type\":\"barpolar\"}],\"bar\":[{\"error_x\":{\"color\":\"rgb(36,36,36)\"},\"error_y\":{\"color\":\"rgb(36,36,36)\"},\"marker\":{\"line\":{\"color\":\"white\",\"width\":0.5},\"pattern\":{\"fillmode\":\"overlay\",\"size\":10,\"solidity\":0.2}},\"type\":\"bar\"}],\"carpet\":[{\"aaxis\":{\"endlinecolor\":\"rgb(36,36,36)\",\"gridcolor\":\"white\",\"linecolor\":\"white\",\"minorgridcolor\":\"white\",\"startlinecolor\":\"rgb(36,36,36)\"},\"baxis\":{\"endlinecolor\":\"rgb(36,36,36)\",\"gridcolor\":\"white\",\"linecolor\":\"white\",\"minorgridcolor\":\"white\",\"startlinecolor\":\"rgb(36,36,36)\"},\"type\":\"carpet\"}],\"choropleth\":[{\"colorbar\":{\"outlinewidth\":1,\"tickcolor\":\"rgb(36,36,36)\",\"ticks\":\"outside\"},\"type\":\"choropleth\"}],\"contourcarpet\":[{\"colorbar\":{\"outlinewidth\":1,\"tickcolor\":\"rgb(36,36,36)\",\"ticks\":\"outside\"},\"type\":\"contourcarpet\"}],\"contour\":[{\"colorbar\":{\"outlinewidth\":1,\"tickcolor\":\"rgb(36,36,36)\",\"ticks\":\"outside\"},\"colorscale\":[[0.0,\"#440154\"],[0.1111111111111111,\"#482878\"],[0.2222222222222222,\"#3e4989\"],[0.3333333333333333,\"#31688e\"],[0.4444444444444444,\"#26828e\"],[0.5555555555555556,\"#1f9e89\"],[0.6666666666666666,\"#35b779\"],[0.7777777777777778,\"#6ece58\"],[0.8888888888888888,\"#b5de2b\"],[1.0,\"#fde725\"]],\"type\":\"contour\"}],\"heatmapgl\":[{\"colorbar\":{\"outlinewidth\":1,\"tickcolor\":\"rgb(36,36,36)\",\"ticks\":\"outside\"},\"colorscale\":[[0.0,\"#440154\"],[0.1111111111111111,\"#482878\"],[0.2222222222222222,\"#3e4989\"],[0.3333333333333333,\"#31688e\"],[0.4444444444444444,\"#26828e\"],[0.5555555555555556,\"#1f9e89\"],[0.6666666666666666,\"#35b779\"],[0.7777777777777778,\"#6ece58\"],[0.8888888888888888,\"#b5de2b\"],[1.0,\"#fde725\"]],\"type\":\"heatmapgl\"}],\"heatmap\":[{\"colorbar\":{\"outlinewidth\":1,\"tickcolor\":\"rgb(36,36,36)\",\"ticks\":\"outside\"},\"colorscale\":[[0.0,\"#440154\"],[0.1111111111111111,\"#482878\"],[0.2222222222222222,\"#3e4989\"],[0.3333333333333333,\"#31688e\"],[0.4444444444444444,\"#26828e\"],[0.5555555555555556,\"#1f9e89\"],[0.6666666666666666,\"#35b779\"],[0.7777777777777778,\"#6ece58\"],[0.8888888888888888,\"#b5de2b\"],[1.0,\"#fde725\"]],\"type\":\"heatmap\"}],\"histogram2dcontour\":[{\"colorbar\":{\"outlinewidth\":1,\"tickcolor\":\"rgb(36,36,36)\",\"ticks\":\"outside\"},\"colorscale\":[[0.0,\"#440154\"],[0.1111111111111111,\"#482878\"],[0.2222222222222222,\"#3e4989\"],[0.3333333333333333,\"#31688e\"],[0.4444444444444444,\"#26828e\"],[0.5555555555555556,\"#1f9e89\"],[0.6666666666666666,\"#35b779\"],[0.7777777777777778,\"#6ece58\"],[0.8888888888888888,\"#b5de2b\"],[1.0,\"#fde725\"]],\"type\":\"histogram2dcontour\"}],\"histogram2d\":[{\"colorbar\":{\"outlinewidth\":1,\"tickcolor\":\"rgb(36,36,36)\",\"ticks\":\"outside\"},\"colorscale\":[[0.0,\"#440154\"],[0.1111111111111111,\"#482878\"],[0.2222222222222222,\"#3e4989\"],[0.3333333333333333,\"#31688e\"],[0.4444444444444444,\"#26828e\"],[0.5555555555555556,\"#1f9e89\"],[0.6666666666666666,\"#35b779\"],[0.7777777777777778,\"#6ece58\"],[0.8888888888888888,\"#b5de2b\"],[1.0,\"#fde725\"]],\"type\":\"histogram2d\"}],\"histogram\":[{\"marker\":{\"line\":{\"color\":\"white\",\"width\":0.6}},\"type\":\"histogram\"}],\"mesh3d\":[{\"colorbar\":{\"outlinewidth\":1,\"tickcolor\":\"rgb(36,36,36)\",\"ticks\":\"outside\"},\"type\":\"mesh3d\"}],\"parcoords\":[{\"line\":{\"colorbar\":{\"outlinewidth\":1,\"tickcolor\":\"rgb(36,36,36)\",\"ticks\":\"outside\"}},\"type\":\"parcoords\"}],\"pie\":[{\"automargin\":true,\"type\":\"pie\"}],\"scatter3d\":[{\"line\":{\"colorbar\":{\"outlinewidth\":1,\"tickcolor\":\"rgb(36,36,36)\",\"ticks\":\"outside\"}},\"marker\":{\"colorbar\":{\"outlinewidth\":1,\"tickcolor\":\"rgb(36,36,36)\",\"ticks\":\"outside\"}},\"type\":\"scatter3d\"}],\"scattercarpet\":[{\"marker\":{\"colorbar\":{\"outlinewidth\":1,\"tickcolor\":\"rgb(36,36,36)\",\"ticks\":\"outside\"}},\"type\":\"scattercarpet\"}],\"scattergeo\":[{\"marker\":{\"colorbar\":{\"outlinewidth\":1,\"tickcolor\":\"rgb(36,36,36)\",\"ticks\":\"outside\"}},\"type\":\"scattergeo\"}],\"scattergl\":[{\"marker\":{\"colorbar\":{\"outlinewidth\":1,\"tickcolor\":\"rgb(36,36,36)\",\"ticks\":\"outside\"}},\"type\":\"scattergl\"}],\"scattermapbox\":[{\"marker\":{\"colorbar\":{\"outlinewidth\":1,\"tickcolor\":\"rgb(36,36,36)\",\"ticks\":\"outside\"}},\"type\":\"scattermapbox\"}],\"scatterpolargl\":[{\"marker\":{\"colorbar\":{\"outlinewidth\":1,\"tickcolor\":\"rgb(36,36,36)\",\"ticks\":\"outside\"}},\"type\":\"scatterpolargl\"}],\"scatterpolar\":[{\"marker\":{\"colorbar\":{\"outlinewidth\":1,\"tickcolor\":\"rgb(36,36,36)\",\"ticks\":\"outside\"}},\"type\":\"scatterpolar\"}],\"scatter\":[{\"fillpattern\":{\"fillmode\":\"overlay\",\"size\":10,\"solidity\":0.2},\"type\":\"scatter\"}],\"scatterternary\":[{\"marker\":{\"colorbar\":{\"outlinewidth\":1,\"tickcolor\":\"rgb(36,36,36)\",\"ticks\":\"outside\"}},\"type\":\"scatterternary\"}],\"surface\":[{\"colorbar\":{\"outlinewidth\":1,\"tickcolor\":\"rgb(36,36,36)\",\"ticks\":\"outside\"},\"colorscale\":[[0.0,\"#440154\"],[0.1111111111111111,\"#482878\"],[0.2222222222222222,\"#3e4989\"],[0.3333333333333333,\"#31688e\"],[0.4444444444444444,\"#26828e\"],[0.5555555555555556,\"#1f9e89\"],[0.6666666666666666,\"#35b779\"],[0.7777777777777778,\"#6ece58\"],[0.8888888888888888,\"#b5de2b\"],[1.0,\"#fde725\"]],\"type\":\"surface\"}],\"table\":[{\"cells\":{\"fill\":{\"color\":\"rgb(237,237,237)\"},\"line\":{\"color\":\"white\"}},\"header\":{\"fill\":{\"color\":\"rgb(217,217,217)\"},\"line\":{\"color\":\"white\"}},\"type\":\"table\"}]},\"layout\":{\"annotationdefaults\":{\"arrowhead\":0,\"arrowwidth\":1},\"autotypenumbers\":\"strict\",\"coloraxis\":{\"colorbar\":{\"outlinewidth\":1,\"tickcolor\":\"rgb(36,36,36)\",\"ticks\":\"outside\"}},\"colorscale\":{\"diverging\":[[0.0,\"rgb(103,0,31)\"],[0.1,\"rgb(178,24,43)\"],[0.2,\"rgb(214,96,77)\"],[0.3,\"rgb(244,165,130)\"],[0.4,\"rgb(253,219,199)\"],[0.5,\"rgb(247,247,247)\"],[0.6,\"rgb(209,229,240)\"],[0.7,\"rgb(146,197,222)\"],[0.8,\"rgb(67,147,195)\"],[0.9,\"rgb(33,102,172)\"],[1.0,\"rgb(5,48,97)\"]],\"sequential\":[[0.0,\"#440154\"],[0.1111111111111111,\"#482878\"],[0.2222222222222222,\"#3e4989\"],[0.3333333333333333,\"#31688e\"],[0.4444444444444444,\"#26828e\"],[0.5555555555555556,\"#1f9e89\"],[0.6666666666666666,\"#35b779\"],[0.7777777777777778,\"#6ece58\"],[0.8888888888888888,\"#b5de2b\"],[1.0,\"#fde725\"]],\"sequentialminus\":[[0.0,\"#440154\"],[0.1111111111111111,\"#482878\"],[0.2222222222222222,\"#3e4989\"],[0.3333333333333333,\"#31688e\"],[0.4444444444444444,\"#26828e\"],[0.5555555555555556,\"#1f9e89\"],[0.6666666666666666,\"#35b779\"],[0.7777777777777778,\"#6ece58\"],[0.8888888888888888,\"#b5de2b\"],[1.0,\"#fde725\"]]},\"colorway\":[\"#1F77B4\",\"#FF7F0E\",\"#2CA02C\",\"#D62728\",\"#9467BD\",\"#8C564B\",\"#E377C2\",\"#7F7F7F\",\"#BCBD22\",\"#17BECF\"],\"font\":{\"color\":\"rgb(36,36,36)\"},\"geo\":{\"bgcolor\":\"white\",\"lakecolor\":\"white\",\"landcolor\":\"white\",\"showlakes\":true,\"showland\":true,\"subunitcolor\":\"white\"},\"hoverlabel\":{\"align\":\"left\"},\"hovermode\":\"closest\",\"mapbox\":{\"style\":\"light\"},\"paper_bgcolor\":\"white\",\"plot_bgcolor\":\"white\",\"polar\":{\"angularaxis\":{\"gridcolor\":\"rgb(232,232,232)\",\"linecolor\":\"rgb(36,36,36)\",\"showgrid\":false,\"showline\":true,\"ticks\":\"outside\"},\"bgcolor\":\"white\",\"radialaxis\":{\"gridcolor\":\"rgb(232,232,232)\",\"linecolor\":\"rgb(36,36,36)\",\"showgrid\":false,\"showline\":true,\"ticks\":\"outside\"}},\"scene\":{\"xaxis\":{\"backgroundcolor\":\"white\",\"gridcolor\":\"rgb(232,232,232)\",\"gridwidth\":2,\"linecolor\":\"rgb(36,36,36)\",\"showbackground\":true,\"showgrid\":false,\"showline\":true,\"ticks\":\"outside\",\"zeroline\":false,\"zerolinecolor\":\"rgb(36,36,36)\"},\"yaxis\":{\"backgroundcolor\":\"white\",\"gridcolor\":\"rgb(232,232,232)\",\"gridwidth\":2,\"linecolor\":\"rgb(36,36,36)\",\"showbackground\":true,\"showgrid\":false,\"showline\":true,\"ticks\":\"outside\",\"zeroline\":false,\"zerolinecolor\":\"rgb(36,36,36)\"},\"zaxis\":{\"backgroundcolor\":\"white\",\"gridcolor\":\"rgb(232,232,232)\",\"gridwidth\":2,\"linecolor\":\"rgb(36,36,36)\",\"showbackground\":true,\"showgrid\":false,\"showline\":true,\"ticks\":\"outside\",\"zeroline\":false,\"zerolinecolor\":\"rgb(36,36,36)\"}},\"shapedefaults\":{\"fillcolor\":\"black\",\"line\":{\"width\":0},\"opacity\":0.3},\"ternary\":{\"aaxis\":{\"gridcolor\":\"rgb(232,232,232)\",\"linecolor\":\"rgb(36,36,36)\",\"showgrid\":false,\"showline\":true,\"ticks\":\"outside\"},\"baxis\":{\"gridcolor\":\"rgb(232,232,232)\",\"linecolor\":\"rgb(36,36,36)\",\"showgrid\":false,\"showline\":true,\"ticks\":\"outside\"},\"bgcolor\":\"white\",\"caxis\":{\"gridcolor\":\"rgb(232,232,232)\",\"linecolor\":\"rgb(36,36,36)\",\"showgrid\":false,\"showline\":true,\"ticks\":\"outside\"}},\"title\":{\"x\":0.05},\"xaxis\":{\"automargin\":true,\"gridcolor\":\"rgb(232,232,232)\",\"linecolor\":\"rgb(36,36,36)\",\"showgrid\":false,\"showline\":true,\"ticks\":\"outside\",\"title\":{\"standoff\":15},\"zeroline\":false,\"zerolinecolor\":\"rgb(36,36,36)\"},\"yaxis\":{\"automargin\":true,\"gridcolor\":\"rgb(232,232,232)\",\"linecolor\":\"rgb(36,36,36)\",\"showgrid\":false,\"showline\":true,\"ticks\":\"outside\",\"title\":{\"standoff\":15},\"zeroline\":false,\"zerolinecolor\":\"rgb(36,36,36)\"}}},\"xaxis\":{\"showgrid\":true},\"yaxis\":{\"showgrid\":true,\"title\":{\"text\":\"Count\"}},\"title\":{\"font\":{\"size\":22,\"color\":\"Black\"},\"text\":\"\\u003cb\\u003eTopics over Time\\u003c\\u002fb\\u003e\",\"y\":0.95,\"x\":0.4,\"xanchor\":\"center\",\"yanchor\":\"top\"},\"hoverlabel\":{\"font\":{\"size\":16,\"family\":\"Rockwell\"},\"bgcolor\":\"white\"},\"width\":1000,\"height\":500,\"legend\":{\"title\":{\"text\":\"\\u003cb\\u003eGlobal Topic Representation\"}}},                        {\"responsive\": true}                    ).then(function(){\n",
       "                            \n",
       "var gd = document.getElementById('caefb175-08bf-494f-b79a-77ba1ca52b79');\n",
       "var x = new MutationObserver(function (mutations, observer) {{\n",
       "        var display = window.getComputedStyle(gd).display;\n",
       "        if (!display || display === 'none') {{\n",
       "            console.log([gd, 'removed!']);\n",
       "            Plotly.purge(gd);\n",
       "            observer.disconnect();\n",
       "        }}\n",
       "}});\n",
       "\n",
       "// Listen for the removal of the full notebook cells\n",
       "var notebookContainer = gd.closest('#notebook-container');\n",
       "if (notebookContainer) {{\n",
       "    x.observe(notebookContainer, {childList: true});\n",
       "}}\n",
       "\n",
       "// Listen for the clearing of the current output cell\n",
       "var outputEl = gd.closest('.output');\n",
       "if (outputEl) {{\n",
       "    x.observe(outputEl, {childList: true});\n",
       "}}\n",
       "\n",
       "                        })                };                });            </script>        </div>"
      ]
     },
     "metadata": {},
     "output_type": "display_data"
    }
   ],
   "source": [
    "non_henslow_win_vis = year_window_vis(non_henslow_sent_df, \n",
    "                                      year_counts_non_henslow, \n",
    "                                      topic_model, \n",
    "                                      low_lim=10, \n",
    "                                      high_lim=150\n",
    "                                     )\n",
    "non_henslow_win_vis"
   ]
  },
  {
   "cell_type": "markdown",
   "id": "92ef8fe3",
   "metadata": {},
   "source": [
    "Save visualisations to html files"
   ]
  },
  {
   "cell_type": "code",
   "execution_count": 29,
   "id": "f6d297e9",
   "metadata": {},
   "outputs": [],
   "source": [
    "all_vis.write_html(\"images/all_letters/bertopic_noun_propn.html\")\n",
    "all_win_vis.write_html(\"images/all_letters/bertopic_noun_propn_window.html\")\n",
    "all_tree_vis.write_html(\"images/all_letters/bertopic_topic_tree.html\")\n",
    "\n",
    "sent_df_year_restrict_20_vis.write_html(\"images/year_window/bertopic_20s.html\")\n",
    "sent_df_year_restrict_late_vis.write_html(\"images/year_window/bertopic_1845_1857.html\")\n",
    "\n",
    "henslow_vis.write_html(\"images/from_henslow/from_henslow.html\")\n",
    "henslow_win_vis.write_html(\"images/from_henslow/from_henslow_window.html\")\n",
    "\n",
    "non_henslow_vis.write_html(\"images/to_henslow/to_henslow.html\")\n",
    "non_henslow_win_vis.write_html(\"images/to_henslow/to_henslow_window.html\")\n",
    "\n",
    "letter_nums.write_html(\"images/all_letters/year_count.html\")\n",
    "letter_nums_hen.write_html(\"images/from_henslow/year_count_from_henslow.html\")\n",
    "letter_nums_non_hen.write_html(\"images/to_henslow/year_count_to_henslow.html\")"
   ]
  },
  {
   "cell_type": "markdown",
   "id": "01d2ffb0",
   "metadata": {},
   "source": [
    "Save dataframes containing topic names for visualisations for use in social network analysis"
   ]
  },
  {
   "cell_type": "code",
   "execution_count": 30,
   "id": "917aa1b3",
   "metadata": {},
   "outputs": [],
   "source": [
    "doc_topics_df.to_pickle(\"pickle/documents_topics.pkl\")\n",
    "doc_topics_df_20s.to_pickle(\"pickle/documents_topics_20s.pkl\")\n",
    "doc_topics_df_late.to_pickle(\"pickle/documents_topics_late.pkl\")"
   ]
  }
 ],
 "metadata": {
  "kernelspec": {
   "display_name": "henslow-topic-mod",
   "language": "python",
   "name": "henslow-topic-mod"
  },
  "language_info": {
   "codemirror_mode": {
    "name": "ipython",
    "version": 3
   },
   "file_extension": ".py",
   "mimetype": "text/x-python",
   "name": "python",
   "nbconvert_exporter": "python",
   "pygments_lexer": "ipython3",
   "version": "3.9.1"
  }
 },
 "nbformat": 4,
 "nbformat_minor": 5
}
