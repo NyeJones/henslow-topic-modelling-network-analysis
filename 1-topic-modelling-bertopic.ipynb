{
 "cells": [
  {
   "cell_type": "markdown",
   "id": "4cea7e37",
   "metadata": {},
   "source": [
    "Import libraries for the BERTopic topic modelling process"
   ]
  },
  {
   "cell_type": "code",
   "execution_count": 1,
   "id": "8e36f409",
   "metadata": {},
   "outputs": [
    {
     "data": {
      "text/html": [
       "        <script type=\"text/javascript\">\n",
       "        window.PlotlyConfig = {MathJaxConfig: 'local'};\n",
       "        if (window.MathJax && window.MathJax.Hub && window.MathJax.Hub.Config) {window.MathJax.Hub.Config({SVG: {font: \"STIX-Web\"}});}\n",
       "        if (typeof require !== 'undefined') {\n",
       "        require.undef(\"plotly\");\n",
       "        requirejs.config({\n",
       "            paths: {\n",
       "                'plotly': ['https://cdn.plot.ly/plotly-2.12.1.min']\n",
       "            }\n",
       "        });\n",
       "        require(['plotly'], function(Plotly) {\n",
       "            window._Plotly = Plotly;\n",
       "        });\n",
       "        }\n",
       "        </script>\n",
       "        "
      ]
     },
     "metadata": {},
     "output_type": "display_data"
    }
   ],
   "source": [
    "import pickle\n",
    "import pandas as pd\n",
    "import cufflinks as cf\n",
    "\n",
    "import plotly.express as px\n",
    "from plotly.offline import init_notebook_mode, iplot\n",
    "from plotly.graph_objs import *\n",
    "\n",
    "from ipywidgets import FloatProgress\n",
    "from bertopic import BERTopic\n",
    "from natsort import natsorted\n",
    "\n",
    "cf.go_offline()\n",
    "cf.set_config_file(offline=False, world_readable=True)"
   ]
  },
  {
   "cell_type": "markdown",
   "id": "4e38185b",
   "metadata": {},
   "source": [
    "Function to take dataframe and topic model. Takes date column and sentence text column and changes them into lists, applies topic model to the sentence list, then creates dictionary with topics as keys and a list of sentences for that topic as values. \n",
    "\n",
    "The sentence list, topics and date list are used to make a visualisation of topic frequency over time, with the output changed to scattered points rather than line.\n",
    "\n",
    "Returns the dictionary of topics/sentences and the visualisation as tuple."
   ]
  },
  {
   "cell_type": "code",
   "execution_count": 2,
   "id": "28160869",
   "metadata": {},
   "outputs": [],
   "source": [
    "def bertopic_time(dataframe, topic_model):\n",
    "    sent_list = dataframe[\"text\"].to_list()\n",
    "    date_list = dataframe[\"date\"].to_list()\n",
    "    topics, probs = topic_model.fit_transform(sent_list)\n",
    "    \n",
    "    topic_docs = {topic: [] for topic in set(topics)}\n",
    "    for topic, doc in zip(topics, sent_list):\n",
    "        topic_docs[topic].append(doc)\n",
    "    \n",
    "    topics_over_time = topic_model.topics_over_time(docs=sent_list, \n",
    "                                                topics=topics, \n",
    "                                                timestamps=date_list, \n",
    "                                                global_tuning=True, \n",
    "                                                evolution_tuning=True, \n",
    "                                                nr_bins=20,\n",
    "                                              )\n",
    "    fig = topic_model.visualize_topics_over_time(topics_over_time, top_n_topics=15, height=500, width=1000)\n",
    "    fig.update_layout(yaxis_title = \"Count\")\n",
    "    for trace in fig.data:\n",
    "        trace.update(mode=\"markers\")\n",
    "    return (fig, topic_docs)"
   ]
  },
  {
   "cell_type": "markdown",
   "id": "a156d4e1",
   "metadata": {},
   "source": [
    "Function which takes dataframe and the tuple created by bertopic_time function and converts into a dataframe with the topics from the visualisation, which are limited to the top n topics in the dataset, in a new \"topics\" column. This new dataframe contains the topics from the visualisation, not all generated topics. Created for social network visualisations for each topic in notebook four.\n",
    "\n",
    "First divides tuple into visualisation and topic/sentence list dictionary. For the latter, removes duplicates from sentence lists using set and reconverts to list.\n",
    "\n",
    "Searches dataframe for sentence list for each topic. If the sentence is in a row, adds that row to a new dataframe with a new \"topic\" column containing the topic number. Append dataframe to a list of dataframes for all topics and then concatenates these into one dataframe.\n",
    "\n",
    "Take the data from the visualisation and use this to get topic names and numbers for visual in ordered lists. Create final dataframe exclusively for the \"top topics\" contained in the visualisation with the topic names from the visualisation, replacing topic numbers created above.\n",
    "\n",
    "Returns dataframe for the visualisation topics which includes topic names for each sentence."
   ]
  },
  {
   "cell_type": "code",
   "execution_count": 3,
   "id": "b504bf83",
   "metadata": {},
   "outputs": [],
   "source": [
    "def doc_topics_maker(dataframe, vis_obj):\n",
    "    visual = vis_obj[0]\n",
    "    doc_topics = vis_obj[1]\n",
    "    doc_topics = dict(zip(doc_topics.keys(), map(set, doc_topics.values())))\n",
    "    for key, value in doc_topics.items():\n",
    "        doc_topics[key] = list(value)\n",
    "\n",
    "    df_list = []\n",
    "    for key, value in doc_topics.items():\n",
    "        mask = dataframe[\"text\"].isin(value)\n",
    "        top_docs_df = dataframe.loc[mask]\n",
    "        top_docs_df[\"topic\"] = key\n",
    "        df_list.append(top_docs_df)\n",
    "    doc_topics_df = pd.concat(df_list)\n",
    "\n",
    "    topic_names = []\n",
    "    topic_nums = []\n",
    "    topic_range = len(visual.data)\n",
    "    for i in range(topic_range):\n",
    "        topic_name = visual.data[i].name\n",
    "        topic_names.append(topic_name)\n",
    "        topic_nums.append(i)\n",
    "    topic_names = natsorted(topic_names)\n",
    "\n",
    "    doc_topics_df = doc_topics_df.loc[doc_topics_df[\"topic\"].isin(topic_nums)]\n",
    "    doc_topics_df = doc_topics_df.replace(topic_nums, topic_names)\n",
    "    return doc_topics_df"
   ]
  },
  {
   "cell_type": "markdown",
   "id": "41396756",
   "metadata": {},
   "source": [
    "Function which takes dataframe and topic model, extracts sentences from dataframe and runs through topic model, returns dendrogram of clusters for most prominent topics."
   ]
  },
  {
   "cell_type": "code",
   "execution_count": 4,
   "id": "3621d442",
   "metadata": {},
   "outputs": [],
   "source": [
    "def bertopic_tree(dataframe, topic_model, topics_num=15):\n",
    "    sent_list = dataframe[\"text\"].to_list()\n",
    "    topics, probs = topic_model.fit_transform(sent_list)\n",
    "    fig = topic_model.visualize_hierarchy(top_n_topics=topics_num)\n",
    "    return fig"
   ]
  },
  {
   "cell_type": "markdown",
   "id": "cac6e5b8",
   "metadata": {},
   "source": [
    "Function which counts the number of letters in each year across the corpus, returns series for number of letters per year."
   ]
  },
  {
   "cell_type": "code",
   "execution_count": 5,
   "id": "bc1008db",
   "metadata": {},
   "outputs": [],
   "source": [
    "def year_counts(dataframe):\n",
    "    dataframe[\"year\"] = dataframe[\"date\"].dt.year\n",
    "    year_counts = dataframe.groupby([\"year\"]).size()\n",
    "    return year_counts"
   ]
  },
  {
   "cell_type": "markdown",
   "id": "2d457adc",
   "metadata": {},
   "source": [
    "Function which takes the year counts series for letters per year and converts into a bar plot."
   ]
  },
  {
   "cell_type": "code",
   "execution_count": 6,
   "id": "2874158c",
   "metadata": {},
   "outputs": [],
   "source": [
    "def year_counts_plot(year_counts):\n",
    "    year_counts_plot = px.bar(year_counts, \n",
    "                          title=\"Letter Count by Year\",\n",
    "                          labels= {\n",
    "                              \"value\":\"Count\",\n",
    "                              \"year\":\"Year\"\n",
    "                          }\n",
    "                         )\n",
    "    year_counts_plot.update_layout(showlegend=False)\n",
    "    return year_counts_plot"
   ]
  },
  {
   "cell_type": "markdown",
   "id": "fb25c3a3",
   "metadata": {},
   "source": [
    "Function which creates a topic frequency over time graph, omitting outlying years with small numbers of letters and large numbers of letters. The function takes a dataframe, year counts series of letters per year and parameters with amendable default values for higher and lower limits of letters per year.\n",
    "\n",
    "First the function creates the year window by removing high and low frequency year letters from the year counts series, then uses this year window to find items in the main dataframe which match it. Finally, it sends the resulting dataframe to bertopic_time for visualisation of the data over time and returns this visualisation."
   ]
  },
  {
   "cell_type": "code",
   "execution_count": 7,
   "id": "d60d484f",
   "metadata": {},
   "outputs": [],
   "source": [
    "def year_window_vis(dataframe, year_counts, topic_model, low_lim=20, high_lim=150):\n",
    "    year_counts_window = year_counts[(year_counts > low_lim) & (year_counts < high_lim)]\n",
    "    year_window = year_counts_window.index.tolist()\n",
    "    year_win_df = dataframe[dataframe[\"date\"].dt.year.isin(year_window)]\n",
    "    year_win_vis_obj = bertopic_time(year_win_df, topic_model)\n",
    "    year_win_vis = year_win_vis_obj[0]\n",
    "    return year_win_vis"
   ]
  },
  {
   "cell_type": "markdown",
   "id": "7d48cfa6",
   "metadata": {},
   "source": [
    "Import dataframes of clean data created in notebook zero, one with letters divided into sentences and the other with letter texts as one string."
   ]
  },
  {
   "cell_type": "code",
   "execution_count": 8,
   "id": "7e842868",
   "metadata": {
    "scrolled": false
   },
   "outputs": [],
   "source": [
    "sent_df = pd.read_pickle(\"pickle/henslow_sentences.pkl\")\n",
    "df = pd.read_pickle(\"pickle/henslow_texts.pkl\")"
   ]
  },
  {
   "cell_type": "markdown",
   "id": "7f7b7028",
   "metadata": {},
   "source": [
    "Remove rows with empty text columns from the dataframe. This can happen because of the removal of parts of text during the data cleaning process."
   ]
  },
  {
   "cell_type": "code",
   "execution_count": 9,
   "id": "3b634e64",
   "metadata": {
    "scrolled": true
   },
   "outputs": [
    {
     "data": {
      "text/html": [
       "<div>\n",
       "<style scoped>\n",
       "    .dataframe tbody tr th:only-of-type {\n",
       "        vertical-align: middle;\n",
       "    }\n",
       "\n",
       "    .dataframe tbody tr th {\n",
       "        vertical-align: top;\n",
       "    }\n",
       "\n",
       "    .dataframe thead th {\n",
       "        text-align: right;\n",
       "    }\n",
       "</style>\n",
       "<table border=\"1\" class=\"dataframe\">\n",
       "  <thead>\n",
       "    <tr style=\"text-align: right;\">\n",
       "      <th></th>\n",
       "      <th>letter</th>\n",
       "      <th>date</th>\n",
       "      <th>sender</th>\n",
       "      <th>recipient</th>\n",
       "      <th>text</th>\n",
       "    </tr>\n",
       "  </thead>\n",
       "  <tbody>\n",
       "    <tr>\n",
       "      <th>0</th>\n",
       "      <td>letters_1.xml</td>\n",
       "      <td>1820-04-24</td>\n",
       "      <td>Sowerby, James</td>\n",
       "      <td>Henslow, J. S.</td>\n",
       "      <td>mead lambeth april fossils</td>\n",
       "    </tr>\n",
       "    <tr>\n",
       "      <th>1</th>\n",
       "      <td>letters_1.xml</td>\n",
       "      <td>1820-04-24</td>\n",
       "      <td>Sowerby, James</td>\n",
       "      <td>Henslow, J. S.</td>\n",
       "      <td>remembrance sedgwick favour amm</td>\n",
       "    </tr>\n",
       "    <tr>\n",
       "      <th>2</th>\n",
       "      <td>letters_1.xml</td>\n",
       "      <td>1820-04-24</td>\n",
       "      <td>Sowerby, James</td>\n",
       "      <td>Henslow, J. S.</td>\n",
       "      <td>thank</td>\n",
       "    </tr>\n",
       "    <tr>\n",
       "      <th>3</th>\n",
       "      <td>letters_1.xml</td>\n",
       "      <td>1820-04-24</td>\n",
       "      <td>Sowerby, James</td>\n",
       "      <td>Henslow, J. S.</td>\n",
       "      <td>clark lecture mot</td>\n",
       "    </tr>\n",
       "    <tr>\n",
       "      <th>4</th>\n",
       "      <td>letters_1.xml</td>\n",
       "      <td>1820-04-24</td>\n",
       "      <td>Sowerby, James</td>\n",
       "      <td>Henslow, J. S.</td>\n",
       "      <td>iron pupil</td>\n",
       "    </tr>\n",
       "    <tr>\n",
       "      <th>...</th>\n",
       "      <td>...</td>\n",
       "      <td>...</td>\n",
       "      <td>...</td>\n",
       "      <td>...</td>\n",
       "      <td>...</td>\n",
       "    </tr>\n",
       "    <tr>\n",
       "      <th>9155</th>\n",
       "      <td>letters_1252.xml</td>\n",
       "      <td>1828-11-11</td>\n",
       "      <td>Yarrell, William</td>\n",
       "      <td>Henslow, J. S.</td>\n",
       "      <td>london novr bennett act subcommittee managemen...</td>\n",
       "    </tr>\n",
       "    <tr>\n",
       "      <th>9156</th>\n",
       "      <td>letters_1252.xml</td>\n",
       "      <td>1828-11-11</td>\n",
       "      <td>Yarrell, William</td>\n",
       "      <td>Henslow, J. S.</td>\n",
       "      <td>advantage catalogue collection bird philosophi...</td>\n",
       "    </tr>\n",
       "    <tr>\n",
       "      <th>9157</th>\n",
       "      <td>letters_1252.xml</td>\n",
       "      <td>1828-11-11</td>\n",
       "      <td>Yarrell, William</td>\n",
       "      <td>Henslow, J. S.</td>\n",
       "      <td>care leadbeater</td>\n",
       "    </tr>\n",
       "    <tr>\n",
       "      <th>9158</th>\n",
       "      <td>letters_1252.xml</td>\n",
       "      <td>1828-11-11</td>\n",
       "      <td>Yarrell, William</td>\n",
       "      <td>Henslow, J. S.</td>\n",
       "      <td>refer case bird jenyn promise</td>\n",
       "    </tr>\n",
       "    <tr>\n",
       "      <th>9159</th>\n",
       "      <td>letters_1252.xml</td>\n",
       "      <td>1828-11-11</td>\n",
       "      <td>Yarrell, William</td>\n",
       "      <td>Henslow, J. S.</td>\n",
       "      <td>acceptance paper subject obd yarrell ryder str...</td>\n",
       "    </tr>\n",
       "  </tbody>\n",
       "</table>\n",
       "<p>9160 rows × 5 columns</p>\n",
       "</div>"
      ],
      "text/plain": [
       "                letter       date            sender       recipient  \\\n",
       "0        letters_1.xml 1820-04-24    Sowerby, James  Henslow, J. S.   \n",
       "1        letters_1.xml 1820-04-24    Sowerby, James  Henslow, J. S.   \n",
       "2        letters_1.xml 1820-04-24    Sowerby, James  Henslow, J. S.   \n",
       "3        letters_1.xml 1820-04-24    Sowerby, James  Henslow, J. S.   \n",
       "4        letters_1.xml 1820-04-24    Sowerby, James  Henslow, J. S.   \n",
       "...                ...        ...               ...             ...   \n",
       "9155  letters_1252.xml 1828-11-11  Yarrell, William  Henslow, J. S.   \n",
       "9156  letters_1252.xml 1828-11-11  Yarrell, William  Henslow, J. S.   \n",
       "9157  letters_1252.xml 1828-11-11  Yarrell, William  Henslow, J. S.   \n",
       "9158  letters_1252.xml 1828-11-11  Yarrell, William  Henslow, J. S.   \n",
       "9159  letters_1252.xml 1828-11-11  Yarrell, William  Henslow, J. S.   \n",
       "\n",
       "                                                   text  \n",
       "0                            mead lambeth april fossils  \n",
       "1                       remembrance sedgwick favour amm  \n",
       "2                                                 thank  \n",
       "3                                     clark lecture mot  \n",
       "4                                            iron pupil  \n",
       "...                                                 ...  \n",
       "9155  london novr bennett act subcommittee managemen...  \n",
       "9156  advantage catalogue collection bird philosophi...  \n",
       "9157                                    care leadbeater  \n",
       "9158                      refer case bird jenyn promise  \n",
       "9159  acceptance paper subject obd yarrell ryder str...  \n",
       "\n",
       "[9160 rows x 5 columns]"
      ]
     },
     "execution_count": 9,
     "metadata": {},
     "output_type": "execute_result"
    }
   ],
   "source": [
    "sent_df = sent_df[sent_df[\"text\"].str.len() != 0]\n",
    "sent_df.reset_index(inplace=True, drop=True)\n",
    "sent_df[\"text\"] = sent_df[\"text\"].str.join(\" \")\n",
    "sent_df"
   ]
  },
  {
   "cell_type": "markdown",
   "id": "7ce4ba9c",
   "metadata": {},
   "source": [
    "Use boolean maak to create dataframe restricted to 1920s for use in visualisation."
   ]
  },
  {
   "cell_type": "code",
   "execution_count": 10,
   "id": "2a02930f",
   "metadata": {
    "scrolled": true
   },
   "outputs": [
    {
     "data": {
      "text/html": [
       "<div>\n",
       "<style scoped>\n",
       "    .dataframe tbody tr th:only-of-type {\n",
       "        vertical-align: middle;\n",
       "    }\n",
       "\n",
       "    .dataframe tbody tr th {\n",
       "        vertical-align: top;\n",
       "    }\n",
       "\n",
       "    .dataframe thead th {\n",
       "        text-align: right;\n",
       "    }\n",
       "</style>\n",
       "<table border=\"1\" class=\"dataframe\">\n",
       "  <thead>\n",
       "    <tr style=\"text-align: right;\">\n",
       "      <th></th>\n",
       "      <th>letter</th>\n",
       "      <th>date</th>\n",
       "      <th>sender</th>\n",
       "      <th>recipient</th>\n",
       "      <th>text</th>\n",
       "    </tr>\n",
       "  </thead>\n",
       "  <tbody>\n",
       "    <tr>\n",
       "      <th>0</th>\n",
       "      <td>letters_1.xml</td>\n",
       "      <td>1820-04-24</td>\n",
       "      <td>Sowerby, James</td>\n",
       "      <td>Henslow, J. S.</td>\n",
       "      <td>mead lambeth april fossils</td>\n",
       "    </tr>\n",
       "    <tr>\n",
       "      <th>1</th>\n",
       "      <td>letters_1.xml</td>\n",
       "      <td>1820-04-24</td>\n",
       "      <td>Sowerby, James</td>\n",
       "      <td>Henslow, J. S.</td>\n",
       "      <td>remembrance sedgwick favour amm</td>\n",
       "    </tr>\n",
       "    <tr>\n",
       "      <th>2</th>\n",
       "      <td>letters_1.xml</td>\n",
       "      <td>1820-04-24</td>\n",
       "      <td>Sowerby, James</td>\n",
       "      <td>Henslow, J. S.</td>\n",
       "      <td>thank</td>\n",
       "    </tr>\n",
       "    <tr>\n",
       "      <th>3</th>\n",
       "      <td>letters_1.xml</td>\n",
       "      <td>1820-04-24</td>\n",
       "      <td>Sowerby, James</td>\n",
       "      <td>Henslow, J. S.</td>\n",
       "      <td>clark lecture mot</td>\n",
       "    </tr>\n",
       "    <tr>\n",
       "      <th>4</th>\n",
       "      <td>letters_1.xml</td>\n",
       "      <td>1820-04-24</td>\n",
       "      <td>Sowerby, James</td>\n",
       "      <td>Henslow, J. S.</td>\n",
       "      <td>iron pupil</td>\n",
       "    </tr>\n",
       "    <tr>\n",
       "      <th>...</th>\n",
       "      <td>...</td>\n",
       "      <td>...</td>\n",
       "      <td>...</td>\n",
       "      <td>...</td>\n",
       "      <td>...</td>\n",
       "    </tr>\n",
       "    <tr>\n",
       "      <th>9155</th>\n",
       "      <td>letters_1252.xml</td>\n",
       "      <td>1828-11-11</td>\n",
       "      <td>Yarrell, William</td>\n",
       "      <td>Henslow, J. S.</td>\n",
       "      <td>london novr bennett act subcommittee managemen...</td>\n",
       "    </tr>\n",
       "    <tr>\n",
       "      <th>9156</th>\n",
       "      <td>letters_1252.xml</td>\n",
       "      <td>1828-11-11</td>\n",
       "      <td>Yarrell, William</td>\n",
       "      <td>Henslow, J. S.</td>\n",
       "      <td>advantage catalogue collection bird philosophi...</td>\n",
       "    </tr>\n",
       "    <tr>\n",
       "      <th>9157</th>\n",
       "      <td>letters_1252.xml</td>\n",
       "      <td>1828-11-11</td>\n",
       "      <td>Yarrell, William</td>\n",
       "      <td>Henslow, J. S.</td>\n",
       "      <td>care leadbeater</td>\n",
       "    </tr>\n",
       "    <tr>\n",
       "      <th>9158</th>\n",
       "      <td>letters_1252.xml</td>\n",
       "      <td>1828-11-11</td>\n",
       "      <td>Yarrell, William</td>\n",
       "      <td>Henslow, J. S.</td>\n",
       "      <td>refer case bird jenyn promise</td>\n",
       "    </tr>\n",
       "    <tr>\n",
       "      <th>9159</th>\n",
       "      <td>letters_1252.xml</td>\n",
       "      <td>1828-11-11</td>\n",
       "      <td>Yarrell, William</td>\n",
       "      <td>Henslow, J. S.</td>\n",
       "      <td>acceptance paper subject obd yarrell ryder str...</td>\n",
       "    </tr>\n",
       "  </tbody>\n",
       "</table>\n",
       "<p>2527 rows × 5 columns</p>\n",
       "</div>"
      ],
      "text/plain": [
       "                letter       date            sender       recipient  \\\n",
       "0        letters_1.xml 1820-04-24    Sowerby, James  Henslow, J. S.   \n",
       "1        letters_1.xml 1820-04-24    Sowerby, James  Henslow, J. S.   \n",
       "2        letters_1.xml 1820-04-24    Sowerby, James  Henslow, J. S.   \n",
       "3        letters_1.xml 1820-04-24    Sowerby, James  Henslow, J. S.   \n",
       "4        letters_1.xml 1820-04-24    Sowerby, James  Henslow, J. S.   \n",
       "...                ...        ...               ...             ...   \n",
       "9155  letters_1252.xml 1828-11-11  Yarrell, William  Henslow, J. S.   \n",
       "9156  letters_1252.xml 1828-11-11  Yarrell, William  Henslow, J. S.   \n",
       "9157  letters_1252.xml 1828-11-11  Yarrell, William  Henslow, J. S.   \n",
       "9158  letters_1252.xml 1828-11-11  Yarrell, William  Henslow, J. S.   \n",
       "9159  letters_1252.xml 1828-11-11  Yarrell, William  Henslow, J. S.   \n",
       "\n",
       "                                                   text  \n",
       "0                            mead lambeth april fossils  \n",
       "1                       remembrance sedgwick favour amm  \n",
       "2                                                 thank  \n",
       "3                                     clark lecture mot  \n",
       "4                                            iron pupil  \n",
       "...                                                 ...  \n",
       "9155  london novr bennett act subcommittee managemen...  \n",
       "9156  advantage catalogue collection bird philosophi...  \n",
       "9157                                    care leadbeater  \n",
       "9158                      refer case bird jenyn promise  \n",
       "9159  acceptance paper subject obd yarrell ryder str...  \n",
       "\n",
       "[2527 rows x 5 columns]"
      ]
     },
     "execution_count": 10,
     "metadata": {},
     "output_type": "execute_result"
    }
   ],
   "source": [
    "mask_20 = (sent_df[\"date\"] > \"1819/12/31\") & (sent_df[\"date\"] < \"1829/12/31\")\n",
    "sent_df_year_restrict_20 = sent_df.loc[mask_20]\n",
    "sent_df_year_restrict_20"
   ]
  },
  {
   "cell_type": "markdown",
   "id": "cd3763eb",
   "metadata": {},
   "source": [
    "Use boolean maak to create dataframe restricted to the period 1945 to 1957 for use in visualisation."
   ]
  },
  {
   "cell_type": "code",
   "execution_count": 11,
   "id": "f3c3b91b",
   "metadata": {},
   "outputs": [
    {
     "data": {
      "text/html": [
       "<div>\n",
       "<style scoped>\n",
       "    .dataframe tbody tr th:only-of-type {\n",
       "        vertical-align: middle;\n",
       "    }\n",
       "\n",
       "    .dataframe tbody tr th {\n",
       "        vertical-align: top;\n",
       "    }\n",
       "\n",
       "    .dataframe thead th {\n",
       "        text-align: right;\n",
       "    }\n",
       "</style>\n",
       "<table border=\"1\" class=\"dataframe\">\n",
       "  <thead>\n",
       "    <tr style=\"text-align: right;\">\n",
       "      <th></th>\n",
       "      <th>letter</th>\n",
       "      <th>date</th>\n",
       "      <th>sender</th>\n",
       "      <th>recipient</th>\n",
       "      <th>text</th>\n",
       "    </tr>\n",
       "  </thead>\n",
       "  <tbody>\n",
       "    <tr>\n",
       "      <th>2608</th>\n",
       "      <td>letters_229.xml</td>\n",
       "      <td>1845-01-19</td>\n",
       "      <td>Maund, Benjamin</td>\n",
       "      <td>Henslow, J. S.</td>\n",
       "      <td>bromsgrove january professor dict</td>\n",
       "    </tr>\n",
       "    <tr>\n",
       "      <th>2609</th>\n",
       "      <td>letters_229.xml</td>\n",
       "      <td>1845-01-19</td>\n",
       "      <td>Maund, Benjamin</td>\n",
       "      <td>Henslow, J. S.</td>\n",
       "      <td>claim</td>\n",
       "    </tr>\n",
       "    <tr>\n",
       "      <th>2610</th>\n",
       "      <td>letters_229.xml</td>\n",
       "      <td>1845-01-19</td>\n",
       "      <td>Maund, Benjamin</td>\n",
       "      <td>Henslow, J. S.</td>\n",
       "      <td>vulgaris elatior veris variety species opinion</td>\n",
       "    </tr>\n",
       "    <tr>\n",
       "      <th>2611</th>\n",
       "      <td>letters_229.xml</td>\n",
       "      <td>1845-01-19</td>\n",
       "      <td>Maund, Benjamin</td>\n",
       "      <td>Henslow, J. S.</td>\n",
       "      <td>inconvenient note evidence notice</td>\n",
       "    </tr>\n",
       "    <tr>\n",
       "      <th>2612</th>\n",
       "      <td>letters_229.xml</td>\n",
       "      <td>1845-01-19</td>\n",
       "      <td>Maund, Benjamin</td>\n",
       "      <td>Henslow, J. S.</td>\n",
       "      <td>scientist variety williams pitmaston seed cows...</td>\n",
       "    </tr>\n",
       "    <tr>\n",
       "      <th>...</th>\n",
       "      <td>...</td>\n",
       "      <td>...</td>\n",
       "      <td>...</td>\n",
       "      <td>...</td>\n",
       "      <td>...</td>\n",
       "    </tr>\n",
       "    <tr>\n",
       "      <th>9138</th>\n",
       "      <td>letters_1250.xml</td>\n",
       "      <td>1848-08-21</td>\n",
       "      <td>Henslow, J. S.</td>\n",
       "      <td>Ransome, George</td>\n",
       "      <td>duplicate tube specimen</td>\n",
       "    </tr>\n",
       "    <tr>\n",
       "      <th>9139</th>\n",
       "      <td>letters_1250.xml</td>\n",
       "      <td>1848-08-21</td>\n",
       "      <td>Henslow, J. S.</td>\n",
       "      <td>Ransome, George</td>\n",
       "      <td>sphaeria attack fructifie scape neck</td>\n",
       "    </tr>\n",
       "    <tr>\n",
       "      <th>9140</th>\n",
       "      <td>letters_1250.xml</td>\n",
       "      <td>1848-08-21</td>\n",
       "      <td>Henslow, J. S.</td>\n",
       "      <td>Ransome, George</td>\n",
       "      <td>importunate hint sort book</td>\n",
       "    </tr>\n",
       "    <tr>\n",
       "      <th>9141</th>\n",
       "      <td>letters_1250.xml</td>\n",
       "      <td>1848-08-21</td>\n",
       "      <td>Henslow, J. S.</td>\n",
       "      <td>Ransome, George</td>\n",
       "      <td>lindley vegetable kingdom</td>\n",
       "    </tr>\n",
       "    <tr>\n",
       "      <th>9142</th>\n",
       "      <td>letters_1250.xml</td>\n",
       "      <td>1848-08-21</td>\n",
       "      <td>Henslow, J. S.</td>\n",
       "      <td>Ransome, George</td>\n",
       "      <td>naphtha petroleum bottle asphalt</td>\n",
       "    </tr>\n",
       "  </tbody>\n",
       "</table>\n",
       "<p>2952 rows × 5 columns</p>\n",
       "</div>"
      ],
      "text/plain": [
       "                letter       date           sender        recipient  \\\n",
       "2608   letters_229.xml 1845-01-19  Maund, Benjamin   Henslow, J. S.   \n",
       "2609   letters_229.xml 1845-01-19  Maund, Benjamin   Henslow, J. S.   \n",
       "2610   letters_229.xml 1845-01-19  Maund, Benjamin   Henslow, J. S.   \n",
       "2611   letters_229.xml 1845-01-19  Maund, Benjamin   Henslow, J. S.   \n",
       "2612   letters_229.xml 1845-01-19  Maund, Benjamin   Henslow, J. S.   \n",
       "...                ...        ...              ...              ...   \n",
       "9138  letters_1250.xml 1848-08-21   Henslow, J. S.  Ransome, George   \n",
       "9139  letters_1250.xml 1848-08-21   Henslow, J. S.  Ransome, George   \n",
       "9140  letters_1250.xml 1848-08-21   Henslow, J. S.  Ransome, George   \n",
       "9141  letters_1250.xml 1848-08-21   Henslow, J. S.  Ransome, George   \n",
       "9142  letters_1250.xml 1848-08-21   Henslow, J. S.  Ransome, George   \n",
       "\n",
       "                                                   text  \n",
       "2608                  bromsgrove january professor dict  \n",
       "2609                                              claim  \n",
       "2610     vulgaris elatior veris variety species opinion  \n",
       "2611                  inconvenient note evidence notice  \n",
       "2612  scientist variety williams pitmaston seed cows...  \n",
       "...                                                 ...  \n",
       "9138                            duplicate tube specimen  \n",
       "9139               sphaeria attack fructifie scape neck  \n",
       "9140                         importunate hint sort book  \n",
       "9141                          lindley vegetable kingdom  \n",
       "9142                   naphtha petroleum bottle asphalt  \n",
       "\n",
       "[2952 rows x 5 columns]"
      ]
     },
     "execution_count": 11,
     "metadata": {},
     "output_type": "execute_result"
    }
   ],
   "source": [
    "mask_late = (sent_df[\"date\"] > \"1844/12/31\") & (sent_df[\"date\"] < \"1857/12/31\")\n",
    "sent_df_year_restrict_late = sent_df.loc[mask_late]\n",
    "sent_df_year_restrict_late"
   ]
  },
  {
   "cell_type": "markdown",
   "id": "4c5bf701",
   "metadata": {},
   "source": [
    "Create dataframes restricted to correspondence sent by Henslow and correspondence sent to him for visualisations."
   ]
  },
  {
   "cell_type": "code",
   "execution_count": 12,
   "id": "3f8315a3",
   "metadata": {},
   "outputs": [],
   "source": [
    "henslow_sent_df = sent_df.loc[sent_df[\"sender\"] == \"Henslow, J. S.\"]\n",
    "henslow_df = df.loc[df[\"sender\"] == \"Henslow, J. S.\"]\n",
    "non_henslow_sent_df = sent_df.loc[sent_df[\"sender\"] != \"Henslow, J. S.\"]\n",
    "non_henslow_df = df.loc[df[\"sender\"] != \"Henslow, J. S.\"]"
   ]
  },
  {
   "cell_type": "markdown",
   "id": "2068de27",
   "metadata": {},
   "source": [
    "Initialize BERTopic model and insert parameters, including input model and minimum topic number"
   ]
  },
  {
   "cell_type": "code",
   "execution_count": 13,
   "id": "e5c308f7",
   "metadata": {},
   "outputs": [],
   "source": [
    "topic_model = BERTopic(embedding_model=\"all-MiniLM-L6-v2\", nr_topics=\"auto\", min_topic_size=15)"
   ]
  },
  {
   "cell_type": "markdown",
   "id": "168e8e60",
   "metadata": {},
   "source": [
    "Create visualisation of topics over time for all input data using bertopic_time function."
   ]
  },
  {
   "cell_type": "code",
   "execution_count": 14,
   "id": "6b001bee",
   "metadata": {
    "scrolled": false
   },
   "outputs": [
    {
     "data": {
      "application/vnd.plotly.v1+json": {
       "config": {
        "plotlyServerURL": "https://plot.ly"
       },
       "data": [
        {
         "hoverinfo": "text",
         "hovertext": [
          "<b>Topic 0</b><br>Words: scoria, tubipore, madriporite, pentacrinitis, carypohyllea",
          "<b>Topic 0</b><br>Words: verna, fruticosa, lutea, kalmiana, arenarius",
          "<b>Topic 0</b><br>Words: plant, marit, desiderata, violaceum, maculata",
          "<b>Topic 0</b><br>Words: plant, botany, flora, herbarium, specimen",
          "<b>Topic 0</b><br>Words: plant, latifolia, palustris, vulgaris, botany",
          "<b>Topic 0</b><br>Words: plant, arvensis, vulgaris, palustris, botany",
          "<b>Topic 0</b><br>Words: fruit, flora, unripe, plant, subject",
          "<b>Topic 0</b><br>Words: tendency, snowflake, plant, tiph, wart",
          "<b>Topic 0</b><br>Words: alpinus, melasoma, dovre, clathiatus, corallorhiza",
          "<b>Topic 0</b><br>Words: hose, branch, genera, cross, rachis",
          "<b>Topic 0</b><br>Words: botanist, portion, fig, lemann, dune",
          "<b>Topic 0</b><br>Words: torrey, flora, flowering, aspect, princeton",
          "<b>Topic 0</b><br>Words: resident, hendelot, dart, primitiva, brunners",
          "<b>Topic 0</b><br>Words: peach, conifer, decaisne, precaution, barton",
          "<b>Topic 0</b><br>Words: syllabus, genus, botany, ivory, swarm",
          "<b>Topic 0</b><br>Words: endlicher, sequence, kingdom, gap, cut",
          "<b>Topic 0</b><br>Words: searles_wood, preference, building, flower, hearing",
          "<b>Topic 0</b><br>Words: tree, gardeners_chronicle, botany, chronicle, gardener",
          "<b>Topic 0</b><br>Words: botany, botanist, ale, flower, herbarium",
          "<b>Topic 0</b><br>Words: botany, synonyme, curriculum, bentham, longiflora"
         ],
         "marker": {
          "color": "#E69F00"
         },
         "mode": "markers",
         "name": "0_plant_botany_flora_herbarium",
         "type": "scatter",
         "x": [
          "1818-12-02T13:03:21.600000",
          "1821-01-28T19:12:00",
          "1823-03-12T14:24:00",
          "1825-04-23T09:36:00",
          "1827-06-05T04:48:00",
          "1829-07-17T00:00:00",
          "1831-08-28T19:12:00",
          "1833-10-09T14:24:00",
          "1835-11-21T09:36:00",
          "1838-01-02T04:48:00",
          "1840-02-14T00:00:00",
          "1842-03-27T19:12:00",
          "1844-05-08T14:24:00",
          "1846-06-20T09:36:00",
          "1848-08-01T04:48:00",
          "1850-09-13T00:00:00",
          "1852-10-24T19:12:00",
          "1854-12-06T14:24:00",
          "1857-01-17T09:36:00",
          "1859-03-01T04:48:00"
         ],
         "y": [
          2,
          6,
          27,
          93,
          63,
          206,
          37,
          11,
          3,
          26,
          9,
          13,
          6,
          4,
          11,
          12,
          8,
          31,
          22,
          32
         ]
        },
        {
         "hoverinfo": "text",
         "hovertext": [
          "<b>Topic 1</b><br>Words: acct, reach, banker, bridge, dec",
          "<b>Topic 1</b><br>Words: liry, ny, mis, prince, bridge",
          "<b>Topic 1</b><br>Words: cty, ordination, sun, departure, bedford",
          "<b>Topic 1</b><br>Words: feb, june, london, ipswich, suffolk",
          "<b>Topic 1</b><br>Words: northmore, margate, exeter, northward, rochester",
          "<b>Topic 1</b><br>Words: canton, december, london, june, april",
          "<b>Topic 1</b><br>Words: dieppe, burchell, accompd, lit, hither",
          "<b>Topic 1</b><br>Words: feb, havell, margaret, boyd, oliver",
          "<b>Topic 1</b><br>Words: aug, honobe, norwood, lodged, faraday",
          "<b>Topic 1</b><br>Words: brice, rob, hulme, pepys, lonsdale",
          "<b>Topic 1</b><br>Words: dicty, silverdale, transact, bernard, bustle",
          "<b>Topic 1</b><br>Words: ringham, cycle, tumulus, nov, recommence",
          "<b>Topic 1</b><br>Words: suffolk, harley, primeval, goodman, hampshire",
          "<b>Topic 1</b><br>Words: ipswich, treaty, guildford, bumpstead, someplace",
          "<b>Topic 1</b><br>Words: ipswich, suffolk, dec, birmingham, feb",
          "<b>Topic 1</b><br>Words: suffolk, ipswich, museum, london, al",
          "<b>Topic 1</b><br>Words: ipswich, egham, suffolk, museum, london",
          "<b>Topic 1</b><br>Words: ipswich, london, betchworth, surrey, town",
          "<b>Topic 1</b><br>Words: london, ipswich, betchworth, lily, thanks",
          "<b>Topic 1</b><br>Words: ipswich, london, suffolk, september, molesworth"
         ],
         "marker": {
          "color": "#56B4E9"
         },
         "mode": "markers",
         "name": "1_ipswich_london_suffolk_feb",
         "type": "scatter",
         "x": [
          "1818-12-02T13:03:21.600000",
          "1821-01-28T19:12:00",
          "1823-03-12T14:24:00",
          "1825-04-23T09:36:00",
          "1827-06-05T04:48:00",
          "1829-07-17T00:00:00",
          "1831-08-28T19:12:00",
          "1833-10-09T14:24:00",
          "1835-11-21T09:36:00",
          "1838-01-02T04:48:00",
          "1840-02-14T00:00:00",
          "1842-03-27T19:12:00",
          "1844-05-08T14:24:00",
          "1846-06-20T09:36:00",
          "1848-08-01T04:48:00",
          "1850-09-13T00:00:00",
          "1852-10-24T19:12:00",
          "1854-12-06T14:24:00",
          "1857-01-17T09:36:00",
          "1859-03-01T04:48:00"
         ],
         "y": [
          4,
          2,
          5,
          45,
          14,
          25,
          7,
          13,
          9,
          6,
          9,
          5,
          12,
          10,
          27,
          20,
          29,
          48,
          26,
          34
         ]
        },
        {
         "hoverinfo": "text",
         "hovertext": [
          "<b>Topic 3</b><br>Words: goodhall, worthies, wordsworth, lamarck, eton",
          "<b>Topic 3</b><br>Words: clarke, fig, johns, reference, page",
          "<b>Topic 3</b><br>Words: hodgson, harrison, campbell, geo, col",
          "<b>Topic 3</b><br>Words: johns, graham, trinity, henry, coll",
          "<b>Topic 3</b><br>Words: graham, ts, wilson, baxter, rob",
          "<b>Topic 3</b><br>Words: graham, wilson, trinity, warrington, jun",
          "<b>Topic 3</b><br>Words: incisor, johnston, tusk, potton, lieutt",
          "<b>Topic 3</b><br>Words: edinb, west, buckland, physicians, fifty",
          "<b>Topic 3</b><br>Words: oxford, talbot, dion, botan, attitude",
          "<b>Topic 3</b><br>Words: hutton, week, johns, graham, henry",
          "<b>Topic 3</b><br>Words: savile, sorry, clark, row, glasgow",
          "<b>Topic 3</b><br>Words: gouge, coll, sharpe, queens, powell",
          "<b>Topic 3</b><br>Words: coleman, morton, charlesworth, henry, respect",
          "<b>Topic 3</b><br>Words: cumming, campbell, joseph, scott, banks",
          "<b>Topic 3</b><br>Words: joseph, adelphi, algernon, dick, pm",
          "<b>Topic 3</b><br>Words: moseley, henry, interview, forbe, phillips",
          "<b>Topic 3</b><br>Words: reid, physicist, mathematician, foucault, yates",
          "<b>Topic 3</b><br>Words: evg, james, typorum, moustache, selwyn",
          "<b>Topic 3</b><br>Words: hampden, layman, stanley, midx, poole",
          "<b>Topic 3</b><br>Words: petersfield, georges, dangstein, wrottesley, smallpox"
         ],
         "marker": {
          "color": "#009E73"
         },
         "mode": "markers",
         "name": "3_johns_graham_henry_coll",
         "type": "scatter",
         "x": [
          "1818-12-02T13:03:21.600000",
          "1821-01-28T19:12:00",
          "1823-03-12T14:24:00",
          "1825-04-23T09:36:00",
          "1827-06-05T04:48:00",
          "1829-07-17T00:00:00",
          "1831-08-28T19:12:00",
          "1833-10-09T14:24:00",
          "1835-11-21T09:36:00",
          "1838-01-02T04:48:00",
          "1840-02-14T00:00:00",
          "1842-03-27T19:12:00",
          "1844-05-08T14:24:00",
          "1846-06-20T09:36:00",
          "1848-08-01T04:48:00",
          "1850-09-13T00:00:00",
          "1852-10-24T19:12:00",
          "1854-12-06T14:24:00",
          "1857-01-17T09:36:00",
          "1859-03-01T04:48:00"
         ],
         "y": [
          3,
          2,
          4,
          54,
          7,
          18,
          8,
          4,
          5,
          1,
          2,
          4,
          3,
          7,
          6,
          6,
          4,
          6,
          7,
          6
         ]
        },
        {
         "hoverinfo": "text",
         "hovertext": [
          "<b>Topic 4</b><br>Words: neglect, dale, cambridge, london, lime",
          "<b>Topic 4</b><br>Words: crystal, lime, alumina, acid, iron",
          "<b>Topic 4</b><br>Words: felspar, lid, crystal, lime, glass",
          "<b>Topic 4</b><br>Words: cambridge, cavern, clive, market, college",
          "<b>Topic 4</b><br>Words: lime, chalk, iron_alumina, oxide, essex",
          "<b>Topic 4</b><br>Words: limestone, cambridge, heat, river, rock",
          "<b>Topic 4</b><br>Words: clay, diluvium, chalk, pebble, subsoil",
          "<b>Topic 4</b><br>Words: downe, calling, cambridge, sept, library",
          "<b>Topic 4</b><br>Words: glass, library_mss, process, gracedilu, frit",
          "<b>Topic 4</b><br>Words: clay, fameux, aluminium, carb, botanique",
          "<b>Topic 4</b><br>Words: nodule, phosphate, lime, sui, pharo",
          "<b>Topic 4</b><br>Words: gard, sandstone, bot, oxford, specimen",
          "<b>Topic 4</b><br>Words: acid, carbonate, chalk, fault, lime",
          "<b>Topic 4</b><br>Words: lime, acid, bead, silica, glass",
          "<b>Topic 4</b><br>Words: glass, baas, metallic, tube, potassium",
          "<b>Topic 4</b><br>Words: iron, acid, lime, glass, cambridge",
          "<b>Topic 4</b><br>Words: search, stanway, tray, digestion, thousand",
          "<b>Topic 4</b><br>Words: follow, example, cambridge, lime, glass"
         ],
         "marker": {
          "color": "#F0E442"
         },
         "mode": "markers",
         "name": "4_lime_glass_acid_clay",
         "type": "scatter",
         "x": [
          "1818-12-02T13:03:21.600000",
          "1821-01-28T19:12:00",
          "1823-03-12T14:24:00",
          "1825-04-23T09:36:00",
          "1827-06-05T04:48:00",
          "1829-07-17T00:00:00",
          "1831-08-28T19:12:00",
          "1833-10-09T14:24:00",
          "1838-01-02T04:48:00",
          "1840-02-14T00:00:00",
          "1844-05-08T14:24:00",
          "1846-06-20T09:36:00",
          "1848-08-01T04:48:00",
          "1850-09-13T00:00:00",
          "1852-10-24T19:12:00",
          "1854-12-06T14:24:00",
          "1857-01-17T09:36:00",
          "1859-03-01T04:48:00"
         ],
         "y": [
          2,
          11,
          1,
          13,
          12,
          14,
          11,
          5,
          9,
          8,
          5,
          2,
          9,
          20,
          7,
          20,
          7,
          1
         ]
        },
        {
         "hoverinfo": "text",
         "hovertext": [
          "<b>Topic 5</b><br>Words: insect, shell, cabinet, twelvemonth, acquaintance",
          "<b>Topic 5</b><br>Words: insect, cabinet, shell, arrangement, entomology",
          "<b>Topic 5</b><br>Words: insect, dale, scotland, daplidia, lithonia",
          "<b>Topic 5</b><br>Words: insect, bombyx, larvae, geom, entomology",
          "<b>Topic 5</b><br>Words: insect, entomology, yorkshire, jenyns, obligation",
          "<b>Topic 5</b><br>Words: insect, package, box, valdivia, mat",
          "<b>Topic 5</b><br>Words: anatomie, mollusque, obtain, insect, suggestion",
          "<b>Topic 5</b><br>Words: insect, quadruped, sport, dale, edition",
          "<b>Topic 5</b><br>Words: insect, importation, bueno, berlin, entomology",
          "<b>Topic 5</b><br>Words: nervation, ephemeridae, impression, hawthorne, whorl",
          "<b>Topic 5</b><br>Words: sight, species, moment, insect, entomology",
          "<b>Topic 5</b><br>Words: wasp, cure, turpentine, remedy, nest",
          "<b>Topic 5</b><br>Words: calcium, spue, juice, crustacea, shell",
          "<b>Topic 5</b><br>Words: insect, aphid, bean, egg, beam",
          "<b>Topic 5</b><br>Words: diptera, insect, nest, velleius, entomologist",
          "<b>Topic 5</b><br>Words: fauna, insect, wandering, christmas, accident",
          "<b>Topic 5</b><br>Words: bee, insect, sessile, annelide, swallow",
          "<b>Topic 5</b><br>Words: insect, crustacea, westwood, insecta, entomologist",
          "<b>Topic 5</b><br>Words: entomology, privy, leptorhine, cromwell, insect",
          "<b>Topic 5</b><br>Words: insect, larva, nepticula, moth, entomologist"
         ],
         "marker": {
          "color": "#D55E00"
         },
         "mode": "markers",
         "name": "5_insect_entomology_wasp_larvae",
         "type": "scatter",
         "x": [
          "1818-12-02T13:03:21.600000",
          "1821-01-28T19:12:00",
          "1823-03-12T14:24:00",
          "1825-04-23T09:36:00",
          "1827-06-05T04:48:00",
          "1829-07-17T00:00:00",
          "1831-08-28T19:12:00",
          "1833-10-09T14:24:00",
          "1835-11-21T09:36:00",
          "1838-01-02T04:48:00",
          "1840-02-14T00:00:00",
          "1842-03-27T19:12:00",
          "1844-05-08T14:24:00",
          "1846-06-20T09:36:00",
          "1848-08-01T04:48:00",
          "1850-09-13T00:00:00",
          "1852-10-24T19:12:00",
          "1854-12-06T14:24:00",
          "1857-01-17T09:36:00",
          "1859-03-01T04:48:00"
         ],
         "y": [
          5,
          2,
          8,
          15,
          19,
          10,
          2,
          5,
          4,
          3,
          1,
          3,
          1,
          9,
          9,
          4,
          7,
          15,
          4,
          11
         ]
        },
        {
         "hoverinfo": "text",
         "hovertext": [
          "<b>Topic 6</b><br>Words: spirifer, side, obd, diam, magd",
          "<b>Topic 6</b><br>Words: gr, obd, diam, magd, obedt",
          "<b>Topic 6</b><br>Words: greswall, gresmork, biggs, obd, diam",
          "<b>Topic 6</b><br>Words: magd, obedt, obt, richd, jas",
          "<b>Topic 6</b><br>Words: obd, ewbank, fol, colney, leefe",
          "<b>Topic 6</b><br>Words: arnott, forbyana, gratifying, cand, vit",
          "<b>Topic 6</b><br>Words: fr, sd, obd, diam, obedt",
          "<b>Topic 6</b><br>Words: biog, gen, sp, obd, diam",
          "<b>Topic 6</b><br>Words: zool, prac, sevt, obt, jardine",
          "<b>Topic 6</b><br>Words: daf, schlotheim, jh, zool, quere",
          "<b>Topic 6</b><br>Words: sphenop, aff, foss, obd, diam",
          "<b>Topic 6</b><br>Words: ich, obd, diam, obedt, magd",
          "<b>Topic 6</b><br>Words: anaty, suff, ag, jos, obd",
          "<b>Topic 6</b><br>Words: suff, obd, diam, obedt, magd",
          "<b>Topic 6</b><br>Words: airy, ommission, quy, elschotzia, diam",
          "<b>Topic 6</b><br>Words: anat, annal, chemist, obd, diam",
          "<b>Topic 6</b><br>Words: mam, cor, goosequill, ge, dawe",
          "<b>Topic 6</b><br>Words: diem, resp, maund, jh, ns",
          "<b>Topic 6</b><br>Words: hohenacker, sovreign, mas, obd, dun",
          "<b>Topic 6</b><br>Words: diam, ampney, oran, outang, separation"
         ],
         "marker": {
          "color": "#0072B2"
         },
         "mode": "markers",
         "name": "6_obd_diam_obedt_magd",
         "type": "scatter",
         "x": [
          "1818-12-02T13:03:21.600000",
          "1821-01-28T19:12:00",
          "1823-03-12T14:24:00",
          "1825-04-23T09:36:00",
          "1827-06-05T04:48:00",
          "1829-07-17T00:00:00",
          "1831-08-28T19:12:00",
          "1833-10-09T14:24:00",
          "1835-11-21T09:36:00",
          "1838-01-02T04:48:00",
          "1840-02-14T00:00:00",
          "1842-03-27T19:12:00",
          "1844-05-08T14:24:00",
          "1846-06-20T09:36:00",
          "1848-08-01T04:48:00",
          "1850-09-13T00:00:00",
          "1852-10-24T19:12:00",
          "1854-12-06T14:24:00",
          "1857-01-17T09:36:00",
          "1859-03-01T04:48:00"
         ],
         "y": [
          1,
          1,
          2,
          42,
          11,
          20,
          2,
          3,
          4,
          5,
          3,
          1,
          4,
          1,
          4,
          2,
          8,
          10,
          5,
          6
         ]
        },
        {
         "hoverinfo": "text",
         "hovertext": [
          "<b>Topic 7</b><br>Words: direction, paper, matter, pencil, foot",
          "<b>Topic 7</b><br>Words: pencil, line, foot, ink, paper",
          "<b>Topic 7</b><br>Words: corneum, noake, pin, pencil, bill",
          "<b>Topic 7</b><br>Words: foot, pencil, ink, vinegar, drawing",
          "<b>Topic 7</b><br>Words: boiling, batata, paper, deal, series",
          "<b>Topic 7</b><br>Words: drawing, pencil, prospecti, pleomyxa, desk",
          "<b>Topic 7</b><br>Words: sketch, daubenys, draw, paper, madrid",
          "<b>Topic 7</b><br>Words: assistence, manufacturer, sketch, art, question",
          "<b>Topic 7</b><br>Words: pencil, ink, underl, quotation, sketch",
          "<b>Topic 7</b><br>Words: pencil, drawing, teales, asthma, pub",
          "<b>Topic 7</b><br>Words: chalkstone, erase, transportation, ice, pencil",
          "<b>Topic 7</b><br>Words: lapped, lid, bottom, cause, sketch",
          "<b>Topic 7</b><br>Words: inch, footbone, circumference, guineas, exception",
          "<b>Topic 7</b><br>Words: facilitate, knife, omit, turpentine, wax",
          "<b>Topic 7</b><br>Words: sketch, tendril, planation, physiol, dep",
          "<b>Topic 7</b><br>Words: sin, inch, cubic, straw, max",
          "<b>Topic 7</b><br>Words: hair, scale, bat, toe, shaft",
          "<b>Topic 7</b><br>Words: manufacturer, mill, undertaking, practice, sketch",
          "<b>Topic 7</b><br>Words: length, web, pencil, foot, ink"
         ],
         "marker": {
          "color": "#CC79A7"
         },
         "mode": "markers",
         "name": "7_pencil_foot_ink_paper",
         "type": "scatter",
         "x": [
          "1818-12-02T13:03:21.600000",
          "1821-01-28T19:12:00",
          "1823-03-12T14:24:00",
          "1825-04-23T09:36:00",
          "1827-06-05T04:48:00",
          "1829-07-17T00:00:00",
          "1831-08-28T19:12:00",
          "1835-11-21T09:36:00",
          "1838-01-02T04:48:00",
          "1840-02-14T00:00:00",
          "1842-03-27T19:12:00",
          "1844-05-08T14:24:00",
          "1846-06-20T09:36:00",
          "1848-08-01T04:48:00",
          "1850-09-13T00:00:00",
          "1852-10-24T19:12:00",
          "1854-12-06T14:24:00",
          "1857-01-17T09:36:00",
          "1859-03-01T04:48:00"
         ],
         "y": [
          2,
          1,
          4,
          14,
          3,
          9,
          9,
          1,
          24,
          6,
          4,
          3,
          3,
          4,
          4,
          3,
          18,
          3,
          11
         ]
        },
        {
         "hoverinfo": "text",
         "hovertext": [
          "<b>Topic 9</b><br>Words: mot, clark, lecture, course, professor",
          "<b>Topic 9</b><br>Words: sell, martyn, advertising, labor, strike",
          "<b>Topic 9</b><br>Words: lecture, course, professorship, professor, affecty",
          "<b>Topic 9</b><br>Words: lecture, hochstetter, bach, gace, lr",
          "<b>Topic 9</b><br>Words: class, theyit, professorship, professor, bore",
          "<b>Topic 9</b><br>Words: course, creature, agardh, action, introduction",
          "<b>Topic 9</b><br>Words: encouraging, simeon, lecture, professorship, royston",
          "<b>Topic 9</b><br>Words: drudgery, resource, bookseller, lecture, course",
          "<b>Topic 9</b><br>Words: politic, advertising, recourse, lecture, curate",
          "<b>Topic 9</b><br>Words: lecture, agaric, village, shelf, daubeny",
          "<b>Topic 9</b><br>Words: lecture, jugle, washington, theaters, occuping",
          "<b>Topic 9</b><br>Words: consistency, professorship, memorandum, stem, delay",
          "<b>Topic 9</b><br>Words: interested, lecture, astronomy, memorial, airy",
          "<b>Topic 9</b><br>Words: lecture, course, attend, worship, professor",
          "<b>Topic 9</b><br>Words: draft, deighton, trin_coll, tripos, lodge",
          "<b>Topic 9</b><br>Words: lecture, mildenhall, occasion, crossfire, tiresome",
          "<b>Topic 9</b><br>Words: lecture, course, russell, teacher, education",
          "<b>Topic 9</b><br>Words: lecture, particular, learner, philpott, professor",
          "<b>Topic 9</b><br>Words: lecture, concoct, lecturer, palace, opportunity"
         ],
         "marker": {
          "color": "#E69F00"
         },
         "mode": "markers",
         "name": "9_lecture_course_professor_professorship",
         "type": "scatter",
         "x": [
          "1818-12-02T13:03:21.600000",
          "1823-03-12T14:24:00",
          "1825-04-23T09:36:00",
          "1827-06-05T04:48:00",
          "1829-07-17T00:00:00",
          "1831-08-28T19:12:00",
          "1833-10-09T14:24:00",
          "1835-11-21T09:36:00",
          "1838-01-02T04:48:00",
          "1840-02-14T00:00:00",
          "1842-03-27T19:12:00",
          "1844-05-08T14:24:00",
          "1846-06-20T09:36:00",
          "1848-08-01T04:48:00",
          "1850-09-13T00:00:00",
          "1852-10-24T19:12:00",
          "1854-12-06T14:24:00",
          "1857-01-17T09:36:00",
          "1859-03-01T04:48:00"
         ],
         "y": [
          1,
          2,
          14,
          6,
          7,
          4,
          3,
          1,
          4,
          4,
          4,
          2,
          2,
          9,
          2,
          9,
          20,
          6,
          14
         ]
        },
        {
         "hoverinfo": "text",
         "hovertext": [
          "<b>Topic 10</b><br>Words: parcell, mead, lambeth, fossils, help",
          "<b>Topic 10</b><br>Words: premium, singular, mineralogist, fossils, norway",
          "<b>Topic 10</b><br>Words: fossil, portland, curve, quarry, rag",
          "<b>Topic 10</b><br>Words: lonsdale, geological_society, fossil, crag, fossils",
          "<b>Topic 10</b><br>Words: fossil, anstice, asterophyllite, fossils, bowman",
          "<b>Topic 10</b><br>Words: fossil, si, livraison, nai, doute",
          "<b>Topic 10</b><br>Words: disintegration, relish, nodules, plesiosaurus, analogy",
          "<b>Topic 10</b><br>Words: fossil, fragment, fondness, mentioning, prove",
          "<b>Topic 10</b><br>Words: parkinson, antediluvian, space, recollection, years_ago",
          "<b>Topic 10</b><br>Words: reptile, dover, decision, inconvenience, fossil",
          "<b>Topic 10</b><br>Words: fossil, miocene, pliocene, coraline, crag",
          "<b>Topic 10</b><br>Words: fossil, ox, bo, metropolis, inclination",
          "<b>Topic 10</b><br>Words: fossil, skull, breed, crag, sus",
          "<b>Topic 10</b><br>Words: fossil, geologist, suture, foramenifera, dumont",
          "<b>Topic 10</b><br>Words: fossil, crag, celt, drift, animal"
         ],
         "marker": {
          "color": "#56B4E9"
         },
         "mode": "markers",
         "name": "10_fossil_crag_fossils_pleistocene",
         "type": "scatter",
         "x": [
          "1818-12-02T13:03:21.600000",
          "1827-06-05T04:48:00",
          "1831-08-28T19:12:00",
          "1833-10-09T14:24:00",
          "1838-01-02T04:48:00",
          "1840-02-14T00:00:00",
          "1842-03-27T19:12:00",
          "1844-05-08T14:24:00",
          "1846-06-20T09:36:00",
          "1848-08-01T04:48:00",
          "1850-09-13T00:00:00",
          "1852-10-24T19:12:00",
          "1854-12-06T14:24:00",
          "1857-01-17T09:36:00",
          "1859-03-01T04:48:00"
         ],
         "y": [
          2,
          1,
          4,
          1,
          16,
          14,
          3,
          5,
          1,
          1,
          9,
          11,
          8,
          10,
          14
         ]
        },
        {
         "hoverinfo": "text",
         "hovertext": [
          "<b>Topic 12</b><br>Words: coleoptra, specimen, infant, filling, duplicate",
          "<b>Topic 12</b><br>Words: insert, goodness, specimen, result, manner",
          "<b>Topic 12</b><br>Words: specimen, side, one, name, duplicate",
          "<b>Topic 12</b><br>Words: imago, specimen, student, duplicate, subscription",
          "<b>Topic 12</b><br>Words: specimen, subscription, cape, wet, ejection",
          "<b>Topic 12</b><br>Words: specimen, vahlii, teesdale, duplicate, curiosity",
          "<b>Topic 12</b><br>Words: specimen, decay, description, value, unite",
          "<b>Topic 12</b><br>Words: ensure, specimen, consulting, carcarius, troublesome",
          "<b>Topic 12</b><br>Words: specimen, longing, synonym, defect, foss",
          "<b>Topic 12</b><br>Words: specimen, inaccuracy, implement, preface, judgment",
          "<b>Topic 12</b><br>Words: specimen, sacrifice, break, permission, determination",
          "<b>Topic 12</b><br>Words: chance, specimen, duplicate, subscription, description",
          "<b>Topic 12</b><br>Words: tube, duplicate, specimen, subscription, description",
          "<b>Topic 12</b><br>Words: specimen, method, model, group, lignite",
          "<b>Topic 12</b><br>Words: possession, specimen, department, society, duplicate",
          "<b>Topic 12</b><br>Words: specimen, hadleigh_suffolk, forwarding, judge, station",
          "<b>Topic 12</b><br>Words: sneer, specimen, pigeon, detection, discover"
         ],
         "marker": {
          "color": "#009E73"
         },
         "mode": "markers",
         "name": "12_specimen_duplicate_subscription_descr...",
         "type": "scatter",
         "x": [
          "1818-12-02T13:03:21.600000",
          "1821-01-28T19:12:00",
          "1823-03-12T14:24:00",
          "1825-04-23T09:36:00",
          "1827-06-05T04:48:00",
          "1829-07-17T00:00:00",
          "1831-08-28T19:12:00",
          "1833-10-09T14:24:00",
          "1838-01-02T04:48:00",
          "1840-02-14T00:00:00",
          "1844-05-08T14:24:00",
          "1846-06-20T09:36:00",
          "1848-08-01T04:48:00",
          "1850-09-13T00:00:00",
          "1854-12-06T14:24:00",
          "1857-01-17T09:36:00",
          "1859-03-01T04:48:00"
         ],
         "y": [
          3,
          1,
          4,
          4,
          10,
          17,
          5,
          2,
          7,
          7,
          1,
          1,
          1,
          7,
          2,
          6,
          2
         ]
        },
        {
         "hoverinfo": "text",
         "hovertext": [
          "<b>Topic 14</b><br>Words: tenby, dublin, bulwer, summer, edinburgh",
          "<b>Topic 14</b><br>Words: edinburgh, glasgow, dublin, scotland, meeting",
          "<b>Topic 14</b><br>Words: cork, drink, brose, glasgow, atholl",
          "<b>Topic 14</b><br>Words: glasgow, edinburgh, irish, course, dublin",
          "<b>Topic 14</b><br>Words: scotland, glasgow, edinburgh, douglas, arnott",
          "<b>Topic 14</b><br>Words: glasgow, edinburgh, scotland, wentworth, arnott",
          "<b>Topic 14</b><br>Words: camb, edinburgh, dunmany, perplexing, untill",
          "<b>Topic 14</b><br>Words: edinburgh, sportsman, generality, forego, query",
          "<b>Topic 14</b><br>Words: stop, dublin, trust, edinburgh, glasgow",
          "<b>Topic 14</b><br>Words: birmingham, british_association, meeting, edinburgh, glasgow",
          "<b>Topic 14</b><br>Words: univy, meeting, glasgow, august, july",
          "<b>Topic 14</b><br>Words: dublin, manchester, redesdale, meetimg, breakfast",
          "<b>Topic 14</b><br>Words: eclat, brit, association, meeting, edinburgh",
          "<b>Topic 14</b><br>Words: murray, avail, procure, duplicate, edinburgh",
          "<b>Topic 14</b><br>Words: edinburgh, belfast, edinb, british_association, invitation",
          "<b>Topic 14</b><br>Words: scotland, lancashire, cumberland, glasgow, lake",
          "<b>Topic 14</b><br>Words: belfast, lieu, cork, adam, court",
          "<b>Topic 14</b><br>Words: glasgow, meeting, cheltenham, british_association, belfast",
          "<b>Topic 14</b><br>Words: dublin, british_association, meeting, belfast, holywood",
          "<b>Topic 14</b><br>Words: arthur, ill, cd, edinburgh, review"
         ],
         "marker": {
          "color": "#F0E442"
         },
         "mode": "markers",
         "name": "14_edinburgh_glasgow_dublin_scotland",
         "type": "scatter",
         "x": [
          "1818-12-02T13:03:21.600000",
          "1821-01-28T19:12:00",
          "1823-03-12T14:24:00",
          "1825-04-23T09:36:00",
          "1827-06-05T04:48:00",
          "1829-07-17T00:00:00",
          "1831-08-28T19:12:00",
          "1833-10-09T14:24:00",
          "1835-11-21T09:36:00",
          "1838-01-02T04:48:00",
          "1840-02-14T00:00:00",
          "1842-03-27T19:12:00",
          "1844-05-08T14:24:00",
          "1846-06-20T09:36:00",
          "1848-08-01T04:48:00",
          "1850-09-13T00:00:00",
          "1852-10-24T19:12:00",
          "1854-12-06T14:24:00",
          "1857-01-17T09:36:00",
          "1859-03-01T04:48:00"
         ],
         "y": [
          1,
          1,
          3,
          7,
          10,
          14,
          2,
          6,
          2,
          1,
          1,
          4,
          1,
          1,
          3,
          2,
          3,
          8,
          7,
          2
         ]
        },
        {
         "hoverinfo": "text",
         "hovertext": [
          "<b>Topic 8</b><br>Words: correction, comment, certainty, reason, doubt",
          "<b>Topic 8</b><br>Words: certainty, reason, comment, doubt, theory",
          "<b>Topic 8</b><br>Words: reason, inclosure, eleventh, probablynot, con",
          "<b>Topic 8</b><br>Words: diff, inference, content, result, reference",
          "<b>Topic 8</b><br>Words: maderensis, convergent, salice, hist, wrong",
          "<b>Topic 8</b><br>Words: stump, secret, dint, analogy, feature",
          "<b>Topic 8</b><br>Words: confusion, announcement, comment, certainty, reason",
          "<b>Topic 8</b><br>Words: tho, notice, comment, certainty, reason",
          "<b>Topic 8</b><br>Words: uncertainty, disinclination, reproduction, certainty, experience",
          "<b>Topic 8</b><br>Words: conjecture, hint, excuse, doubt, question",
          "<b>Topic 8</b><br>Words: imagination, title, mistake, ask, reply",
          "<b>Topic 8</b><br>Words: riddle, sare, cop, claim, doubt",
          "<b>Topic 8</b><br>Words: forgot, reply, point, certainty, comment",
          "<b>Topic 8</b><br>Words: comment, certainty, approximation, winning, caoutchouc",
          "<b>Topic 8</b><br>Words: certainty, inform, statement, reference, name",
          "<b>Topic 8</b><br>Words: inconsistency, source, hint, information, duplicate",
          "<b>Topic 8</b><br>Words: comment, bur, problem, agate, mind",
          "<b>Topic 8</b><br>Words: philpott, concretion, opinion, remark, inform",
          "<b>Topic 8</b><br>Words: theory, pique, problem, modification, succession"
         ],
         "marker": {
          "color": "#D55E00"
         },
         "mode": "markers",
         "name": "8_comment_certainty_reason_doubt",
         "type": "scatter",
         "x": [
          "1821-01-28T19:12:00",
          "1823-03-12T14:24:00",
          "1825-04-23T09:36:00",
          "1827-06-05T04:48:00",
          "1829-07-17T00:00:00",
          "1831-08-28T19:12:00",
          "1833-10-09T14:24:00",
          "1835-11-21T09:36:00",
          "1838-01-02T04:48:00",
          "1840-02-14T00:00:00",
          "1842-03-27T19:12:00",
          "1844-05-08T14:24:00",
          "1846-06-20T09:36:00",
          "1848-08-01T04:48:00",
          "1850-09-13T00:00:00",
          "1852-10-24T19:12:00",
          "1854-12-06T14:24:00",
          "1857-01-17T09:36:00",
          "1859-03-01T04:48:00"
         ],
         "y": [
          1,
          1,
          22,
          5,
          9,
          6,
          3,
          1,
          7,
          4,
          5,
          5,
          2,
          11,
          4,
          5,
          13,
          6,
          15
         ]
        },
        {
         "hoverinfo": "text",
         "hovertext": [
          "<b>Topic 2</b><br>Words: poison, suit, instance, committee, catalogue",
          "<b>Topic 2</b><br>Words: committee, candidate, election, room, name",
          "<b>Topic 2</b><br>Words: cannon, turnwheel, catalogue, leather, messrs",
          "<b>Topic 2</b><br>Words: catalogue, baggage, warehouse, chairman, carriage",
          "<b>Topic 2</b><br>Words: tablet, div, execute, committee, poor",
          "<b>Topic 2</b><br>Words: seat, juster, sex, foreigner, limit",
          "<b>Topic 2</b><br>Words: lose, offend, title, committee, one",
          "<b>Topic 2</b><br>Words: war, top, phil, petition, american",
          "<b>Topic 2</b><br>Words: cha, vessel, title, suit, post",
          "<b>Topic 2</b><br>Words: wll, soc, steward, clements_inn, correspond",
          "<b>Topic 2</b><br>Words: testimonial, hughe, vice_chancellor, carriage, doubt",
          "<b>Topic 2</b><br>Words: whowever, listen, petition, card, majority",
          "<b>Topic 2</b><br>Words: forms, mycology, interference, hawkin, birch",
          "<b>Topic 2</b><br>Words: nomination, cadetship, application, coin, likunder",
          "<b>Topic 2</b><br>Words: committee, candidate, allude, member, viva",
          "<b>Topic 2</b><br>Words: counter, ray, jetton, lauffer, nuremberg",
          "<b>Topic 2</b><br>Words: shoreham, organise, portsmouth, vacancy, announcement"
         ],
         "marker": {
          "color": "#0072B2"
         },
         "mode": "markers",
         "name": "2_committee_catalogue_candidate_name",
         "type": "scatter",
         "x": [
          "1823-03-12T14:24:00",
          "1825-04-23T09:36:00",
          "1827-06-05T04:48:00",
          "1829-07-17T00:00:00",
          "1831-08-28T19:12:00",
          "1833-10-09T14:24:00",
          "1835-11-21T09:36:00",
          "1838-01-02T04:48:00",
          "1840-02-14T00:00:00",
          "1842-03-27T19:12:00",
          "1844-05-08T14:24:00",
          "1848-08-01T04:48:00",
          "1850-09-13T00:00:00",
          "1852-10-24T19:12:00",
          "1854-12-06T14:24:00",
          "1857-01-17T09:36:00",
          "1859-03-01T04:48:00"
         ],
         "y": [
          2,
          61,
          6,
          20,
          7,
          3,
          3,
          4,
          3,
          2,
          2,
          4,
          3,
          11,
          19,
          9,
          6
         ]
        },
        {
         "hoverinfo": "text",
         "hovertext": [
          "<b>Topic 11</b><br>Words: hooker, filicum, icone, suscriber, wurtz",
          "<b>Topic 11</b><br>Words: hooker, magnum, naturelle, publication, greville",
          "<b>Topic 11</b><br>Words: hooker, greville, haldane, twopenny, asubo",
          "<b>Topic 11</b><br>Words: edn, lenticula, publicity, natans, intercourse",
          "<b>Topic 11</b><br>Words: left, learn, hooker, parcel, day",
          "<b>Topic 11</b><br>Words: companion, hooker, zool, miscellany, connection",
          "<b>Topic 11</b><br>Words: hooker, greville, dr, sinclair, miss",
          "<b>Topic 11</b><br>Words: hooker, joseph, miss, room, laboratory",
          "<b>Topic 11</b><br>Words: hooker, cassel, julian, episode, news",
          "<b>Topic 11</b><br>Words: hooker, breast, disquietude, expectant, affte",
          "<b>Topic 11</b><br>Words: hooker, brentford, dawes, griffin, refutation",
          "<b>Topic 11</b><br>Words: hooker, germany, leonard_horner, hack, misunderstood",
          "<b>Topic 11</b><br>Words: hooker, sinclair, fore, geographie, clue",
          "<b>Topic 11</b><br>Words: hooker, migrate, syria, liking, berth"
         ],
         "marker": {
          "color": "#CC79A7"
         },
         "mode": "markers",
         "name": "11_hooker_greville_dr_sinclair",
         "type": "scatter",
         "x": [
          "1825-04-23T09:36:00",
          "1827-06-05T04:48:00",
          "1829-07-17T00:00:00",
          "1831-08-28T19:12:00",
          "1833-10-09T14:24:00",
          "1835-11-21T09:36:00",
          "1844-05-08T14:24:00",
          "1846-06-20T09:36:00",
          "1848-08-01T04:48:00",
          "1850-09-13T00:00:00",
          "1852-10-24T19:12:00",
          "1854-12-06T14:24:00",
          "1857-01-17T09:36:00",
          "1859-03-01T04:48:00"
         ],
         "y": [
          4,
          7,
          20,
          2,
          1,
          2,
          1,
          8,
          2,
          5,
          6,
          11,
          8,
          5
         ]
        },
        {
         "hoverinfo": "text",
         "hovertext": [
          "<b>Topic 13</b><br>Words: vote, election, voter, poll, ensuing_election",
          "<b>Topic 13</b><br>Words: thanking, silence, intelligence, election, cause",
          "<b>Topic 13</b><br>Words: pluralist, pisidium, cryllas, oman, manuscript",
          "<b>Topic 13</b><br>Words: morpeth, walkover, probability, election, west",
          "<b>Topic 13</b><br>Words: minority, poll, cambridge, election, vote",
          "<b>Topic 13</b><br>Words: election, vote, voter, poll, ensuing_election",
          "<b>Topic 13</b><br>Words: grote, forbes, durham, election, mill",
          "<b>Topic 13</b><br>Words: elections, april, election, vote, voter"
         ],
         "marker": {
          "color": "#E69F00"
         },
         "mode": "markers",
         "name": "13_election_vote_voter_poll",
         "type": "scatter",
         "x": [
          "1825-04-23T09:36:00",
          "1829-07-17T00:00:00",
          "1831-08-28T19:12:00",
          "1844-05-08T14:24:00",
          "1848-08-01T04:48:00",
          "1850-09-13T00:00:00",
          "1854-12-06T14:24:00",
          "1859-03-01T04:48:00"
         ],
         "y": [
          72,
          1,
          1,
          1,
          1,
          1,
          2,
          1
         ]
        }
       ],
       "layout": {
        "height": 500,
        "hoverlabel": {
         "bgcolor": "white",
         "font": {
          "family": "Rockwell",
          "size": 16
         }
        },
        "legend": {
         "title": {
          "text": "<b>Global Topic Representation"
         }
        },
        "template": {
         "data": {
          "bar": [
           {
            "error_x": {
             "color": "rgb(36,36,36)"
            },
            "error_y": {
             "color": "rgb(36,36,36)"
            },
            "marker": {
             "line": {
              "color": "white",
              "width": 0.5
             },
             "pattern": {
              "fillmode": "overlay",
              "size": 10,
              "solidity": 0.2
             }
            },
            "type": "bar"
           }
          ],
          "barpolar": [
           {
            "marker": {
             "line": {
              "color": "white",
              "width": 0.5
             },
             "pattern": {
              "fillmode": "overlay",
              "size": 10,
              "solidity": 0.2
             }
            },
            "type": "barpolar"
           }
          ],
          "carpet": [
           {
            "aaxis": {
             "endlinecolor": "rgb(36,36,36)",
             "gridcolor": "white",
             "linecolor": "white",
             "minorgridcolor": "white",
             "startlinecolor": "rgb(36,36,36)"
            },
            "baxis": {
             "endlinecolor": "rgb(36,36,36)",
             "gridcolor": "white",
             "linecolor": "white",
             "minorgridcolor": "white",
             "startlinecolor": "rgb(36,36,36)"
            },
            "type": "carpet"
           }
          ],
          "choropleth": [
           {
            "colorbar": {
             "outlinewidth": 1,
             "tickcolor": "rgb(36,36,36)",
             "ticks": "outside"
            },
            "type": "choropleth"
           }
          ],
          "contour": [
           {
            "colorbar": {
             "outlinewidth": 1,
             "tickcolor": "rgb(36,36,36)",
             "ticks": "outside"
            },
            "colorscale": [
             [
              0,
              "#440154"
             ],
             [
              0.1111111111111111,
              "#482878"
             ],
             [
              0.2222222222222222,
              "#3e4989"
             ],
             [
              0.3333333333333333,
              "#31688e"
             ],
             [
              0.4444444444444444,
              "#26828e"
             ],
             [
              0.5555555555555556,
              "#1f9e89"
             ],
             [
              0.6666666666666666,
              "#35b779"
             ],
             [
              0.7777777777777778,
              "#6ece58"
             ],
             [
              0.8888888888888888,
              "#b5de2b"
             ],
             [
              1,
              "#fde725"
             ]
            ],
            "type": "contour"
           }
          ],
          "contourcarpet": [
           {
            "colorbar": {
             "outlinewidth": 1,
             "tickcolor": "rgb(36,36,36)",
             "ticks": "outside"
            },
            "type": "contourcarpet"
           }
          ],
          "heatmap": [
           {
            "colorbar": {
             "outlinewidth": 1,
             "tickcolor": "rgb(36,36,36)",
             "ticks": "outside"
            },
            "colorscale": [
             [
              0,
              "#440154"
             ],
             [
              0.1111111111111111,
              "#482878"
             ],
             [
              0.2222222222222222,
              "#3e4989"
             ],
             [
              0.3333333333333333,
              "#31688e"
             ],
             [
              0.4444444444444444,
              "#26828e"
             ],
             [
              0.5555555555555556,
              "#1f9e89"
             ],
             [
              0.6666666666666666,
              "#35b779"
             ],
             [
              0.7777777777777778,
              "#6ece58"
             ],
             [
              0.8888888888888888,
              "#b5de2b"
             ],
             [
              1,
              "#fde725"
             ]
            ],
            "type": "heatmap"
           }
          ],
          "heatmapgl": [
           {
            "colorbar": {
             "outlinewidth": 1,
             "tickcolor": "rgb(36,36,36)",
             "ticks": "outside"
            },
            "colorscale": [
             [
              0,
              "#440154"
             ],
             [
              0.1111111111111111,
              "#482878"
             ],
             [
              0.2222222222222222,
              "#3e4989"
             ],
             [
              0.3333333333333333,
              "#31688e"
             ],
             [
              0.4444444444444444,
              "#26828e"
             ],
             [
              0.5555555555555556,
              "#1f9e89"
             ],
             [
              0.6666666666666666,
              "#35b779"
             ],
             [
              0.7777777777777778,
              "#6ece58"
             ],
             [
              0.8888888888888888,
              "#b5de2b"
             ],
             [
              1,
              "#fde725"
             ]
            ],
            "type": "heatmapgl"
           }
          ],
          "histogram": [
           {
            "marker": {
             "line": {
              "color": "white",
              "width": 0.6
             }
            },
            "type": "histogram"
           }
          ],
          "histogram2d": [
           {
            "colorbar": {
             "outlinewidth": 1,
             "tickcolor": "rgb(36,36,36)",
             "ticks": "outside"
            },
            "colorscale": [
             [
              0,
              "#440154"
             ],
             [
              0.1111111111111111,
              "#482878"
             ],
             [
              0.2222222222222222,
              "#3e4989"
             ],
             [
              0.3333333333333333,
              "#31688e"
             ],
             [
              0.4444444444444444,
              "#26828e"
             ],
             [
              0.5555555555555556,
              "#1f9e89"
             ],
             [
              0.6666666666666666,
              "#35b779"
             ],
             [
              0.7777777777777778,
              "#6ece58"
             ],
             [
              0.8888888888888888,
              "#b5de2b"
             ],
             [
              1,
              "#fde725"
             ]
            ],
            "type": "histogram2d"
           }
          ],
          "histogram2dcontour": [
           {
            "colorbar": {
             "outlinewidth": 1,
             "tickcolor": "rgb(36,36,36)",
             "ticks": "outside"
            },
            "colorscale": [
             [
              0,
              "#440154"
             ],
             [
              0.1111111111111111,
              "#482878"
             ],
             [
              0.2222222222222222,
              "#3e4989"
             ],
             [
              0.3333333333333333,
              "#31688e"
             ],
             [
              0.4444444444444444,
              "#26828e"
             ],
             [
              0.5555555555555556,
              "#1f9e89"
             ],
             [
              0.6666666666666666,
              "#35b779"
             ],
             [
              0.7777777777777778,
              "#6ece58"
             ],
             [
              0.8888888888888888,
              "#b5de2b"
             ],
             [
              1,
              "#fde725"
             ]
            ],
            "type": "histogram2dcontour"
           }
          ],
          "mesh3d": [
           {
            "colorbar": {
             "outlinewidth": 1,
             "tickcolor": "rgb(36,36,36)",
             "ticks": "outside"
            },
            "type": "mesh3d"
           }
          ],
          "parcoords": [
           {
            "line": {
             "colorbar": {
              "outlinewidth": 1,
              "tickcolor": "rgb(36,36,36)",
              "ticks": "outside"
             }
            },
            "type": "parcoords"
           }
          ],
          "pie": [
           {
            "automargin": true,
            "type": "pie"
           }
          ],
          "scatter": [
           {
            "fillpattern": {
             "fillmode": "overlay",
             "size": 10,
             "solidity": 0.2
            },
            "type": "scatter"
           }
          ],
          "scatter3d": [
           {
            "line": {
             "colorbar": {
              "outlinewidth": 1,
              "tickcolor": "rgb(36,36,36)",
              "ticks": "outside"
             }
            },
            "marker": {
             "colorbar": {
              "outlinewidth": 1,
              "tickcolor": "rgb(36,36,36)",
              "ticks": "outside"
             }
            },
            "type": "scatter3d"
           }
          ],
          "scattercarpet": [
           {
            "marker": {
             "colorbar": {
              "outlinewidth": 1,
              "tickcolor": "rgb(36,36,36)",
              "ticks": "outside"
             }
            },
            "type": "scattercarpet"
           }
          ],
          "scattergeo": [
           {
            "marker": {
             "colorbar": {
              "outlinewidth": 1,
              "tickcolor": "rgb(36,36,36)",
              "ticks": "outside"
             }
            },
            "type": "scattergeo"
           }
          ],
          "scattergl": [
           {
            "marker": {
             "colorbar": {
              "outlinewidth": 1,
              "tickcolor": "rgb(36,36,36)",
              "ticks": "outside"
             }
            },
            "type": "scattergl"
           }
          ],
          "scattermapbox": [
           {
            "marker": {
             "colorbar": {
              "outlinewidth": 1,
              "tickcolor": "rgb(36,36,36)",
              "ticks": "outside"
             }
            },
            "type": "scattermapbox"
           }
          ],
          "scatterpolar": [
           {
            "marker": {
             "colorbar": {
              "outlinewidth": 1,
              "tickcolor": "rgb(36,36,36)",
              "ticks": "outside"
             }
            },
            "type": "scatterpolar"
           }
          ],
          "scatterpolargl": [
           {
            "marker": {
             "colorbar": {
              "outlinewidth": 1,
              "tickcolor": "rgb(36,36,36)",
              "ticks": "outside"
             }
            },
            "type": "scatterpolargl"
           }
          ],
          "scatterternary": [
           {
            "marker": {
             "colorbar": {
              "outlinewidth": 1,
              "tickcolor": "rgb(36,36,36)",
              "ticks": "outside"
             }
            },
            "type": "scatterternary"
           }
          ],
          "surface": [
           {
            "colorbar": {
             "outlinewidth": 1,
             "tickcolor": "rgb(36,36,36)",
             "ticks": "outside"
            },
            "colorscale": [
             [
              0,
              "#440154"
             ],
             [
              0.1111111111111111,
              "#482878"
             ],
             [
              0.2222222222222222,
              "#3e4989"
             ],
             [
              0.3333333333333333,
              "#31688e"
             ],
             [
              0.4444444444444444,
              "#26828e"
             ],
             [
              0.5555555555555556,
              "#1f9e89"
             ],
             [
              0.6666666666666666,
              "#35b779"
             ],
             [
              0.7777777777777778,
              "#6ece58"
             ],
             [
              0.8888888888888888,
              "#b5de2b"
             ],
             [
              1,
              "#fde725"
             ]
            ],
            "type": "surface"
           }
          ],
          "table": [
           {
            "cells": {
             "fill": {
              "color": "rgb(237,237,237)"
             },
             "line": {
              "color": "white"
             }
            },
            "header": {
             "fill": {
              "color": "rgb(217,217,217)"
             },
             "line": {
              "color": "white"
             }
            },
            "type": "table"
           }
          ]
         },
         "layout": {
          "annotationdefaults": {
           "arrowhead": 0,
           "arrowwidth": 1
          },
          "autotypenumbers": "strict",
          "coloraxis": {
           "colorbar": {
            "outlinewidth": 1,
            "tickcolor": "rgb(36,36,36)",
            "ticks": "outside"
           }
          },
          "colorscale": {
           "diverging": [
            [
             0,
             "rgb(103,0,31)"
            ],
            [
             0.1,
             "rgb(178,24,43)"
            ],
            [
             0.2,
             "rgb(214,96,77)"
            ],
            [
             0.3,
             "rgb(244,165,130)"
            ],
            [
             0.4,
             "rgb(253,219,199)"
            ],
            [
             0.5,
             "rgb(247,247,247)"
            ],
            [
             0.6,
             "rgb(209,229,240)"
            ],
            [
             0.7,
             "rgb(146,197,222)"
            ],
            [
             0.8,
             "rgb(67,147,195)"
            ],
            [
             0.9,
             "rgb(33,102,172)"
            ],
            [
             1,
             "rgb(5,48,97)"
            ]
           ],
           "sequential": [
            [
             0,
             "#440154"
            ],
            [
             0.1111111111111111,
             "#482878"
            ],
            [
             0.2222222222222222,
             "#3e4989"
            ],
            [
             0.3333333333333333,
             "#31688e"
            ],
            [
             0.4444444444444444,
             "#26828e"
            ],
            [
             0.5555555555555556,
             "#1f9e89"
            ],
            [
             0.6666666666666666,
             "#35b779"
            ],
            [
             0.7777777777777778,
             "#6ece58"
            ],
            [
             0.8888888888888888,
             "#b5de2b"
            ],
            [
             1,
             "#fde725"
            ]
           ],
           "sequentialminus": [
            [
             0,
             "#440154"
            ],
            [
             0.1111111111111111,
             "#482878"
            ],
            [
             0.2222222222222222,
             "#3e4989"
            ],
            [
             0.3333333333333333,
             "#31688e"
            ],
            [
             0.4444444444444444,
             "#26828e"
            ],
            [
             0.5555555555555556,
             "#1f9e89"
            ],
            [
             0.6666666666666666,
             "#35b779"
            ],
            [
             0.7777777777777778,
             "#6ece58"
            ],
            [
             0.8888888888888888,
             "#b5de2b"
            ],
            [
             1,
             "#fde725"
            ]
           ]
          },
          "colorway": [
           "#1F77B4",
           "#FF7F0E",
           "#2CA02C",
           "#D62728",
           "#9467BD",
           "#8C564B",
           "#E377C2",
           "#7F7F7F",
           "#BCBD22",
           "#17BECF"
          ],
          "font": {
           "color": "rgb(36,36,36)"
          },
          "geo": {
           "bgcolor": "white",
           "lakecolor": "white",
           "landcolor": "white",
           "showlakes": true,
           "showland": true,
           "subunitcolor": "white"
          },
          "hoverlabel": {
           "align": "left"
          },
          "hovermode": "closest",
          "mapbox": {
           "style": "light"
          },
          "paper_bgcolor": "white",
          "plot_bgcolor": "white",
          "polar": {
           "angularaxis": {
            "gridcolor": "rgb(232,232,232)",
            "linecolor": "rgb(36,36,36)",
            "showgrid": false,
            "showline": true,
            "ticks": "outside"
           },
           "bgcolor": "white",
           "radialaxis": {
            "gridcolor": "rgb(232,232,232)",
            "linecolor": "rgb(36,36,36)",
            "showgrid": false,
            "showline": true,
            "ticks": "outside"
           }
          },
          "scene": {
           "xaxis": {
            "backgroundcolor": "white",
            "gridcolor": "rgb(232,232,232)",
            "gridwidth": 2,
            "linecolor": "rgb(36,36,36)",
            "showbackground": true,
            "showgrid": false,
            "showline": true,
            "ticks": "outside",
            "zeroline": false,
            "zerolinecolor": "rgb(36,36,36)"
           },
           "yaxis": {
            "backgroundcolor": "white",
            "gridcolor": "rgb(232,232,232)",
            "gridwidth": 2,
            "linecolor": "rgb(36,36,36)",
            "showbackground": true,
            "showgrid": false,
            "showline": true,
            "ticks": "outside",
            "zeroline": false,
            "zerolinecolor": "rgb(36,36,36)"
           },
           "zaxis": {
            "backgroundcolor": "white",
            "gridcolor": "rgb(232,232,232)",
            "gridwidth": 2,
            "linecolor": "rgb(36,36,36)",
            "showbackground": true,
            "showgrid": false,
            "showline": true,
            "ticks": "outside",
            "zeroline": false,
            "zerolinecolor": "rgb(36,36,36)"
           }
          },
          "shapedefaults": {
           "fillcolor": "black",
           "line": {
            "width": 0
           },
           "opacity": 0.3
          },
          "ternary": {
           "aaxis": {
            "gridcolor": "rgb(232,232,232)",
            "linecolor": "rgb(36,36,36)",
            "showgrid": false,
            "showline": true,
            "ticks": "outside"
           },
           "baxis": {
            "gridcolor": "rgb(232,232,232)",
            "linecolor": "rgb(36,36,36)",
            "showgrid": false,
            "showline": true,
            "ticks": "outside"
           },
           "bgcolor": "white",
           "caxis": {
            "gridcolor": "rgb(232,232,232)",
            "linecolor": "rgb(36,36,36)",
            "showgrid": false,
            "showline": true,
            "ticks": "outside"
           }
          },
          "title": {
           "x": 0.05
          },
          "xaxis": {
           "automargin": true,
           "gridcolor": "rgb(232,232,232)",
           "linecolor": "rgb(36,36,36)",
           "showgrid": false,
           "showline": true,
           "ticks": "outside",
           "title": {
            "standoff": 15
           },
           "zeroline": false,
           "zerolinecolor": "rgb(36,36,36)"
          },
          "yaxis": {
           "automargin": true,
           "gridcolor": "rgb(232,232,232)",
           "linecolor": "rgb(36,36,36)",
           "showgrid": false,
           "showline": true,
           "ticks": "outside",
           "title": {
            "standoff": 15
           },
           "zeroline": false,
           "zerolinecolor": "rgb(36,36,36)"
          }
         }
        },
        "title": {
         "font": {
          "color": "Black",
          "size": 22
         },
         "text": "<b>Topics over Time",
         "x": 0.4,
         "xanchor": "center",
         "y": 0.95,
         "yanchor": "top"
        },
        "width": 1000,
        "xaxis": {
         "showgrid": true
        },
        "yaxis": {
         "showgrid": true,
         "title": {
          "text": "Count"
         }
        }
       }
      },
      "text/html": [
       "<div>                            <div id=\"710f107f-b68a-41a9-a942-25cdce1c78e7\" class=\"plotly-graph-div\" style=\"height:500px; width:1000px;\"></div>            <script type=\"text/javascript\">                require([\"plotly\"], function(Plotly) {                    window.PLOTLYENV=window.PLOTLYENV || {};                                    if (document.getElementById(\"710f107f-b68a-41a9-a942-25cdce1c78e7\")) {                    Plotly.newPlot(                        \"710f107f-b68a-41a9-a942-25cdce1c78e7\",                        [{\"hoverinfo\":\"text\",\"hovertext\":[\"<b>Topic 0</b><br>Words: scoria, tubipore, madriporite, pentacrinitis, carypohyllea\",\"<b>Topic 0</b><br>Words: verna, fruticosa, lutea, kalmiana, arenarius\",\"<b>Topic 0</b><br>Words: plant, marit, desiderata, violaceum, maculata\",\"<b>Topic 0</b><br>Words: plant, botany, flora, herbarium, specimen\",\"<b>Topic 0</b><br>Words: plant, latifolia, palustris, vulgaris, botany\",\"<b>Topic 0</b><br>Words: plant, arvensis, vulgaris, palustris, botany\",\"<b>Topic 0</b><br>Words: fruit, flora, unripe, plant, subject\",\"<b>Topic 0</b><br>Words: tendency, snowflake, plant, tiph, wart\",\"<b>Topic 0</b><br>Words: alpinus, melasoma, dovre, clathiatus, corallorhiza\",\"<b>Topic 0</b><br>Words: hose, branch, genera, cross, rachis\",\"<b>Topic 0</b><br>Words: botanist, portion, fig, lemann, dune\",\"<b>Topic 0</b><br>Words: torrey, flora, flowering, aspect, princeton\",\"<b>Topic 0</b><br>Words: resident, hendelot, dart, primitiva, brunners\",\"<b>Topic 0</b><br>Words: peach, conifer, decaisne, precaution, barton\",\"<b>Topic 0</b><br>Words: syllabus, genus, botany, ivory, swarm\",\"<b>Topic 0</b><br>Words: endlicher, sequence, kingdom, gap, cut\",\"<b>Topic 0</b><br>Words: searles_wood, preference, building, flower, hearing\",\"<b>Topic 0</b><br>Words: tree, gardeners_chronicle, botany, chronicle, gardener\",\"<b>Topic 0</b><br>Words: botany, botanist, ale, flower, herbarium\",\"<b>Topic 0</b><br>Words: botany, synonyme, curriculum, bentham, longiflora\"],\"marker\":{\"color\":\"#E69F00\"},\"mode\":\"markers\",\"name\":\"0_plant_botany_flora_herbarium\",\"x\":[\"1818-12-02T13:03:21.600000\",\"1821-01-28T19:12:00\",\"1823-03-12T14:24:00\",\"1825-04-23T09:36:00\",\"1827-06-05T04:48:00\",\"1829-07-17T00:00:00\",\"1831-08-28T19:12:00\",\"1833-10-09T14:24:00\",\"1835-11-21T09:36:00\",\"1838-01-02T04:48:00\",\"1840-02-14T00:00:00\",\"1842-03-27T19:12:00\",\"1844-05-08T14:24:00\",\"1846-06-20T09:36:00\",\"1848-08-01T04:48:00\",\"1850-09-13T00:00:00\",\"1852-10-24T19:12:00\",\"1854-12-06T14:24:00\",\"1857-01-17T09:36:00\",\"1859-03-01T04:48:00\"],\"y\":[2,6,27,93,63,206,37,11,3,26,9,13,6,4,11,12,8,31,22,32],\"type\":\"scatter\"},{\"hoverinfo\":\"text\",\"hovertext\":[\"<b>Topic 1</b><br>Words: acct, reach, banker, bridge, dec\",\"<b>Topic 1</b><br>Words: liry, ny, mis, prince, bridge\",\"<b>Topic 1</b><br>Words: cty, ordination, sun, departure, bedford\",\"<b>Topic 1</b><br>Words: feb, june, london, ipswich, suffolk\",\"<b>Topic 1</b><br>Words: northmore, margate, exeter, northward, rochester\",\"<b>Topic 1</b><br>Words: canton, december, london, june, april\",\"<b>Topic 1</b><br>Words: dieppe, burchell, accompd, lit, hither\",\"<b>Topic 1</b><br>Words: feb, havell, margaret, boyd, oliver\",\"<b>Topic 1</b><br>Words: aug, honobe, norwood, lodged, faraday\",\"<b>Topic 1</b><br>Words: brice, rob, hulme, pepys, lonsdale\",\"<b>Topic 1</b><br>Words: dicty, silverdale, transact, bernard, bustle\",\"<b>Topic 1</b><br>Words: ringham, cycle, tumulus, nov, recommence\",\"<b>Topic 1</b><br>Words: suffolk, harley, primeval, goodman, hampshire\",\"<b>Topic 1</b><br>Words: ipswich, treaty, guildford, bumpstead, someplace\",\"<b>Topic 1</b><br>Words: ipswich, suffolk, dec, birmingham, feb\",\"<b>Topic 1</b><br>Words: suffolk, ipswich, museum, london, al\",\"<b>Topic 1</b><br>Words: ipswich, egham, suffolk, museum, london\",\"<b>Topic 1</b><br>Words: ipswich, london, betchworth, surrey, town\",\"<b>Topic 1</b><br>Words: london, ipswich, betchworth, lily, thanks\",\"<b>Topic 1</b><br>Words: ipswich, london, suffolk, september, molesworth\"],\"marker\":{\"color\":\"#56B4E9\"},\"mode\":\"markers\",\"name\":\"1_ipswich_london_suffolk_feb\",\"x\":[\"1818-12-02T13:03:21.600000\",\"1821-01-28T19:12:00\",\"1823-03-12T14:24:00\",\"1825-04-23T09:36:00\",\"1827-06-05T04:48:00\",\"1829-07-17T00:00:00\",\"1831-08-28T19:12:00\",\"1833-10-09T14:24:00\",\"1835-11-21T09:36:00\",\"1838-01-02T04:48:00\",\"1840-02-14T00:00:00\",\"1842-03-27T19:12:00\",\"1844-05-08T14:24:00\",\"1846-06-20T09:36:00\",\"1848-08-01T04:48:00\",\"1850-09-13T00:00:00\",\"1852-10-24T19:12:00\",\"1854-12-06T14:24:00\",\"1857-01-17T09:36:00\",\"1859-03-01T04:48:00\"],\"y\":[4,2,5,45,14,25,7,13,9,6,9,5,12,10,27,20,29,48,26,34],\"type\":\"scatter\"},{\"hoverinfo\":\"text\",\"hovertext\":[\"<b>Topic 3</b><br>Words: goodhall, worthies, wordsworth, lamarck, eton\",\"<b>Topic 3</b><br>Words: clarke, fig, johns, reference, page\",\"<b>Topic 3</b><br>Words: hodgson, harrison, campbell, geo, col\",\"<b>Topic 3</b><br>Words: johns, graham, trinity, henry, coll\",\"<b>Topic 3</b><br>Words: graham, ts, wilson, baxter, rob\",\"<b>Topic 3</b><br>Words: graham, wilson, trinity, warrington, jun\",\"<b>Topic 3</b><br>Words: incisor, johnston, tusk, potton, lieutt\",\"<b>Topic 3</b><br>Words: edinb, west, buckland, physicians, fifty\",\"<b>Topic 3</b><br>Words: oxford, talbot, dion, botan, attitude\",\"<b>Topic 3</b><br>Words: hutton, week, johns, graham, henry\",\"<b>Topic 3</b><br>Words: savile, sorry, clark, row, glasgow\",\"<b>Topic 3</b><br>Words: gouge, coll, sharpe, queens, powell\",\"<b>Topic 3</b><br>Words: coleman, morton, charlesworth, henry, respect\",\"<b>Topic 3</b><br>Words: cumming, campbell, joseph, scott, banks\",\"<b>Topic 3</b><br>Words: joseph, adelphi, algernon, dick, pm\",\"<b>Topic 3</b><br>Words: moseley, henry, interview, forbe, phillips\",\"<b>Topic 3</b><br>Words: reid, physicist, mathematician, foucault, yates\",\"<b>Topic 3</b><br>Words: evg, james, typorum, moustache, selwyn\",\"<b>Topic 3</b><br>Words: hampden, layman, stanley, midx, poole\",\"<b>Topic 3</b><br>Words: petersfield, georges, dangstein, wrottesley, smallpox\"],\"marker\":{\"color\":\"#009E73\"},\"mode\":\"markers\",\"name\":\"3_johns_graham_henry_coll\",\"x\":[\"1818-12-02T13:03:21.600000\",\"1821-01-28T19:12:00\",\"1823-03-12T14:24:00\",\"1825-04-23T09:36:00\",\"1827-06-05T04:48:00\",\"1829-07-17T00:00:00\",\"1831-08-28T19:12:00\",\"1833-10-09T14:24:00\",\"1835-11-21T09:36:00\",\"1838-01-02T04:48:00\",\"1840-02-14T00:00:00\",\"1842-03-27T19:12:00\",\"1844-05-08T14:24:00\",\"1846-06-20T09:36:00\",\"1848-08-01T04:48:00\",\"1850-09-13T00:00:00\",\"1852-10-24T19:12:00\",\"1854-12-06T14:24:00\",\"1857-01-17T09:36:00\",\"1859-03-01T04:48:00\"],\"y\":[3,2,4,54,7,18,8,4,5,1,2,4,3,7,6,6,4,6,7,6],\"type\":\"scatter\"},{\"hoverinfo\":\"text\",\"hovertext\":[\"<b>Topic 4</b><br>Words: neglect, dale, cambridge, london, lime\",\"<b>Topic 4</b><br>Words: crystal, lime, alumina, acid, iron\",\"<b>Topic 4</b><br>Words: felspar, lid, crystal, lime, glass\",\"<b>Topic 4</b><br>Words: cambridge, cavern, clive, market, college\",\"<b>Topic 4</b><br>Words: lime, chalk, iron_alumina, oxide, essex\",\"<b>Topic 4</b><br>Words: limestone, cambridge, heat, river, rock\",\"<b>Topic 4</b><br>Words: clay, diluvium, chalk, pebble, subsoil\",\"<b>Topic 4</b><br>Words: downe, calling, cambridge, sept, library\",\"<b>Topic 4</b><br>Words: glass, library_mss, process, gracedilu, frit\",\"<b>Topic 4</b><br>Words: clay, fameux, aluminium, carb, botanique\",\"<b>Topic 4</b><br>Words: nodule, phosphate, lime, sui, pharo\",\"<b>Topic 4</b><br>Words: gard, sandstone, bot, oxford, specimen\",\"<b>Topic 4</b><br>Words: acid, carbonate, chalk, fault, lime\",\"<b>Topic 4</b><br>Words: lime, acid, bead, silica, glass\",\"<b>Topic 4</b><br>Words: glass, baas, metallic, tube, potassium\",\"<b>Topic 4</b><br>Words: iron, acid, lime, glass, cambridge\",\"<b>Topic 4</b><br>Words: search, stanway, tray, digestion, thousand\",\"<b>Topic 4</b><br>Words: follow, example, cambridge, lime, glass\"],\"marker\":{\"color\":\"#F0E442\"},\"mode\":\"markers\",\"name\":\"4_lime_glass_acid_clay\",\"x\":[\"1818-12-02T13:03:21.600000\",\"1821-01-28T19:12:00\",\"1823-03-12T14:24:00\",\"1825-04-23T09:36:00\",\"1827-06-05T04:48:00\",\"1829-07-17T00:00:00\",\"1831-08-28T19:12:00\",\"1833-10-09T14:24:00\",\"1838-01-02T04:48:00\",\"1840-02-14T00:00:00\",\"1844-05-08T14:24:00\",\"1846-06-20T09:36:00\",\"1848-08-01T04:48:00\",\"1850-09-13T00:00:00\",\"1852-10-24T19:12:00\",\"1854-12-06T14:24:00\",\"1857-01-17T09:36:00\",\"1859-03-01T04:48:00\"],\"y\":[2,11,1,13,12,14,11,5,9,8,5,2,9,20,7,20,7,1],\"type\":\"scatter\"},{\"hoverinfo\":\"text\",\"hovertext\":[\"<b>Topic 5</b><br>Words: insect, shell, cabinet, twelvemonth, acquaintance\",\"<b>Topic 5</b><br>Words: insect, cabinet, shell, arrangement, entomology\",\"<b>Topic 5</b><br>Words: insect, dale, scotland, daplidia, lithonia\",\"<b>Topic 5</b><br>Words: insect, bombyx, larvae, geom, entomology\",\"<b>Topic 5</b><br>Words: insect, entomology, yorkshire, jenyns, obligation\",\"<b>Topic 5</b><br>Words: insect, package, box, valdivia, mat\",\"<b>Topic 5</b><br>Words: anatomie, mollusque, obtain, insect, suggestion\",\"<b>Topic 5</b><br>Words: insect, quadruped, sport, dale, edition\",\"<b>Topic 5</b><br>Words: insect, importation, bueno, berlin, entomology\",\"<b>Topic 5</b><br>Words: nervation, ephemeridae, impression, hawthorne, whorl\",\"<b>Topic 5</b><br>Words: sight, species, moment, insect, entomology\",\"<b>Topic 5</b><br>Words: wasp, cure, turpentine, remedy, nest\",\"<b>Topic 5</b><br>Words: calcium, spue, juice, crustacea, shell\",\"<b>Topic 5</b><br>Words: insect, aphid, bean, egg, beam\",\"<b>Topic 5</b><br>Words: diptera, insect, nest, velleius, entomologist\",\"<b>Topic 5</b><br>Words: fauna, insect, wandering, christmas, accident\",\"<b>Topic 5</b><br>Words: bee, insect, sessile, annelide, swallow\",\"<b>Topic 5</b><br>Words: insect, crustacea, westwood, insecta, entomologist\",\"<b>Topic 5</b><br>Words: entomology, privy, leptorhine, cromwell, insect\",\"<b>Topic 5</b><br>Words: insect, larva, nepticula, moth, entomologist\"],\"marker\":{\"color\":\"#D55E00\"},\"mode\":\"markers\",\"name\":\"5_insect_entomology_wasp_larvae\",\"x\":[\"1818-12-02T13:03:21.600000\",\"1821-01-28T19:12:00\",\"1823-03-12T14:24:00\",\"1825-04-23T09:36:00\",\"1827-06-05T04:48:00\",\"1829-07-17T00:00:00\",\"1831-08-28T19:12:00\",\"1833-10-09T14:24:00\",\"1835-11-21T09:36:00\",\"1838-01-02T04:48:00\",\"1840-02-14T00:00:00\",\"1842-03-27T19:12:00\",\"1844-05-08T14:24:00\",\"1846-06-20T09:36:00\",\"1848-08-01T04:48:00\",\"1850-09-13T00:00:00\",\"1852-10-24T19:12:00\",\"1854-12-06T14:24:00\",\"1857-01-17T09:36:00\",\"1859-03-01T04:48:00\"],\"y\":[5,2,8,15,19,10,2,5,4,3,1,3,1,9,9,4,7,15,4,11],\"type\":\"scatter\"},{\"hoverinfo\":\"text\",\"hovertext\":[\"<b>Topic 6</b><br>Words: spirifer, side, obd, diam, magd\",\"<b>Topic 6</b><br>Words: gr, obd, diam, magd, obedt\",\"<b>Topic 6</b><br>Words: greswall, gresmork, biggs, obd, diam\",\"<b>Topic 6</b><br>Words: magd, obedt, obt, richd, jas\",\"<b>Topic 6</b><br>Words: obd, ewbank, fol, colney, leefe\",\"<b>Topic 6</b><br>Words: arnott, forbyana, gratifying, cand, vit\",\"<b>Topic 6</b><br>Words: fr, sd, obd, diam, obedt\",\"<b>Topic 6</b><br>Words: biog, gen, sp, obd, diam\",\"<b>Topic 6</b><br>Words: zool, prac, sevt, obt, jardine\",\"<b>Topic 6</b><br>Words: daf, schlotheim, jh, zool, quere\",\"<b>Topic 6</b><br>Words: sphenop, aff, foss, obd, diam\",\"<b>Topic 6</b><br>Words: ich, obd, diam, obedt, magd\",\"<b>Topic 6</b><br>Words: anaty, suff, ag, jos, obd\",\"<b>Topic 6</b><br>Words: suff, obd, diam, obedt, magd\",\"<b>Topic 6</b><br>Words: airy, ommission, quy, elschotzia, diam\",\"<b>Topic 6</b><br>Words: anat, annal, chemist, obd, diam\",\"<b>Topic 6</b><br>Words: mam, cor, goosequill, ge, dawe\",\"<b>Topic 6</b><br>Words: diem, resp, maund, jh, ns\",\"<b>Topic 6</b><br>Words: hohenacker, sovreign, mas, obd, dun\",\"<b>Topic 6</b><br>Words: diam, ampney, oran, outang, separation\"],\"marker\":{\"color\":\"#0072B2\"},\"mode\":\"markers\",\"name\":\"6_obd_diam_obedt_magd\",\"x\":[\"1818-12-02T13:03:21.600000\",\"1821-01-28T19:12:00\",\"1823-03-12T14:24:00\",\"1825-04-23T09:36:00\",\"1827-06-05T04:48:00\",\"1829-07-17T00:00:00\",\"1831-08-28T19:12:00\",\"1833-10-09T14:24:00\",\"1835-11-21T09:36:00\",\"1838-01-02T04:48:00\",\"1840-02-14T00:00:00\",\"1842-03-27T19:12:00\",\"1844-05-08T14:24:00\",\"1846-06-20T09:36:00\",\"1848-08-01T04:48:00\",\"1850-09-13T00:00:00\",\"1852-10-24T19:12:00\",\"1854-12-06T14:24:00\",\"1857-01-17T09:36:00\",\"1859-03-01T04:48:00\"],\"y\":[1,1,2,42,11,20,2,3,4,5,3,1,4,1,4,2,8,10,5,6],\"type\":\"scatter\"},{\"hoverinfo\":\"text\",\"hovertext\":[\"<b>Topic 7</b><br>Words: direction, paper, matter, pencil, foot\",\"<b>Topic 7</b><br>Words: pencil, line, foot, ink, paper\",\"<b>Topic 7</b><br>Words: corneum, noake, pin, pencil, bill\",\"<b>Topic 7</b><br>Words: foot, pencil, ink, vinegar, drawing\",\"<b>Topic 7</b><br>Words: boiling, batata, paper, deal, series\",\"<b>Topic 7</b><br>Words: drawing, pencil, prospecti, pleomyxa, desk\",\"<b>Topic 7</b><br>Words: sketch, daubenys, draw, paper, madrid\",\"<b>Topic 7</b><br>Words: assistence, manufacturer, sketch, art, question\",\"<b>Topic 7</b><br>Words: pencil, ink, underl, quotation, sketch\",\"<b>Topic 7</b><br>Words: pencil, drawing, teales, asthma, pub\",\"<b>Topic 7</b><br>Words: chalkstone, erase, transportation, ice, pencil\",\"<b>Topic 7</b><br>Words: lapped, lid, bottom, cause, sketch\",\"<b>Topic 7</b><br>Words: inch, footbone, circumference, guineas, exception\",\"<b>Topic 7</b><br>Words: facilitate, knife, omit, turpentine, wax\",\"<b>Topic 7</b><br>Words: sketch, tendril, planation, physiol, dep\",\"<b>Topic 7</b><br>Words: sin, inch, cubic, straw, max\",\"<b>Topic 7</b><br>Words: hair, scale, bat, toe, shaft\",\"<b>Topic 7</b><br>Words: manufacturer, mill, undertaking, practice, sketch\",\"<b>Topic 7</b><br>Words: length, web, pencil, foot, ink\"],\"marker\":{\"color\":\"#CC79A7\"},\"mode\":\"markers\",\"name\":\"7_pencil_foot_ink_paper\",\"x\":[\"1818-12-02T13:03:21.600000\",\"1821-01-28T19:12:00\",\"1823-03-12T14:24:00\",\"1825-04-23T09:36:00\",\"1827-06-05T04:48:00\",\"1829-07-17T00:00:00\",\"1831-08-28T19:12:00\",\"1835-11-21T09:36:00\",\"1838-01-02T04:48:00\",\"1840-02-14T00:00:00\",\"1842-03-27T19:12:00\",\"1844-05-08T14:24:00\",\"1846-06-20T09:36:00\",\"1848-08-01T04:48:00\",\"1850-09-13T00:00:00\",\"1852-10-24T19:12:00\",\"1854-12-06T14:24:00\",\"1857-01-17T09:36:00\",\"1859-03-01T04:48:00\"],\"y\":[2,1,4,14,3,9,9,1,24,6,4,3,3,4,4,3,18,3,11],\"type\":\"scatter\"},{\"hoverinfo\":\"text\",\"hovertext\":[\"<b>Topic 9</b><br>Words: mot, clark, lecture, course, professor\",\"<b>Topic 9</b><br>Words: sell, martyn, advertising, labor, strike\",\"<b>Topic 9</b><br>Words: lecture, course, professorship, professor, affecty\",\"<b>Topic 9</b><br>Words: lecture, hochstetter, bach, gace, lr\",\"<b>Topic 9</b><br>Words: class, theyit, professorship, professor, bore\",\"<b>Topic 9</b><br>Words: course, creature, agardh, action, introduction\",\"<b>Topic 9</b><br>Words: encouraging, simeon, lecture, professorship, royston\",\"<b>Topic 9</b><br>Words: drudgery, resource, bookseller, lecture, course\",\"<b>Topic 9</b><br>Words: politic, advertising, recourse, lecture, curate\",\"<b>Topic 9</b><br>Words: lecture, agaric, village, shelf, daubeny\",\"<b>Topic 9</b><br>Words: lecture, jugle, washington, theaters, occuping\",\"<b>Topic 9</b><br>Words: consistency, professorship, memorandum, stem, delay\",\"<b>Topic 9</b><br>Words: interested, lecture, astronomy, memorial, airy\",\"<b>Topic 9</b><br>Words: lecture, course, attend, worship, professor\",\"<b>Topic 9</b><br>Words: draft, deighton, trin_coll, tripos, lodge\",\"<b>Topic 9</b><br>Words: lecture, mildenhall, occasion, crossfire, tiresome\",\"<b>Topic 9</b><br>Words: lecture, course, russell, teacher, education\",\"<b>Topic 9</b><br>Words: lecture, particular, learner, philpott, professor\",\"<b>Topic 9</b><br>Words: lecture, concoct, lecturer, palace, opportunity\"],\"marker\":{\"color\":\"#E69F00\"},\"mode\":\"markers\",\"name\":\"9_lecture_course_professor_professorship\",\"x\":[\"1818-12-02T13:03:21.600000\",\"1823-03-12T14:24:00\",\"1825-04-23T09:36:00\",\"1827-06-05T04:48:00\",\"1829-07-17T00:00:00\",\"1831-08-28T19:12:00\",\"1833-10-09T14:24:00\",\"1835-11-21T09:36:00\",\"1838-01-02T04:48:00\",\"1840-02-14T00:00:00\",\"1842-03-27T19:12:00\",\"1844-05-08T14:24:00\",\"1846-06-20T09:36:00\",\"1848-08-01T04:48:00\",\"1850-09-13T00:00:00\",\"1852-10-24T19:12:00\",\"1854-12-06T14:24:00\",\"1857-01-17T09:36:00\",\"1859-03-01T04:48:00\"],\"y\":[1,2,14,6,7,4,3,1,4,4,4,2,2,9,2,9,20,6,14],\"type\":\"scatter\"},{\"hoverinfo\":\"text\",\"hovertext\":[\"<b>Topic 10</b><br>Words: parcell, mead, lambeth, fossils, help\",\"<b>Topic 10</b><br>Words: premium, singular, mineralogist, fossils, norway\",\"<b>Topic 10</b><br>Words: fossil, portland, curve, quarry, rag\",\"<b>Topic 10</b><br>Words: lonsdale, geological_society, fossil, crag, fossils\",\"<b>Topic 10</b><br>Words: fossil, anstice, asterophyllite, fossils, bowman\",\"<b>Topic 10</b><br>Words: fossil, si, livraison, nai, doute\",\"<b>Topic 10</b><br>Words: disintegration, relish, nodules, plesiosaurus, analogy\",\"<b>Topic 10</b><br>Words: fossil, fragment, fondness, mentioning, prove\",\"<b>Topic 10</b><br>Words: parkinson, antediluvian, space, recollection, years_ago\",\"<b>Topic 10</b><br>Words: reptile, dover, decision, inconvenience, fossil\",\"<b>Topic 10</b><br>Words: fossil, miocene, pliocene, coraline, crag\",\"<b>Topic 10</b><br>Words: fossil, ox, bo, metropolis, inclination\",\"<b>Topic 10</b><br>Words: fossil, skull, breed, crag, sus\",\"<b>Topic 10</b><br>Words: fossil, geologist, suture, foramenifera, dumont\",\"<b>Topic 10</b><br>Words: fossil, crag, celt, drift, animal\"],\"marker\":{\"color\":\"#56B4E9\"},\"mode\":\"markers\",\"name\":\"10_fossil_crag_fossils_pleistocene\",\"x\":[\"1818-12-02T13:03:21.600000\",\"1827-06-05T04:48:00\",\"1831-08-28T19:12:00\",\"1833-10-09T14:24:00\",\"1838-01-02T04:48:00\",\"1840-02-14T00:00:00\",\"1842-03-27T19:12:00\",\"1844-05-08T14:24:00\",\"1846-06-20T09:36:00\",\"1848-08-01T04:48:00\",\"1850-09-13T00:00:00\",\"1852-10-24T19:12:00\",\"1854-12-06T14:24:00\",\"1857-01-17T09:36:00\",\"1859-03-01T04:48:00\"],\"y\":[2,1,4,1,16,14,3,5,1,1,9,11,8,10,14],\"type\":\"scatter\"},{\"hoverinfo\":\"text\",\"hovertext\":[\"<b>Topic 12</b><br>Words: coleoptra, specimen, infant, filling, duplicate\",\"<b>Topic 12</b><br>Words: insert, goodness, specimen, result, manner\",\"<b>Topic 12</b><br>Words: specimen, side, one, name, duplicate\",\"<b>Topic 12</b><br>Words: imago, specimen, student, duplicate, subscription\",\"<b>Topic 12</b><br>Words: specimen, subscription, cape, wet, ejection\",\"<b>Topic 12</b><br>Words: specimen, vahlii, teesdale, duplicate, curiosity\",\"<b>Topic 12</b><br>Words: specimen, decay, description, value, unite\",\"<b>Topic 12</b><br>Words: ensure, specimen, consulting, carcarius, troublesome\",\"<b>Topic 12</b><br>Words: specimen, longing, synonym, defect, foss\",\"<b>Topic 12</b><br>Words: specimen, inaccuracy, implement, preface, judgment\",\"<b>Topic 12</b><br>Words: specimen, sacrifice, break, permission, determination\",\"<b>Topic 12</b><br>Words: chance, specimen, duplicate, subscription, description\",\"<b>Topic 12</b><br>Words: tube, duplicate, specimen, subscription, description\",\"<b>Topic 12</b><br>Words: specimen, method, model, group, lignite\",\"<b>Topic 12</b><br>Words: possession, specimen, department, society, duplicate\",\"<b>Topic 12</b><br>Words: specimen, hadleigh_suffolk, forwarding, judge, station\",\"<b>Topic 12</b><br>Words: sneer, specimen, pigeon, detection, discover\"],\"marker\":{\"color\":\"#009E73\"},\"mode\":\"markers\",\"name\":\"12_specimen_duplicate_subscription_descr...\",\"x\":[\"1818-12-02T13:03:21.600000\",\"1821-01-28T19:12:00\",\"1823-03-12T14:24:00\",\"1825-04-23T09:36:00\",\"1827-06-05T04:48:00\",\"1829-07-17T00:00:00\",\"1831-08-28T19:12:00\",\"1833-10-09T14:24:00\",\"1838-01-02T04:48:00\",\"1840-02-14T00:00:00\",\"1844-05-08T14:24:00\",\"1846-06-20T09:36:00\",\"1848-08-01T04:48:00\",\"1850-09-13T00:00:00\",\"1854-12-06T14:24:00\",\"1857-01-17T09:36:00\",\"1859-03-01T04:48:00\"],\"y\":[3,1,4,4,10,17,5,2,7,7,1,1,1,7,2,6,2],\"type\":\"scatter\"},{\"hoverinfo\":\"text\",\"hovertext\":[\"<b>Topic 14</b><br>Words: tenby, dublin, bulwer, summer, edinburgh\",\"<b>Topic 14</b><br>Words: edinburgh, glasgow, dublin, scotland, meeting\",\"<b>Topic 14</b><br>Words: cork, drink, brose, glasgow, atholl\",\"<b>Topic 14</b><br>Words: glasgow, edinburgh, irish, course, dublin\",\"<b>Topic 14</b><br>Words: scotland, glasgow, edinburgh, douglas, arnott\",\"<b>Topic 14</b><br>Words: glasgow, edinburgh, scotland, wentworth, arnott\",\"<b>Topic 14</b><br>Words: camb, edinburgh, dunmany, perplexing, untill\",\"<b>Topic 14</b><br>Words: edinburgh, sportsman, generality, forego, query\",\"<b>Topic 14</b><br>Words: stop, dublin, trust, edinburgh, glasgow\",\"<b>Topic 14</b><br>Words: birmingham, british_association, meeting, edinburgh, glasgow\",\"<b>Topic 14</b><br>Words: univy, meeting, glasgow, august, july\",\"<b>Topic 14</b><br>Words: dublin, manchester, redesdale, meetimg, breakfast\",\"<b>Topic 14</b><br>Words: eclat, brit, association, meeting, edinburgh\",\"<b>Topic 14</b><br>Words: murray, avail, procure, duplicate, edinburgh\",\"<b>Topic 14</b><br>Words: edinburgh, belfast, edinb, british_association, invitation\",\"<b>Topic 14</b><br>Words: scotland, lancashire, cumberland, glasgow, lake\",\"<b>Topic 14</b><br>Words: belfast, lieu, cork, adam, court\",\"<b>Topic 14</b><br>Words: glasgow, meeting, cheltenham, british_association, belfast\",\"<b>Topic 14</b><br>Words: dublin, british_association, meeting, belfast, holywood\",\"<b>Topic 14</b><br>Words: arthur, ill, cd, edinburgh, review\"],\"marker\":{\"color\":\"#F0E442\"},\"mode\":\"markers\",\"name\":\"14_edinburgh_glasgow_dublin_scotland\",\"x\":[\"1818-12-02T13:03:21.600000\",\"1821-01-28T19:12:00\",\"1823-03-12T14:24:00\",\"1825-04-23T09:36:00\",\"1827-06-05T04:48:00\",\"1829-07-17T00:00:00\",\"1831-08-28T19:12:00\",\"1833-10-09T14:24:00\",\"1835-11-21T09:36:00\",\"1838-01-02T04:48:00\",\"1840-02-14T00:00:00\",\"1842-03-27T19:12:00\",\"1844-05-08T14:24:00\",\"1846-06-20T09:36:00\",\"1848-08-01T04:48:00\",\"1850-09-13T00:00:00\",\"1852-10-24T19:12:00\",\"1854-12-06T14:24:00\",\"1857-01-17T09:36:00\",\"1859-03-01T04:48:00\"],\"y\":[1,1,3,7,10,14,2,6,2,1,1,4,1,1,3,2,3,8,7,2],\"type\":\"scatter\"},{\"hoverinfo\":\"text\",\"hovertext\":[\"<b>Topic 8</b><br>Words: correction, comment, certainty, reason, doubt\",\"<b>Topic 8</b><br>Words: certainty, reason, comment, doubt, theory\",\"<b>Topic 8</b><br>Words: reason, inclosure, eleventh, probablynot, con\",\"<b>Topic 8</b><br>Words: diff, inference, content, result, reference\",\"<b>Topic 8</b><br>Words: maderensis, convergent, salice, hist, wrong\",\"<b>Topic 8</b><br>Words: stump, secret, dint, analogy, feature\",\"<b>Topic 8</b><br>Words: confusion, announcement, comment, certainty, reason\",\"<b>Topic 8</b><br>Words: tho, notice, comment, certainty, reason\",\"<b>Topic 8</b><br>Words: uncertainty, disinclination, reproduction, certainty, experience\",\"<b>Topic 8</b><br>Words: conjecture, hint, excuse, doubt, question\",\"<b>Topic 8</b><br>Words: imagination, title, mistake, ask, reply\",\"<b>Topic 8</b><br>Words: riddle, sare, cop, claim, doubt\",\"<b>Topic 8</b><br>Words: forgot, reply, point, certainty, comment\",\"<b>Topic 8</b><br>Words: comment, certainty, approximation, winning, caoutchouc\",\"<b>Topic 8</b><br>Words: certainty, inform, statement, reference, name\",\"<b>Topic 8</b><br>Words: inconsistency, source, hint, information, duplicate\",\"<b>Topic 8</b><br>Words: comment, bur, problem, agate, mind\",\"<b>Topic 8</b><br>Words: philpott, concretion, opinion, remark, inform\",\"<b>Topic 8</b><br>Words: theory, pique, problem, modification, succession\"],\"marker\":{\"color\":\"#D55E00\"},\"mode\":\"markers\",\"name\":\"8_comment_certainty_reason_doubt\",\"x\":[\"1821-01-28T19:12:00\",\"1823-03-12T14:24:00\",\"1825-04-23T09:36:00\",\"1827-06-05T04:48:00\",\"1829-07-17T00:00:00\",\"1831-08-28T19:12:00\",\"1833-10-09T14:24:00\",\"1835-11-21T09:36:00\",\"1838-01-02T04:48:00\",\"1840-02-14T00:00:00\",\"1842-03-27T19:12:00\",\"1844-05-08T14:24:00\",\"1846-06-20T09:36:00\",\"1848-08-01T04:48:00\",\"1850-09-13T00:00:00\",\"1852-10-24T19:12:00\",\"1854-12-06T14:24:00\",\"1857-01-17T09:36:00\",\"1859-03-01T04:48:00\"],\"y\":[1,1,22,5,9,6,3,1,7,4,5,5,2,11,4,5,13,6,15],\"type\":\"scatter\"},{\"hoverinfo\":\"text\",\"hovertext\":[\"<b>Topic 2</b><br>Words: poison, suit, instance, committee, catalogue\",\"<b>Topic 2</b><br>Words: committee, candidate, election, room, name\",\"<b>Topic 2</b><br>Words: cannon, turnwheel, catalogue, leather, messrs\",\"<b>Topic 2</b><br>Words: catalogue, baggage, warehouse, chairman, carriage\",\"<b>Topic 2</b><br>Words: tablet, div, execute, committee, poor\",\"<b>Topic 2</b><br>Words: seat, juster, sex, foreigner, limit\",\"<b>Topic 2</b><br>Words: lose, offend, title, committee, one\",\"<b>Topic 2</b><br>Words: war, top, phil, petition, american\",\"<b>Topic 2</b><br>Words: cha, vessel, title, suit, post\",\"<b>Topic 2</b><br>Words: wll, soc, steward, clements_inn, correspond\",\"<b>Topic 2</b><br>Words: testimonial, hughe, vice_chancellor, carriage, doubt\",\"<b>Topic 2</b><br>Words: whowever, listen, petition, card, majority\",\"<b>Topic 2</b><br>Words: forms, mycology, interference, hawkin, birch\",\"<b>Topic 2</b><br>Words: nomination, cadetship, application, coin, likunder\",\"<b>Topic 2</b><br>Words: committee, candidate, allude, member, viva\",\"<b>Topic 2</b><br>Words: counter, ray, jetton, lauffer, nuremberg\",\"<b>Topic 2</b><br>Words: shoreham, organise, portsmouth, vacancy, announcement\"],\"marker\":{\"color\":\"#0072B2\"},\"mode\":\"markers\",\"name\":\"2_committee_catalogue_candidate_name\",\"x\":[\"1823-03-12T14:24:00\",\"1825-04-23T09:36:00\",\"1827-06-05T04:48:00\",\"1829-07-17T00:00:00\",\"1831-08-28T19:12:00\",\"1833-10-09T14:24:00\",\"1835-11-21T09:36:00\",\"1838-01-02T04:48:00\",\"1840-02-14T00:00:00\",\"1842-03-27T19:12:00\",\"1844-05-08T14:24:00\",\"1848-08-01T04:48:00\",\"1850-09-13T00:00:00\",\"1852-10-24T19:12:00\",\"1854-12-06T14:24:00\",\"1857-01-17T09:36:00\",\"1859-03-01T04:48:00\"],\"y\":[2,61,6,20,7,3,3,4,3,2,2,4,3,11,19,9,6],\"type\":\"scatter\"},{\"hoverinfo\":\"text\",\"hovertext\":[\"<b>Topic 11</b><br>Words: hooker, filicum, icone, suscriber, wurtz\",\"<b>Topic 11</b><br>Words: hooker, magnum, naturelle, publication, greville\",\"<b>Topic 11</b><br>Words: hooker, greville, haldane, twopenny, asubo\",\"<b>Topic 11</b><br>Words: edn, lenticula, publicity, natans, intercourse\",\"<b>Topic 11</b><br>Words: left, learn, hooker, parcel, day\",\"<b>Topic 11</b><br>Words: companion, hooker, zool, miscellany, connection\",\"<b>Topic 11</b><br>Words: hooker, greville, dr, sinclair, miss\",\"<b>Topic 11</b><br>Words: hooker, joseph, miss, room, laboratory\",\"<b>Topic 11</b><br>Words: hooker, cassel, julian, episode, news\",\"<b>Topic 11</b><br>Words: hooker, breast, disquietude, expectant, affte\",\"<b>Topic 11</b><br>Words: hooker, brentford, dawes, griffin, refutation\",\"<b>Topic 11</b><br>Words: hooker, germany, leonard_horner, hack, misunderstood\",\"<b>Topic 11</b><br>Words: hooker, sinclair, fore, geographie, clue\",\"<b>Topic 11</b><br>Words: hooker, migrate, syria, liking, berth\"],\"marker\":{\"color\":\"#CC79A7\"},\"mode\":\"markers\",\"name\":\"11_hooker_greville_dr_sinclair\",\"x\":[\"1825-04-23T09:36:00\",\"1827-06-05T04:48:00\",\"1829-07-17T00:00:00\",\"1831-08-28T19:12:00\",\"1833-10-09T14:24:00\",\"1835-11-21T09:36:00\",\"1844-05-08T14:24:00\",\"1846-06-20T09:36:00\",\"1848-08-01T04:48:00\",\"1850-09-13T00:00:00\",\"1852-10-24T19:12:00\",\"1854-12-06T14:24:00\",\"1857-01-17T09:36:00\",\"1859-03-01T04:48:00\"],\"y\":[4,7,20,2,1,2,1,8,2,5,6,11,8,5],\"type\":\"scatter\"},{\"hoverinfo\":\"text\",\"hovertext\":[\"<b>Topic 13</b><br>Words: vote, election, voter, poll, ensuing_election\",\"<b>Topic 13</b><br>Words: thanking, silence, intelligence, election, cause\",\"<b>Topic 13</b><br>Words: pluralist, pisidium, cryllas, oman, manuscript\",\"<b>Topic 13</b><br>Words: morpeth, walkover, probability, election, west\",\"<b>Topic 13</b><br>Words: minority, poll, cambridge, election, vote\",\"<b>Topic 13</b><br>Words: election, vote, voter, poll, ensuing_election\",\"<b>Topic 13</b><br>Words: grote, forbes, durham, election, mill\",\"<b>Topic 13</b><br>Words: elections, april, election, vote, voter\"],\"marker\":{\"color\":\"#E69F00\"},\"mode\":\"markers\",\"name\":\"13_election_vote_voter_poll\",\"x\":[\"1825-04-23T09:36:00\",\"1829-07-17T00:00:00\",\"1831-08-28T19:12:00\",\"1844-05-08T14:24:00\",\"1848-08-01T04:48:00\",\"1850-09-13T00:00:00\",\"1854-12-06T14:24:00\",\"1859-03-01T04:48:00\"],\"y\":[72,1,1,1,1,1,2,1],\"type\":\"scatter\"}],                        {\"template\":{\"data\":{\"barpolar\":[{\"marker\":{\"line\":{\"color\":\"white\",\"width\":0.5},\"pattern\":{\"fillmode\":\"overlay\",\"size\":10,\"solidity\":0.2}},\"type\":\"barpolar\"}],\"bar\":[{\"error_x\":{\"color\":\"rgb(36,36,36)\"},\"error_y\":{\"color\":\"rgb(36,36,36)\"},\"marker\":{\"line\":{\"color\":\"white\",\"width\":0.5},\"pattern\":{\"fillmode\":\"overlay\",\"size\":10,\"solidity\":0.2}},\"type\":\"bar\"}],\"carpet\":[{\"aaxis\":{\"endlinecolor\":\"rgb(36,36,36)\",\"gridcolor\":\"white\",\"linecolor\":\"white\",\"minorgridcolor\":\"white\",\"startlinecolor\":\"rgb(36,36,36)\"},\"baxis\":{\"endlinecolor\":\"rgb(36,36,36)\",\"gridcolor\":\"white\",\"linecolor\":\"white\",\"minorgridcolor\":\"white\",\"startlinecolor\":\"rgb(36,36,36)\"},\"type\":\"carpet\"}],\"choropleth\":[{\"colorbar\":{\"outlinewidth\":1,\"tickcolor\":\"rgb(36,36,36)\",\"ticks\":\"outside\"},\"type\":\"choropleth\"}],\"contourcarpet\":[{\"colorbar\":{\"outlinewidth\":1,\"tickcolor\":\"rgb(36,36,36)\",\"ticks\":\"outside\"},\"type\":\"contourcarpet\"}],\"contour\":[{\"colorbar\":{\"outlinewidth\":1,\"tickcolor\":\"rgb(36,36,36)\",\"ticks\":\"outside\"},\"colorscale\":[[0.0,\"#440154\"],[0.1111111111111111,\"#482878\"],[0.2222222222222222,\"#3e4989\"],[0.3333333333333333,\"#31688e\"],[0.4444444444444444,\"#26828e\"],[0.5555555555555556,\"#1f9e89\"],[0.6666666666666666,\"#35b779\"],[0.7777777777777778,\"#6ece58\"],[0.8888888888888888,\"#b5de2b\"],[1.0,\"#fde725\"]],\"type\":\"contour\"}],\"heatmapgl\":[{\"colorbar\":{\"outlinewidth\":1,\"tickcolor\":\"rgb(36,36,36)\",\"ticks\":\"outside\"},\"colorscale\":[[0.0,\"#440154\"],[0.1111111111111111,\"#482878\"],[0.2222222222222222,\"#3e4989\"],[0.3333333333333333,\"#31688e\"],[0.4444444444444444,\"#26828e\"],[0.5555555555555556,\"#1f9e89\"],[0.6666666666666666,\"#35b779\"],[0.7777777777777778,\"#6ece58\"],[0.8888888888888888,\"#b5de2b\"],[1.0,\"#fde725\"]],\"type\":\"heatmapgl\"}],\"heatmap\":[{\"colorbar\":{\"outlinewidth\":1,\"tickcolor\":\"rgb(36,36,36)\",\"ticks\":\"outside\"},\"colorscale\":[[0.0,\"#440154\"],[0.1111111111111111,\"#482878\"],[0.2222222222222222,\"#3e4989\"],[0.3333333333333333,\"#31688e\"],[0.4444444444444444,\"#26828e\"],[0.5555555555555556,\"#1f9e89\"],[0.6666666666666666,\"#35b779\"],[0.7777777777777778,\"#6ece58\"],[0.8888888888888888,\"#b5de2b\"],[1.0,\"#fde725\"]],\"type\":\"heatmap\"}],\"histogram2dcontour\":[{\"colorbar\":{\"outlinewidth\":1,\"tickcolor\":\"rgb(36,36,36)\",\"ticks\":\"outside\"},\"colorscale\":[[0.0,\"#440154\"],[0.1111111111111111,\"#482878\"],[0.2222222222222222,\"#3e4989\"],[0.3333333333333333,\"#31688e\"],[0.4444444444444444,\"#26828e\"],[0.5555555555555556,\"#1f9e89\"],[0.6666666666666666,\"#35b779\"],[0.7777777777777778,\"#6ece58\"],[0.8888888888888888,\"#b5de2b\"],[1.0,\"#fde725\"]],\"type\":\"histogram2dcontour\"}],\"histogram2d\":[{\"colorbar\":{\"outlinewidth\":1,\"tickcolor\":\"rgb(36,36,36)\",\"ticks\":\"outside\"},\"colorscale\":[[0.0,\"#440154\"],[0.1111111111111111,\"#482878\"],[0.2222222222222222,\"#3e4989\"],[0.3333333333333333,\"#31688e\"],[0.4444444444444444,\"#26828e\"],[0.5555555555555556,\"#1f9e89\"],[0.6666666666666666,\"#35b779\"],[0.7777777777777778,\"#6ece58\"],[0.8888888888888888,\"#b5de2b\"],[1.0,\"#fde725\"]],\"type\":\"histogram2d\"}],\"histogram\":[{\"marker\":{\"line\":{\"color\":\"white\",\"width\":0.6}},\"type\":\"histogram\"}],\"mesh3d\":[{\"colorbar\":{\"outlinewidth\":1,\"tickcolor\":\"rgb(36,36,36)\",\"ticks\":\"outside\"},\"type\":\"mesh3d\"}],\"parcoords\":[{\"line\":{\"colorbar\":{\"outlinewidth\":1,\"tickcolor\":\"rgb(36,36,36)\",\"ticks\":\"outside\"}},\"type\":\"parcoords\"}],\"pie\":[{\"automargin\":true,\"type\":\"pie\"}],\"scatter3d\":[{\"line\":{\"colorbar\":{\"outlinewidth\":1,\"tickcolor\":\"rgb(36,36,36)\",\"ticks\":\"outside\"}},\"marker\":{\"colorbar\":{\"outlinewidth\":1,\"tickcolor\":\"rgb(36,36,36)\",\"ticks\":\"outside\"}},\"type\":\"scatter3d\"}],\"scattercarpet\":[{\"marker\":{\"colorbar\":{\"outlinewidth\":1,\"tickcolor\":\"rgb(36,36,36)\",\"ticks\":\"outside\"}},\"type\":\"scattercarpet\"}],\"scattergeo\":[{\"marker\":{\"colorbar\":{\"outlinewidth\":1,\"tickcolor\":\"rgb(36,36,36)\",\"ticks\":\"outside\"}},\"type\":\"scattergeo\"}],\"scattergl\":[{\"marker\":{\"colorbar\":{\"outlinewidth\":1,\"tickcolor\":\"rgb(36,36,36)\",\"ticks\":\"outside\"}},\"type\":\"scattergl\"}],\"scattermapbox\":[{\"marker\":{\"colorbar\":{\"outlinewidth\":1,\"tickcolor\":\"rgb(36,36,36)\",\"ticks\":\"outside\"}},\"type\":\"scattermapbox\"}],\"scatterpolargl\":[{\"marker\":{\"colorbar\":{\"outlinewidth\":1,\"tickcolor\":\"rgb(36,36,36)\",\"ticks\":\"outside\"}},\"type\":\"scatterpolargl\"}],\"scatterpolar\":[{\"marker\":{\"colorbar\":{\"outlinewidth\":1,\"tickcolor\":\"rgb(36,36,36)\",\"ticks\":\"outside\"}},\"type\":\"scatterpolar\"}],\"scatter\":[{\"fillpattern\":{\"fillmode\":\"overlay\",\"size\":10,\"solidity\":0.2},\"type\":\"scatter\"}],\"scatterternary\":[{\"marker\":{\"colorbar\":{\"outlinewidth\":1,\"tickcolor\":\"rgb(36,36,36)\",\"ticks\":\"outside\"}},\"type\":\"scatterternary\"}],\"surface\":[{\"colorbar\":{\"outlinewidth\":1,\"tickcolor\":\"rgb(36,36,36)\",\"ticks\":\"outside\"},\"colorscale\":[[0.0,\"#440154\"],[0.1111111111111111,\"#482878\"],[0.2222222222222222,\"#3e4989\"],[0.3333333333333333,\"#31688e\"],[0.4444444444444444,\"#26828e\"],[0.5555555555555556,\"#1f9e89\"],[0.6666666666666666,\"#35b779\"],[0.7777777777777778,\"#6ece58\"],[0.8888888888888888,\"#b5de2b\"],[1.0,\"#fde725\"]],\"type\":\"surface\"}],\"table\":[{\"cells\":{\"fill\":{\"color\":\"rgb(237,237,237)\"},\"line\":{\"color\":\"white\"}},\"header\":{\"fill\":{\"color\":\"rgb(217,217,217)\"},\"line\":{\"color\":\"white\"}},\"type\":\"table\"}]},\"layout\":{\"annotationdefaults\":{\"arrowhead\":0,\"arrowwidth\":1},\"autotypenumbers\":\"strict\",\"coloraxis\":{\"colorbar\":{\"outlinewidth\":1,\"tickcolor\":\"rgb(36,36,36)\",\"ticks\":\"outside\"}},\"colorscale\":{\"diverging\":[[0.0,\"rgb(103,0,31)\"],[0.1,\"rgb(178,24,43)\"],[0.2,\"rgb(214,96,77)\"],[0.3,\"rgb(244,165,130)\"],[0.4,\"rgb(253,219,199)\"],[0.5,\"rgb(247,247,247)\"],[0.6,\"rgb(209,229,240)\"],[0.7,\"rgb(146,197,222)\"],[0.8,\"rgb(67,147,195)\"],[0.9,\"rgb(33,102,172)\"],[1.0,\"rgb(5,48,97)\"]],\"sequential\":[[0.0,\"#440154\"],[0.1111111111111111,\"#482878\"],[0.2222222222222222,\"#3e4989\"],[0.3333333333333333,\"#31688e\"],[0.4444444444444444,\"#26828e\"],[0.5555555555555556,\"#1f9e89\"],[0.6666666666666666,\"#35b779\"],[0.7777777777777778,\"#6ece58\"],[0.8888888888888888,\"#b5de2b\"],[1.0,\"#fde725\"]],\"sequentialminus\":[[0.0,\"#440154\"],[0.1111111111111111,\"#482878\"],[0.2222222222222222,\"#3e4989\"],[0.3333333333333333,\"#31688e\"],[0.4444444444444444,\"#26828e\"],[0.5555555555555556,\"#1f9e89\"],[0.6666666666666666,\"#35b779\"],[0.7777777777777778,\"#6ece58\"],[0.8888888888888888,\"#b5de2b\"],[1.0,\"#fde725\"]]},\"colorway\":[\"#1F77B4\",\"#FF7F0E\",\"#2CA02C\",\"#D62728\",\"#9467BD\",\"#8C564B\",\"#E377C2\",\"#7F7F7F\",\"#BCBD22\",\"#17BECF\"],\"font\":{\"color\":\"rgb(36,36,36)\"},\"geo\":{\"bgcolor\":\"white\",\"lakecolor\":\"white\",\"landcolor\":\"white\",\"showlakes\":true,\"showland\":true,\"subunitcolor\":\"white\"},\"hoverlabel\":{\"align\":\"left\"},\"hovermode\":\"closest\",\"mapbox\":{\"style\":\"light\"},\"paper_bgcolor\":\"white\",\"plot_bgcolor\":\"white\",\"polar\":{\"angularaxis\":{\"gridcolor\":\"rgb(232,232,232)\",\"linecolor\":\"rgb(36,36,36)\",\"showgrid\":false,\"showline\":true,\"ticks\":\"outside\"},\"bgcolor\":\"white\",\"radialaxis\":{\"gridcolor\":\"rgb(232,232,232)\",\"linecolor\":\"rgb(36,36,36)\",\"showgrid\":false,\"showline\":true,\"ticks\":\"outside\"}},\"scene\":{\"xaxis\":{\"backgroundcolor\":\"white\",\"gridcolor\":\"rgb(232,232,232)\",\"gridwidth\":2,\"linecolor\":\"rgb(36,36,36)\",\"showbackground\":true,\"showgrid\":false,\"showline\":true,\"ticks\":\"outside\",\"zeroline\":false,\"zerolinecolor\":\"rgb(36,36,36)\"},\"yaxis\":{\"backgroundcolor\":\"white\",\"gridcolor\":\"rgb(232,232,232)\",\"gridwidth\":2,\"linecolor\":\"rgb(36,36,36)\",\"showbackground\":true,\"showgrid\":false,\"showline\":true,\"ticks\":\"outside\",\"zeroline\":false,\"zerolinecolor\":\"rgb(36,36,36)\"},\"zaxis\":{\"backgroundcolor\":\"white\",\"gridcolor\":\"rgb(232,232,232)\",\"gridwidth\":2,\"linecolor\":\"rgb(36,36,36)\",\"showbackground\":true,\"showgrid\":false,\"showline\":true,\"ticks\":\"outside\",\"zeroline\":false,\"zerolinecolor\":\"rgb(36,36,36)\"}},\"shapedefaults\":{\"fillcolor\":\"black\",\"line\":{\"width\":0},\"opacity\":0.3},\"ternary\":{\"aaxis\":{\"gridcolor\":\"rgb(232,232,232)\",\"linecolor\":\"rgb(36,36,36)\",\"showgrid\":false,\"showline\":true,\"ticks\":\"outside\"},\"baxis\":{\"gridcolor\":\"rgb(232,232,232)\",\"linecolor\":\"rgb(36,36,36)\",\"showgrid\":false,\"showline\":true,\"ticks\":\"outside\"},\"bgcolor\":\"white\",\"caxis\":{\"gridcolor\":\"rgb(232,232,232)\",\"linecolor\":\"rgb(36,36,36)\",\"showgrid\":false,\"showline\":true,\"ticks\":\"outside\"}},\"title\":{\"x\":0.05},\"xaxis\":{\"automargin\":true,\"gridcolor\":\"rgb(232,232,232)\",\"linecolor\":\"rgb(36,36,36)\",\"showgrid\":false,\"showline\":true,\"ticks\":\"outside\",\"title\":{\"standoff\":15},\"zeroline\":false,\"zerolinecolor\":\"rgb(36,36,36)\"},\"yaxis\":{\"automargin\":true,\"gridcolor\":\"rgb(232,232,232)\",\"linecolor\":\"rgb(36,36,36)\",\"showgrid\":false,\"showline\":true,\"ticks\":\"outside\",\"title\":{\"standoff\":15},\"zeroline\":false,\"zerolinecolor\":\"rgb(36,36,36)\"}}},\"xaxis\":{\"showgrid\":true},\"yaxis\":{\"showgrid\":true,\"title\":{\"text\":\"Count\"}},\"title\":{\"font\":{\"size\":22,\"color\":\"Black\"},\"text\":\"<b>Topics over Time\",\"y\":0.95,\"x\":0.4,\"xanchor\":\"center\",\"yanchor\":\"top\"},\"hoverlabel\":{\"font\":{\"size\":16,\"family\":\"Rockwell\"},\"bgcolor\":\"white\"},\"width\":1000,\"height\":500,\"legend\":{\"title\":{\"text\":\"<b>Global Topic Representation\"}}},                        {\"responsive\": true}                    ).then(function(){\n",
       "                            \n",
       "var gd = document.getElementById('710f107f-b68a-41a9-a942-25cdce1c78e7');\n",
       "var x = new MutationObserver(function (mutations, observer) {{\n",
       "        var display = window.getComputedStyle(gd).display;\n",
       "        if (!display || display === 'none') {{\n",
       "            console.log([gd, 'removed!']);\n",
       "            Plotly.purge(gd);\n",
       "            observer.disconnect();\n",
       "        }}\n",
       "}});\n",
       "\n",
       "// Listen for the removal of the full notebook cells\n",
       "var notebookContainer = gd.closest('#notebook-container');\n",
       "if (notebookContainer) {{\n",
       "    x.observe(notebookContainer, {childList: true});\n",
       "}}\n",
       "\n",
       "// Listen for the clearing of the current output cell\n",
       "var outputEl = gd.closest('.output');\n",
       "if (outputEl) {{\n",
       "    x.observe(outputEl, {childList: true});\n",
       "}}\n",
       "\n",
       "                        })                };                });            </script>        </div>"
      ]
     },
     "metadata": {},
     "output_type": "display_data"
    }
   ],
   "source": [
    "all_vis_obj = bertopic_time(sent_df, topic_model)\n",
    "all_vis = all_vis_obj[0]\n",
    "all_vis"
   ]
  },
  {
   "cell_type": "markdown",
   "id": "e8216285",
   "metadata": {},
   "source": [
    "Create visualisation of topics over time for 1920s letters using bertopic_time function."
   ]
  },
  {
   "cell_type": "code",
   "execution_count": 15,
   "id": "a8966054",
   "metadata": {},
   "outputs": [
    {
     "data": {
      "application/vnd.plotly.v1+json": {
       "config": {
        "plotlyServerURL": "https://plot.ly"
       },
       "data": [
        {
         "hoverinfo": "text",
         "hovertext": [
          "<b>Topic 0</b><br>Words: entrochi, complanatus, tubipore, scoria, punctatus",
          "<b>Topic 0</b><br>Words: gap, coleoptra, filling, wd, specimen",
          "<b>Topic 0</b><br>Words: ny, liry, mis, bridge, athol",
          "<b>Topic 0</b><br>Words: potash, insert, goodness, manner, result",
          "<b>Topic 0</b><br>Words: verna, fruticosa, lutea, plant, pustulata",
          "<b>Topic 0</b><br>Words: sphaerium, granchester, scot, benger, schillers",
          "<b>Topic 0</b><br>Words: lathyrus, plant, country, duplicate, schoenus",
          "<b>Topic 0</b><br>Words: plant, specimen, violaceum, veris, exotic",
          "<b>Topic 0</b><br>Words: marit, mile, side, specimen, tenuiflorus",
          "<b>Topic 0</b><br>Words: plant, specimen, manufactury, president, matrocaria",
          "<b>Topic 0</b><br>Words: plant, specimen, flora, english, speciman",
          "<b>Topic 0</b><br>Words: plant, specimen, seed, girl, verna",
          "<b>Topic 0</b><br>Words: plant, specimen, holland, palustris, speciman",
          "<b>Topic 0</b><br>Words: foot, botany, specimen, plant, lecture",
          "<b>Topic 0</b><br>Words: plant, specimen, campanula, seed, palustris",
          "<b>Topic 0</b><br>Words: plant, specimen, jenyn, vulgaris, flora",
          "<b>Topic 0</b><br>Words: specimen, acceptance, teucrium, duplicate, lactuca",
          "<b>Topic 0</b><br>Words: god, maritimum, alisma, plant, scripture",
          "<b>Topic 0</b><br>Words: arvensis, plant, vulgaris, specimen, palustris"
         ],
         "marker": {
          "color": "#E69F00"
         },
         "mode": "markers",
         "name": "0_plant_specimen_arvensis_vulgaris",
         "type": "scatter",
         "x": [
          "1819-12-28T08:49:55.200000",
          "1820-06-30T14:24:00",
          "1820-12-29T04:48:00",
          "1821-06-28T19:12:00",
          "1822-06-27T00:00:00",
          "1822-12-25T14:24:00",
          "1823-06-25T04:48:00",
          "1823-12-23T19:12:00",
          "1824-06-22T09:36:00",
          "1824-12-21T00:00:00",
          "1825-06-20T14:24:00",
          "1825-12-19T04:48:00",
          "1826-06-18T19:12:00",
          "1826-12-17T09:36:00",
          "1827-06-17T00:00:00",
          "1827-12-15T14:24:00",
          "1828-06-14T04:48:00",
          "1828-12-12T19:12:00",
          "1829-06-12T09:36:00"
         ],
         "y": [
          5,
          2,
          1,
          2,
          7,
          6,
          3,
          15,
          13,
          7,
          32,
          38,
          29,
          39,
          33,
          34,
          25,
          20,
          49
         ]
        },
        {
         "hoverinfo": "text",
         "hovertext": [
          "<b>Topic 1</b><br>Words: martin, shd, meeting, copley, palmerston",
          "<b>Topic 1</b><br>Words: happen, wd, half, transaction, volume",
          "<b>Topic 1</b><br>Words: fig, reference, expectation, vol, line",
          "<b>Topic 1</b><br>Words: clarke, copley, palmerston, banke, plumper",
          "<b>Topic 1</b><br>Words: gr, copley, palmerston, banke, plumper",
          "<b>Topic 1</b><br>Words: suspect, geo, harrison, jermyn, pera",
          "<b>Topic 1</b><br>Words: campbell, gresmork, greswall, copley, palmerston",
          "<b>Topic 1</b><br>Words: shell, mistake, trust, illeg, copley",
          "<b>Topic 1</b><br>Words: chronicle, remembrances, jennings, observe, journal",
          "<b>Topic 1</b><br>Words: copley, sult, palmerstone, watfield, moity",
          "<b>Topic 1</b><br>Words: copley, palmerston, banke, plumper, johns",
          "<b>Topic 1</b><br>Words: copley, godson, goulburn, note, hawkinson",
          "<b>Topic 1</b><br>Words: juin, samedi, enc, lhonneur, mercredi",
          "<b>Topic 1</b><br>Words: sh, convolv, swinton, nr, copley",
          "<b>Topic 1</b><br>Words: rob, edinr, sterl, fol, hert",
          "<b>Topic 1</b><br>Words: vol, gaillon, lich, rehlan, leyland",
          "<b>Topic 1</b><br>Words: sh, humb, misunderstand, oblige, baxter",
          "<b>Topic 1</b><br>Words: sh, dalton, ja, trinity, coll"
         ],
         "marker": {
          "color": "#56B4E9"
         },
         "mode": "markers",
         "name": "1_copley_palmerston_banke_plumper",
         "type": "scatter",
         "x": [
          "1819-12-28T08:49:55.200000",
          "1820-06-30T14:24:00",
          "1820-12-29T04:48:00",
          "1821-06-28T19:12:00",
          "1822-06-27T00:00:00",
          "1822-12-25T14:24:00",
          "1823-12-23T19:12:00",
          "1824-06-22T09:36:00",
          "1824-12-21T00:00:00",
          "1825-06-20T14:24:00",
          "1825-12-19T04:48:00",
          "1826-06-18T19:12:00",
          "1826-12-17T09:36:00",
          "1827-06-17T00:00:00",
          "1827-12-15T14:24:00",
          "1828-06-14T04:48:00",
          "1828-12-12T19:12:00",
          "1829-06-12T09:36:00"
         ],
         "y": [
          2,
          2,
          2,
          1,
          1,
          4,
          2,
          1,
          1,
          11,
          181,
          10,
          8,
          4,
          11,
          9,
          6,
          4
         ]
        },
        {
         "hoverinfo": "text",
         "hovertext": [
          "<b>Topic 2</b><br>Words: thank, promise, circumstance, kindness, interest",
          "<b>Topic 2</b><br>Words: correction, promise, circumstance, kindness, interest",
          "<b>Topic 2</b><br>Words: confer, favour, attention, promise, circumstance",
          "<b>Topic 2</b><br>Words: payment, salary, transmit, requisite, lord",
          "<b>Topic 2</b><br>Words: hve, honor, reason, respect, circumstance",
          "<b>Topic 2</b><br>Words: guinea, member, certainty, happiness, welfare",
          "<b>Topic 2</b><br>Words: word, other, ramble, bud, monograph",
          "<b>Topic 2</b><br>Words: esprit, corps, negligence, motive, obligation",
          "<b>Topic 2</b><br>Words: promise, intention, news, opinion, sentiment",
          "<b>Topic 2</b><br>Words: uniformity, permission, probablynot, ramsay, langham",
          "<b>Topic 2</b><br>Words: per_annum, interest, one, ab, allowance",
          "<b>Topic 2</b><br>Words: coral, thinking, rself, suggestion, content",
          "<b>Topic 2</b><br>Words: subscription, share, value, union, result",
          "<b>Topic 2</b><br>Words: depredator, intrusion, oxymus, balance, diff",
          "<b>Topic 2</b><br>Words: expence, circumstance, philos_soc, ch, fund",
          "<b>Topic 2</b><br>Words: introduction, kindness, society, opinion, point"
         ],
         "marker": {
          "color": "#009E73"
         },
         "mode": "markers",
         "name": "2_promise_circumstance_kindness_interest",
         "type": "scatter",
         "x": [
          "1819-12-28T08:49:55.200000",
          "1820-12-29T04:48:00",
          "1822-06-27T00:00:00",
          "1822-12-25T14:24:00",
          "1823-06-25T04:48:00",
          "1823-12-23T19:12:00",
          "1824-06-22T09:36:00",
          "1825-06-20T14:24:00",
          "1825-12-19T04:48:00",
          "1826-06-18T19:12:00",
          "1826-12-17T09:36:00",
          "1827-06-17T00:00:00",
          "1827-12-15T14:24:00",
          "1828-06-14T04:48:00",
          "1828-12-12T19:12:00",
          "1829-06-12T09:36:00"
         ],
         "y": [
          1,
          1,
          1,
          1,
          1,
          4,
          5,
          5,
          65,
          7,
          11,
          4,
          19,
          8,
          30,
          18
         ]
        },
        {
         "hoverinfo": "text",
         "hovertext": [
          "<b>Topic 3</b><br>Words: summer, reopen, locality, tenby, dublin",
          "<b>Topic 3</b><br>Words: summer, conocephali, bulwer, season, england",
          "<b>Topic 3</b><br>Words: press, society, business, cambridge, london",
          "<b>Topic 3</b><br>Words: morning, easter, fenny, midst, tribe",
          "<b>Topic 3</b><br>Words: prince, curiosity, casiati, cimitile, coates",
          "<b>Topic 3</b><br>Words: rejoice, remove, bath, well, siccus",
          "<b>Topic 3</b><br>Words: april, ordination, clock, order, candidate",
          "<b>Topic 3</b><br>Words: time, music, sleep, band, theatre",
          "<b>Topic 3</b><br>Words: cty, profusion, affection, overleaf, stylop",
          "<b>Topic 3</b><br>Words: cambridge, bore, sorrento, irish, gasp",
          "<b>Topic 3</b><br>Words: cambridge, bristol, london, day, morning",
          "<b>Topic 3</b><br>Words: market, cambridge, chapel, morning, shot",
          "<b>Topic 3</b><br>Words: day, magdalen, soho, rothsay, bute",
          "<b>Topic 3</b><br>Words: sidmouth, september, quarter, leonard, residence",
          "<b>Topic 3</b><br>Words: cambridge, sidmouth, bachelorship, climate, winter",
          "<b>Topic 3</b><br>Words: side, margate, tor, wonder, dominica",
          "<b>Topic 3</b><br>Words: scotland, london, day, vicinity, arnott",
          "<b>Topic 3</b><br>Words: croft, welcome, north, day, cambridge"
         ],
         "marker": {
          "color": "#F0E442"
         },
         "mode": "markers",
         "name": "3_cambridge_london_day_morning",
         "type": "scatter",
         "x": [
          "1819-12-28T08:49:55.200000",
          "1820-06-30T14:24:00",
          "1820-12-29T04:48:00",
          "1821-06-28T19:12:00",
          "1822-06-27T00:00:00",
          "1823-06-25T04:48:00",
          "1823-12-23T19:12:00",
          "1824-06-22T09:36:00",
          "1824-12-21T00:00:00",
          "1825-06-20T14:24:00",
          "1825-12-19T04:48:00",
          "1826-06-18T19:12:00",
          "1826-12-17T09:36:00",
          "1827-06-17T00:00:00",
          "1827-12-15T14:24:00",
          "1828-06-14T04:48:00",
          "1828-12-12T19:12:00",
          "1829-06-12T09:36:00"
         ],
         "y": [
          5,
          3,
          1,
          4,
          2,
          1,
          1,
          5,
          5,
          5,
          59,
          15,
          6,
          3,
          17,
          9,
          13,
          8
         ]
        },
        {
         "hoverinfo": "text",
         "hovertext": [
          "<b>Topic 5</b><br>Words: pt, tran, sowerby, lin, pupil",
          "<b>Topic 5</b><br>Words: regulation, volume, matter, paper, name",
          "<b>Topic 5</b><br>Words: pencil, line, hooker, plate, paper",
          "<b>Topic 5</b><br>Words: corneum, twopeny, drawing, hooker, pencil",
          "<b>Topic 5</b><br>Words: draw, mule, phil_soc, pencil, paper",
          "<b>Topic 5</b><br>Words: official, printer, cause, pursuit, study",
          "<b>Topic 5</b><br>Words: pencil, vinegar, hooker, ink, tincture",
          "<b>Topic 5</b><br>Words: birch, paper, bundle, pencil, recollect",
          "<b>Topic 5</b><br>Words: philosophical, turner, journal, print, page",
          "<b>Topic 5</b><br>Words: hooker, illustration, plate, drawing, folio",
          "<b>Topic 5</b><br>Words: plate, hooker, illiger, frame, colour",
          "<b>Topic 5</b><br>Words: paper, hooker, summon, series, plate",
          "<b>Topic 5</b><br>Words: hooker, system, hand, engraver, naturelle",
          "<b>Topic 5</b><br>Words: ii, blemish, printer, miscellany, outline",
          "<b>Topic 5</b><br>Words: hooker, pencil, plate, illustration, brewster"
         ],
         "marker": {
          "color": "#D55E00"
         },
         "mode": "markers",
         "name": "5_hooker_pencil_plate_paper",
         "type": "scatter",
         "x": [
          "1819-12-28T08:49:55.200000",
          "1820-06-30T14:24:00",
          "1820-12-29T04:48:00",
          "1822-12-25T14:24:00",
          "1823-12-23T19:12:00",
          "1824-06-22T09:36:00",
          "1825-06-20T14:24:00",
          "1825-12-19T04:48:00",
          "1826-06-18T19:12:00",
          "1826-12-17T09:36:00",
          "1827-06-17T00:00:00",
          "1827-12-15T14:24:00",
          "1828-06-14T04:48:00",
          "1828-12-12T19:12:00",
          "1829-06-12T09:36:00"
         ],
         "y": [
          2,
          2,
          1,
          2,
          2,
          1,
          10,
          5,
          2,
          14,
          4,
          5,
          5,
          5,
          14
         ]
        },
        {
         "hoverinfo": "text",
         "hovertext": [
          "<b>Topic 6</b><br>Words: arrange, soc, insect, shell, dale",
          "<b>Topic 6</b><br>Words: insect, cabinet, fen, necessy, twelvemonth",
          "<b>Topic 6</b><br>Words: insect, cabinet, shell, arrangement, bird",
          "<b>Topic 6</b><br>Words: bittern, peregrine, divinity, leadbeatter, buzzard",
          "<b>Topic 6</b><br>Words: bird, generation, fancier, mule, cross",
          "<b>Topic 6</b><br>Words: larvae, neighbourhood, insect, bird, entomology",
          "<b>Topic 6</b><br>Words: insect, town, foeniculum, anniversary, aenethum",
          "<b>Topic 6</b><br>Words: physician, poison, palermo, shop, insect",
          "<b>Topic 6</b><br>Words: insect, bird, larvae, bombyx, geom",
          "<b>Topic 6</b><br>Words: insect, bird, mouse, melbourne, insectivori",
          "<b>Topic 6</b><br>Words: mollusca, land, procure, insect, bird",
          "<b>Topic 6</b><br>Words: insect, obligation, bird, grove, lisson",
          "<b>Topic 6</b><br>Words: insect, member, woods, locust, hunted",
          "<b>Topic 6</b><br>Words: insect, entomology, study, bird, conchology",
          "<b>Topic 6</b><br>Words: insect, entomology, jenyns, rev, prop",
          "<b>Topic 6</b><br>Words: bird, vessel, philo, direct, box"
         ],
         "marker": {
          "color": "#0072B2"
         },
         "mode": "markers",
         "name": "6_insect_bird_entomology_shell",
         "type": "scatter",
         "x": [
          "1819-12-28T08:49:55.200000",
          "1820-06-30T14:24:00",
          "1820-12-29T04:48:00",
          "1822-12-25T14:24:00",
          "1823-12-23T19:12:00",
          "1824-06-22T09:36:00",
          "1824-12-21T00:00:00",
          "1825-06-20T14:24:00",
          "1825-12-19T04:48:00",
          "1826-06-18T19:12:00",
          "1826-12-17T09:36:00",
          "1827-06-17T00:00:00",
          "1827-12-15T14:24:00",
          "1828-06-14T04:48:00",
          "1828-12-12T19:12:00",
          "1829-06-12T09:36:00"
         ],
         "y": [
          1,
          3,
          2,
          3,
          2,
          1,
          4,
          1,
          9,
          10,
          1,
          6,
          5,
          8,
          5,
          2
         ]
        },
        {
         "hoverinfo": "text",
         "hovertext": [
          "<b>Topic 9</b><br>Words: clark, mot, lecture, class, course",
          "<b>Topic 9</b><br>Words: course, malthus, inclined, persue, policy",
          "<b>Topic 9</b><br>Words: exception, labour, august, lecture, class",
          "<b>Topic 9</b><br>Words: lecture, class, course, classroom, lecturer",
          "<b>Topic 9</b><br>Words: class, course, lecture, commence, portion",
          "<b>Topic 9</b><br>Words: class, sacrament, audience, gace, lecture",
          "<b>Topic 9</b><br>Words: admiration, scholar, teaching, method, estimate"
         ],
         "marker": {
          "color": "#CC79A7"
         },
         "mode": "markers",
         "name": "9_lecture_class_course_method",
         "type": "scatter",
         "x": [
          "1819-12-28T08:49:55.200000",
          "1825-12-19T04:48:00",
          "1826-06-18T19:12:00",
          "1826-12-17T09:36:00",
          "1827-12-15T14:24:00",
          "1828-12-12T19:12:00",
          "1829-06-12T09:36:00"
         ],
         "y": [
          1,
          3,
          1,
          11,
          3,
          2,
          3
         ]
        },
        {
         "hoverinfo": "text",
         "hovertext": [
          "<b>Topic 8</b><br>Words: deluvium, colours, diluvium, murray, port",
          "<b>Topic 8</b><br>Words: crystal, lime, acid, alumina, iron",
          "<b>Topic 8</b><br>Words: mineralogical, book, morning, lime, crystal",
          "<b>Topic 8</b><br>Words: felspar, lid, crystal, lime, alumina",
          "<b>Topic 8</b><br>Words: coke, spar, interstice, coley, basaltic",
          "<b>Topic 8</b><br>Words: cavern, slay, partition, granite, thereabout",
          "<b>Topic 8</b><br>Words: glass, color, shell, interruption, loftyhouse",
          "<b>Topic 8</b><br>Words: lime, chalk, iron_alumina, oxide, essex",
          "<b>Topic 8</b><br>Words: gracedieu, slate, limestone, soil, rock"
         ],
         "marker": {
          "color": "#E69F00"
         },
         "mode": "markers",
         "name": "8_lime_crystal_acid_alumina",
         "type": "scatter",
         "x": [
          "1820-12-29T04:48:00",
          "1821-06-28T19:12:00",
          "1822-06-27T00:00:00",
          "1822-12-25T14:24:00",
          "1823-12-23T19:12:00",
          "1825-12-19T04:48:00",
          "1826-12-17T09:36:00",
          "1827-12-15T14:24:00",
          "1829-06-12T09:36:00"
         ],
         "y": [
          1,
          11,
          1,
          1,
          1,
          1,
          5,
          7,
          1
         ]
        },
        {
         "hoverinfo": "text",
         "hovertext": [
          "<b>Topic 11</b><br>Words: speciman, specie, spec, variety, gracilis",
          "<b>Topic 11</b><br>Words: analcine, variety, specie, spec, speciman",
          "<b>Topic 11</b><br>Words: specie, collection, spec, variety, speciman",
          "<b>Topic 11</b><br>Words: variety, specie, instance, spec, speciman",
          "<b>Topic 11</b><br>Words: specie, spec, variety, speciman, gracilis",
          "<b>Topic 11</b><br>Words: stevens, specie, speciman, garden, plant",
          "<b>Topic 11</b><br>Words: gracilis, speciman, specie, plantation, chara",
          "<b>Topic 11</b><br>Words: spec, cam, specie, box, word",
          "<b>Topic 11</b><br>Words: spec_ns, specie, spec, variety, speciman",
          "<b>Topic 11</b><br>Words: grow, specie, spec, variety, speciman",
          "<b>Topic 11</b><br>Words: specie, contemplation, courage, bath, garden",
          "<b>Topic 11</b><br>Words: spec, specie, variety, speciman, gracilis",
          "<b>Topic 11</b><br>Words: spec, sight, affinity, exotic, box"
         ],
         "marker": {
          "color": "#56B4E9"
         },
         "mode": "markers",
         "name": "11_specie_spec_variety_speciman",
         "type": "scatter",
         "x": [
          "1820-12-29T04:48:00",
          "1821-06-28T19:12:00",
          "1822-12-25T14:24:00",
          "1823-12-23T19:12:00",
          "1825-06-20T14:24:00",
          "1825-12-19T04:48:00",
          "1826-06-18T19:12:00",
          "1826-12-17T09:36:00",
          "1827-06-17T00:00:00",
          "1827-12-15T14:24:00",
          "1828-06-14T04:48:00",
          "1828-12-12T19:12:00",
          "1829-06-12T09:36:00"
         ],
         "y": [
          1,
          1,
          1,
          1,
          1,
          2,
          4,
          2,
          1,
          1,
          2,
          1,
          4
         ]
        },
        {
         "hoverinfo": "text",
         "hovertext": [
          "<b>Topic 10</b><br>Words: leonard, december, march, feb, july",
          "<b>Topic 10</b><br>Words: leonard, january, information, march, feb",
          "<b>Topic 10</b><br>Words: march, obliging, feb, tenby, ely",
          "<b>Topic 10</b><br>Words: july, march, feb, leonard, december",
          "<b>Topic 10</b><br>Words: feb, march, army, tue, camb",
          "<b>Topic 10</b><br>Words: march, feb, leonard, december, july",
          "<b>Topic 10</b><br>Words: edinbr, march, january, month, feb",
          "<b>Topic 10</b><br>Words: march, retain, require, possibility, length",
          "<b>Topic 10</b><br>Words: march, thank, feb, leonard, december",
          "<b>Topic 10</b><br>Words: departure, december, march, feb, leonard"
         ],
         "marker": {
          "color": "#009E73"
         },
         "mode": "markers",
         "name": "10_march_feb_leonard_december",
         "type": "scatter",
         "x": [
          "1822-06-27T00:00:00",
          "1822-12-25T14:24:00",
          "1823-12-23T19:12:00",
          "1825-06-20T14:24:00",
          "1825-12-19T04:48:00",
          "1826-06-18T19:12:00",
          "1826-12-17T09:36:00",
          "1827-06-17T00:00:00",
          "1827-12-15T14:24:00",
          "1829-06-12T09:36:00"
         ],
         "y": [
          1,
          1,
          2,
          1,
          12,
          1,
          2,
          2,
          1,
          1
         ]
        },
        {
         "hoverinfo": "text",
         "hovertext": [
          "<b>Topic 4</b><br>Words: curacy, title, jn, candidate, election",
          "<b>Topic 4</b><br>Words: election, candidate, vote, senate, decr",
          "<b>Topic 4</b><br>Words: election, vote, voter, number, candidate",
          "<b>Topic 4</b><br>Words: voter, election, measure, vote, expense"
         ],
         "marker": {
          "color": "#F0E442"
         },
         "mode": "markers",
         "name": "4_election_vote_voter_candidate",
         "type": "scatter",
         "x": [
          "1823-12-23T19:12:00",
          "1825-06-20T14:24:00",
          "1825-12-19T04:48:00",
          "1826-06-18T19:12:00"
         ],
         "y": [
          1,
          7,
          68,
          9
         ]
        },
        {
         "hoverinfo": "text",
         "hovertext": [
          "<b>Topic 13</b><br>Words: collection, chief, thing, point, cryptogamia",
          "<b>Topic 13</b><br>Words: cryptogamic, collection, thing, cryptogamia, instance",
          "<b>Topic 13</b><br>Words: cryptogamic, collection, thing, cryptogamia, instance",
          "<b>Topic 13</b><br>Words: miller, collection, collector, thing, world",
          "<b>Topic 13</b><br>Words: collection, cryptogamia, thing, calculate, trading",
          "<b>Topic 13</b><br>Words: collection, thing, cryptogamia, cryptogamic, instance",
          "<b>Topic 13</b><br>Words: collection, algæ, collectanea, destination, cryptogamica",
          "<b>Topic 13</b><br>Words: collection, cryptogamma, mess, gymnogamma, buy",
          "<b>Topic 13</b><br>Words: collection, mathews, jungermannia, treasure, possess"
         ],
         "marker": {
          "color": "#D55E00"
         },
         "mode": "markers",
         "name": "13_collection_thing_cryptogamia_cryptoga...",
         "type": "scatter",
         "x": [
          "1824-06-22T09:36:00",
          "1824-12-21T00:00:00",
          "1825-06-20T14:24:00",
          "1825-12-19T04:48:00",
          "1826-12-17T09:36:00",
          "1827-06-17T00:00:00",
          "1827-12-15T14:24:00",
          "1828-12-12T19:12:00",
          "1829-06-12T09:36:00"
         ],
         "y": [
          1,
          1,
          1,
          2,
          4,
          1,
          4,
          4,
          2
         ]
        },
        {
         "hoverinfo": "text",
         "hovertext": [
          "<b>Topic 14</b><br>Words: illeg, packing, rust, bottom, regent",
          "<b>Topic 14</b><br>Words: illeg, lamb, thro, health, address",
          "<b>Topic 14</b><br>Words: lamb, illeg, arrangement, thro, health",
          "<b>Topic 14</b><br>Words: gordon, illeg, church, lamb, thro"
         ],
         "marker": {
          "color": "#0072B2"
         },
         "mode": "markers",
         "name": "14_illeg_lamb_thro_health",
         "type": "scatter",
         "x": [
          "1825-06-20T14:24:00",
          "1825-12-19T04:48:00",
          "1826-06-18T19:12:00",
          "1829-06-12T09:36:00"
         ],
         "y": [
          2,
          15,
          2,
          1
         ]
        },
        {
         "hoverinfo": "text",
         "hovertext": [
          "<b>Topic 7</b><br>Words: sincerely_palmerston, stan, person, lambe, attwood",
          "<b>Topic 7</b><br>Words: sincerely_palmerston, words, influence, behalf, lodge"
         ],
         "marker": {
          "color": "#CC79A7"
         },
         "mode": "markers",
         "name": "7_sincerely_palmerston_stan_person_lambe",
         "type": "scatter",
         "x": [
          "1825-12-19T04:48:00",
          "1826-06-18T19:12:00"
         ],
         "y": [
          34,
          3
         ]
        },
        {
         "hoverinfo": "text",
         "hovertext": [
          "<b>Topic 12</b><br>Words: committee, member, friend, expense, morning",
          "<b>Topic 12</b><br>Words: committee, business, denial, diocesan, release"
         ],
         "marker": {
          "color": "#E69F00"
         },
         "mode": "markers",
         "name": "12_committee_member_expense_morning",
         "type": "scatter",
         "x": [
          "1825-12-19T04:48:00",
          "1826-06-18T19:12:00"
         ],
         "y": [
          18,
          4
         ]
        }
       ],
       "layout": {
        "height": 500,
        "hoverlabel": {
         "bgcolor": "white",
         "font": {
          "family": "Rockwell",
          "size": 16
         }
        },
        "legend": {
         "title": {
          "text": "<b>Global Topic Representation"
         }
        },
        "template": {
         "data": {
          "bar": [
           {
            "error_x": {
             "color": "rgb(36,36,36)"
            },
            "error_y": {
             "color": "rgb(36,36,36)"
            },
            "marker": {
             "line": {
              "color": "white",
              "width": 0.5
             },
             "pattern": {
              "fillmode": "overlay",
              "size": 10,
              "solidity": 0.2
             }
            },
            "type": "bar"
           }
          ],
          "barpolar": [
           {
            "marker": {
             "line": {
              "color": "white",
              "width": 0.5
             },
             "pattern": {
              "fillmode": "overlay",
              "size": 10,
              "solidity": 0.2
             }
            },
            "type": "barpolar"
           }
          ],
          "carpet": [
           {
            "aaxis": {
             "endlinecolor": "rgb(36,36,36)",
             "gridcolor": "white",
             "linecolor": "white",
             "minorgridcolor": "white",
             "startlinecolor": "rgb(36,36,36)"
            },
            "baxis": {
             "endlinecolor": "rgb(36,36,36)",
             "gridcolor": "white",
             "linecolor": "white",
             "minorgridcolor": "white",
             "startlinecolor": "rgb(36,36,36)"
            },
            "type": "carpet"
           }
          ],
          "choropleth": [
           {
            "colorbar": {
             "outlinewidth": 1,
             "tickcolor": "rgb(36,36,36)",
             "ticks": "outside"
            },
            "type": "choropleth"
           }
          ],
          "contour": [
           {
            "colorbar": {
             "outlinewidth": 1,
             "tickcolor": "rgb(36,36,36)",
             "ticks": "outside"
            },
            "colorscale": [
             [
              0,
              "#440154"
             ],
             [
              0.1111111111111111,
              "#482878"
             ],
             [
              0.2222222222222222,
              "#3e4989"
             ],
             [
              0.3333333333333333,
              "#31688e"
             ],
             [
              0.4444444444444444,
              "#26828e"
             ],
             [
              0.5555555555555556,
              "#1f9e89"
             ],
             [
              0.6666666666666666,
              "#35b779"
             ],
             [
              0.7777777777777778,
              "#6ece58"
             ],
             [
              0.8888888888888888,
              "#b5de2b"
             ],
             [
              1,
              "#fde725"
             ]
            ],
            "type": "contour"
           }
          ],
          "contourcarpet": [
           {
            "colorbar": {
             "outlinewidth": 1,
             "tickcolor": "rgb(36,36,36)",
             "ticks": "outside"
            },
            "type": "contourcarpet"
           }
          ],
          "heatmap": [
           {
            "colorbar": {
             "outlinewidth": 1,
             "tickcolor": "rgb(36,36,36)",
             "ticks": "outside"
            },
            "colorscale": [
             [
              0,
              "#440154"
             ],
             [
              0.1111111111111111,
              "#482878"
             ],
             [
              0.2222222222222222,
              "#3e4989"
             ],
             [
              0.3333333333333333,
              "#31688e"
             ],
             [
              0.4444444444444444,
              "#26828e"
             ],
             [
              0.5555555555555556,
              "#1f9e89"
             ],
             [
              0.6666666666666666,
              "#35b779"
             ],
             [
              0.7777777777777778,
              "#6ece58"
             ],
             [
              0.8888888888888888,
              "#b5de2b"
             ],
             [
              1,
              "#fde725"
             ]
            ],
            "type": "heatmap"
           }
          ],
          "heatmapgl": [
           {
            "colorbar": {
             "outlinewidth": 1,
             "tickcolor": "rgb(36,36,36)",
             "ticks": "outside"
            },
            "colorscale": [
             [
              0,
              "#440154"
             ],
             [
              0.1111111111111111,
              "#482878"
             ],
             [
              0.2222222222222222,
              "#3e4989"
             ],
             [
              0.3333333333333333,
              "#31688e"
             ],
             [
              0.4444444444444444,
              "#26828e"
             ],
             [
              0.5555555555555556,
              "#1f9e89"
             ],
             [
              0.6666666666666666,
              "#35b779"
             ],
             [
              0.7777777777777778,
              "#6ece58"
             ],
             [
              0.8888888888888888,
              "#b5de2b"
             ],
             [
              1,
              "#fde725"
             ]
            ],
            "type": "heatmapgl"
           }
          ],
          "histogram": [
           {
            "marker": {
             "line": {
              "color": "white",
              "width": 0.6
             }
            },
            "type": "histogram"
           }
          ],
          "histogram2d": [
           {
            "colorbar": {
             "outlinewidth": 1,
             "tickcolor": "rgb(36,36,36)",
             "ticks": "outside"
            },
            "colorscale": [
             [
              0,
              "#440154"
             ],
             [
              0.1111111111111111,
              "#482878"
             ],
             [
              0.2222222222222222,
              "#3e4989"
             ],
             [
              0.3333333333333333,
              "#31688e"
             ],
             [
              0.4444444444444444,
              "#26828e"
             ],
             [
              0.5555555555555556,
              "#1f9e89"
             ],
             [
              0.6666666666666666,
              "#35b779"
             ],
             [
              0.7777777777777778,
              "#6ece58"
             ],
             [
              0.8888888888888888,
              "#b5de2b"
             ],
             [
              1,
              "#fde725"
             ]
            ],
            "type": "histogram2d"
           }
          ],
          "histogram2dcontour": [
           {
            "colorbar": {
             "outlinewidth": 1,
             "tickcolor": "rgb(36,36,36)",
             "ticks": "outside"
            },
            "colorscale": [
             [
              0,
              "#440154"
             ],
             [
              0.1111111111111111,
              "#482878"
             ],
             [
              0.2222222222222222,
              "#3e4989"
             ],
             [
              0.3333333333333333,
              "#31688e"
             ],
             [
              0.4444444444444444,
              "#26828e"
             ],
             [
              0.5555555555555556,
              "#1f9e89"
             ],
             [
              0.6666666666666666,
              "#35b779"
             ],
             [
              0.7777777777777778,
              "#6ece58"
             ],
             [
              0.8888888888888888,
              "#b5de2b"
             ],
             [
              1,
              "#fde725"
             ]
            ],
            "type": "histogram2dcontour"
           }
          ],
          "mesh3d": [
           {
            "colorbar": {
             "outlinewidth": 1,
             "tickcolor": "rgb(36,36,36)",
             "ticks": "outside"
            },
            "type": "mesh3d"
           }
          ],
          "parcoords": [
           {
            "line": {
             "colorbar": {
              "outlinewidth": 1,
              "tickcolor": "rgb(36,36,36)",
              "ticks": "outside"
             }
            },
            "type": "parcoords"
           }
          ],
          "pie": [
           {
            "automargin": true,
            "type": "pie"
           }
          ],
          "scatter": [
           {
            "fillpattern": {
             "fillmode": "overlay",
             "size": 10,
             "solidity": 0.2
            },
            "type": "scatter"
           }
          ],
          "scatter3d": [
           {
            "line": {
             "colorbar": {
              "outlinewidth": 1,
              "tickcolor": "rgb(36,36,36)",
              "ticks": "outside"
             }
            },
            "marker": {
             "colorbar": {
              "outlinewidth": 1,
              "tickcolor": "rgb(36,36,36)",
              "ticks": "outside"
             }
            },
            "type": "scatter3d"
           }
          ],
          "scattercarpet": [
           {
            "marker": {
             "colorbar": {
              "outlinewidth": 1,
              "tickcolor": "rgb(36,36,36)",
              "ticks": "outside"
             }
            },
            "type": "scattercarpet"
           }
          ],
          "scattergeo": [
           {
            "marker": {
             "colorbar": {
              "outlinewidth": 1,
              "tickcolor": "rgb(36,36,36)",
              "ticks": "outside"
             }
            },
            "type": "scattergeo"
           }
          ],
          "scattergl": [
           {
            "marker": {
             "colorbar": {
              "outlinewidth": 1,
              "tickcolor": "rgb(36,36,36)",
              "ticks": "outside"
             }
            },
            "type": "scattergl"
           }
          ],
          "scattermapbox": [
           {
            "marker": {
             "colorbar": {
              "outlinewidth": 1,
              "tickcolor": "rgb(36,36,36)",
              "ticks": "outside"
             }
            },
            "type": "scattermapbox"
           }
          ],
          "scatterpolar": [
           {
            "marker": {
             "colorbar": {
              "outlinewidth": 1,
              "tickcolor": "rgb(36,36,36)",
              "ticks": "outside"
             }
            },
            "type": "scatterpolar"
           }
          ],
          "scatterpolargl": [
           {
            "marker": {
             "colorbar": {
              "outlinewidth": 1,
              "tickcolor": "rgb(36,36,36)",
              "ticks": "outside"
             }
            },
            "type": "scatterpolargl"
           }
          ],
          "scatterternary": [
           {
            "marker": {
             "colorbar": {
              "outlinewidth": 1,
              "tickcolor": "rgb(36,36,36)",
              "ticks": "outside"
             }
            },
            "type": "scatterternary"
           }
          ],
          "surface": [
           {
            "colorbar": {
             "outlinewidth": 1,
             "tickcolor": "rgb(36,36,36)",
             "ticks": "outside"
            },
            "colorscale": [
             [
              0,
              "#440154"
             ],
             [
              0.1111111111111111,
              "#482878"
             ],
             [
              0.2222222222222222,
              "#3e4989"
             ],
             [
              0.3333333333333333,
              "#31688e"
             ],
             [
              0.4444444444444444,
              "#26828e"
             ],
             [
              0.5555555555555556,
              "#1f9e89"
             ],
             [
              0.6666666666666666,
              "#35b779"
             ],
             [
              0.7777777777777778,
              "#6ece58"
             ],
             [
              0.8888888888888888,
              "#b5de2b"
             ],
             [
              1,
              "#fde725"
             ]
            ],
            "type": "surface"
           }
          ],
          "table": [
           {
            "cells": {
             "fill": {
              "color": "rgb(237,237,237)"
             },
             "line": {
              "color": "white"
             }
            },
            "header": {
             "fill": {
              "color": "rgb(217,217,217)"
             },
             "line": {
              "color": "white"
             }
            },
            "type": "table"
           }
          ]
         },
         "layout": {
          "annotationdefaults": {
           "arrowhead": 0,
           "arrowwidth": 1
          },
          "autotypenumbers": "strict",
          "coloraxis": {
           "colorbar": {
            "outlinewidth": 1,
            "tickcolor": "rgb(36,36,36)",
            "ticks": "outside"
           }
          },
          "colorscale": {
           "diverging": [
            [
             0,
             "rgb(103,0,31)"
            ],
            [
             0.1,
             "rgb(178,24,43)"
            ],
            [
             0.2,
             "rgb(214,96,77)"
            ],
            [
             0.3,
             "rgb(244,165,130)"
            ],
            [
             0.4,
             "rgb(253,219,199)"
            ],
            [
             0.5,
             "rgb(247,247,247)"
            ],
            [
             0.6,
             "rgb(209,229,240)"
            ],
            [
             0.7,
             "rgb(146,197,222)"
            ],
            [
             0.8,
             "rgb(67,147,195)"
            ],
            [
             0.9,
             "rgb(33,102,172)"
            ],
            [
             1,
             "rgb(5,48,97)"
            ]
           ],
           "sequential": [
            [
             0,
             "#440154"
            ],
            [
             0.1111111111111111,
             "#482878"
            ],
            [
             0.2222222222222222,
             "#3e4989"
            ],
            [
             0.3333333333333333,
             "#31688e"
            ],
            [
             0.4444444444444444,
             "#26828e"
            ],
            [
             0.5555555555555556,
             "#1f9e89"
            ],
            [
             0.6666666666666666,
             "#35b779"
            ],
            [
             0.7777777777777778,
             "#6ece58"
            ],
            [
             0.8888888888888888,
             "#b5de2b"
            ],
            [
             1,
             "#fde725"
            ]
           ],
           "sequentialminus": [
            [
             0,
             "#440154"
            ],
            [
             0.1111111111111111,
             "#482878"
            ],
            [
             0.2222222222222222,
             "#3e4989"
            ],
            [
             0.3333333333333333,
             "#31688e"
            ],
            [
             0.4444444444444444,
             "#26828e"
            ],
            [
             0.5555555555555556,
             "#1f9e89"
            ],
            [
             0.6666666666666666,
             "#35b779"
            ],
            [
             0.7777777777777778,
             "#6ece58"
            ],
            [
             0.8888888888888888,
             "#b5de2b"
            ],
            [
             1,
             "#fde725"
            ]
           ]
          },
          "colorway": [
           "#1F77B4",
           "#FF7F0E",
           "#2CA02C",
           "#D62728",
           "#9467BD",
           "#8C564B",
           "#E377C2",
           "#7F7F7F",
           "#BCBD22",
           "#17BECF"
          ],
          "font": {
           "color": "rgb(36,36,36)"
          },
          "geo": {
           "bgcolor": "white",
           "lakecolor": "white",
           "landcolor": "white",
           "showlakes": true,
           "showland": true,
           "subunitcolor": "white"
          },
          "hoverlabel": {
           "align": "left"
          },
          "hovermode": "closest",
          "mapbox": {
           "style": "light"
          },
          "paper_bgcolor": "white",
          "plot_bgcolor": "white",
          "polar": {
           "angularaxis": {
            "gridcolor": "rgb(232,232,232)",
            "linecolor": "rgb(36,36,36)",
            "showgrid": false,
            "showline": true,
            "ticks": "outside"
           },
           "bgcolor": "white",
           "radialaxis": {
            "gridcolor": "rgb(232,232,232)",
            "linecolor": "rgb(36,36,36)",
            "showgrid": false,
            "showline": true,
            "ticks": "outside"
           }
          },
          "scene": {
           "xaxis": {
            "backgroundcolor": "white",
            "gridcolor": "rgb(232,232,232)",
            "gridwidth": 2,
            "linecolor": "rgb(36,36,36)",
            "showbackground": true,
            "showgrid": false,
            "showline": true,
            "ticks": "outside",
            "zeroline": false,
            "zerolinecolor": "rgb(36,36,36)"
           },
           "yaxis": {
            "backgroundcolor": "white",
            "gridcolor": "rgb(232,232,232)",
            "gridwidth": 2,
            "linecolor": "rgb(36,36,36)",
            "showbackground": true,
            "showgrid": false,
            "showline": true,
            "ticks": "outside",
            "zeroline": false,
            "zerolinecolor": "rgb(36,36,36)"
           },
           "zaxis": {
            "backgroundcolor": "white",
            "gridcolor": "rgb(232,232,232)",
            "gridwidth": 2,
            "linecolor": "rgb(36,36,36)",
            "showbackground": true,
            "showgrid": false,
            "showline": true,
            "ticks": "outside",
            "zeroline": false,
            "zerolinecolor": "rgb(36,36,36)"
           }
          },
          "shapedefaults": {
           "fillcolor": "black",
           "line": {
            "width": 0
           },
           "opacity": 0.3
          },
          "ternary": {
           "aaxis": {
            "gridcolor": "rgb(232,232,232)",
            "linecolor": "rgb(36,36,36)",
            "showgrid": false,
            "showline": true,
            "ticks": "outside"
           },
           "baxis": {
            "gridcolor": "rgb(232,232,232)",
            "linecolor": "rgb(36,36,36)",
            "showgrid": false,
            "showline": true,
            "ticks": "outside"
           },
           "bgcolor": "white",
           "caxis": {
            "gridcolor": "rgb(232,232,232)",
            "linecolor": "rgb(36,36,36)",
            "showgrid": false,
            "showline": true,
            "ticks": "outside"
           }
          },
          "title": {
           "x": 0.05
          },
          "xaxis": {
           "automargin": true,
           "gridcolor": "rgb(232,232,232)",
           "linecolor": "rgb(36,36,36)",
           "showgrid": false,
           "showline": true,
           "ticks": "outside",
           "title": {
            "standoff": 15
           },
           "zeroline": false,
           "zerolinecolor": "rgb(36,36,36)"
          },
          "yaxis": {
           "automargin": true,
           "gridcolor": "rgb(232,232,232)",
           "linecolor": "rgb(36,36,36)",
           "showgrid": false,
           "showline": true,
           "ticks": "outside",
           "title": {
            "standoff": 15
           },
           "zeroline": false,
           "zerolinecolor": "rgb(36,36,36)"
          }
         }
        },
        "title": {
         "font": {
          "color": "Black",
          "size": 22
         },
         "text": "<b>Topics over Time",
         "x": 0.4,
         "xanchor": "center",
         "y": 0.95,
         "yanchor": "top"
        },
        "width": 1000,
        "xaxis": {
         "showgrid": true
        },
        "yaxis": {
         "showgrid": true,
         "title": {
          "text": "Count"
         }
        }
       }
      },
      "text/html": [
       "<div>                            <div id=\"7f6c2e13-174c-49a4-b093-b8dd700ab7ce\" class=\"plotly-graph-div\" style=\"height:500px; width:1000px;\"></div>            <script type=\"text/javascript\">                require([\"plotly\"], function(Plotly) {                    window.PLOTLYENV=window.PLOTLYENV || {};                                    if (document.getElementById(\"7f6c2e13-174c-49a4-b093-b8dd700ab7ce\")) {                    Plotly.newPlot(                        \"7f6c2e13-174c-49a4-b093-b8dd700ab7ce\",                        [{\"hoverinfo\":\"text\",\"hovertext\":[\"<b>Topic 0</b><br>Words: entrochi, complanatus, tubipore, scoria, punctatus\",\"<b>Topic 0</b><br>Words: gap, coleoptra, filling, wd, specimen\",\"<b>Topic 0</b><br>Words: ny, liry, mis, bridge, athol\",\"<b>Topic 0</b><br>Words: potash, insert, goodness, manner, result\",\"<b>Topic 0</b><br>Words: verna, fruticosa, lutea, plant, pustulata\",\"<b>Topic 0</b><br>Words: sphaerium, granchester, scot, benger, schillers\",\"<b>Topic 0</b><br>Words: lathyrus, plant, country, duplicate, schoenus\",\"<b>Topic 0</b><br>Words: plant, specimen, violaceum, veris, exotic\",\"<b>Topic 0</b><br>Words: marit, mile, side, specimen, tenuiflorus\",\"<b>Topic 0</b><br>Words: plant, specimen, manufactury, president, matrocaria\",\"<b>Topic 0</b><br>Words: plant, specimen, flora, english, speciman\",\"<b>Topic 0</b><br>Words: plant, specimen, seed, girl, verna\",\"<b>Topic 0</b><br>Words: plant, specimen, holland, palustris, speciman\",\"<b>Topic 0</b><br>Words: foot, botany, specimen, plant, lecture\",\"<b>Topic 0</b><br>Words: plant, specimen, campanula, seed, palustris\",\"<b>Topic 0</b><br>Words: plant, specimen, jenyn, vulgaris, flora\",\"<b>Topic 0</b><br>Words: specimen, acceptance, teucrium, duplicate, lactuca\",\"<b>Topic 0</b><br>Words: god, maritimum, alisma, plant, scripture\",\"<b>Topic 0</b><br>Words: arvensis, plant, vulgaris, specimen, palustris\"],\"marker\":{\"color\":\"#E69F00\"},\"mode\":\"markers\",\"name\":\"0_plant_specimen_arvensis_vulgaris\",\"x\":[\"1819-12-28T08:49:55.200000\",\"1820-06-30T14:24:00\",\"1820-12-29T04:48:00\",\"1821-06-28T19:12:00\",\"1822-06-27T00:00:00\",\"1822-12-25T14:24:00\",\"1823-06-25T04:48:00\",\"1823-12-23T19:12:00\",\"1824-06-22T09:36:00\",\"1824-12-21T00:00:00\",\"1825-06-20T14:24:00\",\"1825-12-19T04:48:00\",\"1826-06-18T19:12:00\",\"1826-12-17T09:36:00\",\"1827-06-17T00:00:00\",\"1827-12-15T14:24:00\",\"1828-06-14T04:48:00\",\"1828-12-12T19:12:00\",\"1829-06-12T09:36:00\"],\"y\":[5,2,1,2,7,6,3,15,13,7,32,38,29,39,33,34,25,20,49],\"type\":\"scatter\"},{\"hoverinfo\":\"text\",\"hovertext\":[\"<b>Topic 1</b><br>Words: martin, shd, meeting, copley, palmerston\",\"<b>Topic 1</b><br>Words: happen, wd, half, transaction, volume\",\"<b>Topic 1</b><br>Words: fig, reference, expectation, vol, line\",\"<b>Topic 1</b><br>Words: clarke, copley, palmerston, banke, plumper\",\"<b>Topic 1</b><br>Words: gr, copley, palmerston, banke, plumper\",\"<b>Topic 1</b><br>Words: suspect, geo, harrison, jermyn, pera\",\"<b>Topic 1</b><br>Words: campbell, gresmork, greswall, copley, palmerston\",\"<b>Topic 1</b><br>Words: shell, mistake, trust, illeg, copley\",\"<b>Topic 1</b><br>Words: chronicle, remembrances, jennings, observe, journal\",\"<b>Topic 1</b><br>Words: copley, sult, palmerstone, watfield, moity\",\"<b>Topic 1</b><br>Words: copley, palmerston, banke, plumper, johns\",\"<b>Topic 1</b><br>Words: copley, godson, goulburn, note, hawkinson\",\"<b>Topic 1</b><br>Words: juin, samedi, enc, lhonneur, mercredi\",\"<b>Topic 1</b><br>Words: sh, convolv, swinton, nr, copley\",\"<b>Topic 1</b><br>Words: rob, edinr, sterl, fol, hert\",\"<b>Topic 1</b><br>Words: vol, gaillon, lich, rehlan, leyland\",\"<b>Topic 1</b><br>Words: sh, humb, misunderstand, oblige, baxter\",\"<b>Topic 1</b><br>Words: sh, dalton, ja, trinity, coll\"],\"marker\":{\"color\":\"#56B4E9\"},\"mode\":\"markers\",\"name\":\"1_copley_palmerston_banke_plumper\",\"x\":[\"1819-12-28T08:49:55.200000\",\"1820-06-30T14:24:00\",\"1820-12-29T04:48:00\",\"1821-06-28T19:12:00\",\"1822-06-27T00:00:00\",\"1822-12-25T14:24:00\",\"1823-12-23T19:12:00\",\"1824-06-22T09:36:00\",\"1824-12-21T00:00:00\",\"1825-06-20T14:24:00\",\"1825-12-19T04:48:00\",\"1826-06-18T19:12:00\",\"1826-12-17T09:36:00\",\"1827-06-17T00:00:00\",\"1827-12-15T14:24:00\",\"1828-06-14T04:48:00\",\"1828-12-12T19:12:00\",\"1829-06-12T09:36:00\"],\"y\":[2,2,2,1,1,4,2,1,1,11,181,10,8,4,11,9,6,4],\"type\":\"scatter\"},{\"hoverinfo\":\"text\",\"hovertext\":[\"<b>Topic 2</b><br>Words: thank, promise, circumstance, kindness, interest\",\"<b>Topic 2</b><br>Words: correction, promise, circumstance, kindness, interest\",\"<b>Topic 2</b><br>Words: confer, favour, attention, promise, circumstance\",\"<b>Topic 2</b><br>Words: payment, salary, transmit, requisite, lord\",\"<b>Topic 2</b><br>Words: hve, honor, reason, respect, circumstance\",\"<b>Topic 2</b><br>Words: guinea, member, certainty, happiness, welfare\",\"<b>Topic 2</b><br>Words: word, other, ramble, bud, monograph\",\"<b>Topic 2</b><br>Words: esprit, corps, negligence, motive, obligation\",\"<b>Topic 2</b><br>Words: promise, intention, news, opinion, sentiment\",\"<b>Topic 2</b><br>Words: uniformity, permission, probablynot, ramsay, langham\",\"<b>Topic 2</b><br>Words: per_annum, interest, one, ab, allowance\",\"<b>Topic 2</b><br>Words: coral, thinking, rself, suggestion, content\",\"<b>Topic 2</b><br>Words: subscription, share, value, union, result\",\"<b>Topic 2</b><br>Words: depredator, intrusion, oxymus, balance, diff\",\"<b>Topic 2</b><br>Words: expence, circumstance, philos_soc, ch, fund\",\"<b>Topic 2</b><br>Words: introduction, kindness, society, opinion, point\"],\"marker\":{\"color\":\"#009E73\"},\"mode\":\"markers\",\"name\":\"2_promise_circumstance_kindness_interest\",\"x\":[\"1819-12-28T08:49:55.200000\",\"1820-12-29T04:48:00\",\"1822-06-27T00:00:00\",\"1822-12-25T14:24:00\",\"1823-06-25T04:48:00\",\"1823-12-23T19:12:00\",\"1824-06-22T09:36:00\",\"1825-06-20T14:24:00\",\"1825-12-19T04:48:00\",\"1826-06-18T19:12:00\",\"1826-12-17T09:36:00\",\"1827-06-17T00:00:00\",\"1827-12-15T14:24:00\",\"1828-06-14T04:48:00\",\"1828-12-12T19:12:00\",\"1829-06-12T09:36:00\"],\"y\":[1,1,1,1,1,4,5,5,65,7,11,4,19,8,30,18],\"type\":\"scatter\"},{\"hoverinfo\":\"text\",\"hovertext\":[\"<b>Topic 3</b><br>Words: summer, reopen, locality, tenby, dublin\",\"<b>Topic 3</b><br>Words: summer, conocephali, bulwer, season, england\",\"<b>Topic 3</b><br>Words: press, society, business, cambridge, london\",\"<b>Topic 3</b><br>Words: morning, easter, fenny, midst, tribe\",\"<b>Topic 3</b><br>Words: prince, curiosity, casiati, cimitile, coates\",\"<b>Topic 3</b><br>Words: rejoice, remove, bath, well, siccus\",\"<b>Topic 3</b><br>Words: april, ordination, clock, order, candidate\",\"<b>Topic 3</b><br>Words: time, music, sleep, band, theatre\",\"<b>Topic 3</b><br>Words: cty, profusion, affection, overleaf, stylop\",\"<b>Topic 3</b><br>Words: cambridge, bore, sorrento, irish, gasp\",\"<b>Topic 3</b><br>Words: cambridge, bristol, london, day, morning\",\"<b>Topic 3</b><br>Words: market, cambridge, chapel, morning, shot\",\"<b>Topic 3</b><br>Words: day, magdalen, soho, rothsay, bute\",\"<b>Topic 3</b><br>Words: sidmouth, september, quarter, leonard, residence\",\"<b>Topic 3</b><br>Words: cambridge, sidmouth, bachelorship, climate, winter\",\"<b>Topic 3</b><br>Words: side, margate, tor, wonder, dominica\",\"<b>Topic 3</b><br>Words: scotland, london, day, vicinity, arnott\",\"<b>Topic 3</b><br>Words: croft, welcome, north, day, cambridge\"],\"marker\":{\"color\":\"#F0E442\"},\"mode\":\"markers\",\"name\":\"3_cambridge_london_day_morning\",\"x\":[\"1819-12-28T08:49:55.200000\",\"1820-06-30T14:24:00\",\"1820-12-29T04:48:00\",\"1821-06-28T19:12:00\",\"1822-06-27T00:00:00\",\"1823-06-25T04:48:00\",\"1823-12-23T19:12:00\",\"1824-06-22T09:36:00\",\"1824-12-21T00:00:00\",\"1825-06-20T14:24:00\",\"1825-12-19T04:48:00\",\"1826-06-18T19:12:00\",\"1826-12-17T09:36:00\",\"1827-06-17T00:00:00\",\"1827-12-15T14:24:00\",\"1828-06-14T04:48:00\",\"1828-12-12T19:12:00\",\"1829-06-12T09:36:00\"],\"y\":[5,3,1,4,2,1,1,5,5,5,59,15,6,3,17,9,13,8],\"type\":\"scatter\"},{\"hoverinfo\":\"text\",\"hovertext\":[\"<b>Topic 5</b><br>Words: pt, tran, sowerby, lin, pupil\",\"<b>Topic 5</b><br>Words: regulation, volume, matter, paper, name\",\"<b>Topic 5</b><br>Words: pencil, line, hooker, plate, paper\",\"<b>Topic 5</b><br>Words: corneum, twopeny, drawing, hooker, pencil\",\"<b>Topic 5</b><br>Words: draw, mule, phil_soc, pencil, paper\",\"<b>Topic 5</b><br>Words: official, printer, cause, pursuit, study\",\"<b>Topic 5</b><br>Words: pencil, vinegar, hooker, ink, tincture\",\"<b>Topic 5</b><br>Words: birch, paper, bundle, pencil, recollect\",\"<b>Topic 5</b><br>Words: philosophical, turner, journal, print, page\",\"<b>Topic 5</b><br>Words: hooker, illustration, plate, drawing, folio\",\"<b>Topic 5</b><br>Words: plate, hooker, illiger, frame, colour\",\"<b>Topic 5</b><br>Words: paper, hooker, summon, series, plate\",\"<b>Topic 5</b><br>Words: hooker, system, hand, engraver, naturelle\",\"<b>Topic 5</b><br>Words: ii, blemish, printer, miscellany, outline\",\"<b>Topic 5</b><br>Words: hooker, pencil, plate, illustration, brewster\"],\"marker\":{\"color\":\"#D55E00\"},\"mode\":\"markers\",\"name\":\"5_hooker_pencil_plate_paper\",\"x\":[\"1819-12-28T08:49:55.200000\",\"1820-06-30T14:24:00\",\"1820-12-29T04:48:00\",\"1822-12-25T14:24:00\",\"1823-12-23T19:12:00\",\"1824-06-22T09:36:00\",\"1825-06-20T14:24:00\",\"1825-12-19T04:48:00\",\"1826-06-18T19:12:00\",\"1826-12-17T09:36:00\",\"1827-06-17T00:00:00\",\"1827-12-15T14:24:00\",\"1828-06-14T04:48:00\",\"1828-12-12T19:12:00\",\"1829-06-12T09:36:00\"],\"y\":[2,2,1,2,2,1,10,5,2,14,4,5,5,5,14],\"type\":\"scatter\"},{\"hoverinfo\":\"text\",\"hovertext\":[\"<b>Topic 6</b><br>Words: arrange, soc, insect, shell, dale\",\"<b>Topic 6</b><br>Words: insect, cabinet, fen, necessy, twelvemonth\",\"<b>Topic 6</b><br>Words: insect, cabinet, shell, arrangement, bird\",\"<b>Topic 6</b><br>Words: bittern, peregrine, divinity, leadbeatter, buzzard\",\"<b>Topic 6</b><br>Words: bird, generation, fancier, mule, cross\",\"<b>Topic 6</b><br>Words: larvae, neighbourhood, insect, bird, entomology\",\"<b>Topic 6</b><br>Words: insect, town, foeniculum, anniversary, aenethum\",\"<b>Topic 6</b><br>Words: physician, poison, palermo, shop, insect\",\"<b>Topic 6</b><br>Words: insect, bird, larvae, bombyx, geom\",\"<b>Topic 6</b><br>Words: insect, bird, mouse, melbourne, insectivori\",\"<b>Topic 6</b><br>Words: mollusca, land, procure, insect, bird\",\"<b>Topic 6</b><br>Words: insect, obligation, bird, grove, lisson\",\"<b>Topic 6</b><br>Words: insect, member, woods, locust, hunted\",\"<b>Topic 6</b><br>Words: insect, entomology, study, bird, conchology\",\"<b>Topic 6</b><br>Words: insect, entomology, jenyns, rev, prop\",\"<b>Topic 6</b><br>Words: bird, vessel, philo, direct, box\"],\"marker\":{\"color\":\"#0072B2\"},\"mode\":\"markers\",\"name\":\"6_insect_bird_entomology_shell\",\"x\":[\"1819-12-28T08:49:55.200000\",\"1820-06-30T14:24:00\",\"1820-12-29T04:48:00\",\"1822-12-25T14:24:00\",\"1823-12-23T19:12:00\",\"1824-06-22T09:36:00\",\"1824-12-21T00:00:00\",\"1825-06-20T14:24:00\",\"1825-12-19T04:48:00\",\"1826-06-18T19:12:00\",\"1826-12-17T09:36:00\",\"1827-06-17T00:00:00\",\"1827-12-15T14:24:00\",\"1828-06-14T04:48:00\",\"1828-12-12T19:12:00\",\"1829-06-12T09:36:00\"],\"y\":[1,3,2,3,2,1,4,1,9,10,1,6,5,8,5,2],\"type\":\"scatter\"},{\"hoverinfo\":\"text\",\"hovertext\":[\"<b>Topic 9</b><br>Words: clark, mot, lecture, class, course\",\"<b>Topic 9</b><br>Words: course, malthus, inclined, persue, policy\",\"<b>Topic 9</b><br>Words: exception, labour, august, lecture, class\",\"<b>Topic 9</b><br>Words: lecture, class, course, classroom, lecturer\",\"<b>Topic 9</b><br>Words: class, course, lecture, commence, portion\",\"<b>Topic 9</b><br>Words: class, sacrament, audience, gace, lecture\",\"<b>Topic 9</b><br>Words: admiration, scholar, teaching, method, estimate\"],\"marker\":{\"color\":\"#CC79A7\"},\"mode\":\"markers\",\"name\":\"9_lecture_class_course_method\",\"x\":[\"1819-12-28T08:49:55.200000\",\"1825-12-19T04:48:00\",\"1826-06-18T19:12:00\",\"1826-12-17T09:36:00\",\"1827-12-15T14:24:00\",\"1828-12-12T19:12:00\",\"1829-06-12T09:36:00\"],\"y\":[1,3,1,11,3,2,3],\"type\":\"scatter\"},{\"hoverinfo\":\"text\",\"hovertext\":[\"<b>Topic 8</b><br>Words: deluvium, colours, diluvium, murray, port\",\"<b>Topic 8</b><br>Words: crystal, lime, acid, alumina, iron\",\"<b>Topic 8</b><br>Words: mineralogical, book, morning, lime, crystal\",\"<b>Topic 8</b><br>Words: felspar, lid, crystal, lime, alumina\",\"<b>Topic 8</b><br>Words: coke, spar, interstice, coley, basaltic\",\"<b>Topic 8</b><br>Words: cavern, slay, partition, granite, thereabout\",\"<b>Topic 8</b><br>Words: glass, color, shell, interruption, loftyhouse\",\"<b>Topic 8</b><br>Words: lime, chalk, iron_alumina, oxide, essex\",\"<b>Topic 8</b><br>Words: gracedieu, slate, limestone, soil, rock\"],\"marker\":{\"color\":\"#E69F00\"},\"mode\":\"markers\",\"name\":\"8_lime_crystal_acid_alumina\",\"x\":[\"1820-12-29T04:48:00\",\"1821-06-28T19:12:00\",\"1822-06-27T00:00:00\",\"1822-12-25T14:24:00\",\"1823-12-23T19:12:00\",\"1825-12-19T04:48:00\",\"1826-12-17T09:36:00\",\"1827-12-15T14:24:00\",\"1829-06-12T09:36:00\"],\"y\":[1,11,1,1,1,1,5,7,1],\"type\":\"scatter\"},{\"hoverinfo\":\"text\",\"hovertext\":[\"<b>Topic 11</b><br>Words: speciman, specie, spec, variety, gracilis\",\"<b>Topic 11</b><br>Words: analcine, variety, specie, spec, speciman\",\"<b>Topic 11</b><br>Words: specie, collection, spec, variety, speciman\",\"<b>Topic 11</b><br>Words: variety, specie, instance, spec, speciman\",\"<b>Topic 11</b><br>Words: specie, spec, variety, speciman, gracilis\",\"<b>Topic 11</b><br>Words: stevens, specie, speciman, garden, plant\",\"<b>Topic 11</b><br>Words: gracilis, speciman, specie, plantation, chara\",\"<b>Topic 11</b><br>Words: spec, cam, specie, box, word\",\"<b>Topic 11</b><br>Words: spec_ns, specie, spec, variety, speciman\",\"<b>Topic 11</b><br>Words: grow, specie, spec, variety, speciman\",\"<b>Topic 11</b><br>Words: specie, contemplation, courage, bath, garden\",\"<b>Topic 11</b><br>Words: spec, specie, variety, speciman, gracilis\",\"<b>Topic 11</b><br>Words: spec, sight, affinity, exotic, box\"],\"marker\":{\"color\":\"#56B4E9\"},\"mode\":\"markers\",\"name\":\"11_specie_spec_variety_speciman\",\"x\":[\"1820-12-29T04:48:00\",\"1821-06-28T19:12:00\",\"1822-12-25T14:24:00\",\"1823-12-23T19:12:00\",\"1825-06-20T14:24:00\",\"1825-12-19T04:48:00\",\"1826-06-18T19:12:00\",\"1826-12-17T09:36:00\",\"1827-06-17T00:00:00\",\"1827-12-15T14:24:00\",\"1828-06-14T04:48:00\",\"1828-12-12T19:12:00\",\"1829-06-12T09:36:00\"],\"y\":[1,1,1,1,1,2,4,2,1,1,2,1,4],\"type\":\"scatter\"},{\"hoverinfo\":\"text\",\"hovertext\":[\"<b>Topic 10</b><br>Words: leonard, december, march, feb, july\",\"<b>Topic 10</b><br>Words: leonard, january, information, march, feb\",\"<b>Topic 10</b><br>Words: march, obliging, feb, tenby, ely\",\"<b>Topic 10</b><br>Words: july, march, feb, leonard, december\",\"<b>Topic 10</b><br>Words: feb, march, army, tue, camb\",\"<b>Topic 10</b><br>Words: march, feb, leonard, december, july\",\"<b>Topic 10</b><br>Words: edinbr, march, january, month, feb\",\"<b>Topic 10</b><br>Words: march, retain, require, possibility, length\",\"<b>Topic 10</b><br>Words: march, thank, feb, leonard, december\",\"<b>Topic 10</b><br>Words: departure, december, march, feb, leonard\"],\"marker\":{\"color\":\"#009E73\"},\"mode\":\"markers\",\"name\":\"10_march_feb_leonard_december\",\"x\":[\"1822-06-27T00:00:00\",\"1822-12-25T14:24:00\",\"1823-12-23T19:12:00\",\"1825-06-20T14:24:00\",\"1825-12-19T04:48:00\",\"1826-06-18T19:12:00\",\"1826-12-17T09:36:00\",\"1827-06-17T00:00:00\",\"1827-12-15T14:24:00\",\"1829-06-12T09:36:00\"],\"y\":[1,1,2,1,12,1,2,2,1,1],\"type\":\"scatter\"},{\"hoverinfo\":\"text\",\"hovertext\":[\"<b>Topic 4</b><br>Words: curacy, title, jn, candidate, election\",\"<b>Topic 4</b><br>Words: election, candidate, vote, senate, decr\",\"<b>Topic 4</b><br>Words: election, vote, voter, number, candidate\",\"<b>Topic 4</b><br>Words: voter, election, measure, vote, expense\"],\"marker\":{\"color\":\"#F0E442\"},\"mode\":\"markers\",\"name\":\"4_election_vote_voter_candidate\",\"x\":[\"1823-12-23T19:12:00\",\"1825-06-20T14:24:00\",\"1825-12-19T04:48:00\",\"1826-06-18T19:12:00\"],\"y\":[1,7,68,9],\"type\":\"scatter\"},{\"hoverinfo\":\"text\",\"hovertext\":[\"<b>Topic 13</b><br>Words: collection, chief, thing, point, cryptogamia\",\"<b>Topic 13</b><br>Words: cryptogamic, collection, thing, cryptogamia, instance\",\"<b>Topic 13</b><br>Words: cryptogamic, collection, thing, cryptogamia, instance\",\"<b>Topic 13</b><br>Words: miller, collection, collector, thing, world\",\"<b>Topic 13</b><br>Words: collection, cryptogamia, thing, calculate, trading\",\"<b>Topic 13</b><br>Words: collection, thing, cryptogamia, cryptogamic, instance\",\"<b>Topic 13</b><br>Words: collection, alg\\u00e6, collectanea, destination, cryptogamica\",\"<b>Topic 13</b><br>Words: collection, cryptogamma, mess, gymnogamma, buy\",\"<b>Topic 13</b><br>Words: collection, mathews, jungermannia, treasure, possess\"],\"marker\":{\"color\":\"#D55E00\"},\"mode\":\"markers\",\"name\":\"13_collection_thing_cryptogamia_cryptoga...\",\"x\":[\"1824-06-22T09:36:00\",\"1824-12-21T00:00:00\",\"1825-06-20T14:24:00\",\"1825-12-19T04:48:00\",\"1826-12-17T09:36:00\",\"1827-06-17T00:00:00\",\"1827-12-15T14:24:00\",\"1828-12-12T19:12:00\",\"1829-06-12T09:36:00\"],\"y\":[1,1,1,2,4,1,4,4,2],\"type\":\"scatter\"},{\"hoverinfo\":\"text\",\"hovertext\":[\"<b>Topic 14</b><br>Words: illeg, packing, rust, bottom, regent\",\"<b>Topic 14</b><br>Words: illeg, lamb, thro, health, address\",\"<b>Topic 14</b><br>Words: lamb, illeg, arrangement, thro, health\",\"<b>Topic 14</b><br>Words: gordon, illeg, church, lamb, thro\"],\"marker\":{\"color\":\"#0072B2\"},\"mode\":\"markers\",\"name\":\"14_illeg_lamb_thro_health\",\"x\":[\"1825-06-20T14:24:00\",\"1825-12-19T04:48:00\",\"1826-06-18T19:12:00\",\"1829-06-12T09:36:00\"],\"y\":[2,15,2,1],\"type\":\"scatter\"},{\"hoverinfo\":\"text\",\"hovertext\":[\"<b>Topic 7</b><br>Words: sincerely_palmerston, stan, person, lambe, attwood\",\"<b>Topic 7</b><br>Words: sincerely_palmerston, words, influence, behalf, lodge\"],\"marker\":{\"color\":\"#CC79A7\"},\"mode\":\"markers\",\"name\":\"7_sincerely_palmerston_stan_person_lambe\",\"x\":[\"1825-12-19T04:48:00\",\"1826-06-18T19:12:00\"],\"y\":[34,3],\"type\":\"scatter\"},{\"hoverinfo\":\"text\",\"hovertext\":[\"<b>Topic 12</b><br>Words: committee, member, friend, expense, morning\",\"<b>Topic 12</b><br>Words: committee, business, denial, diocesan, release\"],\"marker\":{\"color\":\"#E69F00\"},\"mode\":\"markers\",\"name\":\"12_committee_member_expense_morning\",\"x\":[\"1825-12-19T04:48:00\",\"1826-06-18T19:12:00\"],\"y\":[18,4],\"type\":\"scatter\"}],                        {\"template\":{\"data\":{\"barpolar\":[{\"marker\":{\"line\":{\"color\":\"white\",\"width\":0.5},\"pattern\":{\"fillmode\":\"overlay\",\"size\":10,\"solidity\":0.2}},\"type\":\"barpolar\"}],\"bar\":[{\"error_x\":{\"color\":\"rgb(36,36,36)\"},\"error_y\":{\"color\":\"rgb(36,36,36)\"},\"marker\":{\"line\":{\"color\":\"white\",\"width\":0.5},\"pattern\":{\"fillmode\":\"overlay\",\"size\":10,\"solidity\":0.2}},\"type\":\"bar\"}],\"carpet\":[{\"aaxis\":{\"endlinecolor\":\"rgb(36,36,36)\",\"gridcolor\":\"white\",\"linecolor\":\"white\",\"minorgridcolor\":\"white\",\"startlinecolor\":\"rgb(36,36,36)\"},\"baxis\":{\"endlinecolor\":\"rgb(36,36,36)\",\"gridcolor\":\"white\",\"linecolor\":\"white\",\"minorgridcolor\":\"white\",\"startlinecolor\":\"rgb(36,36,36)\"},\"type\":\"carpet\"}],\"choropleth\":[{\"colorbar\":{\"outlinewidth\":1,\"tickcolor\":\"rgb(36,36,36)\",\"ticks\":\"outside\"},\"type\":\"choropleth\"}],\"contourcarpet\":[{\"colorbar\":{\"outlinewidth\":1,\"tickcolor\":\"rgb(36,36,36)\",\"ticks\":\"outside\"},\"type\":\"contourcarpet\"}],\"contour\":[{\"colorbar\":{\"outlinewidth\":1,\"tickcolor\":\"rgb(36,36,36)\",\"ticks\":\"outside\"},\"colorscale\":[[0.0,\"#440154\"],[0.1111111111111111,\"#482878\"],[0.2222222222222222,\"#3e4989\"],[0.3333333333333333,\"#31688e\"],[0.4444444444444444,\"#26828e\"],[0.5555555555555556,\"#1f9e89\"],[0.6666666666666666,\"#35b779\"],[0.7777777777777778,\"#6ece58\"],[0.8888888888888888,\"#b5de2b\"],[1.0,\"#fde725\"]],\"type\":\"contour\"}],\"heatmapgl\":[{\"colorbar\":{\"outlinewidth\":1,\"tickcolor\":\"rgb(36,36,36)\",\"ticks\":\"outside\"},\"colorscale\":[[0.0,\"#440154\"],[0.1111111111111111,\"#482878\"],[0.2222222222222222,\"#3e4989\"],[0.3333333333333333,\"#31688e\"],[0.4444444444444444,\"#26828e\"],[0.5555555555555556,\"#1f9e89\"],[0.6666666666666666,\"#35b779\"],[0.7777777777777778,\"#6ece58\"],[0.8888888888888888,\"#b5de2b\"],[1.0,\"#fde725\"]],\"type\":\"heatmapgl\"}],\"heatmap\":[{\"colorbar\":{\"outlinewidth\":1,\"tickcolor\":\"rgb(36,36,36)\",\"ticks\":\"outside\"},\"colorscale\":[[0.0,\"#440154\"],[0.1111111111111111,\"#482878\"],[0.2222222222222222,\"#3e4989\"],[0.3333333333333333,\"#31688e\"],[0.4444444444444444,\"#26828e\"],[0.5555555555555556,\"#1f9e89\"],[0.6666666666666666,\"#35b779\"],[0.7777777777777778,\"#6ece58\"],[0.8888888888888888,\"#b5de2b\"],[1.0,\"#fde725\"]],\"type\":\"heatmap\"}],\"histogram2dcontour\":[{\"colorbar\":{\"outlinewidth\":1,\"tickcolor\":\"rgb(36,36,36)\",\"ticks\":\"outside\"},\"colorscale\":[[0.0,\"#440154\"],[0.1111111111111111,\"#482878\"],[0.2222222222222222,\"#3e4989\"],[0.3333333333333333,\"#31688e\"],[0.4444444444444444,\"#26828e\"],[0.5555555555555556,\"#1f9e89\"],[0.6666666666666666,\"#35b779\"],[0.7777777777777778,\"#6ece58\"],[0.8888888888888888,\"#b5de2b\"],[1.0,\"#fde725\"]],\"type\":\"histogram2dcontour\"}],\"histogram2d\":[{\"colorbar\":{\"outlinewidth\":1,\"tickcolor\":\"rgb(36,36,36)\",\"ticks\":\"outside\"},\"colorscale\":[[0.0,\"#440154\"],[0.1111111111111111,\"#482878\"],[0.2222222222222222,\"#3e4989\"],[0.3333333333333333,\"#31688e\"],[0.4444444444444444,\"#26828e\"],[0.5555555555555556,\"#1f9e89\"],[0.6666666666666666,\"#35b779\"],[0.7777777777777778,\"#6ece58\"],[0.8888888888888888,\"#b5de2b\"],[1.0,\"#fde725\"]],\"type\":\"histogram2d\"}],\"histogram\":[{\"marker\":{\"line\":{\"color\":\"white\",\"width\":0.6}},\"type\":\"histogram\"}],\"mesh3d\":[{\"colorbar\":{\"outlinewidth\":1,\"tickcolor\":\"rgb(36,36,36)\",\"ticks\":\"outside\"},\"type\":\"mesh3d\"}],\"parcoords\":[{\"line\":{\"colorbar\":{\"outlinewidth\":1,\"tickcolor\":\"rgb(36,36,36)\",\"ticks\":\"outside\"}},\"type\":\"parcoords\"}],\"pie\":[{\"automargin\":true,\"type\":\"pie\"}],\"scatter3d\":[{\"line\":{\"colorbar\":{\"outlinewidth\":1,\"tickcolor\":\"rgb(36,36,36)\",\"ticks\":\"outside\"}},\"marker\":{\"colorbar\":{\"outlinewidth\":1,\"tickcolor\":\"rgb(36,36,36)\",\"ticks\":\"outside\"}},\"type\":\"scatter3d\"}],\"scattercarpet\":[{\"marker\":{\"colorbar\":{\"outlinewidth\":1,\"tickcolor\":\"rgb(36,36,36)\",\"ticks\":\"outside\"}},\"type\":\"scattercarpet\"}],\"scattergeo\":[{\"marker\":{\"colorbar\":{\"outlinewidth\":1,\"tickcolor\":\"rgb(36,36,36)\",\"ticks\":\"outside\"}},\"type\":\"scattergeo\"}],\"scattergl\":[{\"marker\":{\"colorbar\":{\"outlinewidth\":1,\"tickcolor\":\"rgb(36,36,36)\",\"ticks\":\"outside\"}},\"type\":\"scattergl\"}],\"scattermapbox\":[{\"marker\":{\"colorbar\":{\"outlinewidth\":1,\"tickcolor\":\"rgb(36,36,36)\",\"ticks\":\"outside\"}},\"type\":\"scattermapbox\"}],\"scatterpolargl\":[{\"marker\":{\"colorbar\":{\"outlinewidth\":1,\"tickcolor\":\"rgb(36,36,36)\",\"ticks\":\"outside\"}},\"type\":\"scatterpolargl\"}],\"scatterpolar\":[{\"marker\":{\"colorbar\":{\"outlinewidth\":1,\"tickcolor\":\"rgb(36,36,36)\",\"ticks\":\"outside\"}},\"type\":\"scatterpolar\"}],\"scatter\":[{\"fillpattern\":{\"fillmode\":\"overlay\",\"size\":10,\"solidity\":0.2},\"type\":\"scatter\"}],\"scatterternary\":[{\"marker\":{\"colorbar\":{\"outlinewidth\":1,\"tickcolor\":\"rgb(36,36,36)\",\"ticks\":\"outside\"}},\"type\":\"scatterternary\"}],\"surface\":[{\"colorbar\":{\"outlinewidth\":1,\"tickcolor\":\"rgb(36,36,36)\",\"ticks\":\"outside\"},\"colorscale\":[[0.0,\"#440154\"],[0.1111111111111111,\"#482878\"],[0.2222222222222222,\"#3e4989\"],[0.3333333333333333,\"#31688e\"],[0.4444444444444444,\"#26828e\"],[0.5555555555555556,\"#1f9e89\"],[0.6666666666666666,\"#35b779\"],[0.7777777777777778,\"#6ece58\"],[0.8888888888888888,\"#b5de2b\"],[1.0,\"#fde725\"]],\"type\":\"surface\"}],\"table\":[{\"cells\":{\"fill\":{\"color\":\"rgb(237,237,237)\"},\"line\":{\"color\":\"white\"}},\"header\":{\"fill\":{\"color\":\"rgb(217,217,217)\"},\"line\":{\"color\":\"white\"}},\"type\":\"table\"}]},\"layout\":{\"annotationdefaults\":{\"arrowhead\":0,\"arrowwidth\":1},\"autotypenumbers\":\"strict\",\"coloraxis\":{\"colorbar\":{\"outlinewidth\":1,\"tickcolor\":\"rgb(36,36,36)\",\"ticks\":\"outside\"}},\"colorscale\":{\"diverging\":[[0.0,\"rgb(103,0,31)\"],[0.1,\"rgb(178,24,43)\"],[0.2,\"rgb(214,96,77)\"],[0.3,\"rgb(244,165,130)\"],[0.4,\"rgb(253,219,199)\"],[0.5,\"rgb(247,247,247)\"],[0.6,\"rgb(209,229,240)\"],[0.7,\"rgb(146,197,222)\"],[0.8,\"rgb(67,147,195)\"],[0.9,\"rgb(33,102,172)\"],[1.0,\"rgb(5,48,97)\"]],\"sequential\":[[0.0,\"#440154\"],[0.1111111111111111,\"#482878\"],[0.2222222222222222,\"#3e4989\"],[0.3333333333333333,\"#31688e\"],[0.4444444444444444,\"#26828e\"],[0.5555555555555556,\"#1f9e89\"],[0.6666666666666666,\"#35b779\"],[0.7777777777777778,\"#6ece58\"],[0.8888888888888888,\"#b5de2b\"],[1.0,\"#fde725\"]],\"sequentialminus\":[[0.0,\"#440154\"],[0.1111111111111111,\"#482878\"],[0.2222222222222222,\"#3e4989\"],[0.3333333333333333,\"#31688e\"],[0.4444444444444444,\"#26828e\"],[0.5555555555555556,\"#1f9e89\"],[0.6666666666666666,\"#35b779\"],[0.7777777777777778,\"#6ece58\"],[0.8888888888888888,\"#b5de2b\"],[1.0,\"#fde725\"]]},\"colorway\":[\"#1F77B4\",\"#FF7F0E\",\"#2CA02C\",\"#D62728\",\"#9467BD\",\"#8C564B\",\"#E377C2\",\"#7F7F7F\",\"#BCBD22\",\"#17BECF\"],\"font\":{\"color\":\"rgb(36,36,36)\"},\"geo\":{\"bgcolor\":\"white\",\"lakecolor\":\"white\",\"landcolor\":\"white\",\"showlakes\":true,\"showland\":true,\"subunitcolor\":\"white\"},\"hoverlabel\":{\"align\":\"left\"},\"hovermode\":\"closest\",\"mapbox\":{\"style\":\"light\"},\"paper_bgcolor\":\"white\",\"plot_bgcolor\":\"white\",\"polar\":{\"angularaxis\":{\"gridcolor\":\"rgb(232,232,232)\",\"linecolor\":\"rgb(36,36,36)\",\"showgrid\":false,\"showline\":true,\"ticks\":\"outside\"},\"bgcolor\":\"white\",\"radialaxis\":{\"gridcolor\":\"rgb(232,232,232)\",\"linecolor\":\"rgb(36,36,36)\",\"showgrid\":false,\"showline\":true,\"ticks\":\"outside\"}},\"scene\":{\"xaxis\":{\"backgroundcolor\":\"white\",\"gridcolor\":\"rgb(232,232,232)\",\"gridwidth\":2,\"linecolor\":\"rgb(36,36,36)\",\"showbackground\":true,\"showgrid\":false,\"showline\":true,\"ticks\":\"outside\",\"zeroline\":false,\"zerolinecolor\":\"rgb(36,36,36)\"},\"yaxis\":{\"backgroundcolor\":\"white\",\"gridcolor\":\"rgb(232,232,232)\",\"gridwidth\":2,\"linecolor\":\"rgb(36,36,36)\",\"showbackground\":true,\"showgrid\":false,\"showline\":true,\"ticks\":\"outside\",\"zeroline\":false,\"zerolinecolor\":\"rgb(36,36,36)\"},\"zaxis\":{\"backgroundcolor\":\"white\",\"gridcolor\":\"rgb(232,232,232)\",\"gridwidth\":2,\"linecolor\":\"rgb(36,36,36)\",\"showbackground\":true,\"showgrid\":false,\"showline\":true,\"ticks\":\"outside\",\"zeroline\":false,\"zerolinecolor\":\"rgb(36,36,36)\"}},\"shapedefaults\":{\"fillcolor\":\"black\",\"line\":{\"width\":0},\"opacity\":0.3},\"ternary\":{\"aaxis\":{\"gridcolor\":\"rgb(232,232,232)\",\"linecolor\":\"rgb(36,36,36)\",\"showgrid\":false,\"showline\":true,\"ticks\":\"outside\"},\"baxis\":{\"gridcolor\":\"rgb(232,232,232)\",\"linecolor\":\"rgb(36,36,36)\",\"showgrid\":false,\"showline\":true,\"ticks\":\"outside\"},\"bgcolor\":\"white\",\"caxis\":{\"gridcolor\":\"rgb(232,232,232)\",\"linecolor\":\"rgb(36,36,36)\",\"showgrid\":false,\"showline\":true,\"ticks\":\"outside\"}},\"title\":{\"x\":0.05},\"xaxis\":{\"automargin\":true,\"gridcolor\":\"rgb(232,232,232)\",\"linecolor\":\"rgb(36,36,36)\",\"showgrid\":false,\"showline\":true,\"ticks\":\"outside\",\"title\":{\"standoff\":15},\"zeroline\":false,\"zerolinecolor\":\"rgb(36,36,36)\"},\"yaxis\":{\"automargin\":true,\"gridcolor\":\"rgb(232,232,232)\",\"linecolor\":\"rgb(36,36,36)\",\"showgrid\":false,\"showline\":true,\"ticks\":\"outside\",\"title\":{\"standoff\":15},\"zeroline\":false,\"zerolinecolor\":\"rgb(36,36,36)\"}}},\"xaxis\":{\"showgrid\":true},\"yaxis\":{\"showgrid\":true,\"title\":{\"text\":\"Count\"}},\"title\":{\"font\":{\"size\":22,\"color\":\"Black\"},\"text\":\"<b>Topics over Time\",\"y\":0.95,\"x\":0.4,\"xanchor\":\"center\",\"yanchor\":\"top\"},\"hoverlabel\":{\"font\":{\"size\":16,\"family\":\"Rockwell\"},\"bgcolor\":\"white\"},\"width\":1000,\"height\":500,\"legend\":{\"title\":{\"text\":\"<b>Global Topic Representation\"}}},                        {\"responsive\": true}                    ).then(function(){\n",
       "                            \n",
       "var gd = document.getElementById('7f6c2e13-174c-49a4-b093-b8dd700ab7ce');\n",
       "var x = new MutationObserver(function (mutations, observer) {{\n",
       "        var display = window.getComputedStyle(gd).display;\n",
       "        if (!display || display === 'none') {{\n",
       "            console.log([gd, 'removed!']);\n",
       "            Plotly.purge(gd);\n",
       "            observer.disconnect();\n",
       "        }}\n",
       "}});\n",
       "\n",
       "// Listen for the removal of the full notebook cells\n",
       "var notebookContainer = gd.closest('#notebook-container');\n",
       "if (notebookContainer) {{\n",
       "    x.observe(notebookContainer, {childList: true});\n",
       "}}\n",
       "\n",
       "// Listen for the clearing of the current output cell\n",
       "var outputEl = gd.closest('.output');\n",
       "if (outputEl) {{\n",
       "    x.observe(outputEl, {childList: true});\n",
       "}}\n",
       "\n",
       "                        })                };                });            </script>        </div>"
      ]
     },
     "metadata": {},
     "output_type": "display_data"
    }
   ],
   "source": [
    "sent_df_year_restrict_20_vis_obj = bertopic_time(sent_df_year_restrict_20, topic_model)\n",
    "sent_df_year_restrict_20_vis = sent_df_year_restrict_20_vis_obj[0]\n",
    "sent_df_year_restrict_20_vis"
   ]
  },
  {
   "cell_type": "markdown",
   "id": "7b3dc343",
   "metadata": {},
   "source": [
    "Create visualisation of topics over time for later-period letters using bertopic_time function."
   ]
  },
  {
   "cell_type": "code",
   "execution_count": 16,
   "id": "7dff8226",
   "metadata": {},
   "outputs": [
    {
     "data": {
      "application/vnd.plotly.v1+json": {
       "config": {
        "plotlyServerURL": "https://plot.ly"
       },
       "data": [
        {
         "hoverinfo": "text",
         "hovertext": [
          "<b>Topic 0</b><br>Words: buckland, arrangement, suffolk, thro, curator",
          "<b>Topic 0</b><br>Words: rix, sequel, mint, sol, decm",
          "<b>Topic 0</b><br>Words: invitation, museum, bury, suffolk, degree",
          "<b>Topic 0</b><br>Words: bumpstead, baine, subcurator, jany, geol",
          "<b>Topic 0</b><br>Words: buckland, norwich, nov, ipswich, omitting",
          "<b>Topic 0</b><br>Words: mcbeath, manager, class, museum, esqr",
          "<b>Topic 0</b><br>Words: suffolk, ipswich, museum, meeting, whewell",
          "<b>Topic 0</b><br>Words: suffolk, ipswich, museum, club, meeting",
          "<b>Topic 0</b><br>Words: museum, suffolk, historian, conglomerate, stevens",
          "<b>Topic 0</b><br>Words: ipswich, museum, invasion, exemplified, chronology",
          "<b>Topic 0</b><br>Words: museum, series, suffolk, meeting, geology",
          "<b>Topic 0</b><br>Words: scotland, invitation, truth, museum, converse",
          "<b>Topic 0</b><br>Words: invitation, museum, madeira, free, cairo",
          "<b>Topic 0</b><br>Words: museum, ipswich, suffolk, marquee, collection",
          "<b>Topic 0</b><br>Words: museum, boat, ethnology, steam, suffolk",
          "<b>Topic 0</b><br>Words: museum, ipswich, london, suffolk, copy",
          "<b>Topic 0</b><br>Words: museum, ipswich, suffolk, hitcham_bildeston, inquiry",
          "<b>Topic 0</b><br>Words: museum, ipswich, meeting, cheltenham, suffolk",
          "<b>Topic 0</b><br>Words: museum, suffolk, hare, hitcham_bildeston, paris",
          "<b>Topic 0</b><br>Words: dublin, ipswich, museum, september, london"
         ],
         "marker": {
          "color": "#E69F00"
         },
         "mode": "markers",
         "name": "0_museum_ipswich_suffolk_meeting",
         "type": "scatter",
         "x": [
          "1845-01-14T06:36:00",
          "1845-09-12T06:00:00",
          "1846-05-06T12:00:00",
          "1846-12-28T18:00:00",
          "1847-08-22T00:00:00",
          "1848-04-14T06:00:00",
          "1848-12-06T12:00:00",
          "1849-07-30T18:00:00",
          "1850-03-24T00:00:00",
          "1850-11-15T06:00:00",
          "1851-07-09T12:00:00",
          "1852-03-01T18:00:00",
          "1852-10-24T00:00:00",
          "1853-06-17T06:00:00",
          "1854-02-08T12:00:00",
          "1854-10-02T18:00:00",
          "1855-05-27T00:00:00",
          "1856-01-18T06:00:00",
          "1856-09-10T12:00:00",
          "1857-05-04T18:00:00"
         ],
         "y": [
          7,
          3,
          8,
          4,
          6,
          4,
          14,
          12,
          11,
          6,
          15,
          7,
          6,
          36,
          12,
          16,
          28,
          27,
          18,
          28
         ]
        },
        {
         "hoverinfo": "text",
         "hovertext": [
          "<b>Topic 1</b><br>Words: professorship, note, consideration, side, committee",
          "<b>Topic 1</b><br>Words: poverty, interest, crime, wealth, expression",
          "<b>Topic 1</b><br>Words: idea, opinion, interest, objection, comment",
          "<b>Topic 1</b><br>Words: strike, forgot, reply, improvement, note",
          "<b>Topic 1</b><br>Words: point, opinion, interest, objection, comment",
          "<b>Topic 1</b><br>Words: facility, opinion, correction, error, evidence",
          "<b>Topic 1</b><br>Words: comment, objection, suggestion, way, pairing",
          "<b>Topic 1</b><br>Words: certainty, opinion, none, mind, god",
          "<b>Topic 1</b><br>Words: feeling, opinion, toleration, tuition, inconsistent",
          "<b>Topic 1</b><br>Words: cullum, certainty, signature, register, objection",
          "<b>Topic 1</b><br>Words: tipsey, customer, publican, narcotic, interest",
          "<b>Topic 1</b><br>Words: relation, judgment, act, sentiment, case",
          "<b>Topic 1</b><br>Words: currey, interest, office, service, handed",
          "<b>Topic 1</b><br>Words: interest, objection, curator, amore, response",
          "<b>Topic 1</b><br>Words: investigator, dicotyledon, non, cause, hint",
          "<b>Topic 1</b><br>Words: point, spider, amiss, karr, sub",
          "<b>Topic 1</b><br>Words: mind, disgust, antiquarian, flunkeyism, respectability",
          "<b>Topic 1</b><br>Words: university, office, esteem, comment, qualification",
          "<b>Topic 1</b><br>Words: interest, vulgarity, load, compliment, barbarity",
          "<b>Topic 1</b><br>Words: opinion, correction, remark, agreement, interest"
         ],
         "marker": {
          "color": "#56B4E9"
         },
         "mode": "markers",
         "name": "1_opinion_interest_objection_comment",
         "type": "scatter",
         "x": [
          "1845-01-14T06:36:00",
          "1845-09-12T06:00:00",
          "1846-05-06T12:00:00",
          "1846-12-28T18:00:00",
          "1847-08-22T00:00:00",
          "1848-04-14T06:00:00",
          "1848-12-06T12:00:00",
          "1849-07-30T18:00:00",
          "1850-03-24T00:00:00",
          "1850-11-15T06:00:00",
          "1851-07-09T12:00:00",
          "1852-03-01T18:00:00",
          "1852-10-24T00:00:00",
          "1853-06-17T06:00:00",
          "1854-02-08T12:00:00",
          "1854-10-02T18:00:00",
          "1855-05-27T00:00:00",
          "1856-01-18T06:00:00",
          "1856-09-10T12:00:00",
          "1857-05-04T18:00:00"
         ],
         "y": [
          10,
          14,
          1,
          2,
          1,
          2,
          17,
          12,
          13,
          6,
          1,
          9,
          8,
          9,
          3,
          7,
          15,
          16,
          13,
          20
         ]
        },
        {
         "hoverinfo": "text",
         "hovertext": [
          "<b>Topic 2</b><br>Words: hutton, benjamin, fetch, maund, stair",
          "<b>Topic 2</b><br>Words: fetch, kindest_regard, mary, alban, anne",
          "<b>Topic 2</b><br>Words: hooker, miss, family, lady, girl",
          "<b>Topic 2</b><br>Words: hooker, harriet, room, family, joseph",
          "<b>Topic 2</b><br>Words: hooker, lady, wheat, fanny, care",
          "<b>Topic 2</b><br>Words: albans, fanny, convoy, gunn, kindest_regards",
          "<b>Topic 2</b><br>Words: wife, sleep, ocl, kindest_regard, harriet",
          "<b>Topic 2</b><br>Words: hooker, news, harriet, fanny, home",
          "<b>Topic 2</b><br>Words: sister, lady, cassel, day, united_regard",
          "<b>Topic 2</b><br>Words: affte, hooker, jos, brown, lindley",
          "<b>Topic 2</b><br>Words: breast, rogue, rascallitie, fool, course",
          "<b>Topic 2</b><br>Words: hooker, daughter, disquietude, expectant, hurt",
          "<b>Topic 2</b><br>Words: hooker, confinement, hopkins, refutation, members",
          "<b>Topic 2</b><br>Words: hooker, harriet, days_ago, united_regard, husband",
          "<b>Topic 2</b><br>Words: hooker, maud, brentford, midnight, presentation",
          "<b>Topic 2</b><br>Words: gr, karen, hooker, dress, mistress",
          "<b>Topic 2</b><br>Words: hooker, harriet, lady, evg, family",
          "<b>Topic 2</b><br>Words: harriet, hooker, brighton, hour, misunderstood",
          "<b>Topic 2</b><br>Words: hooker, daisy, morn, buttercup, geographie",
          "<b>Topic 2</b><br>Words: hooker, harriet, fanny, family, sinclair"
         ],
         "marker": {
          "color": "#009E73"
         },
         "mode": "markers",
         "name": "2_hooker_harriet_family_lady",
         "type": "scatter",
         "x": [
          "1845-01-14T06:36:00",
          "1845-09-12T06:00:00",
          "1846-05-06T12:00:00",
          "1846-12-28T18:00:00",
          "1847-08-22T00:00:00",
          "1848-04-14T06:00:00",
          "1848-12-06T12:00:00",
          "1849-07-30T18:00:00",
          "1850-03-24T00:00:00",
          "1850-11-15T06:00:00",
          "1851-07-09T12:00:00",
          "1852-03-01T18:00:00",
          "1852-10-24T00:00:00",
          "1853-06-17T06:00:00",
          "1854-02-08T12:00:00",
          "1854-10-02T18:00:00",
          "1855-05-27T00:00:00",
          "1856-01-18T06:00:00",
          "1856-09-10T12:00:00",
          "1857-05-04T18:00:00"
         ],
         "y": [
          6,
          4,
          12,
          13,
          5,
          3,
          4,
          13,
          9,
          2,
          1,
          6,
          3,
          18,
          4,
          6,
          11,
          15,
          12,
          22
         ]
        },
        {
         "hoverinfo": "text",
         "hovertext": [
          "<b>Topic 3</b><br>Words: bone, nodule, london_clay, drive, zamia",
          "<b>Topic 3</b><br>Words: sacrifice, specimen, break, permission, determination",
          "<b>Topic 3</b><br>Words: bone, tooth, flint, cavern, stalagmite",
          "<b>Topic 3</b><br>Words: chance, specimen, glass, foot, bone",
          "<b>Topic 3</b><br>Words: telescope, tube, shell, glass, duplicate",
          "<b>Topic 3</b><br>Words: bottle, wine, chalk, statute, none",
          "<b>Topic 3</b><br>Words: closehouse, brocke, woodwardia, discharge, prisoner",
          "<b>Topic 3</b><br>Words: miocene, pliocene, coraline, drift, pleistocene",
          "<b>Topic 3</b><br>Words: specimen, bead, glass, method, model",
          "<b>Topic 3</b><br>Words: geology, gen, mineralogy, botany, specimen",
          "<b>Topic 3</b><br>Words: explanation, geol_soc, fossil, speciman, owen",
          "<b>Topic 3</b><br>Words: potassium, glass, plate, specimen, fossil",
          "<b>Topic 3</b><br>Words: glass, bird, case, albinoe, hybrid",
          "<b>Topic 3</b><br>Words: depth, lens, chalk, circle, fossil",
          "<b>Topic 3</b><br>Words: specimen, candelabrum, aloe, regis, growth",
          "<b>Topic 3</b><br>Words: thickness, mammal, skeleton, limb, coast",
          "<b>Topic 3</b><br>Words: limestone, truly_ducie, glass, batata, millstone",
          "<b>Topic 3</b><br>Words: foot, specimen, geologist, collecting, gault"
         ],
         "marker": {
          "color": "#F0E442"
         },
         "mode": "markers",
         "name": "3_specimen_glass_foot_bone",
         "type": "scatter",
         "x": [
          "1845-01-14T06:36:00",
          "1845-09-12T06:00:00",
          "1846-05-06T12:00:00",
          "1847-08-22T00:00:00",
          "1848-04-14T06:00:00",
          "1848-12-06T12:00:00",
          "1850-03-24T00:00:00",
          "1850-11-15T06:00:00",
          "1851-07-09T12:00:00",
          "1852-03-01T18:00:00",
          "1852-10-24T00:00:00",
          "1853-06-17T06:00:00",
          "1854-02-08T12:00:00",
          "1854-10-02T18:00:00",
          "1855-05-27T00:00:00",
          "1856-01-18T06:00:00",
          "1856-09-10T12:00:00",
          "1857-05-04T18:00:00"
         ],
         "y": [
          6,
          1,
          10,
          1,
          3,
          4,
          2,
          6,
          9,
          2,
          1,
          12,
          7,
          6,
          6,
          7,
          9,
          10
         ]
        },
        {
         "hoverinfo": "text",
         "hovertext": [
          "<b>Topic 4</b><br>Words: gardener, york, variety, ingenious, pitmaston",
          "<b>Topic 4</b><br>Words: plant, galapagos, hort_soc, chonos, isld",
          "<b>Topic 4</b><br>Words: coniferae, nursery, botanic_garden, grace, syndicate",
          "<b>Topic 4</b><br>Words: precaution, conifer, marvel, vegetable_physiology, desiderata",
          "<b>Topic 4</b><br>Words: cycadeae, babbage, wmhooker, plant, kind",
          "<b>Topic 4</b><br>Words: term, period, monday, command, saturdays",
          "<b>Topic 4</b><br>Words: syllabus, botany, lecturing, apprenticeship, melissa",
          "<b>Topic 4</b><br>Words: plant, bryony, melittis, grandiflora, black",
          "<b>Topic 4</b><br>Words: plenty, boehmeria, musing, seemingley, careless",
          "<b>Topic 4</b><br>Words: plant, lyell, hooker, whewell, camberwell",
          "<b>Topic 4</b><br>Words: genera, linnaei, centaurea, amaryllis, alstroemeria",
          "<b>Topic 4</b><br>Words: botany, plant, spondylium, giganteum, andmrs",
          "<b>Topic 4</b><br>Words: sykes, pursuit, col, request, botany",
          "<b>Topic 4</b><br>Words: plant, lemonade, raspberry, song, vinegar",
          "<b>Topic 4</b><br>Words: building, preference, pass, plant, flower",
          "<b>Topic 4</b><br>Words: proceeding, linnaean, herbarium, botany, publication",
          "<b>Topic 4</b><br>Words: tubifex, bristle, nat_hist, plant, soenurus",
          "<b>Topic 4</b><br>Words: plant, botany, moor, glastonbury, unedo",
          "<b>Topic 4</b><br>Words: gardeners_chronicle, botany, plant, botanist, flora",
          "<b>Topic 4</b><br>Words: aegilop, seed, lyell, vasscule, cryptogamic"
         ],
         "marker": {
          "color": "#D55E00"
         },
         "mode": "markers",
         "name": "4_plant_botany_botanist_gardeners_chroni...",
         "type": "scatter",
         "x": [
          "1845-01-14T06:36:00",
          "1845-09-12T06:00:00",
          "1846-05-06T12:00:00",
          "1846-12-28T18:00:00",
          "1847-08-22T00:00:00",
          "1848-04-14T06:00:00",
          "1848-12-06T12:00:00",
          "1849-07-30T18:00:00",
          "1850-03-24T00:00:00",
          "1850-11-15T06:00:00",
          "1851-07-09T12:00:00",
          "1852-03-01T18:00:00",
          "1852-10-24T00:00:00",
          "1853-06-17T06:00:00",
          "1854-02-08T12:00:00",
          "1854-10-02T18:00:00",
          "1855-05-27T00:00:00",
          "1856-01-18T06:00:00",
          "1856-09-10T12:00:00",
          "1857-05-04T18:00:00"
         ],
         "y": [
          4,
          7,
          3,
          3,
          2,
          2,
          3,
          10,
          2,
          3,
          6,
          3,
          1,
          1,
          3,
          5,
          5,
          10,
          14,
          5
         ]
        },
        {
         "hoverinfo": "text",
         "hovertext": [
          "<b>Topic 5</b><br>Words: dare, abundance, shew, turn, paper",
          "<b>Topic 5</b><br>Words: publishers, wiley, putnam, waterloo, printer",
          "<b>Topic 5</b><br>Words: bookseller, wire, pocket, table, journal",
          "<b>Topic 5</b><br>Words: read, paper, report, book, printer",
          "<b>Topic 5</b><br>Words: butter, publisher, press, book, paper",
          "<b>Topic 5</b><br>Words: dent, sic, page, paper, book",
          "<b>Topic 5</b><br>Words: print, overhaul, waste, work, inform",
          "<b>Topic 5</b><br>Words: relative, binder, physiol, paper, comp",
          "<b>Topic 5</b><br>Words: shift, cotton, monograph, varnish, follow",
          "<b>Topic 5</b><br>Words: paper, preston, hardacre, printer, shelford",
          "<b>Topic 5</b><br>Words: paper, section, press, thro, straw",
          "<b>Topic 5</b><br>Words: paper, printer, press, book, order",
          "<b>Topic 5</b><br>Words: paper, book, distinct, transaction, year",
          "<b>Topic 5</b><br>Words: paper, book, document, broad, width",
          "<b>Topic 5</b><br>Words: book, sheet, printer, cut, mem"
         ],
         "marker": {
          "color": "#0072B2"
         },
         "mode": "markers",
         "name": "5_paper_book_printer_press",
         "type": "scatter",
         "x": [
          "1845-01-14T06:36:00",
          "1846-05-06T12:00:00",
          "1846-12-28T18:00:00",
          "1847-08-22T00:00:00",
          "1849-07-30T18:00:00",
          "1850-03-24T00:00:00",
          "1851-07-09T12:00:00",
          "1852-03-01T18:00:00",
          "1853-06-17T06:00:00",
          "1854-02-08T12:00:00",
          "1854-10-02T18:00:00",
          "1855-05-27T00:00:00",
          "1856-01-18T06:00:00",
          "1856-09-10T12:00:00",
          "1857-05-04T18:00:00"
         ],
         "y": [
          1,
          2,
          3,
          1,
          5,
          3,
          2,
          3,
          2,
          1,
          5,
          11,
          5,
          9,
          14
         ]
        },
        {
         "hoverinfo": "text",
         "hovertext": [
          "<b>Topic 7</b><br>Words: medusae, ejecta, health, arm, doctor",
          "<b>Topic 7</b><br>Words: operative, neot, surgeon, class, health",
          "<b>Topic 7</b><br>Words: improved_health, permit, honour, health, arm",
          "<b>Topic 7</b><br>Words: harwich, college_surgeon, health, arm, doctor",
          "<b>Topic 7</b><br>Words: arm, bruise, night, bandage, humerus",
          "<b>Topic 7</b><br>Words: courtier, occupie, disinterested, doctor, improved_health",
          "<b>Topic 7</b><br>Words: augt, college_surgeon, september, health, arm",
          "<b>Topic 7</b><br>Words: physician, derangement, doctor, health, duty",
          "<b>Topic 7</b><br>Words: oyster, college_surgeon, colchester, wish, december",
          "<b>Topic 7</b><br>Words: abuse, conviviality, plague, equanimity, fulfilling",
          "<b>Topic 7</b><br>Words: ere, college_surgeon, sympathy, moment, february",
          "<b>Topic 7</b><br>Words: harz, treatment, medical, complaint, mountain",
          "<b>Topic 7</b><br>Words: delicate, health, doctor, illness, month"
         ],
         "marker": {
          "color": "#CC79A7"
         },
         "mode": "markers",
         "name": "7_health_arm_doctor_college_surgeon",
         "type": "scatter",
         "x": [
          "1845-01-14T06:36:00",
          "1845-09-12T06:00:00",
          "1846-12-28T18:00:00",
          "1848-04-14T06:00:00",
          "1849-07-30T18:00:00",
          "1851-07-09T12:00:00",
          "1852-03-01T18:00:00",
          "1853-06-17T06:00:00",
          "1854-10-02T18:00:00",
          "1855-05-27T00:00:00",
          "1856-01-18T06:00:00",
          "1856-09-10T12:00:00",
          "1857-05-04T18:00:00"
         ],
         "y": [
          1,
          2,
          2,
          1,
          7,
          3,
          1,
          9,
          1,
          2,
          1,
          1,
          3
         ]
        },
        {
         "hoverinfo": "text",
         "hovertext": [
          "<b>Topic 8</b><br>Words: smith, integrity, choose, lament, goulburn",
          "<b>Topic 8</b><br>Words: particep, smith, coleman, owe, conversation",
          "<b>Topic 8</b><br>Words: coleman, murray, avail, henry, procure",
          "<b>Topic 8</b><br>Words: lefevre, shaw, john, smith, miller",
          "<b>Topic 8</b><br>Words: banks, scott, region, origin, joseph",
          "<b>Topic 8</b><br>Words: algernon, sec, pollock, smith, miller",
          "<b>Topic 8</b><br>Words: murray, joseph, haviland, hayle, clark",
          "<b>Topic 8</b><br>Words: reid, lyttleton, smith, miller, publishing",
          "<b>Topic 8</b><br>Words: betn, armadillos, curtis, miller, smith",
          "<b>Topic 8</b><br>Words: tear, job, roach_smith, smith, discussion",
          "<b>Topic 8</b><br>Words: smith, miller, murray, joseph, integrity",
          "<b>Topic 8</b><br>Words: londerburgh, miller, liberal, roach_smith, clark",
          "<b>Topic 8</b><br>Words: poole, stanley, yarrell, edward, smith",
          "<b>Topic 8</b><br>Words: patterson, reeve, robert, smith, miller"
         ],
         "marker": {
          "color": "#E69F00"
         },
         "mode": "markers",
         "name": "8_smith_miller_murray_joseph",
         "type": "scatter",
         "x": [
          "1845-01-14T06:36:00",
          "1845-09-12T06:00:00",
          "1846-05-06T12:00:00",
          "1846-12-28T18:00:00",
          "1847-08-22T00:00:00",
          "1849-07-30T18:00:00",
          "1850-03-24T00:00:00",
          "1852-10-24T00:00:00",
          "1853-06-17T06:00:00",
          "1854-10-02T18:00:00",
          "1855-05-27T00:00:00",
          "1856-01-18T06:00:00",
          "1856-09-10T12:00:00",
          "1857-05-04T18:00:00"
         ],
         "y": [
          4,
          2,
          2,
          1,
          2,
          1,
          4,
          3,
          2,
          2,
          2,
          4,
          2,
          2
         ]
        },
        {
         "hoverinfo": "text",
         "hovertext": [
          "<b>Topic 10</b><br>Words: plan, train, railway, father, haste",
          "<b>Topic 10</b><br>Words: disruption, join, father, desire, train",
          "<b>Topic 10</b><br>Words: plan, year, train, railway, father",
          "<b>Topic 10</b><br>Words: pre, train, plan, railway, father",
          "<b>Topic 10</b><br>Words: decease, father, course, train, plan",
          "<b>Topic 10</b><br>Words: train, limbo, leg, hour, plan",
          "<b>Topic 10</b><br>Words: future, convenience, line, train, plan",
          "<b>Topic 10</b><br>Words: cd, train, advance, plan, railway",
          "<b>Topic 10</b><br>Words: railway, father, line, plan, day",
          "<b>Topic 10</b><br>Words: remain, people, train, plan, railway",
          "<b>Topic 10</b><br>Words: train, railway, conservation, civilization, dispatch",
          "<b>Topic 10</b><br>Words: haste, train, path, usefulness, sight",
          "<b>Topic 10</b><br>Words: railway, feature, inability, drawback, flock",
          "<b>Topic 10</b><br>Words: inquiry, determination, reply, line, train"
         ],
         "marker": {
          "color": "#56B4E9"
         },
         "mode": "markers",
         "name": "10_train_plan_railway_father",
         "type": "scatter",
         "x": [
          "1845-01-14T06:36:00",
          "1845-09-12T06:00:00",
          "1846-12-28T18:00:00",
          "1848-12-06T12:00:00",
          "1849-07-30T18:00:00",
          "1850-03-24T00:00:00",
          "1852-03-01T18:00:00",
          "1853-06-17T06:00:00",
          "1854-02-08T12:00:00",
          "1854-10-02T18:00:00",
          "1855-05-27T00:00:00",
          "1856-01-18T06:00:00",
          "1856-09-10T12:00:00",
          "1857-05-04T18:00:00"
         ],
         "y": [
          1,
          2,
          1,
          1,
          1,
          2,
          2,
          2,
          2,
          1,
          8,
          4,
          3,
          1
         ]
        },
        {
         "hoverinfo": "text",
         "hovertext": [
          "<b>Topic 11</b><br>Words: month, rap, sept, room, thought",
          "<b>Topic 11</b><br>Words: charing, cross, subcommittee, plumper, promising",
          "<b>Topic 11</b><br>Words: sept, january, god, month, july",
          "<b>Topic 11</b><br>Words: dec, month, july, year, season",
          "<b>Topic 11</b><br>Words: preside, ton, july, company, duty",
          "<b>Topic 11</b><br>Words: united_state, december, month, july, year",
          "<b>Topic 11</b><br>Words: months_ago, professor, month, july, year",
          "<b>Topic 11</b><br>Words: season, winter, year, order, plan",
          "<b>Topic 11</b><br>Words: circuit, month, berlin, vol, january",
          "<b>Topic 11</b><br>Words: july, month, year, septr, beginning",
          "<b>Topic 11</b><br>Words: ns, dec, truly_ducie, season, statement",
          "<b>Topic 11</b><br>Words: carex, sw, leonard, year, june"
         ],
         "marker": {
          "color": "#009E73"
         },
         "mode": "markers",
         "name": "11_month_july_year_season",
         "type": "scatter",
         "x": [
          "1845-01-14T06:36:00",
          "1846-12-28T18:00:00",
          "1849-07-30T18:00:00",
          "1850-03-24T00:00:00",
          "1850-11-15T06:00:00",
          "1852-03-01T18:00:00",
          "1852-10-24T00:00:00",
          "1853-06-17T06:00:00",
          "1854-10-02T18:00:00",
          "1856-01-18T06:00:00",
          "1856-09-10T12:00:00",
          "1857-05-04T18:00:00"
         ],
         "y": [
          3,
          3,
          2,
          1,
          2,
          1,
          1,
          3,
          2,
          7,
          4,
          2
         ]
        },
        {
         "hoverinfo": "text",
         "hovertext": [
          "<b>Topic 6</b><br>Words: afzelius, collections, cape, mus, coast",
          "<b>Topic 6</b><br>Words: attic, horse, money, eye, collection",
          "<b>Topic 6</b><br>Words: index, expense, appearance, end, price",
          "<b>Topic 6</b><br>Words: list, price, collection, value, counter",
          "<b>Topic 6</b><br>Words: collection, russia, saurian, regeneration, denier",
          "<b>Topic 6</b><br>Words: price, linnean, genera, answer, system",
          "<b>Topic 6</b><br>Words: luggage, donation, nithee, price, collection",
          "<b>Topic 6</b><br>Words: daguerrotype, shade, choice, price, expense",
          "<b>Topic 6</b><br>Words: price, collection, entrance, cochel, worth",
          "<b>Topic 6</b><br>Words: valuation, value, collection, settle, price",
          "<b>Topic 6</b><br>Words: fold, minter, stint, hour, merchant",
          "<b>Topic 6</b><br>Words: price, counter, collection, nuremberg, jetton",
          "<b>Topic 6</b><br>Words: value, number, woodcut, profusion, price"
         ],
         "marker": {
          "color": "#F0E442"
         },
         "mode": "markers",
         "name": "6_price_collection_value_counter",
         "type": "scatter",
         "x": [
          "1845-09-12T06:00:00",
          "1846-05-06T12:00:00",
          "1846-12-28T18:00:00",
          "1849-07-30T18:00:00",
          "1850-03-24T00:00:00",
          "1851-07-09T12:00:00",
          "1852-10-24T00:00:00",
          "1854-02-08T12:00:00",
          "1854-10-02T18:00:00",
          "1855-05-27T00:00:00",
          "1856-01-18T06:00:00",
          "1856-09-10T12:00:00",
          "1857-05-04T18:00:00"
         ],
         "y": [
          2,
          1,
          2,
          1,
          6,
          2,
          1,
          3,
          8,
          8,
          4,
          9,
          6
         ]
        },
        {
         "hoverinfo": "text",
         "hovertext": [
          "<b>Topic 9</b><br>Words: religion, church, effect, treasury, belly",
          "<b>Topic 9</b><br>Words: churchman, junction, opposition, babington, consequence",
          "<b>Topic 9</b><br>Words: church, sabbath, sermon, argument, lord",
          "<b>Topic 9</b><br>Words: church, clergyman, holiday, boldness, catechism",
          "<b>Topic 9</b><br>Words: training, disposal, church, master, system",
          "<b>Topic 9</b><br>Words: hatred, humbler, churchism, characteristic, persecution",
          "<b>Topic 9</b><br>Words: parishioner, source, instruction, country, church",
          "<b>Topic 9</b><br>Words: travel, kind, sermon, parishioner, parcel",
          "<b>Topic 9</b><br>Words: church, sermon, clergyman, parishioner, placidity",
          "<b>Topic 9</b><br>Words: clergyman, path, parishioner, clergymen, chronicle",
          "<b>Topic 9</b><br>Words: stimulus, shortcoming, sermon, school, church"
         ],
         "marker": {
          "color": "#D55E00"
         },
         "mode": "markers",
         "name": "9_church_sermon_clergyman_parishioner",
         "type": "scatter",
         "x": [
          "1845-09-12T06:00:00",
          "1848-12-06T12:00:00",
          "1849-07-30T18:00:00",
          "1850-03-24T00:00:00",
          "1850-11-15T06:00:00",
          "1852-03-01T18:00:00",
          "1852-10-24T00:00:00",
          "1853-06-17T06:00:00",
          "1855-05-27T00:00:00",
          "1856-01-18T06:00:00",
          "1856-09-10T12:00:00"
         ],
         "y": [
          5,
          1,
          8,
          6,
          1,
          1,
          1,
          2,
          5,
          2,
          1
         ]
        },
        {
         "hoverinfo": "text",
         "hovertext": [
          "<b>Topic 14</b><br>Words: cambridge, saturday, strike, willis, auspex",
          "<b>Topic 14</b><br>Words: cambridge, kidd, knife, wm, oxford",
          "<b>Topic 14</b><br>Words: downing_college, cambridge, hitcham, oxford, minority",
          "<b>Topic 14</b><br>Words: cambridge, philosophical_society, minority, closing, reading",
          "<b>Topic 14</b><br>Words: cambridge, minority, provost, stage, poll",
          "<b>Topic 14</b><br>Words: cambridge, baas, teaching, library_mss, april",
          "<b>Topic 14</b><br>Words: cambridge, scroope, terrace, inch, observation",
          "<b>Topic 14</b><br>Words: cambridge, oxford, minority, provost, scroope",
          "<b>Topic 14</b><br>Words: cambridge, esq, reside, gazette, cover",
          "<b>Topic 14</b><br>Words: cambridge, oxford, provost, purport, inferiority",
          "<b>Topic 14</b><br>Words: cambridge, tripos, sc, classic, downing_college",
          "<b>Topic 14</b><br>Words: search, cambridge, oxford, minority, provost"
         ],
         "marker": {
          "color": "#0072B2"
         },
         "mode": "markers",
         "name": "14_cambridge_oxford_provost_minority",
         "type": "scatter",
         "x": [
          "1845-09-12T06:00:00",
          "1846-05-06T12:00:00",
          "1848-04-14T06:00:00",
          "1849-07-30T18:00:00",
          "1850-03-24T00:00:00",
          "1852-10-24T00:00:00",
          "1853-06-17T06:00:00",
          "1854-10-02T18:00:00",
          "1855-05-27T00:00:00",
          "1856-01-18T06:00:00",
          "1856-09-10T12:00:00",
          "1857-05-04T18:00:00"
         ],
         "y": [
          2,
          2,
          1,
          2,
          5,
          2,
          2,
          1,
          4,
          4,
          2,
          2
         ]
        },
        {
         "hoverinfo": "text",
         "hovertext": [
          "<b>Topic 12</b><br>Words: botrytis, caple, theory, insect, wasp",
          "<b>Topic 12</b><br>Words: insect, aphid, beam, hop, bean",
          "<b>Topic 12</b><br>Words: velleius, wasp, nest, overcare, moist",
          "<b>Topic 12</b><br>Words: diptera, entomologist, insect, fauna, dog",
          "<b>Topic 12</b><br>Words: insect, accident, continent, wandering, fauna",
          "<b>Topic 12</b><br>Words: bee, wasp, insect, headquarters, eater",
          "<b>Topic 12</b><br>Words: insect, insectology, transfer, wing, trembley",
          "<b>Topic 12</b><br>Words: insecta, westwood, gray, dr, wasp",
          "<b>Topic 12</b><br>Words: entomology, insect, name, misnomer, lucina"
         ],
         "marker": {
          "color": "#CC79A7"
         },
         "mode": "markers",
         "name": "12_insect_wasp_diptera_bee",
         "type": "scatter",
         "x": [
          "1846-05-06T12:00:00",
          "1846-12-28T18:00:00",
          "1848-12-06T12:00:00",
          "1849-07-30T18:00:00",
          "1851-07-09T12:00:00",
          "1853-06-17T06:00:00",
          "1855-05-27T00:00:00",
          "1856-01-18T06:00:00",
          "1856-09-10T12:00:00"
         ],
         "y": [
          1,
          5,
          2,
          5,
          3,
          4,
          4,
          3,
          3
         ]
        },
        {
         "hoverinfo": "text",
         "hovertext": [
          "<b>Topic 13</b><br>Words: lecture, interested, memorial, read, page",
          "<b>Topic 13</b><br>Words: lecture, easter, minimum, undergraduate, quere",
          "<b>Topic 13</b><br>Words: speech, bet, fisher, albert, appeal",
          "<b>Topic 13</b><br>Words: auditor, ticket, lecture, examination, occasion",
          "<b>Topic 13</b><br>Words: lecture, examination, dean, occasion, school",
          "<b>Topic 13</b><br>Words: rector, example, lecture, examination, occasion",
          "<b>Topic 13</b><br>Words: lecture, fireplace, ventilation, offhand, lecturet",
          "<b>Topic 13</b><br>Words: lecture, statement, occasion, committee, print",
          "<b>Topic 13</b><br>Words: lecture, examination, exam, candidate, room",
          "<b>Topic 13</b><br>Words: particular, talk, assist, lecture, examination"
         ],
         "marker": {
          "color": "#E69F00"
         },
         "mode": "markers",
         "name": "13_lecture_examination_occasion_exam",
         "type": "scatter",
         "x": [
          "1848-04-14T06:00:00",
          "1848-12-06T12:00:00",
          "1849-07-30T18:00:00",
          "1852-10-24T00:00:00",
          "1853-06-17T06:00:00",
          "1854-10-02T18:00:00",
          "1855-05-27T00:00:00",
          "1856-01-18T06:00:00",
          "1856-09-10T12:00:00",
          "1857-05-04T18:00:00"
         ],
         "y": [
          2,
          2,
          2,
          1,
          5,
          1,
          4,
          1,
          10,
          1
         ]
        }
       ],
       "layout": {
        "height": 500,
        "hoverlabel": {
         "bgcolor": "white",
         "font": {
          "family": "Rockwell",
          "size": 16
         }
        },
        "legend": {
         "title": {
          "text": "<b>Global Topic Representation"
         }
        },
        "template": {
         "data": {
          "bar": [
           {
            "error_x": {
             "color": "rgb(36,36,36)"
            },
            "error_y": {
             "color": "rgb(36,36,36)"
            },
            "marker": {
             "line": {
              "color": "white",
              "width": 0.5
             },
             "pattern": {
              "fillmode": "overlay",
              "size": 10,
              "solidity": 0.2
             }
            },
            "type": "bar"
           }
          ],
          "barpolar": [
           {
            "marker": {
             "line": {
              "color": "white",
              "width": 0.5
             },
             "pattern": {
              "fillmode": "overlay",
              "size": 10,
              "solidity": 0.2
             }
            },
            "type": "barpolar"
           }
          ],
          "carpet": [
           {
            "aaxis": {
             "endlinecolor": "rgb(36,36,36)",
             "gridcolor": "white",
             "linecolor": "white",
             "minorgridcolor": "white",
             "startlinecolor": "rgb(36,36,36)"
            },
            "baxis": {
             "endlinecolor": "rgb(36,36,36)",
             "gridcolor": "white",
             "linecolor": "white",
             "minorgridcolor": "white",
             "startlinecolor": "rgb(36,36,36)"
            },
            "type": "carpet"
           }
          ],
          "choropleth": [
           {
            "colorbar": {
             "outlinewidth": 1,
             "tickcolor": "rgb(36,36,36)",
             "ticks": "outside"
            },
            "type": "choropleth"
           }
          ],
          "contour": [
           {
            "colorbar": {
             "outlinewidth": 1,
             "tickcolor": "rgb(36,36,36)",
             "ticks": "outside"
            },
            "colorscale": [
             [
              0,
              "#440154"
             ],
             [
              0.1111111111111111,
              "#482878"
             ],
             [
              0.2222222222222222,
              "#3e4989"
             ],
             [
              0.3333333333333333,
              "#31688e"
             ],
             [
              0.4444444444444444,
              "#26828e"
             ],
             [
              0.5555555555555556,
              "#1f9e89"
             ],
             [
              0.6666666666666666,
              "#35b779"
             ],
             [
              0.7777777777777778,
              "#6ece58"
             ],
             [
              0.8888888888888888,
              "#b5de2b"
             ],
             [
              1,
              "#fde725"
             ]
            ],
            "type": "contour"
           }
          ],
          "contourcarpet": [
           {
            "colorbar": {
             "outlinewidth": 1,
             "tickcolor": "rgb(36,36,36)",
             "ticks": "outside"
            },
            "type": "contourcarpet"
           }
          ],
          "heatmap": [
           {
            "colorbar": {
             "outlinewidth": 1,
             "tickcolor": "rgb(36,36,36)",
             "ticks": "outside"
            },
            "colorscale": [
             [
              0,
              "#440154"
             ],
             [
              0.1111111111111111,
              "#482878"
             ],
             [
              0.2222222222222222,
              "#3e4989"
             ],
             [
              0.3333333333333333,
              "#31688e"
             ],
             [
              0.4444444444444444,
              "#26828e"
             ],
             [
              0.5555555555555556,
              "#1f9e89"
             ],
             [
              0.6666666666666666,
              "#35b779"
             ],
             [
              0.7777777777777778,
              "#6ece58"
             ],
             [
              0.8888888888888888,
              "#b5de2b"
             ],
             [
              1,
              "#fde725"
             ]
            ],
            "type": "heatmap"
           }
          ],
          "heatmapgl": [
           {
            "colorbar": {
             "outlinewidth": 1,
             "tickcolor": "rgb(36,36,36)",
             "ticks": "outside"
            },
            "colorscale": [
             [
              0,
              "#440154"
             ],
             [
              0.1111111111111111,
              "#482878"
             ],
             [
              0.2222222222222222,
              "#3e4989"
             ],
             [
              0.3333333333333333,
              "#31688e"
             ],
             [
              0.4444444444444444,
              "#26828e"
             ],
             [
              0.5555555555555556,
              "#1f9e89"
             ],
             [
              0.6666666666666666,
              "#35b779"
             ],
             [
              0.7777777777777778,
              "#6ece58"
             ],
             [
              0.8888888888888888,
              "#b5de2b"
             ],
             [
              1,
              "#fde725"
             ]
            ],
            "type": "heatmapgl"
           }
          ],
          "histogram": [
           {
            "marker": {
             "line": {
              "color": "white",
              "width": 0.6
             }
            },
            "type": "histogram"
           }
          ],
          "histogram2d": [
           {
            "colorbar": {
             "outlinewidth": 1,
             "tickcolor": "rgb(36,36,36)",
             "ticks": "outside"
            },
            "colorscale": [
             [
              0,
              "#440154"
             ],
             [
              0.1111111111111111,
              "#482878"
             ],
             [
              0.2222222222222222,
              "#3e4989"
             ],
             [
              0.3333333333333333,
              "#31688e"
             ],
             [
              0.4444444444444444,
              "#26828e"
             ],
             [
              0.5555555555555556,
              "#1f9e89"
             ],
             [
              0.6666666666666666,
              "#35b779"
             ],
             [
              0.7777777777777778,
              "#6ece58"
             ],
             [
              0.8888888888888888,
              "#b5de2b"
             ],
             [
              1,
              "#fde725"
             ]
            ],
            "type": "histogram2d"
           }
          ],
          "histogram2dcontour": [
           {
            "colorbar": {
             "outlinewidth": 1,
             "tickcolor": "rgb(36,36,36)",
             "ticks": "outside"
            },
            "colorscale": [
             [
              0,
              "#440154"
             ],
             [
              0.1111111111111111,
              "#482878"
             ],
             [
              0.2222222222222222,
              "#3e4989"
             ],
             [
              0.3333333333333333,
              "#31688e"
             ],
             [
              0.4444444444444444,
              "#26828e"
             ],
             [
              0.5555555555555556,
              "#1f9e89"
             ],
             [
              0.6666666666666666,
              "#35b779"
             ],
             [
              0.7777777777777778,
              "#6ece58"
             ],
             [
              0.8888888888888888,
              "#b5de2b"
             ],
             [
              1,
              "#fde725"
             ]
            ],
            "type": "histogram2dcontour"
           }
          ],
          "mesh3d": [
           {
            "colorbar": {
             "outlinewidth": 1,
             "tickcolor": "rgb(36,36,36)",
             "ticks": "outside"
            },
            "type": "mesh3d"
           }
          ],
          "parcoords": [
           {
            "line": {
             "colorbar": {
              "outlinewidth": 1,
              "tickcolor": "rgb(36,36,36)",
              "ticks": "outside"
             }
            },
            "type": "parcoords"
           }
          ],
          "pie": [
           {
            "automargin": true,
            "type": "pie"
           }
          ],
          "scatter": [
           {
            "fillpattern": {
             "fillmode": "overlay",
             "size": 10,
             "solidity": 0.2
            },
            "type": "scatter"
           }
          ],
          "scatter3d": [
           {
            "line": {
             "colorbar": {
              "outlinewidth": 1,
              "tickcolor": "rgb(36,36,36)",
              "ticks": "outside"
             }
            },
            "marker": {
             "colorbar": {
              "outlinewidth": 1,
              "tickcolor": "rgb(36,36,36)",
              "ticks": "outside"
             }
            },
            "type": "scatter3d"
           }
          ],
          "scattercarpet": [
           {
            "marker": {
             "colorbar": {
              "outlinewidth": 1,
              "tickcolor": "rgb(36,36,36)",
              "ticks": "outside"
             }
            },
            "type": "scattercarpet"
           }
          ],
          "scattergeo": [
           {
            "marker": {
             "colorbar": {
              "outlinewidth": 1,
              "tickcolor": "rgb(36,36,36)",
              "ticks": "outside"
             }
            },
            "type": "scattergeo"
           }
          ],
          "scattergl": [
           {
            "marker": {
             "colorbar": {
              "outlinewidth": 1,
              "tickcolor": "rgb(36,36,36)",
              "ticks": "outside"
             }
            },
            "type": "scattergl"
           }
          ],
          "scattermapbox": [
           {
            "marker": {
             "colorbar": {
              "outlinewidth": 1,
              "tickcolor": "rgb(36,36,36)",
              "ticks": "outside"
             }
            },
            "type": "scattermapbox"
           }
          ],
          "scatterpolar": [
           {
            "marker": {
             "colorbar": {
              "outlinewidth": 1,
              "tickcolor": "rgb(36,36,36)",
              "ticks": "outside"
             }
            },
            "type": "scatterpolar"
           }
          ],
          "scatterpolargl": [
           {
            "marker": {
             "colorbar": {
              "outlinewidth": 1,
              "tickcolor": "rgb(36,36,36)",
              "ticks": "outside"
             }
            },
            "type": "scatterpolargl"
           }
          ],
          "scatterternary": [
           {
            "marker": {
             "colorbar": {
              "outlinewidth": 1,
              "tickcolor": "rgb(36,36,36)",
              "ticks": "outside"
             }
            },
            "type": "scatterternary"
           }
          ],
          "surface": [
           {
            "colorbar": {
             "outlinewidth": 1,
             "tickcolor": "rgb(36,36,36)",
             "ticks": "outside"
            },
            "colorscale": [
             [
              0,
              "#440154"
             ],
             [
              0.1111111111111111,
              "#482878"
             ],
             [
              0.2222222222222222,
              "#3e4989"
             ],
             [
              0.3333333333333333,
              "#31688e"
             ],
             [
              0.4444444444444444,
              "#26828e"
             ],
             [
              0.5555555555555556,
              "#1f9e89"
             ],
             [
              0.6666666666666666,
              "#35b779"
             ],
             [
              0.7777777777777778,
              "#6ece58"
             ],
             [
              0.8888888888888888,
              "#b5de2b"
             ],
             [
              1,
              "#fde725"
             ]
            ],
            "type": "surface"
           }
          ],
          "table": [
           {
            "cells": {
             "fill": {
              "color": "rgb(237,237,237)"
             },
             "line": {
              "color": "white"
             }
            },
            "header": {
             "fill": {
              "color": "rgb(217,217,217)"
             },
             "line": {
              "color": "white"
             }
            },
            "type": "table"
           }
          ]
         },
         "layout": {
          "annotationdefaults": {
           "arrowhead": 0,
           "arrowwidth": 1
          },
          "autotypenumbers": "strict",
          "coloraxis": {
           "colorbar": {
            "outlinewidth": 1,
            "tickcolor": "rgb(36,36,36)",
            "ticks": "outside"
           }
          },
          "colorscale": {
           "diverging": [
            [
             0,
             "rgb(103,0,31)"
            ],
            [
             0.1,
             "rgb(178,24,43)"
            ],
            [
             0.2,
             "rgb(214,96,77)"
            ],
            [
             0.3,
             "rgb(244,165,130)"
            ],
            [
             0.4,
             "rgb(253,219,199)"
            ],
            [
             0.5,
             "rgb(247,247,247)"
            ],
            [
             0.6,
             "rgb(209,229,240)"
            ],
            [
             0.7,
             "rgb(146,197,222)"
            ],
            [
             0.8,
             "rgb(67,147,195)"
            ],
            [
             0.9,
             "rgb(33,102,172)"
            ],
            [
             1,
             "rgb(5,48,97)"
            ]
           ],
           "sequential": [
            [
             0,
             "#440154"
            ],
            [
             0.1111111111111111,
             "#482878"
            ],
            [
             0.2222222222222222,
             "#3e4989"
            ],
            [
             0.3333333333333333,
             "#31688e"
            ],
            [
             0.4444444444444444,
             "#26828e"
            ],
            [
             0.5555555555555556,
             "#1f9e89"
            ],
            [
             0.6666666666666666,
             "#35b779"
            ],
            [
             0.7777777777777778,
             "#6ece58"
            ],
            [
             0.8888888888888888,
             "#b5de2b"
            ],
            [
             1,
             "#fde725"
            ]
           ],
           "sequentialminus": [
            [
             0,
             "#440154"
            ],
            [
             0.1111111111111111,
             "#482878"
            ],
            [
             0.2222222222222222,
             "#3e4989"
            ],
            [
             0.3333333333333333,
             "#31688e"
            ],
            [
             0.4444444444444444,
             "#26828e"
            ],
            [
             0.5555555555555556,
             "#1f9e89"
            ],
            [
             0.6666666666666666,
             "#35b779"
            ],
            [
             0.7777777777777778,
             "#6ece58"
            ],
            [
             0.8888888888888888,
             "#b5de2b"
            ],
            [
             1,
             "#fde725"
            ]
           ]
          },
          "colorway": [
           "#1F77B4",
           "#FF7F0E",
           "#2CA02C",
           "#D62728",
           "#9467BD",
           "#8C564B",
           "#E377C2",
           "#7F7F7F",
           "#BCBD22",
           "#17BECF"
          ],
          "font": {
           "color": "rgb(36,36,36)"
          },
          "geo": {
           "bgcolor": "white",
           "lakecolor": "white",
           "landcolor": "white",
           "showlakes": true,
           "showland": true,
           "subunitcolor": "white"
          },
          "hoverlabel": {
           "align": "left"
          },
          "hovermode": "closest",
          "mapbox": {
           "style": "light"
          },
          "paper_bgcolor": "white",
          "plot_bgcolor": "white",
          "polar": {
           "angularaxis": {
            "gridcolor": "rgb(232,232,232)",
            "linecolor": "rgb(36,36,36)",
            "showgrid": false,
            "showline": true,
            "ticks": "outside"
           },
           "bgcolor": "white",
           "radialaxis": {
            "gridcolor": "rgb(232,232,232)",
            "linecolor": "rgb(36,36,36)",
            "showgrid": false,
            "showline": true,
            "ticks": "outside"
           }
          },
          "scene": {
           "xaxis": {
            "backgroundcolor": "white",
            "gridcolor": "rgb(232,232,232)",
            "gridwidth": 2,
            "linecolor": "rgb(36,36,36)",
            "showbackground": true,
            "showgrid": false,
            "showline": true,
            "ticks": "outside",
            "zeroline": false,
            "zerolinecolor": "rgb(36,36,36)"
           },
           "yaxis": {
            "backgroundcolor": "white",
            "gridcolor": "rgb(232,232,232)",
            "gridwidth": 2,
            "linecolor": "rgb(36,36,36)",
            "showbackground": true,
            "showgrid": false,
            "showline": true,
            "ticks": "outside",
            "zeroline": false,
            "zerolinecolor": "rgb(36,36,36)"
           },
           "zaxis": {
            "backgroundcolor": "white",
            "gridcolor": "rgb(232,232,232)",
            "gridwidth": 2,
            "linecolor": "rgb(36,36,36)",
            "showbackground": true,
            "showgrid": false,
            "showline": true,
            "ticks": "outside",
            "zeroline": false,
            "zerolinecolor": "rgb(36,36,36)"
           }
          },
          "shapedefaults": {
           "fillcolor": "black",
           "line": {
            "width": 0
           },
           "opacity": 0.3
          },
          "ternary": {
           "aaxis": {
            "gridcolor": "rgb(232,232,232)",
            "linecolor": "rgb(36,36,36)",
            "showgrid": false,
            "showline": true,
            "ticks": "outside"
           },
           "baxis": {
            "gridcolor": "rgb(232,232,232)",
            "linecolor": "rgb(36,36,36)",
            "showgrid": false,
            "showline": true,
            "ticks": "outside"
           },
           "bgcolor": "white",
           "caxis": {
            "gridcolor": "rgb(232,232,232)",
            "linecolor": "rgb(36,36,36)",
            "showgrid": false,
            "showline": true,
            "ticks": "outside"
           }
          },
          "title": {
           "x": 0.05
          },
          "xaxis": {
           "automargin": true,
           "gridcolor": "rgb(232,232,232)",
           "linecolor": "rgb(36,36,36)",
           "showgrid": false,
           "showline": true,
           "ticks": "outside",
           "title": {
            "standoff": 15
           },
           "zeroline": false,
           "zerolinecolor": "rgb(36,36,36)"
          },
          "yaxis": {
           "automargin": true,
           "gridcolor": "rgb(232,232,232)",
           "linecolor": "rgb(36,36,36)",
           "showgrid": false,
           "showline": true,
           "ticks": "outside",
           "title": {
            "standoff": 15
           },
           "zeroline": false,
           "zerolinecolor": "rgb(36,36,36)"
          }
         }
        },
        "title": {
         "font": {
          "color": "Black",
          "size": 22
         },
         "text": "<b>Topics over Time",
         "x": 0.4,
         "xanchor": "center",
         "y": 0.95,
         "yanchor": "top"
        },
        "width": 1000,
        "xaxis": {
         "showgrid": true
        },
        "yaxis": {
         "showgrid": true,
         "title": {
          "text": "Count"
         }
        }
       }
      },
      "text/html": [
       "<div>                            <div id=\"1595ad37-0d2c-4023-8932-65cb3a9528f2\" class=\"plotly-graph-div\" style=\"height:500px; width:1000px;\"></div>            <script type=\"text/javascript\">                require([\"plotly\"], function(Plotly) {                    window.PLOTLYENV=window.PLOTLYENV || {};                                    if (document.getElementById(\"1595ad37-0d2c-4023-8932-65cb3a9528f2\")) {                    Plotly.newPlot(                        \"1595ad37-0d2c-4023-8932-65cb3a9528f2\",                        [{\"hoverinfo\":\"text\",\"hovertext\":[\"<b>Topic 0</b><br>Words: buckland, arrangement, suffolk, thro, curator\",\"<b>Topic 0</b><br>Words: rix, sequel, mint, sol, decm\",\"<b>Topic 0</b><br>Words: invitation, museum, bury, suffolk, degree\",\"<b>Topic 0</b><br>Words: bumpstead, baine, subcurator, jany, geol\",\"<b>Topic 0</b><br>Words: buckland, norwich, nov, ipswich, omitting\",\"<b>Topic 0</b><br>Words: mcbeath, manager, class, museum, esqr\",\"<b>Topic 0</b><br>Words: suffolk, ipswich, museum, meeting, whewell\",\"<b>Topic 0</b><br>Words: suffolk, ipswich, museum, club, meeting\",\"<b>Topic 0</b><br>Words: museum, suffolk, historian, conglomerate, stevens\",\"<b>Topic 0</b><br>Words: ipswich, museum, invasion, exemplified, chronology\",\"<b>Topic 0</b><br>Words: museum, series, suffolk, meeting, geology\",\"<b>Topic 0</b><br>Words: scotland, invitation, truth, museum, converse\",\"<b>Topic 0</b><br>Words: invitation, museum, madeira, free, cairo\",\"<b>Topic 0</b><br>Words: museum, ipswich, suffolk, marquee, collection\",\"<b>Topic 0</b><br>Words: museum, boat, ethnology, steam, suffolk\",\"<b>Topic 0</b><br>Words: museum, ipswich, london, suffolk, copy\",\"<b>Topic 0</b><br>Words: museum, ipswich, suffolk, hitcham_bildeston, inquiry\",\"<b>Topic 0</b><br>Words: museum, ipswich, meeting, cheltenham, suffolk\",\"<b>Topic 0</b><br>Words: museum, suffolk, hare, hitcham_bildeston, paris\",\"<b>Topic 0</b><br>Words: dublin, ipswich, museum, september, london\"],\"marker\":{\"color\":\"#E69F00\"},\"mode\":\"markers\",\"name\":\"0_museum_ipswich_suffolk_meeting\",\"x\":[\"1845-01-14T06:36:00\",\"1845-09-12T06:00:00\",\"1846-05-06T12:00:00\",\"1846-12-28T18:00:00\",\"1847-08-22T00:00:00\",\"1848-04-14T06:00:00\",\"1848-12-06T12:00:00\",\"1849-07-30T18:00:00\",\"1850-03-24T00:00:00\",\"1850-11-15T06:00:00\",\"1851-07-09T12:00:00\",\"1852-03-01T18:00:00\",\"1852-10-24T00:00:00\",\"1853-06-17T06:00:00\",\"1854-02-08T12:00:00\",\"1854-10-02T18:00:00\",\"1855-05-27T00:00:00\",\"1856-01-18T06:00:00\",\"1856-09-10T12:00:00\",\"1857-05-04T18:00:00\"],\"y\":[7,3,8,4,6,4,14,12,11,6,15,7,6,36,12,16,28,27,18,28],\"type\":\"scatter\"},{\"hoverinfo\":\"text\",\"hovertext\":[\"<b>Topic 1</b><br>Words: professorship, note, consideration, side, committee\",\"<b>Topic 1</b><br>Words: poverty, interest, crime, wealth, expression\",\"<b>Topic 1</b><br>Words: idea, opinion, interest, objection, comment\",\"<b>Topic 1</b><br>Words: strike, forgot, reply, improvement, note\",\"<b>Topic 1</b><br>Words: point, opinion, interest, objection, comment\",\"<b>Topic 1</b><br>Words: facility, opinion, correction, error, evidence\",\"<b>Topic 1</b><br>Words: comment, objection, suggestion, way, pairing\",\"<b>Topic 1</b><br>Words: certainty, opinion, none, mind, god\",\"<b>Topic 1</b><br>Words: feeling, opinion, toleration, tuition, inconsistent\",\"<b>Topic 1</b><br>Words: cullum, certainty, signature, register, objection\",\"<b>Topic 1</b><br>Words: tipsey, customer, publican, narcotic, interest\",\"<b>Topic 1</b><br>Words: relation, judgment, act, sentiment, case\",\"<b>Topic 1</b><br>Words: currey, interest, office, service, handed\",\"<b>Topic 1</b><br>Words: interest, objection, curator, amore, response\",\"<b>Topic 1</b><br>Words: investigator, dicotyledon, non, cause, hint\",\"<b>Topic 1</b><br>Words: point, spider, amiss, karr, sub\",\"<b>Topic 1</b><br>Words: mind, disgust, antiquarian, flunkeyism, respectability\",\"<b>Topic 1</b><br>Words: university, office, esteem, comment, qualification\",\"<b>Topic 1</b><br>Words: interest, vulgarity, load, compliment, barbarity\",\"<b>Topic 1</b><br>Words: opinion, correction, remark, agreement, interest\"],\"marker\":{\"color\":\"#56B4E9\"},\"mode\":\"markers\",\"name\":\"1_opinion_interest_objection_comment\",\"x\":[\"1845-01-14T06:36:00\",\"1845-09-12T06:00:00\",\"1846-05-06T12:00:00\",\"1846-12-28T18:00:00\",\"1847-08-22T00:00:00\",\"1848-04-14T06:00:00\",\"1848-12-06T12:00:00\",\"1849-07-30T18:00:00\",\"1850-03-24T00:00:00\",\"1850-11-15T06:00:00\",\"1851-07-09T12:00:00\",\"1852-03-01T18:00:00\",\"1852-10-24T00:00:00\",\"1853-06-17T06:00:00\",\"1854-02-08T12:00:00\",\"1854-10-02T18:00:00\",\"1855-05-27T00:00:00\",\"1856-01-18T06:00:00\",\"1856-09-10T12:00:00\",\"1857-05-04T18:00:00\"],\"y\":[10,14,1,2,1,2,17,12,13,6,1,9,8,9,3,7,15,16,13,20],\"type\":\"scatter\"},{\"hoverinfo\":\"text\",\"hovertext\":[\"<b>Topic 2</b><br>Words: hutton, benjamin, fetch, maund, stair\",\"<b>Topic 2</b><br>Words: fetch, kindest_regard, mary, alban, anne\",\"<b>Topic 2</b><br>Words: hooker, miss, family, lady, girl\",\"<b>Topic 2</b><br>Words: hooker, harriet, room, family, joseph\",\"<b>Topic 2</b><br>Words: hooker, lady, wheat, fanny, care\",\"<b>Topic 2</b><br>Words: albans, fanny, convoy, gunn, kindest_regards\",\"<b>Topic 2</b><br>Words: wife, sleep, ocl, kindest_regard, harriet\",\"<b>Topic 2</b><br>Words: hooker, news, harriet, fanny, home\",\"<b>Topic 2</b><br>Words: sister, lady, cassel, day, united_regard\",\"<b>Topic 2</b><br>Words: affte, hooker, jos, brown, lindley\",\"<b>Topic 2</b><br>Words: breast, rogue, rascallitie, fool, course\",\"<b>Topic 2</b><br>Words: hooker, daughter, disquietude, expectant, hurt\",\"<b>Topic 2</b><br>Words: hooker, confinement, hopkins, refutation, members\",\"<b>Topic 2</b><br>Words: hooker, harriet, days_ago, united_regard, husband\",\"<b>Topic 2</b><br>Words: hooker, maud, brentford, midnight, presentation\",\"<b>Topic 2</b><br>Words: gr, karen, hooker, dress, mistress\",\"<b>Topic 2</b><br>Words: hooker, harriet, lady, evg, family\",\"<b>Topic 2</b><br>Words: harriet, hooker, brighton, hour, misunderstood\",\"<b>Topic 2</b><br>Words: hooker, daisy, morn, buttercup, geographie\",\"<b>Topic 2</b><br>Words: hooker, harriet, fanny, family, sinclair\"],\"marker\":{\"color\":\"#009E73\"},\"mode\":\"markers\",\"name\":\"2_hooker_harriet_family_lady\",\"x\":[\"1845-01-14T06:36:00\",\"1845-09-12T06:00:00\",\"1846-05-06T12:00:00\",\"1846-12-28T18:00:00\",\"1847-08-22T00:00:00\",\"1848-04-14T06:00:00\",\"1848-12-06T12:00:00\",\"1849-07-30T18:00:00\",\"1850-03-24T00:00:00\",\"1850-11-15T06:00:00\",\"1851-07-09T12:00:00\",\"1852-03-01T18:00:00\",\"1852-10-24T00:00:00\",\"1853-06-17T06:00:00\",\"1854-02-08T12:00:00\",\"1854-10-02T18:00:00\",\"1855-05-27T00:00:00\",\"1856-01-18T06:00:00\",\"1856-09-10T12:00:00\",\"1857-05-04T18:00:00\"],\"y\":[6,4,12,13,5,3,4,13,9,2,1,6,3,18,4,6,11,15,12,22],\"type\":\"scatter\"},{\"hoverinfo\":\"text\",\"hovertext\":[\"<b>Topic 3</b><br>Words: bone, nodule, london_clay, drive, zamia\",\"<b>Topic 3</b><br>Words: sacrifice, specimen, break, permission, determination\",\"<b>Topic 3</b><br>Words: bone, tooth, flint, cavern, stalagmite\",\"<b>Topic 3</b><br>Words: chance, specimen, glass, foot, bone\",\"<b>Topic 3</b><br>Words: telescope, tube, shell, glass, duplicate\",\"<b>Topic 3</b><br>Words: bottle, wine, chalk, statute, none\",\"<b>Topic 3</b><br>Words: closehouse, brocke, woodwardia, discharge, prisoner\",\"<b>Topic 3</b><br>Words: miocene, pliocene, coraline, drift, pleistocene\",\"<b>Topic 3</b><br>Words: specimen, bead, glass, method, model\",\"<b>Topic 3</b><br>Words: geology, gen, mineralogy, botany, specimen\",\"<b>Topic 3</b><br>Words: explanation, geol_soc, fossil, speciman, owen\",\"<b>Topic 3</b><br>Words: potassium, glass, plate, specimen, fossil\",\"<b>Topic 3</b><br>Words: glass, bird, case, albinoe, hybrid\",\"<b>Topic 3</b><br>Words: depth, lens, chalk, circle, fossil\",\"<b>Topic 3</b><br>Words: specimen, candelabrum, aloe, regis, growth\",\"<b>Topic 3</b><br>Words: thickness, mammal, skeleton, limb, coast\",\"<b>Topic 3</b><br>Words: limestone, truly_ducie, glass, batata, millstone\",\"<b>Topic 3</b><br>Words: foot, specimen, geologist, collecting, gault\"],\"marker\":{\"color\":\"#F0E442\"},\"mode\":\"markers\",\"name\":\"3_specimen_glass_foot_bone\",\"x\":[\"1845-01-14T06:36:00\",\"1845-09-12T06:00:00\",\"1846-05-06T12:00:00\",\"1847-08-22T00:00:00\",\"1848-04-14T06:00:00\",\"1848-12-06T12:00:00\",\"1850-03-24T00:00:00\",\"1850-11-15T06:00:00\",\"1851-07-09T12:00:00\",\"1852-03-01T18:00:00\",\"1852-10-24T00:00:00\",\"1853-06-17T06:00:00\",\"1854-02-08T12:00:00\",\"1854-10-02T18:00:00\",\"1855-05-27T00:00:00\",\"1856-01-18T06:00:00\",\"1856-09-10T12:00:00\",\"1857-05-04T18:00:00\"],\"y\":[6,1,10,1,3,4,2,6,9,2,1,12,7,6,6,7,9,10],\"type\":\"scatter\"},{\"hoverinfo\":\"text\",\"hovertext\":[\"<b>Topic 4</b><br>Words: gardener, york, variety, ingenious, pitmaston\",\"<b>Topic 4</b><br>Words: plant, galapagos, hort_soc, chonos, isld\",\"<b>Topic 4</b><br>Words: coniferae, nursery, botanic_garden, grace, syndicate\",\"<b>Topic 4</b><br>Words: precaution, conifer, marvel, vegetable_physiology, desiderata\",\"<b>Topic 4</b><br>Words: cycadeae, babbage, wmhooker, plant, kind\",\"<b>Topic 4</b><br>Words: term, period, monday, command, saturdays\",\"<b>Topic 4</b><br>Words: syllabus, botany, lecturing, apprenticeship, melissa\",\"<b>Topic 4</b><br>Words: plant, bryony, melittis, grandiflora, black\",\"<b>Topic 4</b><br>Words: plenty, boehmeria, musing, seemingley, careless\",\"<b>Topic 4</b><br>Words: plant, lyell, hooker, whewell, camberwell\",\"<b>Topic 4</b><br>Words: genera, linnaei, centaurea, amaryllis, alstroemeria\",\"<b>Topic 4</b><br>Words: botany, plant, spondylium, giganteum, andmrs\",\"<b>Topic 4</b><br>Words: sykes, pursuit, col, request, botany\",\"<b>Topic 4</b><br>Words: plant, lemonade, raspberry, song, vinegar\",\"<b>Topic 4</b><br>Words: building, preference, pass, plant, flower\",\"<b>Topic 4</b><br>Words: proceeding, linnaean, herbarium, botany, publication\",\"<b>Topic 4</b><br>Words: tubifex, bristle, nat_hist, plant, soenurus\",\"<b>Topic 4</b><br>Words: plant, botany, moor, glastonbury, unedo\",\"<b>Topic 4</b><br>Words: gardeners_chronicle, botany, plant, botanist, flora\",\"<b>Topic 4</b><br>Words: aegilop, seed, lyell, vasscule, cryptogamic\"],\"marker\":{\"color\":\"#D55E00\"},\"mode\":\"markers\",\"name\":\"4_plant_botany_botanist_gardeners_chroni...\",\"x\":[\"1845-01-14T06:36:00\",\"1845-09-12T06:00:00\",\"1846-05-06T12:00:00\",\"1846-12-28T18:00:00\",\"1847-08-22T00:00:00\",\"1848-04-14T06:00:00\",\"1848-12-06T12:00:00\",\"1849-07-30T18:00:00\",\"1850-03-24T00:00:00\",\"1850-11-15T06:00:00\",\"1851-07-09T12:00:00\",\"1852-03-01T18:00:00\",\"1852-10-24T00:00:00\",\"1853-06-17T06:00:00\",\"1854-02-08T12:00:00\",\"1854-10-02T18:00:00\",\"1855-05-27T00:00:00\",\"1856-01-18T06:00:00\",\"1856-09-10T12:00:00\",\"1857-05-04T18:00:00\"],\"y\":[4,7,3,3,2,2,3,10,2,3,6,3,1,1,3,5,5,10,14,5],\"type\":\"scatter\"},{\"hoverinfo\":\"text\",\"hovertext\":[\"<b>Topic 5</b><br>Words: dare, abundance, shew, turn, paper\",\"<b>Topic 5</b><br>Words: publishers, wiley, putnam, waterloo, printer\",\"<b>Topic 5</b><br>Words: bookseller, wire, pocket, table, journal\",\"<b>Topic 5</b><br>Words: read, paper, report, book, printer\",\"<b>Topic 5</b><br>Words: butter, publisher, press, book, paper\",\"<b>Topic 5</b><br>Words: dent, sic, page, paper, book\",\"<b>Topic 5</b><br>Words: print, overhaul, waste, work, inform\",\"<b>Topic 5</b><br>Words: relative, binder, physiol, paper, comp\",\"<b>Topic 5</b><br>Words: shift, cotton, monograph, varnish, follow\",\"<b>Topic 5</b><br>Words: paper, preston, hardacre, printer, shelford\",\"<b>Topic 5</b><br>Words: paper, section, press, thro, straw\",\"<b>Topic 5</b><br>Words: paper, printer, press, book, order\",\"<b>Topic 5</b><br>Words: paper, book, distinct, transaction, year\",\"<b>Topic 5</b><br>Words: paper, book, document, broad, width\",\"<b>Topic 5</b><br>Words: book, sheet, printer, cut, mem\"],\"marker\":{\"color\":\"#0072B2\"},\"mode\":\"markers\",\"name\":\"5_paper_book_printer_press\",\"x\":[\"1845-01-14T06:36:00\",\"1846-05-06T12:00:00\",\"1846-12-28T18:00:00\",\"1847-08-22T00:00:00\",\"1849-07-30T18:00:00\",\"1850-03-24T00:00:00\",\"1851-07-09T12:00:00\",\"1852-03-01T18:00:00\",\"1853-06-17T06:00:00\",\"1854-02-08T12:00:00\",\"1854-10-02T18:00:00\",\"1855-05-27T00:00:00\",\"1856-01-18T06:00:00\",\"1856-09-10T12:00:00\",\"1857-05-04T18:00:00\"],\"y\":[1,2,3,1,5,3,2,3,2,1,5,11,5,9,14],\"type\":\"scatter\"},{\"hoverinfo\":\"text\",\"hovertext\":[\"<b>Topic 7</b><br>Words: medusae, ejecta, health, arm, doctor\",\"<b>Topic 7</b><br>Words: operative, neot, surgeon, class, health\",\"<b>Topic 7</b><br>Words: improved_health, permit, honour, health, arm\",\"<b>Topic 7</b><br>Words: harwich, college_surgeon, health, arm, doctor\",\"<b>Topic 7</b><br>Words: arm, bruise, night, bandage, humerus\",\"<b>Topic 7</b><br>Words: courtier, occupie, disinterested, doctor, improved_health\",\"<b>Topic 7</b><br>Words: augt, college_surgeon, september, health, arm\",\"<b>Topic 7</b><br>Words: physician, derangement, doctor, health, duty\",\"<b>Topic 7</b><br>Words: oyster, college_surgeon, colchester, wish, december\",\"<b>Topic 7</b><br>Words: abuse, conviviality, plague, equanimity, fulfilling\",\"<b>Topic 7</b><br>Words: ere, college_surgeon, sympathy, moment, february\",\"<b>Topic 7</b><br>Words: harz, treatment, medical, complaint, mountain\",\"<b>Topic 7</b><br>Words: delicate, health, doctor, illness, month\"],\"marker\":{\"color\":\"#CC79A7\"},\"mode\":\"markers\",\"name\":\"7_health_arm_doctor_college_surgeon\",\"x\":[\"1845-01-14T06:36:00\",\"1845-09-12T06:00:00\",\"1846-12-28T18:00:00\",\"1848-04-14T06:00:00\",\"1849-07-30T18:00:00\",\"1851-07-09T12:00:00\",\"1852-03-01T18:00:00\",\"1853-06-17T06:00:00\",\"1854-10-02T18:00:00\",\"1855-05-27T00:00:00\",\"1856-01-18T06:00:00\",\"1856-09-10T12:00:00\",\"1857-05-04T18:00:00\"],\"y\":[1,2,2,1,7,3,1,9,1,2,1,1,3],\"type\":\"scatter\"},{\"hoverinfo\":\"text\",\"hovertext\":[\"<b>Topic 8</b><br>Words: smith, integrity, choose, lament, goulburn\",\"<b>Topic 8</b><br>Words: particep, smith, coleman, owe, conversation\",\"<b>Topic 8</b><br>Words: coleman, murray, avail, henry, procure\",\"<b>Topic 8</b><br>Words: lefevre, shaw, john, smith, miller\",\"<b>Topic 8</b><br>Words: banks, scott, region, origin, joseph\",\"<b>Topic 8</b><br>Words: algernon, sec, pollock, smith, miller\",\"<b>Topic 8</b><br>Words: murray, joseph, haviland, hayle, clark\",\"<b>Topic 8</b><br>Words: reid, lyttleton, smith, miller, publishing\",\"<b>Topic 8</b><br>Words: betn, armadillos, curtis, miller, smith\",\"<b>Topic 8</b><br>Words: tear, job, roach_smith, smith, discussion\",\"<b>Topic 8</b><br>Words: smith, miller, murray, joseph, integrity\",\"<b>Topic 8</b><br>Words: londerburgh, miller, liberal, roach_smith, clark\",\"<b>Topic 8</b><br>Words: poole, stanley, yarrell, edward, smith\",\"<b>Topic 8</b><br>Words: patterson, reeve, robert, smith, miller\"],\"marker\":{\"color\":\"#E69F00\"},\"mode\":\"markers\",\"name\":\"8_smith_miller_murray_joseph\",\"x\":[\"1845-01-14T06:36:00\",\"1845-09-12T06:00:00\",\"1846-05-06T12:00:00\",\"1846-12-28T18:00:00\",\"1847-08-22T00:00:00\",\"1849-07-30T18:00:00\",\"1850-03-24T00:00:00\",\"1852-10-24T00:00:00\",\"1853-06-17T06:00:00\",\"1854-10-02T18:00:00\",\"1855-05-27T00:00:00\",\"1856-01-18T06:00:00\",\"1856-09-10T12:00:00\",\"1857-05-04T18:00:00\"],\"y\":[4,2,2,1,2,1,4,3,2,2,2,4,2,2],\"type\":\"scatter\"},{\"hoverinfo\":\"text\",\"hovertext\":[\"<b>Topic 10</b><br>Words: plan, train, railway, father, haste\",\"<b>Topic 10</b><br>Words: disruption, join, father, desire, train\",\"<b>Topic 10</b><br>Words: plan, year, train, railway, father\",\"<b>Topic 10</b><br>Words: pre, train, plan, railway, father\",\"<b>Topic 10</b><br>Words: decease, father, course, train, plan\",\"<b>Topic 10</b><br>Words: train, limbo, leg, hour, plan\",\"<b>Topic 10</b><br>Words: future, convenience, line, train, plan\",\"<b>Topic 10</b><br>Words: cd, train, advance, plan, railway\",\"<b>Topic 10</b><br>Words: railway, father, line, plan, day\",\"<b>Topic 10</b><br>Words: remain, people, train, plan, railway\",\"<b>Topic 10</b><br>Words: train, railway, conservation, civilization, dispatch\",\"<b>Topic 10</b><br>Words: haste, train, path, usefulness, sight\",\"<b>Topic 10</b><br>Words: railway, feature, inability, drawback, flock\",\"<b>Topic 10</b><br>Words: inquiry, determination, reply, line, train\"],\"marker\":{\"color\":\"#56B4E9\"},\"mode\":\"markers\",\"name\":\"10_train_plan_railway_father\",\"x\":[\"1845-01-14T06:36:00\",\"1845-09-12T06:00:00\",\"1846-12-28T18:00:00\",\"1848-12-06T12:00:00\",\"1849-07-30T18:00:00\",\"1850-03-24T00:00:00\",\"1852-03-01T18:00:00\",\"1853-06-17T06:00:00\",\"1854-02-08T12:00:00\",\"1854-10-02T18:00:00\",\"1855-05-27T00:00:00\",\"1856-01-18T06:00:00\",\"1856-09-10T12:00:00\",\"1857-05-04T18:00:00\"],\"y\":[1,2,1,1,1,2,2,2,2,1,8,4,3,1],\"type\":\"scatter\"},{\"hoverinfo\":\"text\",\"hovertext\":[\"<b>Topic 11</b><br>Words: month, rap, sept, room, thought\",\"<b>Topic 11</b><br>Words: charing, cross, subcommittee, plumper, promising\",\"<b>Topic 11</b><br>Words: sept, january, god, month, july\",\"<b>Topic 11</b><br>Words: dec, month, july, year, season\",\"<b>Topic 11</b><br>Words: preside, ton, july, company, duty\",\"<b>Topic 11</b><br>Words: united_state, december, month, july, year\",\"<b>Topic 11</b><br>Words: months_ago, professor, month, july, year\",\"<b>Topic 11</b><br>Words: season, winter, year, order, plan\",\"<b>Topic 11</b><br>Words: circuit, month, berlin, vol, january\",\"<b>Topic 11</b><br>Words: july, month, year, septr, beginning\",\"<b>Topic 11</b><br>Words: ns, dec, truly_ducie, season, statement\",\"<b>Topic 11</b><br>Words: carex, sw, leonard, year, june\"],\"marker\":{\"color\":\"#009E73\"},\"mode\":\"markers\",\"name\":\"11_month_july_year_season\",\"x\":[\"1845-01-14T06:36:00\",\"1846-12-28T18:00:00\",\"1849-07-30T18:00:00\",\"1850-03-24T00:00:00\",\"1850-11-15T06:00:00\",\"1852-03-01T18:00:00\",\"1852-10-24T00:00:00\",\"1853-06-17T06:00:00\",\"1854-10-02T18:00:00\",\"1856-01-18T06:00:00\",\"1856-09-10T12:00:00\",\"1857-05-04T18:00:00\"],\"y\":[3,3,2,1,2,1,1,3,2,7,4,2],\"type\":\"scatter\"},{\"hoverinfo\":\"text\",\"hovertext\":[\"<b>Topic 6</b><br>Words: afzelius, collections, cape, mus, coast\",\"<b>Topic 6</b><br>Words: attic, horse, money, eye, collection\",\"<b>Topic 6</b><br>Words: index, expense, appearance, end, price\",\"<b>Topic 6</b><br>Words: list, price, collection, value, counter\",\"<b>Topic 6</b><br>Words: collection, russia, saurian, regeneration, denier\",\"<b>Topic 6</b><br>Words: price, linnean, genera, answer, system\",\"<b>Topic 6</b><br>Words: luggage, donation, nithee, price, collection\",\"<b>Topic 6</b><br>Words: daguerrotype, shade, choice, price, expense\",\"<b>Topic 6</b><br>Words: price, collection, entrance, cochel, worth\",\"<b>Topic 6</b><br>Words: valuation, value, collection, settle, price\",\"<b>Topic 6</b><br>Words: fold, minter, stint, hour, merchant\",\"<b>Topic 6</b><br>Words: price, counter, collection, nuremberg, jetton\",\"<b>Topic 6</b><br>Words: value, number, woodcut, profusion, price\"],\"marker\":{\"color\":\"#F0E442\"},\"mode\":\"markers\",\"name\":\"6_price_collection_value_counter\",\"x\":[\"1845-09-12T06:00:00\",\"1846-05-06T12:00:00\",\"1846-12-28T18:00:00\",\"1849-07-30T18:00:00\",\"1850-03-24T00:00:00\",\"1851-07-09T12:00:00\",\"1852-10-24T00:00:00\",\"1854-02-08T12:00:00\",\"1854-10-02T18:00:00\",\"1855-05-27T00:00:00\",\"1856-01-18T06:00:00\",\"1856-09-10T12:00:00\",\"1857-05-04T18:00:00\"],\"y\":[2,1,2,1,6,2,1,3,8,8,4,9,6],\"type\":\"scatter\"},{\"hoverinfo\":\"text\",\"hovertext\":[\"<b>Topic 9</b><br>Words: religion, church, effect, treasury, belly\",\"<b>Topic 9</b><br>Words: churchman, junction, opposition, babington, consequence\",\"<b>Topic 9</b><br>Words: church, sabbath, sermon, argument, lord\",\"<b>Topic 9</b><br>Words: church, clergyman, holiday, boldness, catechism\",\"<b>Topic 9</b><br>Words: training, disposal, church, master, system\",\"<b>Topic 9</b><br>Words: hatred, humbler, churchism, characteristic, persecution\",\"<b>Topic 9</b><br>Words: parishioner, source, instruction, country, church\",\"<b>Topic 9</b><br>Words: travel, kind, sermon, parishioner, parcel\",\"<b>Topic 9</b><br>Words: church, sermon, clergyman, parishioner, placidity\",\"<b>Topic 9</b><br>Words: clergyman, path, parishioner, clergymen, chronicle\",\"<b>Topic 9</b><br>Words: stimulus, shortcoming, sermon, school, church\"],\"marker\":{\"color\":\"#D55E00\"},\"mode\":\"markers\",\"name\":\"9_church_sermon_clergyman_parishioner\",\"x\":[\"1845-09-12T06:00:00\",\"1848-12-06T12:00:00\",\"1849-07-30T18:00:00\",\"1850-03-24T00:00:00\",\"1850-11-15T06:00:00\",\"1852-03-01T18:00:00\",\"1852-10-24T00:00:00\",\"1853-06-17T06:00:00\",\"1855-05-27T00:00:00\",\"1856-01-18T06:00:00\",\"1856-09-10T12:00:00\"],\"y\":[5,1,8,6,1,1,1,2,5,2,1],\"type\":\"scatter\"},{\"hoverinfo\":\"text\",\"hovertext\":[\"<b>Topic 14</b><br>Words: cambridge, saturday, strike, willis, auspex\",\"<b>Topic 14</b><br>Words: cambridge, kidd, knife, wm, oxford\",\"<b>Topic 14</b><br>Words: downing_college, cambridge, hitcham, oxford, minority\",\"<b>Topic 14</b><br>Words: cambridge, philosophical_society, minority, closing, reading\",\"<b>Topic 14</b><br>Words: cambridge, minority, provost, stage, poll\",\"<b>Topic 14</b><br>Words: cambridge, baas, teaching, library_mss, april\",\"<b>Topic 14</b><br>Words: cambridge, scroope, terrace, inch, observation\",\"<b>Topic 14</b><br>Words: cambridge, oxford, minority, provost, scroope\",\"<b>Topic 14</b><br>Words: cambridge, esq, reside, gazette, cover\",\"<b>Topic 14</b><br>Words: cambridge, oxford, provost, purport, inferiority\",\"<b>Topic 14</b><br>Words: cambridge, tripos, sc, classic, downing_college\",\"<b>Topic 14</b><br>Words: search, cambridge, oxford, minority, provost\"],\"marker\":{\"color\":\"#0072B2\"},\"mode\":\"markers\",\"name\":\"14_cambridge_oxford_provost_minority\",\"x\":[\"1845-09-12T06:00:00\",\"1846-05-06T12:00:00\",\"1848-04-14T06:00:00\",\"1849-07-30T18:00:00\",\"1850-03-24T00:00:00\",\"1852-10-24T00:00:00\",\"1853-06-17T06:00:00\",\"1854-10-02T18:00:00\",\"1855-05-27T00:00:00\",\"1856-01-18T06:00:00\",\"1856-09-10T12:00:00\",\"1857-05-04T18:00:00\"],\"y\":[2,2,1,2,5,2,2,1,4,4,2,2],\"type\":\"scatter\"},{\"hoverinfo\":\"text\",\"hovertext\":[\"<b>Topic 12</b><br>Words: botrytis, caple, theory, insect, wasp\",\"<b>Topic 12</b><br>Words: insect, aphid, beam, hop, bean\",\"<b>Topic 12</b><br>Words: velleius, wasp, nest, overcare, moist\",\"<b>Topic 12</b><br>Words: diptera, entomologist, insect, fauna, dog\",\"<b>Topic 12</b><br>Words: insect, accident, continent, wandering, fauna\",\"<b>Topic 12</b><br>Words: bee, wasp, insect, headquarters, eater\",\"<b>Topic 12</b><br>Words: insect, insectology, transfer, wing, trembley\",\"<b>Topic 12</b><br>Words: insecta, westwood, gray, dr, wasp\",\"<b>Topic 12</b><br>Words: entomology, insect, name, misnomer, lucina\"],\"marker\":{\"color\":\"#CC79A7\"},\"mode\":\"markers\",\"name\":\"12_insect_wasp_diptera_bee\",\"x\":[\"1846-05-06T12:00:00\",\"1846-12-28T18:00:00\",\"1848-12-06T12:00:00\",\"1849-07-30T18:00:00\",\"1851-07-09T12:00:00\",\"1853-06-17T06:00:00\",\"1855-05-27T00:00:00\",\"1856-01-18T06:00:00\",\"1856-09-10T12:00:00\"],\"y\":[1,5,2,5,3,4,4,3,3],\"type\":\"scatter\"},{\"hoverinfo\":\"text\",\"hovertext\":[\"<b>Topic 13</b><br>Words: lecture, interested, memorial, read, page\",\"<b>Topic 13</b><br>Words: lecture, easter, minimum, undergraduate, quere\",\"<b>Topic 13</b><br>Words: speech, bet, fisher, albert, appeal\",\"<b>Topic 13</b><br>Words: auditor, ticket, lecture, examination, occasion\",\"<b>Topic 13</b><br>Words: lecture, examination, dean, occasion, school\",\"<b>Topic 13</b><br>Words: rector, example, lecture, examination, occasion\",\"<b>Topic 13</b><br>Words: lecture, fireplace, ventilation, offhand, lecturet\",\"<b>Topic 13</b><br>Words: lecture, statement, occasion, committee, print\",\"<b>Topic 13</b><br>Words: lecture, examination, exam, candidate, room\",\"<b>Topic 13</b><br>Words: particular, talk, assist, lecture, examination\"],\"marker\":{\"color\":\"#E69F00\"},\"mode\":\"markers\",\"name\":\"13_lecture_examination_occasion_exam\",\"x\":[\"1848-04-14T06:00:00\",\"1848-12-06T12:00:00\",\"1849-07-30T18:00:00\",\"1852-10-24T00:00:00\",\"1853-06-17T06:00:00\",\"1854-10-02T18:00:00\",\"1855-05-27T00:00:00\",\"1856-01-18T06:00:00\",\"1856-09-10T12:00:00\",\"1857-05-04T18:00:00\"],\"y\":[2,2,2,1,5,1,4,1,10,1],\"type\":\"scatter\"}],                        {\"template\":{\"data\":{\"barpolar\":[{\"marker\":{\"line\":{\"color\":\"white\",\"width\":0.5},\"pattern\":{\"fillmode\":\"overlay\",\"size\":10,\"solidity\":0.2}},\"type\":\"barpolar\"}],\"bar\":[{\"error_x\":{\"color\":\"rgb(36,36,36)\"},\"error_y\":{\"color\":\"rgb(36,36,36)\"},\"marker\":{\"line\":{\"color\":\"white\",\"width\":0.5},\"pattern\":{\"fillmode\":\"overlay\",\"size\":10,\"solidity\":0.2}},\"type\":\"bar\"}],\"carpet\":[{\"aaxis\":{\"endlinecolor\":\"rgb(36,36,36)\",\"gridcolor\":\"white\",\"linecolor\":\"white\",\"minorgridcolor\":\"white\",\"startlinecolor\":\"rgb(36,36,36)\"},\"baxis\":{\"endlinecolor\":\"rgb(36,36,36)\",\"gridcolor\":\"white\",\"linecolor\":\"white\",\"minorgridcolor\":\"white\",\"startlinecolor\":\"rgb(36,36,36)\"},\"type\":\"carpet\"}],\"choropleth\":[{\"colorbar\":{\"outlinewidth\":1,\"tickcolor\":\"rgb(36,36,36)\",\"ticks\":\"outside\"},\"type\":\"choropleth\"}],\"contourcarpet\":[{\"colorbar\":{\"outlinewidth\":1,\"tickcolor\":\"rgb(36,36,36)\",\"ticks\":\"outside\"},\"type\":\"contourcarpet\"}],\"contour\":[{\"colorbar\":{\"outlinewidth\":1,\"tickcolor\":\"rgb(36,36,36)\",\"ticks\":\"outside\"},\"colorscale\":[[0.0,\"#440154\"],[0.1111111111111111,\"#482878\"],[0.2222222222222222,\"#3e4989\"],[0.3333333333333333,\"#31688e\"],[0.4444444444444444,\"#26828e\"],[0.5555555555555556,\"#1f9e89\"],[0.6666666666666666,\"#35b779\"],[0.7777777777777778,\"#6ece58\"],[0.8888888888888888,\"#b5de2b\"],[1.0,\"#fde725\"]],\"type\":\"contour\"}],\"heatmapgl\":[{\"colorbar\":{\"outlinewidth\":1,\"tickcolor\":\"rgb(36,36,36)\",\"ticks\":\"outside\"},\"colorscale\":[[0.0,\"#440154\"],[0.1111111111111111,\"#482878\"],[0.2222222222222222,\"#3e4989\"],[0.3333333333333333,\"#31688e\"],[0.4444444444444444,\"#26828e\"],[0.5555555555555556,\"#1f9e89\"],[0.6666666666666666,\"#35b779\"],[0.7777777777777778,\"#6ece58\"],[0.8888888888888888,\"#b5de2b\"],[1.0,\"#fde725\"]],\"type\":\"heatmapgl\"}],\"heatmap\":[{\"colorbar\":{\"outlinewidth\":1,\"tickcolor\":\"rgb(36,36,36)\",\"ticks\":\"outside\"},\"colorscale\":[[0.0,\"#440154\"],[0.1111111111111111,\"#482878\"],[0.2222222222222222,\"#3e4989\"],[0.3333333333333333,\"#31688e\"],[0.4444444444444444,\"#26828e\"],[0.5555555555555556,\"#1f9e89\"],[0.6666666666666666,\"#35b779\"],[0.7777777777777778,\"#6ece58\"],[0.8888888888888888,\"#b5de2b\"],[1.0,\"#fde725\"]],\"type\":\"heatmap\"}],\"histogram2dcontour\":[{\"colorbar\":{\"outlinewidth\":1,\"tickcolor\":\"rgb(36,36,36)\",\"ticks\":\"outside\"},\"colorscale\":[[0.0,\"#440154\"],[0.1111111111111111,\"#482878\"],[0.2222222222222222,\"#3e4989\"],[0.3333333333333333,\"#31688e\"],[0.4444444444444444,\"#26828e\"],[0.5555555555555556,\"#1f9e89\"],[0.6666666666666666,\"#35b779\"],[0.7777777777777778,\"#6ece58\"],[0.8888888888888888,\"#b5de2b\"],[1.0,\"#fde725\"]],\"type\":\"histogram2dcontour\"}],\"histogram2d\":[{\"colorbar\":{\"outlinewidth\":1,\"tickcolor\":\"rgb(36,36,36)\",\"ticks\":\"outside\"},\"colorscale\":[[0.0,\"#440154\"],[0.1111111111111111,\"#482878\"],[0.2222222222222222,\"#3e4989\"],[0.3333333333333333,\"#31688e\"],[0.4444444444444444,\"#26828e\"],[0.5555555555555556,\"#1f9e89\"],[0.6666666666666666,\"#35b779\"],[0.7777777777777778,\"#6ece58\"],[0.8888888888888888,\"#b5de2b\"],[1.0,\"#fde725\"]],\"type\":\"histogram2d\"}],\"histogram\":[{\"marker\":{\"line\":{\"color\":\"white\",\"width\":0.6}},\"type\":\"histogram\"}],\"mesh3d\":[{\"colorbar\":{\"outlinewidth\":1,\"tickcolor\":\"rgb(36,36,36)\",\"ticks\":\"outside\"},\"type\":\"mesh3d\"}],\"parcoords\":[{\"line\":{\"colorbar\":{\"outlinewidth\":1,\"tickcolor\":\"rgb(36,36,36)\",\"ticks\":\"outside\"}},\"type\":\"parcoords\"}],\"pie\":[{\"automargin\":true,\"type\":\"pie\"}],\"scatter3d\":[{\"line\":{\"colorbar\":{\"outlinewidth\":1,\"tickcolor\":\"rgb(36,36,36)\",\"ticks\":\"outside\"}},\"marker\":{\"colorbar\":{\"outlinewidth\":1,\"tickcolor\":\"rgb(36,36,36)\",\"ticks\":\"outside\"}},\"type\":\"scatter3d\"}],\"scattercarpet\":[{\"marker\":{\"colorbar\":{\"outlinewidth\":1,\"tickcolor\":\"rgb(36,36,36)\",\"ticks\":\"outside\"}},\"type\":\"scattercarpet\"}],\"scattergeo\":[{\"marker\":{\"colorbar\":{\"outlinewidth\":1,\"tickcolor\":\"rgb(36,36,36)\",\"ticks\":\"outside\"}},\"type\":\"scattergeo\"}],\"scattergl\":[{\"marker\":{\"colorbar\":{\"outlinewidth\":1,\"tickcolor\":\"rgb(36,36,36)\",\"ticks\":\"outside\"}},\"type\":\"scattergl\"}],\"scattermapbox\":[{\"marker\":{\"colorbar\":{\"outlinewidth\":1,\"tickcolor\":\"rgb(36,36,36)\",\"ticks\":\"outside\"}},\"type\":\"scattermapbox\"}],\"scatterpolargl\":[{\"marker\":{\"colorbar\":{\"outlinewidth\":1,\"tickcolor\":\"rgb(36,36,36)\",\"ticks\":\"outside\"}},\"type\":\"scatterpolargl\"}],\"scatterpolar\":[{\"marker\":{\"colorbar\":{\"outlinewidth\":1,\"tickcolor\":\"rgb(36,36,36)\",\"ticks\":\"outside\"}},\"type\":\"scatterpolar\"}],\"scatter\":[{\"fillpattern\":{\"fillmode\":\"overlay\",\"size\":10,\"solidity\":0.2},\"type\":\"scatter\"}],\"scatterternary\":[{\"marker\":{\"colorbar\":{\"outlinewidth\":1,\"tickcolor\":\"rgb(36,36,36)\",\"ticks\":\"outside\"}},\"type\":\"scatterternary\"}],\"surface\":[{\"colorbar\":{\"outlinewidth\":1,\"tickcolor\":\"rgb(36,36,36)\",\"ticks\":\"outside\"},\"colorscale\":[[0.0,\"#440154\"],[0.1111111111111111,\"#482878\"],[0.2222222222222222,\"#3e4989\"],[0.3333333333333333,\"#31688e\"],[0.4444444444444444,\"#26828e\"],[0.5555555555555556,\"#1f9e89\"],[0.6666666666666666,\"#35b779\"],[0.7777777777777778,\"#6ece58\"],[0.8888888888888888,\"#b5de2b\"],[1.0,\"#fde725\"]],\"type\":\"surface\"}],\"table\":[{\"cells\":{\"fill\":{\"color\":\"rgb(237,237,237)\"},\"line\":{\"color\":\"white\"}},\"header\":{\"fill\":{\"color\":\"rgb(217,217,217)\"},\"line\":{\"color\":\"white\"}},\"type\":\"table\"}]},\"layout\":{\"annotationdefaults\":{\"arrowhead\":0,\"arrowwidth\":1},\"autotypenumbers\":\"strict\",\"coloraxis\":{\"colorbar\":{\"outlinewidth\":1,\"tickcolor\":\"rgb(36,36,36)\",\"ticks\":\"outside\"}},\"colorscale\":{\"diverging\":[[0.0,\"rgb(103,0,31)\"],[0.1,\"rgb(178,24,43)\"],[0.2,\"rgb(214,96,77)\"],[0.3,\"rgb(244,165,130)\"],[0.4,\"rgb(253,219,199)\"],[0.5,\"rgb(247,247,247)\"],[0.6,\"rgb(209,229,240)\"],[0.7,\"rgb(146,197,222)\"],[0.8,\"rgb(67,147,195)\"],[0.9,\"rgb(33,102,172)\"],[1.0,\"rgb(5,48,97)\"]],\"sequential\":[[0.0,\"#440154\"],[0.1111111111111111,\"#482878\"],[0.2222222222222222,\"#3e4989\"],[0.3333333333333333,\"#31688e\"],[0.4444444444444444,\"#26828e\"],[0.5555555555555556,\"#1f9e89\"],[0.6666666666666666,\"#35b779\"],[0.7777777777777778,\"#6ece58\"],[0.8888888888888888,\"#b5de2b\"],[1.0,\"#fde725\"]],\"sequentialminus\":[[0.0,\"#440154\"],[0.1111111111111111,\"#482878\"],[0.2222222222222222,\"#3e4989\"],[0.3333333333333333,\"#31688e\"],[0.4444444444444444,\"#26828e\"],[0.5555555555555556,\"#1f9e89\"],[0.6666666666666666,\"#35b779\"],[0.7777777777777778,\"#6ece58\"],[0.8888888888888888,\"#b5de2b\"],[1.0,\"#fde725\"]]},\"colorway\":[\"#1F77B4\",\"#FF7F0E\",\"#2CA02C\",\"#D62728\",\"#9467BD\",\"#8C564B\",\"#E377C2\",\"#7F7F7F\",\"#BCBD22\",\"#17BECF\"],\"font\":{\"color\":\"rgb(36,36,36)\"},\"geo\":{\"bgcolor\":\"white\",\"lakecolor\":\"white\",\"landcolor\":\"white\",\"showlakes\":true,\"showland\":true,\"subunitcolor\":\"white\"},\"hoverlabel\":{\"align\":\"left\"},\"hovermode\":\"closest\",\"mapbox\":{\"style\":\"light\"},\"paper_bgcolor\":\"white\",\"plot_bgcolor\":\"white\",\"polar\":{\"angularaxis\":{\"gridcolor\":\"rgb(232,232,232)\",\"linecolor\":\"rgb(36,36,36)\",\"showgrid\":false,\"showline\":true,\"ticks\":\"outside\"},\"bgcolor\":\"white\",\"radialaxis\":{\"gridcolor\":\"rgb(232,232,232)\",\"linecolor\":\"rgb(36,36,36)\",\"showgrid\":false,\"showline\":true,\"ticks\":\"outside\"}},\"scene\":{\"xaxis\":{\"backgroundcolor\":\"white\",\"gridcolor\":\"rgb(232,232,232)\",\"gridwidth\":2,\"linecolor\":\"rgb(36,36,36)\",\"showbackground\":true,\"showgrid\":false,\"showline\":true,\"ticks\":\"outside\",\"zeroline\":false,\"zerolinecolor\":\"rgb(36,36,36)\"},\"yaxis\":{\"backgroundcolor\":\"white\",\"gridcolor\":\"rgb(232,232,232)\",\"gridwidth\":2,\"linecolor\":\"rgb(36,36,36)\",\"showbackground\":true,\"showgrid\":false,\"showline\":true,\"ticks\":\"outside\",\"zeroline\":false,\"zerolinecolor\":\"rgb(36,36,36)\"},\"zaxis\":{\"backgroundcolor\":\"white\",\"gridcolor\":\"rgb(232,232,232)\",\"gridwidth\":2,\"linecolor\":\"rgb(36,36,36)\",\"showbackground\":true,\"showgrid\":false,\"showline\":true,\"ticks\":\"outside\",\"zeroline\":false,\"zerolinecolor\":\"rgb(36,36,36)\"}},\"shapedefaults\":{\"fillcolor\":\"black\",\"line\":{\"width\":0},\"opacity\":0.3},\"ternary\":{\"aaxis\":{\"gridcolor\":\"rgb(232,232,232)\",\"linecolor\":\"rgb(36,36,36)\",\"showgrid\":false,\"showline\":true,\"ticks\":\"outside\"},\"baxis\":{\"gridcolor\":\"rgb(232,232,232)\",\"linecolor\":\"rgb(36,36,36)\",\"showgrid\":false,\"showline\":true,\"ticks\":\"outside\"},\"bgcolor\":\"white\",\"caxis\":{\"gridcolor\":\"rgb(232,232,232)\",\"linecolor\":\"rgb(36,36,36)\",\"showgrid\":false,\"showline\":true,\"ticks\":\"outside\"}},\"title\":{\"x\":0.05},\"xaxis\":{\"automargin\":true,\"gridcolor\":\"rgb(232,232,232)\",\"linecolor\":\"rgb(36,36,36)\",\"showgrid\":false,\"showline\":true,\"ticks\":\"outside\",\"title\":{\"standoff\":15},\"zeroline\":false,\"zerolinecolor\":\"rgb(36,36,36)\"},\"yaxis\":{\"automargin\":true,\"gridcolor\":\"rgb(232,232,232)\",\"linecolor\":\"rgb(36,36,36)\",\"showgrid\":false,\"showline\":true,\"ticks\":\"outside\",\"title\":{\"standoff\":15},\"zeroline\":false,\"zerolinecolor\":\"rgb(36,36,36)\"}}},\"xaxis\":{\"showgrid\":true},\"yaxis\":{\"showgrid\":true,\"title\":{\"text\":\"Count\"}},\"title\":{\"font\":{\"size\":22,\"color\":\"Black\"},\"text\":\"<b>Topics over Time\",\"y\":0.95,\"x\":0.4,\"xanchor\":\"center\",\"yanchor\":\"top\"},\"hoverlabel\":{\"font\":{\"size\":16,\"family\":\"Rockwell\"},\"bgcolor\":\"white\"},\"width\":1000,\"height\":500,\"legend\":{\"title\":{\"text\":\"<b>Global Topic Representation\"}}},                        {\"responsive\": true}                    ).then(function(){\n",
       "                            \n",
       "var gd = document.getElementById('1595ad37-0d2c-4023-8932-65cb3a9528f2');\n",
       "var x = new MutationObserver(function (mutations, observer) {{\n",
       "        var display = window.getComputedStyle(gd).display;\n",
       "        if (!display || display === 'none') {{\n",
       "            console.log([gd, 'removed!']);\n",
       "            Plotly.purge(gd);\n",
       "            observer.disconnect();\n",
       "        }}\n",
       "}});\n",
       "\n",
       "// Listen for the removal of the full notebook cells\n",
       "var notebookContainer = gd.closest('#notebook-container');\n",
       "if (notebookContainer) {{\n",
       "    x.observe(notebookContainer, {childList: true});\n",
       "}}\n",
       "\n",
       "// Listen for the clearing of the current output cell\n",
       "var outputEl = gd.closest('.output');\n",
       "if (outputEl) {{\n",
       "    x.observe(outputEl, {childList: true});\n",
       "}}\n",
       "\n",
       "                        })                };                });            </script>        </div>"
      ]
     },
     "metadata": {},
     "output_type": "display_data"
    }
   ],
   "source": [
    "sent_df_year_restrict_late_obj = bertopic_time(sent_df_year_restrict_late, topic_model)\n",
    "sent_df_year_restrict_late_vis = sent_df_year_restrict_late_obj[0]\n",
    "sent_df_year_restrict_late_vis"
   ]
  },
  {
   "cell_type": "markdown",
   "id": "9c058e3a",
   "metadata": {},
   "source": [
    "Use doc_topics_maker function to create dataframes for visualisations, limiting the dataframe to the topics contained within each visualisation and showing the topic names taken from the visualisation for each row. These visualisations are created for use with the social network visualisations in notebook four."
   ]
  },
  {
   "cell_type": "code",
   "execution_count": 17,
   "id": "3c3d2e34",
   "metadata": {},
   "outputs": [
    {
     "data": {
      "text/html": [
       "<div>\n",
       "<style scoped>\n",
       "    .dataframe tbody tr th:only-of-type {\n",
       "        vertical-align: middle;\n",
       "    }\n",
       "\n",
       "    .dataframe tbody tr th {\n",
       "        vertical-align: top;\n",
       "    }\n",
       "\n",
       "    .dataframe thead th {\n",
       "        text-align: right;\n",
       "    }\n",
       "</style>\n",
       "<table border=\"1\" class=\"dataframe\">\n",
       "  <thead>\n",
       "    <tr style=\"text-align: right;\">\n",
       "      <th></th>\n",
       "      <th>letter</th>\n",
       "      <th>date</th>\n",
       "      <th>sender</th>\n",
       "      <th>recipient</th>\n",
       "      <th>text</th>\n",
       "      <th>topic</th>\n",
       "    </tr>\n",
       "  </thead>\n",
       "  <tbody>\n",
       "    <tr>\n",
       "      <th>21</th>\n",
       "      <td>letters_1.xml</td>\n",
       "      <td>1820-04-24</td>\n",
       "      <td>Sowerby, James</td>\n",
       "      <td>Henslow, J. S.</td>\n",
       "      <td>pentacrinitis caryophyllea</td>\n",
       "      <td>0_plant_botany_flora_herbarium</td>\n",
       "    </tr>\n",
       "    <tr>\n",
       "      <th>23</th>\n",
       "      <td>letters_1.xml</td>\n",
       "      <td>1820-04-24</td>\n",
       "      <td>Sowerby, James</td>\n",
       "      <td>Henslow, J. S.</td>\n",
       "      <td>madriporite tubipore entrochi carypohyllea scoria</td>\n",
       "      <td>0_plant_botany_flora_herbarium</td>\n",
       "    </tr>\n",
       "    <tr>\n",
       "      <th>40</th>\n",
       "      <td>letters_4.xml</td>\n",
       "      <td>1822-12-16</td>\n",
       "      <td>Henslow, J. S.</td>\n",
       "      <td>Jenyns, Leonard</td>\n",
       "      <td>addenda plant wynch</td>\n",
       "      <td>0_plant_botany_flora_herbarium</td>\n",
       "    </tr>\n",
       "    <tr>\n",
       "      <th>43</th>\n",
       "      <td>letters_4.xml</td>\n",
       "      <td>1822-12-16</td>\n",
       "      <td>Henslow, J. S.</td>\n",
       "      <td>Jenyns, Leonard</td>\n",
       "      <td>alisma ranunculoide officinalis arenaria verna...</td>\n",
       "      <td>0_plant_botany_flora_herbarium</td>\n",
       "    </tr>\n",
       "    <tr>\n",
       "      <th>46</th>\n",
       "      <td>letters_4.xml</td>\n",
       "      <td>1822-12-16</td>\n",
       "      <td>Henslow, J. S.</td>\n",
       "      <td>Jenyns, Leonard</td>\n",
       "      <td>arenarius draba dryas octopetala epilobium als...</td>\n",
       "      <td>0_plant_botany_flora_herbarium</td>\n",
       "    </tr>\n",
       "    <tr>\n",
       "      <th>...</th>\n",
       "      <td>...</td>\n",
       "      <td>...</td>\n",
       "      <td>...</td>\n",
       "      <td>...</td>\n",
       "      <td>...</td>\n",
       "      <td>...</td>\n",
       "    </tr>\n",
       "    <tr>\n",
       "      <th>8839</th>\n",
       "      <td>letters_1221.xml</td>\n",
       "      <td>1834-08-20</td>\n",
       "      <td>Henslow, J. S.</td>\n",
       "      <td>Phillips, John</td>\n",
       "      <td>request edinburgh proposes council</td>\n",
       "      <td>14_edinburgh_glasgow_dublin_scotland</td>\n",
       "    </tr>\n",
       "    <tr>\n",
       "      <th>8849</th>\n",
       "      <td>letters_1222.xml</td>\n",
       "      <td>1834-02-10</td>\n",
       "      <td>Henslow, J. S.</td>\n",
       "      <td>Phillips, John</td>\n",
       "      <td>edinburgh generality answer query</td>\n",
       "      <td>14_edinburgh_glasgow_dublin_scotland</td>\n",
       "    </tr>\n",
       "    <tr>\n",
       "      <th>8852</th>\n",
       "      <td>letters_1222.xml</td>\n",
       "      <td>1834-02-10</td>\n",
       "      <td>Henslow, J. S.</td>\n",
       "      <td>Phillips, John</td>\n",
       "      <td>forego week edinburgh sd sportsman</td>\n",
       "      <td>14_edinburgh_glasgow_dublin_scotland</td>\n",
       "    </tr>\n",
       "    <tr>\n",
       "      <th>8865</th>\n",
       "      <td>letters_1223.xml</td>\n",
       "      <td>1836-08-08</td>\n",
       "      <td>Henslow, J. S.</td>\n",
       "      <td>Phillips, John</td>\n",
       "      <td>trust stop dublin</td>\n",
       "      <td>14_edinburgh_glasgow_dublin_scotland</td>\n",
       "    </tr>\n",
       "    <tr>\n",
       "      <th>9062</th>\n",
       "      <td>letters_1240.xml</td>\n",
       "      <td>1840-06-25</td>\n",
       "      <td>Henslow, J. S.</td>\n",
       "      <td>Hutton, William</td>\n",
       "      <td>july univy london august meeting cambridge gla...</td>\n",
       "      <td>14_edinburgh_glasgow_dublin_scotland</td>\n",
       "    </tr>\n",
       "  </tbody>\n",
       "</table>\n",
       "<p>2514 rows × 6 columns</p>\n",
       "</div>"
      ],
      "text/plain": [
       "                letter       date          sender        recipient  \\\n",
       "21       letters_1.xml 1820-04-24  Sowerby, James   Henslow, J. S.   \n",
       "23       letters_1.xml 1820-04-24  Sowerby, James   Henslow, J. S.   \n",
       "40       letters_4.xml 1822-12-16  Henslow, J. S.  Jenyns, Leonard   \n",
       "43       letters_4.xml 1822-12-16  Henslow, J. S.  Jenyns, Leonard   \n",
       "46       letters_4.xml 1822-12-16  Henslow, J. S.  Jenyns, Leonard   \n",
       "...                ...        ...             ...              ...   \n",
       "8839  letters_1221.xml 1834-08-20  Henslow, J. S.   Phillips, John   \n",
       "8849  letters_1222.xml 1834-02-10  Henslow, J. S.   Phillips, John   \n",
       "8852  letters_1222.xml 1834-02-10  Henslow, J. S.   Phillips, John   \n",
       "8865  letters_1223.xml 1836-08-08  Henslow, J. S.   Phillips, John   \n",
       "9062  letters_1240.xml 1840-06-25  Henslow, J. S.  Hutton, William   \n",
       "\n",
       "                                                   text  \\\n",
       "21                           pentacrinitis caryophyllea   \n",
       "23    madriporite tubipore entrochi carypohyllea scoria   \n",
       "40                                  addenda plant wynch   \n",
       "43    alisma ranunculoide officinalis arenaria verna...   \n",
       "46    arenarius draba dryas octopetala epilobium als...   \n",
       "...                                                 ...   \n",
       "8839                 request edinburgh proposes council   \n",
       "8849                  edinburgh generality answer query   \n",
       "8852                 forego week edinburgh sd sportsman   \n",
       "8865                                  trust stop dublin   \n",
       "9062  july univy london august meeting cambridge gla...   \n",
       "\n",
       "                                     topic  \n",
       "21          0_plant_botany_flora_herbarium  \n",
       "23          0_plant_botany_flora_herbarium  \n",
       "40          0_plant_botany_flora_herbarium  \n",
       "43          0_plant_botany_flora_herbarium  \n",
       "46          0_plant_botany_flora_herbarium  \n",
       "...                                    ...  \n",
       "8839  14_edinburgh_glasgow_dublin_scotland  \n",
       "8849  14_edinburgh_glasgow_dublin_scotland  \n",
       "8852  14_edinburgh_glasgow_dublin_scotland  \n",
       "8865  14_edinburgh_glasgow_dublin_scotland  \n",
       "9062  14_edinburgh_glasgow_dublin_scotland  \n",
       "\n",
       "[2514 rows x 6 columns]"
      ]
     },
     "execution_count": 17,
     "metadata": {},
     "output_type": "execute_result"
    }
   ],
   "source": [
    "doc_topics_df = doc_topics_maker(sent_df, all_vis_obj)\n",
    "doc_topics_df"
   ]
  },
  {
   "cell_type": "code",
   "execution_count": 18,
   "id": "68528835",
   "metadata": {},
   "outputs": [
    {
     "data": {
      "text/html": [
       "<div>\n",
       "<style scoped>\n",
       "    .dataframe tbody tr th:only-of-type {\n",
       "        vertical-align: middle;\n",
       "    }\n",
       "\n",
       "    .dataframe tbody tr th {\n",
       "        vertical-align: top;\n",
       "    }\n",
       "\n",
       "    .dataframe thead th {\n",
       "        text-align: right;\n",
       "    }\n",
       "</style>\n",
       "<table border=\"1\" class=\"dataframe\">\n",
       "  <thead>\n",
       "    <tr style=\"text-align: right;\">\n",
       "      <th></th>\n",
       "      <th>letter</th>\n",
       "      <th>date</th>\n",
       "      <th>sender</th>\n",
       "      <th>recipient</th>\n",
       "      <th>text</th>\n",
       "      <th>topic</th>\n",
       "    </tr>\n",
       "  </thead>\n",
       "  <tbody>\n",
       "    <tr>\n",
       "      <th>7</th>\n",
       "      <td>letters_1.xml</td>\n",
       "      <td>1820-04-24</td>\n",
       "      <td>Sowerby, James</td>\n",
       "      <td>Henslow, J. S.</td>\n",
       "      <td>punctatus</td>\n",
       "      <td>0_plant_specimen_arvensis_vulgaris</td>\n",
       "    </tr>\n",
       "    <tr>\n",
       "      <th>20</th>\n",
       "      <td>letters_1.xml</td>\n",
       "      <td>1820-04-24</td>\n",
       "      <td>Sowerby, James</td>\n",
       "      <td>Henslow, J. S.</td>\n",
       "      <td>nautilus complanatus</td>\n",
       "      <td>0_plant_specimen_arvensis_vulgaris</td>\n",
       "    </tr>\n",
       "    <tr>\n",
       "      <th>21</th>\n",
       "      <td>letters_1.xml</td>\n",
       "      <td>1820-04-24</td>\n",
       "      <td>Sowerby, James</td>\n",
       "      <td>Henslow, J. S.</td>\n",
       "      <td>pentacrinitis caryophyllea</td>\n",
       "      <td>0_plant_specimen_arvensis_vulgaris</td>\n",
       "    </tr>\n",
       "    <tr>\n",
       "      <th>23</th>\n",
       "      <td>letters_1.xml</td>\n",
       "      <td>1820-04-24</td>\n",
       "      <td>Sowerby, James</td>\n",
       "      <td>Henslow, J. S.</td>\n",
       "      <td>madriporite tubipore entrochi carypohyllea scoria</td>\n",
       "      <td>0_plant_specimen_arvensis_vulgaris</td>\n",
       "    </tr>\n",
       "    <tr>\n",
       "      <th>28</th>\n",
       "      <td>letters_3.xml</td>\n",
       "      <td>1821-07-02</td>\n",
       "      <td>Cumming, James</td>\n",
       "      <td>Henslow, J. S.</td>\n",
       "      <td>evening result specimen goodness insert paper ...</td>\n",
       "      <td>0_plant_specimen_arvensis_vulgaris</td>\n",
       "    </tr>\n",
       "    <tr>\n",
       "      <th>...</th>\n",
       "      <td>...</td>\n",
       "      <td>...</td>\n",
       "      <td>...</td>\n",
       "      <td>...</td>\n",
       "      <td>...</td>\n",
       "      <td>...</td>\n",
       "    </tr>\n",
       "    <tr>\n",
       "      <th>6491</th>\n",
       "      <td>letters_864.xml</td>\n",
       "      <td>1826-02-16</td>\n",
       "      <td>Wood, J.</td>\n",
       "      <td>Henslow, J. S.</td>\n",
       "      <td>illeg</td>\n",
       "      <td>14_illeg_lamb_thro_health</td>\n",
       "    </tr>\n",
       "    <tr>\n",
       "      <th>6599</th>\n",
       "      <td>letters_887.xml</td>\n",
       "      <td>1826-03-10</td>\n",
       "      <td>Lamb, J.</td>\n",
       "      <td>Henslow, J. S.</td>\n",
       "      <td>illeg illeg meeting hour lamb</td>\n",
       "      <td>14_illeg_lamb_thro_health</td>\n",
       "    </tr>\n",
       "    <tr>\n",
       "      <th>6868</th>\n",
       "      <td>letters_948.xml</td>\n",
       "      <td>1826-06-10</td>\n",
       "      <td>Burch, J.</td>\n",
       "      <td>Henslow, J. S.</td>\n",
       "      <td>illeg</td>\n",
       "      <td>14_illeg_lamb_thro_health</td>\n",
       "    </tr>\n",
       "    <tr>\n",
       "      <th>6879</th>\n",
       "      <td>letters_951.xml</td>\n",
       "      <td>1826-07-02</td>\n",
       "      <td>Lamb, J.</td>\n",
       "      <td>Henslow, J. S.</td>\n",
       "      <td>lamb</td>\n",
       "      <td>14_illeg_lamb_thro_health</td>\n",
       "    </tr>\n",
       "    <tr>\n",
       "      <th>6899</th>\n",
       "      <td>letters_957.xml</td>\n",
       "      <td>1826-06-22</td>\n",
       "      <td>Sulivan, L.</td>\n",
       "      <td>Henslow, J. S.</td>\n",
       "      <td>illeg arrangement</td>\n",
       "      <td>14_illeg_lamb_thro_health</td>\n",
       "    </tr>\n",
       "  </tbody>\n",
       "</table>\n",
       "<p>1548 rows × 6 columns</p>\n",
       "</div>"
      ],
      "text/plain": [
       "               letter       date          sender       recipient  \\\n",
       "7       letters_1.xml 1820-04-24  Sowerby, James  Henslow, J. S.   \n",
       "20      letters_1.xml 1820-04-24  Sowerby, James  Henslow, J. S.   \n",
       "21      letters_1.xml 1820-04-24  Sowerby, James  Henslow, J. S.   \n",
       "23      letters_1.xml 1820-04-24  Sowerby, James  Henslow, J. S.   \n",
       "28      letters_3.xml 1821-07-02  Cumming, James  Henslow, J. S.   \n",
       "...               ...        ...             ...             ...   \n",
       "6491  letters_864.xml 1826-02-16        Wood, J.  Henslow, J. S.   \n",
       "6599  letters_887.xml 1826-03-10        Lamb, J.  Henslow, J. S.   \n",
       "6868  letters_948.xml 1826-06-10       Burch, J.  Henslow, J. S.   \n",
       "6879  letters_951.xml 1826-07-02        Lamb, J.  Henslow, J. S.   \n",
       "6899  letters_957.xml 1826-06-22     Sulivan, L.  Henslow, J. S.   \n",
       "\n",
       "                                                   text  \\\n",
       "7                                             punctatus   \n",
       "20                                 nautilus complanatus   \n",
       "21                           pentacrinitis caryophyllea   \n",
       "23    madriporite tubipore entrochi carypohyllea scoria   \n",
       "28    evening result specimen goodness insert paper ...   \n",
       "...                                                 ...   \n",
       "6491                                              illeg   \n",
       "6599                      illeg illeg meeting hour lamb   \n",
       "6868                                              illeg   \n",
       "6879                                               lamb   \n",
       "6899                                  illeg arrangement   \n",
       "\n",
       "                                   topic  \n",
       "7     0_plant_specimen_arvensis_vulgaris  \n",
       "20    0_plant_specimen_arvensis_vulgaris  \n",
       "21    0_plant_specimen_arvensis_vulgaris  \n",
       "23    0_plant_specimen_arvensis_vulgaris  \n",
       "28    0_plant_specimen_arvensis_vulgaris  \n",
       "...                                  ...  \n",
       "6491           14_illeg_lamb_thro_health  \n",
       "6599           14_illeg_lamb_thro_health  \n",
       "6868           14_illeg_lamb_thro_health  \n",
       "6879           14_illeg_lamb_thro_health  \n",
       "6899           14_illeg_lamb_thro_health  \n",
       "\n",
       "[1548 rows x 6 columns]"
      ]
     },
     "execution_count": 18,
     "metadata": {},
     "output_type": "execute_result"
    }
   ],
   "source": [
    "doc_topics_df_20s = doc_topics_maker(sent_df, sent_df_year_restrict_20_vis_obj)\n",
    "doc_topics_df_20s"
   ]
  },
  {
   "cell_type": "code",
   "execution_count": 19,
   "id": "556aef3b",
   "metadata": {},
   "outputs": [
    {
     "data": {
      "text/html": [
       "<div>\n",
       "<style scoped>\n",
       "    .dataframe tbody tr th:only-of-type {\n",
       "        vertical-align: middle;\n",
       "    }\n",
       "\n",
       "    .dataframe tbody tr th {\n",
       "        vertical-align: top;\n",
       "    }\n",
       "\n",
       "    .dataframe thead th {\n",
       "        text-align: right;\n",
       "    }\n",
       "</style>\n",
       "<table border=\"1\" class=\"dataframe\">\n",
       "  <thead>\n",
       "    <tr style=\"text-align: right;\">\n",
       "      <th></th>\n",
       "      <th>letter</th>\n",
       "      <th>date</th>\n",
       "      <th>sender</th>\n",
       "      <th>recipient</th>\n",
       "      <th>text</th>\n",
       "      <th>topic</th>\n",
       "    </tr>\n",
       "  </thead>\n",
       "  <tbody>\n",
       "    <tr>\n",
       "      <th>876</th>\n",
       "      <td>letters_75.xml</td>\n",
       "      <td>1828-07-07</td>\n",
       "      <td>Greville, R. K.</td>\n",
       "      <td>Henslow, J. S.</td>\n",
       "      <td>glasgow</td>\n",
       "      <td>0_museum_ipswich_suffolk_meeting</td>\n",
       "    </tr>\n",
       "    <tr>\n",
       "      <th>890</th>\n",
       "      <td>letters_75.xml</td>\n",
       "      <td>1828-07-07</td>\n",
       "      <td>Greville, R. K.</td>\n",
       "      <td>Henslow, J. S.</td>\n",
       "      <td>paris</td>\n",
       "      <td>0_museum_ipswich_suffolk_meeting</td>\n",
       "    </tr>\n",
       "    <tr>\n",
       "      <th>2625</th>\n",
       "      <td>letters_230.xml</td>\n",
       "      <td>1845-02-06</td>\n",
       "      <td>Henslow, J. S.</td>\n",
       "      <td>Whewell, William</td>\n",
       "      <td>appointment curator biggs arrangement superint...</td>\n",
       "      <td>0_museum_ipswich_suffolk_meeting</td>\n",
       "    </tr>\n",
       "    <tr>\n",
       "      <th>2646</th>\n",
       "      <td>letters_237.xml</td>\n",
       "      <td>1846-08-28</td>\n",
       "      <td>Henslow, J. S.</td>\n",
       "      <td>Whewell, William</td>\n",
       "      <td>suffolk august whewell silence envelope hitcha...</td>\n",
       "      <td>0_museum_ipswich_suffolk_meeting</td>\n",
       "    </tr>\n",
       "    <tr>\n",
       "      <th>2665</th>\n",
       "      <td>letters_238.xml</td>\n",
       "      <td>1847-01-25</td>\n",
       "      <td>Henslow, J. S.</td>\n",
       "      <td>Jenyns, Leonard</td>\n",
       "      <td>town</td>\n",
       "      <td>0_museum_ipswich_suffolk_meeting</td>\n",
       "    </tr>\n",
       "    <tr>\n",
       "      <th>...</th>\n",
       "      <td>...</td>\n",
       "      <td>...</td>\n",
       "      <td>...</td>\n",
       "      <td>...</td>\n",
       "      <td>...</td>\n",
       "      <td>...</td>\n",
       "    </tr>\n",
       "    <tr>\n",
       "      <th>8004</th>\n",
       "      <td>letters_1126.xml</td>\n",
       "      <td>1855-05-14</td>\n",
       "      <td>Henslow, J. S.</td>\n",
       "      <td>Unknown</td>\n",
       "      <td>cambridge</td>\n",
       "      <td>14_cambridge_oxford_provost_minority</td>\n",
       "    </tr>\n",
       "    <tr>\n",
       "      <th>8214</th>\n",
       "      <td>letters_1154.xml</td>\n",
       "      <td>1858-03-21</td>\n",
       "      <td>Hooker, J. D.</td>\n",
       "      <td>Henslow, J. S.</td>\n",
       "      <td>cambridge</td>\n",
       "      <td>14_cambridge_oxford_provost_minority</td>\n",
       "    </tr>\n",
       "    <tr>\n",
       "      <th>8494</th>\n",
       "      <td>letters_1182.xml</td>\n",
       "      <td>1856-10-28</td>\n",
       "      <td>Henslow, J. S.</td>\n",
       "      <td>Gould, John.</td>\n",
       "      <td>home cambridge downing_college cambridge night...</td>\n",
       "      <td>14_cambridge_oxford_provost_minority</td>\n",
       "    </tr>\n",
       "    <tr>\n",
       "      <th>8707</th>\n",
       "      <td>letters_1206.xml</td>\n",
       "      <td>1826-02-26</td>\n",
       "      <td>Henslow, J. S.</td>\n",
       "      <td>Dale, J. C.</td>\n",
       "      <td>cambridge feb</td>\n",
       "      <td>14_cambridge_oxford_provost_minority</td>\n",
       "    </tr>\n",
       "    <tr>\n",
       "      <th>8840</th>\n",
       "      <td>letters_1222.xml</td>\n",
       "      <td>1834-02-10</td>\n",
       "      <td>Henslow, J. S.</td>\n",
       "      <td>Phillips, John</td>\n",
       "      <td>cambridge feb</td>\n",
       "      <td>14_cambridge_oxford_provost_minority</td>\n",
       "    </tr>\n",
       "  </tbody>\n",
       "</table>\n",
       "<p>1315 rows × 6 columns</p>\n",
       "</div>"
      ],
      "text/plain": [
       "                letter       date           sender         recipient  \\\n",
       "876     letters_75.xml 1828-07-07  Greville, R. K.    Henslow, J. S.   \n",
       "890     letters_75.xml 1828-07-07  Greville, R. K.    Henslow, J. S.   \n",
       "2625   letters_230.xml 1845-02-06   Henslow, J. S.  Whewell, William   \n",
       "2646   letters_237.xml 1846-08-28   Henslow, J. S.  Whewell, William   \n",
       "2665   letters_238.xml 1847-01-25   Henslow, J. S.   Jenyns, Leonard   \n",
       "...                ...        ...              ...               ...   \n",
       "8004  letters_1126.xml 1855-05-14   Henslow, J. S.           Unknown   \n",
       "8214  letters_1154.xml 1858-03-21    Hooker, J. D.    Henslow, J. S.   \n",
       "8494  letters_1182.xml 1856-10-28   Henslow, J. S.      Gould, John.   \n",
       "8707  letters_1206.xml 1826-02-26   Henslow, J. S.       Dale, J. C.   \n",
       "8840  letters_1222.xml 1834-02-10   Henslow, J. S.    Phillips, John   \n",
       "\n",
       "                                                   text  \\\n",
       "876                                             glasgow   \n",
       "890                                               paris   \n",
       "2625  appointment curator biggs arrangement superint...   \n",
       "2646  suffolk august whewell silence envelope hitcha...   \n",
       "2665                                               town   \n",
       "...                                                 ...   \n",
       "8004                                          cambridge   \n",
       "8214                                          cambridge   \n",
       "8494  home cambridge downing_college cambridge night...   \n",
       "8707                                      cambridge feb   \n",
       "8840                                      cambridge feb   \n",
       "\n",
       "                                     topic  \n",
       "876       0_museum_ipswich_suffolk_meeting  \n",
       "890       0_museum_ipswich_suffolk_meeting  \n",
       "2625      0_museum_ipswich_suffolk_meeting  \n",
       "2646      0_museum_ipswich_suffolk_meeting  \n",
       "2665      0_museum_ipswich_suffolk_meeting  \n",
       "...                                    ...  \n",
       "8004  14_cambridge_oxford_provost_minority  \n",
       "8214  14_cambridge_oxford_provost_minority  \n",
       "8494  14_cambridge_oxford_provost_minority  \n",
       "8707  14_cambridge_oxford_provost_minority  \n",
       "8840  14_cambridge_oxford_provost_minority  \n",
       "\n",
       "[1315 rows x 6 columns]"
      ]
     },
     "execution_count": 19,
     "metadata": {},
     "output_type": "execute_result"
    }
   ],
   "source": [
    "doc_topics_df_late = doc_topics_maker(sent_df, sent_df_year_restrict_late_obj)\n",
    "doc_topics_df_late"
   ]
  },
  {
   "cell_type": "markdown",
   "id": "ad4cf98f",
   "metadata": {},
   "source": [
    "Use all_tree_vis function to create dendrogram visualisation of clusters for most prominent topics, with dataframe and topic model as parameters."
   ]
  },
  {
   "cell_type": "code",
   "execution_count": 20,
   "id": "5104290b",
   "metadata": {},
   "outputs": [
    {
     "data": {
      "application/vnd.plotly.v1+json": {
       "config": {
        "plotlyServerURL": "https://plot.ly"
       },
       "data": [
        {
         "hoverinfo": "text",
         "marker": {
          "color": "rgb(61,153,112)"
         },
         "mode": "lines",
         "type": "scatter",
         "x": [
          0,
          0.4306052470487006,
          0.4306052470487006,
          0
         ],
         "xaxis": "x",
         "y": [
          -5,
          -5,
          -15,
          -15
         ],
         "yaxis": "y"
        },
        {
         "hoverinfo": "text",
         "marker": {
          "color": "rgb(61,153,112)"
         },
         "mode": "lines",
         "type": "scatter",
         "x": [
          0,
          0.6598879680655831,
          0.6598879680655831,
          0
         ],
         "xaxis": "x",
         "y": [
          -25,
          -25,
          -35,
          -35
         ],
         "yaxis": "y"
        },
        {
         "hoverinfo": "text",
         "marker": {
          "color": "rgb(61,153,112)"
         },
         "mode": "lines",
         "type": "scatter",
         "x": [
          0.4306052470487006,
          0.8265343813263599,
          0.8265343813263599,
          0.6598879680655831
         ],
         "xaxis": "x",
         "y": [
          -10,
          -10,
          -30,
          -30
         ],
         "yaxis": "y"
        },
        {
         "hoverinfo": "text",
         "marker": {
          "color": "rgb(255,65,54)"
         },
         "mode": "lines",
         "type": "scatter",
         "x": [
          0,
          0.6230288211919253,
          0.6230288211919253,
          0
         ],
         "xaxis": "x",
         "y": [
          -45,
          -45,
          -55,
          -55
         ],
         "yaxis": "y"
        },
        {
         "hoverinfo": "text",
         "marker": {
          "color": "rgb(35,205,205)"
         },
         "mode": "lines",
         "type": "scatter",
         "x": [
          0,
          0.49071248080421104,
          0.49071248080421104,
          0
         ],
         "xaxis": "x",
         "y": [
          -75,
          -75,
          -85,
          -85
         ],
         "yaxis": "y"
        },
        {
         "hoverinfo": "text",
         "marker": {
          "color": "rgb(35,205,205)"
         },
         "mode": "lines",
         "type": "scatter",
         "x": [
          0,
          0.5527663611911473,
          0.5527663611911473,
          0.49071248080421104
         ],
         "xaxis": "x",
         "y": [
          -65,
          -65,
          -80,
          -80
         ],
         "yaxis": "y"
        },
        {
         "hoverinfo": "text",
         "marker": {
          "color": "rgb(133,20,75)"
         },
         "mode": "lines",
         "type": "scatter",
         "x": [
          0,
          0.6849028123698438,
          0.6849028123698438,
          0
         ],
         "xaxis": "x",
         "y": [
          -95,
          -95,
          -105,
          -105
         ],
         "yaxis": "y"
        },
        {
         "hoverinfo": "text",
         "marker": {
          "color": "rgb(133,20,75)"
         },
         "mode": "lines",
         "type": "scatter",
         "x": [
          0,
          0.3488793232604889,
          0.3488793232604889,
          0
         ],
         "xaxis": "x",
         "y": [
          -135,
          -135,
          -145,
          -145
         ],
         "yaxis": "y"
        },
        {
         "hoverinfo": "text",
         "marker": {
          "color": "rgb(133,20,75)"
         },
         "mode": "lines",
         "type": "scatter",
         "x": [
          0,
          0.6375037652378578,
          0.6375037652378578,
          0.3488793232604889
         ],
         "xaxis": "x",
         "y": [
          -125,
          -125,
          -140,
          -140
         ],
         "yaxis": "y"
        },
        {
         "hoverinfo": "text",
         "marker": {
          "color": "rgb(133,20,75)"
         },
         "mode": "lines",
         "type": "scatter",
         "x": [
          0,
          0.741967512697101,
          0.741967512697101,
          0.6375037652378578
         ],
         "xaxis": "x",
         "y": [
          -115,
          -115,
          -132.5,
          -132.5
         ],
         "yaxis": "y"
        },
        {
         "hoverinfo": "text",
         "marker": {
          "color": "rgb(133,20,75)"
         },
         "mode": "lines",
         "type": "scatter",
         "x": [
          0.6849028123698438,
          0.8387329291466955,
          0.8387329291466955,
          0.741967512697101
         ],
         "xaxis": "x",
         "y": [
          -100,
          -100,
          -123.75,
          -123.75
         ],
         "yaxis": "y"
        },
        {
         "hoverinfo": "text",
         "marker": {
          "color": "rgb(0,116,217)"
         },
         "mode": "lines",
         "type": "scatter",
         "x": [
          0.5527663611911473,
          1.05520256425633,
          1.05520256425633,
          0.8387329291466955
         ],
         "xaxis": "x",
         "y": [
          -72.5,
          -72.5,
          -111.875,
          -111.875
         ],
         "yaxis": "y"
        },
        {
         "hoverinfo": "text",
         "marker": {
          "color": "rgb(0,116,217)"
         },
         "mode": "lines",
         "type": "scatter",
         "x": [
          0.6230288211919253,
          1.2190634885828437,
          1.2190634885828437,
          1.05520256425633
         ],
         "xaxis": "x",
         "y": [
          -50,
          -50,
          -92.1875,
          -92.1875
         ],
         "yaxis": "y"
        },
        {
         "hoverinfo": "text",
         "marker": {
          "color": "rgb(0,116,217)"
         },
         "mode": "lines",
         "type": "scatter",
         "x": [
          0.8265343813263599,
          1.714124329865583,
          1.714124329865583,
          1.2190634885828437
         ],
         "xaxis": "x",
         "y": [
          -20,
          -20,
          -71.09375,
          -71.09375
         ],
         "yaxis": "y"
        }
       ],
       "layout": {
        "autosize": false,
        "height": 425,
        "hoverlabel": {
         "bgcolor": "white",
         "font": {
          "family": "Rockwell",
          "size": 16
         }
        },
        "hovermode": "closest",
        "plot_bgcolor": "#ECEFF1",
        "showlegend": false,
        "template": {
         "data": {
          "bar": [
           {
            "error_x": {
             "color": "#2a3f5f"
            },
            "error_y": {
             "color": "#2a3f5f"
            },
            "marker": {
             "line": {
              "color": "white",
              "width": 0.5
             },
             "pattern": {
              "fillmode": "overlay",
              "size": 10,
              "solidity": 0.2
             }
            },
            "type": "bar"
           }
          ],
          "barpolar": [
           {
            "marker": {
             "line": {
              "color": "white",
              "width": 0.5
             },
             "pattern": {
              "fillmode": "overlay",
              "size": 10,
              "solidity": 0.2
             }
            },
            "type": "barpolar"
           }
          ],
          "carpet": [
           {
            "aaxis": {
             "endlinecolor": "#2a3f5f",
             "gridcolor": "#C8D4E3",
             "linecolor": "#C8D4E3",
             "minorgridcolor": "#C8D4E3",
             "startlinecolor": "#2a3f5f"
            },
            "baxis": {
             "endlinecolor": "#2a3f5f",
             "gridcolor": "#C8D4E3",
             "linecolor": "#C8D4E3",
             "minorgridcolor": "#C8D4E3",
             "startlinecolor": "#2a3f5f"
            },
            "type": "carpet"
           }
          ],
          "choropleth": [
           {
            "colorbar": {
             "outlinewidth": 0,
             "ticks": ""
            },
            "type": "choropleth"
           }
          ],
          "contour": [
           {
            "colorbar": {
             "outlinewidth": 0,
             "ticks": ""
            },
            "colorscale": [
             [
              0,
              "#0d0887"
             ],
             [
              0.1111111111111111,
              "#46039f"
             ],
             [
              0.2222222222222222,
              "#7201a8"
             ],
             [
              0.3333333333333333,
              "#9c179e"
             ],
             [
              0.4444444444444444,
              "#bd3786"
             ],
             [
              0.5555555555555556,
              "#d8576b"
             ],
             [
              0.6666666666666666,
              "#ed7953"
             ],
             [
              0.7777777777777778,
              "#fb9f3a"
             ],
             [
              0.8888888888888888,
              "#fdca26"
             ],
             [
              1,
              "#f0f921"
             ]
            ],
            "type": "contour"
           }
          ],
          "contourcarpet": [
           {
            "colorbar": {
             "outlinewidth": 0,
             "ticks": ""
            },
            "type": "contourcarpet"
           }
          ],
          "heatmap": [
           {
            "colorbar": {
             "outlinewidth": 0,
             "ticks": ""
            },
            "colorscale": [
             [
              0,
              "#0d0887"
             ],
             [
              0.1111111111111111,
              "#46039f"
             ],
             [
              0.2222222222222222,
              "#7201a8"
             ],
             [
              0.3333333333333333,
              "#9c179e"
             ],
             [
              0.4444444444444444,
              "#bd3786"
             ],
             [
              0.5555555555555556,
              "#d8576b"
             ],
             [
              0.6666666666666666,
              "#ed7953"
             ],
             [
              0.7777777777777778,
              "#fb9f3a"
             ],
             [
              0.8888888888888888,
              "#fdca26"
             ],
             [
              1,
              "#f0f921"
             ]
            ],
            "type": "heatmap"
           }
          ],
          "heatmapgl": [
           {
            "colorbar": {
             "outlinewidth": 0,
             "ticks": ""
            },
            "colorscale": [
             [
              0,
              "#0d0887"
             ],
             [
              0.1111111111111111,
              "#46039f"
             ],
             [
              0.2222222222222222,
              "#7201a8"
             ],
             [
              0.3333333333333333,
              "#9c179e"
             ],
             [
              0.4444444444444444,
              "#bd3786"
             ],
             [
              0.5555555555555556,
              "#d8576b"
             ],
             [
              0.6666666666666666,
              "#ed7953"
             ],
             [
              0.7777777777777778,
              "#fb9f3a"
             ],
             [
              0.8888888888888888,
              "#fdca26"
             ],
             [
              1,
              "#f0f921"
             ]
            ],
            "type": "heatmapgl"
           }
          ],
          "histogram": [
           {
            "marker": {
             "pattern": {
              "fillmode": "overlay",
              "size": 10,
              "solidity": 0.2
             }
            },
            "type": "histogram"
           }
          ],
          "histogram2d": [
           {
            "colorbar": {
             "outlinewidth": 0,
             "ticks": ""
            },
            "colorscale": [
             [
              0,
              "#0d0887"
             ],
             [
              0.1111111111111111,
              "#46039f"
             ],
             [
              0.2222222222222222,
              "#7201a8"
             ],
             [
              0.3333333333333333,
              "#9c179e"
             ],
             [
              0.4444444444444444,
              "#bd3786"
             ],
             [
              0.5555555555555556,
              "#d8576b"
             ],
             [
              0.6666666666666666,
              "#ed7953"
             ],
             [
              0.7777777777777778,
              "#fb9f3a"
             ],
             [
              0.8888888888888888,
              "#fdca26"
             ],
             [
              1,
              "#f0f921"
             ]
            ],
            "type": "histogram2d"
           }
          ],
          "histogram2dcontour": [
           {
            "colorbar": {
             "outlinewidth": 0,
             "ticks": ""
            },
            "colorscale": [
             [
              0,
              "#0d0887"
             ],
             [
              0.1111111111111111,
              "#46039f"
             ],
             [
              0.2222222222222222,
              "#7201a8"
             ],
             [
              0.3333333333333333,
              "#9c179e"
             ],
             [
              0.4444444444444444,
              "#bd3786"
             ],
             [
              0.5555555555555556,
              "#d8576b"
             ],
             [
              0.6666666666666666,
              "#ed7953"
             ],
             [
              0.7777777777777778,
              "#fb9f3a"
             ],
             [
              0.8888888888888888,
              "#fdca26"
             ],
             [
              1,
              "#f0f921"
             ]
            ],
            "type": "histogram2dcontour"
           }
          ],
          "mesh3d": [
           {
            "colorbar": {
             "outlinewidth": 0,
             "ticks": ""
            },
            "type": "mesh3d"
           }
          ],
          "parcoords": [
           {
            "line": {
             "colorbar": {
              "outlinewidth": 0,
              "ticks": ""
             }
            },
            "type": "parcoords"
           }
          ],
          "pie": [
           {
            "automargin": true,
            "type": "pie"
           }
          ],
          "scatter": [
           {
            "fillpattern": {
             "fillmode": "overlay",
             "size": 10,
             "solidity": 0.2
            },
            "type": "scatter"
           }
          ],
          "scatter3d": [
           {
            "line": {
             "colorbar": {
              "outlinewidth": 0,
              "ticks": ""
             }
            },
            "marker": {
             "colorbar": {
              "outlinewidth": 0,
              "ticks": ""
             }
            },
            "type": "scatter3d"
           }
          ],
          "scattercarpet": [
           {
            "marker": {
             "colorbar": {
              "outlinewidth": 0,
              "ticks": ""
             }
            },
            "type": "scattercarpet"
           }
          ],
          "scattergeo": [
           {
            "marker": {
             "colorbar": {
              "outlinewidth": 0,
              "ticks": ""
             }
            },
            "type": "scattergeo"
           }
          ],
          "scattergl": [
           {
            "marker": {
             "colorbar": {
              "outlinewidth": 0,
              "ticks": ""
             }
            },
            "type": "scattergl"
           }
          ],
          "scattermapbox": [
           {
            "marker": {
             "colorbar": {
              "outlinewidth": 0,
              "ticks": ""
             }
            },
            "type": "scattermapbox"
           }
          ],
          "scatterpolar": [
           {
            "marker": {
             "colorbar": {
              "outlinewidth": 0,
              "ticks": ""
             }
            },
            "type": "scatterpolar"
           }
          ],
          "scatterpolargl": [
           {
            "marker": {
             "colorbar": {
              "outlinewidth": 0,
              "ticks": ""
             }
            },
            "type": "scatterpolargl"
           }
          ],
          "scatterternary": [
           {
            "marker": {
             "colorbar": {
              "outlinewidth": 0,
              "ticks": ""
             }
            },
            "type": "scatterternary"
           }
          ],
          "surface": [
           {
            "colorbar": {
             "outlinewidth": 0,
             "ticks": ""
            },
            "colorscale": [
             [
              0,
              "#0d0887"
             ],
             [
              0.1111111111111111,
              "#46039f"
             ],
             [
              0.2222222222222222,
              "#7201a8"
             ],
             [
              0.3333333333333333,
              "#9c179e"
             ],
             [
              0.4444444444444444,
              "#bd3786"
             ],
             [
              0.5555555555555556,
              "#d8576b"
             ],
             [
              0.6666666666666666,
              "#ed7953"
             ],
             [
              0.7777777777777778,
              "#fb9f3a"
             ],
             [
              0.8888888888888888,
              "#fdca26"
             ],
             [
              1,
              "#f0f921"
             ]
            ],
            "type": "surface"
           }
          ],
          "table": [
           {
            "cells": {
             "fill": {
              "color": "#EBF0F8"
             },
             "line": {
              "color": "white"
             }
            },
            "header": {
             "fill": {
              "color": "#C8D4E3"
             },
             "line": {
              "color": "white"
             }
            },
            "type": "table"
           }
          ]
         },
         "layout": {
          "annotationdefaults": {
           "arrowcolor": "#2a3f5f",
           "arrowhead": 0,
           "arrowwidth": 1
          },
          "autotypenumbers": "strict",
          "coloraxis": {
           "colorbar": {
            "outlinewidth": 0,
            "ticks": ""
           }
          },
          "colorscale": {
           "diverging": [
            [
             0,
             "#8e0152"
            ],
            [
             0.1,
             "#c51b7d"
            ],
            [
             0.2,
             "#de77ae"
            ],
            [
             0.3,
             "#f1b6da"
            ],
            [
             0.4,
             "#fde0ef"
            ],
            [
             0.5,
             "#f7f7f7"
            ],
            [
             0.6,
             "#e6f5d0"
            ],
            [
             0.7,
             "#b8e186"
            ],
            [
             0.8,
             "#7fbc41"
            ],
            [
             0.9,
             "#4d9221"
            ],
            [
             1,
             "#276419"
            ]
           ],
           "sequential": [
            [
             0,
             "#0d0887"
            ],
            [
             0.1111111111111111,
             "#46039f"
            ],
            [
             0.2222222222222222,
             "#7201a8"
            ],
            [
             0.3333333333333333,
             "#9c179e"
            ],
            [
             0.4444444444444444,
             "#bd3786"
            ],
            [
             0.5555555555555556,
             "#d8576b"
            ],
            [
             0.6666666666666666,
             "#ed7953"
            ],
            [
             0.7777777777777778,
             "#fb9f3a"
            ],
            [
             0.8888888888888888,
             "#fdca26"
            ],
            [
             1,
             "#f0f921"
            ]
           ],
           "sequentialminus": [
            [
             0,
             "#0d0887"
            ],
            [
             0.1111111111111111,
             "#46039f"
            ],
            [
             0.2222222222222222,
             "#7201a8"
            ],
            [
             0.3333333333333333,
             "#9c179e"
            ],
            [
             0.4444444444444444,
             "#bd3786"
            ],
            [
             0.5555555555555556,
             "#d8576b"
            ],
            [
             0.6666666666666666,
             "#ed7953"
            ],
            [
             0.7777777777777778,
             "#fb9f3a"
            ],
            [
             0.8888888888888888,
             "#fdca26"
            ],
            [
             1,
             "#f0f921"
            ]
           ]
          },
          "colorway": [
           "#636efa",
           "#EF553B",
           "#00cc96",
           "#ab63fa",
           "#FFA15A",
           "#19d3f3",
           "#FF6692",
           "#B6E880",
           "#FF97FF",
           "#FECB52"
          ],
          "font": {
           "color": "#2a3f5f"
          },
          "geo": {
           "bgcolor": "white",
           "lakecolor": "white",
           "landcolor": "white",
           "showlakes": true,
           "showland": true,
           "subunitcolor": "#C8D4E3"
          },
          "hoverlabel": {
           "align": "left"
          },
          "hovermode": "closest",
          "mapbox": {
           "style": "light"
          },
          "paper_bgcolor": "white",
          "plot_bgcolor": "white",
          "polar": {
           "angularaxis": {
            "gridcolor": "#EBF0F8",
            "linecolor": "#EBF0F8",
            "ticks": ""
           },
           "bgcolor": "white",
           "radialaxis": {
            "gridcolor": "#EBF0F8",
            "linecolor": "#EBF0F8",
            "ticks": ""
           }
          },
          "scene": {
           "xaxis": {
            "backgroundcolor": "white",
            "gridcolor": "#DFE8F3",
            "gridwidth": 2,
            "linecolor": "#EBF0F8",
            "showbackground": true,
            "ticks": "",
            "zerolinecolor": "#EBF0F8"
           },
           "yaxis": {
            "backgroundcolor": "white",
            "gridcolor": "#DFE8F3",
            "gridwidth": 2,
            "linecolor": "#EBF0F8",
            "showbackground": true,
            "ticks": "",
            "zerolinecolor": "#EBF0F8"
           },
           "zaxis": {
            "backgroundcolor": "white",
            "gridcolor": "#DFE8F3",
            "gridwidth": 2,
            "linecolor": "#EBF0F8",
            "showbackground": true,
            "ticks": "",
            "zerolinecolor": "#EBF0F8"
           }
          },
          "shapedefaults": {
           "line": {
            "color": "#2a3f5f"
           }
          },
          "ternary": {
           "aaxis": {
            "gridcolor": "#DFE8F3",
            "linecolor": "#A2B1C6",
            "ticks": ""
           },
           "baxis": {
            "gridcolor": "#DFE8F3",
            "linecolor": "#A2B1C6",
            "ticks": ""
           },
           "bgcolor": "white",
           "caxis": {
            "gridcolor": "#DFE8F3",
            "linecolor": "#A2B1C6",
            "ticks": ""
           }
          },
          "title": {
           "x": 0.05
          },
          "xaxis": {
           "automargin": true,
           "gridcolor": "#EBF0F8",
           "linecolor": "#EBF0F8",
           "ticks": "",
           "title": {
            "standoff": 15
           },
           "zerolinecolor": "#EBF0F8",
           "zerolinewidth": 2
          },
          "yaxis": {
           "automargin": true,
           "gridcolor": "#EBF0F8",
           "linecolor": "#EBF0F8",
           "ticks": "",
           "title": {
            "standoff": 15
           },
           "zerolinecolor": "#EBF0F8",
           "zerolinewidth": 2
          }
         }
        },
        "title": {
         "font": {
          "color": "Black",
          "size": 22
         },
         "text": "<b>Hierarchical Clustering",
         "x": 0.5,
         "xanchor": "center",
         "yanchor": "top"
        },
        "width": 1000,
        "xaxis": {
         "mirror": "allticks",
         "rangemode": "tozero",
         "showgrid": false,
         "showline": true,
         "showticklabels": true,
         "ticks": "outside",
         "type": "linear",
         "zeroline": false
        },
        "yaxis": {
         "mirror": "allticks",
         "range": [
          -150,
          0
         ],
         "rangemode": "tozero",
         "showgrid": false,
         "showline": true,
         "showticklabels": true,
         "tickmode": "array",
         "ticks": "outside",
         "ticktext": [
          "0_seed_plant_flower",
          "9_botany_botanist_gardeners...",
          "7_insect_entomology_wasp",
          "11_fossil_fossils_crag",
          "1_museum_ipswich_london",
          "6_cambridge_feb_april",
          "14_hooker_dr_sinclair",
          "2_copley_banke_plumper",
          "5_johns_john_audubon",
          "3_pencil_copy_book",
          "10_lecture_course_class",
          "13_election_vote_voter",
          "12_health_illness_death",
          "4_sentiment_opinion_attention",
          "8_comment_certainty_reason"
         ],
         "tickvals": [
          -5,
          -15,
          -25,
          -35,
          -45,
          -55,
          -65,
          -75,
          -85,
          -95,
          -105,
          -115,
          -125,
          -135,
          -145
         ],
         "type": "linear",
         "zeroline": false
        }
       }
      },
      "text/html": [
       "<div>                            <div id=\"30635f7e-69b4-454b-b74f-0324adc4c046\" class=\"plotly-graph-div\" style=\"height:425px; width:1000px;\"></div>            <script type=\"text/javascript\">                require([\"plotly\"], function(Plotly) {                    window.PLOTLYENV=window.PLOTLYENV || {};                                    if (document.getElementById(\"30635f7e-69b4-454b-b74f-0324adc4c046\")) {                    Plotly.newPlot(                        \"30635f7e-69b4-454b-b74f-0324adc4c046\",                        [{\"hoverinfo\":\"text\",\"marker\":{\"color\":\"rgb(61,153,112)\"},\"mode\":\"lines\",\"x\":[0.0,0.4306052470487006,0.4306052470487006,0.0],\"xaxis\":\"x\",\"y\":[-5.0,-5.0,-15.0,-15.0],\"yaxis\":\"y\",\"type\":\"scatter\"},{\"hoverinfo\":\"text\",\"marker\":{\"color\":\"rgb(61,153,112)\"},\"mode\":\"lines\",\"x\":[0.0,0.6598879680655831,0.6598879680655831,0.0],\"xaxis\":\"x\",\"y\":[-25.0,-25.0,-35.0,-35.0],\"yaxis\":\"y\",\"type\":\"scatter\"},{\"hoverinfo\":\"text\",\"marker\":{\"color\":\"rgb(61,153,112)\"},\"mode\":\"lines\",\"x\":[0.4306052470487006,0.8265343813263599,0.8265343813263599,0.6598879680655831],\"xaxis\":\"x\",\"y\":[-10.0,-10.0,-30.0,-30.0],\"yaxis\":\"y\",\"type\":\"scatter\"},{\"hoverinfo\":\"text\",\"marker\":{\"color\":\"rgb(255,65,54)\"},\"mode\":\"lines\",\"x\":[0.0,0.6230288211919253,0.6230288211919253,0.0],\"xaxis\":\"x\",\"y\":[-45.0,-45.0,-55.0,-55.0],\"yaxis\":\"y\",\"type\":\"scatter\"},{\"hoverinfo\":\"text\",\"marker\":{\"color\":\"rgb(35,205,205)\"},\"mode\":\"lines\",\"x\":[0.0,0.49071248080421104,0.49071248080421104,0.0],\"xaxis\":\"x\",\"y\":[-75.0,-75.0,-85.0,-85.0],\"yaxis\":\"y\",\"type\":\"scatter\"},{\"hoverinfo\":\"text\",\"marker\":{\"color\":\"rgb(35,205,205)\"},\"mode\":\"lines\",\"x\":[0.0,0.5527663611911473,0.5527663611911473,0.49071248080421104],\"xaxis\":\"x\",\"y\":[-65.0,-65.0,-80.0,-80.0],\"yaxis\":\"y\",\"type\":\"scatter\"},{\"hoverinfo\":\"text\",\"marker\":{\"color\":\"rgb(133,20,75)\"},\"mode\":\"lines\",\"x\":[0.0,0.6849028123698438,0.6849028123698438,0.0],\"xaxis\":\"x\",\"y\":[-95.0,-95.0,-105.0,-105.0],\"yaxis\":\"y\",\"type\":\"scatter\"},{\"hoverinfo\":\"text\",\"marker\":{\"color\":\"rgb(133,20,75)\"},\"mode\":\"lines\",\"x\":[0.0,0.3488793232604889,0.3488793232604889,0.0],\"xaxis\":\"x\",\"y\":[-135.0,-135.0,-145.0,-145.0],\"yaxis\":\"y\",\"type\":\"scatter\"},{\"hoverinfo\":\"text\",\"marker\":{\"color\":\"rgb(133,20,75)\"},\"mode\":\"lines\",\"x\":[0.0,0.6375037652378578,0.6375037652378578,0.3488793232604889],\"xaxis\":\"x\",\"y\":[-125.0,-125.0,-140.0,-140.0],\"yaxis\":\"y\",\"type\":\"scatter\"},{\"hoverinfo\":\"text\",\"marker\":{\"color\":\"rgb(133,20,75)\"},\"mode\":\"lines\",\"x\":[0.0,0.741967512697101,0.741967512697101,0.6375037652378578],\"xaxis\":\"x\",\"y\":[-115.0,-115.0,-132.5,-132.5],\"yaxis\":\"y\",\"type\":\"scatter\"},{\"hoverinfo\":\"text\",\"marker\":{\"color\":\"rgb(133,20,75)\"},\"mode\":\"lines\",\"x\":[0.6849028123698438,0.8387329291466955,0.8387329291466955,0.741967512697101],\"xaxis\":\"x\",\"y\":[-100.0,-100.0,-123.75,-123.75],\"yaxis\":\"y\",\"type\":\"scatter\"},{\"hoverinfo\":\"text\",\"marker\":{\"color\":\"rgb(0,116,217)\"},\"mode\":\"lines\",\"x\":[0.5527663611911473,1.05520256425633,1.05520256425633,0.8387329291466955],\"xaxis\":\"x\",\"y\":[-72.5,-72.5,-111.875,-111.875],\"yaxis\":\"y\",\"type\":\"scatter\"},{\"hoverinfo\":\"text\",\"marker\":{\"color\":\"rgb(0,116,217)\"},\"mode\":\"lines\",\"x\":[0.6230288211919253,1.2190634885828437,1.2190634885828437,1.05520256425633],\"xaxis\":\"x\",\"y\":[-50.0,-50.0,-92.1875,-92.1875],\"yaxis\":\"y\",\"type\":\"scatter\"},{\"hoverinfo\":\"text\",\"marker\":{\"color\":\"rgb(0,116,217)\"},\"mode\":\"lines\",\"x\":[0.8265343813263599,1.714124329865583,1.714124329865583,1.2190634885828437],\"xaxis\":\"x\",\"y\":[-20.0,-20.0,-71.09375,-71.09375],\"yaxis\":\"y\",\"type\":\"scatter\"}],                        {\"autosize\":false,\"height\":425,\"hovermode\":\"closest\",\"showlegend\":false,\"width\":1000,\"xaxis\":{\"mirror\":\"allticks\",\"rangemode\":\"tozero\",\"showgrid\":false,\"showline\":true,\"showticklabels\":true,\"ticks\":\"outside\",\"type\":\"linear\",\"zeroline\":false},\"yaxis\":{\"mirror\":\"allticks\",\"rangemode\":\"tozero\",\"showgrid\":false,\"showline\":true,\"showticklabels\":true,\"tickmode\":\"array\",\"ticks\":\"outside\",\"ticktext\":[\"0_seed_plant_flower\",\"9_botany_botanist_gardeners...\",\"7_insect_entomology_wasp\",\"11_fossil_fossils_crag\",\"1_museum_ipswich_london\",\"6_cambridge_feb_april\",\"14_hooker_dr_sinclair\",\"2_copley_banke_plumper\",\"5_johns_john_audubon\",\"3_pencil_copy_book\",\"10_lecture_course_class\",\"13_election_vote_voter\",\"12_health_illness_death\",\"4_sentiment_opinion_attention\",\"8_comment_certainty_reason\"],\"tickvals\":[-5.0,-15.0,-25.0,-35.0,-45.0,-55.0,-65.0,-75.0,-85.0,-95.0,-105.0,-115.0,-125.0,-135.0,-145.0],\"type\":\"linear\",\"zeroline\":false,\"range\":[-150.0,0.0]},\"template\":{\"data\":{\"barpolar\":[{\"marker\":{\"line\":{\"color\":\"white\",\"width\":0.5},\"pattern\":{\"fillmode\":\"overlay\",\"size\":10,\"solidity\":0.2}},\"type\":\"barpolar\"}],\"bar\":[{\"error_x\":{\"color\":\"#2a3f5f\"},\"error_y\":{\"color\":\"#2a3f5f\"},\"marker\":{\"line\":{\"color\":\"white\",\"width\":0.5},\"pattern\":{\"fillmode\":\"overlay\",\"size\":10,\"solidity\":0.2}},\"type\":\"bar\"}],\"carpet\":[{\"aaxis\":{\"endlinecolor\":\"#2a3f5f\",\"gridcolor\":\"#C8D4E3\",\"linecolor\":\"#C8D4E3\",\"minorgridcolor\":\"#C8D4E3\",\"startlinecolor\":\"#2a3f5f\"},\"baxis\":{\"endlinecolor\":\"#2a3f5f\",\"gridcolor\":\"#C8D4E3\",\"linecolor\":\"#C8D4E3\",\"minorgridcolor\":\"#C8D4E3\",\"startlinecolor\":\"#2a3f5f\"},\"type\":\"carpet\"}],\"choropleth\":[{\"colorbar\":{\"outlinewidth\":0,\"ticks\":\"\"},\"type\":\"choropleth\"}],\"contourcarpet\":[{\"colorbar\":{\"outlinewidth\":0,\"ticks\":\"\"},\"type\":\"contourcarpet\"}],\"contour\":[{\"colorbar\":{\"outlinewidth\":0,\"ticks\":\"\"},\"colorscale\":[[0.0,\"#0d0887\"],[0.1111111111111111,\"#46039f\"],[0.2222222222222222,\"#7201a8\"],[0.3333333333333333,\"#9c179e\"],[0.4444444444444444,\"#bd3786\"],[0.5555555555555556,\"#d8576b\"],[0.6666666666666666,\"#ed7953\"],[0.7777777777777778,\"#fb9f3a\"],[0.8888888888888888,\"#fdca26\"],[1.0,\"#f0f921\"]],\"type\":\"contour\"}],\"heatmapgl\":[{\"colorbar\":{\"outlinewidth\":0,\"ticks\":\"\"},\"colorscale\":[[0.0,\"#0d0887\"],[0.1111111111111111,\"#46039f\"],[0.2222222222222222,\"#7201a8\"],[0.3333333333333333,\"#9c179e\"],[0.4444444444444444,\"#bd3786\"],[0.5555555555555556,\"#d8576b\"],[0.6666666666666666,\"#ed7953\"],[0.7777777777777778,\"#fb9f3a\"],[0.8888888888888888,\"#fdca26\"],[1.0,\"#f0f921\"]],\"type\":\"heatmapgl\"}],\"heatmap\":[{\"colorbar\":{\"outlinewidth\":0,\"ticks\":\"\"},\"colorscale\":[[0.0,\"#0d0887\"],[0.1111111111111111,\"#46039f\"],[0.2222222222222222,\"#7201a8\"],[0.3333333333333333,\"#9c179e\"],[0.4444444444444444,\"#bd3786\"],[0.5555555555555556,\"#d8576b\"],[0.6666666666666666,\"#ed7953\"],[0.7777777777777778,\"#fb9f3a\"],[0.8888888888888888,\"#fdca26\"],[1.0,\"#f0f921\"]],\"type\":\"heatmap\"}],\"histogram2dcontour\":[{\"colorbar\":{\"outlinewidth\":0,\"ticks\":\"\"},\"colorscale\":[[0.0,\"#0d0887\"],[0.1111111111111111,\"#46039f\"],[0.2222222222222222,\"#7201a8\"],[0.3333333333333333,\"#9c179e\"],[0.4444444444444444,\"#bd3786\"],[0.5555555555555556,\"#d8576b\"],[0.6666666666666666,\"#ed7953\"],[0.7777777777777778,\"#fb9f3a\"],[0.8888888888888888,\"#fdca26\"],[1.0,\"#f0f921\"]],\"type\":\"histogram2dcontour\"}],\"histogram2d\":[{\"colorbar\":{\"outlinewidth\":0,\"ticks\":\"\"},\"colorscale\":[[0.0,\"#0d0887\"],[0.1111111111111111,\"#46039f\"],[0.2222222222222222,\"#7201a8\"],[0.3333333333333333,\"#9c179e\"],[0.4444444444444444,\"#bd3786\"],[0.5555555555555556,\"#d8576b\"],[0.6666666666666666,\"#ed7953\"],[0.7777777777777778,\"#fb9f3a\"],[0.8888888888888888,\"#fdca26\"],[1.0,\"#f0f921\"]],\"type\":\"histogram2d\"}],\"histogram\":[{\"marker\":{\"pattern\":{\"fillmode\":\"overlay\",\"size\":10,\"solidity\":0.2}},\"type\":\"histogram\"}],\"mesh3d\":[{\"colorbar\":{\"outlinewidth\":0,\"ticks\":\"\"},\"type\":\"mesh3d\"}],\"parcoords\":[{\"line\":{\"colorbar\":{\"outlinewidth\":0,\"ticks\":\"\"}},\"type\":\"parcoords\"}],\"pie\":[{\"automargin\":true,\"type\":\"pie\"}],\"scatter3d\":[{\"line\":{\"colorbar\":{\"outlinewidth\":0,\"ticks\":\"\"}},\"marker\":{\"colorbar\":{\"outlinewidth\":0,\"ticks\":\"\"}},\"type\":\"scatter3d\"}],\"scattercarpet\":[{\"marker\":{\"colorbar\":{\"outlinewidth\":0,\"ticks\":\"\"}},\"type\":\"scattercarpet\"}],\"scattergeo\":[{\"marker\":{\"colorbar\":{\"outlinewidth\":0,\"ticks\":\"\"}},\"type\":\"scattergeo\"}],\"scattergl\":[{\"marker\":{\"colorbar\":{\"outlinewidth\":0,\"ticks\":\"\"}},\"type\":\"scattergl\"}],\"scattermapbox\":[{\"marker\":{\"colorbar\":{\"outlinewidth\":0,\"ticks\":\"\"}},\"type\":\"scattermapbox\"}],\"scatterpolargl\":[{\"marker\":{\"colorbar\":{\"outlinewidth\":0,\"ticks\":\"\"}},\"type\":\"scatterpolargl\"}],\"scatterpolar\":[{\"marker\":{\"colorbar\":{\"outlinewidth\":0,\"ticks\":\"\"}},\"type\":\"scatterpolar\"}],\"scatter\":[{\"fillpattern\":{\"fillmode\":\"overlay\",\"size\":10,\"solidity\":0.2},\"type\":\"scatter\"}],\"scatterternary\":[{\"marker\":{\"colorbar\":{\"outlinewidth\":0,\"ticks\":\"\"}},\"type\":\"scatterternary\"}],\"surface\":[{\"colorbar\":{\"outlinewidth\":0,\"ticks\":\"\"},\"colorscale\":[[0.0,\"#0d0887\"],[0.1111111111111111,\"#46039f\"],[0.2222222222222222,\"#7201a8\"],[0.3333333333333333,\"#9c179e\"],[0.4444444444444444,\"#bd3786\"],[0.5555555555555556,\"#d8576b\"],[0.6666666666666666,\"#ed7953\"],[0.7777777777777778,\"#fb9f3a\"],[0.8888888888888888,\"#fdca26\"],[1.0,\"#f0f921\"]],\"type\":\"surface\"}],\"table\":[{\"cells\":{\"fill\":{\"color\":\"#EBF0F8\"},\"line\":{\"color\":\"white\"}},\"header\":{\"fill\":{\"color\":\"#C8D4E3\"},\"line\":{\"color\":\"white\"}},\"type\":\"table\"}]},\"layout\":{\"annotationdefaults\":{\"arrowcolor\":\"#2a3f5f\",\"arrowhead\":0,\"arrowwidth\":1},\"autotypenumbers\":\"strict\",\"coloraxis\":{\"colorbar\":{\"outlinewidth\":0,\"ticks\":\"\"}},\"colorscale\":{\"diverging\":[[0,\"#8e0152\"],[0.1,\"#c51b7d\"],[0.2,\"#de77ae\"],[0.3,\"#f1b6da\"],[0.4,\"#fde0ef\"],[0.5,\"#f7f7f7\"],[0.6,\"#e6f5d0\"],[0.7,\"#b8e186\"],[0.8,\"#7fbc41\"],[0.9,\"#4d9221\"],[1,\"#276419\"]],\"sequential\":[[0.0,\"#0d0887\"],[0.1111111111111111,\"#46039f\"],[0.2222222222222222,\"#7201a8\"],[0.3333333333333333,\"#9c179e\"],[0.4444444444444444,\"#bd3786\"],[0.5555555555555556,\"#d8576b\"],[0.6666666666666666,\"#ed7953\"],[0.7777777777777778,\"#fb9f3a\"],[0.8888888888888888,\"#fdca26\"],[1.0,\"#f0f921\"]],\"sequentialminus\":[[0.0,\"#0d0887\"],[0.1111111111111111,\"#46039f\"],[0.2222222222222222,\"#7201a8\"],[0.3333333333333333,\"#9c179e\"],[0.4444444444444444,\"#bd3786\"],[0.5555555555555556,\"#d8576b\"],[0.6666666666666666,\"#ed7953\"],[0.7777777777777778,\"#fb9f3a\"],[0.8888888888888888,\"#fdca26\"],[1.0,\"#f0f921\"]]},\"colorway\":[\"#636efa\",\"#EF553B\",\"#00cc96\",\"#ab63fa\",\"#FFA15A\",\"#19d3f3\",\"#FF6692\",\"#B6E880\",\"#FF97FF\",\"#FECB52\"],\"font\":{\"color\":\"#2a3f5f\"},\"geo\":{\"bgcolor\":\"white\",\"lakecolor\":\"white\",\"landcolor\":\"white\",\"showlakes\":true,\"showland\":true,\"subunitcolor\":\"#C8D4E3\"},\"hoverlabel\":{\"align\":\"left\"},\"hovermode\":\"closest\",\"mapbox\":{\"style\":\"light\"},\"paper_bgcolor\":\"white\",\"plot_bgcolor\":\"white\",\"polar\":{\"angularaxis\":{\"gridcolor\":\"#EBF0F8\",\"linecolor\":\"#EBF0F8\",\"ticks\":\"\"},\"bgcolor\":\"white\",\"radialaxis\":{\"gridcolor\":\"#EBF0F8\",\"linecolor\":\"#EBF0F8\",\"ticks\":\"\"}},\"scene\":{\"xaxis\":{\"backgroundcolor\":\"white\",\"gridcolor\":\"#DFE8F3\",\"gridwidth\":2,\"linecolor\":\"#EBF0F8\",\"showbackground\":true,\"ticks\":\"\",\"zerolinecolor\":\"#EBF0F8\"},\"yaxis\":{\"backgroundcolor\":\"white\",\"gridcolor\":\"#DFE8F3\",\"gridwidth\":2,\"linecolor\":\"#EBF0F8\",\"showbackground\":true,\"ticks\":\"\",\"zerolinecolor\":\"#EBF0F8\"},\"zaxis\":{\"backgroundcolor\":\"white\",\"gridcolor\":\"#DFE8F3\",\"gridwidth\":2,\"linecolor\":\"#EBF0F8\",\"showbackground\":true,\"ticks\":\"\",\"zerolinecolor\":\"#EBF0F8\"}},\"shapedefaults\":{\"line\":{\"color\":\"#2a3f5f\"}},\"ternary\":{\"aaxis\":{\"gridcolor\":\"#DFE8F3\",\"linecolor\":\"#A2B1C6\",\"ticks\":\"\"},\"baxis\":{\"gridcolor\":\"#DFE8F3\",\"linecolor\":\"#A2B1C6\",\"ticks\":\"\"},\"bgcolor\":\"white\",\"caxis\":{\"gridcolor\":\"#DFE8F3\",\"linecolor\":\"#A2B1C6\",\"ticks\":\"\"}},\"title\":{\"x\":0.05},\"xaxis\":{\"automargin\":true,\"gridcolor\":\"#EBF0F8\",\"linecolor\":\"#EBF0F8\",\"ticks\":\"\",\"title\":{\"standoff\":15},\"zerolinecolor\":\"#EBF0F8\",\"zerolinewidth\":2},\"yaxis\":{\"automargin\":true,\"gridcolor\":\"#EBF0F8\",\"linecolor\":\"#EBF0F8\",\"ticks\":\"\",\"title\":{\"standoff\":15},\"zerolinecolor\":\"#EBF0F8\",\"zerolinewidth\":2}}},\"title\":{\"font\":{\"size\":22,\"color\":\"Black\"},\"text\":\"<b>Hierarchical Clustering\",\"x\":0.5,\"xanchor\":\"center\",\"yanchor\":\"top\"},\"hoverlabel\":{\"font\":{\"size\":16,\"family\":\"Rockwell\"},\"bgcolor\":\"white\"},\"plot_bgcolor\":\"#ECEFF1\"},                        {\"responsive\": true}                    ).then(function(){\n",
       "                            \n",
       "var gd = document.getElementById('30635f7e-69b4-454b-b74f-0324adc4c046');\n",
       "var x = new MutationObserver(function (mutations, observer) {{\n",
       "        var display = window.getComputedStyle(gd).display;\n",
       "        if (!display || display === 'none') {{\n",
       "            console.log([gd, 'removed!']);\n",
       "            Plotly.purge(gd);\n",
       "            observer.disconnect();\n",
       "        }}\n",
       "}});\n",
       "\n",
       "// Listen for the removal of the full notebook cells\n",
       "var notebookContainer = gd.closest('#notebook-container');\n",
       "if (notebookContainer) {{\n",
       "    x.observe(notebookContainer, {childList: true});\n",
       "}}\n",
       "\n",
       "// Listen for the clearing of the current output cell\n",
       "var outputEl = gd.closest('.output');\n",
       "if (outputEl) {{\n",
       "    x.observe(outputEl, {childList: true});\n",
       "}}\n",
       "\n",
       "                        })                };                });            </script>        </div>"
      ]
     },
     "metadata": {},
     "output_type": "display_data"
    }
   ],
   "source": [
    "all_tree_vis = bertopic_tree(sent_df, topic_model)\n",
    "all_tree_vis"
   ]
  },
  {
   "cell_type": "markdown",
   "id": "89a4d8ea",
   "metadata": {},
   "source": [
    "Use year_counts and year_counts_plot functions to get a count of letters in each year and visualise."
   ]
  },
  {
   "cell_type": "code",
   "execution_count": 21,
   "id": "c5270cd8",
   "metadata": {
    "scrolled": true
   },
   "outputs": [
    {
     "data": {
      "application/vnd.plotly.v1+json": {
       "config": {
        "plotlyServerURL": "https://plot.ly"
       },
       "data": [
        {
         "alignmentgroup": "True",
         "hovertemplate": "variable=0<br>Year=%{x}<br>Count=%{y}<extra></extra>",
         "legendgroup": "0",
         "marker": {
          "color": "#636efa",
          "pattern": {
           "shape": ""
          }
         },
         "name": "0",
         "offsetgroup": "0",
         "orientation": "v",
         "showlegend": true,
         "textposition": "auto",
         "type": "bar",
         "x": [
          1818,
          1819,
          1820,
          1821,
          1822,
          1823,
          1824,
          1825,
          1826,
          1827,
          1828,
          1829,
          1830,
          1831,
          1832,
          1833,
          1834,
          1835,
          1836,
          1837,
          1838,
          1839,
          1840,
          1841,
          1842,
          1843,
          1844,
          1845,
          1846,
          1847,
          1848,
          1849,
          1850,
          1851,
          1852,
          1853,
          1854,
          1855,
          1856,
          1857,
          1858,
          1859,
          1860,
          1861
         ],
         "xaxis": "x",
         "y": [
          1,
          1,
          4,
          5,
          3,
          8,
          7,
          24,
          198,
          21,
          24,
          24,
          34,
          61,
          15,
          20,
          14,
          6,
          11,
          10,
          5,
          14,
          25,
          6,
          14,
          12,
          15,
          22,
          15,
          16,
          22,
          29,
          31,
          21,
          32,
          33,
          29,
          54,
          85,
          40,
          35,
          39,
          53,
          4
         ],
         "yaxis": "y"
        }
       ],
       "layout": {
        "barmode": "relative",
        "legend": {
         "title": {
          "text": "variable"
         },
         "tracegroupgap": 0
        },
        "showlegend": false,
        "template": {
         "data": {
          "bar": [
           {
            "error_x": {
             "color": "#2a3f5f"
            },
            "error_y": {
             "color": "#2a3f5f"
            },
            "marker": {
             "line": {
              "color": "#E5ECF6",
              "width": 0.5
             },
             "pattern": {
              "fillmode": "overlay",
              "size": 10,
              "solidity": 0.2
             }
            },
            "type": "bar"
           }
          ],
          "barpolar": [
           {
            "marker": {
             "line": {
              "color": "#E5ECF6",
              "width": 0.5
             },
             "pattern": {
              "fillmode": "overlay",
              "size": 10,
              "solidity": 0.2
             }
            },
            "type": "barpolar"
           }
          ],
          "carpet": [
           {
            "aaxis": {
             "endlinecolor": "#2a3f5f",
             "gridcolor": "white",
             "linecolor": "white",
             "minorgridcolor": "white",
             "startlinecolor": "#2a3f5f"
            },
            "baxis": {
             "endlinecolor": "#2a3f5f",
             "gridcolor": "white",
             "linecolor": "white",
             "minorgridcolor": "white",
             "startlinecolor": "#2a3f5f"
            },
            "type": "carpet"
           }
          ],
          "choropleth": [
           {
            "colorbar": {
             "outlinewidth": 0,
             "ticks": ""
            },
            "type": "choropleth"
           }
          ],
          "contour": [
           {
            "colorbar": {
             "outlinewidth": 0,
             "ticks": ""
            },
            "colorscale": [
             [
              0,
              "#0d0887"
             ],
             [
              0.1111111111111111,
              "#46039f"
             ],
             [
              0.2222222222222222,
              "#7201a8"
             ],
             [
              0.3333333333333333,
              "#9c179e"
             ],
             [
              0.4444444444444444,
              "#bd3786"
             ],
             [
              0.5555555555555556,
              "#d8576b"
             ],
             [
              0.6666666666666666,
              "#ed7953"
             ],
             [
              0.7777777777777778,
              "#fb9f3a"
             ],
             [
              0.8888888888888888,
              "#fdca26"
             ],
             [
              1,
              "#f0f921"
             ]
            ],
            "type": "contour"
           }
          ],
          "contourcarpet": [
           {
            "colorbar": {
             "outlinewidth": 0,
             "ticks": ""
            },
            "type": "contourcarpet"
           }
          ],
          "heatmap": [
           {
            "colorbar": {
             "outlinewidth": 0,
             "ticks": ""
            },
            "colorscale": [
             [
              0,
              "#0d0887"
             ],
             [
              0.1111111111111111,
              "#46039f"
             ],
             [
              0.2222222222222222,
              "#7201a8"
             ],
             [
              0.3333333333333333,
              "#9c179e"
             ],
             [
              0.4444444444444444,
              "#bd3786"
             ],
             [
              0.5555555555555556,
              "#d8576b"
             ],
             [
              0.6666666666666666,
              "#ed7953"
             ],
             [
              0.7777777777777778,
              "#fb9f3a"
             ],
             [
              0.8888888888888888,
              "#fdca26"
             ],
             [
              1,
              "#f0f921"
             ]
            ],
            "type": "heatmap"
           }
          ],
          "heatmapgl": [
           {
            "colorbar": {
             "outlinewidth": 0,
             "ticks": ""
            },
            "colorscale": [
             [
              0,
              "#0d0887"
             ],
             [
              0.1111111111111111,
              "#46039f"
             ],
             [
              0.2222222222222222,
              "#7201a8"
             ],
             [
              0.3333333333333333,
              "#9c179e"
             ],
             [
              0.4444444444444444,
              "#bd3786"
             ],
             [
              0.5555555555555556,
              "#d8576b"
             ],
             [
              0.6666666666666666,
              "#ed7953"
             ],
             [
              0.7777777777777778,
              "#fb9f3a"
             ],
             [
              0.8888888888888888,
              "#fdca26"
             ],
             [
              1,
              "#f0f921"
             ]
            ],
            "type": "heatmapgl"
           }
          ],
          "histogram": [
           {
            "marker": {
             "pattern": {
              "fillmode": "overlay",
              "size": 10,
              "solidity": 0.2
             }
            },
            "type": "histogram"
           }
          ],
          "histogram2d": [
           {
            "colorbar": {
             "outlinewidth": 0,
             "ticks": ""
            },
            "colorscale": [
             [
              0,
              "#0d0887"
             ],
             [
              0.1111111111111111,
              "#46039f"
             ],
             [
              0.2222222222222222,
              "#7201a8"
             ],
             [
              0.3333333333333333,
              "#9c179e"
             ],
             [
              0.4444444444444444,
              "#bd3786"
             ],
             [
              0.5555555555555556,
              "#d8576b"
             ],
             [
              0.6666666666666666,
              "#ed7953"
             ],
             [
              0.7777777777777778,
              "#fb9f3a"
             ],
             [
              0.8888888888888888,
              "#fdca26"
             ],
             [
              1,
              "#f0f921"
             ]
            ],
            "type": "histogram2d"
           }
          ],
          "histogram2dcontour": [
           {
            "colorbar": {
             "outlinewidth": 0,
             "ticks": ""
            },
            "colorscale": [
             [
              0,
              "#0d0887"
             ],
             [
              0.1111111111111111,
              "#46039f"
             ],
             [
              0.2222222222222222,
              "#7201a8"
             ],
             [
              0.3333333333333333,
              "#9c179e"
             ],
             [
              0.4444444444444444,
              "#bd3786"
             ],
             [
              0.5555555555555556,
              "#d8576b"
             ],
             [
              0.6666666666666666,
              "#ed7953"
             ],
             [
              0.7777777777777778,
              "#fb9f3a"
             ],
             [
              0.8888888888888888,
              "#fdca26"
             ],
             [
              1,
              "#f0f921"
             ]
            ],
            "type": "histogram2dcontour"
           }
          ],
          "mesh3d": [
           {
            "colorbar": {
             "outlinewidth": 0,
             "ticks": ""
            },
            "type": "mesh3d"
           }
          ],
          "parcoords": [
           {
            "line": {
             "colorbar": {
              "outlinewidth": 0,
              "ticks": ""
             }
            },
            "type": "parcoords"
           }
          ],
          "pie": [
           {
            "automargin": true,
            "type": "pie"
           }
          ],
          "scatter": [
           {
            "fillpattern": {
             "fillmode": "overlay",
             "size": 10,
             "solidity": 0.2
            },
            "type": "scatter"
           }
          ],
          "scatter3d": [
           {
            "line": {
             "colorbar": {
              "outlinewidth": 0,
              "ticks": ""
             }
            },
            "marker": {
             "colorbar": {
              "outlinewidth": 0,
              "ticks": ""
             }
            },
            "type": "scatter3d"
           }
          ],
          "scattercarpet": [
           {
            "marker": {
             "colorbar": {
              "outlinewidth": 0,
              "ticks": ""
             }
            },
            "type": "scattercarpet"
           }
          ],
          "scattergeo": [
           {
            "marker": {
             "colorbar": {
              "outlinewidth": 0,
              "ticks": ""
             }
            },
            "type": "scattergeo"
           }
          ],
          "scattergl": [
           {
            "marker": {
             "colorbar": {
              "outlinewidth": 0,
              "ticks": ""
             }
            },
            "type": "scattergl"
           }
          ],
          "scattermapbox": [
           {
            "marker": {
             "colorbar": {
              "outlinewidth": 0,
              "ticks": ""
             }
            },
            "type": "scattermapbox"
           }
          ],
          "scatterpolar": [
           {
            "marker": {
             "colorbar": {
              "outlinewidth": 0,
              "ticks": ""
             }
            },
            "type": "scatterpolar"
           }
          ],
          "scatterpolargl": [
           {
            "marker": {
             "colorbar": {
              "outlinewidth": 0,
              "ticks": ""
             }
            },
            "type": "scatterpolargl"
           }
          ],
          "scatterternary": [
           {
            "marker": {
             "colorbar": {
              "outlinewidth": 0,
              "ticks": ""
             }
            },
            "type": "scatterternary"
           }
          ],
          "surface": [
           {
            "colorbar": {
             "outlinewidth": 0,
             "ticks": ""
            },
            "colorscale": [
             [
              0,
              "#0d0887"
             ],
             [
              0.1111111111111111,
              "#46039f"
             ],
             [
              0.2222222222222222,
              "#7201a8"
             ],
             [
              0.3333333333333333,
              "#9c179e"
             ],
             [
              0.4444444444444444,
              "#bd3786"
             ],
             [
              0.5555555555555556,
              "#d8576b"
             ],
             [
              0.6666666666666666,
              "#ed7953"
             ],
             [
              0.7777777777777778,
              "#fb9f3a"
             ],
             [
              0.8888888888888888,
              "#fdca26"
             ],
             [
              1,
              "#f0f921"
             ]
            ],
            "type": "surface"
           }
          ],
          "table": [
           {
            "cells": {
             "fill": {
              "color": "#EBF0F8"
             },
             "line": {
              "color": "white"
             }
            },
            "header": {
             "fill": {
              "color": "#C8D4E3"
             },
             "line": {
              "color": "white"
             }
            },
            "type": "table"
           }
          ]
         },
         "layout": {
          "annotationdefaults": {
           "arrowcolor": "#2a3f5f",
           "arrowhead": 0,
           "arrowwidth": 1
          },
          "autotypenumbers": "strict",
          "coloraxis": {
           "colorbar": {
            "outlinewidth": 0,
            "ticks": ""
           }
          },
          "colorscale": {
           "diverging": [
            [
             0,
             "#8e0152"
            ],
            [
             0.1,
             "#c51b7d"
            ],
            [
             0.2,
             "#de77ae"
            ],
            [
             0.3,
             "#f1b6da"
            ],
            [
             0.4,
             "#fde0ef"
            ],
            [
             0.5,
             "#f7f7f7"
            ],
            [
             0.6,
             "#e6f5d0"
            ],
            [
             0.7,
             "#b8e186"
            ],
            [
             0.8,
             "#7fbc41"
            ],
            [
             0.9,
             "#4d9221"
            ],
            [
             1,
             "#276419"
            ]
           ],
           "sequential": [
            [
             0,
             "#0d0887"
            ],
            [
             0.1111111111111111,
             "#46039f"
            ],
            [
             0.2222222222222222,
             "#7201a8"
            ],
            [
             0.3333333333333333,
             "#9c179e"
            ],
            [
             0.4444444444444444,
             "#bd3786"
            ],
            [
             0.5555555555555556,
             "#d8576b"
            ],
            [
             0.6666666666666666,
             "#ed7953"
            ],
            [
             0.7777777777777778,
             "#fb9f3a"
            ],
            [
             0.8888888888888888,
             "#fdca26"
            ],
            [
             1,
             "#f0f921"
            ]
           ],
           "sequentialminus": [
            [
             0,
             "#0d0887"
            ],
            [
             0.1111111111111111,
             "#46039f"
            ],
            [
             0.2222222222222222,
             "#7201a8"
            ],
            [
             0.3333333333333333,
             "#9c179e"
            ],
            [
             0.4444444444444444,
             "#bd3786"
            ],
            [
             0.5555555555555556,
             "#d8576b"
            ],
            [
             0.6666666666666666,
             "#ed7953"
            ],
            [
             0.7777777777777778,
             "#fb9f3a"
            ],
            [
             0.8888888888888888,
             "#fdca26"
            ],
            [
             1,
             "#f0f921"
            ]
           ]
          },
          "colorway": [
           "#636efa",
           "#EF553B",
           "#00cc96",
           "#ab63fa",
           "#FFA15A",
           "#19d3f3",
           "#FF6692",
           "#B6E880",
           "#FF97FF",
           "#FECB52"
          ],
          "font": {
           "color": "#2a3f5f"
          },
          "geo": {
           "bgcolor": "white",
           "lakecolor": "white",
           "landcolor": "#E5ECF6",
           "showlakes": true,
           "showland": true,
           "subunitcolor": "white"
          },
          "hoverlabel": {
           "align": "left"
          },
          "hovermode": "closest",
          "mapbox": {
           "style": "light"
          },
          "paper_bgcolor": "white",
          "plot_bgcolor": "#E5ECF6",
          "polar": {
           "angularaxis": {
            "gridcolor": "white",
            "linecolor": "white",
            "ticks": ""
           },
           "bgcolor": "#E5ECF6",
           "radialaxis": {
            "gridcolor": "white",
            "linecolor": "white",
            "ticks": ""
           }
          },
          "scene": {
           "xaxis": {
            "backgroundcolor": "#E5ECF6",
            "gridcolor": "white",
            "gridwidth": 2,
            "linecolor": "white",
            "showbackground": true,
            "ticks": "",
            "zerolinecolor": "white"
           },
           "yaxis": {
            "backgroundcolor": "#E5ECF6",
            "gridcolor": "white",
            "gridwidth": 2,
            "linecolor": "white",
            "showbackground": true,
            "ticks": "",
            "zerolinecolor": "white"
           },
           "zaxis": {
            "backgroundcolor": "#E5ECF6",
            "gridcolor": "white",
            "gridwidth": 2,
            "linecolor": "white",
            "showbackground": true,
            "ticks": "",
            "zerolinecolor": "white"
           }
          },
          "shapedefaults": {
           "line": {
            "color": "#2a3f5f"
           }
          },
          "ternary": {
           "aaxis": {
            "gridcolor": "white",
            "linecolor": "white",
            "ticks": ""
           },
           "baxis": {
            "gridcolor": "white",
            "linecolor": "white",
            "ticks": ""
           },
           "bgcolor": "#E5ECF6",
           "caxis": {
            "gridcolor": "white",
            "linecolor": "white",
            "ticks": ""
           }
          },
          "title": {
           "x": 0.05
          },
          "xaxis": {
           "automargin": true,
           "gridcolor": "white",
           "linecolor": "white",
           "ticks": "",
           "title": {
            "standoff": 15
           },
           "zerolinecolor": "white",
           "zerolinewidth": 2
          },
          "yaxis": {
           "automargin": true,
           "gridcolor": "white",
           "linecolor": "white",
           "ticks": "",
           "title": {
            "standoff": 15
           },
           "zerolinecolor": "white",
           "zerolinewidth": 2
          }
         }
        },
        "title": {
         "text": "Letter Count by Year"
        },
        "xaxis": {
         "anchor": "y",
         "domain": [
          0,
          1
         ],
         "title": {
          "text": "Year"
         }
        },
        "yaxis": {
         "anchor": "x",
         "domain": [
          0,
          1
         ],
         "title": {
          "text": "Count"
         }
        }
       }
      },
      "text/html": [
       "<div>                            <div id=\"9b974541-4e40-4025-97df-147ffe73dfce\" class=\"plotly-graph-div\" style=\"height:525px; width:100%;\"></div>            <script type=\"text/javascript\">                require([\"plotly\"], function(Plotly) {                    window.PLOTLYENV=window.PLOTLYENV || {};                                    if (document.getElementById(\"9b974541-4e40-4025-97df-147ffe73dfce\")) {                    Plotly.newPlot(                        \"9b974541-4e40-4025-97df-147ffe73dfce\",                        [{\"alignmentgroup\":\"True\",\"hovertemplate\":\"variable=0<br>Year=%{x}<br>Count=%{y}<extra></extra>\",\"legendgroup\":\"0\",\"marker\":{\"color\":\"#636efa\",\"pattern\":{\"shape\":\"\"}},\"name\":\"0\",\"offsetgroup\":\"0\",\"orientation\":\"v\",\"showlegend\":true,\"textposition\":\"auto\",\"x\":[1818,1819,1820,1821,1822,1823,1824,1825,1826,1827,1828,1829,1830,1831,1832,1833,1834,1835,1836,1837,1838,1839,1840,1841,1842,1843,1844,1845,1846,1847,1848,1849,1850,1851,1852,1853,1854,1855,1856,1857,1858,1859,1860,1861],\"xaxis\":\"x\",\"y\":[1,1,4,5,3,8,7,24,198,21,24,24,34,61,15,20,14,6,11,10,5,14,25,6,14,12,15,22,15,16,22,29,31,21,32,33,29,54,85,40,35,39,53,4],\"yaxis\":\"y\",\"type\":\"bar\"}],                        {\"template\":{\"data\":{\"histogram2dcontour\":[{\"type\":\"histogram2dcontour\",\"colorbar\":{\"outlinewidth\":0,\"ticks\":\"\"},\"colorscale\":[[0.0,\"#0d0887\"],[0.1111111111111111,\"#46039f\"],[0.2222222222222222,\"#7201a8\"],[0.3333333333333333,\"#9c179e\"],[0.4444444444444444,\"#bd3786\"],[0.5555555555555556,\"#d8576b\"],[0.6666666666666666,\"#ed7953\"],[0.7777777777777778,\"#fb9f3a\"],[0.8888888888888888,\"#fdca26\"],[1.0,\"#f0f921\"]]}],\"choropleth\":[{\"type\":\"choropleth\",\"colorbar\":{\"outlinewidth\":0,\"ticks\":\"\"}}],\"histogram2d\":[{\"type\":\"histogram2d\",\"colorbar\":{\"outlinewidth\":0,\"ticks\":\"\"},\"colorscale\":[[0.0,\"#0d0887\"],[0.1111111111111111,\"#46039f\"],[0.2222222222222222,\"#7201a8\"],[0.3333333333333333,\"#9c179e\"],[0.4444444444444444,\"#bd3786\"],[0.5555555555555556,\"#d8576b\"],[0.6666666666666666,\"#ed7953\"],[0.7777777777777778,\"#fb9f3a\"],[0.8888888888888888,\"#fdca26\"],[1.0,\"#f0f921\"]]}],\"heatmap\":[{\"type\":\"heatmap\",\"colorbar\":{\"outlinewidth\":0,\"ticks\":\"\"},\"colorscale\":[[0.0,\"#0d0887\"],[0.1111111111111111,\"#46039f\"],[0.2222222222222222,\"#7201a8\"],[0.3333333333333333,\"#9c179e\"],[0.4444444444444444,\"#bd3786\"],[0.5555555555555556,\"#d8576b\"],[0.6666666666666666,\"#ed7953\"],[0.7777777777777778,\"#fb9f3a\"],[0.8888888888888888,\"#fdca26\"],[1.0,\"#f0f921\"]]}],\"heatmapgl\":[{\"type\":\"heatmapgl\",\"colorbar\":{\"outlinewidth\":0,\"ticks\":\"\"},\"colorscale\":[[0.0,\"#0d0887\"],[0.1111111111111111,\"#46039f\"],[0.2222222222222222,\"#7201a8\"],[0.3333333333333333,\"#9c179e\"],[0.4444444444444444,\"#bd3786\"],[0.5555555555555556,\"#d8576b\"],[0.6666666666666666,\"#ed7953\"],[0.7777777777777778,\"#fb9f3a\"],[0.8888888888888888,\"#fdca26\"],[1.0,\"#f0f921\"]]}],\"contourcarpet\":[{\"type\":\"contourcarpet\",\"colorbar\":{\"outlinewidth\":0,\"ticks\":\"\"}}],\"contour\":[{\"type\":\"contour\",\"colorbar\":{\"outlinewidth\":0,\"ticks\":\"\"},\"colorscale\":[[0.0,\"#0d0887\"],[0.1111111111111111,\"#46039f\"],[0.2222222222222222,\"#7201a8\"],[0.3333333333333333,\"#9c179e\"],[0.4444444444444444,\"#bd3786\"],[0.5555555555555556,\"#d8576b\"],[0.6666666666666666,\"#ed7953\"],[0.7777777777777778,\"#fb9f3a\"],[0.8888888888888888,\"#fdca26\"],[1.0,\"#f0f921\"]]}],\"surface\":[{\"type\":\"surface\",\"colorbar\":{\"outlinewidth\":0,\"ticks\":\"\"},\"colorscale\":[[0.0,\"#0d0887\"],[0.1111111111111111,\"#46039f\"],[0.2222222222222222,\"#7201a8\"],[0.3333333333333333,\"#9c179e\"],[0.4444444444444444,\"#bd3786\"],[0.5555555555555556,\"#d8576b\"],[0.6666666666666666,\"#ed7953\"],[0.7777777777777778,\"#fb9f3a\"],[0.8888888888888888,\"#fdca26\"],[1.0,\"#f0f921\"]]}],\"mesh3d\":[{\"type\":\"mesh3d\",\"colorbar\":{\"outlinewidth\":0,\"ticks\":\"\"}}],\"scatter\":[{\"fillpattern\":{\"fillmode\":\"overlay\",\"size\":10,\"solidity\":0.2},\"type\":\"scatter\"}],\"parcoords\":[{\"type\":\"parcoords\",\"line\":{\"colorbar\":{\"outlinewidth\":0,\"ticks\":\"\"}}}],\"scatterpolargl\":[{\"type\":\"scatterpolargl\",\"marker\":{\"colorbar\":{\"outlinewidth\":0,\"ticks\":\"\"}}}],\"bar\":[{\"error_x\":{\"color\":\"#2a3f5f\"},\"error_y\":{\"color\":\"#2a3f5f\"},\"marker\":{\"line\":{\"color\":\"#E5ECF6\",\"width\":0.5},\"pattern\":{\"fillmode\":\"overlay\",\"size\":10,\"solidity\":0.2}},\"type\":\"bar\"}],\"scattergeo\":[{\"type\":\"scattergeo\",\"marker\":{\"colorbar\":{\"outlinewidth\":0,\"ticks\":\"\"}}}],\"scatterpolar\":[{\"type\":\"scatterpolar\",\"marker\":{\"colorbar\":{\"outlinewidth\":0,\"ticks\":\"\"}}}],\"histogram\":[{\"marker\":{\"pattern\":{\"fillmode\":\"overlay\",\"size\":10,\"solidity\":0.2}},\"type\":\"histogram\"}],\"scattergl\":[{\"type\":\"scattergl\",\"marker\":{\"colorbar\":{\"outlinewidth\":0,\"ticks\":\"\"}}}],\"scatter3d\":[{\"type\":\"scatter3d\",\"line\":{\"colorbar\":{\"outlinewidth\":0,\"ticks\":\"\"}},\"marker\":{\"colorbar\":{\"outlinewidth\":0,\"ticks\":\"\"}}}],\"scattermapbox\":[{\"type\":\"scattermapbox\",\"marker\":{\"colorbar\":{\"outlinewidth\":0,\"ticks\":\"\"}}}],\"scatterternary\":[{\"type\":\"scatterternary\",\"marker\":{\"colorbar\":{\"outlinewidth\":0,\"ticks\":\"\"}}}],\"scattercarpet\":[{\"type\":\"scattercarpet\",\"marker\":{\"colorbar\":{\"outlinewidth\":0,\"ticks\":\"\"}}}],\"carpet\":[{\"aaxis\":{\"endlinecolor\":\"#2a3f5f\",\"gridcolor\":\"white\",\"linecolor\":\"white\",\"minorgridcolor\":\"white\",\"startlinecolor\":\"#2a3f5f\"},\"baxis\":{\"endlinecolor\":\"#2a3f5f\",\"gridcolor\":\"white\",\"linecolor\":\"white\",\"minorgridcolor\":\"white\",\"startlinecolor\":\"#2a3f5f\"},\"type\":\"carpet\"}],\"table\":[{\"cells\":{\"fill\":{\"color\":\"#EBF0F8\"},\"line\":{\"color\":\"white\"}},\"header\":{\"fill\":{\"color\":\"#C8D4E3\"},\"line\":{\"color\":\"white\"}},\"type\":\"table\"}],\"barpolar\":[{\"marker\":{\"line\":{\"color\":\"#E5ECF6\",\"width\":0.5},\"pattern\":{\"fillmode\":\"overlay\",\"size\":10,\"solidity\":0.2}},\"type\":\"barpolar\"}],\"pie\":[{\"automargin\":true,\"type\":\"pie\"}]},\"layout\":{\"autotypenumbers\":\"strict\",\"colorway\":[\"#636efa\",\"#EF553B\",\"#00cc96\",\"#ab63fa\",\"#FFA15A\",\"#19d3f3\",\"#FF6692\",\"#B6E880\",\"#FF97FF\",\"#FECB52\"],\"font\":{\"color\":\"#2a3f5f\"},\"hovermode\":\"closest\",\"hoverlabel\":{\"align\":\"left\"},\"paper_bgcolor\":\"white\",\"plot_bgcolor\":\"#E5ECF6\",\"polar\":{\"bgcolor\":\"#E5ECF6\",\"angularaxis\":{\"gridcolor\":\"white\",\"linecolor\":\"white\",\"ticks\":\"\"},\"radialaxis\":{\"gridcolor\":\"white\",\"linecolor\":\"white\",\"ticks\":\"\"}},\"ternary\":{\"bgcolor\":\"#E5ECF6\",\"aaxis\":{\"gridcolor\":\"white\",\"linecolor\":\"white\",\"ticks\":\"\"},\"baxis\":{\"gridcolor\":\"white\",\"linecolor\":\"white\",\"ticks\":\"\"},\"caxis\":{\"gridcolor\":\"white\",\"linecolor\":\"white\",\"ticks\":\"\"}},\"coloraxis\":{\"colorbar\":{\"outlinewidth\":0,\"ticks\":\"\"}},\"colorscale\":{\"sequential\":[[0.0,\"#0d0887\"],[0.1111111111111111,\"#46039f\"],[0.2222222222222222,\"#7201a8\"],[0.3333333333333333,\"#9c179e\"],[0.4444444444444444,\"#bd3786\"],[0.5555555555555556,\"#d8576b\"],[0.6666666666666666,\"#ed7953\"],[0.7777777777777778,\"#fb9f3a\"],[0.8888888888888888,\"#fdca26\"],[1.0,\"#f0f921\"]],\"sequentialminus\":[[0.0,\"#0d0887\"],[0.1111111111111111,\"#46039f\"],[0.2222222222222222,\"#7201a8\"],[0.3333333333333333,\"#9c179e\"],[0.4444444444444444,\"#bd3786\"],[0.5555555555555556,\"#d8576b\"],[0.6666666666666666,\"#ed7953\"],[0.7777777777777778,\"#fb9f3a\"],[0.8888888888888888,\"#fdca26\"],[1.0,\"#f0f921\"]],\"diverging\":[[0,\"#8e0152\"],[0.1,\"#c51b7d\"],[0.2,\"#de77ae\"],[0.3,\"#f1b6da\"],[0.4,\"#fde0ef\"],[0.5,\"#f7f7f7\"],[0.6,\"#e6f5d0\"],[0.7,\"#b8e186\"],[0.8,\"#7fbc41\"],[0.9,\"#4d9221\"],[1,\"#276419\"]]},\"xaxis\":{\"gridcolor\":\"white\",\"linecolor\":\"white\",\"ticks\":\"\",\"title\":{\"standoff\":15},\"zerolinecolor\":\"white\",\"automargin\":true,\"zerolinewidth\":2},\"yaxis\":{\"gridcolor\":\"white\",\"linecolor\":\"white\",\"ticks\":\"\",\"title\":{\"standoff\":15},\"zerolinecolor\":\"white\",\"automargin\":true,\"zerolinewidth\":2},\"scene\":{\"xaxis\":{\"backgroundcolor\":\"#E5ECF6\",\"gridcolor\":\"white\",\"linecolor\":\"white\",\"showbackground\":true,\"ticks\":\"\",\"zerolinecolor\":\"white\",\"gridwidth\":2},\"yaxis\":{\"backgroundcolor\":\"#E5ECF6\",\"gridcolor\":\"white\",\"linecolor\":\"white\",\"showbackground\":true,\"ticks\":\"\",\"zerolinecolor\":\"white\",\"gridwidth\":2},\"zaxis\":{\"backgroundcolor\":\"#E5ECF6\",\"gridcolor\":\"white\",\"linecolor\":\"white\",\"showbackground\":true,\"ticks\":\"\",\"zerolinecolor\":\"white\",\"gridwidth\":2}},\"shapedefaults\":{\"line\":{\"color\":\"#2a3f5f\"}},\"annotationdefaults\":{\"arrowcolor\":\"#2a3f5f\",\"arrowhead\":0,\"arrowwidth\":1},\"geo\":{\"bgcolor\":\"white\",\"landcolor\":\"#E5ECF6\",\"subunitcolor\":\"white\",\"showland\":true,\"showlakes\":true,\"lakecolor\":\"white\"},\"title\":{\"x\":0.05},\"mapbox\":{\"style\":\"light\"}}},\"xaxis\":{\"anchor\":\"y\",\"domain\":[0.0,1.0],\"title\":{\"text\":\"Year\"}},\"yaxis\":{\"anchor\":\"x\",\"domain\":[0.0,1.0],\"title\":{\"text\":\"Count\"}},\"legend\":{\"title\":{\"text\":\"variable\"},\"tracegroupgap\":0},\"title\":{\"text\":\"Letter Count by Year\"},\"barmode\":\"relative\",\"showlegend\":false},                        {\"responsive\": true}                    ).then(function(){\n",
       "                            \n",
       "var gd = document.getElementById('9b974541-4e40-4025-97df-147ffe73dfce');\n",
       "var x = new MutationObserver(function (mutations, observer) {{\n",
       "        var display = window.getComputedStyle(gd).display;\n",
       "        if (!display || display === 'none') {{\n",
       "            console.log([gd, 'removed!']);\n",
       "            Plotly.purge(gd);\n",
       "            observer.disconnect();\n",
       "        }}\n",
       "}});\n",
       "\n",
       "// Listen for the removal of the full notebook cells\n",
       "var notebookContainer = gd.closest('#notebook-container');\n",
       "if (notebookContainer) {{\n",
       "    x.observe(notebookContainer, {childList: true});\n",
       "}}\n",
       "\n",
       "// Listen for the clearing of the current output cell\n",
       "var outputEl = gd.closest('.output');\n",
       "if (outputEl) {{\n",
       "    x.observe(outputEl, {childList: true});\n",
       "}}\n",
       "\n",
       "                        })                };                });            </script>        </div>"
      ]
     },
     "metadata": {},
     "output_type": "display_data"
    }
   ],
   "source": [
    "year_counts_all = year_counts(df)\n",
    "letter_nums = year_counts_plot(year_counts_all)\n",
    "letter_nums"
   ]
  },
  {
   "cell_type": "markdown",
   "id": "00f52aa9",
   "metadata": {},
   "source": [
    "Create visualisation of topics over time for letters sent by Henslow using bertopic_time function."
   ]
  },
  {
   "cell_type": "code",
   "execution_count": 22,
   "id": "eea1e469",
   "metadata": {
    "scrolled": false
   },
   "outputs": [
    {
     "data": {
      "application/vnd.plotly.v1+json": {
       "config": {
        "plotlyServerURL": "https://plot.ly"
       },
       "data": [
        {
         "hoverinfo": "text",
         "hovertext": [
          "<b>Topic 0</b><br>Words: shell, insect, cabinet, guinea, volume",
          "<b>Topic 0</b><br>Words: insect, trans, defer, gr, cabinet",
          "<b>Topic 0</b><br>Words: insect, collection, falcon, epidermis, lyon",
          "<b>Topic 0</b><br>Words: insect, specimen, member, sentiment, paper",
          "<b>Topic 0</b><br>Words: deserve, america, locust, per_cent, sturm",
          "<b>Topic 0</b><br>Words: hole, page, happiness, flesh, knowledge",
          "<b>Topic 0</b><br>Words: member, expense, copy, publication, university",
          "<b>Topic 0</b><br>Words: expense, insect, announcement, course, minimum",
          "<b>Topic 0</b><br>Words: censure, dearth, crick, feeling, voting",
          "<b>Topic 0</b><br>Words: specimen, purpose, impression, lecture, description",
          "<b>Topic 0</b><br>Words: specimen, paper, lecture, excuse, help",
          "<b>Topic 0</b><br>Words: credit, wasp, assure, label, regret",
          "<b>Topic 0</b><br>Words: arrangement, church, curator, plan, faculty",
          "<b>Topic 0</b><br>Words: worm, reply, page, class, museum",
          "<b>Topic 0</b><br>Words: course, lecture, church, view, museum",
          "<b>Topic 0</b><br>Words: meeting, object, museum, series, question",
          "<b>Topic 0</b><br>Words: museum, bird, marquee, object, plan",
          "<b>Topic 0</b><br>Words: museum, lecture, animal, price, occasion",
          "<b>Topic 0</b><br>Words: student, paris, bird, set, bree",
          "<b>Topic 0</b><br>Words: darwin, lecture, view, museum, hypothesis"
         ],
         "marker": {
          "color": "#E69F00"
         },
         "mode": "markers",
         "name": "0_museum_lecture_specimen_darwin",
         "type": "scatter",
         "x": [
          "1818-12-02T13:45:07.200000",
          "1821-01-27T08:24:00",
          "1823-03-09T16:48:00",
          "1825-04-19T01:12:00",
          "1827-05-30T09:36:00",
          "1829-07-09T18:00:00",
          "1831-08-20T02:24:00",
          "1833-09-29T10:48:00",
          "1835-11-09T19:12:00",
          "1837-12-20T03:36:00",
          "1840-01-30T12:00:00",
          "1842-03-11T20:24:00",
          "1844-04-21T04:48:00",
          "1846-06-01T13:12:00",
          "1848-07-11T21:36:00",
          "1850-08-22T06:00:00",
          "1852-10-01T14:24:00",
          "1854-11-11T22:48:00",
          "1856-12-22T07:12:00",
          "1859-02-01T15:36:00"
         ],
         "y": [
          16,
          5,
          10,
          17,
          7,
          6,
          25,
          24,
          4,
          23,
          29,
          11,
          10,
          13,
          54,
          15,
          36,
          31,
          17,
          61
         ]
        },
        {
         "hoverinfo": "text",
         "hovertext": [
          "<b>Topic 1</b><br>Words: chrysomela, dock, fulgida, wch, plant",
          "<b>Topic 1</b><br>Words: lutea, verna, plant, fruticosa, viola",
          "<b>Topic 1</b><br>Words: plant, sphaerium, desiderata, country, lathyrus",
          "<b>Topic 1</b><br>Words: plant, specimen, flora, specie, habitat",
          "<b>Topic 1</b><br>Words: plant, kent, catalogue, flora, πολλοι",
          "<b>Topic 1</b><br>Words: cambridge, plant, museum, botanical, tract",
          "<b>Topic 1</b><br>Words: plant, district, flora, drainage, daubenys",
          "<b>Topic 1</b><br>Words: lobelia, uren, language, plant, snowflake",
          "<b>Topic 1</b><br>Words: shewn, clifton, contributor, cottage, botanist",
          "<b>Topic 1</b><br>Words: lindley, costae, duplicate, plant, botany",
          "<b>Topic 1</b><br>Words: vegetation, physiology, botanist, plant, law",
          "<b>Topic 1</b><br>Words: plant, galapagos, lindley, bud, garden",
          "<b>Topic 1</b><br>Words: plant, galapagos, lindley, village, university",
          "<b>Topic 1</b><br>Words: barley, grain, wheat, plant, oat",
          "<b>Topic 1</b><br>Words: plant, term, botany, melittis, grandiflora",
          "<b>Topic 1</b><br>Words: plant, genera, lecture, endlicher, speciman",
          "<b>Topic 1</b><br>Words: plant, flower, rice, flour, child",
          "<b>Topic 1</b><br>Words: plant, garden, canada, race, botany",
          "<b>Topic 1</b><br>Words: seed, vessel, plant, flora, preface",
          "<b>Topic 1</b><br>Words: botany, plant, synonyme, garden, longiflora"
         ],
         "marker": {
          "color": "#56B4E9"
         },
         "mode": "markers",
         "name": "1_plant_botany_garden_flora",
         "type": "scatter",
         "x": [
          "1818-12-02T13:45:07.200000",
          "1821-01-27T08:24:00",
          "1823-03-09T16:48:00",
          "1825-04-19T01:12:00",
          "1827-05-30T09:36:00",
          "1829-07-09T18:00:00",
          "1831-08-20T02:24:00",
          "1833-09-29T10:48:00",
          "1835-11-09T19:12:00",
          "1837-12-20T03:36:00",
          "1840-01-30T12:00:00",
          "1842-03-11T20:24:00",
          "1844-04-21T04:48:00",
          "1846-06-01T13:12:00",
          "1848-07-11T21:36:00",
          "1850-08-22T06:00:00",
          "1852-10-01T14:24:00",
          "1854-11-11T22:48:00",
          "1856-12-22T07:12:00",
          "1859-02-01T15:36:00"
         ],
         "y": [
          1,
          10,
          13,
          32,
          10,
          7,
          12,
          11,
          1,
          12,
          15,
          22,
          14,
          7,
          19,
          15,
          12,
          11,
          14,
          21
         ]
        },
        {
         "hoverinfo": "text",
         "hovertext": [
          "<b>Topic 2</b><br>Words: cambridge, dale, london, reach, dorsetshire",
          "<b>Topic 2</b><br>Words: dale, cambridge, easter, answering, midst",
          "<b>Topic 2</b><br>Words: anglesea, profusion, yorkshire, jan, cambridge",
          "<b>Topic 2</b><br>Words: cambridge, dale, election, intention, cam",
          "<b>Topic 2</b><br>Words: cambridge, life, march, leonard, subscriber",
          "<b>Topic 2</b><br>Words: cambridge, hope, walker, banker, guinea",
          "<b>Topic 2</b><br>Words: cambridge, weymouth, dale, gazette, council",
          "<b>Topic 2</b><br>Words: cambridge, council, seat, feb, dale",
          "<b>Topic 2</b><br>Words: bristol, overard, sheffield, treasurer, cambridge",
          "<b>Topic 2</b><br>Words: cambridge, march, thirlwall, burcham, candidate",
          "<b>Topic 2</b><br>Words: cambridge, berkshire, london, crick, july",
          "<b>Topic 2</b><br>Words: clements_inn, cambridge, nov, soc, london",
          "<b>Topic 2</b><br>Words: cambridge, government, appointment, london, suffolk",
          "<b>Topic 2</b><br>Words: cambridge, occasion, ipswich, someplace, norwich",
          "<b>Topic 2</b><br>Words: suffolk, dec, cambridge, kindness, porter",
          "<b>Topic 2</b><br>Words: suffolk, al, dorset, wandering, norfolk",
          "<b>Topic 2</b><br>Words: suffolk, request, cambridge, june, ipswich",
          "<b>Topic 2</b><br>Words: cambridge, ipswich, sunday, downing_college, garden",
          "<b>Topic 2</b><br>Words: cambridge, search, publish, downing_college, thinking",
          "<b>Topic 2</b><br>Words: downing_terrace, cambridge, april, joseph, ipswich"
         ],
         "marker": {
          "color": "#009E73"
         },
         "mode": "markers",
         "name": "2_cambridge_suffolk_dale_council",
         "type": "scatter",
         "x": [
          "1818-12-02T13:45:07.200000",
          "1821-01-27T08:24:00",
          "1823-03-09T16:48:00",
          "1825-04-19T01:12:00",
          "1827-05-30T09:36:00",
          "1829-07-09T18:00:00",
          "1831-08-20T02:24:00",
          "1833-09-29T10:48:00",
          "1835-11-09T19:12:00",
          "1837-12-20T03:36:00",
          "1840-01-30T12:00:00",
          "1842-03-11T20:24:00",
          "1844-04-21T04:48:00",
          "1846-06-01T13:12:00",
          "1848-07-11T21:36:00",
          "1850-08-22T06:00:00",
          "1852-10-01T14:24:00",
          "1854-11-11T22:48:00",
          "1856-12-22T07:12:00",
          "1859-02-01T15:36:00"
         ],
         "y": [
          6,
          3,
          2,
          6,
          5,
          4,
          12,
          26,
          6,
          3,
          11,
          7,
          7,
          6,
          12,
          5,
          8,
          12,
          5,
          11
         ]
        },
        {
         "hoverinfo": "text",
         "hovertext": [
          "<b>Topic 5</b><br>Words: woman, harriet, fanny, wife, lady",
          "<b>Topic 5</b><br>Words: miss, harriet, alexandre, scot, schillers",
          "<b>Topic 5</b><br>Words: harriet, inform, pray, affair, chance",
          "<b>Topic 5</b><br>Words: fanny, fetch, alban, harriet, anne",
          "<b>Topic 5</b><br>Words: harriet, fanny, wife, miss, care",
          "<b>Topic 5</b><br>Words: wife, fanny, harriet, albans, miss",
          "<b>Topic 5</b><br>Words: harriet, wife, affey, maud, bid",
          "<b>Topic 5</b><br>Words: harriet, posting, belper, wife, lady",
          "<b>Topic 5</b><br>Words: harriet, wrist, louise, fanny, cough",
          "<b>Topic 5</b><br>Words: lady, barnard, miss, afflick, bid"
         ],
         "marker": {
          "color": "#F0E442"
         },
         "mode": "markers",
         "name": "5_harriet_fanny_wife_lady",
         "type": "scatter",
         "x": [
          "1818-12-02T13:45:07.200000",
          "1823-03-09T16:48:00",
          "1829-07-09T18:00:00",
          "1844-04-21T04:48:00",
          "1846-06-01T13:12:00",
          "1848-07-11T21:36:00",
          "1852-10-01T14:24:00",
          "1854-11-11T22:48:00",
          "1856-12-22T07:12:00",
          "1859-02-01T15:36:00"
         ],
         "y": [
          1,
          3,
          1,
          4,
          5,
          7,
          4,
          4,
          4,
          11
         ]
        },
        {
         "hoverinfo": "text",
         "hovertext": [
          "<b>Topic 6</b><br>Words: season, summer, conocephali, sedge, wind",
          "<b>Topic 6</b><br>Words: leonard, fenny, tribe, january, december",
          "<b>Topic 6</b><br>Words: bishop, leonard, april, kings, lincoln",
          "<b>Topic 6</b><br>Words: wittlesea, season, leonard, july, nov",
          "<b>Topic 6</b><br>Words: june, april, leonard, season, july",
          "<b>Topic 6</b><br>Words: week, leonard, season, july, nov",
          "<b>Topic 6</b><br>Words: nov, autumn, lobelia, correction, period",
          "<b>Topic 6</b><br>Words: hutton, week, leonard, season, july",
          "<b>Topic 6</b><br>Words: july, leonard, season, nov, summer",
          "<b>Topic 6</b><br>Words: month, end, august, rap, bunbury",
          "<b>Topic 6</b><br>Words: note, january, leonard, season, july",
          "<b>Topic 6</b><br>Words: nov, fillip, season, loan, trip",
          "<b>Topic 6</b><br>Words: july, leonard, home, season, nov",
          "<b>Topic 6</b><br>Words: allotment, february, report, leonard, season",
          "<b>Topic 6</b><br>Words: leonard, snow, jas, season, nights"
         ],
         "marker": {
          "color": "#D55E00"
         },
         "mode": "markers",
         "name": "6_leonard_season_july_nov",
         "type": "scatter",
         "x": [
          "1818-12-02T13:45:07.200000",
          "1821-01-27T08:24:00",
          "1823-03-09T16:48:00",
          "1825-04-19T01:12:00",
          "1829-07-09T18:00:00",
          "1831-08-20T02:24:00",
          "1833-09-29T10:48:00",
          "1837-12-20T03:36:00",
          "1840-01-30T12:00:00",
          "1844-04-21T04:48:00",
          "1846-06-01T13:12:00",
          "1852-10-01T14:24:00",
          "1854-11-11T22:48:00",
          "1856-12-22T07:12:00",
          "1859-02-01T15:36:00"
         ],
         "y": [
          3,
          4,
          2,
          1,
          2,
          1,
          5,
          1,
          1,
          3,
          1,
          4,
          2,
          1,
          4
         ]
        },
        {
         "hoverinfo": "text",
         "hovertext": [
          "<b>Topic 7</b><br>Words: bulwer, england, sedgwick, owen, peacock",
          "<b>Topic 7</b><br>Words: sedgwick, presume, vol, publication, notice",
          "<b>Topic 7</b><br>Words: overleaf, stylop, affection, dale, specie",
          "<b>Topic 7</b><br>Words: sedgwick, hard, peacock, cone, zamia",
          "<b>Topic 7</b><br>Words: johnstone, kimbolton, shutt, strutt, berwick",
          "<b>Topic 7</b><br>Words: sedgwick, peacock, jenyns, whewell, wd",
          "<b>Topic 7</b><br>Words: sedgwick, quarto, sternberg, command, mean",
          "<b>Topic 7</b><br>Words: decr, sedgwick, owen, peacock, strutt",
          "<b>Topic 7</b><br>Words: compare, owen, london, sedgwick, peacock",
          "<b>Topic 7</b><br>Words: sedgwick, prescience, felixstow, mark, reason",
          "<b>Topic 7</b><br>Words: ludwig, africa, breach, confidence, baron",
          "<b>Topic 7</b><br>Words: sedgwick, forbe, mccoy, ask, forgot",
          "<b>Topic 7</b><br>Words: owen, sedgwick, telerpeton, priority, equivocation",
          "<b>Topic 7</b><br>Words: sedgwick, passage, owen, illumination, late"
         ],
         "marker": {
          "color": "#0072B2"
         },
         "mode": "markers",
         "name": "7_sedgwick_owen_peacock_kimbolton",
         "type": "scatter",
         "x": [
          "1818-12-02T13:45:07.200000",
          "1821-01-27T08:24:00",
          "1823-03-09T16:48:00",
          "1831-08-20T02:24:00",
          "1833-09-29T10:48:00",
          "1835-11-09T19:12:00",
          "1837-12-20T03:36:00",
          "1840-01-30T12:00:00",
          "1842-03-11T20:24:00",
          "1844-04-21T04:48:00",
          "1846-06-01T13:12:00",
          "1848-07-11T21:36:00",
          "1852-10-01T14:24:00",
          "1859-02-01T15:36:00"
         ],
         "y": [
          1,
          2,
          1,
          3,
          3,
          3,
          3,
          1,
          1,
          2,
          1,
          2,
          5,
          5
         ]
        },
        {
         "hoverinfo": "text",
         "hovertext": [
          "<b>Topic 3</b><br>Words: mineralogical, morning, book, fossil, celt",
          "<b>Topic 3</b><br>Words: mineralogy, wh, syllabus, desiderata, trust",
          "<b>Topic 3</b><br>Words: clay, pit, subsoil, debris, altitude",
          "<b>Topic 3</b><br>Words: fossil, osmundae, filicite, bowman, heterophylla",
          "<b>Topic 3</b><br>Words: fossil, clay, monkey, tribe, recollect",
          "<b>Topic 3</b><br>Words: nodules, sandstone, soil, animal, matter",
          "<b>Topic 3</b><br>Words: nodule, phosphate, lime, london_clay, fossil",
          "<b>Topic 3</b><br>Words: engineer, bog, copper, stowmarket, sandstone",
          "<b>Topic 3</b><br>Words: petroleum, asphalt, naphtha, bottle, fossil",
          "<b>Topic 3</b><br>Words: rock, geology, disposal, scanty, mineral",
          "<b>Topic 3</b><br>Words: fossil, geol_soc, past, explanation, thought",
          "<b>Topic 3</b><br>Words: brown, pleistocene, peat, stanway, job",
          "<b>Topic 3</b><br>Words: celt, drift, fossil, valley, earth"
         ],
         "marker": {
          "color": "#CC79A7"
         },
         "mode": "markers",
         "name": "3_fossil_celt_clay_drift",
         "type": "scatter",
         "x": [
          "1821-01-27T08:24:00",
          "1823-03-09T16:48:00",
          "1831-08-20T02:24:00",
          "1837-12-20T03:36:00",
          "1840-01-30T12:00:00",
          "1842-03-11T20:24:00",
          "1844-04-21T04:48:00",
          "1846-06-01T13:12:00",
          "1848-07-11T21:36:00",
          "1850-08-22T06:00:00",
          "1852-10-01T14:24:00",
          "1856-12-22T07:12:00",
          "1859-02-01T15:36:00"
         ],
         "y": [
          1,
          1,
          12,
          5,
          5,
          4,
          6,
          2,
          1,
          4,
          2,
          2,
          19
         ]
        },
        {
         "hoverinfo": "text",
         "hovertext": [
          "<b>Topic 9</b><br>Words: specie, speciman, collection, wh, compass",
          "<b>Topic 9</b><br>Words: speciman, specie, searching, acori, plantation",
          "<b>Topic 9</b><br>Words: help, specie, friend, speciman, wh",
          "<b>Topic 9</b><br>Words: examining, specie, speciman, wh, compass",
          "<b>Topic 9</b><br>Words: specie, mine, section, variety, speciman",
          "<b>Topic 9</b><br>Words: wh, speciman, specie, serra, pecopteris",
          "<b>Topic 9</b><br>Words: specie, til, deck, lot, summer",
          "<b>Topic 9</b><br>Words: compass, specie, owen, speciman, wh",
          "<b>Topic 9</b><br>Words: specie, speciman, wh, compass, examining",
          "<b>Topic 9</b><br>Words: rear, speciman, scheme, thing, specie"
         ],
         "marker": {
          "color": "#E69F00"
         },
         "mode": "markers",
         "name": "9_specie_speciman_wh_compass",
         "type": "scatter",
         "x": [
          "1821-01-27T08:24:00",
          "1825-04-19T01:12:00",
          "1829-07-09T18:00:00",
          "1833-09-29T10:48:00",
          "1837-12-20T03:36:00",
          "1840-01-30T12:00:00",
          "1842-03-11T20:24:00",
          "1844-04-21T04:48:00",
          "1854-11-11T22:48:00",
          "1859-02-01T15:36:00"
         ],
         "y": [
          2,
          4,
          1,
          1,
          2,
          2,
          3,
          1,
          1,
          2
         ]
        },
        {
         "hoverinfo": "text",
         "hovertext": [
          "<b>Topic 10</b><br>Words: sabina, airy, suff, daf, ommission",
          "<b>Topic 10</b><br>Words: rotundif, saltan, airy, suff, daf",
          "<b>Topic 10</b><br>Words: saussure, airy, suff, daf, ommission",
          "<b>Topic 10</b><br>Words: daf, airy, suff, ommission, quy",
          "<b>Topic 10</b><br>Words: suff, airy, daf, ommission, quy",
          "<b>Topic 10</b><br>Words: suff, sulivan, airy, daf, ommission",
          "<b>Topic 10</b><br>Words: airy, ommission, quy, belief, number",
          "<b>Topic 10</b><br>Words: suf, airy, suff, daf, ommission",
          "<b>Topic 10</b><br>Words: yate, airy, suff, daf, ommission",
          "<b>Topic 10</b><br>Words: snubbed, hort, airy, suff, daf"
         ],
         "marker": {
          "color": "#56B4E9"
         },
         "mode": "markers",
         "name": "10_airy_suff_daf_snubbed",
         "type": "scatter",
         "x": [
          "1821-01-27T08:24:00",
          "1825-04-19T01:12:00",
          "1831-08-20T02:24:00",
          "1837-12-20T03:36:00",
          "1844-04-21T04:48:00",
          "1846-06-01T13:12:00",
          "1848-07-11T21:36:00",
          "1852-10-01T14:24:00",
          "1854-11-11T22:48:00",
          "1859-02-01T15:36:00"
         ],
         "y": [
          1,
          2,
          1,
          1,
          1,
          2,
          3,
          1,
          2,
          2
         ]
        },
        {
         "hoverinfo": "text",
         "hovertext": [
          "<b>Topic 4</b><br>Words: bivalve, hitcham, hitcham_bildeston, suffolk, june",
          "<b>Topic 4</b><br>Words: hitcham_bildeston, suffolk, pennyworth, bildeston_suffolk, allied",
          "<b>Topic 4</b><br>Words: hitcham_bildeston, memoranda, suffolk, estimate, agreement",
          "<b>Topic 4</b><br>Words: saxon, restoring, cry, united_regard, spoilt",
          "<b>Topic 4</b><br>Words: hitcham, library, groombridge, london, suf",
          "<b>Topic 4</b><br>Words: hitcham, suffolk, yarmouth, letter, hitcham_bildeston",
          "<b>Topic 4</b><br>Words: hitcham, private, mentioning, gedge, turtle",
          "<b>Topic 4</b><br>Words: hitcham, spathe, dash, bound, yarmouth",
          "<b>Topic 4</b><br>Words: hitcham, suffolk, hitcham_bildeston, excursion, october",
          "<b>Topic 4</b><br>Words: hitcham_bildeston, suffolk, hitcham, cottage, wall",
          "<b>Topic 4</b><br>Words: hitcham, suffolk, hitcham_bildeston, eyton, second",
          "<b>Topic 4</b><br>Words: hitcham_bildeston, hitcham, suffolk, whewell, january"
         ],
         "marker": {
          "color": "#009E73"
         },
         "mode": "markers",
         "name": "4_hitcham_hitcham_bildeston_suffolk_june",
         "type": "scatter",
         "x": [
          "1823-03-09T16:48:00",
          "1837-12-20T03:36:00",
          "1840-01-30T12:00:00",
          "1842-03-11T20:24:00",
          "1844-04-21T04:48:00",
          "1846-06-01T13:12:00",
          "1848-07-11T21:36:00",
          "1850-08-22T06:00:00",
          "1852-10-01T14:24:00",
          "1854-11-11T22:48:00",
          "1856-12-22T07:12:00",
          "1859-02-01T15:36:00"
         ],
         "y": [
          1,
          4,
          6,
          1,
          2,
          5,
          5,
          3,
          11,
          9,
          5,
          9
         ]
        },
        {
         "hoverinfo": "text",
         "hovertext": [
          "<b>Topic 8</b><br>Words: plate, illiger, hister, scarabidae, hexoda",
          "<b>Topic 8</b><br>Words: plate, text, reference, figure, glue",
          "<b>Topic 8</b><br>Words: plate, crenata, crenation, novelty, hint",
          "<b>Topic 8</b><br>Words: plate, mint, decm, laminae, attrition",
          "<b>Topic 8</b><br>Words: plate, benthams, labiata, tom, rectory",
          "<b>Topic 8</b><br>Words: plate, duplicate, glue, text, appearance",
          "<b>Topic 8</b><br>Words: text_illegible, varnish, cotton, shift, plate",
          "<b>Topic 8</b><br>Words: forthwith, glue, plate, text, appearance"
         ],
         "marker": {
          "color": "#F0E442"
         },
         "mode": "markers",
         "name": "8_plate_glue_text_appearance",
         "type": "scatter",
         "x": [
          "1827-05-30T09:36:00",
          "1837-12-20T03:36:00",
          "1840-01-30T12:00:00",
          "1844-04-21T04:48:00",
          "1848-07-11T21:36:00",
          "1850-08-22T06:00:00",
          "1852-10-01T14:24:00",
          "1859-02-01T15:36:00"
         ],
         "y": [
          3,
          12,
          3,
          2,
          2,
          1,
          1,
          1
         ]
        }
       ],
       "layout": {
        "height": 500,
        "hoverlabel": {
         "bgcolor": "white",
         "font": {
          "family": "Rockwell",
          "size": 16
         }
        },
        "legend": {
         "title": {
          "text": "<b>Global Topic Representation"
         }
        },
        "template": {
         "data": {
          "bar": [
           {
            "error_x": {
             "color": "rgb(36,36,36)"
            },
            "error_y": {
             "color": "rgb(36,36,36)"
            },
            "marker": {
             "line": {
              "color": "white",
              "width": 0.5
             },
             "pattern": {
              "fillmode": "overlay",
              "size": 10,
              "solidity": 0.2
             }
            },
            "type": "bar"
           }
          ],
          "barpolar": [
           {
            "marker": {
             "line": {
              "color": "white",
              "width": 0.5
             },
             "pattern": {
              "fillmode": "overlay",
              "size": 10,
              "solidity": 0.2
             }
            },
            "type": "barpolar"
           }
          ],
          "carpet": [
           {
            "aaxis": {
             "endlinecolor": "rgb(36,36,36)",
             "gridcolor": "white",
             "linecolor": "white",
             "minorgridcolor": "white",
             "startlinecolor": "rgb(36,36,36)"
            },
            "baxis": {
             "endlinecolor": "rgb(36,36,36)",
             "gridcolor": "white",
             "linecolor": "white",
             "minorgridcolor": "white",
             "startlinecolor": "rgb(36,36,36)"
            },
            "type": "carpet"
           }
          ],
          "choropleth": [
           {
            "colorbar": {
             "outlinewidth": 1,
             "tickcolor": "rgb(36,36,36)",
             "ticks": "outside"
            },
            "type": "choropleth"
           }
          ],
          "contour": [
           {
            "colorbar": {
             "outlinewidth": 1,
             "tickcolor": "rgb(36,36,36)",
             "ticks": "outside"
            },
            "colorscale": [
             [
              0,
              "#440154"
             ],
             [
              0.1111111111111111,
              "#482878"
             ],
             [
              0.2222222222222222,
              "#3e4989"
             ],
             [
              0.3333333333333333,
              "#31688e"
             ],
             [
              0.4444444444444444,
              "#26828e"
             ],
             [
              0.5555555555555556,
              "#1f9e89"
             ],
             [
              0.6666666666666666,
              "#35b779"
             ],
             [
              0.7777777777777778,
              "#6ece58"
             ],
             [
              0.8888888888888888,
              "#b5de2b"
             ],
             [
              1,
              "#fde725"
             ]
            ],
            "type": "contour"
           }
          ],
          "contourcarpet": [
           {
            "colorbar": {
             "outlinewidth": 1,
             "tickcolor": "rgb(36,36,36)",
             "ticks": "outside"
            },
            "type": "contourcarpet"
           }
          ],
          "heatmap": [
           {
            "colorbar": {
             "outlinewidth": 1,
             "tickcolor": "rgb(36,36,36)",
             "ticks": "outside"
            },
            "colorscale": [
             [
              0,
              "#440154"
             ],
             [
              0.1111111111111111,
              "#482878"
             ],
             [
              0.2222222222222222,
              "#3e4989"
             ],
             [
              0.3333333333333333,
              "#31688e"
             ],
             [
              0.4444444444444444,
              "#26828e"
             ],
             [
              0.5555555555555556,
              "#1f9e89"
             ],
             [
              0.6666666666666666,
              "#35b779"
             ],
             [
              0.7777777777777778,
              "#6ece58"
             ],
             [
              0.8888888888888888,
              "#b5de2b"
             ],
             [
              1,
              "#fde725"
             ]
            ],
            "type": "heatmap"
           }
          ],
          "heatmapgl": [
           {
            "colorbar": {
             "outlinewidth": 1,
             "tickcolor": "rgb(36,36,36)",
             "ticks": "outside"
            },
            "colorscale": [
             [
              0,
              "#440154"
             ],
             [
              0.1111111111111111,
              "#482878"
             ],
             [
              0.2222222222222222,
              "#3e4989"
             ],
             [
              0.3333333333333333,
              "#31688e"
             ],
             [
              0.4444444444444444,
              "#26828e"
             ],
             [
              0.5555555555555556,
              "#1f9e89"
             ],
             [
              0.6666666666666666,
              "#35b779"
             ],
             [
              0.7777777777777778,
              "#6ece58"
             ],
             [
              0.8888888888888888,
              "#b5de2b"
             ],
             [
              1,
              "#fde725"
             ]
            ],
            "type": "heatmapgl"
           }
          ],
          "histogram": [
           {
            "marker": {
             "line": {
              "color": "white",
              "width": 0.6
             }
            },
            "type": "histogram"
           }
          ],
          "histogram2d": [
           {
            "colorbar": {
             "outlinewidth": 1,
             "tickcolor": "rgb(36,36,36)",
             "ticks": "outside"
            },
            "colorscale": [
             [
              0,
              "#440154"
             ],
             [
              0.1111111111111111,
              "#482878"
             ],
             [
              0.2222222222222222,
              "#3e4989"
             ],
             [
              0.3333333333333333,
              "#31688e"
             ],
             [
              0.4444444444444444,
              "#26828e"
             ],
             [
              0.5555555555555556,
              "#1f9e89"
             ],
             [
              0.6666666666666666,
              "#35b779"
             ],
             [
              0.7777777777777778,
              "#6ece58"
             ],
             [
              0.8888888888888888,
              "#b5de2b"
             ],
             [
              1,
              "#fde725"
             ]
            ],
            "type": "histogram2d"
           }
          ],
          "histogram2dcontour": [
           {
            "colorbar": {
             "outlinewidth": 1,
             "tickcolor": "rgb(36,36,36)",
             "ticks": "outside"
            },
            "colorscale": [
             [
              0,
              "#440154"
             ],
             [
              0.1111111111111111,
              "#482878"
             ],
             [
              0.2222222222222222,
              "#3e4989"
             ],
             [
              0.3333333333333333,
              "#31688e"
             ],
             [
              0.4444444444444444,
              "#26828e"
             ],
             [
              0.5555555555555556,
              "#1f9e89"
             ],
             [
              0.6666666666666666,
              "#35b779"
             ],
             [
              0.7777777777777778,
              "#6ece58"
             ],
             [
              0.8888888888888888,
              "#b5de2b"
             ],
             [
              1,
              "#fde725"
             ]
            ],
            "type": "histogram2dcontour"
           }
          ],
          "mesh3d": [
           {
            "colorbar": {
             "outlinewidth": 1,
             "tickcolor": "rgb(36,36,36)",
             "ticks": "outside"
            },
            "type": "mesh3d"
           }
          ],
          "parcoords": [
           {
            "line": {
             "colorbar": {
              "outlinewidth": 1,
              "tickcolor": "rgb(36,36,36)",
              "ticks": "outside"
             }
            },
            "type": "parcoords"
           }
          ],
          "pie": [
           {
            "automargin": true,
            "type": "pie"
           }
          ],
          "scatter": [
           {
            "fillpattern": {
             "fillmode": "overlay",
             "size": 10,
             "solidity": 0.2
            },
            "type": "scatter"
           }
          ],
          "scatter3d": [
           {
            "line": {
             "colorbar": {
              "outlinewidth": 1,
              "tickcolor": "rgb(36,36,36)",
              "ticks": "outside"
             }
            },
            "marker": {
             "colorbar": {
              "outlinewidth": 1,
              "tickcolor": "rgb(36,36,36)",
              "ticks": "outside"
             }
            },
            "type": "scatter3d"
           }
          ],
          "scattercarpet": [
           {
            "marker": {
             "colorbar": {
              "outlinewidth": 1,
              "tickcolor": "rgb(36,36,36)",
              "ticks": "outside"
             }
            },
            "type": "scattercarpet"
           }
          ],
          "scattergeo": [
           {
            "marker": {
             "colorbar": {
              "outlinewidth": 1,
              "tickcolor": "rgb(36,36,36)",
              "ticks": "outside"
             }
            },
            "type": "scattergeo"
           }
          ],
          "scattergl": [
           {
            "marker": {
             "colorbar": {
              "outlinewidth": 1,
              "tickcolor": "rgb(36,36,36)",
              "ticks": "outside"
             }
            },
            "type": "scattergl"
           }
          ],
          "scattermapbox": [
           {
            "marker": {
             "colorbar": {
              "outlinewidth": 1,
              "tickcolor": "rgb(36,36,36)",
              "ticks": "outside"
             }
            },
            "type": "scattermapbox"
           }
          ],
          "scatterpolar": [
           {
            "marker": {
             "colorbar": {
              "outlinewidth": 1,
              "tickcolor": "rgb(36,36,36)",
              "ticks": "outside"
             }
            },
            "type": "scatterpolar"
           }
          ],
          "scatterpolargl": [
           {
            "marker": {
             "colorbar": {
              "outlinewidth": 1,
              "tickcolor": "rgb(36,36,36)",
              "ticks": "outside"
             }
            },
            "type": "scatterpolargl"
           }
          ],
          "scatterternary": [
           {
            "marker": {
             "colorbar": {
              "outlinewidth": 1,
              "tickcolor": "rgb(36,36,36)",
              "ticks": "outside"
             }
            },
            "type": "scatterternary"
           }
          ],
          "surface": [
           {
            "colorbar": {
             "outlinewidth": 1,
             "tickcolor": "rgb(36,36,36)",
             "ticks": "outside"
            },
            "colorscale": [
             [
              0,
              "#440154"
             ],
             [
              0.1111111111111111,
              "#482878"
             ],
             [
              0.2222222222222222,
              "#3e4989"
             ],
             [
              0.3333333333333333,
              "#31688e"
             ],
             [
              0.4444444444444444,
              "#26828e"
             ],
             [
              0.5555555555555556,
              "#1f9e89"
             ],
             [
              0.6666666666666666,
              "#35b779"
             ],
             [
              0.7777777777777778,
              "#6ece58"
             ],
             [
              0.8888888888888888,
              "#b5de2b"
             ],
             [
              1,
              "#fde725"
             ]
            ],
            "type": "surface"
           }
          ],
          "table": [
           {
            "cells": {
             "fill": {
              "color": "rgb(237,237,237)"
             },
             "line": {
              "color": "white"
             }
            },
            "header": {
             "fill": {
              "color": "rgb(217,217,217)"
             },
             "line": {
              "color": "white"
             }
            },
            "type": "table"
           }
          ]
         },
         "layout": {
          "annotationdefaults": {
           "arrowhead": 0,
           "arrowwidth": 1
          },
          "autotypenumbers": "strict",
          "coloraxis": {
           "colorbar": {
            "outlinewidth": 1,
            "tickcolor": "rgb(36,36,36)",
            "ticks": "outside"
           }
          },
          "colorscale": {
           "diverging": [
            [
             0,
             "rgb(103,0,31)"
            ],
            [
             0.1,
             "rgb(178,24,43)"
            ],
            [
             0.2,
             "rgb(214,96,77)"
            ],
            [
             0.3,
             "rgb(244,165,130)"
            ],
            [
             0.4,
             "rgb(253,219,199)"
            ],
            [
             0.5,
             "rgb(247,247,247)"
            ],
            [
             0.6,
             "rgb(209,229,240)"
            ],
            [
             0.7,
             "rgb(146,197,222)"
            ],
            [
             0.8,
             "rgb(67,147,195)"
            ],
            [
             0.9,
             "rgb(33,102,172)"
            ],
            [
             1,
             "rgb(5,48,97)"
            ]
           ],
           "sequential": [
            [
             0,
             "#440154"
            ],
            [
             0.1111111111111111,
             "#482878"
            ],
            [
             0.2222222222222222,
             "#3e4989"
            ],
            [
             0.3333333333333333,
             "#31688e"
            ],
            [
             0.4444444444444444,
             "#26828e"
            ],
            [
             0.5555555555555556,
             "#1f9e89"
            ],
            [
             0.6666666666666666,
             "#35b779"
            ],
            [
             0.7777777777777778,
             "#6ece58"
            ],
            [
             0.8888888888888888,
             "#b5de2b"
            ],
            [
             1,
             "#fde725"
            ]
           ],
           "sequentialminus": [
            [
             0,
             "#440154"
            ],
            [
             0.1111111111111111,
             "#482878"
            ],
            [
             0.2222222222222222,
             "#3e4989"
            ],
            [
             0.3333333333333333,
             "#31688e"
            ],
            [
             0.4444444444444444,
             "#26828e"
            ],
            [
             0.5555555555555556,
             "#1f9e89"
            ],
            [
             0.6666666666666666,
             "#35b779"
            ],
            [
             0.7777777777777778,
             "#6ece58"
            ],
            [
             0.8888888888888888,
             "#b5de2b"
            ],
            [
             1,
             "#fde725"
            ]
           ]
          },
          "colorway": [
           "#1F77B4",
           "#FF7F0E",
           "#2CA02C",
           "#D62728",
           "#9467BD",
           "#8C564B",
           "#E377C2",
           "#7F7F7F",
           "#BCBD22",
           "#17BECF"
          ],
          "font": {
           "color": "rgb(36,36,36)"
          },
          "geo": {
           "bgcolor": "white",
           "lakecolor": "white",
           "landcolor": "white",
           "showlakes": true,
           "showland": true,
           "subunitcolor": "white"
          },
          "hoverlabel": {
           "align": "left"
          },
          "hovermode": "closest",
          "mapbox": {
           "style": "light"
          },
          "paper_bgcolor": "white",
          "plot_bgcolor": "white",
          "polar": {
           "angularaxis": {
            "gridcolor": "rgb(232,232,232)",
            "linecolor": "rgb(36,36,36)",
            "showgrid": false,
            "showline": true,
            "ticks": "outside"
           },
           "bgcolor": "white",
           "radialaxis": {
            "gridcolor": "rgb(232,232,232)",
            "linecolor": "rgb(36,36,36)",
            "showgrid": false,
            "showline": true,
            "ticks": "outside"
           }
          },
          "scene": {
           "xaxis": {
            "backgroundcolor": "white",
            "gridcolor": "rgb(232,232,232)",
            "gridwidth": 2,
            "linecolor": "rgb(36,36,36)",
            "showbackground": true,
            "showgrid": false,
            "showline": true,
            "ticks": "outside",
            "zeroline": false,
            "zerolinecolor": "rgb(36,36,36)"
           },
           "yaxis": {
            "backgroundcolor": "white",
            "gridcolor": "rgb(232,232,232)",
            "gridwidth": 2,
            "linecolor": "rgb(36,36,36)",
            "showbackground": true,
            "showgrid": false,
            "showline": true,
            "ticks": "outside",
            "zeroline": false,
            "zerolinecolor": "rgb(36,36,36)"
           },
           "zaxis": {
            "backgroundcolor": "white",
            "gridcolor": "rgb(232,232,232)",
            "gridwidth": 2,
            "linecolor": "rgb(36,36,36)",
            "showbackground": true,
            "showgrid": false,
            "showline": true,
            "ticks": "outside",
            "zeroline": false,
            "zerolinecolor": "rgb(36,36,36)"
           }
          },
          "shapedefaults": {
           "fillcolor": "black",
           "line": {
            "width": 0
           },
           "opacity": 0.3
          },
          "ternary": {
           "aaxis": {
            "gridcolor": "rgb(232,232,232)",
            "linecolor": "rgb(36,36,36)",
            "showgrid": false,
            "showline": true,
            "ticks": "outside"
           },
           "baxis": {
            "gridcolor": "rgb(232,232,232)",
            "linecolor": "rgb(36,36,36)",
            "showgrid": false,
            "showline": true,
            "ticks": "outside"
           },
           "bgcolor": "white",
           "caxis": {
            "gridcolor": "rgb(232,232,232)",
            "linecolor": "rgb(36,36,36)",
            "showgrid": false,
            "showline": true,
            "ticks": "outside"
           }
          },
          "title": {
           "x": 0.05
          },
          "xaxis": {
           "automargin": true,
           "gridcolor": "rgb(232,232,232)",
           "linecolor": "rgb(36,36,36)",
           "showgrid": false,
           "showline": true,
           "ticks": "outside",
           "title": {
            "standoff": 15
           },
           "zeroline": false,
           "zerolinecolor": "rgb(36,36,36)"
          },
          "yaxis": {
           "automargin": true,
           "gridcolor": "rgb(232,232,232)",
           "linecolor": "rgb(36,36,36)",
           "showgrid": false,
           "showline": true,
           "ticks": "outside",
           "title": {
            "standoff": 15
           },
           "zeroline": false,
           "zerolinecolor": "rgb(36,36,36)"
          }
         }
        },
        "title": {
         "font": {
          "color": "Black",
          "size": 22
         },
         "text": "<b>Topics over Time",
         "x": 0.4,
         "xanchor": "center",
         "y": 0.95,
         "yanchor": "top"
        },
        "width": 1000,
        "xaxis": {
         "showgrid": true
        },
        "yaxis": {
         "showgrid": true,
         "title": {
          "text": "Count"
         }
        }
       }
      },
      "text/html": [
       "<div>                            <div id=\"24982cc2-eea5-4190-abbc-d631405aef7d\" class=\"plotly-graph-div\" style=\"height:500px; width:1000px;\"></div>            <script type=\"text/javascript\">                require([\"plotly\"], function(Plotly) {                    window.PLOTLYENV=window.PLOTLYENV || {};                                    if (document.getElementById(\"24982cc2-eea5-4190-abbc-d631405aef7d\")) {                    Plotly.newPlot(                        \"24982cc2-eea5-4190-abbc-d631405aef7d\",                        [{\"hoverinfo\":\"text\",\"hovertext\":[\"<b>Topic 0</b><br>Words: shell, insect, cabinet, guinea, volume\",\"<b>Topic 0</b><br>Words: insect, trans, defer, gr, cabinet\",\"<b>Topic 0</b><br>Words: insect, collection, falcon, epidermis, lyon\",\"<b>Topic 0</b><br>Words: insect, specimen, member, sentiment, paper\",\"<b>Topic 0</b><br>Words: deserve, america, locust, per_cent, sturm\",\"<b>Topic 0</b><br>Words: hole, page, happiness, flesh, knowledge\",\"<b>Topic 0</b><br>Words: member, expense, copy, publication, university\",\"<b>Topic 0</b><br>Words: expense, insect, announcement, course, minimum\",\"<b>Topic 0</b><br>Words: censure, dearth, crick, feeling, voting\",\"<b>Topic 0</b><br>Words: specimen, purpose, impression, lecture, description\",\"<b>Topic 0</b><br>Words: specimen, paper, lecture, excuse, help\",\"<b>Topic 0</b><br>Words: credit, wasp, assure, label, regret\",\"<b>Topic 0</b><br>Words: arrangement, church, curator, plan, faculty\",\"<b>Topic 0</b><br>Words: worm, reply, page, class, museum\",\"<b>Topic 0</b><br>Words: course, lecture, church, view, museum\",\"<b>Topic 0</b><br>Words: meeting, object, museum, series, question\",\"<b>Topic 0</b><br>Words: museum, bird, marquee, object, plan\",\"<b>Topic 0</b><br>Words: museum, lecture, animal, price, occasion\",\"<b>Topic 0</b><br>Words: student, paris, bird, set, bree\",\"<b>Topic 0</b><br>Words: darwin, lecture, view, museum, hypothesis\"],\"marker\":{\"color\":\"#E69F00\"},\"mode\":\"markers\",\"name\":\"0_museum_lecture_specimen_darwin\",\"x\":[\"1818-12-02T13:45:07.200000\",\"1821-01-27T08:24:00\",\"1823-03-09T16:48:00\",\"1825-04-19T01:12:00\",\"1827-05-30T09:36:00\",\"1829-07-09T18:00:00\",\"1831-08-20T02:24:00\",\"1833-09-29T10:48:00\",\"1835-11-09T19:12:00\",\"1837-12-20T03:36:00\",\"1840-01-30T12:00:00\",\"1842-03-11T20:24:00\",\"1844-04-21T04:48:00\",\"1846-06-01T13:12:00\",\"1848-07-11T21:36:00\",\"1850-08-22T06:00:00\",\"1852-10-01T14:24:00\",\"1854-11-11T22:48:00\",\"1856-12-22T07:12:00\",\"1859-02-01T15:36:00\"],\"y\":[16,5,10,17,7,6,25,24,4,23,29,11,10,13,54,15,36,31,17,61],\"type\":\"scatter\"},{\"hoverinfo\":\"text\",\"hovertext\":[\"<b>Topic 1</b><br>Words: chrysomela, dock, fulgida, wch, plant\",\"<b>Topic 1</b><br>Words: lutea, verna, plant, fruticosa, viola\",\"<b>Topic 1</b><br>Words: plant, sphaerium, desiderata, country, lathyrus\",\"<b>Topic 1</b><br>Words: plant, specimen, flora, specie, habitat\",\"<b>Topic 1</b><br>Words: plant, kent, catalogue, flora, \\u03c0\\u03bf\\u03bb\\u03bb\\u03bf\\u03b9\",\"<b>Topic 1</b><br>Words: cambridge, plant, museum, botanical, tract\",\"<b>Topic 1</b><br>Words: plant, district, flora, drainage, daubenys\",\"<b>Topic 1</b><br>Words: lobelia, uren, language, plant, snowflake\",\"<b>Topic 1</b><br>Words: shewn, clifton, contributor, cottage, botanist\",\"<b>Topic 1</b><br>Words: lindley, costae, duplicate, plant, botany\",\"<b>Topic 1</b><br>Words: vegetation, physiology, botanist, plant, law\",\"<b>Topic 1</b><br>Words: plant, galapagos, lindley, bud, garden\",\"<b>Topic 1</b><br>Words: plant, galapagos, lindley, village, university\",\"<b>Topic 1</b><br>Words: barley, grain, wheat, plant, oat\",\"<b>Topic 1</b><br>Words: plant, term, botany, melittis, grandiflora\",\"<b>Topic 1</b><br>Words: plant, genera, lecture, endlicher, speciman\",\"<b>Topic 1</b><br>Words: plant, flower, rice, flour, child\",\"<b>Topic 1</b><br>Words: plant, garden, canada, race, botany\",\"<b>Topic 1</b><br>Words: seed, vessel, plant, flora, preface\",\"<b>Topic 1</b><br>Words: botany, plant, synonyme, garden, longiflora\"],\"marker\":{\"color\":\"#56B4E9\"},\"mode\":\"markers\",\"name\":\"1_plant_botany_garden_flora\",\"x\":[\"1818-12-02T13:45:07.200000\",\"1821-01-27T08:24:00\",\"1823-03-09T16:48:00\",\"1825-04-19T01:12:00\",\"1827-05-30T09:36:00\",\"1829-07-09T18:00:00\",\"1831-08-20T02:24:00\",\"1833-09-29T10:48:00\",\"1835-11-09T19:12:00\",\"1837-12-20T03:36:00\",\"1840-01-30T12:00:00\",\"1842-03-11T20:24:00\",\"1844-04-21T04:48:00\",\"1846-06-01T13:12:00\",\"1848-07-11T21:36:00\",\"1850-08-22T06:00:00\",\"1852-10-01T14:24:00\",\"1854-11-11T22:48:00\",\"1856-12-22T07:12:00\",\"1859-02-01T15:36:00\"],\"y\":[1,10,13,32,10,7,12,11,1,12,15,22,14,7,19,15,12,11,14,21],\"type\":\"scatter\"},{\"hoverinfo\":\"text\",\"hovertext\":[\"<b>Topic 2</b><br>Words: cambridge, dale, london, reach, dorsetshire\",\"<b>Topic 2</b><br>Words: dale, cambridge, easter, answering, midst\",\"<b>Topic 2</b><br>Words: anglesea, profusion, yorkshire, jan, cambridge\",\"<b>Topic 2</b><br>Words: cambridge, dale, election, intention, cam\",\"<b>Topic 2</b><br>Words: cambridge, life, march, leonard, subscriber\",\"<b>Topic 2</b><br>Words: cambridge, hope, walker, banker, guinea\",\"<b>Topic 2</b><br>Words: cambridge, weymouth, dale, gazette, council\",\"<b>Topic 2</b><br>Words: cambridge, council, seat, feb, dale\",\"<b>Topic 2</b><br>Words: bristol, overard, sheffield, treasurer, cambridge\",\"<b>Topic 2</b><br>Words: cambridge, march, thirlwall, burcham, candidate\",\"<b>Topic 2</b><br>Words: cambridge, berkshire, london, crick, july\",\"<b>Topic 2</b><br>Words: clements_inn, cambridge, nov, soc, london\",\"<b>Topic 2</b><br>Words: cambridge, government, appointment, london, suffolk\",\"<b>Topic 2</b><br>Words: cambridge, occasion, ipswich, someplace, norwich\",\"<b>Topic 2</b><br>Words: suffolk, dec, cambridge, kindness, porter\",\"<b>Topic 2</b><br>Words: suffolk, al, dorset, wandering, norfolk\",\"<b>Topic 2</b><br>Words: suffolk, request, cambridge, june, ipswich\",\"<b>Topic 2</b><br>Words: cambridge, ipswich, sunday, downing_college, garden\",\"<b>Topic 2</b><br>Words: cambridge, search, publish, downing_college, thinking\",\"<b>Topic 2</b><br>Words: downing_terrace, cambridge, april, joseph, ipswich\"],\"marker\":{\"color\":\"#009E73\"},\"mode\":\"markers\",\"name\":\"2_cambridge_suffolk_dale_council\",\"x\":[\"1818-12-02T13:45:07.200000\",\"1821-01-27T08:24:00\",\"1823-03-09T16:48:00\",\"1825-04-19T01:12:00\",\"1827-05-30T09:36:00\",\"1829-07-09T18:00:00\",\"1831-08-20T02:24:00\",\"1833-09-29T10:48:00\",\"1835-11-09T19:12:00\",\"1837-12-20T03:36:00\",\"1840-01-30T12:00:00\",\"1842-03-11T20:24:00\",\"1844-04-21T04:48:00\",\"1846-06-01T13:12:00\",\"1848-07-11T21:36:00\",\"1850-08-22T06:00:00\",\"1852-10-01T14:24:00\",\"1854-11-11T22:48:00\",\"1856-12-22T07:12:00\",\"1859-02-01T15:36:00\"],\"y\":[6,3,2,6,5,4,12,26,6,3,11,7,7,6,12,5,8,12,5,11],\"type\":\"scatter\"},{\"hoverinfo\":\"text\",\"hovertext\":[\"<b>Topic 5</b><br>Words: woman, harriet, fanny, wife, lady\",\"<b>Topic 5</b><br>Words: miss, harriet, alexandre, scot, schillers\",\"<b>Topic 5</b><br>Words: harriet, inform, pray, affair, chance\",\"<b>Topic 5</b><br>Words: fanny, fetch, alban, harriet, anne\",\"<b>Topic 5</b><br>Words: harriet, fanny, wife, miss, care\",\"<b>Topic 5</b><br>Words: wife, fanny, harriet, albans, miss\",\"<b>Topic 5</b><br>Words: harriet, wife, affey, maud, bid\",\"<b>Topic 5</b><br>Words: harriet, posting, belper, wife, lady\",\"<b>Topic 5</b><br>Words: harriet, wrist, louise, fanny, cough\",\"<b>Topic 5</b><br>Words: lady, barnard, miss, afflick, bid\"],\"marker\":{\"color\":\"#F0E442\"},\"mode\":\"markers\",\"name\":\"5_harriet_fanny_wife_lady\",\"x\":[\"1818-12-02T13:45:07.200000\",\"1823-03-09T16:48:00\",\"1829-07-09T18:00:00\",\"1844-04-21T04:48:00\",\"1846-06-01T13:12:00\",\"1848-07-11T21:36:00\",\"1852-10-01T14:24:00\",\"1854-11-11T22:48:00\",\"1856-12-22T07:12:00\",\"1859-02-01T15:36:00\"],\"y\":[1,3,1,4,5,7,4,4,4,11],\"type\":\"scatter\"},{\"hoverinfo\":\"text\",\"hovertext\":[\"<b>Topic 6</b><br>Words: season, summer, conocephali, sedge, wind\",\"<b>Topic 6</b><br>Words: leonard, fenny, tribe, january, december\",\"<b>Topic 6</b><br>Words: bishop, leonard, april, kings, lincoln\",\"<b>Topic 6</b><br>Words: wittlesea, season, leonard, july, nov\",\"<b>Topic 6</b><br>Words: june, april, leonard, season, july\",\"<b>Topic 6</b><br>Words: week, leonard, season, july, nov\",\"<b>Topic 6</b><br>Words: nov, autumn, lobelia, correction, period\",\"<b>Topic 6</b><br>Words: hutton, week, leonard, season, july\",\"<b>Topic 6</b><br>Words: july, leonard, season, nov, summer\",\"<b>Topic 6</b><br>Words: month, end, august, rap, bunbury\",\"<b>Topic 6</b><br>Words: note, january, leonard, season, july\",\"<b>Topic 6</b><br>Words: nov, fillip, season, loan, trip\",\"<b>Topic 6</b><br>Words: july, leonard, home, season, nov\",\"<b>Topic 6</b><br>Words: allotment, february, report, leonard, season\",\"<b>Topic 6</b><br>Words: leonard, snow, jas, season, nights\"],\"marker\":{\"color\":\"#D55E00\"},\"mode\":\"markers\",\"name\":\"6_leonard_season_july_nov\",\"x\":[\"1818-12-02T13:45:07.200000\",\"1821-01-27T08:24:00\",\"1823-03-09T16:48:00\",\"1825-04-19T01:12:00\",\"1829-07-09T18:00:00\",\"1831-08-20T02:24:00\",\"1833-09-29T10:48:00\",\"1837-12-20T03:36:00\",\"1840-01-30T12:00:00\",\"1844-04-21T04:48:00\",\"1846-06-01T13:12:00\",\"1852-10-01T14:24:00\",\"1854-11-11T22:48:00\",\"1856-12-22T07:12:00\",\"1859-02-01T15:36:00\"],\"y\":[3,4,2,1,2,1,5,1,1,3,1,4,2,1,4],\"type\":\"scatter\"},{\"hoverinfo\":\"text\",\"hovertext\":[\"<b>Topic 7</b><br>Words: bulwer, england, sedgwick, owen, peacock\",\"<b>Topic 7</b><br>Words: sedgwick, presume, vol, publication, notice\",\"<b>Topic 7</b><br>Words: overleaf, stylop, affection, dale, specie\",\"<b>Topic 7</b><br>Words: sedgwick, hard, peacock, cone, zamia\",\"<b>Topic 7</b><br>Words: johnstone, kimbolton, shutt, strutt, berwick\",\"<b>Topic 7</b><br>Words: sedgwick, peacock, jenyns, whewell, wd\",\"<b>Topic 7</b><br>Words: sedgwick, quarto, sternberg, command, mean\",\"<b>Topic 7</b><br>Words: decr, sedgwick, owen, peacock, strutt\",\"<b>Topic 7</b><br>Words: compare, owen, london, sedgwick, peacock\",\"<b>Topic 7</b><br>Words: sedgwick, prescience, felixstow, mark, reason\",\"<b>Topic 7</b><br>Words: ludwig, africa, breach, confidence, baron\",\"<b>Topic 7</b><br>Words: sedgwick, forbe, mccoy, ask, forgot\",\"<b>Topic 7</b><br>Words: owen, sedgwick, telerpeton, priority, equivocation\",\"<b>Topic 7</b><br>Words: sedgwick, passage, owen, illumination, late\"],\"marker\":{\"color\":\"#0072B2\"},\"mode\":\"markers\",\"name\":\"7_sedgwick_owen_peacock_kimbolton\",\"x\":[\"1818-12-02T13:45:07.200000\",\"1821-01-27T08:24:00\",\"1823-03-09T16:48:00\",\"1831-08-20T02:24:00\",\"1833-09-29T10:48:00\",\"1835-11-09T19:12:00\",\"1837-12-20T03:36:00\",\"1840-01-30T12:00:00\",\"1842-03-11T20:24:00\",\"1844-04-21T04:48:00\",\"1846-06-01T13:12:00\",\"1848-07-11T21:36:00\",\"1852-10-01T14:24:00\",\"1859-02-01T15:36:00\"],\"y\":[1,2,1,3,3,3,3,1,1,2,1,2,5,5],\"type\":\"scatter\"},{\"hoverinfo\":\"text\",\"hovertext\":[\"<b>Topic 3</b><br>Words: mineralogical, morning, book, fossil, celt\",\"<b>Topic 3</b><br>Words: mineralogy, wh, syllabus, desiderata, trust\",\"<b>Topic 3</b><br>Words: clay, pit, subsoil, debris, altitude\",\"<b>Topic 3</b><br>Words: fossil, osmundae, filicite, bowman, heterophylla\",\"<b>Topic 3</b><br>Words: fossil, clay, monkey, tribe, recollect\",\"<b>Topic 3</b><br>Words: nodules, sandstone, soil, animal, matter\",\"<b>Topic 3</b><br>Words: nodule, phosphate, lime, london_clay, fossil\",\"<b>Topic 3</b><br>Words: engineer, bog, copper, stowmarket, sandstone\",\"<b>Topic 3</b><br>Words: petroleum, asphalt, naphtha, bottle, fossil\",\"<b>Topic 3</b><br>Words: rock, geology, disposal, scanty, mineral\",\"<b>Topic 3</b><br>Words: fossil, geol_soc, past, explanation, thought\",\"<b>Topic 3</b><br>Words: brown, pleistocene, peat, stanway, job\",\"<b>Topic 3</b><br>Words: celt, drift, fossil, valley, earth\"],\"marker\":{\"color\":\"#CC79A7\"},\"mode\":\"markers\",\"name\":\"3_fossil_celt_clay_drift\",\"x\":[\"1821-01-27T08:24:00\",\"1823-03-09T16:48:00\",\"1831-08-20T02:24:00\",\"1837-12-20T03:36:00\",\"1840-01-30T12:00:00\",\"1842-03-11T20:24:00\",\"1844-04-21T04:48:00\",\"1846-06-01T13:12:00\",\"1848-07-11T21:36:00\",\"1850-08-22T06:00:00\",\"1852-10-01T14:24:00\",\"1856-12-22T07:12:00\",\"1859-02-01T15:36:00\"],\"y\":[1,1,12,5,5,4,6,2,1,4,2,2,19],\"type\":\"scatter\"},{\"hoverinfo\":\"text\",\"hovertext\":[\"<b>Topic 9</b><br>Words: specie, speciman, collection, wh, compass\",\"<b>Topic 9</b><br>Words: speciman, specie, searching, acori, plantation\",\"<b>Topic 9</b><br>Words: help, specie, friend, speciman, wh\",\"<b>Topic 9</b><br>Words: examining, specie, speciman, wh, compass\",\"<b>Topic 9</b><br>Words: specie, mine, section, variety, speciman\",\"<b>Topic 9</b><br>Words: wh, speciman, specie, serra, pecopteris\",\"<b>Topic 9</b><br>Words: specie, til, deck, lot, summer\",\"<b>Topic 9</b><br>Words: compass, specie, owen, speciman, wh\",\"<b>Topic 9</b><br>Words: specie, speciman, wh, compass, examining\",\"<b>Topic 9</b><br>Words: rear, speciman, scheme, thing, specie\"],\"marker\":{\"color\":\"#E69F00\"},\"mode\":\"markers\",\"name\":\"9_specie_speciman_wh_compass\",\"x\":[\"1821-01-27T08:24:00\",\"1825-04-19T01:12:00\",\"1829-07-09T18:00:00\",\"1833-09-29T10:48:00\",\"1837-12-20T03:36:00\",\"1840-01-30T12:00:00\",\"1842-03-11T20:24:00\",\"1844-04-21T04:48:00\",\"1854-11-11T22:48:00\",\"1859-02-01T15:36:00\"],\"y\":[2,4,1,1,2,2,3,1,1,2],\"type\":\"scatter\"},{\"hoverinfo\":\"text\",\"hovertext\":[\"<b>Topic 10</b><br>Words: sabina, airy, suff, daf, ommission\",\"<b>Topic 10</b><br>Words: rotundif, saltan, airy, suff, daf\",\"<b>Topic 10</b><br>Words: saussure, airy, suff, daf, ommission\",\"<b>Topic 10</b><br>Words: daf, airy, suff, ommission, quy\",\"<b>Topic 10</b><br>Words: suff, airy, daf, ommission, quy\",\"<b>Topic 10</b><br>Words: suff, sulivan, airy, daf, ommission\",\"<b>Topic 10</b><br>Words: airy, ommission, quy, belief, number\",\"<b>Topic 10</b><br>Words: suf, airy, suff, daf, ommission\",\"<b>Topic 10</b><br>Words: yate, airy, suff, daf, ommission\",\"<b>Topic 10</b><br>Words: snubbed, hort, airy, suff, daf\"],\"marker\":{\"color\":\"#56B4E9\"},\"mode\":\"markers\",\"name\":\"10_airy_suff_daf_snubbed\",\"x\":[\"1821-01-27T08:24:00\",\"1825-04-19T01:12:00\",\"1831-08-20T02:24:00\",\"1837-12-20T03:36:00\",\"1844-04-21T04:48:00\",\"1846-06-01T13:12:00\",\"1848-07-11T21:36:00\",\"1852-10-01T14:24:00\",\"1854-11-11T22:48:00\",\"1859-02-01T15:36:00\"],\"y\":[1,2,1,1,1,2,3,1,2,2],\"type\":\"scatter\"},{\"hoverinfo\":\"text\",\"hovertext\":[\"<b>Topic 4</b><br>Words: bivalve, hitcham, hitcham_bildeston, suffolk, june\",\"<b>Topic 4</b><br>Words: hitcham_bildeston, suffolk, pennyworth, bildeston_suffolk, allied\",\"<b>Topic 4</b><br>Words: hitcham_bildeston, memoranda, suffolk, estimate, agreement\",\"<b>Topic 4</b><br>Words: saxon, restoring, cry, united_regard, spoilt\",\"<b>Topic 4</b><br>Words: hitcham, library, groombridge, london, suf\",\"<b>Topic 4</b><br>Words: hitcham, suffolk, yarmouth, letter, hitcham_bildeston\",\"<b>Topic 4</b><br>Words: hitcham, private, mentioning, gedge, turtle\",\"<b>Topic 4</b><br>Words: hitcham, spathe, dash, bound, yarmouth\",\"<b>Topic 4</b><br>Words: hitcham, suffolk, hitcham_bildeston, excursion, october\",\"<b>Topic 4</b><br>Words: hitcham_bildeston, suffolk, hitcham, cottage, wall\",\"<b>Topic 4</b><br>Words: hitcham, suffolk, hitcham_bildeston, eyton, second\",\"<b>Topic 4</b><br>Words: hitcham_bildeston, hitcham, suffolk, whewell, january\"],\"marker\":{\"color\":\"#009E73\"},\"mode\":\"markers\",\"name\":\"4_hitcham_hitcham_bildeston_suffolk_june\",\"x\":[\"1823-03-09T16:48:00\",\"1837-12-20T03:36:00\",\"1840-01-30T12:00:00\",\"1842-03-11T20:24:00\",\"1844-04-21T04:48:00\",\"1846-06-01T13:12:00\",\"1848-07-11T21:36:00\",\"1850-08-22T06:00:00\",\"1852-10-01T14:24:00\",\"1854-11-11T22:48:00\",\"1856-12-22T07:12:00\",\"1859-02-01T15:36:00\"],\"y\":[1,4,6,1,2,5,5,3,11,9,5,9],\"type\":\"scatter\"},{\"hoverinfo\":\"text\",\"hovertext\":[\"<b>Topic 8</b><br>Words: plate, illiger, hister, scarabidae, hexoda\",\"<b>Topic 8</b><br>Words: plate, text, reference, figure, glue\",\"<b>Topic 8</b><br>Words: plate, crenata, crenation, novelty, hint\",\"<b>Topic 8</b><br>Words: plate, mint, decm, laminae, attrition\",\"<b>Topic 8</b><br>Words: plate, benthams, labiata, tom, rectory\",\"<b>Topic 8</b><br>Words: plate, duplicate, glue, text, appearance\",\"<b>Topic 8</b><br>Words: text_illegible, varnish, cotton, shift, plate\",\"<b>Topic 8</b><br>Words: forthwith, glue, plate, text, appearance\"],\"marker\":{\"color\":\"#F0E442\"},\"mode\":\"markers\",\"name\":\"8_plate_glue_text_appearance\",\"x\":[\"1827-05-30T09:36:00\",\"1837-12-20T03:36:00\",\"1840-01-30T12:00:00\",\"1844-04-21T04:48:00\",\"1848-07-11T21:36:00\",\"1850-08-22T06:00:00\",\"1852-10-01T14:24:00\",\"1859-02-01T15:36:00\"],\"y\":[3,12,3,2,2,1,1,1],\"type\":\"scatter\"}],                        {\"template\":{\"data\":{\"barpolar\":[{\"marker\":{\"line\":{\"color\":\"white\",\"width\":0.5},\"pattern\":{\"fillmode\":\"overlay\",\"size\":10,\"solidity\":0.2}},\"type\":\"barpolar\"}],\"bar\":[{\"error_x\":{\"color\":\"rgb(36,36,36)\"},\"error_y\":{\"color\":\"rgb(36,36,36)\"},\"marker\":{\"line\":{\"color\":\"white\",\"width\":0.5},\"pattern\":{\"fillmode\":\"overlay\",\"size\":10,\"solidity\":0.2}},\"type\":\"bar\"}],\"carpet\":[{\"aaxis\":{\"endlinecolor\":\"rgb(36,36,36)\",\"gridcolor\":\"white\",\"linecolor\":\"white\",\"minorgridcolor\":\"white\",\"startlinecolor\":\"rgb(36,36,36)\"},\"baxis\":{\"endlinecolor\":\"rgb(36,36,36)\",\"gridcolor\":\"white\",\"linecolor\":\"white\",\"minorgridcolor\":\"white\",\"startlinecolor\":\"rgb(36,36,36)\"},\"type\":\"carpet\"}],\"choropleth\":[{\"colorbar\":{\"outlinewidth\":1,\"tickcolor\":\"rgb(36,36,36)\",\"ticks\":\"outside\"},\"type\":\"choropleth\"}],\"contourcarpet\":[{\"colorbar\":{\"outlinewidth\":1,\"tickcolor\":\"rgb(36,36,36)\",\"ticks\":\"outside\"},\"type\":\"contourcarpet\"}],\"contour\":[{\"colorbar\":{\"outlinewidth\":1,\"tickcolor\":\"rgb(36,36,36)\",\"ticks\":\"outside\"},\"colorscale\":[[0.0,\"#440154\"],[0.1111111111111111,\"#482878\"],[0.2222222222222222,\"#3e4989\"],[0.3333333333333333,\"#31688e\"],[0.4444444444444444,\"#26828e\"],[0.5555555555555556,\"#1f9e89\"],[0.6666666666666666,\"#35b779\"],[0.7777777777777778,\"#6ece58\"],[0.8888888888888888,\"#b5de2b\"],[1.0,\"#fde725\"]],\"type\":\"contour\"}],\"heatmapgl\":[{\"colorbar\":{\"outlinewidth\":1,\"tickcolor\":\"rgb(36,36,36)\",\"ticks\":\"outside\"},\"colorscale\":[[0.0,\"#440154\"],[0.1111111111111111,\"#482878\"],[0.2222222222222222,\"#3e4989\"],[0.3333333333333333,\"#31688e\"],[0.4444444444444444,\"#26828e\"],[0.5555555555555556,\"#1f9e89\"],[0.6666666666666666,\"#35b779\"],[0.7777777777777778,\"#6ece58\"],[0.8888888888888888,\"#b5de2b\"],[1.0,\"#fde725\"]],\"type\":\"heatmapgl\"}],\"heatmap\":[{\"colorbar\":{\"outlinewidth\":1,\"tickcolor\":\"rgb(36,36,36)\",\"ticks\":\"outside\"},\"colorscale\":[[0.0,\"#440154\"],[0.1111111111111111,\"#482878\"],[0.2222222222222222,\"#3e4989\"],[0.3333333333333333,\"#31688e\"],[0.4444444444444444,\"#26828e\"],[0.5555555555555556,\"#1f9e89\"],[0.6666666666666666,\"#35b779\"],[0.7777777777777778,\"#6ece58\"],[0.8888888888888888,\"#b5de2b\"],[1.0,\"#fde725\"]],\"type\":\"heatmap\"}],\"histogram2dcontour\":[{\"colorbar\":{\"outlinewidth\":1,\"tickcolor\":\"rgb(36,36,36)\",\"ticks\":\"outside\"},\"colorscale\":[[0.0,\"#440154\"],[0.1111111111111111,\"#482878\"],[0.2222222222222222,\"#3e4989\"],[0.3333333333333333,\"#31688e\"],[0.4444444444444444,\"#26828e\"],[0.5555555555555556,\"#1f9e89\"],[0.6666666666666666,\"#35b779\"],[0.7777777777777778,\"#6ece58\"],[0.8888888888888888,\"#b5de2b\"],[1.0,\"#fde725\"]],\"type\":\"histogram2dcontour\"}],\"histogram2d\":[{\"colorbar\":{\"outlinewidth\":1,\"tickcolor\":\"rgb(36,36,36)\",\"ticks\":\"outside\"},\"colorscale\":[[0.0,\"#440154\"],[0.1111111111111111,\"#482878\"],[0.2222222222222222,\"#3e4989\"],[0.3333333333333333,\"#31688e\"],[0.4444444444444444,\"#26828e\"],[0.5555555555555556,\"#1f9e89\"],[0.6666666666666666,\"#35b779\"],[0.7777777777777778,\"#6ece58\"],[0.8888888888888888,\"#b5de2b\"],[1.0,\"#fde725\"]],\"type\":\"histogram2d\"}],\"histogram\":[{\"marker\":{\"line\":{\"color\":\"white\",\"width\":0.6}},\"type\":\"histogram\"}],\"mesh3d\":[{\"colorbar\":{\"outlinewidth\":1,\"tickcolor\":\"rgb(36,36,36)\",\"ticks\":\"outside\"},\"type\":\"mesh3d\"}],\"parcoords\":[{\"line\":{\"colorbar\":{\"outlinewidth\":1,\"tickcolor\":\"rgb(36,36,36)\",\"ticks\":\"outside\"}},\"type\":\"parcoords\"}],\"pie\":[{\"automargin\":true,\"type\":\"pie\"}],\"scatter3d\":[{\"line\":{\"colorbar\":{\"outlinewidth\":1,\"tickcolor\":\"rgb(36,36,36)\",\"ticks\":\"outside\"}},\"marker\":{\"colorbar\":{\"outlinewidth\":1,\"tickcolor\":\"rgb(36,36,36)\",\"ticks\":\"outside\"}},\"type\":\"scatter3d\"}],\"scattercarpet\":[{\"marker\":{\"colorbar\":{\"outlinewidth\":1,\"tickcolor\":\"rgb(36,36,36)\",\"ticks\":\"outside\"}},\"type\":\"scattercarpet\"}],\"scattergeo\":[{\"marker\":{\"colorbar\":{\"outlinewidth\":1,\"tickcolor\":\"rgb(36,36,36)\",\"ticks\":\"outside\"}},\"type\":\"scattergeo\"}],\"scattergl\":[{\"marker\":{\"colorbar\":{\"outlinewidth\":1,\"tickcolor\":\"rgb(36,36,36)\",\"ticks\":\"outside\"}},\"type\":\"scattergl\"}],\"scattermapbox\":[{\"marker\":{\"colorbar\":{\"outlinewidth\":1,\"tickcolor\":\"rgb(36,36,36)\",\"ticks\":\"outside\"}},\"type\":\"scattermapbox\"}],\"scatterpolargl\":[{\"marker\":{\"colorbar\":{\"outlinewidth\":1,\"tickcolor\":\"rgb(36,36,36)\",\"ticks\":\"outside\"}},\"type\":\"scatterpolargl\"}],\"scatterpolar\":[{\"marker\":{\"colorbar\":{\"outlinewidth\":1,\"tickcolor\":\"rgb(36,36,36)\",\"ticks\":\"outside\"}},\"type\":\"scatterpolar\"}],\"scatter\":[{\"fillpattern\":{\"fillmode\":\"overlay\",\"size\":10,\"solidity\":0.2},\"type\":\"scatter\"}],\"scatterternary\":[{\"marker\":{\"colorbar\":{\"outlinewidth\":1,\"tickcolor\":\"rgb(36,36,36)\",\"ticks\":\"outside\"}},\"type\":\"scatterternary\"}],\"surface\":[{\"colorbar\":{\"outlinewidth\":1,\"tickcolor\":\"rgb(36,36,36)\",\"ticks\":\"outside\"},\"colorscale\":[[0.0,\"#440154\"],[0.1111111111111111,\"#482878\"],[0.2222222222222222,\"#3e4989\"],[0.3333333333333333,\"#31688e\"],[0.4444444444444444,\"#26828e\"],[0.5555555555555556,\"#1f9e89\"],[0.6666666666666666,\"#35b779\"],[0.7777777777777778,\"#6ece58\"],[0.8888888888888888,\"#b5de2b\"],[1.0,\"#fde725\"]],\"type\":\"surface\"}],\"table\":[{\"cells\":{\"fill\":{\"color\":\"rgb(237,237,237)\"},\"line\":{\"color\":\"white\"}},\"header\":{\"fill\":{\"color\":\"rgb(217,217,217)\"},\"line\":{\"color\":\"white\"}},\"type\":\"table\"}]},\"layout\":{\"annotationdefaults\":{\"arrowhead\":0,\"arrowwidth\":1},\"autotypenumbers\":\"strict\",\"coloraxis\":{\"colorbar\":{\"outlinewidth\":1,\"tickcolor\":\"rgb(36,36,36)\",\"ticks\":\"outside\"}},\"colorscale\":{\"diverging\":[[0.0,\"rgb(103,0,31)\"],[0.1,\"rgb(178,24,43)\"],[0.2,\"rgb(214,96,77)\"],[0.3,\"rgb(244,165,130)\"],[0.4,\"rgb(253,219,199)\"],[0.5,\"rgb(247,247,247)\"],[0.6,\"rgb(209,229,240)\"],[0.7,\"rgb(146,197,222)\"],[0.8,\"rgb(67,147,195)\"],[0.9,\"rgb(33,102,172)\"],[1.0,\"rgb(5,48,97)\"]],\"sequential\":[[0.0,\"#440154\"],[0.1111111111111111,\"#482878\"],[0.2222222222222222,\"#3e4989\"],[0.3333333333333333,\"#31688e\"],[0.4444444444444444,\"#26828e\"],[0.5555555555555556,\"#1f9e89\"],[0.6666666666666666,\"#35b779\"],[0.7777777777777778,\"#6ece58\"],[0.8888888888888888,\"#b5de2b\"],[1.0,\"#fde725\"]],\"sequentialminus\":[[0.0,\"#440154\"],[0.1111111111111111,\"#482878\"],[0.2222222222222222,\"#3e4989\"],[0.3333333333333333,\"#31688e\"],[0.4444444444444444,\"#26828e\"],[0.5555555555555556,\"#1f9e89\"],[0.6666666666666666,\"#35b779\"],[0.7777777777777778,\"#6ece58\"],[0.8888888888888888,\"#b5de2b\"],[1.0,\"#fde725\"]]},\"colorway\":[\"#1F77B4\",\"#FF7F0E\",\"#2CA02C\",\"#D62728\",\"#9467BD\",\"#8C564B\",\"#E377C2\",\"#7F7F7F\",\"#BCBD22\",\"#17BECF\"],\"font\":{\"color\":\"rgb(36,36,36)\"},\"geo\":{\"bgcolor\":\"white\",\"lakecolor\":\"white\",\"landcolor\":\"white\",\"showlakes\":true,\"showland\":true,\"subunitcolor\":\"white\"},\"hoverlabel\":{\"align\":\"left\"},\"hovermode\":\"closest\",\"mapbox\":{\"style\":\"light\"},\"paper_bgcolor\":\"white\",\"plot_bgcolor\":\"white\",\"polar\":{\"angularaxis\":{\"gridcolor\":\"rgb(232,232,232)\",\"linecolor\":\"rgb(36,36,36)\",\"showgrid\":false,\"showline\":true,\"ticks\":\"outside\"},\"bgcolor\":\"white\",\"radialaxis\":{\"gridcolor\":\"rgb(232,232,232)\",\"linecolor\":\"rgb(36,36,36)\",\"showgrid\":false,\"showline\":true,\"ticks\":\"outside\"}},\"scene\":{\"xaxis\":{\"backgroundcolor\":\"white\",\"gridcolor\":\"rgb(232,232,232)\",\"gridwidth\":2,\"linecolor\":\"rgb(36,36,36)\",\"showbackground\":true,\"showgrid\":false,\"showline\":true,\"ticks\":\"outside\",\"zeroline\":false,\"zerolinecolor\":\"rgb(36,36,36)\"},\"yaxis\":{\"backgroundcolor\":\"white\",\"gridcolor\":\"rgb(232,232,232)\",\"gridwidth\":2,\"linecolor\":\"rgb(36,36,36)\",\"showbackground\":true,\"showgrid\":false,\"showline\":true,\"ticks\":\"outside\",\"zeroline\":false,\"zerolinecolor\":\"rgb(36,36,36)\"},\"zaxis\":{\"backgroundcolor\":\"white\",\"gridcolor\":\"rgb(232,232,232)\",\"gridwidth\":2,\"linecolor\":\"rgb(36,36,36)\",\"showbackground\":true,\"showgrid\":false,\"showline\":true,\"ticks\":\"outside\",\"zeroline\":false,\"zerolinecolor\":\"rgb(36,36,36)\"}},\"shapedefaults\":{\"fillcolor\":\"black\",\"line\":{\"width\":0},\"opacity\":0.3},\"ternary\":{\"aaxis\":{\"gridcolor\":\"rgb(232,232,232)\",\"linecolor\":\"rgb(36,36,36)\",\"showgrid\":false,\"showline\":true,\"ticks\":\"outside\"},\"baxis\":{\"gridcolor\":\"rgb(232,232,232)\",\"linecolor\":\"rgb(36,36,36)\",\"showgrid\":false,\"showline\":true,\"ticks\":\"outside\"},\"bgcolor\":\"white\",\"caxis\":{\"gridcolor\":\"rgb(232,232,232)\",\"linecolor\":\"rgb(36,36,36)\",\"showgrid\":false,\"showline\":true,\"ticks\":\"outside\"}},\"title\":{\"x\":0.05},\"xaxis\":{\"automargin\":true,\"gridcolor\":\"rgb(232,232,232)\",\"linecolor\":\"rgb(36,36,36)\",\"showgrid\":false,\"showline\":true,\"ticks\":\"outside\",\"title\":{\"standoff\":15},\"zeroline\":false,\"zerolinecolor\":\"rgb(36,36,36)\"},\"yaxis\":{\"automargin\":true,\"gridcolor\":\"rgb(232,232,232)\",\"linecolor\":\"rgb(36,36,36)\",\"showgrid\":false,\"showline\":true,\"ticks\":\"outside\",\"title\":{\"standoff\":15},\"zeroline\":false,\"zerolinecolor\":\"rgb(36,36,36)\"}}},\"xaxis\":{\"showgrid\":true},\"yaxis\":{\"showgrid\":true,\"title\":{\"text\":\"Count\"}},\"title\":{\"font\":{\"size\":22,\"color\":\"Black\"},\"text\":\"<b>Topics over Time\",\"y\":0.95,\"x\":0.4,\"xanchor\":\"center\",\"yanchor\":\"top\"},\"hoverlabel\":{\"font\":{\"size\":16,\"family\":\"Rockwell\"},\"bgcolor\":\"white\"},\"width\":1000,\"height\":500,\"legend\":{\"title\":{\"text\":\"<b>Global Topic Representation\"}}},                        {\"responsive\": true}                    ).then(function(){\n",
       "                            \n",
       "var gd = document.getElementById('24982cc2-eea5-4190-abbc-d631405aef7d');\n",
       "var x = new MutationObserver(function (mutations, observer) {{\n",
       "        var display = window.getComputedStyle(gd).display;\n",
       "        if (!display || display === 'none') {{\n",
       "            console.log([gd, 'removed!']);\n",
       "            Plotly.purge(gd);\n",
       "            observer.disconnect();\n",
       "        }}\n",
       "}});\n",
       "\n",
       "// Listen for the removal of the full notebook cells\n",
       "var notebookContainer = gd.closest('#notebook-container');\n",
       "if (notebookContainer) {{\n",
       "    x.observe(notebookContainer, {childList: true});\n",
       "}}\n",
       "\n",
       "// Listen for the clearing of the current output cell\n",
       "var outputEl = gd.closest('.output');\n",
       "if (outputEl) {{\n",
       "    x.observe(outputEl, {childList: true});\n",
       "}}\n",
       "\n",
       "                        })                };                });            </script>        </div>"
      ]
     },
     "metadata": {},
     "output_type": "display_data"
    }
   ],
   "source": [
    "henslow_vis_obj = bertopic_time(henslow_sent_df, topic_model)\n",
    "henslow_vis = henslow_vis_obj[0]\n",
    "henslow_vis"
   ]
  },
  {
   "cell_type": "markdown",
   "id": "d7af018d",
   "metadata": {},
   "source": [
    "Use year_counts and year_counts_plot functions to get a count of letters from Henslow in each year and visualise."
   ]
  },
  {
   "cell_type": "code",
   "execution_count": 23,
   "id": "2d7d493b",
   "metadata": {
    "scrolled": true
   },
   "outputs": [
    {
     "data": {
      "application/vnd.plotly.v1+json": {
       "config": {
        "plotlyServerURL": "https://plot.ly"
       },
       "data": [
        {
         "alignmentgroup": "True",
         "hovertemplate": "variable=0<br>Year=%{x}<br>Count=%{y}<extra></extra>",
         "legendgroup": "0",
         "marker": {
          "color": "#636efa",
          "pattern": {
           "shape": ""
          }
         },
         "name": "0",
         "offsetgroup": "0",
         "orientation": "v",
         "showlegend": true,
         "textposition": "auto",
         "type": "bar",
         "x": [
          1818,
          1819,
          1820,
          1821,
          1822,
          1823,
          1824,
          1825,
          1826,
          1827,
          1828,
          1829,
          1830,
          1831,
          1832,
          1833,
          1834,
          1835,
          1836,
          1837,
          1838,
          1839,
          1840,
          1841,
          1842,
          1843,
          1844,
          1845,
          1846,
          1847,
          1848,
          1849,
          1850,
          1851,
          1852,
          1853,
          1854,
          1855,
          1856,
          1857,
          1858,
          1859,
          1860,
          1861
         ],
         "xaxis": "x",
         "y": [
          1,
          1,
          3,
          3,
          1,
          4,
          1,
          4,
          8,
          3,
          4,
          2,
          4,
          7,
          7,
          10,
          9,
          1,
          4,
          2,
          2,
          6,
          16,
          1,
          2,
          8,
          8,
          11,
          6,
          7,
          14,
          14,
          15,
          9,
          9,
          10,
          16,
          7,
          7,
          6,
          6,
          9,
          15,
          3
         ],
         "yaxis": "y"
        }
       ],
       "layout": {
        "barmode": "relative",
        "legend": {
         "title": {
          "text": "variable"
         },
         "tracegroupgap": 0
        },
        "showlegend": false,
        "template": {
         "data": {
          "bar": [
           {
            "error_x": {
             "color": "#2a3f5f"
            },
            "error_y": {
             "color": "#2a3f5f"
            },
            "marker": {
             "line": {
              "color": "#E5ECF6",
              "width": 0.5
             },
             "pattern": {
              "fillmode": "overlay",
              "size": 10,
              "solidity": 0.2
             }
            },
            "type": "bar"
           }
          ],
          "barpolar": [
           {
            "marker": {
             "line": {
              "color": "#E5ECF6",
              "width": 0.5
             },
             "pattern": {
              "fillmode": "overlay",
              "size": 10,
              "solidity": 0.2
             }
            },
            "type": "barpolar"
           }
          ],
          "carpet": [
           {
            "aaxis": {
             "endlinecolor": "#2a3f5f",
             "gridcolor": "white",
             "linecolor": "white",
             "minorgridcolor": "white",
             "startlinecolor": "#2a3f5f"
            },
            "baxis": {
             "endlinecolor": "#2a3f5f",
             "gridcolor": "white",
             "linecolor": "white",
             "minorgridcolor": "white",
             "startlinecolor": "#2a3f5f"
            },
            "type": "carpet"
           }
          ],
          "choropleth": [
           {
            "colorbar": {
             "outlinewidth": 0,
             "ticks": ""
            },
            "type": "choropleth"
           }
          ],
          "contour": [
           {
            "colorbar": {
             "outlinewidth": 0,
             "ticks": ""
            },
            "colorscale": [
             [
              0,
              "#0d0887"
             ],
             [
              0.1111111111111111,
              "#46039f"
             ],
             [
              0.2222222222222222,
              "#7201a8"
             ],
             [
              0.3333333333333333,
              "#9c179e"
             ],
             [
              0.4444444444444444,
              "#bd3786"
             ],
             [
              0.5555555555555556,
              "#d8576b"
             ],
             [
              0.6666666666666666,
              "#ed7953"
             ],
             [
              0.7777777777777778,
              "#fb9f3a"
             ],
             [
              0.8888888888888888,
              "#fdca26"
             ],
             [
              1,
              "#f0f921"
             ]
            ],
            "type": "contour"
           }
          ],
          "contourcarpet": [
           {
            "colorbar": {
             "outlinewidth": 0,
             "ticks": ""
            },
            "type": "contourcarpet"
           }
          ],
          "heatmap": [
           {
            "colorbar": {
             "outlinewidth": 0,
             "ticks": ""
            },
            "colorscale": [
             [
              0,
              "#0d0887"
             ],
             [
              0.1111111111111111,
              "#46039f"
             ],
             [
              0.2222222222222222,
              "#7201a8"
             ],
             [
              0.3333333333333333,
              "#9c179e"
             ],
             [
              0.4444444444444444,
              "#bd3786"
             ],
             [
              0.5555555555555556,
              "#d8576b"
             ],
             [
              0.6666666666666666,
              "#ed7953"
             ],
             [
              0.7777777777777778,
              "#fb9f3a"
             ],
             [
              0.8888888888888888,
              "#fdca26"
             ],
             [
              1,
              "#f0f921"
             ]
            ],
            "type": "heatmap"
           }
          ],
          "heatmapgl": [
           {
            "colorbar": {
             "outlinewidth": 0,
             "ticks": ""
            },
            "colorscale": [
             [
              0,
              "#0d0887"
             ],
             [
              0.1111111111111111,
              "#46039f"
             ],
             [
              0.2222222222222222,
              "#7201a8"
             ],
             [
              0.3333333333333333,
              "#9c179e"
             ],
             [
              0.4444444444444444,
              "#bd3786"
             ],
             [
              0.5555555555555556,
              "#d8576b"
             ],
             [
              0.6666666666666666,
              "#ed7953"
             ],
             [
              0.7777777777777778,
              "#fb9f3a"
             ],
             [
              0.8888888888888888,
              "#fdca26"
             ],
             [
              1,
              "#f0f921"
             ]
            ],
            "type": "heatmapgl"
           }
          ],
          "histogram": [
           {
            "marker": {
             "pattern": {
              "fillmode": "overlay",
              "size": 10,
              "solidity": 0.2
             }
            },
            "type": "histogram"
           }
          ],
          "histogram2d": [
           {
            "colorbar": {
             "outlinewidth": 0,
             "ticks": ""
            },
            "colorscale": [
             [
              0,
              "#0d0887"
             ],
             [
              0.1111111111111111,
              "#46039f"
             ],
             [
              0.2222222222222222,
              "#7201a8"
             ],
             [
              0.3333333333333333,
              "#9c179e"
             ],
             [
              0.4444444444444444,
              "#bd3786"
             ],
             [
              0.5555555555555556,
              "#d8576b"
             ],
             [
              0.6666666666666666,
              "#ed7953"
             ],
             [
              0.7777777777777778,
              "#fb9f3a"
             ],
             [
              0.8888888888888888,
              "#fdca26"
             ],
             [
              1,
              "#f0f921"
             ]
            ],
            "type": "histogram2d"
           }
          ],
          "histogram2dcontour": [
           {
            "colorbar": {
             "outlinewidth": 0,
             "ticks": ""
            },
            "colorscale": [
             [
              0,
              "#0d0887"
             ],
             [
              0.1111111111111111,
              "#46039f"
             ],
             [
              0.2222222222222222,
              "#7201a8"
             ],
             [
              0.3333333333333333,
              "#9c179e"
             ],
             [
              0.4444444444444444,
              "#bd3786"
             ],
             [
              0.5555555555555556,
              "#d8576b"
             ],
             [
              0.6666666666666666,
              "#ed7953"
             ],
             [
              0.7777777777777778,
              "#fb9f3a"
             ],
             [
              0.8888888888888888,
              "#fdca26"
             ],
             [
              1,
              "#f0f921"
             ]
            ],
            "type": "histogram2dcontour"
           }
          ],
          "mesh3d": [
           {
            "colorbar": {
             "outlinewidth": 0,
             "ticks": ""
            },
            "type": "mesh3d"
           }
          ],
          "parcoords": [
           {
            "line": {
             "colorbar": {
              "outlinewidth": 0,
              "ticks": ""
             }
            },
            "type": "parcoords"
           }
          ],
          "pie": [
           {
            "automargin": true,
            "type": "pie"
           }
          ],
          "scatter": [
           {
            "fillpattern": {
             "fillmode": "overlay",
             "size": 10,
             "solidity": 0.2
            },
            "type": "scatter"
           }
          ],
          "scatter3d": [
           {
            "line": {
             "colorbar": {
              "outlinewidth": 0,
              "ticks": ""
             }
            },
            "marker": {
             "colorbar": {
              "outlinewidth": 0,
              "ticks": ""
             }
            },
            "type": "scatter3d"
           }
          ],
          "scattercarpet": [
           {
            "marker": {
             "colorbar": {
              "outlinewidth": 0,
              "ticks": ""
             }
            },
            "type": "scattercarpet"
           }
          ],
          "scattergeo": [
           {
            "marker": {
             "colorbar": {
              "outlinewidth": 0,
              "ticks": ""
             }
            },
            "type": "scattergeo"
           }
          ],
          "scattergl": [
           {
            "marker": {
             "colorbar": {
              "outlinewidth": 0,
              "ticks": ""
             }
            },
            "type": "scattergl"
           }
          ],
          "scattermapbox": [
           {
            "marker": {
             "colorbar": {
              "outlinewidth": 0,
              "ticks": ""
             }
            },
            "type": "scattermapbox"
           }
          ],
          "scatterpolar": [
           {
            "marker": {
             "colorbar": {
              "outlinewidth": 0,
              "ticks": ""
             }
            },
            "type": "scatterpolar"
           }
          ],
          "scatterpolargl": [
           {
            "marker": {
             "colorbar": {
              "outlinewidth": 0,
              "ticks": ""
             }
            },
            "type": "scatterpolargl"
           }
          ],
          "scatterternary": [
           {
            "marker": {
             "colorbar": {
              "outlinewidth": 0,
              "ticks": ""
             }
            },
            "type": "scatterternary"
           }
          ],
          "surface": [
           {
            "colorbar": {
             "outlinewidth": 0,
             "ticks": ""
            },
            "colorscale": [
             [
              0,
              "#0d0887"
             ],
             [
              0.1111111111111111,
              "#46039f"
             ],
             [
              0.2222222222222222,
              "#7201a8"
             ],
             [
              0.3333333333333333,
              "#9c179e"
             ],
             [
              0.4444444444444444,
              "#bd3786"
             ],
             [
              0.5555555555555556,
              "#d8576b"
             ],
             [
              0.6666666666666666,
              "#ed7953"
             ],
             [
              0.7777777777777778,
              "#fb9f3a"
             ],
             [
              0.8888888888888888,
              "#fdca26"
             ],
             [
              1,
              "#f0f921"
             ]
            ],
            "type": "surface"
           }
          ],
          "table": [
           {
            "cells": {
             "fill": {
              "color": "#EBF0F8"
             },
             "line": {
              "color": "white"
             }
            },
            "header": {
             "fill": {
              "color": "#C8D4E3"
             },
             "line": {
              "color": "white"
             }
            },
            "type": "table"
           }
          ]
         },
         "layout": {
          "annotationdefaults": {
           "arrowcolor": "#2a3f5f",
           "arrowhead": 0,
           "arrowwidth": 1
          },
          "autotypenumbers": "strict",
          "coloraxis": {
           "colorbar": {
            "outlinewidth": 0,
            "ticks": ""
           }
          },
          "colorscale": {
           "diverging": [
            [
             0,
             "#8e0152"
            ],
            [
             0.1,
             "#c51b7d"
            ],
            [
             0.2,
             "#de77ae"
            ],
            [
             0.3,
             "#f1b6da"
            ],
            [
             0.4,
             "#fde0ef"
            ],
            [
             0.5,
             "#f7f7f7"
            ],
            [
             0.6,
             "#e6f5d0"
            ],
            [
             0.7,
             "#b8e186"
            ],
            [
             0.8,
             "#7fbc41"
            ],
            [
             0.9,
             "#4d9221"
            ],
            [
             1,
             "#276419"
            ]
           ],
           "sequential": [
            [
             0,
             "#0d0887"
            ],
            [
             0.1111111111111111,
             "#46039f"
            ],
            [
             0.2222222222222222,
             "#7201a8"
            ],
            [
             0.3333333333333333,
             "#9c179e"
            ],
            [
             0.4444444444444444,
             "#bd3786"
            ],
            [
             0.5555555555555556,
             "#d8576b"
            ],
            [
             0.6666666666666666,
             "#ed7953"
            ],
            [
             0.7777777777777778,
             "#fb9f3a"
            ],
            [
             0.8888888888888888,
             "#fdca26"
            ],
            [
             1,
             "#f0f921"
            ]
           ],
           "sequentialminus": [
            [
             0,
             "#0d0887"
            ],
            [
             0.1111111111111111,
             "#46039f"
            ],
            [
             0.2222222222222222,
             "#7201a8"
            ],
            [
             0.3333333333333333,
             "#9c179e"
            ],
            [
             0.4444444444444444,
             "#bd3786"
            ],
            [
             0.5555555555555556,
             "#d8576b"
            ],
            [
             0.6666666666666666,
             "#ed7953"
            ],
            [
             0.7777777777777778,
             "#fb9f3a"
            ],
            [
             0.8888888888888888,
             "#fdca26"
            ],
            [
             1,
             "#f0f921"
            ]
           ]
          },
          "colorway": [
           "#636efa",
           "#EF553B",
           "#00cc96",
           "#ab63fa",
           "#FFA15A",
           "#19d3f3",
           "#FF6692",
           "#B6E880",
           "#FF97FF",
           "#FECB52"
          ],
          "font": {
           "color": "#2a3f5f"
          },
          "geo": {
           "bgcolor": "white",
           "lakecolor": "white",
           "landcolor": "#E5ECF6",
           "showlakes": true,
           "showland": true,
           "subunitcolor": "white"
          },
          "hoverlabel": {
           "align": "left"
          },
          "hovermode": "closest",
          "mapbox": {
           "style": "light"
          },
          "paper_bgcolor": "white",
          "plot_bgcolor": "#E5ECF6",
          "polar": {
           "angularaxis": {
            "gridcolor": "white",
            "linecolor": "white",
            "ticks": ""
           },
           "bgcolor": "#E5ECF6",
           "radialaxis": {
            "gridcolor": "white",
            "linecolor": "white",
            "ticks": ""
           }
          },
          "scene": {
           "xaxis": {
            "backgroundcolor": "#E5ECF6",
            "gridcolor": "white",
            "gridwidth": 2,
            "linecolor": "white",
            "showbackground": true,
            "ticks": "",
            "zerolinecolor": "white"
           },
           "yaxis": {
            "backgroundcolor": "#E5ECF6",
            "gridcolor": "white",
            "gridwidth": 2,
            "linecolor": "white",
            "showbackground": true,
            "ticks": "",
            "zerolinecolor": "white"
           },
           "zaxis": {
            "backgroundcolor": "#E5ECF6",
            "gridcolor": "white",
            "gridwidth": 2,
            "linecolor": "white",
            "showbackground": true,
            "ticks": "",
            "zerolinecolor": "white"
           }
          },
          "shapedefaults": {
           "line": {
            "color": "#2a3f5f"
           }
          },
          "ternary": {
           "aaxis": {
            "gridcolor": "white",
            "linecolor": "white",
            "ticks": ""
           },
           "baxis": {
            "gridcolor": "white",
            "linecolor": "white",
            "ticks": ""
           },
           "bgcolor": "#E5ECF6",
           "caxis": {
            "gridcolor": "white",
            "linecolor": "white",
            "ticks": ""
           }
          },
          "title": {
           "x": 0.05
          },
          "xaxis": {
           "automargin": true,
           "gridcolor": "white",
           "linecolor": "white",
           "ticks": "",
           "title": {
            "standoff": 15
           },
           "zerolinecolor": "white",
           "zerolinewidth": 2
          },
          "yaxis": {
           "automargin": true,
           "gridcolor": "white",
           "linecolor": "white",
           "ticks": "",
           "title": {
            "standoff": 15
           },
           "zerolinecolor": "white",
           "zerolinewidth": 2
          }
         }
        },
        "title": {
         "text": "Letter Count by Year"
        },
        "xaxis": {
         "anchor": "y",
         "domain": [
          0,
          1
         ],
         "title": {
          "text": "Year"
         }
        },
        "yaxis": {
         "anchor": "x",
         "domain": [
          0,
          1
         ],
         "title": {
          "text": "Count"
         }
        }
       }
      },
      "text/html": [
       "<div>                            <div id=\"7cf0c60b-0b56-4cdf-83a0-eb6767ac358b\" class=\"plotly-graph-div\" style=\"height:525px; width:100%;\"></div>            <script type=\"text/javascript\">                require([\"plotly\"], function(Plotly) {                    window.PLOTLYENV=window.PLOTLYENV || {};                                    if (document.getElementById(\"7cf0c60b-0b56-4cdf-83a0-eb6767ac358b\")) {                    Plotly.newPlot(                        \"7cf0c60b-0b56-4cdf-83a0-eb6767ac358b\",                        [{\"alignmentgroup\":\"True\",\"hovertemplate\":\"variable=0<br>Year=%{x}<br>Count=%{y}<extra></extra>\",\"legendgroup\":\"0\",\"marker\":{\"color\":\"#636efa\",\"pattern\":{\"shape\":\"\"}},\"name\":\"0\",\"offsetgroup\":\"0\",\"orientation\":\"v\",\"showlegend\":true,\"textposition\":\"auto\",\"x\":[1818,1819,1820,1821,1822,1823,1824,1825,1826,1827,1828,1829,1830,1831,1832,1833,1834,1835,1836,1837,1838,1839,1840,1841,1842,1843,1844,1845,1846,1847,1848,1849,1850,1851,1852,1853,1854,1855,1856,1857,1858,1859,1860,1861],\"xaxis\":\"x\",\"y\":[1,1,3,3,1,4,1,4,8,3,4,2,4,7,7,10,9,1,4,2,2,6,16,1,2,8,8,11,6,7,14,14,15,9,9,10,16,7,7,6,6,9,15,3],\"yaxis\":\"y\",\"type\":\"bar\"}],                        {\"template\":{\"data\":{\"histogram2dcontour\":[{\"type\":\"histogram2dcontour\",\"colorbar\":{\"outlinewidth\":0,\"ticks\":\"\"},\"colorscale\":[[0.0,\"#0d0887\"],[0.1111111111111111,\"#46039f\"],[0.2222222222222222,\"#7201a8\"],[0.3333333333333333,\"#9c179e\"],[0.4444444444444444,\"#bd3786\"],[0.5555555555555556,\"#d8576b\"],[0.6666666666666666,\"#ed7953\"],[0.7777777777777778,\"#fb9f3a\"],[0.8888888888888888,\"#fdca26\"],[1.0,\"#f0f921\"]]}],\"choropleth\":[{\"type\":\"choropleth\",\"colorbar\":{\"outlinewidth\":0,\"ticks\":\"\"}}],\"histogram2d\":[{\"type\":\"histogram2d\",\"colorbar\":{\"outlinewidth\":0,\"ticks\":\"\"},\"colorscale\":[[0.0,\"#0d0887\"],[0.1111111111111111,\"#46039f\"],[0.2222222222222222,\"#7201a8\"],[0.3333333333333333,\"#9c179e\"],[0.4444444444444444,\"#bd3786\"],[0.5555555555555556,\"#d8576b\"],[0.6666666666666666,\"#ed7953\"],[0.7777777777777778,\"#fb9f3a\"],[0.8888888888888888,\"#fdca26\"],[1.0,\"#f0f921\"]]}],\"heatmap\":[{\"type\":\"heatmap\",\"colorbar\":{\"outlinewidth\":0,\"ticks\":\"\"},\"colorscale\":[[0.0,\"#0d0887\"],[0.1111111111111111,\"#46039f\"],[0.2222222222222222,\"#7201a8\"],[0.3333333333333333,\"#9c179e\"],[0.4444444444444444,\"#bd3786\"],[0.5555555555555556,\"#d8576b\"],[0.6666666666666666,\"#ed7953\"],[0.7777777777777778,\"#fb9f3a\"],[0.8888888888888888,\"#fdca26\"],[1.0,\"#f0f921\"]]}],\"heatmapgl\":[{\"type\":\"heatmapgl\",\"colorbar\":{\"outlinewidth\":0,\"ticks\":\"\"},\"colorscale\":[[0.0,\"#0d0887\"],[0.1111111111111111,\"#46039f\"],[0.2222222222222222,\"#7201a8\"],[0.3333333333333333,\"#9c179e\"],[0.4444444444444444,\"#bd3786\"],[0.5555555555555556,\"#d8576b\"],[0.6666666666666666,\"#ed7953\"],[0.7777777777777778,\"#fb9f3a\"],[0.8888888888888888,\"#fdca26\"],[1.0,\"#f0f921\"]]}],\"contourcarpet\":[{\"type\":\"contourcarpet\",\"colorbar\":{\"outlinewidth\":0,\"ticks\":\"\"}}],\"contour\":[{\"type\":\"contour\",\"colorbar\":{\"outlinewidth\":0,\"ticks\":\"\"},\"colorscale\":[[0.0,\"#0d0887\"],[0.1111111111111111,\"#46039f\"],[0.2222222222222222,\"#7201a8\"],[0.3333333333333333,\"#9c179e\"],[0.4444444444444444,\"#bd3786\"],[0.5555555555555556,\"#d8576b\"],[0.6666666666666666,\"#ed7953\"],[0.7777777777777778,\"#fb9f3a\"],[0.8888888888888888,\"#fdca26\"],[1.0,\"#f0f921\"]]}],\"surface\":[{\"type\":\"surface\",\"colorbar\":{\"outlinewidth\":0,\"ticks\":\"\"},\"colorscale\":[[0.0,\"#0d0887\"],[0.1111111111111111,\"#46039f\"],[0.2222222222222222,\"#7201a8\"],[0.3333333333333333,\"#9c179e\"],[0.4444444444444444,\"#bd3786\"],[0.5555555555555556,\"#d8576b\"],[0.6666666666666666,\"#ed7953\"],[0.7777777777777778,\"#fb9f3a\"],[0.8888888888888888,\"#fdca26\"],[1.0,\"#f0f921\"]]}],\"mesh3d\":[{\"type\":\"mesh3d\",\"colorbar\":{\"outlinewidth\":0,\"ticks\":\"\"}}],\"scatter\":[{\"fillpattern\":{\"fillmode\":\"overlay\",\"size\":10,\"solidity\":0.2},\"type\":\"scatter\"}],\"parcoords\":[{\"type\":\"parcoords\",\"line\":{\"colorbar\":{\"outlinewidth\":0,\"ticks\":\"\"}}}],\"scatterpolargl\":[{\"type\":\"scatterpolargl\",\"marker\":{\"colorbar\":{\"outlinewidth\":0,\"ticks\":\"\"}}}],\"bar\":[{\"error_x\":{\"color\":\"#2a3f5f\"},\"error_y\":{\"color\":\"#2a3f5f\"},\"marker\":{\"line\":{\"color\":\"#E5ECF6\",\"width\":0.5},\"pattern\":{\"fillmode\":\"overlay\",\"size\":10,\"solidity\":0.2}},\"type\":\"bar\"}],\"scattergeo\":[{\"type\":\"scattergeo\",\"marker\":{\"colorbar\":{\"outlinewidth\":0,\"ticks\":\"\"}}}],\"scatterpolar\":[{\"type\":\"scatterpolar\",\"marker\":{\"colorbar\":{\"outlinewidth\":0,\"ticks\":\"\"}}}],\"histogram\":[{\"marker\":{\"pattern\":{\"fillmode\":\"overlay\",\"size\":10,\"solidity\":0.2}},\"type\":\"histogram\"}],\"scattergl\":[{\"type\":\"scattergl\",\"marker\":{\"colorbar\":{\"outlinewidth\":0,\"ticks\":\"\"}}}],\"scatter3d\":[{\"type\":\"scatter3d\",\"line\":{\"colorbar\":{\"outlinewidth\":0,\"ticks\":\"\"}},\"marker\":{\"colorbar\":{\"outlinewidth\":0,\"ticks\":\"\"}}}],\"scattermapbox\":[{\"type\":\"scattermapbox\",\"marker\":{\"colorbar\":{\"outlinewidth\":0,\"ticks\":\"\"}}}],\"scatterternary\":[{\"type\":\"scatterternary\",\"marker\":{\"colorbar\":{\"outlinewidth\":0,\"ticks\":\"\"}}}],\"scattercarpet\":[{\"type\":\"scattercarpet\",\"marker\":{\"colorbar\":{\"outlinewidth\":0,\"ticks\":\"\"}}}],\"carpet\":[{\"aaxis\":{\"endlinecolor\":\"#2a3f5f\",\"gridcolor\":\"white\",\"linecolor\":\"white\",\"minorgridcolor\":\"white\",\"startlinecolor\":\"#2a3f5f\"},\"baxis\":{\"endlinecolor\":\"#2a3f5f\",\"gridcolor\":\"white\",\"linecolor\":\"white\",\"minorgridcolor\":\"white\",\"startlinecolor\":\"#2a3f5f\"},\"type\":\"carpet\"}],\"table\":[{\"cells\":{\"fill\":{\"color\":\"#EBF0F8\"},\"line\":{\"color\":\"white\"}},\"header\":{\"fill\":{\"color\":\"#C8D4E3\"},\"line\":{\"color\":\"white\"}},\"type\":\"table\"}],\"barpolar\":[{\"marker\":{\"line\":{\"color\":\"#E5ECF6\",\"width\":0.5},\"pattern\":{\"fillmode\":\"overlay\",\"size\":10,\"solidity\":0.2}},\"type\":\"barpolar\"}],\"pie\":[{\"automargin\":true,\"type\":\"pie\"}]},\"layout\":{\"autotypenumbers\":\"strict\",\"colorway\":[\"#636efa\",\"#EF553B\",\"#00cc96\",\"#ab63fa\",\"#FFA15A\",\"#19d3f3\",\"#FF6692\",\"#B6E880\",\"#FF97FF\",\"#FECB52\"],\"font\":{\"color\":\"#2a3f5f\"},\"hovermode\":\"closest\",\"hoverlabel\":{\"align\":\"left\"},\"paper_bgcolor\":\"white\",\"plot_bgcolor\":\"#E5ECF6\",\"polar\":{\"bgcolor\":\"#E5ECF6\",\"angularaxis\":{\"gridcolor\":\"white\",\"linecolor\":\"white\",\"ticks\":\"\"},\"radialaxis\":{\"gridcolor\":\"white\",\"linecolor\":\"white\",\"ticks\":\"\"}},\"ternary\":{\"bgcolor\":\"#E5ECF6\",\"aaxis\":{\"gridcolor\":\"white\",\"linecolor\":\"white\",\"ticks\":\"\"},\"baxis\":{\"gridcolor\":\"white\",\"linecolor\":\"white\",\"ticks\":\"\"},\"caxis\":{\"gridcolor\":\"white\",\"linecolor\":\"white\",\"ticks\":\"\"}},\"coloraxis\":{\"colorbar\":{\"outlinewidth\":0,\"ticks\":\"\"}},\"colorscale\":{\"sequential\":[[0.0,\"#0d0887\"],[0.1111111111111111,\"#46039f\"],[0.2222222222222222,\"#7201a8\"],[0.3333333333333333,\"#9c179e\"],[0.4444444444444444,\"#bd3786\"],[0.5555555555555556,\"#d8576b\"],[0.6666666666666666,\"#ed7953\"],[0.7777777777777778,\"#fb9f3a\"],[0.8888888888888888,\"#fdca26\"],[1.0,\"#f0f921\"]],\"sequentialminus\":[[0.0,\"#0d0887\"],[0.1111111111111111,\"#46039f\"],[0.2222222222222222,\"#7201a8\"],[0.3333333333333333,\"#9c179e\"],[0.4444444444444444,\"#bd3786\"],[0.5555555555555556,\"#d8576b\"],[0.6666666666666666,\"#ed7953\"],[0.7777777777777778,\"#fb9f3a\"],[0.8888888888888888,\"#fdca26\"],[1.0,\"#f0f921\"]],\"diverging\":[[0,\"#8e0152\"],[0.1,\"#c51b7d\"],[0.2,\"#de77ae\"],[0.3,\"#f1b6da\"],[0.4,\"#fde0ef\"],[0.5,\"#f7f7f7\"],[0.6,\"#e6f5d0\"],[0.7,\"#b8e186\"],[0.8,\"#7fbc41\"],[0.9,\"#4d9221\"],[1,\"#276419\"]]},\"xaxis\":{\"gridcolor\":\"white\",\"linecolor\":\"white\",\"ticks\":\"\",\"title\":{\"standoff\":15},\"zerolinecolor\":\"white\",\"automargin\":true,\"zerolinewidth\":2},\"yaxis\":{\"gridcolor\":\"white\",\"linecolor\":\"white\",\"ticks\":\"\",\"title\":{\"standoff\":15},\"zerolinecolor\":\"white\",\"automargin\":true,\"zerolinewidth\":2},\"scene\":{\"xaxis\":{\"backgroundcolor\":\"#E5ECF6\",\"gridcolor\":\"white\",\"linecolor\":\"white\",\"showbackground\":true,\"ticks\":\"\",\"zerolinecolor\":\"white\",\"gridwidth\":2},\"yaxis\":{\"backgroundcolor\":\"#E5ECF6\",\"gridcolor\":\"white\",\"linecolor\":\"white\",\"showbackground\":true,\"ticks\":\"\",\"zerolinecolor\":\"white\",\"gridwidth\":2},\"zaxis\":{\"backgroundcolor\":\"#E5ECF6\",\"gridcolor\":\"white\",\"linecolor\":\"white\",\"showbackground\":true,\"ticks\":\"\",\"zerolinecolor\":\"white\",\"gridwidth\":2}},\"shapedefaults\":{\"line\":{\"color\":\"#2a3f5f\"}},\"annotationdefaults\":{\"arrowcolor\":\"#2a3f5f\",\"arrowhead\":0,\"arrowwidth\":1},\"geo\":{\"bgcolor\":\"white\",\"landcolor\":\"#E5ECF6\",\"subunitcolor\":\"white\",\"showland\":true,\"showlakes\":true,\"lakecolor\":\"white\"},\"title\":{\"x\":0.05},\"mapbox\":{\"style\":\"light\"}}},\"xaxis\":{\"anchor\":\"y\",\"domain\":[0.0,1.0],\"title\":{\"text\":\"Year\"}},\"yaxis\":{\"anchor\":\"x\",\"domain\":[0.0,1.0],\"title\":{\"text\":\"Count\"}},\"legend\":{\"title\":{\"text\":\"variable\"},\"tracegroupgap\":0},\"title\":{\"text\":\"Letter Count by Year\"},\"barmode\":\"relative\",\"showlegend\":false},                        {\"responsive\": true}                    ).then(function(){\n",
       "                            \n",
       "var gd = document.getElementById('7cf0c60b-0b56-4cdf-83a0-eb6767ac358b');\n",
       "var x = new MutationObserver(function (mutations, observer) {{\n",
       "        var display = window.getComputedStyle(gd).display;\n",
       "        if (!display || display === 'none') {{\n",
       "            console.log([gd, 'removed!']);\n",
       "            Plotly.purge(gd);\n",
       "            observer.disconnect();\n",
       "        }}\n",
       "}});\n",
       "\n",
       "// Listen for the removal of the full notebook cells\n",
       "var notebookContainer = gd.closest('#notebook-container');\n",
       "if (notebookContainer) {{\n",
       "    x.observe(notebookContainer, {childList: true});\n",
       "}}\n",
       "\n",
       "// Listen for the clearing of the current output cell\n",
       "var outputEl = gd.closest('.output');\n",
       "if (outputEl) {{\n",
       "    x.observe(outputEl, {childList: true});\n",
       "}}\n",
       "\n",
       "                        })                };                });            </script>        </div>"
      ]
     },
     "metadata": {},
     "output_type": "display_data"
    }
   ],
   "source": [
    "year_counts_henslow = year_counts(henslow_df)\n",
    "letter_nums_hen = year_counts_plot(year_counts_henslow)\n",
    "letter_nums_hen"
   ]
  },
  {
   "cell_type": "markdown",
   "id": "347acabd",
   "metadata": {},
   "source": [
    "Create visualisation of topics over time for letters sent to Henslow using bertopic_time function."
   ]
  },
  {
   "cell_type": "code",
   "execution_count": 24,
   "id": "243b9f5e",
   "metadata": {
    "scrolled": false
   },
   "outputs": [
    {
     "data": {
      "application/vnd.plotly.v1+json": {
       "config": {
        "plotlyServerURL": "https://plot.ly"
       },
       "data": [
        {
         "hoverinfo": "text",
         "hovertext": [
          "<b>Topic 0</b><br>Words: mot, carypohyllea, pentacrinitis, tubipore, pt",
          "<b>Topic 0</b><br>Words: maritima, flower, plant, brittanica, octobre",
          "<b>Topic 0</b><br>Words: brother, plant, bristol, jany, county",
          "<b>Topic 0</b><br>Words: plant, herbarium, flora, campanula, palustris",
          "<b>Topic 0</b><br>Words: arvensis, plant, fruit, vulgaris, palustris",
          "<b>Topic 0</b><br>Words: plant, book, crossed_pencil, flower, herbarium",
          "<b>Topic 0</b><br>Words: flora, roy, fitz, capt, agent",
          "<b>Topic 0</b><br>Words: cavendish, square, dion, havell, margaret",
          "<b>Topic 0</b><br>Words: alpinus, favor, honorarium, skiopus, melasoma",
          "<b>Topic 0</b><br>Words: seed, plant, presume, dust, grandiflora",
          "<b>Topic 0</b><br>Words: torrey, british_association, flora, princeton, dublin",
          "<b>Topic 0</b><br>Words: salt, field, appearance, publication, ripewode",
          "<b>Topic 0</b><br>Words: cowslip, coleman, polyanthu, williams, brit",
          "<b>Topic 0</b><br>Words: campbell, conifer, guildford, scott, bernard",
          "<b>Topic 0</b><br>Words: hampton, butter, ipswich, middlesex, museum",
          "<b>Topic 0</b><br>Words: moseley, henry, museum, ipswich, dine",
          "<b>Topic 0</b><br>Words: museum, ipswich, alton, paper, hereford",
          "<b>Topic 0</b><br>Words: museum, betchworth, paper, town, london",
          "<b>Topic 0</b><br>Words: dublin, kensington, museum, book, daughter",
          "<b>Topic 0</b><br>Words: louisa, museum, sister, british, amy"
         ],
         "marker": {
          "color": "#E69F00"
         },
         "mode": "markers",
         "name": "0_plant_museum_flora_book",
         "type": "scatter",
         "x": [
          "1820-04-09T00:53:16.800000",
          "1822-05-12T03:36:00",
          "1824-05-29T07:12:00",
          "1826-06-16T10:48:00",
          "1828-07-03T14:24:00",
          "1830-07-21T18:00:00",
          "1832-08-07T21:36:00",
          "1834-08-26T01:12:00",
          "1836-09-12T04:48:00",
          "1838-09-30T08:24:00",
          "1840-10-17T12:00:00",
          "1842-11-04T15:36:00",
          "1844-11-21T19:12:00",
          "1846-12-09T22:48:00",
          "1848-12-27T02:24:00",
          "1851-01-14T06:00:00",
          "1853-01-31T09:36:00",
          "1855-02-18T13:12:00",
          "1857-03-07T16:48:00",
          "1859-03-25T20:24:00"
         ],
         "y": [
          8,
          15,
          131,
          108,
          177,
          184,
          21,
          9,
          11,
          32,
          32,
          24,
          26,
          11,
          38,
          25,
          49,
          87,
          70,
          62
         ]
        },
        {
         "hoverinfo": "text",
         "hovertext": [
          "<b>Topic 3</b><br>Words: crystal, iron, lime, alumina, acid",
          "<b>Topic 3</b><br>Words: pencil, lime, flint, acid, iron",
          "<b>Topic 3</b><br>Words: pencil, vinegar, tincture, rust, cavern",
          "<b>Topic 3</b><br>Words: lime, oxide, iron_alumina, chalk, essex",
          "<b>Topic 3</b><br>Words: prospecti, siemile, gracedieu, slake, slate",
          "<b>Topic 3</b><br>Words: limestone, river, precipice, swale, scar",
          "<b>Topic 3</b><br>Words: diluvium, clay, flint, cylinder, chalk",
          "<b>Topic 3</b><br>Words: pencil, ink, underl, quotation, iris",
          "<b>Topic 3</b><br>Words: band, sandstone, tree, shale, section",
          "<b>Topic 3</b><br>Words: flint, tooth, bone, ball, phosphorus",
          "<b>Topic 3</b><br>Words: adhere, atum, acid, carbonate, chalk",
          "<b>Topic 3</b><br>Words: lime, acid, silica, iron, water",
          "<b>Topic 3</b><br>Words: oxide, gas, mineral, chalk, depth",
          "<b>Topic 3</b><br>Words: iron, fire, acid, nodule, coprolite",
          "<b>Topic 3</b><br>Words: foot, gault, sand, rock, slaty",
          "<b>Topic 3</b><br>Words: flint, spot, unmade, willeg, manufactory"
         ],
         "marker": {
          "color": "#56B4E9"
         },
         "mode": "markers",
         "name": "3_lime_pencil_flint_acid",
         "type": "scatter",
         "x": [
          "1820-04-09T00:53:16.800000",
          "1822-05-12T03:36:00",
          "1824-05-29T07:12:00",
          "1826-06-16T10:48:00",
          "1828-07-03T14:24:00",
          "1830-07-21T18:00:00",
          "1832-08-07T21:36:00",
          "1838-09-30T08:24:00",
          "1840-10-17T12:00:00",
          "1844-11-21T19:12:00",
          "1848-12-27T02:24:00",
          "1851-01-14T06:00:00",
          "1853-01-31T09:36:00",
          "1855-02-18T13:12:00",
          "1857-03-07T16:48:00",
          "1859-03-25T20:24:00"
         ],
         "y": [
          12,
          1,
          7,
          9,
          3,
          3,
          7,
          17,
          7,
          11,
          7,
          18,
          6,
          9,
          3,
          5
         ]
        },
        {
         "hoverinfo": "text",
         "hovertext": [
          "<b>Topic 8</b><br>Words: parcell, mead, lambeth, fossils, help",
          "<b>Topic 8</b><br>Words: premium, singular, mineralogist, fossils, norway",
          "<b>Topic 8</b><br>Words: tusk, fossil, tender, curve, circumference",
          "<b>Topic 8</b><br>Words: boast, madrid, part, skeleton, bone",
          "<b>Topic 8</b><br>Words: bone, armour, profs, weiss, armadillo",
          "<b>Topic 8</b><br>Words: fossil, anstice, fossils, calamite, asterophyllite",
          "<b>Topic 8</b><br>Words: fossil, si, livraison, doute, nai",
          "<b>Topic 8</b><br>Words: fossil, parkinson, prove, mentioning, pr",
          "<b>Topic 8</b><br>Words: daguerreotypes, maguire, reptile, dover, decision",
          "<b>Topic 8</b><br>Words: fossil, miocene, pliocene, coraline, crag",
          "<b>Topic 8</b><br>Words: fossil, metropolis, inclination, pal, naming",
          "<b>Topic 8</b><br>Words: fossil, skull, breed, limb, skeleton",
          "<b>Topic 8</b><br>Words: fossil, geologist, bone, tertiary, suture",
          "<b>Topic 8</b><br>Words: fossil, celt, crag, step, descendant"
         ],
         "marker": {
          "color": "#009E73"
         },
         "mode": "markers",
         "name": "8_fossil_bone_skull_crag",
         "type": "scatter",
         "x": [
          "1820-04-09T00:53:16.800000",
          "1826-06-16T10:48:00",
          "1830-07-21T18:00:00",
          "1832-08-07T21:36:00",
          "1834-08-26T01:12:00",
          "1838-09-30T08:24:00",
          "1840-10-17T12:00:00",
          "1844-11-21T19:12:00",
          "1848-12-27T02:24:00",
          "1851-01-14T06:00:00",
          "1853-01-31T09:36:00",
          "1855-02-18T13:12:00",
          "1857-03-07T16:48:00",
          "1859-03-25T20:24:00"
         ],
         "y": [
          2,
          1,
          3,
          1,
          1,
          14,
          7,
          4,
          2,
          8,
          7,
          9,
          9,
          8
         ]
        },
        {
         "hoverinfo": "text",
         "hovertext": [
          "<b>Topic 11</b><br>Words: stria, thready, productus, one, noctua",
          "<b>Topic 11</b><br>Words: schoenu, pandora, pola, arenarias, bingleii",
          "<b>Topic 11</b><br>Words: boarula, verde, coton, animaux, sano",
          "<b>Topic 11</b><br>Words: noctua, nigrican, ulmata, laniea, loki",
          "<b>Topic 11</b><br>Words: wensly, fls, mixta, myrtus, sterculia",
          "<b>Topic 11</b><br>Words: commander, dalhousie, chief, india, noctua",
          "<b>Topic 11</b><br>Words: stigmaria, noctua, cineraria, cape, potamogeton",
          "<b>Topic 11</b><br>Words: neuropteris, dubia, noctua, cineraria, cape",
          "<b>Topic 11</b><br>Words: truncata, periculo, meo, noctua, cineraria",
          "<b>Topic 11</b><br>Words: carniv, cat, noctua, cineraria, potamogeton",
          "<b>Topic 11</b><br>Words: pavia, catalpa, parviflora, abundant, christ",
          "<b>Topic 11</b><br>Words: psammobia, rudis, nucula, eupithecia, lucia"
         ],
         "marker": {
          "color": "#F0E442"
         },
         "mode": "markers",
         "name": "11_noctua_cineraria_cape_potamogeton",
         "type": "scatter",
         "x": [
          "1820-04-09T00:53:16.800000",
          "1824-05-29T07:12:00",
          "1826-06-16T10:48:00",
          "1828-07-03T14:24:00",
          "1830-07-21T18:00:00",
          "1832-08-07T21:36:00",
          "1838-09-30T08:24:00",
          "1840-10-17T12:00:00",
          "1848-12-27T02:24:00",
          "1855-02-18T13:12:00",
          "1857-03-07T16:48:00",
          "1859-03-25T20:24:00"
         ],
         "y": [
          1,
          9,
          10,
          20,
          11,
          1,
          1,
          2,
          2,
          1,
          1,
          4
         ]
        },
        {
         "hoverinfo": "text",
         "hovertext": [
          "<b>Topic 14</b><br>Words: insert, goodness, specimen, manner, result",
          "<b>Topic 14</b><br>Words: one, specimen, microscope, subscription, description",
          "<b>Topic 14</b><br>Words: side, specimen, microscope, subscription, description",
          "<b>Topic 14</b><br>Words: specimen, subscription, cape, remit, mineralogist",
          "<b>Topic 14</b><br>Words: specimen, ejection, wet, autograph, palust",
          "<b>Topic 14</b><br>Words: specimen, hort, decay, uninteresting, chile",
          "<b>Topic 14</b><br>Words: specimen, retracing, ensure, value, consulting",
          "<b>Topic 14</b><br>Words: microscope, opake, strand, sic, inform",
          "<b>Topic 14</b><br>Words: attemp, snake, alligator, specimen, procure",
          "<b>Topic 14</b><br>Words: specimen, break, sacrifice, determination, permission",
          "<b>Topic 14</b><br>Words: method, specimen, illustration, hitherto, description",
          "<b>Topic 14</b><br>Words: specimen, keep, swallow, nest, choice",
          "<b>Topic 14</b><br>Words: specimen, ashburton, schoolmaster, dioscorea, batata",
          "<b>Topic 14</b><br>Words: specimen, judge, supply, desire, information",
          "<b>Topic 14</b><br>Words: specimen, collecting, charlesworth, edw, estimate"
         ],
         "marker": {
          "color": "#D55E00"
         },
         "mode": "markers",
         "name": "14_specimen_microscope_subscription_desc...",
         "type": "scatter",
         "x": [
          "1820-04-09T00:53:16.800000",
          "1822-05-12T03:36:00",
          "1824-05-29T07:12:00",
          "1826-06-16T10:48:00",
          "1828-07-03T14:24:00",
          "1830-07-21T18:00:00",
          "1832-08-07T21:36:00",
          "1838-09-30T08:24:00",
          "1840-10-17T12:00:00",
          "1844-11-21T19:12:00",
          "1851-01-14T06:00:00",
          "1853-01-31T09:36:00",
          "1855-02-18T13:12:00",
          "1857-03-07T16:48:00",
          "1859-03-25T20:24:00"
         ],
         "y": [
          1,
          1,
          1,
          8,
          10,
          12,
          5,
          2,
          1,
          1,
          3,
          2,
          4,
          2,
          2
         ]
        },
        {
         "hoverinfo": "text",
         "hovertext": [
          "<b>Topic 1</b><br>Words: jn, confer, certainty, curacy, title",
          "<b>Topic 1</b><br>Words: vote, election, promise, voter, number",
          "<b>Topic 1</b><br>Words: voter, interest, result, vote, expense",
          "<b>Topic 1</b><br>Words: attention, maderensis, inference, supply, reason",
          "<b>Topic 1</b><br>Words: attention, tyro, supreme, admired, convergent",
          "<b>Topic 1</b><br>Words: secret, stump, persuasion, nexus, cohort",
          "<b>Topic 1</b><br>Words: review, treatise, approbation, sentiment, jardine",
          "<b>Topic 1</b><br>Words: carrying, chemistry, sentiment, suggestion, mind",
          "<b>Topic 1</b><br>Words: reproduction, correctness, certainty, experience, article",
          "<b>Topic 1</b><br>Words: intermittent, entail, forget, selbourne, paragraph",
          "<b>Topic 1</b><br>Words: imagination, election, vote, interest, voter",
          "<b>Topic 1</b><br>Words: interest, fulfilment, xvii, endorser, walkover",
          "<b>Topic 1</b><br>Words: plan, measure, naturalist, request, year",
          "<b>Topic 1</b><br>Words: draft, certainty, election, suggestion, toleration",
          "<b>Topic 1</b><br>Words: thought, interest, draft, certainty, future",
          "<b>Topic 1</b><br>Words: cabinet, interest, kewian, amore, hull",
          "<b>Topic 1</b><br>Words: interest, plan, edit, mind, attention",
          "<b>Topic 1</b><br>Words: candid, revise, cheer, interest, persevere",
          "<b>Topic 1</b><br>Words: plan, favour, elections, reasoning, avidity"
         ],
         "marker": {
          "color": "#0072B2"
         },
         "mode": "markers",
         "name": "1_election_vote_interest_voter",
         "type": "scatter",
         "x": [
          "1822-05-12T03:36:00",
          "1824-05-29T07:12:00",
          "1826-06-16T10:48:00",
          "1828-07-03T14:24:00",
          "1830-07-21T18:00:00",
          "1832-08-07T21:36:00",
          "1834-08-26T01:12:00",
          "1836-09-12T04:48:00",
          "1838-09-30T08:24:00",
          "1840-10-17T12:00:00",
          "1842-11-04T15:36:00",
          "1844-11-21T19:12:00",
          "1846-12-09T22:48:00",
          "1848-12-27T02:24:00",
          "1851-01-14T06:00:00",
          "1853-01-31T09:36:00",
          "1855-02-18T13:12:00",
          "1857-03-07T16:48:00",
          "1859-03-25T20:24:00"
         ],
         "y": [
          4,
          89,
          23,
          14,
          16,
          7,
          3,
          5,
          5,
          9,
          1,
          8,
          2,
          17,
          10,
          11,
          20,
          11,
          13
         ]
        },
        {
         "hoverinfo": "text",
         "hovertext": [
          "<b>Topic 2</b><br>Words: llm, martyn, bankes, professor, john",
          "<b>Topic 2</b><br>Words: university, professor, parliament, endeavour, professorship",
          "<b>Topic 2</b><br>Words: lecture, professor, course, college, bachelorship",
          "<b>Topic 2</b><br>Words: professor, university, gace, theyit, broussonet",
          "<b>Topic 2</b><br>Words: professor, sedgwick, death, tynemouth, tempt",
          "<b>Topic 2</b><br>Words: agardh, professorship, introduction, support, oxford",
          "<b>Topic 2</b><br>Words: encouraging, simeon, royston, zeal, compliment",
          "<b>Topic 2</b><br>Words: drudgery, prosperity, operative, organ, resource",
          "<b>Topic 2</b><br>Words: politic, lieu, savile, college, professor",
          "<b>Topic 2</b><br>Words: examiner, anatomy, institution, physiology, occuping",
          "<b>Topic 2</b><br>Words: loudon, professor, jager, electricity, orleans",
          "<b>Topic 2</b><br>Words: professor, mtter, flagelhurst, willis, warburton",
          "<b>Topic 2</b><br>Words: queen, commissioner, university, reform, egg",
          "<b>Topic 2</b><br>Words: professor, university, boy, president, secretary",
          "<b>Topic 2</b><br>Words: royle, result, ashamed, interview, exam",
          "<b>Topic 2</b><br>Words: examination, lecture, professor, school, currey",
          "<b>Topic 2</b><br>Words: lecture, professor, university, examination, office",
          "<b>Topic 2</b><br>Words: examination, certificate, professor, university, london_burlington",
          "<b>Topic 2</b><br>Words: examiner, university, examination, london_burlington, lecture"
         ],
         "marker": {
          "color": "#CC79A7"
         },
         "mode": "markers",
         "name": "2_professor_university_lecture_examinati...",
         "type": "scatter",
         "x": [
          "1822-05-12T03:36:00",
          "1824-05-29T07:12:00",
          "1826-06-16T10:48:00",
          "1828-07-03T14:24:00",
          "1830-07-21T18:00:00",
          "1832-08-07T21:36:00",
          "1834-08-26T01:12:00",
          "1836-09-12T04:48:00",
          "1838-09-30T08:24:00",
          "1840-10-17T12:00:00",
          "1842-11-04T15:36:00",
          "1844-11-21T19:12:00",
          "1846-12-09T22:48:00",
          "1848-12-27T02:24:00",
          "1851-01-14T06:00:00",
          "1853-01-31T09:36:00",
          "1855-02-18T13:12:00",
          "1857-03-07T16:48:00",
          "1859-03-25T20:24:00"
         ],
         "y": [
          2,
          20,
          20,
          10,
          14,
          2,
          2,
          2,
          4,
          6,
          4,
          7,
          4,
          11,
          4,
          16,
          39,
          23,
          31
         ]
        },
        {
         "hoverinfo": "text",
         "hovertext": [
          "<b>Topic 6</b><br>Words: huntley, duke, gardener, figure, dr",
          "<b>Topic 6</b><br>Words: botany, botanyhowever, succeed, fail, opponent",
          "<b>Topic 6</b><br>Words: botany, botanist, anatomy, physiology, intersperse",
          "<b>Topic 6</b><br>Words: botany, botanist, reekie, prose, poetry",
          "<b>Topic 6</b><br>Words: botany, botanist, science, diffusion, encyclopedia",
          "<b>Topic 6</b><br>Words: botany, writer, botanist, rate, renner",
          "<b>Topic 6</b><br>Words: finsbury, promoter, diffusion, mechanic, rice",
          "<b>Topic 6</b><br>Words: hospital, hildyard, practice, botany, time",
          "<b>Topic 6</b><br>Words: rachis, development, pinnae, ferns, process",
          "<b>Topic 6</b><br>Words: remedy, pity, kind, botany, direction",
          "<b>Topic 6</b><br>Words: precaution, faith, trial, botanist, change",
          "<b>Topic 6</b><br>Words: botany, sykes, propose, recommendation, col",
          "<b>Topic 6</b><br>Words: botany, gardeners_chronicle, chronicle, gardener, botanist",
          "<b>Topic 6</b><br>Words: botany, enquiry, payer, botanist, child",
          "<b>Topic 6</b><br>Words: botany, curriculum, chemistry, ignorance, blunder"
         ],
         "marker": {
          "color": "#E69F00"
         },
         "mode": "markers",
         "name": "6_botany_botanist_gardener_gardeners_chr...",
         "type": "scatter",
         "x": [
          "1822-05-12T03:36:00",
          "1824-05-29T07:12:00",
          "1826-06-16T10:48:00",
          "1828-07-03T14:24:00",
          "1830-07-21T18:00:00",
          "1832-08-07T21:36:00",
          "1834-08-26T01:12:00",
          "1836-09-12T04:48:00",
          "1838-09-30T08:24:00",
          "1840-10-17T12:00:00",
          "1846-12-09T22:48:00",
          "1851-01-14T06:00:00",
          "1855-02-18T13:12:00",
          "1857-03-07T16:48:00",
          "1859-03-25T20:24:00"
         ],
         "y": [
          1,
          4,
          9,
          17,
          12,
          5,
          1,
          1,
          1,
          1,
          1,
          3,
          13,
          6,
          6
         ]
        },
        {
         "hoverinfo": "text",
         "hovertext": [
          "<b>Topic 4</b><br>Words: receipt, addition, hamilton, quarterly, unit",
          "<b>Topic 4</b><br>Words: calculate, dividend, steudel, number, copy",
          "<b>Topic 4</b><br>Words: balance, mougeot, owe, price, deduct",
          "<b>Topic 4</b><br>Words: debt, bill, number, note, sum",
          "<b>Topic 4</b><br>Words: remittance, stamp, pound, receipt, subscriber",
          "<b>Topic 4</b><br>Words: acquit, returning, roget, debt, marsh",
          "<b>Topic 4</b><br>Words: copy, clark, payment, grant, distribution",
          "<b>Topic 4</b><br>Words: pop, noterity, compiler, copy, work",
          "<b>Topic 4</b><br>Words: note, loan, pound, african, ambigua",
          "<b>Topic 4</b><br>Words: trouble, strike, editor, sum, improvement",
          "<b>Topic 4</b><br>Words: sum, equation, moving, tiding, signature",
          "<b>Topic 4</b><br>Words: note, price, objection, handed, copy",
          "<b>Topic 4</b><br>Words: sum, amount, daguerrotype, note, donor",
          "<b>Topic 4</b><br>Words: price, copy, value, cost, amount",
          "<b>Topic 4</b><br>Words: copy, debt, number, cost, account",
          "<b>Topic 4</b><br>Words: receipt, sticker, machinery, annoyance, signature"
         ],
         "marker": {
          "color": "#56B4E9"
         },
         "mode": "markers",
         "name": "4_copy_receipt_note_sum",
         "type": "scatter",
         "x": [
          "1824-05-29T07:12:00",
          "1826-06-16T10:48:00",
          "1828-07-03T14:24:00",
          "1830-07-21T18:00:00",
          "1834-08-26T01:12:00",
          "1836-09-12T04:48:00",
          "1838-09-30T08:24:00",
          "1840-10-17T12:00:00",
          "1844-11-21T19:12:00",
          "1846-12-09T22:48:00",
          "1848-12-27T02:24:00",
          "1851-01-14T06:00:00",
          "1853-01-31T09:36:00",
          "1855-02-18T13:12:00",
          "1857-03-07T16:48:00",
          "1859-03-25T20:24:00"
         ],
         "y": [
          9,
          5,
          12,
          20,
          2,
          2,
          3,
          3,
          8,
          2,
          5,
          7,
          8,
          15,
          16,
          6
         ]
        },
        {
         "hoverinfo": "text",
         "hovertext": [
          "<b>Topic 5</b><br>Words: weather, wind, summer, breath, conocephali",
          "<b>Topic 5</b><br>Words: weather, wind, autumn, winter, spring",
          "<b>Topic 5</b><br>Words: season, autumn, ber, rain, excursion",
          "<b>Topic 5</b><br>Words: summer, expedition, weather, season, desiderata",
          "<b>Topic 5</b><br>Words: pump, temperature, pipe, weymouth, air",
          "<b>Topic 5</b><br>Words: autumn, vacation, advance, rd, district",
          "<b>Topic 5</b><br>Words: agency, student, distance, institution, summer",
          "<b>Topic 5</b><br>Words: moisture, layer, season, process, air",
          "<b>Topic 5</b><br>Words: candlelight, uncivil, plead, inflammation, load",
          "<b>Topic 5</b><br>Words: promising, season, one, weather, bath",
          "<b>Topic 5</b><br>Words: daguerreotype, clk, temper, catch, distemper",
          "<b>Topic 5</b><br>Words: fort, fortune, join, expedition, excursion",
          "<b>Topic 5</b><br>Words: backache, winter, metropolitana, shower, meteorite",
          "<b>Topic 5</b><br>Words: excursion, weather, wind, season, fund",
          "<b>Topic 5</b><br>Words: weather, meteorology, bath, camb_sh, climate",
          "<b>Topic 5</b><br>Words: bath, weather, excursionizing, summer, punctatus"
         ],
         "marker": {
          "color": "#009E73"
         },
         "mode": "markers",
         "name": "5_weather_season_bath_excursion",
         "type": "scatter",
         "x": [
          "1824-05-29T07:12:00",
          "1826-06-16T10:48:00",
          "1828-07-03T14:24:00",
          "1830-07-21T18:00:00",
          "1832-08-07T21:36:00",
          "1834-08-26T01:12:00",
          "1838-09-30T08:24:00",
          "1840-10-17T12:00:00",
          "1842-11-04T15:36:00",
          "1846-12-09T22:48:00",
          "1848-12-27T02:24:00",
          "1851-01-14T06:00:00",
          "1853-01-31T09:36:00",
          "1855-02-18T13:12:00",
          "1857-03-07T16:48:00",
          "1859-03-25T20:24:00"
         ],
         "y": [
          6,
          12,
          17,
          9,
          3,
          2,
          1,
          4,
          2,
          1,
          4,
          2,
          4,
          10,
          21,
          8
         ]
        },
        {
         "hoverinfo": "text",
         "hovertext": [
          "<b>Topic 7</b><br>Words: insect, larvae, scotland, bombyx, geom",
          "<b>Topic 7</b><br>Words: insect, mollusca, obligation, shrike, insectivori",
          "<b>Topic 7</b><br>Words: insect, entomology, yorkshire, larva, length",
          "<b>Topic 7</b><br>Words: insect, shrubby, valdivia, mat, shark",
          "<b>Topic 7</b><br>Words: anatomie, mollusque, obtain, suggestion, insect",
          "<b>Topic 7</b><br>Words: quadruped, quarter, insect, entomology, entomologist",
          "<b>Topic 7</b><br>Words: insect, entomology, collector, scotch, gentleman",
          "<b>Topic 7</b><br>Words: hawthorne, entomology, permit, accompany, wood",
          "<b>Topic 7</b><br>Words: wasp, turpentine, newspaper, spirit, insect",
          "<b>Topic 7</b><br>Words: insect, aphid, bean, egg, beam",
          "<b>Topic 7</b><br>Words: insect, diptera, entomologist, dog, fauna",
          "<b>Topic 7</b><br>Words: insect, wandering, christmas, accident, continent",
          "<b>Topic 7</b><br>Words: sessile, annelide, diptera, philo, crustacea",
          "<b>Topic 7</b><br>Words: insect, crustacea, westwood, entomologist, insecta",
          "<b>Topic 7</b><br>Words: insect, entomology, cromwell, privy, feeding",
          "<b>Topic 7</b><br>Words: insect, nepticula, entomologist, larva, entomology"
         ],
         "marker": {
          "color": "#F0E442"
         },
         "mode": "markers",
         "name": "7_insect_entomology_entomologist_larvae",
         "type": "scatter",
         "x": [
          "1824-05-29T07:12:00",
          "1826-06-16T10:48:00",
          "1828-07-03T14:24:00",
          "1830-07-21T18:00:00",
          "1832-08-07T21:36:00",
          "1834-08-26T01:12:00",
          "1836-09-12T04:48:00",
          "1838-09-30T08:24:00",
          "1842-11-04T15:36:00",
          "1846-12-09T22:48:00",
          "1848-12-27T02:24:00",
          "1851-01-14T06:00:00",
          "1853-01-31T09:36:00",
          "1855-02-18T13:12:00",
          "1857-03-07T16:48:00",
          "1859-03-25T20:24:00"
         ],
         "y": [
          11,
          6,
          14,
          4,
          1,
          1,
          3,
          1,
          1,
          6,
          6,
          2,
          2,
          11,
          4,
          7
         ]
        },
        {
         "hoverinfo": "text",
         "hovertext": [
          "<b>Topic 9</b><br>Words: morning, evening, night, minute, tonight",
          "<b>Topic 9</b><br>Words: instant, morning, afternoon, oct, wood",
          "<b>Topic 9</b><br>Words: chee, tor, morning, clock, harvest",
          "<b>Topic 9</b><br>Words: clock, dinner, dike, pla, babbage",
          "<b>Topic 9</b><br>Words: sleep, ay, oxfordand, method, morning",
          "<b>Topic 9</b><br>Words: quarter, morning, dinner, clock, minute",
          "<b>Topic 9</b><br>Words: morning, oclock, dinner, bottisham, company",
          "<b>Topic 9</b><br>Words: northd, wight, gout, attack, pamphlet",
          "<b>Topic 9</b><br>Words: rodwell, notification, uncertainty, barham, dinner",
          "<b>Topic 9</b><br>Words: picture, dinner, opiate, dream, gout",
          "<b>Topic 9</b><br>Words: ireland, quarter, morning, information, dinner",
          "<b>Topic 9</b><br>Words: minute, feast, bell, afternoon, morning",
          "<b>Topic 9</b><br>Words: daylight, breakfast, reserve, morning, ampney",
          "<b>Topic 9</b><br>Words: clock, dinner, morning, bell, doctor",
          "<b>Topic 9</b><br>Words: minute, afternoon, morning, evening, dinner"
         ],
         "marker": {
          "color": "#D55E00"
         },
         "mode": "markers",
         "name": "9_morning_dinner_clock_minute",
         "type": "scatter",
         "x": [
          "1824-05-29T07:12:00",
          "1826-06-16T10:48:00",
          "1828-07-03T14:24:00",
          "1830-07-21T18:00:00",
          "1832-08-07T21:36:00",
          "1834-08-26T01:12:00",
          "1840-10-17T12:00:00",
          "1844-11-21T19:12:00",
          "1846-12-09T22:48:00",
          "1848-12-27T02:24:00",
          "1851-01-14T06:00:00",
          "1853-01-31T09:36:00",
          "1855-02-18T13:12:00",
          "1857-03-07T16:48:00",
          "1859-03-25T20:24:00"
         ],
         "y": [
          16,
          4,
          3,
          5,
          1,
          1,
          2,
          2,
          2,
          5,
          2,
          6,
          6,
          12,
          8
         ]
        },
        {
         "hoverinfo": "text",
         "hovertext": [
          "<b>Topic 10</b><br>Words: hooker, miss, days_ago, room, dr",
          "<b>Topic 10</b><br>Words: hooker, aberdeenshire, filicum, icone, suscriber",
          "<b>Topic 10</b><br>Words: hooker, magnum, naturelle, twopenny, haldane",
          "<b>Topic 10</b><br>Words: hooker, juice, fork, oen, nitidus",
          "<b>Topic 10</b><br>Words: intercourse, hooker, miss, days_ago, room",
          "<b>Topic 10</b><br>Words: hooker, companion, left, zool, learn",
          "<b>Topic 10</b><br>Words: miscellany, hooker, miss, days_ago, room",
          "<b>Topic 10</b><br>Words: route, hooker, publisher, travel, title",
          "<b>Topic 10</b><br>Words: hooker, miss, retreat, yarmouth, return",
          "<b>Topic 10</b><br>Words: hooker, joseph, room, gateway, laboratory",
          "<b>Topic 10</b><br>Words: hooker, cassel, julian, episode, news",
          "<b>Topic 10</b><br>Words: hooker, affte, rascallitie, fool, breast",
          "<b>Topic 10</b><br>Words: hooker, days_ago, griffin, ten, dawes",
          "<b>Topic 10</b><br>Words: hooker, germany, leonard_horner, hasjsh, hack",
          "<b>Topic 10</b><br>Words: hooker, kindest_regard, reputation, seymour, faithf",
          "<b>Topic 10</b><br>Words: hooker, migrate, liking, sprung, guest"
         ],
         "marker": {
          "color": "#0072B2"
         },
         "mode": "markers",
         "name": "10_hooker_miss_days_ago_room",
         "type": "scatter",
         "x": [
          "1824-05-29T07:12:00",
          "1826-06-16T10:48:00",
          "1828-07-03T14:24:00",
          "1830-07-21T18:00:00",
          "1832-08-07T21:36:00",
          "1834-08-26T01:12:00",
          "1836-09-12T04:48:00",
          "1838-09-30T08:24:00",
          "1844-11-21T19:12:00",
          "1846-12-09T22:48:00",
          "1848-12-27T02:24:00",
          "1851-01-14T06:00:00",
          "1853-01-31T09:36:00",
          "1855-02-18T13:12:00",
          "1857-03-07T16:48:00",
          "1859-03-25T20:24:00"
         ],
         "y": [
          1,
          7,
          9,
          9,
          1,
          2,
          1,
          1,
          4,
          4,
          2,
          3,
          4,
          8,
          6,
          3
         ]
        },
        {
         "hoverinfo": "text",
         "hovertext": [
          "<b>Topic 12</b><br>Words: copley, banke, plumper, exchange, candidate",
          "<b>Topic 12</b><br>Words: copley, juin, godson, banke, plumper",
          "<b>Topic 12</b><br>Words: inflation, currency, trading, mite, banking",
          "<b>Topic 12</b><br>Words: bede, peters, othonacester, notitia, bradwell",
          "<b>Topic 12</b><br>Words: expression, bowerbank, bishop, copley, banke",
          "<b>Topic 12</b><br>Words: bowerbank, copley, banke, plumper, exchange",
          "<b>Topic 12</b><br>Words: bowerbank, note, copley, banke, plumper"
         ],
         "marker": {
          "color": "#CC79A7"
         },
         "mode": "markers",
         "name": "12_copley_banke_plumper_exchange",
         "type": "scatter",
         "x": [
          "1824-05-29T07:12:00",
          "1826-06-16T10:48:00",
          "1838-09-30T08:24:00",
          "1846-12-09T22:48:00",
          "1848-12-27T02:24:00",
          "1851-01-14T06:00:00",
          "1853-01-31T09:36:00"
         ],
         "y": [
          53,
          3,
          2,
          1,
          1,
          2,
          1
         ]
        },
        {
         "hoverinfo": "text",
         "hovertext": [
          "<b>Topic 13</b><br>Words: health, illness, complaint, care, dpalmerston",
          "<b>Topic 13</b><br>Words: sundry, leach, italy, middle, dine",
          "<b>Topic 13</b><br>Words: fever, illness, health, dominica, duel",
          "<b>Topic 13</b><br>Words: health, illness, lesion, digit, lung",
          "<b>Topic 13</b><br>Words: webster, health, difficulty, illness, fever",
          "<b>Topic 13</b><br>Words: health, worry, asthma, bahama, shoe",
          "<b>Topic 13</b><br>Words: engender, humidity, miasma, endemic, latitude",
          "<b>Topic 13</b><br>Words: measle, malady, prisoner, improved_health, hither",
          "<b>Topic 13</b><br>Words: health, closehouse, furrow, deprive, shin",
          "<b>Topic 13</b><br>Words: broom, lichfield, sulivan, health, henry",
          "<b>Topic 13</b><br>Words: health, physician, salmonide, spasm, idle",
          "<b>Topic 13</b><br>Words: harz, equanimity, fulfilling, suffering, medical",
          "<b>Topic 13</b><br>Words: arrant, sudorific, health, illness, headache",
          "<b>Topic 13</b><br>Words: illness, health, jane, week, winter"
         ],
         "marker": {
          "color": "#E69F00"
         },
         "mode": "markers",
         "name": "13_health_illness_fever_care",
         "type": "scatter",
         "x": [
          "1824-05-29T07:12:00",
          "1826-06-16T10:48:00",
          "1828-07-03T14:24:00",
          "1830-07-21T18:00:00",
          "1836-09-12T04:48:00",
          "1838-09-30T08:24:00",
          "1840-10-17T12:00:00",
          "1846-12-09T22:48:00",
          "1848-12-27T02:24:00",
          "1851-01-14T06:00:00",
          "1853-01-31T09:36:00",
          "1855-02-18T13:12:00",
          "1857-03-07T16:48:00",
          "1859-03-25T20:24:00"
         ],
         "y": [
          8,
          1,
          6,
          5,
          1,
          3,
          1,
          2,
          4,
          1,
          6,
          2,
          3,
          13
         ]
        }
       ],
       "layout": {
        "height": 500,
        "hoverlabel": {
         "bgcolor": "white",
         "font": {
          "family": "Rockwell",
          "size": 16
         }
        },
        "legend": {
         "title": {
          "text": "<b>Global Topic Representation"
         }
        },
        "template": {
         "data": {
          "bar": [
           {
            "error_x": {
             "color": "rgb(36,36,36)"
            },
            "error_y": {
             "color": "rgb(36,36,36)"
            },
            "marker": {
             "line": {
              "color": "white",
              "width": 0.5
             },
             "pattern": {
              "fillmode": "overlay",
              "size": 10,
              "solidity": 0.2
             }
            },
            "type": "bar"
           }
          ],
          "barpolar": [
           {
            "marker": {
             "line": {
              "color": "white",
              "width": 0.5
             },
             "pattern": {
              "fillmode": "overlay",
              "size": 10,
              "solidity": 0.2
             }
            },
            "type": "barpolar"
           }
          ],
          "carpet": [
           {
            "aaxis": {
             "endlinecolor": "rgb(36,36,36)",
             "gridcolor": "white",
             "linecolor": "white",
             "minorgridcolor": "white",
             "startlinecolor": "rgb(36,36,36)"
            },
            "baxis": {
             "endlinecolor": "rgb(36,36,36)",
             "gridcolor": "white",
             "linecolor": "white",
             "minorgridcolor": "white",
             "startlinecolor": "rgb(36,36,36)"
            },
            "type": "carpet"
           }
          ],
          "choropleth": [
           {
            "colorbar": {
             "outlinewidth": 1,
             "tickcolor": "rgb(36,36,36)",
             "ticks": "outside"
            },
            "type": "choropleth"
           }
          ],
          "contour": [
           {
            "colorbar": {
             "outlinewidth": 1,
             "tickcolor": "rgb(36,36,36)",
             "ticks": "outside"
            },
            "colorscale": [
             [
              0,
              "#440154"
             ],
             [
              0.1111111111111111,
              "#482878"
             ],
             [
              0.2222222222222222,
              "#3e4989"
             ],
             [
              0.3333333333333333,
              "#31688e"
             ],
             [
              0.4444444444444444,
              "#26828e"
             ],
             [
              0.5555555555555556,
              "#1f9e89"
             ],
             [
              0.6666666666666666,
              "#35b779"
             ],
             [
              0.7777777777777778,
              "#6ece58"
             ],
             [
              0.8888888888888888,
              "#b5de2b"
             ],
             [
              1,
              "#fde725"
             ]
            ],
            "type": "contour"
           }
          ],
          "contourcarpet": [
           {
            "colorbar": {
             "outlinewidth": 1,
             "tickcolor": "rgb(36,36,36)",
             "ticks": "outside"
            },
            "type": "contourcarpet"
           }
          ],
          "heatmap": [
           {
            "colorbar": {
             "outlinewidth": 1,
             "tickcolor": "rgb(36,36,36)",
             "ticks": "outside"
            },
            "colorscale": [
             [
              0,
              "#440154"
             ],
             [
              0.1111111111111111,
              "#482878"
             ],
             [
              0.2222222222222222,
              "#3e4989"
             ],
             [
              0.3333333333333333,
              "#31688e"
             ],
             [
              0.4444444444444444,
              "#26828e"
             ],
             [
              0.5555555555555556,
              "#1f9e89"
             ],
             [
              0.6666666666666666,
              "#35b779"
             ],
             [
              0.7777777777777778,
              "#6ece58"
             ],
             [
              0.8888888888888888,
              "#b5de2b"
             ],
             [
              1,
              "#fde725"
             ]
            ],
            "type": "heatmap"
           }
          ],
          "heatmapgl": [
           {
            "colorbar": {
             "outlinewidth": 1,
             "tickcolor": "rgb(36,36,36)",
             "ticks": "outside"
            },
            "colorscale": [
             [
              0,
              "#440154"
             ],
             [
              0.1111111111111111,
              "#482878"
             ],
             [
              0.2222222222222222,
              "#3e4989"
             ],
             [
              0.3333333333333333,
              "#31688e"
             ],
             [
              0.4444444444444444,
              "#26828e"
             ],
             [
              0.5555555555555556,
              "#1f9e89"
             ],
             [
              0.6666666666666666,
              "#35b779"
             ],
             [
              0.7777777777777778,
              "#6ece58"
             ],
             [
              0.8888888888888888,
              "#b5de2b"
             ],
             [
              1,
              "#fde725"
             ]
            ],
            "type": "heatmapgl"
           }
          ],
          "histogram": [
           {
            "marker": {
             "line": {
              "color": "white",
              "width": 0.6
             }
            },
            "type": "histogram"
           }
          ],
          "histogram2d": [
           {
            "colorbar": {
             "outlinewidth": 1,
             "tickcolor": "rgb(36,36,36)",
             "ticks": "outside"
            },
            "colorscale": [
             [
              0,
              "#440154"
             ],
             [
              0.1111111111111111,
              "#482878"
             ],
             [
              0.2222222222222222,
              "#3e4989"
             ],
             [
              0.3333333333333333,
              "#31688e"
             ],
             [
              0.4444444444444444,
              "#26828e"
             ],
             [
              0.5555555555555556,
              "#1f9e89"
             ],
             [
              0.6666666666666666,
              "#35b779"
             ],
             [
              0.7777777777777778,
              "#6ece58"
             ],
             [
              0.8888888888888888,
              "#b5de2b"
             ],
             [
              1,
              "#fde725"
             ]
            ],
            "type": "histogram2d"
           }
          ],
          "histogram2dcontour": [
           {
            "colorbar": {
             "outlinewidth": 1,
             "tickcolor": "rgb(36,36,36)",
             "ticks": "outside"
            },
            "colorscale": [
             [
              0,
              "#440154"
             ],
             [
              0.1111111111111111,
              "#482878"
             ],
             [
              0.2222222222222222,
              "#3e4989"
             ],
             [
              0.3333333333333333,
              "#31688e"
             ],
             [
              0.4444444444444444,
              "#26828e"
             ],
             [
              0.5555555555555556,
              "#1f9e89"
             ],
             [
              0.6666666666666666,
              "#35b779"
             ],
             [
              0.7777777777777778,
              "#6ece58"
             ],
             [
              0.8888888888888888,
              "#b5de2b"
             ],
             [
              1,
              "#fde725"
             ]
            ],
            "type": "histogram2dcontour"
           }
          ],
          "mesh3d": [
           {
            "colorbar": {
             "outlinewidth": 1,
             "tickcolor": "rgb(36,36,36)",
             "ticks": "outside"
            },
            "type": "mesh3d"
           }
          ],
          "parcoords": [
           {
            "line": {
             "colorbar": {
              "outlinewidth": 1,
              "tickcolor": "rgb(36,36,36)",
              "ticks": "outside"
             }
            },
            "type": "parcoords"
           }
          ],
          "pie": [
           {
            "automargin": true,
            "type": "pie"
           }
          ],
          "scatter": [
           {
            "fillpattern": {
             "fillmode": "overlay",
             "size": 10,
             "solidity": 0.2
            },
            "type": "scatter"
           }
          ],
          "scatter3d": [
           {
            "line": {
             "colorbar": {
              "outlinewidth": 1,
              "tickcolor": "rgb(36,36,36)",
              "ticks": "outside"
             }
            },
            "marker": {
             "colorbar": {
              "outlinewidth": 1,
              "tickcolor": "rgb(36,36,36)",
              "ticks": "outside"
             }
            },
            "type": "scatter3d"
           }
          ],
          "scattercarpet": [
           {
            "marker": {
             "colorbar": {
              "outlinewidth": 1,
              "tickcolor": "rgb(36,36,36)",
              "ticks": "outside"
             }
            },
            "type": "scattercarpet"
           }
          ],
          "scattergeo": [
           {
            "marker": {
             "colorbar": {
              "outlinewidth": 1,
              "tickcolor": "rgb(36,36,36)",
              "ticks": "outside"
             }
            },
            "type": "scattergeo"
           }
          ],
          "scattergl": [
           {
            "marker": {
             "colorbar": {
              "outlinewidth": 1,
              "tickcolor": "rgb(36,36,36)",
              "ticks": "outside"
             }
            },
            "type": "scattergl"
           }
          ],
          "scattermapbox": [
           {
            "marker": {
             "colorbar": {
              "outlinewidth": 1,
              "tickcolor": "rgb(36,36,36)",
              "ticks": "outside"
             }
            },
            "type": "scattermapbox"
           }
          ],
          "scatterpolar": [
           {
            "marker": {
             "colorbar": {
              "outlinewidth": 1,
              "tickcolor": "rgb(36,36,36)",
              "ticks": "outside"
             }
            },
            "type": "scatterpolar"
           }
          ],
          "scatterpolargl": [
           {
            "marker": {
             "colorbar": {
              "outlinewidth": 1,
              "tickcolor": "rgb(36,36,36)",
              "ticks": "outside"
             }
            },
            "type": "scatterpolargl"
           }
          ],
          "scatterternary": [
           {
            "marker": {
             "colorbar": {
              "outlinewidth": 1,
              "tickcolor": "rgb(36,36,36)",
              "ticks": "outside"
             }
            },
            "type": "scatterternary"
           }
          ],
          "surface": [
           {
            "colorbar": {
             "outlinewidth": 1,
             "tickcolor": "rgb(36,36,36)",
             "ticks": "outside"
            },
            "colorscale": [
             [
              0,
              "#440154"
             ],
             [
              0.1111111111111111,
              "#482878"
             ],
             [
              0.2222222222222222,
              "#3e4989"
             ],
             [
              0.3333333333333333,
              "#31688e"
             ],
             [
              0.4444444444444444,
              "#26828e"
             ],
             [
              0.5555555555555556,
              "#1f9e89"
             ],
             [
              0.6666666666666666,
              "#35b779"
             ],
             [
              0.7777777777777778,
              "#6ece58"
             ],
             [
              0.8888888888888888,
              "#b5de2b"
             ],
             [
              1,
              "#fde725"
             ]
            ],
            "type": "surface"
           }
          ],
          "table": [
           {
            "cells": {
             "fill": {
              "color": "rgb(237,237,237)"
             },
             "line": {
              "color": "white"
             }
            },
            "header": {
             "fill": {
              "color": "rgb(217,217,217)"
             },
             "line": {
              "color": "white"
             }
            },
            "type": "table"
           }
          ]
         },
         "layout": {
          "annotationdefaults": {
           "arrowhead": 0,
           "arrowwidth": 1
          },
          "autotypenumbers": "strict",
          "coloraxis": {
           "colorbar": {
            "outlinewidth": 1,
            "tickcolor": "rgb(36,36,36)",
            "ticks": "outside"
           }
          },
          "colorscale": {
           "diverging": [
            [
             0,
             "rgb(103,0,31)"
            ],
            [
             0.1,
             "rgb(178,24,43)"
            ],
            [
             0.2,
             "rgb(214,96,77)"
            ],
            [
             0.3,
             "rgb(244,165,130)"
            ],
            [
             0.4,
             "rgb(253,219,199)"
            ],
            [
             0.5,
             "rgb(247,247,247)"
            ],
            [
             0.6,
             "rgb(209,229,240)"
            ],
            [
             0.7,
             "rgb(146,197,222)"
            ],
            [
             0.8,
             "rgb(67,147,195)"
            ],
            [
             0.9,
             "rgb(33,102,172)"
            ],
            [
             1,
             "rgb(5,48,97)"
            ]
           ],
           "sequential": [
            [
             0,
             "#440154"
            ],
            [
             0.1111111111111111,
             "#482878"
            ],
            [
             0.2222222222222222,
             "#3e4989"
            ],
            [
             0.3333333333333333,
             "#31688e"
            ],
            [
             0.4444444444444444,
             "#26828e"
            ],
            [
             0.5555555555555556,
             "#1f9e89"
            ],
            [
             0.6666666666666666,
             "#35b779"
            ],
            [
             0.7777777777777778,
             "#6ece58"
            ],
            [
             0.8888888888888888,
             "#b5de2b"
            ],
            [
             1,
             "#fde725"
            ]
           ],
           "sequentialminus": [
            [
             0,
             "#440154"
            ],
            [
             0.1111111111111111,
             "#482878"
            ],
            [
             0.2222222222222222,
             "#3e4989"
            ],
            [
             0.3333333333333333,
             "#31688e"
            ],
            [
             0.4444444444444444,
             "#26828e"
            ],
            [
             0.5555555555555556,
             "#1f9e89"
            ],
            [
             0.6666666666666666,
             "#35b779"
            ],
            [
             0.7777777777777778,
             "#6ece58"
            ],
            [
             0.8888888888888888,
             "#b5de2b"
            ],
            [
             1,
             "#fde725"
            ]
           ]
          },
          "colorway": [
           "#1F77B4",
           "#FF7F0E",
           "#2CA02C",
           "#D62728",
           "#9467BD",
           "#8C564B",
           "#E377C2",
           "#7F7F7F",
           "#BCBD22",
           "#17BECF"
          ],
          "font": {
           "color": "rgb(36,36,36)"
          },
          "geo": {
           "bgcolor": "white",
           "lakecolor": "white",
           "landcolor": "white",
           "showlakes": true,
           "showland": true,
           "subunitcolor": "white"
          },
          "hoverlabel": {
           "align": "left"
          },
          "hovermode": "closest",
          "mapbox": {
           "style": "light"
          },
          "paper_bgcolor": "white",
          "plot_bgcolor": "white",
          "polar": {
           "angularaxis": {
            "gridcolor": "rgb(232,232,232)",
            "linecolor": "rgb(36,36,36)",
            "showgrid": false,
            "showline": true,
            "ticks": "outside"
           },
           "bgcolor": "white",
           "radialaxis": {
            "gridcolor": "rgb(232,232,232)",
            "linecolor": "rgb(36,36,36)",
            "showgrid": false,
            "showline": true,
            "ticks": "outside"
           }
          },
          "scene": {
           "xaxis": {
            "backgroundcolor": "white",
            "gridcolor": "rgb(232,232,232)",
            "gridwidth": 2,
            "linecolor": "rgb(36,36,36)",
            "showbackground": true,
            "showgrid": false,
            "showline": true,
            "ticks": "outside",
            "zeroline": false,
            "zerolinecolor": "rgb(36,36,36)"
           },
           "yaxis": {
            "backgroundcolor": "white",
            "gridcolor": "rgb(232,232,232)",
            "gridwidth": 2,
            "linecolor": "rgb(36,36,36)",
            "showbackground": true,
            "showgrid": false,
            "showline": true,
            "ticks": "outside",
            "zeroline": false,
            "zerolinecolor": "rgb(36,36,36)"
           },
           "zaxis": {
            "backgroundcolor": "white",
            "gridcolor": "rgb(232,232,232)",
            "gridwidth": 2,
            "linecolor": "rgb(36,36,36)",
            "showbackground": true,
            "showgrid": false,
            "showline": true,
            "ticks": "outside",
            "zeroline": false,
            "zerolinecolor": "rgb(36,36,36)"
           }
          },
          "shapedefaults": {
           "fillcolor": "black",
           "line": {
            "width": 0
           },
           "opacity": 0.3
          },
          "ternary": {
           "aaxis": {
            "gridcolor": "rgb(232,232,232)",
            "linecolor": "rgb(36,36,36)",
            "showgrid": false,
            "showline": true,
            "ticks": "outside"
           },
           "baxis": {
            "gridcolor": "rgb(232,232,232)",
            "linecolor": "rgb(36,36,36)",
            "showgrid": false,
            "showline": true,
            "ticks": "outside"
           },
           "bgcolor": "white",
           "caxis": {
            "gridcolor": "rgb(232,232,232)",
            "linecolor": "rgb(36,36,36)",
            "showgrid": false,
            "showline": true,
            "ticks": "outside"
           }
          },
          "title": {
           "x": 0.05
          },
          "xaxis": {
           "automargin": true,
           "gridcolor": "rgb(232,232,232)",
           "linecolor": "rgb(36,36,36)",
           "showgrid": false,
           "showline": true,
           "ticks": "outside",
           "title": {
            "standoff": 15
           },
           "zeroline": false,
           "zerolinecolor": "rgb(36,36,36)"
          },
          "yaxis": {
           "automargin": true,
           "gridcolor": "rgb(232,232,232)",
           "linecolor": "rgb(36,36,36)",
           "showgrid": false,
           "showline": true,
           "ticks": "outside",
           "title": {
            "standoff": 15
           },
           "zeroline": false,
           "zerolinecolor": "rgb(36,36,36)"
          }
         }
        },
        "title": {
         "font": {
          "color": "Black",
          "size": 22
         },
         "text": "<b>Topics over Time",
         "x": 0.4,
         "xanchor": "center",
         "y": 0.95,
         "yanchor": "top"
        },
        "width": 1000,
        "xaxis": {
         "showgrid": true
        },
        "yaxis": {
         "showgrid": true,
         "title": {
          "text": "Count"
         }
        }
       }
      },
      "text/html": [
       "<div>                            <div id=\"4144e86a-9988-4a6b-a4e8-01a823fbf44c\" class=\"plotly-graph-div\" style=\"height:500px; width:1000px;\"></div>            <script type=\"text/javascript\">                require([\"plotly\"], function(Plotly) {                    window.PLOTLYENV=window.PLOTLYENV || {};                                    if (document.getElementById(\"4144e86a-9988-4a6b-a4e8-01a823fbf44c\")) {                    Plotly.newPlot(                        \"4144e86a-9988-4a6b-a4e8-01a823fbf44c\",                        [{\"hoverinfo\":\"text\",\"hovertext\":[\"<b>Topic 0</b><br>Words: mot, carypohyllea, pentacrinitis, tubipore, pt\",\"<b>Topic 0</b><br>Words: maritima, flower, plant, brittanica, octobre\",\"<b>Topic 0</b><br>Words: brother, plant, bristol, jany, county\",\"<b>Topic 0</b><br>Words: plant, herbarium, flora, campanula, palustris\",\"<b>Topic 0</b><br>Words: arvensis, plant, fruit, vulgaris, palustris\",\"<b>Topic 0</b><br>Words: plant, book, crossed_pencil, flower, herbarium\",\"<b>Topic 0</b><br>Words: flora, roy, fitz, capt, agent\",\"<b>Topic 0</b><br>Words: cavendish, square, dion, havell, margaret\",\"<b>Topic 0</b><br>Words: alpinus, favor, honorarium, skiopus, melasoma\",\"<b>Topic 0</b><br>Words: seed, plant, presume, dust, grandiflora\",\"<b>Topic 0</b><br>Words: torrey, british_association, flora, princeton, dublin\",\"<b>Topic 0</b><br>Words: salt, field, appearance, publication, ripewode\",\"<b>Topic 0</b><br>Words: cowslip, coleman, polyanthu, williams, brit\",\"<b>Topic 0</b><br>Words: campbell, conifer, guildford, scott, bernard\",\"<b>Topic 0</b><br>Words: hampton, butter, ipswich, middlesex, museum\",\"<b>Topic 0</b><br>Words: moseley, henry, museum, ipswich, dine\",\"<b>Topic 0</b><br>Words: museum, ipswich, alton, paper, hereford\",\"<b>Topic 0</b><br>Words: museum, betchworth, paper, town, london\",\"<b>Topic 0</b><br>Words: dublin, kensington, museum, book, daughter\",\"<b>Topic 0</b><br>Words: louisa, museum, sister, british, amy\"],\"marker\":{\"color\":\"#E69F00\"},\"mode\":\"markers\",\"name\":\"0_plant_museum_flora_book\",\"x\":[\"1820-04-09T00:53:16.800000\",\"1822-05-12T03:36:00\",\"1824-05-29T07:12:00\",\"1826-06-16T10:48:00\",\"1828-07-03T14:24:00\",\"1830-07-21T18:00:00\",\"1832-08-07T21:36:00\",\"1834-08-26T01:12:00\",\"1836-09-12T04:48:00\",\"1838-09-30T08:24:00\",\"1840-10-17T12:00:00\",\"1842-11-04T15:36:00\",\"1844-11-21T19:12:00\",\"1846-12-09T22:48:00\",\"1848-12-27T02:24:00\",\"1851-01-14T06:00:00\",\"1853-01-31T09:36:00\",\"1855-02-18T13:12:00\",\"1857-03-07T16:48:00\",\"1859-03-25T20:24:00\"],\"y\":[8,15,131,108,177,184,21,9,11,32,32,24,26,11,38,25,49,87,70,62],\"type\":\"scatter\"},{\"hoverinfo\":\"text\",\"hovertext\":[\"<b>Topic 3</b><br>Words: crystal, iron, lime, alumina, acid\",\"<b>Topic 3</b><br>Words: pencil, lime, flint, acid, iron\",\"<b>Topic 3</b><br>Words: pencil, vinegar, tincture, rust, cavern\",\"<b>Topic 3</b><br>Words: lime, oxide, iron_alumina, chalk, essex\",\"<b>Topic 3</b><br>Words: prospecti, siemile, gracedieu, slake, slate\",\"<b>Topic 3</b><br>Words: limestone, river, precipice, swale, scar\",\"<b>Topic 3</b><br>Words: diluvium, clay, flint, cylinder, chalk\",\"<b>Topic 3</b><br>Words: pencil, ink, underl, quotation, iris\",\"<b>Topic 3</b><br>Words: band, sandstone, tree, shale, section\",\"<b>Topic 3</b><br>Words: flint, tooth, bone, ball, phosphorus\",\"<b>Topic 3</b><br>Words: adhere, atum, acid, carbonate, chalk\",\"<b>Topic 3</b><br>Words: lime, acid, silica, iron, water\",\"<b>Topic 3</b><br>Words: oxide, gas, mineral, chalk, depth\",\"<b>Topic 3</b><br>Words: iron, fire, acid, nodule, coprolite\",\"<b>Topic 3</b><br>Words: foot, gault, sand, rock, slaty\",\"<b>Topic 3</b><br>Words: flint, spot, unmade, willeg, manufactory\"],\"marker\":{\"color\":\"#56B4E9\"},\"mode\":\"markers\",\"name\":\"3_lime_pencil_flint_acid\",\"x\":[\"1820-04-09T00:53:16.800000\",\"1822-05-12T03:36:00\",\"1824-05-29T07:12:00\",\"1826-06-16T10:48:00\",\"1828-07-03T14:24:00\",\"1830-07-21T18:00:00\",\"1832-08-07T21:36:00\",\"1838-09-30T08:24:00\",\"1840-10-17T12:00:00\",\"1844-11-21T19:12:00\",\"1848-12-27T02:24:00\",\"1851-01-14T06:00:00\",\"1853-01-31T09:36:00\",\"1855-02-18T13:12:00\",\"1857-03-07T16:48:00\",\"1859-03-25T20:24:00\"],\"y\":[12,1,7,9,3,3,7,17,7,11,7,18,6,9,3,5],\"type\":\"scatter\"},{\"hoverinfo\":\"text\",\"hovertext\":[\"<b>Topic 8</b><br>Words: parcell, mead, lambeth, fossils, help\",\"<b>Topic 8</b><br>Words: premium, singular, mineralogist, fossils, norway\",\"<b>Topic 8</b><br>Words: tusk, fossil, tender, curve, circumference\",\"<b>Topic 8</b><br>Words: boast, madrid, part, skeleton, bone\",\"<b>Topic 8</b><br>Words: bone, armour, profs, weiss, armadillo\",\"<b>Topic 8</b><br>Words: fossil, anstice, fossils, calamite, asterophyllite\",\"<b>Topic 8</b><br>Words: fossil, si, livraison, doute, nai\",\"<b>Topic 8</b><br>Words: fossil, parkinson, prove, mentioning, pr\",\"<b>Topic 8</b><br>Words: daguerreotypes, maguire, reptile, dover, decision\",\"<b>Topic 8</b><br>Words: fossil, miocene, pliocene, coraline, crag\",\"<b>Topic 8</b><br>Words: fossil, metropolis, inclination, pal, naming\",\"<b>Topic 8</b><br>Words: fossil, skull, breed, limb, skeleton\",\"<b>Topic 8</b><br>Words: fossil, geologist, bone, tertiary, suture\",\"<b>Topic 8</b><br>Words: fossil, celt, crag, step, descendant\"],\"marker\":{\"color\":\"#009E73\"},\"mode\":\"markers\",\"name\":\"8_fossil_bone_skull_crag\",\"x\":[\"1820-04-09T00:53:16.800000\",\"1826-06-16T10:48:00\",\"1830-07-21T18:00:00\",\"1832-08-07T21:36:00\",\"1834-08-26T01:12:00\",\"1838-09-30T08:24:00\",\"1840-10-17T12:00:00\",\"1844-11-21T19:12:00\",\"1848-12-27T02:24:00\",\"1851-01-14T06:00:00\",\"1853-01-31T09:36:00\",\"1855-02-18T13:12:00\",\"1857-03-07T16:48:00\",\"1859-03-25T20:24:00\"],\"y\":[2,1,3,1,1,14,7,4,2,8,7,9,9,8],\"type\":\"scatter\"},{\"hoverinfo\":\"text\",\"hovertext\":[\"<b>Topic 11</b><br>Words: stria, thready, productus, one, noctua\",\"<b>Topic 11</b><br>Words: schoenu, pandora, pola, arenarias, bingleii\",\"<b>Topic 11</b><br>Words: boarula, verde, coton, animaux, sano\",\"<b>Topic 11</b><br>Words: noctua, nigrican, ulmata, laniea, loki\",\"<b>Topic 11</b><br>Words: wensly, fls, mixta, myrtus, sterculia\",\"<b>Topic 11</b><br>Words: commander, dalhousie, chief, india, noctua\",\"<b>Topic 11</b><br>Words: stigmaria, noctua, cineraria, cape, potamogeton\",\"<b>Topic 11</b><br>Words: neuropteris, dubia, noctua, cineraria, cape\",\"<b>Topic 11</b><br>Words: truncata, periculo, meo, noctua, cineraria\",\"<b>Topic 11</b><br>Words: carniv, cat, noctua, cineraria, potamogeton\",\"<b>Topic 11</b><br>Words: pavia, catalpa, parviflora, abundant, christ\",\"<b>Topic 11</b><br>Words: psammobia, rudis, nucula, eupithecia, lucia\"],\"marker\":{\"color\":\"#F0E442\"},\"mode\":\"markers\",\"name\":\"11_noctua_cineraria_cape_potamogeton\",\"x\":[\"1820-04-09T00:53:16.800000\",\"1824-05-29T07:12:00\",\"1826-06-16T10:48:00\",\"1828-07-03T14:24:00\",\"1830-07-21T18:00:00\",\"1832-08-07T21:36:00\",\"1838-09-30T08:24:00\",\"1840-10-17T12:00:00\",\"1848-12-27T02:24:00\",\"1855-02-18T13:12:00\",\"1857-03-07T16:48:00\",\"1859-03-25T20:24:00\"],\"y\":[1,9,10,20,11,1,1,2,2,1,1,4],\"type\":\"scatter\"},{\"hoverinfo\":\"text\",\"hovertext\":[\"<b>Topic 14</b><br>Words: insert, goodness, specimen, manner, result\",\"<b>Topic 14</b><br>Words: one, specimen, microscope, subscription, description\",\"<b>Topic 14</b><br>Words: side, specimen, microscope, subscription, description\",\"<b>Topic 14</b><br>Words: specimen, subscription, cape, remit, mineralogist\",\"<b>Topic 14</b><br>Words: specimen, ejection, wet, autograph, palust\",\"<b>Topic 14</b><br>Words: specimen, hort, decay, uninteresting, chile\",\"<b>Topic 14</b><br>Words: specimen, retracing, ensure, value, consulting\",\"<b>Topic 14</b><br>Words: microscope, opake, strand, sic, inform\",\"<b>Topic 14</b><br>Words: attemp, snake, alligator, specimen, procure\",\"<b>Topic 14</b><br>Words: specimen, break, sacrifice, determination, permission\",\"<b>Topic 14</b><br>Words: method, specimen, illustration, hitherto, description\",\"<b>Topic 14</b><br>Words: specimen, keep, swallow, nest, choice\",\"<b>Topic 14</b><br>Words: specimen, ashburton, schoolmaster, dioscorea, batata\",\"<b>Topic 14</b><br>Words: specimen, judge, supply, desire, information\",\"<b>Topic 14</b><br>Words: specimen, collecting, charlesworth, edw, estimate\"],\"marker\":{\"color\":\"#D55E00\"},\"mode\":\"markers\",\"name\":\"14_specimen_microscope_subscription_desc...\",\"x\":[\"1820-04-09T00:53:16.800000\",\"1822-05-12T03:36:00\",\"1824-05-29T07:12:00\",\"1826-06-16T10:48:00\",\"1828-07-03T14:24:00\",\"1830-07-21T18:00:00\",\"1832-08-07T21:36:00\",\"1838-09-30T08:24:00\",\"1840-10-17T12:00:00\",\"1844-11-21T19:12:00\",\"1851-01-14T06:00:00\",\"1853-01-31T09:36:00\",\"1855-02-18T13:12:00\",\"1857-03-07T16:48:00\",\"1859-03-25T20:24:00\"],\"y\":[1,1,1,8,10,12,5,2,1,1,3,2,4,2,2],\"type\":\"scatter\"},{\"hoverinfo\":\"text\",\"hovertext\":[\"<b>Topic 1</b><br>Words: jn, confer, certainty, curacy, title\",\"<b>Topic 1</b><br>Words: vote, election, promise, voter, number\",\"<b>Topic 1</b><br>Words: voter, interest, result, vote, expense\",\"<b>Topic 1</b><br>Words: attention, maderensis, inference, supply, reason\",\"<b>Topic 1</b><br>Words: attention, tyro, supreme, admired, convergent\",\"<b>Topic 1</b><br>Words: secret, stump, persuasion, nexus, cohort\",\"<b>Topic 1</b><br>Words: review, treatise, approbation, sentiment, jardine\",\"<b>Topic 1</b><br>Words: carrying, chemistry, sentiment, suggestion, mind\",\"<b>Topic 1</b><br>Words: reproduction, correctness, certainty, experience, article\",\"<b>Topic 1</b><br>Words: intermittent, entail, forget, selbourne, paragraph\",\"<b>Topic 1</b><br>Words: imagination, election, vote, interest, voter\",\"<b>Topic 1</b><br>Words: interest, fulfilment, xvii, endorser, walkover\",\"<b>Topic 1</b><br>Words: plan, measure, naturalist, request, year\",\"<b>Topic 1</b><br>Words: draft, certainty, election, suggestion, toleration\",\"<b>Topic 1</b><br>Words: thought, interest, draft, certainty, future\",\"<b>Topic 1</b><br>Words: cabinet, interest, kewian, amore, hull\",\"<b>Topic 1</b><br>Words: interest, plan, edit, mind, attention\",\"<b>Topic 1</b><br>Words: candid, revise, cheer, interest, persevere\",\"<b>Topic 1</b><br>Words: plan, favour, elections, reasoning, avidity\"],\"marker\":{\"color\":\"#0072B2\"},\"mode\":\"markers\",\"name\":\"1_election_vote_interest_voter\",\"x\":[\"1822-05-12T03:36:00\",\"1824-05-29T07:12:00\",\"1826-06-16T10:48:00\",\"1828-07-03T14:24:00\",\"1830-07-21T18:00:00\",\"1832-08-07T21:36:00\",\"1834-08-26T01:12:00\",\"1836-09-12T04:48:00\",\"1838-09-30T08:24:00\",\"1840-10-17T12:00:00\",\"1842-11-04T15:36:00\",\"1844-11-21T19:12:00\",\"1846-12-09T22:48:00\",\"1848-12-27T02:24:00\",\"1851-01-14T06:00:00\",\"1853-01-31T09:36:00\",\"1855-02-18T13:12:00\",\"1857-03-07T16:48:00\",\"1859-03-25T20:24:00\"],\"y\":[4,89,23,14,16,7,3,5,5,9,1,8,2,17,10,11,20,11,13],\"type\":\"scatter\"},{\"hoverinfo\":\"text\",\"hovertext\":[\"<b>Topic 2</b><br>Words: llm, martyn, bankes, professor, john\",\"<b>Topic 2</b><br>Words: university, professor, parliament, endeavour, professorship\",\"<b>Topic 2</b><br>Words: lecture, professor, course, college, bachelorship\",\"<b>Topic 2</b><br>Words: professor, university, gace, theyit, broussonet\",\"<b>Topic 2</b><br>Words: professor, sedgwick, death, tynemouth, tempt\",\"<b>Topic 2</b><br>Words: agardh, professorship, introduction, support, oxford\",\"<b>Topic 2</b><br>Words: encouraging, simeon, royston, zeal, compliment\",\"<b>Topic 2</b><br>Words: drudgery, prosperity, operative, organ, resource\",\"<b>Topic 2</b><br>Words: politic, lieu, savile, college, professor\",\"<b>Topic 2</b><br>Words: examiner, anatomy, institution, physiology, occuping\",\"<b>Topic 2</b><br>Words: loudon, professor, jager, electricity, orleans\",\"<b>Topic 2</b><br>Words: professor, mtter, flagelhurst, willis, warburton\",\"<b>Topic 2</b><br>Words: queen, commissioner, university, reform, egg\",\"<b>Topic 2</b><br>Words: professor, university, boy, president, secretary\",\"<b>Topic 2</b><br>Words: royle, result, ashamed, interview, exam\",\"<b>Topic 2</b><br>Words: examination, lecture, professor, school, currey\",\"<b>Topic 2</b><br>Words: lecture, professor, university, examination, office\",\"<b>Topic 2</b><br>Words: examination, certificate, professor, university, london_burlington\",\"<b>Topic 2</b><br>Words: examiner, university, examination, london_burlington, lecture\"],\"marker\":{\"color\":\"#CC79A7\"},\"mode\":\"markers\",\"name\":\"2_professor_university_lecture_examinati...\",\"x\":[\"1822-05-12T03:36:00\",\"1824-05-29T07:12:00\",\"1826-06-16T10:48:00\",\"1828-07-03T14:24:00\",\"1830-07-21T18:00:00\",\"1832-08-07T21:36:00\",\"1834-08-26T01:12:00\",\"1836-09-12T04:48:00\",\"1838-09-30T08:24:00\",\"1840-10-17T12:00:00\",\"1842-11-04T15:36:00\",\"1844-11-21T19:12:00\",\"1846-12-09T22:48:00\",\"1848-12-27T02:24:00\",\"1851-01-14T06:00:00\",\"1853-01-31T09:36:00\",\"1855-02-18T13:12:00\",\"1857-03-07T16:48:00\",\"1859-03-25T20:24:00\"],\"y\":[2,20,20,10,14,2,2,2,4,6,4,7,4,11,4,16,39,23,31],\"type\":\"scatter\"},{\"hoverinfo\":\"text\",\"hovertext\":[\"<b>Topic 6</b><br>Words: huntley, duke, gardener, figure, dr\",\"<b>Topic 6</b><br>Words: botany, botanyhowever, succeed, fail, opponent\",\"<b>Topic 6</b><br>Words: botany, botanist, anatomy, physiology, intersperse\",\"<b>Topic 6</b><br>Words: botany, botanist, reekie, prose, poetry\",\"<b>Topic 6</b><br>Words: botany, botanist, science, diffusion, encyclopedia\",\"<b>Topic 6</b><br>Words: botany, writer, botanist, rate, renner\",\"<b>Topic 6</b><br>Words: finsbury, promoter, diffusion, mechanic, rice\",\"<b>Topic 6</b><br>Words: hospital, hildyard, practice, botany, time\",\"<b>Topic 6</b><br>Words: rachis, development, pinnae, ferns, process\",\"<b>Topic 6</b><br>Words: remedy, pity, kind, botany, direction\",\"<b>Topic 6</b><br>Words: precaution, faith, trial, botanist, change\",\"<b>Topic 6</b><br>Words: botany, sykes, propose, recommendation, col\",\"<b>Topic 6</b><br>Words: botany, gardeners_chronicle, chronicle, gardener, botanist\",\"<b>Topic 6</b><br>Words: botany, enquiry, payer, botanist, child\",\"<b>Topic 6</b><br>Words: botany, curriculum, chemistry, ignorance, blunder\"],\"marker\":{\"color\":\"#E69F00\"},\"mode\":\"markers\",\"name\":\"6_botany_botanist_gardener_gardeners_chr...\",\"x\":[\"1822-05-12T03:36:00\",\"1824-05-29T07:12:00\",\"1826-06-16T10:48:00\",\"1828-07-03T14:24:00\",\"1830-07-21T18:00:00\",\"1832-08-07T21:36:00\",\"1834-08-26T01:12:00\",\"1836-09-12T04:48:00\",\"1838-09-30T08:24:00\",\"1840-10-17T12:00:00\",\"1846-12-09T22:48:00\",\"1851-01-14T06:00:00\",\"1855-02-18T13:12:00\",\"1857-03-07T16:48:00\",\"1859-03-25T20:24:00\"],\"y\":[1,4,9,17,12,5,1,1,1,1,1,3,13,6,6],\"type\":\"scatter\"},{\"hoverinfo\":\"text\",\"hovertext\":[\"<b>Topic 4</b><br>Words: receipt, addition, hamilton, quarterly, unit\",\"<b>Topic 4</b><br>Words: calculate, dividend, steudel, number, copy\",\"<b>Topic 4</b><br>Words: balance, mougeot, owe, price, deduct\",\"<b>Topic 4</b><br>Words: debt, bill, number, note, sum\",\"<b>Topic 4</b><br>Words: remittance, stamp, pound, receipt, subscriber\",\"<b>Topic 4</b><br>Words: acquit, returning, roget, debt, marsh\",\"<b>Topic 4</b><br>Words: copy, clark, payment, grant, distribution\",\"<b>Topic 4</b><br>Words: pop, noterity, compiler, copy, work\",\"<b>Topic 4</b><br>Words: note, loan, pound, african, ambigua\",\"<b>Topic 4</b><br>Words: trouble, strike, editor, sum, improvement\",\"<b>Topic 4</b><br>Words: sum, equation, moving, tiding, signature\",\"<b>Topic 4</b><br>Words: note, price, objection, handed, copy\",\"<b>Topic 4</b><br>Words: sum, amount, daguerrotype, note, donor\",\"<b>Topic 4</b><br>Words: price, copy, value, cost, amount\",\"<b>Topic 4</b><br>Words: copy, debt, number, cost, account\",\"<b>Topic 4</b><br>Words: receipt, sticker, machinery, annoyance, signature\"],\"marker\":{\"color\":\"#56B4E9\"},\"mode\":\"markers\",\"name\":\"4_copy_receipt_note_sum\",\"x\":[\"1824-05-29T07:12:00\",\"1826-06-16T10:48:00\",\"1828-07-03T14:24:00\",\"1830-07-21T18:00:00\",\"1834-08-26T01:12:00\",\"1836-09-12T04:48:00\",\"1838-09-30T08:24:00\",\"1840-10-17T12:00:00\",\"1844-11-21T19:12:00\",\"1846-12-09T22:48:00\",\"1848-12-27T02:24:00\",\"1851-01-14T06:00:00\",\"1853-01-31T09:36:00\",\"1855-02-18T13:12:00\",\"1857-03-07T16:48:00\",\"1859-03-25T20:24:00\"],\"y\":[9,5,12,20,2,2,3,3,8,2,5,7,8,15,16,6],\"type\":\"scatter\"},{\"hoverinfo\":\"text\",\"hovertext\":[\"<b>Topic 5</b><br>Words: weather, wind, summer, breath, conocephali\",\"<b>Topic 5</b><br>Words: weather, wind, autumn, winter, spring\",\"<b>Topic 5</b><br>Words: season, autumn, ber, rain, excursion\",\"<b>Topic 5</b><br>Words: summer, expedition, weather, season, desiderata\",\"<b>Topic 5</b><br>Words: pump, temperature, pipe, weymouth, air\",\"<b>Topic 5</b><br>Words: autumn, vacation, advance, rd, district\",\"<b>Topic 5</b><br>Words: agency, student, distance, institution, summer\",\"<b>Topic 5</b><br>Words: moisture, layer, season, process, air\",\"<b>Topic 5</b><br>Words: candlelight, uncivil, plead, inflammation, load\",\"<b>Topic 5</b><br>Words: promising, season, one, weather, bath\",\"<b>Topic 5</b><br>Words: daguerreotype, clk, temper, catch, distemper\",\"<b>Topic 5</b><br>Words: fort, fortune, join, expedition, excursion\",\"<b>Topic 5</b><br>Words: backache, winter, metropolitana, shower, meteorite\",\"<b>Topic 5</b><br>Words: excursion, weather, wind, season, fund\",\"<b>Topic 5</b><br>Words: weather, meteorology, bath, camb_sh, climate\",\"<b>Topic 5</b><br>Words: bath, weather, excursionizing, summer, punctatus\"],\"marker\":{\"color\":\"#009E73\"},\"mode\":\"markers\",\"name\":\"5_weather_season_bath_excursion\",\"x\":[\"1824-05-29T07:12:00\",\"1826-06-16T10:48:00\",\"1828-07-03T14:24:00\",\"1830-07-21T18:00:00\",\"1832-08-07T21:36:00\",\"1834-08-26T01:12:00\",\"1838-09-30T08:24:00\",\"1840-10-17T12:00:00\",\"1842-11-04T15:36:00\",\"1846-12-09T22:48:00\",\"1848-12-27T02:24:00\",\"1851-01-14T06:00:00\",\"1853-01-31T09:36:00\",\"1855-02-18T13:12:00\",\"1857-03-07T16:48:00\",\"1859-03-25T20:24:00\"],\"y\":[6,12,17,9,3,2,1,4,2,1,4,2,4,10,21,8],\"type\":\"scatter\"},{\"hoverinfo\":\"text\",\"hovertext\":[\"<b>Topic 7</b><br>Words: insect, larvae, scotland, bombyx, geom\",\"<b>Topic 7</b><br>Words: insect, mollusca, obligation, shrike, insectivori\",\"<b>Topic 7</b><br>Words: insect, entomology, yorkshire, larva, length\",\"<b>Topic 7</b><br>Words: insect, shrubby, valdivia, mat, shark\",\"<b>Topic 7</b><br>Words: anatomie, mollusque, obtain, suggestion, insect\",\"<b>Topic 7</b><br>Words: quadruped, quarter, insect, entomology, entomologist\",\"<b>Topic 7</b><br>Words: insect, entomology, collector, scotch, gentleman\",\"<b>Topic 7</b><br>Words: hawthorne, entomology, permit, accompany, wood\",\"<b>Topic 7</b><br>Words: wasp, turpentine, newspaper, spirit, insect\",\"<b>Topic 7</b><br>Words: insect, aphid, bean, egg, beam\",\"<b>Topic 7</b><br>Words: insect, diptera, entomologist, dog, fauna\",\"<b>Topic 7</b><br>Words: insect, wandering, christmas, accident, continent\",\"<b>Topic 7</b><br>Words: sessile, annelide, diptera, philo, crustacea\",\"<b>Topic 7</b><br>Words: insect, crustacea, westwood, entomologist, insecta\",\"<b>Topic 7</b><br>Words: insect, entomology, cromwell, privy, feeding\",\"<b>Topic 7</b><br>Words: insect, nepticula, entomologist, larva, entomology\"],\"marker\":{\"color\":\"#F0E442\"},\"mode\":\"markers\",\"name\":\"7_insect_entomology_entomologist_larvae\",\"x\":[\"1824-05-29T07:12:00\",\"1826-06-16T10:48:00\",\"1828-07-03T14:24:00\",\"1830-07-21T18:00:00\",\"1832-08-07T21:36:00\",\"1834-08-26T01:12:00\",\"1836-09-12T04:48:00\",\"1838-09-30T08:24:00\",\"1842-11-04T15:36:00\",\"1846-12-09T22:48:00\",\"1848-12-27T02:24:00\",\"1851-01-14T06:00:00\",\"1853-01-31T09:36:00\",\"1855-02-18T13:12:00\",\"1857-03-07T16:48:00\",\"1859-03-25T20:24:00\"],\"y\":[11,6,14,4,1,1,3,1,1,6,6,2,2,11,4,7],\"type\":\"scatter\"},{\"hoverinfo\":\"text\",\"hovertext\":[\"<b>Topic 9</b><br>Words: morning, evening, night, minute, tonight\",\"<b>Topic 9</b><br>Words: instant, morning, afternoon, oct, wood\",\"<b>Topic 9</b><br>Words: chee, tor, morning, clock, harvest\",\"<b>Topic 9</b><br>Words: clock, dinner, dike, pla, babbage\",\"<b>Topic 9</b><br>Words: sleep, ay, oxfordand, method, morning\",\"<b>Topic 9</b><br>Words: quarter, morning, dinner, clock, minute\",\"<b>Topic 9</b><br>Words: morning, oclock, dinner, bottisham, company\",\"<b>Topic 9</b><br>Words: northd, wight, gout, attack, pamphlet\",\"<b>Topic 9</b><br>Words: rodwell, notification, uncertainty, barham, dinner\",\"<b>Topic 9</b><br>Words: picture, dinner, opiate, dream, gout\",\"<b>Topic 9</b><br>Words: ireland, quarter, morning, information, dinner\",\"<b>Topic 9</b><br>Words: minute, feast, bell, afternoon, morning\",\"<b>Topic 9</b><br>Words: daylight, breakfast, reserve, morning, ampney\",\"<b>Topic 9</b><br>Words: clock, dinner, morning, bell, doctor\",\"<b>Topic 9</b><br>Words: minute, afternoon, morning, evening, dinner\"],\"marker\":{\"color\":\"#D55E00\"},\"mode\":\"markers\",\"name\":\"9_morning_dinner_clock_minute\",\"x\":[\"1824-05-29T07:12:00\",\"1826-06-16T10:48:00\",\"1828-07-03T14:24:00\",\"1830-07-21T18:00:00\",\"1832-08-07T21:36:00\",\"1834-08-26T01:12:00\",\"1840-10-17T12:00:00\",\"1844-11-21T19:12:00\",\"1846-12-09T22:48:00\",\"1848-12-27T02:24:00\",\"1851-01-14T06:00:00\",\"1853-01-31T09:36:00\",\"1855-02-18T13:12:00\",\"1857-03-07T16:48:00\",\"1859-03-25T20:24:00\"],\"y\":[16,4,3,5,1,1,2,2,2,5,2,6,6,12,8],\"type\":\"scatter\"},{\"hoverinfo\":\"text\",\"hovertext\":[\"<b>Topic 10</b><br>Words: hooker, miss, days_ago, room, dr\",\"<b>Topic 10</b><br>Words: hooker, aberdeenshire, filicum, icone, suscriber\",\"<b>Topic 10</b><br>Words: hooker, magnum, naturelle, twopenny, haldane\",\"<b>Topic 10</b><br>Words: hooker, juice, fork, oen, nitidus\",\"<b>Topic 10</b><br>Words: intercourse, hooker, miss, days_ago, room\",\"<b>Topic 10</b><br>Words: hooker, companion, left, zool, learn\",\"<b>Topic 10</b><br>Words: miscellany, hooker, miss, days_ago, room\",\"<b>Topic 10</b><br>Words: route, hooker, publisher, travel, title\",\"<b>Topic 10</b><br>Words: hooker, miss, retreat, yarmouth, return\",\"<b>Topic 10</b><br>Words: hooker, joseph, room, gateway, laboratory\",\"<b>Topic 10</b><br>Words: hooker, cassel, julian, episode, news\",\"<b>Topic 10</b><br>Words: hooker, affte, rascallitie, fool, breast\",\"<b>Topic 10</b><br>Words: hooker, days_ago, griffin, ten, dawes\",\"<b>Topic 10</b><br>Words: hooker, germany, leonard_horner, hasjsh, hack\",\"<b>Topic 10</b><br>Words: hooker, kindest_regard, reputation, seymour, faithf\",\"<b>Topic 10</b><br>Words: hooker, migrate, liking, sprung, guest\"],\"marker\":{\"color\":\"#0072B2\"},\"mode\":\"markers\",\"name\":\"10_hooker_miss_days_ago_room\",\"x\":[\"1824-05-29T07:12:00\",\"1826-06-16T10:48:00\",\"1828-07-03T14:24:00\",\"1830-07-21T18:00:00\",\"1832-08-07T21:36:00\",\"1834-08-26T01:12:00\",\"1836-09-12T04:48:00\",\"1838-09-30T08:24:00\",\"1844-11-21T19:12:00\",\"1846-12-09T22:48:00\",\"1848-12-27T02:24:00\",\"1851-01-14T06:00:00\",\"1853-01-31T09:36:00\",\"1855-02-18T13:12:00\",\"1857-03-07T16:48:00\",\"1859-03-25T20:24:00\"],\"y\":[1,7,9,9,1,2,1,1,4,4,2,3,4,8,6,3],\"type\":\"scatter\"},{\"hoverinfo\":\"text\",\"hovertext\":[\"<b>Topic 12</b><br>Words: copley, banke, plumper, exchange, candidate\",\"<b>Topic 12</b><br>Words: copley, juin, godson, banke, plumper\",\"<b>Topic 12</b><br>Words: inflation, currency, trading, mite, banking\",\"<b>Topic 12</b><br>Words: bede, peters, othonacester, notitia, bradwell\",\"<b>Topic 12</b><br>Words: expression, bowerbank, bishop, copley, banke\",\"<b>Topic 12</b><br>Words: bowerbank, copley, banke, plumper, exchange\",\"<b>Topic 12</b><br>Words: bowerbank, note, copley, banke, plumper\"],\"marker\":{\"color\":\"#CC79A7\"},\"mode\":\"markers\",\"name\":\"12_copley_banke_plumper_exchange\",\"x\":[\"1824-05-29T07:12:00\",\"1826-06-16T10:48:00\",\"1838-09-30T08:24:00\",\"1846-12-09T22:48:00\",\"1848-12-27T02:24:00\",\"1851-01-14T06:00:00\",\"1853-01-31T09:36:00\"],\"y\":[53,3,2,1,1,2,1],\"type\":\"scatter\"},{\"hoverinfo\":\"text\",\"hovertext\":[\"<b>Topic 13</b><br>Words: health, illness, complaint, care, dpalmerston\",\"<b>Topic 13</b><br>Words: sundry, leach, italy, middle, dine\",\"<b>Topic 13</b><br>Words: fever, illness, health, dominica, duel\",\"<b>Topic 13</b><br>Words: health, illness, lesion, digit, lung\",\"<b>Topic 13</b><br>Words: webster, health, difficulty, illness, fever\",\"<b>Topic 13</b><br>Words: health, worry, asthma, bahama, shoe\",\"<b>Topic 13</b><br>Words: engender, humidity, miasma, endemic, latitude\",\"<b>Topic 13</b><br>Words: measle, malady, prisoner, improved_health, hither\",\"<b>Topic 13</b><br>Words: health, closehouse, furrow, deprive, shin\",\"<b>Topic 13</b><br>Words: broom, lichfield, sulivan, health, henry\",\"<b>Topic 13</b><br>Words: health, physician, salmonide, spasm, idle\",\"<b>Topic 13</b><br>Words: harz, equanimity, fulfilling, suffering, medical\",\"<b>Topic 13</b><br>Words: arrant, sudorific, health, illness, headache\",\"<b>Topic 13</b><br>Words: illness, health, jane, week, winter\"],\"marker\":{\"color\":\"#E69F00\"},\"mode\":\"markers\",\"name\":\"13_health_illness_fever_care\",\"x\":[\"1824-05-29T07:12:00\",\"1826-06-16T10:48:00\",\"1828-07-03T14:24:00\",\"1830-07-21T18:00:00\",\"1836-09-12T04:48:00\",\"1838-09-30T08:24:00\",\"1840-10-17T12:00:00\",\"1846-12-09T22:48:00\",\"1848-12-27T02:24:00\",\"1851-01-14T06:00:00\",\"1853-01-31T09:36:00\",\"1855-02-18T13:12:00\",\"1857-03-07T16:48:00\",\"1859-03-25T20:24:00\"],\"y\":[8,1,6,5,1,3,1,2,4,1,6,2,3,13],\"type\":\"scatter\"}],                        {\"template\":{\"data\":{\"barpolar\":[{\"marker\":{\"line\":{\"color\":\"white\",\"width\":0.5},\"pattern\":{\"fillmode\":\"overlay\",\"size\":10,\"solidity\":0.2}},\"type\":\"barpolar\"}],\"bar\":[{\"error_x\":{\"color\":\"rgb(36,36,36)\"},\"error_y\":{\"color\":\"rgb(36,36,36)\"},\"marker\":{\"line\":{\"color\":\"white\",\"width\":0.5},\"pattern\":{\"fillmode\":\"overlay\",\"size\":10,\"solidity\":0.2}},\"type\":\"bar\"}],\"carpet\":[{\"aaxis\":{\"endlinecolor\":\"rgb(36,36,36)\",\"gridcolor\":\"white\",\"linecolor\":\"white\",\"minorgridcolor\":\"white\",\"startlinecolor\":\"rgb(36,36,36)\"},\"baxis\":{\"endlinecolor\":\"rgb(36,36,36)\",\"gridcolor\":\"white\",\"linecolor\":\"white\",\"minorgridcolor\":\"white\",\"startlinecolor\":\"rgb(36,36,36)\"},\"type\":\"carpet\"}],\"choropleth\":[{\"colorbar\":{\"outlinewidth\":1,\"tickcolor\":\"rgb(36,36,36)\",\"ticks\":\"outside\"},\"type\":\"choropleth\"}],\"contourcarpet\":[{\"colorbar\":{\"outlinewidth\":1,\"tickcolor\":\"rgb(36,36,36)\",\"ticks\":\"outside\"},\"type\":\"contourcarpet\"}],\"contour\":[{\"colorbar\":{\"outlinewidth\":1,\"tickcolor\":\"rgb(36,36,36)\",\"ticks\":\"outside\"},\"colorscale\":[[0.0,\"#440154\"],[0.1111111111111111,\"#482878\"],[0.2222222222222222,\"#3e4989\"],[0.3333333333333333,\"#31688e\"],[0.4444444444444444,\"#26828e\"],[0.5555555555555556,\"#1f9e89\"],[0.6666666666666666,\"#35b779\"],[0.7777777777777778,\"#6ece58\"],[0.8888888888888888,\"#b5de2b\"],[1.0,\"#fde725\"]],\"type\":\"contour\"}],\"heatmapgl\":[{\"colorbar\":{\"outlinewidth\":1,\"tickcolor\":\"rgb(36,36,36)\",\"ticks\":\"outside\"},\"colorscale\":[[0.0,\"#440154\"],[0.1111111111111111,\"#482878\"],[0.2222222222222222,\"#3e4989\"],[0.3333333333333333,\"#31688e\"],[0.4444444444444444,\"#26828e\"],[0.5555555555555556,\"#1f9e89\"],[0.6666666666666666,\"#35b779\"],[0.7777777777777778,\"#6ece58\"],[0.8888888888888888,\"#b5de2b\"],[1.0,\"#fde725\"]],\"type\":\"heatmapgl\"}],\"heatmap\":[{\"colorbar\":{\"outlinewidth\":1,\"tickcolor\":\"rgb(36,36,36)\",\"ticks\":\"outside\"},\"colorscale\":[[0.0,\"#440154\"],[0.1111111111111111,\"#482878\"],[0.2222222222222222,\"#3e4989\"],[0.3333333333333333,\"#31688e\"],[0.4444444444444444,\"#26828e\"],[0.5555555555555556,\"#1f9e89\"],[0.6666666666666666,\"#35b779\"],[0.7777777777777778,\"#6ece58\"],[0.8888888888888888,\"#b5de2b\"],[1.0,\"#fde725\"]],\"type\":\"heatmap\"}],\"histogram2dcontour\":[{\"colorbar\":{\"outlinewidth\":1,\"tickcolor\":\"rgb(36,36,36)\",\"ticks\":\"outside\"},\"colorscale\":[[0.0,\"#440154\"],[0.1111111111111111,\"#482878\"],[0.2222222222222222,\"#3e4989\"],[0.3333333333333333,\"#31688e\"],[0.4444444444444444,\"#26828e\"],[0.5555555555555556,\"#1f9e89\"],[0.6666666666666666,\"#35b779\"],[0.7777777777777778,\"#6ece58\"],[0.8888888888888888,\"#b5de2b\"],[1.0,\"#fde725\"]],\"type\":\"histogram2dcontour\"}],\"histogram2d\":[{\"colorbar\":{\"outlinewidth\":1,\"tickcolor\":\"rgb(36,36,36)\",\"ticks\":\"outside\"},\"colorscale\":[[0.0,\"#440154\"],[0.1111111111111111,\"#482878\"],[0.2222222222222222,\"#3e4989\"],[0.3333333333333333,\"#31688e\"],[0.4444444444444444,\"#26828e\"],[0.5555555555555556,\"#1f9e89\"],[0.6666666666666666,\"#35b779\"],[0.7777777777777778,\"#6ece58\"],[0.8888888888888888,\"#b5de2b\"],[1.0,\"#fde725\"]],\"type\":\"histogram2d\"}],\"histogram\":[{\"marker\":{\"line\":{\"color\":\"white\",\"width\":0.6}},\"type\":\"histogram\"}],\"mesh3d\":[{\"colorbar\":{\"outlinewidth\":1,\"tickcolor\":\"rgb(36,36,36)\",\"ticks\":\"outside\"},\"type\":\"mesh3d\"}],\"parcoords\":[{\"line\":{\"colorbar\":{\"outlinewidth\":1,\"tickcolor\":\"rgb(36,36,36)\",\"ticks\":\"outside\"}},\"type\":\"parcoords\"}],\"pie\":[{\"automargin\":true,\"type\":\"pie\"}],\"scatter3d\":[{\"line\":{\"colorbar\":{\"outlinewidth\":1,\"tickcolor\":\"rgb(36,36,36)\",\"ticks\":\"outside\"}},\"marker\":{\"colorbar\":{\"outlinewidth\":1,\"tickcolor\":\"rgb(36,36,36)\",\"ticks\":\"outside\"}},\"type\":\"scatter3d\"}],\"scattercarpet\":[{\"marker\":{\"colorbar\":{\"outlinewidth\":1,\"tickcolor\":\"rgb(36,36,36)\",\"ticks\":\"outside\"}},\"type\":\"scattercarpet\"}],\"scattergeo\":[{\"marker\":{\"colorbar\":{\"outlinewidth\":1,\"tickcolor\":\"rgb(36,36,36)\",\"ticks\":\"outside\"}},\"type\":\"scattergeo\"}],\"scattergl\":[{\"marker\":{\"colorbar\":{\"outlinewidth\":1,\"tickcolor\":\"rgb(36,36,36)\",\"ticks\":\"outside\"}},\"type\":\"scattergl\"}],\"scattermapbox\":[{\"marker\":{\"colorbar\":{\"outlinewidth\":1,\"tickcolor\":\"rgb(36,36,36)\",\"ticks\":\"outside\"}},\"type\":\"scattermapbox\"}],\"scatterpolargl\":[{\"marker\":{\"colorbar\":{\"outlinewidth\":1,\"tickcolor\":\"rgb(36,36,36)\",\"ticks\":\"outside\"}},\"type\":\"scatterpolargl\"}],\"scatterpolar\":[{\"marker\":{\"colorbar\":{\"outlinewidth\":1,\"tickcolor\":\"rgb(36,36,36)\",\"ticks\":\"outside\"}},\"type\":\"scatterpolar\"}],\"scatter\":[{\"fillpattern\":{\"fillmode\":\"overlay\",\"size\":10,\"solidity\":0.2},\"type\":\"scatter\"}],\"scatterternary\":[{\"marker\":{\"colorbar\":{\"outlinewidth\":1,\"tickcolor\":\"rgb(36,36,36)\",\"ticks\":\"outside\"}},\"type\":\"scatterternary\"}],\"surface\":[{\"colorbar\":{\"outlinewidth\":1,\"tickcolor\":\"rgb(36,36,36)\",\"ticks\":\"outside\"},\"colorscale\":[[0.0,\"#440154\"],[0.1111111111111111,\"#482878\"],[0.2222222222222222,\"#3e4989\"],[0.3333333333333333,\"#31688e\"],[0.4444444444444444,\"#26828e\"],[0.5555555555555556,\"#1f9e89\"],[0.6666666666666666,\"#35b779\"],[0.7777777777777778,\"#6ece58\"],[0.8888888888888888,\"#b5de2b\"],[1.0,\"#fde725\"]],\"type\":\"surface\"}],\"table\":[{\"cells\":{\"fill\":{\"color\":\"rgb(237,237,237)\"},\"line\":{\"color\":\"white\"}},\"header\":{\"fill\":{\"color\":\"rgb(217,217,217)\"},\"line\":{\"color\":\"white\"}},\"type\":\"table\"}]},\"layout\":{\"annotationdefaults\":{\"arrowhead\":0,\"arrowwidth\":1},\"autotypenumbers\":\"strict\",\"coloraxis\":{\"colorbar\":{\"outlinewidth\":1,\"tickcolor\":\"rgb(36,36,36)\",\"ticks\":\"outside\"}},\"colorscale\":{\"diverging\":[[0.0,\"rgb(103,0,31)\"],[0.1,\"rgb(178,24,43)\"],[0.2,\"rgb(214,96,77)\"],[0.3,\"rgb(244,165,130)\"],[0.4,\"rgb(253,219,199)\"],[0.5,\"rgb(247,247,247)\"],[0.6,\"rgb(209,229,240)\"],[0.7,\"rgb(146,197,222)\"],[0.8,\"rgb(67,147,195)\"],[0.9,\"rgb(33,102,172)\"],[1.0,\"rgb(5,48,97)\"]],\"sequential\":[[0.0,\"#440154\"],[0.1111111111111111,\"#482878\"],[0.2222222222222222,\"#3e4989\"],[0.3333333333333333,\"#31688e\"],[0.4444444444444444,\"#26828e\"],[0.5555555555555556,\"#1f9e89\"],[0.6666666666666666,\"#35b779\"],[0.7777777777777778,\"#6ece58\"],[0.8888888888888888,\"#b5de2b\"],[1.0,\"#fde725\"]],\"sequentialminus\":[[0.0,\"#440154\"],[0.1111111111111111,\"#482878\"],[0.2222222222222222,\"#3e4989\"],[0.3333333333333333,\"#31688e\"],[0.4444444444444444,\"#26828e\"],[0.5555555555555556,\"#1f9e89\"],[0.6666666666666666,\"#35b779\"],[0.7777777777777778,\"#6ece58\"],[0.8888888888888888,\"#b5de2b\"],[1.0,\"#fde725\"]]},\"colorway\":[\"#1F77B4\",\"#FF7F0E\",\"#2CA02C\",\"#D62728\",\"#9467BD\",\"#8C564B\",\"#E377C2\",\"#7F7F7F\",\"#BCBD22\",\"#17BECF\"],\"font\":{\"color\":\"rgb(36,36,36)\"},\"geo\":{\"bgcolor\":\"white\",\"lakecolor\":\"white\",\"landcolor\":\"white\",\"showlakes\":true,\"showland\":true,\"subunitcolor\":\"white\"},\"hoverlabel\":{\"align\":\"left\"},\"hovermode\":\"closest\",\"mapbox\":{\"style\":\"light\"},\"paper_bgcolor\":\"white\",\"plot_bgcolor\":\"white\",\"polar\":{\"angularaxis\":{\"gridcolor\":\"rgb(232,232,232)\",\"linecolor\":\"rgb(36,36,36)\",\"showgrid\":false,\"showline\":true,\"ticks\":\"outside\"},\"bgcolor\":\"white\",\"radialaxis\":{\"gridcolor\":\"rgb(232,232,232)\",\"linecolor\":\"rgb(36,36,36)\",\"showgrid\":false,\"showline\":true,\"ticks\":\"outside\"}},\"scene\":{\"xaxis\":{\"backgroundcolor\":\"white\",\"gridcolor\":\"rgb(232,232,232)\",\"gridwidth\":2,\"linecolor\":\"rgb(36,36,36)\",\"showbackground\":true,\"showgrid\":false,\"showline\":true,\"ticks\":\"outside\",\"zeroline\":false,\"zerolinecolor\":\"rgb(36,36,36)\"},\"yaxis\":{\"backgroundcolor\":\"white\",\"gridcolor\":\"rgb(232,232,232)\",\"gridwidth\":2,\"linecolor\":\"rgb(36,36,36)\",\"showbackground\":true,\"showgrid\":false,\"showline\":true,\"ticks\":\"outside\",\"zeroline\":false,\"zerolinecolor\":\"rgb(36,36,36)\"},\"zaxis\":{\"backgroundcolor\":\"white\",\"gridcolor\":\"rgb(232,232,232)\",\"gridwidth\":2,\"linecolor\":\"rgb(36,36,36)\",\"showbackground\":true,\"showgrid\":false,\"showline\":true,\"ticks\":\"outside\",\"zeroline\":false,\"zerolinecolor\":\"rgb(36,36,36)\"}},\"shapedefaults\":{\"fillcolor\":\"black\",\"line\":{\"width\":0},\"opacity\":0.3},\"ternary\":{\"aaxis\":{\"gridcolor\":\"rgb(232,232,232)\",\"linecolor\":\"rgb(36,36,36)\",\"showgrid\":false,\"showline\":true,\"ticks\":\"outside\"},\"baxis\":{\"gridcolor\":\"rgb(232,232,232)\",\"linecolor\":\"rgb(36,36,36)\",\"showgrid\":false,\"showline\":true,\"ticks\":\"outside\"},\"bgcolor\":\"white\",\"caxis\":{\"gridcolor\":\"rgb(232,232,232)\",\"linecolor\":\"rgb(36,36,36)\",\"showgrid\":false,\"showline\":true,\"ticks\":\"outside\"}},\"title\":{\"x\":0.05},\"xaxis\":{\"automargin\":true,\"gridcolor\":\"rgb(232,232,232)\",\"linecolor\":\"rgb(36,36,36)\",\"showgrid\":false,\"showline\":true,\"ticks\":\"outside\",\"title\":{\"standoff\":15},\"zeroline\":false,\"zerolinecolor\":\"rgb(36,36,36)\"},\"yaxis\":{\"automargin\":true,\"gridcolor\":\"rgb(232,232,232)\",\"linecolor\":\"rgb(36,36,36)\",\"showgrid\":false,\"showline\":true,\"ticks\":\"outside\",\"title\":{\"standoff\":15},\"zeroline\":false,\"zerolinecolor\":\"rgb(36,36,36)\"}}},\"xaxis\":{\"showgrid\":true},\"yaxis\":{\"showgrid\":true,\"title\":{\"text\":\"Count\"}},\"title\":{\"font\":{\"size\":22,\"color\":\"Black\"},\"text\":\"<b>Topics over Time\",\"y\":0.95,\"x\":0.4,\"xanchor\":\"center\",\"yanchor\":\"top\"},\"hoverlabel\":{\"font\":{\"size\":16,\"family\":\"Rockwell\"},\"bgcolor\":\"white\"},\"width\":1000,\"height\":500,\"legend\":{\"title\":{\"text\":\"<b>Global Topic Representation\"}}},                        {\"responsive\": true}                    ).then(function(){\n",
       "                            \n",
       "var gd = document.getElementById('4144e86a-9988-4a6b-a4e8-01a823fbf44c');\n",
       "var x = new MutationObserver(function (mutations, observer) {{\n",
       "        var display = window.getComputedStyle(gd).display;\n",
       "        if (!display || display === 'none') {{\n",
       "            console.log([gd, 'removed!']);\n",
       "            Plotly.purge(gd);\n",
       "            observer.disconnect();\n",
       "        }}\n",
       "}});\n",
       "\n",
       "// Listen for the removal of the full notebook cells\n",
       "var notebookContainer = gd.closest('#notebook-container');\n",
       "if (notebookContainer) {{\n",
       "    x.observe(notebookContainer, {childList: true});\n",
       "}}\n",
       "\n",
       "// Listen for the clearing of the current output cell\n",
       "var outputEl = gd.closest('.output');\n",
       "if (outputEl) {{\n",
       "    x.observe(outputEl, {childList: true});\n",
       "}}\n",
       "\n",
       "                        })                };                });            </script>        </div>"
      ]
     },
     "metadata": {},
     "output_type": "display_data"
    }
   ],
   "source": [
    "non_henslow_vis_obj = bertopic_time(non_henslow_sent_df, topic_model)\n",
    "non_henslow_vis = non_henslow_vis_obj[0]\n",
    "non_henslow_vis"
   ]
  },
  {
   "cell_type": "markdown",
   "id": "61834a24",
   "metadata": {},
   "source": [
    "Use year_counts and year_counts_plot functions to get a count of letters to Henslow in each year and visualise."
   ]
  },
  {
   "cell_type": "code",
   "execution_count": 25,
   "id": "66388cd4",
   "metadata": {
    "scrolled": false
   },
   "outputs": [
    {
     "data": {
      "application/vnd.plotly.v1+json": {
       "config": {
        "plotlyServerURL": "https://plot.ly"
       },
       "data": [
        {
         "alignmentgroup": "True",
         "hovertemplate": "variable=0<br>Year=%{x}<br>Count=%{y}<extra></extra>",
         "legendgroup": "0",
         "marker": {
          "color": "#636efa",
          "pattern": {
           "shape": ""
          }
         },
         "name": "0",
         "offsetgroup": "0",
         "orientation": "v",
         "showlegend": true,
         "textposition": "auto",
         "type": "bar",
         "x": [
          1820,
          1821,
          1822,
          1823,
          1824,
          1825,
          1826,
          1827,
          1828,
          1829,
          1830,
          1831,
          1832,
          1833,
          1834,
          1835,
          1836,
          1837,
          1838,
          1839,
          1840,
          1841,
          1842,
          1843,
          1844,
          1845,
          1846,
          1847,
          1848,
          1849,
          1850,
          1851,
          1852,
          1853,
          1854,
          1855,
          1856,
          1857,
          1858,
          1859,
          1860,
          1861
         ],
         "xaxis": "x",
         "y": [
          1,
          2,
          2,
          4,
          6,
          20,
          190,
          18,
          20,
          22,
          30,
          54,
          8,
          10,
          5,
          5,
          7,
          8,
          3,
          8,
          9,
          5,
          12,
          4,
          7,
          11,
          9,
          9,
          8,
          15,
          16,
          12,
          23,
          23,
          13,
          47,
          78,
          34,
          29,
          30,
          38,
          1
         ],
         "yaxis": "y"
        }
       ],
       "layout": {
        "barmode": "relative",
        "legend": {
         "title": {
          "text": "variable"
         },
         "tracegroupgap": 0
        },
        "showlegend": false,
        "template": {
         "data": {
          "bar": [
           {
            "error_x": {
             "color": "#2a3f5f"
            },
            "error_y": {
             "color": "#2a3f5f"
            },
            "marker": {
             "line": {
              "color": "#E5ECF6",
              "width": 0.5
             },
             "pattern": {
              "fillmode": "overlay",
              "size": 10,
              "solidity": 0.2
             }
            },
            "type": "bar"
           }
          ],
          "barpolar": [
           {
            "marker": {
             "line": {
              "color": "#E5ECF6",
              "width": 0.5
             },
             "pattern": {
              "fillmode": "overlay",
              "size": 10,
              "solidity": 0.2
             }
            },
            "type": "barpolar"
           }
          ],
          "carpet": [
           {
            "aaxis": {
             "endlinecolor": "#2a3f5f",
             "gridcolor": "white",
             "linecolor": "white",
             "minorgridcolor": "white",
             "startlinecolor": "#2a3f5f"
            },
            "baxis": {
             "endlinecolor": "#2a3f5f",
             "gridcolor": "white",
             "linecolor": "white",
             "minorgridcolor": "white",
             "startlinecolor": "#2a3f5f"
            },
            "type": "carpet"
           }
          ],
          "choropleth": [
           {
            "colorbar": {
             "outlinewidth": 0,
             "ticks": ""
            },
            "type": "choropleth"
           }
          ],
          "contour": [
           {
            "colorbar": {
             "outlinewidth": 0,
             "ticks": ""
            },
            "colorscale": [
             [
              0,
              "#0d0887"
             ],
             [
              0.1111111111111111,
              "#46039f"
             ],
             [
              0.2222222222222222,
              "#7201a8"
             ],
             [
              0.3333333333333333,
              "#9c179e"
             ],
             [
              0.4444444444444444,
              "#bd3786"
             ],
             [
              0.5555555555555556,
              "#d8576b"
             ],
             [
              0.6666666666666666,
              "#ed7953"
             ],
             [
              0.7777777777777778,
              "#fb9f3a"
             ],
             [
              0.8888888888888888,
              "#fdca26"
             ],
             [
              1,
              "#f0f921"
             ]
            ],
            "type": "contour"
           }
          ],
          "contourcarpet": [
           {
            "colorbar": {
             "outlinewidth": 0,
             "ticks": ""
            },
            "type": "contourcarpet"
           }
          ],
          "heatmap": [
           {
            "colorbar": {
             "outlinewidth": 0,
             "ticks": ""
            },
            "colorscale": [
             [
              0,
              "#0d0887"
             ],
             [
              0.1111111111111111,
              "#46039f"
             ],
             [
              0.2222222222222222,
              "#7201a8"
             ],
             [
              0.3333333333333333,
              "#9c179e"
             ],
             [
              0.4444444444444444,
              "#bd3786"
             ],
             [
              0.5555555555555556,
              "#d8576b"
             ],
             [
              0.6666666666666666,
              "#ed7953"
             ],
             [
              0.7777777777777778,
              "#fb9f3a"
             ],
             [
              0.8888888888888888,
              "#fdca26"
             ],
             [
              1,
              "#f0f921"
             ]
            ],
            "type": "heatmap"
           }
          ],
          "heatmapgl": [
           {
            "colorbar": {
             "outlinewidth": 0,
             "ticks": ""
            },
            "colorscale": [
             [
              0,
              "#0d0887"
             ],
             [
              0.1111111111111111,
              "#46039f"
             ],
             [
              0.2222222222222222,
              "#7201a8"
             ],
             [
              0.3333333333333333,
              "#9c179e"
             ],
             [
              0.4444444444444444,
              "#bd3786"
             ],
             [
              0.5555555555555556,
              "#d8576b"
             ],
             [
              0.6666666666666666,
              "#ed7953"
             ],
             [
              0.7777777777777778,
              "#fb9f3a"
             ],
             [
              0.8888888888888888,
              "#fdca26"
             ],
             [
              1,
              "#f0f921"
             ]
            ],
            "type": "heatmapgl"
           }
          ],
          "histogram": [
           {
            "marker": {
             "pattern": {
              "fillmode": "overlay",
              "size": 10,
              "solidity": 0.2
             }
            },
            "type": "histogram"
           }
          ],
          "histogram2d": [
           {
            "colorbar": {
             "outlinewidth": 0,
             "ticks": ""
            },
            "colorscale": [
             [
              0,
              "#0d0887"
             ],
             [
              0.1111111111111111,
              "#46039f"
             ],
             [
              0.2222222222222222,
              "#7201a8"
             ],
             [
              0.3333333333333333,
              "#9c179e"
             ],
             [
              0.4444444444444444,
              "#bd3786"
             ],
             [
              0.5555555555555556,
              "#d8576b"
             ],
             [
              0.6666666666666666,
              "#ed7953"
             ],
             [
              0.7777777777777778,
              "#fb9f3a"
             ],
             [
              0.8888888888888888,
              "#fdca26"
             ],
             [
              1,
              "#f0f921"
             ]
            ],
            "type": "histogram2d"
           }
          ],
          "histogram2dcontour": [
           {
            "colorbar": {
             "outlinewidth": 0,
             "ticks": ""
            },
            "colorscale": [
             [
              0,
              "#0d0887"
             ],
             [
              0.1111111111111111,
              "#46039f"
             ],
             [
              0.2222222222222222,
              "#7201a8"
             ],
             [
              0.3333333333333333,
              "#9c179e"
             ],
             [
              0.4444444444444444,
              "#bd3786"
             ],
             [
              0.5555555555555556,
              "#d8576b"
             ],
             [
              0.6666666666666666,
              "#ed7953"
             ],
             [
              0.7777777777777778,
              "#fb9f3a"
             ],
             [
              0.8888888888888888,
              "#fdca26"
             ],
             [
              1,
              "#f0f921"
             ]
            ],
            "type": "histogram2dcontour"
           }
          ],
          "mesh3d": [
           {
            "colorbar": {
             "outlinewidth": 0,
             "ticks": ""
            },
            "type": "mesh3d"
           }
          ],
          "parcoords": [
           {
            "line": {
             "colorbar": {
              "outlinewidth": 0,
              "ticks": ""
             }
            },
            "type": "parcoords"
           }
          ],
          "pie": [
           {
            "automargin": true,
            "type": "pie"
           }
          ],
          "scatter": [
           {
            "fillpattern": {
             "fillmode": "overlay",
             "size": 10,
             "solidity": 0.2
            },
            "type": "scatter"
           }
          ],
          "scatter3d": [
           {
            "line": {
             "colorbar": {
              "outlinewidth": 0,
              "ticks": ""
             }
            },
            "marker": {
             "colorbar": {
              "outlinewidth": 0,
              "ticks": ""
             }
            },
            "type": "scatter3d"
           }
          ],
          "scattercarpet": [
           {
            "marker": {
             "colorbar": {
              "outlinewidth": 0,
              "ticks": ""
             }
            },
            "type": "scattercarpet"
           }
          ],
          "scattergeo": [
           {
            "marker": {
             "colorbar": {
              "outlinewidth": 0,
              "ticks": ""
             }
            },
            "type": "scattergeo"
           }
          ],
          "scattergl": [
           {
            "marker": {
             "colorbar": {
              "outlinewidth": 0,
              "ticks": ""
             }
            },
            "type": "scattergl"
           }
          ],
          "scattermapbox": [
           {
            "marker": {
             "colorbar": {
              "outlinewidth": 0,
              "ticks": ""
             }
            },
            "type": "scattermapbox"
           }
          ],
          "scatterpolar": [
           {
            "marker": {
             "colorbar": {
              "outlinewidth": 0,
              "ticks": ""
             }
            },
            "type": "scatterpolar"
           }
          ],
          "scatterpolargl": [
           {
            "marker": {
             "colorbar": {
              "outlinewidth": 0,
              "ticks": ""
             }
            },
            "type": "scatterpolargl"
           }
          ],
          "scatterternary": [
           {
            "marker": {
             "colorbar": {
              "outlinewidth": 0,
              "ticks": ""
             }
            },
            "type": "scatterternary"
           }
          ],
          "surface": [
           {
            "colorbar": {
             "outlinewidth": 0,
             "ticks": ""
            },
            "colorscale": [
             [
              0,
              "#0d0887"
             ],
             [
              0.1111111111111111,
              "#46039f"
             ],
             [
              0.2222222222222222,
              "#7201a8"
             ],
             [
              0.3333333333333333,
              "#9c179e"
             ],
             [
              0.4444444444444444,
              "#bd3786"
             ],
             [
              0.5555555555555556,
              "#d8576b"
             ],
             [
              0.6666666666666666,
              "#ed7953"
             ],
             [
              0.7777777777777778,
              "#fb9f3a"
             ],
             [
              0.8888888888888888,
              "#fdca26"
             ],
             [
              1,
              "#f0f921"
             ]
            ],
            "type": "surface"
           }
          ],
          "table": [
           {
            "cells": {
             "fill": {
              "color": "#EBF0F8"
             },
             "line": {
              "color": "white"
             }
            },
            "header": {
             "fill": {
              "color": "#C8D4E3"
             },
             "line": {
              "color": "white"
             }
            },
            "type": "table"
           }
          ]
         },
         "layout": {
          "annotationdefaults": {
           "arrowcolor": "#2a3f5f",
           "arrowhead": 0,
           "arrowwidth": 1
          },
          "autotypenumbers": "strict",
          "coloraxis": {
           "colorbar": {
            "outlinewidth": 0,
            "ticks": ""
           }
          },
          "colorscale": {
           "diverging": [
            [
             0,
             "#8e0152"
            ],
            [
             0.1,
             "#c51b7d"
            ],
            [
             0.2,
             "#de77ae"
            ],
            [
             0.3,
             "#f1b6da"
            ],
            [
             0.4,
             "#fde0ef"
            ],
            [
             0.5,
             "#f7f7f7"
            ],
            [
             0.6,
             "#e6f5d0"
            ],
            [
             0.7,
             "#b8e186"
            ],
            [
             0.8,
             "#7fbc41"
            ],
            [
             0.9,
             "#4d9221"
            ],
            [
             1,
             "#276419"
            ]
           ],
           "sequential": [
            [
             0,
             "#0d0887"
            ],
            [
             0.1111111111111111,
             "#46039f"
            ],
            [
             0.2222222222222222,
             "#7201a8"
            ],
            [
             0.3333333333333333,
             "#9c179e"
            ],
            [
             0.4444444444444444,
             "#bd3786"
            ],
            [
             0.5555555555555556,
             "#d8576b"
            ],
            [
             0.6666666666666666,
             "#ed7953"
            ],
            [
             0.7777777777777778,
             "#fb9f3a"
            ],
            [
             0.8888888888888888,
             "#fdca26"
            ],
            [
             1,
             "#f0f921"
            ]
           ],
           "sequentialminus": [
            [
             0,
             "#0d0887"
            ],
            [
             0.1111111111111111,
             "#46039f"
            ],
            [
             0.2222222222222222,
             "#7201a8"
            ],
            [
             0.3333333333333333,
             "#9c179e"
            ],
            [
             0.4444444444444444,
             "#bd3786"
            ],
            [
             0.5555555555555556,
             "#d8576b"
            ],
            [
             0.6666666666666666,
             "#ed7953"
            ],
            [
             0.7777777777777778,
             "#fb9f3a"
            ],
            [
             0.8888888888888888,
             "#fdca26"
            ],
            [
             1,
             "#f0f921"
            ]
           ]
          },
          "colorway": [
           "#636efa",
           "#EF553B",
           "#00cc96",
           "#ab63fa",
           "#FFA15A",
           "#19d3f3",
           "#FF6692",
           "#B6E880",
           "#FF97FF",
           "#FECB52"
          ],
          "font": {
           "color": "#2a3f5f"
          },
          "geo": {
           "bgcolor": "white",
           "lakecolor": "white",
           "landcolor": "#E5ECF6",
           "showlakes": true,
           "showland": true,
           "subunitcolor": "white"
          },
          "hoverlabel": {
           "align": "left"
          },
          "hovermode": "closest",
          "mapbox": {
           "style": "light"
          },
          "paper_bgcolor": "white",
          "plot_bgcolor": "#E5ECF6",
          "polar": {
           "angularaxis": {
            "gridcolor": "white",
            "linecolor": "white",
            "ticks": ""
           },
           "bgcolor": "#E5ECF6",
           "radialaxis": {
            "gridcolor": "white",
            "linecolor": "white",
            "ticks": ""
           }
          },
          "scene": {
           "xaxis": {
            "backgroundcolor": "#E5ECF6",
            "gridcolor": "white",
            "gridwidth": 2,
            "linecolor": "white",
            "showbackground": true,
            "ticks": "",
            "zerolinecolor": "white"
           },
           "yaxis": {
            "backgroundcolor": "#E5ECF6",
            "gridcolor": "white",
            "gridwidth": 2,
            "linecolor": "white",
            "showbackground": true,
            "ticks": "",
            "zerolinecolor": "white"
           },
           "zaxis": {
            "backgroundcolor": "#E5ECF6",
            "gridcolor": "white",
            "gridwidth": 2,
            "linecolor": "white",
            "showbackground": true,
            "ticks": "",
            "zerolinecolor": "white"
           }
          },
          "shapedefaults": {
           "line": {
            "color": "#2a3f5f"
           }
          },
          "ternary": {
           "aaxis": {
            "gridcolor": "white",
            "linecolor": "white",
            "ticks": ""
           },
           "baxis": {
            "gridcolor": "white",
            "linecolor": "white",
            "ticks": ""
           },
           "bgcolor": "#E5ECF6",
           "caxis": {
            "gridcolor": "white",
            "linecolor": "white",
            "ticks": ""
           }
          },
          "title": {
           "x": 0.05
          },
          "xaxis": {
           "automargin": true,
           "gridcolor": "white",
           "linecolor": "white",
           "ticks": "",
           "title": {
            "standoff": 15
           },
           "zerolinecolor": "white",
           "zerolinewidth": 2
          },
          "yaxis": {
           "automargin": true,
           "gridcolor": "white",
           "linecolor": "white",
           "ticks": "",
           "title": {
            "standoff": 15
           },
           "zerolinecolor": "white",
           "zerolinewidth": 2
          }
         }
        },
        "title": {
         "text": "Letter Count by Year"
        },
        "xaxis": {
         "anchor": "y",
         "domain": [
          0,
          1
         ],
         "title": {
          "text": "Year"
         }
        },
        "yaxis": {
         "anchor": "x",
         "domain": [
          0,
          1
         ],
         "title": {
          "text": "Count"
         }
        }
       }
      },
      "text/html": [
       "<div>                            <div id=\"49ca1291-4f69-4482-8421-70ffafa6d38e\" class=\"plotly-graph-div\" style=\"height:525px; width:100%;\"></div>            <script type=\"text/javascript\">                require([\"plotly\"], function(Plotly) {                    window.PLOTLYENV=window.PLOTLYENV || {};                                    if (document.getElementById(\"49ca1291-4f69-4482-8421-70ffafa6d38e\")) {                    Plotly.newPlot(                        \"49ca1291-4f69-4482-8421-70ffafa6d38e\",                        [{\"alignmentgroup\":\"True\",\"hovertemplate\":\"variable=0<br>Year=%{x}<br>Count=%{y}<extra></extra>\",\"legendgroup\":\"0\",\"marker\":{\"color\":\"#636efa\",\"pattern\":{\"shape\":\"\"}},\"name\":\"0\",\"offsetgroup\":\"0\",\"orientation\":\"v\",\"showlegend\":true,\"textposition\":\"auto\",\"x\":[1820,1821,1822,1823,1824,1825,1826,1827,1828,1829,1830,1831,1832,1833,1834,1835,1836,1837,1838,1839,1840,1841,1842,1843,1844,1845,1846,1847,1848,1849,1850,1851,1852,1853,1854,1855,1856,1857,1858,1859,1860,1861],\"xaxis\":\"x\",\"y\":[1,2,2,4,6,20,190,18,20,22,30,54,8,10,5,5,7,8,3,8,9,5,12,4,7,11,9,9,8,15,16,12,23,23,13,47,78,34,29,30,38,1],\"yaxis\":\"y\",\"type\":\"bar\"}],                        {\"template\":{\"data\":{\"histogram2dcontour\":[{\"type\":\"histogram2dcontour\",\"colorbar\":{\"outlinewidth\":0,\"ticks\":\"\"},\"colorscale\":[[0.0,\"#0d0887\"],[0.1111111111111111,\"#46039f\"],[0.2222222222222222,\"#7201a8\"],[0.3333333333333333,\"#9c179e\"],[0.4444444444444444,\"#bd3786\"],[0.5555555555555556,\"#d8576b\"],[0.6666666666666666,\"#ed7953\"],[0.7777777777777778,\"#fb9f3a\"],[0.8888888888888888,\"#fdca26\"],[1.0,\"#f0f921\"]]}],\"choropleth\":[{\"type\":\"choropleth\",\"colorbar\":{\"outlinewidth\":0,\"ticks\":\"\"}}],\"histogram2d\":[{\"type\":\"histogram2d\",\"colorbar\":{\"outlinewidth\":0,\"ticks\":\"\"},\"colorscale\":[[0.0,\"#0d0887\"],[0.1111111111111111,\"#46039f\"],[0.2222222222222222,\"#7201a8\"],[0.3333333333333333,\"#9c179e\"],[0.4444444444444444,\"#bd3786\"],[0.5555555555555556,\"#d8576b\"],[0.6666666666666666,\"#ed7953\"],[0.7777777777777778,\"#fb9f3a\"],[0.8888888888888888,\"#fdca26\"],[1.0,\"#f0f921\"]]}],\"heatmap\":[{\"type\":\"heatmap\",\"colorbar\":{\"outlinewidth\":0,\"ticks\":\"\"},\"colorscale\":[[0.0,\"#0d0887\"],[0.1111111111111111,\"#46039f\"],[0.2222222222222222,\"#7201a8\"],[0.3333333333333333,\"#9c179e\"],[0.4444444444444444,\"#bd3786\"],[0.5555555555555556,\"#d8576b\"],[0.6666666666666666,\"#ed7953\"],[0.7777777777777778,\"#fb9f3a\"],[0.8888888888888888,\"#fdca26\"],[1.0,\"#f0f921\"]]}],\"heatmapgl\":[{\"type\":\"heatmapgl\",\"colorbar\":{\"outlinewidth\":0,\"ticks\":\"\"},\"colorscale\":[[0.0,\"#0d0887\"],[0.1111111111111111,\"#46039f\"],[0.2222222222222222,\"#7201a8\"],[0.3333333333333333,\"#9c179e\"],[0.4444444444444444,\"#bd3786\"],[0.5555555555555556,\"#d8576b\"],[0.6666666666666666,\"#ed7953\"],[0.7777777777777778,\"#fb9f3a\"],[0.8888888888888888,\"#fdca26\"],[1.0,\"#f0f921\"]]}],\"contourcarpet\":[{\"type\":\"contourcarpet\",\"colorbar\":{\"outlinewidth\":0,\"ticks\":\"\"}}],\"contour\":[{\"type\":\"contour\",\"colorbar\":{\"outlinewidth\":0,\"ticks\":\"\"},\"colorscale\":[[0.0,\"#0d0887\"],[0.1111111111111111,\"#46039f\"],[0.2222222222222222,\"#7201a8\"],[0.3333333333333333,\"#9c179e\"],[0.4444444444444444,\"#bd3786\"],[0.5555555555555556,\"#d8576b\"],[0.6666666666666666,\"#ed7953\"],[0.7777777777777778,\"#fb9f3a\"],[0.8888888888888888,\"#fdca26\"],[1.0,\"#f0f921\"]]}],\"surface\":[{\"type\":\"surface\",\"colorbar\":{\"outlinewidth\":0,\"ticks\":\"\"},\"colorscale\":[[0.0,\"#0d0887\"],[0.1111111111111111,\"#46039f\"],[0.2222222222222222,\"#7201a8\"],[0.3333333333333333,\"#9c179e\"],[0.4444444444444444,\"#bd3786\"],[0.5555555555555556,\"#d8576b\"],[0.6666666666666666,\"#ed7953\"],[0.7777777777777778,\"#fb9f3a\"],[0.8888888888888888,\"#fdca26\"],[1.0,\"#f0f921\"]]}],\"mesh3d\":[{\"type\":\"mesh3d\",\"colorbar\":{\"outlinewidth\":0,\"ticks\":\"\"}}],\"scatter\":[{\"fillpattern\":{\"fillmode\":\"overlay\",\"size\":10,\"solidity\":0.2},\"type\":\"scatter\"}],\"parcoords\":[{\"type\":\"parcoords\",\"line\":{\"colorbar\":{\"outlinewidth\":0,\"ticks\":\"\"}}}],\"scatterpolargl\":[{\"type\":\"scatterpolargl\",\"marker\":{\"colorbar\":{\"outlinewidth\":0,\"ticks\":\"\"}}}],\"bar\":[{\"error_x\":{\"color\":\"#2a3f5f\"},\"error_y\":{\"color\":\"#2a3f5f\"},\"marker\":{\"line\":{\"color\":\"#E5ECF6\",\"width\":0.5},\"pattern\":{\"fillmode\":\"overlay\",\"size\":10,\"solidity\":0.2}},\"type\":\"bar\"}],\"scattergeo\":[{\"type\":\"scattergeo\",\"marker\":{\"colorbar\":{\"outlinewidth\":0,\"ticks\":\"\"}}}],\"scatterpolar\":[{\"type\":\"scatterpolar\",\"marker\":{\"colorbar\":{\"outlinewidth\":0,\"ticks\":\"\"}}}],\"histogram\":[{\"marker\":{\"pattern\":{\"fillmode\":\"overlay\",\"size\":10,\"solidity\":0.2}},\"type\":\"histogram\"}],\"scattergl\":[{\"type\":\"scattergl\",\"marker\":{\"colorbar\":{\"outlinewidth\":0,\"ticks\":\"\"}}}],\"scatter3d\":[{\"type\":\"scatter3d\",\"line\":{\"colorbar\":{\"outlinewidth\":0,\"ticks\":\"\"}},\"marker\":{\"colorbar\":{\"outlinewidth\":0,\"ticks\":\"\"}}}],\"scattermapbox\":[{\"type\":\"scattermapbox\",\"marker\":{\"colorbar\":{\"outlinewidth\":0,\"ticks\":\"\"}}}],\"scatterternary\":[{\"type\":\"scatterternary\",\"marker\":{\"colorbar\":{\"outlinewidth\":0,\"ticks\":\"\"}}}],\"scattercarpet\":[{\"type\":\"scattercarpet\",\"marker\":{\"colorbar\":{\"outlinewidth\":0,\"ticks\":\"\"}}}],\"carpet\":[{\"aaxis\":{\"endlinecolor\":\"#2a3f5f\",\"gridcolor\":\"white\",\"linecolor\":\"white\",\"minorgridcolor\":\"white\",\"startlinecolor\":\"#2a3f5f\"},\"baxis\":{\"endlinecolor\":\"#2a3f5f\",\"gridcolor\":\"white\",\"linecolor\":\"white\",\"minorgridcolor\":\"white\",\"startlinecolor\":\"#2a3f5f\"},\"type\":\"carpet\"}],\"table\":[{\"cells\":{\"fill\":{\"color\":\"#EBF0F8\"},\"line\":{\"color\":\"white\"}},\"header\":{\"fill\":{\"color\":\"#C8D4E3\"},\"line\":{\"color\":\"white\"}},\"type\":\"table\"}],\"barpolar\":[{\"marker\":{\"line\":{\"color\":\"#E5ECF6\",\"width\":0.5},\"pattern\":{\"fillmode\":\"overlay\",\"size\":10,\"solidity\":0.2}},\"type\":\"barpolar\"}],\"pie\":[{\"automargin\":true,\"type\":\"pie\"}]},\"layout\":{\"autotypenumbers\":\"strict\",\"colorway\":[\"#636efa\",\"#EF553B\",\"#00cc96\",\"#ab63fa\",\"#FFA15A\",\"#19d3f3\",\"#FF6692\",\"#B6E880\",\"#FF97FF\",\"#FECB52\"],\"font\":{\"color\":\"#2a3f5f\"},\"hovermode\":\"closest\",\"hoverlabel\":{\"align\":\"left\"},\"paper_bgcolor\":\"white\",\"plot_bgcolor\":\"#E5ECF6\",\"polar\":{\"bgcolor\":\"#E5ECF6\",\"angularaxis\":{\"gridcolor\":\"white\",\"linecolor\":\"white\",\"ticks\":\"\"},\"radialaxis\":{\"gridcolor\":\"white\",\"linecolor\":\"white\",\"ticks\":\"\"}},\"ternary\":{\"bgcolor\":\"#E5ECF6\",\"aaxis\":{\"gridcolor\":\"white\",\"linecolor\":\"white\",\"ticks\":\"\"},\"baxis\":{\"gridcolor\":\"white\",\"linecolor\":\"white\",\"ticks\":\"\"},\"caxis\":{\"gridcolor\":\"white\",\"linecolor\":\"white\",\"ticks\":\"\"}},\"coloraxis\":{\"colorbar\":{\"outlinewidth\":0,\"ticks\":\"\"}},\"colorscale\":{\"sequential\":[[0.0,\"#0d0887\"],[0.1111111111111111,\"#46039f\"],[0.2222222222222222,\"#7201a8\"],[0.3333333333333333,\"#9c179e\"],[0.4444444444444444,\"#bd3786\"],[0.5555555555555556,\"#d8576b\"],[0.6666666666666666,\"#ed7953\"],[0.7777777777777778,\"#fb9f3a\"],[0.8888888888888888,\"#fdca26\"],[1.0,\"#f0f921\"]],\"sequentialminus\":[[0.0,\"#0d0887\"],[0.1111111111111111,\"#46039f\"],[0.2222222222222222,\"#7201a8\"],[0.3333333333333333,\"#9c179e\"],[0.4444444444444444,\"#bd3786\"],[0.5555555555555556,\"#d8576b\"],[0.6666666666666666,\"#ed7953\"],[0.7777777777777778,\"#fb9f3a\"],[0.8888888888888888,\"#fdca26\"],[1.0,\"#f0f921\"]],\"diverging\":[[0,\"#8e0152\"],[0.1,\"#c51b7d\"],[0.2,\"#de77ae\"],[0.3,\"#f1b6da\"],[0.4,\"#fde0ef\"],[0.5,\"#f7f7f7\"],[0.6,\"#e6f5d0\"],[0.7,\"#b8e186\"],[0.8,\"#7fbc41\"],[0.9,\"#4d9221\"],[1,\"#276419\"]]},\"xaxis\":{\"gridcolor\":\"white\",\"linecolor\":\"white\",\"ticks\":\"\",\"title\":{\"standoff\":15},\"zerolinecolor\":\"white\",\"automargin\":true,\"zerolinewidth\":2},\"yaxis\":{\"gridcolor\":\"white\",\"linecolor\":\"white\",\"ticks\":\"\",\"title\":{\"standoff\":15},\"zerolinecolor\":\"white\",\"automargin\":true,\"zerolinewidth\":2},\"scene\":{\"xaxis\":{\"backgroundcolor\":\"#E5ECF6\",\"gridcolor\":\"white\",\"linecolor\":\"white\",\"showbackground\":true,\"ticks\":\"\",\"zerolinecolor\":\"white\",\"gridwidth\":2},\"yaxis\":{\"backgroundcolor\":\"#E5ECF6\",\"gridcolor\":\"white\",\"linecolor\":\"white\",\"showbackground\":true,\"ticks\":\"\",\"zerolinecolor\":\"white\",\"gridwidth\":2},\"zaxis\":{\"backgroundcolor\":\"#E5ECF6\",\"gridcolor\":\"white\",\"linecolor\":\"white\",\"showbackground\":true,\"ticks\":\"\",\"zerolinecolor\":\"white\",\"gridwidth\":2}},\"shapedefaults\":{\"line\":{\"color\":\"#2a3f5f\"}},\"annotationdefaults\":{\"arrowcolor\":\"#2a3f5f\",\"arrowhead\":0,\"arrowwidth\":1},\"geo\":{\"bgcolor\":\"white\",\"landcolor\":\"#E5ECF6\",\"subunitcolor\":\"white\",\"showland\":true,\"showlakes\":true,\"lakecolor\":\"white\"},\"title\":{\"x\":0.05},\"mapbox\":{\"style\":\"light\"}}},\"xaxis\":{\"anchor\":\"y\",\"domain\":[0.0,1.0],\"title\":{\"text\":\"Year\"}},\"yaxis\":{\"anchor\":\"x\",\"domain\":[0.0,1.0],\"title\":{\"text\":\"Count\"}},\"legend\":{\"title\":{\"text\":\"variable\"},\"tracegroupgap\":0},\"title\":{\"text\":\"Letter Count by Year\"},\"barmode\":\"relative\",\"showlegend\":false},                        {\"responsive\": true}                    ).then(function(){\n",
       "                            \n",
       "var gd = document.getElementById('49ca1291-4f69-4482-8421-70ffafa6d38e');\n",
       "var x = new MutationObserver(function (mutations, observer) {{\n",
       "        var display = window.getComputedStyle(gd).display;\n",
       "        if (!display || display === 'none') {{\n",
       "            console.log([gd, 'removed!']);\n",
       "            Plotly.purge(gd);\n",
       "            observer.disconnect();\n",
       "        }}\n",
       "}});\n",
       "\n",
       "// Listen for the removal of the full notebook cells\n",
       "var notebookContainer = gd.closest('#notebook-container');\n",
       "if (notebookContainer) {{\n",
       "    x.observe(notebookContainer, {childList: true});\n",
       "}}\n",
       "\n",
       "// Listen for the clearing of the current output cell\n",
       "var outputEl = gd.closest('.output');\n",
       "if (outputEl) {{\n",
       "    x.observe(outputEl, {childList: true});\n",
       "}}\n",
       "\n",
       "                        })                };                });            </script>        </div>"
      ]
     },
     "metadata": {},
     "output_type": "display_data"
    }
   ],
   "source": [
    "year_counts_non_henslow = year_counts(non_henslow_df)\n",
    "letter_nums_non_hen = year_counts_plot(year_counts_non_henslow)\n",
    "letter_nums_non_hen"
   ]
  },
  {
   "cell_type": "markdown",
   "id": "bfc8b431",
   "metadata": {},
   "source": [
    "Use year_window_vis function to create a visualisation of topics over time, omitting years with very high or low numbers of letters."
   ]
  },
  {
   "cell_type": "code",
   "execution_count": 26,
   "id": "52743b66",
   "metadata": {},
   "outputs": [
    {
     "data": {
      "application/vnd.plotly.v1+json": {
       "config": {
        "plotlyServerURL": "https://plot.ly"
       },
       "data": [
        {
         "hoverinfo": "text",
         "hovertext": [
          "<b>Topic 0</b><br>Words: specimen, plant, lordship, cambridge, palmerston",
          "<b>Topic 0</b><br>Words: plant, course, cambridge, specimen, botany",
          "<b>Topic 0</b><br>Words: plant, arvensis, specimen, fruit, cambridge",
          "<b>Topic 0</b><br>Words: plant, specimen, cambridge, book, herbarium",
          "<b>Topic 0</b><br>Words: hitcham_bildeston, cambridge, specimen, suffolk, berkshire",
          "<b>Topic 0</b><br>Words: nodule, doubt, suffolk, bone, rochdale",
          "<b>Topic 0</b><br>Words: memorial, breach, ludwig, hadl, interested",
          "<b>Topic 0</b><br>Words: suffolk, bottle, wine, party, bruise",
          "<b>Topic 0</b><br>Words: museum, ipswich, suffolk, hitcham, british_association",
          "<b>Topic 0</b><br>Words: suffolk, museum, invitation, cadetship, nomination",
          "<b>Topic 0</b><br>Words: museum, ipswich, cambridge, suffolk, hitcham",
          "<b>Topic 0</b><br>Words: london, lecture, museum, university, education",
          "<b>Topic 0</b><br>Words: seed, dublin, london, museum, hitcham",
          "<b>Topic 0</b><br>Words: darwin, lecture, museum, botany, view"
         ],
         "marker": {
          "color": "#E69F00"
         },
         "mode": "markers",
         "name": "0_cambridge_plant_museum_specimen",
         "type": "scatter",
         "x": [
          "1825-01-09T21:18:43.200000",
          "1826-11-09T14:24:00",
          "1828-08-26T04:48:00",
          "1830-06-12T19:12:00",
          "1839-06-03T19:12:00",
          "1844-10-21T14:24:00",
          "1846-08-08T04:48:00",
          "1848-05-24T19:12:00",
          "1850-03-11T09:36:00",
          "1851-12-27T00:00:00",
          "1853-10-12T14:24:00",
          "1855-07-30T04:48:00",
          "1857-05-15T19:12:00",
          "1859-03-02T09:36:00"
         ],
         "y": [
          75,
          159,
          288,
          330,
          50,
          36,
          9,
          105,
          69,
          67,
          127,
          193,
          132,
          184
         ]
        },
        {
         "hoverinfo": "text",
         "hovertext": [
          "<b>Topic 2</b><br>Words: insect, dale, scotland, entomology, aenethum",
          "<b>Topic 2</b><br>Words: insect, mollusca, obligation, locust, fishes",
          "<b>Topic 2</b><br>Words: insect, entomology, yorkshire, jenyns, half",
          "<b>Topic 2</b><br>Words: insect, jenyns, mat, valdivia, hardwicke",
          "<b>Topic 2</b><br>Words: spue, calcium, juice, crustacea, shell",
          "<b>Topic 2</b><br>Words: nest, velleius, insect, wasp, dog",
          "<b>Topic 2</b><br>Words: fauna, diptera, entomologist, volume, hemiptera",
          "<b>Topic 2</b><br>Words: bee, insect, wasp, headquarters, annelide",
          "<b>Topic 2</b><br>Words: insect, crustacea, spence, beetles, entom",
          "<b>Topic 2</b><br>Words: insect, entomology, insecta, worm, westwood",
          "<b>Topic 2</b><br>Words: elephant, rinocero, leptorhine, remain, rhinocero",
          "<b>Topic 2</b><br>Words: insect, larva, entomologist, nepticula, moth"
         ],
         "marker": {
          "color": "#56B4E9"
         },
         "mode": "markers",
         "name": "2_insect_entomology_entomologist_crustac...",
         "type": "scatter",
         "x": [
          "1825-01-09T21:18:43.200000",
          "1826-11-09T14:24:00",
          "1828-08-26T04:48:00",
          "1830-06-12T19:12:00",
          "1844-10-21T14:24:00",
          "1848-05-24T19:12:00",
          "1850-03-11T09:36:00",
          "1851-12-27T00:00:00",
          "1853-10-12T14:24:00",
          "1855-07-30T04:48:00",
          "1857-05-15T19:12:00",
          "1859-03-02T09:36:00"
         ],
         "y": [
          7,
          8,
          14,
          6,
          1,
          5,
          6,
          8,
          6,
          12,
          2,
          12
         ]
        },
        {
         "hoverinfo": "text",
         "hovertext": [
          "<b>Topic 3</b><br>Words: hooker, dr, sinclair, days_ago, genera",
          "<b>Topic 3</b><br>Words: hooker, aberdeenshire, suscriber, filicum, icone",
          "<b>Topic 3</b><br>Words: hooker, naturelle, magnum, haldane, twopenny",
          "<b>Topic 3</b><br>Words: hooker, arcades, fork, asubo, bestowing",
          "<b>Topic 3</b><br>Words: hooker, dr, sinclair, days_ago, genera",
          "<b>Topic 3</b><br>Words: cast, hooker, mus, feb, purchase",
          "<b>Topic 3</b><br>Words: julian, episode, hooker, news, history",
          "<b>Topic 3</b><br>Words: hooker, cassel, affte, jos, lyell",
          "<b>Topic 3</b><br>Words: hooker, days_ago, dr, fool, ten",
          "<b>Topic 3</b><br>Words: hooker, dawes, presentation, hasjsh, griffin",
          "<b>Topic 3</b><br>Words: hooker, germany, leonard_horner, fore, misunderstood",
          "<b>Topic 3</b><br>Words: hooker, sinclair, seymour, kindest_regard, faithf",
          "<b>Topic 3</b><br>Words: hooker, migrate, liking, lebanon, berth"
         ],
         "marker": {
          "color": "#009E73"
         },
         "mode": "markers",
         "name": "3_hooker_dr_sinclair_days_ago",
         "type": "scatter",
         "x": [
          "1825-01-09T21:18:43.200000",
          "1826-11-09T14:24:00",
          "1828-08-26T04:48:00",
          "1830-06-12T19:12:00",
          "1844-10-21T14:24:00",
          "1846-08-08T04:48:00",
          "1848-05-24T19:12:00",
          "1850-03-11T09:36:00",
          "1851-12-27T00:00:00",
          "1853-10-12T14:24:00",
          "1855-07-30T04:48:00",
          "1857-05-15T19:12:00",
          "1859-03-02T09:36:00"
         ],
         "y": [
          1,
          7,
          11,
          10,
          1,
          1,
          1,
          2,
          8,
          7,
          8,
          8,
          4
         ]
        },
        {
         "hoverinfo": "text",
         "hovertext": [
          "<b>Topic 4</b><br>Words: goulburn, palmerston, ellis, lewin, ldp",
          "<b>Topic 4</b><br>Words: graham, lect, todd, ellis, rob",
          "<b>Topic 4</b><br>Words: graham, dalton, prodr, macfarlen, mutual",
          "<b>Topic 4</b><br>Words: dalton, bennett, lindley, graham, john",
          "<b>Topic 4</b><br>Words: bennett, miller, decline, probability, intention",
          "<b>Topic 4</b><br>Words: goulburn, hutton, henry, lindley, drawing",
          "<b>Topic 4</b><br>Words: scott, lindley, graham, miller, henry",
          "<b>Topic 4</b><br>Words: lindley, hithe, guess, cove, algernon",
          "<b>Topic 4</b><br>Words: forbe, edward, lindley, brown, hooker",
          "<b>Topic 4</b><br>Words: moseley, henry, reid, dine, aid",
          "<b>Topic 4</b><br>Words: charley, moustache, miller, griffith, parker",
          "<b>Topic 4</b><br>Words: miller, poole, grote, expry, stanley",
          "<b>Topic 4</b><br>Words: lancester, edwin, ellis, patterson, miller",
          "<b>Topic 4</b><br>Words: lindley, successors, woodward, lamarck, miller"
         ],
         "marker": {
          "color": "#F0E442"
         },
         "mode": "markers",
         "name": "4_lindley_graham_miller_henry",
         "type": "scatter",
         "x": [
          "1825-01-09T21:18:43.200000",
          "1826-11-09T14:24:00",
          "1828-08-26T04:48:00",
          "1830-06-12T19:12:00",
          "1839-06-03T19:12:00",
          "1844-10-21T14:24:00",
          "1846-08-08T04:48:00",
          "1848-05-24T19:12:00",
          "1850-03-11T09:36:00",
          "1851-12-27T00:00:00",
          "1853-10-12T14:24:00",
          "1855-07-30T04:48:00",
          "1857-05-15T19:12:00",
          "1859-03-02T09:36:00"
         ],
         "y": [
          4,
          8,
          10,
          12,
          2,
          2,
          1,
          3,
          2,
          4,
          3,
          8,
          4,
          5
         ]
        },
        {
         "hoverinfo": "text",
         "hovertext": [
          "<b>Topic 5</b><br>Words: paper, determine, phil_soc, volume, month",
          "<b>Topic 5</b><br>Words: paper, gall, mis, ink, britannica",
          "<b>Topic 5</b><br>Words: paper, sheet, print, precise, blemish",
          "<b>Topic 5</b><br>Words: paper, printer, print, particular, rem",
          "<b>Topic 5</b><br>Words: paper, type, mill, sheet, alban",
          "<b>Topic 5</b><br>Words: dare, shew, paper, abundance, turn",
          "<b>Topic 5</b><br>Words: dent, paper, sheet, printer, print",
          "<b>Topic 5</b><br>Words: print, physiol, overhaul, comp, paper",
          "<b>Topic 5</b><br>Words: paper, press, printer, section, sheet",
          "<b>Topic 5</b><br>Words: paper, document, importunity, cowan, manufacturer",
          "<b>Topic 5</b><br>Words: paper, sheet, cut, printer, worke",
          "<b>Topic 5</b><br>Words: paper, willeg, ink, document, prince"
         ],
         "marker": {
          "color": "#D55E00"
         },
         "mode": "markers",
         "name": "5_paper_sheet_printer_print",
         "type": "scatter",
         "x": [
          "1825-01-09T21:18:43.200000",
          "1826-11-09T14:24:00",
          "1828-08-26T04:48:00",
          "1830-06-12T19:12:00",
          "1839-06-03T19:12:00",
          "1844-10-21T14:24:00",
          "1850-03-11T09:36:00",
          "1851-12-27T00:00:00",
          "1853-10-12T14:24:00",
          "1855-07-30T04:48:00",
          "1857-05-15T19:12:00",
          "1859-03-02T09:36:00"
         ],
         "y": [
          2,
          4,
          10,
          9,
          5,
          1,
          1,
          3,
          9,
          9,
          5,
          6
         ]
        },
        {
         "hoverinfo": "text",
         "hovertext": [
          "<b>Topic 6</b><br>Words: curtain, breath, emotion, sorrento, gasp",
          "<b>Topic 6</b><br>Words: weather, spring, winter, snow, wind",
          "<b>Topic 6</b><br>Words: deserta, season, delight, weather, summer",
          "<b>Topic 6</b><br>Words: summer, rain, weather, season, frost",
          "<b>Topic 6</b><br>Words: catch, clk, daguerreotype, weather, service",
          "<b>Topic 6</b><br>Words: distemper, temper, ton, spring, season",
          "<b>Topic 6</b><br>Words: fillip, weather, trip, obligation, summer",
          "<b>Topic 6</b><br>Words: winter, season, metropolitana, meteorite, article",
          "<b>Topic 6</b><br>Words: weather, damage, nosegay, wind, truly_spence",
          "<b>Topic 6</b><br>Words: weather, meteorology, climate, camb_sh, season",
          "<b>Topic 6</b><br>Words: weather, summer, punctatus, snow, season"
         ],
         "marker": {
          "color": "#0072B2"
         },
         "mode": "markers",
         "name": "6_weather_season_summer_meteorology",
         "type": "scatter",
         "x": [
          "1825-01-09T21:18:43.200000",
          "1826-11-09T14:24:00",
          "1828-08-26T04:48:00",
          "1830-06-12T19:12:00",
          "1848-05-24T19:12:00",
          "1850-03-11T09:36:00",
          "1851-12-27T00:00:00",
          "1853-10-12T14:24:00",
          "1855-07-30T04:48:00",
          "1857-05-15T19:12:00",
          "1859-03-02T09:36:00"
         ],
         "y": [
          2,
          7,
          3,
          15,
          1,
          2,
          2,
          5,
          4,
          16,
          5
         ]
        },
        {
         "hoverinfo": "text",
         "hovertext": [
          "<b>Topic 7</b><br>Words: lapland, collector, neighbourhood, bank, county",
          "<b>Topic 7</b><br>Words: land, berk, rochester, neighbourhood, estate",
          "<b>Topic 7</b><br>Words: neighbourhood, wrekin, bardon, forrest, vicinity",
          "<b>Topic 7</b><br>Words: neighbourhood, oatland, centre, baird, explore",
          "<b>Topic 7</b><br>Words: neighbourhood, lameginisum, kind, attempt, condition",
          "<b>Topic 7</b><br>Words: buckland, tenant, acre, neighbourhood, locality",
          "<b>Topic 7</b><br>Words: neighbor, hibgame, physician, edge, neighbourhood",
          "<b>Topic 7</b><br>Words: quaker, hy, scene, manor, dead",
          "<b>Topic 7</b><br>Words: defer, metropolitana, town, neighbourhood, locality",
          "<b>Topic 7</b><br>Words: neighbourhood, town, locality, district, beg",
          "<b>Topic 7</b><br>Words: scenery, apprehension, neighbourhood, locality, club",
          "<b>Topic 7</b><br>Words: neighbourhood, protogee, funeral, locality, wale"
         ],
         "marker": {
          "color": "#CC79A7"
         },
         "mode": "markers",
         "name": "7_neighbourhood_locality_town_buckland",
         "type": "scatter",
         "x": [
          "1825-01-09T21:18:43.200000",
          "1826-11-09T14:24:00",
          "1828-08-26T04:48:00",
          "1830-06-12T19:12:00",
          "1839-06-03T19:12:00",
          "1844-10-21T14:24:00",
          "1848-05-24T19:12:00",
          "1850-03-11T09:36:00",
          "1853-10-12T14:24:00",
          "1855-07-30T04:48:00",
          "1857-05-15T19:12:00",
          "1859-03-02T09:36:00"
         ],
         "y": [
          2,
          3,
          6,
          9,
          2,
          3,
          2,
          2,
          2,
          13,
          2,
          6
         ]
        },
        {
         "hoverinfo": "text",
         "hovertext": [
          "<b>Topic 8</b><br>Words: dpalmerston, liver, absentee, greece, gout",
          "<b>Topic 8</b><br>Words: sundry, sickness, italy, health, leach",
          "<b>Topic 8</b><br>Words: illness, hypochondriasis, headache, perform, epidemic",
          "<b>Topic 8</b><br>Words: health, medicine, illness, sickness, complaint",
          "<b>Topic 8</b><br>Words: nerve, health, week, paralysis, worry",
          "<b>Topic 8</b><br>Words: shin, deprive, rheumatism, furrow, oblige",
          "<b>Topic 8</b><br>Words: improved_health, health, illness, doctor, complaint",
          "<b>Topic 8</b><br>Words: health, disinterested, salmonide, broom, courtier",
          "<b>Topic 8</b><br>Words: derangement, health, doctor, spasm, ailment",
          "<b>Topic 8</b><br>Words: harz, treatment, medical, complaint, mountain",
          "<b>Topic 8</b><br>Words: cough, wrist, delicate, health, louise",
          "<b>Topic 8</b><br>Words: health, illness, jane, month, week"
         ],
         "marker": {
          "color": "#E69F00"
         },
         "mode": "markers",
         "name": "8_health_illness_complaint_doctor",
         "type": "scatter",
         "x": [
          "1825-01-09T21:18:43.200000",
          "1826-11-09T14:24:00",
          "1828-08-26T04:48:00",
          "1830-06-12T19:12:00",
          "1839-06-03T19:12:00",
          "1848-05-24T19:12:00",
          "1850-03-11T09:36:00",
          "1851-12-27T00:00:00",
          "1853-10-12T14:24:00",
          "1855-07-30T04:48:00",
          "1857-05-15T19:12:00",
          "1859-03-02T09:36:00"
         ],
         "y": [
          2,
          3,
          4,
          9,
          3,
          2,
          1,
          4,
          5,
          1,
          8,
          9
         ]
        },
        {
         "hoverinfo": "text",
         "hovertext": [
          "<b>Topic 1</b><br>Words: subscription, interest, share, salary, letter",
          "<b>Topic 1</b><br>Words: fund, expence, number, philos_soc, interest",
          "<b>Topic 1</b><br>Words: debt, number, interest, sum, per_cent",
          "<b>Topic 1</b><br>Words: extract, grant, distribution, print, letter",
          "<b>Topic 1</b><br>Words: copy, interest, subscription, letter, number",
          "<b>Topic 1</b><br>Words: owner, uncle, post_office, island, subscription",
          "<b>Topic 1</b><br>Words: deposit, subscription, copy, reserve, cousin",
          "<b>Topic 1</b><br>Words: sum, subscription, paget, mortlock, leg",
          "<b>Topic 1</b><br>Words: interest, hopkin, copy, per_annum, decision",
          "<b>Topic 1</b><br>Words: sum, interest, amount, county, enlist",
          "<b>Topic 1</b><br>Words: interest, value, valuation, share, copy",
          "<b>Topic 1</b><br>Words: number, copy, salary, letter, account",
          "<b>Topic 1</b><br>Words: letter, debacle, avidity, resource, wait"
         ],
         "marker": {
          "color": "#56B4E9"
         },
         "mode": "markers",
         "name": "1_interest_subscription_letter_copy",
         "type": "scatter",
         "x": [
          "1826-11-09T14:24:00",
          "1828-08-26T04:48:00",
          "1830-06-12T19:12:00",
          "1839-06-03T19:12:00",
          "1844-10-21T14:24:00",
          "1846-08-08T04:48:00",
          "1848-05-24T19:12:00",
          "1850-03-11T09:36:00",
          "1851-12-27T00:00:00",
          "1853-10-12T14:24:00",
          "1855-07-30T04:48:00",
          "1857-05-15T19:12:00",
          "1859-03-02T09:36:00"
         ],
         "y": [
          24,
          13,
          15,
          2,
          1,
          2,
          9,
          8,
          7,
          11,
          22,
          18,
          9
         ]
        },
        {
         "hoverinfo": "text",
         "hovertext": [
          "<b>Topic 9</b><br>Words: natural_history, humboldt, history, rise, taste",
          "<b>Topic 9</b><br>Words: philosoph, history, collection, plant, natural_history",
          "<b>Topic 9</b><br>Words: cumana, herodotuss, cha, raisonne, macedonia",
          "<b>Topic 9</b><br>Words: physiology, cryptogamy, glossology, phanerogamy, portion",
          "<b>Topic 9</b><br>Words: natural_history, concentrate, amusement, promote, revision",
          "<b>Topic 9</b><br>Words: project, preparation, naturalist, communication, committee",
          "<b>Topic 9</b><br>Words: natural_history, monarch, memo, historians, encourage",
          "<b>Topic 9</b><br>Words: teacher, history, natural_history, progress, collection",
          "<b>Topic 9</b><br>Words: physiology, edition, history, saturate, vitality",
          "<b>Topic 9</b><br>Words: physiology, natural_history, barrett, naturalist, history",
          "<b>Topic 9</b><br>Words: natural_history, rest, romanism, critique, civil"
         ],
         "marker": {
          "color": "#009E73"
         },
         "mode": "markers",
         "name": "9_natural_history_physiology_history_hum...",
         "type": "scatter",
         "x": [
          "1826-11-09T14:24:00",
          "1828-08-26T04:48:00",
          "1830-06-12T19:12:00",
          "1839-06-03T19:12:00",
          "1848-05-24T19:12:00",
          "1850-03-11T09:36:00",
          "1851-12-27T00:00:00",
          "1853-10-12T14:24:00",
          "1855-07-30T04:48:00",
          "1857-05-15T19:12:00",
          "1859-03-02T09:36:00"
         ],
         "y": [
          8,
          1,
          2,
          4,
          3,
          2,
          4,
          2,
          7,
          8,
          6
         ]
        },
        {
         "hoverinfo": "text",
         "hovertext": [
          "<b>Topic 10</b><br>Words: fossils, premium, singular, mineralogist, norway",
          "<b>Topic 10</b><br>Words: fossil, si, livraison, nai, doute",
          "<b>Topic 10</b><br>Words: zamia, inter, cone, green_sand, fragment",
          "<b>Topic 10</b><br>Words: fossil, reptile, dover, decision, inconvenience",
          "<b>Topic 10</b><br>Words: miocene, pliocene, fossil, coraline, crag",
          "<b>Topic 10</b><br>Words: fossil, ramble, cinder, vesuvius, pleistocene",
          "<b>Topic 10</b><br>Words: fossil, metropolis, inclination, incommode, pal",
          "<b>Topic 10</b><br>Words: fossil, coryphodon, allied, geological_society, mammalia",
          "<b>Topic 10</b><br>Words: fossil, geologist, deal, snatch, tertiary",
          "<b>Topic 10</b><br>Words: fossil, series, crag, step, celt"
         ],
         "marker": {
          "color": "#F0E442"
         },
         "mode": "markers",
         "name": "10_fossil_crag_pleistocene_miocene",
         "type": "scatter",
         "x": [
          "1826-11-09T14:24:00",
          "1839-06-03T19:12:00",
          "1844-10-21T14:24:00",
          "1848-05-24T19:12:00",
          "1850-03-11T09:36:00",
          "1851-12-27T00:00:00",
          "1853-10-12T14:24:00",
          "1855-07-30T04:48:00",
          "1857-05-15T19:12:00",
          "1859-03-02T09:36:00"
         ],
         "y": [
          1,
          6,
          1,
          2,
          6,
          3,
          8,
          4,
          7,
          6
         ]
        },
        {
         "hoverinfo": "text",
         "hovertext": [
          "<b>Topic 11</b><br>Words: instant, morning, minute, hour, day",
          "<b>Topic 11</b><br>Words: morning, chee, tor, harvest, rest",
          "<b>Topic 11</b><br>Words: opiate, dream, slumber, ocl, succession",
          "<b>Topic 11</b><br>Words: nature, day, morning, minute, hour",
          "<b>Topic 11</b><br>Words: ireland, suit, morning, evening, rest",
          "<b>Topic 11</b><br>Words: minute, hughe, afternoon, bell, morning",
          "<b>Topic 11</b><br>Words: daylight, hour, day, temple, morning",
          "<b>Topic 11</b><br>Words: suffice, sheep, minute, night, day",
          "<b>Topic 11</b><br>Words: minute, morning, evening, portland, saty"
         ],
         "marker": {
          "color": "#D55E00"
         },
         "mode": "markers",
         "name": "11_morning_minute_hour_day",
         "type": "scatter",
         "x": [
          "1826-11-09T14:24:00",
          "1828-08-26T04:48:00",
          "1848-05-24T19:12:00",
          "1850-03-11T09:36:00",
          "1851-12-27T00:00:00",
          "1853-10-12T14:24:00",
          "1855-07-30T04:48:00",
          "1857-05-15T19:12:00",
          "1859-03-02T09:36:00"
         ],
         "y": [
          1,
          3,
          3,
          1,
          5,
          5,
          6,
          9,
          9
         ]
        },
        {
         "hoverinfo": "text",
         "hovertext": [
          "<b>Topic 12</b><br>Words: bird, woods, guineas, audubon, risk",
          "<b>Topic 12</b><br>Words: bird, vessel, ship, port, england",
          "<b>Topic 12</b><br>Words: bird, height, feather, duck, mandarine",
          "<b>Topic 12</b><br>Words: caricio, jardine, sclater, bird, prince",
          "<b>Topic 12</b><br>Words: incubation, eagle, cilia, dillwyn, chicken",
          "<b>Topic 12</b><br>Words: bird, stone, ray, suit, help",
          "<b>Topic 12</b><br>Words: bird, purchase, ledbetter, thornham, display",
          "<b>Topic 12</b><br>Words: bird, glass, mule, greenfinche, entrust",
          "<b>Topic 12</b><br>Words: bird, rabbit, type, finding, mall",
          "<b>Topic 12</b><br>Words: bird, bree, exposition, paris, palace",
          "<b>Topic 12</b><br>Words: covert, feather, monstrosity, wingfull, goatsucker"
         ],
         "marker": {
          "color": "#0072B2"
         },
         "mode": "markers",
         "name": "12_bird_feather_vessel_ship",
         "type": "scatter",
         "x": [
          "1826-11-09T14:24:00",
          "1828-08-26T04:48:00",
          "1830-06-12T19:12:00",
          "1839-06-03T19:12:00",
          "1848-05-24T19:12:00",
          "1850-03-11T09:36:00",
          "1851-12-27T00:00:00",
          "1853-10-12T14:24:00",
          "1855-07-30T04:48:00",
          "1857-05-15T19:12:00",
          "1859-03-02T09:36:00"
         ],
         "y": [
          1,
          10,
          9,
          1,
          2,
          1,
          5,
          5,
          4,
          2,
          2
         ]
        },
        {
         "hoverinfo": "text",
         "hovertext": [
          "<b>Topic 13</b><br>Words: plate, illiger, scarabidae, hister, hexoda",
          "<b>Topic 13</b><br>Words: plate, excellence, miscellany, ii, mistake",
          "<b>Topic 13</b><br>Words: plate, shell, cost, impression, lettering",
          "<b>Topic 13</b><br>Words: plate, crenation, pecop, brong, lonchitiea",
          "<b>Topic 13</b><br>Words: plate, rix, sol, mint, decm",
          "<b>Topic 13</b><br>Words: plate, benthams, sci, labiata, tom",
          "<b>Topic 13</b><br>Words: masse, piece, plate, stenotype, reference",
          "<b>Topic 13</b><br>Words: plate, duplicate, stenotype, reference, potassium",
          "<b>Topic 13</b><br>Words: plate, potassium, pea, motion, copper",
          "<b>Topic 13</b><br>Words: plate, reference, sclater, zuetell, ventnor",
          "<b>Topic 13</b><br>Words: plate, stenotype, reduction, resetting, demand",
          "<b>Topic 13</b><br>Words: plate, axe, sandwich, orkney, edge"
         ],
         "marker": {
          "color": "#CC79A7"
         },
         "mode": "markers",
         "name": "13_plate_stenotype_reference_potassium",
         "type": "scatter",
         "x": [
          "1826-11-09T14:24:00",
          "1828-08-26T04:48:00",
          "1830-06-12T19:12:00",
          "1839-06-03T19:12:00",
          "1844-10-21T14:24:00",
          "1848-05-24T19:12:00",
          "1850-03-11T09:36:00",
          "1851-12-27T00:00:00",
          "1853-10-12T14:24:00",
          "1855-07-30T04:48:00",
          "1857-05-15T19:12:00",
          "1859-03-02T09:36:00"
         ],
         "y": [
          5,
          3,
          14,
          6,
          1,
          3,
          1,
          1,
          1,
          3,
          2,
          2
         ]
        },
        {
         "hoverinfo": "text",
         "hovertext": [
          "<b>Topic 14</b><br>Words: lime, oxide, iron_alumina, acid, essex",
          "<b>Topic 14</b><br>Words: menstrum, gas, activity, destruction, mercury",
          "<b>Topic 14</b><br>Words: carb, lime, acid, iron, alumina",
          "<b>Topic 14</b><br>Words: lime, coprolite, ball, septaria, phosphorus",
          "<b>Topic 14</b><br>Words: acid, carbonate, lime, coating, alumina",
          "<b>Topic 14</b><br>Words: lime, acid, silica, alumina, sulphate",
          "<b>Topic 14</b><br>Words: acid, iron, portion, lime, alkali",
          "<b>Topic 14</b><br>Words: gas, oxide, nickel, carbonic, blowpipe",
          "<b>Topic 14</b><br>Words: acid, lime, fuel, coprolite, fountain"
         ],
         "marker": {
          "color": "#E69F00"
         },
         "mode": "markers",
         "name": "14_lime_acid_iron_oxide",
         "type": "scatter",
         "x": [
          "1826-11-09T14:24:00",
          "1830-06-12T19:12:00",
          "1839-06-03T19:12:00",
          "1844-10-21T14:24:00",
          "1848-05-24T19:12:00",
          "1850-03-11T09:36:00",
          "1851-12-27T00:00:00",
          "1853-10-12T14:24:00",
          "1855-07-30T04:48:00"
         ],
         "y": [
          5,
          2,
          1,
          2,
          5,
          13,
          4,
          3,
          5
         ]
        }
       ],
       "layout": {
        "height": 500,
        "hoverlabel": {
         "bgcolor": "white",
         "font": {
          "family": "Rockwell",
          "size": 16
         }
        },
        "legend": {
         "title": {
          "text": "<b>Global Topic Representation"
         }
        },
        "template": {
         "data": {
          "bar": [
           {
            "error_x": {
             "color": "rgb(36,36,36)"
            },
            "error_y": {
             "color": "rgb(36,36,36)"
            },
            "marker": {
             "line": {
              "color": "white",
              "width": 0.5
             },
             "pattern": {
              "fillmode": "overlay",
              "size": 10,
              "solidity": 0.2
             }
            },
            "type": "bar"
           }
          ],
          "barpolar": [
           {
            "marker": {
             "line": {
              "color": "white",
              "width": 0.5
             },
             "pattern": {
              "fillmode": "overlay",
              "size": 10,
              "solidity": 0.2
             }
            },
            "type": "barpolar"
           }
          ],
          "carpet": [
           {
            "aaxis": {
             "endlinecolor": "rgb(36,36,36)",
             "gridcolor": "white",
             "linecolor": "white",
             "minorgridcolor": "white",
             "startlinecolor": "rgb(36,36,36)"
            },
            "baxis": {
             "endlinecolor": "rgb(36,36,36)",
             "gridcolor": "white",
             "linecolor": "white",
             "minorgridcolor": "white",
             "startlinecolor": "rgb(36,36,36)"
            },
            "type": "carpet"
           }
          ],
          "choropleth": [
           {
            "colorbar": {
             "outlinewidth": 1,
             "tickcolor": "rgb(36,36,36)",
             "ticks": "outside"
            },
            "type": "choropleth"
           }
          ],
          "contour": [
           {
            "colorbar": {
             "outlinewidth": 1,
             "tickcolor": "rgb(36,36,36)",
             "ticks": "outside"
            },
            "colorscale": [
             [
              0,
              "#440154"
             ],
             [
              0.1111111111111111,
              "#482878"
             ],
             [
              0.2222222222222222,
              "#3e4989"
             ],
             [
              0.3333333333333333,
              "#31688e"
             ],
             [
              0.4444444444444444,
              "#26828e"
             ],
             [
              0.5555555555555556,
              "#1f9e89"
             ],
             [
              0.6666666666666666,
              "#35b779"
             ],
             [
              0.7777777777777778,
              "#6ece58"
             ],
             [
              0.8888888888888888,
              "#b5de2b"
             ],
             [
              1,
              "#fde725"
             ]
            ],
            "type": "contour"
           }
          ],
          "contourcarpet": [
           {
            "colorbar": {
             "outlinewidth": 1,
             "tickcolor": "rgb(36,36,36)",
             "ticks": "outside"
            },
            "type": "contourcarpet"
           }
          ],
          "heatmap": [
           {
            "colorbar": {
             "outlinewidth": 1,
             "tickcolor": "rgb(36,36,36)",
             "ticks": "outside"
            },
            "colorscale": [
             [
              0,
              "#440154"
             ],
             [
              0.1111111111111111,
              "#482878"
             ],
             [
              0.2222222222222222,
              "#3e4989"
             ],
             [
              0.3333333333333333,
              "#31688e"
             ],
             [
              0.4444444444444444,
              "#26828e"
             ],
             [
              0.5555555555555556,
              "#1f9e89"
             ],
             [
              0.6666666666666666,
              "#35b779"
             ],
             [
              0.7777777777777778,
              "#6ece58"
             ],
             [
              0.8888888888888888,
              "#b5de2b"
             ],
             [
              1,
              "#fde725"
             ]
            ],
            "type": "heatmap"
           }
          ],
          "heatmapgl": [
           {
            "colorbar": {
             "outlinewidth": 1,
             "tickcolor": "rgb(36,36,36)",
             "ticks": "outside"
            },
            "colorscale": [
             [
              0,
              "#440154"
             ],
             [
              0.1111111111111111,
              "#482878"
             ],
             [
              0.2222222222222222,
              "#3e4989"
             ],
             [
              0.3333333333333333,
              "#31688e"
             ],
             [
              0.4444444444444444,
              "#26828e"
             ],
             [
              0.5555555555555556,
              "#1f9e89"
             ],
             [
              0.6666666666666666,
              "#35b779"
             ],
             [
              0.7777777777777778,
              "#6ece58"
             ],
             [
              0.8888888888888888,
              "#b5de2b"
             ],
             [
              1,
              "#fde725"
             ]
            ],
            "type": "heatmapgl"
           }
          ],
          "histogram": [
           {
            "marker": {
             "line": {
              "color": "white",
              "width": 0.6
             }
            },
            "type": "histogram"
           }
          ],
          "histogram2d": [
           {
            "colorbar": {
             "outlinewidth": 1,
             "tickcolor": "rgb(36,36,36)",
             "ticks": "outside"
            },
            "colorscale": [
             [
              0,
              "#440154"
             ],
             [
              0.1111111111111111,
              "#482878"
             ],
             [
              0.2222222222222222,
              "#3e4989"
             ],
             [
              0.3333333333333333,
              "#31688e"
             ],
             [
              0.4444444444444444,
              "#26828e"
             ],
             [
              0.5555555555555556,
              "#1f9e89"
             ],
             [
              0.6666666666666666,
              "#35b779"
             ],
             [
              0.7777777777777778,
              "#6ece58"
             ],
             [
              0.8888888888888888,
              "#b5de2b"
             ],
             [
              1,
              "#fde725"
             ]
            ],
            "type": "histogram2d"
           }
          ],
          "histogram2dcontour": [
           {
            "colorbar": {
             "outlinewidth": 1,
             "tickcolor": "rgb(36,36,36)",
             "ticks": "outside"
            },
            "colorscale": [
             [
              0,
              "#440154"
             ],
             [
              0.1111111111111111,
              "#482878"
             ],
             [
              0.2222222222222222,
              "#3e4989"
             ],
             [
              0.3333333333333333,
              "#31688e"
             ],
             [
              0.4444444444444444,
              "#26828e"
             ],
             [
              0.5555555555555556,
              "#1f9e89"
             ],
             [
              0.6666666666666666,
              "#35b779"
             ],
             [
              0.7777777777777778,
              "#6ece58"
             ],
             [
              0.8888888888888888,
              "#b5de2b"
             ],
             [
              1,
              "#fde725"
             ]
            ],
            "type": "histogram2dcontour"
           }
          ],
          "mesh3d": [
           {
            "colorbar": {
             "outlinewidth": 1,
             "tickcolor": "rgb(36,36,36)",
             "ticks": "outside"
            },
            "type": "mesh3d"
           }
          ],
          "parcoords": [
           {
            "line": {
             "colorbar": {
              "outlinewidth": 1,
              "tickcolor": "rgb(36,36,36)",
              "ticks": "outside"
             }
            },
            "type": "parcoords"
           }
          ],
          "pie": [
           {
            "automargin": true,
            "type": "pie"
           }
          ],
          "scatter": [
           {
            "fillpattern": {
             "fillmode": "overlay",
             "size": 10,
             "solidity": 0.2
            },
            "type": "scatter"
           }
          ],
          "scatter3d": [
           {
            "line": {
             "colorbar": {
              "outlinewidth": 1,
              "tickcolor": "rgb(36,36,36)",
              "ticks": "outside"
             }
            },
            "marker": {
             "colorbar": {
              "outlinewidth": 1,
              "tickcolor": "rgb(36,36,36)",
              "ticks": "outside"
             }
            },
            "type": "scatter3d"
           }
          ],
          "scattercarpet": [
           {
            "marker": {
             "colorbar": {
              "outlinewidth": 1,
              "tickcolor": "rgb(36,36,36)",
              "ticks": "outside"
             }
            },
            "type": "scattercarpet"
           }
          ],
          "scattergeo": [
           {
            "marker": {
             "colorbar": {
              "outlinewidth": 1,
              "tickcolor": "rgb(36,36,36)",
              "ticks": "outside"
             }
            },
            "type": "scattergeo"
           }
          ],
          "scattergl": [
           {
            "marker": {
             "colorbar": {
              "outlinewidth": 1,
              "tickcolor": "rgb(36,36,36)",
              "ticks": "outside"
             }
            },
            "type": "scattergl"
           }
          ],
          "scattermapbox": [
           {
            "marker": {
             "colorbar": {
              "outlinewidth": 1,
              "tickcolor": "rgb(36,36,36)",
              "ticks": "outside"
             }
            },
            "type": "scattermapbox"
           }
          ],
          "scatterpolar": [
           {
            "marker": {
             "colorbar": {
              "outlinewidth": 1,
              "tickcolor": "rgb(36,36,36)",
              "ticks": "outside"
             }
            },
            "type": "scatterpolar"
           }
          ],
          "scatterpolargl": [
           {
            "marker": {
             "colorbar": {
              "outlinewidth": 1,
              "tickcolor": "rgb(36,36,36)",
              "ticks": "outside"
             }
            },
            "type": "scatterpolargl"
           }
          ],
          "scatterternary": [
           {
            "marker": {
             "colorbar": {
              "outlinewidth": 1,
              "tickcolor": "rgb(36,36,36)",
              "ticks": "outside"
             }
            },
            "type": "scatterternary"
           }
          ],
          "surface": [
           {
            "colorbar": {
             "outlinewidth": 1,
             "tickcolor": "rgb(36,36,36)",
             "ticks": "outside"
            },
            "colorscale": [
             [
              0,
              "#440154"
             ],
             [
              0.1111111111111111,
              "#482878"
             ],
             [
              0.2222222222222222,
              "#3e4989"
             ],
             [
              0.3333333333333333,
              "#31688e"
             ],
             [
              0.4444444444444444,
              "#26828e"
             ],
             [
              0.5555555555555556,
              "#1f9e89"
             ],
             [
              0.6666666666666666,
              "#35b779"
             ],
             [
              0.7777777777777778,
              "#6ece58"
             ],
             [
              0.8888888888888888,
              "#b5de2b"
             ],
             [
              1,
              "#fde725"
             ]
            ],
            "type": "surface"
           }
          ],
          "table": [
           {
            "cells": {
             "fill": {
              "color": "rgb(237,237,237)"
             },
             "line": {
              "color": "white"
             }
            },
            "header": {
             "fill": {
              "color": "rgb(217,217,217)"
             },
             "line": {
              "color": "white"
             }
            },
            "type": "table"
           }
          ]
         },
         "layout": {
          "annotationdefaults": {
           "arrowhead": 0,
           "arrowwidth": 1
          },
          "autotypenumbers": "strict",
          "coloraxis": {
           "colorbar": {
            "outlinewidth": 1,
            "tickcolor": "rgb(36,36,36)",
            "ticks": "outside"
           }
          },
          "colorscale": {
           "diverging": [
            [
             0,
             "rgb(103,0,31)"
            ],
            [
             0.1,
             "rgb(178,24,43)"
            ],
            [
             0.2,
             "rgb(214,96,77)"
            ],
            [
             0.3,
             "rgb(244,165,130)"
            ],
            [
             0.4,
             "rgb(253,219,199)"
            ],
            [
             0.5,
             "rgb(247,247,247)"
            ],
            [
             0.6,
             "rgb(209,229,240)"
            ],
            [
             0.7,
             "rgb(146,197,222)"
            ],
            [
             0.8,
             "rgb(67,147,195)"
            ],
            [
             0.9,
             "rgb(33,102,172)"
            ],
            [
             1,
             "rgb(5,48,97)"
            ]
           ],
           "sequential": [
            [
             0,
             "#440154"
            ],
            [
             0.1111111111111111,
             "#482878"
            ],
            [
             0.2222222222222222,
             "#3e4989"
            ],
            [
             0.3333333333333333,
             "#31688e"
            ],
            [
             0.4444444444444444,
             "#26828e"
            ],
            [
             0.5555555555555556,
             "#1f9e89"
            ],
            [
             0.6666666666666666,
             "#35b779"
            ],
            [
             0.7777777777777778,
             "#6ece58"
            ],
            [
             0.8888888888888888,
             "#b5de2b"
            ],
            [
             1,
             "#fde725"
            ]
           ],
           "sequentialminus": [
            [
             0,
             "#440154"
            ],
            [
             0.1111111111111111,
             "#482878"
            ],
            [
             0.2222222222222222,
             "#3e4989"
            ],
            [
             0.3333333333333333,
             "#31688e"
            ],
            [
             0.4444444444444444,
             "#26828e"
            ],
            [
             0.5555555555555556,
             "#1f9e89"
            ],
            [
             0.6666666666666666,
             "#35b779"
            ],
            [
             0.7777777777777778,
             "#6ece58"
            ],
            [
             0.8888888888888888,
             "#b5de2b"
            ],
            [
             1,
             "#fde725"
            ]
           ]
          },
          "colorway": [
           "#1F77B4",
           "#FF7F0E",
           "#2CA02C",
           "#D62728",
           "#9467BD",
           "#8C564B",
           "#E377C2",
           "#7F7F7F",
           "#BCBD22",
           "#17BECF"
          ],
          "font": {
           "color": "rgb(36,36,36)"
          },
          "geo": {
           "bgcolor": "white",
           "lakecolor": "white",
           "landcolor": "white",
           "showlakes": true,
           "showland": true,
           "subunitcolor": "white"
          },
          "hoverlabel": {
           "align": "left"
          },
          "hovermode": "closest",
          "mapbox": {
           "style": "light"
          },
          "paper_bgcolor": "white",
          "plot_bgcolor": "white",
          "polar": {
           "angularaxis": {
            "gridcolor": "rgb(232,232,232)",
            "linecolor": "rgb(36,36,36)",
            "showgrid": false,
            "showline": true,
            "ticks": "outside"
           },
           "bgcolor": "white",
           "radialaxis": {
            "gridcolor": "rgb(232,232,232)",
            "linecolor": "rgb(36,36,36)",
            "showgrid": false,
            "showline": true,
            "ticks": "outside"
           }
          },
          "scene": {
           "xaxis": {
            "backgroundcolor": "white",
            "gridcolor": "rgb(232,232,232)",
            "gridwidth": 2,
            "linecolor": "rgb(36,36,36)",
            "showbackground": true,
            "showgrid": false,
            "showline": true,
            "ticks": "outside",
            "zeroline": false,
            "zerolinecolor": "rgb(36,36,36)"
           },
           "yaxis": {
            "backgroundcolor": "white",
            "gridcolor": "rgb(232,232,232)",
            "gridwidth": 2,
            "linecolor": "rgb(36,36,36)",
            "showbackground": true,
            "showgrid": false,
            "showline": true,
            "ticks": "outside",
            "zeroline": false,
            "zerolinecolor": "rgb(36,36,36)"
           },
           "zaxis": {
            "backgroundcolor": "white",
            "gridcolor": "rgb(232,232,232)",
            "gridwidth": 2,
            "linecolor": "rgb(36,36,36)",
            "showbackground": true,
            "showgrid": false,
            "showline": true,
            "ticks": "outside",
            "zeroline": false,
            "zerolinecolor": "rgb(36,36,36)"
           }
          },
          "shapedefaults": {
           "fillcolor": "black",
           "line": {
            "width": 0
           },
           "opacity": 0.3
          },
          "ternary": {
           "aaxis": {
            "gridcolor": "rgb(232,232,232)",
            "linecolor": "rgb(36,36,36)",
            "showgrid": false,
            "showline": true,
            "ticks": "outside"
           },
           "baxis": {
            "gridcolor": "rgb(232,232,232)",
            "linecolor": "rgb(36,36,36)",
            "showgrid": false,
            "showline": true,
            "ticks": "outside"
           },
           "bgcolor": "white",
           "caxis": {
            "gridcolor": "rgb(232,232,232)",
            "linecolor": "rgb(36,36,36)",
            "showgrid": false,
            "showline": true,
            "ticks": "outside"
           }
          },
          "title": {
           "x": 0.05
          },
          "xaxis": {
           "automargin": true,
           "gridcolor": "rgb(232,232,232)",
           "linecolor": "rgb(36,36,36)",
           "showgrid": false,
           "showline": true,
           "ticks": "outside",
           "title": {
            "standoff": 15
           },
           "zeroline": false,
           "zerolinecolor": "rgb(36,36,36)"
          },
          "yaxis": {
           "automargin": true,
           "gridcolor": "rgb(232,232,232)",
           "linecolor": "rgb(36,36,36)",
           "showgrid": false,
           "showline": true,
           "ticks": "outside",
           "title": {
            "standoff": 15
           },
           "zeroline": false,
           "zerolinecolor": "rgb(36,36,36)"
          }
         }
        },
        "title": {
         "font": {
          "color": "Black",
          "size": 22
         },
         "text": "<b>Topics over Time",
         "x": 0.4,
         "xanchor": "center",
         "y": 0.95,
         "yanchor": "top"
        },
        "width": 1000,
        "xaxis": {
         "showgrid": true
        },
        "yaxis": {
         "showgrid": true,
         "title": {
          "text": "Count"
         }
        }
       }
      },
      "text/html": [
       "<div>                            <div id=\"87cfa402-6287-4bcb-9796-9db6ac7cb222\" class=\"plotly-graph-div\" style=\"height:500px; width:1000px;\"></div>            <script type=\"text/javascript\">                require([\"plotly\"], function(Plotly) {                    window.PLOTLYENV=window.PLOTLYENV || {};                                    if (document.getElementById(\"87cfa402-6287-4bcb-9796-9db6ac7cb222\")) {                    Plotly.newPlot(                        \"87cfa402-6287-4bcb-9796-9db6ac7cb222\",                        [{\"hoverinfo\":\"text\",\"hovertext\":[\"<b>Topic 0</b><br>Words: specimen, plant, lordship, cambridge, palmerston\",\"<b>Topic 0</b><br>Words: plant, course, cambridge, specimen, botany\",\"<b>Topic 0</b><br>Words: plant, arvensis, specimen, fruit, cambridge\",\"<b>Topic 0</b><br>Words: plant, specimen, cambridge, book, herbarium\",\"<b>Topic 0</b><br>Words: hitcham_bildeston, cambridge, specimen, suffolk, berkshire\",\"<b>Topic 0</b><br>Words: nodule, doubt, suffolk, bone, rochdale\",\"<b>Topic 0</b><br>Words: memorial, breach, ludwig, hadl, interested\",\"<b>Topic 0</b><br>Words: suffolk, bottle, wine, party, bruise\",\"<b>Topic 0</b><br>Words: museum, ipswich, suffolk, hitcham, british_association\",\"<b>Topic 0</b><br>Words: suffolk, museum, invitation, cadetship, nomination\",\"<b>Topic 0</b><br>Words: museum, ipswich, cambridge, suffolk, hitcham\",\"<b>Topic 0</b><br>Words: london, lecture, museum, university, education\",\"<b>Topic 0</b><br>Words: seed, dublin, london, museum, hitcham\",\"<b>Topic 0</b><br>Words: darwin, lecture, museum, botany, view\"],\"marker\":{\"color\":\"#E69F00\"},\"mode\":\"markers\",\"name\":\"0_cambridge_plant_museum_specimen\",\"x\":[\"1825-01-09T21:18:43.200000\",\"1826-11-09T14:24:00\",\"1828-08-26T04:48:00\",\"1830-06-12T19:12:00\",\"1839-06-03T19:12:00\",\"1844-10-21T14:24:00\",\"1846-08-08T04:48:00\",\"1848-05-24T19:12:00\",\"1850-03-11T09:36:00\",\"1851-12-27T00:00:00\",\"1853-10-12T14:24:00\",\"1855-07-30T04:48:00\",\"1857-05-15T19:12:00\",\"1859-03-02T09:36:00\"],\"y\":[75,159,288,330,50,36,9,105,69,67,127,193,132,184],\"type\":\"scatter\"},{\"hoverinfo\":\"text\",\"hovertext\":[\"<b>Topic 2</b><br>Words: insect, dale, scotland, entomology, aenethum\",\"<b>Topic 2</b><br>Words: insect, mollusca, obligation, locust, fishes\",\"<b>Topic 2</b><br>Words: insect, entomology, yorkshire, jenyns, half\",\"<b>Topic 2</b><br>Words: insect, jenyns, mat, valdivia, hardwicke\",\"<b>Topic 2</b><br>Words: spue, calcium, juice, crustacea, shell\",\"<b>Topic 2</b><br>Words: nest, velleius, insect, wasp, dog\",\"<b>Topic 2</b><br>Words: fauna, diptera, entomologist, volume, hemiptera\",\"<b>Topic 2</b><br>Words: bee, insect, wasp, headquarters, annelide\",\"<b>Topic 2</b><br>Words: insect, crustacea, spence, beetles, entom\",\"<b>Topic 2</b><br>Words: insect, entomology, insecta, worm, westwood\",\"<b>Topic 2</b><br>Words: elephant, rinocero, leptorhine, remain, rhinocero\",\"<b>Topic 2</b><br>Words: insect, larva, entomologist, nepticula, moth\"],\"marker\":{\"color\":\"#56B4E9\"},\"mode\":\"markers\",\"name\":\"2_insect_entomology_entomologist_crustac...\",\"x\":[\"1825-01-09T21:18:43.200000\",\"1826-11-09T14:24:00\",\"1828-08-26T04:48:00\",\"1830-06-12T19:12:00\",\"1844-10-21T14:24:00\",\"1848-05-24T19:12:00\",\"1850-03-11T09:36:00\",\"1851-12-27T00:00:00\",\"1853-10-12T14:24:00\",\"1855-07-30T04:48:00\",\"1857-05-15T19:12:00\",\"1859-03-02T09:36:00\"],\"y\":[7,8,14,6,1,5,6,8,6,12,2,12],\"type\":\"scatter\"},{\"hoverinfo\":\"text\",\"hovertext\":[\"<b>Topic 3</b><br>Words: hooker, dr, sinclair, days_ago, genera\",\"<b>Topic 3</b><br>Words: hooker, aberdeenshire, suscriber, filicum, icone\",\"<b>Topic 3</b><br>Words: hooker, naturelle, magnum, haldane, twopenny\",\"<b>Topic 3</b><br>Words: hooker, arcades, fork, asubo, bestowing\",\"<b>Topic 3</b><br>Words: hooker, dr, sinclair, days_ago, genera\",\"<b>Topic 3</b><br>Words: cast, hooker, mus, feb, purchase\",\"<b>Topic 3</b><br>Words: julian, episode, hooker, news, history\",\"<b>Topic 3</b><br>Words: hooker, cassel, affte, jos, lyell\",\"<b>Topic 3</b><br>Words: hooker, days_ago, dr, fool, ten\",\"<b>Topic 3</b><br>Words: hooker, dawes, presentation, hasjsh, griffin\",\"<b>Topic 3</b><br>Words: hooker, germany, leonard_horner, fore, misunderstood\",\"<b>Topic 3</b><br>Words: hooker, sinclair, seymour, kindest_regard, faithf\",\"<b>Topic 3</b><br>Words: hooker, migrate, liking, lebanon, berth\"],\"marker\":{\"color\":\"#009E73\"},\"mode\":\"markers\",\"name\":\"3_hooker_dr_sinclair_days_ago\",\"x\":[\"1825-01-09T21:18:43.200000\",\"1826-11-09T14:24:00\",\"1828-08-26T04:48:00\",\"1830-06-12T19:12:00\",\"1844-10-21T14:24:00\",\"1846-08-08T04:48:00\",\"1848-05-24T19:12:00\",\"1850-03-11T09:36:00\",\"1851-12-27T00:00:00\",\"1853-10-12T14:24:00\",\"1855-07-30T04:48:00\",\"1857-05-15T19:12:00\",\"1859-03-02T09:36:00\"],\"y\":[1,7,11,10,1,1,1,2,8,7,8,8,4],\"type\":\"scatter\"},{\"hoverinfo\":\"text\",\"hovertext\":[\"<b>Topic 4</b><br>Words: goulburn, palmerston, ellis, lewin, ldp\",\"<b>Topic 4</b><br>Words: graham, lect, todd, ellis, rob\",\"<b>Topic 4</b><br>Words: graham, dalton, prodr, macfarlen, mutual\",\"<b>Topic 4</b><br>Words: dalton, bennett, lindley, graham, john\",\"<b>Topic 4</b><br>Words: bennett, miller, decline, probability, intention\",\"<b>Topic 4</b><br>Words: goulburn, hutton, henry, lindley, drawing\",\"<b>Topic 4</b><br>Words: scott, lindley, graham, miller, henry\",\"<b>Topic 4</b><br>Words: lindley, hithe, guess, cove, algernon\",\"<b>Topic 4</b><br>Words: forbe, edward, lindley, brown, hooker\",\"<b>Topic 4</b><br>Words: moseley, henry, reid, dine, aid\",\"<b>Topic 4</b><br>Words: charley, moustache, miller, griffith, parker\",\"<b>Topic 4</b><br>Words: miller, poole, grote, expry, stanley\",\"<b>Topic 4</b><br>Words: lancester, edwin, ellis, patterson, miller\",\"<b>Topic 4</b><br>Words: lindley, successors, woodward, lamarck, miller\"],\"marker\":{\"color\":\"#F0E442\"},\"mode\":\"markers\",\"name\":\"4_lindley_graham_miller_henry\",\"x\":[\"1825-01-09T21:18:43.200000\",\"1826-11-09T14:24:00\",\"1828-08-26T04:48:00\",\"1830-06-12T19:12:00\",\"1839-06-03T19:12:00\",\"1844-10-21T14:24:00\",\"1846-08-08T04:48:00\",\"1848-05-24T19:12:00\",\"1850-03-11T09:36:00\",\"1851-12-27T00:00:00\",\"1853-10-12T14:24:00\",\"1855-07-30T04:48:00\",\"1857-05-15T19:12:00\",\"1859-03-02T09:36:00\"],\"y\":[4,8,10,12,2,2,1,3,2,4,3,8,4,5],\"type\":\"scatter\"},{\"hoverinfo\":\"text\",\"hovertext\":[\"<b>Topic 5</b><br>Words: paper, determine, phil_soc, volume, month\",\"<b>Topic 5</b><br>Words: paper, gall, mis, ink, britannica\",\"<b>Topic 5</b><br>Words: paper, sheet, print, precise, blemish\",\"<b>Topic 5</b><br>Words: paper, printer, print, particular, rem\",\"<b>Topic 5</b><br>Words: paper, type, mill, sheet, alban\",\"<b>Topic 5</b><br>Words: dare, shew, paper, abundance, turn\",\"<b>Topic 5</b><br>Words: dent, paper, sheet, printer, print\",\"<b>Topic 5</b><br>Words: print, physiol, overhaul, comp, paper\",\"<b>Topic 5</b><br>Words: paper, press, printer, section, sheet\",\"<b>Topic 5</b><br>Words: paper, document, importunity, cowan, manufacturer\",\"<b>Topic 5</b><br>Words: paper, sheet, cut, printer, worke\",\"<b>Topic 5</b><br>Words: paper, willeg, ink, document, prince\"],\"marker\":{\"color\":\"#D55E00\"},\"mode\":\"markers\",\"name\":\"5_paper_sheet_printer_print\",\"x\":[\"1825-01-09T21:18:43.200000\",\"1826-11-09T14:24:00\",\"1828-08-26T04:48:00\",\"1830-06-12T19:12:00\",\"1839-06-03T19:12:00\",\"1844-10-21T14:24:00\",\"1850-03-11T09:36:00\",\"1851-12-27T00:00:00\",\"1853-10-12T14:24:00\",\"1855-07-30T04:48:00\",\"1857-05-15T19:12:00\",\"1859-03-02T09:36:00\"],\"y\":[2,4,10,9,5,1,1,3,9,9,5,6],\"type\":\"scatter\"},{\"hoverinfo\":\"text\",\"hovertext\":[\"<b>Topic 6</b><br>Words: curtain, breath, emotion, sorrento, gasp\",\"<b>Topic 6</b><br>Words: weather, spring, winter, snow, wind\",\"<b>Topic 6</b><br>Words: deserta, season, delight, weather, summer\",\"<b>Topic 6</b><br>Words: summer, rain, weather, season, frost\",\"<b>Topic 6</b><br>Words: catch, clk, daguerreotype, weather, service\",\"<b>Topic 6</b><br>Words: distemper, temper, ton, spring, season\",\"<b>Topic 6</b><br>Words: fillip, weather, trip, obligation, summer\",\"<b>Topic 6</b><br>Words: winter, season, metropolitana, meteorite, article\",\"<b>Topic 6</b><br>Words: weather, damage, nosegay, wind, truly_spence\",\"<b>Topic 6</b><br>Words: weather, meteorology, climate, camb_sh, season\",\"<b>Topic 6</b><br>Words: weather, summer, punctatus, snow, season\"],\"marker\":{\"color\":\"#0072B2\"},\"mode\":\"markers\",\"name\":\"6_weather_season_summer_meteorology\",\"x\":[\"1825-01-09T21:18:43.200000\",\"1826-11-09T14:24:00\",\"1828-08-26T04:48:00\",\"1830-06-12T19:12:00\",\"1848-05-24T19:12:00\",\"1850-03-11T09:36:00\",\"1851-12-27T00:00:00\",\"1853-10-12T14:24:00\",\"1855-07-30T04:48:00\",\"1857-05-15T19:12:00\",\"1859-03-02T09:36:00\"],\"y\":[2,7,3,15,1,2,2,5,4,16,5],\"type\":\"scatter\"},{\"hoverinfo\":\"text\",\"hovertext\":[\"<b>Topic 7</b><br>Words: lapland, collector, neighbourhood, bank, county\",\"<b>Topic 7</b><br>Words: land, berk, rochester, neighbourhood, estate\",\"<b>Topic 7</b><br>Words: neighbourhood, wrekin, bardon, forrest, vicinity\",\"<b>Topic 7</b><br>Words: neighbourhood, oatland, centre, baird, explore\",\"<b>Topic 7</b><br>Words: neighbourhood, lameginisum, kind, attempt, condition\",\"<b>Topic 7</b><br>Words: buckland, tenant, acre, neighbourhood, locality\",\"<b>Topic 7</b><br>Words: neighbor, hibgame, physician, edge, neighbourhood\",\"<b>Topic 7</b><br>Words: quaker, hy, scene, manor, dead\",\"<b>Topic 7</b><br>Words: defer, metropolitana, town, neighbourhood, locality\",\"<b>Topic 7</b><br>Words: neighbourhood, town, locality, district, beg\",\"<b>Topic 7</b><br>Words: scenery, apprehension, neighbourhood, locality, club\",\"<b>Topic 7</b><br>Words: neighbourhood, protogee, funeral, locality, wale\"],\"marker\":{\"color\":\"#CC79A7\"},\"mode\":\"markers\",\"name\":\"7_neighbourhood_locality_town_buckland\",\"x\":[\"1825-01-09T21:18:43.200000\",\"1826-11-09T14:24:00\",\"1828-08-26T04:48:00\",\"1830-06-12T19:12:00\",\"1839-06-03T19:12:00\",\"1844-10-21T14:24:00\",\"1848-05-24T19:12:00\",\"1850-03-11T09:36:00\",\"1853-10-12T14:24:00\",\"1855-07-30T04:48:00\",\"1857-05-15T19:12:00\",\"1859-03-02T09:36:00\"],\"y\":[2,3,6,9,2,3,2,2,2,13,2,6],\"type\":\"scatter\"},{\"hoverinfo\":\"text\",\"hovertext\":[\"<b>Topic 8</b><br>Words: dpalmerston, liver, absentee, greece, gout\",\"<b>Topic 8</b><br>Words: sundry, sickness, italy, health, leach\",\"<b>Topic 8</b><br>Words: illness, hypochondriasis, headache, perform, epidemic\",\"<b>Topic 8</b><br>Words: health, medicine, illness, sickness, complaint\",\"<b>Topic 8</b><br>Words: nerve, health, week, paralysis, worry\",\"<b>Topic 8</b><br>Words: shin, deprive, rheumatism, furrow, oblige\",\"<b>Topic 8</b><br>Words: improved_health, health, illness, doctor, complaint\",\"<b>Topic 8</b><br>Words: health, disinterested, salmonide, broom, courtier\",\"<b>Topic 8</b><br>Words: derangement, health, doctor, spasm, ailment\",\"<b>Topic 8</b><br>Words: harz, treatment, medical, complaint, mountain\",\"<b>Topic 8</b><br>Words: cough, wrist, delicate, health, louise\",\"<b>Topic 8</b><br>Words: health, illness, jane, month, week\"],\"marker\":{\"color\":\"#E69F00\"},\"mode\":\"markers\",\"name\":\"8_health_illness_complaint_doctor\",\"x\":[\"1825-01-09T21:18:43.200000\",\"1826-11-09T14:24:00\",\"1828-08-26T04:48:00\",\"1830-06-12T19:12:00\",\"1839-06-03T19:12:00\",\"1848-05-24T19:12:00\",\"1850-03-11T09:36:00\",\"1851-12-27T00:00:00\",\"1853-10-12T14:24:00\",\"1855-07-30T04:48:00\",\"1857-05-15T19:12:00\",\"1859-03-02T09:36:00\"],\"y\":[2,3,4,9,3,2,1,4,5,1,8,9],\"type\":\"scatter\"},{\"hoverinfo\":\"text\",\"hovertext\":[\"<b>Topic 1</b><br>Words: subscription, interest, share, salary, letter\",\"<b>Topic 1</b><br>Words: fund, expence, number, philos_soc, interest\",\"<b>Topic 1</b><br>Words: debt, number, interest, sum, per_cent\",\"<b>Topic 1</b><br>Words: extract, grant, distribution, print, letter\",\"<b>Topic 1</b><br>Words: copy, interest, subscription, letter, number\",\"<b>Topic 1</b><br>Words: owner, uncle, post_office, island, subscription\",\"<b>Topic 1</b><br>Words: deposit, subscription, copy, reserve, cousin\",\"<b>Topic 1</b><br>Words: sum, subscription, paget, mortlock, leg\",\"<b>Topic 1</b><br>Words: interest, hopkin, copy, per_annum, decision\",\"<b>Topic 1</b><br>Words: sum, interest, amount, county, enlist\",\"<b>Topic 1</b><br>Words: interest, value, valuation, share, copy\",\"<b>Topic 1</b><br>Words: number, copy, salary, letter, account\",\"<b>Topic 1</b><br>Words: letter, debacle, avidity, resource, wait\"],\"marker\":{\"color\":\"#56B4E9\"},\"mode\":\"markers\",\"name\":\"1_interest_subscription_letter_copy\",\"x\":[\"1826-11-09T14:24:00\",\"1828-08-26T04:48:00\",\"1830-06-12T19:12:00\",\"1839-06-03T19:12:00\",\"1844-10-21T14:24:00\",\"1846-08-08T04:48:00\",\"1848-05-24T19:12:00\",\"1850-03-11T09:36:00\",\"1851-12-27T00:00:00\",\"1853-10-12T14:24:00\",\"1855-07-30T04:48:00\",\"1857-05-15T19:12:00\",\"1859-03-02T09:36:00\"],\"y\":[24,13,15,2,1,2,9,8,7,11,22,18,9],\"type\":\"scatter\"},{\"hoverinfo\":\"text\",\"hovertext\":[\"<b>Topic 9</b><br>Words: natural_history, humboldt, history, rise, taste\",\"<b>Topic 9</b><br>Words: philosoph, history, collection, plant, natural_history\",\"<b>Topic 9</b><br>Words: cumana, herodotuss, cha, raisonne, macedonia\",\"<b>Topic 9</b><br>Words: physiology, cryptogamy, glossology, phanerogamy, portion\",\"<b>Topic 9</b><br>Words: natural_history, concentrate, amusement, promote, revision\",\"<b>Topic 9</b><br>Words: project, preparation, naturalist, communication, committee\",\"<b>Topic 9</b><br>Words: natural_history, monarch, memo, historians, encourage\",\"<b>Topic 9</b><br>Words: teacher, history, natural_history, progress, collection\",\"<b>Topic 9</b><br>Words: physiology, edition, history, saturate, vitality\",\"<b>Topic 9</b><br>Words: physiology, natural_history, barrett, naturalist, history\",\"<b>Topic 9</b><br>Words: natural_history, rest, romanism, critique, civil\"],\"marker\":{\"color\":\"#009E73\"},\"mode\":\"markers\",\"name\":\"9_natural_history_physiology_history_hum...\",\"x\":[\"1826-11-09T14:24:00\",\"1828-08-26T04:48:00\",\"1830-06-12T19:12:00\",\"1839-06-03T19:12:00\",\"1848-05-24T19:12:00\",\"1850-03-11T09:36:00\",\"1851-12-27T00:00:00\",\"1853-10-12T14:24:00\",\"1855-07-30T04:48:00\",\"1857-05-15T19:12:00\",\"1859-03-02T09:36:00\"],\"y\":[8,1,2,4,3,2,4,2,7,8,6],\"type\":\"scatter\"},{\"hoverinfo\":\"text\",\"hovertext\":[\"<b>Topic 10</b><br>Words: fossils, premium, singular, mineralogist, norway\",\"<b>Topic 10</b><br>Words: fossil, si, livraison, nai, doute\",\"<b>Topic 10</b><br>Words: zamia, inter, cone, green_sand, fragment\",\"<b>Topic 10</b><br>Words: fossil, reptile, dover, decision, inconvenience\",\"<b>Topic 10</b><br>Words: miocene, pliocene, fossil, coraline, crag\",\"<b>Topic 10</b><br>Words: fossil, ramble, cinder, vesuvius, pleistocene\",\"<b>Topic 10</b><br>Words: fossil, metropolis, inclination, incommode, pal\",\"<b>Topic 10</b><br>Words: fossil, coryphodon, allied, geological_society, mammalia\",\"<b>Topic 10</b><br>Words: fossil, geologist, deal, snatch, tertiary\",\"<b>Topic 10</b><br>Words: fossil, series, crag, step, celt\"],\"marker\":{\"color\":\"#F0E442\"},\"mode\":\"markers\",\"name\":\"10_fossil_crag_pleistocene_miocene\",\"x\":[\"1826-11-09T14:24:00\",\"1839-06-03T19:12:00\",\"1844-10-21T14:24:00\",\"1848-05-24T19:12:00\",\"1850-03-11T09:36:00\",\"1851-12-27T00:00:00\",\"1853-10-12T14:24:00\",\"1855-07-30T04:48:00\",\"1857-05-15T19:12:00\",\"1859-03-02T09:36:00\"],\"y\":[1,6,1,2,6,3,8,4,7,6],\"type\":\"scatter\"},{\"hoverinfo\":\"text\",\"hovertext\":[\"<b>Topic 11</b><br>Words: instant, morning, minute, hour, day\",\"<b>Topic 11</b><br>Words: morning, chee, tor, harvest, rest\",\"<b>Topic 11</b><br>Words: opiate, dream, slumber, ocl, succession\",\"<b>Topic 11</b><br>Words: nature, day, morning, minute, hour\",\"<b>Topic 11</b><br>Words: ireland, suit, morning, evening, rest\",\"<b>Topic 11</b><br>Words: minute, hughe, afternoon, bell, morning\",\"<b>Topic 11</b><br>Words: daylight, hour, day, temple, morning\",\"<b>Topic 11</b><br>Words: suffice, sheep, minute, night, day\",\"<b>Topic 11</b><br>Words: minute, morning, evening, portland, saty\"],\"marker\":{\"color\":\"#D55E00\"},\"mode\":\"markers\",\"name\":\"11_morning_minute_hour_day\",\"x\":[\"1826-11-09T14:24:00\",\"1828-08-26T04:48:00\",\"1848-05-24T19:12:00\",\"1850-03-11T09:36:00\",\"1851-12-27T00:00:00\",\"1853-10-12T14:24:00\",\"1855-07-30T04:48:00\",\"1857-05-15T19:12:00\",\"1859-03-02T09:36:00\"],\"y\":[1,3,3,1,5,5,6,9,9],\"type\":\"scatter\"},{\"hoverinfo\":\"text\",\"hovertext\":[\"<b>Topic 12</b><br>Words: bird, woods, guineas, audubon, risk\",\"<b>Topic 12</b><br>Words: bird, vessel, ship, port, england\",\"<b>Topic 12</b><br>Words: bird, height, feather, duck, mandarine\",\"<b>Topic 12</b><br>Words: caricio, jardine, sclater, bird, prince\",\"<b>Topic 12</b><br>Words: incubation, eagle, cilia, dillwyn, chicken\",\"<b>Topic 12</b><br>Words: bird, stone, ray, suit, help\",\"<b>Topic 12</b><br>Words: bird, purchase, ledbetter, thornham, display\",\"<b>Topic 12</b><br>Words: bird, glass, mule, greenfinche, entrust\",\"<b>Topic 12</b><br>Words: bird, rabbit, type, finding, mall\",\"<b>Topic 12</b><br>Words: bird, bree, exposition, paris, palace\",\"<b>Topic 12</b><br>Words: covert, feather, monstrosity, wingfull, goatsucker\"],\"marker\":{\"color\":\"#0072B2\"},\"mode\":\"markers\",\"name\":\"12_bird_feather_vessel_ship\",\"x\":[\"1826-11-09T14:24:00\",\"1828-08-26T04:48:00\",\"1830-06-12T19:12:00\",\"1839-06-03T19:12:00\",\"1848-05-24T19:12:00\",\"1850-03-11T09:36:00\",\"1851-12-27T00:00:00\",\"1853-10-12T14:24:00\",\"1855-07-30T04:48:00\",\"1857-05-15T19:12:00\",\"1859-03-02T09:36:00\"],\"y\":[1,10,9,1,2,1,5,5,4,2,2],\"type\":\"scatter\"},{\"hoverinfo\":\"text\",\"hovertext\":[\"<b>Topic 13</b><br>Words: plate, illiger, scarabidae, hister, hexoda\",\"<b>Topic 13</b><br>Words: plate, excellence, miscellany, ii, mistake\",\"<b>Topic 13</b><br>Words: plate, shell, cost, impression, lettering\",\"<b>Topic 13</b><br>Words: plate, crenation, pecop, brong, lonchitiea\",\"<b>Topic 13</b><br>Words: plate, rix, sol, mint, decm\",\"<b>Topic 13</b><br>Words: plate, benthams, sci, labiata, tom\",\"<b>Topic 13</b><br>Words: masse, piece, plate, stenotype, reference\",\"<b>Topic 13</b><br>Words: plate, duplicate, stenotype, reference, potassium\",\"<b>Topic 13</b><br>Words: plate, potassium, pea, motion, copper\",\"<b>Topic 13</b><br>Words: plate, reference, sclater, zuetell, ventnor\",\"<b>Topic 13</b><br>Words: plate, stenotype, reduction, resetting, demand\",\"<b>Topic 13</b><br>Words: plate, axe, sandwich, orkney, edge\"],\"marker\":{\"color\":\"#CC79A7\"},\"mode\":\"markers\",\"name\":\"13_plate_stenotype_reference_potassium\",\"x\":[\"1826-11-09T14:24:00\",\"1828-08-26T04:48:00\",\"1830-06-12T19:12:00\",\"1839-06-03T19:12:00\",\"1844-10-21T14:24:00\",\"1848-05-24T19:12:00\",\"1850-03-11T09:36:00\",\"1851-12-27T00:00:00\",\"1853-10-12T14:24:00\",\"1855-07-30T04:48:00\",\"1857-05-15T19:12:00\",\"1859-03-02T09:36:00\"],\"y\":[5,3,14,6,1,3,1,1,1,3,2,2],\"type\":\"scatter\"},{\"hoverinfo\":\"text\",\"hovertext\":[\"<b>Topic 14</b><br>Words: lime, oxide, iron_alumina, acid, essex\",\"<b>Topic 14</b><br>Words: menstrum, gas, activity, destruction, mercury\",\"<b>Topic 14</b><br>Words: carb, lime, acid, iron, alumina\",\"<b>Topic 14</b><br>Words: lime, coprolite, ball, septaria, phosphorus\",\"<b>Topic 14</b><br>Words: acid, carbonate, lime, coating, alumina\",\"<b>Topic 14</b><br>Words: lime, acid, silica, alumina, sulphate\",\"<b>Topic 14</b><br>Words: acid, iron, portion, lime, alkali\",\"<b>Topic 14</b><br>Words: gas, oxide, nickel, carbonic, blowpipe\",\"<b>Topic 14</b><br>Words: acid, lime, fuel, coprolite, fountain\"],\"marker\":{\"color\":\"#E69F00\"},\"mode\":\"markers\",\"name\":\"14_lime_acid_iron_oxide\",\"x\":[\"1826-11-09T14:24:00\",\"1830-06-12T19:12:00\",\"1839-06-03T19:12:00\",\"1844-10-21T14:24:00\",\"1848-05-24T19:12:00\",\"1850-03-11T09:36:00\",\"1851-12-27T00:00:00\",\"1853-10-12T14:24:00\",\"1855-07-30T04:48:00\"],\"y\":[5,2,1,2,5,13,4,3,5],\"type\":\"scatter\"}],                        {\"template\":{\"data\":{\"barpolar\":[{\"marker\":{\"line\":{\"color\":\"white\",\"width\":0.5},\"pattern\":{\"fillmode\":\"overlay\",\"size\":10,\"solidity\":0.2}},\"type\":\"barpolar\"}],\"bar\":[{\"error_x\":{\"color\":\"rgb(36,36,36)\"},\"error_y\":{\"color\":\"rgb(36,36,36)\"},\"marker\":{\"line\":{\"color\":\"white\",\"width\":0.5},\"pattern\":{\"fillmode\":\"overlay\",\"size\":10,\"solidity\":0.2}},\"type\":\"bar\"}],\"carpet\":[{\"aaxis\":{\"endlinecolor\":\"rgb(36,36,36)\",\"gridcolor\":\"white\",\"linecolor\":\"white\",\"minorgridcolor\":\"white\",\"startlinecolor\":\"rgb(36,36,36)\"},\"baxis\":{\"endlinecolor\":\"rgb(36,36,36)\",\"gridcolor\":\"white\",\"linecolor\":\"white\",\"minorgridcolor\":\"white\",\"startlinecolor\":\"rgb(36,36,36)\"},\"type\":\"carpet\"}],\"choropleth\":[{\"colorbar\":{\"outlinewidth\":1,\"tickcolor\":\"rgb(36,36,36)\",\"ticks\":\"outside\"},\"type\":\"choropleth\"}],\"contourcarpet\":[{\"colorbar\":{\"outlinewidth\":1,\"tickcolor\":\"rgb(36,36,36)\",\"ticks\":\"outside\"},\"type\":\"contourcarpet\"}],\"contour\":[{\"colorbar\":{\"outlinewidth\":1,\"tickcolor\":\"rgb(36,36,36)\",\"ticks\":\"outside\"},\"colorscale\":[[0.0,\"#440154\"],[0.1111111111111111,\"#482878\"],[0.2222222222222222,\"#3e4989\"],[0.3333333333333333,\"#31688e\"],[0.4444444444444444,\"#26828e\"],[0.5555555555555556,\"#1f9e89\"],[0.6666666666666666,\"#35b779\"],[0.7777777777777778,\"#6ece58\"],[0.8888888888888888,\"#b5de2b\"],[1.0,\"#fde725\"]],\"type\":\"contour\"}],\"heatmapgl\":[{\"colorbar\":{\"outlinewidth\":1,\"tickcolor\":\"rgb(36,36,36)\",\"ticks\":\"outside\"},\"colorscale\":[[0.0,\"#440154\"],[0.1111111111111111,\"#482878\"],[0.2222222222222222,\"#3e4989\"],[0.3333333333333333,\"#31688e\"],[0.4444444444444444,\"#26828e\"],[0.5555555555555556,\"#1f9e89\"],[0.6666666666666666,\"#35b779\"],[0.7777777777777778,\"#6ece58\"],[0.8888888888888888,\"#b5de2b\"],[1.0,\"#fde725\"]],\"type\":\"heatmapgl\"}],\"heatmap\":[{\"colorbar\":{\"outlinewidth\":1,\"tickcolor\":\"rgb(36,36,36)\",\"ticks\":\"outside\"},\"colorscale\":[[0.0,\"#440154\"],[0.1111111111111111,\"#482878\"],[0.2222222222222222,\"#3e4989\"],[0.3333333333333333,\"#31688e\"],[0.4444444444444444,\"#26828e\"],[0.5555555555555556,\"#1f9e89\"],[0.6666666666666666,\"#35b779\"],[0.7777777777777778,\"#6ece58\"],[0.8888888888888888,\"#b5de2b\"],[1.0,\"#fde725\"]],\"type\":\"heatmap\"}],\"histogram2dcontour\":[{\"colorbar\":{\"outlinewidth\":1,\"tickcolor\":\"rgb(36,36,36)\",\"ticks\":\"outside\"},\"colorscale\":[[0.0,\"#440154\"],[0.1111111111111111,\"#482878\"],[0.2222222222222222,\"#3e4989\"],[0.3333333333333333,\"#31688e\"],[0.4444444444444444,\"#26828e\"],[0.5555555555555556,\"#1f9e89\"],[0.6666666666666666,\"#35b779\"],[0.7777777777777778,\"#6ece58\"],[0.8888888888888888,\"#b5de2b\"],[1.0,\"#fde725\"]],\"type\":\"histogram2dcontour\"}],\"histogram2d\":[{\"colorbar\":{\"outlinewidth\":1,\"tickcolor\":\"rgb(36,36,36)\",\"ticks\":\"outside\"},\"colorscale\":[[0.0,\"#440154\"],[0.1111111111111111,\"#482878\"],[0.2222222222222222,\"#3e4989\"],[0.3333333333333333,\"#31688e\"],[0.4444444444444444,\"#26828e\"],[0.5555555555555556,\"#1f9e89\"],[0.6666666666666666,\"#35b779\"],[0.7777777777777778,\"#6ece58\"],[0.8888888888888888,\"#b5de2b\"],[1.0,\"#fde725\"]],\"type\":\"histogram2d\"}],\"histogram\":[{\"marker\":{\"line\":{\"color\":\"white\",\"width\":0.6}},\"type\":\"histogram\"}],\"mesh3d\":[{\"colorbar\":{\"outlinewidth\":1,\"tickcolor\":\"rgb(36,36,36)\",\"ticks\":\"outside\"},\"type\":\"mesh3d\"}],\"parcoords\":[{\"line\":{\"colorbar\":{\"outlinewidth\":1,\"tickcolor\":\"rgb(36,36,36)\",\"ticks\":\"outside\"}},\"type\":\"parcoords\"}],\"pie\":[{\"automargin\":true,\"type\":\"pie\"}],\"scatter3d\":[{\"line\":{\"colorbar\":{\"outlinewidth\":1,\"tickcolor\":\"rgb(36,36,36)\",\"ticks\":\"outside\"}},\"marker\":{\"colorbar\":{\"outlinewidth\":1,\"tickcolor\":\"rgb(36,36,36)\",\"ticks\":\"outside\"}},\"type\":\"scatter3d\"}],\"scattercarpet\":[{\"marker\":{\"colorbar\":{\"outlinewidth\":1,\"tickcolor\":\"rgb(36,36,36)\",\"ticks\":\"outside\"}},\"type\":\"scattercarpet\"}],\"scattergeo\":[{\"marker\":{\"colorbar\":{\"outlinewidth\":1,\"tickcolor\":\"rgb(36,36,36)\",\"ticks\":\"outside\"}},\"type\":\"scattergeo\"}],\"scattergl\":[{\"marker\":{\"colorbar\":{\"outlinewidth\":1,\"tickcolor\":\"rgb(36,36,36)\",\"ticks\":\"outside\"}},\"type\":\"scattergl\"}],\"scattermapbox\":[{\"marker\":{\"colorbar\":{\"outlinewidth\":1,\"tickcolor\":\"rgb(36,36,36)\",\"ticks\":\"outside\"}},\"type\":\"scattermapbox\"}],\"scatterpolargl\":[{\"marker\":{\"colorbar\":{\"outlinewidth\":1,\"tickcolor\":\"rgb(36,36,36)\",\"ticks\":\"outside\"}},\"type\":\"scatterpolargl\"}],\"scatterpolar\":[{\"marker\":{\"colorbar\":{\"outlinewidth\":1,\"tickcolor\":\"rgb(36,36,36)\",\"ticks\":\"outside\"}},\"type\":\"scatterpolar\"}],\"scatter\":[{\"fillpattern\":{\"fillmode\":\"overlay\",\"size\":10,\"solidity\":0.2},\"type\":\"scatter\"}],\"scatterternary\":[{\"marker\":{\"colorbar\":{\"outlinewidth\":1,\"tickcolor\":\"rgb(36,36,36)\",\"ticks\":\"outside\"}},\"type\":\"scatterternary\"}],\"surface\":[{\"colorbar\":{\"outlinewidth\":1,\"tickcolor\":\"rgb(36,36,36)\",\"ticks\":\"outside\"},\"colorscale\":[[0.0,\"#440154\"],[0.1111111111111111,\"#482878\"],[0.2222222222222222,\"#3e4989\"],[0.3333333333333333,\"#31688e\"],[0.4444444444444444,\"#26828e\"],[0.5555555555555556,\"#1f9e89\"],[0.6666666666666666,\"#35b779\"],[0.7777777777777778,\"#6ece58\"],[0.8888888888888888,\"#b5de2b\"],[1.0,\"#fde725\"]],\"type\":\"surface\"}],\"table\":[{\"cells\":{\"fill\":{\"color\":\"rgb(237,237,237)\"},\"line\":{\"color\":\"white\"}},\"header\":{\"fill\":{\"color\":\"rgb(217,217,217)\"},\"line\":{\"color\":\"white\"}},\"type\":\"table\"}]},\"layout\":{\"annotationdefaults\":{\"arrowhead\":0,\"arrowwidth\":1},\"autotypenumbers\":\"strict\",\"coloraxis\":{\"colorbar\":{\"outlinewidth\":1,\"tickcolor\":\"rgb(36,36,36)\",\"ticks\":\"outside\"}},\"colorscale\":{\"diverging\":[[0.0,\"rgb(103,0,31)\"],[0.1,\"rgb(178,24,43)\"],[0.2,\"rgb(214,96,77)\"],[0.3,\"rgb(244,165,130)\"],[0.4,\"rgb(253,219,199)\"],[0.5,\"rgb(247,247,247)\"],[0.6,\"rgb(209,229,240)\"],[0.7,\"rgb(146,197,222)\"],[0.8,\"rgb(67,147,195)\"],[0.9,\"rgb(33,102,172)\"],[1.0,\"rgb(5,48,97)\"]],\"sequential\":[[0.0,\"#440154\"],[0.1111111111111111,\"#482878\"],[0.2222222222222222,\"#3e4989\"],[0.3333333333333333,\"#31688e\"],[0.4444444444444444,\"#26828e\"],[0.5555555555555556,\"#1f9e89\"],[0.6666666666666666,\"#35b779\"],[0.7777777777777778,\"#6ece58\"],[0.8888888888888888,\"#b5de2b\"],[1.0,\"#fde725\"]],\"sequentialminus\":[[0.0,\"#440154\"],[0.1111111111111111,\"#482878\"],[0.2222222222222222,\"#3e4989\"],[0.3333333333333333,\"#31688e\"],[0.4444444444444444,\"#26828e\"],[0.5555555555555556,\"#1f9e89\"],[0.6666666666666666,\"#35b779\"],[0.7777777777777778,\"#6ece58\"],[0.8888888888888888,\"#b5de2b\"],[1.0,\"#fde725\"]]},\"colorway\":[\"#1F77B4\",\"#FF7F0E\",\"#2CA02C\",\"#D62728\",\"#9467BD\",\"#8C564B\",\"#E377C2\",\"#7F7F7F\",\"#BCBD22\",\"#17BECF\"],\"font\":{\"color\":\"rgb(36,36,36)\"},\"geo\":{\"bgcolor\":\"white\",\"lakecolor\":\"white\",\"landcolor\":\"white\",\"showlakes\":true,\"showland\":true,\"subunitcolor\":\"white\"},\"hoverlabel\":{\"align\":\"left\"},\"hovermode\":\"closest\",\"mapbox\":{\"style\":\"light\"},\"paper_bgcolor\":\"white\",\"plot_bgcolor\":\"white\",\"polar\":{\"angularaxis\":{\"gridcolor\":\"rgb(232,232,232)\",\"linecolor\":\"rgb(36,36,36)\",\"showgrid\":false,\"showline\":true,\"ticks\":\"outside\"},\"bgcolor\":\"white\",\"radialaxis\":{\"gridcolor\":\"rgb(232,232,232)\",\"linecolor\":\"rgb(36,36,36)\",\"showgrid\":false,\"showline\":true,\"ticks\":\"outside\"}},\"scene\":{\"xaxis\":{\"backgroundcolor\":\"white\",\"gridcolor\":\"rgb(232,232,232)\",\"gridwidth\":2,\"linecolor\":\"rgb(36,36,36)\",\"showbackground\":true,\"showgrid\":false,\"showline\":true,\"ticks\":\"outside\",\"zeroline\":false,\"zerolinecolor\":\"rgb(36,36,36)\"},\"yaxis\":{\"backgroundcolor\":\"white\",\"gridcolor\":\"rgb(232,232,232)\",\"gridwidth\":2,\"linecolor\":\"rgb(36,36,36)\",\"showbackground\":true,\"showgrid\":false,\"showline\":true,\"ticks\":\"outside\",\"zeroline\":false,\"zerolinecolor\":\"rgb(36,36,36)\"},\"zaxis\":{\"backgroundcolor\":\"white\",\"gridcolor\":\"rgb(232,232,232)\",\"gridwidth\":2,\"linecolor\":\"rgb(36,36,36)\",\"showbackground\":true,\"showgrid\":false,\"showline\":true,\"ticks\":\"outside\",\"zeroline\":false,\"zerolinecolor\":\"rgb(36,36,36)\"}},\"shapedefaults\":{\"fillcolor\":\"black\",\"line\":{\"width\":0},\"opacity\":0.3},\"ternary\":{\"aaxis\":{\"gridcolor\":\"rgb(232,232,232)\",\"linecolor\":\"rgb(36,36,36)\",\"showgrid\":false,\"showline\":true,\"ticks\":\"outside\"},\"baxis\":{\"gridcolor\":\"rgb(232,232,232)\",\"linecolor\":\"rgb(36,36,36)\",\"showgrid\":false,\"showline\":true,\"ticks\":\"outside\"},\"bgcolor\":\"white\",\"caxis\":{\"gridcolor\":\"rgb(232,232,232)\",\"linecolor\":\"rgb(36,36,36)\",\"showgrid\":false,\"showline\":true,\"ticks\":\"outside\"}},\"title\":{\"x\":0.05},\"xaxis\":{\"automargin\":true,\"gridcolor\":\"rgb(232,232,232)\",\"linecolor\":\"rgb(36,36,36)\",\"showgrid\":false,\"showline\":true,\"ticks\":\"outside\",\"title\":{\"standoff\":15},\"zeroline\":false,\"zerolinecolor\":\"rgb(36,36,36)\"},\"yaxis\":{\"automargin\":true,\"gridcolor\":\"rgb(232,232,232)\",\"linecolor\":\"rgb(36,36,36)\",\"showgrid\":false,\"showline\":true,\"ticks\":\"outside\",\"title\":{\"standoff\":15},\"zeroline\":false,\"zerolinecolor\":\"rgb(36,36,36)\"}}},\"xaxis\":{\"showgrid\":true},\"yaxis\":{\"showgrid\":true,\"title\":{\"text\":\"Count\"}},\"title\":{\"font\":{\"size\":22,\"color\":\"Black\"},\"text\":\"<b>Topics over Time\",\"y\":0.95,\"x\":0.4,\"xanchor\":\"center\",\"yanchor\":\"top\"},\"hoverlabel\":{\"font\":{\"size\":16,\"family\":\"Rockwell\"},\"bgcolor\":\"white\"},\"width\":1000,\"height\":500,\"legend\":{\"title\":{\"text\":\"<b>Global Topic Representation\"}}},                        {\"responsive\": true}                    ).then(function(){\n",
       "                            \n",
       "var gd = document.getElementById('87cfa402-6287-4bcb-9796-9db6ac7cb222');\n",
       "var x = new MutationObserver(function (mutations, observer) {{\n",
       "        var display = window.getComputedStyle(gd).display;\n",
       "        if (!display || display === 'none') {{\n",
       "            console.log([gd, 'removed!']);\n",
       "            Plotly.purge(gd);\n",
       "            observer.disconnect();\n",
       "        }}\n",
       "}});\n",
       "\n",
       "// Listen for the removal of the full notebook cells\n",
       "var notebookContainer = gd.closest('#notebook-container');\n",
       "if (notebookContainer) {{\n",
       "    x.observe(notebookContainer, {childList: true});\n",
       "}}\n",
       "\n",
       "// Listen for the clearing of the current output cell\n",
       "var outputEl = gd.closest('.output');\n",
       "if (outputEl) {{\n",
       "    x.observe(outputEl, {childList: true});\n",
       "}}\n",
       "\n",
       "                        })                };                });            </script>        </div>"
      ]
     },
     "metadata": {},
     "output_type": "display_data"
    }
   ],
   "source": [
    "all_win_vis = year_window_vis(sent_df, year_counts_all, topic_model)\n",
    "all_win_vis"
   ]
  },
  {
   "cell_type": "markdown",
   "id": "b1e05fed",
   "metadata": {},
   "source": [
    "Use year_window_vis function to create a visualisation of topics over time for letters sent by Henslow, omitting years with very high or low numbers of letters."
   ]
  },
  {
   "cell_type": "code",
   "execution_count": 27,
   "id": "8b64e41c",
   "metadata": {},
   "outputs": [
    {
     "data": {
      "application/vnd.plotly.v1+json": {
       "config": {
        "plotlyServerURL": "https://plot.ly"
       },
       "data": [
        {
         "hoverinfo": "text",
         "hovertext": [
          "<b>Topic 0</b><br>Words: physiology, vegetation, plant, law, summer",
          "<b>Topic 0</b><br>Words: arrangement, curator, regard, biggs, lappage",
          "<b>Topic 0</b><br>Words: plant, queen, duplicate, resident, november",
          "<b>Topic 0</b><br>Words: garden, plant, visitor, cycadeae, superintendence",
          "<b>Topic 0</b><br>Words: museum, probability, class, plant, letter",
          "<b>Topic 0</b><br>Words: plant, museum, grandiflora, melittis, ipswich",
          "<b>Topic 0</b><br>Words: genera, museum, november, hadley, lindley",
          "<b>Topic 0</b><br>Words: museum, plan, affection, object, series",
          "<b>Topic 0</b><br>Words: museum, ipswich, preference, building, plant",
          "<b>Topic 0</b><br>Words: museum, plant, thing, auditor, seed"
         ],
         "marker": {
          "color": "#E69F00"
         },
         "mode": "markers",
         "name": "0_museum_plant_ipswich_curator",
         "type": "scatter",
         "x": [
          "1840-01-08T10:48:00",
          "1844-03-05T00:00:00",
          "1845-03-17T12:00:00",
          "1847-04-11T12:00:00",
          "1848-04-23T00:00:00",
          "1849-05-05T12:00:00",
          "1850-05-18T00:00:00",
          "1853-06-23T12:00:00",
          "1854-07-06T00:00:00",
          "1859-09-05T12:00:00"
         ],
         "y": [
          11,
          1,
          3,
          2,
          7,
          15,
          3,
          10,
          4,
          15
         ]
        },
        {
         "hoverinfo": "text",
         "hovertext": [
          "<b>Topic 1</b><br>Words: bunbury, july, meeting, london, suffolk",
          "<b>Topic 1</b><br>Words: government, post, appointment, town, suffolk",
          "<b>Topic 1</b><br>Words: region, banks, portrait, origin, joseph",
          "<b>Topic 1</b><br>Words: suffolk, letter, kindness, post, dec",
          "<b>Topic 1</b><br>Words: suffolk, post_office, statement, land, london",
          "<b>Topic 1</b><br>Words: suffolk, student, correspond, porter, turtle",
          "<b>Topic 1</b><br>Words: june, aid, assistance, suffolk, request",
          "<b>Topic 1</b><br>Words: liverpool, escort, lodging, cobbold, adventure",
          "<b>Topic 1</b><br>Words: downing_terrace, joseph, april, cambridge, lyell"
         ],
         "marker": {
          "color": "#56B4E9"
         },
         "mode": "markers",
         "name": "1_suffolk_london_downing_terrace_post",
         "type": "scatter",
         "x": [
          "1840-01-08T10:48:00",
          "1845-03-17T12:00:00",
          "1847-04-11T12:00:00",
          "1848-04-23T00:00:00",
          "1849-05-05T12:00:00",
          "1850-05-18T00:00:00",
          "1853-06-23T12:00:00",
          "1854-07-06T00:00:00",
          "1859-09-05T12:00:00"
         ],
         "y": [
          6,
          4,
          1,
          15,
          18,
          3,
          3,
          4,
          14
         ]
        },
        {
         "hoverinfo": "text",
         "hovertext": [
          "<b>Topic 2</b><br>Words: stigmaria, drawing, answer, description, purpose",
          "<b>Topic 2</b><br>Words: reason, felixstow, appearance, person, sedgwick",
          "<b>Topic 2</b><br>Words: pity, circumstance, duke, baron, sentence",
          "<b>Topic 2</b><br>Words: income, increase, temptation, boy, conscience",
          "<b>Topic 2</b><br>Words: church, view, opinion, lord, sabbath",
          "<b>Topic 2</b><br>Words: darwin, view, sedgwick, hypothesis, opinion"
         ],
         "marker": {
          "color": "#009E73"
         },
         "mode": "markers",
         "name": "2_darwin_view_sedgwick_opinion",
         "type": "scatter",
         "x": [
          "1840-01-08T10:48:00",
          "1845-03-17T12:00:00",
          "1847-04-11T12:00:00",
          "1848-04-23T00:00:00",
          "1849-05-05T12:00:00",
          "1859-09-05T12:00:00"
         ],
         "y": [
          1,
          1,
          1,
          1,
          20,
          34
         ]
        },
        {
         "hoverinfo": "text",
         "hovertext": [
          "<b>Topic 3</b><br>Words: specimen, branch, plate, fig, basis",
          "<b>Topic 3</b><br>Words: bone, plate, sol, spirality, medusae",
          "<b>Topic 3</b><br>Words: scape, tube, fructifie, neck, sphaeria",
          "<b>Topic 3</b><br>Words: labiata, pistil, elschotzia, inch, diam",
          "<b>Topic 3</b><br>Words: masse, piece, specimen, plate, branch",
          "<b>Topic 3</b><br>Words: bottom, branch, direction, point, specimen",
          "<b>Topic 3</b><br>Words: specimen, grass, epilobium, viz, arenaria"
         ],
         "marker": {
          "color": "#F0E442"
         },
         "mode": "markers",
         "name": "3_specimen_plate_branch_fig",
         "type": "scatter",
         "x": [
          "1840-01-08T10:48:00",
          "1845-03-17T12:00:00",
          "1848-04-23T00:00:00",
          "1849-05-05T12:00:00",
          "1850-05-18T00:00:00",
          "1853-06-23T12:00:00",
          "1859-09-05T12:00:00"
         ],
         "y": [
          34,
          6,
          3,
          2,
          1,
          1,
          6
         ]
        },
        {
         "hoverinfo": "text",
         "hovertext": [
          "<b>Topic 4</b><br>Words: hitcham_bildeston, woodbridge, memoranda, suffolk, drawing",
          "<b>Topic 4</b><br>Words: fetch, fanny, alban, whewell, harriet",
          "<b>Topic 4</b><br>Words: gunn, parcel, spirit, anne, turner",
          "<b>Topic 4</b><br>Words: wife, hitcham, private, decease, kindest_regard",
          "<b>Topic 4</b><br>Words: messenger, afflick, lady, morning, whewell",
          "<b>Topic 4</b><br>Words: hitcham, father, february, house, word",
          "<b>Topic 4</b><br>Words: hitcham, year, october, fill, alive",
          "<b>Topic 4</b><br>Words: lady, afflick, miss, barnard, bid"
         ],
         "marker": {
          "color": "#D55E00"
         },
         "mode": "markers",
         "name": "4_hitcham_hitcham_bildeston_lady_whewell",
         "type": "scatter",
         "x": [
          "1840-01-08T10:48:00",
          "1845-03-17T12:00:00",
          "1848-04-23T00:00:00",
          "1849-05-05T12:00:00",
          "1850-05-18T00:00:00",
          "1853-06-23T12:00:00",
          "1854-07-06T00:00:00",
          "1859-09-05T12:00:00"
         ],
         "y": [
          10,
          5,
          2,
          8,
          1,
          7,
          4,
          13
         ]
        },
        {
         "hoverinfo": "text",
         "hovertext": [
          "<b>Topic 5</b><br>Words: intention, lecture, village, miller, draughtsman",
          "<b>Topic 5</b><br>Words: profession, doctor, theis, sermon, professor",
          "<b>Topic 5</b><br>Words: course, lecture, ticket, professor, fee",
          "<b>Topic 5</b><br>Words: expence, cousin, economy, bed, admission",
          "<b>Topic 5</b><br>Words: expense, difference, lecture, course, professor",
          "<b>Topic 5</b><br>Words: non, dicotyledon, advantage, cause, thought",
          "<b>Topic 5</b><br>Words: lecture, june, concoct, palace, course"
         ],
         "marker": {
          "color": "#0072B2"
         },
         "mode": "markers",
         "name": "5_lecture_course_ticket_professor",
         "type": "scatter",
         "x": [
          "1840-01-08T10:48:00",
          "1845-03-17T12:00:00",
          "1848-04-23T00:00:00",
          "1849-05-05T12:00:00",
          "1853-06-23T12:00:00",
          "1854-07-06T00:00:00",
          "1859-09-05T12:00:00"
         ],
         "y": [
          5,
          3,
          19,
          1,
          1,
          1,
          7
         ]
        },
        {
         "hoverinfo": "text",
         "hovertext": [
          "<b>Topic 6</b><br>Words: excuse, patchwork, haste, cooperate, doubt",
          "<b>Topic 6</b><br>Words: plan, tho, doubt, solution, problem",
          "<b>Topic 6</b><br>Words: riddle, friendship, doubt, tho, problem",
          "<b>Topic 6</b><br>Words: point, tho, doubt, solution, problem",
          "<b>Topic 6</b><br>Words: sleep, ocl, minimum, note, report",
          "<b>Topic 6</b><br>Words: oclock, doubt, cause, inconvenience, remark",
          "<b>Topic 6</b><br>Words: meeting, tho, doubt, solution, problem",
          "<b>Topic 6</b><br>Words: hint, tho, doubt, solution, problem",
          "<b>Topic 6</b><br>Words: tho, solution, problem, blunder, point"
         ],
         "marker": {
          "color": "#CC79A7"
         },
         "mode": "markers",
         "name": "6_tho_doubt_problem_solution",
         "type": "scatter",
         "x": [
          "1840-01-08T10:48:00",
          "1844-03-05T00:00:00",
          "1845-03-17T12:00:00",
          "1847-04-11T12:00:00",
          "1848-04-23T00:00:00",
          "1849-05-05T12:00:00",
          "1850-05-18T00:00:00",
          "1854-07-06T00:00:00",
          "1859-09-05T12:00:00"
         ],
         "y": [
          9,
          1,
          3,
          1,
          4,
          6,
          1,
          1,
          8
         ]
        },
        {
         "hoverinfo": "text",
         "hovertext": [
          "<b>Topic 7</b><br>Words: clay, sic, pottery, aluminium, readiness",
          "<b>Topic 7</b><br>Words: nodule, london_clay, ear, whale, sic",
          "<b>Topic 7</b><br>Words: naphtha, asphalt, petroleum, bottle, nodule",
          "<b>Topic 7</b><br>Words: wax, turpentine, knife, remove, ann",
          "<b>Topic 7</b><br>Words: bark, look, surface, nodule, sic",
          "<b>Topic 7</b><br>Words: capital, alphabet, sic, wax, evidence",
          "<b>Topic 7</b><br>Words: sic, athenæum, question, fact, light"
         ],
         "marker": {
          "color": "#E69F00"
         },
         "mode": "markers",
         "name": "7_nodule_sic_london_clay_clay",
         "type": "scatter",
         "x": [
          "1840-01-08T10:48:00",
          "1845-03-17T12:00:00",
          "1848-04-23T00:00:00",
          "1849-05-05T12:00:00",
          "1853-06-23T12:00:00",
          "1854-07-06T00:00:00",
          "1859-09-05T12:00:00"
         ],
         "y": [
          3,
          7,
          1,
          2,
          1,
          2,
          2
         ]
        },
        {
         "hoverinfo": "text",
         "hovertext": [
          "<b>Topic 8</b><br>Words: paper, series, france, inaccuracy, publishing",
          "<b>Topic 8</b><br>Words: copy, paper, series, book, journal",
          "<b>Topic 8</b><br>Words: paper, wmhooker, babbage, kind, product",
          "<b>Topic 8</b><br>Words: reserve, event, care, copy, paper",
          "<b>Topic 8</b><br>Words: publisher, hs, series, journal, copy",
          "<b>Topic 8</b><br>Words: paper, rector, william, hardacre, printer",
          "<b>Topic 8</b><br>Words: scrap, thank, book, paper, copy",
          "<b>Topic 8</b><br>Words: book, paper, copy, series, journal"
         ],
         "marker": {
          "color": "#56B4E9"
         },
         "mode": "markers",
         "name": "8_paper_copy_series_book",
         "type": "scatter",
         "x": [
          "1840-01-08T10:48:00",
          "1845-03-17T12:00:00",
          "1847-04-11T12:00:00",
          "1848-04-23T00:00:00",
          "1849-05-05T12:00:00",
          "1853-06-23T12:00:00",
          "1854-07-06T00:00:00",
          "1859-09-05T12:00:00"
         ],
         "y": [
          7,
          1,
          1,
          1,
          3,
          1,
          1,
          2
         ]
        }
       ],
       "layout": {
        "height": 500,
        "hoverlabel": {
         "bgcolor": "white",
         "font": {
          "family": "Rockwell",
          "size": 16
         }
        },
        "legend": {
         "title": {
          "text": "<b>Global Topic Representation"
         }
        },
        "template": {
         "data": {
          "bar": [
           {
            "error_x": {
             "color": "rgb(36,36,36)"
            },
            "error_y": {
             "color": "rgb(36,36,36)"
            },
            "marker": {
             "line": {
              "color": "white",
              "width": 0.5
             },
             "pattern": {
              "fillmode": "overlay",
              "size": 10,
              "solidity": 0.2
             }
            },
            "type": "bar"
           }
          ],
          "barpolar": [
           {
            "marker": {
             "line": {
              "color": "white",
              "width": 0.5
             },
             "pattern": {
              "fillmode": "overlay",
              "size": 10,
              "solidity": 0.2
             }
            },
            "type": "barpolar"
           }
          ],
          "carpet": [
           {
            "aaxis": {
             "endlinecolor": "rgb(36,36,36)",
             "gridcolor": "white",
             "linecolor": "white",
             "minorgridcolor": "white",
             "startlinecolor": "rgb(36,36,36)"
            },
            "baxis": {
             "endlinecolor": "rgb(36,36,36)",
             "gridcolor": "white",
             "linecolor": "white",
             "minorgridcolor": "white",
             "startlinecolor": "rgb(36,36,36)"
            },
            "type": "carpet"
           }
          ],
          "choropleth": [
           {
            "colorbar": {
             "outlinewidth": 1,
             "tickcolor": "rgb(36,36,36)",
             "ticks": "outside"
            },
            "type": "choropleth"
           }
          ],
          "contour": [
           {
            "colorbar": {
             "outlinewidth": 1,
             "tickcolor": "rgb(36,36,36)",
             "ticks": "outside"
            },
            "colorscale": [
             [
              0,
              "#440154"
             ],
             [
              0.1111111111111111,
              "#482878"
             ],
             [
              0.2222222222222222,
              "#3e4989"
             ],
             [
              0.3333333333333333,
              "#31688e"
             ],
             [
              0.4444444444444444,
              "#26828e"
             ],
             [
              0.5555555555555556,
              "#1f9e89"
             ],
             [
              0.6666666666666666,
              "#35b779"
             ],
             [
              0.7777777777777778,
              "#6ece58"
             ],
             [
              0.8888888888888888,
              "#b5de2b"
             ],
             [
              1,
              "#fde725"
             ]
            ],
            "type": "contour"
           }
          ],
          "contourcarpet": [
           {
            "colorbar": {
             "outlinewidth": 1,
             "tickcolor": "rgb(36,36,36)",
             "ticks": "outside"
            },
            "type": "contourcarpet"
           }
          ],
          "heatmap": [
           {
            "colorbar": {
             "outlinewidth": 1,
             "tickcolor": "rgb(36,36,36)",
             "ticks": "outside"
            },
            "colorscale": [
             [
              0,
              "#440154"
             ],
             [
              0.1111111111111111,
              "#482878"
             ],
             [
              0.2222222222222222,
              "#3e4989"
             ],
             [
              0.3333333333333333,
              "#31688e"
             ],
             [
              0.4444444444444444,
              "#26828e"
             ],
             [
              0.5555555555555556,
              "#1f9e89"
             ],
             [
              0.6666666666666666,
              "#35b779"
             ],
             [
              0.7777777777777778,
              "#6ece58"
             ],
             [
              0.8888888888888888,
              "#b5de2b"
             ],
             [
              1,
              "#fde725"
             ]
            ],
            "type": "heatmap"
           }
          ],
          "heatmapgl": [
           {
            "colorbar": {
             "outlinewidth": 1,
             "tickcolor": "rgb(36,36,36)",
             "ticks": "outside"
            },
            "colorscale": [
             [
              0,
              "#440154"
             ],
             [
              0.1111111111111111,
              "#482878"
             ],
             [
              0.2222222222222222,
              "#3e4989"
             ],
             [
              0.3333333333333333,
              "#31688e"
             ],
             [
              0.4444444444444444,
              "#26828e"
             ],
             [
              0.5555555555555556,
              "#1f9e89"
             ],
             [
              0.6666666666666666,
              "#35b779"
             ],
             [
              0.7777777777777778,
              "#6ece58"
             ],
             [
              0.8888888888888888,
              "#b5de2b"
             ],
             [
              1,
              "#fde725"
             ]
            ],
            "type": "heatmapgl"
           }
          ],
          "histogram": [
           {
            "marker": {
             "line": {
              "color": "white",
              "width": 0.6
             }
            },
            "type": "histogram"
           }
          ],
          "histogram2d": [
           {
            "colorbar": {
             "outlinewidth": 1,
             "tickcolor": "rgb(36,36,36)",
             "ticks": "outside"
            },
            "colorscale": [
             [
              0,
              "#440154"
             ],
             [
              0.1111111111111111,
              "#482878"
             ],
             [
              0.2222222222222222,
              "#3e4989"
             ],
             [
              0.3333333333333333,
              "#31688e"
             ],
             [
              0.4444444444444444,
              "#26828e"
             ],
             [
              0.5555555555555556,
              "#1f9e89"
             ],
             [
              0.6666666666666666,
              "#35b779"
             ],
             [
              0.7777777777777778,
              "#6ece58"
             ],
             [
              0.8888888888888888,
              "#b5de2b"
             ],
             [
              1,
              "#fde725"
             ]
            ],
            "type": "histogram2d"
           }
          ],
          "histogram2dcontour": [
           {
            "colorbar": {
             "outlinewidth": 1,
             "tickcolor": "rgb(36,36,36)",
             "ticks": "outside"
            },
            "colorscale": [
             [
              0,
              "#440154"
             ],
             [
              0.1111111111111111,
              "#482878"
             ],
             [
              0.2222222222222222,
              "#3e4989"
             ],
             [
              0.3333333333333333,
              "#31688e"
             ],
             [
              0.4444444444444444,
              "#26828e"
             ],
             [
              0.5555555555555556,
              "#1f9e89"
             ],
             [
              0.6666666666666666,
              "#35b779"
             ],
             [
              0.7777777777777778,
              "#6ece58"
             ],
             [
              0.8888888888888888,
              "#b5de2b"
             ],
             [
              1,
              "#fde725"
             ]
            ],
            "type": "histogram2dcontour"
           }
          ],
          "mesh3d": [
           {
            "colorbar": {
             "outlinewidth": 1,
             "tickcolor": "rgb(36,36,36)",
             "ticks": "outside"
            },
            "type": "mesh3d"
           }
          ],
          "parcoords": [
           {
            "line": {
             "colorbar": {
              "outlinewidth": 1,
              "tickcolor": "rgb(36,36,36)",
              "ticks": "outside"
             }
            },
            "type": "parcoords"
           }
          ],
          "pie": [
           {
            "automargin": true,
            "type": "pie"
           }
          ],
          "scatter": [
           {
            "fillpattern": {
             "fillmode": "overlay",
             "size": 10,
             "solidity": 0.2
            },
            "type": "scatter"
           }
          ],
          "scatter3d": [
           {
            "line": {
             "colorbar": {
              "outlinewidth": 1,
              "tickcolor": "rgb(36,36,36)",
              "ticks": "outside"
             }
            },
            "marker": {
             "colorbar": {
              "outlinewidth": 1,
              "tickcolor": "rgb(36,36,36)",
              "ticks": "outside"
             }
            },
            "type": "scatter3d"
           }
          ],
          "scattercarpet": [
           {
            "marker": {
             "colorbar": {
              "outlinewidth": 1,
              "tickcolor": "rgb(36,36,36)",
              "ticks": "outside"
             }
            },
            "type": "scattercarpet"
           }
          ],
          "scattergeo": [
           {
            "marker": {
             "colorbar": {
              "outlinewidth": 1,
              "tickcolor": "rgb(36,36,36)",
              "ticks": "outside"
             }
            },
            "type": "scattergeo"
           }
          ],
          "scattergl": [
           {
            "marker": {
             "colorbar": {
              "outlinewidth": 1,
              "tickcolor": "rgb(36,36,36)",
              "ticks": "outside"
             }
            },
            "type": "scattergl"
           }
          ],
          "scattermapbox": [
           {
            "marker": {
             "colorbar": {
              "outlinewidth": 1,
              "tickcolor": "rgb(36,36,36)",
              "ticks": "outside"
             }
            },
            "type": "scattermapbox"
           }
          ],
          "scatterpolar": [
           {
            "marker": {
             "colorbar": {
              "outlinewidth": 1,
              "tickcolor": "rgb(36,36,36)",
              "ticks": "outside"
             }
            },
            "type": "scatterpolar"
           }
          ],
          "scatterpolargl": [
           {
            "marker": {
             "colorbar": {
              "outlinewidth": 1,
              "tickcolor": "rgb(36,36,36)",
              "ticks": "outside"
             }
            },
            "type": "scatterpolargl"
           }
          ],
          "scatterternary": [
           {
            "marker": {
             "colorbar": {
              "outlinewidth": 1,
              "tickcolor": "rgb(36,36,36)",
              "ticks": "outside"
             }
            },
            "type": "scatterternary"
           }
          ],
          "surface": [
           {
            "colorbar": {
             "outlinewidth": 1,
             "tickcolor": "rgb(36,36,36)",
             "ticks": "outside"
            },
            "colorscale": [
             [
              0,
              "#440154"
             ],
             [
              0.1111111111111111,
              "#482878"
             ],
             [
              0.2222222222222222,
              "#3e4989"
             ],
             [
              0.3333333333333333,
              "#31688e"
             ],
             [
              0.4444444444444444,
              "#26828e"
             ],
             [
              0.5555555555555556,
              "#1f9e89"
             ],
             [
              0.6666666666666666,
              "#35b779"
             ],
             [
              0.7777777777777778,
              "#6ece58"
             ],
             [
              0.8888888888888888,
              "#b5de2b"
             ],
             [
              1,
              "#fde725"
             ]
            ],
            "type": "surface"
           }
          ],
          "table": [
           {
            "cells": {
             "fill": {
              "color": "rgb(237,237,237)"
             },
             "line": {
              "color": "white"
             }
            },
            "header": {
             "fill": {
              "color": "rgb(217,217,217)"
             },
             "line": {
              "color": "white"
             }
            },
            "type": "table"
           }
          ]
         },
         "layout": {
          "annotationdefaults": {
           "arrowhead": 0,
           "arrowwidth": 1
          },
          "autotypenumbers": "strict",
          "coloraxis": {
           "colorbar": {
            "outlinewidth": 1,
            "tickcolor": "rgb(36,36,36)",
            "ticks": "outside"
           }
          },
          "colorscale": {
           "diverging": [
            [
             0,
             "rgb(103,0,31)"
            ],
            [
             0.1,
             "rgb(178,24,43)"
            ],
            [
             0.2,
             "rgb(214,96,77)"
            ],
            [
             0.3,
             "rgb(244,165,130)"
            ],
            [
             0.4,
             "rgb(253,219,199)"
            ],
            [
             0.5,
             "rgb(247,247,247)"
            ],
            [
             0.6,
             "rgb(209,229,240)"
            ],
            [
             0.7,
             "rgb(146,197,222)"
            ],
            [
             0.8,
             "rgb(67,147,195)"
            ],
            [
             0.9,
             "rgb(33,102,172)"
            ],
            [
             1,
             "rgb(5,48,97)"
            ]
           ],
           "sequential": [
            [
             0,
             "#440154"
            ],
            [
             0.1111111111111111,
             "#482878"
            ],
            [
             0.2222222222222222,
             "#3e4989"
            ],
            [
             0.3333333333333333,
             "#31688e"
            ],
            [
             0.4444444444444444,
             "#26828e"
            ],
            [
             0.5555555555555556,
             "#1f9e89"
            ],
            [
             0.6666666666666666,
             "#35b779"
            ],
            [
             0.7777777777777778,
             "#6ece58"
            ],
            [
             0.8888888888888888,
             "#b5de2b"
            ],
            [
             1,
             "#fde725"
            ]
           ],
           "sequentialminus": [
            [
             0,
             "#440154"
            ],
            [
             0.1111111111111111,
             "#482878"
            ],
            [
             0.2222222222222222,
             "#3e4989"
            ],
            [
             0.3333333333333333,
             "#31688e"
            ],
            [
             0.4444444444444444,
             "#26828e"
            ],
            [
             0.5555555555555556,
             "#1f9e89"
            ],
            [
             0.6666666666666666,
             "#35b779"
            ],
            [
             0.7777777777777778,
             "#6ece58"
            ],
            [
             0.8888888888888888,
             "#b5de2b"
            ],
            [
             1,
             "#fde725"
            ]
           ]
          },
          "colorway": [
           "#1F77B4",
           "#FF7F0E",
           "#2CA02C",
           "#D62728",
           "#9467BD",
           "#8C564B",
           "#E377C2",
           "#7F7F7F",
           "#BCBD22",
           "#17BECF"
          ],
          "font": {
           "color": "rgb(36,36,36)"
          },
          "geo": {
           "bgcolor": "white",
           "lakecolor": "white",
           "landcolor": "white",
           "showlakes": true,
           "showland": true,
           "subunitcolor": "white"
          },
          "hoverlabel": {
           "align": "left"
          },
          "hovermode": "closest",
          "mapbox": {
           "style": "light"
          },
          "paper_bgcolor": "white",
          "plot_bgcolor": "white",
          "polar": {
           "angularaxis": {
            "gridcolor": "rgb(232,232,232)",
            "linecolor": "rgb(36,36,36)",
            "showgrid": false,
            "showline": true,
            "ticks": "outside"
           },
           "bgcolor": "white",
           "radialaxis": {
            "gridcolor": "rgb(232,232,232)",
            "linecolor": "rgb(36,36,36)",
            "showgrid": false,
            "showline": true,
            "ticks": "outside"
           }
          },
          "scene": {
           "xaxis": {
            "backgroundcolor": "white",
            "gridcolor": "rgb(232,232,232)",
            "gridwidth": 2,
            "linecolor": "rgb(36,36,36)",
            "showbackground": true,
            "showgrid": false,
            "showline": true,
            "ticks": "outside",
            "zeroline": false,
            "zerolinecolor": "rgb(36,36,36)"
           },
           "yaxis": {
            "backgroundcolor": "white",
            "gridcolor": "rgb(232,232,232)",
            "gridwidth": 2,
            "linecolor": "rgb(36,36,36)",
            "showbackground": true,
            "showgrid": false,
            "showline": true,
            "ticks": "outside",
            "zeroline": false,
            "zerolinecolor": "rgb(36,36,36)"
           },
           "zaxis": {
            "backgroundcolor": "white",
            "gridcolor": "rgb(232,232,232)",
            "gridwidth": 2,
            "linecolor": "rgb(36,36,36)",
            "showbackground": true,
            "showgrid": false,
            "showline": true,
            "ticks": "outside",
            "zeroline": false,
            "zerolinecolor": "rgb(36,36,36)"
           }
          },
          "shapedefaults": {
           "fillcolor": "black",
           "line": {
            "width": 0
           },
           "opacity": 0.3
          },
          "ternary": {
           "aaxis": {
            "gridcolor": "rgb(232,232,232)",
            "linecolor": "rgb(36,36,36)",
            "showgrid": false,
            "showline": true,
            "ticks": "outside"
           },
           "baxis": {
            "gridcolor": "rgb(232,232,232)",
            "linecolor": "rgb(36,36,36)",
            "showgrid": false,
            "showline": true,
            "ticks": "outside"
           },
           "bgcolor": "white",
           "caxis": {
            "gridcolor": "rgb(232,232,232)",
            "linecolor": "rgb(36,36,36)",
            "showgrid": false,
            "showline": true,
            "ticks": "outside"
           }
          },
          "title": {
           "x": 0.05
          },
          "xaxis": {
           "automargin": true,
           "gridcolor": "rgb(232,232,232)",
           "linecolor": "rgb(36,36,36)",
           "showgrid": false,
           "showline": true,
           "ticks": "outside",
           "title": {
            "standoff": 15
           },
           "zeroline": false,
           "zerolinecolor": "rgb(36,36,36)"
          },
          "yaxis": {
           "automargin": true,
           "gridcolor": "rgb(232,232,232)",
           "linecolor": "rgb(36,36,36)",
           "showgrid": false,
           "showline": true,
           "ticks": "outside",
           "title": {
            "standoff": 15
           },
           "zeroline": false,
           "zerolinecolor": "rgb(36,36,36)"
          }
         }
        },
        "title": {
         "font": {
          "color": "Black",
          "size": 22
         },
         "text": "<b>Topics over Time",
         "x": 0.4,
         "xanchor": "center",
         "y": 0.95,
         "yanchor": "top"
        },
        "width": 1000,
        "xaxis": {
         "showgrid": true
        },
        "yaxis": {
         "showgrid": true,
         "title": {
          "text": "Count"
         }
        }
       }
      },
      "text/html": [
       "<div>                            <div id=\"ead147c6-1479-4432-8f3e-8aae59065c67\" class=\"plotly-graph-div\" style=\"height:500px; width:1000px;\"></div>            <script type=\"text/javascript\">                require([\"plotly\"], function(Plotly) {                    window.PLOTLYENV=window.PLOTLYENV || {};                                    if (document.getElementById(\"ead147c6-1479-4432-8f3e-8aae59065c67\")) {                    Plotly.newPlot(                        \"ead147c6-1479-4432-8f3e-8aae59065c67\",                        [{\"hoverinfo\":\"text\",\"hovertext\":[\"<b>Topic 0</b><br>Words: physiology, vegetation, plant, law, summer\",\"<b>Topic 0</b><br>Words: arrangement, curator, regard, biggs, lappage\",\"<b>Topic 0</b><br>Words: plant, queen, duplicate, resident, november\",\"<b>Topic 0</b><br>Words: garden, plant, visitor, cycadeae, superintendence\",\"<b>Topic 0</b><br>Words: museum, probability, class, plant, letter\",\"<b>Topic 0</b><br>Words: plant, museum, grandiflora, melittis, ipswich\",\"<b>Topic 0</b><br>Words: genera, museum, november, hadley, lindley\",\"<b>Topic 0</b><br>Words: museum, plan, affection, object, series\",\"<b>Topic 0</b><br>Words: museum, ipswich, preference, building, plant\",\"<b>Topic 0</b><br>Words: museum, plant, thing, auditor, seed\"],\"marker\":{\"color\":\"#E69F00\"},\"mode\":\"markers\",\"name\":\"0_museum_plant_ipswich_curator\",\"x\":[\"1840-01-08T10:48:00\",\"1844-03-05T00:00:00\",\"1845-03-17T12:00:00\",\"1847-04-11T12:00:00\",\"1848-04-23T00:00:00\",\"1849-05-05T12:00:00\",\"1850-05-18T00:00:00\",\"1853-06-23T12:00:00\",\"1854-07-06T00:00:00\",\"1859-09-05T12:00:00\"],\"y\":[11,1,3,2,7,15,3,10,4,15],\"type\":\"scatter\"},{\"hoverinfo\":\"text\",\"hovertext\":[\"<b>Topic 1</b><br>Words: bunbury, july, meeting, london, suffolk\",\"<b>Topic 1</b><br>Words: government, post, appointment, town, suffolk\",\"<b>Topic 1</b><br>Words: region, banks, portrait, origin, joseph\",\"<b>Topic 1</b><br>Words: suffolk, letter, kindness, post, dec\",\"<b>Topic 1</b><br>Words: suffolk, post_office, statement, land, london\",\"<b>Topic 1</b><br>Words: suffolk, student, correspond, porter, turtle\",\"<b>Topic 1</b><br>Words: june, aid, assistance, suffolk, request\",\"<b>Topic 1</b><br>Words: liverpool, escort, lodging, cobbold, adventure\",\"<b>Topic 1</b><br>Words: downing_terrace, joseph, april, cambridge, lyell\"],\"marker\":{\"color\":\"#56B4E9\"},\"mode\":\"markers\",\"name\":\"1_suffolk_london_downing_terrace_post\",\"x\":[\"1840-01-08T10:48:00\",\"1845-03-17T12:00:00\",\"1847-04-11T12:00:00\",\"1848-04-23T00:00:00\",\"1849-05-05T12:00:00\",\"1850-05-18T00:00:00\",\"1853-06-23T12:00:00\",\"1854-07-06T00:00:00\",\"1859-09-05T12:00:00\"],\"y\":[6,4,1,15,18,3,3,4,14],\"type\":\"scatter\"},{\"hoverinfo\":\"text\",\"hovertext\":[\"<b>Topic 2</b><br>Words: stigmaria, drawing, answer, description, purpose\",\"<b>Topic 2</b><br>Words: reason, felixstow, appearance, person, sedgwick\",\"<b>Topic 2</b><br>Words: pity, circumstance, duke, baron, sentence\",\"<b>Topic 2</b><br>Words: income, increase, temptation, boy, conscience\",\"<b>Topic 2</b><br>Words: church, view, opinion, lord, sabbath\",\"<b>Topic 2</b><br>Words: darwin, view, sedgwick, hypothesis, opinion\"],\"marker\":{\"color\":\"#009E73\"},\"mode\":\"markers\",\"name\":\"2_darwin_view_sedgwick_opinion\",\"x\":[\"1840-01-08T10:48:00\",\"1845-03-17T12:00:00\",\"1847-04-11T12:00:00\",\"1848-04-23T00:00:00\",\"1849-05-05T12:00:00\",\"1859-09-05T12:00:00\"],\"y\":[1,1,1,1,20,34],\"type\":\"scatter\"},{\"hoverinfo\":\"text\",\"hovertext\":[\"<b>Topic 3</b><br>Words: specimen, branch, plate, fig, basis\",\"<b>Topic 3</b><br>Words: bone, plate, sol, spirality, medusae\",\"<b>Topic 3</b><br>Words: scape, tube, fructifie, neck, sphaeria\",\"<b>Topic 3</b><br>Words: labiata, pistil, elschotzia, inch, diam\",\"<b>Topic 3</b><br>Words: masse, piece, specimen, plate, branch\",\"<b>Topic 3</b><br>Words: bottom, branch, direction, point, specimen\",\"<b>Topic 3</b><br>Words: specimen, grass, epilobium, viz, arenaria\"],\"marker\":{\"color\":\"#F0E442\"},\"mode\":\"markers\",\"name\":\"3_specimen_plate_branch_fig\",\"x\":[\"1840-01-08T10:48:00\",\"1845-03-17T12:00:00\",\"1848-04-23T00:00:00\",\"1849-05-05T12:00:00\",\"1850-05-18T00:00:00\",\"1853-06-23T12:00:00\",\"1859-09-05T12:00:00\"],\"y\":[34,6,3,2,1,1,6],\"type\":\"scatter\"},{\"hoverinfo\":\"text\",\"hovertext\":[\"<b>Topic 4</b><br>Words: hitcham_bildeston, woodbridge, memoranda, suffolk, drawing\",\"<b>Topic 4</b><br>Words: fetch, fanny, alban, whewell, harriet\",\"<b>Topic 4</b><br>Words: gunn, parcel, spirit, anne, turner\",\"<b>Topic 4</b><br>Words: wife, hitcham, private, decease, kindest_regard\",\"<b>Topic 4</b><br>Words: messenger, afflick, lady, morning, whewell\",\"<b>Topic 4</b><br>Words: hitcham, father, february, house, word\",\"<b>Topic 4</b><br>Words: hitcham, year, october, fill, alive\",\"<b>Topic 4</b><br>Words: lady, afflick, miss, barnard, bid\"],\"marker\":{\"color\":\"#D55E00\"},\"mode\":\"markers\",\"name\":\"4_hitcham_hitcham_bildeston_lady_whewell\",\"x\":[\"1840-01-08T10:48:00\",\"1845-03-17T12:00:00\",\"1848-04-23T00:00:00\",\"1849-05-05T12:00:00\",\"1850-05-18T00:00:00\",\"1853-06-23T12:00:00\",\"1854-07-06T00:00:00\",\"1859-09-05T12:00:00\"],\"y\":[10,5,2,8,1,7,4,13],\"type\":\"scatter\"},{\"hoverinfo\":\"text\",\"hovertext\":[\"<b>Topic 5</b><br>Words: intention, lecture, village, miller, draughtsman\",\"<b>Topic 5</b><br>Words: profession, doctor, theis, sermon, professor\",\"<b>Topic 5</b><br>Words: course, lecture, ticket, professor, fee\",\"<b>Topic 5</b><br>Words: expence, cousin, economy, bed, admission\",\"<b>Topic 5</b><br>Words: expense, difference, lecture, course, professor\",\"<b>Topic 5</b><br>Words: non, dicotyledon, advantage, cause, thought\",\"<b>Topic 5</b><br>Words: lecture, june, concoct, palace, course\"],\"marker\":{\"color\":\"#0072B2\"},\"mode\":\"markers\",\"name\":\"5_lecture_course_ticket_professor\",\"x\":[\"1840-01-08T10:48:00\",\"1845-03-17T12:00:00\",\"1848-04-23T00:00:00\",\"1849-05-05T12:00:00\",\"1853-06-23T12:00:00\",\"1854-07-06T00:00:00\",\"1859-09-05T12:00:00\"],\"y\":[5,3,19,1,1,1,7],\"type\":\"scatter\"},{\"hoverinfo\":\"text\",\"hovertext\":[\"<b>Topic 6</b><br>Words: excuse, patchwork, haste, cooperate, doubt\",\"<b>Topic 6</b><br>Words: plan, tho, doubt, solution, problem\",\"<b>Topic 6</b><br>Words: riddle, friendship, doubt, tho, problem\",\"<b>Topic 6</b><br>Words: point, tho, doubt, solution, problem\",\"<b>Topic 6</b><br>Words: sleep, ocl, minimum, note, report\",\"<b>Topic 6</b><br>Words: oclock, doubt, cause, inconvenience, remark\",\"<b>Topic 6</b><br>Words: meeting, tho, doubt, solution, problem\",\"<b>Topic 6</b><br>Words: hint, tho, doubt, solution, problem\",\"<b>Topic 6</b><br>Words: tho, solution, problem, blunder, point\"],\"marker\":{\"color\":\"#CC79A7\"},\"mode\":\"markers\",\"name\":\"6_tho_doubt_problem_solution\",\"x\":[\"1840-01-08T10:48:00\",\"1844-03-05T00:00:00\",\"1845-03-17T12:00:00\",\"1847-04-11T12:00:00\",\"1848-04-23T00:00:00\",\"1849-05-05T12:00:00\",\"1850-05-18T00:00:00\",\"1854-07-06T00:00:00\",\"1859-09-05T12:00:00\"],\"y\":[9,1,3,1,4,6,1,1,8],\"type\":\"scatter\"},{\"hoverinfo\":\"text\",\"hovertext\":[\"<b>Topic 7</b><br>Words: clay, sic, pottery, aluminium, readiness\",\"<b>Topic 7</b><br>Words: nodule, london_clay, ear, whale, sic\",\"<b>Topic 7</b><br>Words: naphtha, asphalt, petroleum, bottle, nodule\",\"<b>Topic 7</b><br>Words: wax, turpentine, knife, remove, ann\",\"<b>Topic 7</b><br>Words: bark, look, surface, nodule, sic\",\"<b>Topic 7</b><br>Words: capital, alphabet, sic, wax, evidence\",\"<b>Topic 7</b><br>Words: sic, athen\\u00e6um, question, fact, light\"],\"marker\":{\"color\":\"#E69F00\"},\"mode\":\"markers\",\"name\":\"7_nodule_sic_london_clay_clay\",\"x\":[\"1840-01-08T10:48:00\",\"1845-03-17T12:00:00\",\"1848-04-23T00:00:00\",\"1849-05-05T12:00:00\",\"1853-06-23T12:00:00\",\"1854-07-06T00:00:00\",\"1859-09-05T12:00:00\"],\"y\":[3,7,1,2,1,2,2],\"type\":\"scatter\"},{\"hoverinfo\":\"text\",\"hovertext\":[\"<b>Topic 8</b><br>Words: paper, series, france, inaccuracy, publishing\",\"<b>Topic 8</b><br>Words: copy, paper, series, book, journal\",\"<b>Topic 8</b><br>Words: paper, wmhooker, babbage, kind, product\",\"<b>Topic 8</b><br>Words: reserve, event, care, copy, paper\",\"<b>Topic 8</b><br>Words: publisher, hs, series, journal, copy\",\"<b>Topic 8</b><br>Words: paper, rector, william, hardacre, printer\",\"<b>Topic 8</b><br>Words: scrap, thank, book, paper, copy\",\"<b>Topic 8</b><br>Words: book, paper, copy, series, journal\"],\"marker\":{\"color\":\"#56B4E9\"},\"mode\":\"markers\",\"name\":\"8_paper_copy_series_book\",\"x\":[\"1840-01-08T10:48:00\",\"1845-03-17T12:00:00\",\"1847-04-11T12:00:00\",\"1848-04-23T00:00:00\",\"1849-05-05T12:00:00\",\"1853-06-23T12:00:00\",\"1854-07-06T00:00:00\",\"1859-09-05T12:00:00\"],\"y\":[7,1,1,1,3,1,1,2],\"type\":\"scatter\"}],                        {\"template\":{\"data\":{\"barpolar\":[{\"marker\":{\"line\":{\"color\":\"white\",\"width\":0.5},\"pattern\":{\"fillmode\":\"overlay\",\"size\":10,\"solidity\":0.2}},\"type\":\"barpolar\"}],\"bar\":[{\"error_x\":{\"color\":\"rgb(36,36,36)\"},\"error_y\":{\"color\":\"rgb(36,36,36)\"},\"marker\":{\"line\":{\"color\":\"white\",\"width\":0.5},\"pattern\":{\"fillmode\":\"overlay\",\"size\":10,\"solidity\":0.2}},\"type\":\"bar\"}],\"carpet\":[{\"aaxis\":{\"endlinecolor\":\"rgb(36,36,36)\",\"gridcolor\":\"white\",\"linecolor\":\"white\",\"minorgridcolor\":\"white\",\"startlinecolor\":\"rgb(36,36,36)\"},\"baxis\":{\"endlinecolor\":\"rgb(36,36,36)\",\"gridcolor\":\"white\",\"linecolor\":\"white\",\"minorgridcolor\":\"white\",\"startlinecolor\":\"rgb(36,36,36)\"},\"type\":\"carpet\"}],\"choropleth\":[{\"colorbar\":{\"outlinewidth\":1,\"tickcolor\":\"rgb(36,36,36)\",\"ticks\":\"outside\"},\"type\":\"choropleth\"}],\"contourcarpet\":[{\"colorbar\":{\"outlinewidth\":1,\"tickcolor\":\"rgb(36,36,36)\",\"ticks\":\"outside\"},\"type\":\"contourcarpet\"}],\"contour\":[{\"colorbar\":{\"outlinewidth\":1,\"tickcolor\":\"rgb(36,36,36)\",\"ticks\":\"outside\"},\"colorscale\":[[0.0,\"#440154\"],[0.1111111111111111,\"#482878\"],[0.2222222222222222,\"#3e4989\"],[0.3333333333333333,\"#31688e\"],[0.4444444444444444,\"#26828e\"],[0.5555555555555556,\"#1f9e89\"],[0.6666666666666666,\"#35b779\"],[0.7777777777777778,\"#6ece58\"],[0.8888888888888888,\"#b5de2b\"],[1.0,\"#fde725\"]],\"type\":\"contour\"}],\"heatmapgl\":[{\"colorbar\":{\"outlinewidth\":1,\"tickcolor\":\"rgb(36,36,36)\",\"ticks\":\"outside\"},\"colorscale\":[[0.0,\"#440154\"],[0.1111111111111111,\"#482878\"],[0.2222222222222222,\"#3e4989\"],[0.3333333333333333,\"#31688e\"],[0.4444444444444444,\"#26828e\"],[0.5555555555555556,\"#1f9e89\"],[0.6666666666666666,\"#35b779\"],[0.7777777777777778,\"#6ece58\"],[0.8888888888888888,\"#b5de2b\"],[1.0,\"#fde725\"]],\"type\":\"heatmapgl\"}],\"heatmap\":[{\"colorbar\":{\"outlinewidth\":1,\"tickcolor\":\"rgb(36,36,36)\",\"ticks\":\"outside\"},\"colorscale\":[[0.0,\"#440154\"],[0.1111111111111111,\"#482878\"],[0.2222222222222222,\"#3e4989\"],[0.3333333333333333,\"#31688e\"],[0.4444444444444444,\"#26828e\"],[0.5555555555555556,\"#1f9e89\"],[0.6666666666666666,\"#35b779\"],[0.7777777777777778,\"#6ece58\"],[0.8888888888888888,\"#b5de2b\"],[1.0,\"#fde725\"]],\"type\":\"heatmap\"}],\"histogram2dcontour\":[{\"colorbar\":{\"outlinewidth\":1,\"tickcolor\":\"rgb(36,36,36)\",\"ticks\":\"outside\"},\"colorscale\":[[0.0,\"#440154\"],[0.1111111111111111,\"#482878\"],[0.2222222222222222,\"#3e4989\"],[0.3333333333333333,\"#31688e\"],[0.4444444444444444,\"#26828e\"],[0.5555555555555556,\"#1f9e89\"],[0.6666666666666666,\"#35b779\"],[0.7777777777777778,\"#6ece58\"],[0.8888888888888888,\"#b5de2b\"],[1.0,\"#fde725\"]],\"type\":\"histogram2dcontour\"}],\"histogram2d\":[{\"colorbar\":{\"outlinewidth\":1,\"tickcolor\":\"rgb(36,36,36)\",\"ticks\":\"outside\"},\"colorscale\":[[0.0,\"#440154\"],[0.1111111111111111,\"#482878\"],[0.2222222222222222,\"#3e4989\"],[0.3333333333333333,\"#31688e\"],[0.4444444444444444,\"#26828e\"],[0.5555555555555556,\"#1f9e89\"],[0.6666666666666666,\"#35b779\"],[0.7777777777777778,\"#6ece58\"],[0.8888888888888888,\"#b5de2b\"],[1.0,\"#fde725\"]],\"type\":\"histogram2d\"}],\"histogram\":[{\"marker\":{\"line\":{\"color\":\"white\",\"width\":0.6}},\"type\":\"histogram\"}],\"mesh3d\":[{\"colorbar\":{\"outlinewidth\":1,\"tickcolor\":\"rgb(36,36,36)\",\"ticks\":\"outside\"},\"type\":\"mesh3d\"}],\"parcoords\":[{\"line\":{\"colorbar\":{\"outlinewidth\":1,\"tickcolor\":\"rgb(36,36,36)\",\"ticks\":\"outside\"}},\"type\":\"parcoords\"}],\"pie\":[{\"automargin\":true,\"type\":\"pie\"}],\"scatter3d\":[{\"line\":{\"colorbar\":{\"outlinewidth\":1,\"tickcolor\":\"rgb(36,36,36)\",\"ticks\":\"outside\"}},\"marker\":{\"colorbar\":{\"outlinewidth\":1,\"tickcolor\":\"rgb(36,36,36)\",\"ticks\":\"outside\"}},\"type\":\"scatter3d\"}],\"scattercarpet\":[{\"marker\":{\"colorbar\":{\"outlinewidth\":1,\"tickcolor\":\"rgb(36,36,36)\",\"ticks\":\"outside\"}},\"type\":\"scattercarpet\"}],\"scattergeo\":[{\"marker\":{\"colorbar\":{\"outlinewidth\":1,\"tickcolor\":\"rgb(36,36,36)\",\"ticks\":\"outside\"}},\"type\":\"scattergeo\"}],\"scattergl\":[{\"marker\":{\"colorbar\":{\"outlinewidth\":1,\"tickcolor\":\"rgb(36,36,36)\",\"ticks\":\"outside\"}},\"type\":\"scattergl\"}],\"scattermapbox\":[{\"marker\":{\"colorbar\":{\"outlinewidth\":1,\"tickcolor\":\"rgb(36,36,36)\",\"ticks\":\"outside\"}},\"type\":\"scattermapbox\"}],\"scatterpolargl\":[{\"marker\":{\"colorbar\":{\"outlinewidth\":1,\"tickcolor\":\"rgb(36,36,36)\",\"ticks\":\"outside\"}},\"type\":\"scatterpolargl\"}],\"scatterpolar\":[{\"marker\":{\"colorbar\":{\"outlinewidth\":1,\"tickcolor\":\"rgb(36,36,36)\",\"ticks\":\"outside\"}},\"type\":\"scatterpolar\"}],\"scatter\":[{\"fillpattern\":{\"fillmode\":\"overlay\",\"size\":10,\"solidity\":0.2},\"type\":\"scatter\"}],\"scatterternary\":[{\"marker\":{\"colorbar\":{\"outlinewidth\":1,\"tickcolor\":\"rgb(36,36,36)\",\"ticks\":\"outside\"}},\"type\":\"scatterternary\"}],\"surface\":[{\"colorbar\":{\"outlinewidth\":1,\"tickcolor\":\"rgb(36,36,36)\",\"ticks\":\"outside\"},\"colorscale\":[[0.0,\"#440154\"],[0.1111111111111111,\"#482878\"],[0.2222222222222222,\"#3e4989\"],[0.3333333333333333,\"#31688e\"],[0.4444444444444444,\"#26828e\"],[0.5555555555555556,\"#1f9e89\"],[0.6666666666666666,\"#35b779\"],[0.7777777777777778,\"#6ece58\"],[0.8888888888888888,\"#b5de2b\"],[1.0,\"#fde725\"]],\"type\":\"surface\"}],\"table\":[{\"cells\":{\"fill\":{\"color\":\"rgb(237,237,237)\"},\"line\":{\"color\":\"white\"}},\"header\":{\"fill\":{\"color\":\"rgb(217,217,217)\"},\"line\":{\"color\":\"white\"}},\"type\":\"table\"}]},\"layout\":{\"annotationdefaults\":{\"arrowhead\":0,\"arrowwidth\":1},\"autotypenumbers\":\"strict\",\"coloraxis\":{\"colorbar\":{\"outlinewidth\":1,\"tickcolor\":\"rgb(36,36,36)\",\"ticks\":\"outside\"}},\"colorscale\":{\"diverging\":[[0.0,\"rgb(103,0,31)\"],[0.1,\"rgb(178,24,43)\"],[0.2,\"rgb(214,96,77)\"],[0.3,\"rgb(244,165,130)\"],[0.4,\"rgb(253,219,199)\"],[0.5,\"rgb(247,247,247)\"],[0.6,\"rgb(209,229,240)\"],[0.7,\"rgb(146,197,222)\"],[0.8,\"rgb(67,147,195)\"],[0.9,\"rgb(33,102,172)\"],[1.0,\"rgb(5,48,97)\"]],\"sequential\":[[0.0,\"#440154\"],[0.1111111111111111,\"#482878\"],[0.2222222222222222,\"#3e4989\"],[0.3333333333333333,\"#31688e\"],[0.4444444444444444,\"#26828e\"],[0.5555555555555556,\"#1f9e89\"],[0.6666666666666666,\"#35b779\"],[0.7777777777777778,\"#6ece58\"],[0.8888888888888888,\"#b5de2b\"],[1.0,\"#fde725\"]],\"sequentialminus\":[[0.0,\"#440154\"],[0.1111111111111111,\"#482878\"],[0.2222222222222222,\"#3e4989\"],[0.3333333333333333,\"#31688e\"],[0.4444444444444444,\"#26828e\"],[0.5555555555555556,\"#1f9e89\"],[0.6666666666666666,\"#35b779\"],[0.7777777777777778,\"#6ece58\"],[0.8888888888888888,\"#b5de2b\"],[1.0,\"#fde725\"]]},\"colorway\":[\"#1F77B4\",\"#FF7F0E\",\"#2CA02C\",\"#D62728\",\"#9467BD\",\"#8C564B\",\"#E377C2\",\"#7F7F7F\",\"#BCBD22\",\"#17BECF\"],\"font\":{\"color\":\"rgb(36,36,36)\"},\"geo\":{\"bgcolor\":\"white\",\"lakecolor\":\"white\",\"landcolor\":\"white\",\"showlakes\":true,\"showland\":true,\"subunitcolor\":\"white\"},\"hoverlabel\":{\"align\":\"left\"},\"hovermode\":\"closest\",\"mapbox\":{\"style\":\"light\"},\"paper_bgcolor\":\"white\",\"plot_bgcolor\":\"white\",\"polar\":{\"angularaxis\":{\"gridcolor\":\"rgb(232,232,232)\",\"linecolor\":\"rgb(36,36,36)\",\"showgrid\":false,\"showline\":true,\"ticks\":\"outside\"},\"bgcolor\":\"white\",\"radialaxis\":{\"gridcolor\":\"rgb(232,232,232)\",\"linecolor\":\"rgb(36,36,36)\",\"showgrid\":false,\"showline\":true,\"ticks\":\"outside\"}},\"scene\":{\"xaxis\":{\"backgroundcolor\":\"white\",\"gridcolor\":\"rgb(232,232,232)\",\"gridwidth\":2,\"linecolor\":\"rgb(36,36,36)\",\"showbackground\":true,\"showgrid\":false,\"showline\":true,\"ticks\":\"outside\",\"zeroline\":false,\"zerolinecolor\":\"rgb(36,36,36)\"},\"yaxis\":{\"backgroundcolor\":\"white\",\"gridcolor\":\"rgb(232,232,232)\",\"gridwidth\":2,\"linecolor\":\"rgb(36,36,36)\",\"showbackground\":true,\"showgrid\":false,\"showline\":true,\"ticks\":\"outside\",\"zeroline\":false,\"zerolinecolor\":\"rgb(36,36,36)\"},\"zaxis\":{\"backgroundcolor\":\"white\",\"gridcolor\":\"rgb(232,232,232)\",\"gridwidth\":2,\"linecolor\":\"rgb(36,36,36)\",\"showbackground\":true,\"showgrid\":false,\"showline\":true,\"ticks\":\"outside\",\"zeroline\":false,\"zerolinecolor\":\"rgb(36,36,36)\"}},\"shapedefaults\":{\"fillcolor\":\"black\",\"line\":{\"width\":0},\"opacity\":0.3},\"ternary\":{\"aaxis\":{\"gridcolor\":\"rgb(232,232,232)\",\"linecolor\":\"rgb(36,36,36)\",\"showgrid\":false,\"showline\":true,\"ticks\":\"outside\"},\"baxis\":{\"gridcolor\":\"rgb(232,232,232)\",\"linecolor\":\"rgb(36,36,36)\",\"showgrid\":false,\"showline\":true,\"ticks\":\"outside\"},\"bgcolor\":\"white\",\"caxis\":{\"gridcolor\":\"rgb(232,232,232)\",\"linecolor\":\"rgb(36,36,36)\",\"showgrid\":false,\"showline\":true,\"ticks\":\"outside\"}},\"title\":{\"x\":0.05},\"xaxis\":{\"automargin\":true,\"gridcolor\":\"rgb(232,232,232)\",\"linecolor\":\"rgb(36,36,36)\",\"showgrid\":false,\"showline\":true,\"ticks\":\"outside\",\"title\":{\"standoff\":15},\"zeroline\":false,\"zerolinecolor\":\"rgb(36,36,36)\"},\"yaxis\":{\"automargin\":true,\"gridcolor\":\"rgb(232,232,232)\",\"linecolor\":\"rgb(36,36,36)\",\"showgrid\":false,\"showline\":true,\"ticks\":\"outside\",\"title\":{\"standoff\":15},\"zeroline\":false,\"zerolinecolor\":\"rgb(36,36,36)\"}}},\"xaxis\":{\"showgrid\":true},\"yaxis\":{\"showgrid\":true,\"title\":{\"text\":\"Count\"}},\"title\":{\"font\":{\"size\":22,\"color\":\"Black\"},\"text\":\"<b>Topics over Time\",\"y\":0.95,\"x\":0.4,\"xanchor\":\"center\",\"yanchor\":\"top\"},\"hoverlabel\":{\"font\":{\"size\":16,\"family\":\"Rockwell\"},\"bgcolor\":\"white\"},\"width\":1000,\"height\":500,\"legend\":{\"title\":{\"text\":\"<b>Global Topic Representation\"}}},                        {\"responsive\": true}                    ).then(function(){\n",
       "                            \n",
       "var gd = document.getElementById('ead147c6-1479-4432-8f3e-8aae59065c67');\n",
       "var x = new MutationObserver(function (mutations, observer) {{\n",
       "        var display = window.getComputedStyle(gd).display;\n",
       "        if (!display || display === 'none') {{\n",
       "            console.log([gd, 'removed!']);\n",
       "            Plotly.purge(gd);\n",
       "            observer.disconnect();\n",
       "        }}\n",
       "}});\n",
       "\n",
       "// Listen for the removal of the full notebook cells\n",
       "var notebookContainer = gd.closest('#notebook-container');\n",
       "if (notebookContainer) {{\n",
       "    x.observe(notebookContainer, {childList: true});\n",
       "}}\n",
       "\n",
       "// Listen for the clearing of the current output cell\n",
       "var outputEl = gd.closest('.output');\n",
       "if (outputEl) {{\n",
       "    x.observe(outputEl, {childList: true});\n",
       "}}\n",
       "\n",
       "                        })                };                });            </script>        </div>"
      ]
     },
     "metadata": {},
     "output_type": "display_data"
    }
   ],
   "source": [
    "henslow_win_vis = year_window_vis(henslow_sent_df, \n",
    "                                  year_counts_henslow, \n",
    "                                  topic_model, \n",
    "                                  low_lim=10, \n",
    "                                  high_lim=150\n",
    "                                 )\n",
    "henslow_win_vis"
   ]
  },
  {
   "cell_type": "markdown",
   "id": "5ed38bda",
   "metadata": {},
   "source": [
    "Use year_window_vis function to create a visualisation of topics over time for letters sent to Henslow, omitting years with very high or low numbers of letters."
   ]
  },
  {
   "cell_type": "code",
   "execution_count": 28,
   "id": "100a5ddb",
   "metadata": {},
   "outputs": [
    {
     "data": {
      "application/vnd.plotly.v1+json": {
       "config": {
        "plotlyServerURL": "https://plot.ly"
       },
       "data": [
        {
         "hoverinfo": "text",
         "hovertext": [
          "<b>Topic 0</b><br>Words: plant, university, parliament, specimen, election",
          "<b>Topic 0</b><br>Words: plant, specimen, algae, botany, flora",
          "<b>Topic 0</b><br>Words: plant, specimen, fruit, insect, cambridge",
          "<b>Topic 0</b><br>Words: plant, specimen, cambridge, book, bird",
          "<b>Topic 0</b><br>Words: alligator, country, reference, anatomy, flora",
          "<b>Topic 0</b><br>Words: integrity, smith, consideration, specimen, view",
          "<b>Topic 0</b><br>Words: shale, oil, grease, paint, product",
          "<b>Topic 0</b><br>Words: shale, museum, oil, adulteration, spirit",
          "<b>Topic 0</b><br>Words: interest, examination, school, museum, london",
          "<b>Topic 0</b><br>Words: museum, ipswich, london, fossil, collection",
          "<b>Topic 0</b><br>Words: london, museum, onion, specie, paper",
          "<b>Topic 0</b><br>Words: museum, book, london, paper, dublin",
          "<b>Topic 0</b><br>Words: museum, louisa, examiner, candidate, london"
         ],
         "marker": {
          "color": "#E69F00"
         },
         "mode": "markers",
         "name": "0_plant_museum_specimen_cambridge",
         "type": "scatter",
         "x": [
          "1825-03-01T22:32:09.600000",
          "1826-12-28T01:12:00",
          "1828-10-11T02:24:00",
          "1830-07-26T03:36:00",
          "1841-04-17T10:48:00",
          "1844-11-13T13:12:00",
          "1848-06-11T15:36:00",
          "1850-03-26T16:48:00",
          "1852-01-08T18:00:00",
          "1853-10-22T19:12:00",
          "1855-08-06T20:24:00",
          "1857-05-20T21:36:00",
          "1859-03-04T22:48:00"
         ],
         "y": [
          64,
          216,
          318,
          339,
          56,
          27,
          64,
          100,
          71,
          159,
          278,
          157,
          181
         ]
        },
        {
         "hoverinfo": "text",
         "hovertext": [
          "<b>Topic 1</b><br>Words: watfield, sorrento, gasp, breath, dec",
          "<b>Topic 1</b><br>Words: spring, april, season, rothsay, edinbr",
          "<b>Topic 1</b><br>Words: frost, ber, season, summer, rain",
          "<b>Topic 1</b><br>Words: summer, season, december, june, desiderata",
          "<b>Topic 1</b><br>Words: winter, season, summer, month, dec",
          "<b>Topic 1</b><br>Words: rochdale, dect, sept, summer, season",
          "<b>Topic 1</b><br>Words: sept, god, january, season, summer",
          "<b>Topic 1</b><br>Words: temper, distemper, preside, dec, spring",
          "<b>Topic 1</b><br>Words: winter, vom, united_state, nux, trifle",
          "<b>Topic 1</b><br>Words: moon, document, half, vol, january",
          "<b>Topic 1</b><br>Words: month, september, worm, ns, dec",
          "<b>Topic 1</b><br>Words: eastern_countie, elizabeth, feb, december, june",
          "<b>Topic 1</b><br>Words: summer, june, elections, punctatus, season"
         ],
         "marker": {
          "color": "#56B4E9"
         },
         "mode": "markers",
         "name": "1_season_summer_month_dec",
         "type": "scatter",
         "x": [
          "1825-03-01T22:32:09.600000",
          "1826-12-28T01:12:00",
          "1828-10-11T02:24:00",
          "1830-07-26T03:36:00",
          "1841-04-17T10:48:00",
          "1844-11-13T13:12:00",
          "1848-06-11T15:36:00",
          "1850-03-26T16:48:00",
          "1852-01-08T18:00:00",
          "1853-10-22T19:12:00",
          "1855-08-06T20:24:00",
          "1857-05-20T21:36:00",
          "1859-03-04T22:48:00"
         ],
         "y": [
          5,
          10,
          9,
          15,
          1,
          2,
          2,
          3,
          4,
          2,
          9,
          4,
          8
         ]
        },
        {
         "hoverinfo": "text",
         "hovertext": [
          "<b>Topic 2</b><br>Words: hooker, days_ago, deal, evg, dr",
          "<b>Topic 2</b><br>Words: hooker, aberdeenshire, icone, suscriber, filicum",
          "<b>Topic 2</b><br>Words: hooker, haldane, twopenny, play, devil",
          "<b>Topic 2</b><br>Words: hooker, fork, arcades, asubo, bestowing",
          "<b>Topic 2</b><br>Words: hooker, days_ago, deal, evg, dr",
          "<b>Topic 2</b><br>Words: hooker, julian, episode, news, history",
          "<b>Topic 2</b><br>Words: hooker, breast, rascallitie, cassel, fool",
          "<b>Topic 2</b><br>Words: hooker, days_ago, ten, botanic, bunbury",
          "<b>Topic 2</b><br>Words: hooker, evg, james, griffin, selwyn",
          "<b>Topic 2</b><br>Words: hooker, germany, leonard_horner, post, misunderstood",
          "<b>Topic 2</b><br>Words: hooker, kindest_regard, loan, reputation, seymour",
          "<b>Topic 2</b><br>Words: hooker, migrate, liking, sprung, guest"
         ],
         "marker": {
          "color": "#009E73"
         },
         "mode": "markers",
         "name": "2_hooker_days_ago_deal_evg",
         "type": "scatter",
         "x": [
          "1825-03-01T22:32:09.600000",
          "1826-12-28T01:12:00",
          "1828-10-11T02:24:00",
          "1830-07-26T03:36:00",
          "1844-11-13T13:12:00",
          "1848-06-11T15:36:00",
          "1850-03-26T16:48:00",
          "1852-01-08T18:00:00",
          "1853-10-22T19:12:00",
          "1855-08-06T20:24:00",
          "1857-05-20T21:36:00",
          "1859-03-04T22:48:00"
         ],
         "y": [
          1,
          9,
          8,
          10,
          1,
          1,
          3,
          2,
          6,
          6,
          6,
          2
         ]
        },
        {
         "hoverinfo": "text",
         "hovertext": [
          "<b>Topic 4</b><br>Words: dpalmerston, report, absentee, contradiction, strength",
          "<b>Topic 4</b><br>Words: sundry, sickness, health, leach, italy",
          "<b>Topic 4</b><br>Words: illness, hypochondriasis, headache, perform, epidemic",
          "<b>Topic 4</b><br>Words: health, medicine, illness, head, sickness",
          "<b>Topic 4</b><br>Words: night, health, shin, macmillan, pillow",
          "<b>Topic 4</b><br>Words: halting, avoid, dent, middle, air",
          "<b>Topic 4</b><br>Words: salmonide, broom, lichfield, sulivan, health",
          "<b>Topic 4</b><br>Words: health, constipation, requirement, complaint, doctor",
          "<b>Topic 4</b><br>Words: harz, medical, treatment, complaint, mountain",
          "<b>Topic 4</b><br>Words: illness, assurance, spirit, health, sickness",
          "<b>Topic 4</b><br>Words: illness, health, jane, week, month"
         ],
         "marker": {
          "color": "#F0E442"
         },
         "mode": "markers",
         "name": "4_health_illness_care_sickness",
         "type": "scatter",
         "x": [
          "1825-03-01T22:32:09.600000",
          "1826-12-28T01:12:00",
          "1828-10-11T02:24:00",
          "1830-07-26T03:36:00",
          "1848-06-11T15:36:00",
          "1850-03-26T16:48:00",
          "1852-01-08T18:00:00",
          "1853-10-22T19:12:00",
          "1855-08-06T20:24:00",
          "1857-05-20T21:36:00",
          "1859-03-04T22:48:00"
         ],
         "y": [
          1,
          4,
          5,
          8,
          3,
          1,
          2,
          2,
          1,
          7,
          11
         ]
        },
        {
         "hoverinfo": "text",
         "hovertext": [
          "<b>Topic 5</b><br>Words: sell, advertising, labor, strike, lecture",
          "<b>Topic 5</b><br>Words: lecture, course, classroom, lecturer, class",
          "<b>Topic 5</b><br>Words: lecture, sacrament, understanding, vacation, parish",
          "<b>Topic 5</b><br>Words: class, creature, lecture, tutor, action",
          "<b>Topic 5</b><br>Words: lecture, theaters, occuping, dancer, draw",
          "<b>Topic 5</b><br>Words: fisher, bet, speech, lecture, class",
          "<b>Topic 5</b><br>Words: lecture, tiresome, auditor, hesitation, ticket",
          "<b>Topic 5</b><br>Words: lecture, offhand, instruction, spring, occasion",
          "<b>Topic 5</b><br>Words: lecture, artisan, fixed, february, kingsley",
          "<b>Topic 5</b><br>Words: lecture, particular, learner, october, fortnight",
          "<b>Topic 5</b><br>Words: lecture, hon, cambridge, sorry, hope"
         ],
         "marker": {
          "color": "#D55E00"
         },
         "mode": "markers",
         "name": "5_lecture_class_course_lecturer",
         "type": "scatter",
         "x": [
          "1825-03-01T22:32:09.600000",
          "1826-12-28T01:12:00",
          "1828-10-11T02:24:00",
          "1830-07-26T03:36:00",
          "1841-04-17T10:48:00",
          "1848-06-11T15:36:00",
          "1852-01-08T18:00:00",
          "1853-10-22T19:12:00",
          "1855-08-06T20:24:00",
          "1857-05-20T21:36:00",
          "1859-03-04T22:48:00"
         ],
         "y": [
          1,
          10,
          2,
          4,
          2,
          1,
          3,
          3,
          9,
          3,
          4
         ]
        },
        {
         "hoverinfo": "text",
         "hovertext": [
          "<b>Topic 6</b><br>Words: cost, continent, price, service, value",
          "<b>Topic 6</b><br>Words: dividend, deal, price, cost, value",
          "<b>Topic 6</b><br>Words: price, balance, nation, century, deposit",
          "<b>Topic 6</b><br>Words: enhance, price, cost, fix, value",
          "<b>Topic 6</b><br>Words: deposit, equation, quality, price, cost",
          "<b>Topic 6</b><br>Words: price, cost, value, amount, deposit",
          "<b>Topic 6</b><br>Words: daguerrotype, donor, cost, worth, amount",
          "<b>Topic 6</b><br>Words: price, value, cost, amount, valuation",
          "<b>Topic 6</b><br>Words: cost, value, account, woodcut, braunschweig"
         ],
         "marker": {
          "color": "#0072B2"
         },
         "mode": "markers",
         "name": "6_price_cost_value_amount",
         "type": "scatter",
         "x": [
          "1825-03-01T22:32:09.600000",
          "1826-12-28T01:12:00",
          "1828-10-11T02:24:00",
          "1830-07-26T03:36:00",
          "1848-06-11T15:36:00",
          "1850-03-26T16:48:00",
          "1853-10-22T19:12:00",
          "1855-08-06T20:24:00",
          "1857-05-20T21:36:00"
         ],
         "y": [
          1,
          2,
          4,
          3,
          3,
          1,
          4,
          11,
          6
         ]
        },
        {
         "hoverinfo": "text",
         "hovertext": [
          "<b>Topic 7</b><br>Words: rehlan, chanc, repen, edw, diam",
          "<b>Topic 7</b><br>Words: lich, edinr, rehlan, hirsuta, edw",
          "<b>Topic 7</b><br>Words: edinr, anthony, adr, daehne, cousin",
          "<b>Topic 7</b><br>Words: edw, acct, anther, irving, marq",
          "<b>Topic 7</b><br>Words: adm, denier, regeneration, person, edw",
          "<b>Topic 7</b><br>Words: anat, augt, chemist, edw, diam",
          "<b>Topic 7</b><br>Words: cor, mam, dawe, edw, diam",
          "<b>Topic 7</b><br>Words: strutt, diem, maund, edw, diam",
          "<b>Topic 7</b><br>Words: diam, hewett, oran, outang, watson"
         ],
         "marker": {
          "color": "#CC79A7"
         },
         "mode": "markers",
         "name": "7_edw_edinr_diam_rehlan",
         "type": "scatter",
         "x": [
          "1825-03-01T22:32:09.600000",
          "1826-12-28T01:12:00",
          "1828-10-11T02:24:00",
          "1830-07-26T03:36:00",
          "1850-03-26T16:48:00",
          "1852-01-08T18:00:00",
          "1853-10-22T19:12:00",
          "1855-08-06T20:24:00",
          "1859-03-04T22:48:00"
         ],
         "y": [
          3,
          3,
          5,
          11,
          2,
          2,
          2,
          3,
          4
         ]
        },
        {
         "hoverinfo": "text",
         "hovertext": [
          "<b>Topic 9</b><br>Words: arrival, sig, arrangement, order, difficulty",
          "<b>Topic 9</b><br>Words: arrange, transaction, nat, order, table",
          "<b>Topic 9</b><br>Words: arrange, bennett, reception, arrangement, determination",
          "<b>Topic 9</b><br>Words: delay, arrangement, impart, hustler, obviate",
          "<b>Topic 9</b><br>Words: set, arrangement, order, difficulty, sort",
          "<b>Topic 9</b><br>Words: abate, ill, game, necessity, difficulty",
          "<b>Topic 9</b><br>Words: arrangement, order, thine, submission, chance",
          "<b>Topic 9</b><br>Words: save_trouble, order, amount, manner, arrangement",
          "<b>Topic 9</b><br>Words: position, answer, matter, arrangement, order",
          "<b>Topic 9</b><br>Words: arrangement, sort, order, difficulty, royalty",
          "<b>Topic 9</b><br>Words: arrangement, culminate, negotiation, kew, difficulty",
          "<b>Topic 9</b><br>Words: fulfill, brute, image, difficulty, sort"
         ],
         "marker": {
          "color": "#E69F00"
         },
         "mode": "markers",
         "name": "9_arrangement_order_difficulty_sort",
         "type": "scatter",
         "x": [
          "1825-03-01T22:32:09.600000",
          "1826-12-28T01:12:00",
          "1828-10-11T02:24:00",
          "1830-07-26T03:36:00",
          "1841-04-17T10:48:00",
          "1844-11-13T13:12:00",
          "1848-06-11T15:36:00",
          "1850-03-26T16:48:00",
          "1853-10-22T19:12:00",
          "1855-08-06T20:24:00",
          "1857-05-20T21:36:00",
          "1859-03-04T22:48:00"
         ],
         "y": [
          1,
          2,
          2,
          5,
          1,
          1,
          5,
          2,
          1,
          6,
          4,
          3
         ]
        },
        {
         "hoverinfo": "text",
         "hovertext": [
          "<b>Topic 11</b><br>Words: curtain, emotion, wintry, defence, wind",
          "<b>Topic 11</b><br>Words: hurricane, weather, storm, wind, snow",
          "<b>Topic 11</b><br>Words: change, weather, prevalence, extreme, unwholesome",
          "<b>Topic 11</b><br>Words: expedition, rain, weather, exception, wind",
          "<b>Topic 11</b><br>Words: moisture, weather, layer, process, air",
          "<b>Topic 11</b><br>Words: catch, clk, daguerreotype, weather, service",
          "<b>Topic 11</b><br>Words: obligation, weather, man, cambridge, wind",
          "<b>Topic 11</b><br>Words: wind, weather, damage, fog, cereal",
          "<b>Topic 11</b><br>Words: weather, meteorology, camb_sh, wind, climate",
          "<b>Topic 11</b><br>Words: weather, wind, meteorology, rain, change"
         ],
         "marker": {
          "color": "#56B4E9"
         },
         "mode": "markers",
         "name": "11_weather_wind_meteorology_rain",
         "type": "scatter",
         "x": [
          "1825-03-01T22:32:09.600000",
          "1826-12-28T01:12:00",
          "1828-10-11T02:24:00",
          "1830-07-26T03:36:00",
          "1841-04-17T10:48:00",
          "1848-06-11T15:36:00",
          "1852-01-08T18:00:00",
          "1855-08-06T20:24:00",
          "1857-05-20T21:36:00",
          "1859-03-04T22:48:00"
         ],
         "y": [
          1,
          2,
          3,
          2,
          3,
          1,
          1,
          4,
          14,
          1
         ]
        },
        {
         "hoverinfo": "text",
         "hovertext": [
          "<b>Topic 14</b><br>Words: din, tlate, house, eve, xmas",
          "<b>Topic 14</b><br>Words: house, home, possession, residence, household",
          "<b>Topic 14</b><br>Words: mimulus, guttatus, home, place, house",
          "<b>Topic 14</b><br>Words: sanctum, brevity, research, home, trip",
          "<b>Topic 14</b><br>Words: bother, beauty, leg, house, home",
          "<b>Topic 14</b><br>Words: waterhouse, geo, home, house, possession",
          "<b>Topic 14</b><br>Words: husband, liability, preserve, income, house",
          "<b>Topic 14</b><br>Words: balaklava, home, house, fellow, possession",
          "<b>Topic 14</b><br>Words: house, home, marlborough, mayor, diagrams",
          "<b>Topic 14</b><br>Words: house, vile, furniture, situation, home",
          "<b>Topic 14</b><br>Words: house, household, residence, lady, mid"
         ],
         "marker": {
          "color": "#009E73"
         },
         "mode": "markers",
         "name": "14_house_home_possession_residence",
         "type": "scatter",
         "x": [
          "1825-03-01T22:32:09.600000",
          "1826-12-28T01:12:00",
          "1828-10-11T02:24:00",
          "1830-07-26T03:36:00",
          "1848-06-11T15:36:00",
          "1850-03-26T16:48:00",
          "1852-01-08T18:00:00",
          "1853-10-22T19:12:00",
          "1855-08-06T20:24:00",
          "1857-05-20T21:36:00",
          "1859-03-04T22:48:00"
         ],
         "y": [
          2,
          1,
          2,
          3,
          1,
          2,
          1,
          2,
          6,
          4,
          6
         ]
        },
        {
         "hoverinfo": "text",
         "hovertext": [
          "<b>Topic 3</b><br>Words: copy, steudel, whole, sheet, figure",
          "<b>Topic 3</b><br>Words: copy, note, deduct, imputation, errata",
          "<b>Topic 3</b><br>Words: copy, note, forthwith, treuttel, candolle",
          "<b>Topic 3</b><br>Words: copy, noterity, pop, compiler, correction",
          "<b>Topic 3</b><br>Words: note, signature, african, ambigua, sabini",
          "<b>Topic 3</b><br>Words: signature, copy, note, correction, sheet",
          "<b>Topic 3</b><br>Words: signature, assent, register, note, document",
          "<b>Topic 3</b><br>Words: copy, note, handed, reverse, decision",
          "<b>Topic 3</b><br>Words: note, copy, promote, bill, discussion",
          "<b>Topic 3</b><br>Words: proof, signature, copy, remark, sheet",
          "<b>Topic 3</b><br>Words: correction, copy, agreement, error, edition",
          "<b>Topic 3</b><br>Words: note, signature, copy, annoyance, sticker"
         ],
         "marker": {
          "color": "#F0E442"
         },
         "mode": "markers",
         "name": "3_copy_note_signature_correction",
         "type": "scatter",
         "x": [
          "1826-12-28T01:12:00",
          "1828-10-11T02:24:00",
          "1830-07-26T03:36:00",
          "1841-04-17T10:48:00",
          "1844-11-13T13:12:00",
          "1848-06-11T15:36:00",
          "1850-03-26T16:48:00",
          "1852-01-08T18:00:00",
          "1853-10-22T19:12:00",
          "1855-08-06T20:24:00",
          "1857-05-20T21:36:00",
          "1859-03-04T22:48:00"
         ],
         "y": [
          3,
          5,
          5,
          4,
          4,
          1,
          3,
          4,
          4,
          3,
          8,
          4
         ]
        },
        {
         "hoverinfo": "text",
         "hovertext": [
          "<b>Topic 8</b><br>Words: message, bishop, intention, sermon, church",
          "<b>Topic 8</b><br>Words: church, lamp, sermon, gordon, preface",
          "<b>Topic 8</b><br>Words: pulpit, chapel, sermon, church, congregation",
          "<b>Topic 8</b><br>Words: dover, sermon, street, april, church",
          "<b>Topic 8</b><br>Words: sermon, churchman, lad, junction, xmas",
          "<b>Topic 8</b><br>Words: church, apostle, quaker, creed, principal",
          "<b>Topic 8</b><br>Words: dissenter, characteristic, hatred, churchism, humbler",
          "<b>Topic 8</b><br>Words: sermon, church, thanks, canterbury, tenby",
          "<b>Topic 8</b><br>Words: sermon, chapel, denomination, shortcoming, stimulus",
          "<b>Topic 8</b><br>Words: church, illeg, rate, sermon, recognition",
          "<b>Topic 8</b><br>Words: sermon, woolley, rector, church, death"
         ],
         "marker": {
          "color": "#D55E00"
         },
         "mode": "markers",
         "name": "8_sermon_church_bishop_chapel",
         "type": "scatter",
         "x": [
          "1826-12-28T01:12:00",
          "1828-10-11T02:24:00",
          "1830-07-26T03:36:00",
          "1841-04-17T10:48:00",
          "1848-06-11T15:36:00",
          "1850-03-26T16:48:00",
          "1852-01-08T18:00:00",
          "1853-10-22T19:12:00",
          "1855-08-06T20:24:00",
          "1857-05-20T21:36:00",
          "1859-03-04T22:48:00"
         ],
         "y": [
          1,
          3,
          5,
          1,
          2,
          5,
          3,
          5,
          4,
          4,
          2
         ]
        },
        {
         "hoverinfo": "text",
         "hovertext": [
          "<b>Topic 10</b><br>Words: lime, iron_alumina, acid, oxide, essex",
          "<b>Topic 10</b><br>Words: mercury, lime, acid, alumina, iron_alumina",
          "<b>Topic 10</b><br>Words: ball, phosphorus, coprolite, honor, experiment",
          "<b>Topic 10</b><br>Words: acid, carbonate, lime, alumina, coating",
          "<b>Topic 10</b><br>Words: lime, acid, silica, alumina, chloride",
          "<b>Topic 10</b><br>Words: mercury, gas, gold, aid, heat",
          "<b>Topic 10</b><br>Words: lime, acid, fire, fountain, coprolite"
         ],
         "marker": {
          "color": "#0072B2"
         },
         "mode": "markers",
         "name": "10_lime_acid_alumina_iron_alumina",
         "type": "scatter",
         "x": [
          "1826-12-28T01:12:00",
          "1830-07-26T03:36:00",
          "1844-11-13T13:12:00",
          "1848-06-11T15:36:00",
          "1850-03-26T16:48:00",
          "1853-10-22T19:12:00",
          "1855-08-06T20:24:00"
         ],
         "y": [
          5,
          1,
          1,
          5,
          15,
          1,
          5
         ]
        },
        {
         "hoverinfo": "text",
         "hovertext": [
          "<b>Topic 12</b><br>Words: parcel, cradock, esmeraldas, pater, noster",
          "<b>Topic 12</b><br>Words: parcel, freight, manifest, green, pack",
          "<b>Topic 12</b><br>Words: parcel, warrington, sheffield, wilson, treutell",
          "<b>Topic 12</b><br>Words: bundle, one, parcel, warrington, sheffield",
          "<b>Topic 12</b><br>Words: parcel, warrington, sheffield, bundle, wilson",
          "<b>Topic 12</b><br>Words: parcel, procession, bundle, love, form"
         ],
         "marker": {
          "color": "#CC79A7"
         },
         "mode": "markers",
         "name": "12_parcel_warrington_sheffield_bundle",
         "type": "scatter",
         "x": [
          "1826-12-28T01:12:00",
          "1828-10-11T02:24:00",
          "1830-07-26T03:36:00",
          "1844-11-13T13:12:00",
          "1852-01-08T18:00:00",
          "1857-05-20T21:36:00"
         ],
         "y": [
          12,
          7,
          9,
          1,
          1,
          2
         ]
        },
        {
         "hoverinfo": "text",
         "hovertext": [
          "<b>Topic 13</b><br>Words: plate, illustration, book, potassium, stenotype",
          "<b>Topic 13</b><br>Words: plate, excellence, miscellany, ii, mistake",
          "<b>Topic 13</b><br>Words: plate, impression, shell, cost, lettering",
          "<b>Topic 13</b><br>Words: leave, bracket, bit, plate, camb_sh",
          "<b>Topic 13</b><br>Words: sci, presume, plate, march, potassium",
          "<b>Topic 13</b><br>Words: plate, potassium, pea, potash, motion",
          "<b>Topic 13</b><br>Words: plate, reference, sclater, zuetell, ventnor",
          "<b>Topic 13</b><br>Words: plate, stenotype, resetting, reduction, demand",
          "<b>Topic 13</b><br>Words: plate, sandwich, orkney, axe, edge"
         ],
         "marker": {
          "color": "#E69F00"
         },
         "mode": "markers",
         "name": "13_plate_potassium_stenotype_reference",
         "type": "scatter",
         "x": [
          "1826-12-28T01:12:00",
          "1828-10-11T02:24:00",
          "1830-07-26T03:36:00",
          "1841-04-17T10:48:00",
          "1848-06-11T15:36:00",
          "1853-10-22T19:12:00",
          "1855-08-06T20:24:00",
          "1857-05-20T21:36:00",
          "1859-03-04T22:48:00"
         ],
         "y": [
          2,
          3,
          14,
          2,
          1,
          2,
          3,
          2,
          2
         ]
        }
       ],
       "layout": {
        "height": 500,
        "hoverlabel": {
         "bgcolor": "white",
         "font": {
          "family": "Rockwell",
          "size": 16
         }
        },
        "legend": {
         "title": {
          "text": "<b>Global Topic Representation"
         }
        },
        "template": {
         "data": {
          "bar": [
           {
            "error_x": {
             "color": "rgb(36,36,36)"
            },
            "error_y": {
             "color": "rgb(36,36,36)"
            },
            "marker": {
             "line": {
              "color": "white",
              "width": 0.5
             },
             "pattern": {
              "fillmode": "overlay",
              "size": 10,
              "solidity": 0.2
             }
            },
            "type": "bar"
           }
          ],
          "barpolar": [
           {
            "marker": {
             "line": {
              "color": "white",
              "width": 0.5
             },
             "pattern": {
              "fillmode": "overlay",
              "size": 10,
              "solidity": 0.2
             }
            },
            "type": "barpolar"
           }
          ],
          "carpet": [
           {
            "aaxis": {
             "endlinecolor": "rgb(36,36,36)",
             "gridcolor": "white",
             "linecolor": "white",
             "minorgridcolor": "white",
             "startlinecolor": "rgb(36,36,36)"
            },
            "baxis": {
             "endlinecolor": "rgb(36,36,36)",
             "gridcolor": "white",
             "linecolor": "white",
             "minorgridcolor": "white",
             "startlinecolor": "rgb(36,36,36)"
            },
            "type": "carpet"
           }
          ],
          "choropleth": [
           {
            "colorbar": {
             "outlinewidth": 1,
             "tickcolor": "rgb(36,36,36)",
             "ticks": "outside"
            },
            "type": "choropleth"
           }
          ],
          "contour": [
           {
            "colorbar": {
             "outlinewidth": 1,
             "tickcolor": "rgb(36,36,36)",
             "ticks": "outside"
            },
            "colorscale": [
             [
              0,
              "#440154"
             ],
             [
              0.1111111111111111,
              "#482878"
             ],
             [
              0.2222222222222222,
              "#3e4989"
             ],
             [
              0.3333333333333333,
              "#31688e"
             ],
             [
              0.4444444444444444,
              "#26828e"
             ],
             [
              0.5555555555555556,
              "#1f9e89"
             ],
             [
              0.6666666666666666,
              "#35b779"
             ],
             [
              0.7777777777777778,
              "#6ece58"
             ],
             [
              0.8888888888888888,
              "#b5de2b"
             ],
             [
              1,
              "#fde725"
             ]
            ],
            "type": "contour"
           }
          ],
          "contourcarpet": [
           {
            "colorbar": {
             "outlinewidth": 1,
             "tickcolor": "rgb(36,36,36)",
             "ticks": "outside"
            },
            "type": "contourcarpet"
           }
          ],
          "heatmap": [
           {
            "colorbar": {
             "outlinewidth": 1,
             "tickcolor": "rgb(36,36,36)",
             "ticks": "outside"
            },
            "colorscale": [
             [
              0,
              "#440154"
             ],
             [
              0.1111111111111111,
              "#482878"
             ],
             [
              0.2222222222222222,
              "#3e4989"
             ],
             [
              0.3333333333333333,
              "#31688e"
             ],
             [
              0.4444444444444444,
              "#26828e"
             ],
             [
              0.5555555555555556,
              "#1f9e89"
             ],
             [
              0.6666666666666666,
              "#35b779"
             ],
             [
              0.7777777777777778,
              "#6ece58"
             ],
             [
              0.8888888888888888,
              "#b5de2b"
             ],
             [
              1,
              "#fde725"
             ]
            ],
            "type": "heatmap"
           }
          ],
          "heatmapgl": [
           {
            "colorbar": {
             "outlinewidth": 1,
             "tickcolor": "rgb(36,36,36)",
             "ticks": "outside"
            },
            "colorscale": [
             [
              0,
              "#440154"
             ],
             [
              0.1111111111111111,
              "#482878"
             ],
             [
              0.2222222222222222,
              "#3e4989"
             ],
             [
              0.3333333333333333,
              "#31688e"
             ],
             [
              0.4444444444444444,
              "#26828e"
             ],
             [
              0.5555555555555556,
              "#1f9e89"
             ],
             [
              0.6666666666666666,
              "#35b779"
             ],
             [
              0.7777777777777778,
              "#6ece58"
             ],
             [
              0.8888888888888888,
              "#b5de2b"
             ],
             [
              1,
              "#fde725"
             ]
            ],
            "type": "heatmapgl"
           }
          ],
          "histogram": [
           {
            "marker": {
             "line": {
              "color": "white",
              "width": 0.6
             }
            },
            "type": "histogram"
           }
          ],
          "histogram2d": [
           {
            "colorbar": {
             "outlinewidth": 1,
             "tickcolor": "rgb(36,36,36)",
             "ticks": "outside"
            },
            "colorscale": [
             [
              0,
              "#440154"
             ],
             [
              0.1111111111111111,
              "#482878"
             ],
             [
              0.2222222222222222,
              "#3e4989"
             ],
             [
              0.3333333333333333,
              "#31688e"
             ],
             [
              0.4444444444444444,
              "#26828e"
             ],
             [
              0.5555555555555556,
              "#1f9e89"
             ],
             [
              0.6666666666666666,
              "#35b779"
             ],
             [
              0.7777777777777778,
              "#6ece58"
             ],
             [
              0.8888888888888888,
              "#b5de2b"
             ],
             [
              1,
              "#fde725"
             ]
            ],
            "type": "histogram2d"
           }
          ],
          "histogram2dcontour": [
           {
            "colorbar": {
             "outlinewidth": 1,
             "tickcolor": "rgb(36,36,36)",
             "ticks": "outside"
            },
            "colorscale": [
             [
              0,
              "#440154"
             ],
             [
              0.1111111111111111,
              "#482878"
             ],
             [
              0.2222222222222222,
              "#3e4989"
             ],
             [
              0.3333333333333333,
              "#31688e"
             ],
             [
              0.4444444444444444,
              "#26828e"
             ],
             [
              0.5555555555555556,
              "#1f9e89"
             ],
             [
              0.6666666666666666,
              "#35b779"
             ],
             [
              0.7777777777777778,
              "#6ece58"
             ],
             [
              0.8888888888888888,
              "#b5de2b"
             ],
             [
              1,
              "#fde725"
             ]
            ],
            "type": "histogram2dcontour"
           }
          ],
          "mesh3d": [
           {
            "colorbar": {
             "outlinewidth": 1,
             "tickcolor": "rgb(36,36,36)",
             "ticks": "outside"
            },
            "type": "mesh3d"
           }
          ],
          "parcoords": [
           {
            "line": {
             "colorbar": {
              "outlinewidth": 1,
              "tickcolor": "rgb(36,36,36)",
              "ticks": "outside"
             }
            },
            "type": "parcoords"
           }
          ],
          "pie": [
           {
            "automargin": true,
            "type": "pie"
           }
          ],
          "scatter": [
           {
            "fillpattern": {
             "fillmode": "overlay",
             "size": 10,
             "solidity": 0.2
            },
            "type": "scatter"
           }
          ],
          "scatter3d": [
           {
            "line": {
             "colorbar": {
              "outlinewidth": 1,
              "tickcolor": "rgb(36,36,36)",
              "ticks": "outside"
             }
            },
            "marker": {
             "colorbar": {
              "outlinewidth": 1,
              "tickcolor": "rgb(36,36,36)",
              "ticks": "outside"
             }
            },
            "type": "scatter3d"
           }
          ],
          "scattercarpet": [
           {
            "marker": {
             "colorbar": {
              "outlinewidth": 1,
              "tickcolor": "rgb(36,36,36)",
              "ticks": "outside"
             }
            },
            "type": "scattercarpet"
           }
          ],
          "scattergeo": [
           {
            "marker": {
             "colorbar": {
              "outlinewidth": 1,
              "tickcolor": "rgb(36,36,36)",
              "ticks": "outside"
             }
            },
            "type": "scattergeo"
           }
          ],
          "scattergl": [
           {
            "marker": {
             "colorbar": {
              "outlinewidth": 1,
              "tickcolor": "rgb(36,36,36)",
              "ticks": "outside"
             }
            },
            "type": "scattergl"
           }
          ],
          "scattermapbox": [
           {
            "marker": {
             "colorbar": {
              "outlinewidth": 1,
              "tickcolor": "rgb(36,36,36)",
              "ticks": "outside"
             }
            },
            "type": "scattermapbox"
           }
          ],
          "scatterpolar": [
           {
            "marker": {
             "colorbar": {
              "outlinewidth": 1,
              "tickcolor": "rgb(36,36,36)",
              "ticks": "outside"
             }
            },
            "type": "scatterpolar"
           }
          ],
          "scatterpolargl": [
           {
            "marker": {
             "colorbar": {
              "outlinewidth": 1,
              "tickcolor": "rgb(36,36,36)",
              "ticks": "outside"
             }
            },
            "type": "scatterpolargl"
           }
          ],
          "scatterternary": [
           {
            "marker": {
             "colorbar": {
              "outlinewidth": 1,
              "tickcolor": "rgb(36,36,36)",
              "ticks": "outside"
             }
            },
            "type": "scatterternary"
           }
          ],
          "surface": [
           {
            "colorbar": {
             "outlinewidth": 1,
             "tickcolor": "rgb(36,36,36)",
             "ticks": "outside"
            },
            "colorscale": [
             [
              0,
              "#440154"
             ],
             [
              0.1111111111111111,
              "#482878"
             ],
             [
              0.2222222222222222,
              "#3e4989"
             ],
             [
              0.3333333333333333,
              "#31688e"
             ],
             [
              0.4444444444444444,
              "#26828e"
             ],
             [
              0.5555555555555556,
              "#1f9e89"
             ],
             [
              0.6666666666666666,
              "#35b779"
             ],
             [
              0.7777777777777778,
              "#6ece58"
             ],
             [
              0.8888888888888888,
              "#b5de2b"
             ],
             [
              1,
              "#fde725"
             ]
            ],
            "type": "surface"
           }
          ],
          "table": [
           {
            "cells": {
             "fill": {
              "color": "rgb(237,237,237)"
             },
             "line": {
              "color": "white"
             }
            },
            "header": {
             "fill": {
              "color": "rgb(217,217,217)"
             },
             "line": {
              "color": "white"
             }
            },
            "type": "table"
           }
          ]
         },
         "layout": {
          "annotationdefaults": {
           "arrowhead": 0,
           "arrowwidth": 1
          },
          "autotypenumbers": "strict",
          "coloraxis": {
           "colorbar": {
            "outlinewidth": 1,
            "tickcolor": "rgb(36,36,36)",
            "ticks": "outside"
           }
          },
          "colorscale": {
           "diverging": [
            [
             0,
             "rgb(103,0,31)"
            ],
            [
             0.1,
             "rgb(178,24,43)"
            ],
            [
             0.2,
             "rgb(214,96,77)"
            ],
            [
             0.3,
             "rgb(244,165,130)"
            ],
            [
             0.4,
             "rgb(253,219,199)"
            ],
            [
             0.5,
             "rgb(247,247,247)"
            ],
            [
             0.6,
             "rgb(209,229,240)"
            ],
            [
             0.7,
             "rgb(146,197,222)"
            ],
            [
             0.8,
             "rgb(67,147,195)"
            ],
            [
             0.9,
             "rgb(33,102,172)"
            ],
            [
             1,
             "rgb(5,48,97)"
            ]
           ],
           "sequential": [
            [
             0,
             "#440154"
            ],
            [
             0.1111111111111111,
             "#482878"
            ],
            [
             0.2222222222222222,
             "#3e4989"
            ],
            [
             0.3333333333333333,
             "#31688e"
            ],
            [
             0.4444444444444444,
             "#26828e"
            ],
            [
             0.5555555555555556,
             "#1f9e89"
            ],
            [
             0.6666666666666666,
             "#35b779"
            ],
            [
             0.7777777777777778,
             "#6ece58"
            ],
            [
             0.8888888888888888,
             "#b5de2b"
            ],
            [
             1,
             "#fde725"
            ]
           ],
           "sequentialminus": [
            [
             0,
             "#440154"
            ],
            [
             0.1111111111111111,
             "#482878"
            ],
            [
             0.2222222222222222,
             "#3e4989"
            ],
            [
             0.3333333333333333,
             "#31688e"
            ],
            [
             0.4444444444444444,
             "#26828e"
            ],
            [
             0.5555555555555556,
             "#1f9e89"
            ],
            [
             0.6666666666666666,
             "#35b779"
            ],
            [
             0.7777777777777778,
             "#6ece58"
            ],
            [
             0.8888888888888888,
             "#b5de2b"
            ],
            [
             1,
             "#fde725"
            ]
           ]
          },
          "colorway": [
           "#1F77B4",
           "#FF7F0E",
           "#2CA02C",
           "#D62728",
           "#9467BD",
           "#8C564B",
           "#E377C2",
           "#7F7F7F",
           "#BCBD22",
           "#17BECF"
          ],
          "font": {
           "color": "rgb(36,36,36)"
          },
          "geo": {
           "bgcolor": "white",
           "lakecolor": "white",
           "landcolor": "white",
           "showlakes": true,
           "showland": true,
           "subunitcolor": "white"
          },
          "hoverlabel": {
           "align": "left"
          },
          "hovermode": "closest",
          "mapbox": {
           "style": "light"
          },
          "paper_bgcolor": "white",
          "plot_bgcolor": "white",
          "polar": {
           "angularaxis": {
            "gridcolor": "rgb(232,232,232)",
            "linecolor": "rgb(36,36,36)",
            "showgrid": false,
            "showline": true,
            "ticks": "outside"
           },
           "bgcolor": "white",
           "radialaxis": {
            "gridcolor": "rgb(232,232,232)",
            "linecolor": "rgb(36,36,36)",
            "showgrid": false,
            "showline": true,
            "ticks": "outside"
           }
          },
          "scene": {
           "xaxis": {
            "backgroundcolor": "white",
            "gridcolor": "rgb(232,232,232)",
            "gridwidth": 2,
            "linecolor": "rgb(36,36,36)",
            "showbackground": true,
            "showgrid": false,
            "showline": true,
            "ticks": "outside",
            "zeroline": false,
            "zerolinecolor": "rgb(36,36,36)"
           },
           "yaxis": {
            "backgroundcolor": "white",
            "gridcolor": "rgb(232,232,232)",
            "gridwidth": 2,
            "linecolor": "rgb(36,36,36)",
            "showbackground": true,
            "showgrid": false,
            "showline": true,
            "ticks": "outside",
            "zeroline": false,
            "zerolinecolor": "rgb(36,36,36)"
           },
           "zaxis": {
            "backgroundcolor": "white",
            "gridcolor": "rgb(232,232,232)",
            "gridwidth": 2,
            "linecolor": "rgb(36,36,36)",
            "showbackground": true,
            "showgrid": false,
            "showline": true,
            "ticks": "outside",
            "zeroline": false,
            "zerolinecolor": "rgb(36,36,36)"
           }
          },
          "shapedefaults": {
           "fillcolor": "black",
           "line": {
            "width": 0
           },
           "opacity": 0.3
          },
          "ternary": {
           "aaxis": {
            "gridcolor": "rgb(232,232,232)",
            "linecolor": "rgb(36,36,36)",
            "showgrid": false,
            "showline": true,
            "ticks": "outside"
           },
           "baxis": {
            "gridcolor": "rgb(232,232,232)",
            "linecolor": "rgb(36,36,36)",
            "showgrid": false,
            "showline": true,
            "ticks": "outside"
           },
           "bgcolor": "white",
           "caxis": {
            "gridcolor": "rgb(232,232,232)",
            "linecolor": "rgb(36,36,36)",
            "showgrid": false,
            "showline": true,
            "ticks": "outside"
           }
          },
          "title": {
           "x": 0.05
          },
          "xaxis": {
           "automargin": true,
           "gridcolor": "rgb(232,232,232)",
           "linecolor": "rgb(36,36,36)",
           "showgrid": false,
           "showline": true,
           "ticks": "outside",
           "title": {
            "standoff": 15
           },
           "zeroline": false,
           "zerolinecolor": "rgb(36,36,36)"
          },
          "yaxis": {
           "automargin": true,
           "gridcolor": "rgb(232,232,232)",
           "linecolor": "rgb(36,36,36)",
           "showgrid": false,
           "showline": true,
           "ticks": "outside",
           "title": {
            "standoff": 15
           },
           "zeroline": false,
           "zerolinecolor": "rgb(36,36,36)"
          }
         }
        },
        "title": {
         "font": {
          "color": "Black",
          "size": 22
         },
         "text": "<b>Topics over Time",
         "x": 0.4,
         "xanchor": "center",
         "y": 0.95,
         "yanchor": "top"
        },
        "width": 1000,
        "xaxis": {
         "showgrid": true
        },
        "yaxis": {
         "showgrid": true,
         "title": {
          "text": "Count"
         }
        }
       }
      },
      "text/html": [
       "<div>                            <div id=\"d8bad33a-468b-41a1-bab4-d08226ef3be7\" class=\"plotly-graph-div\" style=\"height:500px; width:1000px;\"></div>            <script type=\"text/javascript\">                require([\"plotly\"], function(Plotly) {                    window.PLOTLYENV=window.PLOTLYENV || {};                                    if (document.getElementById(\"d8bad33a-468b-41a1-bab4-d08226ef3be7\")) {                    Plotly.newPlot(                        \"d8bad33a-468b-41a1-bab4-d08226ef3be7\",                        [{\"hoverinfo\":\"text\",\"hovertext\":[\"<b>Topic 0</b><br>Words: plant, university, parliament, specimen, election\",\"<b>Topic 0</b><br>Words: plant, specimen, algae, botany, flora\",\"<b>Topic 0</b><br>Words: plant, specimen, fruit, insect, cambridge\",\"<b>Topic 0</b><br>Words: plant, specimen, cambridge, book, bird\",\"<b>Topic 0</b><br>Words: alligator, country, reference, anatomy, flora\",\"<b>Topic 0</b><br>Words: integrity, smith, consideration, specimen, view\",\"<b>Topic 0</b><br>Words: shale, oil, grease, paint, product\",\"<b>Topic 0</b><br>Words: shale, museum, oil, adulteration, spirit\",\"<b>Topic 0</b><br>Words: interest, examination, school, museum, london\",\"<b>Topic 0</b><br>Words: museum, ipswich, london, fossil, collection\",\"<b>Topic 0</b><br>Words: london, museum, onion, specie, paper\",\"<b>Topic 0</b><br>Words: museum, book, london, paper, dublin\",\"<b>Topic 0</b><br>Words: museum, louisa, examiner, candidate, london\"],\"marker\":{\"color\":\"#E69F00\"},\"mode\":\"markers\",\"name\":\"0_plant_museum_specimen_cambridge\",\"x\":[\"1825-03-01T22:32:09.600000\",\"1826-12-28T01:12:00\",\"1828-10-11T02:24:00\",\"1830-07-26T03:36:00\",\"1841-04-17T10:48:00\",\"1844-11-13T13:12:00\",\"1848-06-11T15:36:00\",\"1850-03-26T16:48:00\",\"1852-01-08T18:00:00\",\"1853-10-22T19:12:00\",\"1855-08-06T20:24:00\",\"1857-05-20T21:36:00\",\"1859-03-04T22:48:00\"],\"y\":[64,216,318,339,56,27,64,100,71,159,278,157,181],\"type\":\"scatter\"},{\"hoverinfo\":\"text\",\"hovertext\":[\"<b>Topic 1</b><br>Words: watfield, sorrento, gasp, breath, dec\",\"<b>Topic 1</b><br>Words: spring, april, season, rothsay, edinbr\",\"<b>Topic 1</b><br>Words: frost, ber, season, summer, rain\",\"<b>Topic 1</b><br>Words: summer, season, december, june, desiderata\",\"<b>Topic 1</b><br>Words: winter, season, summer, month, dec\",\"<b>Topic 1</b><br>Words: rochdale, dect, sept, summer, season\",\"<b>Topic 1</b><br>Words: sept, god, january, season, summer\",\"<b>Topic 1</b><br>Words: temper, distemper, preside, dec, spring\",\"<b>Topic 1</b><br>Words: winter, vom, united_state, nux, trifle\",\"<b>Topic 1</b><br>Words: moon, document, half, vol, january\",\"<b>Topic 1</b><br>Words: month, september, worm, ns, dec\",\"<b>Topic 1</b><br>Words: eastern_countie, elizabeth, feb, december, june\",\"<b>Topic 1</b><br>Words: summer, june, elections, punctatus, season\"],\"marker\":{\"color\":\"#56B4E9\"},\"mode\":\"markers\",\"name\":\"1_season_summer_month_dec\",\"x\":[\"1825-03-01T22:32:09.600000\",\"1826-12-28T01:12:00\",\"1828-10-11T02:24:00\",\"1830-07-26T03:36:00\",\"1841-04-17T10:48:00\",\"1844-11-13T13:12:00\",\"1848-06-11T15:36:00\",\"1850-03-26T16:48:00\",\"1852-01-08T18:00:00\",\"1853-10-22T19:12:00\",\"1855-08-06T20:24:00\",\"1857-05-20T21:36:00\",\"1859-03-04T22:48:00\"],\"y\":[5,10,9,15,1,2,2,3,4,2,9,4,8],\"type\":\"scatter\"},{\"hoverinfo\":\"text\",\"hovertext\":[\"<b>Topic 2</b><br>Words: hooker, days_ago, deal, evg, dr\",\"<b>Topic 2</b><br>Words: hooker, aberdeenshire, icone, suscriber, filicum\",\"<b>Topic 2</b><br>Words: hooker, haldane, twopenny, play, devil\",\"<b>Topic 2</b><br>Words: hooker, fork, arcades, asubo, bestowing\",\"<b>Topic 2</b><br>Words: hooker, days_ago, deal, evg, dr\",\"<b>Topic 2</b><br>Words: hooker, julian, episode, news, history\",\"<b>Topic 2</b><br>Words: hooker, breast, rascallitie, cassel, fool\",\"<b>Topic 2</b><br>Words: hooker, days_ago, ten, botanic, bunbury\",\"<b>Topic 2</b><br>Words: hooker, evg, james, griffin, selwyn\",\"<b>Topic 2</b><br>Words: hooker, germany, leonard_horner, post, misunderstood\",\"<b>Topic 2</b><br>Words: hooker, kindest_regard, loan, reputation, seymour\",\"<b>Topic 2</b><br>Words: hooker, migrate, liking, sprung, guest\"],\"marker\":{\"color\":\"#009E73\"},\"mode\":\"markers\",\"name\":\"2_hooker_days_ago_deal_evg\",\"x\":[\"1825-03-01T22:32:09.600000\",\"1826-12-28T01:12:00\",\"1828-10-11T02:24:00\",\"1830-07-26T03:36:00\",\"1844-11-13T13:12:00\",\"1848-06-11T15:36:00\",\"1850-03-26T16:48:00\",\"1852-01-08T18:00:00\",\"1853-10-22T19:12:00\",\"1855-08-06T20:24:00\",\"1857-05-20T21:36:00\",\"1859-03-04T22:48:00\"],\"y\":[1,9,8,10,1,1,3,2,6,6,6,2],\"type\":\"scatter\"},{\"hoverinfo\":\"text\",\"hovertext\":[\"<b>Topic 4</b><br>Words: dpalmerston, report, absentee, contradiction, strength\",\"<b>Topic 4</b><br>Words: sundry, sickness, health, leach, italy\",\"<b>Topic 4</b><br>Words: illness, hypochondriasis, headache, perform, epidemic\",\"<b>Topic 4</b><br>Words: health, medicine, illness, head, sickness\",\"<b>Topic 4</b><br>Words: night, health, shin, macmillan, pillow\",\"<b>Topic 4</b><br>Words: halting, avoid, dent, middle, air\",\"<b>Topic 4</b><br>Words: salmonide, broom, lichfield, sulivan, health\",\"<b>Topic 4</b><br>Words: health, constipation, requirement, complaint, doctor\",\"<b>Topic 4</b><br>Words: harz, medical, treatment, complaint, mountain\",\"<b>Topic 4</b><br>Words: illness, assurance, spirit, health, sickness\",\"<b>Topic 4</b><br>Words: illness, health, jane, week, month\"],\"marker\":{\"color\":\"#F0E442\"},\"mode\":\"markers\",\"name\":\"4_health_illness_care_sickness\",\"x\":[\"1825-03-01T22:32:09.600000\",\"1826-12-28T01:12:00\",\"1828-10-11T02:24:00\",\"1830-07-26T03:36:00\",\"1848-06-11T15:36:00\",\"1850-03-26T16:48:00\",\"1852-01-08T18:00:00\",\"1853-10-22T19:12:00\",\"1855-08-06T20:24:00\",\"1857-05-20T21:36:00\",\"1859-03-04T22:48:00\"],\"y\":[1,4,5,8,3,1,2,2,1,7,11],\"type\":\"scatter\"},{\"hoverinfo\":\"text\",\"hovertext\":[\"<b>Topic 5</b><br>Words: sell, advertising, labor, strike, lecture\",\"<b>Topic 5</b><br>Words: lecture, course, classroom, lecturer, class\",\"<b>Topic 5</b><br>Words: lecture, sacrament, understanding, vacation, parish\",\"<b>Topic 5</b><br>Words: class, creature, lecture, tutor, action\",\"<b>Topic 5</b><br>Words: lecture, theaters, occuping, dancer, draw\",\"<b>Topic 5</b><br>Words: fisher, bet, speech, lecture, class\",\"<b>Topic 5</b><br>Words: lecture, tiresome, auditor, hesitation, ticket\",\"<b>Topic 5</b><br>Words: lecture, offhand, instruction, spring, occasion\",\"<b>Topic 5</b><br>Words: lecture, artisan, fixed, february, kingsley\",\"<b>Topic 5</b><br>Words: lecture, particular, learner, october, fortnight\",\"<b>Topic 5</b><br>Words: lecture, hon, cambridge, sorry, hope\"],\"marker\":{\"color\":\"#D55E00\"},\"mode\":\"markers\",\"name\":\"5_lecture_class_course_lecturer\",\"x\":[\"1825-03-01T22:32:09.600000\",\"1826-12-28T01:12:00\",\"1828-10-11T02:24:00\",\"1830-07-26T03:36:00\",\"1841-04-17T10:48:00\",\"1848-06-11T15:36:00\",\"1852-01-08T18:00:00\",\"1853-10-22T19:12:00\",\"1855-08-06T20:24:00\",\"1857-05-20T21:36:00\",\"1859-03-04T22:48:00\"],\"y\":[1,10,2,4,2,1,3,3,9,3,4],\"type\":\"scatter\"},{\"hoverinfo\":\"text\",\"hovertext\":[\"<b>Topic 6</b><br>Words: cost, continent, price, service, value\",\"<b>Topic 6</b><br>Words: dividend, deal, price, cost, value\",\"<b>Topic 6</b><br>Words: price, balance, nation, century, deposit\",\"<b>Topic 6</b><br>Words: enhance, price, cost, fix, value\",\"<b>Topic 6</b><br>Words: deposit, equation, quality, price, cost\",\"<b>Topic 6</b><br>Words: price, cost, value, amount, deposit\",\"<b>Topic 6</b><br>Words: daguerrotype, donor, cost, worth, amount\",\"<b>Topic 6</b><br>Words: price, value, cost, amount, valuation\",\"<b>Topic 6</b><br>Words: cost, value, account, woodcut, braunschweig\"],\"marker\":{\"color\":\"#0072B2\"},\"mode\":\"markers\",\"name\":\"6_price_cost_value_amount\",\"x\":[\"1825-03-01T22:32:09.600000\",\"1826-12-28T01:12:00\",\"1828-10-11T02:24:00\",\"1830-07-26T03:36:00\",\"1848-06-11T15:36:00\",\"1850-03-26T16:48:00\",\"1853-10-22T19:12:00\",\"1855-08-06T20:24:00\",\"1857-05-20T21:36:00\"],\"y\":[1,2,4,3,3,1,4,11,6],\"type\":\"scatter\"},{\"hoverinfo\":\"text\",\"hovertext\":[\"<b>Topic 7</b><br>Words: rehlan, chanc, repen, edw, diam\",\"<b>Topic 7</b><br>Words: lich, edinr, rehlan, hirsuta, edw\",\"<b>Topic 7</b><br>Words: edinr, anthony, adr, daehne, cousin\",\"<b>Topic 7</b><br>Words: edw, acct, anther, irving, marq\",\"<b>Topic 7</b><br>Words: adm, denier, regeneration, person, edw\",\"<b>Topic 7</b><br>Words: anat, augt, chemist, edw, diam\",\"<b>Topic 7</b><br>Words: cor, mam, dawe, edw, diam\",\"<b>Topic 7</b><br>Words: strutt, diem, maund, edw, diam\",\"<b>Topic 7</b><br>Words: diam, hewett, oran, outang, watson\"],\"marker\":{\"color\":\"#CC79A7\"},\"mode\":\"markers\",\"name\":\"7_edw_edinr_diam_rehlan\",\"x\":[\"1825-03-01T22:32:09.600000\",\"1826-12-28T01:12:00\",\"1828-10-11T02:24:00\",\"1830-07-26T03:36:00\",\"1850-03-26T16:48:00\",\"1852-01-08T18:00:00\",\"1853-10-22T19:12:00\",\"1855-08-06T20:24:00\",\"1859-03-04T22:48:00\"],\"y\":[3,3,5,11,2,2,2,3,4],\"type\":\"scatter\"},{\"hoverinfo\":\"text\",\"hovertext\":[\"<b>Topic 9</b><br>Words: arrival, sig, arrangement, order, difficulty\",\"<b>Topic 9</b><br>Words: arrange, transaction, nat, order, table\",\"<b>Topic 9</b><br>Words: arrange, bennett, reception, arrangement, determination\",\"<b>Topic 9</b><br>Words: delay, arrangement, impart, hustler, obviate\",\"<b>Topic 9</b><br>Words: set, arrangement, order, difficulty, sort\",\"<b>Topic 9</b><br>Words: abate, ill, game, necessity, difficulty\",\"<b>Topic 9</b><br>Words: arrangement, order, thine, submission, chance\",\"<b>Topic 9</b><br>Words: save_trouble, order, amount, manner, arrangement\",\"<b>Topic 9</b><br>Words: position, answer, matter, arrangement, order\",\"<b>Topic 9</b><br>Words: arrangement, sort, order, difficulty, royalty\",\"<b>Topic 9</b><br>Words: arrangement, culminate, negotiation, kew, difficulty\",\"<b>Topic 9</b><br>Words: fulfill, brute, image, difficulty, sort\"],\"marker\":{\"color\":\"#E69F00\"},\"mode\":\"markers\",\"name\":\"9_arrangement_order_difficulty_sort\",\"x\":[\"1825-03-01T22:32:09.600000\",\"1826-12-28T01:12:00\",\"1828-10-11T02:24:00\",\"1830-07-26T03:36:00\",\"1841-04-17T10:48:00\",\"1844-11-13T13:12:00\",\"1848-06-11T15:36:00\",\"1850-03-26T16:48:00\",\"1853-10-22T19:12:00\",\"1855-08-06T20:24:00\",\"1857-05-20T21:36:00\",\"1859-03-04T22:48:00\"],\"y\":[1,2,2,5,1,1,5,2,1,6,4,3],\"type\":\"scatter\"},{\"hoverinfo\":\"text\",\"hovertext\":[\"<b>Topic 11</b><br>Words: curtain, emotion, wintry, defence, wind\",\"<b>Topic 11</b><br>Words: hurricane, weather, storm, wind, snow\",\"<b>Topic 11</b><br>Words: change, weather, prevalence, extreme, unwholesome\",\"<b>Topic 11</b><br>Words: expedition, rain, weather, exception, wind\",\"<b>Topic 11</b><br>Words: moisture, weather, layer, process, air\",\"<b>Topic 11</b><br>Words: catch, clk, daguerreotype, weather, service\",\"<b>Topic 11</b><br>Words: obligation, weather, man, cambridge, wind\",\"<b>Topic 11</b><br>Words: wind, weather, damage, fog, cereal\",\"<b>Topic 11</b><br>Words: weather, meteorology, camb_sh, wind, climate\",\"<b>Topic 11</b><br>Words: weather, wind, meteorology, rain, change\"],\"marker\":{\"color\":\"#56B4E9\"},\"mode\":\"markers\",\"name\":\"11_weather_wind_meteorology_rain\",\"x\":[\"1825-03-01T22:32:09.600000\",\"1826-12-28T01:12:00\",\"1828-10-11T02:24:00\",\"1830-07-26T03:36:00\",\"1841-04-17T10:48:00\",\"1848-06-11T15:36:00\",\"1852-01-08T18:00:00\",\"1855-08-06T20:24:00\",\"1857-05-20T21:36:00\",\"1859-03-04T22:48:00\"],\"y\":[1,2,3,2,3,1,1,4,14,1],\"type\":\"scatter\"},{\"hoverinfo\":\"text\",\"hovertext\":[\"<b>Topic 14</b><br>Words: din, tlate, house, eve, xmas\",\"<b>Topic 14</b><br>Words: house, home, possession, residence, household\",\"<b>Topic 14</b><br>Words: mimulus, guttatus, home, place, house\",\"<b>Topic 14</b><br>Words: sanctum, brevity, research, home, trip\",\"<b>Topic 14</b><br>Words: bother, beauty, leg, house, home\",\"<b>Topic 14</b><br>Words: waterhouse, geo, home, house, possession\",\"<b>Topic 14</b><br>Words: husband, liability, preserve, income, house\",\"<b>Topic 14</b><br>Words: balaklava, home, house, fellow, possession\",\"<b>Topic 14</b><br>Words: house, home, marlborough, mayor, diagrams\",\"<b>Topic 14</b><br>Words: house, vile, furniture, situation, home\",\"<b>Topic 14</b><br>Words: house, household, residence, lady, mid\"],\"marker\":{\"color\":\"#009E73\"},\"mode\":\"markers\",\"name\":\"14_house_home_possession_residence\",\"x\":[\"1825-03-01T22:32:09.600000\",\"1826-12-28T01:12:00\",\"1828-10-11T02:24:00\",\"1830-07-26T03:36:00\",\"1848-06-11T15:36:00\",\"1850-03-26T16:48:00\",\"1852-01-08T18:00:00\",\"1853-10-22T19:12:00\",\"1855-08-06T20:24:00\",\"1857-05-20T21:36:00\",\"1859-03-04T22:48:00\"],\"y\":[2,1,2,3,1,2,1,2,6,4,6],\"type\":\"scatter\"},{\"hoverinfo\":\"text\",\"hovertext\":[\"<b>Topic 3</b><br>Words: copy, steudel, whole, sheet, figure\",\"<b>Topic 3</b><br>Words: copy, note, deduct, imputation, errata\",\"<b>Topic 3</b><br>Words: copy, note, forthwith, treuttel, candolle\",\"<b>Topic 3</b><br>Words: copy, noterity, pop, compiler, correction\",\"<b>Topic 3</b><br>Words: note, signature, african, ambigua, sabini\",\"<b>Topic 3</b><br>Words: signature, copy, note, correction, sheet\",\"<b>Topic 3</b><br>Words: signature, assent, register, note, document\",\"<b>Topic 3</b><br>Words: copy, note, handed, reverse, decision\",\"<b>Topic 3</b><br>Words: note, copy, promote, bill, discussion\",\"<b>Topic 3</b><br>Words: proof, signature, copy, remark, sheet\",\"<b>Topic 3</b><br>Words: correction, copy, agreement, error, edition\",\"<b>Topic 3</b><br>Words: note, signature, copy, annoyance, sticker\"],\"marker\":{\"color\":\"#F0E442\"},\"mode\":\"markers\",\"name\":\"3_copy_note_signature_correction\",\"x\":[\"1826-12-28T01:12:00\",\"1828-10-11T02:24:00\",\"1830-07-26T03:36:00\",\"1841-04-17T10:48:00\",\"1844-11-13T13:12:00\",\"1848-06-11T15:36:00\",\"1850-03-26T16:48:00\",\"1852-01-08T18:00:00\",\"1853-10-22T19:12:00\",\"1855-08-06T20:24:00\",\"1857-05-20T21:36:00\",\"1859-03-04T22:48:00\"],\"y\":[3,5,5,4,4,1,3,4,4,3,8,4],\"type\":\"scatter\"},{\"hoverinfo\":\"text\",\"hovertext\":[\"<b>Topic 8</b><br>Words: message, bishop, intention, sermon, church\",\"<b>Topic 8</b><br>Words: church, lamp, sermon, gordon, preface\",\"<b>Topic 8</b><br>Words: pulpit, chapel, sermon, church, congregation\",\"<b>Topic 8</b><br>Words: dover, sermon, street, april, church\",\"<b>Topic 8</b><br>Words: sermon, churchman, lad, junction, xmas\",\"<b>Topic 8</b><br>Words: church, apostle, quaker, creed, principal\",\"<b>Topic 8</b><br>Words: dissenter, characteristic, hatred, churchism, humbler\",\"<b>Topic 8</b><br>Words: sermon, church, thanks, canterbury, tenby\",\"<b>Topic 8</b><br>Words: sermon, chapel, denomination, shortcoming, stimulus\",\"<b>Topic 8</b><br>Words: church, illeg, rate, sermon, recognition\",\"<b>Topic 8</b><br>Words: sermon, woolley, rector, church, death\"],\"marker\":{\"color\":\"#D55E00\"},\"mode\":\"markers\",\"name\":\"8_sermon_church_bishop_chapel\",\"x\":[\"1826-12-28T01:12:00\",\"1828-10-11T02:24:00\",\"1830-07-26T03:36:00\",\"1841-04-17T10:48:00\",\"1848-06-11T15:36:00\",\"1850-03-26T16:48:00\",\"1852-01-08T18:00:00\",\"1853-10-22T19:12:00\",\"1855-08-06T20:24:00\",\"1857-05-20T21:36:00\",\"1859-03-04T22:48:00\"],\"y\":[1,3,5,1,2,5,3,5,4,4,2],\"type\":\"scatter\"},{\"hoverinfo\":\"text\",\"hovertext\":[\"<b>Topic 10</b><br>Words: lime, iron_alumina, acid, oxide, essex\",\"<b>Topic 10</b><br>Words: mercury, lime, acid, alumina, iron_alumina\",\"<b>Topic 10</b><br>Words: ball, phosphorus, coprolite, honor, experiment\",\"<b>Topic 10</b><br>Words: acid, carbonate, lime, alumina, coating\",\"<b>Topic 10</b><br>Words: lime, acid, silica, alumina, chloride\",\"<b>Topic 10</b><br>Words: mercury, gas, gold, aid, heat\",\"<b>Topic 10</b><br>Words: lime, acid, fire, fountain, coprolite\"],\"marker\":{\"color\":\"#0072B2\"},\"mode\":\"markers\",\"name\":\"10_lime_acid_alumina_iron_alumina\",\"x\":[\"1826-12-28T01:12:00\",\"1830-07-26T03:36:00\",\"1844-11-13T13:12:00\",\"1848-06-11T15:36:00\",\"1850-03-26T16:48:00\",\"1853-10-22T19:12:00\",\"1855-08-06T20:24:00\"],\"y\":[5,1,1,5,15,1,5],\"type\":\"scatter\"},{\"hoverinfo\":\"text\",\"hovertext\":[\"<b>Topic 12</b><br>Words: parcel, cradock, esmeraldas, pater, noster\",\"<b>Topic 12</b><br>Words: parcel, freight, manifest, green, pack\",\"<b>Topic 12</b><br>Words: parcel, warrington, sheffield, wilson, treutell\",\"<b>Topic 12</b><br>Words: bundle, one, parcel, warrington, sheffield\",\"<b>Topic 12</b><br>Words: parcel, warrington, sheffield, bundle, wilson\",\"<b>Topic 12</b><br>Words: parcel, procession, bundle, love, form\"],\"marker\":{\"color\":\"#CC79A7\"},\"mode\":\"markers\",\"name\":\"12_parcel_warrington_sheffield_bundle\",\"x\":[\"1826-12-28T01:12:00\",\"1828-10-11T02:24:00\",\"1830-07-26T03:36:00\",\"1844-11-13T13:12:00\",\"1852-01-08T18:00:00\",\"1857-05-20T21:36:00\"],\"y\":[12,7,9,1,1,2],\"type\":\"scatter\"},{\"hoverinfo\":\"text\",\"hovertext\":[\"<b>Topic 13</b><br>Words: plate, illustration, book, potassium, stenotype\",\"<b>Topic 13</b><br>Words: plate, excellence, miscellany, ii, mistake\",\"<b>Topic 13</b><br>Words: plate, impression, shell, cost, lettering\",\"<b>Topic 13</b><br>Words: leave, bracket, bit, plate, camb_sh\",\"<b>Topic 13</b><br>Words: sci, presume, plate, march, potassium\",\"<b>Topic 13</b><br>Words: plate, potassium, pea, potash, motion\",\"<b>Topic 13</b><br>Words: plate, reference, sclater, zuetell, ventnor\",\"<b>Topic 13</b><br>Words: plate, stenotype, resetting, reduction, demand\",\"<b>Topic 13</b><br>Words: plate, sandwich, orkney, axe, edge\"],\"marker\":{\"color\":\"#E69F00\"},\"mode\":\"markers\",\"name\":\"13_plate_potassium_stenotype_reference\",\"x\":[\"1826-12-28T01:12:00\",\"1828-10-11T02:24:00\",\"1830-07-26T03:36:00\",\"1841-04-17T10:48:00\",\"1848-06-11T15:36:00\",\"1853-10-22T19:12:00\",\"1855-08-06T20:24:00\",\"1857-05-20T21:36:00\",\"1859-03-04T22:48:00\"],\"y\":[2,3,14,2,1,2,3,2,2],\"type\":\"scatter\"}],                        {\"template\":{\"data\":{\"barpolar\":[{\"marker\":{\"line\":{\"color\":\"white\",\"width\":0.5},\"pattern\":{\"fillmode\":\"overlay\",\"size\":10,\"solidity\":0.2}},\"type\":\"barpolar\"}],\"bar\":[{\"error_x\":{\"color\":\"rgb(36,36,36)\"},\"error_y\":{\"color\":\"rgb(36,36,36)\"},\"marker\":{\"line\":{\"color\":\"white\",\"width\":0.5},\"pattern\":{\"fillmode\":\"overlay\",\"size\":10,\"solidity\":0.2}},\"type\":\"bar\"}],\"carpet\":[{\"aaxis\":{\"endlinecolor\":\"rgb(36,36,36)\",\"gridcolor\":\"white\",\"linecolor\":\"white\",\"minorgridcolor\":\"white\",\"startlinecolor\":\"rgb(36,36,36)\"},\"baxis\":{\"endlinecolor\":\"rgb(36,36,36)\",\"gridcolor\":\"white\",\"linecolor\":\"white\",\"minorgridcolor\":\"white\",\"startlinecolor\":\"rgb(36,36,36)\"},\"type\":\"carpet\"}],\"choropleth\":[{\"colorbar\":{\"outlinewidth\":1,\"tickcolor\":\"rgb(36,36,36)\",\"ticks\":\"outside\"},\"type\":\"choropleth\"}],\"contourcarpet\":[{\"colorbar\":{\"outlinewidth\":1,\"tickcolor\":\"rgb(36,36,36)\",\"ticks\":\"outside\"},\"type\":\"contourcarpet\"}],\"contour\":[{\"colorbar\":{\"outlinewidth\":1,\"tickcolor\":\"rgb(36,36,36)\",\"ticks\":\"outside\"},\"colorscale\":[[0.0,\"#440154\"],[0.1111111111111111,\"#482878\"],[0.2222222222222222,\"#3e4989\"],[0.3333333333333333,\"#31688e\"],[0.4444444444444444,\"#26828e\"],[0.5555555555555556,\"#1f9e89\"],[0.6666666666666666,\"#35b779\"],[0.7777777777777778,\"#6ece58\"],[0.8888888888888888,\"#b5de2b\"],[1.0,\"#fde725\"]],\"type\":\"contour\"}],\"heatmapgl\":[{\"colorbar\":{\"outlinewidth\":1,\"tickcolor\":\"rgb(36,36,36)\",\"ticks\":\"outside\"},\"colorscale\":[[0.0,\"#440154\"],[0.1111111111111111,\"#482878\"],[0.2222222222222222,\"#3e4989\"],[0.3333333333333333,\"#31688e\"],[0.4444444444444444,\"#26828e\"],[0.5555555555555556,\"#1f9e89\"],[0.6666666666666666,\"#35b779\"],[0.7777777777777778,\"#6ece58\"],[0.8888888888888888,\"#b5de2b\"],[1.0,\"#fde725\"]],\"type\":\"heatmapgl\"}],\"heatmap\":[{\"colorbar\":{\"outlinewidth\":1,\"tickcolor\":\"rgb(36,36,36)\",\"ticks\":\"outside\"},\"colorscale\":[[0.0,\"#440154\"],[0.1111111111111111,\"#482878\"],[0.2222222222222222,\"#3e4989\"],[0.3333333333333333,\"#31688e\"],[0.4444444444444444,\"#26828e\"],[0.5555555555555556,\"#1f9e89\"],[0.6666666666666666,\"#35b779\"],[0.7777777777777778,\"#6ece58\"],[0.8888888888888888,\"#b5de2b\"],[1.0,\"#fde725\"]],\"type\":\"heatmap\"}],\"histogram2dcontour\":[{\"colorbar\":{\"outlinewidth\":1,\"tickcolor\":\"rgb(36,36,36)\",\"ticks\":\"outside\"},\"colorscale\":[[0.0,\"#440154\"],[0.1111111111111111,\"#482878\"],[0.2222222222222222,\"#3e4989\"],[0.3333333333333333,\"#31688e\"],[0.4444444444444444,\"#26828e\"],[0.5555555555555556,\"#1f9e89\"],[0.6666666666666666,\"#35b779\"],[0.7777777777777778,\"#6ece58\"],[0.8888888888888888,\"#b5de2b\"],[1.0,\"#fde725\"]],\"type\":\"histogram2dcontour\"}],\"histogram2d\":[{\"colorbar\":{\"outlinewidth\":1,\"tickcolor\":\"rgb(36,36,36)\",\"ticks\":\"outside\"},\"colorscale\":[[0.0,\"#440154\"],[0.1111111111111111,\"#482878\"],[0.2222222222222222,\"#3e4989\"],[0.3333333333333333,\"#31688e\"],[0.4444444444444444,\"#26828e\"],[0.5555555555555556,\"#1f9e89\"],[0.6666666666666666,\"#35b779\"],[0.7777777777777778,\"#6ece58\"],[0.8888888888888888,\"#b5de2b\"],[1.0,\"#fde725\"]],\"type\":\"histogram2d\"}],\"histogram\":[{\"marker\":{\"line\":{\"color\":\"white\",\"width\":0.6}},\"type\":\"histogram\"}],\"mesh3d\":[{\"colorbar\":{\"outlinewidth\":1,\"tickcolor\":\"rgb(36,36,36)\",\"ticks\":\"outside\"},\"type\":\"mesh3d\"}],\"parcoords\":[{\"line\":{\"colorbar\":{\"outlinewidth\":1,\"tickcolor\":\"rgb(36,36,36)\",\"ticks\":\"outside\"}},\"type\":\"parcoords\"}],\"pie\":[{\"automargin\":true,\"type\":\"pie\"}],\"scatter3d\":[{\"line\":{\"colorbar\":{\"outlinewidth\":1,\"tickcolor\":\"rgb(36,36,36)\",\"ticks\":\"outside\"}},\"marker\":{\"colorbar\":{\"outlinewidth\":1,\"tickcolor\":\"rgb(36,36,36)\",\"ticks\":\"outside\"}},\"type\":\"scatter3d\"}],\"scattercarpet\":[{\"marker\":{\"colorbar\":{\"outlinewidth\":1,\"tickcolor\":\"rgb(36,36,36)\",\"ticks\":\"outside\"}},\"type\":\"scattercarpet\"}],\"scattergeo\":[{\"marker\":{\"colorbar\":{\"outlinewidth\":1,\"tickcolor\":\"rgb(36,36,36)\",\"ticks\":\"outside\"}},\"type\":\"scattergeo\"}],\"scattergl\":[{\"marker\":{\"colorbar\":{\"outlinewidth\":1,\"tickcolor\":\"rgb(36,36,36)\",\"ticks\":\"outside\"}},\"type\":\"scattergl\"}],\"scattermapbox\":[{\"marker\":{\"colorbar\":{\"outlinewidth\":1,\"tickcolor\":\"rgb(36,36,36)\",\"ticks\":\"outside\"}},\"type\":\"scattermapbox\"}],\"scatterpolargl\":[{\"marker\":{\"colorbar\":{\"outlinewidth\":1,\"tickcolor\":\"rgb(36,36,36)\",\"ticks\":\"outside\"}},\"type\":\"scatterpolargl\"}],\"scatterpolar\":[{\"marker\":{\"colorbar\":{\"outlinewidth\":1,\"tickcolor\":\"rgb(36,36,36)\",\"ticks\":\"outside\"}},\"type\":\"scatterpolar\"}],\"scatter\":[{\"fillpattern\":{\"fillmode\":\"overlay\",\"size\":10,\"solidity\":0.2},\"type\":\"scatter\"}],\"scatterternary\":[{\"marker\":{\"colorbar\":{\"outlinewidth\":1,\"tickcolor\":\"rgb(36,36,36)\",\"ticks\":\"outside\"}},\"type\":\"scatterternary\"}],\"surface\":[{\"colorbar\":{\"outlinewidth\":1,\"tickcolor\":\"rgb(36,36,36)\",\"ticks\":\"outside\"},\"colorscale\":[[0.0,\"#440154\"],[0.1111111111111111,\"#482878\"],[0.2222222222222222,\"#3e4989\"],[0.3333333333333333,\"#31688e\"],[0.4444444444444444,\"#26828e\"],[0.5555555555555556,\"#1f9e89\"],[0.6666666666666666,\"#35b779\"],[0.7777777777777778,\"#6ece58\"],[0.8888888888888888,\"#b5de2b\"],[1.0,\"#fde725\"]],\"type\":\"surface\"}],\"table\":[{\"cells\":{\"fill\":{\"color\":\"rgb(237,237,237)\"},\"line\":{\"color\":\"white\"}},\"header\":{\"fill\":{\"color\":\"rgb(217,217,217)\"},\"line\":{\"color\":\"white\"}},\"type\":\"table\"}]},\"layout\":{\"annotationdefaults\":{\"arrowhead\":0,\"arrowwidth\":1},\"autotypenumbers\":\"strict\",\"coloraxis\":{\"colorbar\":{\"outlinewidth\":1,\"tickcolor\":\"rgb(36,36,36)\",\"ticks\":\"outside\"}},\"colorscale\":{\"diverging\":[[0.0,\"rgb(103,0,31)\"],[0.1,\"rgb(178,24,43)\"],[0.2,\"rgb(214,96,77)\"],[0.3,\"rgb(244,165,130)\"],[0.4,\"rgb(253,219,199)\"],[0.5,\"rgb(247,247,247)\"],[0.6,\"rgb(209,229,240)\"],[0.7,\"rgb(146,197,222)\"],[0.8,\"rgb(67,147,195)\"],[0.9,\"rgb(33,102,172)\"],[1.0,\"rgb(5,48,97)\"]],\"sequential\":[[0.0,\"#440154\"],[0.1111111111111111,\"#482878\"],[0.2222222222222222,\"#3e4989\"],[0.3333333333333333,\"#31688e\"],[0.4444444444444444,\"#26828e\"],[0.5555555555555556,\"#1f9e89\"],[0.6666666666666666,\"#35b779\"],[0.7777777777777778,\"#6ece58\"],[0.8888888888888888,\"#b5de2b\"],[1.0,\"#fde725\"]],\"sequentialminus\":[[0.0,\"#440154\"],[0.1111111111111111,\"#482878\"],[0.2222222222222222,\"#3e4989\"],[0.3333333333333333,\"#31688e\"],[0.4444444444444444,\"#26828e\"],[0.5555555555555556,\"#1f9e89\"],[0.6666666666666666,\"#35b779\"],[0.7777777777777778,\"#6ece58\"],[0.8888888888888888,\"#b5de2b\"],[1.0,\"#fde725\"]]},\"colorway\":[\"#1F77B4\",\"#FF7F0E\",\"#2CA02C\",\"#D62728\",\"#9467BD\",\"#8C564B\",\"#E377C2\",\"#7F7F7F\",\"#BCBD22\",\"#17BECF\"],\"font\":{\"color\":\"rgb(36,36,36)\"},\"geo\":{\"bgcolor\":\"white\",\"lakecolor\":\"white\",\"landcolor\":\"white\",\"showlakes\":true,\"showland\":true,\"subunitcolor\":\"white\"},\"hoverlabel\":{\"align\":\"left\"},\"hovermode\":\"closest\",\"mapbox\":{\"style\":\"light\"},\"paper_bgcolor\":\"white\",\"plot_bgcolor\":\"white\",\"polar\":{\"angularaxis\":{\"gridcolor\":\"rgb(232,232,232)\",\"linecolor\":\"rgb(36,36,36)\",\"showgrid\":false,\"showline\":true,\"ticks\":\"outside\"},\"bgcolor\":\"white\",\"radialaxis\":{\"gridcolor\":\"rgb(232,232,232)\",\"linecolor\":\"rgb(36,36,36)\",\"showgrid\":false,\"showline\":true,\"ticks\":\"outside\"}},\"scene\":{\"xaxis\":{\"backgroundcolor\":\"white\",\"gridcolor\":\"rgb(232,232,232)\",\"gridwidth\":2,\"linecolor\":\"rgb(36,36,36)\",\"showbackground\":true,\"showgrid\":false,\"showline\":true,\"ticks\":\"outside\",\"zeroline\":false,\"zerolinecolor\":\"rgb(36,36,36)\"},\"yaxis\":{\"backgroundcolor\":\"white\",\"gridcolor\":\"rgb(232,232,232)\",\"gridwidth\":2,\"linecolor\":\"rgb(36,36,36)\",\"showbackground\":true,\"showgrid\":false,\"showline\":true,\"ticks\":\"outside\",\"zeroline\":false,\"zerolinecolor\":\"rgb(36,36,36)\"},\"zaxis\":{\"backgroundcolor\":\"white\",\"gridcolor\":\"rgb(232,232,232)\",\"gridwidth\":2,\"linecolor\":\"rgb(36,36,36)\",\"showbackground\":true,\"showgrid\":false,\"showline\":true,\"ticks\":\"outside\",\"zeroline\":false,\"zerolinecolor\":\"rgb(36,36,36)\"}},\"shapedefaults\":{\"fillcolor\":\"black\",\"line\":{\"width\":0},\"opacity\":0.3},\"ternary\":{\"aaxis\":{\"gridcolor\":\"rgb(232,232,232)\",\"linecolor\":\"rgb(36,36,36)\",\"showgrid\":false,\"showline\":true,\"ticks\":\"outside\"},\"baxis\":{\"gridcolor\":\"rgb(232,232,232)\",\"linecolor\":\"rgb(36,36,36)\",\"showgrid\":false,\"showline\":true,\"ticks\":\"outside\"},\"bgcolor\":\"white\",\"caxis\":{\"gridcolor\":\"rgb(232,232,232)\",\"linecolor\":\"rgb(36,36,36)\",\"showgrid\":false,\"showline\":true,\"ticks\":\"outside\"}},\"title\":{\"x\":0.05},\"xaxis\":{\"automargin\":true,\"gridcolor\":\"rgb(232,232,232)\",\"linecolor\":\"rgb(36,36,36)\",\"showgrid\":false,\"showline\":true,\"ticks\":\"outside\",\"title\":{\"standoff\":15},\"zeroline\":false,\"zerolinecolor\":\"rgb(36,36,36)\"},\"yaxis\":{\"automargin\":true,\"gridcolor\":\"rgb(232,232,232)\",\"linecolor\":\"rgb(36,36,36)\",\"showgrid\":false,\"showline\":true,\"ticks\":\"outside\",\"title\":{\"standoff\":15},\"zeroline\":false,\"zerolinecolor\":\"rgb(36,36,36)\"}}},\"xaxis\":{\"showgrid\":true},\"yaxis\":{\"showgrid\":true,\"title\":{\"text\":\"Count\"}},\"title\":{\"font\":{\"size\":22,\"color\":\"Black\"},\"text\":\"<b>Topics over Time\",\"y\":0.95,\"x\":0.4,\"xanchor\":\"center\",\"yanchor\":\"top\"},\"hoverlabel\":{\"font\":{\"size\":16,\"family\":\"Rockwell\"},\"bgcolor\":\"white\"},\"width\":1000,\"height\":500,\"legend\":{\"title\":{\"text\":\"<b>Global Topic Representation\"}}},                        {\"responsive\": true}                    ).then(function(){\n",
       "                            \n",
       "var gd = document.getElementById('d8bad33a-468b-41a1-bab4-d08226ef3be7');\n",
       "var x = new MutationObserver(function (mutations, observer) {{\n",
       "        var display = window.getComputedStyle(gd).display;\n",
       "        if (!display || display === 'none') {{\n",
       "            console.log([gd, 'removed!']);\n",
       "            Plotly.purge(gd);\n",
       "            observer.disconnect();\n",
       "        }}\n",
       "}});\n",
       "\n",
       "// Listen for the removal of the full notebook cells\n",
       "var notebookContainer = gd.closest('#notebook-container');\n",
       "if (notebookContainer) {{\n",
       "    x.observe(notebookContainer, {childList: true});\n",
       "}}\n",
       "\n",
       "// Listen for the clearing of the current output cell\n",
       "var outputEl = gd.closest('.output');\n",
       "if (outputEl) {{\n",
       "    x.observe(outputEl, {childList: true});\n",
       "}}\n",
       "\n",
       "                        })                };                });            </script>        </div>"
      ]
     },
     "metadata": {},
     "output_type": "display_data"
    }
   ],
   "source": [
    "non_henslow_win_vis = year_window_vis(non_henslow_sent_df, \n",
    "                                      year_counts_non_henslow, \n",
    "                                      topic_model, \n",
    "                                      low_lim=10, \n",
    "                                      high_lim=150\n",
    "                                     )\n",
    "non_henslow_win_vis"
   ]
  },
  {
   "cell_type": "markdown",
   "id": "92ef8fe3",
   "metadata": {},
   "source": [
    "Save visualisations to html files"
   ]
  },
  {
   "cell_type": "code",
   "execution_count": 29,
   "id": "f6d297e9",
   "metadata": {},
   "outputs": [],
   "source": [
    "all_vis.write_html(\"images/all_letters/bertopic_noun_propn.html\")\n",
    "all_win_vis.write_html(\"images/all_letters/bertopic_noun_propn_window.html\")\n",
    "all_tree_vis.write_html(\"images/all_letters/bertopic_topic_tree.html\")\n",
    "\n",
    "sent_df_year_restrict_20_vis.write_html(\"images/year_window/bertopic_20s.html\")\n",
    "sent_df_year_restrict_late_vis.write_html(\"images/year_window/bertopic_1845_1857.html\")\n",
    "\n",
    "henslow_vis.write_html(\"images/from_henslow/from_henslow.html\")\n",
    "henslow_win_vis.write_html(\"images/from_henslow/from_henslow_window.html\")\n",
    "\n",
    "non_henslow_vis.write_html(\"images/to_henslow/to_henslow.html\")\n",
    "non_henslow_win_vis.write_html(\"images/to_henslow/to_henslow_window.html\")\n",
    "\n",
    "letter_nums.write_html(\"images/all_letters/year_count.html\")\n",
    "letter_nums_hen.write_html(\"images/from_henslow/year_count_from_henslow.html\")\n",
    "letter_nums_non_hen.write_html(\"images/to_henslow/year_count_to_henslow.html\")"
   ]
  },
  {
   "cell_type": "markdown",
   "id": "01d2ffb0",
   "metadata": {},
   "source": [
    "Save dataframes containing topic names for visualisations for use in social network analysis"
   ]
  },
  {
   "cell_type": "code",
   "execution_count": 30,
   "id": "917aa1b3",
   "metadata": {},
   "outputs": [],
   "source": [
    "doc_topics_df.to_pickle(\"pickle/documents_topics.pkl\")\n",
    "doc_topics_df_20s.to_pickle(\"pickle/documents_topics_20s.pkl\")\n",
    "doc_topics_df_late.to_pickle(\"pickle/documents_topics_late.pkl\")"
   ]
  }
 ],
 "metadata": {
  "kernelspec": {
   "display_name": "henslow-topic-mod",
   "language": "python",
   "name": "henslow-topic-mod"
  },
  "language_info": {
   "codemirror_mode": {
    "name": "ipython",
    "version": 3
   },
   "file_extension": ".py",
   "mimetype": "text/x-python",
   "name": "python",
   "nbconvert_exporter": "python",
   "pygments_lexer": "ipython3",
   "version": "3.9.1"
  }
 },
 "nbformat": 4,
 "nbformat_minor": 5
}
